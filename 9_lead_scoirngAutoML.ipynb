{
  "nbformat": 4,
  "nbformat_minor": 0,
  "metadata": {
    "colab": {
      "name": "lead_scoirngAutoML.ipynb",
      "provenance": [],
      "collapsed_sections": [],
      "authorship_tag": "ABX9TyNYXECGJeCAB6XSkNjKceWA",
      "include_colab_link": true
    },
    "kernelspec": {
      "name": "python3",
      "display_name": "Python 3"
    },
    "language_info": {
      "name": "python"
    },
    "widgets": {
      "application/vnd.jupyter.widget-state+json": {
        "5c64a9dae22e46d79301459db98dc3ec": {
          "model_module": "jupyterlab-plotly",
          "model_name": "FigureModel",
          "state": {
            "_view_name": "FigureView",
            "_py2js_animate": {},
            "_py2js_removeLayoutProps": {},
            "_last_trace_edit_id": 61,
            "_view_module": "jupyterlab-plotly",
            "_model_module_version": "^5.1.0",
            "_view_count": 0,
            "_js2py_relayout": {},
            "_py2js_moveTraces": {},
            "_py2js_addTraces": {},
            "_model_module": "jupyterlab-plotly",
            "_py2js_relayout": null,
            "_js2py_pointsCallback": {},
            "_js2py_update": {},
            "_js2py_restyle": {},
            "_py2js_removeTraceProps": {},
            "_py2js_deleteTraces": {},
            "_dom_classes": [],
            "_model_name": "FigureModel",
            "_layout": {
              "yaxis": {
                "title": {
                  "text": "Score"
                }
              },
              "xaxis": {
                "title": {
                  "text": "Iteration"
                },
                "rangemode": "tozero"
              },
              "title": {
                "text": "Pipeline Search: Iteration vs. Lead Scoring<br><sub>Gray marker indicates the score at current iteration</sub>"
              }
            },
            "_js2py_layoutDelta": {},
            "_py2js_update": null,
            "_data": [
              {
                "uid": "e2332545-ef2d-4f53-bda5-7cd2cc63424e",
                "mode": "lines+markers",
                "y": [],
                "x": [],
                "type": "scatter",
                "name": "Best Score"
              },
              {
                "name": "Iter score",
                "y": [],
                "mode": "markers",
                "marker": {
                  "color": "gray"
                },
                "x": [],
                "type": "scatter",
                "uid": "c537cdd2-6f1a-4c06-b8c1-211dd92b346a"
              }
            ],
            "_config": {
              "plotlyServerURL": "https://plot.ly"
            },
            "_py2js_restyle": null,
            "_view_module_version": "^5.1.0",
            "_last_layout_edit_id": 61,
            "_js2py_traceDeltas": {}
          }
        }
      }
    }
  },
  "cells": [
    {
      "cell_type": "markdown",
      "metadata": {
        "id": "view-in-github",
        "colab_type": "text"
      },
      "source": [
        "<a href=\"https://colab.research.google.com/github/harnalashok/classification/blob/main/9_lead_scoirngAutoML.ipynb\" target=\"_parent\"><img src=\"https://colab.research.google.com/assets/colab-badge.svg\" alt=\"Open In Colab\"/></a>"
      ]
    },
    {
      "cell_type": "code",
      "metadata": {
        "id": "2ppXhpO9e38h"
      },
      "source": [
        "# Last amended: 23rd July, 2021\n",
        "# My folder: C:\\Users\\ashok\\OneDrive\\Documents\\leads_scoring\n",
        "#\n",
        "# AutoML:\n",
        "# Ref: https://evalml.alteryx.com/en/stable/demos/lead_scoring.html\n",
        "# Lead scoring:\n",
        "#      https://towardsdatascience.com/a-true-end-to-end-ml-example-lead-scoring-f5b52e9a3c80\n",
        "# Kaggle \n",
        "#      https://www.kaggle.com/ashydv/leads-dataset"
      ],
      "execution_count": null,
      "outputs": []
    },
    {
      "cell_type": "markdown",
      "metadata": {
        "id": "VICRLPwkfHfl"
      },
      "source": [
        "# Building a Lead Scoring Model with EvalML"
      ]
    },
    {
      "cell_type": "markdown",
      "metadata": {
        "id": "EqXqe6tYfB8N"
      },
      "source": [
        "In this example, we will build an optimized lead scoring model using [EvalML](https://github.com/alteryx/evalml). To optimize the pipeline, we will set up an objective function to maximize the revenue generated with true positives while taking into account the cost of false positives. At the end of this demo, we also show you how introducing the right objective during the training is significantly better than using a generic machine learning metric like AUC."
      ]
    },
    {
      "cell_type": "markdown",
      "metadata": {
        "id": "5PubkqfffNc8"
      },
      "source": [
        "## Install packages"
      ]
    },
    {
      "cell_type": "markdown",
      "metadata": {
        "id": "uU7Ftn_WzDVQ"
      },
      "source": [
        "EvalML is an AutoML library that builds, optimizes, and evaluates machine learning pipelines using domain-specific objective functions.\n",
        "\n",
        "Combined with Featuretools and Compose, EvalML can be used to create end-to-end supervised machine learning solutions."
      ]
    },
    {
      "cell_type": "code",
      "metadata": {
        "id": "u-l_GcN7epOb"
      },
      "source": [
        "# Install evalml. Some of the packages installed are:\n",
        "# imbalanced-learn, scikit-optimize, plotly, category-encoders,\n",
        "# graphviz, lightgbm, shap, statsmodels, catboost, scikit-learn\n",
        "# featuretools, matplotlib,nltk,xgboost, pmdarima (for the anagram of 'py' + 'arima')\n",
        "# kaleido (blockchain) \n",
        "\n",
        "# Restart runtime after install\n",
        "\n",
        "!pip install evalml\n",
        "! pip install dask[dataframe] --upgrade \n",
        "! pip install ipywidgets"
      ],
      "execution_count": null,
      "outputs": []
    },
    {
      "cell_type": "code",
      "metadata": {
        "colab": {
          "base_uri": "https://localhost:8080/"
        },
        "id": "fIqGxUK42fYH",
        "outputId": "2435a506-1637-4419-b964-edd5824e10fd"
      },
      "source": [
        "!pip install --upgrade plotly\n",
        "!pip install jupyter-dash"
      ],
      "execution_count": 131,
      "outputs": [
        {
          "output_type": "stream",
          "text": [
            "Requirement already satisfied: plotly in /usr/local/lib/python3.7/dist-packages (5.1.0)\n",
            "Requirement already satisfied: six in /usr/local/lib/python3.7/dist-packages (from plotly) (1.15.0)\n",
            "Requirement already satisfied: tenacity>=6.2.0 in /usr/local/lib/python3.7/dist-packages (from plotly) (8.0.1)\n",
            "Collecting jupyter-dash\n",
            "  Downloading jupyter_dash-0.4.0-py3-none-any.whl (20 kB)\n",
            "Requirement already satisfied: flask in /usr/local/lib/python3.7/dist-packages (from jupyter-dash) (1.1.4)\n",
            "Requirement already satisfied: ipykernel in /usr/local/lib/python3.7/dist-packages (from jupyter-dash) (4.10.1)\n",
            "Requirement already satisfied: requests in /usr/local/lib/python3.7/dist-packages (from jupyter-dash) (2.23.0)\n",
            "Collecting ansi2html\n",
            "  Downloading ansi2html-1.6.0-py3-none-any.whl (14 kB)\n",
            "Collecting dash\n",
            "  Downloading dash-1.21.0.tar.gz (1.1 MB)\n",
            "\u001b[K     |████████████████████████████████| 1.1 MB 17.6 MB/s \n",
            "\u001b[?25hRequirement already satisfied: ipython in /usr/local/lib/python3.7/dist-packages (from jupyter-dash) (5.5.0)\n",
            "Requirement already satisfied: retrying in /usr/local/lib/python3.7/dist-packages (from jupyter-dash) (1.3.3)\n",
            "Collecting flask-compress\n",
            "  Downloading Flask_Compress-1.10.1-py3-none-any.whl (7.9 kB)\n",
            "Requirement already satisfied: plotly in /usr/local/lib/python3.7/dist-packages (from dash->jupyter-dash) (5.1.0)\n",
            "Collecting dash-core-components==1.17.1\n",
            "  Downloading dash_core_components-1.17.1.tar.gz (3.7 MB)\n",
            "\u001b[K     |████████████████████████████████| 3.7 MB 35.3 MB/s \n",
            "\u001b[?25hCollecting dash-html-components==1.1.4\n",
            "  Downloading dash_html_components-1.1.4.tar.gz (83 kB)\n",
            "\u001b[K     |████████████████████████████████| 83 kB 2.3 MB/s \n",
            "\u001b[?25hCollecting dash-table==4.12.0\n",
            "  Downloading dash_table-4.12.0.tar.gz (1.8 MB)\n",
            "\u001b[K     |████████████████████████████████| 1.8 MB 35.2 MB/s \n",
            "\u001b[?25hRequirement already satisfied: future in /usr/local/lib/python3.7/dist-packages (from dash->jupyter-dash) (0.16.0)\n",
            "Requirement already satisfied: Werkzeug<2.0,>=0.15 in /usr/local/lib/python3.7/dist-packages (from flask->jupyter-dash) (1.0.1)\n",
            "Requirement already satisfied: click<8.0,>=5.1 in /usr/local/lib/python3.7/dist-packages (from flask->jupyter-dash) (7.1.2)\n",
            "Requirement already satisfied: Jinja2<3.0,>=2.10.1 in /usr/local/lib/python3.7/dist-packages (from flask->jupyter-dash) (2.11.3)\n",
            "Requirement already satisfied: itsdangerous<2.0,>=0.24 in /usr/local/lib/python3.7/dist-packages (from flask->jupyter-dash) (1.1.0)\n",
            "Requirement already satisfied: MarkupSafe>=0.23 in /usr/local/lib/python3.7/dist-packages (from Jinja2<3.0,>=2.10.1->flask->jupyter-dash) (2.0.1)\n",
            "Collecting brotli\n",
            "  Downloading Brotli-1.0.9-cp37-cp37m-manylinux1_x86_64.whl (357 kB)\n",
            "\u001b[K     |████████████████████████████████| 357 kB 49.7 MB/s \n",
            "\u001b[?25hRequirement already satisfied: tornado>=4.0 in /usr/local/lib/python3.7/dist-packages (from ipykernel->jupyter-dash) (5.1.1)\n",
            "Requirement already satisfied: traitlets>=4.1.0 in /usr/local/lib/python3.7/dist-packages (from ipykernel->jupyter-dash) (5.0.5)\n",
            "Requirement already satisfied: jupyter-client in /usr/local/lib/python3.7/dist-packages (from ipykernel->jupyter-dash) (5.3.5)\n",
            "Requirement already satisfied: pygments in /usr/local/lib/python3.7/dist-packages (from ipython->jupyter-dash) (2.6.1)\n",
            "Requirement already satisfied: simplegeneric>0.8 in /usr/local/lib/python3.7/dist-packages (from ipython->jupyter-dash) (0.8.1)\n",
            "Requirement already satisfied: prompt-toolkit<2.0.0,>=1.0.4 in /usr/local/lib/python3.7/dist-packages (from ipython->jupyter-dash) (1.0.18)\n",
            "Requirement already satisfied: decorator in /usr/local/lib/python3.7/dist-packages (from ipython->jupyter-dash) (4.4.2)\n",
            "Requirement already satisfied: setuptools>=18.5 in /usr/local/lib/python3.7/dist-packages (from ipython->jupyter-dash) (57.2.0)\n",
            "Requirement already satisfied: pexpect in /usr/local/lib/python3.7/dist-packages (from ipython->jupyter-dash) (4.8.0)\n",
            "Requirement already satisfied: pickleshare in /usr/local/lib/python3.7/dist-packages (from ipython->jupyter-dash) (0.7.5)\n",
            "Requirement already satisfied: wcwidth in /usr/local/lib/python3.7/dist-packages (from prompt-toolkit<2.0.0,>=1.0.4->ipython->jupyter-dash) (0.2.5)\n",
            "Requirement already satisfied: six>=1.9.0 in /usr/local/lib/python3.7/dist-packages (from prompt-toolkit<2.0.0,>=1.0.4->ipython->jupyter-dash) (1.15.0)\n",
            "Requirement already satisfied: ipython-genutils in /usr/local/lib/python3.7/dist-packages (from traitlets>=4.1.0->ipykernel->jupyter-dash) (0.2.0)\n",
            "Requirement already satisfied: python-dateutil>=2.1 in /usr/local/lib/python3.7/dist-packages (from jupyter-client->ipykernel->jupyter-dash) (2.8.1)\n",
            "Requirement already satisfied: jupyter-core>=4.6.0 in /usr/local/lib/python3.7/dist-packages (from jupyter-client->ipykernel->jupyter-dash) (4.7.1)\n",
            "Requirement already satisfied: pyzmq>=13 in /usr/local/lib/python3.7/dist-packages (from jupyter-client->ipykernel->jupyter-dash) (22.1.0)\n",
            "Requirement already satisfied: ptyprocess>=0.5 in /usr/local/lib/python3.7/dist-packages (from pexpect->ipython->jupyter-dash) (0.7.0)\n",
            "Requirement already satisfied: tenacity>=6.2.0 in /usr/local/lib/python3.7/dist-packages (from plotly->dash->jupyter-dash) (8.0.1)\n",
            "Requirement already satisfied: urllib3!=1.25.0,!=1.25.1,<1.26,>=1.21.1 in /usr/local/lib/python3.7/dist-packages (from requests->jupyter-dash) (1.24.3)\n",
            "Requirement already satisfied: certifi>=2017.4.17 in /usr/local/lib/python3.7/dist-packages (from requests->jupyter-dash) (2021.5.30)\n",
            "Requirement already satisfied: idna<3,>=2.5 in /usr/local/lib/python3.7/dist-packages (from requests->jupyter-dash) (2.10)\n",
            "Requirement already satisfied: chardet<4,>=3.0.2 in /usr/local/lib/python3.7/dist-packages (from requests->jupyter-dash) (3.0.4)\n",
            "Building wheels for collected packages: dash, dash-core-components, dash-html-components, dash-table\n",
            "  Building wheel for dash (setup.py) ... \u001b[?25l\u001b[?25hdone\n",
            "  Created wheel for dash: filename=dash-1.21.0-py3-none-any.whl size=1100489 sha256=188fd73df2ad45428502f838c90208e9a38d2612939ebc3f56f4a1f0b122d6c4\n",
            "  Stored in directory: /root/.cache/pip/wheels/59/a4/f1/a7140afcad8dbaa3b1b12ef80843d29403d6ecca1c2f397948\n",
            "  Building wheel for dash-core-components (setup.py) ... \u001b[?25l\u001b[?25hdone\n",
            "  Created wheel for dash-core-components: filename=dash_core_components-1.17.1-py3-none-any.whl size=3738995 sha256=b55975853e0b1d712910bf2a5cf6083889fb990d535cb9c9dc55b820c7b0f627\n",
            "  Stored in directory: /root/.cache/pip/wheels/ca/5b/fb/a135a7bf8e21223e4104aa5526a5173a20b64fe7fcd055b999\n",
            "  Building wheel for dash-html-components (setup.py) ... \u001b[?25l\u001b[?25hdone\n",
            "  Created wheel for dash-html-components: filename=dash_html_components-1.1.4-py3-none-any.whl size=319771 sha256=15c93ceda252fc62af56548d03b4b003fd72168ee451fa6405f6809f5c51104a\n",
            "  Stored in directory: /root/.cache/pip/wheels/51/d7/5f/5730b784b5333941740a0dfc57b10395c3507b35ddac112ac0\n",
            "  Building wheel for dash-table (setup.py) ... \u001b[?25l\u001b[?25hdone\n",
            "  Created wheel for dash-table: filename=dash_table-4.12.0-py3-none-any.whl size=1837674 sha256=0aace1eb72f993341b14e6d4b253815fc62cc423890e0448148634fc270653b8\n",
            "  Stored in directory: /root/.cache/pip/wheels/5f/d4/8b/639186e25b7234dac44ba004cfb58ea5b39fe492085bda2a88\n",
            "Successfully built dash dash-core-components dash-html-components dash-table\n",
            "Installing collected packages: brotli, flask-compress, dash-table, dash-html-components, dash-core-components, dash, ansi2html, jupyter-dash\n",
            "Successfully installed ansi2html-1.6.0 brotli-1.0.9 dash-1.21.0 dash-core-components-1.17.1 dash-html-components-1.1.4 dash-table-4.12.0 flask-compress-1.10.1 jupyter-dash-0.4.0\n"
          ],
          "name": "stdout"
        }
      ]
    },
    {
      "cell_type": "markdown",
      "metadata": {
        "id": "uXtP0NDxoSJZ"
      },
      "source": [
        "## Call libraries"
      ]
    },
    {
      "cell_type": "code",
      "metadata": {
        "id": "Npcpyi2Eev18"
      },
      "source": [
        "# Call libraries\n",
        "# 1.0 Data manipulation\n",
        "import numpy as np\n",
        "import pandas as pd\n",
        "\n",
        "# 1.1 Auto Machine Learning\n",
        "# conda install -c conda-forge evalml\n",
        "import evalml\n",
        "from evalml import AutoMLSearch\n",
        "from evalml.objectives import LeadScoring # Another objective is FraudCost\n",
        "from evalml.model_understanding.graphs import graph_confusion_matrix, graph_roc_curve\n",
        "from evalml.data_checks import DefaultDataChecks\n",
        "\n",
        "# 1.2 URL open\n",
        "from urllib.request import urlopen\n",
        "\n",
        "# 1.3 Woodwork makes it easy to manage additional\n",
        "#      'data-typing' information for your data,\n",
        "#        and, therefore, access only the data one needs\n",
        "#         based on these additional data-types, called\n",
        "#          logical types or semantic tags.\n",
        "#           It is used by featuretools and evalml\n",
        "\n",
        "import woodwork as ww  # Data typing management tool\n",
        "\n",
        "# 1.4 Misc\n",
        "import time"
      ],
      "execution_count": 132,
      "outputs": []
    },
    {
      "cell_type": "code",
      "metadata": {
        "id": "oTKKu_7P4pi8"
      },
      "source": [
        "# 1.5\n",
        "from IPython.core.interactiveshell import InteractiveShell\n",
        "InteractiveShell.ast_node_interactivity = \"all\""
      ],
      "execution_count": 133,
      "outputs": []
    },
    {
      "cell_type": "markdown",
      "metadata": {
        "id": "xpHqNEp6mmF9"
      },
      "source": [
        "## Dataset"
      ]
    },
    {
      "cell_type": "markdown",
      "metadata": {
        "id": "lEOz1x3YmjcV"
      },
      "source": [
        "We will be utilizing a dataset detailing a customer’s job, country, state, zip, online action, the dollar amount of that action and whether they were a successful lead."
      ]
    },
    {
      "cell_type": "code",
      "metadata": {
        "id": "KenUFNwumZmI"
      },
      "source": [
        "# Open URLs to access data\n",
        "customers_data      = urlopen('https://featurelabs-static.s3.amazonaws.com/lead_scoring_ml_apps/customers.csv')\n",
        "interactions_data   = urlopen('https://featurelabs-static.s3.amazonaws.com/lead_scoring_ml_apps/interactions.csv')\n",
        "leads_data          = urlopen('https://featurelabs-static.s3.amazonaws.com/lead_scoring_ml_apps/previous_leads.csv')\n",
        "\n",
        "# Method read() can be used to read data\n",
        "##print(customers_data.read())"
      ],
      "execution_count": 134,
      "outputs": []
    },
    {
      "cell_type": "code",
      "metadata": {
        "id": "YOsbtPU9o9WH"
      },
      "source": [
        "# Read lead-score tables from opened URL\n",
        "customers = pd.read_csv(customers_data)\n",
        "interactions = pd.read_csv(interactions_data)\n",
        "leads = pd.read_csv(leads_data)"
      ],
      "execution_count": 135,
      "outputs": []
    },
    {
      "cell_type": "code",
      "metadata": {
        "colab": {
          "base_uri": "https://localhost:8080/",
          "height": 366
        },
        "id": "xUBA1eAA4GY2",
        "outputId": "e55050db-8f04-458c-fb8b-2b43bbc1b191"
      },
      "source": [
        "# Look at data\n",
        "customers.shape    # (1000, 11)\n",
        "customers.head()"
      ],
      "execution_count": 136,
      "outputs": [
        {
          "output_type": "execute_result",
          "data": {
            "text/plain": [
              "(1000, 11)"
            ]
          },
          "metadata": {
            "tags": []
          },
          "execution_count": 136
        },
        {
          "output_type": "execute_result",
          "data": {
            "text/html": [
              "<div>\n",
              "<style scoped>\n",
              "    .dataframe tbody tr th:only-of-type {\n",
              "        vertical-align: middle;\n",
              "    }\n",
              "\n",
              "    .dataframe tbody tr th {\n",
              "        vertical-align: top;\n",
              "    }\n",
              "\n",
              "    .dataframe thead th {\n",
              "        text-align: right;\n",
              "    }\n",
              "</style>\n",
              "<table border=\"1\" class=\"dataframe\">\n",
              "  <thead>\n",
              "    <tr style=\"text-align: right;\">\n",
              "      <th></th>\n",
              "      <th>customer_id</th>\n",
              "      <th>date_registered</th>\n",
              "      <th>birthday</th>\n",
              "      <th>job</th>\n",
              "      <th>phone</th>\n",
              "      <th>email</th>\n",
              "      <th>country</th>\n",
              "      <th>state</th>\n",
              "      <th>zip</th>\n",
              "      <th>owner</th>\n",
              "      <th>company</th>\n",
              "    </tr>\n",
              "  </thead>\n",
              "  <tbody>\n",
              "    <tr>\n",
              "      <th>0</th>\n",
              "      <td>460429349361</td>\n",
              "      <td>2017-08-10 11:04:45</td>\n",
              "      <td>NaN</td>\n",
              "      <td>Engineer, mining</td>\n",
              "      <td>+1-283-990-1507x7713</td>\n",
              "      <td>christian92@gmail.com</td>\n",
              "      <td>NaN</td>\n",
              "      <td>NY</td>\n",
              "      <td>60091.0</td>\n",
              "      <td>Kathleen Hawkins MD</td>\n",
              "      <td>6.185414e+11</td>\n",
              "    </tr>\n",
              "    <tr>\n",
              "      <th>1</th>\n",
              "      <td>392559384176</td>\n",
              "      <td>2017-08-10 23:13:51</td>\n",
              "      <td>NaN</td>\n",
              "      <td>Arts administrator</td>\n",
              "      <td>400.808.2148</td>\n",
              "      <td>jenniferdavis@carter-ellis.biz</td>\n",
              "      <td>US</td>\n",
              "      <td>CA</td>\n",
              "      <td>NaN</td>\n",
              "      <td>John Edwards</td>\n",
              "      <td>8.330990e+11</td>\n",
              "    </tr>\n",
              "    <tr>\n",
              "      <th>2</th>\n",
              "      <td>674438580580</td>\n",
              "      <td>2017-08-11 08:35:32</td>\n",
              "      <td>NaN</td>\n",
              "      <td>Psychologist, forensic</td>\n",
              "      <td>(299)543-9962</td>\n",
              "      <td>wwelch@lee.com</td>\n",
              "      <td>US</td>\n",
              "      <td>CA</td>\n",
              "      <td>NaN</td>\n",
              "      <td>John Edwards</td>\n",
              "      <td>2.114827e+11</td>\n",
              "    </tr>\n",
              "    <tr>\n",
              "      <th>3</th>\n",
              "      <td>364017777045</td>\n",
              "      <td>2017-08-11 10:15:37</td>\n",
              "      <td>NaN</td>\n",
              "      <td>Air cabin crew</td>\n",
              "      <td>+1-213-455-5314</td>\n",
              "      <td>xjones@smith.net</td>\n",
              "      <td>US</td>\n",
              "      <td>NaN</td>\n",
              "      <td>60091.0</td>\n",
              "      <td>Erica Anderson</td>\n",
              "      <td>NaN</td>\n",
              "    </tr>\n",
              "    <tr>\n",
              "      <th>4</th>\n",
              "      <td>551397602202</td>\n",
              "      <td>2017-08-11 13:33:23</td>\n",
              "      <td>NaN</td>\n",
              "      <td>Press sub</td>\n",
              "      <td>619.795.6618</td>\n",
              "      <td>walterromero@gmail.com</td>\n",
              "      <td>US</td>\n",
              "      <td>NaN</td>\n",
              "      <td>NaN</td>\n",
              "      <td>Kathleen Hawkins MD</td>\n",
              "      <td>NaN</td>\n",
              "    </tr>\n",
              "  </tbody>\n",
              "</table>\n",
              "</div>"
            ],
            "text/plain": [
              "    customer_id      date_registered  ...                owner       company\n",
              "0  460429349361  2017-08-10 11:04:45  ...  Kathleen Hawkins MD  6.185414e+11\n",
              "1  392559384176  2017-08-10 23:13:51  ...         John Edwards  8.330990e+11\n",
              "2  674438580580  2017-08-11 08:35:32  ...         John Edwards  2.114827e+11\n",
              "3  364017777045  2017-08-11 10:15:37  ...       Erica Anderson           NaN\n",
              "4  551397602202  2017-08-11 13:33:23  ...  Kathleen Hawkins MD           NaN\n",
              "\n",
              "[5 rows x 11 columns]"
            ]
          },
          "metadata": {
            "tags": []
          },
          "execution_count": 136
        }
      ]
    },
    {
      "cell_type": "code",
      "metadata": {
        "colab": {
          "base_uri": "https://localhost:8080/",
          "height": 225
        },
        "id": "YxOLJddq4Wrv",
        "outputId": "92ab1355-1d7a-42dd-c297-8724984bcc64"
      },
      "source": [
        "# Interactions data\n",
        "interactions.shape  # (5625, 7)\n",
        "interactions.head()"
      ],
      "execution_count": 137,
      "outputs": [
        {
          "output_type": "execute_result",
          "data": {
            "text/plain": [
              "(5625, 7)"
            ]
          },
          "metadata": {
            "tags": []
          },
          "execution_count": 137
        },
        {
          "output_type": "execute_result",
          "data": {
            "text/html": [
              "<div>\n",
              "<style scoped>\n",
              "    .dataframe tbody tr th:only-of-type {\n",
              "        vertical-align: middle;\n",
              "    }\n",
              "\n",
              "    .dataframe tbody tr th {\n",
              "        vertical-align: top;\n",
              "    }\n",
              "\n",
              "    .dataframe thead th {\n",
              "        text-align: right;\n",
              "    }\n",
              "</style>\n",
              "<table border=\"1\" class=\"dataframe\">\n",
              "  <thead>\n",
              "    <tr style=\"text-align: right;\">\n",
              "      <th></th>\n",
              "      <th>id</th>\n",
              "      <th>time</th>\n",
              "      <th>customer_id</th>\n",
              "      <th>action</th>\n",
              "      <th>amount</th>\n",
              "      <th>session</th>\n",
              "      <th>referrer</th>\n",
              "    </tr>\n",
              "  </thead>\n",
              "  <tbody>\n",
              "    <tr>\n",
              "      <th>0</th>\n",
              "      <td>807870369974</td>\n",
              "      <td>2017-08-17 18:18:45</td>\n",
              "      <td>676332384432</td>\n",
              "      <td>contact_form</td>\n",
              "      <td>NaN</td>\n",
              "      <td>531094009776</td>\n",
              "      <td>https://www.twitter.com</td>\n",
              "    </tr>\n",
              "    <tr>\n",
              "      <th>1</th>\n",
              "      <td>889936071815</td>\n",
              "      <td>2017-08-18 18:58:39</td>\n",
              "      <td>676332384432</td>\n",
              "      <td>contact_form</td>\n",
              "      <td>NaN</td>\n",
              "      <td>531094009776</td>\n",
              "      <td>https://www.twitter.com</td>\n",
              "    </tr>\n",
              "    <tr>\n",
              "      <th>2</th>\n",
              "      <td>890016715098</td>\n",
              "      <td>2017-08-22 15:54:26</td>\n",
              "      <td>756895858030</td>\n",
              "      <td>purchase</td>\n",
              "      <td>50.54</td>\n",
              "      <td>355429835992</td>\n",
              "      <td>NaN</td>\n",
              "    </tr>\n",
              "    <tr>\n",
              "      <th>3</th>\n",
              "      <td>539965059120</td>\n",
              "      <td>2017-08-24 23:25:33</td>\n",
              "      <td>676332384432</td>\n",
              "      <td>page_view</td>\n",
              "      <td>NaN</td>\n",
              "      <td>531094009776</td>\n",
              "      <td>NaN</td>\n",
              "    </tr>\n",
              "    <tr>\n",
              "      <th>4</th>\n",
              "      <td>496056352403</td>\n",
              "      <td>2017-08-25 09:32:25</td>\n",
              "      <td>676332384432</td>\n",
              "      <td>page_view</td>\n",
              "      <td>NaN</td>\n",
              "      <td>531094009776</td>\n",
              "      <td>https://medium.com/article</td>\n",
              "    </tr>\n",
              "  </tbody>\n",
              "</table>\n",
              "</div>"
            ],
            "text/plain": [
              "             id                 time  ...       session                    referrer\n",
              "0  807870369974  2017-08-17 18:18:45  ...  531094009776     https://www.twitter.com\n",
              "1  889936071815  2017-08-18 18:58:39  ...  531094009776     https://www.twitter.com\n",
              "2  890016715098  2017-08-22 15:54:26  ...  355429835992                         NaN\n",
              "3  539965059120  2017-08-24 23:25:33  ...  531094009776                         NaN\n",
              "4  496056352403  2017-08-25 09:32:25  ...  531094009776  https://medium.com/article\n",
              "\n",
              "[5 rows x 7 columns]"
            ]
          },
          "metadata": {
            "tags": []
          },
          "execution_count": 137
        }
      ]
    },
    {
      "cell_type": "code",
      "metadata": {
        "colab": {
          "base_uri": "https://localhost:8080/",
          "height": 225
        },
        "id": "W_hk-gmw4xlc",
        "outputId": "6ed6ed2c-1ec5-4ccf-9f25-bc58bb328380"
      },
      "source": [
        "# Leads success/failure data\n",
        "leads.shape  # (584, 3)\n",
        "leads.head()"
      ],
      "execution_count": 138,
      "outputs": [
        {
          "output_type": "execute_result",
          "data": {
            "text/plain": [
              "(584, 3)"
            ]
          },
          "metadata": {
            "tags": []
          },
          "execution_count": 138
        },
        {
          "output_type": "execute_result",
          "data": {
            "text/html": [
              "<div>\n",
              "<style scoped>\n",
              "    .dataframe tbody tr th:only-of-type {\n",
              "        vertical-align: middle;\n",
              "    }\n",
              "\n",
              "    .dataframe tbody tr th {\n",
              "        vertical-align: top;\n",
              "    }\n",
              "\n",
              "    .dataframe thead th {\n",
              "        text-align: right;\n",
              "    }\n",
              "</style>\n",
              "<table border=\"1\" class=\"dataframe\">\n",
              "  <thead>\n",
              "    <tr style=\"text-align: right;\">\n",
              "      <th></th>\n",
              "      <th>customer_id</th>\n",
              "      <th>time</th>\n",
              "      <th>label</th>\n",
              "    </tr>\n",
              "  </thead>\n",
              "  <tbody>\n",
              "    <tr>\n",
              "      <th>0</th>\n",
              "      <td>961424493033</td>\n",
              "      <td>2017-09-17 08:20:09</td>\n",
              "      <td>False</td>\n",
              "    </tr>\n",
              "    <tr>\n",
              "      <th>1</th>\n",
              "      <td>739795366381</td>\n",
              "      <td>2017-09-20 18:14:56</td>\n",
              "      <td>False</td>\n",
              "    </tr>\n",
              "    <tr>\n",
              "      <th>2</th>\n",
              "      <td>433081973416</td>\n",
              "      <td>2017-09-26 12:14:42</td>\n",
              "      <td>False</td>\n",
              "    </tr>\n",
              "    <tr>\n",
              "      <th>3</th>\n",
              "      <td>178336564320</td>\n",
              "      <td>2017-09-29 12:48:25</td>\n",
              "      <td>False</td>\n",
              "    </tr>\n",
              "    <tr>\n",
              "      <th>4</th>\n",
              "      <td>203924762965</td>\n",
              "      <td>2017-10-02 02:57:06</td>\n",
              "      <td>False</td>\n",
              "    </tr>\n",
              "  </tbody>\n",
              "</table>\n",
              "</div>"
            ],
            "text/plain": [
              "    customer_id                 time  label\n",
              "0  961424493033  2017-09-17 08:20:09  False\n",
              "1  739795366381  2017-09-20 18:14:56  False\n",
              "2  433081973416  2017-09-26 12:14:42  False\n",
              "3  178336564320  2017-09-29 12:48:25  False\n",
              "4  203924762965  2017-10-02 02:57:06  False"
            ]
          },
          "metadata": {
            "tags": []
          },
          "execution_count": 138
        }
      ]
    },
    {
      "cell_type": "code",
      "metadata": {
        "id": "vOv6meMi5e6c"
      },
      "source": [
        "# Save these data files as csv\n",
        "customers.to_csv(\"customers.csv\", index = False)\n",
        "interactions.to_csv(\"interactions.csv\", index = False)\n",
        "leads.to_csv(\"leads.csv\", index=False)"
      ],
      "execution_count": 139,
      "outputs": []
    },
    {
      "cell_type": "code",
      "metadata": {
        "id": "UToosGlHf7pi"
      },
      "source": [
        "# Merge the three datasets\n",
        "X = customers.merge(\n",
        "                    interactions,\n",
        "                    on='customer_id').merge(\n",
        "                                            leads,\n",
        "                                            on='customer_id'\n",
        "                                            )\n",
        "# Target\n",
        "y = X['label']"
      ],
      "execution_count": 140,
      "outputs": []
    },
    {
      "cell_type": "code",
      "metadata": {
        "id": "SFybJWmwHTAz",
        "colab": {
          "base_uri": "https://localhost:8080/",
          "height": 442
        },
        "outputId": "132f0f20-97b5-463a-8028-3b3327fdd363"
      },
      "source": [
        "X.head()\n",
        "y.head()"
      ],
      "execution_count": 141,
      "outputs": [
        {
          "output_type": "execute_result",
          "data": {
            "text/html": [
              "<div>\n",
              "<style scoped>\n",
              "    .dataframe tbody tr th:only-of-type {\n",
              "        vertical-align: middle;\n",
              "    }\n",
              "\n",
              "    .dataframe tbody tr th {\n",
              "        vertical-align: top;\n",
              "    }\n",
              "\n",
              "    .dataframe thead th {\n",
              "        text-align: right;\n",
              "    }\n",
              "</style>\n",
              "<table border=\"1\" class=\"dataframe\">\n",
              "  <thead>\n",
              "    <tr style=\"text-align: right;\">\n",
              "      <th></th>\n",
              "      <th>customer_id</th>\n",
              "      <th>date_registered</th>\n",
              "      <th>birthday</th>\n",
              "      <th>job</th>\n",
              "      <th>phone</th>\n",
              "      <th>email</th>\n",
              "      <th>country</th>\n",
              "      <th>state</th>\n",
              "      <th>zip</th>\n",
              "      <th>owner</th>\n",
              "      <th>company</th>\n",
              "      <th>id</th>\n",
              "      <th>time_x</th>\n",
              "      <th>action</th>\n",
              "      <th>amount</th>\n",
              "      <th>session</th>\n",
              "      <th>referrer</th>\n",
              "      <th>time_y</th>\n",
              "      <th>label</th>\n",
              "    </tr>\n",
              "  </thead>\n",
              "  <tbody>\n",
              "    <tr>\n",
              "      <th>0</th>\n",
              "      <td>460429349361</td>\n",
              "      <td>2017-08-10 11:04:45</td>\n",
              "      <td>NaN</td>\n",
              "      <td>Engineer, mining</td>\n",
              "      <td>+1-283-990-1507x7713</td>\n",
              "      <td>christian92@gmail.com</td>\n",
              "      <td>NaN</td>\n",
              "      <td>NY</td>\n",
              "      <td>60091.0</td>\n",
              "      <td>Kathleen Hawkins MD</td>\n",
              "      <td>6.185414e+11</td>\n",
              "      <td>499214050533</td>\n",
              "      <td>2017-12-04 05:21:05</td>\n",
              "      <td>page_view</td>\n",
              "      <td>NaN</td>\n",
              "      <td>573943098058</td>\n",
              "      <td>NaN</td>\n",
              "      <td>2017-10-22 05:21:05</td>\n",
              "      <td>False</td>\n",
              "    </tr>\n",
              "    <tr>\n",
              "      <th>1</th>\n",
              "      <td>674438580580</td>\n",
              "      <td>2017-08-11 08:35:32</td>\n",
              "      <td>NaN</td>\n",
              "      <td>Psychologist, forensic</td>\n",
              "      <td>(299)543-9962</td>\n",
              "      <td>wwelch@lee.com</td>\n",
              "      <td>US</td>\n",
              "      <td>CA</td>\n",
              "      <td>NaN</td>\n",
              "      <td>John Edwards</td>\n",
              "      <td>2.114827e+11</td>\n",
              "      <td>542448787918</td>\n",
              "      <td>2018-03-13 20:10:17</td>\n",
              "      <td>purchase</td>\n",
              "      <td>135.23</td>\n",
              "      <td>680991389236</td>\n",
              "      <td>www.google.com</td>\n",
              "      <td>2018-02-11 20:10:17</td>\n",
              "      <td>True</td>\n",
              "    </tr>\n",
              "    <tr>\n",
              "      <th>2</th>\n",
              "      <td>674438580580</td>\n",
              "      <td>2017-08-11 08:35:32</td>\n",
              "      <td>NaN</td>\n",
              "      <td>Psychologist, forensic</td>\n",
              "      <td>(299)543-9962</td>\n",
              "      <td>wwelch@lee.com</td>\n",
              "      <td>US</td>\n",
              "      <td>CA</td>\n",
              "      <td>NaN</td>\n",
              "      <td>John Edwards</td>\n",
              "      <td>2.114827e+11</td>\n",
              "      <td>864068700968</td>\n",
              "      <td>2018-06-30 03:20:28</td>\n",
              "      <td>page_view</td>\n",
              "      <td>NaN</td>\n",
              "      <td>680991389236</td>\n",
              "      <td>https://www.twitter.com</td>\n",
              "      <td>2018-02-11 20:10:17</td>\n",
              "      <td>True</td>\n",
              "    </tr>\n",
              "    <tr>\n",
              "      <th>3</th>\n",
              "      <td>364017777045</td>\n",
              "      <td>2017-08-11 10:15:37</td>\n",
              "      <td>NaN</td>\n",
              "      <td>Air cabin crew</td>\n",
              "      <td>+1-213-455-5314</td>\n",
              "      <td>xjones@smith.net</td>\n",
              "      <td>US</td>\n",
              "      <td>NaN</td>\n",
              "      <td>60091.0</td>\n",
              "      <td>Erica Anderson</td>\n",
              "      <td>NaN</td>\n",
              "      <td>632245399666</td>\n",
              "      <td>2018-04-24 19:37:30</td>\n",
              "      <td>download</td>\n",
              "      <td>NaN</td>\n",
              "      <td>894164276572</td>\n",
              "      <td>https://medium.com/article</td>\n",
              "      <td>2018-04-08 19:37:30</td>\n",
              "      <td>False</td>\n",
              "    </tr>\n",
              "    <tr>\n",
              "      <th>4</th>\n",
              "      <td>364017777045</td>\n",
              "      <td>2017-08-11 10:15:37</td>\n",
              "      <td>NaN</td>\n",
              "      <td>Air cabin crew</td>\n",
              "      <td>+1-213-455-5314</td>\n",
              "      <td>xjones@smith.net</td>\n",
              "      <td>US</td>\n",
              "      <td>NaN</td>\n",
              "      <td>60091.0</td>\n",
              "      <td>Erica Anderson</td>\n",
              "      <td>NaN</td>\n",
              "      <td>182735438015</td>\n",
              "      <td>2018-07-20 02:50:45</td>\n",
              "      <td>page_view</td>\n",
              "      <td>NaN</td>\n",
              "      <td>894164276572</td>\n",
              "      <td>https://www.twitter.com</td>\n",
              "      <td>2018-04-08 19:37:30</td>\n",
              "      <td>False</td>\n",
              "    </tr>\n",
              "  </tbody>\n",
              "</table>\n",
              "</div>"
            ],
            "text/plain": [
              "    customer_id      date_registered  ...               time_y  label\n",
              "0  460429349361  2017-08-10 11:04:45  ...  2017-10-22 05:21:05  False\n",
              "1  674438580580  2017-08-11 08:35:32  ...  2018-02-11 20:10:17   True\n",
              "2  674438580580  2017-08-11 08:35:32  ...  2018-02-11 20:10:17   True\n",
              "3  364017777045  2017-08-11 10:15:37  ...  2018-04-08 19:37:30  False\n",
              "4  364017777045  2017-08-11 10:15:37  ...  2018-04-08 19:37:30  False\n",
              "\n",
              "[5 rows x 19 columns]"
            ]
          },
          "metadata": {
            "tags": []
          },
          "execution_count": 141
        },
        {
          "output_type": "execute_result",
          "data": {
            "text/plain": [
              "0    False\n",
              "1     True\n",
              "2     True\n",
              "3    False\n",
              "4    False\n",
              "Name: label, dtype: bool"
            ]
          },
          "metadata": {
            "tags": []
          },
          "execution_count": 141
        }
      ]
    },
    {
      "cell_type": "code",
      "metadata": {
        "id": "Fb2yBf1nf8vn",
        "colab": {
          "base_uri": "https://localhost:8080/",
          "height": 206
        },
        "outputId": "d4bbfe91-7310-4836-d061-7db3907d60cb"
      },
      "source": [
        "# Try without dropping 'referrer'\n",
        "# PErformance drops. Maybe this column\n",
        "# is noisy?\n",
        "\n",
        "X = X.drop(\n",
        "            [ 'customer_id',\n",
        "             'date_registered',\n",
        "             'birthday',\n",
        "             'phone',\n",
        "             'email',\n",
        "              'owner',\n",
        "              'company',\n",
        "              'id',\n",
        "              'time_x',\n",
        "              'session',\n",
        "              'referrer',\n",
        "              'time_y',\n",
        "              'label',\n",
        "              'country'],\n",
        "              axis=1\n",
        "           )\n",
        "\n",
        "display(X.head())"
      ],
      "execution_count": 142,
      "outputs": [
        {
          "output_type": "display_data",
          "data": {
            "text/html": [
              "<div>\n",
              "<style scoped>\n",
              "    .dataframe tbody tr th:only-of-type {\n",
              "        vertical-align: middle;\n",
              "    }\n",
              "\n",
              "    .dataframe tbody tr th {\n",
              "        vertical-align: top;\n",
              "    }\n",
              "\n",
              "    .dataframe thead th {\n",
              "        text-align: right;\n",
              "    }\n",
              "</style>\n",
              "<table border=\"1\" class=\"dataframe\">\n",
              "  <thead>\n",
              "    <tr style=\"text-align: right;\">\n",
              "      <th></th>\n",
              "      <th>job</th>\n",
              "      <th>state</th>\n",
              "      <th>zip</th>\n",
              "      <th>action</th>\n",
              "      <th>amount</th>\n",
              "    </tr>\n",
              "  </thead>\n",
              "  <tbody>\n",
              "    <tr>\n",
              "      <th>0</th>\n",
              "      <td>Engineer, mining</td>\n",
              "      <td>NY</td>\n",
              "      <td>60091.0</td>\n",
              "      <td>page_view</td>\n",
              "      <td>NaN</td>\n",
              "    </tr>\n",
              "    <tr>\n",
              "      <th>1</th>\n",
              "      <td>Psychologist, forensic</td>\n",
              "      <td>CA</td>\n",
              "      <td>NaN</td>\n",
              "      <td>purchase</td>\n",
              "      <td>135.23</td>\n",
              "    </tr>\n",
              "    <tr>\n",
              "      <th>2</th>\n",
              "      <td>Psychologist, forensic</td>\n",
              "      <td>CA</td>\n",
              "      <td>NaN</td>\n",
              "      <td>page_view</td>\n",
              "      <td>NaN</td>\n",
              "    </tr>\n",
              "    <tr>\n",
              "      <th>3</th>\n",
              "      <td>Air cabin crew</td>\n",
              "      <td>NaN</td>\n",
              "      <td>60091.0</td>\n",
              "      <td>download</td>\n",
              "      <td>NaN</td>\n",
              "    </tr>\n",
              "    <tr>\n",
              "      <th>4</th>\n",
              "      <td>Air cabin crew</td>\n",
              "      <td>NaN</td>\n",
              "      <td>60091.0</td>\n",
              "      <td>page_view</td>\n",
              "      <td>NaN</td>\n",
              "    </tr>\n",
              "  </tbody>\n",
              "</table>\n",
              "</div>"
            ],
            "text/plain": [
              "                      job state      zip     action  amount\n",
              "0        Engineer, mining    NY  60091.0  page_view     NaN\n",
              "1  Psychologist, forensic    CA      NaN   purchase  135.23\n",
              "2  Psychologist, forensic    CA      NaN  page_view     NaN\n",
              "3          Air cabin crew   NaN  60091.0   download     NaN\n",
              "4          Air cabin crew   NaN  60091.0  page_view     NaN"
            ]
          },
          "metadata": {
            "tags": []
          }
        }
      ]
    },
    {
      "cell_type": "markdown",
      "metadata": {
        "id": "3_CUSL3qgDSg"
      },
      "source": [
        "## Data Transformation\n",
        "We will convert our data into Woodwork data structures. Doing so enables us to have more control over the types passed to and inferred by AutoML."
      ]
    },
    {
      "cell_type": "code",
      "metadata": {
        "id": "CNI3jO1mJkAB"
      },
      "source": [
        "# Get default Woodwork data structure\n",
        "# for this DataFrame by initializing it\n",
        "#  with woordwork.init()\n",
        "\n",
        "X.ww.init()"
      ],
      "execution_count": 143,
      "outputs": []
    },
    {
      "cell_type": "markdown",
      "metadata": {
        "id": "RBeXktRcgKnU"
      },
      "source": [
        "The first step is to make sure that our physical, logical and semantic types are correct.\n",
        "\n",
        "> Physical Type – The actual data type of the incoming data. May also have storage information, as float64<br>\n",
        "> Logical Type – This is how the DataFrame interprets the physical data type.<br>\n",
        "> Semantic Tags – These are enhanced feature types that allow you to more thoroughly describe your data.<br>\n"
      ]
    },
    {
      "cell_type": "markdown",
      "metadata": {
        "id": "Z_AHlNW3nJLn"
      },
      "source": [
        "EvalML utilizes the open-source Woodwork library to detect and specify how each feature should be treated, independent of its underlying physical data type. This means we can treat columns with the same physical data type differently. For example, we can specify that we want some columns that contain text to be treated as *categorical* columns, while we treat other columns with text as *natural language* columns, even if these columns have the same underlying object datatype. This differentiation allows us to clear up the ambiguity between features that may have the same underlying datatype in pandas (ie 'object'), but ultimately represent different types of data.\n"
      ]
    },
    {
      "cell_type": "code",
      "metadata": {
        "id": "ABNwpyyDJdkE",
        "colab": {
          "base_uri": "https://localhost:8080/",
          "height": 237
        },
        "outputId": "cd69ba6f-b514-467e-8e0a-69ec92eda337"
      },
      "source": [
        "# Get X data type\n",
        "# Semantic tag of 'jod; is not clear\n",
        "X.ww"
      ],
      "execution_count": 144,
      "outputs": [
        {
          "output_type": "execute_result",
          "data": {
            "text/html": [
              "<table border=\"1\" class=\"dataframe\">\n",
              "  <thead>\n",
              "    <tr style=\"text-align: right;\">\n",
              "      <th></th>\n",
              "      <th>Physical Type</th>\n",
              "      <th>Logical Type</th>\n",
              "      <th>Semantic Tag(s)</th>\n",
              "    </tr>\n",
              "    <tr>\n",
              "      <th>Column</th>\n",
              "      <th></th>\n",
              "      <th></th>\n",
              "      <th></th>\n",
              "    </tr>\n",
              "  </thead>\n",
              "  <tbody>\n",
              "    <tr>\n",
              "      <th>job</th>\n",
              "      <td>string</td>\n",
              "      <td>Unknown</td>\n",
              "      <td>[]</td>\n",
              "    </tr>\n",
              "    <tr>\n",
              "      <th>state</th>\n",
              "      <td>category</td>\n",
              "      <td>Categorical</td>\n",
              "      <td>['category']</td>\n",
              "    </tr>\n",
              "    <tr>\n",
              "      <th>zip</th>\n",
              "      <td>float64</td>\n",
              "      <td>Double</td>\n",
              "      <td>['numeric']</td>\n",
              "    </tr>\n",
              "    <tr>\n",
              "      <th>action</th>\n",
              "      <td>category</td>\n",
              "      <td>Categorical</td>\n",
              "      <td>['category']</td>\n",
              "    </tr>\n",
              "    <tr>\n",
              "      <th>amount</th>\n",
              "      <td>float64</td>\n",
              "      <td>Double</td>\n",
              "      <td>['numeric']</td>\n",
              "    </tr>\n",
              "  </tbody>\n",
              "</table>"
            ],
            "text/plain": [
              "       Physical Type Logical Type Semantic Tag(s)\n",
              "Column                                           \n",
              "job           string      Unknown              []\n",
              "state       category  Categorical    ['category']\n",
              "zip          float64       Double     ['numeric']\n",
              "action      category  Categorical    ['category']\n",
              "amount       float64       Double     ['numeric']"
            ]
          },
          "metadata": {
            "tags": []
          },
          "execution_count": 144
        }
      ]
    },
    {
      "cell_type": "code",
      "metadata": {
        "id": "kewMFSpJIrzS"
      },
      "source": [
        " #from evalml.utils import infer_feature_types\n",
        " #X = infer_feature_types(X)\n",
        " #type(X)"
      ],
      "execution_count": 145,
      "outputs": []
    },
    {
      "cell_type": "code",
      "metadata": {
        "id": "lIoerDRBAM7G",
        "colab": {
          "base_uri": "https://localhost:8080/",
          "height": 237
        },
        "outputId": "cd2ff69c-c2fd-4d97-dea4-df6bf9911d4c"
      },
      "source": [
        "# Initialize X and assign proper semantic tag\n",
        "# for job\n",
        "\n",
        "#X.ww.init(\n",
        "#          semantic_tags={'job': 'category', 'referrer':'category'},\n",
        "#          logical_types={'job': 'Categorical', 'referrer':'Categorical'}\n",
        "#          )\n",
        "\n",
        "\n",
        "X.ww.init(\n",
        "          semantic_tags={'job': 'category'},\n",
        "          logical_types={'job': 'Categorical'}\n",
        "          )\n",
        "\n",
        "\n",
        "y = ww.init_series(y)\n",
        "X.ww"
      ],
      "execution_count": 146,
      "outputs": [
        {
          "output_type": "execute_result",
          "data": {
            "text/html": [
              "<table border=\"1\" class=\"dataframe\">\n",
              "  <thead>\n",
              "    <tr style=\"text-align: right;\">\n",
              "      <th></th>\n",
              "      <th>Physical Type</th>\n",
              "      <th>Logical Type</th>\n",
              "      <th>Semantic Tag(s)</th>\n",
              "    </tr>\n",
              "    <tr>\n",
              "      <th>Column</th>\n",
              "      <th></th>\n",
              "      <th></th>\n",
              "      <th></th>\n",
              "    </tr>\n",
              "  </thead>\n",
              "  <tbody>\n",
              "    <tr>\n",
              "      <th>job</th>\n",
              "      <td>category</td>\n",
              "      <td>Categorical</td>\n",
              "      <td>['category']</td>\n",
              "    </tr>\n",
              "    <tr>\n",
              "      <th>state</th>\n",
              "      <td>category</td>\n",
              "      <td>Categorical</td>\n",
              "      <td>['category']</td>\n",
              "    </tr>\n",
              "    <tr>\n",
              "      <th>zip</th>\n",
              "      <td>float64</td>\n",
              "      <td>Double</td>\n",
              "      <td>['numeric']</td>\n",
              "    </tr>\n",
              "    <tr>\n",
              "      <th>action</th>\n",
              "      <td>category</td>\n",
              "      <td>Categorical</td>\n",
              "      <td>['category']</td>\n",
              "    </tr>\n",
              "    <tr>\n",
              "      <th>amount</th>\n",
              "      <td>float64</td>\n",
              "      <td>Double</td>\n",
              "      <td>['numeric']</td>\n",
              "    </tr>\n",
              "  </tbody>\n",
              "</table>"
            ],
            "text/plain": [
              "       Physical Type Logical Type Semantic Tag(s)\n",
              "Column                                           \n",
              "job         category  Categorical    ['category']\n",
              "state       category  Categorical    ['category']\n",
              "zip          float64       Double     ['numeric']\n",
              "action      category  Categorical    ['category']\n",
              "amount       float64       Double     ['numeric']"
            ]
          },
          "metadata": {
            "tags": []
          },
          "execution_count": 146
        }
      ]
    },
    {
      "cell_type": "code",
      "metadata": {
        "id": "iD8wrJE5LR_u",
        "colab": {
          "base_uri": "https://localhost:8080/",
          "height": 255
        },
        "outputId": "cfe8067d-2d37-4f78-95ac-756d9d086b8a"
      },
      "source": [
        "X.head(3)\n",
        "type(X)\n",
        "print()\n",
        "type(y)\n",
        "y[:4]"
      ],
      "execution_count": 147,
      "outputs": [
        {
          "output_type": "execute_result",
          "data": {
            "text/html": [
              "<div>\n",
              "<style scoped>\n",
              "    .dataframe tbody tr th:only-of-type {\n",
              "        vertical-align: middle;\n",
              "    }\n",
              "\n",
              "    .dataframe tbody tr th {\n",
              "        vertical-align: top;\n",
              "    }\n",
              "\n",
              "    .dataframe thead th {\n",
              "        text-align: right;\n",
              "    }\n",
              "</style>\n",
              "<table border=\"1\" class=\"dataframe\">\n",
              "  <thead>\n",
              "    <tr style=\"text-align: right;\">\n",
              "      <th></th>\n",
              "      <th>job</th>\n",
              "      <th>state</th>\n",
              "      <th>zip</th>\n",
              "      <th>action</th>\n",
              "      <th>amount</th>\n",
              "    </tr>\n",
              "  </thead>\n",
              "  <tbody>\n",
              "    <tr>\n",
              "      <th>0</th>\n",
              "      <td>Engineer, mining</td>\n",
              "      <td>NY</td>\n",
              "      <td>60091.0</td>\n",
              "      <td>page_view</td>\n",
              "      <td>NaN</td>\n",
              "    </tr>\n",
              "    <tr>\n",
              "      <th>1</th>\n",
              "      <td>Psychologist, forensic</td>\n",
              "      <td>CA</td>\n",
              "      <td>NaN</td>\n",
              "      <td>purchase</td>\n",
              "      <td>135.23</td>\n",
              "    </tr>\n",
              "    <tr>\n",
              "      <th>2</th>\n",
              "      <td>Psychologist, forensic</td>\n",
              "      <td>CA</td>\n",
              "      <td>NaN</td>\n",
              "      <td>page_view</td>\n",
              "      <td>NaN</td>\n",
              "    </tr>\n",
              "  </tbody>\n",
              "</table>\n",
              "</div>"
            ],
            "text/plain": [
              "                      job state      zip     action  amount\n",
              "0        Engineer, mining    NY  60091.0  page_view     NaN\n",
              "1  Psychologist, forensic    CA      NaN   purchase  135.23\n",
              "2  Psychologist, forensic    CA      NaN  page_view     NaN"
            ]
          },
          "metadata": {
            "tags": []
          },
          "execution_count": 147
        },
        {
          "output_type": "execute_result",
          "data": {
            "text/plain": [
              "pandas.core.frame.DataFrame"
            ]
          },
          "metadata": {
            "tags": []
          },
          "execution_count": 147
        },
        {
          "output_type": "stream",
          "text": [
            "\n"
          ],
          "name": "stdout"
        },
        {
          "output_type": "execute_result",
          "data": {
            "text/plain": [
              "pandas.core.series.Series"
            ]
          },
          "metadata": {
            "tags": []
          },
          "execution_count": 147
        },
        {
          "output_type": "execute_result",
          "data": {
            "text/plain": [
              "0    False\n",
              "1     True\n",
              "2     True\n",
              "3    False\n",
              "Name: label, dtype: bool"
            ]
          },
          "metadata": {
            "tags": []
          },
          "execution_count": 147
        }
      ]
    },
    {
      "cell_type": "markdown",
      "metadata": {
        "id": "bGxYlILcC5jI"
      },
      "source": [
        "## Search for the best pipeline¶"
      ]
    },
    {
      "cell_type": "markdown",
      "metadata": {
        "id": "he1zrA60Dawd"
      },
      "source": [
        "In order to validate the results of the pipeline creation and optimization process, we will save some of our data as a holdout set.\n",
        "\n",
        "EvalML natively supports one-hot encoding and imputation so the above NaN and categorical values will be taken care of."
      ]
    },
    {
      "cell_type": "code",
      "metadata": {
        "id": "SHW2UFjyCuI0"
      },
      "source": [
        "X_train, X_holdout, y_train, y_holdout = evalml. \\\n",
        "                                         preprocessing. \\\n",
        "                                         split_data(\n",
        "                                                     X, y,\n",
        "                                                     problem_type='binary',\n",
        "                                                     test_size=0.2,\n",
        "                                                     random_seed=0\n",
        "                                                    )\n"
      ],
      "execution_count": 148,
      "outputs": []
    },
    {
      "cell_type": "markdown",
      "metadata": {
        "id": "LvB9jvLcMPzy"
      },
      "source": [
        "### Data Checks\n",
        "See [here](https://evalml.alteryx.com/en/stable/user_guide/data_checks.html) for what all data checks are carried out "
      ]
    },
    {
      "cell_type": "markdown",
      "metadata": {
        "id": "5c68pE5RMKf3"
      },
      "source": [
        "Before calling AutoMLSearch.search, we should run some sanity checks on our data to ensure that the input data being passed will not run into some common issues before running a potentially time-consuming search. EvalML has various data checks that makes this easy. Each data check will return a collection of warnings and errors if it detects potential issues with the input data. This allows users to inspect their data to avoid confusing errors that may arise during the search process. You can learn about each of the data checks available through our data checks guide\n",
        "\n",
        "Here, we will run the DefaultDataChecks class, which contains a series of data checks that are generally useful."
      ]
    },
    {
      "cell_type": "code",
      "metadata": {
        "id": "JAW-lIoaL1v1",
        "colab": {
          "base_uri": "https://localhost:8080/"
        },
        "outputId": "8bfa3131-3cc0-4a43-c46f-d19b2d5dd879"
      },
      "source": [
        "data_checks = DefaultDataChecks(\"binary\", \"log loss binary\")\n",
        "data_checks.validate(X_train, y_train)"
      ],
      "execution_count": 149,
      "outputs": [
        {
          "output_type": "execute_result",
          "data": {
            "text/plain": [
              "{'actions': [],\n",
              " 'errors': [],\n",
              " 'warnings': [{'code': 'CLASS_IMBALANCE_BELOW_THRESHOLD',\n",
              "   'data_check_name': 'ClassImbalanceDataCheck',\n",
              "   'details': {'target_values': [True]},\n",
              "   'level': 'warning',\n",
              "   'message': 'The following labels fall below 10% of the target: [True]'}]}"
            ]
          },
          "metadata": {
            "tags": []
          },
          "execution_count": 149
        }
      ]
    },
    {
      "cell_type": "markdown",
      "metadata": {
        "id": "KbRdyF7HXAWV"
      },
      "source": [
        "## Configure LeadScoring objectives"
      ]
    },
    {
      "cell_type": "markdown",
      "metadata": {
        "id": "VW5bqsXCW1iX"
      },
      "source": [
        "In EvalML, you can have generic objectives, such as RMSE, loglossbinary or loglossmulticlass and so on. OR, you can have business specific objectives.\n",
        "To optimize the pipelines toward the specific business needs of this model, you can set your own assumptions for how much value is gained through true positives and the cost associated with false positives. These parameters are\n",
        "\n",
        "> true_positive - dollar amount to be gained with a successful lead  \n",
        "false_positive - dollar amount to be lost with an unsuccessful lead\n",
        "\n",
        "Using these parameters, EvalML builds a pileline that will maximize the amount of revenue per lead generated."
      ]
    },
    {
      "cell_type": "markdown",
      "metadata": {
        "id": "KDpFcRRUEIxM"
      },
      "source": [
        "Because the lead scoring labels are binary, we will use `AutoMLSearch(X_train=X_train, y_train=y_train, problem_type='binary')`. When we call `.search()`, the search for the best pipeline will begin."
      ]
    },
    {
      "cell_type": "code",
      "metadata": {
        "id": "9mOr-EjcoG23"
      },
      "source": [
        "lead_scoring_objective = LeadScoring(\n",
        "                                      true_positives=1000,\n",
        "                                      false_positives=-10\n",
        "                                     )"
      ],
      "execution_count": 150,
      "outputs": []
    },
    {
      "cell_type": "code",
      "metadata": {
        "colab": {
          "base_uri": "https://localhost:8080/"
        },
        "id": "tBN22fV2D4-4",
        "outputId": "377c9479-1eea-4888-c42b-192180bb8f1b"
      },
      "source": [
        "# Instantiate AutoMLSearch class \n",
        "automl = AutoMLSearch(\n",
        "                      X_train=X_train,\n",
        "                      y_train=y_train,\n",
        "                      problem_type='binary',\n",
        "                      objective=lead_scoring_objective, # Could be LogLossBinary \n",
        "                      additional_objectives=['auc'],\n",
        "                      max_batches=3,\n",
        "                      allowed_model_families=[\"catboost\", \"random_forest\", \"linear_model\"],\n",
        "                    )\n",
        "\n"
      ],
      "execution_count": 151,
      "outputs": [
        {
          "output_type": "stream",
          "text": [
            "Generating pipelines to search over...\n",
            "4 pipelines ready for search.\n"
          ],
          "name": "stdout"
        }
      ]
    },
    {
      "cell_type": "code",
      "metadata": {
        "colab": {
          "base_uri": "https://localhost:8080/",
          "height": 1000,
          "referenced_widgets": [
            "5c64a9dae22e46d79301459db98dc3ec"
          ]
        },
        "id": "IYO2Kl6REkGw",
        "outputId": "38469538-1921-430c-df10-a724589be88f"
      },
      "source": [
        "start = time.time()\n",
        "automl.search()\n",
        "end = time.time()\n",
        "print(\"Time taken: \", (end-start)/60)"
      ],
      "execution_count": 152,
      "outputs": [
        {
          "output_type": "stream",
          "text": [
            "\n",
            "*****************************\n",
            "* Beginning pipeline search *\n",
            "*****************************\n",
            "\n",
            "Optimizing for Lead Scoring. \n",
            "Greater score is better.\n",
            "\n",
            "Using SequentialEngine to train and score pipelines.\n",
            "Searching up to 3 batches for a total of 15 pipelines. \n",
            "Allowed model families: random_forest, linear_model, catboost\n",
            "\n"
          ],
          "name": "stdout"
        },
        {
          "output_type": "display_data",
          "data": {
            "application/vnd.jupyter.widget-view+json": {
              "model_id": "5c64a9dae22e46d79301459db98dc3ec",
              "version_minor": 0,
              "version_major": 2
            },
            "text/plain": [
              "FigureWidget({\n",
              "    'data': [{'mode': 'lines+markers',\n",
              "              'name': 'Best Score',\n",
              "              'type'…"
            ]
          },
          "metadata": {
            "tags": []
          }
        },
        {
          "output_type": "stream",
          "text": [
            "Evaluating Baseline Pipeline: Mode Baseline Binary Classification Pipeline\n",
            "Mode Baseline Binary Classification Pipeline:\n",
            "\tStarting cross validation\n",
            "\tFinished cross validation - mean Lead Scoring: 0.000\n",
            "\n",
            "*****************************\n",
            "* Evaluating Batch Number 1 *\n",
            "*****************************\n",
            "\n",
            "Elastic Net Classifier w/ Imputer + One Hot Encoder + SMOTENC Oversampler + Standard Scaler:\n",
            "\tStarting cross validation\n",
            "\tFinished cross validation - mean Lead Scoring: 0.200\n",
            "\tHigh coefficient of variation (cv >= 0.2) within cross validation scores.\n",
            "\tElastic Net Classifier w/ Imputer + One Hot Encoder + SMOTENC Oversampler + Standard Scaler may not perform as estimated on unseen data.\n",
            "Random Forest Classifier w/ Imputer + One Hot Encoder + SMOTENC Oversampler:\n",
            "\tStarting cross validation\n",
            "\tFinished cross validation - mean Lead Scoring: 0.202\n",
            "\tHigh coefficient of variation (cv >= 0.2) within cross validation scores.\n",
            "\tRandom Forest Classifier w/ Imputer + One Hot Encoder + SMOTENC Oversampler may not perform as estimated on unseen data.\n",
            "Logistic Regression Classifier w/ Imputer + One Hot Encoder + SMOTENC Oversampler + Standard Scaler:\n",
            "\tStarting cross validation\n",
            "\tFinished cross validation - mean Lead Scoring: 0.200\n",
            "\tHigh coefficient of variation (cv >= 0.2) within cross validation scores.\n",
            "\tLogistic Regression Classifier w/ Imputer + One Hot Encoder + SMOTENC Oversampler + Standard Scaler may not perform as estimated on unseen data.\n",
            "CatBoost Classifier w/ Imputer + SMOTENC Oversampler:\n",
            "\tStarting cross validation\n",
            "\tFinished cross validation - mean Lead Scoring: 9.504\n",
            "\tHigh coefficient of variation (cv >= 0.2) within cross validation scores.\n",
            "\tCatBoost Classifier w/ Imputer + SMOTENC Oversampler may not perform as estimated on unseen data.\n",
            "\n",
            "*****************************\n",
            "* Evaluating Batch Number 2 *\n",
            "*****************************\n",
            "\n",
            "CatBoost Classifier w/ Imputer + SMOTENC Oversampler:\n",
            "\tStarting cross validation\n",
            "\tFinished cross validation - mean Lead Scoring: 0.598\n",
            "\tHigh coefficient of variation (cv >= 0.2) within cross validation scores.\n",
            "\tCatBoost Classifier w/ Imputer + SMOTENC Oversampler may not perform as estimated on unseen data.\n",
            "CatBoost Classifier w/ Imputer + SMOTENC Oversampler:\n",
            "\tStarting cross validation\n",
            "\tFinished cross validation - mean Lead Scoring: 0.581\n",
            "\tHigh coefficient of variation (cv >= 0.2) within cross validation scores.\n",
            "\tCatBoost Classifier w/ Imputer + SMOTENC Oversampler may not perform as estimated on unseen data.\n",
            "CatBoost Classifier w/ Imputer + SMOTENC Oversampler:\n",
            "\tStarting cross validation\n",
            "\tFinished cross validation - mean Lead Scoring: 0.596\n",
            "\tHigh coefficient of variation (cv >= 0.2) within cross validation scores.\n",
            "\tCatBoost Classifier w/ Imputer + SMOTENC Oversampler may not perform as estimated on unseen data.\n",
            "CatBoost Classifier w/ Imputer + SMOTENC Oversampler:\n",
            "\tStarting cross validation\n",
            "\tFinished cross validation - mean Lead Scoring: 0.400\n",
            "\tHigh coefficient of variation (cv >= 0.2) within cross validation scores.\n",
            "\tCatBoost Classifier w/ Imputer + SMOTENC Oversampler may not perform as estimated on unseen data.\n",
            "CatBoost Classifier w/ Imputer + SMOTENC Oversampler:\n",
            "\tStarting cross validation\n",
            "\tFinished cross validation - mean Lead Scoring: 0.411\n",
            "\tHigh coefficient of variation (cv >= 0.2) within cross validation scores.\n",
            "\tCatBoost Classifier w/ Imputer + SMOTENC Oversampler may not perform as estimated on unseen data.\n",
            "\n",
            "*****************************\n",
            "* Evaluating Batch Number 3 *\n",
            "*****************************\n",
            "\n",
            "Random Forest Classifier w/ Imputer + One Hot Encoder + SMOTENC Oversampler:\n",
            "\tStarting cross validation\n",
            "\tFinished cross validation - mean Lead Scoring: 0.204\n",
            "\tHigh coefficient of variation (cv >= 0.2) within cross validation scores.\n",
            "\tRandom Forest Classifier w/ Imputer + One Hot Encoder + SMOTENC Oversampler may not perform as estimated on unseen data.\n",
            "Random Forest Classifier w/ Imputer + One Hot Encoder + SMOTENC Oversampler:\n",
            "\tStarting cross validation\n",
            "\tFinished cross validation - mean Lead Scoring: 0.198\n",
            "\tHigh coefficient of variation (cv >= 0.2) within cross validation scores.\n",
            "\tRandom Forest Classifier w/ Imputer + One Hot Encoder + SMOTENC Oversampler may not perform as estimated on unseen data.\n",
            "Random Forest Classifier w/ Imputer + One Hot Encoder + SMOTENC Oversampler:\n",
            "\tStarting cross validation\n",
            "\tFinished cross validation - mean Lead Scoring: 0.207\n",
            "\tHigh coefficient of variation (cv >= 0.2) within cross validation scores.\n",
            "\tRandom Forest Classifier w/ Imputer + One Hot Encoder + SMOTENC Oversampler may not perform as estimated on unseen data.\n",
            "Random Forest Classifier w/ Imputer + One Hot Encoder + SMOTENC Oversampler:\n",
            "\tStarting cross validation\n",
            "\tFinished cross validation - mean Lead Scoring: 0.202\n",
            "\tHigh coefficient of variation (cv >= 0.2) within cross validation scores.\n",
            "\tRandom Forest Classifier w/ Imputer + One Hot Encoder + SMOTENC Oversampler may not perform as estimated on unseen data.\n",
            "Random Forest Classifier w/ Imputer + One Hot Encoder + SMOTENC Oversampler:\n",
            "\tStarting cross validation\n",
            "\tFinished cross validation - mean Lead Scoring: 0.207\n",
            "\tHigh coefficient of variation (cv >= 0.2) within cross validation scores.\n",
            "\tRandom Forest Classifier w/ Imputer + One Hot Encoder + SMOTENC Oversampler may not perform as estimated on unseen data.\n",
            "\n",
            "Search finished after 01:23            \n",
            "Best pipeline: CatBoost Classifier w/ Imputer + SMOTENC Oversampler\n",
            "Best pipeline Lead Scoring: 9.504221\n",
            "Time taken:  1.400979713598887\n"
          ],
          "name": "stdout"
        }
      ]
    },
    {
      "cell_type": "markdown",
      "metadata": {
        "id": "vAQyVtCnHWKP"
      },
      "source": [
        "## View rankings and select pipeline"
      ]
    },
    {
      "cell_type": "markdown",
      "metadata": {
        "id": "r8mtAFdnJq-J"
      },
      "source": [
        "Once the fitting process is done, we can see all of the pipelines that were searched, ranked by their score on the lead scoring objective we defined."
      ]
    },
    {
      "cell_type": "code",
      "metadata": {
        "colab": {
          "base_uri": "https://localhost:8080/",
          "height": 504
        },
        "id": "PCUBbOHZEmfn",
        "outputId": "83e82116-247e-415d-9ba5-4da31f84c06d"
      },
      "source": [
        "automl.rankings"
      ],
      "execution_count": 155,
      "outputs": [
        {
          "output_type": "execute_result",
          "data": {
            "text/html": [
              "<div>\n",
              "<style scoped>\n",
              "    .dataframe tbody tr th:only-of-type {\n",
              "        vertical-align: middle;\n",
              "    }\n",
              "\n",
              "    .dataframe tbody tr th {\n",
              "        vertical-align: top;\n",
              "    }\n",
              "\n",
              "    .dataframe thead th {\n",
              "        text-align: right;\n",
              "    }\n",
              "</style>\n",
              "<table border=\"1\" class=\"dataframe\">\n",
              "  <thead>\n",
              "    <tr style=\"text-align: right;\">\n",
              "      <th></th>\n",
              "      <th>id</th>\n",
              "      <th>pipeline_name</th>\n",
              "      <th>search_order</th>\n",
              "      <th>mean_cv_score</th>\n",
              "      <th>standard_deviation_cv_score</th>\n",
              "      <th>validation_score</th>\n",
              "      <th>percent_better_than_baseline</th>\n",
              "      <th>high_variance_cv</th>\n",
              "      <th>parameters</th>\n",
              "    </tr>\n",
              "  </thead>\n",
              "  <tbody>\n",
              "    <tr>\n",
              "      <th>0</th>\n",
              "      <td>4</td>\n",
              "      <td>CatBoost Classifier w/ Imputer + SMOTENC Overs...</td>\n",
              "      <td>4</td>\n",
              "      <td>9.504221</td>\n",
              "      <td>8.239320</td>\n",
              "      <td>0.000000</td>\n",
              "      <td>inf</td>\n",
              "      <td>True</td>\n",
              "      <td>{'Imputer': {'categorical_impute_strategy': 'm...</td>\n",
              "    </tr>\n",
              "    <tr>\n",
              "      <th>6</th>\n",
              "      <td>12</td>\n",
              "      <td>Random Forest Classifier w/ Imputer + One Hot ...</td>\n",
              "      <td>12</td>\n",
              "      <td>0.206589</td>\n",
              "      <td>0.374710</td>\n",
              "      <td>-0.019355</td>\n",
              "      <td>inf</td>\n",
              "      <td>True</td>\n",
              "      <td>{'Imputer': {'categorical_impute_strategy': 'm...</td>\n",
              "    </tr>\n",
              "    <tr>\n",
              "      <th>11</th>\n",
              "      <td>1</td>\n",
              "      <td>Elastic Net Classifier w/ Imputer + One Hot En...</td>\n",
              "      <td>1</td>\n",
              "      <td>0.200137</td>\n",
              "      <td>0.380391</td>\n",
              "      <td>-0.032258</td>\n",
              "      <td>inf</td>\n",
              "      <td>True</td>\n",
              "      <td>{'Imputer': {'categorical_impute_strategy': 'm...</td>\n",
              "    </tr>\n",
              "    <tr>\n",
              "      <th>12</th>\n",
              "      <td>3</td>\n",
              "      <td>Logistic Regression Classifier w/ Imputer + On...</td>\n",
              "      <td>3</td>\n",
              "      <td>0.200137</td>\n",
              "      <td>0.380391</td>\n",
              "      <td>-0.032258</td>\n",
              "      <td>inf</td>\n",
              "      <td>True</td>\n",
              "      <td>{'Imputer': {'categorical_impute_strategy': 'm...</td>\n",
              "    </tr>\n",
              "    <tr>\n",
              "      <th>14</th>\n",
              "      <td>0</td>\n",
              "      <td>Mode Baseline Binary Classification Pipeline</td>\n",
              "      <td>0</td>\n",
              "      <td>0.000000</td>\n",
              "      <td>0.000000</td>\n",
              "      <td>0.000000</td>\n",
              "      <td>0.0</td>\n",
              "      <td>False</td>\n",
              "      <td>{'Baseline Classifier': {'strategy': 'mode'}}</td>\n",
              "    </tr>\n",
              "  </tbody>\n",
              "</table>\n",
              "</div>"
            ],
            "text/plain": [
              "    id  ...                                         parameters\n",
              "0    4  ...  {'Imputer': {'categorical_impute_strategy': 'm...\n",
              "6   12  ...  {'Imputer': {'categorical_impute_strategy': 'm...\n",
              "11   1  ...  {'Imputer': {'categorical_impute_strategy': 'm...\n",
              "12   3  ...  {'Imputer': {'categorical_impute_strategy': 'm...\n",
              "14   0  ...      {'Baseline Classifier': {'strategy': 'mode'}}\n",
              "\n",
              "[5 rows x 9 columns]"
            ]
          },
          "metadata": {
            "tags": []
          },
          "execution_count": 155
        }
      ]
    },
    {
      "cell_type": "markdown",
      "metadata": {
        "id": "iJtlWXJagMkg"
      },
      "source": [
        "## Best pipeline"
      ]
    },
    {
      "cell_type": "markdown",
      "metadata": {
        "id": "d_dxz4URJ4Pq"
      },
      "source": [
        "To select the best pipeline we can call automl.best_pipeline."
      ]
    },
    {
      "cell_type": "code",
      "metadata": {
        "id": "cHNCGrDKJur5",
        "colab": {
          "base_uri": "https://localhost:8080/"
        },
        "outputId": "c6d20cad-9f2e-40af-ae4f-37e7ba1175f9"
      },
      "source": [
        "best_pipeline = automl.best_pipeline\n",
        "print(best_pipeline)"
      ],
      "execution_count": 153,
      "outputs": [
        {
          "output_type": "stream",
          "text": [
            "CatBoost Classifier w/ Imputer + SMOTENC Oversampler\n"
          ],
          "name": "stdout"
        }
      ]
    },
    {
      "cell_type": "markdown",
      "metadata": {
        "id": "ypXbc4b-KCL3"
      },
      "source": [
        "You can get more details about any pipeline, including how it performed on other objective functions by calling `.describe_pipeline()` and specifying the id of the pipeline."
      ]
    },
    {
      "cell_type": "code",
      "metadata": {
        "colab": {
          "base_uri": "https://localhost:8080/"
        },
        "id": "4AZqFk9kJ7oy",
        "outputId": "bf5f1507-4e4c-413f-83e6-daeaee2d1275"
      },
      "source": [
        "automl.describe_pipeline(automl.rankings.iloc[0][\"id\"])"
      ],
      "execution_count": 156,
      "outputs": [
        {
          "output_type": "stream",
          "text": [
            "\n",
            "********************************************************\n",
            "* CatBoost Classifier w/ Imputer + SMOTENC Oversampler *\n",
            "********************************************************\n",
            "\n",
            "Problem Type: binary\n",
            "Model Family: CatBoost\n",
            "\n",
            "Pipeline Steps\n",
            "==============\n",
            "1. Imputer\n",
            "\t * categorical_impute_strategy : most_frequent\n",
            "\t * numeric_impute_strategy : mean\n",
            "\t * categorical_fill_value : None\n",
            "\t * numeric_fill_value : None\n",
            "2. SMOTENC Oversampler\n",
            "\t * sampling_ratio : 0.25\n",
            "\t * k_neighbors_default : 5\n",
            "\t * n_jobs : -1\n",
            "\t * sampling_ratio_dict : None\n",
            "\t * categorical_features : [0, 1, 3]\n",
            "\t * k_neighbors : 5\n",
            "3. CatBoost Classifier\n",
            "\t * n_estimators : 10\n",
            "\t * eta : 0.03\n",
            "\t * max_depth : 6\n",
            "\t * bootstrap_type : None\n",
            "\t * silent : True\n",
            "\t * allow_writing_files : False\n",
            "\t * n_jobs : -1\n",
            "\n",
            "Training\n",
            "========\n",
            "Training for binary problems.\n",
            "Objective to optimize binary classification pipeline thresholds for: <evalml.objectives.lead_scoring.LeadScoring object at 0x7fd49a8bac50>\n",
            "Total training time (including CV): 2.5 seconds\n",
            "\n",
            "Cross Validation\n",
            "----------------\n",
            "             Lead Scoring   AUC # Training # Validation\n",
            "0                   0.000 0.869      3,099        1,550\n",
            "1                  13.884 0.887      3,099        1,550\n",
            "2                  14.629 0.889      3,100        1,549\n",
            "mean                9.504 0.882          -            -\n",
            "std                 8.239 0.011          -            -\n",
            "coef of var         0.867 0.012          -            -\n"
          ],
          "name": "stdout"
        }
      ]
    },
    {
      "cell_type": "markdown",
      "metadata": {
        "id": "cqdzIH11L0OH"
      },
      "source": [
        "## Evaluate on hold out data"
      ]
    },
    {
      "cell_type": "markdown",
      "metadata": {
        "id": "AJk5JAFdL6cR"
      },
      "source": [
        "Finally, since the best pipeline was trained on all of the training data, we evaluate it on the holdout dataset."
      ]
    },
    {
      "cell_type": "code",
      "metadata": {
        "colab": {
          "base_uri": "https://localhost:8080/"
        },
        "id": "I4VEdDdQKRWg",
        "outputId": "b5d4925e-d3ae-455c-de76-db80a7ec17b6"
      },
      "source": [
        "best_pipeline.score(\n",
        "                     X_holdout,\n",
        "                     y_holdout,\n",
        "                     objectives=[\"auc\", lead_scoring_objective])"
      ],
      "execution_count": 157,
      "outputs": [
        {
          "output_type": "execute_result",
          "data": {
            "text/plain": [
              "OrderedDict([('AUC', 0.8585599879117558), ('Lead Scoring', 14.76354256233878)])"
            ]
          },
          "metadata": {
            "tags": []
          },
          "execution_count": 157
        }
      ]
    },
    {
      "cell_type": "markdown",
      "metadata": {
        "id": "JXLeKhO5MBm5"
      },
      "source": [
        "## Why optimize for a problem-specific objective?"
      ]
    },
    {
      "cell_type": "markdown",
      "metadata": {
        "id": "xhX1qgE1MI9t"
      },
      "source": [
        "To demonstrate the importance of optimizing for the right objective, let’s search for another pipeline using AUC, a common machine learning metric. After that, we will score the holdout data using the lead scoring objective to see how the best pipelines compare."
      ]
    },
    {
      "cell_type": "code",
      "metadata": {
        "id": "kUwO1gkCwQTE"
      },
      "source": [
        ""
      ],
      "execution_count": null,
      "outputs": []
    },
    {
      "cell_type": "code",
      "metadata": {
        "id": "tgj5qwMvvwe9"
      },
      "source": [
        "# Instantiate AutoMLSearch class \n",
        "automl_auc = AutoMLSearch(\n",
        "                      X_train=X_train,\n",
        "                      y_train=y_train,\n",
        "                      problem_type='binary',\n",
        "                      objective='auc',\n",
        "                      additional_objectives=[],\n",
        "                      max_batches=3,\n",
        "                      allowed_model_families=[\"catboost\", \"random_forest\", \"linear_model\"],\n",
        "                    )\n",
        "\n",
        "# Execute search()\n",
        "automl_auc.search()"
      ],
      "execution_count": null,
      "outputs": []
    },
    {
      "cell_type": "code",
      "metadata": {
        "id": "3-jTYprPMbBy"
      },
      "source": [
        "automl_auc.rankings"
      ],
      "execution_count": null,
      "outputs": []
    },
    {
      "cell_type": "markdown",
      "metadata": {
        "id": "1m_KW4J8MpIz"
      },
      "source": [
        "Like before, we can look at the rankings and pick the best pipeline."
      ]
    },
    {
      "cell_type": "code",
      "metadata": {
        "id": "RVQRGRbNMhnv"
      },
      "source": [
        "best_pipeline_auc = automl_auc.best_pipeline"
      ],
      "execution_count": 111,
      "outputs": []
    },
    {
      "cell_type": "code",
      "metadata": {
        "colab": {
          "base_uri": "https://localhost:8080/"
        },
        "id": "mEzFcVlVMuSe",
        "outputId": "18ba29ac-2305-4d45-e0c8-bcfda8edf461"
      },
      "source": [
        "# get the auc and lead scoring score on holdout data\n",
        "best_pipeline_auc.score(\n",
        "                        X_holdout,\n",
        "                        y_holdout,\n",
        "                        objectives=[\n",
        "                                     \"auc\",\n",
        "                                     lead_scoring_objective\n",
        "                                    ]\n",
        "                        )"
      ],
      "execution_count": 112,
      "outputs": [
        {
          "output_type": "execute_result",
          "data": {
            "text/plain": [
              "OrderedDict([('AUC', 0.9235494106980962),\n",
              "             ('Lead Scoring', -0.1117798796216681)])"
            ]
          },
          "metadata": {
            "tags": []
          },
          "execution_count": 112
        }
      ]
    },
    {
      "cell_type": "markdown",
      "metadata": {
        "id": "B0BlrkRjNCCC"
      },
      "source": [
        "When we optimize for AUC, we can see that the AUC score from this pipeline is better than the AUC score from the pipeline optimized for lead scoring. However, the revenue per lead is much smaller per lead when optimized for AUC and was much larger when optimized for lead scoring. As a result, we would have a huge gain on the amount of revenue if we optimized for lead scoring.\n",
        "\n",
        "This happens because optimizing for AUC does not take into account the user-specified true_positive (dollar amount to be gained with a successful lead) and false_positive (dollar amount to be lost with an unsuccessful lead) values. Thus, the best pipelines may produce the highest AUC but may not actually generate the most revenue through lead scoring.\n",
        "\n",
        "This example highlights how performance in the real world can diverge greatly from machine learning metrics."
      ]
    },
    {
      "cell_type": "markdown",
      "metadata": {
        "id": "AlRuI3jqggxn"
      },
      "source": [
        "## Further evaluation"
      ]
    },
    {
      "cell_type": "code",
      "metadata": {
        "colab": {
          "base_uri": "https://localhost:8080/",
          "height": 1000
        },
        "id": "SG7uPktLNZfB",
        "outputId": "c1dc5499-13a3-4279-fb5d-b5719d058ea2"
      },
      "source": [
        "best_pipeline_auc.graph_feature_importance()\n",
        "best_pipeline.graph_feature_importance()\n"
      ],
      "execution_count": 115,
      "outputs": [
        {
          "output_type": "display_data",
          "data": {
            "text/html": [
              "<html>\n",
              "<head><meta charset=\"utf-8\" /></head>\n",
              "<body>\n",
              "    <div>            <script src=\"https://cdnjs.cloudflare.com/ajax/libs/mathjax/2.7.5/MathJax.js?config=TeX-AMS-MML_SVG\"></script><script type=\"text/javascript\">if (window.MathJax) {MathJax.Hub.Config({SVG: {font: \"STIX-Web\"}});}</script>                <script type=\"text/javascript\">window.PlotlyConfig = {MathJaxConfig: 'local'};</script>\n",
              "        <script src=\"https://cdn.plot.ly/plotly-2.2.0.min.js\"></script>                <div id=\"20651c54-353e-4bb9-b87a-02c6b8807c04\" class=\"plotly-graph-div\" style=\"height:800px; width:100%;\"></div>            <script type=\"text/javascript\">                                    window.PLOTLYENV=window.PLOTLYENV || {};                                    if (document.getElementById(\"20651c54-353e-4bb9-b87a-02c6b8807c04\")) {                    Plotly.newPlot(                        \"20651c54-353e-4bb9-b87a-02c6b8807c04\",                        [{\"orientation\":\"h\",\"type\":\"bar\",\"x\":[1.3928879949803261,2.1925012350899107,3.039147867917115,5.6261339791065215,87.7493289229061],\"y\":[\"action\",\"amount\",\"state\",\"zip\",\"job\"]}],                        {\"height\":800,\"template\":{\"data\":{\"bar\":[{\"error_x\":{\"color\":\"#2a3f5f\"},\"error_y\":{\"color\":\"#2a3f5f\"},\"marker\":{\"line\":{\"color\":\"#E5ECF6\",\"width\":0.5},\"pattern\":{\"fillmode\":\"overlay\",\"size\":10,\"solidity\":0.2}},\"type\":\"bar\"}],\"barpolar\":[{\"marker\":{\"line\":{\"color\":\"#E5ECF6\",\"width\":0.5},\"pattern\":{\"fillmode\":\"overlay\",\"size\":10,\"solidity\":0.2}},\"type\":\"barpolar\"}],\"carpet\":[{\"aaxis\":{\"endlinecolor\":\"#2a3f5f\",\"gridcolor\":\"white\",\"linecolor\":\"white\",\"minorgridcolor\":\"white\",\"startlinecolor\":\"#2a3f5f\"},\"baxis\":{\"endlinecolor\":\"#2a3f5f\",\"gridcolor\":\"white\",\"linecolor\":\"white\",\"minorgridcolor\":\"white\",\"startlinecolor\":\"#2a3f5f\"},\"type\":\"carpet\"}],\"choropleth\":[{\"colorbar\":{\"outlinewidth\":0,\"ticks\":\"\"},\"type\":\"choropleth\"}],\"contour\":[{\"colorbar\":{\"outlinewidth\":0,\"ticks\":\"\"},\"colorscale\":[[0.0,\"#0d0887\"],[0.1111111111111111,\"#46039f\"],[0.2222222222222222,\"#7201a8\"],[0.3333333333333333,\"#9c179e\"],[0.4444444444444444,\"#bd3786\"],[0.5555555555555556,\"#d8576b\"],[0.6666666666666666,\"#ed7953\"],[0.7777777777777778,\"#fb9f3a\"],[0.8888888888888888,\"#fdca26\"],[1.0,\"#f0f921\"]],\"type\":\"contour\"}],\"contourcarpet\":[{\"colorbar\":{\"outlinewidth\":0,\"ticks\":\"\"},\"type\":\"contourcarpet\"}],\"heatmap\":[{\"colorbar\":{\"outlinewidth\":0,\"ticks\":\"\"},\"colorscale\":[[0.0,\"#0d0887\"],[0.1111111111111111,\"#46039f\"],[0.2222222222222222,\"#7201a8\"],[0.3333333333333333,\"#9c179e\"],[0.4444444444444444,\"#bd3786\"],[0.5555555555555556,\"#d8576b\"],[0.6666666666666666,\"#ed7953\"],[0.7777777777777778,\"#fb9f3a\"],[0.8888888888888888,\"#fdca26\"],[1.0,\"#f0f921\"]],\"type\":\"heatmap\"}],\"heatmapgl\":[{\"colorbar\":{\"outlinewidth\":0,\"ticks\":\"\"},\"colorscale\":[[0.0,\"#0d0887\"],[0.1111111111111111,\"#46039f\"],[0.2222222222222222,\"#7201a8\"],[0.3333333333333333,\"#9c179e\"],[0.4444444444444444,\"#bd3786\"],[0.5555555555555556,\"#d8576b\"],[0.6666666666666666,\"#ed7953\"],[0.7777777777777778,\"#fb9f3a\"],[0.8888888888888888,\"#fdca26\"],[1.0,\"#f0f921\"]],\"type\":\"heatmapgl\"}],\"histogram\":[{\"marker\":{\"pattern\":{\"fillmode\":\"overlay\",\"size\":10,\"solidity\":0.2}},\"type\":\"histogram\"}],\"histogram2d\":[{\"colorbar\":{\"outlinewidth\":0,\"ticks\":\"\"},\"colorscale\":[[0.0,\"#0d0887\"],[0.1111111111111111,\"#46039f\"],[0.2222222222222222,\"#7201a8\"],[0.3333333333333333,\"#9c179e\"],[0.4444444444444444,\"#bd3786\"],[0.5555555555555556,\"#d8576b\"],[0.6666666666666666,\"#ed7953\"],[0.7777777777777778,\"#fb9f3a\"],[0.8888888888888888,\"#fdca26\"],[1.0,\"#f0f921\"]],\"type\":\"histogram2d\"}],\"histogram2dcontour\":[{\"colorbar\":{\"outlinewidth\":0,\"ticks\":\"\"},\"colorscale\":[[0.0,\"#0d0887\"],[0.1111111111111111,\"#46039f\"],[0.2222222222222222,\"#7201a8\"],[0.3333333333333333,\"#9c179e\"],[0.4444444444444444,\"#bd3786\"],[0.5555555555555556,\"#d8576b\"],[0.6666666666666666,\"#ed7953\"],[0.7777777777777778,\"#fb9f3a\"],[0.8888888888888888,\"#fdca26\"],[1.0,\"#f0f921\"]],\"type\":\"histogram2dcontour\"}],\"mesh3d\":[{\"colorbar\":{\"outlinewidth\":0,\"ticks\":\"\"},\"type\":\"mesh3d\"}],\"parcoords\":[{\"line\":{\"colorbar\":{\"outlinewidth\":0,\"ticks\":\"\"}},\"type\":\"parcoords\"}],\"pie\":[{\"automargin\":true,\"type\":\"pie\"}],\"scatter\":[{\"marker\":{\"colorbar\":{\"outlinewidth\":0,\"ticks\":\"\"}},\"type\":\"scatter\"}],\"scatter3d\":[{\"line\":{\"colorbar\":{\"outlinewidth\":0,\"ticks\":\"\"}},\"marker\":{\"colorbar\":{\"outlinewidth\":0,\"ticks\":\"\"}},\"type\":\"scatter3d\"}],\"scattercarpet\":[{\"marker\":{\"colorbar\":{\"outlinewidth\":0,\"ticks\":\"\"}},\"type\":\"scattercarpet\"}],\"scattergeo\":[{\"marker\":{\"colorbar\":{\"outlinewidth\":0,\"ticks\":\"\"}},\"type\":\"scattergeo\"}],\"scattergl\":[{\"marker\":{\"colorbar\":{\"outlinewidth\":0,\"ticks\":\"\"}},\"type\":\"scattergl\"}],\"scattermapbox\":[{\"marker\":{\"colorbar\":{\"outlinewidth\":0,\"ticks\":\"\"}},\"type\":\"scattermapbox\"}],\"scatterpolar\":[{\"marker\":{\"colorbar\":{\"outlinewidth\":0,\"ticks\":\"\"}},\"type\":\"scatterpolar\"}],\"scatterpolargl\":[{\"marker\":{\"colorbar\":{\"outlinewidth\":0,\"ticks\":\"\"}},\"type\":\"scatterpolargl\"}],\"scatterternary\":[{\"marker\":{\"colorbar\":{\"outlinewidth\":0,\"ticks\":\"\"}},\"type\":\"scatterternary\"}],\"surface\":[{\"colorbar\":{\"outlinewidth\":0,\"ticks\":\"\"},\"colorscale\":[[0.0,\"#0d0887\"],[0.1111111111111111,\"#46039f\"],[0.2222222222222222,\"#7201a8\"],[0.3333333333333333,\"#9c179e\"],[0.4444444444444444,\"#bd3786\"],[0.5555555555555556,\"#d8576b\"],[0.6666666666666666,\"#ed7953\"],[0.7777777777777778,\"#fb9f3a\"],[0.8888888888888888,\"#fdca26\"],[1.0,\"#f0f921\"]],\"type\":\"surface\"}],\"table\":[{\"cells\":{\"fill\":{\"color\":\"#EBF0F8\"},\"line\":{\"color\":\"white\"}},\"header\":{\"fill\":{\"color\":\"#C8D4E3\"},\"line\":{\"color\":\"white\"}},\"type\":\"table\"}]},\"layout\":{\"annotationdefaults\":{\"arrowcolor\":\"#2a3f5f\",\"arrowhead\":0,\"arrowwidth\":1},\"autotypenumbers\":\"strict\",\"coloraxis\":{\"colorbar\":{\"outlinewidth\":0,\"ticks\":\"\"}},\"colorscale\":{\"diverging\":[[0,\"#8e0152\"],[0.1,\"#c51b7d\"],[0.2,\"#de77ae\"],[0.3,\"#f1b6da\"],[0.4,\"#fde0ef\"],[0.5,\"#f7f7f7\"],[0.6,\"#e6f5d0\"],[0.7,\"#b8e186\"],[0.8,\"#7fbc41\"],[0.9,\"#4d9221\"],[1,\"#276419\"]],\"sequential\":[[0.0,\"#0d0887\"],[0.1111111111111111,\"#46039f\"],[0.2222222222222222,\"#7201a8\"],[0.3333333333333333,\"#9c179e\"],[0.4444444444444444,\"#bd3786\"],[0.5555555555555556,\"#d8576b\"],[0.6666666666666666,\"#ed7953\"],[0.7777777777777778,\"#fb9f3a\"],[0.8888888888888888,\"#fdca26\"],[1.0,\"#f0f921\"]],\"sequentialminus\":[[0.0,\"#0d0887\"],[0.1111111111111111,\"#46039f\"],[0.2222222222222222,\"#7201a8\"],[0.3333333333333333,\"#9c179e\"],[0.4444444444444444,\"#bd3786\"],[0.5555555555555556,\"#d8576b\"],[0.6666666666666666,\"#ed7953\"],[0.7777777777777778,\"#fb9f3a\"],[0.8888888888888888,\"#fdca26\"],[1.0,\"#f0f921\"]]},\"colorway\":[\"#636efa\",\"#EF553B\",\"#00cc96\",\"#ab63fa\",\"#FFA15A\",\"#19d3f3\",\"#FF6692\",\"#B6E880\",\"#FF97FF\",\"#FECB52\"],\"font\":{\"color\":\"#2a3f5f\"},\"geo\":{\"bgcolor\":\"white\",\"lakecolor\":\"white\",\"landcolor\":\"#E5ECF6\",\"showlakes\":true,\"showland\":true,\"subunitcolor\":\"white\"},\"hoverlabel\":{\"align\":\"left\"},\"hovermode\":\"closest\",\"mapbox\":{\"style\":\"light\"},\"paper_bgcolor\":\"white\",\"plot_bgcolor\":\"#E5ECF6\",\"polar\":{\"angularaxis\":{\"gridcolor\":\"white\",\"linecolor\":\"white\",\"ticks\":\"\"},\"bgcolor\":\"#E5ECF6\",\"radialaxis\":{\"gridcolor\":\"white\",\"linecolor\":\"white\",\"ticks\":\"\"}},\"scene\":{\"xaxis\":{\"backgroundcolor\":\"#E5ECF6\",\"gridcolor\":\"white\",\"gridwidth\":2,\"linecolor\":\"white\",\"showbackground\":true,\"ticks\":\"\",\"zerolinecolor\":\"white\"},\"yaxis\":{\"backgroundcolor\":\"#E5ECF6\",\"gridcolor\":\"white\",\"gridwidth\":2,\"linecolor\":\"white\",\"showbackground\":true,\"ticks\":\"\",\"zerolinecolor\":\"white\"},\"zaxis\":{\"backgroundcolor\":\"#E5ECF6\",\"gridcolor\":\"white\",\"gridwidth\":2,\"linecolor\":\"white\",\"showbackground\":true,\"ticks\":\"\",\"zerolinecolor\":\"white\"}},\"shapedefaults\":{\"line\":{\"color\":\"#2a3f5f\"}},\"ternary\":{\"aaxis\":{\"gridcolor\":\"white\",\"linecolor\":\"white\",\"ticks\":\"\"},\"baxis\":{\"gridcolor\":\"white\",\"linecolor\":\"white\",\"ticks\":\"\"},\"bgcolor\":\"#E5ECF6\",\"caxis\":{\"gridcolor\":\"white\",\"linecolor\":\"white\",\"ticks\":\"\"}},\"title\":{\"x\":0.05},\"xaxis\":{\"automargin\":true,\"gridcolor\":\"white\",\"linecolor\":\"white\",\"ticks\":\"\",\"title\":{\"standoff\":15},\"zerolinecolor\":\"white\",\"zerolinewidth\":2},\"yaxis\":{\"automargin\":true,\"gridcolor\":\"white\",\"linecolor\":\"white\",\"ticks\":\"\",\"title\":{\"standoff\":15},\"zerolinecolor\":\"white\",\"zerolinewidth\":2}}},\"title\":{\"text\":\"Feature Importance<br><sub>May display fewer features due to feature selection</sub>\"},\"xaxis\":{\"title\":{\"text\":\"Feature Importance\"}},\"yaxis\":{\"title\":{\"text\":\"Feature\"},\"type\":\"category\"}},                        {\"responsive\": true}                    ).then(function(){\n",
              "                            \n",
              "var gd = document.getElementById('20651c54-353e-4bb9-b87a-02c6b8807c04');\n",
              "var x = new MutationObserver(function (mutations, observer) {{\n",
              "        var display = window.getComputedStyle(gd).display;\n",
              "        if (!display || display === 'none') {{\n",
              "            console.log([gd, 'removed!']);\n",
              "            Plotly.purge(gd);\n",
              "            observer.disconnect();\n",
              "        }}\n",
              "}});\n",
              "\n",
              "// Listen for the removal of the full notebook cells\n",
              "var notebookContainer = gd.closest('#notebook-container');\n",
              "if (notebookContainer) {{\n",
              "    x.observe(notebookContainer, {childList: true});\n",
              "}}\n",
              "\n",
              "// Listen for the clearing of the current output cell\n",
              "var outputEl = gd.closest('.output');\n",
              "if (outputEl) {{\n",
              "    x.observe(outputEl, {childList: true});\n",
              "}}\n",
              "\n",
              "                        })                };                            </script>        </div>\n",
              "</body>\n",
              "</html>"
            ]
          },
          "metadata": {
            "tags": []
          }
        },
        {
          "output_type": "display_data",
          "data": {
            "text/html": [
              "<html>\n",
              "<head><meta charset=\"utf-8\" /></head>\n",
              "<body>\n",
              "    <div>            <script src=\"https://cdnjs.cloudflare.com/ajax/libs/mathjax/2.7.5/MathJax.js?config=TeX-AMS-MML_SVG\"></script><script type=\"text/javascript\">if (window.MathJax) {MathJax.Hub.Config({SVG: {font: \"STIX-Web\"}});}</script>                <script type=\"text/javascript\">window.PlotlyConfig = {MathJaxConfig: 'local'};</script>\n",
              "        <script src=\"https://cdn.plot.ly/plotly-2.2.0.min.js\"></script>                <div id=\"7020cabe-6d1d-4ad6-9c58-99d8c24b9b44\" class=\"plotly-graph-div\" style=\"height:800px; width:100%;\"></div>            <script type=\"text/javascript\">                                    window.PLOTLYENV=window.PLOTLYENV || {};                                    if (document.getElementById(\"7020cabe-6d1d-4ad6-9c58-99d8c24b9b44\")) {                    Plotly.newPlot(                        \"7020cabe-6d1d-4ad6-9c58-99d8c24b9b44\",                        [{\"orientation\":\"h\",\"type\":\"bar\",\"x\":[0.0,0.24885210194171287,1.1064510441844333,4.768851418972833,93.87584543490102],\"y\":[\"action\",\"amount\",\"zip\",\"state\",\"job\"]}],                        {\"height\":800,\"template\":{\"data\":{\"bar\":[{\"error_x\":{\"color\":\"#2a3f5f\"},\"error_y\":{\"color\":\"#2a3f5f\"},\"marker\":{\"line\":{\"color\":\"#E5ECF6\",\"width\":0.5},\"pattern\":{\"fillmode\":\"overlay\",\"size\":10,\"solidity\":0.2}},\"type\":\"bar\"}],\"barpolar\":[{\"marker\":{\"line\":{\"color\":\"#E5ECF6\",\"width\":0.5},\"pattern\":{\"fillmode\":\"overlay\",\"size\":10,\"solidity\":0.2}},\"type\":\"barpolar\"}],\"carpet\":[{\"aaxis\":{\"endlinecolor\":\"#2a3f5f\",\"gridcolor\":\"white\",\"linecolor\":\"white\",\"minorgridcolor\":\"white\",\"startlinecolor\":\"#2a3f5f\"},\"baxis\":{\"endlinecolor\":\"#2a3f5f\",\"gridcolor\":\"white\",\"linecolor\":\"white\",\"minorgridcolor\":\"white\",\"startlinecolor\":\"#2a3f5f\"},\"type\":\"carpet\"}],\"choropleth\":[{\"colorbar\":{\"outlinewidth\":0,\"ticks\":\"\"},\"type\":\"choropleth\"}],\"contour\":[{\"colorbar\":{\"outlinewidth\":0,\"ticks\":\"\"},\"colorscale\":[[0.0,\"#0d0887\"],[0.1111111111111111,\"#46039f\"],[0.2222222222222222,\"#7201a8\"],[0.3333333333333333,\"#9c179e\"],[0.4444444444444444,\"#bd3786\"],[0.5555555555555556,\"#d8576b\"],[0.6666666666666666,\"#ed7953\"],[0.7777777777777778,\"#fb9f3a\"],[0.8888888888888888,\"#fdca26\"],[1.0,\"#f0f921\"]],\"type\":\"contour\"}],\"contourcarpet\":[{\"colorbar\":{\"outlinewidth\":0,\"ticks\":\"\"},\"type\":\"contourcarpet\"}],\"heatmap\":[{\"colorbar\":{\"outlinewidth\":0,\"ticks\":\"\"},\"colorscale\":[[0.0,\"#0d0887\"],[0.1111111111111111,\"#46039f\"],[0.2222222222222222,\"#7201a8\"],[0.3333333333333333,\"#9c179e\"],[0.4444444444444444,\"#bd3786\"],[0.5555555555555556,\"#d8576b\"],[0.6666666666666666,\"#ed7953\"],[0.7777777777777778,\"#fb9f3a\"],[0.8888888888888888,\"#fdca26\"],[1.0,\"#f0f921\"]],\"type\":\"heatmap\"}],\"heatmapgl\":[{\"colorbar\":{\"outlinewidth\":0,\"ticks\":\"\"},\"colorscale\":[[0.0,\"#0d0887\"],[0.1111111111111111,\"#46039f\"],[0.2222222222222222,\"#7201a8\"],[0.3333333333333333,\"#9c179e\"],[0.4444444444444444,\"#bd3786\"],[0.5555555555555556,\"#d8576b\"],[0.6666666666666666,\"#ed7953\"],[0.7777777777777778,\"#fb9f3a\"],[0.8888888888888888,\"#fdca26\"],[1.0,\"#f0f921\"]],\"type\":\"heatmapgl\"}],\"histogram\":[{\"marker\":{\"pattern\":{\"fillmode\":\"overlay\",\"size\":10,\"solidity\":0.2}},\"type\":\"histogram\"}],\"histogram2d\":[{\"colorbar\":{\"outlinewidth\":0,\"ticks\":\"\"},\"colorscale\":[[0.0,\"#0d0887\"],[0.1111111111111111,\"#46039f\"],[0.2222222222222222,\"#7201a8\"],[0.3333333333333333,\"#9c179e\"],[0.4444444444444444,\"#bd3786\"],[0.5555555555555556,\"#d8576b\"],[0.6666666666666666,\"#ed7953\"],[0.7777777777777778,\"#fb9f3a\"],[0.8888888888888888,\"#fdca26\"],[1.0,\"#f0f921\"]],\"type\":\"histogram2d\"}],\"histogram2dcontour\":[{\"colorbar\":{\"outlinewidth\":0,\"ticks\":\"\"},\"colorscale\":[[0.0,\"#0d0887\"],[0.1111111111111111,\"#46039f\"],[0.2222222222222222,\"#7201a8\"],[0.3333333333333333,\"#9c179e\"],[0.4444444444444444,\"#bd3786\"],[0.5555555555555556,\"#d8576b\"],[0.6666666666666666,\"#ed7953\"],[0.7777777777777778,\"#fb9f3a\"],[0.8888888888888888,\"#fdca26\"],[1.0,\"#f0f921\"]],\"type\":\"histogram2dcontour\"}],\"mesh3d\":[{\"colorbar\":{\"outlinewidth\":0,\"ticks\":\"\"},\"type\":\"mesh3d\"}],\"parcoords\":[{\"line\":{\"colorbar\":{\"outlinewidth\":0,\"ticks\":\"\"}},\"type\":\"parcoords\"}],\"pie\":[{\"automargin\":true,\"type\":\"pie\"}],\"scatter\":[{\"marker\":{\"colorbar\":{\"outlinewidth\":0,\"ticks\":\"\"}},\"type\":\"scatter\"}],\"scatter3d\":[{\"line\":{\"colorbar\":{\"outlinewidth\":0,\"ticks\":\"\"}},\"marker\":{\"colorbar\":{\"outlinewidth\":0,\"ticks\":\"\"}},\"type\":\"scatter3d\"}],\"scattercarpet\":[{\"marker\":{\"colorbar\":{\"outlinewidth\":0,\"ticks\":\"\"}},\"type\":\"scattercarpet\"}],\"scattergeo\":[{\"marker\":{\"colorbar\":{\"outlinewidth\":0,\"ticks\":\"\"}},\"type\":\"scattergeo\"}],\"scattergl\":[{\"marker\":{\"colorbar\":{\"outlinewidth\":0,\"ticks\":\"\"}},\"type\":\"scattergl\"}],\"scattermapbox\":[{\"marker\":{\"colorbar\":{\"outlinewidth\":0,\"ticks\":\"\"}},\"type\":\"scattermapbox\"}],\"scatterpolar\":[{\"marker\":{\"colorbar\":{\"outlinewidth\":0,\"ticks\":\"\"}},\"type\":\"scatterpolar\"}],\"scatterpolargl\":[{\"marker\":{\"colorbar\":{\"outlinewidth\":0,\"ticks\":\"\"}},\"type\":\"scatterpolargl\"}],\"scatterternary\":[{\"marker\":{\"colorbar\":{\"outlinewidth\":0,\"ticks\":\"\"}},\"type\":\"scatterternary\"}],\"surface\":[{\"colorbar\":{\"outlinewidth\":0,\"ticks\":\"\"},\"colorscale\":[[0.0,\"#0d0887\"],[0.1111111111111111,\"#46039f\"],[0.2222222222222222,\"#7201a8\"],[0.3333333333333333,\"#9c179e\"],[0.4444444444444444,\"#bd3786\"],[0.5555555555555556,\"#d8576b\"],[0.6666666666666666,\"#ed7953\"],[0.7777777777777778,\"#fb9f3a\"],[0.8888888888888888,\"#fdca26\"],[1.0,\"#f0f921\"]],\"type\":\"surface\"}],\"table\":[{\"cells\":{\"fill\":{\"color\":\"#EBF0F8\"},\"line\":{\"color\":\"white\"}},\"header\":{\"fill\":{\"color\":\"#C8D4E3\"},\"line\":{\"color\":\"white\"}},\"type\":\"table\"}]},\"layout\":{\"annotationdefaults\":{\"arrowcolor\":\"#2a3f5f\",\"arrowhead\":0,\"arrowwidth\":1},\"autotypenumbers\":\"strict\",\"coloraxis\":{\"colorbar\":{\"outlinewidth\":0,\"ticks\":\"\"}},\"colorscale\":{\"diverging\":[[0,\"#8e0152\"],[0.1,\"#c51b7d\"],[0.2,\"#de77ae\"],[0.3,\"#f1b6da\"],[0.4,\"#fde0ef\"],[0.5,\"#f7f7f7\"],[0.6,\"#e6f5d0\"],[0.7,\"#b8e186\"],[0.8,\"#7fbc41\"],[0.9,\"#4d9221\"],[1,\"#276419\"]],\"sequential\":[[0.0,\"#0d0887\"],[0.1111111111111111,\"#46039f\"],[0.2222222222222222,\"#7201a8\"],[0.3333333333333333,\"#9c179e\"],[0.4444444444444444,\"#bd3786\"],[0.5555555555555556,\"#d8576b\"],[0.6666666666666666,\"#ed7953\"],[0.7777777777777778,\"#fb9f3a\"],[0.8888888888888888,\"#fdca26\"],[1.0,\"#f0f921\"]],\"sequentialminus\":[[0.0,\"#0d0887\"],[0.1111111111111111,\"#46039f\"],[0.2222222222222222,\"#7201a8\"],[0.3333333333333333,\"#9c179e\"],[0.4444444444444444,\"#bd3786\"],[0.5555555555555556,\"#d8576b\"],[0.6666666666666666,\"#ed7953\"],[0.7777777777777778,\"#fb9f3a\"],[0.8888888888888888,\"#fdca26\"],[1.0,\"#f0f921\"]]},\"colorway\":[\"#636efa\",\"#EF553B\",\"#00cc96\",\"#ab63fa\",\"#FFA15A\",\"#19d3f3\",\"#FF6692\",\"#B6E880\",\"#FF97FF\",\"#FECB52\"],\"font\":{\"color\":\"#2a3f5f\"},\"geo\":{\"bgcolor\":\"white\",\"lakecolor\":\"white\",\"landcolor\":\"#E5ECF6\",\"showlakes\":true,\"showland\":true,\"subunitcolor\":\"white\"},\"hoverlabel\":{\"align\":\"left\"},\"hovermode\":\"closest\",\"mapbox\":{\"style\":\"light\"},\"paper_bgcolor\":\"white\",\"plot_bgcolor\":\"#E5ECF6\",\"polar\":{\"angularaxis\":{\"gridcolor\":\"white\",\"linecolor\":\"white\",\"ticks\":\"\"},\"bgcolor\":\"#E5ECF6\",\"radialaxis\":{\"gridcolor\":\"white\",\"linecolor\":\"white\",\"ticks\":\"\"}},\"scene\":{\"xaxis\":{\"backgroundcolor\":\"#E5ECF6\",\"gridcolor\":\"white\",\"gridwidth\":2,\"linecolor\":\"white\",\"showbackground\":true,\"ticks\":\"\",\"zerolinecolor\":\"white\"},\"yaxis\":{\"backgroundcolor\":\"#E5ECF6\",\"gridcolor\":\"white\",\"gridwidth\":2,\"linecolor\":\"white\",\"showbackground\":true,\"ticks\":\"\",\"zerolinecolor\":\"white\"},\"zaxis\":{\"backgroundcolor\":\"#E5ECF6\",\"gridcolor\":\"white\",\"gridwidth\":2,\"linecolor\":\"white\",\"showbackground\":true,\"ticks\":\"\",\"zerolinecolor\":\"white\"}},\"shapedefaults\":{\"line\":{\"color\":\"#2a3f5f\"}},\"ternary\":{\"aaxis\":{\"gridcolor\":\"white\",\"linecolor\":\"white\",\"ticks\":\"\"},\"baxis\":{\"gridcolor\":\"white\",\"linecolor\":\"white\",\"ticks\":\"\"},\"bgcolor\":\"#E5ECF6\",\"caxis\":{\"gridcolor\":\"white\",\"linecolor\":\"white\",\"ticks\":\"\"}},\"title\":{\"x\":0.05},\"xaxis\":{\"automargin\":true,\"gridcolor\":\"white\",\"linecolor\":\"white\",\"ticks\":\"\",\"title\":{\"standoff\":15},\"zerolinecolor\":\"white\",\"zerolinewidth\":2},\"yaxis\":{\"automargin\":true,\"gridcolor\":\"white\",\"linecolor\":\"white\",\"ticks\":\"\",\"title\":{\"standoff\":15},\"zerolinecolor\":\"white\",\"zerolinewidth\":2}}},\"title\":{\"text\":\"Feature Importance<br><sub>May display fewer features due to feature selection</sub>\"},\"xaxis\":{\"title\":{\"text\":\"Feature Importance\"}},\"yaxis\":{\"title\":{\"text\":\"Feature\"},\"type\":\"category\"}},                        {\"responsive\": true}                    ).then(function(){\n",
              "                            \n",
              "var gd = document.getElementById('7020cabe-6d1d-4ad6-9c58-99d8c24b9b44');\n",
              "var x = new MutationObserver(function (mutations, observer) {{\n",
              "        var display = window.getComputedStyle(gd).display;\n",
              "        if (!display || display === 'none') {{\n",
              "            console.log([gd, 'removed!']);\n",
              "            Plotly.purge(gd);\n",
              "            observer.disconnect();\n",
              "        }}\n",
              "}});\n",
              "\n",
              "// Listen for the removal of the full notebook cells\n",
              "var notebookContainer = gd.closest('#notebook-container');\n",
              "if (notebookContainer) {{\n",
              "    x.observe(notebookContainer, {childList: true});\n",
              "}}\n",
              "\n",
              "// Listen for the clearing of the current output cell\n",
              "var outputEl = gd.closest('.output');\n",
              "if (outputEl) {{\n",
              "    x.observe(outputEl, {childList: true});\n",
              "}}\n",
              "\n",
              "                        })                };                            </script>        </div>\n",
              "</body>\n",
              "</html>"
            ]
          },
          "metadata": {
            "tags": []
          }
        }
      ]
    },
    {
      "cell_type": "markdown",
      "metadata": {
        "id": "cTuku7NhhUkB"
      },
      "source": [
        "### Which features have been engineered"
      ]
    },
    {
      "cell_type": "code",
      "metadata": {
        "colab": {
          "base_uri": "https://localhost:8080/"
        },
        "id": "tw84GuYUNjDE",
        "outputId": "c2c19dd0-ab4c-461c-fa5b-2534255ef2bd"
      },
      "source": [
        "best_pipeline_auc.input_feature_names\n",
        "best_pipeline.input_feature_names"
      ],
      "execution_count": 116,
      "outputs": [
        {
          "output_type": "execute_result",
          "data": {
            "text/plain": [
              "{'CatBoost Classifier': ['job', 'state', 'zip', 'action', 'amount'],\n",
              " 'Imputer': ['job', 'state', 'zip', 'action', 'amount'],\n",
              " 'SMOTENC Oversampler': ['job', 'state', 'zip', 'action', 'amount']}"
            ]
          },
          "metadata": {
            "tags": []
          },
          "execution_count": 116
        },
        {
          "output_type": "execute_result",
          "data": {
            "text/plain": [
              "{'CatBoost Classifier': ['job', 'state', 'zip', 'action', 'amount'],\n",
              " 'Imputer': ['job', 'state', 'zip', 'action', 'amount'],\n",
              " 'SMOTENC Oversampler': ['job', 'state', 'zip', 'action', 'amount']}"
            ]
          },
          "metadata": {
            "tags": []
          },
          "execution_count": 116
        }
      ]
    },
    {
      "cell_type": "markdown",
      "metadata": {
        "id": "WqG7EINDhYio"
      },
      "source": [
        "### Our pipeline flow"
      ]
    },
    {
      "cell_type": "code",
      "metadata": {
        "colab": {
          "base_uri": "https://localhost:8080/",
          "height": 411
        },
        "id": "5QvyAG9wT-bS",
        "outputId": "22ba3702-ebb8-4acd-fee6-3849ff59e79b"
      },
      "source": [
        "#visualizing best pipeline flow \n",
        "best_pipeline_auc.graph()\n",
        "best_pipeline.graph()"
      ],
      "execution_count": 121,
      "outputs": [
        {
          "output_type": "execute_result",
          "data": {
            "text/plain": [
              "<graphviz.dot.Digraph at 0x7fd49cb65990>"
            ],
            "image/svg+xml": "<?xml version=\"1.0\" encoding=\"UTF-8\" standalone=\"no\"?>\n<!DOCTYPE svg PUBLIC \"-//W3C//DTD SVG 1.1//EN\"\n \"http://www.w3.org/Graphics/SVG/1.1/DTD/svg11.dtd\">\n<!-- Generated by graphviz version 2.40.1 (20161225.0304)\n -->\n<!-- Title: %3 Pages: 1 -->\n<svg width=\"704pt\" height=\"145pt\"\n viewBox=\"0.00 0.00 704.00 145.00\" xmlns=\"http://www.w3.org/2000/svg\" xmlns:xlink=\"http://www.w3.org/1999/xlink\">\n<g id=\"graph0\" class=\"graph\" transform=\"scale(1 1) rotate(0) translate(4 141)\">\n<title>%3</title>\n<polygon fill=\"#ffffff\" stroke=\"transparent\" points=\"-4,4 -4,-141 700,-141 700,4 -4,4\"/>\n<!-- Imputer -->\n<g id=\"node1\" class=\"node\">\n<title>Imputer</title>\n<polygon fill=\"none\" stroke=\"#000000\" points=\"0,-23 0,-114 270,-114 270,-23 0,-23\"/>\n<text text-anchor=\"middle\" x=\"135\" y=\"-98.8\" font-family=\"Times,serif\" font-size=\"14.00\" fill=\"#000000\">Imputer</text>\n<polyline fill=\"none\" stroke=\"#000000\" points=\"0,-91 270,-91 \"/>\n<text text-anchor=\"start\" x=\"8\" y=\"-75.8\" font-family=\"Times,serif\" font-size=\"14.00\" fill=\"#000000\">categorical_impute_strategy : most_frequent</text>\n<text text-anchor=\"start\" x=\"8\" y=\"-60.8\" font-family=\"Times,serif\" font-size=\"14.00\" fill=\"#000000\">numeric_impute_strategy : median</text>\n<text text-anchor=\"start\" x=\"8\" y=\"-45.8\" font-family=\"Times,serif\" font-size=\"14.00\" fill=\"#000000\">categorical_fill_value : None</text>\n<text text-anchor=\"start\" x=\"8\" y=\"-30.8\" font-family=\"Times,serif\" font-size=\"14.00\" fill=\"#000000\">numeric_fill_value : None</text>\n</g>\n<!-- SMOTENC Oversampler -->\n<g id=\"node2\" class=\"node\">\n<title>SMOTENC Oversampler</title>\n<polygon fill=\"none\" stroke=\"#000000\" points=\"306,-8 306,-129 492,-129 492,-8 306,-8\"/>\n<text text-anchor=\"middle\" x=\"399\" y=\"-113.8\" font-family=\"Times,serif\" font-size=\"14.00\" fill=\"#000000\">SMOTENC Oversampler</text>\n<polyline fill=\"none\" stroke=\"#000000\" points=\"306,-106 492,-106 \"/>\n<text text-anchor=\"start\" x=\"314\" y=\"-90.8\" font-family=\"Times,serif\" font-size=\"14.00\" fill=\"#000000\">sampling_ratio : 0.25</text>\n<text text-anchor=\"start\" x=\"314\" y=\"-75.8\" font-family=\"Times,serif\" font-size=\"14.00\" fill=\"#000000\">k_neighbors_default : 5</text>\n<text text-anchor=\"start\" x=\"314\" y=\"-60.8\" font-family=\"Times,serif\" font-size=\"14.00\" fill=\"#000000\">n_jobs : &#45;1</text>\n<text text-anchor=\"start\" x=\"314\" y=\"-45.8\" font-family=\"Times,serif\" font-size=\"14.00\" fill=\"#000000\">sampling_ratio_dict : None</text>\n<text text-anchor=\"start\" x=\"314\" y=\"-30.8\" font-family=\"Times,serif\" font-size=\"14.00\" fill=\"#000000\">categorical_features : [0, 1, 3]</text>\n<text text-anchor=\"start\" x=\"314\" y=\"-15.8\" font-family=\"Times,serif\" font-size=\"14.00\" fill=\"#000000\">k_neighbors : 5</text>\n</g>\n<!-- Imputer&#45;&gt;SMOTENC Oversampler -->\n<g id=\"edge1\" class=\"edge\">\n<title>Imputer&#45;&gt;SMOTENC Oversampler</title>\n<path fill=\"none\" stroke=\"#000000\" d=\"M270.0935,-68.5C270.0935,-68.5 295.7436,-68.5 295.7436,-68.5\"/>\n<polygon fill=\"#000000\" stroke=\"#000000\" points=\"295.7436,-72.0001 305.7436,-68.5 295.7435,-65.0001 295.7436,-72.0001\"/>\n</g>\n<!-- CatBoost Classifier -->\n<g id=\"node3\" class=\"node\">\n<title>CatBoost Classifier</title>\n<polygon fill=\"none\" stroke=\"#000000\" points=\"528,-.5 528,-136.5 696,-136.5 696,-.5 528,-.5\"/>\n<text text-anchor=\"middle\" x=\"612\" y=\"-121.3\" font-family=\"Times,serif\" font-size=\"14.00\" fill=\"#000000\">CatBoost Classifier</text>\n<polyline fill=\"none\" stroke=\"#000000\" points=\"528,-113.5 696,-113.5 \"/>\n<text text-anchor=\"start\" x=\"536\" y=\"-98.3\" font-family=\"Times,serif\" font-size=\"14.00\" fill=\"#000000\">n_estimators : 74</text>\n<text text-anchor=\"start\" x=\"536\" y=\"-83.3\" font-family=\"Times,serif\" font-size=\"14.00\" fill=\"#000000\">eta : 0.06</text>\n<text text-anchor=\"start\" x=\"536\" y=\"-68.3\" font-family=\"Times,serif\" font-size=\"14.00\" fill=\"#000000\">max_depth : 8</text>\n<text text-anchor=\"start\" x=\"536\" y=\"-53.3\" font-family=\"Times,serif\" font-size=\"14.00\" fill=\"#000000\">bootstrap_type : None</text>\n<text text-anchor=\"start\" x=\"536\" y=\"-38.3\" font-family=\"Times,serif\" font-size=\"14.00\" fill=\"#000000\">silent : True</text>\n<text text-anchor=\"start\" x=\"536\" y=\"-23.3\" font-family=\"Times,serif\" font-size=\"14.00\" fill=\"#000000\">allow_writing_files : False</text>\n<text text-anchor=\"start\" x=\"536\" y=\"-8.3\" font-family=\"Times,serif\" font-size=\"14.00\" fill=\"#000000\">n_jobs : &#45;1</text>\n</g>\n<!-- SMOTENC Oversampler&#45;&gt;CatBoost Classifier -->\n<g id=\"edge2\" class=\"edge\">\n<title>SMOTENC Oversampler&#45;&gt;CatBoost Classifier</title>\n<path fill=\"none\" stroke=\"#000000\" d=\"M492.115,-48.1667C492.115,-48.1667 517.7869,-48.1667 517.7869,-48.1667\"/>\n<polygon fill=\"#000000\" stroke=\"#000000\" points=\"517.7869,-51.6668 527.7869,-48.1667 517.7869,-44.6668 517.7869,-51.6668\"/>\n</g>\n<!-- SMOTENC Oversampler&#45;&gt;CatBoost Classifier -->\n<g id=\"edge3\" class=\"edge\">\n<title>SMOTENC Oversampler&#45;&gt;CatBoost Classifier</title>\n<path fill=\"none\" stroke=\"#000000\" d=\"M492.115,-88.8333C492.115,-88.8333 517.7869,-88.8333 517.7869,-88.8333\"/>\n<polygon fill=\"#000000\" stroke=\"#000000\" points=\"517.7869,-92.3334 527.7869,-88.8333 517.7869,-85.3334 517.7869,-92.3334\"/>\n</g>\n</g>\n</svg>\n"
          },
          "metadata": {
            "tags": []
          },
          "execution_count": 121
        },
        {
          "output_type": "execute_result",
          "data": {
            "text/plain": [
              "<graphviz.dot.Digraph at 0x7fd49cb65f90>"
            ],
            "image/svg+xml": "<?xml version=\"1.0\" encoding=\"UTF-8\" standalone=\"no\"?>\n<!DOCTYPE svg PUBLIC \"-//W3C//DTD SVG 1.1//EN\"\n \"http://www.w3.org/Graphics/SVG/1.1/DTD/svg11.dtd\">\n<!-- Generated by graphviz version 2.40.1 (20161225.0304)\n -->\n<!-- Title: %3 Pages: 1 -->\n<svg width=\"704pt\" height=\"145pt\"\n viewBox=\"0.00 0.00 704.00 145.00\" xmlns=\"http://www.w3.org/2000/svg\" xmlns:xlink=\"http://www.w3.org/1999/xlink\">\n<g id=\"graph0\" class=\"graph\" transform=\"scale(1 1) rotate(0) translate(4 141)\">\n<title>%3</title>\n<polygon fill=\"#ffffff\" stroke=\"transparent\" points=\"-4,4 -4,-141 700,-141 700,4 -4,4\"/>\n<!-- Imputer -->\n<g id=\"node1\" class=\"node\">\n<title>Imputer</title>\n<polygon fill=\"none\" stroke=\"#000000\" points=\"0,-23 0,-114 270,-114 270,-23 0,-23\"/>\n<text text-anchor=\"middle\" x=\"135\" y=\"-98.8\" font-family=\"Times,serif\" font-size=\"14.00\" fill=\"#000000\">Imputer</text>\n<polyline fill=\"none\" stroke=\"#000000\" points=\"0,-91 270,-91 \"/>\n<text text-anchor=\"start\" x=\"8\" y=\"-75.8\" font-family=\"Times,serif\" font-size=\"14.00\" fill=\"#000000\">categorical_impute_strategy : most_frequent</text>\n<text text-anchor=\"start\" x=\"8\" y=\"-60.8\" font-family=\"Times,serif\" font-size=\"14.00\" fill=\"#000000\">numeric_impute_strategy : mean</text>\n<text text-anchor=\"start\" x=\"8\" y=\"-45.8\" font-family=\"Times,serif\" font-size=\"14.00\" fill=\"#000000\">categorical_fill_value : None</text>\n<text text-anchor=\"start\" x=\"8\" y=\"-30.8\" font-family=\"Times,serif\" font-size=\"14.00\" fill=\"#000000\">numeric_fill_value : None</text>\n</g>\n<!-- SMOTENC Oversampler -->\n<g id=\"node2\" class=\"node\">\n<title>SMOTENC Oversampler</title>\n<polygon fill=\"none\" stroke=\"#000000\" points=\"306,-8 306,-129 492,-129 492,-8 306,-8\"/>\n<text text-anchor=\"middle\" x=\"399\" y=\"-113.8\" font-family=\"Times,serif\" font-size=\"14.00\" fill=\"#000000\">SMOTENC Oversampler</text>\n<polyline fill=\"none\" stroke=\"#000000\" points=\"306,-106 492,-106 \"/>\n<text text-anchor=\"start\" x=\"314\" y=\"-90.8\" font-family=\"Times,serif\" font-size=\"14.00\" fill=\"#000000\">sampling_ratio : 0.25</text>\n<text text-anchor=\"start\" x=\"314\" y=\"-75.8\" font-family=\"Times,serif\" font-size=\"14.00\" fill=\"#000000\">k_neighbors_default : 5</text>\n<text text-anchor=\"start\" x=\"314\" y=\"-60.8\" font-family=\"Times,serif\" font-size=\"14.00\" fill=\"#000000\">n_jobs : &#45;1</text>\n<text text-anchor=\"start\" x=\"314\" y=\"-45.8\" font-family=\"Times,serif\" font-size=\"14.00\" fill=\"#000000\">sampling_ratio_dict : None</text>\n<text text-anchor=\"start\" x=\"314\" y=\"-30.8\" font-family=\"Times,serif\" font-size=\"14.00\" fill=\"#000000\">categorical_features : [0, 1, 3]</text>\n<text text-anchor=\"start\" x=\"314\" y=\"-15.8\" font-family=\"Times,serif\" font-size=\"14.00\" fill=\"#000000\">k_neighbors : 5</text>\n</g>\n<!-- Imputer&#45;&gt;SMOTENC Oversampler -->\n<g id=\"edge1\" class=\"edge\">\n<title>Imputer&#45;&gt;SMOTENC Oversampler</title>\n<path fill=\"none\" stroke=\"#000000\" d=\"M270.0935,-68.5C270.0935,-68.5 295.7436,-68.5 295.7436,-68.5\"/>\n<polygon fill=\"#000000\" stroke=\"#000000\" points=\"295.7436,-72.0001 305.7436,-68.5 295.7435,-65.0001 295.7436,-72.0001\"/>\n</g>\n<!-- CatBoost Classifier -->\n<g id=\"node3\" class=\"node\">\n<title>CatBoost Classifier</title>\n<polygon fill=\"none\" stroke=\"#000000\" points=\"528,-.5 528,-136.5 696,-136.5 696,-.5 528,-.5\"/>\n<text text-anchor=\"middle\" x=\"612\" y=\"-121.3\" font-family=\"Times,serif\" font-size=\"14.00\" fill=\"#000000\">CatBoost Classifier</text>\n<polyline fill=\"none\" stroke=\"#000000\" points=\"528,-113.5 696,-113.5 \"/>\n<text text-anchor=\"start\" x=\"536\" y=\"-98.3\" font-family=\"Times,serif\" font-size=\"14.00\" fill=\"#000000\">n_estimators : 10</text>\n<text text-anchor=\"start\" x=\"536\" y=\"-83.3\" font-family=\"Times,serif\" font-size=\"14.00\" fill=\"#000000\">eta : 0.03</text>\n<text text-anchor=\"start\" x=\"536\" y=\"-68.3\" font-family=\"Times,serif\" font-size=\"14.00\" fill=\"#000000\">max_depth : 6</text>\n<text text-anchor=\"start\" x=\"536\" y=\"-53.3\" font-family=\"Times,serif\" font-size=\"14.00\" fill=\"#000000\">bootstrap_type : None</text>\n<text text-anchor=\"start\" x=\"536\" y=\"-38.3\" font-family=\"Times,serif\" font-size=\"14.00\" fill=\"#000000\">silent : True</text>\n<text text-anchor=\"start\" x=\"536\" y=\"-23.3\" font-family=\"Times,serif\" font-size=\"14.00\" fill=\"#000000\">allow_writing_files : False</text>\n<text text-anchor=\"start\" x=\"536\" y=\"-8.3\" font-family=\"Times,serif\" font-size=\"14.00\" fill=\"#000000\">n_jobs : &#45;1</text>\n</g>\n<!-- SMOTENC Oversampler&#45;&gt;CatBoost Classifier -->\n<g id=\"edge2\" class=\"edge\">\n<title>SMOTENC Oversampler&#45;&gt;CatBoost Classifier</title>\n<path fill=\"none\" stroke=\"#000000\" d=\"M492.115,-48.1667C492.115,-48.1667 517.7869,-48.1667 517.7869,-48.1667\"/>\n<polygon fill=\"#000000\" stroke=\"#000000\" points=\"517.7869,-51.6668 527.7869,-48.1667 517.7869,-44.6668 517.7869,-51.6668\"/>\n</g>\n<!-- SMOTENC Oversampler&#45;&gt;CatBoost Classifier -->\n<g id=\"edge3\" class=\"edge\">\n<title>SMOTENC Oversampler&#45;&gt;CatBoost Classifier</title>\n<path fill=\"none\" stroke=\"#000000\" d=\"M492.115,-88.8333C492.115,-88.8333 517.7869,-88.8333 517.7869,-88.8333\"/>\n<polygon fill=\"#000000\" stroke=\"#000000\" points=\"517.7869,-92.3334 527.7869,-88.8333 517.7869,-85.3334 517.7869,-92.3334\"/>\n</g>\n</g>\n</svg>\n"
          },
          "metadata": {
            "tags": []
          },
          "execution_count": 121
        }
      ]
    },
    {
      "cell_type": "markdown",
      "metadata": {
        "id": "UkZg1CDhhcdi"
      },
      "source": [
        "### Save model for subsequent use"
      ]
    },
    {
      "cell_type": "code",
      "metadata": {
        "id": "KACesOTtOPSJ"
      },
      "source": [
        "best_pipeline.save(\"model.pkl\")"
      ],
      "execution_count": null,
      "outputs": []
    },
    {
      "cell_type": "code",
      "metadata": {
        "id": "pV-BCEBhTl1u"
      },
      "source": [
        "check_model=automl.load('model.pkl')"
      ],
      "execution_count": null,
      "outputs": []
    },
    {
      "cell_type": "code",
      "metadata": {
        "id": "1LQuaYkFTplK"
      },
      "source": [
        "check_model.predict_proba(X_holdout).to_dataframe()"
      ],
      "execution_count": null,
      "outputs": []
    },
    {
      "cell_type": "markdown",
      "metadata": {
        "id": "MKQpdKRqhjZH"
      },
      "source": [
        "### ROC graph and Confusion matrix"
      ]
    },
    {
      "cell_type": "code",
      "metadata": {
        "colab": {
          "base_uri": "https://localhost:8080/",
          "height": 542
        },
        "id": "U4WUCYxYVMPz",
        "outputId": "05c45672-1a03-4501-c8cf-d42e36889142"
      },
      "source": [
        "# pipeline trained with log loss\n",
        "y_pred = best_pipeline_auc.predict(X_holdout)\n",
        "graph_confusion_matrix(y_holdout, y_pred)\n",
        "\n"
      ],
      "execution_count": 122,
      "outputs": [
        {
          "output_type": "display_data",
          "data": {
            "text/html": [
              "<html>\n",
              "<head><meta charset=\"utf-8\" /></head>\n",
              "<body>\n",
              "    <div>            <script src=\"https://cdnjs.cloudflare.com/ajax/libs/mathjax/2.7.5/MathJax.js?config=TeX-AMS-MML_SVG\"></script><script type=\"text/javascript\">if (window.MathJax) {MathJax.Hub.Config({SVG: {font: \"STIX-Web\"}});}</script>                <script type=\"text/javascript\">window.PlotlyConfig = {MathJaxConfig: 'local'};</script>\n",
              "        <script src=\"https://cdn.plot.ly/plotly-2.2.0.min.js\"></script>                <div id=\"9cc2e643-90a9-4792-b775-cfafd063e201\" class=\"plotly-graph-div\" style=\"height:525px; width:100%;\"></div>            <script type=\"text/javascript\">                                    window.PLOTLYENV=window.PLOTLYENV || {};                                    if (document.getElementById(\"9cc2e643-90a9-4792-b775-cfafd063e201\")) {                    Plotly.newPlot(                        \"9cc2e643-90a9-4792-b775-cfafd063e201\",                        [{\"colorscale\":[[0.0,\"rgb(247,251,255)\"],[0.125,\"rgb(222,235,247)\"],[0.25,\"rgb(198,219,239)\"],[0.375,\"rgb(158,202,225)\"],[0.5,\"rgb(107,174,214)\"],[0.625,\"rgb(66,146,198)\"],[0.75,\"rgb(33,113,181)\"],[0.875,\"rgb(8,81,156)\"],[1.0,\"rgb(8,48,107)\"]],\"customdata\":[[1066,37],[35,25]],\"hovertemplate\":\"<b>True</b>: %{y}<br><b>Predicted</b>: %{x}<br><b>Normalized Count</b>: %{z}<br><b>Raw Count</b>: %{customdata} <br><extra></extra>\",\"reversescale\":false,\"showscale\":true,\"type\":\"heatmap\",\"x\":[false,true],\"y\":[false,true],\"z\":[[0.9664551223934723,0.033544877606527655],[0.5833333333333334,0.4166666666666667]]}],                        {\"annotations\":[{\"font\":{\"color\":\"#FFFFFF\"},\"showarrow\":false,\"text\":\"0.966\",\"x\":false,\"xref\":\"x\",\"y\":false,\"yref\":\"y\"},{\"font\":{\"color\":\"#000000\"},\"showarrow\":false,\"text\":\"0.034\",\"x\":true,\"xref\":\"x\",\"y\":false,\"yref\":\"y\"},{\"font\":{\"color\":\"#FFFFFF\"},\"showarrow\":false,\"text\":\"0.583\",\"x\":false,\"xref\":\"x\",\"y\":true,\"yref\":\"y\"},{\"font\":{\"color\":\"#000000\"},\"showarrow\":false,\"text\":\"0.417\",\"x\":true,\"xref\":\"x\",\"y\":true,\"yref\":\"y\"}],\"template\":{\"data\":{\"bar\":[{\"error_x\":{\"color\":\"#2a3f5f\"},\"error_y\":{\"color\":\"#2a3f5f\"},\"marker\":{\"line\":{\"color\":\"#E5ECF6\",\"width\":0.5},\"pattern\":{\"fillmode\":\"overlay\",\"size\":10,\"solidity\":0.2}},\"type\":\"bar\"}],\"barpolar\":[{\"marker\":{\"line\":{\"color\":\"#E5ECF6\",\"width\":0.5},\"pattern\":{\"fillmode\":\"overlay\",\"size\":10,\"solidity\":0.2}},\"type\":\"barpolar\"}],\"carpet\":[{\"aaxis\":{\"endlinecolor\":\"#2a3f5f\",\"gridcolor\":\"white\",\"linecolor\":\"white\",\"minorgridcolor\":\"white\",\"startlinecolor\":\"#2a3f5f\"},\"baxis\":{\"endlinecolor\":\"#2a3f5f\",\"gridcolor\":\"white\",\"linecolor\":\"white\",\"minorgridcolor\":\"white\",\"startlinecolor\":\"#2a3f5f\"},\"type\":\"carpet\"}],\"choropleth\":[{\"colorbar\":{\"outlinewidth\":0,\"ticks\":\"\"},\"type\":\"choropleth\"}],\"contour\":[{\"colorbar\":{\"outlinewidth\":0,\"ticks\":\"\"},\"colorscale\":[[0.0,\"#0d0887\"],[0.1111111111111111,\"#46039f\"],[0.2222222222222222,\"#7201a8\"],[0.3333333333333333,\"#9c179e\"],[0.4444444444444444,\"#bd3786\"],[0.5555555555555556,\"#d8576b\"],[0.6666666666666666,\"#ed7953\"],[0.7777777777777778,\"#fb9f3a\"],[0.8888888888888888,\"#fdca26\"],[1.0,\"#f0f921\"]],\"type\":\"contour\"}],\"contourcarpet\":[{\"colorbar\":{\"outlinewidth\":0,\"ticks\":\"\"},\"type\":\"contourcarpet\"}],\"heatmap\":[{\"colorbar\":{\"outlinewidth\":0,\"ticks\":\"\"},\"colorscale\":[[0.0,\"#0d0887\"],[0.1111111111111111,\"#46039f\"],[0.2222222222222222,\"#7201a8\"],[0.3333333333333333,\"#9c179e\"],[0.4444444444444444,\"#bd3786\"],[0.5555555555555556,\"#d8576b\"],[0.6666666666666666,\"#ed7953\"],[0.7777777777777778,\"#fb9f3a\"],[0.8888888888888888,\"#fdca26\"],[1.0,\"#f0f921\"]],\"type\":\"heatmap\"}],\"heatmapgl\":[{\"colorbar\":{\"outlinewidth\":0,\"ticks\":\"\"},\"colorscale\":[[0.0,\"#0d0887\"],[0.1111111111111111,\"#46039f\"],[0.2222222222222222,\"#7201a8\"],[0.3333333333333333,\"#9c179e\"],[0.4444444444444444,\"#bd3786\"],[0.5555555555555556,\"#d8576b\"],[0.6666666666666666,\"#ed7953\"],[0.7777777777777778,\"#fb9f3a\"],[0.8888888888888888,\"#fdca26\"],[1.0,\"#f0f921\"]],\"type\":\"heatmapgl\"}],\"histogram\":[{\"marker\":{\"pattern\":{\"fillmode\":\"overlay\",\"size\":10,\"solidity\":0.2}},\"type\":\"histogram\"}],\"histogram2d\":[{\"colorbar\":{\"outlinewidth\":0,\"ticks\":\"\"},\"colorscale\":[[0.0,\"#0d0887\"],[0.1111111111111111,\"#46039f\"],[0.2222222222222222,\"#7201a8\"],[0.3333333333333333,\"#9c179e\"],[0.4444444444444444,\"#bd3786\"],[0.5555555555555556,\"#d8576b\"],[0.6666666666666666,\"#ed7953\"],[0.7777777777777778,\"#fb9f3a\"],[0.8888888888888888,\"#fdca26\"],[1.0,\"#f0f921\"]],\"type\":\"histogram2d\"}],\"histogram2dcontour\":[{\"colorbar\":{\"outlinewidth\":0,\"ticks\":\"\"},\"colorscale\":[[0.0,\"#0d0887\"],[0.1111111111111111,\"#46039f\"],[0.2222222222222222,\"#7201a8\"],[0.3333333333333333,\"#9c179e\"],[0.4444444444444444,\"#bd3786\"],[0.5555555555555556,\"#d8576b\"],[0.6666666666666666,\"#ed7953\"],[0.7777777777777778,\"#fb9f3a\"],[0.8888888888888888,\"#fdca26\"],[1.0,\"#f0f921\"]],\"type\":\"histogram2dcontour\"}],\"mesh3d\":[{\"colorbar\":{\"outlinewidth\":0,\"ticks\":\"\"},\"type\":\"mesh3d\"}],\"parcoords\":[{\"line\":{\"colorbar\":{\"outlinewidth\":0,\"ticks\":\"\"}},\"type\":\"parcoords\"}],\"pie\":[{\"automargin\":true,\"type\":\"pie\"}],\"scatter\":[{\"marker\":{\"colorbar\":{\"outlinewidth\":0,\"ticks\":\"\"}},\"type\":\"scatter\"}],\"scatter3d\":[{\"line\":{\"colorbar\":{\"outlinewidth\":0,\"ticks\":\"\"}},\"marker\":{\"colorbar\":{\"outlinewidth\":0,\"ticks\":\"\"}},\"type\":\"scatter3d\"}],\"scattercarpet\":[{\"marker\":{\"colorbar\":{\"outlinewidth\":0,\"ticks\":\"\"}},\"type\":\"scattercarpet\"}],\"scattergeo\":[{\"marker\":{\"colorbar\":{\"outlinewidth\":0,\"ticks\":\"\"}},\"type\":\"scattergeo\"}],\"scattergl\":[{\"marker\":{\"colorbar\":{\"outlinewidth\":0,\"ticks\":\"\"}},\"type\":\"scattergl\"}],\"scattermapbox\":[{\"marker\":{\"colorbar\":{\"outlinewidth\":0,\"ticks\":\"\"}},\"type\":\"scattermapbox\"}],\"scatterpolar\":[{\"marker\":{\"colorbar\":{\"outlinewidth\":0,\"ticks\":\"\"}},\"type\":\"scatterpolar\"}],\"scatterpolargl\":[{\"marker\":{\"colorbar\":{\"outlinewidth\":0,\"ticks\":\"\"}},\"type\":\"scatterpolargl\"}],\"scatterternary\":[{\"marker\":{\"colorbar\":{\"outlinewidth\":0,\"ticks\":\"\"}},\"type\":\"scatterternary\"}],\"surface\":[{\"colorbar\":{\"outlinewidth\":0,\"ticks\":\"\"},\"colorscale\":[[0.0,\"#0d0887\"],[0.1111111111111111,\"#46039f\"],[0.2222222222222222,\"#7201a8\"],[0.3333333333333333,\"#9c179e\"],[0.4444444444444444,\"#bd3786\"],[0.5555555555555556,\"#d8576b\"],[0.6666666666666666,\"#ed7953\"],[0.7777777777777778,\"#fb9f3a\"],[0.8888888888888888,\"#fdca26\"],[1.0,\"#f0f921\"]],\"type\":\"surface\"}],\"table\":[{\"cells\":{\"fill\":{\"color\":\"#EBF0F8\"},\"line\":{\"color\":\"white\"}},\"header\":{\"fill\":{\"color\":\"#C8D4E3\"},\"line\":{\"color\":\"white\"}},\"type\":\"table\"}]},\"layout\":{\"annotationdefaults\":{\"arrowcolor\":\"#2a3f5f\",\"arrowhead\":0,\"arrowwidth\":1},\"autotypenumbers\":\"strict\",\"coloraxis\":{\"colorbar\":{\"outlinewidth\":0,\"ticks\":\"\"}},\"colorscale\":{\"diverging\":[[0,\"#8e0152\"],[0.1,\"#c51b7d\"],[0.2,\"#de77ae\"],[0.3,\"#f1b6da\"],[0.4,\"#fde0ef\"],[0.5,\"#f7f7f7\"],[0.6,\"#e6f5d0\"],[0.7,\"#b8e186\"],[0.8,\"#7fbc41\"],[0.9,\"#4d9221\"],[1,\"#276419\"]],\"sequential\":[[0.0,\"#0d0887\"],[0.1111111111111111,\"#46039f\"],[0.2222222222222222,\"#7201a8\"],[0.3333333333333333,\"#9c179e\"],[0.4444444444444444,\"#bd3786\"],[0.5555555555555556,\"#d8576b\"],[0.6666666666666666,\"#ed7953\"],[0.7777777777777778,\"#fb9f3a\"],[0.8888888888888888,\"#fdca26\"],[1.0,\"#f0f921\"]],\"sequentialminus\":[[0.0,\"#0d0887\"],[0.1111111111111111,\"#46039f\"],[0.2222222222222222,\"#7201a8\"],[0.3333333333333333,\"#9c179e\"],[0.4444444444444444,\"#bd3786\"],[0.5555555555555556,\"#d8576b\"],[0.6666666666666666,\"#ed7953\"],[0.7777777777777778,\"#fb9f3a\"],[0.8888888888888888,\"#fdca26\"],[1.0,\"#f0f921\"]]},\"colorway\":[\"#636efa\",\"#EF553B\",\"#00cc96\",\"#ab63fa\",\"#FFA15A\",\"#19d3f3\",\"#FF6692\",\"#B6E880\",\"#FF97FF\",\"#FECB52\"],\"font\":{\"color\":\"#2a3f5f\"},\"geo\":{\"bgcolor\":\"white\",\"lakecolor\":\"white\",\"landcolor\":\"#E5ECF6\",\"showlakes\":true,\"showland\":true,\"subunitcolor\":\"white\"},\"hoverlabel\":{\"align\":\"left\"},\"hovermode\":\"closest\",\"mapbox\":{\"style\":\"light\"},\"paper_bgcolor\":\"white\",\"plot_bgcolor\":\"#E5ECF6\",\"polar\":{\"angularaxis\":{\"gridcolor\":\"white\",\"linecolor\":\"white\",\"ticks\":\"\"},\"bgcolor\":\"#E5ECF6\",\"radialaxis\":{\"gridcolor\":\"white\",\"linecolor\":\"white\",\"ticks\":\"\"}},\"scene\":{\"xaxis\":{\"backgroundcolor\":\"#E5ECF6\",\"gridcolor\":\"white\",\"gridwidth\":2,\"linecolor\":\"white\",\"showbackground\":true,\"ticks\":\"\",\"zerolinecolor\":\"white\"},\"yaxis\":{\"backgroundcolor\":\"#E5ECF6\",\"gridcolor\":\"white\",\"gridwidth\":2,\"linecolor\":\"white\",\"showbackground\":true,\"ticks\":\"\",\"zerolinecolor\":\"white\"},\"zaxis\":{\"backgroundcolor\":\"#E5ECF6\",\"gridcolor\":\"white\",\"gridwidth\":2,\"linecolor\":\"white\",\"showbackground\":true,\"ticks\":\"\",\"zerolinecolor\":\"white\"}},\"shapedefaults\":{\"line\":{\"color\":\"#2a3f5f\"}},\"ternary\":{\"aaxis\":{\"gridcolor\":\"white\",\"linecolor\":\"white\",\"ticks\":\"\"},\"baxis\":{\"gridcolor\":\"white\",\"linecolor\":\"white\",\"ticks\":\"\"},\"bgcolor\":\"#E5ECF6\",\"caxis\":{\"gridcolor\":\"white\",\"linecolor\":\"white\",\"ticks\":\"\"}},\"title\":{\"x\":0.05},\"xaxis\":{\"automargin\":true,\"gridcolor\":\"white\",\"linecolor\":\"white\",\"ticks\":\"\",\"title\":{\"standoff\":15},\"zerolinecolor\":\"white\",\"zerolinewidth\":2},\"yaxis\":{\"automargin\":true,\"gridcolor\":\"white\",\"linecolor\":\"white\",\"ticks\":\"\",\"title\":{\"standoff\":15},\"zerolinecolor\":\"white\",\"zerolinewidth\":2}}},\"title\":{\"text\":\"Confusion matrix, normalized using method \\\"true\\\"\"},\"xaxis\":{\"dtick\":1,\"gridcolor\":\"rgb(0, 0, 0)\",\"side\":\"bottom\",\"ticks\":\"\",\"tickvals\":[false,true],\"title\":{\"text\":\"Predicted Label\"},\"type\":\"category\"},\"yaxis\":{\"autorange\":\"reversed\",\"dtick\":1,\"ticks\":\"\",\"ticksuffix\":\"  \",\"tickvals\":[false,true],\"title\":{\"text\":\"True Label\"},\"type\":\"category\"}},                        {\"responsive\": true}                    ).then(function(){\n",
              "                            \n",
              "var gd = document.getElementById('9cc2e643-90a9-4792-b775-cfafd063e201');\n",
              "var x = new MutationObserver(function (mutations, observer) {{\n",
              "        var display = window.getComputedStyle(gd).display;\n",
              "        if (!display || display === 'none') {{\n",
              "            console.log([gd, 'removed!']);\n",
              "            Plotly.purge(gd);\n",
              "            observer.disconnect();\n",
              "        }}\n",
              "}});\n",
              "\n",
              "// Listen for the removal of the full notebook cells\n",
              "var notebookContainer = gd.closest('#notebook-container');\n",
              "if (notebookContainer) {{\n",
              "    x.observe(notebookContainer, {childList: true});\n",
              "}}\n",
              "\n",
              "// Listen for the clearing of the current output cell\n",
              "var outputEl = gd.closest('.output');\n",
              "if (outputEl) {{\n",
              "    x.observe(outputEl, {childList: true});\n",
              "}}\n",
              "\n",
              "                        })                };                            </script>        </div>\n",
              "</body>\n",
              "</html>"
            ]
          },
          "metadata": {
            "tags": []
          }
        }
      ]
    },
    {
      "cell_type": "code",
      "metadata": {
        "colab": {
          "base_uri": "https://localhost:8080/",
          "height": 542
        },
        "id": "kemNuPA4Xp7W",
        "outputId": "150fdbc7-3ccf-40df-b7f6-2234938d5060"
      },
      "source": [
        "y_pred = best_pipeline_auc.predict_proba(X_holdout)\n",
        "graph_roc_curve(y_holdout, y_pred)"
      ],
      "execution_count": 123,
      "outputs": [
        {
          "output_type": "display_data",
          "data": {
            "text/html": [
              "<html>\n",
              "<head><meta charset=\"utf-8\" /></head>\n",
              "<body>\n",
              "    <div>            <script src=\"https://cdnjs.cloudflare.com/ajax/libs/mathjax/2.7.5/MathJax.js?config=TeX-AMS-MML_SVG\"></script><script type=\"text/javascript\">if (window.MathJax) {MathJax.Hub.Config({SVG: {font: \"STIX-Web\"}});}</script>                <script type=\"text/javascript\">window.PlotlyConfig = {MathJaxConfig: 'local'};</script>\n",
              "        <script src=\"https://cdn.plot.ly/plotly-2.2.0.min.js\"></script>                <div id=\"4bd57932-6519-4774-ba51-a3f3d63f7756\" class=\"plotly-graph-div\" style=\"height:525px; width:100%;\"></div>            <script type=\"text/javascript\">                                    window.PLOTLYENV=window.PLOTLYENV || {};                                    if (document.getElementById(\"4bd57932-6519-4774-ba51-a3f3d63f7756\")) {                    Plotly.newPlot(                        \"4bd57932-6519-4774-ba51-a3f3d63f7756\",                        [{\"hovertemplate\":\"(False Postive Rate: %{x}, True Positive Rate: %{y})<br>Threshold: %{text}\",\"line\":{\"width\":3},\"name\":\"Class 1 (AUC 0.923549)\",\"text\":[\"1.8856000584046329\",\"0.8856000584046327\",\"0.8651095295488064\",\"0.856420259680404\",\"0.8367546980277636\",\"0.7894538517533635\",\"0.7578407845807934\",\"0.7481241579545002\",\"0.7396199050518415\",\"0.7348180753584534\",\"0.733037288771236\",\"0.7253147393603332\",\"0.7243879135913162\",\"0.7206777254414677\",\"0.7106072350009659\",\"0.708955457389684\",\"0.707975679940905\",\"0.7074661358100739\",\"0.6977427252979116\",\"0.6961369161996929\",\"0.6928039481990265\",\"0.6861094081042713\",\"0.6563690739797914\",\"0.6341851581427992\",\"0.6073661998459409\",\"0.6020213663149243\",\"0.600152199058326\",\"0.5953397218889135\",\"0.5871372268480399\",\"0.5670355590178361\",\"0.5573749690068749\",\"0.5538162479429773\",\"0.5485759386899255\",\"0.5452240694748761\",\"0.5427123137781132\",\"0.527612608682187\",\"0.5263280525739001\",\"0.5222716275266126\",\"0.5137409520255142\",\"0.5093302126269708\",\"0.49087708959869397\",\"0.48480342497085493\",\"0.4666192318708042\",\"0.4663101304575152\",\"0.4277184989442444\",\"0.38494896509504517\",\"0.3704325103038414\",\"0.33265169161273234\",\"0.3248572046372165\",\"0.29596128603332605\",\"0.24257717023029438\",\"0.20620832813248635\",\"0.176816542054935\",\"0.17637859946879852\",\"0.1610330835093881\",\"0.15692497721629933\",\"0.15506676593290594\",\"0.10626386132152202\",\"0.0923242252199978\",\"0.08793867303802275\",\"0.0701074994453839\",\"0.07007356135158233\",\"0.06405140622157797\",\"0.062495014931448434\",\"0.0619264762792805\",\"0.061082656637906206\",\"0.06078578071130156\",\"0.05738003903372083\",\"0.05718634344576953\",\"0.05690468924203606\",\"0.05673698831738529\",\"0.056585075325900264\",\"0.0564301254279291\",\"0.056415784110802676\",\"0.05604817218131131\",\"0.05593759689495349\",\"0.05586941916616636\",\"0.05560588303624664\",\"0.053056445417590296\",\"0.050827728099504435\",\"0.05041425849344295\",\"0.044754270201046546\",\"0.04450440896600293\",\"0.044103755896005944\",\"0.04301319371593386\",\"0.03729458469732876\",\"0.03674950265650232\",\"0.03563621513774029\",\"0.035504789316193004\",\"0.035071453825840766\",\"0.033517620054132245\",\"0.03350280271448363\",\"0.03303260814026783\",\"0.03293269001838639\",\"0.03284064454840717\",\"0.03271024038392291\",\"0.03245800503486509\",\"0.03221890171004208\",\"0.03220920223450764\",\"0.03210907827699163\",\"0.03198008586192604\",\"0.03189110612021493\",\"0.03187172097408357\",\"0.03181763298591444\",\"0.03172470998624602\",\"0.0316644537546907\",\"0.031418956980363705\",\"0.03131656232845297\",\"0.03130933302954282\",\"0.030806075955921993\",\"0.03069286763123497\",\"0.03055489356073823\",\"0.030498323420042796\",\"0.030175758787981035\",\"0.030111583320280896\",\"0.029915706723863015\",\"0.029882022704450208\",\"0.029870646917489047\",\"0.02975530529275557\",\"0.029612848016717944\",\"0.029592237496812487\",\"0.02906382992181256\",\"0.02905840239289419\",\"0.028941048185115156\",\"0.028509230517754443\",\"0.028502136635506527\",\"0.028435444011462432\",\"0.028315282664009015\",\"0.028244594275643676\",\"0.027916326771157057\",\"0.027541418880547324\",\"0.027528783898199592\",\"0.027370419966244335\",\"0.0271764355861312\",\"0.027142632536862193\",\"0.02709735840950866\",\"0.026890844029662436\",\"0.026718120164781346\",\"0.026692293530103803\",\"0.026406524942583373\",\"0.026339075551941635\",\"0.026239852502110167\",\"0.026042621432889376\",\"0.025976493892209553\",\"0.025972023069762575\",\"0.025691100164639626\",\"0.025456081243330642\",\"0.025238506000475454\",\"0.025206129125303987\",\"0.025156973944996205\",\"0.024942268238276243\",\"0.02488669951358118\",\"0.02488451536528591\",\"0.024717388595968188\",\"0.02467158659999009\",\"0.024652408506144197\",\"0.024484567912657157\",\"0.024468926361361512\",\"0.024439053668014337\",\"0.02438668230894894\",\"0.024301370242171008\",\"0.023914688443599945\",\"0.023832895555084943\",\"0.02381911167675699\",\"0.023375705610276312\",\"0.02333187170148102\",\"0.0232783753160069\",\"0.023193318027261742\",\"0.023044036436962116\",\"0.023036108526799295\",\"0.022890057178753035\",\"0.022817924153370656\",\"0.022517827474814796\",\"0.022277050699903423\",\"0.022194274444099313\",\"0.021933163682103296\",\"0.021321666022083578\",\"0.021301267657191324\",\"0.020949415067911495\",\"0.019788532537995313\",\"0.01974112950678784\",\"0.019722070211885122\",\"0.019569109170861788\",\"0.018235873677140045\",\"0.01809856237723\"],\"type\":\"scatter\",\"x\":[0.0,0.0,0.0,0.0,0.004533091568449683,0.004533091568449683,0.006346328195829556,0.006346328195829556,0.007252946509519492,0.009066183136899365,0.014505893019038985,0.014505893019038985,0.019945602901178604,0.021758839528558477,0.021758839528558477,0.022665457842248413,0.027198549410698096,0.027198549410698096,0.028105167724388033,0.030825022665457842,0.032638259292837715,0.033544877606527655,0.03445149592021759,0.03626473254759746,0.038984587488667274,0.04986400725294651,0.050770625566636446,0.05258386219401632,0.05530371713508613,0.057116953762466005,0.07252946509519492,0.0770625566636446,0.07796917497733455,0.07887579329102448,0.07887579329102448,0.0815956482320943,0.10516772438803264,0.10607434270172257,0.10607434270172257,0.10788757932910245,0.10970081595648232,0.11695376246600181,0.11876699909338169,0.11876699909338169,0.12058023572076156,0.12239347234814144,0.12511332728921123,0.12692656391659113,0.12783318223028106,0.128739800543971,0.13780598368087035,0.1387126019945603,0.14233907524932005,0.14324569356300998,0.14324569356300998,0.14505893019038985,0.1468721668177697,0.15231187669990934,0.15231187669990934,0.1541251133272892,0.1559383499546691,0.25022665457842247,0.2556663644605621,0.2556663644605621,0.257479601087942,0.2638259292837715,0.2638259292837715,0.2665457842248413,0.26835902085222124,0.2701722574796011,0.2756119673617407,0.27651858567543064,0.28195829555757024,0.28377153218495016,0.28558476881233,0.28649138712601996,0.2910244786944696,0.2910244786944696,0.3028105167724388,0.3046237533998187,0.30643699002719854,0.3109700815956482,0.314596554850408,0.31640979147778786,0.31912964641885766,0.32456935630099726,0.3263825929283772,0.33091568449682685,0.3354487760652765,0.3372620126926564,0.34088848594741616,0.34360834088848596,0.3445149592021759,0.34632819582955576,0.34904805077062556,0.35086128739800543,0.35176790571169536,0.35539437896645515,0.3563009972801451,0.3599274705349048,0.36083408884859475,0.3644605621033545,0.3671804170444243,0.37262012692656393,0.3744333635539438,0.37533998186763373,0.37896645512239346,0.38077969174977333,0.38349954669084313,0.386219401631913,0.3889392565729828,0.39075249320036265,0.3916591115140526,0.39347234814143245,0.3943789664551224,0.3980054397098821,0.3989120580235721,0.4043517679057117,0.40888485947416137,0.41069809610154123,0.41160471441523117,0.414324569356301,0.41523118766999095,0.41795104261106075,0.4197642792384406,0.42067089755213055,0.4224841341795104,0.43064369900271987,0.43245693563009974,0.4342701722574796,0.43789664551223934,0.4397098821396192,0.44061650045330913,0.45058930190389845,0.4514959202175884,0.45330915684496825,0.4605621033544878,0.46237533998186764,0.46509519492293744,0.4669084315503173,0.47053490480507704,0.485040797824116,0.5049864007252947,0.5321849501359928,0.5339981867633726,0.5367180417044425,0.5385312783318223,0.5557570262919311,0.557570262919311,0.5584768812330009,0.5621033544877606,0.5847688123300091,0.5874886672710788,0.5983680870353582,0.599274705349048,0.6010879419764279,0.6029011786038078,0.6174070716228468,0.6192203082502267,0.6201269265639165,0.6219401631912964,0.6255666364460563,0.6310063463281959,0.6328195829555757,0.6373526745240253,0.6391659111514053,0.6672710788757933,0.6681776971894833,0.8132366273798731,0.8159564823209429,0.8322756119673618,0.8540344514959202,0.8549410698096102,0.85675430643699,0.8594741613780599,0.8631006346328196,0.8685403445149592,0.8730734360834089,0.8830462375339981,0.885766092475068,0.900271985494107,0.9202175883952856,0.9238440616500453,0.9456029011786038,1.0],\"y\":[0.0,0.016666666666666666,0.06666666666666667,0.1,0.1,0.11666666666666667,0.11666666666666667,0.13333333333333333,0.13333333333333333,0.13333333333333333,0.16666666666666666,0.18333333333333332,0.26666666666666666,0.26666666666666666,0.2833333333333333,0.2833333333333333,0.35,0.38333333333333336,0.38333333333333336,0.38333333333333336,0.4166666666666667,0.4166666666666667,0.43333333333333335,0.43333333333333335,0.45,0.5,0.5,0.5,0.5166666666666667,0.5166666666666667,0.5666666666666667,0.6,0.6166666666666667,0.6166666666666667,0.6333333333333333,0.6333333333333333,0.7166666666666667,0.7166666666666667,0.7333333333333333,0.7833333333333333,0.7833333333333333,0.8,0.8,0.8166666666666667,0.8166666666666667,0.8166666666666667,0.8166666666666667,0.8333333333333334,0.8333333333333334,0.85,0.85,0.85,0.85,0.85,0.8666666666666667,0.8666666666666667,0.8666666666666667,0.8666666666666667,0.8833333333333333,0.8833333333333333,0.8833333333333333,0.9166666666666666,0.9166666666666666,0.9333333333333333,0.9333333333333333,0.9333333333333333,0.95,0.95,0.95,0.95,0.95,0.9666666666666667,0.9666666666666667,0.9666666666666667,0.9833333333333333,0.9833333333333333,0.9833333333333333,1.0,1.0,1.0,1.0,1.0,1.0,1.0,1.0,1.0,1.0,1.0,1.0,1.0,1.0,1.0,1.0,1.0,1.0,1.0,1.0,1.0,1.0,1.0,1.0,1.0,1.0,1.0,1.0,1.0,1.0,1.0,1.0,1.0,1.0,1.0,1.0,1.0,1.0,1.0,1.0,1.0,1.0,1.0,1.0,1.0,1.0,1.0,1.0,1.0,1.0,1.0,1.0,1.0,1.0,1.0,1.0,1.0,1.0,1.0,1.0,1.0,1.0,1.0,1.0,1.0,1.0,1.0,1.0,1.0,1.0,1.0,1.0,1.0,1.0,1.0,1.0,1.0,1.0,1.0,1.0,1.0,1.0,1.0,1.0,1.0,1.0,1.0,1.0,1.0,1.0,1.0,1.0,1.0,1.0,1.0,1.0,1.0,1.0,1.0,1.0,1.0,1.0,1.0,1.0,1.0,1.0,1.0,1.0]},{\"line\":{\"dash\":\"dash\"},\"name\":\"Trivial Model (AUC 0.5)\",\"type\":\"scatter\",\"x\":[0,1],\"y\":[0,1]}],                        {\"template\":{\"data\":{\"bar\":[{\"error_x\":{\"color\":\"#2a3f5f\"},\"error_y\":{\"color\":\"#2a3f5f\"},\"marker\":{\"line\":{\"color\":\"#E5ECF6\",\"width\":0.5},\"pattern\":{\"fillmode\":\"overlay\",\"size\":10,\"solidity\":0.2}},\"type\":\"bar\"}],\"barpolar\":[{\"marker\":{\"line\":{\"color\":\"#E5ECF6\",\"width\":0.5},\"pattern\":{\"fillmode\":\"overlay\",\"size\":10,\"solidity\":0.2}},\"type\":\"barpolar\"}],\"carpet\":[{\"aaxis\":{\"endlinecolor\":\"#2a3f5f\",\"gridcolor\":\"white\",\"linecolor\":\"white\",\"minorgridcolor\":\"white\",\"startlinecolor\":\"#2a3f5f\"},\"baxis\":{\"endlinecolor\":\"#2a3f5f\",\"gridcolor\":\"white\",\"linecolor\":\"white\",\"minorgridcolor\":\"white\",\"startlinecolor\":\"#2a3f5f\"},\"type\":\"carpet\"}],\"choropleth\":[{\"colorbar\":{\"outlinewidth\":0,\"ticks\":\"\"},\"type\":\"choropleth\"}],\"contour\":[{\"colorbar\":{\"outlinewidth\":0,\"ticks\":\"\"},\"colorscale\":[[0.0,\"#0d0887\"],[0.1111111111111111,\"#46039f\"],[0.2222222222222222,\"#7201a8\"],[0.3333333333333333,\"#9c179e\"],[0.4444444444444444,\"#bd3786\"],[0.5555555555555556,\"#d8576b\"],[0.6666666666666666,\"#ed7953\"],[0.7777777777777778,\"#fb9f3a\"],[0.8888888888888888,\"#fdca26\"],[1.0,\"#f0f921\"]],\"type\":\"contour\"}],\"contourcarpet\":[{\"colorbar\":{\"outlinewidth\":0,\"ticks\":\"\"},\"type\":\"contourcarpet\"}],\"heatmap\":[{\"colorbar\":{\"outlinewidth\":0,\"ticks\":\"\"},\"colorscale\":[[0.0,\"#0d0887\"],[0.1111111111111111,\"#46039f\"],[0.2222222222222222,\"#7201a8\"],[0.3333333333333333,\"#9c179e\"],[0.4444444444444444,\"#bd3786\"],[0.5555555555555556,\"#d8576b\"],[0.6666666666666666,\"#ed7953\"],[0.7777777777777778,\"#fb9f3a\"],[0.8888888888888888,\"#fdca26\"],[1.0,\"#f0f921\"]],\"type\":\"heatmap\"}],\"heatmapgl\":[{\"colorbar\":{\"outlinewidth\":0,\"ticks\":\"\"},\"colorscale\":[[0.0,\"#0d0887\"],[0.1111111111111111,\"#46039f\"],[0.2222222222222222,\"#7201a8\"],[0.3333333333333333,\"#9c179e\"],[0.4444444444444444,\"#bd3786\"],[0.5555555555555556,\"#d8576b\"],[0.6666666666666666,\"#ed7953\"],[0.7777777777777778,\"#fb9f3a\"],[0.8888888888888888,\"#fdca26\"],[1.0,\"#f0f921\"]],\"type\":\"heatmapgl\"}],\"histogram\":[{\"marker\":{\"pattern\":{\"fillmode\":\"overlay\",\"size\":10,\"solidity\":0.2}},\"type\":\"histogram\"}],\"histogram2d\":[{\"colorbar\":{\"outlinewidth\":0,\"ticks\":\"\"},\"colorscale\":[[0.0,\"#0d0887\"],[0.1111111111111111,\"#46039f\"],[0.2222222222222222,\"#7201a8\"],[0.3333333333333333,\"#9c179e\"],[0.4444444444444444,\"#bd3786\"],[0.5555555555555556,\"#d8576b\"],[0.6666666666666666,\"#ed7953\"],[0.7777777777777778,\"#fb9f3a\"],[0.8888888888888888,\"#fdca26\"],[1.0,\"#f0f921\"]],\"type\":\"histogram2d\"}],\"histogram2dcontour\":[{\"colorbar\":{\"outlinewidth\":0,\"ticks\":\"\"},\"colorscale\":[[0.0,\"#0d0887\"],[0.1111111111111111,\"#46039f\"],[0.2222222222222222,\"#7201a8\"],[0.3333333333333333,\"#9c179e\"],[0.4444444444444444,\"#bd3786\"],[0.5555555555555556,\"#d8576b\"],[0.6666666666666666,\"#ed7953\"],[0.7777777777777778,\"#fb9f3a\"],[0.8888888888888888,\"#fdca26\"],[1.0,\"#f0f921\"]],\"type\":\"histogram2dcontour\"}],\"mesh3d\":[{\"colorbar\":{\"outlinewidth\":0,\"ticks\":\"\"},\"type\":\"mesh3d\"}],\"parcoords\":[{\"line\":{\"colorbar\":{\"outlinewidth\":0,\"ticks\":\"\"}},\"type\":\"parcoords\"}],\"pie\":[{\"automargin\":true,\"type\":\"pie\"}],\"scatter\":[{\"marker\":{\"colorbar\":{\"outlinewidth\":0,\"ticks\":\"\"}},\"type\":\"scatter\"}],\"scatter3d\":[{\"line\":{\"colorbar\":{\"outlinewidth\":0,\"ticks\":\"\"}},\"marker\":{\"colorbar\":{\"outlinewidth\":0,\"ticks\":\"\"}},\"type\":\"scatter3d\"}],\"scattercarpet\":[{\"marker\":{\"colorbar\":{\"outlinewidth\":0,\"ticks\":\"\"}},\"type\":\"scattercarpet\"}],\"scattergeo\":[{\"marker\":{\"colorbar\":{\"outlinewidth\":0,\"ticks\":\"\"}},\"type\":\"scattergeo\"}],\"scattergl\":[{\"marker\":{\"colorbar\":{\"outlinewidth\":0,\"ticks\":\"\"}},\"type\":\"scattergl\"}],\"scattermapbox\":[{\"marker\":{\"colorbar\":{\"outlinewidth\":0,\"ticks\":\"\"}},\"type\":\"scattermapbox\"}],\"scatterpolar\":[{\"marker\":{\"colorbar\":{\"outlinewidth\":0,\"ticks\":\"\"}},\"type\":\"scatterpolar\"}],\"scatterpolargl\":[{\"marker\":{\"colorbar\":{\"outlinewidth\":0,\"ticks\":\"\"}},\"type\":\"scatterpolargl\"}],\"scatterternary\":[{\"marker\":{\"colorbar\":{\"outlinewidth\":0,\"ticks\":\"\"}},\"type\":\"scatterternary\"}],\"surface\":[{\"colorbar\":{\"outlinewidth\":0,\"ticks\":\"\"},\"colorscale\":[[0.0,\"#0d0887\"],[0.1111111111111111,\"#46039f\"],[0.2222222222222222,\"#7201a8\"],[0.3333333333333333,\"#9c179e\"],[0.4444444444444444,\"#bd3786\"],[0.5555555555555556,\"#d8576b\"],[0.6666666666666666,\"#ed7953\"],[0.7777777777777778,\"#fb9f3a\"],[0.8888888888888888,\"#fdca26\"],[1.0,\"#f0f921\"]],\"type\":\"surface\"}],\"table\":[{\"cells\":{\"fill\":{\"color\":\"#EBF0F8\"},\"line\":{\"color\":\"white\"}},\"header\":{\"fill\":{\"color\":\"#C8D4E3\"},\"line\":{\"color\":\"white\"}},\"type\":\"table\"}]},\"layout\":{\"annotationdefaults\":{\"arrowcolor\":\"#2a3f5f\",\"arrowhead\":0,\"arrowwidth\":1},\"autotypenumbers\":\"strict\",\"coloraxis\":{\"colorbar\":{\"outlinewidth\":0,\"ticks\":\"\"}},\"colorscale\":{\"diverging\":[[0,\"#8e0152\"],[0.1,\"#c51b7d\"],[0.2,\"#de77ae\"],[0.3,\"#f1b6da\"],[0.4,\"#fde0ef\"],[0.5,\"#f7f7f7\"],[0.6,\"#e6f5d0\"],[0.7,\"#b8e186\"],[0.8,\"#7fbc41\"],[0.9,\"#4d9221\"],[1,\"#276419\"]],\"sequential\":[[0.0,\"#0d0887\"],[0.1111111111111111,\"#46039f\"],[0.2222222222222222,\"#7201a8\"],[0.3333333333333333,\"#9c179e\"],[0.4444444444444444,\"#bd3786\"],[0.5555555555555556,\"#d8576b\"],[0.6666666666666666,\"#ed7953\"],[0.7777777777777778,\"#fb9f3a\"],[0.8888888888888888,\"#fdca26\"],[1.0,\"#f0f921\"]],\"sequentialminus\":[[0.0,\"#0d0887\"],[0.1111111111111111,\"#46039f\"],[0.2222222222222222,\"#7201a8\"],[0.3333333333333333,\"#9c179e\"],[0.4444444444444444,\"#bd3786\"],[0.5555555555555556,\"#d8576b\"],[0.6666666666666666,\"#ed7953\"],[0.7777777777777778,\"#fb9f3a\"],[0.8888888888888888,\"#fdca26\"],[1.0,\"#f0f921\"]]},\"colorway\":[\"#636efa\",\"#EF553B\",\"#00cc96\",\"#ab63fa\",\"#FFA15A\",\"#19d3f3\",\"#FF6692\",\"#B6E880\",\"#FF97FF\",\"#FECB52\"],\"font\":{\"color\":\"#2a3f5f\"},\"geo\":{\"bgcolor\":\"white\",\"lakecolor\":\"white\",\"landcolor\":\"#E5ECF6\",\"showlakes\":true,\"showland\":true,\"subunitcolor\":\"white\"},\"hoverlabel\":{\"align\":\"left\"},\"hovermode\":\"closest\",\"mapbox\":{\"style\":\"light\"},\"paper_bgcolor\":\"white\",\"plot_bgcolor\":\"#E5ECF6\",\"polar\":{\"angularaxis\":{\"gridcolor\":\"white\",\"linecolor\":\"white\",\"ticks\":\"\"},\"bgcolor\":\"#E5ECF6\",\"radialaxis\":{\"gridcolor\":\"white\",\"linecolor\":\"white\",\"ticks\":\"\"}},\"scene\":{\"xaxis\":{\"backgroundcolor\":\"#E5ECF6\",\"gridcolor\":\"white\",\"gridwidth\":2,\"linecolor\":\"white\",\"showbackground\":true,\"ticks\":\"\",\"zerolinecolor\":\"white\"},\"yaxis\":{\"backgroundcolor\":\"#E5ECF6\",\"gridcolor\":\"white\",\"gridwidth\":2,\"linecolor\":\"white\",\"showbackground\":true,\"ticks\":\"\",\"zerolinecolor\":\"white\"},\"zaxis\":{\"backgroundcolor\":\"#E5ECF6\",\"gridcolor\":\"white\",\"gridwidth\":2,\"linecolor\":\"white\",\"showbackground\":true,\"ticks\":\"\",\"zerolinecolor\":\"white\"}},\"shapedefaults\":{\"line\":{\"color\":\"#2a3f5f\"}},\"ternary\":{\"aaxis\":{\"gridcolor\":\"white\",\"linecolor\":\"white\",\"ticks\":\"\"},\"baxis\":{\"gridcolor\":\"white\",\"linecolor\":\"white\",\"ticks\":\"\"},\"bgcolor\":\"#E5ECF6\",\"caxis\":{\"gridcolor\":\"white\",\"linecolor\":\"white\",\"ticks\":\"\"}},\"title\":{\"x\":0.05},\"xaxis\":{\"automargin\":true,\"gridcolor\":\"white\",\"linecolor\":\"white\",\"ticks\":\"\",\"title\":{\"standoff\":15},\"zerolinecolor\":\"white\",\"zerolinewidth\":2},\"yaxis\":{\"automargin\":true,\"gridcolor\":\"white\",\"linecolor\":\"white\",\"ticks\":\"\",\"title\":{\"standoff\":15},\"zerolinecolor\":\"white\",\"zerolinewidth\":2}}},\"title\":{\"text\":\"Receiver Operating Characteristic\"},\"xaxis\":{\"range\":[-0.05,1.05],\"title\":{\"text\":\"False Positive Rate\"}},\"yaxis\":{\"range\":[-0.05,1.05],\"title\":{\"text\":\"True Positive Rate\"}}},                        {\"responsive\": true}                    ).then(function(){\n",
              "                            \n",
              "var gd = document.getElementById('4bd57932-6519-4774-ba51-a3f3d63f7756');\n",
              "var x = new MutationObserver(function (mutations, observer) {{\n",
              "        var display = window.getComputedStyle(gd).display;\n",
              "        if (!display || display === 'none') {{\n",
              "            console.log([gd, 'removed!']);\n",
              "            Plotly.purge(gd);\n",
              "            observer.disconnect();\n",
              "        }}\n",
              "}});\n",
              "\n",
              "// Listen for the removal of the full notebook cells\n",
              "var notebookContainer = gd.closest('#notebook-container');\n",
              "if (notebookContainer) {{\n",
              "    x.observe(notebookContainer, {childList: true});\n",
              "}}\n",
              "\n",
              "// Listen for the clearing of the current output cell\n",
              "var outputEl = gd.closest('.output');\n",
              "if (outputEl) {{\n",
              "    x.observe(outputEl, {childList: true});\n",
              "}}\n",
              "\n",
              "                        })                };                            </script>        </div>\n",
              "</body>\n",
              "</html>"
            ]
          },
          "metadata": {
            "tags": []
          }
        }
      ]
    },
    {
      "cell_type": "markdown",
      "metadata": {
        "id": "w96M5Se23dvE"
      },
      "source": [
        "#### TO BE DONE"
      ]
    },
    {
      "cell_type": "code",
      "metadata": {
        "id": "CUam0_1a0V_s"
      },
      "source": [
        "from evalml.model_understanding.graphs import graph_partial_dependence"
      ],
      "execution_count": 125,
      "outputs": []
    },
    {
      "cell_type": "code",
      "metadata": {
        "id": "iBJ1IAJP1I10"
      },
      "source": [
        "help(graph_partial_dependence)"
      ],
      "execution_count": null,
      "outputs": []
    },
    {
      "cell_type": "code",
      "metadata": {
        "id": "DO-1ARpe0Q3N"
      },
      "source": [
        "graph_partial_dependence(best_pipeline,X_train,features =('job'))\n"
      ],
      "execution_count": null,
      "outputs": []
    },
    {
      "cell_type": "markdown",
      "metadata": {
        "id": "seYlPUmvoAkQ"
      },
      "source": [
        "## Other projects using EvalML\n"
      ]
    },
    {
      "cell_type": "markdown",
      "metadata": {
        "id": "sIzvyzrvoFFB"
      },
      "source": [
        "> 1. Automated Text Classification with EvalML. [Predict spam messages](https://www.kdnuggets.com/2021/04/automated-text-classification-evalml.html) abd also see [here](https://evalml.alteryx.com/en/stable/demos/text_input.html)\n",
        "> 2. BigMart dataset: [Predict Sales](https://www.vebuso.com/2021/05/exploring-evalml-automatically-build-optimize-and-evaluate-models/)"
      ]
    },
    {
      "cell_type": "markdown",
      "metadata": {
        "id": "RkkfGeVy6VLj"
      },
      "source": [
        "## autosklearn\n",
        "Cannot handle NaN's in categorical features"
      ]
    },
    {
      "cell_type": "code",
      "metadata": {
        "id": "XRXVEyHI4-TD"
      },
      "source": [
        "!pip install auto-sklearn"
      ],
      "execution_count": null,
      "outputs": []
    },
    {
      "cell_type": "code",
      "metadata": {
        "id": "rm4NPTHK5GOk"
      },
      "source": [
        "import autosklearn.classification"
      ],
      "execution_count": 160,
      "outputs": []
    },
    {
      "cell_type": "code",
      "metadata": {
        "id": "BMcRWGnX5UoW"
      },
      "source": [
        "cls = autosklearn.classification.AutoSklearnClassifier()"
      ],
      "execution_count": 161,
      "outputs": []
    },
    {
      "cell_type": "code",
      "metadata": {
        "id": "0iZizS0p5atU"
      },
      "source": [
        "cls.fit(X_train,y_train)"
      ],
      "execution_count": null,
      "outputs": []
    },
    {
      "cell_type": "code",
      "metadata": {
        "id": "Hiht8u8l6GM-"
      },
      "source": [
        "automl = autosklearn.classification.AutoSklearnClassifier()\n",
        "automl.fit(X_train, y_train)"
      ],
      "execution_count": null,
      "outputs": []
    },
    {
      "cell_type": "code",
      "metadata": {
        "id": "FYHbxbF4M8mZ"
      },
      "source": [
        "########## I am done ##############"
      ],
      "execution_count": null,
      "outputs": []
    }
  ]
}