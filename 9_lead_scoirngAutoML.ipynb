{
  "nbformat": 4,
  "nbformat_minor": 0,
  "metadata": {
    "colab": {
      "name": "lead_scoirngAutoML.ipynb",
      "provenance": [],
      "collapsed_sections": [],
      "authorship_tag": "ABX9TyM3IsNgqGqXPgtVl/nZxkx8",
      "include_colab_link": true
    },
    "kernelspec": {
      "name": "python3",
      "display_name": "Python 3"
    },
    "language_info": {
      "name": "python"
    },
    "widgets": {
      "application/vnd.jupyter.widget-state+json": {
        "a55f27aef6c943028ba573d04d3e80ea": {
          "model_module": "jupyterlab-plotly",
          "model_name": "FigureModel",
          "state": {
            "_view_name": "FigureView",
            "_py2js_animate": {},
            "_py2js_removeLayoutProps": {},
            "_last_trace_edit_id": 77,
            "_view_module": "jupyterlab-plotly",
            "_model_module_version": "^5.1.0",
            "_view_count": 0,
            "_js2py_relayout": {},
            "_py2js_moveTraces": {},
            "_py2js_addTraces": {},
            "_model_module": "jupyterlab-plotly",
            "_py2js_relayout": null,
            "_js2py_pointsCallback": {},
            "_js2py_update": {},
            "_js2py_restyle": {},
            "_py2js_removeTraceProps": {},
            "_py2js_deleteTraces": {},
            "_dom_classes": [],
            "_model_name": "FigureModel",
            "_layout": {
              "yaxis": {
                "title": {
                  "text": "Score"
                }
              },
              "xaxis": {
                "title": {
                  "text": "Iteration"
                },
                "rangemode": "tozero"
              },
              "title": {
                "text": "Pipeline Search: Iteration vs. Lead Scoring<br><sub>Gray marker indicates the score at current iteration</sub>"
              }
            },
            "_js2py_layoutDelta": {},
            "_py2js_update": null,
            "_data": [
              {
                "uid": "7a0a0f79-b788-4ca9-ba2c-b5cf07134187",
                "mode": "lines+markers",
                "y": [],
                "x": [],
                "type": "scatter",
                "name": "Best Score"
              },
              {
                "name": "Iter score",
                "y": [],
                "mode": "markers",
                "marker": {
                  "color": "gray"
                },
                "x": [],
                "type": "scatter",
                "uid": "5f0febc2-10da-4d22-947a-480a982a914d"
              }
            ],
            "_config": {
              "plotlyServerURL": "https://plot.ly"
            },
            "_py2js_restyle": null,
            "_view_module_version": "^5.1.0",
            "_last_layout_edit_id": 77,
            "_js2py_traceDeltas": {}
          }
        },
        "bb6f6cd093b1475ab254d48320750d71": {
          "model_module": "jupyterlab-plotly",
          "model_name": "FigureModel",
          "state": {
            "_view_name": "FigureView",
            "_py2js_animate": {},
            "_py2js_removeLayoutProps": {},
            "_last_trace_edit_id": 77,
            "_view_module": "jupyterlab-plotly",
            "_model_module_version": "^5.1.0",
            "_view_count": 0,
            "_js2py_relayout": {},
            "_py2js_moveTraces": {},
            "_py2js_addTraces": {},
            "_model_module": "jupyterlab-plotly",
            "_py2js_relayout": null,
            "_js2py_pointsCallback": {},
            "_js2py_update": {},
            "_js2py_restyle": {},
            "_py2js_removeTraceProps": {},
            "_py2js_deleteTraces": {},
            "_dom_classes": [],
            "_model_name": "FigureModel",
            "_layout": {
              "yaxis": {
                "title": {
                  "text": "Score"
                }
              },
              "xaxis": {
                "title": {
                  "text": "Iteration"
                },
                "rangemode": "tozero"
              },
              "title": {
                "text": "Pipeline Search: Iteration vs. AUC<br><sub>Gray marker indicates the score at current iteration</sub>"
              }
            },
            "_js2py_layoutDelta": {},
            "_py2js_update": null,
            "_data": [
              {
                "uid": "8bb8c4e0-e92a-4cab-805c-d3d485bc541a",
                "mode": "lines+markers",
                "y": [],
                "x": [],
                "type": "scatter",
                "name": "Best Score"
              },
              {
                "name": "Iter score",
                "y": [],
                "mode": "markers",
                "marker": {
                  "color": "gray"
                },
                "x": [],
                "type": "scatter",
                "uid": "b9005175-6a76-473b-9a57-df178d784234"
              }
            ],
            "_config": {
              "plotlyServerURL": "https://plot.ly"
            },
            "_py2js_restyle": null,
            "_view_module_version": "^5.1.0",
            "_last_layout_edit_id": 77,
            "_js2py_traceDeltas": {}
          }
        }
      }
    }
  },
  "cells": [
    {
      "cell_type": "markdown",
      "metadata": {
        "id": "view-in-github",
        "colab_type": "text"
      },
      "source": [
        "<a href=\"https://colab.research.google.com/github/harnalashok/classification/blob/main/9_lead_scoirngAutoML.ipynb\" target=\"_parent\"><img src=\"https://colab.research.google.com/assets/colab-badge.svg\" alt=\"Open In Colab\"/></a>"
      ]
    },
    {
      "cell_type": "code",
      "metadata": {
        "id": "2ppXhpO9e38h"
      },
      "source": [
        "# Last amended: 20th July, 2021\n",
        "# My folder: C:\\Users\\ashok\\OneDrive\\Documents\\leads_scoring\n",
        "#\n",
        "# AutoML:\n",
        "# Ref: https://evalml.alteryx.com/en/stable/demos/lead_scoring.html\n",
        "# Lead scoring:\n",
        "#      https://towardsdatascience.com/a-true-end-to-end-ml-example-lead-scoring-f5b52e9a3c80\n",
        "# Kaggle \n",
        "#      https://www.kaggle.com/ashydv/leads-dataset"
      ],
      "execution_count": null,
      "outputs": []
    },
    {
      "cell_type": "markdown",
      "metadata": {
        "id": "VICRLPwkfHfl"
      },
      "source": [
        "# Building a Lead Scoring Model with EvalML"
      ]
    },
    {
      "cell_type": "markdown",
      "metadata": {
        "id": "EqXqe6tYfB8N"
      },
      "source": [
        "In this example, we will build an optimized lead scoring model using [EvalML](https://github.com/alteryx/evalml). To optimize the pipeline, we will set up an objective function to maximize the revenue generated with true positives while taking into account the cost of false positives. At the end of this demo, we also show you how introducing the right objective during the training is significantly better than using a generic machine learning metric like AUC."
      ]
    },
    {
      "cell_type": "markdown",
      "metadata": {
        "id": "5PubkqfffNc8"
      },
      "source": [
        "## Install packages"
      ]
    },
    {
      "cell_type": "markdown",
      "metadata": {
        "id": "uU7Ftn_WzDVQ"
      },
      "source": [
        "EvalML is an AutoML library that builds, optimizes, and evaluates machine learning pipelines using domain-specific objective functions.\n",
        "\n",
        "Combined with Featuretools and Compose, EvalML can be used to create end-to-end supervised machine learning solutions."
      ]
    },
    {
      "cell_type": "code",
      "metadata": {
        "id": "u-l_GcN7epOb"
      },
      "source": [
        "# Install evalml. Some of the packages installed are:\n",
        "# imbalanced-learn, scikit-optimize, plotly, category-encoders,\n",
        "# graphviz, lightgbm, shap, statsmodels, catboost, scikit-learn\n",
        "# featuretools, matplotlib,nltk,xgboost, pmdarima (for the anagram of 'py' + 'arima')\n",
        "# kaleido (blockchain) \n",
        "\n",
        "!pip install evalml\n",
        "! pip install dask[dataframe] --upgrade \n",
        "! pip install ipywidgets"
      ],
      "execution_count": null,
      "outputs": []
    },
    {
      "cell_type": "markdown",
      "metadata": {
        "id": "uXtP0NDxoSJZ"
      },
      "source": [
        "## Call libraries"
      ]
    },
    {
      "cell_type": "code",
      "metadata": {
        "id": "Npcpyi2Eev18"
      },
      "source": [
        "# Call libraries\n",
        "# 1.0 Data manipulation\n",
        "import numpy as np\n",
        "import pandas as pd\n",
        "\n",
        "# 1.1 Auto Machine Learning\n",
        "# conda install -c conda-forge evalml\n",
        "import evalml\n",
        "from evalml import AutoMLSearch\n",
        "from evalml.objectives import LeadScoring\n",
        "from evalml.model_understanding.graphs import graph_confusion_matrix, graph_roc_curve\n",
        "from evalml.data_checks import DefaultDataChecks\n",
        "# 1.2 URL open\n",
        "from urllib.request import urlopen\n",
        "\n",
        "# 1.3 Woodwork makes it easy to manage additional\n",
        "#      'data-typing' information for your data,\n",
        "#        and, therefore, access only the data one needs\n",
        "#         based on these additional data-types, called\n",
        "#          logical types or semantic tags.\n",
        "#           It is used by featuretools and evalml\n",
        "\n",
        "import woodwork as ww\n",
        "\n",
        "# 1.4 Misc\n",
        "import time"
      ],
      "execution_count": 19,
      "outputs": []
    },
    {
      "cell_type": "code",
      "metadata": {
        "id": "oTKKu_7P4pi8"
      },
      "source": [
        "# 1.5\n",
        "from IPython.core.interactiveshell import InteractiveShell\n",
        "InteractiveShell.ast_node_interactivity = \"all\"\n"
      ],
      "execution_count": 20,
      "outputs": []
    },
    {
      "cell_type": "markdown",
      "metadata": {
        "id": "xpHqNEp6mmF9"
      },
      "source": [
        "## Dataset"
      ]
    },
    {
      "cell_type": "markdown",
      "metadata": {
        "id": "lEOz1x3YmjcV"
      },
      "source": [
        "We will be utilizing a dataset detailing a customer’s job, country, state, zip, online action, the dollar amount of that action and whether they were a successful lead."
      ]
    },
    {
      "cell_type": "code",
      "metadata": {
        "id": "KenUFNwumZmI"
      },
      "source": [
        "# Open URLs to access data\n",
        "customers_data      = urlopen('https://featurelabs-static.s3.amazonaws.com/lead_scoring_ml_apps/customers.csv')\n",
        "interactions_data   = urlopen('https://featurelabs-static.s3.amazonaws.com/lead_scoring_ml_apps/interactions.csv')\n",
        "leads_data          = urlopen('https://featurelabs-static.s3.amazonaws.com/lead_scoring_ml_apps/previous_leads.csv')\n",
        "\n",
        "# Method read() can be used to read data\n",
        "##print(customers_data.read())"
      ],
      "execution_count": 48,
      "outputs": []
    },
    {
      "cell_type": "code",
      "metadata": {
        "id": "YOsbtPU9o9WH"
      },
      "source": [
        "# Read lead-score tables from opened URL\n",
        "customers = pd.read_csv(customers_data)\n",
        "interactions = pd.read_csv(interactions_data)\n",
        "leads = pd.read_csv(leads_data)"
      ],
      "execution_count": 49,
      "outputs": []
    },
    {
      "cell_type": "code",
      "metadata": {
        "colab": {
          "base_uri": "https://localhost:8080/",
          "height": 366
        },
        "id": "xUBA1eAA4GY2",
        "outputId": "1c0e7fee-bf6d-45b1-ebfa-186680defe8f"
      },
      "source": [
        "# Look at data\n",
        "customers.shape    # (1000, 11)\n",
        "customers.head()"
      ],
      "execution_count": 50,
      "outputs": [
        {
          "output_type": "execute_result",
          "data": {
            "text/plain": [
              "(1000, 11)"
            ]
          },
          "metadata": {
            "tags": []
          },
          "execution_count": 50
        },
        {
          "output_type": "execute_result",
          "data": {
            "text/html": [
              "<div>\n",
              "<style scoped>\n",
              "    .dataframe tbody tr th:only-of-type {\n",
              "        vertical-align: middle;\n",
              "    }\n",
              "\n",
              "    .dataframe tbody tr th {\n",
              "        vertical-align: top;\n",
              "    }\n",
              "\n",
              "    .dataframe thead th {\n",
              "        text-align: right;\n",
              "    }\n",
              "</style>\n",
              "<table border=\"1\" class=\"dataframe\">\n",
              "  <thead>\n",
              "    <tr style=\"text-align: right;\">\n",
              "      <th></th>\n",
              "      <th>customer_id</th>\n",
              "      <th>date_registered</th>\n",
              "      <th>birthday</th>\n",
              "      <th>job</th>\n",
              "      <th>phone</th>\n",
              "      <th>email</th>\n",
              "      <th>country</th>\n",
              "      <th>state</th>\n",
              "      <th>zip</th>\n",
              "      <th>owner</th>\n",
              "      <th>company</th>\n",
              "    </tr>\n",
              "  </thead>\n",
              "  <tbody>\n",
              "    <tr>\n",
              "      <th>0</th>\n",
              "      <td>460429349361</td>\n",
              "      <td>2017-08-10 11:04:45</td>\n",
              "      <td>NaN</td>\n",
              "      <td>Engineer, mining</td>\n",
              "      <td>+1-283-990-1507x7713</td>\n",
              "      <td>christian92@gmail.com</td>\n",
              "      <td>NaN</td>\n",
              "      <td>NY</td>\n",
              "      <td>60091.0</td>\n",
              "      <td>Kathleen Hawkins MD</td>\n",
              "      <td>6.185414e+11</td>\n",
              "    </tr>\n",
              "    <tr>\n",
              "      <th>1</th>\n",
              "      <td>392559384176</td>\n",
              "      <td>2017-08-10 23:13:51</td>\n",
              "      <td>NaN</td>\n",
              "      <td>Arts administrator</td>\n",
              "      <td>400.808.2148</td>\n",
              "      <td>jenniferdavis@carter-ellis.biz</td>\n",
              "      <td>US</td>\n",
              "      <td>CA</td>\n",
              "      <td>NaN</td>\n",
              "      <td>John Edwards</td>\n",
              "      <td>8.330990e+11</td>\n",
              "    </tr>\n",
              "    <tr>\n",
              "      <th>2</th>\n",
              "      <td>674438580580</td>\n",
              "      <td>2017-08-11 08:35:32</td>\n",
              "      <td>NaN</td>\n",
              "      <td>Psychologist, forensic</td>\n",
              "      <td>(299)543-9962</td>\n",
              "      <td>wwelch@lee.com</td>\n",
              "      <td>US</td>\n",
              "      <td>CA</td>\n",
              "      <td>NaN</td>\n",
              "      <td>John Edwards</td>\n",
              "      <td>2.114827e+11</td>\n",
              "    </tr>\n",
              "    <tr>\n",
              "      <th>3</th>\n",
              "      <td>364017777045</td>\n",
              "      <td>2017-08-11 10:15:37</td>\n",
              "      <td>NaN</td>\n",
              "      <td>Air cabin crew</td>\n",
              "      <td>+1-213-455-5314</td>\n",
              "      <td>xjones@smith.net</td>\n",
              "      <td>US</td>\n",
              "      <td>NaN</td>\n",
              "      <td>60091.0</td>\n",
              "      <td>Erica Anderson</td>\n",
              "      <td>NaN</td>\n",
              "    </tr>\n",
              "    <tr>\n",
              "      <th>4</th>\n",
              "      <td>551397602202</td>\n",
              "      <td>2017-08-11 13:33:23</td>\n",
              "      <td>NaN</td>\n",
              "      <td>Press sub</td>\n",
              "      <td>619.795.6618</td>\n",
              "      <td>walterromero@gmail.com</td>\n",
              "      <td>US</td>\n",
              "      <td>NaN</td>\n",
              "      <td>NaN</td>\n",
              "      <td>Kathleen Hawkins MD</td>\n",
              "      <td>NaN</td>\n",
              "    </tr>\n",
              "  </tbody>\n",
              "</table>\n",
              "</div>"
            ],
            "text/plain": [
              "    customer_id      date_registered  ...                owner       company\n",
              "0  460429349361  2017-08-10 11:04:45  ...  Kathleen Hawkins MD  6.185414e+11\n",
              "1  392559384176  2017-08-10 23:13:51  ...         John Edwards  8.330990e+11\n",
              "2  674438580580  2017-08-11 08:35:32  ...         John Edwards  2.114827e+11\n",
              "3  364017777045  2017-08-11 10:15:37  ...       Erica Anderson           NaN\n",
              "4  551397602202  2017-08-11 13:33:23  ...  Kathleen Hawkins MD           NaN\n",
              "\n",
              "[5 rows x 11 columns]"
            ]
          },
          "metadata": {
            "tags": []
          },
          "execution_count": 50
        }
      ]
    },
    {
      "cell_type": "code",
      "metadata": {
        "colab": {
          "base_uri": "https://localhost:8080/",
          "height": 225
        },
        "id": "YxOLJddq4Wrv",
        "outputId": "28b12bf8-87fa-4f6c-d406-5db000e6d1c3"
      },
      "source": [
        "#\n",
        "interactions.shape  # (5625, 7)\n",
        "interactions.head()"
      ],
      "execution_count": 51,
      "outputs": [
        {
          "output_type": "execute_result",
          "data": {
            "text/plain": [
              "(5625, 7)"
            ]
          },
          "metadata": {
            "tags": []
          },
          "execution_count": 51
        },
        {
          "output_type": "execute_result",
          "data": {
            "text/html": [
              "<div>\n",
              "<style scoped>\n",
              "    .dataframe tbody tr th:only-of-type {\n",
              "        vertical-align: middle;\n",
              "    }\n",
              "\n",
              "    .dataframe tbody tr th {\n",
              "        vertical-align: top;\n",
              "    }\n",
              "\n",
              "    .dataframe thead th {\n",
              "        text-align: right;\n",
              "    }\n",
              "</style>\n",
              "<table border=\"1\" class=\"dataframe\">\n",
              "  <thead>\n",
              "    <tr style=\"text-align: right;\">\n",
              "      <th></th>\n",
              "      <th>id</th>\n",
              "      <th>time</th>\n",
              "      <th>customer_id</th>\n",
              "      <th>action</th>\n",
              "      <th>amount</th>\n",
              "      <th>session</th>\n",
              "      <th>referrer</th>\n",
              "    </tr>\n",
              "  </thead>\n",
              "  <tbody>\n",
              "    <tr>\n",
              "      <th>0</th>\n",
              "      <td>807870369974</td>\n",
              "      <td>2017-08-17 18:18:45</td>\n",
              "      <td>676332384432</td>\n",
              "      <td>contact_form</td>\n",
              "      <td>NaN</td>\n",
              "      <td>531094009776</td>\n",
              "      <td>https://www.twitter.com</td>\n",
              "    </tr>\n",
              "    <tr>\n",
              "      <th>1</th>\n",
              "      <td>889936071815</td>\n",
              "      <td>2017-08-18 18:58:39</td>\n",
              "      <td>676332384432</td>\n",
              "      <td>contact_form</td>\n",
              "      <td>NaN</td>\n",
              "      <td>531094009776</td>\n",
              "      <td>https://www.twitter.com</td>\n",
              "    </tr>\n",
              "    <tr>\n",
              "      <th>2</th>\n",
              "      <td>890016715098</td>\n",
              "      <td>2017-08-22 15:54:26</td>\n",
              "      <td>756895858030</td>\n",
              "      <td>purchase</td>\n",
              "      <td>50.54</td>\n",
              "      <td>355429835992</td>\n",
              "      <td>NaN</td>\n",
              "    </tr>\n",
              "    <tr>\n",
              "      <th>3</th>\n",
              "      <td>539965059120</td>\n",
              "      <td>2017-08-24 23:25:33</td>\n",
              "      <td>676332384432</td>\n",
              "      <td>page_view</td>\n",
              "      <td>NaN</td>\n",
              "      <td>531094009776</td>\n",
              "      <td>NaN</td>\n",
              "    </tr>\n",
              "    <tr>\n",
              "      <th>4</th>\n",
              "      <td>496056352403</td>\n",
              "      <td>2017-08-25 09:32:25</td>\n",
              "      <td>676332384432</td>\n",
              "      <td>page_view</td>\n",
              "      <td>NaN</td>\n",
              "      <td>531094009776</td>\n",
              "      <td>https://medium.com/article</td>\n",
              "    </tr>\n",
              "  </tbody>\n",
              "</table>\n",
              "</div>"
            ],
            "text/plain": [
              "             id                 time  ...       session                    referrer\n",
              "0  807870369974  2017-08-17 18:18:45  ...  531094009776     https://www.twitter.com\n",
              "1  889936071815  2017-08-18 18:58:39  ...  531094009776     https://www.twitter.com\n",
              "2  890016715098  2017-08-22 15:54:26  ...  355429835992                         NaN\n",
              "3  539965059120  2017-08-24 23:25:33  ...  531094009776                         NaN\n",
              "4  496056352403  2017-08-25 09:32:25  ...  531094009776  https://medium.com/article\n",
              "\n",
              "[5 rows x 7 columns]"
            ]
          },
          "metadata": {
            "tags": []
          },
          "execution_count": 51
        }
      ]
    },
    {
      "cell_type": "code",
      "metadata": {
        "colab": {
          "base_uri": "https://localhost:8080/",
          "height": 225
        },
        "id": "W_hk-gmw4xlc",
        "outputId": "ca27f2ac-9ff5-4d23-b432-e80667bc4dac"
      },
      "source": [
        "#\n",
        "leads.shape  # (584, 3)\n",
        "leads.head()"
      ],
      "execution_count": 52,
      "outputs": [
        {
          "output_type": "execute_result",
          "data": {
            "text/plain": [
              "(584, 3)"
            ]
          },
          "metadata": {
            "tags": []
          },
          "execution_count": 52
        },
        {
          "output_type": "execute_result",
          "data": {
            "text/html": [
              "<div>\n",
              "<style scoped>\n",
              "    .dataframe tbody tr th:only-of-type {\n",
              "        vertical-align: middle;\n",
              "    }\n",
              "\n",
              "    .dataframe tbody tr th {\n",
              "        vertical-align: top;\n",
              "    }\n",
              "\n",
              "    .dataframe thead th {\n",
              "        text-align: right;\n",
              "    }\n",
              "</style>\n",
              "<table border=\"1\" class=\"dataframe\">\n",
              "  <thead>\n",
              "    <tr style=\"text-align: right;\">\n",
              "      <th></th>\n",
              "      <th>customer_id</th>\n",
              "      <th>time</th>\n",
              "      <th>label</th>\n",
              "    </tr>\n",
              "  </thead>\n",
              "  <tbody>\n",
              "    <tr>\n",
              "      <th>0</th>\n",
              "      <td>961424493033</td>\n",
              "      <td>2017-09-17 08:20:09</td>\n",
              "      <td>False</td>\n",
              "    </tr>\n",
              "    <tr>\n",
              "      <th>1</th>\n",
              "      <td>739795366381</td>\n",
              "      <td>2017-09-20 18:14:56</td>\n",
              "      <td>False</td>\n",
              "    </tr>\n",
              "    <tr>\n",
              "      <th>2</th>\n",
              "      <td>433081973416</td>\n",
              "      <td>2017-09-26 12:14:42</td>\n",
              "      <td>False</td>\n",
              "    </tr>\n",
              "    <tr>\n",
              "      <th>3</th>\n",
              "      <td>178336564320</td>\n",
              "      <td>2017-09-29 12:48:25</td>\n",
              "      <td>False</td>\n",
              "    </tr>\n",
              "    <tr>\n",
              "      <th>4</th>\n",
              "      <td>203924762965</td>\n",
              "      <td>2017-10-02 02:57:06</td>\n",
              "      <td>False</td>\n",
              "    </tr>\n",
              "  </tbody>\n",
              "</table>\n",
              "</div>"
            ],
            "text/plain": [
              "    customer_id                 time  label\n",
              "0  961424493033  2017-09-17 08:20:09  False\n",
              "1  739795366381  2017-09-20 18:14:56  False\n",
              "2  433081973416  2017-09-26 12:14:42  False\n",
              "3  178336564320  2017-09-29 12:48:25  False\n",
              "4  203924762965  2017-10-02 02:57:06  False"
            ]
          },
          "metadata": {
            "tags": []
          },
          "execution_count": 52
        }
      ]
    },
    {
      "cell_type": "code",
      "metadata": {
        "id": "vOv6meMi5e6c"
      },
      "source": [
        "customers.to_csv(\"customers.csv\", index = False)\n",
        "interactions.to_csv(\"interactions.csv\", index = False)\n",
        "leads.to_csv(\"leads.csv\", index=False)"
      ],
      "execution_count": 53,
      "outputs": []
    },
    {
      "cell_type": "code",
      "metadata": {
        "id": "UToosGlHf7pi"
      },
      "source": [
        "# Merge the three datasets\n",
        "X = customers.merge(\n",
        "                    interactions,\n",
        "                    on='customer_id').merge(\n",
        "                                            leads,\n",
        "                                            on='customer_id'\n",
        "                                            )\n",
        "y = X['label']"
      ],
      "execution_count": 54,
      "outputs": []
    },
    {
      "cell_type": "code",
      "metadata": {
        "id": "SFybJWmwHTAz"
      },
      "source": [
        "X.head()\n",
        "y.head()"
      ],
      "execution_count": null,
      "outputs": []
    },
    {
      "cell_type": "code",
      "metadata": {
        "id": "Fb2yBf1nf8vn"
      },
      "source": [
        "X = X.drop(\n",
        "            [ 'customer_id', 'date_registered', 'birthday','phone', 'email',\n",
        "              'owner', 'company', 'id', 'time_x',\n",
        "              'session', 'referrer', 'time_y', 'label', 'country'],\n",
        "              axis=1\n",
        "           )\n",
        "\n",
        "display(X.head())"
      ],
      "execution_count": null,
      "outputs": []
    },
    {
      "cell_type": "markdown",
      "metadata": {
        "id": "3_CUSL3qgDSg"
      },
      "source": [
        "## Data Transformation\n",
        "We will convert our data into Woodwork data structures. Doing so enables us to have more control over the types passed to and inferred by AutoML."
      ]
    },
    {
      "cell_type": "code",
      "metadata": {
        "id": "CNI3jO1mJkAB"
      },
      "source": [
        "# Get default Woodwork data structure\n",
        "# for this DataFrame by initializing it\n",
        "#  with woordwork.init()\n",
        "\n",
        "X.ww.init()"
      ],
      "execution_count": 59,
      "outputs": []
    },
    {
      "cell_type": "code",
      "metadata": {
        "id": "ABNwpyyDJdkE",
        "outputId": "086d2181-f906-4fd6-ceab-58b821f2b484",
        "colab": {
          "base_uri": "https://localhost:8080/",
          "height": 237
        }
      },
      "source": [
        "# Get X data type\n",
        "# Semantic tag of 'jod; is not clear\n",
        "X.ww"
      ],
      "execution_count": 61,
      "outputs": [
        {
          "output_type": "execute_result",
          "data": {
            "text/html": [
              "<table border=\"1\" class=\"dataframe\">\n",
              "  <thead>\n",
              "    <tr style=\"text-align: right;\">\n",
              "      <th></th>\n",
              "      <th>Physical Type</th>\n",
              "      <th>Logical Type</th>\n",
              "      <th>Semantic Tag(s)</th>\n",
              "    </tr>\n",
              "    <tr>\n",
              "      <th>Column</th>\n",
              "      <th></th>\n",
              "      <th></th>\n",
              "      <th></th>\n",
              "    </tr>\n",
              "  </thead>\n",
              "  <tbody>\n",
              "    <tr>\n",
              "      <th>job</th>\n",
              "      <td>string</td>\n",
              "      <td>NaturalLanguage</td>\n",
              "      <td>[]</td>\n",
              "    </tr>\n",
              "    <tr>\n",
              "      <th>state</th>\n",
              "      <td>category</td>\n",
              "      <td>Categorical</td>\n",
              "      <td>['category']</td>\n",
              "    </tr>\n",
              "    <tr>\n",
              "      <th>zip</th>\n",
              "      <td>float64</td>\n",
              "      <td>Double</td>\n",
              "      <td>['numeric']</td>\n",
              "    </tr>\n",
              "    <tr>\n",
              "      <th>action</th>\n",
              "      <td>category</td>\n",
              "      <td>Categorical</td>\n",
              "      <td>['category']</td>\n",
              "    </tr>\n",
              "    <tr>\n",
              "      <th>amount</th>\n",
              "      <td>float64</td>\n",
              "      <td>Double</td>\n",
              "      <td>['numeric']</td>\n",
              "    </tr>\n",
              "  </tbody>\n",
              "</table>"
            ],
            "text/plain": [
              "       Physical Type     Logical Type Semantic Tag(s)\n",
              "Column                                               \n",
              "job           string  NaturalLanguage              []\n",
              "state       category      Categorical    ['category']\n",
              "zip          float64           Double     ['numeric']\n",
              "action      category      Categorical    ['category']\n",
              "amount       float64           Double     ['numeric']"
            ]
          },
          "metadata": {
            "tags": []
          },
          "execution_count": 61
        }
      ]
    },
    {
      "cell_type": "code",
      "metadata": {
        "id": "kewMFSpJIrzS",
        "outputId": "ae159f97-ee2a-44dc-e234-15b3e22c1ace",
        "colab": {
          "base_uri": "https://localhost:8080/"
        }
      },
      "source": [
        " #from evalml.utils import infer_feature_types\n",
        " #X = infer_feature_types(X)\n",
        " #type(X)"
      ],
      "execution_count": 47,
      "outputs": [
        {
          "output_type": "execute_result",
          "data": {
            "text/plain": [
              "pandas.core.frame.DataFrame"
            ]
          },
          "metadata": {
            "tags": []
          },
          "execution_count": 47
        }
      ]
    },
    {
      "cell_type": "code",
      "metadata": {
        "id": "lIoerDRBAM7G",
        "outputId": "4582a7a9-2093-47ff-ddaf-56bd5f75f8f2",
        "colab": {
          "base_uri": "https://localhost:8080/",
          "height": 237
        }
      },
      "source": [
        "# Initialize X with proper semantic tag\n",
        "# for job\n",
        "X.ww.init(\n",
        "          semantic_tags={'job': 'category'},\n",
        "          logical_types={'job': 'Categorical'}\n",
        "          )\n",
        "\n",
        "y = ww.init_series(y)\n",
        "X.ww"
      ],
      "execution_count": 62,
      "outputs": [
        {
          "output_type": "execute_result",
          "data": {
            "text/html": [
              "<table border=\"1\" class=\"dataframe\">\n",
              "  <thead>\n",
              "    <tr style=\"text-align: right;\">\n",
              "      <th></th>\n",
              "      <th>Physical Type</th>\n",
              "      <th>Logical Type</th>\n",
              "      <th>Semantic Tag(s)</th>\n",
              "    </tr>\n",
              "    <tr>\n",
              "      <th>Column</th>\n",
              "      <th></th>\n",
              "      <th></th>\n",
              "      <th></th>\n",
              "    </tr>\n",
              "  </thead>\n",
              "  <tbody>\n",
              "    <tr>\n",
              "      <th>job</th>\n",
              "      <td>category</td>\n",
              "      <td>Categorical</td>\n",
              "      <td>['category']</td>\n",
              "    </tr>\n",
              "    <tr>\n",
              "      <th>state</th>\n",
              "      <td>category</td>\n",
              "      <td>Categorical</td>\n",
              "      <td>['category']</td>\n",
              "    </tr>\n",
              "    <tr>\n",
              "      <th>zip</th>\n",
              "      <td>float64</td>\n",
              "      <td>Double</td>\n",
              "      <td>['numeric']</td>\n",
              "    </tr>\n",
              "    <tr>\n",
              "      <th>action</th>\n",
              "      <td>category</td>\n",
              "      <td>Categorical</td>\n",
              "      <td>['category']</td>\n",
              "    </tr>\n",
              "    <tr>\n",
              "      <th>amount</th>\n",
              "      <td>float64</td>\n",
              "      <td>Double</td>\n",
              "      <td>['numeric']</td>\n",
              "    </tr>\n",
              "  </tbody>\n",
              "</table>"
            ],
            "text/plain": [
              "       Physical Type Logical Type Semantic Tag(s)\n",
              "Column                                           \n",
              "job         category  Categorical    ['category']\n",
              "state       category  Categorical    ['category']\n",
              "zip          float64       Double     ['numeric']\n",
              "action      category  Categorical    ['category']\n",
              "amount       float64       Double     ['numeric']"
            ]
          },
          "metadata": {
            "tags": []
          },
          "execution_count": 62
        }
      ]
    },
    {
      "cell_type": "code",
      "metadata": {
        "id": "iD8wrJE5LR_u",
        "outputId": "f523319a-d8b3-4b05-e579-b346c27b5cfa",
        "colab": {
          "base_uri": "https://localhost:8080/",
          "height": 254
        }
      },
      "source": [
        "X.head(3)\n",
        "type(X)\n",
        "print()\n",
        "type(y)\n",
        "y[:4]"
      ],
      "execution_count": 67,
      "outputs": [
        {
          "output_type": "execute_result",
          "data": {
            "text/html": [
              "<div>\n",
              "<style scoped>\n",
              "    .dataframe tbody tr th:only-of-type {\n",
              "        vertical-align: middle;\n",
              "    }\n",
              "\n",
              "    .dataframe tbody tr th {\n",
              "        vertical-align: top;\n",
              "    }\n",
              "\n",
              "    .dataframe thead th {\n",
              "        text-align: right;\n",
              "    }\n",
              "</style>\n",
              "<table border=\"1\" class=\"dataframe\">\n",
              "  <thead>\n",
              "    <tr style=\"text-align: right;\">\n",
              "      <th></th>\n",
              "      <th>job</th>\n",
              "      <th>state</th>\n",
              "      <th>zip</th>\n",
              "      <th>action</th>\n",
              "      <th>amount</th>\n",
              "    </tr>\n",
              "  </thead>\n",
              "  <tbody>\n",
              "    <tr>\n",
              "      <th>0</th>\n",
              "      <td>Engineer, mining</td>\n",
              "      <td>NY</td>\n",
              "      <td>60091.0</td>\n",
              "      <td>page_view</td>\n",
              "      <td>NaN</td>\n",
              "    </tr>\n",
              "    <tr>\n",
              "      <th>1</th>\n",
              "      <td>Psychologist, forensic</td>\n",
              "      <td>CA</td>\n",
              "      <td>NaN</td>\n",
              "      <td>purchase</td>\n",
              "      <td>135.23</td>\n",
              "    </tr>\n",
              "    <tr>\n",
              "      <th>2</th>\n",
              "      <td>Psychologist, forensic</td>\n",
              "      <td>CA</td>\n",
              "      <td>NaN</td>\n",
              "      <td>page_view</td>\n",
              "      <td>NaN</td>\n",
              "    </tr>\n",
              "  </tbody>\n",
              "</table>\n",
              "</div>"
            ],
            "text/plain": [
              "                      job state      zip     action  amount\n",
              "0        Engineer, mining    NY  60091.0  page_view     NaN\n",
              "1  Psychologist, forensic    CA      NaN   purchase  135.23\n",
              "2  Psychologist, forensic    CA      NaN  page_view     NaN"
            ]
          },
          "metadata": {
            "tags": []
          },
          "execution_count": 67
        },
        {
          "output_type": "execute_result",
          "data": {
            "text/plain": [
              "pandas.core.frame.DataFrame"
            ]
          },
          "metadata": {
            "tags": []
          },
          "execution_count": 67
        },
        {
          "output_type": "stream",
          "text": [
            "\n"
          ],
          "name": "stdout"
        },
        {
          "output_type": "execute_result",
          "data": {
            "text/plain": [
              "pandas.core.series.Series"
            ]
          },
          "metadata": {
            "tags": []
          },
          "execution_count": 67
        },
        {
          "output_type": "execute_result",
          "data": {
            "text/plain": [
              "0    False\n",
              "1     True\n",
              "2     True\n",
              "3    False\n",
              "Name: label, dtype: bool"
            ]
          },
          "metadata": {
            "tags": []
          },
          "execution_count": 67
        }
      ]
    },
    {
      "cell_type": "markdown",
      "metadata": {
        "id": "bGxYlILcC5jI"
      },
      "source": [
        "## Search for the best pipeline¶"
      ]
    },
    {
      "cell_type": "markdown",
      "metadata": {
        "id": "he1zrA60Dawd"
      },
      "source": [
        "In order to validate the results of the pipeline creation and optimization process, we will save some of our data as a holdout set.\n",
        "\n",
        "EvalML natively supports one-hot encoding and imputation so the above NaN and categorical values will be taken care of."
      ]
    },
    {
      "cell_type": "code",
      "metadata": {
        "id": "SHW2UFjyCuI0"
      },
      "source": [
        "X_train, X_holdout, y_train, y_holdout = evalml. \\\n",
        "                                         preprocessing. \\\n",
        "                                         split_data(\n",
        "                                                     X, y,\n",
        "                                                     problem_type='binary',\n",
        "                                                     test_size=0.2,\n",
        "                                                     random_seed=0\n",
        "                                                    )\n"
      ],
      "execution_count": 72,
      "outputs": []
    },
    {
      "cell_type": "markdown",
      "metadata": {
        "id": "LvB9jvLcMPzy"
      },
      "source": [
        "### Data Checks"
      ]
    },
    {
      "cell_type": "markdown",
      "metadata": {
        "id": "5c68pE5RMKf3"
      },
      "source": [
        "Before calling AutoMLSearch.search, we should run some sanity checks on our data to ensure that the input data being passed will not run into some common issues before running a potentially time-consuming search. EvalML has various data checks that makes this easy. Each data check will return a collection of warnings and errors if it detects potential issues with the input data. This allows users to inspect their data to avoid confusing errors that may arise during the search process. You can learn about each of the data checks available through our data checks guide\n",
        "\n",
        "Here, we will run the DefaultDataChecks class, which contains a series of data checks that are generally useful."
      ]
    },
    {
      "cell_type": "code",
      "metadata": {
        "id": "JAW-lIoaL1v1",
        "outputId": "c4d5bf61-c62c-4179-e457-b1ea6cb5f7a4",
        "colab": {
          "base_uri": "https://localhost:8080/"
        }
      },
      "source": [
        "data_checks = DefaultDataChecks(\"binary\", \"log loss binary\")\n",
        "data_checks.validate(X_train, y_train)"
      ],
      "execution_count": 71,
      "outputs": [
        {
          "output_type": "execute_result",
          "data": {
            "text/plain": [
              "{'actions': [],\n",
              " 'errors': [],\n",
              " 'warnings': [{'code': 'CLASS_IMBALANCE_BELOW_THRESHOLD',\n",
              "   'data_check_name': 'ClassImbalanceDataCheck',\n",
              "   'details': {'target_values': [True]},\n",
              "   'level': 'warning',\n",
              "   'message': 'The following labels fall below 10% of the target: [True]'}]}"
            ]
          },
          "metadata": {
            "tags": []
          },
          "execution_count": 71
        }
      ]
    },
    {
      "cell_type": "markdown",
      "metadata": {
        "id": "KbRdyF7HXAWV"
      },
      "source": [
        "## Configure LeadScoring objectives"
      ]
    },
    {
      "cell_type": "markdown",
      "metadata": {
        "id": "VW5bqsXCW1iX"
      },
      "source": [
        "In EvalML, you can have generic objectives, such as RMSE, loglossbinary or loglossmulticlass and so on. OR, you can have business specific objectives.\n",
        "To optimize the pipelines toward the specific business needs of this model, you can set your own assumptions for how much value is gained through true positives and the cost associated with false positives. These parameters are\n",
        "\n",
        "> true_positive - dollar amount to be gained with a successful lead  \n",
        "false_positive - dollar amount to be lost with an unsuccessful lead\n",
        "\n",
        "Using these parameters, EvalML builds a pileline that will maximize the amount of revenue per lead generated."
      ]
    },
    {
      "cell_type": "markdown",
      "metadata": {
        "id": "KDpFcRRUEIxM"
      },
      "source": [
        "Because the lead scoring labels are binary, we will use `AutoMLSearch(X_train=X_train, y_train=y_train, problem_type='binary')`. When we call `.search()`, the search for the best pipeline will begin."
      ]
    },
    {
      "cell_type": "code",
      "metadata": {
        "colab": {
          "base_uri": "https://localhost:8080/"
        },
        "id": "tBN22fV2D4-4",
        "outputId": "8ce144b5-8401-4127-fb1d-b2e023034cb2"
      },
      "source": [
        "# Instantiate AutoMLSearch class \n",
        "automl = AutoMLSearch(\n",
        "                      X_train=X_train,\n",
        "                      y_train=y_train,\n",
        "                      problem_type='binary',\n",
        "                      objective=lead_scoring_objective, # Could be LogLossBinary \n",
        "                      additional_objectives=['auc'],\n",
        "                      max_batches=3,\n",
        "                      # allowed_model_families=[\"catboost\", \"random_forest\", \"linear_model\"],\n",
        "                    )\n",
        "\n"
      ],
      "execution_count": 81,
      "outputs": [
        {
          "output_type": "stream",
          "text": [
            "Generating pipelines to search over...\n",
            "8 pipelines ready for search.\n"
          ],
          "name": "stdout"
        }
      ]
    },
    {
      "cell_type": "code",
      "metadata": {
        "colab": {
          "base_uri": "https://localhost:8080/",
          "height": 1000,
          "referenced_widgets": [
            "a55f27aef6c943028ba573d04d3e80ea"
          ]
        },
        "id": "IYO2Kl6REkGw",
        "outputId": "2cf14cc4-6c15-49ea-d0d1-783a24695a8a"
      },
      "source": [
        "start = time.time()\n",
        "automl.search()\n",
        "end = time.time()\n",
        "print(\"Time taken: \", (end-start)/60)"
      ],
      "execution_count": 82,
      "outputs": [
        {
          "output_type": "stream",
          "text": [
            "\n",
            "*****************************\n",
            "* Beginning pipeline search *\n",
            "*****************************\n",
            "\n",
            "Optimizing for Lead Scoring. \n",
            "Greater score is better.\n",
            "\n",
            "Using SequentialEngine to train and score pipelines.\n",
            "Searching up to 3 batches for a total of 19 pipelines. \n",
            "Allowed model families: lightgbm, linear_model, extra_trees, catboost, decision_tree, xgboost, random_forest\n",
            "\n"
          ],
          "name": "stdout"
        },
        {
          "output_type": "display_data",
          "data": {
            "application/vnd.jupyter.widget-view+json": {
              "model_id": "a55f27aef6c943028ba573d04d3e80ea",
              "version_minor": 0,
              "version_major": 2
            },
            "text/plain": [
              "FigureWidget({\n",
              "    'data': [{'mode': 'lines+markers',\n",
              "              'name': 'Best Score',\n",
              "              'type'…"
            ]
          },
          "metadata": {
            "tags": []
          }
        },
        {
          "output_type": "stream",
          "text": [
            "Evaluating Baseline Pipeline: Mode Baseline Binary Classification Pipeline\n",
            "Mode Baseline Binary Classification Pipeline:\n",
            "\tStarting cross validation\n",
            "\tFinished cross validation - mean Lead Scoring: 0.000\n",
            "\n",
            "*****************************\n",
            "* Evaluating Batch Number 1 *\n",
            "*****************************\n",
            "\n",
            "Elastic Net Classifier w/ Imputer + One Hot Encoder + SMOTENC Oversampler + Standard Scaler:\n",
            "\tStarting cross validation\n",
            "\tFinished cross validation - mean Lead Scoring: 0.209\n",
            "\tHigh coefficient of variation (cv >= 0.2) within cross validation scores.\n",
            "\tElastic Net Classifier w/ Imputer + One Hot Encoder + SMOTENC Oversampler + Standard Scaler may not perform as estimated on unseen data.\n",
            "Decision Tree Classifier w/ Imputer + One Hot Encoder + SMOTENC Oversampler:\n",
            "\tStarting cross validation\n",
            "\tFinished cross validation - mean Lead Scoring: -0.006\n",
            "\tHigh coefficient of variation (cv >= 0.2) within cross validation scores.\n",
            "\tDecision Tree Classifier w/ Imputer + One Hot Encoder + SMOTENC Oversampler may not perform as estimated on unseen data.\n",
            "Random Forest Classifier w/ Imputer + One Hot Encoder + SMOTENC Oversampler:\n",
            "\tStarting cross validation\n",
            "\tFinished cross validation - mean Lead Scoring: 0.211\n",
            "\tHigh coefficient of variation (cv >= 0.2) within cross validation scores.\n",
            "\tRandom Forest Classifier w/ Imputer + One Hot Encoder + SMOTENC Oversampler may not perform as estimated on unseen data.\n",
            "LightGBM Classifier w/ Imputer + One Hot Encoder + SMOTENC Oversampler:\n",
            "\tStarting cross validation\n",
            "\tFinished cross validation - mean Lead Scoring: 0.181\n",
            "\tHigh coefficient of variation (cv >= 0.2) within cross validation scores.\n",
            "\tLightGBM Classifier w/ Imputer + One Hot Encoder + SMOTENC Oversampler may not perform as estimated on unseen data.\n",
            "Logistic Regression Classifier w/ Imputer + One Hot Encoder + SMOTENC Oversampler + Standard Scaler:\n",
            "\tStarting cross validation\n",
            "\tFinished cross validation - mean Lead Scoring: 0.209\n",
            "\tHigh coefficient of variation (cv >= 0.2) within cross validation scores.\n",
            "\tLogistic Regression Classifier w/ Imputer + One Hot Encoder + SMOTENC Oversampler + Standard Scaler may not perform as estimated on unseen data.\n",
            "XGBoost Classifier w/ Imputer + One Hot Encoder + SMOTENC Oversampler:\n",
            "\tStarting cross validation\n",
            "\tFinished cross validation - mean Lead Scoring: 1.009\n",
            "\tHigh coefficient of variation (cv >= 0.2) within cross validation scores.\n",
            "\tXGBoost Classifier w/ Imputer + One Hot Encoder + SMOTENC Oversampler may not perform as estimated on unseen data.\n",
            "Extra Trees Classifier w/ Imputer + One Hot Encoder + SMOTENC Oversampler:\n",
            "\tStarting cross validation\n",
            "\tFinished cross validation - mean Lead Scoring: 0.211\n",
            "\tHigh coefficient of variation (cv >= 0.2) within cross validation scores.\n",
            "\tExtra Trees Classifier w/ Imputer + One Hot Encoder + SMOTENC Oversampler may not perform as estimated on unseen data.\n",
            "CatBoost Classifier w/ Imputer + SMOTENC Oversampler:\n",
            "\tStarting cross validation\n",
            "\tFinished cross validation - mean Lead Scoring: 9.321\n",
            "\tHigh coefficient of variation (cv >= 0.2) within cross validation scores.\n",
            "\tCatBoost Classifier w/ Imputer + SMOTENC Oversampler may not perform as estimated on unseen data.\n",
            "\n",
            "*****************************\n",
            "* Evaluating Batch Number 2 *\n",
            "*****************************\n",
            "\n",
            "CatBoost Classifier w/ Imputer + SMOTENC Oversampler:\n",
            "\tStarting cross validation\n",
            "\tFinished cross validation - mean Lead Scoring: 0.600\n",
            "\tHigh coefficient of variation (cv >= 0.2) within cross validation scores.\n",
            "\tCatBoost Classifier w/ Imputer + SMOTENC Oversampler may not perform as estimated on unseen data.\n",
            "CatBoost Classifier w/ Imputer + SMOTENC Oversampler:\n",
            "\tStarting cross validation\n",
            "\tFinished cross validation - mean Lead Scoring: 0.598\n",
            "\tHigh coefficient of variation (cv >= 0.2) within cross validation scores.\n",
            "\tCatBoost Classifier w/ Imputer + SMOTENC Oversampler may not perform as estimated on unseen data.\n",
            "CatBoost Classifier w/ Imputer + SMOTENC Oversampler:\n",
            "\tStarting cross validation\n",
            "\tFinished cross validation - mean Lead Scoring: 0.187\n",
            "\tHigh coefficient of variation (cv >= 0.2) within cross validation scores.\n",
            "\tCatBoost Classifier w/ Imputer + SMOTENC Oversampler may not perform as estimated on unseen data.\n",
            "CatBoost Classifier w/ Imputer + SMOTENC Oversampler:\n",
            "\tStarting cross validation\n",
            "\tFinished cross validation - mean Lead Scoring: 0.198\n",
            "\tHigh coefficient of variation (cv >= 0.2) within cross validation scores.\n",
            "\tCatBoost Classifier w/ Imputer + SMOTENC Oversampler may not perform as estimated on unseen data.\n",
            "CatBoost Classifier w/ Imputer + SMOTENC Oversampler:\n",
            "\tStarting cross validation\n",
            "\tFinished cross validation - mean Lead Scoring: 0.204\n",
            "\tHigh coefficient of variation (cv >= 0.2) within cross validation scores.\n",
            "\tCatBoost Classifier w/ Imputer + SMOTENC Oversampler may not perform as estimated on unseen data.\n",
            "\n",
            "*****************************\n",
            "* Evaluating Batch Number 3 *\n",
            "*****************************\n",
            "\n",
            "XGBoost Classifier w/ Imputer + One Hot Encoder + SMOTENC Oversampler:\n",
            "\tStarting cross validation\n",
            "\tFinished cross validation - mean Lead Scoring: 0.176\n",
            "\tHigh coefficient of variation (cv >= 0.2) within cross validation scores.\n",
            "\tXGBoost Classifier w/ Imputer + One Hot Encoder + SMOTENC Oversampler may not perform as estimated on unseen data.\n",
            "XGBoost Classifier w/ Imputer + One Hot Encoder + SMOTENC Oversampler:\n",
            "\tStarting cross validation\n",
            "\tFinished cross validation - mean Lead Scoring: -0.039\n",
            "\tHigh coefficient of variation (cv >= 0.2) within cross validation scores.\n",
            "\tXGBoost Classifier w/ Imputer + One Hot Encoder + SMOTENC Oversampler may not perform as estimated on unseen data.\n",
            "XGBoost Classifier w/ Imputer + One Hot Encoder + SMOTENC Oversampler:\n",
            "\tStarting cross validation\n",
            "\tFinished cross validation - mean Lead Scoring: 0.168\n",
            "\tHigh coefficient of variation (cv >= 0.2) within cross validation scores.\n",
            "\tXGBoost Classifier w/ Imputer + One Hot Encoder + SMOTENC Oversampler may not perform as estimated on unseen data.\n",
            "XGBoost Classifier w/ Imputer + One Hot Encoder + SMOTENC Oversampler:\n",
            "\tStarting cross validation\n",
            "\tFinished cross validation - mean Lead Scoring: 0.826\n",
            "\tHigh coefficient of variation (cv >= 0.2) within cross validation scores.\n",
            "\tXGBoost Classifier w/ Imputer + One Hot Encoder + SMOTENC Oversampler may not perform as estimated on unseen data.\n",
            "XGBoost Classifier w/ Imputer + One Hot Encoder + SMOTENC Oversampler:\n",
            "\tStarting cross validation\n",
            "\tFinished cross validation - mean Lead Scoring: 0.213\n",
            "\tHigh coefficient of variation (cv >= 0.2) within cross validation scores.\n",
            "\tXGBoost Classifier w/ Imputer + One Hot Encoder + SMOTENC Oversampler may not perform as estimated on unseen data.\n",
            "\n",
            "Search finished after 01:04            \n",
            "Best pipeline: CatBoost Classifier w/ Imputer + SMOTENC Oversampler\n",
            "Best pipeline Lead Scoring: 9.321308\n",
            "Time taken:  1.0756040851275126\n"
          ],
          "name": "stdout"
        }
      ]
    },
    {
      "cell_type": "markdown",
      "metadata": {
        "id": "vAQyVtCnHWKP"
      },
      "source": [
        "## View rankings and select pipeline"
      ]
    },
    {
      "cell_type": "markdown",
      "metadata": {
        "id": "r8mtAFdnJq-J"
      },
      "source": [
        "Once the fitting process is done, we can see all of the pipelines that were searched, ranked by their score on the lead scoring objective we defined."
      ]
    },
    {
      "cell_type": "code",
      "metadata": {
        "colab": {
          "base_uri": "https://localhost:8080/",
          "height": 838
        },
        "id": "PCUBbOHZEmfn",
        "outputId": "707f22bd-c9b4-4c5d-a559-5d6b7c76b5ca"
      },
      "source": [
        "automl.rankings"
      ],
      "execution_count": 83,
      "outputs": [
        {
          "output_type": "execute_result",
          "data": {
            "text/html": [
              "<div>\n",
              "<style scoped>\n",
              "    .dataframe tbody tr th:only-of-type {\n",
              "        vertical-align: middle;\n",
              "    }\n",
              "\n",
              "    .dataframe tbody tr th {\n",
              "        vertical-align: top;\n",
              "    }\n",
              "\n",
              "    .dataframe thead th {\n",
              "        text-align: right;\n",
              "    }\n",
              "</style>\n",
              "<table border=\"1\" class=\"dataframe\">\n",
              "  <thead>\n",
              "    <tr style=\"text-align: right;\">\n",
              "      <th></th>\n",
              "      <th>id</th>\n",
              "      <th>pipeline_name</th>\n",
              "      <th>search_order</th>\n",
              "      <th>mean_cv_score</th>\n",
              "      <th>standard_deviation_cv_score</th>\n",
              "      <th>validation_score</th>\n",
              "      <th>percent_better_than_baseline</th>\n",
              "      <th>high_variance_cv</th>\n",
              "      <th>parameters</th>\n",
              "    </tr>\n",
              "  </thead>\n",
              "  <tbody>\n",
              "    <tr>\n",
              "      <th>0</th>\n",
              "      <td>8</td>\n",
              "      <td>CatBoost Classifier w/ Imputer + SMOTENC Overs...</td>\n",
              "      <td>8</td>\n",
              "      <td>9.321308</td>\n",
              "      <td>8.073085</td>\n",
              "      <td>0.000000</td>\n",
              "      <td>inf</td>\n",
              "      <td>True</td>\n",
              "      <td>{'Imputer': {'categorical_impute_strategy': 'm...</td>\n",
              "    </tr>\n",
              "    <tr>\n",
              "      <th>1</th>\n",
              "      <td>6</td>\n",
              "      <td>XGBoost Classifier w/ Imputer + One Hot Encode...</td>\n",
              "      <td>6</td>\n",
              "      <td>1.008740</td>\n",
              "      <td>1.298148</td>\n",
              "      <td>-0.064516</td>\n",
              "      <td>inf</td>\n",
              "      <td>True</td>\n",
              "      <td>{'Imputer': {'categorical_impute_strategy': 'm...</td>\n",
              "    </tr>\n",
              "    <tr>\n",
              "      <th>6</th>\n",
              "      <td>7</td>\n",
              "      <td>Extra Trees Classifier w/ Imputer + One Hot En...</td>\n",
              "      <td>7</td>\n",
              "      <td>0.210890</td>\n",
              "      <td>0.370874</td>\n",
              "      <td>-0.006452</td>\n",
              "      <td>inf</td>\n",
              "      <td>True</td>\n",
              "      <td>{'Imputer': {'categorical_impute_strategy': 'm...</td>\n",
              "    </tr>\n",
              "    <tr>\n",
              "      <th>7</th>\n",
              "      <td>3</td>\n",
              "      <td>Random Forest Classifier w/ Imputer + One Hot ...</td>\n",
              "      <td>3</td>\n",
              "      <td>0.210890</td>\n",
              "      <td>0.370874</td>\n",
              "      <td>-0.006452</td>\n",
              "      <td>inf</td>\n",
              "      <td>True</td>\n",
              "      <td>{'Imputer': {'categorical_impute_strategy': 'm...</td>\n",
              "    </tr>\n",
              "    <tr>\n",
              "      <th>8</th>\n",
              "      <td>5</td>\n",
              "      <td>Logistic Regression Classifier w/ Imputer + On...</td>\n",
              "      <td>5</td>\n",
              "      <td>0.208740</td>\n",
              "      <td>0.372778</td>\n",
              "      <td>-0.012903</td>\n",
              "      <td>inf</td>\n",
              "      <td>True</td>\n",
              "      <td>{'Imputer': {'categorical_impute_strategy': 'm...</td>\n",
              "    </tr>\n",
              "    <tr>\n",
              "      <th>9</th>\n",
              "      <td>1</td>\n",
              "      <td>Elastic Net Classifier w/ Imputer + One Hot En...</td>\n",
              "      <td>1</td>\n",
              "      <td>0.208740</td>\n",
              "      <td>0.372778</td>\n",
              "      <td>-0.012903</td>\n",
              "      <td>inf</td>\n",
              "      <td>True</td>\n",
              "      <td>{'Imputer': {'categorical_impute_strategy': 'm...</td>\n",
              "    </tr>\n",
              "    <tr>\n",
              "      <th>13</th>\n",
              "      <td>4</td>\n",
              "      <td>LightGBM Classifier w/ Imputer + One Hot Encod...</td>\n",
              "      <td>4</td>\n",
              "      <td>0.180781</td>\n",
              "      <td>0.391822</td>\n",
              "      <td>-0.064516</td>\n",
              "      <td>inf</td>\n",
              "      <td>True</td>\n",
              "      <td>{'Imputer': {'categorical_impute_strategy': 'm...</td>\n",
              "    </tr>\n",
              "    <tr>\n",
              "      <th>16</th>\n",
              "      <td>0</td>\n",
              "      <td>Mode Baseline Binary Classification Pipeline</td>\n",
              "      <td>0</td>\n",
              "      <td>0.000000</td>\n",
              "      <td>0.000000</td>\n",
              "      <td>0.000000</td>\n",
              "      <td>0.0</td>\n",
              "      <td>False</td>\n",
              "      <td>{'Baseline Classifier': {'strategy': 'mode'}}</td>\n",
              "    </tr>\n",
              "    <tr>\n",
              "      <th>17</th>\n",
              "      <td>2</td>\n",
              "      <td>Decision Tree Classifier w/ Imputer + One Hot ...</td>\n",
              "      <td>2</td>\n",
              "      <td>-0.006452</td>\n",
              "      <td>0.011175</td>\n",
              "      <td>-0.019355</td>\n",
              "      <td>inf</td>\n",
              "      <td>True</td>\n",
              "      <td>{'Imputer': {'categorical_impute_strategy': 'm...</td>\n",
              "    </tr>\n",
              "  </tbody>\n",
              "</table>\n",
              "</div>"
            ],
            "text/plain": [
              "    id  ...                                         parameters\n",
              "0    8  ...  {'Imputer': {'categorical_impute_strategy': 'm...\n",
              "1    6  ...  {'Imputer': {'categorical_impute_strategy': 'm...\n",
              "6    7  ...  {'Imputer': {'categorical_impute_strategy': 'm...\n",
              "7    3  ...  {'Imputer': {'categorical_impute_strategy': 'm...\n",
              "8    5  ...  {'Imputer': {'categorical_impute_strategy': 'm...\n",
              "9    1  ...  {'Imputer': {'categorical_impute_strategy': 'm...\n",
              "13   4  ...  {'Imputer': {'categorical_impute_strategy': 'm...\n",
              "16   0  ...      {'Baseline Classifier': {'strategy': 'mode'}}\n",
              "17   2  ...  {'Imputer': {'categorical_impute_strategy': 'm...\n",
              "\n",
              "[9 rows x 9 columns]"
            ]
          },
          "metadata": {
            "tags": []
          },
          "execution_count": 83
        }
      ]
    },
    {
      "cell_type": "markdown",
      "metadata": {
        "id": "iJtlWXJagMkg"
      },
      "source": [
        "## Best pipeline"
      ]
    },
    {
      "cell_type": "markdown",
      "metadata": {
        "id": "d_dxz4URJ4Pq"
      },
      "source": [
        "To select the best pipeline we can call automl.best_pipeline."
      ]
    },
    {
      "cell_type": "code",
      "metadata": {
        "id": "cHNCGrDKJur5",
        "outputId": "65385d32-61b7-47cf-b66c-963202182996",
        "colab": {
          "base_uri": "https://localhost:8080/"
        }
      },
      "source": [
        "best_pipeline = automl.best_pipeline\n",
        "print(best_pipeline)"
      ],
      "execution_count": 84,
      "outputs": [
        {
          "output_type": "stream",
          "text": [
            "CatBoost Classifier w/ Imputer + SMOTENC Oversampler\n"
          ],
          "name": "stdout"
        }
      ]
    },
    {
      "cell_type": "markdown",
      "metadata": {
        "id": "ypXbc4b-KCL3"
      },
      "source": [
        "You can get more details about any pipeline, including how it performed on other objective functions by calling `.describe_pipeline()` and specifying the id of the pipeline."
      ]
    },
    {
      "cell_type": "code",
      "metadata": {
        "colab": {
          "base_uri": "https://localhost:8080/"
        },
        "id": "4AZqFk9kJ7oy",
        "outputId": "533914ee-5393-4f23-cb57-1c3966cd9dec"
      },
      "source": [
        "automl.describe_pipeline(automl.rankings.iloc[0][\"id\"])"
      ],
      "execution_count": 79,
      "outputs": [
        {
          "output_type": "stream",
          "text": [
            "\n",
            "**********************************\n",
            "* CatBoost Classifier w/ Imputer *\n",
            "**********************************\n",
            "\n",
            "Problem Type: binary\n",
            "Model Family: CatBoost\n",
            "\n",
            "Pipeline Steps\n",
            "==============\n",
            "1. Imputer\n",
            "\t * categorical_impute_strategy : most_frequent\n",
            "\t * numeric_impute_strategy : mean\n",
            "\t * categorical_fill_value : None\n",
            "\t * numeric_fill_value : None\n",
            "2. CatBoost Classifier\n",
            "\t * n_estimators : 10\n",
            "\t * eta : 0.03\n",
            "\t * max_depth : 6\n",
            "\t * bootstrap_type : None\n",
            "\t * silent : True\n",
            "\t * allow_writing_files : False\n",
            "\t * n_jobs : -1\n",
            "\n",
            "Training\n",
            "========\n",
            "Training for binary problems.\n",
            "Objective to optimize binary classification pipeline thresholds for: <evalml.objectives.lead_scoring.LeadScoring object at 0x7fa51fc20e50>\n",
            "Total training time (including CV): 0.9 seconds\n",
            "\n",
            "Cross Validation\n",
            "----------------\n",
            "             Lead Scoring   AUC # Training # Validation\n",
            "0                   0.000 0.600      3,099        1,550\n",
            "1                   5.110 0.509      3,099        1,550\n",
            "2                   0.000 0.576      3,100        1,549\n",
            "mean                1.703 0.562          -            -\n",
            "std                 2.950 0.047          -            -\n",
            "coef of var         1.732 0.084          -            -\n"
          ],
          "name": "stdout"
        }
      ]
    },
    {
      "cell_type": "markdown",
      "metadata": {
        "id": "cqdzIH11L0OH"
      },
      "source": [
        "## Evaluate on hold out data"
      ]
    },
    {
      "cell_type": "markdown",
      "metadata": {
        "id": "AJk5JAFdL6cR"
      },
      "source": [
        "Finally, since the best pipeline was trained on all of the training data, we evaluate it on the holdout dataset."
      ]
    },
    {
      "cell_type": "code",
      "metadata": {
        "colab": {
          "base_uri": "https://localhost:8080/"
        },
        "id": "I4VEdDdQKRWg",
        "outputId": "e3e13939-2ab8-4f75-cf5c-f2e8e789b241"
      },
      "source": [
        "best_pipeline.score(\n",
        "                     X_holdout,\n",
        "                     y_holdout,\n",
        "                     objectives=[\"auc\", lead_scoring_objective])"
      ],
      "execution_count": 85,
      "outputs": [
        {
          "output_type": "execute_result",
          "data": {
            "text/plain": [
              "OrderedDict([('AUC', 0.8585599879117558), ('Lead Scoring', 14.7463456577816)])"
            ]
          },
          "metadata": {
            "tags": []
          },
          "execution_count": 85
        }
      ]
    },
    {
      "cell_type": "markdown",
      "metadata": {
        "id": "JXLeKhO5MBm5"
      },
      "source": [
        "## Why optimize for a problem-specific objective?"
      ]
    },
    {
      "cell_type": "markdown",
      "metadata": {
        "id": "xhX1qgE1MI9t"
      },
      "source": [
        "To demonstrate the importance of optimizing for the right objective, let’s search for another pipeline using AUC, a common machine learning metric. After that, we will score the holdout data using the lead scoring objective to see how the best pipelines compare."
      ]
    },
    {
      "cell_type": "code",
      "metadata": {
        "colab": {
          "base_uri": "https://localhost:8080/",
          "height": 1000,
          "referenced_widgets": [
            "bb6f6cd093b1475ab254d48320750d71"
          ]
        },
        "id": "oi97ZcTxL9g-",
        "outputId": "47004175-bea7-4d23-a839-9a6e710be09c"
      },
      "source": [
        "# Instantiate AutoMLSearch class\n",
        "automl_auc = evalml.AutoMLSearch(\n",
        "                                 X_train=X_train,\n",
        "                                 y_train=y_train,\n",
        "                                 problem_type='binary',\n",
        "                                 objective='auc',\n",
        "                                 additional_objectives=[],\n",
        "                                 max_batches=3,\n",
        "                                 optimize_thresholds=True,\n",
        "                                 sampler_method=None)\n",
        "\n",
        "# Execute search()\n",
        "automl_auc.search()"
      ],
      "execution_count": 86,
      "outputs": [
        {
          "output_type": "stream",
          "text": [
            "Generating pipelines to search over...\n",
            "8 pipelines ready for search.\n",
            "\n",
            "*****************************\n",
            "* Beginning pipeline search *\n",
            "*****************************\n",
            "\n",
            "Optimizing for AUC. \n",
            "Greater score is better.\n",
            "\n",
            "Using SequentialEngine to train and score pipelines.\n",
            "Searching up to 3 batches for a total of 19 pipelines. \n",
            "Allowed model families: lightgbm, linear_model, extra_trees, catboost, decision_tree, xgboost, random_forest\n",
            "\n"
          ],
          "name": "stdout"
        },
        {
          "output_type": "display_data",
          "data": {
            "application/vnd.jupyter.widget-view+json": {
              "model_id": "bb6f6cd093b1475ab254d48320750d71",
              "version_minor": 0,
              "version_major": 2
            },
            "text/plain": [
              "FigureWidget({\n",
              "    'data': [{'mode': 'lines+markers',\n",
              "              'name': 'Best Score',\n",
              "              'type'…"
            ]
          },
          "metadata": {
            "tags": []
          }
        },
        {
          "output_type": "stream",
          "text": [
            "Evaluating Baseline Pipeline: Mode Baseline Binary Classification Pipeline\n",
            "Mode Baseline Binary Classification Pipeline:\n",
            "\tStarting cross validation\n",
            "\tFinished cross validation - mean AUC: 0.500\n",
            "\n",
            "*****************************\n",
            "* Evaluating Batch Number 1 *\n",
            "*****************************\n",
            "\n",
            "Elastic Net Classifier w/ Imputer + One Hot Encoder + Standard Scaler:\n",
            "\tStarting cross validation\n",
            "\tFinished cross validation - mean AUC: 0.680\n",
            "Decision Tree Classifier w/ Imputer + One Hot Encoder:\n",
            "\tStarting cross validation\n",
            "\tFinished cross validation - mean AUC: 0.611\n",
            "Random Forest Classifier w/ Imputer + One Hot Encoder:\n",
            "\tStarting cross validation\n",
            "\tFinished cross validation - mean AUC: 0.669\n",
            "LightGBM Classifier w/ Imputer + One Hot Encoder:\n",
            "\tStarting cross validation\n",
            "\tFinished cross validation - mean AUC: 0.655\n",
            "Logistic Regression Classifier w/ Imputer + One Hot Encoder + Standard Scaler:\n",
            "\tStarting cross validation\n",
            "\tFinished cross validation - mean AUC: 0.679\n",
            "XGBoost Classifier w/ Imputer + One Hot Encoder:\n",
            "\tStarting cross validation\n",
            "\tFinished cross validation - mean AUC: 0.676\n",
            "Extra Trees Classifier w/ Imputer + One Hot Encoder:\n",
            "\tStarting cross validation\n",
            "\tFinished cross validation - mean AUC: 0.682\n",
            "CatBoost Classifier w/ Imputer:\n",
            "\tStarting cross validation\n",
            "\tFinished cross validation - mean AUC: 0.562\n",
            "\n",
            "*****************************\n",
            "* Evaluating Batch Number 2 *\n",
            "*****************************\n",
            "\n",
            "Extra Trees Classifier w/ Imputer + One Hot Encoder:\n",
            "\tStarting cross validation\n",
            "\tFinished cross validation - mean AUC: 0.673\n",
            "Extra Trees Classifier w/ Imputer + One Hot Encoder:\n",
            "\tStarting cross validation\n",
            "\tFinished cross validation - mean AUC: 0.667\n",
            "Extra Trees Classifier w/ Imputer + One Hot Encoder:\n",
            "\tStarting cross validation\n",
            "\tFinished cross validation - mean AUC: 0.679\n",
            "Extra Trees Classifier w/ Imputer + One Hot Encoder:\n",
            "\tStarting cross validation\n",
            "\tFinished cross validation - mean AUC: 0.678\n",
            "Extra Trees Classifier w/ Imputer + One Hot Encoder:\n",
            "\tStarting cross validation\n",
            "\tFinished cross validation - mean AUC: 0.668\n",
            "\n",
            "*****************************\n",
            "* Evaluating Batch Number 3 *\n",
            "*****************************\n",
            "\n",
            "Elastic Net Classifier w/ Imputer + One Hot Encoder + Standard Scaler:\n",
            "\tStarting cross validation\n",
            "\tFinished cross validation - mean AUC: 0.678\n",
            "Elastic Net Classifier w/ Imputer + One Hot Encoder + Standard Scaler:\n",
            "\tStarting cross validation\n",
            "\tFinished cross validation - mean AUC: 0.678\n",
            "Elastic Net Classifier w/ Imputer + One Hot Encoder + Standard Scaler:\n",
            "\tStarting cross validation\n",
            "\tFinished cross validation - mean AUC: 0.677\n",
            "Elastic Net Classifier w/ Imputer + One Hot Encoder + Standard Scaler:\n",
            "\tStarting cross validation\n",
            "\tFinished cross validation - mean AUC: 0.678\n",
            "Elastic Net Classifier w/ Imputer + One Hot Encoder + Standard Scaler:\n",
            "\tStarting cross validation\n",
            "\tFinished cross validation - mean AUC: 0.678\n",
            "\n",
            "Search finished after 00:54            \n",
            "Best pipeline: Extra Trees Classifier w/ Imputer + One Hot Encoder\n",
            "Best pipeline AUC: 0.681798\n"
          ],
          "name": "stdout"
        }
      ]
    },
    {
      "cell_type": "code",
      "metadata": {
        "id": "3-jTYprPMbBy"
      },
      "source": [
        "automl_auc.rankings"
      ],
      "execution_count": null,
      "outputs": []
    },
    {
      "cell_type": "markdown",
      "metadata": {
        "id": "1m_KW4J8MpIz"
      },
      "source": [
        "Like before, we can look at the rankings and pick the best pipeline."
      ]
    },
    {
      "cell_type": "code",
      "metadata": {
        "id": "RVQRGRbNMhnv"
      },
      "source": [
        "best_pipeline_auc = automl_auc.best_pipeline"
      ],
      "execution_count": 88,
      "outputs": []
    },
    {
      "cell_type": "code",
      "metadata": {
        "colab": {
          "base_uri": "https://localhost:8080/"
        },
        "id": "mEzFcVlVMuSe",
        "outputId": "7ff23223-b482-4499-f0c1-99fcb5588867"
      },
      "source": [
        "# get the auc and lead scoring score on holdout data\n",
        "best_pipeline_auc.score(\n",
        "                        X_holdout,\n",
        "                        y_holdout,\n",
        "                        objectives=[\n",
        "                                     \"auc\",\n",
        "                                     lead_scoring_objective\n",
        "                                    ]\n",
        "                        )"
      ],
      "execution_count": 89,
      "outputs": [
        {
          "output_type": "execute_result",
          "data": {
            "text/plain": [
              "OrderedDict([('AUC', 0.6630628588697491),\n",
              "             ('Lead Scoring', -0.04299226139294927)])"
            ]
          },
          "metadata": {
            "tags": []
          },
          "execution_count": 89
        }
      ]
    },
    {
      "cell_type": "markdown",
      "metadata": {
        "id": "B0BlrkRjNCCC"
      },
      "source": [
        "When we optimize for AUC, we can see that the AUC score from this pipeline is better than the AUC score from the pipeline optimized for lead scoring. However, the revenue per lead is much smaller per lead when optimized for AUC and was much larger when optimized for lead scoring. As a result, we would have a huge gain on the amount of revenue if we optimized for lead scoring.\n",
        "\n",
        "This happens because optimizing for AUC does not take into account the user-specified true_positive (dollar amount to be gained with a successful lead) and false_positive (dollar amount to be lost with an unsuccessful lead) values. Thus, the best pipelines may produce the highest AUC but may not actually generate the most revenue through lead scoring.\n",
        "\n",
        "This example highlights how performance in the real world can diverge greatly from machine learning metrics."
      ]
    },
    {
      "cell_type": "markdown",
      "metadata": {
        "id": "AlRuI3jqggxn"
      },
      "source": [
        "## Further evaluation"
      ]
    },
    {
      "cell_type": "code",
      "metadata": {
        "colab": {
          "base_uri": "https://localhost:8080/",
          "height": 817
        },
        "id": "SG7uPktLNZfB",
        "outputId": "c343dd8e-5bf6-459a-e041-71ac7c2bd70f"
      },
      "source": [
        "best_pipeline_auc.graph_feature_importance()"
      ],
      "execution_count": 90,
      "outputs": [
        {
          "output_type": "display_data",
          "data": {
            "text/html": [
              "<html>\n",
              "<head><meta charset=\"utf-8\" /></head>\n",
              "<body>\n",
              "    <div>            <script src=\"https://cdnjs.cloudflare.com/ajax/libs/mathjax/2.7.5/MathJax.js?config=TeX-AMS-MML_SVG\"></script><script type=\"text/javascript\">if (window.MathJax) {MathJax.Hub.Config({SVG: {font: \"STIX-Web\"}});}</script>                <script type=\"text/javascript\">window.PlotlyConfig = {MathJaxConfig: 'local'};</script>\n",
              "        <script src=\"https://cdn.plot.ly/plotly-2.2.0.min.js\"></script>                <div id=\"ccd8732f-c3c8-469c-b7f5-3db07060e61b\" class=\"plotly-graph-div\" style=\"height:800px; width:100%;\"></div>            <script type=\"text/javascript\">                                    window.PLOTLYENV=window.PLOTLYENV || {};                                    if (document.getElementById(\"ccd8732f-c3c8-469c-b7f5-3db07060e61b\")) {                    Plotly.newPlot(                        \"ccd8732f-c3c8-469c-b7f5-3db07060e61b\",                        [{\"orientation\":\"h\",\"type\":\"bar\",\"x\":[0.0018634688512055289,0.002493001050632024,0.002844659863884889,0.007578087211852805,0.008697063864376844,0.008698350872306495,0.010398332571802131,0.010874383849426014,0.014000501529550624,0.01625988675588962,0.017066875299599046,0.0228377513494341,0.03356737148247992,0.039999802274170666,0.0598469773900882,0.06631418789202528,0.07002024590709957,0.07070355882445688,0.09462681067094106,0.1082662489084481,0.3330424335803303],\"y\":[\"job_Designer, television/film set\",\"job_Development worker, community\",\"job_Television/film/video producer\",\"action_purchase\",\"job_Clothing/textile technologist\",\"action_contact_form\",\"action_download\",\"action_page_view\",\"state_FL\",\"state_CA\",\"job_Scientist, forensic\",\"state_MA\",\"job_Chartered management accountant\",\"amount\",\"job_Insurance claims handler\",\"state_IL\",\"state_NY\",\"zip\",\"job_Bookseller\",\"job_Scientist, biomedical\",\"job_Medical illustrator\"]}],                        {\"height\":800,\"template\":{\"data\":{\"bar\":[{\"error_x\":{\"color\":\"#2a3f5f\"},\"error_y\":{\"color\":\"#2a3f5f\"},\"marker\":{\"line\":{\"color\":\"#E5ECF6\",\"width\":0.5},\"pattern\":{\"fillmode\":\"overlay\",\"size\":10,\"solidity\":0.2}},\"type\":\"bar\"}],\"barpolar\":[{\"marker\":{\"line\":{\"color\":\"#E5ECF6\",\"width\":0.5},\"pattern\":{\"fillmode\":\"overlay\",\"size\":10,\"solidity\":0.2}},\"type\":\"barpolar\"}],\"carpet\":[{\"aaxis\":{\"endlinecolor\":\"#2a3f5f\",\"gridcolor\":\"white\",\"linecolor\":\"white\",\"minorgridcolor\":\"white\",\"startlinecolor\":\"#2a3f5f\"},\"baxis\":{\"endlinecolor\":\"#2a3f5f\",\"gridcolor\":\"white\",\"linecolor\":\"white\",\"minorgridcolor\":\"white\",\"startlinecolor\":\"#2a3f5f\"},\"type\":\"carpet\"}],\"choropleth\":[{\"colorbar\":{\"outlinewidth\":0,\"ticks\":\"\"},\"type\":\"choropleth\"}],\"contour\":[{\"colorbar\":{\"outlinewidth\":0,\"ticks\":\"\"},\"colorscale\":[[0.0,\"#0d0887\"],[0.1111111111111111,\"#46039f\"],[0.2222222222222222,\"#7201a8\"],[0.3333333333333333,\"#9c179e\"],[0.4444444444444444,\"#bd3786\"],[0.5555555555555556,\"#d8576b\"],[0.6666666666666666,\"#ed7953\"],[0.7777777777777778,\"#fb9f3a\"],[0.8888888888888888,\"#fdca26\"],[1.0,\"#f0f921\"]],\"type\":\"contour\"}],\"contourcarpet\":[{\"colorbar\":{\"outlinewidth\":0,\"ticks\":\"\"},\"type\":\"contourcarpet\"}],\"heatmap\":[{\"colorbar\":{\"outlinewidth\":0,\"ticks\":\"\"},\"colorscale\":[[0.0,\"#0d0887\"],[0.1111111111111111,\"#46039f\"],[0.2222222222222222,\"#7201a8\"],[0.3333333333333333,\"#9c179e\"],[0.4444444444444444,\"#bd3786\"],[0.5555555555555556,\"#d8576b\"],[0.6666666666666666,\"#ed7953\"],[0.7777777777777778,\"#fb9f3a\"],[0.8888888888888888,\"#fdca26\"],[1.0,\"#f0f921\"]],\"type\":\"heatmap\"}],\"heatmapgl\":[{\"colorbar\":{\"outlinewidth\":0,\"ticks\":\"\"},\"colorscale\":[[0.0,\"#0d0887\"],[0.1111111111111111,\"#46039f\"],[0.2222222222222222,\"#7201a8\"],[0.3333333333333333,\"#9c179e\"],[0.4444444444444444,\"#bd3786\"],[0.5555555555555556,\"#d8576b\"],[0.6666666666666666,\"#ed7953\"],[0.7777777777777778,\"#fb9f3a\"],[0.8888888888888888,\"#fdca26\"],[1.0,\"#f0f921\"]],\"type\":\"heatmapgl\"}],\"histogram\":[{\"marker\":{\"pattern\":{\"fillmode\":\"overlay\",\"size\":10,\"solidity\":0.2}},\"type\":\"histogram\"}],\"histogram2d\":[{\"colorbar\":{\"outlinewidth\":0,\"ticks\":\"\"},\"colorscale\":[[0.0,\"#0d0887\"],[0.1111111111111111,\"#46039f\"],[0.2222222222222222,\"#7201a8\"],[0.3333333333333333,\"#9c179e\"],[0.4444444444444444,\"#bd3786\"],[0.5555555555555556,\"#d8576b\"],[0.6666666666666666,\"#ed7953\"],[0.7777777777777778,\"#fb9f3a\"],[0.8888888888888888,\"#fdca26\"],[1.0,\"#f0f921\"]],\"type\":\"histogram2d\"}],\"histogram2dcontour\":[{\"colorbar\":{\"outlinewidth\":0,\"ticks\":\"\"},\"colorscale\":[[0.0,\"#0d0887\"],[0.1111111111111111,\"#46039f\"],[0.2222222222222222,\"#7201a8\"],[0.3333333333333333,\"#9c179e\"],[0.4444444444444444,\"#bd3786\"],[0.5555555555555556,\"#d8576b\"],[0.6666666666666666,\"#ed7953\"],[0.7777777777777778,\"#fb9f3a\"],[0.8888888888888888,\"#fdca26\"],[1.0,\"#f0f921\"]],\"type\":\"histogram2dcontour\"}],\"mesh3d\":[{\"colorbar\":{\"outlinewidth\":0,\"ticks\":\"\"},\"type\":\"mesh3d\"}],\"parcoords\":[{\"line\":{\"colorbar\":{\"outlinewidth\":0,\"ticks\":\"\"}},\"type\":\"parcoords\"}],\"pie\":[{\"automargin\":true,\"type\":\"pie\"}],\"scatter\":[{\"marker\":{\"colorbar\":{\"outlinewidth\":0,\"ticks\":\"\"}},\"type\":\"scatter\"}],\"scatter3d\":[{\"line\":{\"colorbar\":{\"outlinewidth\":0,\"ticks\":\"\"}},\"marker\":{\"colorbar\":{\"outlinewidth\":0,\"ticks\":\"\"}},\"type\":\"scatter3d\"}],\"scattercarpet\":[{\"marker\":{\"colorbar\":{\"outlinewidth\":0,\"ticks\":\"\"}},\"type\":\"scattercarpet\"}],\"scattergeo\":[{\"marker\":{\"colorbar\":{\"outlinewidth\":0,\"ticks\":\"\"}},\"type\":\"scattergeo\"}],\"scattergl\":[{\"marker\":{\"colorbar\":{\"outlinewidth\":0,\"ticks\":\"\"}},\"type\":\"scattergl\"}],\"scattermapbox\":[{\"marker\":{\"colorbar\":{\"outlinewidth\":0,\"ticks\":\"\"}},\"type\":\"scattermapbox\"}],\"scatterpolar\":[{\"marker\":{\"colorbar\":{\"outlinewidth\":0,\"ticks\":\"\"}},\"type\":\"scatterpolar\"}],\"scatterpolargl\":[{\"marker\":{\"colorbar\":{\"outlinewidth\":0,\"ticks\":\"\"}},\"type\":\"scatterpolargl\"}],\"scatterternary\":[{\"marker\":{\"colorbar\":{\"outlinewidth\":0,\"ticks\":\"\"}},\"type\":\"scatterternary\"}],\"surface\":[{\"colorbar\":{\"outlinewidth\":0,\"ticks\":\"\"},\"colorscale\":[[0.0,\"#0d0887\"],[0.1111111111111111,\"#46039f\"],[0.2222222222222222,\"#7201a8\"],[0.3333333333333333,\"#9c179e\"],[0.4444444444444444,\"#bd3786\"],[0.5555555555555556,\"#d8576b\"],[0.6666666666666666,\"#ed7953\"],[0.7777777777777778,\"#fb9f3a\"],[0.8888888888888888,\"#fdca26\"],[1.0,\"#f0f921\"]],\"type\":\"surface\"}],\"table\":[{\"cells\":{\"fill\":{\"color\":\"#EBF0F8\"},\"line\":{\"color\":\"white\"}},\"header\":{\"fill\":{\"color\":\"#C8D4E3\"},\"line\":{\"color\":\"white\"}},\"type\":\"table\"}]},\"layout\":{\"annotationdefaults\":{\"arrowcolor\":\"#2a3f5f\",\"arrowhead\":0,\"arrowwidth\":1},\"autotypenumbers\":\"strict\",\"coloraxis\":{\"colorbar\":{\"outlinewidth\":0,\"ticks\":\"\"}},\"colorscale\":{\"diverging\":[[0,\"#8e0152\"],[0.1,\"#c51b7d\"],[0.2,\"#de77ae\"],[0.3,\"#f1b6da\"],[0.4,\"#fde0ef\"],[0.5,\"#f7f7f7\"],[0.6,\"#e6f5d0\"],[0.7,\"#b8e186\"],[0.8,\"#7fbc41\"],[0.9,\"#4d9221\"],[1,\"#276419\"]],\"sequential\":[[0.0,\"#0d0887\"],[0.1111111111111111,\"#46039f\"],[0.2222222222222222,\"#7201a8\"],[0.3333333333333333,\"#9c179e\"],[0.4444444444444444,\"#bd3786\"],[0.5555555555555556,\"#d8576b\"],[0.6666666666666666,\"#ed7953\"],[0.7777777777777778,\"#fb9f3a\"],[0.8888888888888888,\"#fdca26\"],[1.0,\"#f0f921\"]],\"sequentialminus\":[[0.0,\"#0d0887\"],[0.1111111111111111,\"#46039f\"],[0.2222222222222222,\"#7201a8\"],[0.3333333333333333,\"#9c179e\"],[0.4444444444444444,\"#bd3786\"],[0.5555555555555556,\"#d8576b\"],[0.6666666666666666,\"#ed7953\"],[0.7777777777777778,\"#fb9f3a\"],[0.8888888888888888,\"#fdca26\"],[1.0,\"#f0f921\"]]},\"colorway\":[\"#636efa\",\"#EF553B\",\"#00cc96\",\"#ab63fa\",\"#FFA15A\",\"#19d3f3\",\"#FF6692\",\"#B6E880\",\"#FF97FF\",\"#FECB52\"],\"font\":{\"color\":\"#2a3f5f\"},\"geo\":{\"bgcolor\":\"white\",\"lakecolor\":\"white\",\"landcolor\":\"#E5ECF6\",\"showlakes\":true,\"showland\":true,\"subunitcolor\":\"white\"},\"hoverlabel\":{\"align\":\"left\"},\"hovermode\":\"closest\",\"mapbox\":{\"style\":\"light\"},\"paper_bgcolor\":\"white\",\"plot_bgcolor\":\"#E5ECF6\",\"polar\":{\"angularaxis\":{\"gridcolor\":\"white\",\"linecolor\":\"white\",\"ticks\":\"\"},\"bgcolor\":\"#E5ECF6\",\"radialaxis\":{\"gridcolor\":\"white\",\"linecolor\":\"white\",\"ticks\":\"\"}},\"scene\":{\"xaxis\":{\"backgroundcolor\":\"#E5ECF6\",\"gridcolor\":\"white\",\"gridwidth\":2,\"linecolor\":\"white\",\"showbackground\":true,\"ticks\":\"\",\"zerolinecolor\":\"white\"},\"yaxis\":{\"backgroundcolor\":\"#E5ECF6\",\"gridcolor\":\"white\",\"gridwidth\":2,\"linecolor\":\"white\",\"showbackground\":true,\"ticks\":\"\",\"zerolinecolor\":\"white\"},\"zaxis\":{\"backgroundcolor\":\"#E5ECF6\",\"gridcolor\":\"white\",\"gridwidth\":2,\"linecolor\":\"white\",\"showbackground\":true,\"ticks\":\"\",\"zerolinecolor\":\"white\"}},\"shapedefaults\":{\"line\":{\"color\":\"#2a3f5f\"}},\"ternary\":{\"aaxis\":{\"gridcolor\":\"white\",\"linecolor\":\"white\",\"ticks\":\"\"},\"baxis\":{\"gridcolor\":\"white\",\"linecolor\":\"white\",\"ticks\":\"\"},\"bgcolor\":\"#E5ECF6\",\"caxis\":{\"gridcolor\":\"white\",\"linecolor\":\"white\",\"ticks\":\"\"}},\"title\":{\"x\":0.05},\"xaxis\":{\"automargin\":true,\"gridcolor\":\"white\",\"linecolor\":\"white\",\"ticks\":\"\",\"title\":{\"standoff\":15},\"zerolinecolor\":\"white\",\"zerolinewidth\":2},\"yaxis\":{\"automargin\":true,\"gridcolor\":\"white\",\"linecolor\":\"white\",\"ticks\":\"\",\"title\":{\"standoff\":15},\"zerolinecolor\":\"white\",\"zerolinewidth\":2}}},\"title\":{\"text\":\"Feature Importance<br><sub>May display fewer features due to feature selection</sub>\"},\"xaxis\":{\"title\":{\"text\":\"Feature Importance\"}},\"yaxis\":{\"title\":{\"text\":\"Feature\"},\"type\":\"category\"}},                        {\"responsive\": true}                    ).then(function(){\n",
              "                            \n",
              "var gd = document.getElementById('ccd8732f-c3c8-469c-b7f5-3db07060e61b');\n",
              "var x = new MutationObserver(function (mutations, observer) {{\n",
              "        var display = window.getComputedStyle(gd).display;\n",
              "        if (!display || display === 'none') {{\n",
              "            console.log([gd, 'removed!']);\n",
              "            Plotly.purge(gd);\n",
              "            observer.disconnect();\n",
              "        }}\n",
              "}});\n",
              "\n",
              "// Listen for the removal of the full notebook cells\n",
              "var notebookContainer = gd.closest('#notebook-container');\n",
              "if (notebookContainer) {{\n",
              "    x.observe(notebookContainer, {childList: true});\n",
              "}}\n",
              "\n",
              "// Listen for the clearing of the current output cell\n",
              "var outputEl = gd.closest('.output');\n",
              "if (outputEl) {{\n",
              "    x.observe(outputEl, {childList: true});\n",
              "}}\n",
              "\n",
              "                        })                };                            </script>        </div>\n",
              "</body>\n",
              "</html>"
            ]
          },
          "metadata": {
            "tags": []
          }
        }
      ]
    },
    {
      "cell_type": "markdown",
      "metadata": {
        "id": "cTuku7NhhUkB"
      },
      "source": [
        "### Which features have been engineered"
      ]
    },
    {
      "cell_type": "code",
      "metadata": {
        "colab": {
          "base_uri": "https://localhost:8080/"
        },
        "id": "tw84GuYUNjDE",
        "outputId": "611f9a03-2ee1-4d4d-edf9-427ef37a4866"
      },
      "source": [
        "best_pipeline_auc.input_feature_names"
      ],
      "execution_count": 91,
      "outputs": [
        {
          "output_type": "execute_result",
          "data": {
            "text/plain": [
              "{'Extra Trees Classifier': ['zip',\n",
              "  'amount',\n",
              "  'job_Bookseller',\n",
              "  'job_Chartered management accountant',\n",
              "  'job_Clothing/textile technologist',\n",
              "  'job_Designer, television/film set',\n",
              "  'job_Development worker, community',\n",
              "  'job_Insurance claims handler',\n",
              "  'job_Medical illustrator',\n",
              "  'job_Scientist, biomedical',\n",
              "  'job_Scientist, forensic',\n",
              "  'job_Television/film/video producer',\n",
              "  'state_CA',\n",
              "  'state_FL',\n",
              "  'state_IL',\n",
              "  'state_MA',\n",
              "  'state_NY',\n",
              "  'action_contact_form',\n",
              "  'action_download',\n",
              "  'action_page_view',\n",
              "  'action_purchase'],\n",
              " 'Imputer': ['job', 'state', 'zip', 'action', 'amount'],\n",
              " 'One Hot Encoder': ['job', 'state', 'zip', 'action', 'amount']}"
            ]
          },
          "metadata": {
            "tags": []
          },
          "execution_count": 91
        }
      ]
    },
    {
      "cell_type": "markdown",
      "metadata": {
        "id": "WqG7EINDhYio"
      },
      "source": [
        "### Our pipeline flow"
      ]
    },
    {
      "cell_type": "code",
      "metadata": {
        "colab": {
          "base_uri": "https://localhost:8080/",
          "height": 194
        },
        "id": "5QvyAG9wT-bS",
        "outputId": "92f2de49-391e-4763-cafe-9b3b35105b3e"
      },
      "source": [
        "#visualizing best pipeline flow \n",
        "best_pipeline_auc.graph()"
      ],
      "execution_count": 92,
      "outputs": [
        {
          "output_type": "execute_result",
          "data": {
            "text/plain": [
              "<graphviz.dot.Digraph at 0x7fa4e6d29c10>"
            ],
            "image/svg+xml": "<?xml version=\"1.0\" encoding=\"UTF-8\" standalone=\"no\"?>\n<!DOCTYPE svg PUBLIC \"-//W3C//DTD SVG 1.1//EN\"\n \"http://www.w3.org/Graphics/SVG/1.1/DTD/svg11.dtd\">\n<!-- Generated by graphviz version 2.40.1 (20161225.0304)\n -->\n<!-- Title: %3 Pages: 1 -->\n<svg width=\"722pt\" height=\"130pt\"\n viewBox=\"0.00 0.00 722.00 130.00\" xmlns=\"http://www.w3.org/2000/svg\" xmlns:xlink=\"http://www.w3.org/1999/xlink\">\n<g id=\"graph0\" class=\"graph\" transform=\"scale(1 1) rotate(0) translate(4 126)\">\n<title>%3</title>\n<polygon fill=\"#ffffff\" stroke=\"transparent\" points=\"-4,4 -4,-126 718,-126 718,4 -4,4\"/>\n<!-- Imputer -->\n<g id=\"node1\" class=\"node\">\n<title>Imputer</title>\n<polygon fill=\"none\" stroke=\"#000000\" points=\"0,-15.5 0,-106.5 270,-106.5 270,-15.5 0,-15.5\"/>\n<text text-anchor=\"middle\" x=\"135\" y=\"-91.3\" font-family=\"Times,serif\" font-size=\"14.00\" fill=\"#000000\">Imputer</text>\n<polyline fill=\"none\" stroke=\"#000000\" points=\"0,-83.5 270,-83.5 \"/>\n<text text-anchor=\"start\" x=\"8\" y=\"-68.3\" font-family=\"Times,serif\" font-size=\"14.00\" fill=\"#000000\">categorical_impute_strategy : most_frequent</text>\n<text text-anchor=\"start\" x=\"8\" y=\"-53.3\" font-family=\"Times,serif\" font-size=\"14.00\" fill=\"#000000\">numeric_impute_strategy : mean</text>\n<text text-anchor=\"start\" x=\"8\" y=\"-38.3\" font-family=\"Times,serif\" font-size=\"14.00\" fill=\"#000000\">categorical_fill_value : None</text>\n<text text-anchor=\"start\" x=\"8\" y=\"-23.3\" font-family=\"Times,serif\" font-size=\"14.00\" fill=\"#000000\">numeric_fill_value : None</text>\n</g>\n<!-- One Hot Encoder -->\n<g id=\"node2\" class=\"node\">\n<title>One Hot Encoder</title>\n<polygon fill=\"none\" stroke=\"#000000\" points=\"306,-.5 306,-121.5 476,-121.5 476,-.5 306,-.5\"/>\n<text text-anchor=\"middle\" x=\"391\" y=\"-106.3\" font-family=\"Times,serif\" font-size=\"14.00\" fill=\"#000000\">One Hot Encoder</text>\n<polyline fill=\"none\" stroke=\"#000000\" points=\"306,-98.5 476,-98.5 \"/>\n<text text-anchor=\"start\" x=\"314\" y=\"-83.3\" font-family=\"Times,serif\" font-size=\"14.00\" fill=\"#000000\">top_n : 10</text>\n<text text-anchor=\"start\" x=\"314\" y=\"-68.3\" font-family=\"Times,serif\" font-size=\"14.00\" fill=\"#000000\">features_to_encode : None</text>\n<text text-anchor=\"start\" x=\"314\" y=\"-53.3\" font-family=\"Times,serif\" font-size=\"14.00\" fill=\"#000000\">categories : None</text>\n<text text-anchor=\"start\" x=\"314\" y=\"-38.3\" font-family=\"Times,serif\" font-size=\"14.00\" fill=\"#000000\">drop : if_binary</text>\n<text text-anchor=\"start\" x=\"314\" y=\"-23.3\" font-family=\"Times,serif\" font-size=\"14.00\" fill=\"#000000\">handle_unknown : ignore</text>\n<text text-anchor=\"start\" x=\"314\" y=\"-8.3\" font-family=\"Times,serif\" font-size=\"14.00\" fill=\"#000000\">handle_missing : error</text>\n</g>\n<!-- Imputer&#45;&gt;One Hot Encoder -->\n<g id=\"edge1\" class=\"edge\">\n<title>Imputer&#45;&gt;One Hot Encoder</title>\n<path fill=\"none\" stroke=\"#000000\" d=\"M270.1217,-61C270.1217,-61 295.8453,-61 295.8453,-61\"/>\n<polygon fill=\"#000000\" stroke=\"#000000\" points=\"295.8454,-64.5001 305.8453,-61 295.8453,-57.5001 295.8454,-64.5001\"/>\n</g>\n<!-- Extra Trees Classifier -->\n<g id=\"node3\" class=\"node\">\n<title>Extra Trees Classifier</title>\n<polygon fill=\"none\" stroke=\"#000000\" points=\"512,-.5 512,-121.5 714,-121.5 714,-.5 512,-.5\"/>\n<text text-anchor=\"middle\" x=\"613\" y=\"-106.3\" font-family=\"Times,serif\" font-size=\"14.00\" fill=\"#000000\">Extra Trees Classifier</text>\n<polyline fill=\"none\" stroke=\"#000000\" points=\"512,-98.5 714,-98.5 \"/>\n<text text-anchor=\"start\" x=\"520\" y=\"-83.3\" font-family=\"Times,serif\" font-size=\"14.00\" fill=\"#000000\">n_estimators : 100</text>\n<text text-anchor=\"start\" x=\"520\" y=\"-68.3\" font-family=\"Times,serif\" font-size=\"14.00\" fill=\"#000000\">max_features : auto</text>\n<text text-anchor=\"start\" x=\"520\" y=\"-53.3\" font-family=\"Times,serif\" font-size=\"14.00\" fill=\"#000000\">max_depth : 6</text>\n<text text-anchor=\"start\" x=\"520\" y=\"-38.3\" font-family=\"Times,serif\" font-size=\"14.00\" fill=\"#000000\">min_samples_split : 2</text>\n<text text-anchor=\"start\" x=\"520\" y=\"-23.3\" font-family=\"Times,serif\" font-size=\"14.00\" fill=\"#000000\">min_weight_fraction_leaf : 0.00</text>\n<text text-anchor=\"start\" x=\"520\" y=\"-8.3\" font-family=\"Times,serif\" font-size=\"14.00\" fill=\"#000000\">n_jobs : &#45;1</text>\n</g>\n<!-- One Hot Encoder&#45;&gt;Extra Trees Classifier -->\n<g id=\"edge2\" class=\"edge\">\n<title>One Hot Encoder&#45;&gt;Extra Trees Classifier</title>\n<path fill=\"none\" stroke=\"#000000\" d=\"M476.1961,-61C476.1961,-61 501.6941,-61 501.6941,-61\"/>\n<polygon fill=\"#000000\" stroke=\"#000000\" points=\"501.6941,-64.5001 511.6941,-61 501.694,-57.5001 501.6941,-64.5001\"/>\n</g>\n</g>\n</svg>\n"
          },
          "metadata": {
            "tags": []
          },
          "execution_count": 92
        }
      ]
    },
    {
      "cell_type": "markdown",
      "metadata": {
        "id": "UkZg1CDhhcdi"
      },
      "source": [
        "### Save model for subsequent use"
      ]
    },
    {
      "cell_type": "code",
      "metadata": {
        "id": "KACesOTtOPSJ"
      },
      "source": [
        "best_pipeline.save(\"model.pkl\")"
      ],
      "execution_count": 93,
      "outputs": []
    },
    {
      "cell_type": "code",
      "metadata": {
        "id": "pV-BCEBhTl1u"
      },
      "source": [
        "check_model=automl.load('model.pkl')"
      ],
      "execution_count": 94,
      "outputs": []
    },
    {
      "cell_type": "code",
      "metadata": {
        "colab": {
          "base_uri": "https://localhost:8080/",
          "height": 301
        },
        "id": "1LQuaYkFTplK",
        "outputId": "42bad4c4-cc3a-4faa-c81f-666e61f4215d"
      },
      "source": [
        "check_model.predict_proba(X_holdout).to_dataframe()"
      ],
      "execution_count": 95,
      "outputs": [
        {
          "output_type": "error",
          "ename": "AttributeError",
          "evalue": "ignored",
          "traceback": [
            "\u001b[0;31m---------------------------------------------------------------------------\u001b[0m",
            "\u001b[0;31mAttributeError\u001b[0m                            Traceback (most recent call last)",
            "\u001b[0;32m<ipython-input-95-096ee9708b33>\u001b[0m in \u001b[0;36m<module>\u001b[0;34m()\u001b[0m\n\u001b[0;32m----> 1\u001b[0;31m \u001b[0mcheck_model\u001b[0m\u001b[0;34m.\u001b[0m\u001b[0mpredict_proba\u001b[0m\u001b[0;34m(\u001b[0m\u001b[0mX_holdout\u001b[0m\u001b[0;34m)\u001b[0m\u001b[0;34m.\u001b[0m\u001b[0mto_dataframe\u001b[0m\u001b[0;34m(\u001b[0m\u001b[0;34m)\u001b[0m\u001b[0;34m\u001b[0m\u001b[0;34m\u001b[0m\u001b[0m\n\u001b[0m",
            "\u001b[0;32m/usr/local/lib/python3.7/dist-packages/pandas/core/generic.py\u001b[0m in \u001b[0;36m__getattr__\u001b[0;34m(self, name)\u001b[0m\n\u001b[1;32m   5463\u001b[0m             \u001b[0;32mif\u001b[0m \u001b[0mself\u001b[0m\u001b[0;34m.\u001b[0m\u001b[0m_info_axis\u001b[0m\u001b[0;34m.\u001b[0m\u001b[0m_can_hold_identifiers_and_holds_name\u001b[0m\u001b[0;34m(\u001b[0m\u001b[0mname\u001b[0m\u001b[0;34m)\u001b[0m\u001b[0;34m:\u001b[0m\u001b[0;34m\u001b[0m\u001b[0;34m\u001b[0m\u001b[0m\n\u001b[1;32m   5464\u001b[0m                 \u001b[0;32mreturn\u001b[0m \u001b[0mself\u001b[0m\u001b[0;34m[\u001b[0m\u001b[0mname\u001b[0m\u001b[0;34m]\u001b[0m\u001b[0;34m\u001b[0m\u001b[0;34m\u001b[0m\u001b[0m\n\u001b[0;32m-> 5465\u001b[0;31m             \u001b[0;32mreturn\u001b[0m \u001b[0mobject\u001b[0m\u001b[0;34m.\u001b[0m\u001b[0m__getattribute__\u001b[0m\u001b[0;34m(\u001b[0m\u001b[0mself\u001b[0m\u001b[0;34m,\u001b[0m \u001b[0mname\u001b[0m\u001b[0;34m)\u001b[0m\u001b[0;34m\u001b[0m\u001b[0;34m\u001b[0m\u001b[0m\n\u001b[0m\u001b[1;32m   5466\u001b[0m \u001b[0;34m\u001b[0m\u001b[0m\n\u001b[1;32m   5467\u001b[0m     \u001b[0;32mdef\u001b[0m \u001b[0m__setattr__\u001b[0m\u001b[0;34m(\u001b[0m\u001b[0mself\u001b[0m\u001b[0;34m,\u001b[0m \u001b[0mname\u001b[0m\u001b[0;34m:\u001b[0m \u001b[0mstr\u001b[0m\u001b[0;34m,\u001b[0m \u001b[0mvalue\u001b[0m\u001b[0;34m)\u001b[0m \u001b[0;34m->\u001b[0m \u001b[0;32mNone\u001b[0m\u001b[0;34m:\u001b[0m\u001b[0;34m\u001b[0m\u001b[0;34m\u001b[0m\u001b[0m\n",
            "\u001b[0;31mAttributeError\u001b[0m: 'DataFrame' object has no attribute 'to_dataframe'"
          ]
        }
      ]
    },
    {
      "cell_type": "markdown",
      "metadata": {
        "id": "MKQpdKRqhjZH"
      },
      "source": [
        "### ROC graph and Confusion matrix"
      ]
    },
    {
      "cell_type": "code",
      "metadata": {
        "colab": {
          "base_uri": "https://localhost:8080/",
          "height": 542
        },
        "id": "U4WUCYxYVMPz",
        "outputId": "95a027f8-fce4-4c36-e3a1-930f7730dc99"
      },
      "source": [
        "# pipeline trained with log loss\n",
        "y_pred = best_pipeline_auc.predict(X_holdout)\n",
        "graph_confusion_matrix(y_holdout, y_pred)\n",
        "\n"
      ],
      "execution_count": 96,
      "outputs": [
        {
          "output_type": "display_data",
          "data": {
            "text/html": [
              "<html>\n",
              "<head><meta charset=\"utf-8\" /></head>\n",
              "<body>\n",
              "    <div>            <script src=\"https://cdnjs.cloudflare.com/ajax/libs/mathjax/2.7.5/MathJax.js?config=TeX-AMS-MML_SVG\"></script><script type=\"text/javascript\">if (window.MathJax) {MathJax.Hub.Config({SVG: {font: \"STIX-Web\"}});}</script>                <script type=\"text/javascript\">window.PlotlyConfig = {MathJaxConfig: 'local'};</script>\n",
              "        <script src=\"https://cdn.plot.ly/plotly-2.2.0.min.js\"></script>                <div id=\"89814672-3a6d-4544-a8ab-d6359d4fb953\" class=\"plotly-graph-div\" style=\"height:525px; width:100%;\"></div>            <script type=\"text/javascript\">                                    window.PLOTLYENV=window.PLOTLYENV || {};                                    if (document.getElementById(\"89814672-3a6d-4544-a8ab-d6359d4fb953\")) {                    Plotly.newPlot(                        \"89814672-3a6d-4544-a8ab-d6359d4fb953\",                        [{\"colorscale\":[[0.0,\"rgb(247,251,255)\"],[0.125,\"rgb(222,235,247)\"],[0.25,\"rgb(198,219,239)\"],[0.375,\"rgb(158,202,225)\"],[0.5,\"rgb(107,174,214)\"],[0.625,\"rgb(66,146,198)\"],[0.75,\"rgb(33,113,181)\"],[0.875,\"rgb(8,81,156)\"],[1.0,\"rgb(8,48,107)\"]],\"customdata\":[[1088,15],[58,2]],\"hovertemplate\":\"<b>True</b>: %{y}<br><b>Predicted</b>: %{x}<br><b>Normalized Count</b>: %{z}<br><b>Raw Count</b>: %{customdata} <br><extra></extra>\",\"reversescale\":false,\"showscale\":true,\"type\":\"heatmap\",\"x\":[false,true],\"y\":[false,true],\"z\":[[0.986400725294651,0.013599274705349048],[0.9666666666666667,0.03333333333333333]]}],                        {\"annotations\":[{\"font\":{\"color\":\"#FFFFFF\"},\"showarrow\":false,\"text\":\"0.986\",\"x\":false,\"xref\":\"x\",\"y\":false,\"yref\":\"y\"},{\"font\":{\"color\":\"#000000\"},\"showarrow\":false,\"text\":\"0.014\",\"x\":true,\"xref\":\"x\",\"y\":false,\"yref\":\"y\"},{\"font\":{\"color\":\"#FFFFFF\"},\"showarrow\":false,\"text\":\"0.967\",\"x\":false,\"xref\":\"x\",\"y\":true,\"yref\":\"y\"},{\"font\":{\"color\":\"#000000\"},\"showarrow\":false,\"text\":\"0.033\",\"x\":true,\"xref\":\"x\",\"y\":true,\"yref\":\"y\"}],\"template\":{\"data\":{\"bar\":[{\"error_x\":{\"color\":\"#2a3f5f\"},\"error_y\":{\"color\":\"#2a3f5f\"},\"marker\":{\"line\":{\"color\":\"#E5ECF6\",\"width\":0.5},\"pattern\":{\"fillmode\":\"overlay\",\"size\":10,\"solidity\":0.2}},\"type\":\"bar\"}],\"barpolar\":[{\"marker\":{\"line\":{\"color\":\"#E5ECF6\",\"width\":0.5},\"pattern\":{\"fillmode\":\"overlay\",\"size\":10,\"solidity\":0.2}},\"type\":\"barpolar\"}],\"carpet\":[{\"aaxis\":{\"endlinecolor\":\"#2a3f5f\",\"gridcolor\":\"white\",\"linecolor\":\"white\",\"minorgridcolor\":\"white\",\"startlinecolor\":\"#2a3f5f\"},\"baxis\":{\"endlinecolor\":\"#2a3f5f\",\"gridcolor\":\"white\",\"linecolor\":\"white\",\"minorgridcolor\":\"white\",\"startlinecolor\":\"#2a3f5f\"},\"type\":\"carpet\"}],\"choropleth\":[{\"colorbar\":{\"outlinewidth\":0,\"ticks\":\"\"},\"type\":\"choropleth\"}],\"contour\":[{\"colorbar\":{\"outlinewidth\":0,\"ticks\":\"\"},\"colorscale\":[[0.0,\"#0d0887\"],[0.1111111111111111,\"#46039f\"],[0.2222222222222222,\"#7201a8\"],[0.3333333333333333,\"#9c179e\"],[0.4444444444444444,\"#bd3786\"],[0.5555555555555556,\"#d8576b\"],[0.6666666666666666,\"#ed7953\"],[0.7777777777777778,\"#fb9f3a\"],[0.8888888888888888,\"#fdca26\"],[1.0,\"#f0f921\"]],\"type\":\"contour\"}],\"contourcarpet\":[{\"colorbar\":{\"outlinewidth\":0,\"ticks\":\"\"},\"type\":\"contourcarpet\"}],\"heatmap\":[{\"colorbar\":{\"outlinewidth\":0,\"ticks\":\"\"},\"colorscale\":[[0.0,\"#0d0887\"],[0.1111111111111111,\"#46039f\"],[0.2222222222222222,\"#7201a8\"],[0.3333333333333333,\"#9c179e\"],[0.4444444444444444,\"#bd3786\"],[0.5555555555555556,\"#d8576b\"],[0.6666666666666666,\"#ed7953\"],[0.7777777777777778,\"#fb9f3a\"],[0.8888888888888888,\"#fdca26\"],[1.0,\"#f0f921\"]],\"type\":\"heatmap\"}],\"heatmapgl\":[{\"colorbar\":{\"outlinewidth\":0,\"ticks\":\"\"},\"colorscale\":[[0.0,\"#0d0887\"],[0.1111111111111111,\"#46039f\"],[0.2222222222222222,\"#7201a8\"],[0.3333333333333333,\"#9c179e\"],[0.4444444444444444,\"#bd3786\"],[0.5555555555555556,\"#d8576b\"],[0.6666666666666666,\"#ed7953\"],[0.7777777777777778,\"#fb9f3a\"],[0.8888888888888888,\"#fdca26\"],[1.0,\"#f0f921\"]],\"type\":\"heatmapgl\"}],\"histogram\":[{\"marker\":{\"pattern\":{\"fillmode\":\"overlay\",\"size\":10,\"solidity\":0.2}},\"type\":\"histogram\"}],\"histogram2d\":[{\"colorbar\":{\"outlinewidth\":0,\"ticks\":\"\"},\"colorscale\":[[0.0,\"#0d0887\"],[0.1111111111111111,\"#46039f\"],[0.2222222222222222,\"#7201a8\"],[0.3333333333333333,\"#9c179e\"],[0.4444444444444444,\"#bd3786\"],[0.5555555555555556,\"#d8576b\"],[0.6666666666666666,\"#ed7953\"],[0.7777777777777778,\"#fb9f3a\"],[0.8888888888888888,\"#fdca26\"],[1.0,\"#f0f921\"]],\"type\":\"histogram2d\"}],\"histogram2dcontour\":[{\"colorbar\":{\"outlinewidth\":0,\"ticks\":\"\"},\"colorscale\":[[0.0,\"#0d0887\"],[0.1111111111111111,\"#46039f\"],[0.2222222222222222,\"#7201a8\"],[0.3333333333333333,\"#9c179e\"],[0.4444444444444444,\"#bd3786\"],[0.5555555555555556,\"#d8576b\"],[0.6666666666666666,\"#ed7953\"],[0.7777777777777778,\"#fb9f3a\"],[0.8888888888888888,\"#fdca26\"],[1.0,\"#f0f921\"]],\"type\":\"histogram2dcontour\"}],\"mesh3d\":[{\"colorbar\":{\"outlinewidth\":0,\"ticks\":\"\"},\"type\":\"mesh3d\"}],\"parcoords\":[{\"line\":{\"colorbar\":{\"outlinewidth\":0,\"ticks\":\"\"}},\"type\":\"parcoords\"}],\"pie\":[{\"automargin\":true,\"type\":\"pie\"}],\"scatter\":[{\"marker\":{\"colorbar\":{\"outlinewidth\":0,\"ticks\":\"\"}},\"type\":\"scatter\"}],\"scatter3d\":[{\"line\":{\"colorbar\":{\"outlinewidth\":0,\"ticks\":\"\"}},\"marker\":{\"colorbar\":{\"outlinewidth\":0,\"ticks\":\"\"}},\"type\":\"scatter3d\"}],\"scattercarpet\":[{\"marker\":{\"colorbar\":{\"outlinewidth\":0,\"ticks\":\"\"}},\"type\":\"scattercarpet\"}],\"scattergeo\":[{\"marker\":{\"colorbar\":{\"outlinewidth\":0,\"ticks\":\"\"}},\"type\":\"scattergeo\"}],\"scattergl\":[{\"marker\":{\"colorbar\":{\"outlinewidth\":0,\"ticks\":\"\"}},\"type\":\"scattergl\"}],\"scattermapbox\":[{\"marker\":{\"colorbar\":{\"outlinewidth\":0,\"ticks\":\"\"}},\"type\":\"scattermapbox\"}],\"scatterpolar\":[{\"marker\":{\"colorbar\":{\"outlinewidth\":0,\"ticks\":\"\"}},\"type\":\"scatterpolar\"}],\"scatterpolargl\":[{\"marker\":{\"colorbar\":{\"outlinewidth\":0,\"ticks\":\"\"}},\"type\":\"scatterpolargl\"}],\"scatterternary\":[{\"marker\":{\"colorbar\":{\"outlinewidth\":0,\"ticks\":\"\"}},\"type\":\"scatterternary\"}],\"surface\":[{\"colorbar\":{\"outlinewidth\":0,\"ticks\":\"\"},\"colorscale\":[[0.0,\"#0d0887\"],[0.1111111111111111,\"#46039f\"],[0.2222222222222222,\"#7201a8\"],[0.3333333333333333,\"#9c179e\"],[0.4444444444444444,\"#bd3786\"],[0.5555555555555556,\"#d8576b\"],[0.6666666666666666,\"#ed7953\"],[0.7777777777777778,\"#fb9f3a\"],[0.8888888888888888,\"#fdca26\"],[1.0,\"#f0f921\"]],\"type\":\"surface\"}],\"table\":[{\"cells\":{\"fill\":{\"color\":\"#EBF0F8\"},\"line\":{\"color\":\"white\"}},\"header\":{\"fill\":{\"color\":\"#C8D4E3\"},\"line\":{\"color\":\"white\"}},\"type\":\"table\"}]},\"layout\":{\"annotationdefaults\":{\"arrowcolor\":\"#2a3f5f\",\"arrowhead\":0,\"arrowwidth\":1},\"autotypenumbers\":\"strict\",\"coloraxis\":{\"colorbar\":{\"outlinewidth\":0,\"ticks\":\"\"}},\"colorscale\":{\"diverging\":[[0,\"#8e0152\"],[0.1,\"#c51b7d\"],[0.2,\"#de77ae\"],[0.3,\"#f1b6da\"],[0.4,\"#fde0ef\"],[0.5,\"#f7f7f7\"],[0.6,\"#e6f5d0\"],[0.7,\"#b8e186\"],[0.8,\"#7fbc41\"],[0.9,\"#4d9221\"],[1,\"#276419\"]],\"sequential\":[[0.0,\"#0d0887\"],[0.1111111111111111,\"#46039f\"],[0.2222222222222222,\"#7201a8\"],[0.3333333333333333,\"#9c179e\"],[0.4444444444444444,\"#bd3786\"],[0.5555555555555556,\"#d8576b\"],[0.6666666666666666,\"#ed7953\"],[0.7777777777777778,\"#fb9f3a\"],[0.8888888888888888,\"#fdca26\"],[1.0,\"#f0f921\"]],\"sequentialminus\":[[0.0,\"#0d0887\"],[0.1111111111111111,\"#46039f\"],[0.2222222222222222,\"#7201a8\"],[0.3333333333333333,\"#9c179e\"],[0.4444444444444444,\"#bd3786\"],[0.5555555555555556,\"#d8576b\"],[0.6666666666666666,\"#ed7953\"],[0.7777777777777778,\"#fb9f3a\"],[0.8888888888888888,\"#fdca26\"],[1.0,\"#f0f921\"]]},\"colorway\":[\"#636efa\",\"#EF553B\",\"#00cc96\",\"#ab63fa\",\"#FFA15A\",\"#19d3f3\",\"#FF6692\",\"#B6E880\",\"#FF97FF\",\"#FECB52\"],\"font\":{\"color\":\"#2a3f5f\"},\"geo\":{\"bgcolor\":\"white\",\"lakecolor\":\"white\",\"landcolor\":\"#E5ECF6\",\"showlakes\":true,\"showland\":true,\"subunitcolor\":\"white\"},\"hoverlabel\":{\"align\":\"left\"},\"hovermode\":\"closest\",\"mapbox\":{\"style\":\"light\"},\"paper_bgcolor\":\"white\",\"plot_bgcolor\":\"#E5ECF6\",\"polar\":{\"angularaxis\":{\"gridcolor\":\"white\",\"linecolor\":\"white\",\"ticks\":\"\"},\"bgcolor\":\"#E5ECF6\",\"radialaxis\":{\"gridcolor\":\"white\",\"linecolor\":\"white\",\"ticks\":\"\"}},\"scene\":{\"xaxis\":{\"backgroundcolor\":\"#E5ECF6\",\"gridcolor\":\"white\",\"gridwidth\":2,\"linecolor\":\"white\",\"showbackground\":true,\"ticks\":\"\",\"zerolinecolor\":\"white\"},\"yaxis\":{\"backgroundcolor\":\"#E5ECF6\",\"gridcolor\":\"white\",\"gridwidth\":2,\"linecolor\":\"white\",\"showbackground\":true,\"ticks\":\"\",\"zerolinecolor\":\"white\"},\"zaxis\":{\"backgroundcolor\":\"#E5ECF6\",\"gridcolor\":\"white\",\"gridwidth\":2,\"linecolor\":\"white\",\"showbackground\":true,\"ticks\":\"\",\"zerolinecolor\":\"white\"}},\"shapedefaults\":{\"line\":{\"color\":\"#2a3f5f\"}},\"ternary\":{\"aaxis\":{\"gridcolor\":\"white\",\"linecolor\":\"white\",\"ticks\":\"\"},\"baxis\":{\"gridcolor\":\"white\",\"linecolor\":\"white\",\"ticks\":\"\"},\"bgcolor\":\"#E5ECF6\",\"caxis\":{\"gridcolor\":\"white\",\"linecolor\":\"white\",\"ticks\":\"\"}},\"title\":{\"x\":0.05},\"xaxis\":{\"automargin\":true,\"gridcolor\":\"white\",\"linecolor\":\"white\",\"ticks\":\"\",\"title\":{\"standoff\":15},\"zerolinecolor\":\"white\",\"zerolinewidth\":2},\"yaxis\":{\"automargin\":true,\"gridcolor\":\"white\",\"linecolor\":\"white\",\"ticks\":\"\",\"title\":{\"standoff\":15},\"zerolinecolor\":\"white\",\"zerolinewidth\":2}}},\"title\":{\"text\":\"Confusion matrix, normalized using method \\\"true\\\"\"},\"xaxis\":{\"dtick\":1,\"gridcolor\":\"rgb(0, 0, 0)\",\"side\":\"bottom\",\"ticks\":\"\",\"tickvals\":[false,true],\"title\":{\"text\":\"Predicted Label\"},\"type\":\"category\"},\"yaxis\":{\"autorange\":\"reversed\",\"dtick\":1,\"ticks\":\"\",\"ticksuffix\":\"  \",\"tickvals\":[false,true],\"title\":{\"text\":\"True Label\"},\"type\":\"category\"}},                        {\"responsive\": true}                    ).then(function(){\n",
              "                            \n",
              "var gd = document.getElementById('89814672-3a6d-4544-a8ab-d6359d4fb953');\n",
              "var x = new MutationObserver(function (mutations, observer) {{\n",
              "        var display = window.getComputedStyle(gd).display;\n",
              "        if (!display || display === 'none') {{\n",
              "            console.log([gd, 'removed!']);\n",
              "            Plotly.purge(gd);\n",
              "            observer.disconnect();\n",
              "        }}\n",
              "}});\n",
              "\n",
              "// Listen for the removal of the full notebook cells\n",
              "var notebookContainer = gd.closest('#notebook-container');\n",
              "if (notebookContainer) {{\n",
              "    x.observe(notebookContainer, {childList: true});\n",
              "}}\n",
              "\n",
              "// Listen for the clearing of the current output cell\n",
              "var outputEl = gd.closest('.output');\n",
              "if (outputEl) {{\n",
              "    x.observe(outputEl, {childList: true});\n",
              "}}\n",
              "\n",
              "                        })                };                            </script>        </div>\n",
              "</body>\n",
              "</html>"
            ]
          },
          "metadata": {
            "tags": []
          }
        }
      ]
    },
    {
      "cell_type": "code",
      "metadata": {
        "colab": {
          "base_uri": "https://localhost:8080/",
          "height": 542
        },
        "id": "kemNuPA4Xp7W",
        "outputId": "5794c533-ed77-4e26-d6fe-7cfdd6725f93"
      },
      "source": [
        "y_pred = best_pipeline_auc.predict_proba(X_holdout)\n",
        "graph_roc_curve(y_holdout, y_pred)"
      ],
      "execution_count": 97,
      "outputs": [
        {
          "output_type": "display_data",
          "data": {
            "text/html": [
              "<html>\n",
              "<head><meta charset=\"utf-8\" /></head>\n",
              "<body>\n",
              "    <div>            <script src=\"https://cdnjs.cloudflare.com/ajax/libs/mathjax/2.7.5/MathJax.js?config=TeX-AMS-MML_SVG\"></script><script type=\"text/javascript\">if (window.MathJax) {MathJax.Hub.Config({SVG: {font: \"STIX-Web\"}});}</script>                <script type=\"text/javascript\">window.PlotlyConfig = {MathJaxConfig: 'local'};</script>\n",
              "        <script src=\"https://cdn.plot.ly/plotly-2.2.0.min.js\"></script>                <div id=\"f38796d0-94d8-4e25-8b20-d7439d1a40fe\" class=\"plotly-graph-div\" style=\"height:525px; width:100%;\"></div>            <script type=\"text/javascript\">                                    window.PLOTLYENV=window.PLOTLYENV || {};                                    if (document.getElementById(\"f38796d0-94d8-4e25-8b20-d7439d1a40fe\")) {                    Plotly.newPlot(                        \"f38796d0-94d8-4e25-8b20-d7439d1a40fe\",                        [{\"hovertemplate\":\"(False Postive Rate: %{x}, True Positive Rate: %{y})<br>Threshold: %{text}\",\"line\":{\"width\":3},\"name\":\"Class 1 (AUC 0.663063)\",\"text\":[\"1.6055571332024385\",\"0.6055571332024384\",\"0.60262151059894\",\"0.4500403304996092\",\"0.4255885545498005\",\"0.3299641349012796\",\"0.2958067468107049\",\"0.2412279671476012\",\"0.22431475487910077\",\"0.16534022824857422\",\"0.15873161181872086\",\"0.15682454624342623\",\"0.15536829913976494\",\"0.15449887485084673\",\"0.15368415278702094\",\"0.15347289118583346\",\"0.14803780290745772\",\"0.1399809198798304\",\"0.1314519329791769\",\"0.1287903827053203\",\"0.12176017129200646\",\"0.12006928387390443\",\"0.09850034814714097\",\"0.09619293221058324\",\"0.08547716810575176\",\"0.08183922467187607\",\"0.06821174602836409\",\"0.0667714169192904\",\"0.06432245526699899\",\"0.05990206430436337\",\"0.057194778607155286\",\"0.05622733155099003\",\"0.05494368996142463\",\"0.05473588528245593\",\"0.05464075519421858\",\"0.05458393608670198\",\"0.054375873869470605\",\"0.05434758752827418\",\"0.05431593168411833\",\"0.054259368458160546\",\"0.05424368996142463\",\"0.05423070441139106\",\"0.05419465869799771\",\"0.0541358193677089\",\"0.054084224139117454\",\"0.05407293910226455\",\"0.05403955001774818\",\"0.05398387017195495\",\"0.05398204522451467\",\"0.05395643369095449\",\"0.05389172393079165\",\"0.05383608598668273\",\"0.0537812893719114\",\"0.053747521613527145\",\"0.05372453383465596\",\"0.05367911045730861\",\"0.0536593025434135\",\"0.053630638496644026\",\"0.05361076646078237\",\"0.053489933134370296\",\"0.05344075519421858\",\"0.05337618918731548\",\"0.05312446791990893\",\"0.05297436252791056\",\"0.052918452641674066\",\"0.052818894426711005\",\"0.052756897846174586\",\"0.052221379590052644\",\"0.05221768925024061\",\"0.05213457292344693\",\"0.052118894426711006\",\"0.052095458331007025\",\"0.05197622173030509\",\"0.05161889442671101\",\"0.051613178989323334\",\"0.05112569637679559\",\"0.0509227104831566\",\"0.050736618475165945\",\"0.050580721317107204\",\"0.04997183671932783\",\"0.047189307294201684\",\"0.04514609507715022\",\"0.04371227740856349\",\"0.04367970849144342\",\"0.04328840414361733\",\"0.04325071796659196\",\"0.043006920043012535\",\"0.042860497822009104\",\"0.04249747960125962\",\"0.0424302192261297\",\"0.042172319030034745\",\"0.042166434764976814\",\"0.04201448556922287\",\"0.04182432040991228\",\"0.04167354143405827\",\"0.04128366370302606\",\"0.041112910009108605\",\"0.040953881840245294\",\"0.04008633361961318\",\"0.03991681760569563\",\"0.03970925343200971\",\"0.038919510447578104\",\"0.03838423014311048\",\"0.037916451961316294\",\"0.03764203968968816\",\"0.037211023593257044\",\"0.03687870681541287\",\"0.03672971893294929\",\"0.036299584028811914\",\"0.03598776857264497\",\"0.0356831566810599\",\"0.03553315177885206\",\"0.03528838797848543\",\"0.03524043575630982\",\"0.035013849483021955\",\"0.03479358322134425\",\"0.03468402910468632\",\"0.03466359373869128\",\"0.03459880183195905\",\"0.03453167845943949\",\"0.03450006502186907\",\"0.03449076880378864\",\"0.03448238717101777\",\"0.03434811582611512\",\"0.03429358322134426\",\"0.03424795360519545\",\"0.03421510759400796\",\"0.03389052931319341\",\"0.03379636888197101\",\"0.03368565056245942\",\"0.03368476799632099\",\"0.03363850821146927\",\"0.032963683392797226\",\"0.03262239562055223\",\"0.03227873616797503\",\"0.032032435121221385\",\"0.031431584618265555\",\"0.030422478474475496\",\"0.029898267890031402\",\"0.02977992100455713\",\"0.029576626800368974\",\"0.029569540414158685\",\"0.0291112652183397\",\"0.02756467335377575\",\"0.027540100867328925\",\"0.02704143670439506\",\"0.026939341964592294\",\"0.026742439998891546\",\"0.026570848469100947\",\"0.026510881729162564\",\"0.026220990973829364\",\"0.026212104451318833\",\"0.026111861997713516\",\"0.026094331644805555\",\"0.025966091465949828\",\"0.025963831927078025\",\"0.02594413539129849\",\"0.025775783259613844\",\"0.025726611726029924\",\"0.025707348823001377\",\"0.025593580777039607\",\"0.025544061042574784\",\"0.02541853711812374\",\"0.025407580611702164\",\"0.025139089109936452\",\"0.025090804703267567\",\"0.025066096409206526\",\"0.024893216635624934\",\"0.02482110037794445\",\"0.02481887624940626\",\"0.02470838993776252\",\"0.024648368992750785\",\"0.02445281773948322\",\"0.02420496383587986\",\"0.02405221281133553\",\"0.02374473249293563\",\"0.023566256785640335\",\"0.02286464636547851\",\"0.022660775596620178\",\"0.022145248435337845\",\"0.022019896087549253\",\"0.021939734555921412\",\"0.021357163707982577\",\"0.020862992124921334\",\"0.020685589893857534\",\"0.020279669883977128\",\"0.020142617730115938\",\"0.01969308202844933\",\"0.018066303917250184\",\"0.017454170399888693\",\"0.01657745667848\",\"0.014053992907792611\"],\"type\":\"scatter\",\"x\":[0.0,0.0009066183136899365,0.001813236627379873,0.004533091568449683,0.005439709882139619,0.007252946509519492,0.010879419764279238,0.010879419764279238,0.013599274705349048,0.017225747960108794,0.019038984587488667,0.024478694469628286,0.025385312783318223,0.027198549410698096,0.03173164097914778,0.038984587488667274,0.03989120580235721,0.04261106074342702,0.04805077062556664,0.051677243880326386,0.057116953762466005,0.05893019038984588,0.05893019038984588,0.05983680870353581,0.06618313689936536,0.06799637352674524,0.07252946509519492,0.07524932003626474,0.07615593834995467,0.07796917497733455,0.07978241160471441,0.0815956482320943,0.08612873980054397,0.09156844968268359,0.09700815956482321,0.10970081595648232,0.11423390752493201,0.12330009066183137,0.12511332728921123,0.12964641885766093,0.13055303717135086,0.1359927470534905,0.13961922030825022,0.14324569356300998,0.14596554850407978,0.1486854034451496,0.14959202175883954,0.1514052583862194,0.15775158658204896,0.15956482320942883,0.1613780598368087,0.2184950135992747,0.21940163191296463,0.22484134179510426,0.22665457842248413,0.2302810516772439,0.23300090661831369,0.23390752493200362,0.28377153218495016,0.3073436083408885,0.3082502266545784,0.3354487760652765,0.3372620126926564,0.3970988213961922,0.39981867633726204,0.4016319129646419,0.43245693563009974,0.43608340888485947,0.4369900271985494,0.43880326382592927,0.4397098821396192,0.45693563009972804,0.4587488667271079,0.4614687216681777,0.4796010879419764,0.4796010879419764,0.48050770625566636,0.5049864007252947,0.5058930190389845,0.5058930190389845,0.5077062556663645,0.5258386219401632,0.5403445149592022,0.5448776065276518,0.5475974614687217,0.5485040797824116,0.557570262919311,0.5584768812330009,0.5611967361740707,0.5630099728014506,0.5648232094288305,0.5666364460562103,0.5720761559383499,0.5738893925657298,0.5902085222121487,0.5938349954669084,0.5947416137805984,0.6019945602901179,0.6210335448776065,0.628286491387126,0.6319129646418857,0.6373526745240253,0.657298277425204,0.658204895738894,0.658204895738894,0.671804170444243,0.6736174070716229,0.6754306436990027,0.6772438803263826,0.6790571169537625,0.6799637352674524,0.6863100634632819,0.6881233000906618,0.6899365367180417,0.6926563916591115,0.6953762466001813,0.6980961015412511,0.700815956482321,0.7026291931097008,0.7026291931097008,0.7044424297370807,0.7044424297370807,0.7080689029918404,0.7089755213055303,0.7116953762466002,0.7180417044424298,0.7398005439709883,0.7407071622846781,0.7452402538531279,0.7506799637352675,0.7533998186763372,0.7742520398912058,0.7833182230281052,0.7869446962828649,0.7923844061650045,0.7996373526745241,0.8132366273798731,0.815049864007253,0.8177697189483227,0.8213961922030825,0.8295557570262919,0.8304623753399819,0.8322756119673618,0.8386219401631912,0.8422484134179511,0.8476881233000907,0.8495013599274706,0.8513145965548504,0.8540344514959202,0.8549410698096102,0.8585675430643699,0.8712601994560291,0.8730734360834089,0.8757932910244787,0.8766999093381687,0.8812330009066183,0.8830462375339981,0.885766092475068,0.8912058023572076,0.8930190389845875,0.8939256572982774,0.8975521305530372,0.899365367180417,0.9011786038077969,0.9029918404351768,0.9048050770625566,0.9075249320036265,0.9084315503173164,0.9138712601994561,0.914777878513146,0.9165911151405258,0.9184043517679057,0.9238440616500453,0.929283771532185,0.9310970081595649,0.9320036264732547,0.9465095194922938,0.9483227561196736,0.9519492293744334,0.9546690843155031,0.970081595648232,0.970988213961922,0.9728014505893019,0.9755213055303718,0.9782411604714415,0.9791477787851315,0.9827742520398912,0.985494106980961,0.9891205802357208,0.9963735267452403,0.9981867633726201,1.0],\"y\":[0.0,0.0,0.0,0.0,0.0,0.0,0.0,0.03333333333333333,0.03333333333333333,0.03333333333333333,0.03333333333333333,0.05,0.05,0.05,0.05,0.08333333333333333,0.08333333333333333,0.1,0.13333333333333333,0.15,0.18333333333333332,0.18333333333333332,0.2,0.2,0.21666666666666667,0.23333333333333334,0.23333333333333334,0.23333333333333334,0.23333333333333334,0.23333333333333334,0.23333333333333334,0.23333333333333334,0.23333333333333334,0.25,0.25,0.25,0.2833333333333333,0.2833333333333333,0.2833333333333333,0.2833333333333333,0.2833333333333333,0.2833333333333333,0.3,0.3,0.31666666666666665,0.31666666666666665,0.31666666666666665,0.31666666666666665,0.31666666666666665,0.31666666666666665,0.31666666666666665,0.36666666666666664,0.36666666666666664,0.36666666666666664,0.36666666666666664,0.36666666666666664,0.4,0.4,0.5,0.5166666666666667,0.5166666666666667,0.5333333333333333,0.5333333333333333,0.6333333333333333,0.6333333333333333,0.6333333333333333,0.6666666666666666,0.6666666666666666,0.6666666666666666,0.6666666666666666,0.6666666666666666,0.6666666666666666,0.6666666666666666,0.6666666666666666,0.6666666666666666,0.6833333333333333,0.7,0.7,0.7,0.7166666666666667,0.7166666666666667,0.7666666666666667,0.8,0.8,0.8,0.8,0.8,0.8,0.8,0.8,0.8,0.8,0.8,0.8,0.8,0.8,0.8,0.8,0.8333333333333334,0.8333333333333334,0.8333333333333334,0.8333333333333334,0.85,0.85,0.8666666666666667,0.8666666666666667,0.8666666666666667,0.8666666666666667,0.8666666666666667,0.8666666666666667,0.8666666666666667,0.8666666666666667,0.8666666666666667,0.8666666666666667,0.8666666666666667,0.8666666666666667,0.8666666666666667,0.8666666666666667,0.8666666666666667,0.8833333333333333,0.8833333333333333,0.9,0.9,0.9166666666666666,0.9166666666666666,0.9166666666666666,0.9166666666666666,0.9166666666666666,0.9166666666666666,0.9166666666666666,0.9166666666666666,0.9166666666666666,0.9333333333333333,0.95,0.9666666666666667,0.9666666666666667,0.9833333333333333,0.9833333333333333,0.9833333333333333,0.9833333333333333,0.9833333333333333,0.9833333333333333,0.9833333333333333,0.9833333333333333,0.9833333333333333,0.9833333333333333,0.9833333333333333,0.9833333333333333,0.9833333333333333,0.9833333333333333,0.9833333333333333,0.9833333333333333,0.9833333333333333,0.9833333333333333,0.9833333333333333,0.9833333333333333,0.9833333333333333,0.9833333333333333,0.9833333333333333,0.9833333333333333,0.9833333333333333,0.9833333333333333,0.9833333333333333,1.0,1.0,1.0,1.0,1.0,1.0,1.0,1.0,1.0,1.0,1.0,1.0,1.0,1.0,1.0,1.0,1.0,1.0,1.0,1.0,1.0,1.0,1.0,1.0,1.0,1.0,1.0,1.0,1.0]},{\"line\":{\"dash\":\"dash\"},\"name\":\"Trivial Model (AUC 0.5)\",\"type\":\"scatter\",\"x\":[0,1],\"y\":[0,1]}],                        {\"template\":{\"data\":{\"bar\":[{\"error_x\":{\"color\":\"#2a3f5f\"},\"error_y\":{\"color\":\"#2a3f5f\"},\"marker\":{\"line\":{\"color\":\"#E5ECF6\",\"width\":0.5},\"pattern\":{\"fillmode\":\"overlay\",\"size\":10,\"solidity\":0.2}},\"type\":\"bar\"}],\"barpolar\":[{\"marker\":{\"line\":{\"color\":\"#E5ECF6\",\"width\":0.5},\"pattern\":{\"fillmode\":\"overlay\",\"size\":10,\"solidity\":0.2}},\"type\":\"barpolar\"}],\"carpet\":[{\"aaxis\":{\"endlinecolor\":\"#2a3f5f\",\"gridcolor\":\"white\",\"linecolor\":\"white\",\"minorgridcolor\":\"white\",\"startlinecolor\":\"#2a3f5f\"},\"baxis\":{\"endlinecolor\":\"#2a3f5f\",\"gridcolor\":\"white\",\"linecolor\":\"white\",\"minorgridcolor\":\"white\",\"startlinecolor\":\"#2a3f5f\"},\"type\":\"carpet\"}],\"choropleth\":[{\"colorbar\":{\"outlinewidth\":0,\"ticks\":\"\"},\"type\":\"choropleth\"}],\"contour\":[{\"colorbar\":{\"outlinewidth\":0,\"ticks\":\"\"},\"colorscale\":[[0.0,\"#0d0887\"],[0.1111111111111111,\"#46039f\"],[0.2222222222222222,\"#7201a8\"],[0.3333333333333333,\"#9c179e\"],[0.4444444444444444,\"#bd3786\"],[0.5555555555555556,\"#d8576b\"],[0.6666666666666666,\"#ed7953\"],[0.7777777777777778,\"#fb9f3a\"],[0.8888888888888888,\"#fdca26\"],[1.0,\"#f0f921\"]],\"type\":\"contour\"}],\"contourcarpet\":[{\"colorbar\":{\"outlinewidth\":0,\"ticks\":\"\"},\"type\":\"contourcarpet\"}],\"heatmap\":[{\"colorbar\":{\"outlinewidth\":0,\"ticks\":\"\"},\"colorscale\":[[0.0,\"#0d0887\"],[0.1111111111111111,\"#46039f\"],[0.2222222222222222,\"#7201a8\"],[0.3333333333333333,\"#9c179e\"],[0.4444444444444444,\"#bd3786\"],[0.5555555555555556,\"#d8576b\"],[0.6666666666666666,\"#ed7953\"],[0.7777777777777778,\"#fb9f3a\"],[0.8888888888888888,\"#fdca26\"],[1.0,\"#f0f921\"]],\"type\":\"heatmap\"}],\"heatmapgl\":[{\"colorbar\":{\"outlinewidth\":0,\"ticks\":\"\"},\"colorscale\":[[0.0,\"#0d0887\"],[0.1111111111111111,\"#46039f\"],[0.2222222222222222,\"#7201a8\"],[0.3333333333333333,\"#9c179e\"],[0.4444444444444444,\"#bd3786\"],[0.5555555555555556,\"#d8576b\"],[0.6666666666666666,\"#ed7953\"],[0.7777777777777778,\"#fb9f3a\"],[0.8888888888888888,\"#fdca26\"],[1.0,\"#f0f921\"]],\"type\":\"heatmapgl\"}],\"histogram\":[{\"marker\":{\"pattern\":{\"fillmode\":\"overlay\",\"size\":10,\"solidity\":0.2}},\"type\":\"histogram\"}],\"histogram2d\":[{\"colorbar\":{\"outlinewidth\":0,\"ticks\":\"\"},\"colorscale\":[[0.0,\"#0d0887\"],[0.1111111111111111,\"#46039f\"],[0.2222222222222222,\"#7201a8\"],[0.3333333333333333,\"#9c179e\"],[0.4444444444444444,\"#bd3786\"],[0.5555555555555556,\"#d8576b\"],[0.6666666666666666,\"#ed7953\"],[0.7777777777777778,\"#fb9f3a\"],[0.8888888888888888,\"#fdca26\"],[1.0,\"#f0f921\"]],\"type\":\"histogram2d\"}],\"histogram2dcontour\":[{\"colorbar\":{\"outlinewidth\":0,\"ticks\":\"\"},\"colorscale\":[[0.0,\"#0d0887\"],[0.1111111111111111,\"#46039f\"],[0.2222222222222222,\"#7201a8\"],[0.3333333333333333,\"#9c179e\"],[0.4444444444444444,\"#bd3786\"],[0.5555555555555556,\"#d8576b\"],[0.6666666666666666,\"#ed7953\"],[0.7777777777777778,\"#fb9f3a\"],[0.8888888888888888,\"#fdca26\"],[1.0,\"#f0f921\"]],\"type\":\"histogram2dcontour\"}],\"mesh3d\":[{\"colorbar\":{\"outlinewidth\":0,\"ticks\":\"\"},\"type\":\"mesh3d\"}],\"parcoords\":[{\"line\":{\"colorbar\":{\"outlinewidth\":0,\"ticks\":\"\"}},\"type\":\"parcoords\"}],\"pie\":[{\"automargin\":true,\"type\":\"pie\"}],\"scatter\":[{\"marker\":{\"colorbar\":{\"outlinewidth\":0,\"ticks\":\"\"}},\"type\":\"scatter\"}],\"scatter3d\":[{\"line\":{\"colorbar\":{\"outlinewidth\":0,\"ticks\":\"\"}},\"marker\":{\"colorbar\":{\"outlinewidth\":0,\"ticks\":\"\"}},\"type\":\"scatter3d\"}],\"scattercarpet\":[{\"marker\":{\"colorbar\":{\"outlinewidth\":0,\"ticks\":\"\"}},\"type\":\"scattercarpet\"}],\"scattergeo\":[{\"marker\":{\"colorbar\":{\"outlinewidth\":0,\"ticks\":\"\"}},\"type\":\"scattergeo\"}],\"scattergl\":[{\"marker\":{\"colorbar\":{\"outlinewidth\":0,\"ticks\":\"\"}},\"type\":\"scattergl\"}],\"scattermapbox\":[{\"marker\":{\"colorbar\":{\"outlinewidth\":0,\"ticks\":\"\"}},\"type\":\"scattermapbox\"}],\"scatterpolar\":[{\"marker\":{\"colorbar\":{\"outlinewidth\":0,\"ticks\":\"\"}},\"type\":\"scatterpolar\"}],\"scatterpolargl\":[{\"marker\":{\"colorbar\":{\"outlinewidth\":0,\"ticks\":\"\"}},\"type\":\"scatterpolargl\"}],\"scatterternary\":[{\"marker\":{\"colorbar\":{\"outlinewidth\":0,\"ticks\":\"\"}},\"type\":\"scatterternary\"}],\"surface\":[{\"colorbar\":{\"outlinewidth\":0,\"ticks\":\"\"},\"colorscale\":[[0.0,\"#0d0887\"],[0.1111111111111111,\"#46039f\"],[0.2222222222222222,\"#7201a8\"],[0.3333333333333333,\"#9c179e\"],[0.4444444444444444,\"#bd3786\"],[0.5555555555555556,\"#d8576b\"],[0.6666666666666666,\"#ed7953\"],[0.7777777777777778,\"#fb9f3a\"],[0.8888888888888888,\"#fdca26\"],[1.0,\"#f0f921\"]],\"type\":\"surface\"}],\"table\":[{\"cells\":{\"fill\":{\"color\":\"#EBF0F8\"},\"line\":{\"color\":\"white\"}},\"header\":{\"fill\":{\"color\":\"#C8D4E3\"},\"line\":{\"color\":\"white\"}},\"type\":\"table\"}]},\"layout\":{\"annotationdefaults\":{\"arrowcolor\":\"#2a3f5f\",\"arrowhead\":0,\"arrowwidth\":1},\"autotypenumbers\":\"strict\",\"coloraxis\":{\"colorbar\":{\"outlinewidth\":0,\"ticks\":\"\"}},\"colorscale\":{\"diverging\":[[0,\"#8e0152\"],[0.1,\"#c51b7d\"],[0.2,\"#de77ae\"],[0.3,\"#f1b6da\"],[0.4,\"#fde0ef\"],[0.5,\"#f7f7f7\"],[0.6,\"#e6f5d0\"],[0.7,\"#b8e186\"],[0.8,\"#7fbc41\"],[0.9,\"#4d9221\"],[1,\"#276419\"]],\"sequential\":[[0.0,\"#0d0887\"],[0.1111111111111111,\"#46039f\"],[0.2222222222222222,\"#7201a8\"],[0.3333333333333333,\"#9c179e\"],[0.4444444444444444,\"#bd3786\"],[0.5555555555555556,\"#d8576b\"],[0.6666666666666666,\"#ed7953\"],[0.7777777777777778,\"#fb9f3a\"],[0.8888888888888888,\"#fdca26\"],[1.0,\"#f0f921\"]],\"sequentialminus\":[[0.0,\"#0d0887\"],[0.1111111111111111,\"#46039f\"],[0.2222222222222222,\"#7201a8\"],[0.3333333333333333,\"#9c179e\"],[0.4444444444444444,\"#bd3786\"],[0.5555555555555556,\"#d8576b\"],[0.6666666666666666,\"#ed7953\"],[0.7777777777777778,\"#fb9f3a\"],[0.8888888888888888,\"#fdca26\"],[1.0,\"#f0f921\"]]},\"colorway\":[\"#636efa\",\"#EF553B\",\"#00cc96\",\"#ab63fa\",\"#FFA15A\",\"#19d3f3\",\"#FF6692\",\"#B6E880\",\"#FF97FF\",\"#FECB52\"],\"font\":{\"color\":\"#2a3f5f\"},\"geo\":{\"bgcolor\":\"white\",\"lakecolor\":\"white\",\"landcolor\":\"#E5ECF6\",\"showlakes\":true,\"showland\":true,\"subunitcolor\":\"white\"},\"hoverlabel\":{\"align\":\"left\"},\"hovermode\":\"closest\",\"mapbox\":{\"style\":\"light\"},\"paper_bgcolor\":\"white\",\"plot_bgcolor\":\"#E5ECF6\",\"polar\":{\"angularaxis\":{\"gridcolor\":\"white\",\"linecolor\":\"white\",\"ticks\":\"\"},\"bgcolor\":\"#E5ECF6\",\"radialaxis\":{\"gridcolor\":\"white\",\"linecolor\":\"white\",\"ticks\":\"\"}},\"scene\":{\"xaxis\":{\"backgroundcolor\":\"#E5ECF6\",\"gridcolor\":\"white\",\"gridwidth\":2,\"linecolor\":\"white\",\"showbackground\":true,\"ticks\":\"\",\"zerolinecolor\":\"white\"},\"yaxis\":{\"backgroundcolor\":\"#E5ECF6\",\"gridcolor\":\"white\",\"gridwidth\":2,\"linecolor\":\"white\",\"showbackground\":true,\"ticks\":\"\",\"zerolinecolor\":\"white\"},\"zaxis\":{\"backgroundcolor\":\"#E5ECF6\",\"gridcolor\":\"white\",\"gridwidth\":2,\"linecolor\":\"white\",\"showbackground\":true,\"ticks\":\"\",\"zerolinecolor\":\"white\"}},\"shapedefaults\":{\"line\":{\"color\":\"#2a3f5f\"}},\"ternary\":{\"aaxis\":{\"gridcolor\":\"white\",\"linecolor\":\"white\",\"ticks\":\"\"},\"baxis\":{\"gridcolor\":\"white\",\"linecolor\":\"white\",\"ticks\":\"\"},\"bgcolor\":\"#E5ECF6\",\"caxis\":{\"gridcolor\":\"white\",\"linecolor\":\"white\",\"ticks\":\"\"}},\"title\":{\"x\":0.05},\"xaxis\":{\"automargin\":true,\"gridcolor\":\"white\",\"linecolor\":\"white\",\"ticks\":\"\",\"title\":{\"standoff\":15},\"zerolinecolor\":\"white\",\"zerolinewidth\":2},\"yaxis\":{\"automargin\":true,\"gridcolor\":\"white\",\"linecolor\":\"white\",\"ticks\":\"\",\"title\":{\"standoff\":15},\"zerolinecolor\":\"white\",\"zerolinewidth\":2}}},\"title\":{\"text\":\"Receiver Operating Characteristic\"},\"xaxis\":{\"range\":[-0.05,1.05],\"title\":{\"text\":\"False Positive Rate\"}},\"yaxis\":{\"range\":[-0.05,1.05],\"title\":{\"text\":\"True Positive Rate\"}}},                        {\"responsive\": true}                    ).then(function(){\n",
              "                            \n",
              "var gd = document.getElementById('f38796d0-94d8-4e25-8b20-d7439d1a40fe');\n",
              "var x = new MutationObserver(function (mutations, observer) {{\n",
              "        var display = window.getComputedStyle(gd).display;\n",
              "        if (!display || display === 'none') {{\n",
              "            console.log([gd, 'removed!']);\n",
              "            Plotly.purge(gd);\n",
              "            observer.disconnect();\n",
              "        }}\n",
              "}});\n",
              "\n",
              "// Listen for the removal of the full notebook cells\n",
              "var notebookContainer = gd.closest('#notebook-container');\n",
              "if (notebookContainer) {{\n",
              "    x.observe(notebookContainer, {childList: true});\n",
              "}}\n",
              "\n",
              "// Listen for the clearing of the current output cell\n",
              "var outputEl = gd.closest('.output');\n",
              "if (outputEl) {{\n",
              "    x.observe(outputEl, {childList: true});\n",
              "}}\n",
              "\n",
              "                        })                };                            </script>        </div>\n",
              "</body>\n",
              "</html>"
            ]
          },
          "metadata": {
            "tags": []
          }
        }
      ]
    },
    {
      "cell_type": "code",
      "metadata": {
        "id": "FYHbxbF4M8mZ"
      },
      "source": [
        "########## I am done ##############"
      ],
      "execution_count": null,
      "outputs": []
    }
  ]
}