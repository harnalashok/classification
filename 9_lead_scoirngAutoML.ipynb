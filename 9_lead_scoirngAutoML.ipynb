{
  "nbformat": 4,
  "nbformat_minor": 0,
  "metadata": {
    "colab": {
      "name": "lead_scoirngAutoML.ipynb",
      "provenance": [],
      "collapsed_sections": [],
      "authorship_tag": "ABX9TyPO9OTJAPOteSpftUAcM2lN",
      "include_colab_link": true
    },
    "kernelspec": {
      "name": "python3",
      "display_name": "Python 3"
    },
    "language_info": {
      "name": "python"
    }
  },
  "cells": [
    {
      "cell_type": "markdown",
      "metadata": {
        "id": "view-in-github",
        "colab_type": "text"
      },
      "source": [
        "<a href=\"https://colab.research.google.com/github/harnalashok/classification/blob/main/9_lead_scoirngAutoML.ipynb\" target=\"_parent\"><img src=\"https://colab.research.google.com/assets/colab-badge.svg\" alt=\"Open In Colab\"/></a>"
      ]
    },
    {
      "cell_type": "code",
      "metadata": {
        "id": "2ppXhpO9e38h"
      },
      "source": [
        "# Last amended: 23rd July, 2021\n",
        "# My folder: C:\\Users\\ashok\\OneDrive\\Documents\\leads_scoring\n",
        "#\n",
        "# AutoML:\n",
        "# Ref: https://evalml.alteryx.com/en/stable/demos/lead_scoring.html\n",
        "# Lead scoring:\n",
        "#      https://towardsdatascience.com/a-true-end-to-end-ml-example-lead-scoring-f5b52e9a3c80\n",
        "# Kaggle \n",
        "#      https://www.kaggle.com/ashydv/leads-dataset"
      ],
      "execution_count": null,
      "outputs": []
    },
    {
      "cell_type": "markdown",
      "metadata": {
        "id": "VICRLPwkfHfl"
      },
      "source": [
        "# Building a Lead Scoring Model with EvalML"
      ]
    },
    {
      "cell_type": "markdown",
      "metadata": {
        "id": "EqXqe6tYfB8N"
      },
      "source": [
        "In this example, we will build an optimized lead scoring model using [EvalML](https://github.com/alteryx/evalml). To optimize the pipeline, we will set up an objective function to maximize the revenue generated with true positives while taking into account the cost of false positives. At the end of this demo, we also show you how introducing the right objective during the training is significantly better than using a generic machine learning metric like AUC."
      ]
    },
    {
      "cell_type": "markdown",
      "metadata": {
        "id": "5PubkqfffNc8"
      },
      "source": [
        "## Install packages"
      ]
    },
    {
      "cell_type": "markdown",
      "metadata": {
        "id": "uU7Ftn_WzDVQ"
      },
      "source": [
        "EvalML is an AutoML library that builds, optimizes, and evaluates machine learning pipelines using domain-specific objective functions.\n",
        "\n",
        "Combined with Featuretools and Compose, EvalML can be used to create end-to-end supervised machine learning solutions."
      ]
    },
    {
      "cell_type": "code",
      "metadata": {
        "id": "u-l_GcN7epOb"
      },
      "source": [
        "# Install evalml. Some of the packages installed are:\n",
        "# imbalanced-learn, scikit-optimize, plotly, category-encoders,\n",
        "# graphviz, lightgbm, shap, statsmodels, catboost, scikit-learn\n",
        "# featuretools, matplotlib,nltk,xgboost, pmdarima (for the anagram of 'py' + 'arima')\n",
        "# kaleido (blockchain) \n",
        "\n",
        "# Restart runtime after install\n",
        "\n",
        "!pip install evalml\n",
        "! pip install dask[dataframe] --upgrade \n",
        "! pip install ipywidgets"
      ],
      "execution_count": null,
      "outputs": []
    },
    {
      "cell_type": "code",
      "metadata": {
        "id": "fIqGxUK42fYH"
      },
      "source": [
        "!pip install --upgrade plotly\n",
        "!pip install jupyter-dash"
      ],
      "execution_count": null,
      "outputs": []
    },
    {
      "cell_type": "markdown",
      "metadata": {
        "id": "uXtP0NDxoSJZ"
      },
      "source": [
        "## Call libraries"
      ]
    },
    {
      "cell_type": "code",
      "metadata": {
        "id": "Npcpyi2Eev18"
      },
      "source": [
        "# Call libraries\n",
        "# 1.0 Data manipulation\n",
        "import numpy as np\n",
        "import pandas as pd\n",
        "\n",
        "# 1.1 Auto Machine Learning\n",
        "# conda install -c conda-forge evalml\n",
        "import evalml\n",
        "from evalml import AutoMLSearch\n",
        "from evalml.objectives import LeadScoring # Another objective is FraudCost\n",
        "from evalml.model_understanding.graphs import graph_confusion_matrix, graph_roc_curve\n",
        "from evalml.data_checks import DefaultDataChecks\n",
        "\n",
        "# 1.2 URL open\n",
        "from urllib.request import urlopen\n",
        "\n",
        "# 1.3 Woodwork makes it easy to manage additional\n",
        "#      'data-typing' information for your data,\n",
        "#        and, therefore, access only the data one needs\n",
        "#         based on these additional data-types, called\n",
        "#          logical types or semantic tags.\n",
        "#           It is used by featuretools and evalml\n",
        "\n",
        "import woodwork as ww  # Data typing management tool\n",
        "\n",
        "# 1.4 Misc\n",
        "import time"
      ],
      "execution_count": 132,
      "outputs": []
    },
    {
      "cell_type": "code",
      "metadata": {
        "id": "oTKKu_7P4pi8"
      },
      "source": [
        "# 1.5\n",
        "from IPython.core.interactiveshell import InteractiveShell\n",
        "InteractiveShell.ast_node_interactivity = \"all\""
      ],
      "execution_count": 133,
      "outputs": []
    },
    {
      "cell_type": "markdown",
      "metadata": {
        "id": "xpHqNEp6mmF9"
      },
      "source": [
        "## Dataset"
      ]
    },
    {
      "cell_type": "markdown",
      "metadata": {
        "id": "lEOz1x3YmjcV"
      },
      "source": [
        "We will be utilizing a dataset detailing a customer’s job, country, state, zip, online action, the dollar amount of that action and whether they were a successful lead."
      ]
    },
    {
      "cell_type": "code",
      "metadata": {
        "id": "KenUFNwumZmI"
      },
      "source": [
        "# Open URLs to access data\n",
        "customers_data      = urlopen('https://featurelabs-static.s3.amazonaws.com/lead_scoring_ml_apps/customers.csv')\n",
        "interactions_data   = urlopen('https://featurelabs-static.s3.amazonaws.com/lead_scoring_ml_apps/interactions.csv')\n",
        "leads_data          = urlopen('https://featurelabs-static.s3.amazonaws.com/lead_scoring_ml_apps/previous_leads.csv')\n",
        "\n",
        "# Method read() can be used to read data\n",
        "##print(customers_data.read())"
      ],
      "execution_count": 134,
      "outputs": []
    },
    {
      "cell_type": "code",
      "metadata": {
        "id": "YOsbtPU9o9WH"
      },
      "source": [
        "# Read lead-score tables from opened URL\n",
        "customers = pd.read_csv(customers_data)\n",
        "interactions = pd.read_csv(interactions_data)\n",
        "leads = pd.read_csv(leads_data)"
      ],
      "execution_count": 135,
      "outputs": []
    },
    {
      "cell_type": "code",
      "metadata": {
        "colab": {
          "base_uri": "https://localhost:8080/",
          "height": 366
        },
        "id": "xUBA1eAA4GY2",
        "outputId": "e55050db-8f04-458c-fb8b-2b43bbc1b191"
      },
      "source": [
        "# Look at data\n",
        "customers.shape    # (1000, 11)\n",
        "customers.head()"
      ],
      "execution_count": 136,
      "outputs": [
        {
          "output_type": "execute_result",
          "data": {
            "text/plain": [
              "(1000, 11)"
            ]
          },
          "metadata": {
            "tags": []
          },
          "execution_count": 136
        },
        {
          "output_type": "execute_result",
          "data": {
            "text/html": [
              "<div>\n",
              "<style scoped>\n",
              "    .dataframe tbody tr th:only-of-type {\n",
              "        vertical-align: middle;\n",
              "    }\n",
              "\n",
              "    .dataframe tbody tr th {\n",
              "        vertical-align: top;\n",
              "    }\n",
              "\n",
              "    .dataframe thead th {\n",
              "        text-align: right;\n",
              "    }\n",
              "</style>\n",
              "<table border=\"1\" class=\"dataframe\">\n",
              "  <thead>\n",
              "    <tr style=\"text-align: right;\">\n",
              "      <th></th>\n",
              "      <th>customer_id</th>\n",
              "      <th>date_registered</th>\n",
              "      <th>birthday</th>\n",
              "      <th>job</th>\n",
              "      <th>phone</th>\n",
              "      <th>email</th>\n",
              "      <th>country</th>\n",
              "      <th>state</th>\n",
              "      <th>zip</th>\n",
              "      <th>owner</th>\n",
              "      <th>company</th>\n",
              "    </tr>\n",
              "  </thead>\n",
              "  <tbody>\n",
              "    <tr>\n",
              "      <th>0</th>\n",
              "      <td>460429349361</td>\n",
              "      <td>2017-08-10 11:04:45</td>\n",
              "      <td>NaN</td>\n",
              "      <td>Engineer, mining</td>\n",
              "      <td>+1-283-990-1507x7713</td>\n",
              "      <td>christian92@gmail.com</td>\n",
              "      <td>NaN</td>\n",
              "      <td>NY</td>\n",
              "      <td>60091.0</td>\n",
              "      <td>Kathleen Hawkins MD</td>\n",
              "      <td>6.185414e+11</td>\n",
              "    </tr>\n",
              "    <tr>\n",
              "      <th>1</th>\n",
              "      <td>392559384176</td>\n",
              "      <td>2017-08-10 23:13:51</td>\n",
              "      <td>NaN</td>\n",
              "      <td>Arts administrator</td>\n",
              "      <td>400.808.2148</td>\n",
              "      <td>jenniferdavis@carter-ellis.biz</td>\n",
              "      <td>US</td>\n",
              "      <td>CA</td>\n",
              "      <td>NaN</td>\n",
              "      <td>John Edwards</td>\n",
              "      <td>8.330990e+11</td>\n",
              "    </tr>\n",
              "    <tr>\n",
              "      <th>2</th>\n",
              "      <td>674438580580</td>\n",
              "      <td>2017-08-11 08:35:32</td>\n",
              "      <td>NaN</td>\n",
              "      <td>Psychologist, forensic</td>\n",
              "      <td>(299)543-9962</td>\n",
              "      <td>wwelch@lee.com</td>\n",
              "      <td>US</td>\n",
              "      <td>CA</td>\n",
              "      <td>NaN</td>\n",
              "      <td>John Edwards</td>\n",
              "      <td>2.114827e+11</td>\n",
              "    </tr>\n",
              "    <tr>\n",
              "      <th>3</th>\n",
              "      <td>364017777045</td>\n",
              "      <td>2017-08-11 10:15:37</td>\n",
              "      <td>NaN</td>\n",
              "      <td>Air cabin crew</td>\n",
              "      <td>+1-213-455-5314</td>\n",
              "      <td>xjones@smith.net</td>\n",
              "      <td>US</td>\n",
              "      <td>NaN</td>\n",
              "      <td>60091.0</td>\n",
              "      <td>Erica Anderson</td>\n",
              "      <td>NaN</td>\n",
              "    </tr>\n",
              "    <tr>\n",
              "      <th>4</th>\n",
              "      <td>551397602202</td>\n",
              "      <td>2017-08-11 13:33:23</td>\n",
              "      <td>NaN</td>\n",
              "      <td>Press sub</td>\n",
              "      <td>619.795.6618</td>\n",
              "      <td>walterromero@gmail.com</td>\n",
              "      <td>US</td>\n",
              "      <td>NaN</td>\n",
              "      <td>NaN</td>\n",
              "      <td>Kathleen Hawkins MD</td>\n",
              "      <td>NaN</td>\n",
              "    </tr>\n",
              "  </tbody>\n",
              "</table>\n",
              "</div>"
            ],
            "text/plain": [
              "    customer_id      date_registered  ...                owner       company\n",
              "0  460429349361  2017-08-10 11:04:45  ...  Kathleen Hawkins MD  6.185414e+11\n",
              "1  392559384176  2017-08-10 23:13:51  ...         John Edwards  8.330990e+11\n",
              "2  674438580580  2017-08-11 08:35:32  ...         John Edwards  2.114827e+11\n",
              "3  364017777045  2017-08-11 10:15:37  ...       Erica Anderson           NaN\n",
              "4  551397602202  2017-08-11 13:33:23  ...  Kathleen Hawkins MD           NaN\n",
              "\n",
              "[5 rows x 11 columns]"
            ]
          },
          "metadata": {
            "tags": []
          },
          "execution_count": 136
        }
      ]
    },
    {
      "cell_type": "code",
      "metadata": {
        "colab": {
          "base_uri": "https://localhost:8080/",
          "height": 225
        },
        "id": "YxOLJddq4Wrv",
        "outputId": "92ab1355-1d7a-42dd-c297-8724984bcc64"
      },
      "source": [
        "# Interactions data\n",
        "interactions.shape  # (5625, 7)\n",
        "interactions.head()"
      ],
      "execution_count": 137,
      "outputs": [
        {
          "output_type": "execute_result",
          "data": {
            "text/plain": [
              "(5625, 7)"
            ]
          },
          "metadata": {
            "tags": []
          },
          "execution_count": 137
        },
        {
          "output_type": "execute_result",
          "data": {
            "text/html": [
              "<div>\n",
              "<style scoped>\n",
              "    .dataframe tbody tr th:only-of-type {\n",
              "        vertical-align: middle;\n",
              "    }\n",
              "\n",
              "    .dataframe tbody tr th {\n",
              "        vertical-align: top;\n",
              "    }\n",
              "\n",
              "    .dataframe thead th {\n",
              "        text-align: right;\n",
              "    }\n",
              "</style>\n",
              "<table border=\"1\" class=\"dataframe\">\n",
              "  <thead>\n",
              "    <tr style=\"text-align: right;\">\n",
              "      <th></th>\n",
              "      <th>id</th>\n",
              "      <th>time</th>\n",
              "      <th>customer_id</th>\n",
              "      <th>action</th>\n",
              "      <th>amount</th>\n",
              "      <th>session</th>\n",
              "      <th>referrer</th>\n",
              "    </tr>\n",
              "  </thead>\n",
              "  <tbody>\n",
              "    <tr>\n",
              "      <th>0</th>\n",
              "      <td>807870369974</td>\n",
              "      <td>2017-08-17 18:18:45</td>\n",
              "      <td>676332384432</td>\n",
              "      <td>contact_form</td>\n",
              "      <td>NaN</td>\n",
              "      <td>531094009776</td>\n",
              "      <td>https://www.twitter.com</td>\n",
              "    </tr>\n",
              "    <tr>\n",
              "      <th>1</th>\n",
              "      <td>889936071815</td>\n",
              "      <td>2017-08-18 18:58:39</td>\n",
              "      <td>676332384432</td>\n",
              "      <td>contact_form</td>\n",
              "      <td>NaN</td>\n",
              "      <td>531094009776</td>\n",
              "      <td>https://www.twitter.com</td>\n",
              "    </tr>\n",
              "    <tr>\n",
              "      <th>2</th>\n",
              "      <td>890016715098</td>\n",
              "      <td>2017-08-22 15:54:26</td>\n",
              "      <td>756895858030</td>\n",
              "      <td>purchase</td>\n",
              "      <td>50.54</td>\n",
              "      <td>355429835992</td>\n",
              "      <td>NaN</td>\n",
              "    </tr>\n",
              "    <tr>\n",
              "      <th>3</th>\n",
              "      <td>539965059120</td>\n",
              "      <td>2017-08-24 23:25:33</td>\n",
              "      <td>676332384432</td>\n",
              "      <td>page_view</td>\n",
              "      <td>NaN</td>\n",
              "      <td>531094009776</td>\n",
              "      <td>NaN</td>\n",
              "    </tr>\n",
              "    <tr>\n",
              "      <th>4</th>\n",
              "      <td>496056352403</td>\n",
              "      <td>2017-08-25 09:32:25</td>\n",
              "      <td>676332384432</td>\n",
              "      <td>page_view</td>\n",
              "      <td>NaN</td>\n",
              "      <td>531094009776</td>\n",
              "      <td>https://medium.com/article</td>\n",
              "    </tr>\n",
              "  </tbody>\n",
              "</table>\n",
              "</div>"
            ],
            "text/plain": [
              "             id                 time  ...       session                    referrer\n",
              "0  807870369974  2017-08-17 18:18:45  ...  531094009776     https://www.twitter.com\n",
              "1  889936071815  2017-08-18 18:58:39  ...  531094009776     https://www.twitter.com\n",
              "2  890016715098  2017-08-22 15:54:26  ...  355429835992                         NaN\n",
              "3  539965059120  2017-08-24 23:25:33  ...  531094009776                         NaN\n",
              "4  496056352403  2017-08-25 09:32:25  ...  531094009776  https://medium.com/article\n",
              "\n",
              "[5 rows x 7 columns]"
            ]
          },
          "metadata": {
            "tags": []
          },
          "execution_count": 137
        }
      ]
    },
    {
      "cell_type": "code",
      "metadata": {
        "colab": {
          "base_uri": "https://localhost:8080/",
          "height": 225
        },
        "id": "W_hk-gmw4xlc",
        "outputId": "6ed6ed2c-1ec5-4ccf-9f25-bc58bb328380"
      },
      "source": [
        "# Leads success/failure data\n",
        "leads.shape  # (584, 3)\n",
        "leads.head()"
      ],
      "execution_count": 138,
      "outputs": [
        {
          "output_type": "execute_result",
          "data": {
            "text/plain": [
              "(584, 3)"
            ]
          },
          "metadata": {
            "tags": []
          },
          "execution_count": 138
        },
        {
          "output_type": "execute_result",
          "data": {
            "text/html": [
              "<div>\n",
              "<style scoped>\n",
              "    .dataframe tbody tr th:only-of-type {\n",
              "        vertical-align: middle;\n",
              "    }\n",
              "\n",
              "    .dataframe tbody tr th {\n",
              "        vertical-align: top;\n",
              "    }\n",
              "\n",
              "    .dataframe thead th {\n",
              "        text-align: right;\n",
              "    }\n",
              "</style>\n",
              "<table border=\"1\" class=\"dataframe\">\n",
              "  <thead>\n",
              "    <tr style=\"text-align: right;\">\n",
              "      <th></th>\n",
              "      <th>customer_id</th>\n",
              "      <th>time</th>\n",
              "      <th>label</th>\n",
              "    </tr>\n",
              "  </thead>\n",
              "  <tbody>\n",
              "    <tr>\n",
              "      <th>0</th>\n",
              "      <td>961424493033</td>\n",
              "      <td>2017-09-17 08:20:09</td>\n",
              "      <td>False</td>\n",
              "    </tr>\n",
              "    <tr>\n",
              "      <th>1</th>\n",
              "      <td>739795366381</td>\n",
              "      <td>2017-09-20 18:14:56</td>\n",
              "      <td>False</td>\n",
              "    </tr>\n",
              "    <tr>\n",
              "      <th>2</th>\n",
              "      <td>433081973416</td>\n",
              "      <td>2017-09-26 12:14:42</td>\n",
              "      <td>False</td>\n",
              "    </tr>\n",
              "    <tr>\n",
              "      <th>3</th>\n",
              "      <td>178336564320</td>\n",
              "      <td>2017-09-29 12:48:25</td>\n",
              "      <td>False</td>\n",
              "    </tr>\n",
              "    <tr>\n",
              "      <th>4</th>\n",
              "      <td>203924762965</td>\n",
              "      <td>2017-10-02 02:57:06</td>\n",
              "      <td>False</td>\n",
              "    </tr>\n",
              "  </tbody>\n",
              "</table>\n",
              "</div>"
            ],
            "text/plain": [
              "    customer_id                 time  label\n",
              "0  961424493033  2017-09-17 08:20:09  False\n",
              "1  739795366381  2017-09-20 18:14:56  False\n",
              "2  433081973416  2017-09-26 12:14:42  False\n",
              "3  178336564320  2017-09-29 12:48:25  False\n",
              "4  203924762965  2017-10-02 02:57:06  False"
            ]
          },
          "metadata": {
            "tags": []
          },
          "execution_count": 138
        }
      ]
    },
    {
      "cell_type": "code",
      "metadata": {
        "id": "vOv6meMi5e6c"
      },
      "source": [
        "# Save these data files as csv\n",
        "customers.to_csv(\"customers.csv\", index = False)\n",
        "interactions.to_csv(\"interactions.csv\", index = False)\n",
        "leads.to_csv(\"leads.csv\", index=False)"
      ],
      "execution_count": 139,
      "outputs": []
    },
    {
      "cell_type": "code",
      "metadata": {
        "id": "UToosGlHf7pi"
      },
      "source": [
        "# Merge the three datasets\n",
        "X = customers.merge(\n",
        "                    interactions,\n",
        "                    on='customer_id').merge(\n",
        "                                            leads,\n",
        "                                            on='customer_id'\n",
        "                                            )\n",
        "# Target\n",
        "y = X['label']"
      ],
      "execution_count": 140,
      "outputs": []
    },
    {
      "cell_type": "code",
      "metadata": {
        "id": "SFybJWmwHTAz",
        "colab": {
          "base_uri": "https://localhost:8080/",
          "height": 442
        },
        "outputId": "132f0f20-97b5-463a-8028-3b3327fdd363"
      },
      "source": [
        "X.head()\n",
        "y.head()"
      ],
      "execution_count": 141,
      "outputs": [
        {
          "output_type": "execute_result",
          "data": {
            "text/html": [
              "<div>\n",
              "<style scoped>\n",
              "    .dataframe tbody tr th:only-of-type {\n",
              "        vertical-align: middle;\n",
              "    }\n",
              "\n",
              "    .dataframe tbody tr th {\n",
              "        vertical-align: top;\n",
              "    }\n",
              "\n",
              "    .dataframe thead th {\n",
              "        text-align: right;\n",
              "    }\n",
              "</style>\n",
              "<table border=\"1\" class=\"dataframe\">\n",
              "  <thead>\n",
              "    <tr style=\"text-align: right;\">\n",
              "      <th></th>\n",
              "      <th>customer_id</th>\n",
              "      <th>date_registered</th>\n",
              "      <th>birthday</th>\n",
              "      <th>job</th>\n",
              "      <th>phone</th>\n",
              "      <th>email</th>\n",
              "      <th>country</th>\n",
              "      <th>state</th>\n",
              "      <th>zip</th>\n",
              "      <th>owner</th>\n",
              "      <th>company</th>\n",
              "      <th>id</th>\n",
              "      <th>time_x</th>\n",
              "      <th>action</th>\n",
              "      <th>amount</th>\n",
              "      <th>session</th>\n",
              "      <th>referrer</th>\n",
              "      <th>time_y</th>\n",
              "      <th>label</th>\n",
              "    </tr>\n",
              "  </thead>\n",
              "  <tbody>\n",
              "    <tr>\n",
              "      <th>0</th>\n",
              "      <td>460429349361</td>\n",
              "      <td>2017-08-10 11:04:45</td>\n",
              "      <td>NaN</td>\n",
              "      <td>Engineer, mining</td>\n",
              "      <td>+1-283-990-1507x7713</td>\n",
              "      <td>christian92@gmail.com</td>\n",
              "      <td>NaN</td>\n",
              "      <td>NY</td>\n",
              "      <td>60091.0</td>\n",
              "      <td>Kathleen Hawkins MD</td>\n",
              "      <td>6.185414e+11</td>\n",
              "      <td>499214050533</td>\n",
              "      <td>2017-12-04 05:21:05</td>\n",
              "      <td>page_view</td>\n",
              "      <td>NaN</td>\n",
              "      <td>573943098058</td>\n",
              "      <td>NaN</td>\n",
              "      <td>2017-10-22 05:21:05</td>\n",
              "      <td>False</td>\n",
              "    </tr>\n",
              "    <tr>\n",
              "      <th>1</th>\n",
              "      <td>674438580580</td>\n",
              "      <td>2017-08-11 08:35:32</td>\n",
              "      <td>NaN</td>\n",
              "      <td>Psychologist, forensic</td>\n",
              "      <td>(299)543-9962</td>\n",
              "      <td>wwelch@lee.com</td>\n",
              "      <td>US</td>\n",
              "      <td>CA</td>\n",
              "      <td>NaN</td>\n",
              "      <td>John Edwards</td>\n",
              "      <td>2.114827e+11</td>\n",
              "      <td>542448787918</td>\n",
              "      <td>2018-03-13 20:10:17</td>\n",
              "      <td>purchase</td>\n",
              "      <td>135.23</td>\n",
              "      <td>680991389236</td>\n",
              "      <td>www.google.com</td>\n",
              "      <td>2018-02-11 20:10:17</td>\n",
              "      <td>True</td>\n",
              "    </tr>\n",
              "    <tr>\n",
              "      <th>2</th>\n",
              "      <td>674438580580</td>\n",
              "      <td>2017-08-11 08:35:32</td>\n",
              "      <td>NaN</td>\n",
              "      <td>Psychologist, forensic</td>\n",
              "      <td>(299)543-9962</td>\n",
              "      <td>wwelch@lee.com</td>\n",
              "      <td>US</td>\n",
              "      <td>CA</td>\n",
              "      <td>NaN</td>\n",
              "      <td>John Edwards</td>\n",
              "      <td>2.114827e+11</td>\n",
              "      <td>864068700968</td>\n",
              "      <td>2018-06-30 03:20:28</td>\n",
              "      <td>page_view</td>\n",
              "      <td>NaN</td>\n",
              "      <td>680991389236</td>\n",
              "      <td>https://www.twitter.com</td>\n",
              "      <td>2018-02-11 20:10:17</td>\n",
              "      <td>True</td>\n",
              "    </tr>\n",
              "    <tr>\n",
              "      <th>3</th>\n",
              "      <td>364017777045</td>\n",
              "      <td>2017-08-11 10:15:37</td>\n",
              "      <td>NaN</td>\n",
              "      <td>Air cabin crew</td>\n",
              "      <td>+1-213-455-5314</td>\n",
              "      <td>xjones@smith.net</td>\n",
              "      <td>US</td>\n",
              "      <td>NaN</td>\n",
              "      <td>60091.0</td>\n",
              "      <td>Erica Anderson</td>\n",
              "      <td>NaN</td>\n",
              "      <td>632245399666</td>\n",
              "      <td>2018-04-24 19:37:30</td>\n",
              "      <td>download</td>\n",
              "      <td>NaN</td>\n",
              "      <td>894164276572</td>\n",
              "      <td>https://medium.com/article</td>\n",
              "      <td>2018-04-08 19:37:30</td>\n",
              "      <td>False</td>\n",
              "    </tr>\n",
              "    <tr>\n",
              "      <th>4</th>\n",
              "      <td>364017777045</td>\n",
              "      <td>2017-08-11 10:15:37</td>\n",
              "      <td>NaN</td>\n",
              "      <td>Air cabin crew</td>\n",
              "      <td>+1-213-455-5314</td>\n",
              "      <td>xjones@smith.net</td>\n",
              "      <td>US</td>\n",
              "      <td>NaN</td>\n",
              "      <td>60091.0</td>\n",
              "      <td>Erica Anderson</td>\n",
              "      <td>NaN</td>\n",
              "      <td>182735438015</td>\n",
              "      <td>2018-07-20 02:50:45</td>\n",
              "      <td>page_view</td>\n",
              "      <td>NaN</td>\n",
              "      <td>894164276572</td>\n",
              "      <td>https://www.twitter.com</td>\n",
              "      <td>2018-04-08 19:37:30</td>\n",
              "      <td>False</td>\n",
              "    </tr>\n",
              "  </tbody>\n",
              "</table>\n",
              "</div>"
            ],
            "text/plain": [
              "    customer_id      date_registered  ...               time_y  label\n",
              "0  460429349361  2017-08-10 11:04:45  ...  2017-10-22 05:21:05  False\n",
              "1  674438580580  2017-08-11 08:35:32  ...  2018-02-11 20:10:17   True\n",
              "2  674438580580  2017-08-11 08:35:32  ...  2018-02-11 20:10:17   True\n",
              "3  364017777045  2017-08-11 10:15:37  ...  2018-04-08 19:37:30  False\n",
              "4  364017777045  2017-08-11 10:15:37  ...  2018-04-08 19:37:30  False\n",
              "\n",
              "[5 rows x 19 columns]"
            ]
          },
          "metadata": {
            "tags": []
          },
          "execution_count": 141
        },
        {
          "output_type": "execute_result",
          "data": {
            "text/plain": [
              "0    False\n",
              "1     True\n",
              "2     True\n",
              "3    False\n",
              "4    False\n",
              "Name: label, dtype: bool"
            ]
          },
          "metadata": {
            "tags": []
          },
          "execution_count": 141
        }
      ]
    },
    {
      "cell_type": "code",
      "metadata": {
        "id": "Fb2yBf1nf8vn",
        "colab": {
          "base_uri": "https://localhost:8080/",
          "height": 206
        },
        "outputId": "d4bbfe91-7310-4836-d061-7db3907d60cb"
      },
      "source": [
        "# Try without dropping 'referrer'\n",
        "# PErformance drops. Maybe this column\n",
        "# is noisy?\n",
        "\n",
        "X = X.drop(\n",
        "            [ 'customer_id',\n",
        "             'date_registered',\n",
        "             'birthday',\n",
        "             'phone',\n",
        "             'email',\n",
        "              'owner',\n",
        "              'company',\n",
        "              'id',\n",
        "              'time_x',\n",
        "              'session',\n",
        "              'referrer',\n",
        "              'time_y',\n",
        "              'label',\n",
        "              'country'],\n",
        "              axis=1\n",
        "           )\n",
        "\n",
        "display(X.head())"
      ],
      "execution_count": 142,
      "outputs": [
        {
          "output_type": "display_data",
          "data": {
            "text/html": [
              "<div>\n",
              "<style scoped>\n",
              "    .dataframe tbody tr th:only-of-type {\n",
              "        vertical-align: middle;\n",
              "    }\n",
              "\n",
              "    .dataframe tbody tr th {\n",
              "        vertical-align: top;\n",
              "    }\n",
              "\n",
              "    .dataframe thead th {\n",
              "        text-align: right;\n",
              "    }\n",
              "</style>\n",
              "<table border=\"1\" class=\"dataframe\">\n",
              "  <thead>\n",
              "    <tr style=\"text-align: right;\">\n",
              "      <th></th>\n",
              "      <th>job</th>\n",
              "      <th>state</th>\n",
              "      <th>zip</th>\n",
              "      <th>action</th>\n",
              "      <th>amount</th>\n",
              "    </tr>\n",
              "  </thead>\n",
              "  <tbody>\n",
              "    <tr>\n",
              "      <th>0</th>\n",
              "      <td>Engineer, mining</td>\n",
              "      <td>NY</td>\n",
              "      <td>60091.0</td>\n",
              "      <td>page_view</td>\n",
              "      <td>NaN</td>\n",
              "    </tr>\n",
              "    <tr>\n",
              "      <th>1</th>\n",
              "      <td>Psychologist, forensic</td>\n",
              "      <td>CA</td>\n",
              "      <td>NaN</td>\n",
              "      <td>purchase</td>\n",
              "      <td>135.23</td>\n",
              "    </tr>\n",
              "    <tr>\n",
              "      <th>2</th>\n",
              "      <td>Psychologist, forensic</td>\n",
              "      <td>CA</td>\n",
              "      <td>NaN</td>\n",
              "      <td>page_view</td>\n",
              "      <td>NaN</td>\n",
              "    </tr>\n",
              "    <tr>\n",
              "      <th>3</th>\n",
              "      <td>Air cabin crew</td>\n",
              "      <td>NaN</td>\n",
              "      <td>60091.0</td>\n",
              "      <td>download</td>\n",
              "      <td>NaN</td>\n",
              "    </tr>\n",
              "    <tr>\n",
              "      <th>4</th>\n",
              "      <td>Air cabin crew</td>\n",
              "      <td>NaN</td>\n",
              "      <td>60091.0</td>\n",
              "      <td>page_view</td>\n",
              "      <td>NaN</td>\n",
              "    </tr>\n",
              "  </tbody>\n",
              "</table>\n",
              "</div>"
            ],
            "text/plain": [
              "                      job state      zip     action  amount\n",
              "0        Engineer, mining    NY  60091.0  page_view     NaN\n",
              "1  Psychologist, forensic    CA      NaN   purchase  135.23\n",
              "2  Psychologist, forensic    CA      NaN  page_view     NaN\n",
              "3          Air cabin crew   NaN  60091.0   download     NaN\n",
              "4          Air cabin crew   NaN  60091.0  page_view     NaN"
            ]
          },
          "metadata": {
            "tags": []
          }
        }
      ]
    },
    {
      "cell_type": "markdown",
      "metadata": {
        "id": "3_CUSL3qgDSg"
      },
      "source": [
        "## Data Transformation\n",
        "We will convert our data into Woodwork data structures. Doing so enables us to have more control over the types passed to and inferred by AutoML."
      ]
    },
    {
      "cell_type": "code",
      "metadata": {
        "id": "CNI3jO1mJkAB"
      },
      "source": [
        "# Get default Woodwork data structure\n",
        "# for this DataFrame by initializing it\n",
        "#  with woordwork.init()\n",
        "\n",
        "X.ww.init()"
      ],
      "execution_count": 143,
      "outputs": []
    },
    {
      "cell_type": "markdown",
      "metadata": {
        "id": "RBeXktRcgKnU"
      },
      "source": [
        "The first step is to make sure that our physical, logical and semantic types are correct.\n",
        "\n",
        "> Physical Type – The actual data type of the incoming data. May also have storage information, as float64<br>\n",
        "> Logical Type – This is how the DataFrame interprets the physical data type.<br>\n",
        "> Semantic Tags – These are enhanced feature types that allow you to more thoroughly describe your data.<br>\n"
      ]
    },
    {
      "cell_type": "markdown",
      "metadata": {
        "id": "Z_AHlNW3nJLn"
      },
      "source": [
        "EvalML utilizes the open-source Woodwork library to detect and specify how each feature should be treated, independent of its underlying physical data type. This means we can treat columns with the same physical data type differently. For example, we can specify that we want some columns that contain text to be treated as *categorical* columns, while we treat other columns with text as *natural language* columns, even if these columns have the same underlying object datatype. This differentiation allows us to clear up the ambiguity between features that may have the same underlying datatype in pandas (ie 'object'), but ultimately represent different types of data.\n"
      ]
    },
    {
      "cell_type": "code",
      "metadata": {
        "id": "ABNwpyyDJdkE",
        "colab": {
          "base_uri": "https://localhost:8080/",
          "height": 237
        },
        "outputId": "cd69ba6f-b514-467e-8e0a-69ec92eda337"
      },
      "source": [
        "# Get X data type\n",
        "# Semantic tag of 'jod; is not clear\n",
        "X.ww"
      ],
      "execution_count": 144,
      "outputs": [
        {
          "output_type": "execute_result",
          "data": {
            "text/html": [
              "<table border=\"1\" class=\"dataframe\">\n",
              "  <thead>\n",
              "    <tr style=\"text-align: right;\">\n",
              "      <th></th>\n",
              "      <th>Physical Type</th>\n",
              "      <th>Logical Type</th>\n",
              "      <th>Semantic Tag(s)</th>\n",
              "    </tr>\n",
              "    <tr>\n",
              "      <th>Column</th>\n",
              "      <th></th>\n",
              "      <th></th>\n",
              "      <th></th>\n",
              "    </tr>\n",
              "  </thead>\n",
              "  <tbody>\n",
              "    <tr>\n",
              "      <th>job</th>\n",
              "      <td>string</td>\n",
              "      <td>Unknown</td>\n",
              "      <td>[]</td>\n",
              "    </tr>\n",
              "    <tr>\n",
              "      <th>state</th>\n",
              "      <td>category</td>\n",
              "      <td>Categorical</td>\n",
              "      <td>['category']</td>\n",
              "    </tr>\n",
              "    <tr>\n",
              "      <th>zip</th>\n",
              "      <td>float64</td>\n",
              "      <td>Double</td>\n",
              "      <td>['numeric']</td>\n",
              "    </tr>\n",
              "    <tr>\n",
              "      <th>action</th>\n",
              "      <td>category</td>\n",
              "      <td>Categorical</td>\n",
              "      <td>['category']</td>\n",
              "    </tr>\n",
              "    <tr>\n",
              "      <th>amount</th>\n",
              "      <td>float64</td>\n",
              "      <td>Double</td>\n",
              "      <td>['numeric']</td>\n",
              "    </tr>\n",
              "  </tbody>\n",
              "</table>"
            ],
            "text/plain": [
              "       Physical Type Logical Type Semantic Tag(s)\n",
              "Column                                           \n",
              "job           string      Unknown              []\n",
              "state       category  Categorical    ['category']\n",
              "zip          float64       Double     ['numeric']\n",
              "action      category  Categorical    ['category']\n",
              "amount       float64       Double     ['numeric']"
            ]
          },
          "metadata": {
            "tags": []
          },
          "execution_count": 144
        }
      ]
    },
    {
      "cell_type": "code",
      "metadata": {
        "id": "kewMFSpJIrzS"
      },
      "source": [
        " #from evalml.utils import infer_feature_types\n",
        " #X = infer_feature_types(X)\n",
        " #type(X)"
      ],
      "execution_count": 145,
      "outputs": []
    },
    {
      "cell_type": "code",
      "metadata": {
        "id": "lIoerDRBAM7G",
        "colab": {
          "base_uri": "https://localhost:8080/",
          "height": 237
        },
        "outputId": "cd2ff69c-c2fd-4d97-dea4-df6bf9911d4c"
      },
      "source": [
        "# Initialize X and assign proper semantic tag\n",
        "# for job\n",
        "\n",
        "#X.ww.init(\n",
        "#          semantic_tags={'job': 'category', 'referrer':'category'},\n",
        "#          logical_types={'job': 'Categorical', 'referrer':'Categorical'}\n",
        "#          )\n",
        "\n",
        "\n",
        "X.ww.init(\n",
        "          semantic_tags={'job': 'category'},\n",
        "          logical_types={'job': 'Categorical'}\n",
        "          )\n",
        "\n",
        "\n",
        "y = ww.init_series(y)\n",
        "X.ww"
      ],
      "execution_count": 146,
      "outputs": [
        {
          "output_type": "execute_result",
          "data": {
            "text/html": [
              "<table border=\"1\" class=\"dataframe\">\n",
              "  <thead>\n",
              "    <tr style=\"text-align: right;\">\n",
              "      <th></th>\n",
              "      <th>Physical Type</th>\n",
              "      <th>Logical Type</th>\n",
              "      <th>Semantic Tag(s)</th>\n",
              "    </tr>\n",
              "    <tr>\n",
              "      <th>Column</th>\n",
              "      <th></th>\n",
              "      <th></th>\n",
              "      <th></th>\n",
              "    </tr>\n",
              "  </thead>\n",
              "  <tbody>\n",
              "    <tr>\n",
              "      <th>job</th>\n",
              "      <td>category</td>\n",
              "      <td>Categorical</td>\n",
              "      <td>['category']</td>\n",
              "    </tr>\n",
              "    <tr>\n",
              "      <th>state</th>\n",
              "      <td>category</td>\n",
              "      <td>Categorical</td>\n",
              "      <td>['category']</td>\n",
              "    </tr>\n",
              "    <tr>\n",
              "      <th>zip</th>\n",
              "      <td>float64</td>\n",
              "      <td>Double</td>\n",
              "      <td>['numeric']</td>\n",
              "    </tr>\n",
              "    <tr>\n",
              "      <th>action</th>\n",
              "      <td>category</td>\n",
              "      <td>Categorical</td>\n",
              "      <td>['category']</td>\n",
              "    </tr>\n",
              "    <tr>\n",
              "      <th>amount</th>\n",
              "      <td>float64</td>\n",
              "      <td>Double</td>\n",
              "      <td>['numeric']</td>\n",
              "    </tr>\n",
              "  </tbody>\n",
              "</table>"
            ],
            "text/plain": [
              "       Physical Type Logical Type Semantic Tag(s)\n",
              "Column                                           \n",
              "job         category  Categorical    ['category']\n",
              "state       category  Categorical    ['category']\n",
              "zip          float64       Double     ['numeric']\n",
              "action      category  Categorical    ['category']\n",
              "amount       float64       Double     ['numeric']"
            ]
          },
          "metadata": {
            "tags": []
          },
          "execution_count": 146
        }
      ]
    },
    {
      "cell_type": "code",
      "metadata": {
        "id": "iD8wrJE5LR_u",
        "colab": {
          "base_uri": "https://localhost:8080/",
          "height": 255
        },
        "outputId": "cfe8067d-2d37-4f78-95ac-756d9d086b8a"
      },
      "source": [
        "X.head(3)\n",
        "type(X)\n",
        "print()\n",
        "type(y)\n",
        "y[:4]"
      ],
      "execution_count": 147,
      "outputs": [
        {
          "output_type": "execute_result",
          "data": {
            "text/html": [
              "<div>\n",
              "<style scoped>\n",
              "    .dataframe tbody tr th:only-of-type {\n",
              "        vertical-align: middle;\n",
              "    }\n",
              "\n",
              "    .dataframe tbody tr th {\n",
              "        vertical-align: top;\n",
              "    }\n",
              "\n",
              "    .dataframe thead th {\n",
              "        text-align: right;\n",
              "    }\n",
              "</style>\n",
              "<table border=\"1\" class=\"dataframe\">\n",
              "  <thead>\n",
              "    <tr style=\"text-align: right;\">\n",
              "      <th></th>\n",
              "      <th>job</th>\n",
              "      <th>state</th>\n",
              "      <th>zip</th>\n",
              "      <th>action</th>\n",
              "      <th>amount</th>\n",
              "    </tr>\n",
              "  </thead>\n",
              "  <tbody>\n",
              "    <tr>\n",
              "      <th>0</th>\n",
              "      <td>Engineer, mining</td>\n",
              "      <td>NY</td>\n",
              "      <td>60091.0</td>\n",
              "      <td>page_view</td>\n",
              "      <td>NaN</td>\n",
              "    </tr>\n",
              "    <tr>\n",
              "      <th>1</th>\n",
              "      <td>Psychologist, forensic</td>\n",
              "      <td>CA</td>\n",
              "      <td>NaN</td>\n",
              "      <td>purchase</td>\n",
              "      <td>135.23</td>\n",
              "    </tr>\n",
              "    <tr>\n",
              "      <th>2</th>\n",
              "      <td>Psychologist, forensic</td>\n",
              "      <td>CA</td>\n",
              "      <td>NaN</td>\n",
              "      <td>page_view</td>\n",
              "      <td>NaN</td>\n",
              "    </tr>\n",
              "  </tbody>\n",
              "</table>\n",
              "</div>"
            ],
            "text/plain": [
              "                      job state      zip     action  amount\n",
              "0        Engineer, mining    NY  60091.0  page_view     NaN\n",
              "1  Psychologist, forensic    CA      NaN   purchase  135.23\n",
              "2  Psychologist, forensic    CA      NaN  page_view     NaN"
            ]
          },
          "metadata": {
            "tags": []
          },
          "execution_count": 147
        },
        {
          "output_type": "execute_result",
          "data": {
            "text/plain": [
              "pandas.core.frame.DataFrame"
            ]
          },
          "metadata": {
            "tags": []
          },
          "execution_count": 147
        },
        {
          "output_type": "stream",
          "text": [
            "\n"
          ],
          "name": "stdout"
        },
        {
          "output_type": "execute_result",
          "data": {
            "text/plain": [
              "pandas.core.series.Series"
            ]
          },
          "metadata": {
            "tags": []
          },
          "execution_count": 147
        },
        {
          "output_type": "execute_result",
          "data": {
            "text/plain": [
              "0    False\n",
              "1     True\n",
              "2     True\n",
              "3    False\n",
              "Name: label, dtype: bool"
            ]
          },
          "metadata": {
            "tags": []
          },
          "execution_count": 147
        }
      ]
    },
    {
      "cell_type": "markdown",
      "metadata": {
        "id": "bGxYlILcC5jI"
      },
      "source": [
        "## Search for the best pipeline¶"
      ]
    },
    {
      "cell_type": "markdown",
      "metadata": {
        "id": "he1zrA60Dawd"
      },
      "source": [
        "In order to validate the results of the pipeline creation and optimization process, we will save some of our data as a holdout set.\n",
        "\n",
        "EvalML natively supports one-hot encoding and imputation so the above NaN and categorical values will be taken care of."
      ]
    },
    {
      "cell_type": "code",
      "metadata": {
        "id": "SHW2UFjyCuI0"
      },
      "source": [
        "X_train, X_holdout, y_train, y_holdout = evalml. \\\n",
        "                                         preprocessing. \\\n",
        "                                         split_data(\n",
        "                                                     X, y,\n",
        "                                                     problem_type='binary',\n",
        "                                                     test_size=0.2,\n",
        "                                                     random_seed=0\n",
        "                                                    )\n"
      ],
      "execution_count": 148,
      "outputs": []
    },
    {
      "cell_type": "markdown",
      "metadata": {
        "id": "LvB9jvLcMPzy"
      },
      "source": [
        "### Data Checks\n",
        "See [here](https://evalml.alteryx.com/en/stable/user_guide/data_checks.html) for what all data checks are carried out "
      ]
    },
    {
      "cell_type": "markdown",
      "metadata": {
        "id": "5c68pE5RMKf3"
      },
      "source": [
        "Before calling AutoMLSearch.search, we should run some sanity checks on our data to ensure that the input data being passed will not run into some common issues before running a potentially time-consuming search. EvalML has various data checks that makes this easy. Each data check will return a collection of warnings and errors if it detects potential issues with the input data. This allows users to inspect their data to avoid confusing errors that may arise during the search process. You can learn about each of the data checks available through our data checks guide\n",
        "\n",
        "Here, we will run the DefaultDataChecks class, which contains a series of data checks that are generally useful."
      ]
    },
    {
      "cell_type": "code",
      "metadata": {
        "id": "JAW-lIoaL1v1",
        "colab": {
          "base_uri": "https://localhost:8080/"
        },
        "outputId": "8bfa3131-3cc0-4a43-c46f-d19b2d5dd879"
      },
      "source": [
        "data_checks = DefaultDataChecks(\"binary\", \"log loss binary\")\n",
        "data_checks.validate(X_train, y_train)"
      ],
      "execution_count": 149,
      "outputs": [
        {
          "output_type": "execute_result",
          "data": {
            "text/plain": [
              "{'actions': [],\n",
              " 'errors': [],\n",
              " 'warnings': [{'code': 'CLASS_IMBALANCE_BELOW_THRESHOLD',\n",
              "   'data_check_name': 'ClassImbalanceDataCheck',\n",
              "   'details': {'target_values': [True]},\n",
              "   'level': 'warning',\n",
              "   'message': 'The following labels fall below 10% of the target: [True]'}]}"
            ]
          },
          "metadata": {
            "tags": []
          },
          "execution_count": 149
        }
      ]
    },
    {
      "cell_type": "markdown",
      "metadata": {
        "id": "KbRdyF7HXAWV"
      },
      "source": [
        "## Configure LeadScoring objectives\n",
        "See [here](https://evalml.alteryx.com/en/v0.11.0/objectives/custom_objectives.html) as to how to create custom objective function"
      ]
    },
    {
      "cell_type": "markdown",
      "metadata": {
        "id": "VW5bqsXCW1iX"
      },
      "source": [
        "In EvalML, you can have generic objectives, such as RMSE, loglossbinary or loglossmulticlass and so on. OR, you can have business specific objectives.\n",
        "To optimize the pipelines toward the specific business needs of this model, you can set your own assumptions for how much value is gained through true positives and the cost associated with false positives. These parameters are\n",
        "\n",
        "> true_positive - dollar amount to be gained with a successful lead  \n",
        "false_positive - dollar amount to be lost with an unsuccessful lead\n",
        "\n",
        "Using these parameters, EvalML builds a pileline that will maximize the amount of revenue per lead generated."
      ]
    },
    {
      "cell_type": "markdown",
      "metadata": {
        "id": "KDpFcRRUEIxM"
      },
      "source": [
        "Because the lead scoring labels are binary, we will use `AutoMLSearch(X_train=X_train, y_train=y_train, problem_type='binary')`. When we call `.search()`, the search for the best pipeline will begin."
      ]
    },
    {
      "cell_type": "code",
      "metadata": {
        "id": "9mOr-EjcoG23"
      },
      "source": [
        "lead_scoring_objective = LeadScoring(\n",
        "                                      true_positives=1000,\n",
        "                                      false_positives=-10\n",
        "                                     )"
      ],
      "execution_count": 150,
      "outputs": []
    },
    {
      "cell_type": "markdown",
      "metadata": {
        "id": "q2pZx6xKAmSc"
      },
      "source": [
        "## Balancing classes"
      ]
    },
    {
      "cell_type": "markdown",
      "metadata": {
        "id": "wNOwZxzOAhhE"
      },
      "source": [
        "### Random undersampling"
      ]
    },
    {
      "cell_type": "markdown",
      "metadata": {
        "id": "nYI7XGKPAS_j"
      },
      "source": [
        "![image.png](data:image/png;base64,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)"
      ]
    },
    {
      "cell_type": "markdown",
      "metadata": {
        "id": "X1ujnikg9Faj"
      },
      "source": [
        "### Under-sampling: Tomek links\n",
        "(library [imblearn](https://imbalanced-learn.org/stable/))<br>\n",
        "See this [example](https://www.kaggle.com/rafjaa/resampling-strategies-for-imbalanced-datasets)\n"
      ]
    },
    {
      "cell_type": "markdown",
      "metadata": {
        "id": "6iYrzPG287aT"
      },
      "source": [
        "Tomek links are pairs of very close instances, but of opposite classes. Removing the instances of the majority class of each pair increases the space between the two classes, facilitating the classification process.\n"
      ]
    },
    {
      "cell_type": "markdown",
      "metadata": {
        "id": "jTlElOK_84Ms"
      },
      "source": [
        "![image.png](data:image/png;base64,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)"
      ]
    },
    {
      "cell_type": "markdown",
      "metadata": {
        "id": "8ZJAFHb6_m78"
      },
      "source": [
        "### Over-sampling: SMOTE"
      ]
    },
    {
      "cell_type": "markdown",
      "metadata": {
        "id": "2f0jBPRL_k3j"
      },
      "source": [
        "SMOTE (Synthetic Minority Oversampling TEchnique) consists of synthesizing elements for the minority class, based on those that already exist. It works randomly picingk a point from the minority class and computing the k-nearest neighbors for this point. The synthetic points are added between the chosen point and its neighbors.\n"
      ]
    },
    {
      "cell_type": "markdown",
      "metadata": {
        "id": "PlNJCd5g_dl-"
      },
      "source": [
        "![image.png](data:image/png;base64,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)"
      ]
    },
    {
      "cell_type": "markdown",
      "metadata": {
        "id": "Dwufr83bArGj"
      },
      "source": [
        "## Start AutoMLSearch"
      ]
    },
    {
      "cell_type": "code",
      "metadata": {
        "id": "tBN22fV2D4-4"
      },
      "source": [
        "# Instantiate AutoMLSearch class \n",
        "automl = AutoMLSearch(\n",
        "                      X_train=X_train,\n",
        "                      y_train=y_train,\n",
        "                      problem_type='binary',\n",
        "                      objective=lead_scoring_objective, # Could be LogLossBinary \n",
        "                      additional_objectives=['auc'],\n",
        "                      max_batches=3,\n",
        "                      allowed_model_families=[\"catboost\", \"random_forest\", \"linear_model\"],\n",
        "                    )\n",
        "\n"
      ],
      "execution_count": null,
      "outputs": []
    },
    {
      "cell_type": "code",
      "metadata": {
        "id": "IYO2Kl6REkGw"
      },
      "source": [
        "start = time.time()\n",
        "automl.search()\n",
        "end = time.time()\n",
        "print(\"Time taken: \", (end-start)/60)"
      ],
      "execution_count": null,
      "outputs": []
    },
    {
      "cell_type": "markdown",
      "metadata": {
        "id": "vAQyVtCnHWKP"
      },
      "source": [
        "## View rankings and select pipeline"
      ]
    },
    {
      "cell_type": "markdown",
      "metadata": {
        "id": "r8mtAFdnJq-J"
      },
      "source": [
        "Once the fitting process is done, we can see all of the pipelines that were searched, ranked by their score on the lead scoring objective we defined."
      ]
    },
    {
      "cell_type": "code",
      "metadata": {
        "colab": {
          "base_uri": "https://localhost:8080/",
          "height": 504
        },
        "id": "PCUBbOHZEmfn",
        "outputId": "83e82116-247e-415d-9ba5-4da31f84c06d"
      },
      "source": [
        "automl.rankings"
      ],
      "execution_count": 155,
      "outputs": [
        {
          "output_type": "execute_result",
          "data": {
            "text/html": [
              "<div>\n",
              "<style scoped>\n",
              "    .dataframe tbody tr th:only-of-type {\n",
              "        vertical-align: middle;\n",
              "    }\n",
              "\n",
              "    .dataframe tbody tr th {\n",
              "        vertical-align: top;\n",
              "    }\n",
              "\n",
              "    .dataframe thead th {\n",
              "        text-align: right;\n",
              "    }\n",
              "</style>\n",
              "<table border=\"1\" class=\"dataframe\">\n",
              "  <thead>\n",
              "    <tr style=\"text-align: right;\">\n",
              "      <th></th>\n",
              "      <th>id</th>\n",
              "      <th>pipeline_name</th>\n",
              "      <th>search_order</th>\n",
              "      <th>mean_cv_score</th>\n",
              "      <th>standard_deviation_cv_score</th>\n",
              "      <th>validation_score</th>\n",
              "      <th>percent_better_than_baseline</th>\n",
              "      <th>high_variance_cv</th>\n",
              "      <th>parameters</th>\n",
              "    </tr>\n",
              "  </thead>\n",
              "  <tbody>\n",
              "    <tr>\n",
              "      <th>0</th>\n",
              "      <td>4</td>\n",
              "      <td>CatBoost Classifier w/ Imputer + SMOTENC Overs...</td>\n",
              "      <td>4</td>\n",
              "      <td>9.504221</td>\n",
              "      <td>8.239320</td>\n",
              "      <td>0.000000</td>\n",
              "      <td>inf</td>\n",
              "      <td>True</td>\n",
              "      <td>{'Imputer': {'categorical_impute_strategy': 'm...</td>\n",
              "    </tr>\n",
              "    <tr>\n",
              "      <th>6</th>\n",
              "      <td>12</td>\n",
              "      <td>Random Forest Classifier w/ Imputer + One Hot ...</td>\n",
              "      <td>12</td>\n",
              "      <td>0.206589</td>\n",
              "      <td>0.374710</td>\n",
              "      <td>-0.019355</td>\n",
              "      <td>inf</td>\n",
              "      <td>True</td>\n",
              "      <td>{'Imputer': {'categorical_impute_strategy': 'm...</td>\n",
              "    </tr>\n",
              "    <tr>\n",
              "      <th>11</th>\n",
              "      <td>1</td>\n",
              "      <td>Elastic Net Classifier w/ Imputer + One Hot En...</td>\n",
              "      <td>1</td>\n",
              "      <td>0.200137</td>\n",
              "      <td>0.380391</td>\n",
              "      <td>-0.032258</td>\n",
              "      <td>inf</td>\n",
              "      <td>True</td>\n",
              "      <td>{'Imputer': {'categorical_impute_strategy': 'm...</td>\n",
              "    </tr>\n",
              "    <tr>\n",
              "      <th>12</th>\n",
              "      <td>3</td>\n",
              "      <td>Logistic Regression Classifier w/ Imputer + On...</td>\n",
              "      <td>3</td>\n",
              "      <td>0.200137</td>\n",
              "      <td>0.380391</td>\n",
              "      <td>-0.032258</td>\n",
              "      <td>inf</td>\n",
              "      <td>True</td>\n",
              "      <td>{'Imputer': {'categorical_impute_strategy': 'm...</td>\n",
              "    </tr>\n",
              "    <tr>\n",
              "      <th>14</th>\n",
              "      <td>0</td>\n",
              "      <td>Mode Baseline Binary Classification Pipeline</td>\n",
              "      <td>0</td>\n",
              "      <td>0.000000</td>\n",
              "      <td>0.000000</td>\n",
              "      <td>0.000000</td>\n",
              "      <td>0.0</td>\n",
              "      <td>False</td>\n",
              "      <td>{'Baseline Classifier': {'strategy': 'mode'}}</td>\n",
              "    </tr>\n",
              "  </tbody>\n",
              "</table>\n",
              "</div>"
            ],
            "text/plain": [
              "    id  ...                                         parameters\n",
              "0    4  ...  {'Imputer': {'categorical_impute_strategy': 'm...\n",
              "6   12  ...  {'Imputer': {'categorical_impute_strategy': 'm...\n",
              "11   1  ...  {'Imputer': {'categorical_impute_strategy': 'm...\n",
              "12   3  ...  {'Imputer': {'categorical_impute_strategy': 'm...\n",
              "14   0  ...      {'Baseline Classifier': {'strategy': 'mode'}}\n",
              "\n",
              "[5 rows x 9 columns]"
            ]
          },
          "metadata": {
            "tags": []
          },
          "execution_count": 155
        }
      ]
    },
    {
      "cell_type": "markdown",
      "metadata": {
        "id": "iJtlWXJagMkg"
      },
      "source": [
        "## Best pipeline"
      ]
    },
    {
      "cell_type": "markdown",
      "metadata": {
        "id": "d_dxz4URJ4Pq"
      },
      "source": [
        "To select the best pipeline we can call automl.best_pipeline."
      ]
    },
    {
      "cell_type": "code",
      "metadata": {
        "id": "cHNCGrDKJur5",
        "colab": {
          "base_uri": "https://localhost:8080/"
        },
        "outputId": "c6d20cad-9f2e-40af-ae4f-37e7ba1175f9"
      },
      "source": [
        "best_pipeline = automl.best_pipeline\n",
        "print(best_pipeline)"
      ],
      "execution_count": 153,
      "outputs": [
        {
          "output_type": "stream",
          "text": [
            "CatBoost Classifier w/ Imputer + SMOTENC Oversampler\n"
          ],
          "name": "stdout"
        }
      ]
    },
    {
      "cell_type": "markdown",
      "metadata": {
        "id": "ypXbc4b-KCL3"
      },
      "source": [
        "You can get more details about any pipeline, including how it performed on other objective functions by calling `.describe_pipeline()` and specifying the id of the pipeline."
      ]
    },
    {
      "cell_type": "code",
      "metadata": {
        "colab": {
          "base_uri": "https://localhost:8080/"
        },
        "id": "4AZqFk9kJ7oy",
        "outputId": "bf5f1507-4e4c-413f-83e6-daeaee2d1275"
      },
      "source": [
        "automl.describe_pipeline(automl.rankings.iloc[0][\"id\"])"
      ],
      "execution_count": 156,
      "outputs": [
        {
          "output_type": "stream",
          "text": [
            "\n",
            "********************************************************\n",
            "* CatBoost Classifier w/ Imputer + SMOTENC Oversampler *\n",
            "********************************************************\n",
            "\n",
            "Problem Type: binary\n",
            "Model Family: CatBoost\n",
            "\n",
            "Pipeline Steps\n",
            "==============\n",
            "1. Imputer\n",
            "\t * categorical_impute_strategy : most_frequent\n",
            "\t * numeric_impute_strategy : mean\n",
            "\t * categorical_fill_value : None\n",
            "\t * numeric_fill_value : None\n",
            "2. SMOTENC Oversampler\n",
            "\t * sampling_ratio : 0.25\n",
            "\t * k_neighbors_default : 5\n",
            "\t * n_jobs : -1\n",
            "\t * sampling_ratio_dict : None\n",
            "\t * categorical_features : [0, 1, 3]\n",
            "\t * k_neighbors : 5\n",
            "3. CatBoost Classifier\n",
            "\t * n_estimators : 10\n",
            "\t * eta : 0.03\n",
            "\t * max_depth : 6\n",
            "\t * bootstrap_type : None\n",
            "\t * silent : True\n",
            "\t * allow_writing_files : False\n",
            "\t * n_jobs : -1\n",
            "\n",
            "Training\n",
            "========\n",
            "Training for binary problems.\n",
            "Objective to optimize binary classification pipeline thresholds for: <evalml.objectives.lead_scoring.LeadScoring object at 0x7fd49a8bac50>\n",
            "Total training time (including CV): 2.5 seconds\n",
            "\n",
            "Cross Validation\n",
            "----------------\n",
            "             Lead Scoring   AUC # Training # Validation\n",
            "0                   0.000 0.869      3,099        1,550\n",
            "1                  13.884 0.887      3,099        1,550\n",
            "2                  14.629 0.889      3,100        1,549\n",
            "mean                9.504 0.882          -            -\n",
            "std                 8.239 0.011          -            -\n",
            "coef of var         0.867 0.012          -            -\n"
          ],
          "name": "stdout"
        }
      ]
    },
    {
      "cell_type": "markdown",
      "metadata": {
        "id": "cqdzIH11L0OH"
      },
      "source": [
        "## Evaluate on hold out data"
      ]
    },
    {
      "cell_type": "markdown",
      "metadata": {
        "id": "AJk5JAFdL6cR"
      },
      "source": [
        "Finally, since the best pipeline was trained on all of the training data, we evaluate it on the holdout dataset."
      ]
    },
    {
      "cell_type": "code",
      "metadata": {
        "colab": {
          "base_uri": "https://localhost:8080/"
        },
        "id": "I4VEdDdQKRWg",
        "outputId": "b5d4925e-d3ae-455c-de76-db80a7ec17b6"
      },
      "source": [
        "best_pipeline.score(\n",
        "                     X_holdout,\n",
        "                     y_holdout,\n",
        "                     objectives=[\"auc\", lead_scoring_objective])"
      ],
      "execution_count": 157,
      "outputs": [
        {
          "output_type": "execute_result",
          "data": {
            "text/plain": [
              "OrderedDict([('AUC', 0.8585599879117558), ('Lead Scoring', 14.76354256233878)])"
            ]
          },
          "metadata": {
            "tags": []
          },
          "execution_count": 157
        }
      ]
    },
    {
      "cell_type": "markdown",
      "metadata": {
        "id": "JXLeKhO5MBm5"
      },
      "source": [
        "## Why optimize for a problem-specific objective?"
      ]
    },
    {
      "cell_type": "markdown",
      "metadata": {
        "id": "xhX1qgE1MI9t"
      },
      "source": [
        "To demonstrate the importance of optimizing for the right objective, let’s search for another pipeline using AUC, a common machine learning metric. After that, we will score the holdout data using the lead scoring objective to see how the best pipelines compare."
      ]
    },
    {
      "cell_type": "code",
      "metadata": {
        "id": "tgj5qwMvvwe9"
      },
      "source": [
        "# Instantiate AutoMLSearch class \n",
        "automl_auc = AutoMLSearch(\n",
        "                      X_train=X_train,\n",
        "                      y_train=y_train,\n",
        "                      problem_type='binary',\n",
        "                      objective='auc',\n",
        "                      additional_objectives=[],\n",
        "                      max_batches=3,\n",
        "                      allowed_model_families=[\"catboost\", \"random_forest\", \"linear_model\"],\n",
        "                    )\n",
        "\n",
        "# Execute search()\n",
        "automl_auc.search()"
      ],
      "execution_count": null,
      "outputs": []
    },
    {
      "cell_type": "code",
      "metadata": {
        "id": "3-jTYprPMbBy"
      },
      "source": [
        "automl_auc.rankings"
      ],
      "execution_count": null,
      "outputs": []
    },
    {
      "cell_type": "markdown",
      "metadata": {
        "id": "1m_KW4J8MpIz"
      },
      "source": [
        "Like before, we can look at the rankings and pick the best pipeline."
      ]
    },
    {
      "cell_type": "code",
      "metadata": {
        "id": "RVQRGRbNMhnv"
      },
      "source": [
        "best_pipeline_auc = automl_auc.best_pipeline"
      ],
      "execution_count": 111,
      "outputs": []
    },
    {
      "cell_type": "code",
      "metadata": {
        "colab": {
          "base_uri": "https://localhost:8080/"
        },
        "id": "mEzFcVlVMuSe",
        "outputId": "18ba29ac-2305-4d45-e0c8-bcfda8edf461"
      },
      "source": [
        "# get the auc and lead scoring score on holdout data\n",
        "best_pipeline_auc.score(\n",
        "                        X_holdout,\n",
        "                        y_holdout,\n",
        "                        objectives=[\n",
        "                                     \"auc\",\n",
        "                                     lead_scoring_objective\n",
        "                                    ]\n",
        "                        )"
      ],
      "execution_count": 112,
      "outputs": [
        {
          "output_type": "execute_result",
          "data": {
            "text/plain": [
              "OrderedDict([('AUC', 0.9235494106980962),\n",
              "             ('Lead Scoring', -0.1117798796216681)])"
            ]
          },
          "metadata": {
            "tags": []
          },
          "execution_count": 112
        }
      ]
    },
    {
      "cell_type": "markdown",
      "metadata": {
        "id": "B0BlrkRjNCCC"
      },
      "source": [
        "When we optimize for AUC, we can see that the AUC score from this pipeline is better than the AUC score from the pipeline optimized for lead scoring. However, the revenue per lead is much smaller per lead when optimized for AUC and was much larger when optimized for lead scoring. As a result, we would have a huge gain on the amount of revenue if we optimized for lead scoring.\n",
        "\n",
        "This happens because optimizing for AUC does not take into account the user-specified true_positive (dollar amount to be gained with a successful lead) and false_positive (dollar amount to be lost with an unsuccessful lead) values. Thus, the best pipelines may produce the highest AUC but may not actually generate the most revenue through lead scoring.\n",
        "\n",
        "This example highlights how performance in the real world can diverge greatly from machine learning metrics."
      ]
    },
    {
      "cell_type": "markdown",
      "metadata": {
        "id": "AlRuI3jqggxn"
      },
      "source": [
        "## Further evaluation"
      ]
    },
    {
      "cell_type": "code",
      "metadata": {
        "colab": {
          "base_uri": "https://localhost:8080/",
          "height": 1000
        },
        "id": "SG7uPktLNZfB",
        "outputId": "c1dc5499-13a3-4279-fb5d-b5719d058ea2"
      },
      "source": [
        "best_pipeline_auc.graph_feature_importance()\n",
        "best_pipeline.graph_feature_importance()\n"
      ],
      "execution_count": 115,
      "outputs": [
        {
          "output_type": "display_data",
          "data": {
            "text/html": [
              "<html>\n",
              "<head><meta charset=\"utf-8\" /></head>\n",
              "<body>\n",
              "    <div>            <script src=\"https://cdnjs.cloudflare.com/ajax/libs/mathjax/2.7.5/MathJax.js?config=TeX-AMS-MML_SVG\"></script><script type=\"text/javascript\">if (window.MathJax) {MathJax.Hub.Config({SVG: {font: \"STIX-Web\"}});}</script>                <script type=\"text/javascript\">window.PlotlyConfig = {MathJaxConfig: 'local'};</script>\n",
              "        <script src=\"https://cdn.plot.ly/plotly-2.2.0.min.js\"></script>                <div id=\"20651c54-353e-4bb9-b87a-02c6b8807c04\" class=\"plotly-graph-div\" style=\"height:800px; width:100%;\"></div>            <script type=\"text/javascript\">                                    window.PLOTLYENV=window.PLOTLYENV || {};                                    if (document.getElementById(\"20651c54-353e-4bb9-b87a-02c6b8807c04\")) {                    Plotly.newPlot(                        \"20651c54-353e-4bb9-b87a-02c6b8807c04\",                        [{\"orientation\":\"h\",\"type\":\"bar\",\"x\":[1.3928879949803261,2.1925012350899107,3.039147867917115,5.6261339791065215,87.7493289229061],\"y\":[\"action\",\"amount\",\"state\",\"zip\",\"job\"]}],                        {\"height\":800,\"template\":{\"data\":{\"bar\":[{\"error_x\":{\"color\":\"#2a3f5f\"},\"error_y\":{\"color\":\"#2a3f5f\"},\"marker\":{\"line\":{\"color\":\"#E5ECF6\",\"width\":0.5},\"pattern\":{\"fillmode\":\"overlay\",\"size\":10,\"solidity\":0.2}},\"type\":\"bar\"}],\"barpolar\":[{\"marker\":{\"line\":{\"color\":\"#E5ECF6\",\"width\":0.5},\"pattern\":{\"fillmode\":\"overlay\",\"size\":10,\"solidity\":0.2}},\"type\":\"barpolar\"}],\"carpet\":[{\"aaxis\":{\"endlinecolor\":\"#2a3f5f\",\"gridcolor\":\"white\",\"linecolor\":\"white\",\"minorgridcolor\":\"white\",\"startlinecolor\":\"#2a3f5f\"},\"baxis\":{\"endlinecolor\":\"#2a3f5f\",\"gridcolor\":\"white\",\"linecolor\":\"white\",\"minorgridcolor\":\"white\",\"startlinecolor\":\"#2a3f5f\"},\"type\":\"carpet\"}],\"choropleth\":[{\"colorbar\":{\"outlinewidth\":0,\"ticks\":\"\"},\"type\":\"choropleth\"}],\"contour\":[{\"colorbar\":{\"outlinewidth\":0,\"ticks\":\"\"},\"colorscale\":[[0.0,\"#0d0887\"],[0.1111111111111111,\"#46039f\"],[0.2222222222222222,\"#7201a8\"],[0.3333333333333333,\"#9c179e\"],[0.4444444444444444,\"#bd3786\"],[0.5555555555555556,\"#d8576b\"],[0.6666666666666666,\"#ed7953\"],[0.7777777777777778,\"#fb9f3a\"],[0.8888888888888888,\"#fdca26\"],[1.0,\"#f0f921\"]],\"type\":\"contour\"}],\"contourcarpet\":[{\"colorbar\":{\"outlinewidth\":0,\"ticks\":\"\"},\"type\":\"contourcarpet\"}],\"heatmap\":[{\"colorbar\":{\"outlinewidth\":0,\"ticks\":\"\"},\"colorscale\":[[0.0,\"#0d0887\"],[0.1111111111111111,\"#46039f\"],[0.2222222222222222,\"#7201a8\"],[0.3333333333333333,\"#9c179e\"],[0.4444444444444444,\"#bd3786\"],[0.5555555555555556,\"#d8576b\"],[0.6666666666666666,\"#ed7953\"],[0.7777777777777778,\"#fb9f3a\"],[0.8888888888888888,\"#fdca26\"],[1.0,\"#f0f921\"]],\"type\":\"heatmap\"}],\"heatmapgl\":[{\"colorbar\":{\"outlinewidth\":0,\"ticks\":\"\"},\"colorscale\":[[0.0,\"#0d0887\"],[0.1111111111111111,\"#46039f\"],[0.2222222222222222,\"#7201a8\"],[0.3333333333333333,\"#9c179e\"],[0.4444444444444444,\"#bd3786\"],[0.5555555555555556,\"#d8576b\"],[0.6666666666666666,\"#ed7953\"],[0.7777777777777778,\"#fb9f3a\"],[0.8888888888888888,\"#fdca26\"],[1.0,\"#f0f921\"]],\"type\":\"heatmapgl\"}],\"histogram\":[{\"marker\":{\"pattern\":{\"fillmode\":\"overlay\",\"size\":10,\"solidity\":0.2}},\"type\":\"histogram\"}],\"histogram2d\":[{\"colorbar\":{\"outlinewidth\":0,\"ticks\":\"\"},\"colorscale\":[[0.0,\"#0d0887\"],[0.1111111111111111,\"#46039f\"],[0.2222222222222222,\"#7201a8\"],[0.3333333333333333,\"#9c179e\"],[0.4444444444444444,\"#bd3786\"],[0.5555555555555556,\"#d8576b\"],[0.6666666666666666,\"#ed7953\"],[0.7777777777777778,\"#fb9f3a\"],[0.8888888888888888,\"#fdca26\"],[1.0,\"#f0f921\"]],\"type\":\"histogram2d\"}],\"histogram2dcontour\":[{\"colorbar\":{\"outlinewidth\":0,\"ticks\":\"\"},\"colorscale\":[[0.0,\"#0d0887\"],[0.1111111111111111,\"#46039f\"],[0.2222222222222222,\"#7201a8\"],[0.3333333333333333,\"#9c179e\"],[0.4444444444444444,\"#bd3786\"],[0.5555555555555556,\"#d8576b\"],[0.6666666666666666,\"#ed7953\"],[0.7777777777777778,\"#fb9f3a\"],[0.8888888888888888,\"#fdca26\"],[1.0,\"#f0f921\"]],\"type\":\"histogram2dcontour\"}],\"mesh3d\":[{\"colorbar\":{\"outlinewidth\":0,\"ticks\":\"\"},\"type\":\"mesh3d\"}],\"parcoords\":[{\"line\":{\"colorbar\":{\"outlinewidth\":0,\"ticks\":\"\"}},\"type\":\"parcoords\"}],\"pie\":[{\"automargin\":true,\"type\":\"pie\"}],\"scatter\":[{\"marker\":{\"colorbar\":{\"outlinewidth\":0,\"ticks\":\"\"}},\"type\":\"scatter\"}],\"scatter3d\":[{\"line\":{\"colorbar\":{\"outlinewidth\":0,\"ticks\":\"\"}},\"marker\":{\"colorbar\":{\"outlinewidth\":0,\"ticks\":\"\"}},\"type\":\"scatter3d\"}],\"scattercarpet\":[{\"marker\":{\"colorbar\":{\"outlinewidth\":0,\"ticks\":\"\"}},\"type\":\"scattercarpet\"}],\"scattergeo\":[{\"marker\":{\"colorbar\":{\"outlinewidth\":0,\"ticks\":\"\"}},\"type\":\"scattergeo\"}],\"scattergl\":[{\"marker\":{\"colorbar\":{\"outlinewidth\":0,\"ticks\":\"\"}},\"type\":\"scattergl\"}],\"scattermapbox\":[{\"marker\":{\"colorbar\":{\"outlinewidth\":0,\"ticks\":\"\"}},\"type\":\"scattermapbox\"}],\"scatterpolar\":[{\"marker\":{\"colorbar\":{\"outlinewidth\":0,\"ticks\":\"\"}},\"type\":\"scatterpolar\"}],\"scatterpolargl\":[{\"marker\":{\"colorbar\":{\"outlinewidth\":0,\"ticks\":\"\"}},\"type\":\"scatterpolargl\"}],\"scatterternary\":[{\"marker\":{\"colorbar\":{\"outlinewidth\":0,\"ticks\":\"\"}},\"type\":\"scatterternary\"}],\"surface\":[{\"colorbar\":{\"outlinewidth\":0,\"ticks\":\"\"},\"colorscale\":[[0.0,\"#0d0887\"],[0.1111111111111111,\"#46039f\"],[0.2222222222222222,\"#7201a8\"],[0.3333333333333333,\"#9c179e\"],[0.4444444444444444,\"#bd3786\"],[0.5555555555555556,\"#d8576b\"],[0.6666666666666666,\"#ed7953\"],[0.7777777777777778,\"#fb9f3a\"],[0.8888888888888888,\"#fdca26\"],[1.0,\"#f0f921\"]],\"type\":\"surface\"}],\"table\":[{\"cells\":{\"fill\":{\"color\":\"#EBF0F8\"},\"line\":{\"color\":\"white\"}},\"header\":{\"fill\":{\"color\":\"#C8D4E3\"},\"line\":{\"color\":\"white\"}},\"type\":\"table\"}]},\"layout\":{\"annotationdefaults\":{\"arrowcolor\":\"#2a3f5f\",\"arrowhead\":0,\"arrowwidth\":1},\"autotypenumbers\":\"strict\",\"coloraxis\":{\"colorbar\":{\"outlinewidth\":0,\"ticks\":\"\"}},\"colorscale\":{\"diverging\":[[0,\"#8e0152\"],[0.1,\"#c51b7d\"],[0.2,\"#de77ae\"],[0.3,\"#f1b6da\"],[0.4,\"#fde0ef\"],[0.5,\"#f7f7f7\"],[0.6,\"#e6f5d0\"],[0.7,\"#b8e186\"],[0.8,\"#7fbc41\"],[0.9,\"#4d9221\"],[1,\"#276419\"]],\"sequential\":[[0.0,\"#0d0887\"],[0.1111111111111111,\"#46039f\"],[0.2222222222222222,\"#7201a8\"],[0.3333333333333333,\"#9c179e\"],[0.4444444444444444,\"#bd3786\"],[0.5555555555555556,\"#d8576b\"],[0.6666666666666666,\"#ed7953\"],[0.7777777777777778,\"#fb9f3a\"],[0.8888888888888888,\"#fdca26\"],[1.0,\"#f0f921\"]],\"sequentialminus\":[[0.0,\"#0d0887\"],[0.1111111111111111,\"#46039f\"],[0.2222222222222222,\"#7201a8\"],[0.3333333333333333,\"#9c179e\"],[0.4444444444444444,\"#bd3786\"],[0.5555555555555556,\"#d8576b\"],[0.6666666666666666,\"#ed7953\"],[0.7777777777777778,\"#fb9f3a\"],[0.8888888888888888,\"#fdca26\"],[1.0,\"#f0f921\"]]},\"colorway\":[\"#636efa\",\"#EF553B\",\"#00cc96\",\"#ab63fa\",\"#FFA15A\",\"#19d3f3\",\"#FF6692\",\"#B6E880\",\"#FF97FF\",\"#FECB52\"],\"font\":{\"color\":\"#2a3f5f\"},\"geo\":{\"bgcolor\":\"white\",\"lakecolor\":\"white\",\"landcolor\":\"#E5ECF6\",\"showlakes\":true,\"showland\":true,\"subunitcolor\":\"white\"},\"hoverlabel\":{\"align\":\"left\"},\"hovermode\":\"closest\",\"mapbox\":{\"style\":\"light\"},\"paper_bgcolor\":\"white\",\"plot_bgcolor\":\"#E5ECF6\",\"polar\":{\"angularaxis\":{\"gridcolor\":\"white\",\"linecolor\":\"white\",\"ticks\":\"\"},\"bgcolor\":\"#E5ECF6\",\"radialaxis\":{\"gridcolor\":\"white\",\"linecolor\":\"white\",\"ticks\":\"\"}},\"scene\":{\"xaxis\":{\"backgroundcolor\":\"#E5ECF6\",\"gridcolor\":\"white\",\"gridwidth\":2,\"linecolor\":\"white\",\"showbackground\":true,\"ticks\":\"\",\"zerolinecolor\":\"white\"},\"yaxis\":{\"backgroundcolor\":\"#E5ECF6\",\"gridcolor\":\"white\",\"gridwidth\":2,\"linecolor\":\"white\",\"showbackground\":true,\"ticks\":\"\",\"zerolinecolor\":\"white\"},\"zaxis\":{\"backgroundcolor\":\"#E5ECF6\",\"gridcolor\":\"white\",\"gridwidth\":2,\"linecolor\":\"white\",\"showbackground\":true,\"ticks\":\"\",\"zerolinecolor\":\"white\"}},\"shapedefaults\":{\"line\":{\"color\":\"#2a3f5f\"}},\"ternary\":{\"aaxis\":{\"gridcolor\":\"white\",\"linecolor\":\"white\",\"ticks\":\"\"},\"baxis\":{\"gridcolor\":\"white\",\"linecolor\":\"white\",\"ticks\":\"\"},\"bgcolor\":\"#E5ECF6\",\"caxis\":{\"gridcolor\":\"white\",\"linecolor\":\"white\",\"ticks\":\"\"}},\"title\":{\"x\":0.05},\"xaxis\":{\"automargin\":true,\"gridcolor\":\"white\",\"linecolor\":\"white\",\"ticks\":\"\",\"title\":{\"standoff\":15},\"zerolinecolor\":\"white\",\"zerolinewidth\":2},\"yaxis\":{\"automargin\":true,\"gridcolor\":\"white\",\"linecolor\":\"white\",\"ticks\":\"\",\"title\":{\"standoff\":15},\"zerolinecolor\":\"white\",\"zerolinewidth\":2}}},\"title\":{\"text\":\"Feature Importance<br><sub>May display fewer features due to feature selection</sub>\"},\"xaxis\":{\"title\":{\"text\":\"Feature Importance\"}},\"yaxis\":{\"title\":{\"text\":\"Feature\"},\"type\":\"category\"}},                        {\"responsive\": true}                    ).then(function(){\n",
              "                            \n",
              "var gd = document.getElementById('20651c54-353e-4bb9-b87a-02c6b8807c04');\n",
              "var x = new MutationObserver(function (mutations, observer) {{\n",
              "        var display = window.getComputedStyle(gd).display;\n",
              "        if (!display || display === 'none') {{\n",
              "            console.log([gd, 'removed!']);\n",
              "            Plotly.purge(gd);\n",
              "            observer.disconnect();\n",
              "        }}\n",
              "}});\n",
              "\n",
              "// Listen for the removal of the full notebook cells\n",
              "var notebookContainer = gd.closest('#notebook-container');\n",
              "if (notebookContainer) {{\n",
              "    x.observe(notebookContainer, {childList: true});\n",
              "}}\n",
              "\n",
              "// Listen for the clearing of the current output cell\n",
              "var outputEl = gd.closest('.output');\n",
              "if (outputEl) {{\n",
              "    x.observe(outputEl, {childList: true});\n",
              "}}\n",
              "\n",
              "                        })                };                            </script>        </div>\n",
              "</body>\n",
              "</html>"
            ]
          },
          "metadata": {
            "tags": []
          }
        },
        {
          "output_type": "display_data",
          "data": {
            "text/html": [
              "<html>\n",
              "<head><meta charset=\"utf-8\" /></head>\n",
              "<body>\n",
              "    <div>            <script src=\"https://cdnjs.cloudflare.com/ajax/libs/mathjax/2.7.5/MathJax.js?config=TeX-AMS-MML_SVG\"></script><script type=\"text/javascript\">if (window.MathJax) {MathJax.Hub.Config({SVG: {font: \"STIX-Web\"}});}</script>                <script type=\"text/javascript\">window.PlotlyConfig = {MathJaxConfig: 'local'};</script>\n",
              "        <script src=\"https://cdn.plot.ly/plotly-2.2.0.min.js\"></script>                <div id=\"7020cabe-6d1d-4ad6-9c58-99d8c24b9b44\" class=\"plotly-graph-div\" style=\"height:800px; width:100%;\"></div>            <script type=\"text/javascript\">                                    window.PLOTLYENV=window.PLOTLYENV || {};                                    if (document.getElementById(\"7020cabe-6d1d-4ad6-9c58-99d8c24b9b44\")) {                    Plotly.newPlot(                        \"7020cabe-6d1d-4ad6-9c58-99d8c24b9b44\",                        [{\"orientation\":\"h\",\"type\":\"bar\",\"x\":[0.0,0.24885210194171287,1.1064510441844333,4.768851418972833,93.87584543490102],\"y\":[\"action\",\"amount\",\"zip\",\"state\",\"job\"]}],                        {\"height\":800,\"template\":{\"data\":{\"bar\":[{\"error_x\":{\"color\":\"#2a3f5f\"},\"error_y\":{\"color\":\"#2a3f5f\"},\"marker\":{\"line\":{\"color\":\"#E5ECF6\",\"width\":0.5},\"pattern\":{\"fillmode\":\"overlay\",\"size\":10,\"solidity\":0.2}},\"type\":\"bar\"}],\"barpolar\":[{\"marker\":{\"line\":{\"color\":\"#E5ECF6\",\"width\":0.5},\"pattern\":{\"fillmode\":\"overlay\",\"size\":10,\"solidity\":0.2}},\"type\":\"barpolar\"}],\"carpet\":[{\"aaxis\":{\"endlinecolor\":\"#2a3f5f\",\"gridcolor\":\"white\",\"linecolor\":\"white\",\"minorgridcolor\":\"white\",\"startlinecolor\":\"#2a3f5f\"},\"baxis\":{\"endlinecolor\":\"#2a3f5f\",\"gridcolor\":\"white\",\"linecolor\":\"white\",\"minorgridcolor\":\"white\",\"startlinecolor\":\"#2a3f5f\"},\"type\":\"carpet\"}],\"choropleth\":[{\"colorbar\":{\"outlinewidth\":0,\"ticks\":\"\"},\"type\":\"choropleth\"}],\"contour\":[{\"colorbar\":{\"outlinewidth\":0,\"ticks\":\"\"},\"colorscale\":[[0.0,\"#0d0887\"],[0.1111111111111111,\"#46039f\"],[0.2222222222222222,\"#7201a8\"],[0.3333333333333333,\"#9c179e\"],[0.4444444444444444,\"#bd3786\"],[0.5555555555555556,\"#d8576b\"],[0.6666666666666666,\"#ed7953\"],[0.7777777777777778,\"#fb9f3a\"],[0.8888888888888888,\"#fdca26\"],[1.0,\"#f0f921\"]],\"type\":\"contour\"}],\"contourcarpet\":[{\"colorbar\":{\"outlinewidth\":0,\"ticks\":\"\"},\"type\":\"contourcarpet\"}],\"heatmap\":[{\"colorbar\":{\"outlinewidth\":0,\"ticks\":\"\"},\"colorscale\":[[0.0,\"#0d0887\"],[0.1111111111111111,\"#46039f\"],[0.2222222222222222,\"#7201a8\"],[0.3333333333333333,\"#9c179e\"],[0.4444444444444444,\"#bd3786\"],[0.5555555555555556,\"#d8576b\"],[0.6666666666666666,\"#ed7953\"],[0.7777777777777778,\"#fb9f3a\"],[0.8888888888888888,\"#fdca26\"],[1.0,\"#f0f921\"]],\"type\":\"heatmap\"}],\"heatmapgl\":[{\"colorbar\":{\"outlinewidth\":0,\"ticks\":\"\"},\"colorscale\":[[0.0,\"#0d0887\"],[0.1111111111111111,\"#46039f\"],[0.2222222222222222,\"#7201a8\"],[0.3333333333333333,\"#9c179e\"],[0.4444444444444444,\"#bd3786\"],[0.5555555555555556,\"#d8576b\"],[0.6666666666666666,\"#ed7953\"],[0.7777777777777778,\"#fb9f3a\"],[0.8888888888888888,\"#fdca26\"],[1.0,\"#f0f921\"]],\"type\":\"heatmapgl\"}],\"histogram\":[{\"marker\":{\"pattern\":{\"fillmode\":\"overlay\",\"size\":10,\"solidity\":0.2}},\"type\":\"histogram\"}],\"histogram2d\":[{\"colorbar\":{\"outlinewidth\":0,\"ticks\":\"\"},\"colorscale\":[[0.0,\"#0d0887\"],[0.1111111111111111,\"#46039f\"],[0.2222222222222222,\"#7201a8\"],[0.3333333333333333,\"#9c179e\"],[0.4444444444444444,\"#bd3786\"],[0.5555555555555556,\"#d8576b\"],[0.6666666666666666,\"#ed7953\"],[0.7777777777777778,\"#fb9f3a\"],[0.8888888888888888,\"#fdca26\"],[1.0,\"#f0f921\"]],\"type\":\"histogram2d\"}],\"histogram2dcontour\":[{\"colorbar\":{\"outlinewidth\":0,\"ticks\":\"\"},\"colorscale\":[[0.0,\"#0d0887\"],[0.1111111111111111,\"#46039f\"],[0.2222222222222222,\"#7201a8\"],[0.3333333333333333,\"#9c179e\"],[0.4444444444444444,\"#bd3786\"],[0.5555555555555556,\"#d8576b\"],[0.6666666666666666,\"#ed7953\"],[0.7777777777777778,\"#fb9f3a\"],[0.8888888888888888,\"#fdca26\"],[1.0,\"#f0f921\"]],\"type\":\"histogram2dcontour\"}],\"mesh3d\":[{\"colorbar\":{\"outlinewidth\":0,\"ticks\":\"\"},\"type\":\"mesh3d\"}],\"parcoords\":[{\"line\":{\"colorbar\":{\"outlinewidth\":0,\"ticks\":\"\"}},\"type\":\"parcoords\"}],\"pie\":[{\"automargin\":true,\"type\":\"pie\"}],\"scatter\":[{\"marker\":{\"colorbar\":{\"outlinewidth\":0,\"ticks\":\"\"}},\"type\":\"scatter\"}],\"scatter3d\":[{\"line\":{\"colorbar\":{\"outlinewidth\":0,\"ticks\":\"\"}},\"marker\":{\"colorbar\":{\"outlinewidth\":0,\"ticks\":\"\"}},\"type\":\"scatter3d\"}],\"scattercarpet\":[{\"marker\":{\"colorbar\":{\"outlinewidth\":0,\"ticks\":\"\"}},\"type\":\"scattercarpet\"}],\"scattergeo\":[{\"marker\":{\"colorbar\":{\"outlinewidth\":0,\"ticks\":\"\"}},\"type\":\"scattergeo\"}],\"scattergl\":[{\"marker\":{\"colorbar\":{\"outlinewidth\":0,\"ticks\":\"\"}},\"type\":\"scattergl\"}],\"scattermapbox\":[{\"marker\":{\"colorbar\":{\"outlinewidth\":0,\"ticks\":\"\"}},\"type\":\"scattermapbox\"}],\"scatterpolar\":[{\"marker\":{\"colorbar\":{\"outlinewidth\":0,\"ticks\":\"\"}},\"type\":\"scatterpolar\"}],\"scatterpolargl\":[{\"marker\":{\"colorbar\":{\"outlinewidth\":0,\"ticks\":\"\"}},\"type\":\"scatterpolargl\"}],\"scatterternary\":[{\"marker\":{\"colorbar\":{\"outlinewidth\":0,\"ticks\":\"\"}},\"type\":\"scatterternary\"}],\"surface\":[{\"colorbar\":{\"outlinewidth\":0,\"ticks\":\"\"},\"colorscale\":[[0.0,\"#0d0887\"],[0.1111111111111111,\"#46039f\"],[0.2222222222222222,\"#7201a8\"],[0.3333333333333333,\"#9c179e\"],[0.4444444444444444,\"#bd3786\"],[0.5555555555555556,\"#d8576b\"],[0.6666666666666666,\"#ed7953\"],[0.7777777777777778,\"#fb9f3a\"],[0.8888888888888888,\"#fdca26\"],[1.0,\"#f0f921\"]],\"type\":\"surface\"}],\"table\":[{\"cells\":{\"fill\":{\"color\":\"#EBF0F8\"},\"line\":{\"color\":\"white\"}},\"header\":{\"fill\":{\"color\":\"#C8D4E3\"},\"line\":{\"color\":\"white\"}},\"type\":\"table\"}]},\"layout\":{\"annotationdefaults\":{\"arrowcolor\":\"#2a3f5f\",\"arrowhead\":0,\"arrowwidth\":1},\"autotypenumbers\":\"strict\",\"coloraxis\":{\"colorbar\":{\"outlinewidth\":0,\"ticks\":\"\"}},\"colorscale\":{\"diverging\":[[0,\"#8e0152\"],[0.1,\"#c51b7d\"],[0.2,\"#de77ae\"],[0.3,\"#f1b6da\"],[0.4,\"#fde0ef\"],[0.5,\"#f7f7f7\"],[0.6,\"#e6f5d0\"],[0.7,\"#b8e186\"],[0.8,\"#7fbc41\"],[0.9,\"#4d9221\"],[1,\"#276419\"]],\"sequential\":[[0.0,\"#0d0887\"],[0.1111111111111111,\"#46039f\"],[0.2222222222222222,\"#7201a8\"],[0.3333333333333333,\"#9c179e\"],[0.4444444444444444,\"#bd3786\"],[0.5555555555555556,\"#d8576b\"],[0.6666666666666666,\"#ed7953\"],[0.7777777777777778,\"#fb9f3a\"],[0.8888888888888888,\"#fdca26\"],[1.0,\"#f0f921\"]],\"sequentialminus\":[[0.0,\"#0d0887\"],[0.1111111111111111,\"#46039f\"],[0.2222222222222222,\"#7201a8\"],[0.3333333333333333,\"#9c179e\"],[0.4444444444444444,\"#bd3786\"],[0.5555555555555556,\"#d8576b\"],[0.6666666666666666,\"#ed7953\"],[0.7777777777777778,\"#fb9f3a\"],[0.8888888888888888,\"#fdca26\"],[1.0,\"#f0f921\"]]},\"colorway\":[\"#636efa\",\"#EF553B\",\"#00cc96\",\"#ab63fa\",\"#FFA15A\",\"#19d3f3\",\"#FF6692\",\"#B6E880\",\"#FF97FF\",\"#FECB52\"],\"font\":{\"color\":\"#2a3f5f\"},\"geo\":{\"bgcolor\":\"white\",\"lakecolor\":\"white\",\"landcolor\":\"#E5ECF6\",\"showlakes\":true,\"showland\":true,\"subunitcolor\":\"white\"},\"hoverlabel\":{\"align\":\"left\"},\"hovermode\":\"closest\",\"mapbox\":{\"style\":\"light\"},\"paper_bgcolor\":\"white\",\"plot_bgcolor\":\"#E5ECF6\",\"polar\":{\"angularaxis\":{\"gridcolor\":\"white\",\"linecolor\":\"white\",\"ticks\":\"\"},\"bgcolor\":\"#E5ECF6\",\"radialaxis\":{\"gridcolor\":\"white\",\"linecolor\":\"white\",\"ticks\":\"\"}},\"scene\":{\"xaxis\":{\"backgroundcolor\":\"#E5ECF6\",\"gridcolor\":\"white\",\"gridwidth\":2,\"linecolor\":\"white\",\"showbackground\":true,\"ticks\":\"\",\"zerolinecolor\":\"white\"},\"yaxis\":{\"backgroundcolor\":\"#E5ECF6\",\"gridcolor\":\"white\",\"gridwidth\":2,\"linecolor\":\"white\",\"showbackground\":true,\"ticks\":\"\",\"zerolinecolor\":\"white\"},\"zaxis\":{\"backgroundcolor\":\"#E5ECF6\",\"gridcolor\":\"white\",\"gridwidth\":2,\"linecolor\":\"white\",\"showbackground\":true,\"ticks\":\"\",\"zerolinecolor\":\"white\"}},\"shapedefaults\":{\"line\":{\"color\":\"#2a3f5f\"}},\"ternary\":{\"aaxis\":{\"gridcolor\":\"white\",\"linecolor\":\"white\",\"ticks\":\"\"},\"baxis\":{\"gridcolor\":\"white\",\"linecolor\":\"white\",\"ticks\":\"\"},\"bgcolor\":\"#E5ECF6\",\"caxis\":{\"gridcolor\":\"white\",\"linecolor\":\"white\",\"ticks\":\"\"}},\"title\":{\"x\":0.05},\"xaxis\":{\"automargin\":true,\"gridcolor\":\"white\",\"linecolor\":\"white\",\"ticks\":\"\",\"title\":{\"standoff\":15},\"zerolinecolor\":\"white\",\"zerolinewidth\":2},\"yaxis\":{\"automargin\":true,\"gridcolor\":\"white\",\"linecolor\":\"white\",\"ticks\":\"\",\"title\":{\"standoff\":15},\"zerolinecolor\":\"white\",\"zerolinewidth\":2}}},\"title\":{\"text\":\"Feature Importance<br><sub>May display fewer features due to feature selection</sub>\"},\"xaxis\":{\"title\":{\"text\":\"Feature Importance\"}},\"yaxis\":{\"title\":{\"text\":\"Feature\"},\"type\":\"category\"}},                        {\"responsive\": true}                    ).then(function(){\n",
              "                            \n",
              "var gd = document.getElementById('7020cabe-6d1d-4ad6-9c58-99d8c24b9b44');\n",
              "var x = new MutationObserver(function (mutations, observer) {{\n",
              "        var display = window.getComputedStyle(gd).display;\n",
              "        if (!display || display === 'none') {{\n",
              "            console.log([gd, 'removed!']);\n",
              "            Plotly.purge(gd);\n",
              "            observer.disconnect();\n",
              "        }}\n",
              "}});\n",
              "\n",
              "// Listen for the removal of the full notebook cells\n",
              "var notebookContainer = gd.closest('#notebook-container');\n",
              "if (notebookContainer) {{\n",
              "    x.observe(notebookContainer, {childList: true});\n",
              "}}\n",
              "\n",
              "// Listen for the clearing of the current output cell\n",
              "var outputEl = gd.closest('.output');\n",
              "if (outputEl) {{\n",
              "    x.observe(outputEl, {childList: true});\n",
              "}}\n",
              "\n",
              "                        })                };                            </script>        </div>\n",
              "</body>\n",
              "</html>"
            ]
          },
          "metadata": {
            "tags": []
          }
        }
      ]
    },
    {
      "cell_type": "markdown",
      "metadata": {
        "id": "cTuku7NhhUkB"
      },
      "source": [
        "### Which features have been engineered"
      ]
    },
    {
      "cell_type": "code",
      "metadata": {
        "colab": {
          "base_uri": "https://localhost:8080/"
        },
        "id": "tw84GuYUNjDE",
        "outputId": "c2c19dd0-ab4c-461c-fa5b-2534255ef2bd"
      },
      "source": [
        "best_pipeline_auc.input_feature_names\n",
        "best_pipeline.input_feature_names"
      ],
      "execution_count": 116,
      "outputs": [
        {
          "output_type": "execute_result",
          "data": {
            "text/plain": [
              "{'CatBoost Classifier': ['job', 'state', 'zip', 'action', 'amount'],\n",
              " 'Imputer': ['job', 'state', 'zip', 'action', 'amount'],\n",
              " 'SMOTENC Oversampler': ['job', 'state', 'zip', 'action', 'amount']}"
            ]
          },
          "metadata": {
            "tags": []
          },
          "execution_count": 116
        },
        {
          "output_type": "execute_result",
          "data": {
            "text/plain": [
              "{'CatBoost Classifier': ['job', 'state', 'zip', 'action', 'amount'],\n",
              " 'Imputer': ['job', 'state', 'zip', 'action', 'amount'],\n",
              " 'SMOTENC Oversampler': ['job', 'state', 'zip', 'action', 'amount']}"
            ]
          },
          "metadata": {
            "tags": []
          },
          "execution_count": 116
        }
      ]
    },
    {
      "cell_type": "markdown",
      "metadata": {
        "id": "WqG7EINDhYio"
      },
      "source": [
        "### Our pipeline flow"
      ]
    },
    {
      "cell_type": "code",
      "metadata": {
        "colab": {
          "base_uri": "https://localhost:8080/",
          "height": 411
        },
        "id": "5QvyAG9wT-bS",
        "outputId": "22ba3702-ebb8-4acd-fee6-3849ff59e79b"
      },
      "source": [
        "#visualizing best pipeline flow \n",
        "best_pipeline_auc.graph()\n",
        "best_pipeline.graph()"
      ],
      "execution_count": 121,
      "outputs": [
        {
          "output_type": "execute_result",
          "data": {
            "text/plain": [
              "<graphviz.dot.Digraph at 0x7fd49cb65990>"
            ],
            "image/svg+xml": "<?xml version=\"1.0\" encoding=\"UTF-8\" standalone=\"no\"?>\n<!DOCTYPE svg PUBLIC \"-//W3C//DTD SVG 1.1//EN\"\n \"http://www.w3.org/Graphics/SVG/1.1/DTD/svg11.dtd\">\n<!-- Generated by graphviz version 2.40.1 (20161225.0304)\n -->\n<!-- Title: %3 Pages: 1 -->\n<svg width=\"704pt\" height=\"145pt\"\n viewBox=\"0.00 0.00 704.00 145.00\" xmlns=\"http://www.w3.org/2000/svg\" xmlns:xlink=\"http://www.w3.org/1999/xlink\">\n<g id=\"graph0\" class=\"graph\" transform=\"scale(1 1) rotate(0) translate(4 141)\">\n<title>%3</title>\n<polygon fill=\"#ffffff\" stroke=\"transparent\" points=\"-4,4 -4,-141 700,-141 700,4 -4,4\"/>\n<!-- Imputer -->\n<g id=\"node1\" class=\"node\">\n<title>Imputer</title>\n<polygon fill=\"none\" stroke=\"#000000\" points=\"0,-23 0,-114 270,-114 270,-23 0,-23\"/>\n<text text-anchor=\"middle\" x=\"135\" y=\"-98.8\" font-family=\"Times,serif\" font-size=\"14.00\" fill=\"#000000\">Imputer</text>\n<polyline fill=\"none\" stroke=\"#000000\" points=\"0,-91 270,-91 \"/>\n<text text-anchor=\"start\" x=\"8\" y=\"-75.8\" font-family=\"Times,serif\" font-size=\"14.00\" fill=\"#000000\">categorical_impute_strategy : most_frequent</text>\n<text text-anchor=\"start\" x=\"8\" y=\"-60.8\" font-family=\"Times,serif\" font-size=\"14.00\" fill=\"#000000\">numeric_impute_strategy : median</text>\n<text text-anchor=\"start\" x=\"8\" y=\"-45.8\" font-family=\"Times,serif\" font-size=\"14.00\" fill=\"#000000\">categorical_fill_value : None</text>\n<text text-anchor=\"start\" x=\"8\" y=\"-30.8\" font-family=\"Times,serif\" font-size=\"14.00\" fill=\"#000000\">numeric_fill_value : None</text>\n</g>\n<!-- SMOTENC Oversampler -->\n<g id=\"node2\" class=\"node\">\n<title>SMOTENC Oversampler</title>\n<polygon fill=\"none\" stroke=\"#000000\" points=\"306,-8 306,-129 492,-129 492,-8 306,-8\"/>\n<text text-anchor=\"middle\" x=\"399\" y=\"-113.8\" font-family=\"Times,serif\" font-size=\"14.00\" fill=\"#000000\">SMOTENC Oversampler</text>\n<polyline fill=\"none\" stroke=\"#000000\" points=\"306,-106 492,-106 \"/>\n<text text-anchor=\"start\" x=\"314\" y=\"-90.8\" font-family=\"Times,serif\" font-size=\"14.00\" fill=\"#000000\">sampling_ratio : 0.25</text>\n<text text-anchor=\"start\" x=\"314\" y=\"-75.8\" font-family=\"Times,serif\" font-size=\"14.00\" fill=\"#000000\">k_neighbors_default : 5</text>\n<text text-anchor=\"start\" x=\"314\" y=\"-60.8\" font-family=\"Times,serif\" font-size=\"14.00\" fill=\"#000000\">n_jobs : &#45;1</text>\n<text text-anchor=\"start\" x=\"314\" y=\"-45.8\" font-family=\"Times,serif\" font-size=\"14.00\" fill=\"#000000\">sampling_ratio_dict : None</text>\n<text text-anchor=\"start\" x=\"314\" y=\"-30.8\" font-family=\"Times,serif\" font-size=\"14.00\" fill=\"#000000\">categorical_features : [0, 1, 3]</text>\n<text text-anchor=\"start\" x=\"314\" y=\"-15.8\" font-family=\"Times,serif\" font-size=\"14.00\" fill=\"#000000\">k_neighbors : 5</text>\n</g>\n<!-- Imputer&#45;&gt;SMOTENC Oversampler -->\n<g id=\"edge1\" class=\"edge\">\n<title>Imputer&#45;&gt;SMOTENC Oversampler</title>\n<path fill=\"none\" stroke=\"#000000\" d=\"M270.0935,-68.5C270.0935,-68.5 295.7436,-68.5 295.7436,-68.5\"/>\n<polygon fill=\"#000000\" stroke=\"#000000\" points=\"295.7436,-72.0001 305.7436,-68.5 295.7435,-65.0001 295.7436,-72.0001\"/>\n</g>\n<!-- CatBoost Classifier -->\n<g id=\"node3\" class=\"node\">\n<title>CatBoost Classifier</title>\n<polygon fill=\"none\" stroke=\"#000000\" points=\"528,-.5 528,-136.5 696,-136.5 696,-.5 528,-.5\"/>\n<text text-anchor=\"middle\" x=\"612\" y=\"-121.3\" font-family=\"Times,serif\" font-size=\"14.00\" fill=\"#000000\">CatBoost Classifier</text>\n<polyline fill=\"none\" stroke=\"#000000\" points=\"528,-113.5 696,-113.5 \"/>\n<text text-anchor=\"start\" x=\"536\" y=\"-98.3\" font-family=\"Times,serif\" font-size=\"14.00\" fill=\"#000000\">n_estimators : 74</text>\n<text text-anchor=\"start\" x=\"536\" y=\"-83.3\" font-family=\"Times,serif\" font-size=\"14.00\" fill=\"#000000\">eta : 0.06</text>\n<text text-anchor=\"start\" x=\"536\" y=\"-68.3\" font-family=\"Times,serif\" font-size=\"14.00\" fill=\"#000000\">max_depth : 8</text>\n<text text-anchor=\"start\" x=\"536\" y=\"-53.3\" font-family=\"Times,serif\" font-size=\"14.00\" fill=\"#000000\">bootstrap_type : None</text>\n<text text-anchor=\"start\" x=\"536\" y=\"-38.3\" font-family=\"Times,serif\" font-size=\"14.00\" fill=\"#000000\">silent : True</text>\n<text text-anchor=\"start\" x=\"536\" y=\"-23.3\" font-family=\"Times,serif\" font-size=\"14.00\" fill=\"#000000\">allow_writing_files : False</text>\n<text text-anchor=\"start\" x=\"536\" y=\"-8.3\" font-family=\"Times,serif\" font-size=\"14.00\" fill=\"#000000\">n_jobs : &#45;1</text>\n</g>\n<!-- SMOTENC Oversampler&#45;&gt;CatBoost Classifier -->\n<g id=\"edge2\" class=\"edge\">\n<title>SMOTENC Oversampler&#45;&gt;CatBoost Classifier</title>\n<path fill=\"none\" stroke=\"#000000\" d=\"M492.115,-48.1667C492.115,-48.1667 517.7869,-48.1667 517.7869,-48.1667\"/>\n<polygon fill=\"#000000\" stroke=\"#000000\" points=\"517.7869,-51.6668 527.7869,-48.1667 517.7869,-44.6668 517.7869,-51.6668\"/>\n</g>\n<!-- SMOTENC Oversampler&#45;&gt;CatBoost Classifier -->\n<g id=\"edge3\" class=\"edge\">\n<title>SMOTENC Oversampler&#45;&gt;CatBoost Classifier</title>\n<path fill=\"none\" stroke=\"#000000\" d=\"M492.115,-88.8333C492.115,-88.8333 517.7869,-88.8333 517.7869,-88.8333\"/>\n<polygon fill=\"#000000\" stroke=\"#000000\" points=\"517.7869,-92.3334 527.7869,-88.8333 517.7869,-85.3334 517.7869,-92.3334\"/>\n</g>\n</g>\n</svg>\n"
          },
          "metadata": {
            "tags": []
          },
          "execution_count": 121
        },
        {
          "output_type": "execute_result",
          "data": {
            "text/plain": [
              "<graphviz.dot.Digraph at 0x7fd49cb65f90>"
            ],
            "image/svg+xml": "<?xml version=\"1.0\" encoding=\"UTF-8\" standalone=\"no\"?>\n<!DOCTYPE svg PUBLIC \"-//W3C//DTD SVG 1.1//EN\"\n \"http://www.w3.org/Graphics/SVG/1.1/DTD/svg11.dtd\">\n<!-- Generated by graphviz version 2.40.1 (20161225.0304)\n -->\n<!-- Title: %3 Pages: 1 -->\n<svg width=\"704pt\" height=\"145pt\"\n viewBox=\"0.00 0.00 704.00 145.00\" xmlns=\"http://www.w3.org/2000/svg\" xmlns:xlink=\"http://www.w3.org/1999/xlink\">\n<g id=\"graph0\" class=\"graph\" transform=\"scale(1 1) rotate(0) translate(4 141)\">\n<title>%3</title>\n<polygon fill=\"#ffffff\" stroke=\"transparent\" points=\"-4,4 -4,-141 700,-141 700,4 -4,4\"/>\n<!-- Imputer -->\n<g id=\"node1\" class=\"node\">\n<title>Imputer</title>\n<polygon fill=\"none\" stroke=\"#000000\" points=\"0,-23 0,-114 270,-114 270,-23 0,-23\"/>\n<text text-anchor=\"middle\" x=\"135\" y=\"-98.8\" font-family=\"Times,serif\" font-size=\"14.00\" fill=\"#000000\">Imputer</text>\n<polyline fill=\"none\" stroke=\"#000000\" points=\"0,-91 270,-91 \"/>\n<text text-anchor=\"start\" x=\"8\" y=\"-75.8\" font-family=\"Times,serif\" font-size=\"14.00\" fill=\"#000000\">categorical_impute_strategy : most_frequent</text>\n<text text-anchor=\"start\" x=\"8\" y=\"-60.8\" font-family=\"Times,serif\" font-size=\"14.00\" fill=\"#000000\">numeric_impute_strategy : mean</text>\n<text text-anchor=\"start\" x=\"8\" y=\"-45.8\" font-family=\"Times,serif\" font-size=\"14.00\" fill=\"#000000\">categorical_fill_value : None</text>\n<text text-anchor=\"start\" x=\"8\" y=\"-30.8\" font-family=\"Times,serif\" font-size=\"14.00\" fill=\"#000000\">numeric_fill_value : None</text>\n</g>\n<!-- SMOTENC Oversampler -->\n<g id=\"node2\" class=\"node\">\n<title>SMOTENC Oversampler</title>\n<polygon fill=\"none\" stroke=\"#000000\" points=\"306,-8 306,-129 492,-129 492,-8 306,-8\"/>\n<text text-anchor=\"middle\" x=\"399\" y=\"-113.8\" font-family=\"Times,serif\" font-size=\"14.00\" fill=\"#000000\">SMOTENC Oversampler</text>\n<polyline fill=\"none\" stroke=\"#000000\" points=\"306,-106 492,-106 \"/>\n<text text-anchor=\"start\" x=\"314\" y=\"-90.8\" font-family=\"Times,serif\" font-size=\"14.00\" fill=\"#000000\">sampling_ratio : 0.25</text>\n<text text-anchor=\"start\" x=\"314\" y=\"-75.8\" font-family=\"Times,serif\" font-size=\"14.00\" fill=\"#000000\">k_neighbors_default : 5</text>\n<text text-anchor=\"start\" x=\"314\" y=\"-60.8\" font-family=\"Times,serif\" font-size=\"14.00\" fill=\"#000000\">n_jobs : &#45;1</text>\n<text text-anchor=\"start\" x=\"314\" y=\"-45.8\" font-family=\"Times,serif\" font-size=\"14.00\" fill=\"#000000\">sampling_ratio_dict : None</text>\n<text text-anchor=\"start\" x=\"314\" y=\"-30.8\" font-family=\"Times,serif\" font-size=\"14.00\" fill=\"#000000\">categorical_features : [0, 1, 3]</text>\n<text text-anchor=\"start\" x=\"314\" y=\"-15.8\" font-family=\"Times,serif\" font-size=\"14.00\" fill=\"#000000\">k_neighbors : 5</text>\n</g>\n<!-- Imputer&#45;&gt;SMOTENC Oversampler -->\n<g id=\"edge1\" class=\"edge\">\n<title>Imputer&#45;&gt;SMOTENC Oversampler</title>\n<path fill=\"none\" stroke=\"#000000\" d=\"M270.0935,-68.5C270.0935,-68.5 295.7436,-68.5 295.7436,-68.5\"/>\n<polygon fill=\"#000000\" stroke=\"#000000\" points=\"295.7436,-72.0001 305.7436,-68.5 295.7435,-65.0001 295.7436,-72.0001\"/>\n</g>\n<!-- CatBoost Classifier -->\n<g id=\"node3\" class=\"node\">\n<title>CatBoost Classifier</title>\n<polygon fill=\"none\" stroke=\"#000000\" points=\"528,-.5 528,-136.5 696,-136.5 696,-.5 528,-.5\"/>\n<text text-anchor=\"middle\" x=\"612\" y=\"-121.3\" font-family=\"Times,serif\" font-size=\"14.00\" fill=\"#000000\">CatBoost Classifier</text>\n<polyline fill=\"none\" stroke=\"#000000\" points=\"528,-113.5 696,-113.5 \"/>\n<text text-anchor=\"start\" x=\"536\" y=\"-98.3\" font-family=\"Times,serif\" font-size=\"14.00\" fill=\"#000000\">n_estimators : 10</text>\n<text text-anchor=\"start\" x=\"536\" y=\"-83.3\" font-family=\"Times,serif\" font-size=\"14.00\" fill=\"#000000\">eta : 0.03</text>\n<text text-anchor=\"start\" x=\"536\" y=\"-68.3\" font-family=\"Times,serif\" font-size=\"14.00\" fill=\"#000000\">max_depth : 6</text>\n<text text-anchor=\"start\" x=\"536\" y=\"-53.3\" font-family=\"Times,serif\" font-size=\"14.00\" fill=\"#000000\">bootstrap_type : None</text>\n<text text-anchor=\"start\" x=\"536\" y=\"-38.3\" font-family=\"Times,serif\" font-size=\"14.00\" fill=\"#000000\">silent : True</text>\n<text text-anchor=\"start\" x=\"536\" y=\"-23.3\" font-family=\"Times,serif\" font-size=\"14.00\" fill=\"#000000\">allow_writing_files : False</text>\n<text text-anchor=\"start\" x=\"536\" y=\"-8.3\" font-family=\"Times,serif\" font-size=\"14.00\" fill=\"#000000\">n_jobs : &#45;1</text>\n</g>\n<!-- SMOTENC Oversampler&#45;&gt;CatBoost Classifier -->\n<g id=\"edge2\" class=\"edge\">\n<title>SMOTENC Oversampler&#45;&gt;CatBoost Classifier</title>\n<path fill=\"none\" stroke=\"#000000\" d=\"M492.115,-48.1667C492.115,-48.1667 517.7869,-48.1667 517.7869,-48.1667\"/>\n<polygon fill=\"#000000\" stroke=\"#000000\" points=\"517.7869,-51.6668 527.7869,-48.1667 517.7869,-44.6668 517.7869,-51.6668\"/>\n</g>\n<!-- SMOTENC Oversampler&#45;&gt;CatBoost Classifier -->\n<g id=\"edge3\" class=\"edge\">\n<title>SMOTENC Oversampler&#45;&gt;CatBoost Classifier</title>\n<path fill=\"none\" stroke=\"#000000\" d=\"M492.115,-88.8333C492.115,-88.8333 517.7869,-88.8333 517.7869,-88.8333\"/>\n<polygon fill=\"#000000\" stroke=\"#000000\" points=\"517.7869,-92.3334 527.7869,-88.8333 517.7869,-85.3334 517.7869,-92.3334\"/>\n</g>\n</g>\n</svg>\n"
          },
          "metadata": {
            "tags": []
          },
          "execution_count": 121
        }
      ]
    },
    {
      "cell_type": "markdown",
      "metadata": {
        "id": "UkZg1CDhhcdi"
      },
      "source": [
        "### Save model for subsequent use"
      ]
    },
    {
      "cell_type": "code",
      "metadata": {
        "id": "KACesOTtOPSJ"
      },
      "source": [
        "best_pipeline.save(\"model.pkl\")"
      ],
      "execution_count": null,
      "outputs": []
    },
    {
      "cell_type": "code",
      "metadata": {
        "id": "pV-BCEBhTl1u"
      },
      "source": [
        "check_model=automl.load('model.pkl')"
      ],
      "execution_count": null,
      "outputs": []
    },
    {
      "cell_type": "code",
      "metadata": {
        "id": "1LQuaYkFTplK"
      },
      "source": [
        "check_model.predict_proba(X_holdout).to_dataframe()"
      ],
      "execution_count": null,
      "outputs": []
    },
    {
      "cell_type": "markdown",
      "metadata": {
        "id": "MKQpdKRqhjZH"
      },
      "source": [
        "### ROC graph and Confusion matrix"
      ]
    },
    {
      "cell_type": "code",
      "metadata": {
        "colab": {
          "base_uri": "https://localhost:8080/",
          "height": 542
        },
        "id": "U4WUCYxYVMPz",
        "outputId": "05c45672-1a03-4501-c8cf-d42e36889142"
      },
      "source": [
        "# pipeline trained with log loss\n",
        "y_pred = best_pipeline_auc.predict(X_holdout)\n",
        "graph_confusion_matrix(y_holdout, y_pred)\n",
        "\n"
      ],
      "execution_count": 122,
      "outputs": [
        {
          "output_type": "display_data",
          "data": {
            "text/html": [
              "<html>\n",
              "<head><meta charset=\"utf-8\" /></head>\n",
              "<body>\n",
              "    <div>            <script src=\"https://cdnjs.cloudflare.com/ajax/libs/mathjax/2.7.5/MathJax.js?config=TeX-AMS-MML_SVG\"></script><script type=\"text/javascript\">if (window.MathJax) {MathJax.Hub.Config({SVG: {font: \"STIX-Web\"}});}</script>                <script type=\"text/javascript\">window.PlotlyConfig = {MathJaxConfig: 'local'};</script>\n",
              "        <script src=\"https://cdn.plot.ly/plotly-2.2.0.min.js\"></script>                <div id=\"9cc2e643-90a9-4792-b775-cfafd063e201\" class=\"plotly-graph-div\" style=\"height:525px; width:100%;\"></div>            <script type=\"text/javascript\">                                    window.PLOTLYENV=window.PLOTLYENV || {};                                    if (document.getElementById(\"9cc2e643-90a9-4792-b775-cfafd063e201\")) {                    Plotly.newPlot(                        \"9cc2e643-90a9-4792-b775-cfafd063e201\",                        [{\"colorscale\":[[0.0,\"rgb(247,251,255)\"],[0.125,\"rgb(222,235,247)\"],[0.25,\"rgb(198,219,239)\"],[0.375,\"rgb(158,202,225)\"],[0.5,\"rgb(107,174,214)\"],[0.625,\"rgb(66,146,198)\"],[0.75,\"rgb(33,113,181)\"],[0.875,\"rgb(8,81,156)\"],[1.0,\"rgb(8,48,107)\"]],\"customdata\":[[1066,37],[35,25]],\"hovertemplate\":\"<b>True</b>: %{y}<br><b>Predicted</b>: %{x}<br><b>Normalized Count</b>: %{z}<br><b>Raw Count</b>: %{customdata} <br><extra></extra>\",\"reversescale\":false,\"showscale\":true,\"type\":\"heatmap\",\"x\":[false,true],\"y\":[false,true],\"z\":[[0.9664551223934723,0.033544877606527655],[0.5833333333333334,0.4166666666666667]]}],                        {\"annotations\":[{\"font\":{\"color\":\"#FFFFFF\"},\"showarrow\":false,\"text\":\"0.966\",\"x\":false,\"xref\":\"x\",\"y\":false,\"yref\":\"y\"},{\"font\":{\"color\":\"#000000\"},\"showarrow\":false,\"text\":\"0.034\",\"x\":true,\"xref\":\"x\",\"y\":false,\"yref\":\"y\"},{\"font\":{\"color\":\"#FFFFFF\"},\"showarrow\":false,\"text\":\"0.583\",\"x\":false,\"xref\":\"x\",\"y\":true,\"yref\":\"y\"},{\"font\":{\"color\":\"#000000\"},\"showarrow\":false,\"text\":\"0.417\",\"x\":true,\"xref\":\"x\",\"y\":true,\"yref\":\"y\"}],\"template\":{\"data\":{\"bar\":[{\"error_x\":{\"color\":\"#2a3f5f\"},\"error_y\":{\"color\":\"#2a3f5f\"},\"marker\":{\"line\":{\"color\":\"#E5ECF6\",\"width\":0.5},\"pattern\":{\"fillmode\":\"overlay\",\"size\":10,\"solidity\":0.2}},\"type\":\"bar\"}],\"barpolar\":[{\"marker\":{\"line\":{\"color\":\"#E5ECF6\",\"width\":0.5},\"pattern\":{\"fillmode\":\"overlay\",\"size\":10,\"solidity\":0.2}},\"type\":\"barpolar\"}],\"carpet\":[{\"aaxis\":{\"endlinecolor\":\"#2a3f5f\",\"gridcolor\":\"white\",\"linecolor\":\"white\",\"minorgridcolor\":\"white\",\"startlinecolor\":\"#2a3f5f\"},\"baxis\":{\"endlinecolor\":\"#2a3f5f\",\"gridcolor\":\"white\",\"linecolor\":\"white\",\"minorgridcolor\":\"white\",\"startlinecolor\":\"#2a3f5f\"},\"type\":\"carpet\"}],\"choropleth\":[{\"colorbar\":{\"outlinewidth\":0,\"ticks\":\"\"},\"type\":\"choropleth\"}],\"contour\":[{\"colorbar\":{\"outlinewidth\":0,\"ticks\":\"\"},\"colorscale\":[[0.0,\"#0d0887\"],[0.1111111111111111,\"#46039f\"],[0.2222222222222222,\"#7201a8\"],[0.3333333333333333,\"#9c179e\"],[0.4444444444444444,\"#bd3786\"],[0.5555555555555556,\"#d8576b\"],[0.6666666666666666,\"#ed7953\"],[0.7777777777777778,\"#fb9f3a\"],[0.8888888888888888,\"#fdca26\"],[1.0,\"#f0f921\"]],\"type\":\"contour\"}],\"contourcarpet\":[{\"colorbar\":{\"outlinewidth\":0,\"ticks\":\"\"},\"type\":\"contourcarpet\"}],\"heatmap\":[{\"colorbar\":{\"outlinewidth\":0,\"ticks\":\"\"},\"colorscale\":[[0.0,\"#0d0887\"],[0.1111111111111111,\"#46039f\"],[0.2222222222222222,\"#7201a8\"],[0.3333333333333333,\"#9c179e\"],[0.4444444444444444,\"#bd3786\"],[0.5555555555555556,\"#d8576b\"],[0.6666666666666666,\"#ed7953\"],[0.7777777777777778,\"#fb9f3a\"],[0.8888888888888888,\"#fdca26\"],[1.0,\"#f0f921\"]],\"type\":\"heatmap\"}],\"heatmapgl\":[{\"colorbar\":{\"outlinewidth\":0,\"ticks\":\"\"},\"colorscale\":[[0.0,\"#0d0887\"],[0.1111111111111111,\"#46039f\"],[0.2222222222222222,\"#7201a8\"],[0.3333333333333333,\"#9c179e\"],[0.4444444444444444,\"#bd3786\"],[0.5555555555555556,\"#d8576b\"],[0.6666666666666666,\"#ed7953\"],[0.7777777777777778,\"#fb9f3a\"],[0.8888888888888888,\"#fdca26\"],[1.0,\"#f0f921\"]],\"type\":\"heatmapgl\"}],\"histogram\":[{\"marker\":{\"pattern\":{\"fillmode\":\"overlay\",\"size\":10,\"solidity\":0.2}},\"type\":\"histogram\"}],\"histogram2d\":[{\"colorbar\":{\"outlinewidth\":0,\"ticks\":\"\"},\"colorscale\":[[0.0,\"#0d0887\"],[0.1111111111111111,\"#46039f\"],[0.2222222222222222,\"#7201a8\"],[0.3333333333333333,\"#9c179e\"],[0.4444444444444444,\"#bd3786\"],[0.5555555555555556,\"#d8576b\"],[0.6666666666666666,\"#ed7953\"],[0.7777777777777778,\"#fb9f3a\"],[0.8888888888888888,\"#fdca26\"],[1.0,\"#f0f921\"]],\"type\":\"histogram2d\"}],\"histogram2dcontour\":[{\"colorbar\":{\"outlinewidth\":0,\"ticks\":\"\"},\"colorscale\":[[0.0,\"#0d0887\"],[0.1111111111111111,\"#46039f\"],[0.2222222222222222,\"#7201a8\"],[0.3333333333333333,\"#9c179e\"],[0.4444444444444444,\"#bd3786\"],[0.5555555555555556,\"#d8576b\"],[0.6666666666666666,\"#ed7953\"],[0.7777777777777778,\"#fb9f3a\"],[0.8888888888888888,\"#fdca26\"],[1.0,\"#f0f921\"]],\"type\":\"histogram2dcontour\"}],\"mesh3d\":[{\"colorbar\":{\"outlinewidth\":0,\"ticks\":\"\"},\"type\":\"mesh3d\"}],\"parcoords\":[{\"line\":{\"colorbar\":{\"outlinewidth\":0,\"ticks\":\"\"}},\"type\":\"parcoords\"}],\"pie\":[{\"automargin\":true,\"type\":\"pie\"}],\"scatter\":[{\"marker\":{\"colorbar\":{\"outlinewidth\":0,\"ticks\":\"\"}},\"type\":\"scatter\"}],\"scatter3d\":[{\"line\":{\"colorbar\":{\"outlinewidth\":0,\"ticks\":\"\"}},\"marker\":{\"colorbar\":{\"outlinewidth\":0,\"ticks\":\"\"}},\"type\":\"scatter3d\"}],\"scattercarpet\":[{\"marker\":{\"colorbar\":{\"outlinewidth\":0,\"ticks\":\"\"}},\"type\":\"scattercarpet\"}],\"scattergeo\":[{\"marker\":{\"colorbar\":{\"outlinewidth\":0,\"ticks\":\"\"}},\"type\":\"scattergeo\"}],\"scattergl\":[{\"marker\":{\"colorbar\":{\"outlinewidth\":0,\"ticks\":\"\"}},\"type\":\"scattergl\"}],\"scattermapbox\":[{\"marker\":{\"colorbar\":{\"outlinewidth\":0,\"ticks\":\"\"}},\"type\":\"scattermapbox\"}],\"scatterpolar\":[{\"marker\":{\"colorbar\":{\"outlinewidth\":0,\"ticks\":\"\"}},\"type\":\"scatterpolar\"}],\"scatterpolargl\":[{\"marker\":{\"colorbar\":{\"outlinewidth\":0,\"ticks\":\"\"}},\"type\":\"scatterpolargl\"}],\"scatterternary\":[{\"marker\":{\"colorbar\":{\"outlinewidth\":0,\"ticks\":\"\"}},\"type\":\"scatterternary\"}],\"surface\":[{\"colorbar\":{\"outlinewidth\":0,\"ticks\":\"\"},\"colorscale\":[[0.0,\"#0d0887\"],[0.1111111111111111,\"#46039f\"],[0.2222222222222222,\"#7201a8\"],[0.3333333333333333,\"#9c179e\"],[0.4444444444444444,\"#bd3786\"],[0.5555555555555556,\"#d8576b\"],[0.6666666666666666,\"#ed7953\"],[0.7777777777777778,\"#fb9f3a\"],[0.8888888888888888,\"#fdca26\"],[1.0,\"#f0f921\"]],\"type\":\"surface\"}],\"table\":[{\"cells\":{\"fill\":{\"color\":\"#EBF0F8\"},\"line\":{\"color\":\"white\"}},\"header\":{\"fill\":{\"color\":\"#C8D4E3\"},\"line\":{\"color\":\"white\"}},\"type\":\"table\"}]},\"layout\":{\"annotationdefaults\":{\"arrowcolor\":\"#2a3f5f\",\"arrowhead\":0,\"arrowwidth\":1},\"autotypenumbers\":\"strict\",\"coloraxis\":{\"colorbar\":{\"outlinewidth\":0,\"ticks\":\"\"}},\"colorscale\":{\"diverging\":[[0,\"#8e0152\"],[0.1,\"#c51b7d\"],[0.2,\"#de77ae\"],[0.3,\"#f1b6da\"],[0.4,\"#fde0ef\"],[0.5,\"#f7f7f7\"],[0.6,\"#e6f5d0\"],[0.7,\"#b8e186\"],[0.8,\"#7fbc41\"],[0.9,\"#4d9221\"],[1,\"#276419\"]],\"sequential\":[[0.0,\"#0d0887\"],[0.1111111111111111,\"#46039f\"],[0.2222222222222222,\"#7201a8\"],[0.3333333333333333,\"#9c179e\"],[0.4444444444444444,\"#bd3786\"],[0.5555555555555556,\"#d8576b\"],[0.6666666666666666,\"#ed7953\"],[0.7777777777777778,\"#fb9f3a\"],[0.8888888888888888,\"#fdca26\"],[1.0,\"#f0f921\"]],\"sequentialminus\":[[0.0,\"#0d0887\"],[0.1111111111111111,\"#46039f\"],[0.2222222222222222,\"#7201a8\"],[0.3333333333333333,\"#9c179e\"],[0.4444444444444444,\"#bd3786\"],[0.5555555555555556,\"#d8576b\"],[0.6666666666666666,\"#ed7953\"],[0.7777777777777778,\"#fb9f3a\"],[0.8888888888888888,\"#fdca26\"],[1.0,\"#f0f921\"]]},\"colorway\":[\"#636efa\",\"#EF553B\",\"#00cc96\",\"#ab63fa\",\"#FFA15A\",\"#19d3f3\",\"#FF6692\",\"#B6E880\",\"#FF97FF\",\"#FECB52\"],\"font\":{\"color\":\"#2a3f5f\"},\"geo\":{\"bgcolor\":\"white\",\"lakecolor\":\"white\",\"landcolor\":\"#E5ECF6\",\"showlakes\":true,\"showland\":true,\"subunitcolor\":\"white\"},\"hoverlabel\":{\"align\":\"left\"},\"hovermode\":\"closest\",\"mapbox\":{\"style\":\"light\"},\"paper_bgcolor\":\"white\",\"plot_bgcolor\":\"#E5ECF6\",\"polar\":{\"angularaxis\":{\"gridcolor\":\"white\",\"linecolor\":\"white\",\"ticks\":\"\"},\"bgcolor\":\"#E5ECF6\",\"radialaxis\":{\"gridcolor\":\"white\",\"linecolor\":\"white\",\"ticks\":\"\"}},\"scene\":{\"xaxis\":{\"backgroundcolor\":\"#E5ECF6\",\"gridcolor\":\"white\",\"gridwidth\":2,\"linecolor\":\"white\",\"showbackground\":true,\"ticks\":\"\",\"zerolinecolor\":\"white\"},\"yaxis\":{\"backgroundcolor\":\"#E5ECF6\",\"gridcolor\":\"white\",\"gridwidth\":2,\"linecolor\":\"white\",\"showbackground\":true,\"ticks\":\"\",\"zerolinecolor\":\"white\"},\"zaxis\":{\"backgroundcolor\":\"#E5ECF6\",\"gridcolor\":\"white\",\"gridwidth\":2,\"linecolor\":\"white\",\"showbackground\":true,\"ticks\":\"\",\"zerolinecolor\":\"white\"}},\"shapedefaults\":{\"line\":{\"color\":\"#2a3f5f\"}},\"ternary\":{\"aaxis\":{\"gridcolor\":\"white\",\"linecolor\":\"white\",\"ticks\":\"\"},\"baxis\":{\"gridcolor\":\"white\",\"linecolor\":\"white\",\"ticks\":\"\"},\"bgcolor\":\"#E5ECF6\",\"caxis\":{\"gridcolor\":\"white\",\"linecolor\":\"white\",\"ticks\":\"\"}},\"title\":{\"x\":0.05},\"xaxis\":{\"automargin\":true,\"gridcolor\":\"white\",\"linecolor\":\"white\",\"ticks\":\"\",\"title\":{\"standoff\":15},\"zerolinecolor\":\"white\",\"zerolinewidth\":2},\"yaxis\":{\"automargin\":true,\"gridcolor\":\"white\",\"linecolor\":\"white\",\"ticks\":\"\",\"title\":{\"standoff\":15},\"zerolinecolor\":\"white\",\"zerolinewidth\":2}}},\"title\":{\"text\":\"Confusion matrix, normalized using method \\\"true\\\"\"},\"xaxis\":{\"dtick\":1,\"gridcolor\":\"rgb(0, 0, 0)\",\"side\":\"bottom\",\"ticks\":\"\",\"tickvals\":[false,true],\"title\":{\"text\":\"Predicted Label\"},\"type\":\"category\"},\"yaxis\":{\"autorange\":\"reversed\",\"dtick\":1,\"ticks\":\"\",\"ticksuffix\":\"  \",\"tickvals\":[false,true],\"title\":{\"text\":\"True Label\"},\"type\":\"category\"}},                        {\"responsive\": true}                    ).then(function(){\n",
              "                            \n",
              "var gd = document.getElementById('9cc2e643-90a9-4792-b775-cfafd063e201');\n",
              "var x = new MutationObserver(function (mutations, observer) {{\n",
              "        var display = window.getComputedStyle(gd).display;\n",
              "        if (!display || display === 'none') {{\n",
              "            console.log([gd, 'removed!']);\n",
              "            Plotly.purge(gd);\n",
              "            observer.disconnect();\n",
              "        }}\n",
              "}});\n",
              "\n",
              "// Listen for the removal of the full notebook cells\n",
              "var notebookContainer = gd.closest('#notebook-container');\n",
              "if (notebookContainer) {{\n",
              "    x.observe(notebookContainer, {childList: true});\n",
              "}}\n",
              "\n",
              "// Listen for the clearing of the current output cell\n",
              "var outputEl = gd.closest('.output');\n",
              "if (outputEl) {{\n",
              "    x.observe(outputEl, {childList: true});\n",
              "}}\n",
              "\n",
              "                        })                };                            </script>        </div>\n",
              "</body>\n",
              "</html>"
            ]
          },
          "metadata": {
            "tags": []
          }
        }
      ]
    },
    {
      "cell_type": "code",
      "metadata": {
        "colab": {
          "base_uri": "https://localhost:8080/",
          "height": 542
        },
        "id": "kemNuPA4Xp7W",
        "outputId": "150fdbc7-3ccf-40df-b7f6-2234938d5060"
      },
      "source": [
        "y_pred = best_pipeline_auc.predict_proba(X_holdout)\n",
        "graph_roc_curve(y_holdout, y_pred)"
      ],
      "execution_count": 123,
      "outputs": [
        {
          "output_type": "display_data",
          "data": {
            "text/html": [
              "<html>\n",
              "<head><meta charset=\"utf-8\" /></head>\n",
              "<body>\n",
              "    <div>            <script src=\"https://cdnjs.cloudflare.com/ajax/libs/mathjax/2.7.5/MathJax.js?config=TeX-AMS-MML_SVG\"></script><script type=\"text/javascript\">if (window.MathJax) {MathJax.Hub.Config({SVG: {font: \"STIX-Web\"}});}</script>                <script type=\"text/javascript\">window.PlotlyConfig = {MathJaxConfig: 'local'};</script>\n",
              "        <script src=\"https://cdn.plot.ly/plotly-2.2.0.min.js\"></script>                <div id=\"4bd57932-6519-4774-ba51-a3f3d63f7756\" class=\"plotly-graph-div\" style=\"height:525px; width:100%;\"></div>            <script type=\"text/javascript\">                                    window.PLOTLYENV=window.PLOTLYENV || {};                                    if (document.getElementById(\"4bd57932-6519-4774-ba51-a3f3d63f7756\")) {                    Plotly.newPlot(                        \"4bd57932-6519-4774-ba51-a3f3d63f7756\",                        [{\"hovertemplate\":\"(False Postive Rate: %{x}, True Positive Rate: %{y})<br>Threshold: %{text}\",\"line\":{\"width\":3},\"name\":\"Class 1 (AUC 0.923549)\",\"text\":[\"1.8856000584046329\",\"0.8856000584046327\",\"0.8651095295488064\",\"0.856420259680404\",\"0.8367546980277636\",\"0.7894538517533635\",\"0.7578407845807934\",\"0.7481241579545002\",\"0.7396199050518415\",\"0.7348180753584534\",\"0.733037288771236\",\"0.7253147393603332\",\"0.7243879135913162\",\"0.7206777254414677\",\"0.7106072350009659\",\"0.708955457389684\",\"0.707975679940905\",\"0.7074661358100739\",\"0.6977427252979116\",\"0.6961369161996929\",\"0.6928039481990265\",\"0.6861094081042713\",\"0.6563690739797914\",\"0.6341851581427992\",\"0.6073661998459409\",\"0.6020213663149243\",\"0.600152199058326\",\"0.5953397218889135\",\"0.5871372268480399\",\"0.5670355590178361\",\"0.5573749690068749\",\"0.5538162479429773\",\"0.5485759386899255\",\"0.5452240694748761\",\"0.5427123137781132\",\"0.527612608682187\",\"0.5263280525739001\",\"0.5222716275266126\",\"0.5137409520255142\",\"0.5093302126269708\",\"0.49087708959869397\",\"0.48480342497085493\",\"0.4666192318708042\",\"0.4663101304575152\",\"0.4277184989442444\",\"0.38494896509504517\",\"0.3704325103038414\",\"0.33265169161273234\",\"0.3248572046372165\",\"0.29596128603332605\",\"0.24257717023029438\",\"0.20620832813248635\",\"0.176816542054935\",\"0.17637859946879852\",\"0.1610330835093881\",\"0.15692497721629933\",\"0.15506676593290594\",\"0.10626386132152202\",\"0.0923242252199978\",\"0.08793867303802275\",\"0.0701074994453839\",\"0.07007356135158233\",\"0.06405140622157797\",\"0.062495014931448434\",\"0.0619264762792805\",\"0.061082656637906206\",\"0.06078578071130156\",\"0.05738003903372083\",\"0.05718634344576953\",\"0.05690468924203606\",\"0.05673698831738529\",\"0.056585075325900264\",\"0.0564301254279291\",\"0.056415784110802676\",\"0.05604817218131131\",\"0.05593759689495349\",\"0.05586941916616636\",\"0.05560588303624664\",\"0.053056445417590296\",\"0.050827728099504435\",\"0.05041425849344295\",\"0.044754270201046546\",\"0.04450440896600293\",\"0.044103755896005944\",\"0.04301319371593386\",\"0.03729458469732876\",\"0.03674950265650232\",\"0.03563621513774029\",\"0.035504789316193004\",\"0.035071453825840766\",\"0.033517620054132245\",\"0.03350280271448363\",\"0.03303260814026783\",\"0.03293269001838639\",\"0.03284064454840717\",\"0.03271024038392291\",\"0.03245800503486509\",\"0.03221890171004208\",\"0.03220920223450764\",\"0.03210907827699163\",\"0.03198008586192604\",\"0.03189110612021493\",\"0.03187172097408357\",\"0.03181763298591444\",\"0.03172470998624602\",\"0.0316644537546907\",\"0.031418956980363705\",\"0.03131656232845297\",\"0.03130933302954282\",\"0.030806075955921993\",\"0.03069286763123497\",\"0.03055489356073823\",\"0.030498323420042796\",\"0.030175758787981035\",\"0.030111583320280896\",\"0.029915706723863015\",\"0.029882022704450208\",\"0.029870646917489047\",\"0.02975530529275557\",\"0.029612848016717944\",\"0.029592237496812487\",\"0.02906382992181256\",\"0.02905840239289419\",\"0.028941048185115156\",\"0.028509230517754443\",\"0.028502136635506527\",\"0.028435444011462432\",\"0.028315282664009015\",\"0.028244594275643676\",\"0.027916326771157057\",\"0.027541418880547324\",\"0.027528783898199592\",\"0.027370419966244335\",\"0.0271764355861312\",\"0.027142632536862193\",\"0.02709735840950866\",\"0.026890844029662436\",\"0.026718120164781346\",\"0.026692293530103803\",\"0.026406524942583373\",\"0.026339075551941635\",\"0.026239852502110167\",\"0.026042621432889376\",\"0.025976493892209553\",\"0.025972023069762575\",\"0.025691100164639626\",\"0.025456081243330642\",\"0.025238506000475454\",\"0.025206129125303987\",\"0.025156973944996205\",\"0.024942268238276243\",\"0.02488669951358118\",\"0.02488451536528591\",\"0.024717388595968188\",\"0.02467158659999009\",\"0.024652408506144197\",\"0.024484567912657157\",\"0.024468926361361512\",\"0.024439053668014337\",\"0.02438668230894894\",\"0.024301370242171008\",\"0.023914688443599945\",\"0.023832895555084943\",\"0.02381911167675699\",\"0.023375705610276312\",\"0.02333187170148102\",\"0.0232783753160069\",\"0.023193318027261742\",\"0.023044036436962116\",\"0.023036108526799295\",\"0.022890057178753035\",\"0.022817924153370656\",\"0.022517827474814796\",\"0.022277050699903423\",\"0.022194274444099313\",\"0.021933163682103296\",\"0.021321666022083578\",\"0.021301267657191324\",\"0.020949415067911495\",\"0.019788532537995313\",\"0.01974112950678784\",\"0.019722070211885122\",\"0.019569109170861788\",\"0.018235873677140045\",\"0.01809856237723\"],\"type\":\"scatter\",\"x\":[0.0,0.0,0.0,0.0,0.004533091568449683,0.004533091568449683,0.006346328195829556,0.006346328195829556,0.007252946509519492,0.009066183136899365,0.014505893019038985,0.014505893019038985,0.019945602901178604,0.021758839528558477,0.021758839528558477,0.022665457842248413,0.027198549410698096,0.027198549410698096,0.028105167724388033,0.030825022665457842,0.032638259292837715,0.033544877606527655,0.03445149592021759,0.03626473254759746,0.038984587488667274,0.04986400725294651,0.050770625566636446,0.05258386219401632,0.05530371713508613,0.057116953762466005,0.07252946509519492,0.0770625566636446,0.07796917497733455,0.07887579329102448,0.07887579329102448,0.0815956482320943,0.10516772438803264,0.10607434270172257,0.10607434270172257,0.10788757932910245,0.10970081595648232,0.11695376246600181,0.11876699909338169,0.11876699909338169,0.12058023572076156,0.12239347234814144,0.12511332728921123,0.12692656391659113,0.12783318223028106,0.128739800543971,0.13780598368087035,0.1387126019945603,0.14233907524932005,0.14324569356300998,0.14324569356300998,0.14505893019038985,0.1468721668177697,0.15231187669990934,0.15231187669990934,0.1541251133272892,0.1559383499546691,0.25022665457842247,0.2556663644605621,0.2556663644605621,0.257479601087942,0.2638259292837715,0.2638259292837715,0.2665457842248413,0.26835902085222124,0.2701722574796011,0.2756119673617407,0.27651858567543064,0.28195829555757024,0.28377153218495016,0.28558476881233,0.28649138712601996,0.2910244786944696,0.2910244786944696,0.3028105167724388,0.3046237533998187,0.30643699002719854,0.3109700815956482,0.314596554850408,0.31640979147778786,0.31912964641885766,0.32456935630099726,0.3263825929283772,0.33091568449682685,0.3354487760652765,0.3372620126926564,0.34088848594741616,0.34360834088848596,0.3445149592021759,0.34632819582955576,0.34904805077062556,0.35086128739800543,0.35176790571169536,0.35539437896645515,0.3563009972801451,0.3599274705349048,0.36083408884859475,0.3644605621033545,0.3671804170444243,0.37262012692656393,0.3744333635539438,0.37533998186763373,0.37896645512239346,0.38077969174977333,0.38349954669084313,0.386219401631913,0.3889392565729828,0.39075249320036265,0.3916591115140526,0.39347234814143245,0.3943789664551224,0.3980054397098821,0.3989120580235721,0.4043517679057117,0.40888485947416137,0.41069809610154123,0.41160471441523117,0.414324569356301,0.41523118766999095,0.41795104261106075,0.4197642792384406,0.42067089755213055,0.4224841341795104,0.43064369900271987,0.43245693563009974,0.4342701722574796,0.43789664551223934,0.4397098821396192,0.44061650045330913,0.45058930190389845,0.4514959202175884,0.45330915684496825,0.4605621033544878,0.46237533998186764,0.46509519492293744,0.4669084315503173,0.47053490480507704,0.485040797824116,0.5049864007252947,0.5321849501359928,0.5339981867633726,0.5367180417044425,0.5385312783318223,0.5557570262919311,0.557570262919311,0.5584768812330009,0.5621033544877606,0.5847688123300091,0.5874886672710788,0.5983680870353582,0.599274705349048,0.6010879419764279,0.6029011786038078,0.6174070716228468,0.6192203082502267,0.6201269265639165,0.6219401631912964,0.6255666364460563,0.6310063463281959,0.6328195829555757,0.6373526745240253,0.6391659111514053,0.6672710788757933,0.6681776971894833,0.8132366273798731,0.8159564823209429,0.8322756119673618,0.8540344514959202,0.8549410698096102,0.85675430643699,0.8594741613780599,0.8631006346328196,0.8685403445149592,0.8730734360834089,0.8830462375339981,0.885766092475068,0.900271985494107,0.9202175883952856,0.9238440616500453,0.9456029011786038,1.0],\"y\":[0.0,0.016666666666666666,0.06666666666666667,0.1,0.1,0.11666666666666667,0.11666666666666667,0.13333333333333333,0.13333333333333333,0.13333333333333333,0.16666666666666666,0.18333333333333332,0.26666666666666666,0.26666666666666666,0.2833333333333333,0.2833333333333333,0.35,0.38333333333333336,0.38333333333333336,0.38333333333333336,0.4166666666666667,0.4166666666666667,0.43333333333333335,0.43333333333333335,0.45,0.5,0.5,0.5,0.5166666666666667,0.5166666666666667,0.5666666666666667,0.6,0.6166666666666667,0.6166666666666667,0.6333333333333333,0.6333333333333333,0.7166666666666667,0.7166666666666667,0.7333333333333333,0.7833333333333333,0.7833333333333333,0.8,0.8,0.8166666666666667,0.8166666666666667,0.8166666666666667,0.8166666666666667,0.8333333333333334,0.8333333333333334,0.85,0.85,0.85,0.85,0.85,0.8666666666666667,0.8666666666666667,0.8666666666666667,0.8666666666666667,0.8833333333333333,0.8833333333333333,0.8833333333333333,0.9166666666666666,0.9166666666666666,0.9333333333333333,0.9333333333333333,0.9333333333333333,0.95,0.95,0.95,0.95,0.95,0.9666666666666667,0.9666666666666667,0.9666666666666667,0.9833333333333333,0.9833333333333333,0.9833333333333333,1.0,1.0,1.0,1.0,1.0,1.0,1.0,1.0,1.0,1.0,1.0,1.0,1.0,1.0,1.0,1.0,1.0,1.0,1.0,1.0,1.0,1.0,1.0,1.0,1.0,1.0,1.0,1.0,1.0,1.0,1.0,1.0,1.0,1.0,1.0,1.0,1.0,1.0,1.0,1.0,1.0,1.0,1.0,1.0,1.0,1.0,1.0,1.0,1.0,1.0,1.0,1.0,1.0,1.0,1.0,1.0,1.0,1.0,1.0,1.0,1.0,1.0,1.0,1.0,1.0,1.0,1.0,1.0,1.0,1.0,1.0,1.0,1.0,1.0,1.0,1.0,1.0,1.0,1.0,1.0,1.0,1.0,1.0,1.0,1.0,1.0,1.0,1.0,1.0,1.0,1.0,1.0,1.0,1.0,1.0,1.0,1.0,1.0,1.0,1.0,1.0,1.0,1.0,1.0,1.0,1.0,1.0,1.0]},{\"line\":{\"dash\":\"dash\"},\"name\":\"Trivial Model (AUC 0.5)\",\"type\":\"scatter\",\"x\":[0,1],\"y\":[0,1]}],                        {\"template\":{\"data\":{\"bar\":[{\"error_x\":{\"color\":\"#2a3f5f\"},\"error_y\":{\"color\":\"#2a3f5f\"},\"marker\":{\"line\":{\"color\":\"#E5ECF6\",\"width\":0.5},\"pattern\":{\"fillmode\":\"overlay\",\"size\":10,\"solidity\":0.2}},\"type\":\"bar\"}],\"barpolar\":[{\"marker\":{\"line\":{\"color\":\"#E5ECF6\",\"width\":0.5},\"pattern\":{\"fillmode\":\"overlay\",\"size\":10,\"solidity\":0.2}},\"type\":\"barpolar\"}],\"carpet\":[{\"aaxis\":{\"endlinecolor\":\"#2a3f5f\",\"gridcolor\":\"white\",\"linecolor\":\"white\",\"minorgridcolor\":\"white\",\"startlinecolor\":\"#2a3f5f\"},\"baxis\":{\"endlinecolor\":\"#2a3f5f\",\"gridcolor\":\"white\",\"linecolor\":\"white\",\"minorgridcolor\":\"white\",\"startlinecolor\":\"#2a3f5f\"},\"type\":\"carpet\"}],\"choropleth\":[{\"colorbar\":{\"outlinewidth\":0,\"ticks\":\"\"},\"type\":\"choropleth\"}],\"contour\":[{\"colorbar\":{\"outlinewidth\":0,\"ticks\":\"\"},\"colorscale\":[[0.0,\"#0d0887\"],[0.1111111111111111,\"#46039f\"],[0.2222222222222222,\"#7201a8\"],[0.3333333333333333,\"#9c179e\"],[0.4444444444444444,\"#bd3786\"],[0.5555555555555556,\"#d8576b\"],[0.6666666666666666,\"#ed7953\"],[0.7777777777777778,\"#fb9f3a\"],[0.8888888888888888,\"#fdca26\"],[1.0,\"#f0f921\"]],\"type\":\"contour\"}],\"contourcarpet\":[{\"colorbar\":{\"outlinewidth\":0,\"ticks\":\"\"},\"type\":\"contourcarpet\"}],\"heatmap\":[{\"colorbar\":{\"outlinewidth\":0,\"ticks\":\"\"},\"colorscale\":[[0.0,\"#0d0887\"],[0.1111111111111111,\"#46039f\"],[0.2222222222222222,\"#7201a8\"],[0.3333333333333333,\"#9c179e\"],[0.4444444444444444,\"#bd3786\"],[0.5555555555555556,\"#d8576b\"],[0.6666666666666666,\"#ed7953\"],[0.7777777777777778,\"#fb9f3a\"],[0.8888888888888888,\"#fdca26\"],[1.0,\"#f0f921\"]],\"type\":\"heatmap\"}],\"heatmapgl\":[{\"colorbar\":{\"outlinewidth\":0,\"ticks\":\"\"},\"colorscale\":[[0.0,\"#0d0887\"],[0.1111111111111111,\"#46039f\"],[0.2222222222222222,\"#7201a8\"],[0.3333333333333333,\"#9c179e\"],[0.4444444444444444,\"#bd3786\"],[0.5555555555555556,\"#d8576b\"],[0.6666666666666666,\"#ed7953\"],[0.7777777777777778,\"#fb9f3a\"],[0.8888888888888888,\"#fdca26\"],[1.0,\"#f0f921\"]],\"type\":\"heatmapgl\"}],\"histogram\":[{\"marker\":{\"pattern\":{\"fillmode\":\"overlay\",\"size\":10,\"solidity\":0.2}},\"type\":\"histogram\"}],\"histogram2d\":[{\"colorbar\":{\"outlinewidth\":0,\"ticks\":\"\"},\"colorscale\":[[0.0,\"#0d0887\"],[0.1111111111111111,\"#46039f\"],[0.2222222222222222,\"#7201a8\"],[0.3333333333333333,\"#9c179e\"],[0.4444444444444444,\"#bd3786\"],[0.5555555555555556,\"#d8576b\"],[0.6666666666666666,\"#ed7953\"],[0.7777777777777778,\"#fb9f3a\"],[0.8888888888888888,\"#fdca26\"],[1.0,\"#f0f921\"]],\"type\":\"histogram2d\"}],\"histogram2dcontour\":[{\"colorbar\":{\"outlinewidth\":0,\"ticks\":\"\"},\"colorscale\":[[0.0,\"#0d0887\"],[0.1111111111111111,\"#46039f\"],[0.2222222222222222,\"#7201a8\"],[0.3333333333333333,\"#9c179e\"],[0.4444444444444444,\"#bd3786\"],[0.5555555555555556,\"#d8576b\"],[0.6666666666666666,\"#ed7953\"],[0.7777777777777778,\"#fb9f3a\"],[0.8888888888888888,\"#fdca26\"],[1.0,\"#f0f921\"]],\"type\":\"histogram2dcontour\"}],\"mesh3d\":[{\"colorbar\":{\"outlinewidth\":0,\"ticks\":\"\"},\"type\":\"mesh3d\"}],\"parcoords\":[{\"line\":{\"colorbar\":{\"outlinewidth\":0,\"ticks\":\"\"}},\"type\":\"parcoords\"}],\"pie\":[{\"automargin\":true,\"type\":\"pie\"}],\"scatter\":[{\"marker\":{\"colorbar\":{\"outlinewidth\":0,\"ticks\":\"\"}},\"type\":\"scatter\"}],\"scatter3d\":[{\"line\":{\"colorbar\":{\"outlinewidth\":0,\"ticks\":\"\"}},\"marker\":{\"colorbar\":{\"outlinewidth\":0,\"ticks\":\"\"}},\"type\":\"scatter3d\"}],\"scattercarpet\":[{\"marker\":{\"colorbar\":{\"outlinewidth\":0,\"ticks\":\"\"}},\"type\":\"scattercarpet\"}],\"scattergeo\":[{\"marker\":{\"colorbar\":{\"outlinewidth\":0,\"ticks\":\"\"}},\"type\":\"scattergeo\"}],\"scattergl\":[{\"marker\":{\"colorbar\":{\"outlinewidth\":0,\"ticks\":\"\"}},\"type\":\"scattergl\"}],\"scattermapbox\":[{\"marker\":{\"colorbar\":{\"outlinewidth\":0,\"ticks\":\"\"}},\"type\":\"scattermapbox\"}],\"scatterpolar\":[{\"marker\":{\"colorbar\":{\"outlinewidth\":0,\"ticks\":\"\"}},\"type\":\"scatterpolar\"}],\"scatterpolargl\":[{\"marker\":{\"colorbar\":{\"outlinewidth\":0,\"ticks\":\"\"}},\"type\":\"scatterpolargl\"}],\"scatterternary\":[{\"marker\":{\"colorbar\":{\"outlinewidth\":0,\"ticks\":\"\"}},\"type\":\"scatterternary\"}],\"surface\":[{\"colorbar\":{\"outlinewidth\":0,\"ticks\":\"\"},\"colorscale\":[[0.0,\"#0d0887\"],[0.1111111111111111,\"#46039f\"],[0.2222222222222222,\"#7201a8\"],[0.3333333333333333,\"#9c179e\"],[0.4444444444444444,\"#bd3786\"],[0.5555555555555556,\"#d8576b\"],[0.6666666666666666,\"#ed7953\"],[0.7777777777777778,\"#fb9f3a\"],[0.8888888888888888,\"#fdca26\"],[1.0,\"#f0f921\"]],\"type\":\"surface\"}],\"table\":[{\"cells\":{\"fill\":{\"color\":\"#EBF0F8\"},\"line\":{\"color\":\"white\"}},\"header\":{\"fill\":{\"color\":\"#C8D4E3\"},\"line\":{\"color\":\"white\"}},\"type\":\"table\"}]},\"layout\":{\"annotationdefaults\":{\"arrowcolor\":\"#2a3f5f\",\"arrowhead\":0,\"arrowwidth\":1},\"autotypenumbers\":\"strict\",\"coloraxis\":{\"colorbar\":{\"outlinewidth\":0,\"ticks\":\"\"}},\"colorscale\":{\"diverging\":[[0,\"#8e0152\"],[0.1,\"#c51b7d\"],[0.2,\"#de77ae\"],[0.3,\"#f1b6da\"],[0.4,\"#fde0ef\"],[0.5,\"#f7f7f7\"],[0.6,\"#e6f5d0\"],[0.7,\"#b8e186\"],[0.8,\"#7fbc41\"],[0.9,\"#4d9221\"],[1,\"#276419\"]],\"sequential\":[[0.0,\"#0d0887\"],[0.1111111111111111,\"#46039f\"],[0.2222222222222222,\"#7201a8\"],[0.3333333333333333,\"#9c179e\"],[0.4444444444444444,\"#bd3786\"],[0.5555555555555556,\"#d8576b\"],[0.6666666666666666,\"#ed7953\"],[0.7777777777777778,\"#fb9f3a\"],[0.8888888888888888,\"#fdca26\"],[1.0,\"#f0f921\"]],\"sequentialminus\":[[0.0,\"#0d0887\"],[0.1111111111111111,\"#46039f\"],[0.2222222222222222,\"#7201a8\"],[0.3333333333333333,\"#9c179e\"],[0.4444444444444444,\"#bd3786\"],[0.5555555555555556,\"#d8576b\"],[0.6666666666666666,\"#ed7953\"],[0.7777777777777778,\"#fb9f3a\"],[0.8888888888888888,\"#fdca26\"],[1.0,\"#f0f921\"]]},\"colorway\":[\"#636efa\",\"#EF553B\",\"#00cc96\",\"#ab63fa\",\"#FFA15A\",\"#19d3f3\",\"#FF6692\",\"#B6E880\",\"#FF97FF\",\"#FECB52\"],\"font\":{\"color\":\"#2a3f5f\"},\"geo\":{\"bgcolor\":\"white\",\"lakecolor\":\"white\",\"landcolor\":\"#E5ECF6\",\"showlakes\":true,\"showland\":true,\"subunitcolor\":\"white\"},\"hoverlabel\":{\"align\":\"left\"},\"hovermode\":\"closest\",\"mapbox\":{\"style\":\"light\"},\"paper_bgcolor\":\"white\",\"plot_bgcolor\":\"#E5ECF6\",\"polar\":{\"angularaxis\":{\"gridcolor\":\"white\",\"linecolor\":\"white\",\"ticks\":\"\"},\"bgcolor\":\"#E5ECF6\",\"radialaxis\":{\"gridcolor\":\"white\",\"linecolor\":\"white\",\"ticks\":\"\"}},\"scene\":{\"xaxis\":{\"backgroundcolor\":\"#E5ECF6\",\"gridcolor\":\"white\",\"gridwidth\":2,\"linecolor\":\"white\",\"showbackground\":true,\"ticks\":\"\",\"zerolinecolor\":\"white\"},\"yaxis\":{\"backgroundcolor\":\"#E5ECF6\",\"gridcolor\":\"white\",\"gridwidth\":2,\"linecolor\":\"white\",\"showbackground\":true,\"ticks\":\"\",\"zerolinecolor\":\"white\"},\"zaxis\":{\"backgroundcolor\":\"#E5ECF6\",\"gridcolor\":\"white\",\"gridwidth\":2,\"linecolor\":\"white\",\"showbackground\":true,\"ticks\":\"\",\"zerolinecolor\":\"white\"}},\"shapedefaults\":{\"line\":{\"color\":\"#2a3f5f\"}},\"ternary\":{\"aaxis\":{\"gridcolor\":\"white\",\"linecolor\":\"white\",\"ticks\":\"\"},\"baxis\":{\"gridcolor\":\"white\",\"linecolor\":\"white\",\"ticks\":\"\"},\"bgcolor\":\"#E5ECF6\",\"caxis\":{\"gridcolor\":\"white\",\"linecolor\":\"white\",\"ticks\":\"\"}},\"title\":{\"x\":0.05},\"xaxis\":{\"automargin\":true,\"gridcolor\":\"white\",\"linecolor\":\"white\",\"ticks\":\"\",\"title\":{\"standoff\":15},\"zerolinecolor\":\"white\",\"zerolinewidth\":2},\"yaxis\":{\"automargin\":true,\"gridcolor\":\"white\",\"linecolor\":\"white\",\"ticks\":\"\",\"title\":{\"standoff\":15},\"zerolinecolor\":\"white\",\"zerolinewidth\":2}}},\"title\":{\"text\":\"Receiver Operating Characteristic\"},\"xaxis\":{\"range\":[-0.05,1.05],\"title\":{\"text\":\"False Positive Rate\"}},\"yaxis\":{\"range\":[-0.05,1.05],\"title\":{\"text\":\"True Positive Rate\"}}},                        {\"responsive\": true}                    ).then(function(){\n",
              "                            \n",
              "var gd = document.getElementById('4bd57932-6519-4774-ba51-a3f3d63f7756');\n",
              "var x = new MutationObserver(function (mutations, observer) {{\n",
              "        var display = window.getComputedStyle(gd).display;\n",
              "        if (!display || display === 'none') {{\n",
              "            console.log([gd, 'removed!']);\n",
              "            Plotly.purge(gd);\n",
              "            observer.disconnect();\n",
              "        }}\n",
              "}});\n",
              "\n",
              "// Listen for the removal of the full notebook cells\n",
              "var notebookContainer = gd.closest('#notebook-container');\n",
              "if (notebookContainer) {{\n",
              "    x.observe(notebookContainer, {childList: true});\n",
              "}}\n",
              "\n",
              "// Listen for the clearing of the current output cell\n",
              "var outputEl = gd.closest('.output');\n",
              "if (outputEl) {{\n",
              "    x.observe(outputEl, {childList: true});\n",
              "}}\n",
              "\n",
              "                        })                };                            </script>        </div>\n",
              "</body>\n",
              "</html>"
            ]
          },
          "metadata": {
            "tags": []
          }
        }
      ]
    },
    {
      "cell_type": "markdown",
      "metadata": {
        "id": "w96M5Se23dvE"
      },
      "source": [
        "#### TO BE DONE"
      ]
    },
    {
      "cell_type": "code",
      "metadata": {
        "id": "CUam0_1a0V_s"
      },
      "source": [
        "from evalml.model_understanding.graphs import graph_partial_dependence"
      ],
      "execution_count": 125,
      "outputs": []
    },
    {
      "cell_type": "code",
      "metadata": {
        "id": "iBJ1IAJP1I10"
      },
      "source": [
        "help(graph_partial_dependence)"
      ],
      "execution_count": null,
      "outputs": []
    },
    {
      "cell_type": "code",
      "metadata": {
        "id": "DO-1ARpe0Q3N"
      },
      "source": [
        "graph_partial_dependence(best_pipeline,X_train,features =('job'))\n"
      ],
      "execution_count": null,
      "outputs": []
    },
    {
      "cell_type": "markdown",
      "metadata": {
        "id": "seYlPUmvoAkQ"
      },
      "source": [
        "## Other projects using EvalML\n"
      ]
    },
    {
      "cell_type": "markdown",
      "metadata": {
        "id": "sIzvyzrvoFFB"
      },
      "source": [
        "> 1. Automated Text Classification with EvalML. [Predict spam messages](https://www.kdnuggets.com/2021/04/automated-text-classification-evalml.html) abd also see [here](https://evalml.alteryx.com/en/stable/demos/text_input.html)\n",
        "> 2. BigMart dataset: [Predict Sales](https://www.vebuso.com/2021/05/exploring-evalml-automatically-build-optimize-and-evaluate-models/)"
      ]
    },
    {
      "cell_type": "markdown",
      "metadata": {
        "id": "RkkfGeVy6VLj"
      },
      "source": [
        "## autosklearn\n",
        "Cannot handle NaN's in categorical features"
      ]
    },
    {
      "cell_type": "code",
      "metadata": {
        "id": "XRXVEyHI4-TD"
      },
      "source": [
        "!pip install auto-sklearn"
      ],
      "execution_count": null,
      "outputs": []
    },
    {
      "cell_type": "code",
      "metadata": {
        "id": "rm4NPTHK5GOk"
      },
      "source": [
        "import autosklearn.classification"
      ],
      "execution_count": 160,
      "outputs": []
    },
    {
      "cell_type": "code",
      "metadata": {
        "id": "BMcRWGnX5UoW"
      },
      "source": [
        "cls = autosklearn.classification.AutoSklearnClassifier()"
      ],
      "execution_count": 161,
      "outputs": []
    },
    {
      "cell_type": "code",
      "metadata": {
        "id": "0iZizS0p5atU"
      },
      "source": [
        "cls.fit(X_train,y_train)"
      ],
      "execution_count": null,
      "outputs": []
    },
    {
      "cell_type": "code",
      "metadata": {
        "id": "Hiht8u8l6GM-"
      },
      "source": [
        "automl = autosklearn.classification.AutoSklearnClassifier()\n",
        "automl.fit(X_train, y_train)"
      ],
      "execution_count": null,
      "outputs": []
    },
    {
      "cell_type": "code",
      "metadata": {
        "id": "FYHbxbF4M8mZ"
      },
      "source": [
        "########## I am done ##############"
      ],
      "execution_count": null,
      "outputs": []
    }
  ]
}