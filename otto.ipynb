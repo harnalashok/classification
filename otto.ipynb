{
  "nbformat": 4,
  "nbformat_minor": 0,
  "metadata": {
    "colab": {
      "name": "otto.ipynb",
      "provenance": [],
      "collapsed_sections": [
        "BH3iZiFbDm9p",
        "zYAv6SSLDr_o",
        "QLZY6IItvZh-"
      ],
      "authorship_tag": "ABX9TyOl6uy265K3q7SWzD/Eqn5L",
      "include_colab_link": true
    },
    "kernelspec": {
      "name": "python3",
      "display_name": "Python 3"
    },
    "language_info": {
      "name": "python"
    }
  },
  "cells": [
    {
      "cell_type": "markdown",
      "metadata": {
        "id": "view-in-github",
        "colab_type": "text"
      },
      "source": [
        "<a href=\"https://colab.research.google.com/github/harnalashok/classification/blob/main/otto.ipynb\" target=\"_parent\"><img src=\"https://colab.research.google.com/assets/colab-badge.svg\" alt=\"Open In Colab\"/></a>"
      ]
    },
    {
      "cell_type": "code",
      "metadata": {
        "id": "CoLPHvaX3dBs"
      },
      "source": [
        "\"\"\"\n",
        "Last amended: 05th August, 2020\n",
        "Myfolder: C:\\\\Users\\\\ashok\\\\OneDrive\\\\Documents\\\\xgboost\\\\otto\n",
        "          /home/ashok/Documents/8.otto\n",
        "\n",
        "Ref:\n",
        "https://www.kaggle.com/alexpengxiao/preprocessing-model-averaging-by-xgb-lgb-1-39\n",
        "\n",
        "Objectives:\n",
        "        i)   Using pandas and sklearn for modeling\n",
        "        ii)  Feature engineering\n",
        "                  a) Using statistical measures\n",
        "                  c) Using binning/clustering\n",
        "                  d) Using interaction variables\n",
        "       iii)  Feature selection\n",
        "                  a) Using derived feature importance from modeling\n",
        "                  b) Using sklearn FeatureSelection Classes\n",
        "        iv)  One hot encoding of categorical variables\n",
        "         v)  Classifciation using RandomForest and stacked ensemble\n",
        "\n",
        "\n",
        "# IMPT NOTE:\n",
        "# See also:\n",
        "#   https://github.com/ModelOriented/DALEX\n",
        "\n",
        "Go through 'toy.py' first\n",
        "\n",
        "\"\"\" "
      ],
      "execution_count": null,
      "outputs": []
    },
    {
      "cell_type": "code",
      "metadata": {
        "id": "oZRJpqIf3fu0"
      },
      "source": [
        "# 1.0 Clear memory\n",
        "#%reset -f\n",
        "\n",
        "## A. Data manipulation\n",
        "\n",
        "# 1.1 Call data manipulation libraries\n",
        "import pandas as pd\n",
        "import numpy as np\n",
        "\n",
        "\n",
        "## B. Feature creation/manipulation\n",
        "\n",
        "# 1.2 Feature creation Classes\n",
        "from sklearn.preprocessing import PolynomialFeatures   # Interaction features\n",
        "from sklearn.preprocessing import KBinsDiscretizer\n",
        "# 1.2.1 BoxCox transformation\n",
        "from sklearn.preprocessing import PowerTransformer     # BoxCox transformation\n",
        "#from sklearn.preprocessing import KBinsDiscretizer    # Discretise continuous \n",
        "                                                       #   variable into K-bins\n",
        "\n",
        "## C. Feature selection:\n",
        "\n",
        "# 1.3 For feature selection\n",
        "# Ref: http://scikit-learn.org/stable/modules/classes.html#module-sklearn.feature_selection\n",
        "from sklearn.feature_selection import SelectKBest\n",
        "from sklearn.feature_selection import  VarianceThreshold   # Remove constant-value columns\n",
        "\n",
        "## D. Data preprocessing\n",
        "\n",
        "# 1.4.1 Scaling data in various manner\n",
        "from sklearn.preprocessing import RobustScaler\n",
        "from sklearn.preprocessing import StandardScaler\n",
        "\n",
        "# 1.4.2 For encoding target class values\n",
        "from sklearn.preprocessing import LabelEncoder\n",
        "\n",
        "# 1.5 Splitting data\n",
        "from sklearn.model_selection import train_test_split                # Returns split data\n",
        "# 1.5.1\n",
        "from sklearn.model_selection import StratifiedShuffleSplit          # Returns data indicies\n",
        "\n",
        "## E. Pipelining\n",
        "\n",
        "# 1.6 Pipelines\n",
        "from sklearn.pipeline import make_pipeline\n",
        "from sklearn.compose import ColumnTransformer\n",
        "\n",
        "## F: Estimators:\n",
        "\n",
        "# 1.7 Modeling\n",
        "# 1.7.1\n",
        "from sklearn.utils.class_weight import compute_class_weight\n",
        "# 1.7.2\n",
        "from sklearn.ensemble import RandomForestClassifier as rf\n",
        "from sklearn.ensemble import ExtraTreesClassifier\n",
        "from sklearn.linear_model import LogisticRegression\n",
        "from sklearn.ensemble import VotingClassifier\n",
        "\n",
        "# 1.8 Performance metrics\n",
        "from sklearn.metrics import  confusion_matrix,log_loss\n",
        "\n",
        "\n",
        "## G: Others\n",
        "# 1.9 Misc/visualization\n",
        "import os, time, gc\n",
        "import matplotlib.pyplot as plt\n",
        "import seaborn as sns"
      ],
      "execution_count": 316,
      "outputs": []
    },
    {
      "cell_type": "code",
      "metadata": {
        "id": "iGK51TlO5Lnc"
      },
      "source": [
        "# 1.11 Display multiple commands output from a cell\n",
        "from IPython.core.interactiveshell import InteractiveShell\n",
        "InteractiveShell.ast_node_interactivity = \"all\""
      ],
      "execution_count": 250,
      "outputs": []
    },
    {
      "cell_type": "markdown",
      "metadata": {
        "id": "BH3iZiFbDm9p"
      },
      "source": [
        "### Read data & reduce Memory"
      ]
    },
    {
      "cell_type": "code",
      "metadata": {
        "id": "9hsC-1Gb3j7o"
      },
      "source": [
        "# 2.0 Set datafile path\n",
        "path = \"/content/\"\n",
        "os.chdir(path)"
      ],
      "execution_count": 251,
      "outputs": []
    },
    {
      "cell_type": "code",
      "metadata": {
        "id": "2pGWb3iY49fL"
      },
      "source": [
        "# 2.1 Read train file\n",
        "train = pd.read_csv(\"train.csv.zip\")"
      ],
      "execution_count": 252,
      "outputs": []
    },
    {
      "cell_type": "code",
      "metadata": {
        "colab": {
          "base_uri": "https://localhost:8080/",
          "height": 254
        },
        "id": "NothILij5FLk",
        "outputId": "16aaa05a-3667-4d11-c369-27c613f750a7"
      },
      "source": [
        "# 2.2 Look at data\n",
        "train.shape                        # 61878 X 95\n",
        "print()\n",
        "train.head(2)\n",
        "print()\n",
        "train.dtypes.value_counts()        # All features are integers except target"
      ],
      "execution_count": 253,
      "outputs": [
        {
          "output_type": "execute_result",
          "data": {
            "text/plain": [
              "(61878, 95)"
            ]
          },
          "metadata": {
            "tags": []
          },
          "execution_count": 253
        },
        {
          "output_type": "stream",
          "text": [
            "\n"
          ],
          "name": "stdout"
        },
        {
          "output_type": "execute_result",
          "data": {
            "text/html": [
              "<div>\n",
              "<style scoped>\n",
              "    .dataframe tbody tr th:only-of-type {\n",
              "        vertical-align: middle;\n",
              "    }\n",
              "\n",
              "    .dataframe tbody tr th {\n",
              "        vertical-align: top;\n",
              "    }\n",
              "\n",
              "    .dataframe thead th {\n",
              "        text-align: right;\n",
              "    }\n",
              "</style>\n",
              "<table border=\"1\" class=\"dataframe\">\n",
              "  <thead>\n",
              "    <tr style=\"text-align: right;\">\n",
              "      <th></th>\n",
              "      <th>id</th>\n",
              "      <th>feat_1</th>\n",
              "      <th>feat_2</th>\n",
              "      <th>feat_3</th>\n",
              "      <th>feat_4</th>\n",
              "      <th>feat_5</th>\n",
              "      <th>feat_6</th>\n",
              "      <th>feat_7</th>\n",
              "      <th>feat_8</th>\n",
              "      <th>feat_9</th>\n",
              "      <th>feat_10</th>\n",
              "      <th>feat_11</th>\n",
              "      <th>feat_12</th>\n",
              "      <th>feat_13</th>\n",
              "      <th>feat_14</th>\n",
              "      <th>feat_15</th>\n",
              "      <th>feat_16</th>\n",
              "      <th>feat_17</th>\n",
              "      <th>feat_18</th>\n",
              "      <th>feat_19</th>\n",
              "      <th>feat_20</th>\n",
              "      <th>feat_21</th>\n",
              "      <th>feat_22</th>\n",
              "      <th>feat_23</th>\n",
              "      <th>feat_24</th>\n",
              "      <th>feat_25</th>\n",
              "      <th>feat_26</th>\n",
              "      <th>feat_27</th>\n",
              "      <th>feat_28</th>\n",
              "      <th>feat_29</th>\n",
              "      <th>feat_30</th>\n",
              "      <th>feat_31</th>\n",
              "      <th>feat_32</th>\n",
              "      <th>feat_33</th>\n",
              "      <th>feat_34</th>\n",
              "      <th>feat_35</th>\n",
              "      <th>feat_36</th>\n",
              "      <th>feat_37</th>\n",
              "      <th>feat_38</th>\n",
              "      <th>feat_39</th>\n",
              "      <th>...</th>\n",
              "      <th>feat_55</th>\n",
              "      <th>feat_56</th>\n",
              "      <th>feat_57</th>\n",
              "      <th>feat_58</th>\n",
              "      <th>feat_59</th>\n",
              "      <th>feat_60</th>\n",
              "      <th>feat_61</th>\n",
              "      <th>feat_62</th>\n",
              "      <th>feat_63</th>\n",
              "      <th>feat_64</th>\n",
              "      <th>feat_65</th>\n",
              "      <th>feat_66</th>\n",
              "      <th>feat_67</th>\n",
              "      <th>feat_68</th>\n",
              "      <th>feat_69</th>\n",
              "      <th>feat_70</th>\n",
              "      <th>feat_71</th>\n",
              "      <th>feat_72</th>\n",
              "      <th>feat_73</th>\n",
              "      <th>feat_74</th>\n",
              "      <th>feat_75</th>\n",
              "      <th>feat_76</th>\n",
              "      <th>feat_77</th>\n",
              "      <th>feat_78</th>\n",
              "      <th>feat_79</th>\n",
              "      <th>feat_80</th>\n",
              "      <th>feat_81</th>\n",
              "      <th>feat_82</th>\n",
              "      <th>feat_83</th>\n",
              "      <th>feat_84</th>\n",
              "      <th>feat_85</th>\n",
              "      <th>feat_86</th>\n",
              "      <th>feat_87</th>\n",
              "      <th>feat_88</th>\n",
              "      <th>feat_89</th>\n",
              "      <th>feat_90</th>\n",
              "      <th>feat_91</th>\n",
              "      <th>feat_92</th>\n",
              "      <th>feat_93</th>\n",
              "      <th>target</th>\n",
              "    </tr>\n",
              "  </thead>\n",
              "  <tbody>\n",
              "    <tr>\n",
              "      <th>0</th>\n",
              "      <td>1</td>\n",
              "      <td>1</td>\n",
              "      <td>0</td>\n",
              "      <td>0</td>\n",
              "      <td>0</td>\n",
              "      <td>0</td>\n",
              "      <td>0</td>\n",
              "      <td>0</td>\n",
              "      <td>0</td>\n",
              "      <td>0</td>\n",
              "      <td>0</td>\n",
              "      <td>1</td>\n",
              "      <td>0</td>\n",
              "      <td>0</td>\n",
              "      <td>0</td>\n",
              "      <td>0</td>\n",
              "      <td>0</td>\n",
              "      <td>2</td>\n",
              "      <td>0</td>\n",
              "      <td>0</td>\n",
              "      <td>0</td>\n",
              "      <td>0</td>\n",
              "      <td>1</td>\n",
              "      <td>0</td>\n",
              "      <td>4</td>\n",
              "      <td>1</td>\n",
              "      <td>1</td>\n",
              "      <td>0</td>\n",
              "      <td>0</td>\n",
              "      <td>2</td>\n",
              "      <td>0</td>\n",
              "      <td>0</td>\n",
              "      <td>0</td>\n",
              "      <td>0</td>\n",
              "      <td>0</td>\n",
              "      <td>1</td>\n",
              "      <td>0</td>\n",
              "      <td>0</td>\n",
              "      <td>0</td>\n",
              "      <td>0</td>\n",
              "      <td>...</td>\n",
              "      <td>0</td>\n",
              "      <td>0</td>\n",
              "      <td>2</td>\n",
              "      <td>0</td>\n",
              "      <td>0</td>\n",
              "      <td>11</td>\n",
              "      <td>0</td>\n",
              "      <td>1</td>\n",
              "      <td>1</td>\n",
              "      <td>0</td>\n",
              "      <td>1</td>\n",
              "      <td>0</td>\n",
              "      <td>7</td>\n",
              "      <td>0</td>\n",
              "      <td>0</td>\n",
              "      <td>0</td>\n",
              "      <td>1</td>\n",
              "      <td>0</td>\n",
              "      <td>0</td>\n",
              "      <td>0</td>\n",
              "      <td>0</td>\n",
              "      <td>0</td>\n",
              "      <td>0</td>\n",
              "      <td>0</td>\n",
              "      <td>2</td>\n",
              "      <td>1</td>\n",
              "      <td>0</td>\n",
              "      <td>0</td>\n",
              "      <td>0</td>\n",
              "      <td>0</td>\n",
              "      <td>1</td>\n",
              "      <td>0</td>\n",
              "      <td>0</td>\n",
              "      <td>0</td>\n",
              "      <td>0</td>\n",
              "      <td>0</td>\n",
              "      <td>0</td>\n",
              "      <td>0</td>\n",
              "      <td>0</td>\n",
              "      <td>Class_1</td>\n",
              "    </tr>\n",
              "    <tr>\n",
              "      <th>1</th>\n",
              "      <td>2</td>\n",
              "      <td>0</td>\n",
              "      <td>0</td>\n",
              "      <td>0</td>\n",
              "      <td>0</td>\n",
              "      <td>0</td>\n",
              "      <td>0</td>\n",
              "      <td>0</td>\n",
              "      <td>1</td>\n",
              "      <td>0</td>\n",
              "      <td>0</td>\n",
              "      <td>0</td>\n",
              "      <td>0</td>\n",
              "      <td>0</td>\n",
              "      <td>0</td>\n",
              "      <td>0</td>\n",
              "      <td>0</td>\n",
              "      <td>0</td>\n",
              "      <td>2</td>\n",
              "      <td>0</td>\n",
              "      <td>0</td>\n",
              "      <td>0</td>\n",
              "      <td>0</td>\n",
              "      <td>0</td>\n",
              "      <td>0</td>\n",
              "      <td>0</td>\n",
              "      <td>0</td>\n",
              "      <td>0</td>\n",
              "      <td>0</td>\n",
              "      <td>0</td>\n",
              "      <td>0</td>\n",
              "      <td>0</td>\n",
              "      <td>0</td>\n",
              "      <td>0</td>\n",
              "      <td>0</td>\n",
              "      <td>0</td>\n",
              "      <td>0</td>\n",
              "      <td>1</td>\n",
              "      <td>0</td>\n",
              "      <td>0</td>\n",
              "      <td>...</td>\n",
              "      <td>0</td>\n",
              "      <td>0</td>\n",
              "      <td>0</td>\n",
              "      <td>1</td>\n",
              "      <td>0</td>\n",
              "      <td>0</td>\n",
              "      <td>0</td>\n",
              "      <td>0</td>\n",
              "      <td>0</td>\n",
              "      <td>1</td>\n",
              "      <td>0</td>\n",
              "      <td>0</td>\n",
              "      <td>1</td>\n",
              "      <td>0</td>\n",
              "      <td>0</td>\n",
              "      <td>0</td>\n",
              "      <td>0</td>\n",
              "      <td>0</td>\n",
              "      <td>2</td>\n",
              "      <td>1</td>\n",
              "      <td>0</td>\n",
              "      <td>1</td>\n",
              "      <td>0</td>\n",
              "      <td>1</td>\n",
              "      <td>0</td>\n",
              "      <td>0</td>\n",
              "      <td>0</td>\n",
              "      <td>0</td>\n",
              "      <td>0</td>\n",
              "      <td>0</td>\n",
              "      <td>0</td>\n",
              "      <td>0</td>\n",
              "      <td>0</td>\n",
              "      <td>0</td>\n",
              "      <td>0</td>\n",
              "      <td>0</td>\n",
              "      <td>0</td>\n",
              "      <td>0</td>\n",
              "      <td>0</td>\n",
              "      <td>Class_1</td>\n",
              "    </tr>\n",
              "  </tbody>\n",
              "</table>\n",
              "<p>2 rows × 95 columns</p>\n",
              "</div>"
            ],
            "text/plain": [
              "   id  feat_1  feat_2  feat_3  ...  feat_91  feat_92  feat_93   target\n",
              "0   1       1       0       0  ...        0        0        0  Class_1\n",
              "1   2       0       0       0  ...        0        0        0  Class_1\n",
              "\n",
              "[2 rows x 95 columns]"
            ]
          },
          "metadata": {
            "tags": []
          },
          "execution_count": 253
        },
        {
          "output_type": "stream",
          "text": [
            "\n"
          ],
          "name": "stdout"
        },
        {
          "output_type": "execute_result",
          "data": {
            "text/plain": [
              "int64     94\n",
              "object     1\n",
              "dtype: int64"
            ]
          },
          "metadata": {
            "tags": []
          },
          "execution_count": 253
        }
      ]
    },
    {
      "cell_type": "code",
      "metadata": {
        "colab": {
          "base_uri": "https://localhost:8080/"
        },
        "id": "1OIDN9r95EBq",
        "outputId": "88402bee-53a9-4d06-f4bd-3d05408dd92d"
      },
      "source": [
        "# 2.3 Target classes--absolute vs normalized\n",
        "train.target.value_counts()\n",
        "print(\"\\n\\n--normalized--\\n\")\n",
        "train.target.value_counts(normalize=True)"
      ],
      "execution_count": 254,
      "outputs": [
        {
          "output_type": "execute_result",
          "data": {
            "text/plain": [
              "Class_2    16122\n",
              "Class_6    14135\n",
              "Class_8     8464\n",
              "Class_3     8004\n",
              "Class_9     4955\n",
              "Class_7     2839\n",
              "Class_5     2739\n",
              "Class_4     2691\n",
              "Class_1     1929\n",
              "Name: target, dtype: int64"
            ]
          },
          "metadata": {
            "tags": []
          },
          "execution_count": 254
        },
        {
          "output_type": "stream",
          "text": [
            "\n",
            "\n",
            "--normalized--\n",
            "\n"
          ],
          "name": "stdout"
        },
        {
          "output_type": "execute_result",
          "data": {
            "text/plain": [
              "Class_2    0.260545\n",
              "Class_6    0.228433\n",
              "Class_8    0.136785\n",
              "Class_3    0.129351\n",
              "Class_9    0.080077\n",
              "Class_7    0.045881\n",
              "Class_5    0.044265\n",
              "Class_4    0.043489\n",
              "Class_1    0.031174\n",
              "Name: target, dtype: float64"
            ]
          },
          "metadata": {
            "tags": []
          },
          "execution_count": 254
        }
      ]
    },
    {
      "cell_type": "code",
      "metadata": {
        "colab": {
          "base_uri": "https://localhost:8080/"
        },
        "id": "70yUMNXV5hQU",
        "outputId": "65e832c7-b55e-425f-b8ef-df90411308eb"
      },
      "source": [
        "# 2.4  Check if there are Missing/duplicate values? None\n",
        "train.isnull().sum()            # None\n",
        "train.isnull().sum().sum()      # None\n",
        "train.duplicated().sum()        # None"
      ],
      "execution_count": 255,
      "outputs": [
        {
          "output_type": "execute_result",
          "data": {
            "text/plain": [
              "id         0\n",
              "feat_1     0\n",
              "feat_2     0\n",
              "feat_3     0\n",
              "feat_4     0\n",
              "          ..\n",
              "feat_90    0\n",
              "feat_91    0\n",
              "feat_92    0\n",
              "feat_93    0\n",
              "target     0\n",
              "Length: 95, dtype: int64"
            ]
          },
          "metadata": {
            "tags": []
          },
          "execution_count": 255
        },
        {
          "output_type": "execute_result",
          "data": {
            "text/plain": [
              "0"
            ]
          },
          "metadata": {
            "tags": []
          },
          "execution_count": 255
        },
        {
          "output_type": "execute_result",
          "data": {
            "text/plain": [
              "0"
            ]
          },
          "metadata": {
            "tags": []
          },
          "execution_count": 255
        }
      ]
    },
    {
      "cell_type": "code",
      "metadata": {
        "id": "jQOc7Zq9-D_i"
      },
      "source": [
        "# 2.5 Drop 'id' and save target column in another variable\n",
        "train.drop(columns = ['id'] , inplace = True)\n",
        "target = train.pop('target')   # Target"
      ],
      "execution_count": 256,
      "outputs": []
    },
    {
      "cell_type": "code",
      "metadata": {
        "colab": {
          "base_uri": "https://localhost:8080/"
        },
        "id": "ZOp0oRGK-HHM",
        "outputId": "67e4b502-20fc-4e38-e9f9-9a210ed23433"
      },
      "source": [
        "# 2.6 Memory usage\n",
        "print(\"--Current memory usage (MB) --\\n\")\n",
        "train.memory_usage().sum()/1000000  # 46.03736MB\n",
        "\n",
        "# 2.6.1\n",
        "print(\"\\n\\n--Max and min values---\\n\")\n",
        "train.max().max()               # 352\n",
        "print()\n",
        "train.min().min()               # 0\n",
        "\n",
        "# 2.6.2 Change dtype\n",
        "train = train.astype('uint16')\n",
        "\n",
        "# 2.6.3\n",
        "print(\"\\n\\n--Revised memory usage (MB) --\\n\")\n",
        "train.memory_usage().sum()/1000000  # 11.509436 MB"
      ],
      "execution_count": 257,
      "outputs": [
        {
          "output_type": "stream",
          "text": [
            "--Current memory usage (MB) --\n",
            "\n"
          ],
          "name": "stdout"
        },
        {
          "output_type": "execute_result",
          "data": {
            "text/plain": [
              "46.03736"
            ]
          },
          "metadata": {
            "tags": []
          },
          "execution_count": 257
        },
        {
          "output_type": "stream",
          "text": [
            "\n",
            "\n",
            "--Max and min values---\n",
            "\n"
          ],
          "name": "stdout"
        },
        {
          "output_type": "execute_result",
          "data": {
            "text/plain": [
              "352"
            ]
          },
          "metadata": {
            "tags": []
          },
          "execution_count": 257
        },
        {
          "output_type": "stream",
          "text": [
            "\n"
          ],
          "name": "stdout"
        },
        {
          "output_type": "execute_result",
          "data": {
            "text/plain": [
              "0"
            ]
          },
          "metadata": {
            "tags": []
          },
          "execution_count": 257
        },
        {
          "output_type": "stream",
          "text": [
            "\n",
            "\n",
            "--Revised memory usage (MB) --\n",
            "\n"
          ],
          "name": "stdout"
        },
        {
          "output_type": "execute_result",
          "data": {
            "text/plain": [
              "11.509436"
            ]
          },
          "metadata": {
            "tags": []
          },
          "execution_count": 257
        }
      ]
    },
    {
      "cell_type": "markdown",
      "metadata": {
        "id": "zYAv6SSLDr_o"
      },
      "source": [
        "### Process data"
      ]
    },
    {
      "cell_type": "code",
      "metadata": {
        "id": "EHtM43Px-7sE"
      },
      "source": [
        "# 3.1 We make one copy of data\n",
        "#     We will use this copy while generating certain\n",
        "#     statistical features\n",
        "#X_stat = train.copy()"
      ],
      "execution_count": null,
      "outputs": []
    },
    {
      "cell_type": "code",
      "metadata": {
        "id": "6y4Wb1i6AD9o"
      },
      "source": [
        "# 3.2 Check if a categorical variable\n",
        "#     exist. Any variable with levels\n",
        "#     less than 10 would be a categorical\n",
        "#     feature\n",
        "\n",
        "#dg = train.nunique() < 10\n",
        "print()\n",
        "#dg.sum()  # 1\n",
        "print()\n",
        "#np.where(dg)[0]  # 5 the index\n",
        "print()\n",
        "#dg[np.where(dg)[0]]"
      ],
      "execution_count": null,
      "outputs": []
    },
    {
      "cell_type": "code",
      "metadata": {
        "colab": {
          "base_uri": "https://localhost:8080/"
        },
        "id": "DNJeaClVALP5",
        "outputId": "a80721d1-a174-4165-f883-59dd74080e9d"
      },
      "source": [
        "#train['feat_6'].value_counts()"
      ],
      "execution_count": null,
      "outputs": [
        {
          "output_type": "execute_result",
          "data": {
            "text/plain": [
              "0     60710\n",
              "1       883\n",
              "2       201\n",
              "3        57\n",
              "5        14\n",
              "4        10\n",
              "10        1\n",
              "8         1\n",
              "6         1\n",
              "Name: feat_6, dtype: int64"
            ]
          },
          "metadata": {
            "tags": []
          },
          "execution_count": 14
        }
      ]
    },
    {
      "cell_type": "code",
      "metadata": {
        "colab": {
          "base_uri": "https://localhost:8080/"
        },
        "id": "mxttH34xBFan",
        "outputId": "5d7fd085-8679-4e3a-990e-1dda12f3393d"
      },
      "source": [
        "#train.loc[train['feat_6'].isin([10,8,4,6]), 'feat_6'] = 11\n",
        "#train['feat_6'].value_counts()"
      ],
      "execution_count": null,
      "outputs": [
        {
          "output_type": "execute_result",
          "data": {
            "text/plain": [
              "0     60710\n",
              "1       883\n",
              "2       201\n",
              "3        57\n",
              "5        14\n",
              "11       13\n",
              "Name: feat_6, dtype: int64"
            ]
          },
          "metadata": {
            "tags": []
          },
          "execution_count": 15
        }
      ]
    },
    {
      "cell_type": "code",
      "metadata": {
        "id": "P8JG1SmeA3Xs",
        "colab": {
          "base_uri": "https://localhost:8080/"
        },
        "outputId": "edc4a4f5-5246-4433-a7ee-662e3820a4c6"
      },
      "source": [
        "# 4.0 Encode classes\n",
        "le = LabelEncoder()           # Instantiate LabelEncoder\n",
        "y =le.fit_transform(target)   # Fit and transform 'y'\n",
        "y"
      ],
      "execution_count": 270,
      "outputs": [
        {
          "output_type": "execute_result",
          "data": {
            "text/plain": [
              "array([0, 0, 0, ..., 8, 8, 8])"
            ]
          },
          "metadata": {
            "tags": []
          },
          "execution_count": 270
        }
      ]
    },
    {
      "cell_type": "code",
      "metadata": {
        "colab": {
          "base_uri": "https://localhost:8080/"
        },
        "id": "_dB3uEXfz0ht",
        "outputId": "1e6d166e-4427-4a81-cc6c-7653992c1296"
      },
      "source": [
        "# How has transformation been done:\n",
        "le.classes_\n",
        "print(); print()\n",
        "dict(zip(le.classes_, le.transform(le.classes_)))"
      ],
      "execution_count": 259,
      "outputs": [
        {
          "output_type": "execute_result",
          "data": {
            "text/plain": [
              "array(['Class_1', 'Class_2', 'Class_3', 'Class_4', 'Class_5', 'Class_6',\n",
              "       'Class_7', 'Class_8', 'Class_9'], dtype=object)"
            ]
          },
          "metadata": {
            "tags": []
          },
          "execution_count": 259
        },
        {
          "output_type": "stream",
          "text": [
            "\n",
            "\n"
          ],
          "name": "stdout"
        },
        {
          "output_type": "execute_result",
          "data": {
            "text/plain": [
              "{'Class_1': 0,\n",
              " 'Class_2': 1,\n",
              " 'Class_3': 2,\n",
              " 'Class_4': 3,\n",
              " 'Class_5': 4,\n",
              " 'Class_6': 5,\n",
              " 'Class_7': 6,\n",
              " 'Class_8': 7,\n",
              " 'Class_9': 8}"
            ]
          },
          "metadata": {
            "tags": []
          },
          "execution_count": 259
        }
      ]
    },
    {
      "cell_type": "markdown",
      "metadata": {
        "id": "Hfzfx9rhxUyp"
      },
      "source": [
        "#### Compute class weights"
      ]
    },
    {
      "cell_type": "markdown",
      "metadata": {
        "id": "zbM09eNtwLlJ"
      },
      "source": [
        "If ‘balanced’, class weights will be given by `n_samples / (n_classes * np.bincount(y))`. For example if number of samples are 61878, n_classes are 9, and number of value_counts for class_1 are 1929, then weight will be: `(61878/9)/ 1929 = 3. 5641`. `np.bincount(y)` and `y.value_counts()` give same results. "
      ]
    },
    {
      "cell_type": "code",
      "metadata": {
        "colab": {
          "base_uri": "https://localhost:8080/"
        },
        "id": "bZvboaWwxS71",
        "outputId": "0bd6c768-ebef-4a17-fbf6-30316568b8c7"
      },
      "source": [
        "# How much importance be give nto a class?\n",
        "weights = compute_class_weight('balanced', np.unique(y), y)\n",
        "weights    # Corresponds to class_1, class_2, ...class_9"
      ],
      "execution_count": 275,
      "outputs": [
        {
          "output_type": "execute_result",
          "data": {
            "text/plain": [
              "array([3.56419561, 0.4264566 , 0.85898717, 2.55493621, 2.51016186,\n",
              "       0.48640491, 2.42174475, 0.81230309, 1.38755466])"
            ]
          },
          "metadata": {
            "tags": []
          },
          "execution_count": 275
        }
      ]
    },
    {
      "cell_type": "code",
      "metadata": {
        "id": "j_Ui47YYyTK5"
      },
      "source": [
        "X_train, X_test, y_train,y_test = train_test_split(\n",
        "                                                   train,\n",
        "                                                   y,\n",
        "                                                   test_size = 0.3,\n",
        "                                                   stratify = y,\n",
        "                                                   shuffle= True)\n",
        "\n",
        "X_train.shape  # (43314, 93)\n",
        "X_test.shape   # (18564, 93)"
      ],
      "execution_count": null,
      "outputs": []
    },
    {
      "cell_type": "code",
      "metadata": {
        "id": "mJyw3FXazP4i"
      },
      "source": [
        "pipe1 = make_pipeline(\n",
        "                      StandardScaler(),       # pipe1[0]\n",
        "                      rf(                     # pipe1[1]\n",
        "                          n_estimators=100,\n",
        "                          max_depth = 35,\n",
        "                          class_weight = c_weights,\n",
        "                          oob_score = True\n",
        "                         )\n",
        "                      )"
      ],
      "execution_count": 298,
      "outputs": []
    },
    {
      "cell_type": "code",
      "metadata": {
        "id": "Y7yrIlUczUAx",
        "outputId": "0749a1e1-14c9-47df-db0f-b6dc92e21aae",
        "colab": {
          "base_uri": "https://localhost:8080/"
        }
      },
      "source": [
        "pipe1.fit(X_train,y_train)"
      ],
      "execution_count": 299,
      "outputs": [
        {
          "output_type": "execute_result",
          "data": {
            "text/plain": [
              "Pipeline(memory=None,\n",
              "         steps=[('standardscaler',\n",
              "                 StandardScaler(copy=True, with_mean=True, with_std=True)),\n",
              "                ('randomforestclassifier',\n",
              "                 RandomForestClassifier(bootstrap=True, ccp_alpha=0.0,\n",
              "                                        class_weight={0: 3, 1: 1, 2: 1, 3: 1,\n",
              "                                                      4: 1, 5: 1, 6: 1, 7: 1,\n",
              "                                                      8: 1},\n",
              "                                        criterion='gini', max_depth=35,\n",
              "                                        max_features='auto',\n",
              "                                        max_leaf_nodes=None, max_samples=None,\n",
              "                                        min_impurity_decrease=0.0,\n",
              "                                        min_impurity_split=None,\n",
              "                                        min_samples_leaf=1, min_samples_split=2,\n",
              "                                        min_weight_fraction_leaf=0.0,\n",
              "                                        n_estimators=100, n_jobs=None,\n",
              "                                        oob_score=True, random_state=None,\n",
              "                                        verbose=0, warm_start=False))],\n",
              "         verbose=False)"
            ]
          },
          "metadata": {
            "tags": []
          },
          "execution_count": 299
        }
      ]
    },
    {
      "cell_type": "code",
      "metadata": {
        "id": "ZfCgaYBfz9fr",
        "outputId": "f87b18f1-0afd-4f76-ac5a-62010dfb24c4",
        "colab": {
          "base_uri": "https://localhost:8080/"
        }
      },
      "source": [
        "prob_orig = pipe1.predict_proba(X_test)\n",
        "prob_orig.shape   # (18564, 9)"
      ],
      "execution_count": 300,
      "outputs": [
        {
          "output_type": "execute_result",
          "data": {
            "text/plain": [
              "(18564, 9)"
            ]
          },
          "metadata": {
            "tags": []
          },
          "execution_count": 300
        }
      ]
    },
    {
      "cell_type": "code",
      "metadata": {
        "id": "gPeBk15M1NXj",
        "outputId": "5b9fbabd-d3ba-41b8-f21c-361c616d8c6b",
        "colab": {
          "base_uri": "https://localhost:8080/",
          "height": 206
        }
      },
      "source": [
        "class_names = ['class_1','class_2','class_3', 'class_4', 'class_5', 'class_6', 'class_7', 'class_8', 'class_9']\n",
        "pr = pd.DataFrame(prob_orig, columns = class_names)\n",
        "pr.head()"
      ],
      "execution_count": 301,
      "outputs": [
        {
          "output_type": "execute_result",
          "data": {
            "text/html": [
              "<div>\n",
              "<style scoped>\n",
              "    .dataframe tbody tr th:only-of-type {\n",
              "        vertical-align: middle;\n",
              "    }\n",
              "\n",
              "    .dataframe tbody tr th {\n",
              "        vertical-align: top;\n",
              "    }\n",
              "\n",
              "    .dataframe thead th {\n",
              "        text-align: right;\n",
              "    }\n",
              "</style>\n",
              "<table border=\"1\" class=\"dataframe\">\n",
              "  <thead>\n",
              "    <tr style=\"text-align: right;\">\n",
              "      <th></th>\n",
              "      <th>class_1</th>\n",
              "      <th>class_2</th>\n",
              "      <th>class_3</th>\n",
              "      <th>class_4</th>\n",
              "      <th>class_5</th>\n",
              "      <th>class_6</th>\n",
              "      <th>class_7</th>\n",
              "      <th>class_8</th>\n",
              "      <th>class_9</th>\n",
              "    </tr>\n",
              "  </thead>\n",
              "  <tbody>\n",
              "    <tr>\n",
              "      <th>0</th>\n",
              "      <td>0.030000</td>\n",
              "      <td>0.080000</td>\n",
              "      <td>0.050000</td>\n",
              "      <td>0.000000</td>\n",
              "      <td>0.000000</td>\n",
              "      <td>0.160000</td>\n",
              "      <td>0.550000</td>\n",
              "      <td>0.110000</td>\n",
              "      <td>0.020000</td>\n",
              "    </tr>\n",
              "    <tr>\n",
              "      <th>1</th>\n",
              "      <td>0.000103</td>\n",
              "      <td>0.488806</td>\n",
              "      <td>0.264564</td>\n",
              "      <td>0.235688</td>\n",
              "      <td>0.000000</td>\n",
              "      <td>0.000034</td>\n",
              "      <td>0.010737</td>\n",
              "      <td>0.000034</td>\n",
              "      <td>0.000034</td>\n",
              "    </tr>\n",
              "    <tr>\n",
              "      <th>2</th>\n",
              "      <td>0.015132</td>\n",
              "      <td>0.079762</td>\n",
              "      <td>0.038965</td>\n",
              "      <td>0.084230</td>\n",
              "      <td>0.061301</td>\n",
              "      <td>0.621667</td>\n",
              "      <td>0.015994</td>\n",
              "      <td>0.031906</td>\n",
              "      <td>0.051043</td>\n",
              "    </tr>\n",
              "    <tr>\n",
              "      <th>3</th>\n",
              "      <td>0.009096</td>\n",
              "      <td>0.715531</td>\n",
              "      <td>0.089954</td>\n",
              "      <td>0.034541</td>\n",
              "      <td>0.000058</td>\n",
              "      <td>0.025118</td>\n",
              "      <td>0.031551</td>\n",
              "      <td>0.031076</td>\n",
              "      <td>0.063076</td>\n",
              "    </tr>\n",
              "    <tr>\n",
              "      <th>4</th>\n",
              "      <td>0.000000</td>\n",
              "      <td>0.000000</td>\n",
              "      <td>0.000000</td>\n",
              "      <td>0.010000</td>\n",
              "      <td>0.000000</td>\n",
              "      <td>0.970000</td>\n",
              "      <td>0.020000</td>\n",
              "      <td>0.000000</td>\n",
              "      <td>0.000000</td>\n",
              "    </tr>\n",
              "  </tbody>\n",
              "</table>\n",
              "</div>"
            ],
            "text/plain": [
              "    class_1   class_2   class_3  ...   class_7   class_8   class_9\n",
              "0  0.030000  0.080000  0.050000  ...  0.550000  0.110000  0.020000\n",
              "1  0.000103  0.488806  0.264564  ...  0.010737  0.000034  0.000034\n",
              "2  0.015132  0.079762  0.038965  ...  0.015994  0.031906  0.051043\n",
              "3  0.009096  0.715531  0.089954  ...  0.031551  0.031076  0.063076\n",
              "4  0.000000  0.000000  0.000000  ...  0.020000  0.000000  0.000000\n",
              "\n",
              "[5 rows x 9 columns]"
            ]
          },
          "metadata": {
            "tags": []
          },
          "execution_count": 301
        }
      ]
    },
    {
      "cell_type": "code",
      "metadata": {
        "id": "AhPvmqAM0Izq",
        "outputId": "7dd60c7b-bdf6-4048-f90d-bbafd779e2be",
        "colab": {
          "base_uri": "https://localhost:8080/"
        }
      },
      "source": [
        "# How much is logloss\n",
        "log_loss(y_test,prob_orig)         # 0.602429785704475"
      ],
      "execution_count": 302,
      "outputs": [
        {
          "output_type": "execute_result",
          "data": {
            "text/plain": [
              "0.5919525007287527"
            ]
          },
          "metadata": {
            "tags": []
          },
          "execution_count": 302
        }
      ]
    },
    {
      "cell_type": "code",
      "metadata": {
        "id": "HK92QwYN1nzj",
        "outputId": "940cf5b8-8cfc-40d0-d0a8-c02c05f9c35a",
        "colab": {
          "base_uri": "https://localhost:8080/"
        }
      },
      "source": [
        "# What is oob_score:\n",
        "pipe1[1].oob_score_   # 0.7969247818257377"
      ],
      "execution_count": 303,
      "outputs": [
        {
          "output_type": "execute_result",
          "data": {
            "text/plain": [
              "0.7964399501315972"
            ]
          },
          "metadata": {
            "tags": []
          },
          "execution_count": 303
        }
      ]
    },
    {
      "cell_type": "code",
      "metadata": {
        "id": "AhZQlwe32O_a"
      },
      "source": [
        "pipe1[1].feature_importances_"
      ],
      "execution_count": null,
      "outputs": []
    },
    {
      "cell_type": "code",
      "metadata": {
        "id": "oKxy2x8g2kdE",
        "outputId": "a8eb64a9-df90-4499-9015-18f2dc1a8799",
        "colab": {
          "base_uri": "https://localhost:8080/"
        }
      },
      "source": [
        "# Ref: https://stackoverflow.com/a/613228/3282777\n",
        "from operator import itemgetter\n",
        "d = dict(zip(train.columns,clf_orig.feature_importances_))\n",
        "result = sorted(d.items(), key=itemgetter(1))\n",
        "print(result)\n",
        "cols = [i[0] for i in result]\n",
        "print(cols)"
      ],
      "execution_count": 307,
      "outputs": [
        {
          "output_type": "stream",
          "text": [
            "[('feat_1', 0.0009900891211233667), ('feat_2', 0.001165844869134619), ('feat_3', 0.0015613255183094545), ('feat_4', 0.0018927804179026501), ('feat_5', 0.002188784389965658), ('feat_6', 0.002297575883932163), ('feat_8', 0.0023449513217658805), ('feat_7', 0.002559257210495926), ('feat_10', 0.0026535364965640427), ('feat_9', 0.002676995800850457), ('feat_11', 0.0027196406259812505), ('feat_16', 0.0030633656651445356), ('feat_12', 0.0033085171163885403), ('feat_13', 0.0034097612341385617), ('feat_15', 0.0034551622318690217), ('feat_19', 0.0035363852574481895), ('feat_17', 0.0037596137159380933), ('feat_18', 0.003846908695002929), ('feat_14', 0.003966820804124264), ('feat_22', 0.004283059042085052), ('feat_21', 0.004606032365163905), ('feat_20', 0.004695485244330345), ('feat_23', 0.004889309874538221), ('feat_26', 0.00511954099914908), ('feat_24', 0.005152306291321542), ('feat_25', 0.0053103019977904994), ('feat_27', 0.005523596404365901), ('feat_28', 0.005551934080873804), ('feat_29', 0.005987906744003489), ('feat_32', 0.00619637843489176), ('feat_35', 0.006199400272184348), ('feat_36', 0.006218538375535207), ('feat_31', 0.00630507600233743), ('feat_34', 0.0063572358586207285), ('feat_30', 0.006375928824517211), ('feat_33', 0.00639312336551352), ('feat_37', 0.006732413660951131), ('feat_39', 0.006931745077929871), ('feat_41', 0.0069368297337395165), ('feat_42', 0.007329535620138064), ('feat_40', 0.007371886125694552), ('feat_44', 0.007426982466295501), ('feat_43', 0.007482024151418233), ('feat_50', 0.007512162401177193), ('feat_47', 0.007581284302063261), ('feat_45', 0.007595915841241972), ('feat_48', 0.008423369665982533), ('feat_38', 0.008476653687657607), ('feat_51', 0.008819433547988522), ('feat_52', 0.008894608165841722), ('feat_53', 0.009039677641547018), ('feat_49', 0.009086587835335105), ('feat_62', 0.009520174382767936), ('feat_60', 0.010024558907038334), ('feat_56', 0.010119568944775026), ('feat_58', 0.010364309016122989), ('feat_46', 0.010417652804085834), ('feat_55', 0.010641153966307701), ('feat_57', 0.010795939992511494), ('feat_54', 0.010962869802352301), ('feat_61', 0.011125699499176514), ('feat_68', 0.01115501104993736), ('feat_64', 0.011489686482547319), ('feat_63', 0.011592935509912635), ('feat_66', 0.012103216090311265), ('feat_59', 0.012107946515651677), ('feat_65', 0.01225479516134058), ('feat_70', 0.012831793827316902), ('feat_69', 0.012996582571706636), ('feat_67', 0.01304001849702921), ('feat_75', 0.014249578465254108), ('feat_71', 0.014388324148296504), ('feat_74', 0.01463321552366409), ('feat_72', 0.014663402386030557), ('feat_73', 0.014705930064347936), ('feat_76', 0.015718483274309126), ('feat_77', 0.01587597998555614), ('feat_79', 0.01805863854924813), ('feat_82', 0.018063300823619437), ('feat_80', 0.01817209449831926), ('feat_78', 0.01877616033098165), ('feat_81', 0.01943543341322045), ('feat_83', 0.01967223919638893), ('feat_84', 0.0212441281823722), ('feat_86', 0.024732503112844178), ('feat_87', 0.02514367651569169), ('feat_85', 0.026401547319865302), ('feat_90', 0.02755561862497168), ('feat_88', 0.028018083565155436), ('feat_89', 0.032775900959376464), ('feat_92', 0.038338924325554545), ('feat_91', 0.03837016971471885), ('feat_93', 0.0452591735210183)]\n",
            "['feat_1', 'feat_2', 'feat_3', 'feat_4', 'feat_5', 'feat_6', 'feat_8', 'feat_7', 'feat_10', 'feat_9', 'feat_11', 'feat_16', 'feat_12', 'feat_13', 'feat_15', 'feat_19', 'feat_17', 'feat_18', 'feat_14', 'feat_22', 'feat_21', 'feat_20', 'feat_23', 'feat_26', 'feat_24', 'feat_25', 'feat_27', 'feat_28', 'feat_29', 'feat_32', 'feat_35', 'feat_36', 'feat_31', 'feat_34', 'feat_30', 'feat_33', 'feat_37', 'feat_39', 'feat_41', 'feat_42', 'feat_40', 'feat_44', 'feat_43', 'feat_50', 'feat_47', 'feat_45', 'feat_48', 'feat_38', 'feat_51', 'feat_52', 'feat_53', 'feat_49', 'feat_62', 'feat_60', 'feat_56', 'feat_58', 'feat_46', 'feat_55', 'feat_57', 'feat_54', 'feat_61', 'feat_68', 'feat_64', 'feat_63', 'feat_66', 'feat_59', 'feat_65', 'feat_70', 'feat_69', 'feat_67', 'feat_75', 'feat_71', 'feat_74', 'feat_72', 'feat_73', 'feat_76', 'feat_77', 'feat_79', 'feat_82', 'feat_80', 'feat_78', 'feat_81', 'feat_83', 'feat_84', 'feat_86', 'feat_87', 'feat_85', 'feat_90', 'feat_88', 'feat_89', 'feat_92', 'feat_91', 'feat_93']\n"
          ],
          "name": "stdout"
        }
      ]
    },
    {
      "cell_type": "code",
      "metadata": {
        "id": "6YPNkQzm3ZYo"
      },
      "source": [
        "pipe2 = make_pipeline(\n",
        "                      StandardScaler(),\n",
        "                      PowerTransformer(),\n",
        "                      rf(                    \n",
        "                          n_estimators=100,\n",
        "                          max_depth = 35,\n",
        "                          class_weight = c_weights,\n",
        "                          oob_score = True\n",
        "                         )\n",
        "                       )"
      ],
      "execution_count": 322,
      "outputs": []
    },
    {
      "cell_type": "code",
      "metadata": {
        "id": "ywIyhTOm3uRD"
      },
      "source": [
        "pipe2.fit(X_train,y_train)\n",
        "prob_tr = pipe2.predict_proba(X_test)\n",
        "prob_tr.shape   # (18564, 9)\n",
        "# How much is logloss\n",
        "log_loss(y_test,prob_tr)         # 0.602429785704475"
      ],
      "execution_count": null,
      "outputs": []
    },
    {
      "cell_type": "code",
      "metadata": {
        "id": "dwS97E9i7Pkc"
      },
      "source": [
        "pipe3 = make_pipeline(\n",
        "                       StandardScaler(),\n",
        "                       ExtraTreesClassifier(n_estimators=300)\n",
        "                      )"
      ],
      "execution_count": 327,
      "outputs": []
    },
    {
      "cell_type": "code",
      "metadata": {
        "id": "AyM-8Xn_7X3d",
        "outputId": "ac0fc94a-7884-41f2-f5bb-e1e7d50a2db3",
        "colab": {
          "base_uri": "https://localhost:8080/"
        }
      },
      "source": [
        "pipe3.fit(X_train,y_train)\n",
        "prob_ex = pipe3.predict_proba(X_test)\n",
        "prob_ex.shape   # (18564, 9)\n",
        "# How much is logloss\n",
        "log_loss(y_test,prob_ex)         # 0.602429785704475"
      ],
      "execution_count": 328,
      "outputs": [
        {
          "output_type": "execute_result",
          "data": {
            "text/plain": [
              "Pipeline(memory=None,\n",
              "         steps=[('standardscaler',\n",
              "                 StandardScaler(copy=True, with_mean=True, with_std=True)),\n",
              "                ('extratreesclassifier',\n",
              "                 ExtraTreesClassifier(bootstrap=False, ccp_alpha=0.0,\n",
              "                                      class_weight=None, criterion='gini',\n",
              "                                      max_depth=None, max_features='auto',\n",
              "                                      max_leaf_nodes=None, max_samples=None,\n",
              "                                      min_impurity_decrease=0.0,\n",
              "                                      min_impurity_split=None,\n",
              "                                      min_samples_leaf=1, min_samples_split=2,\n",
              "                                      min_weight_fraction_leaf=0.0,\n",
              "                                      n_estimators=300, n_jobs=None,\n",
              "                                      oob_score=False, random_state=None,\n",
              "                                      verbose=0, warm_start=False))],\n",
              "         verbose=False)"
            ]
          },
          "metadata": {
            "tags": []
          },
          "execution_count": 328
        },
        {
          "output_type": "execute_result",
          "data": {
            "text/plain": [
              "(18564, 9)"
            ]
          },
          "metadata": {
            "tags": []
          },
          "execution_count": 328
        },
        {
          "output_type": "execute_result",
          "data": {
            "text/plain": [
              "0.6027103778411553"
            ]
          },
          "metadata": {
            "tags": []
          },
          "execution_count": 328
        }
      ]
    },
    {
      "cell_type": "code",
      "metadata": {
        "id": "pkLVVzdT7-J0"
      },
      "source": [
        "estimators = [\n",
        "               (\"pipe1\", pipe1),\n",
        "               (\"pipe2\",pipe2),\n",
        "               (\"pipe3\",pipe3),\n",
        "              ]\n",
        "\n",
        "clf_vote = VotingClassifier(\n",
        "                               estimators=estimators,\n",
        "                               voting = \"soft\",\n",
        "                               n_jobs = -1\n",
        "                               )\n"
      ],
      "execution_count": 329,
      "outputs": []
    },
    {
      "cell_type": "code",
      "metadata": {
        "id": "RCUWxWp-8IJP",
        "outputId": "b0ec9a74-fcf3-4fc9-b81c-eabfd556b837",
        "colab": {
          "base_uri": "https://localhost:8080/"
        }
      },
      "source": [
        "clf_vote.fit(X_train, y_train)\n",
        "prob_vt = clf_vote.predict_proba(X_test)\n",
        "log_loss(y_test,prob_vt)         # 0.6069367467472497 0.6166262332908614"
      ],
      "execution_count": 330,
      "outputs": [
        {
          "output_type": "execute_result",
          "data": {
            "text/plain": [
              "VotingClassifier(estimators=[('pipe1',\n",
              "                              Pipeline(memory=None,\n",
              "                                       steps=[('standardscaler',\n",
              "                                               StandardScaler(copy=True,\n",
              "                                                              with_mean=True,\n",
              "                                                              with_std=True)),\n",
              "                                              ('randomforestclassifier',\n",
              "                                               RandomForestClassifier(bootstrap=True,\n",
              "                                                                      ccp_alpha=0.0,\n",
              "                                                                      class_weight={0: 3,\n",
              "                                                                                    1: 1,\n",
              "                                                                                    2: 1,\n",
              "                                                                                    3: 1,\n",
              "                                                                                    4: 1,\n",
              "                                                                                    5: 1,\n",
              "                                                                                    6: 1,\n",
              "                                                                                    7: 1,\n",
              "                                                                                    8: 1},\n",
              "                                                                      criterion='gini',\n",
              "                                                                      max_depth=35,\n",
              "                                                                      max_features='auto',\n",
              "                                                                      max_leaf_nodes=None,\n",
              "                                                                      max_samples...\n",
              "                                                                    max_depth=None,\n",
              "                                                                    max_features='auto',\n",
              "                                                                    max_leaf_nodes=None,\n",
              "                                                                    max_samples=None,\n",
              "                                                                    min_impurity_decrease=0.0,\n",
              "                                                                    min_impurity_split=None,\n",
              "                                                                    min_samples_leaf=1,\n",
              "                                                                    min_samples_split=2,\n",
              "                                                                    min_weight_fraction_leaf=0.0,\n",
              "                                                                    n_estimators=300,\n",
              "                                                                    n_jobs=None,\n",
              "                                                                    oob_score=False,\n",
              "                                                                    random_state=None,\n",
              "                                                                    verbose=0,\n",
              "                                                                    warm_start=False))],\n",
              "                                       verbose=False))],\n",
              "                 flatten_transform=True, n_jobs=-1, voting='soft',\n",
              "                 weights=None)"
            ]
          },
          "metadata": {
            "tags": []
          },
          "execution_count": 330
        },
        {
          "output_type": "execute_result",
          "data": {
            "text/plain": [
              "0.5858984055139382"
            ]
          },
          "metadata": {
            "tags": []
          },
          "execution_count": 330
        }
      ]
    },
    {
      "cell_type": "markdown",
      "metadata": {
        "id": "QLZY6IItvZh-"
      },
      "source": [
        "###PowerTransformer"
      ]
    },
    {
      "cell_type": "code",
      "metadata": {
        "colab": {
          "base_uri": "https://localhost:8080/",
          "height": 757
        },
        "id": "SIvVuo6xExH9",
        "outputId": "883f6d2c-5566-4964-e9a0-94a394317fab"
      },
      "source": [
        "# 5.0 How should we scale data?\n",
        "#     Let us draw box-plots to decide\n",
        "#     There are a number of outliers\n",
        "fig = plt.figure(figsize=(30,20))\n",
        "for i in range(0,40):\n",
        "    name = 'feat_' + str(i+1)\n",
        "    _=plt.subplot(5,8,i+1)\n",
        "    _=sns.boxplot(y = train[name])\n"
      ],
      "execution_count": null,
      "outputs": [
        {
          "output_type": "display_data",
          "data": {
            "image/png": "[encoded data removed]",
            "text/plain": [
              "<Figure size 2160x1440 with 40 Axes>"
            ]
          },
          "metadata": {
            "tags": [],
            "needs_background": "light"
          }
        }
      ]
    },
    {
      "cell_type": "code",
      "metadata": {
        "colab": {
          "base_uri": "https://localhost:8080/",
          "height": 754
        },
        "id": "HKNsxY30E3xQ",
        "outputId": "e1116894-2a63-4cf6-9e4c-ea18c8cf198e"
      },
      "source": [
        "# 5.0 How should we scale data?\n",
        "#     Let us draw box-plots to decide\n",
        "#     There are a number of outliers\n",
        "fig = plt.figure(figsize=(30,20))\n",
        "for i in range(41, 81):\n",
        "    j = i - 40\n",
        "    name = 'feat_' + str(i)\n",
        "    _=plt.subplot(5,8,j)\n",
        "    _=sns.boxplot(y = train[name])\n"
      ],
      "execution_count": null,
      "outputs": [
        {
          "output_type": "display_data",
          "data": {
            "image/png": "[encoded data removed]",
            "text/plain": [
              "<Figure size 2160x1440 with 40 Axes>"
            ]
          },
          "metadata": {
            "tags": [],
            "needs_background": "light"
          }
        }
      ]
    },
    {
      "cell_type": "code",
      "metadata": {
        "colab": {
          "base_uri": "https://localhost:8080/",
          "height": 306
        },
        "id": "mVfoaYZGFCiA",
        "outputId": "2bfdb328-0def-4a15-dfcf-5b1874b6ebb7"
      },
      "source": [
        "# 5.0 How should we scale data?\n",
        "#     Let us draw box-plots to decide\n",
        "#     There are a number of outliers\n",
        "fig = plt.figure(figsize=(30,20))\n",
        "for i in range(82, 93):\n",
        "    j = i - 81\n",
        "    name = 'feat_' + str(i)\n",
        "    _=plt.subplot(5,8,j)\n",
        "    _=sns.boxplot(y = train[name])"
      ],
      "execution_count": null,
      "outputs": [
        {
          "output_type": "display_data",
          "data": {
            "image/png": "[encoded data removed]",
            "text/plain": [
              "<Figure size 2160x1440 with 11 Axes>"
            ]
          },
          "metadata": {
            "tags": [],
            "needs_background": "light"
          }
        }
      ]
    },
    {
      "cell_type": "code",
      "metadata": {
        "id": "KIJRb6BkFHhn"
      },
      "source": [
        "from sklearn.preprocessing import power_transform\n",
        "x_train = power_transform(train, method='yeo-johnson')\n",
        "x_train = pd.DataFrame(x_train, columns = train.columns)"
      ],
      "execution_count": null,
      "outputs": []
    },
    {
      "cell_type": "code",
      "metadata": {
        "colab": {
          "base_uri": "https://localhost:8080/",
          "height": 752
        },
        "id": "09VV1mhGGBDo",
        "outputId": "30770da8-1304-480e-da84-eeb3d3c9699f"
      },
      "source": [
        "# 5.0 How should we scale data?\n",
        "#     Let us draw box-plots to decide\n",
        "#     There are a number of outliers\n",
        "fig = plt.figure(figsize=(30,20))\n",
        "for i in range(0,40):\n",
        "    name = 'feat_' + str(i+1)\n",
        "    _=plt.subplot(5,8,i+1)\n",
        "    _=sns.boxplot(y = x_train[name])\n"
      ],
      "execution_count": null,
      "outputs": [
        {
          "output_type": "display_data",
          "data": {
            "image/png": "[encoded data removed]",
            "text/plain": [
              "<Figure size 2160x1440 with 40 Axes>"
            ]
          },
          "metadata": {
            "tags": [],
            "needs_background": "light"
          }
        }
      ]
    },
    {
      "cell_type": "code",
      "metadata": {
        "colab": {
          "base_uri": "https://localhost:8080/",
          "height": 754
        },
        "id": "g4K_fGSDGHiC",
        "outputId": "81365a4c-a3b5-4236-8e92-6f2d457ae59c"
      },
      "source": [
        "# 5.0 How should we scale data?\n",
        "#     Let us draw box-plots to decide\n",
        "#     There are a number of outliers\n",
        "fig = plt.figure(figsize=(30,20))\n",
        "for i in range(41, 81):\n",
        "    j = i - 40\n",
        "    name = 'feat_' + str(i)\n",
        "    _=plt.subplot(5,8,j)\n",
        "    _=sns.boxplot(y = x_train[name])\n"
      ],
      "execution_count": null,
      "outputs": [
        {
          "output_type": "display_data",
          "data": {
            "image/png": "[encoded data removed]",
            "text/plain": [
              "<Figure size 2160x1440 with 40 Axes>"
            ]
          },
          "metadata": {
            "tags": [],
            "needs_background": "light"
          }
        }
      ]
    },
    {
      "cell_type": "code",
      "metadata": {
        "colab": {
          "base_uri": "https://localhost:8080/",
          "height": 304
        },
        "id": "OL1nsX8t3mkM",
        "outputId": "5be9c2d4-0166-4dd4-e3e1-392958ba2e11"
      },
      "source": [
        "# 5.0 How should we scale data?\n",
        "#     Let us draw box-plots to decide\n",
        "#     There are a number of outliers\n",
        "fig = plt.figure(figsize=(30,20))\n",
        "for i in range(82, 93):\n",
        "    j = i - 81\n",
        "    name = 'feat_' + str(i)\n",
        "    _=plt.subplot(5,8,j)\n",
        "    _=sns.boxplot(y = x_train[name])"
      ],
      "execution_count": null,
      "outputs": [
        {
          "output_type": "display_data",
          "data": {
            "image/png": "[encoded data removed]",
            "text/plain": [
              "<Figure size 2160x1440 with 11 Axes>"
            ]
          },
          "metadata": {
            "tags": [],
            "needs_background": "light"
          }
        }
      ]
    },
    {
      "cell_type": "code",
      "metadata": {
        "id": "mZq_-K1l3rGC"
      },
      "source": [
        "colsToTransf = [\"feat_8\",\"feat_11\",\"feat_14\",\"feat_15\",\"feat_16\",\"feat_18\",\"feat_22\",\"feat_24\",\"feat_25\",\"feat_32\",\"feat_33\",\"feat_34\",\"feat_36\",\"feat_38\",\"feat_40\",\"feat_42\",\"feat_44\",\"feat_48\",\"feat_54\",\"feat_62\",\"feat_64\",\"feat_66\",\"feat_67\",\"feat_70\",\"feat_72\",\"feat_86\",\"feat_87\"]"
      ],
      "execution_count": null,
      "outputs": []
    },
    {
      "cell_type": "code",
      "metadata": {
        "id": "qHbaJgE27B1R",
        "colab": {
          "base_uri": "https://localhost:8080/",
          "height": 190
        },
        "outputId": "c4b0ca1c-b5a5-410f-8a52-829145cd8397"
      },
      "source": [
        "xy = power_transform(x_train[colsToTransf], method='yeo-johnson')\n",
        "x_train[colsToTransf] = pd.DataFrame(xy, columns = colsToTransf)"
      ],
      "execution_count": null,
      "outputs": [
        {
          "output_type": "error",
          "ename": "NameError",
          "evalue": "ignored",
          "traceback": [
            "\u001b[0;31m---------------------------------------------------------------------------\u001b[0m",
            "\u001b[0;31mNameError\u001b[0m                                 Traceback (most recent call last)",
            "\u001b[0;32m<ipython-input-28-705bc5e8e914>\u001b[0m in \u001b[0;36m<module>\u001b[0;34m()\u001b[0m\n\u001b[0;32m----> 1\u001b[0;31m \u001b[0mxy\u001b[0m \u001b[0;34m=\u001b[0m \u001b[0mpower_transform\u001b[0m\u001b[0;34m(\u001b[0m\u001b[0mx_train\u001b[0m\u001b[0;34m[\u001b[0m\u001b[0mcolsToTransf\u001b[0m\u001b[0;34m]\u001b[0m\u001b[0;34m,\u001b[0m \u001b[0mmethod\u001b[0m\u001b[0;34m=\u001b[0m\u001b[0;34m'yeo-johnson'\u001b[0m\u001b[0;34m)\u001b[0m\u001b[0;34m\u001b[0m\u001b[0;34m\u001b[0m\u001b[0m\n\u001b[0m\u001b[1;32m      2\u001b[0m \u001b[0mx_train\u001b[0m\u001b[0;34m[\u001b[0m\u001b[0mcolsToTransf\u001b[0m\u001b[0;34m]\u001b[0m \u001b[0;34m=\u001b[0m \u001b[0mpd\u001b[0m\u001b[0;34m.\u001b[0m\u001b[0mDataFrame\u001b[0m\u001b[0;34m(\u001b[0m\u001b[0mxy\u001b[0m\u001b[0;34m,\u001b[0m \u001b[0mcolumns\u001b[0m \u001b[0;34m=\u001b[0m \u001b[0mcolsToTransf\u001b[0m\u001b[0;34m)\u001b[0m\u001b[0;34m\u001b[0m\u001b[0;34m\u001b[0m\u001b[0m\n",
            "\u001b[0;31mNameError\u001b[0m: name 'power_transform' is not defined"
          ]
        }
      ]
    },
    {
      "cell_type": "code",
      "metadata": {
        "colab": {
          "base_uri": "https://localhost:8080/",
          "height": 255
        },
        "id": "18qunHlb7gYP",
        "outputId": "a73276d9-8679-4cdb-b020-3e5672d61d1c"
      },
      "source": [
        "x_train.head()"
      ],
      "execution_count": null,
      "outputs": [
        {
          "output_type": "execute_result",
          "data": {
            "text/html": [
              "<div>\n",
              "<style scoped>\n",
              "    .dataframe tbody tr th:only-of-type {\n",
              "        vertical-align: middle;\n",
              "    }\n",
              "\n",
              "    .dataframe tbody tr th {\n",
              "        vertical-align: top;\n",
              "    }\n",
              "\n",
              "    .dataframe thead th {\n",
              "        text-align: right;\n",
              "    }\n",
              "</style>\n",
              "<table border=\"1\" class=\"dataframe\">\n",
              "  <thead>\n",
              "    <tr style=\"text-align: right;\">\n",
              "      <th></th>\n",
              "      <th>feat_1</th>\n",
              "      <th>feat_2</th>\n",
              "      <th>feat_3</th>\n",
              "      <th>feat_4</th>\n",
              "      <th>feat_5</th>\n",
              "      <th>feat_6</th>\n",
              "      <th>feat_7</th>\n",
              "      <th>feat_8</th>\n",
              "      <th>feat_9</th>\n",
              "      <th>feat_10</th>\n",
              "      <th>feat_11</th>\n",
              "      <th>feat_12</th>\n",
              "      <th>feat_13</th>\n",
              "      <th>feat_14</th>\n",
              "      <th>feat_15</th>\n",
              "      <th>feat_16</th>\n",
              "      <th>feat_17</th>\n",
              "      <th>feat_18</th>\n",
              "      <th>feat_19</th>\n",
              "      <th>feat_20</th>\n",
              "      <th>feat_21</th>\n",
              "      <th>feat_22</th>\n",
              "      <th>feat_23</th>\n",
              "      <th>feat_24</th>\n",
              "      <th>feat_25</th>\n",
              "      <th>feat_26</th>\n",
              "      <th>feat_27</th>\n",
              "      <th>feat_28</th>\n",
              "      <th>feat_29</th>\n",
              "      <th>feat_30</th>\n",
              "      <th>feat_31</th>\n",
              "      <th>feat_32</th>\n",
              "      <th>feat_33</th>\n",
              "      <th>feat_34</th>\n",
              "      <th>feat_35</th>\n",
              "      <th>feat_36</th>\n",
              "      <th>feat_37</th>\n",
              "      <th>feat_38</th>\n",
              "      <th>feat_39</th>\n",
              "      <th>feat_40</th>\n",
              "      <th>...</th>\n",
              "      <th>feat_54</th>\n",
              "      <th>feat_55</th>\n",
              "      <th>feat_56</th>\n",
              "      <th>feat_57</th>\n",
              "      <th>feat_58</th>\n",
              "      <th>feat_59</th>\n",
              "      <th>feat_60</th>\n",
              "      <th>feat_61</th>\n",
              "      <th>feat_62</th>\n",
              "      <th>feat_63</th>\n",
              "      <th>feat_64</th>\n",
              "      <th>feat_65</th>\n",
              "      <th>feat_66</th>\n",
              "      <th>feat_67</th>\n",
              "      <th>feat_68</th>\n",
              "      <th>feat_69</th>\n",
              "      <th>feat_70</th>\n",
              "      <th>feat_71</th>\n",
              "      <th>feat_72</th>\n",
              "      <th>feat_73</th>\n",
              "      <th>feat_74</th>\n",
              "      <th>feat_75</th>\n",
              "      <th>feat_76</th>\n",
              "      <th>feat_77</th>\n",
              "      <th>feat_78</th>\n",
              "      <th>feat_79</th>\n",
              "      <th>feat_80</th>\n",
              "      <th>feat_81</th>\n",
              "      <th>feat_82</th>\n",
              "      <th>feat_83</th>\n",
              "      <th>feat_84</th>\n",
              "      <th>feat_85</th>\n",
              "      <th>feat_86</th>\n",
              "      <th>feat_87</th>\n",
              "      <th>feat_88</th>\n",
              "      <th>feat_89</th>\n",
              "      <th>feat_90</th>\n",
              "      <th>feat_91</th>\n",
              "      <th>feat_92</th>\n",
              "      <th>feat_93</th>\n",
              "    </tr>\n",
              "  </thead>\n",
              "  <tbody>\n",
              "    <tr>\n",
              "      <th>0</th>\n",
              "      <td>2.200366</td>\n",
              "      <td>-0.353109</td>\n",
              "      <td>-0.504266</td>\n",
              "      <td>-0.525630</td>\n",
              "      <td>-0.224578</td>\n",
              "      <td>-0.138705</td>\n",
              "      <td>-0.310309</td>\n",
              "      <td>-0.604623</td>\n",
              "      <td>-0.490675</td>\n",
              "      <td>-0.376517</td>\n",
              "      <td>1.590188</td>\n",
              "      <td>-0.34366</td>\n",
              "      <td>-0.476368</td>\n",
              "      <td>-0.875986</td>\n",
              "      <td>-0.643001</td>\n",
              "      <td>-0.950731</td>\n",
              "      <td>2.285623</td>\n",
              "      <td>-0.636451</td>\n",
              "      <td>-0.320253</td>\n",
              "      <td>-0.511338</td>\n",
              "      <td>-0.366688</td>\n",
              "      <td>1.329405</td>\n",
              "      <td>-0.276949</td>\n",
              "      <td>0.969492</td>\n",
              "      <td>0.372180</td>\n",
              "      <td>1.878623</td>\n",
              "      <td>-0.413831</td>\n",
              "      <td>-0.381703</td>\n",
              "      <td>2.726879</td>\n",
              "      <td>-0.294131</td>\n",
              "      <td>-0.281355</td>\n",
              "      <td>-0.688434</td>\n",
              "      <td>-0.744441</td>\n",
              "      <td>-0.583211</td>\n",
              "      <td>1.778223</td>\n",
              "      <td>-0.578669</td>\n",
              "      <td>-0.449417</td>\n",
              "      <td>-0.592901</td>\n",
              "      <td>-0.392874</td>\n",
              "      <td>0.684128</td>\n",
              "      <td>...</td>\n",
              "      <td>0.672425</td>\n",
              "      <td>-0.474409</td>\n",
              "      <td>-0.363048</td>\n",
              "      <td>2.405337</td>\n",
              "      <td>-0.394543</td>\n",
              "      <td>-0.351254</td>\n",
              "      <td>1.985895</td>\n",
              "      <td>-0.321693</td>\n",
              "      <td>0.930708</td>\n",
              "      <td>3.044444</td>\n",
              "      <td>-0.736204</td>\n",
              "      <td>2.393717</td>\n",
              "      <td>-0.628574</td>\n",
              "      <td>1.258683</td>\n",
              "      <td>-0.405387</td>\n",
              "      <td>-0.404522</td>\n",
              "      <td>-0.732353</td>\n",
              "      <td>2.212989</td>\n",
              "      <td>-0.63745</td>\n",
              "      <td>-0.448168</td>\n",
              "      <td>-0.486072</td>\n",
              "      <td>-0.523004</td>\n",
              "      <td>-0.524833</td>\n",
              "      <td>-0.245744</td>\n",
              "      <td>-0.336800</td>\n",
              "      <td>2.766544</td>\n",
              "      <td>1.785607</td>\n",
              "      <td>-0.232872</td>\n",
              "      <td>-0.310341</td>\n",
              "      <td>-0.391109</td>\n",
              "      <td>-0.153422</td>\n",
              "      <td>1.877117</td>\n",
              "      <td>-0.828219</td>\n",
              "      <td>-0.490978</td>\n",
              "      <td>-0.685208</td>\n",
              "      <td>-0.531266</td>\n",
              "      <td>-0.394530</td>\n",
              "      <td>-0.291561</td>\n",
              "      <td>-0.530411</td>\n",
              "      <td>-0.253849</td>\n",
              "    </tr>\n",
              "    <tr>\n",
              "      <th>1</th>\n",
              "      <td>-0.449314</td>\n",
              "      <td>-0.353109</td>\n",
              "      <td>-0.504266</td>\n",
              "      <td>-0.525630</td>\n",
              "      <td>-0.224578</td>\n",
              "      <td>-0.138705</td>\n",
              "      <td>-0.310309</td>\n",
              "      <td>1.638698</td>\n",
              "      <td>-0.490675</td>\n",
              "      <td>-0.376517</td>\n",
              "      <td>-0.611235</td>\n",
              "      <td>-0.34366</td>\n",
              "      <td>-0.476368</td>\n",
              "      <td>-0.875986</td>\n",
              "      <td>-0.643001</td>\n",
              "      <td>-0.950731</td>\n",
              "      <td>-0.442425</td>\n",
              "      <td>1.591219</td>\n",
              "      <td>-0.320253</td>\n",
              "      <td>-0.511338</td>\n",
              "      <td>-0.366688</td>\n",
              "      <td>-0.716364</td>\n",
              "      <td>-0.276949</td>\n",
              "      <td>-1.186857</td>\n",
              "      <td>-1.058076</td>\n",
              "      <td>-0.507773</td>\n",
              "      <td>-0.413831</td>\n",
              "      <td>-0.381703</td>\n",
              "      <td>-0.367340</td>\n",
              "      <td>-0.294131</td>\n",
              "      <td>-0.281355</td>\n",
              "      <td>-0.688434</td>\n",
              "      <td>-0.744441</td>\n",
              "      <td>-0.583211</td>\n",
              "      <td>-0.535937</td>\n",
              "      <td>-0.578669</td>\n",
              "      <td>2.216012</td>\n",
              "      <td>-0.592901</td>\n",
              "      <td>-0.392874</td>\n",
              "      <td>-0.925905</td>\n",
              "      <td>...</td>\n",
              "      <td>-0.899372</td>\n",
              "      <td>-0.474409</td>\n",
              "      <td>-0.363048</td>\n",
              "      <td>-0.418513</td>\n",
              "      <td>2.496971</td>\n",
              "      <td>-0.351254</td>\n",
              "      <td>-0.573147</td>\n",
              "      <td>-0.321693</td>\n",
              "      <td>-0.857223</td>\n",
              "      <td>-0.328439</td>\n",
              "      <td>1.260452</td>\n",
              "      <td>-0.417158</td>\n",
              "      <td>-0.628574</td>\n",
              "      <td>-0.015552</td>\n",
              "      <td>-0.405387</td>\n",
              "      <td>-0.404522</td>\n",
              "      <td>-0.732353</td>\n",
              "      <td>-0.449073</td>\n",
              "      <td>-0.63745</td>\n",
              "      <td>2.261506</td>\n",
              "      <td>2.004146</td>\n",
              "      <td>-0.523004</td>\n",
              "      <td>1.797650</td>\n",
              "      <td>-0.245744</td>\n",
              "      <td>2.966511</td>\n",
              "      <td>-0.362334</td>\n",
              "      <td>-0.522858</td>\n",
              "      <td>-0.232872</td>\n",
              "      <td>-0.310341</td>\n",
              "      <td>-0.391109</td>\n",
              "      <td>-0.153422</td>\n",
              "      <td>-0.514540</td>\n",
              "      <td>-0.828219</td>\n",
              "      <td>-0.490978</td>\n",
              "      <td>-0.685208</td>\n",
              "      <td>-0.531266</td>\n",
              "      <td>-0.394530</td>\n",
              "      <td>-0.291561</td>\n",
              "      <td>-0.530411</td>\n",
              "      <td>-0.253849</td>\n",
              "    </tr>\n",
              "    <tr>\n",
              "      <th>2</th>\n",
              "      <td>-0.449314</td>\n",
              "      <td>-0.353109</td>\n",
              "      <td>-0.504266</td>\n",
              "      <td>-0.525630</td>\n",
              "      <td>-0.224578</td>\n",
              "      <td>-0.138705</td>\n",
              "      <td>-0.310309</td>\n",
              "      <td>1.638698</td>\n",
              "      <td>-0.490675</td>\n",
              "      <td>-0.376517</td>\n",
              "      <td>-0.611235</td>\n",
              "      <td>-0.34366</td>\n",
              "      <td>-0.476368</td>\n",
              "      <td>-0.875986</td>\n",
              "      <td>-0.643001</td>\n",
              "      <td>-0.950731</td>\n",
              "      <td>2.241600</td>\n",
              "      <td>-0.636451</td>\n",
              "      <td>-0.320253</td>\n",
              "      <td>-0.511338</td>\n",
              "      <td>-0.366688</td>\n",
              "      <td>-0.716364</td>\n",
              "      <td>-0.276949</td>\n",
              "      <td>-1.186857</td>\n",
              "      <td>-1.058076</td>\n",
              "      <td>-0.507773</td>\n",
              "      <td>-0.413831</td>\n",
              "      <td>-0.381703</td>\n",
              "      <td>-0.367340</td>\n",
              "      <td>-0.294131</td>\n",
              "      <td>-0.281355</td>\n",
              "      <td>-0.688434</td>\n",
              "      <td>1.271512</td>\n",
              "      <td>-0.583211</td>\n",
              "      <td>-0.535937</td>\n",
              "      <td>-0.578669</td>\n",
              "      <td>-0.449417</td>\n",
              "      <td>-0.592901</td>\n",
              "      <td>-0.392874</td>\n",
              "      <td>-0.925905</td>\n",
              "      <td>...</td>\n",
              "      <td>-0.899372</td>\n",
              "      <td>2.089917</td>\n",
              "      <td>-0.363048</td>\n",
              "      <td>-0.418513</td>\n",
              "      <td>-0.394543</td>\n",
              "      <td>-0.351254</td>\n",
              "      <td>-0.573147</td>\n",
              "      <td>-0.321693</td>\n",
              "      <td>-0.857223</td>\n",
              "      <td>-0.328439</td>\n",
              "      <td>-0.736204</td>\n",
              "      <td>-0.417158</td>\n",
              "      <td>-0.628574</td>\n",
              "      <td>1.170687</td>\n",
              "      <td>-0.405387</td>\n",
              "      <td>-0.404522</td>\n",
              "      <td>1.400350</td>\n",
              "      <td>-0.449073</td>\n",
              "      <td>-0.63745</td>\n",
              "      <td>-0.448168</td>\n",
              "      <td>-0.486072</td>\n",
              "      <td>-0.523004</td>\n",
              "      <td>-0.524833</td>\n",
              "      <td>-0.245744</td>\n",
              "      <td>-0.336800</td>\n",
              "      <td>-0.362334</td>\n",
              "      <td>-0.522858</td>\n",
              "      <td>4.294199</td>\n",
              "      <td>-0.310341</td>\n",
              "      <td>-0.391109</td>\n",
              "      <td>-0.153422</td>\n",
              "      <td>-0.514540</td>\n",
              "      <td>-0.828219</td>\n",
              "      <td>-0.490978</td>\n",
              "      <td>-0.685208</td>\n",
              "      <td>-0.531266</td>\n",
              "      <td>-0.394530</td>\n",
              "      <td>-0.291561</td>\n",
              "      <td>-0.530411</td>\n",
              "      <td>-0.253849</td>\n",
              "    </tr>\n",
              "    <tr>\n",
              "      <th>3</th>\n",
              "      <td>2.200366</td>\n",
              "      <td>-0.353109</td>\n",
              "      <td>-0.504266</td>\n",
              "      <td>1.760039</td>\n",
              "      <td>4.452789</td>\n",
              "      <td>7.209559</td>\n",
              "      <td>3.223416</td>\n",
              "      <td>-0.604623</td>\n",
              "      <td>-0.490675</td>\n",
              "      <td>2.651004</td>\n",
              "      <td>1.590188</td>\n",
              "      <td>-0.34366</td>\n",
              "      <td>2.062458</td>\n",
              "      <td>-0.875986</td>\n",
              "      <td>-0.643001</td>\n",
              "      <td>0.604668</td>\n",
              "      <td>2.241600</td>\n",
              "      <td>-0.636451</td>\n",
              "      <td>-0.320253</td>\n",
              "      <td>-0.511338</td>\n",
              "      <td>-0.366688</td>\n",
              "      <td>-0.716364</td>\n",
              "      <td>-0.276949</td>\n",
              "      <td>1.336092</td>\n",
              "      <td>0.864355</td>\n",
              "      <td>2.021803</td>\n",
              "      <td>-0.413831</td>\n",
              "      <td>-0.381703</td>\n",
              "      <td>-0.367340</td>\n",
              "      <td>3.399947</td>\n",
              "      <td>-0.281355</td>\n",
              "      <td>1.530518</td>\n",
              "      <td>-0.744441</td>\n",
              "      <td>-0.583211</td>\n",
              "      <td>-0.535937</td>\n",
              "      <td>-0.578669</td>\n",
              "      <td>-0.449417</td>\n",
              "      <td>1.703405</td>\n",
              "      <td>-0.392874</td>\n",
              "      <td>-0.925905</td>\n",
              "      <td>...</td>\n",
              "      <td>1.158482</td>\n",
              "      <td>2.089917</td>\n",
              "      <td>-0.363048</td>\n",
              "      <td>-0.418513</td>\n",
              "      <td>-0.394543</td>\n",
              "      <td>-0.351254</td>\n",
              "      <td>-0.573147</td>\n",
              "      <td>-0.321693</td>\n",
              "      <td>-0.857223</td>\n",
              "      <td>-0.328439</td>\n",
              "      <td>-0.736204</td>\n",
              "      <td>2.406011</td>\n",
              "      <td>1.571238</td>\n",
              "      <td>1.061957</td>\n",
              "      <td>-0.405387</td>\n",
              "      <td>-0.404522</td>\n",
              "      <td>1.459706</td>\n",
              "      <td>-0.449073</td>\n",
              "      <td>-0.63745</td>\n",
              "      <td>2.261506</td>\n",
              "      <td>2.004146</td>\n",
              "      <td>-0.523004</td>\n",
              "      <td>1.797650</td>\n",
              "      <td>-0.245744</td>\n",
              "      <td>-0.336800</td>\n",
              "      <td>2.753144</td>\n",
              "      <td>1.785607</td>\n",
              "      <td>4.294200</td>\n",
              "      <td>3.223133</td>\n",
              "      <td>-0.391109</td>\n",
              "      <td>6.517990</td>\n",
              "      <td>-0.514540</td>\n",
              "      <td>1.019691</td>\n",
              "      <td>2.038335</td>\n",
              "      <td>-0.685208</td>\n",
              "      <td>-0.531266</td>\n",
              "      <td>-0.394530</td>\n",
              "      <td>-0.291561</td>\n",
              "      <td>-0.530411</td>\n",
              "      <td>-0.253849</td>\n",
              "    </tr>\n",
              "    <tr>\n",
              "      <th>4</th>\n",
              "      <td>-0.449314</td>\n",
              "      <td>-0.353109</td>\n",
              "      <td>-0.504266</td>\n",
              "      <td>-0.525630</td>\n",
              "      <td>-0.224578</td>\n",
              "      <td>-0.138705</td>\n",
              "      <td>-0.310309</td>\n",
              "      <td>-0.604623</td>\n",
              "      <td>-0.490675</td>\n",
              "      <td>-0.376517</td>\n",
              "      <td>-0.611235</td>\n",
              "      <td>-0.34366</td>\n",
              "      <td>-0.476368</td>\n",
              "      <td>-0.875986</td>\n",
              "      <td>-0.643001</td>\n",
              "      <td>-0.950731</td>\n",
              "      <td>2.289994</td>\n",
              "      <td>-0.636451</td>\n",
              "      <td>-0.320253</td>\n",
              "      <td>-0.511338</td>\n",
              "      <td>-0.366688</td>\n",
              "      <td>-0.716364</td>\n",
              "      <td>-0.276949</td>\n",
              "      <td>-0.033577</td>\n",
              "      <td>-1.058076</td>\n",
              "      <td>-0.507773</td>\n",
              "      <td>-0.413831</td>\n",
              "      <td>-0.381703</td>\n",
              "      <td>-0.367340</td>\n",
              "      <td>-0.294131</td>\n",
              "      <td>-0.281355</td>\n",
              "      <td>-0.688434</td>\n",
              "      <td>-0.744441</td>\n",
              "      <td>-0.583211</td>\n",
              "      <td>-0.535937</td>\n",
              "      <td>-0.578669</td>\n",
              "      <td>-0.449417</td>\n",
              "      <td>-0.592901</td>\n",
              "      <td>-0.392874</td>\n",
              "      <td>-0.925905</td>\n",
              "      <td>...</td>\n",
              "      <td>-0.899372</td>\n",
              "      <td>-0.474409</td>\n",
              "      <td>-0.363048</td>\n",
              "      <td>-0.418513</td>\n",
              "      <td>-0.394543</td>\n",
              "      <td>-0.351254</td>\n",
              "      <td>-0.573147</td>\n",
              "      <td>-0.321693</td>\n",
              "      <td>0.930708</td>\n",
              "      <td>-0.328439</td>\n",
              "      <td>-0.736204</td>\n",
              "      <td>-0.417158</td>\n",
              "      <td>-0.628574</td>\n",
              "      <td>-1.134517</td>\n",
              "      <td>2.450919</td>\n",
              "      <td>-0.404522</td>\n",
              "      <td>-0.732353</td>\n",
              "      <td>2.252895</td>\n",
              "      <td>-0.63745</td>\n",
              "      <td>-0.448168</td>\n",
              "      <td>-0.486072</td>\n",
              "      <td>-0.523004</td>\n",
              "      <td>-0.524833</td>\n",
              "      <td>-0.245744</td>\n",
              "      <td>-0.336800</td>\n",
              "      <td>2.767124</td>\n",
              "      <td>-0.522858</td>\n",
              "      <td>4.294199</td>\n",
              "      <td>-0.310341</td>\n",
              "      <td>-0.391109</td>\n",
              "      <td>-0.153422</td>\n",
              "      <td>1.877117</td>\n",
              "      <td>-0.828219</td>\n",
              "      <td>-0.490978</td>\n",
              "      <td>-0.685208</td>\n",
              "      <td>-0.531266</td>\n",
              "      <td>2.487596</td>\n",
              "      <td>-0.291561</td>\n",
              "      <td>-0.530411</td>\n",
              "      <td>-0.253849</td>\n",
              "    </tr>\n",
              "  </tbody>\n",
              "</table>\n",
              "<p>5 rows × 93 columns</p>\n",
              "</div>"
            ],
            "text/plain": [
              "     feat_1    feat_2    feat_3  ...   feat_91   feat_92   feat_93\n",
              "0  2.200366 -0.353109 -0.504266  ... -0.291561 -0.530411 -0.253849\n",
              "1 -0.449314 -0.353109 -0.504266  ... -0.291561 -0.530411 -0.253849\n",
              "2 -0.449314 -0.353109 -0.504266  ... -0.291561 -0.530411 -0.253849\n",
              "3  2.200366 -0.353109 -0.504266  ... -0.291561 -0.530411 -0.253849\n",
              "4 -0.449314 -0.353109 -0.504266  ... -0.291561 -0.530411 -0.253849\n",
              "\n",
              "[5 rows x 93 columns]"
            ]
          },
          "metadata": {
            "tags": []
          },
          "execution_count": 29
        }
      ]
    },
    {
      "cell_type": "markdown",
      "metadata": {
        "id": "IpXQbIZRu0x4"
      },
      "source": [
        "### Pipes"
      ]
    },
    {
      "cell_type": "code",
      "metadata": {
        "id": "cCBtTirEvo72"
      },
      "source": [
        "pipe1 = make_pipeline(StandardScaler(), PowerTransformer(), rf(max_depth =30))\n",
        "pipe2 = make_pipeline(StandardScaler(), rf(max_depth =30))\n",
        "#pipe3 = make_pipeline(StandardScaler(), ExtraTreesClassifier(n_estimators=300, max_depth =30))\n",
        "#pipe4 = make_pipeline(StandardScaler(), PowerTransformer(), GaussianNB())\n",
        "pipe5 = make_pipeline(StandardScaler(), LogisticRegression( multi_class=\"multinomial\", max_iter = 8000))\n",
        "pipe3 = make_pipeline(StandardScaler(), PolynomialFeatures(2,interaction_only=False, include_bias = False),VarianceThreshold(), ExtraTreesClassifier(n_estimators=300, max_depth =30))\n",
        "pipe4 = make_pipeline(StandardScaler(), PolynomialFeatures(2,interaction_only=False, include_bias = False), VarianceThreshold(),SelectKBest(k=200),  rf())\n"
      ],
      "execution_count": null,
      "outputs": []
    },
    {
      "cell_type": "code",
      "metadata": {
        "id": "Blun9HAC-b82"
      },
      "source": [
        "pipe1 = make_pipeline(StandardScaler(), PowerTransformer(), rf(max_depth =30))\n",
        "pipe2 = make_pipeline(StandardScaler(), rf(max_depth =30))\n",
        "#pipe3 = make_pipeline(StandardScaler(), ExtraTreesClassifier(n_estimators=300, max_depth =30))\n",
        "#pipe4 = make_pipeline(StandardScaler(), PowerTransformer(), GaussianNB())\n",
        "pipe5 = make_pipeline(StandardScaler(), LogisticRegression( multi_class=\"multinomial\", max_iter = 8000))\n",
        "#pipe3 = make_pipeline(StandardScaler(), PolynomialFeatures(2,interaction_only=False, include_bias = False),VarianceThreshold(), ExtraTreesClassifier(n_estimators=300, max_depth =30))\n",
        "pipe4 = make_pipeline(StandardScaler(), PolynomialFeatures(2,interaction_only=False, include_bias = False), VarianceThreshold(),SelectKBest(k=200),  rf())\n"
      ],
      "execution_count": null,
      "outputs": []
    },
    {
      "cell_type": "code",
      "metadata": {
        "id": "lJun3F3K_TF_"
      },
      "source": [
        "pipe1 = make_pipeline(StandardScaler(), PowerTransformer(), rf(max_depth =30))\n",
        "pipe2 = make_pipeline(StandardScaler(), rf(max_depth =30))\n",
        "#pipe3 = make_pipeline(StandardScaler(), ExtraTreesClassifier(n_estimators=300, max_depth =30))\n",
        "pipe5 = make_pipeline(StandardScaler(), LogisticRegression( multi_class=\"multinomial\", max_iter = 8000))\n",
        "#pipe3 = make_pipeline(StandardScaler(), PolynomialFeatures(2,interaction_only=False, include_bias = False),VarianceThreshold(), ExtraTreesClassifier(n_estimators=300, max_depth =30))\n",
        "pipe4 = make_pipeline(StandardScaler(), PolynomialFeatures(2,interaction_only=False, include_bias = False), VarianceThreshold(),SelectKBest(k=200),  rf(n_estimators = 300))\n",
        "\n"
      ],
      "execution_count": null,
      "outputs": []
    },
    {
      "cell_type": "code",
      "metadata": {
        "id": "aRELv0JVAuCg"
      },
      "source": [
        "pipe1 = make_pipeline(StandardScaler(), PowerTransformer(), rf(max_depth =30))\n",
        "pipe2 = make_pipeline(StandardScaler(), rf(max_depth =30))\n",
        "#pipe3 = make_pipeline(StandardScaler(), ExtraTreesClassifier(n_estimators=300, max_depth =30))\n",
        "#pipe4 = make_pipeline(StandardScaler(), PowerTransformer(), GaussianNB())\n",
        "pipe5 = make_pipeline(StandardScaler(), LogisticRegression( multi_class=\"multinomial\", max_iter = 8000))\n",
        "#pipe3 = make_pipeline(StandardScaler(), PolynomialFeatures(2,interaction_only=False, include_bias = False),VarianceThreshold(), ExtraTreesClassifier(n_estimators=300, max_depth =30))\n",
        "pipe4 = make_pipeline(StandardScaler(), PolynomialFeatures(2,interaction_only=False, include_bias = False), VarianceThreshold(),SelectKBest(k=200),  rf(n_estimators = 300))\n",
        "pipe3 = make_pipeline(StandardScaler(), PolynomialFeatures(2,interaction_only=True, include_bias = False), VarianceThreshold(),SelectKBest(k=200),  rf(n_estimators = 100))\n"
      ],
      "execution_count": null,
      "outputs": []
    },
    {
      "cell_type": "code",
      "metadata": {
        "id": "ly8pTEsge2EI"
      },
      "source": [
        "pipe5.fit(train,y)"
      ],
      "execution_count": null,
      "outputs": []
    },
    {
      "cell_type": "code",
      "metadata": {
        "colab": {
          "base_uri": "https://localhost:8080/"
        },
        "id": "EmqvyCIMh8KF",
        "outputId": "52474ca8-411b-40a3-d281-3c24b7e86762"
      },
      "source": [
        "pipe5.predict(train)"
      ],
      "execution_count": null,
      "outputs": [
        {
          "output_type": "execute_result",
          "data": {
            "text/plain": [
              "array([0, 0, 0, ..., 8, 5, 8])"
            ]
          },
          "metadata": {
            "tags": []
          },
          "execution_count": 61
        }
      ]
    },
    {
      "cell_type": "code",
      "metadata": {
        "id": "e5SXy9zPGV-o"
      },
      "source": [
        "# 10.0\n",
        "degree = 2\n",
        "poly = PolynomialFeatures(degree,                 # Degree 2\n",
        "                          interaction_only=False,  # Avoid e.g. square(a)\n",
        "                          include_bias = False    # No constant term\n",
        "                          )\n",
        "\n",
        "# 10.1\n",
        "pol_features =  poly.fit_transform(x_train)        # To limit features, use X[:, :40]\n",
        "pol_features.shape     #  (61878, 4371)\n",
        "pol_features\n",
        "\n",
        "\n",
        "# 10.2 Are there any features with constant columns\n",
        "selector = VarianceThreshold()\n",
        "# 10.2.1\n",
        "selector.fit(pol_features)\n",
        "# 10.2.2\n",
        "X_poly = selector.transform(pol_features)\n",
        "print()\n",
        "X_poly.shape           # (61878, 4371)\n",
        "print()\n",
        "# 10.3\n",
        "del pol_features\n",
        "gc.collect()\n"
      ],
      "execution_count": null,
      "outputs": []
    },
    {
      "cell_type": "code",
      "metadata": {
        "colab": {
          "base_uri": "https://localhost:8080/"
        },
        "id": "c01HM1D8HkGi",
        "outputId": "e71b1296-ef36-4bb9-c327-7e6e6da0fea2"
      },
      "source": [
        "\n",
        "impt_features = SelectKBest(\n",
        "                            k=2500           # Default k = 10\n",
        "                            )\n",
        "# 11.1\n",
        "impt_features.fit(X_poly,y)\n",
        "# 11.2\n",
        "impt_features = impt_features.transform(X_poly)\n",
        "# 11.3\n",
        "impt_features.shape    # (61878, 2500)\n",
        "###################\n"
      ],
      "execution_count": null,
      "outputs": [
        {
          "output_type": "execute_result",
          "data": {
            "text/plain": [
              "SelectKBest(k=2500, score_func=<function f_classif at 0x7f4c3d038b90>)"
            ]
          },
          "metadata": {
            "tags": []
          },
          "execution_count": 118
        },
        {
          "output_type": "execute_result",
          "data": {
            "text/plain": [
              "(61878, 2500)"
            ]
          },
          "metadata": {
            "tags": []
          },
          "execution_count": 118
        }
      ]
    },
    {
      "cell_type": "code",
      "metadata": {
        "id": "uiM9jcY_IP_j"
      },
      "source": [
        "# 12.1 Split train into training and validation dataset. Statistical features\n",
        "# https://stackoverflow.com/questions/31521170/scikit-learn-train-test-split-with-indices\n",
        "# https://scikit-learn.org/stable/modules/generated/sklearn.model_selection.StratifiedShuffleSplit.html#:~:text=Stratified%20ShuffleSplit%20cross-validator%20Provides%20train%2Ftest%20indices%20to%20split,preserving%20the%20percentage%20of%20samples%20for%20each%20class.\n",
        "sss = StratifiedShuffleSplit(                      # Perform stratified sampling on 'y'\n",
        "                             n_splits=1,           # How many split-pairs of Xtrain/Xtest\n",
        "                             test_size=0.3\n",
        "                             )\n",
        "\n",
        "# 12.2 Get just indicies of data to be pulled\n",
        "\n",
        "X_train_index, X_test_index = next(sss.split(train, y))      # sss.split() is a generator object\n"
      ],
      "execution_count": 151,
      "outputs": []
    },
    {
      "cell_type": "code",
      "metadata": {
        "id": "JUARaN-xJZ41"
      },
      "source": [
        "X_orig_train,X_orig_test  = train.loc[X_train_index, :],train.loc[X_test_index,:]  "
      ],
      "execution_count": 152,
      "outputs": []
    },
    {
      "cell_type": "code",
      "metadata": {
        "id": "JRCZmZjWJciZ"
      },
      "source": [
        "X_poly_train, X_poly_test = X_poly[X_train_index], X_poly[X_test_index] "
      ],
      "execution_count": null,
      "outputs": []
    },
    {
      "cell_type": "code",
      "metadata": {
        "id": "50phEu5rJg9L"
      },
      "source": [
        "X_stat_train,X_stat_test  = x_train.iloc[X_train_index], x_train.iloc[X_test_index]"
      ],
      "execution_count": null,
      "outputs": []
    },
    {
      "cell_type": "code",
      "metadata": {
        "id": "FnWM-u2WKy17"
      },
      "source": [
        "X_impt_train,X_impt_test  = impt_features[X_train_index], impt_features[X_test_index]  "
      ],
      "execution_count": null,
      "outputs": []
    },
    {
      "cell_type": "code",
      "metadata": {
        "colab": {
          "base_uri": "https://localhost:8080/"
        },
        "id": "kSpv-orBH8v8",
        "outputId": "e4b4a727-4069-4566-ba33-b7bfbd78dc6f"
      },
      "source": [
        "## 12.4 Partitions of target column\n",
        "y_train, y_test = y[X_train_index], y[X_test_index]\n",
        "\n",
        "# 12.5\n",
        "X_orig_train.shape    # (43314, 4371)\n",
        "X_orig_test.shape     # (18564, 4371)\n",
        "#X_poly_train.shape\n"
      ],
      "execution_count": 153,
      "outputs": [
        {
          "output_type": "execute_result",
          "data": {
            "text/plain": [
              "(43314, 93)"
            ]
          },
          "metadata": {
            "tags": []
          },
          "execution_count": 153
        },
        {
          "output_type": "execute_result",
          "data": {
            "text/plain": [
              "(18564, 93)"
            ]
          },
          "metadata": {
            "tags": []
          },
          "execution_count": 153
        }
      ]
    },
    {
      "cell_type": "code",
      "metadata": {
        "id": "W2LIJNh0j8AJ"
      },
      "source": [
        "\n",
        "from sklearn.ensemble import StackingClassifier\n",
        "from sklearn.linear_model import LogisticRegression\n",
        "from sklearn.linear_model import RidgeClassifier\n",
        "from sklearn.naive_bayes import GaussianNB\n",
        "from sklearn.svm import LinearSVC"
      ],
      "execution_count": null,
      "outputs": []
    },
    {
      "cell_type": "code",
      "metadata": {
        "id": "R5idfef1lZ53"
      },
      "source": [
        "estimators = [pipe1,pipe2,pipe3,pipe4]\n",
        "    ('rf', rf(n_estimators=100)),\n",
        "    ('log', LogisticRegression(max_iter = 8000) ),\n",
        "    #(\"rid\", RidgeClassifier()),\n",
        "    ('nb', LinearSVC(dual = False))\n",
        "    \n",
        "]\n",
        "clf_stack = StackingClassifier(\n",
        "    estimators=estimators, final_estimator=rf(n_estimators=100)\n",
        ")\n",
        "clf_stack.fit(X_orig_train, y_train)\n",
        "prob_orig = clf_stack.predict_proba(X_orig_test)\n",
        "log_loss(y_test,prob_orig)         # 0.6069367467472497 0.6166262332908614"
      ],
      "execution_count": null,
      "outputs": []
    },
    {
      "cell_type": "code",
      "metadata": {
        "id": "qbMvof_cxk7l"
      },
      "source": [
        "estimators = [\n",
        "               (\"pipe1\", pipe1),\n",
        "               (\"pipe2\",pipe2),\n",
        "               (\"pipe3\",pipe3),\n",
        "               (\"pipe4\",pipe4),\n",
        "               (\"pipe5\",pipe5),\n",
        "              ]\n",
        "\n",
        "clf_stack = StackingClassifier(\n",
        "                               estimators=estimators,\n",
        "                               final_estimator=rf(n_estimators=100),\n",
        "                               verbose =1,\n",
        "                               n_jobs = -1\n",
        "                               )\n",
        "\n"
      ],
      "execution_count": null,
      "outputs": []
    },
    {
      "cell_type": "code",
      "metadata": {
        "id": "k_HSSyZU35RJ"
      },
      "source": [
        "estimators = [\n",
        "               (\"pipe1\", pipe1),\n",
        "               (\"pipe2\",pipe2),\n",
        "               #(\"pipe3\",pipe3),\n",
        "               (\"pipe4\",pipe4),\n",
        "               (\"pipe5\",pipe5),\n",
        "              ]\n",
        "\n",
        "clf_vote = VotingClassifier(\n",
        "                               estimators=estimators,\n",
        "                               voting = \"soft\",\n",
        "                               n_jobs = -1\n",
        "                               )\n",
        "\n"
      ],
      "execution_count": null,
      "outputs": []
    },
    {
      "cell_type": "code",
      "metadata": {
        "id": "8ojf5ohtlN3d"
      },
      "source": [
        "clf_stack.fit(X_orig_train, y_train)\n",
        "prob_orig = clf_stack.predict_proba(X_orig_test)\n",
        "log_loss(y_test,prob_orig)         # 0.6069367467472497 0.6166262332908614"
      ],
      "execution_count": null,
      "outputs": []
    },
    {
      "cell_type": "code",
      "metadata": {
        "id": "V9C4LMw44SKy"
      },
      "source": [
        "clf_vote.fit(X_orig_train, y_train)\n",
        "prob_orig = clf_vote.predict_proba(X_orig_test)\n",
        "log_loss(y_test,prob_orig)         # 0.6069367467472497 0.6166262332908614"
      ],
      "execution_count": null,
      "outputs": []
    },
    {
      "cell_type": "code",
      "metadata": {
        "colab": {
          "base_uri": "https://localhost:8080/"
        },
        "id": "0SdvBuDmJlea",
        "outputId": "70a8fb45-c983-4a86-cf73-a2e6a04dc8ff"
      },
      "source": [
        "## 13. With Polynomial features\n",
        "#  13.1 Instantiate RandomForest classifier\n",
        "clf_poly_rf = rf(n_estimators=10)\n",
        "\n",
        "# 13.2 Fit/train the object on training data\n",
        "clf_poly_rf = clf_poly_rf.fit(X_poly_train, y_train)\n",
        "# 13.3  Use model to make predictions\n",
        "classes_poly_rf = clf_poly_rf.predict(X_poly_test)\n",
        "# 13.4 Probability predictios\n",
        "prob_poly     = clf_poly_rf.predict_proba(X_poly_test)\n",
        "prob_poly.shape    # (18564, 9)\n",
        "# 13.5 Check log loss\n",
        "log_loss( y_test,prob_poly)     # 0.6263 0.6546697859585899 0.6627180577198296\n"
      ],
      "execution_count": null,
      "outputs": [
        {
          "output_type": "execute_result",
          "data": {
            "text/plain": [
              "(18564, 9)"
            ]
          },
          "metadata": {
            "tags": []
          },
          "execution_count": 124
        },
        {
          "output_type": "execute_result",
          "data": {
            "text/plain": [
              "1.6939458611762608"
            ]
          },
          "metadata": {
            "tags": []
          },
          "execution_count": 124
        }
      ]
    },
    {
      "cell_type": "code",
      "metadata": {
        "id": "cqWDjCWjJ47l",
        "colab": {
          "base_uri": "https://localhost:8080/"
        },
        "outputId": "f838fe12-ea49-46d1-fce0-8e9cb17af65c"
      },
      "source": [
        "## 14. Impt k-features from polynomial features\n",
        "clf_impt = rf(n_estimators=100)\n",
        "clf_impt = clf_impt.fit(X_impt_train, y_train)\n",
        "prob_impt = clf_impt.predict_proba(X_impt_test)\n",
        "log_loss( y_test,prob_impt)         # 0.6626970448421848 0.6713134574542247\n"
      ],
      "execution_count": null,
      "outputs": [
        {
          "output_type": "execute_result",
          "data": {
            "text/plain": [
              "0.6449464676517388"
            ]
          },
          "metadata": {
            "tags": []
          },
          "execution_count": 126
        }
      ]
    },
    {
      "cell_type": "code",
      "metadata": {
        "colab": {
          "base_uri": "https://localhost:8080/"
        },
        "id": "_w8VHwvK3sVg",
        "outputId": "54939945-285a-4797-86e2-9d6ec828e98a"
      },
      "source": [
        "target.value_counts()\n",
        "print(\"\\n\\n\")\n",
        "dict(zip(np.unique(y)+1,weights))"
      ],
      "execution_count": 75,
      "outputs": [
        {
          "output_type": "execute_result",
          "data": {
            "text/plain": [
              "Class_2    16122\n",
              "Class_6    14135\n",
              "Class_8     8464\n",
              "Class_3     8004\n",
              "Class_9     4955\n",
              "Class_7     2839\n",
              "Class_5     2739\n",
              "Class_4     2691\n",
              "Class_1     1929\n",
              "Name: target, dtype: int64"
            ]
          },
          "metadata": {
            "tags": []
          },
          "execution_count": 75
        },
        {
          "output_type": "stream",
          "text": [
            "\n",
            "\n",
            "\n"
          ],
          "name": "stdout"
        },
        {
          "output_type": "execute_result",
          "data": {
            "text/plain": [
              "{1: 3.5641956108519093,\n",
              " 2: 0.4264566017450275,\n",
              " 3: 0.8589871730801266,\n",
              " 4: 2.5549362071101203,\n",
              " 5: 2.51016185955945,\n",
              " 6: 0.4864049050819479,\n",
              " 7: 2.4217447458025125,\n",
              " 8: 0.8123030875866415,\n",
              " 9: 1.3875546585940128}"
            ]
          },
          "metadata": {
            "tags": []
          },
          "execution_count": 75
        }
      ]
    },
    {
      "cell_type": "code",
      "metadata": {
        "colab": {
          "base_uri": "https://localhost:8080/"
        },
        "id": "tFswdlSW54un",
        "outputId": "568c056e-f42d-41a6-8ea8-7620ddb48813"
      },
      "source": [
        "c_weights = dict(zip(np.unique(y),weights))\n",
        "c_weights"
      ],
      "execution_count": 76,
      "outputs": [
        {
          "output_type": "execute_result",
          "data": {
            "text/plain": [
              "{0: 3.5641956108519093,\n",
              " 1: 0.4264566017450275,\n",
              " 2: 0.8589871730801266,\n",
              " 3: 2.5549362071101203,\n",
              " 4: 2.51016185955945,\n",
              " 5: 0.4864049050819479,\n",
              " 6: 2.4217447458025125,\n",
              " 7: 0.8123030875866415,\n",
              " 8: 1.3875546585940128}"
            ]
          },
          "metadata": {
            "tags": []
          },
          "execution_count": 76
        }
      ]
    },
    {
      "cell_type": "code",
      "metadata": {
        "colab": {
          "base_uri": "https://localhost:8080/"
        },
        "id": "o95odoh78E7H",
        "outputId": "e9b3a5a5-fa57-45f2-8c60-72ba0dd9c1f6"
      },
      "source": [
        "c_weights = dict(zip(np.unique(y),[3,1,1,1,1,1,1,1,1]))\n",
        "c_weights"
      ],
      "execution_count": 223,
      "outputs": [
        {
          "output_type": "execute_result",
          "data": {
            "text/plain": [
              "{0: 3, 1: 1, 2: 1, 3: 1, 4: 1, 5: 1, 6: 1, 7: 1, 8: 1}"
            ]
          },
          "metadata": {
            "tags": []
          },
          "execution_count": 223
        }
      ]
    },
    {
      "cell_type": "code",
      "metadata": {
        "id": "MDXobOZEKp20"
      },
      "source": [
        "## 18. Original features\n",
        "#c_weights = \"balanced_subsample\"\n",
        "clf_orig = rf(\n",
        "               n_estimators=100,\n",
        "               max_depth = 35,\n",
        "               class_weight = c_weights,\n",
        "               oob_score = True\n",
        "              )\n",
        "clf_orig.fit(X_orig_train[cols[0:]], y_train)\n",
        "prob_orig = clf_orig.predict_proba(X_orig_test[cols[0:]])\n",
        "print()\n",
        "log_loss(y_test,prob_orig)         # 0.6069367467472497 0.6166262332908614\n",
        "print()\n"
      ],
      "execution_count": null,
      "outputs": []
    },
    {
      "cell_type": "code",
      "metadata": {
        "id": "pABcw5elKU9l",
        "outputId": "8b765f5b-5a17-4168-f500-d75050daa1a7",
        "colab": {
          "base_uri": "https://localhost:8080/"
        }
      },
      "source": [
        "# Accuracy on OOB samples\n",
        "clf_orig.oob_score_"
      ],
      "execution_count": 248,
      "outputs": [
        {
          "output_type": "execute_result",
          "data": {
            "text/plain": [
              "0.7980560557787321"
            ]
          },
          "metadata": {
            "tags": []
          },
          "execution_count": 248
        }
      ]
    },
    {
      "cell_type": "code",
      "metadata": {
        "id": "qFl6dpx3K9sU"
      },
      "source": [
        "d = dict(zip(train.columns,clf_orig.feature_importances_))"
      ],
      "execution_count": 234,
      "outputs": []
    },
    {
      "cell_type": "code",
      "metadata": {
        "id": "BH6uSwG2LtDa"
      },
      "source": [
        "# Ref: https://stackoverflow.com/a/613228/3282777\n",
        "from operator import itemgetter\n",
        "d = dict(zip(train.columns,clf_orig.feature_importances_))\n",
        "result = sorted(d.items(), key=itemgetter(1))\n",
        "result\n",
        "cols = [i[0] for i in result]\n",
        "cols"
      ],
      "execution_count": null,
      "outputs": []
    },
    {
      "cell_type": "code",
      "metadata": {
        "id": "8cfCzwyNC77z"
      },
      "source": [
        "test = X_orig_test.copy()\n",
        "test['target'] = y_test"
      ],
      "execution_count": 213,
      "outputs": []
    },
    {
      "cell_type": "code",
      "metadata": {
        "id": "Oy43O7YuCca_"
      },
      "source": [
        "test['pred'] = clf_orig.predict(test.iloc[:,:-1])\n"
      ],
      "execution_count": 214,
      "outputs": []
    },
    {
      "cell_type": "code",
      "metadata": {
        "id": "hEvT_ffeEPLT",
        "outputId": "30929843-37cb-491b-da8d-b606aad8d1ce",
        "colab": {
          "base_uri": "https://localhost:8080/"
        }
      },
      "source": [
        "confusion_matrix(test['target'],test['pred'])"
      ],
      "execution_count": 215,
      "outputs": [
        {
          "output_type": "execute_result",
          "data": {
            "text/plain": [
              "array([[ 265,   30,    1,    1,    3,   45,   11,  100,  123],\n",
              "       [   2, 4315,  435,   24,    8,   14,   22,    7,   10],\n",
              "       [   2, 1266, 1077,   23,    0,    3,   14,   11,    5],\n",
              "       [   1,  352,  110,  306,    3,   30,    5,    0,    0],\n",
              "       [   4,   20,    0,    0,  797,    1,    0,    0,    0],\n",
              "       [  13,   48,    4,    7,    1, 4022,   40,   67,   39],\n",
              "       [  16,  115,   64,    3,    7,   81,  456,   99,   11],\n",
              "       [  24,   25,    8,    0,    1,   69,   11, 2362,   39],\n",
              "       [  38,   40,    1,    0,    3,   45,    5,   54, 1300]])"
            ]
          },
          "metadata": {
            "tags": []
          },
          "execution_count": 215
        }
      ]
    },
    {
      "cell_type": "code",
      "metadata": {
        "id": "ho8trChQF63j",
        "outputId": "c40b790f-b6a4-4c78-cfd3-81caab1407a3",
        "colab": {
          "base_uri": "https://localhost:8080/"
        }
      },
      "source": [
        "test['target'].value_counts()"
      ],
      "execution_count": 205,
      "outputs": [
        {
          "output_type": "execute_result",
          "data": {
            "text/plain": [
              "1    4837\n",
              "5    4241\n",
              "7    2539\n",
              "2    2401\n",
              "8    1486\n",
              "6     852\n",
              "4     822\n",
              "3     807\n",
              "0     579\n",
              "Name: target, dtype: int64"
            ]
          },
          "metadata": {
            "tags": []
          },
          "execution_count": 205
        }
      ]
    },
    {
      "cell_type": "code",
      "metadata": {
        "id": "8Xl7VJn10-mX"
      },
      "source": [
        "## 18. Original features\n",
        "pipe1.fit(X_orig_train, y_train)\n",
        "prob_orig = pipe1.predict_proba(X_orig_test)\n",
        "log_loss(y_test,prob_orig)         # 0.6069367467472497 0.6166262332908614"
      ],
      "execution_count": null,
      "outputs": []
    },
    {
      "cell_type": "code",
      "metadata": {
        "colab": {
          "base_uri": "https://localhost:8080/"
        },
        "id": "08oxL3IJ1Sf9",
        "outputId": "e693e25a-424a-4c2f-90f1-889026476439"
      },
      "source": [
        "## 18. Original features\n",
        "pipe2.fit(X_orig_train, y_train)\n",
        "prob_orig = pipe2.predict_proba(X_orig_test)\n",
        "log_loss(y_test,prob_orig)         # 0.6069367467472497 0.6166262332908614"
      ],
      "execution_count": null,
      "outputs": [
        {
          "output_type": "execute_result",
          "data": {
            "text/plain": [
              "Pipeline(memory=None,\n",
              "         steps=[('standardscaler',\n",
              "                 StandardScaler(copy=True, with_mean=True, with_std=True)),\n",
              "                ('randomforestclassifier',\n",
              "                 RandomForestClassifier(bootstrap=True, ccp_alpha=0.0,\n",
              "                                        class_weight=None, criterion='gini',\n",
              "                                        max_depth=None, max_features='auto',\n",
              "                                        max_leaf_nodes=None, max_samples=None,\n",
              "                                        min_impurity_decrease=0.0,\n",
              "                                        min_impurity_split=None,\n",
              "                                        min_samples_leaf=1, min_samples_split=2,\n",
              "                                        min_weight_fraction_leaf=0.0,\n",
              "                                        n_estimators=100, n_jobs=None,\n",
              "                                        oob_score=False, random_state=None,\n",
              "                                        verbose=0, warm_start=False))],\n",
              "         verbose=False)"
            ]
          },
          "metadata": {
            "tags": []
          },
          "execution_count": 79
        },
        {
          "output_type": "execute_result",
          "data": {
            "text/plain": [
              "0.6128318263285067"
            ]
          },
          "metadata": {
            "tags": []
          },
          "execution_count": 79
        }
      ]
    },
    {
      "cell_type": "code",
      "metadata": {
        "colab": {
          "base_uri": "https://localhost:8080/"
        },
        "id": "gxPcLoNz14Aa",
        "outputId": "ecac4102-f395-40fd-b52b-380439addc67"
      },
      "source": [
        "## 18. Original features\n",
        "pipe3.fit(X_orig_train, y_train)\n",
        "prob_orig = pipe3.predict_proba(X_orig_test)\n",
        "log_loss(y_test,prob_orig)      "
      ],
      "execution_count": null,
      "outputs": [
        {
          "output_type": "execute_result",
          "data": {
            "text/plain": [
              "Pipeline(memory=None,\n",
              "         steps=[('standardscaler',\n",
              "                 StandardScaler(copy=True, with_mean=True, with_std=True)),\n",
              "                ('extratreesclassifier',\n",
              "                 ExtraTreesClassifier(bootstrap=False, ccp_alpha=0.0,\n",
              "                                      class_weight=None, criterion='gini',\n",
              "                                      max_depth=None, max_features='auto',\n",
              "                                      max_leaf_nodes=None, max_samples=None,\n",
              "                                      min_impurity_decrease=0.0,\n",
              "                                      min_impurity_split=None,\n",
              "                                      min_samples_leaf=1, min_samples_split=2,\n",
              "                                      min_weight_fraction_leaf=0.0,\n",
              "                                      n_estimators=300, n_jobs=None,\n",
              "                                      oob_score=False, random_state=None,\n",
              "                                      verbose=0, warm_start=False))],\n",
              "         verbose=False)"
            ]
          },
          "metadata": {
            "tags": []
          },
          "execution_count": 84
        },
        {
          "output_type": "execute_result",
          "data": {
            "text/plain": [
              "0.6028930683621544"
            ]
          },
          "metadata": {
            "tags": []
          },
          "execution_count": 84
        }
      ]
    },
    {
      "cell_type": "code",
      "metadata": {
        "colab": {
          "base_uri": "https://localhost:8080/"
        },
        "id": "ADq1T-HK1-S4",
        "outputId": "f9755205-e629-4ef8-b2de-00a8cf929992"
      },
      "source": [
        "## 18. Original features\n",
        "pipe4.fit(X_orig_train, y_train)\n",
        "prob_orig = pipe4.predict_proba(X_orig_test)\n",
        "log_loss(y_test,prob_orig) "
      ],
      "execution_count": null,
      "outputs": [
        {
          "output_type": "execute_result",
          "data": {
            "text/plain": [
              "Pipeline(memory=None,\n",
              "         steps=[('standardscaler',\n",
              "                 StandardScaler(copy=True, with_mean=True, with_std=True)),\n",
              "                ('powertransformer',\n",
              "                 PowerTransformer(copy=True, method='yeo-johnson',\n",
              "                                  standardize=True)),\n",
              "                ('extratreesclassifier',\n",
              "                 ExtraTreesClassifier(bootstrap=False, ccp_alpha=0.0,\n",
              "                                      class_weight=None, criterion='gini',\n",
              "                                      max_depth=30, max_features='auto',\n",
              "                                      max_leaf_nodes=None, max_samples=None,\n",
              "                                      min_impurity_decrease=0.0,\n",
              "                                      min_impurity_split=None,\n",
              "                                      min_samples_leaf=1, min_samples_split=2,\n",
              "                                      min_weight_fraction_leaf=0.0,\n",
              "                                      n_estimators=300, n_jobs=None,\n",
              "                                      oob_score=False, random_state=None,\n",
              "                                      verbose=0, warm_start=False))],\n",
              "         verbose=False)"
            ]
          },
          "metadata": {
            "tags": []
          },
          "execution_count": 104
        },
        {
          "output_type": "execute_result",
          "data": {
            "text/plain": [
              "0.6499708300379367"
            ]
          },
          "metadata": {
            "tags": []
          },
          "execution_count": 104
        }
      ]
    },
    {
      "cell_type": "code",
      "metadata": {
        "colab": {
          "base_uri": "https://localhost:8080/"
        },
        "id": "FpkMS793G2E-",
        "outputId": "865d9aa0-aba1-4afc-c7a2-c392f86c8b2c"
      },
      "source": [
        "## 18. Original features\n",
        "pipe4.fit(X_orig_train, y_train)\n",
        "prob_orig = pipe4.predict_proba(X_orig_test)\n",
        "log_loss(y_test,prob_orig)         # 0.6069367467472497 0.6166262332908614"
      ],
      "execution_count": null,
      "outputs": [
        {
          "output_type": "execute_result",
          "data": {
            "text/plain": [
              "Pipeline(memory=None,\n",
              "         steps=[('standardscaler',\n",
              "                 StandardScaler(copy=True, with_mean=True, with_std=True)),\n",
              "                ('powertransformer',\n",
              "                 PowerTransformer(copy=True, method='yeo-johnson',\n",
              "                                  standardize=True)),\n",
              "                ('extratreesclassifier',\n",
              "                 ExtraTreesClassifier(bootstrap=False, ccp_alpha=0.0,\n",
              "                                      class_weight=None, criterion='gini',\n",
              "                                      max_depth=None, max_features='auto',\n",
              "                                      max_leaf_nodes=None, max_samples=None,\n",
              "                                      min_impurity_decrease=0.0,\n",
              "                                      min_impurity_split=None,\n",
              "                                      min_samples_leaf=1, min_samples_split=2,\n",
              "                                      min_weight_fraction_leaf=0.0,\n",
              "                                      n_estimators=300, n_jobs=None,\n",
              "                                      oob_score=False, random_state=None,\n",
              "                                      verbose=0, warm_start=False))],\n",
              "         verbose=False)"
            ]
          },
          "metadata": {
            "tags": []
          },
          "execution_count": 101
        },
        {
          "output_type": "execute_result",
          "data": {
            "text/plain": [
              "0.6589135539459682"
            ]
          },
          "metadata": {
            "tags": []
          },
          "execution_count": 101
        }
      ]
    },
    {
      "cell_type": "code",
      "metadata": {
        "id": "fEbLdDwm_G2m"
      },
      "source": [
        "clf_orig.get_params()"
      ],
      "execution_count": null,
      "outputs": []
    },
    {
      "cell_type": "code",
      "metadata": {
        "colab": {
          "base_uri": "https://localhost:8080/"
        },
        "id": "u6dZzWBp9i-e",
        "outputId": "f81b17ed-0992-4e79-d5ae-1b3cde88d825"
      },
      "source": [
        "## 18. Original features\n",
        "#      X_stat_train,X_stat_test\n",
        "clf_stat = rf(n_estimators=100, max_depth=30)\n",
        "clf_stat.fit(X_stat_train, y_train)\n",
        "prob_stat = clf_stat.predict_proba(X_stat_test)\n",
        "log_loss(y_test,prob_stat)         # 0.6069367467472497 0.6166262332908614"
      ],
      "execution_count": null,
      "outputs": [
        {
          "output_type": "execute_result",
          "data": {
            "text/plain": [
              "RandomForestClassifier(bootstrap=True, ccp_alpha=0.0, class_weight=None,\n",
              "                       criterion='gini', max_depth=30, max_features='auto',\n",
              "                       max_leaf_nodes=None, max_samples=None,\n",
              "                       min_impurity_decrease=0.0, min_impurity_split=None,\n",
              "                       min_samples_leaf=1, min_samples_split=2,\n",
              "                       min_weight_fraction_leaf=0.0, n_estimators=100,\n",
              "                       n_jobs=None, oob_score=False, random_state=None,\n",
              "                       verbose=0, warm_start=False)"
            ]
          },
          "metadata": {
            "tags": []
          },
          "execution_count": 137
        },
        {
          "output_type": "execute_result",
          "data": {
            "text/plain": [
              "0.6050673112141042"
            ]
          },
          "metadata": {
            "tags": []
          },
          "execution_count": 137
        }
      ]
    },
    {
      "cell_type": "code",
      "metadata": {
        "id": "pf3wyww3-8Rk"
      },
      "source": [
        "clf_orig.feature_importances_.reshape(93,1)"
      ],
      "execution_count": null,
      "outputs": []
    },
    {
      "cell_type": "code",
      "metadata": {
        "id": "BnXabu0m-Cbs"
      },
      "source": [
        "fe = pd.DataFrame(clf_orig.feature_importances_.reshape(93,1),index = train.columns,columns = ['impt'])"
      ],
      "execution_count": null,
      "outputs": []
    },
    {
      "cell_type": "code",
      "metadata": {
        "id": "rgQVZ6o-_ZDV"
      },
      "source": [
        "fe[-3:]"
      ],
      "execution_count": null,
      "outputs": []
    },
    {
      "cell_type": "code",
      "metadata": {
        "id": "4vA0ejFX_iut"
      },
      "source": [
        "fe = fe['impt'].sort_values(ascending = False)"
      ],
      "execution_count": null,
      "outputs": []
    },
    {
      "cell_type": "code",
      "metadata": {
        "colab": {
          "base_uri": "https://localhost:8080/"
        },
        "id": "IV9UkjkjBBWd",
        "outputId": "16474e62-5f7d-4278-e6c2-f1234d45e0d4"
      },
      "source": [
        "fe[-3:]"
      ],
      "execution_count": null,
      "outputs": [
        {
          "output_type": "execute_result",
          "data": {
            "text/plain": [
              "feat_51    0.001117\n",
              "feat_84    0.001081\n",
              "feat_6     0.000863\n",
              "Name: impt, dtype: float64"
            ]
          },
          "metadata": {
            "tags": []
          },
          "execution_count": 81
        }
      ]
    },
    {
      "cell_type": "code",
      "metadata": {
        "id": "LSIWASSW_yHC"
      },
      "source": [
        "cols = fe.index.to_list()[:92]"
      ],
      "execution_count": null,
      "outputs": []
    },
    {
      "cell_type": "code",
      "metadata": {
        "colab": {
          "base_uri": "https://localhost:8080/"
        },
        "id": "Z_kJ2DalBUaE",
        "outputId": "8c6a407f-2905-4b72-895e-136d630fdca3"
      },
      "source": [
        "len(cols)"
      ],
      "execution_count": null,
      "outputs": [
        {
          "output_type": "execute_result",
          "data": {
            "text/plain": [
              "92"
            ]
          },
          "metadata": {
            "tags": []
          },
          "execution_count": 73
        }
      ]
    },
    {
      "cell_type": "code",
      "metadata": {
        "colab": {
          "base_uri": "https://localhost:8080/"
        },
        "id": "UHYc5sIrAJmd",
        "outputId": "893be99d-bfa3-4d2b-ba3f-49cd6bc140e8"
      },
      "source": [
        "## 18. Original features\n",
        "clf = rf(n_estimators=100)\n",
        "clf.fit(X_orig_train[cols], y_train)\n",
        "prob = clf.predict_proba(X_orig_test[cols])\n",
        "log_loss(y_test,prob)         # 0.6069367467472497 0.6166262332908614"
      ],
      "execution_count": null,
      "outputs": [
        {
          "output_type": "execute_result",
          "data": {
            "text/plain": [
              "RandomForestClassifier(bootstrap=True, ccp_alpha=0.0, class_weight=None,\n",
              "                       criterion='gini', max_depth=None, max_features='auto',\n",
              "                       max_leaf_nodes=None, max_samples=None,\n",
              "                       min_impurity_decrease=0.0, min_impurity_split=None,\n",
              "                       min_samples_leaf=1, min_samples_split=2,\n",
              "                       min_weight_fraction_leaf=0.0, n_estimators=100,\n",
              "                       n_jobs=None, oob_score=False, random_state=None,\n",
              "                       verbose=0, warm_start=False)"
            ]
          },
          "metadata": {
            "tags": []
          },
          "execution_count": 74
        },
        {
          "output_type": "execute_result",
          "data": {
            "text/plain": [
              "0.6209555151284744"
            ]
          },
          "metadata": {
            "tags": []
          },
          "execution_count": 74
        }
      ]
    },
    {
      "cell_type": "code",
      "metadata": {
        "colab": {
          "base_uri": "https://localhost:8080/"
        },
        "id": "KEXAE6nIAg7i",
        "outputId": "865d747c-06f8-44ed-c397-317b2cd3a163"
      },
      "source": [
        "prob = clf.predict_proba(X_orig_test[cols])\n",
        "log_loss(y_test,prob)         # 0.6069367467472497 0.6166262332908614"
      ],
      "execution_count": null,
      "outputs": [
        {
          "output_type": "execute_result",
          "data": {
            "text/plain": [
              "0.636476368546526"
            ]
          },
          "metadata": {
            "tags": []
          },
          "execution_count": 62
        }
      ]
    },
    {
      "cell_type": "code",
      "metadata": {
        "colab": {
          "base_uri": "https://localhost:8080/"
        },
        "id": "4xCA_rQVLTF0",
        "outputId": "118bd6d6-1752-4f7f-b719-5149a8a16a8e"
      },
      "source": [
        "## 15 Use Statistical features\n",
        "clf_stat = rf(n_estimators=10)\n",
        "clf_stat = clf_stat.fit(X_stat_train, y_train)\n",
        "prob_stat = clf_stat.predict_proba(X_stat_test)\n",
        "log_loss( y_test,prob_stat)      # 0.64154  0.6237187361002337 0.6221267297693905\n"
      ],
      "execution_count": null,
      "outputs": [
        {
          "output_type": "execute_result",
          "data": {
            "text/plain": [
              "1.5909565495455622"
            ]
          },
          "metadata": {
            "tags": []
          },
          "execution_count": 127
        }
      ]
    },
    {
      "cell_type": "code",
      "metadata": {
        "colab": {
          "base_uri": "https://localhost:8080/"
        },
        "id": "QNS77DLgL3LS",
        "outputId": "cf2390ed-0f40-4e16-f026-d3b08f5f0795"
      },
      "source": [
        "# 19. Stack horizontally all predicted probabilities\n",
        "Xp= np.hstack([prob_impt, prob_orig, prob_stat, prob_poly])\n",
        "Xp.shape         # (18564, 45)\n"
      ],
      "execution_count": null,
      "outputs": [
        {
          "output_type": "execute_result",
          "data": {
            "text/plain": [
              "(18564, 36)"
            ]
          },
          "metadata": {
            "tags": []
          },
          "execution_count": 107
        }
      ]
    },
    {
      "cell_type": "code",
      "metadata": {
        "id": "LgbnNBUvMKR3"
      },
      "source": [
        "# 20.1\n",
        "Xp_train, Xp_test, yp_train, yp_test = train_test_split(\n",
        "                                                        Xp,\n",
        "                                                        y_test,\n",
        "                                                        stratify = y_test,\n",
        "                                                        test_size = 0.25\n",
        "                                                        )\n"
      ],
      "execution_count": null,
      "outputs": []
    },
    {
      "cell_type": "code",
      "metadata": {
        "colab": {
          "base_uri": "https://localhost:8080/"
        },
        "id": "0jeOsUASMTNu",
        "outputId": "f31a1ff1-b9ac-43cc-e2a4-2d3988712a8c"
      },
      "source": [
        "# 20.3 Model and get accuracy of stacked model\n",
        "clf_p = rf(n_estimators=1000)\n",
        "clf_p = clf_p.fit(Xp_train, yp_train)\n",
        "prob_stack  = clf_p.predict_proba(Xp_test)\n",
        "log_loss(yp_test,prob_stack)       # 0.60201\n"
      ],
      "execution_count": null,
      "outputs": [
        {
          "output_type": "execute_result",
          "data": {
            "text/plain": [
              "0.5744078813212803"
            ]
          },
          "metadata": {
            "tags": []
          },
          "execution_count": 111
        }
      ]
    },
    {
      "cell_type": "code",
      "metadata": {
        "id": "FAzAjQFlMWMt"
      },
      "source": [
        ""
      ],
      "execution_count": null,
      "outputs": []
    }
  ]
}