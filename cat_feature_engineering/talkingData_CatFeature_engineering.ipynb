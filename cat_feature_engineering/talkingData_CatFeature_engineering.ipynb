{
  "nbformat": 4,
  "nbformat_minor": 0,
  "metadata": {
    "kernelspec": {
      "display_name": "h2o",
      "language": "python",
      "name": "h2o"
    },
    "language_info": {
      "codemirror_mode": {
        "name": "ipython",
        "version": 3
      },
      "file_extension": ".py",
      "mimetype": "text/x-python",
      "name": "python",
      "nbconvert_exporter": "python",
      "pygments_lexer": "ipython3",
      "version": "3.6.12"
    },
    "colab": {
      "name": "talkingData_CatFeature engineering.ipynb",
      "provenance": [],
      "collapsed_sections": [],
      "include_colab_link": true
    }
  },
  "cells": [
    {
      "cell_type": "markdown",
      "metadata": {
        "id": "view-in-github",
        "colab_type": "text"
      },
      "source": [
        "<a href=\"https://colab.research.google.com/github/harnalashok/classification/blob/main/talkingData_CatFeature_engineering.ipynb\" target=\"_parent\"><img src=\"https://colab.research.google.com/assets/colab-badge.svg\" alt=\"Open In Colab\"/></a>"
      ]
    },
    {
      "cell_type": "code",
      "metadata": {
        "id": "rk_aNZnekWfk"
      },
      "source": [
        "# Last amended: 1st March, 2021\n",
        "# Myfolder: C:\\Users\\Administrator\\OneDrive\\Documents\\talkingdata\n",
        "# Ref: https://www.kaggle.com/nanomathias/feature-engineering-importance-testing\n",
        "#      https://www.kaggle.com/nuhsikander/lgbm-new-features-corrected\n",
        "#      https://github.com/harnalashok/h2o\n",
        "#\n",
        "# Data source: https://www.kaggle.com/c/talkingdata-adtracking-fraud-detection\n",
        "# Objectives:\n",
        "#           i)    Categorical feature engineering\n",
        "#                 using aggregation"
      ],
      "execution_count": 5,
      "outputs": []
    },
    {
      "cell_type": "markdown",
      "metadata": {
        "id": "bcmSTbc0rkGE"
      },
      "source": [
        "#How to create new features from categorical features\r\n",
        ">Categorical features can be encoded either using OneHotEncoding technique or using Hashing technique. But if the categorical features have bery large number of levels, then in both cases very large number of features will be generated.  \r\n",
        "Another option is to develop new features by transforming each cat-feature to one numeric column. There can be many ways to do this and, therefore, one cat-feature can get transformed to many numeric features. But, when we do this, we have a control over how many numeric columns we create and can also examine which are more important. This example demonstartes feature creation using this option. "
      ]
    },
    {
      "cell_type": "markdown",
      "metadata": {
        "id": "RNXnyNHml046"
      },
      "source": [
        "##Mounting Google Drive and calling libraries"
      ]
    },
    {
      "cell_type": "code",
      "metadata": {
        "id": "91k9nYm1iDo1",
        "colab": {
          "base_uri": "https://localhost:8080/"
        },
        "outputId": "7c6b3af1-0a6b-48f4-8740-56b99754aa6a"
      },
      "source": [
        "# 1.0 Mount your google drive \r\n",
        "#      so that you can access data files \r\n",
        "#      on your Google Drive\r\n",
        "from google.colab import drive\r\n",
        "drive.mount('/content/drive', force_remount=True)"
      ],
      "execution_count": 6,
      "outputs": [
        {
          "output_type": "stream",
          "text": [
            "Mounted at /content/drive\n"
          ],
          "name": "stdout"
        }
      ]
    },
    {
      "cell_type": "code",
      "metadata": {
        "id": "YUvGeAu5iHnU"
      },
      "source": [
        "# 1.1 Call libraries\r\n",
        "# %reset -f\r\n",
        "import numpy as np\r\n",
        "import pandas as pd\r\n",
        "import matplotlib.pyplot as plt\r\n",
        "import random, gc\r\n",
        "import os,time"
      ],
      "execution_count": 7,
      "outputs": []
    },
    {
      "cell_type": "code",
      "metadata": {
        "id": "hBtMbDZhiMqC"
      },
      "source": [
        "# 1.2 Display output from multiple commands\r\n",
        "from IPython.core.interactiveshell import InteractiveShell\r\n",
        "InteractiveShell.ast_node_interactivity = \"all\""
      ],
      "execution_count": 8,
      "outputs": []
    },
    {
      "cell_type": "code",
      "metadata": {
        "id": "e_hc_871iR1t",
        "colab": {
          "base_uri": "https://localhost:8080/"
        },
        "outputId": "e7a8eac3-bce7-42bd-bf50-a071b060e4e9"
      },
      "source": [
        "# 1.3 Change folder to where TalkingData is:\r\n",
        "#os.chdir(\"C:\\\\Users\\\\Administrator\\\\OneDrive\\\\Documents\\\\talkingdata\")\r\n",
        "path =  \"/content/drive/MyDrive/Colab_data_files/talkingData/\"\r\n",
        "os.listdir(path)"
      ],
      "execution_count": 9,
      "outputs": [
        {
          "output_type": "execute_result",
          "data": {
            "text/plain": [
              "['train.csv.zip', 'test.csv.zip', 'talkingData_sample.csv.zip']"
            ]
          },
          "metadata": {
            "tags": []
          },
          "execution_count": 9
        }
      ]
    },
    {
      "cell_type": "markdown",
      "metadata": {
        "id": "-MhBI_bOvLwP"
      },
      "source": [
        "## Feature Engineering\r\n",
        ">    \"*As Andy once said in the comment of a kernel(Sorry, i can't remember which kernel since i have try more than 20 until now): There is nothing to stop us from doing that. I think that makes sense because when we generate some new features using frequency,mean,var,count,unique etc. , we want to get the accurate numerical number as much as we can which is close to the hidden population distribution statistically in this 4 days , test set is also a sample of this population distribution in this 4 days, So we NEED to use train/test set together to generate the statistical features which can help us get close to the hidden population distribution. And as you can imagine, If we can use the entire train/test set to compute the features, that certainly would be more accurate to train our model.*\"\r\n",
        "\r\n",
        ">    \"*A perfect algorithm might not need these features. But no algorithm is perfect so you can think of derived features as aiding/helping the classifier figure out what might be relevant to classify correctly.*\"\r\n"
      ]
    },
    {
      "cell_type": "markdown",
      "metadata": {
        "id": "uBX-eSPal-h4"
      },
      "source": [
        "#### Which features are of which type\r\n",
        "Here is how the features are being treated:  \r\n",
        "Target feature is '*is_atributed*'  \r\n",
        "\r\n",
        "<table>\r\n",
        "<tr>\r\n",
        "    <th>ip</th>\r\n",
        "    <th>app</th>\r\n",
        "    <th>os</th> \r\n",
        "    <th>channel</th>\r\n",
        "    <th>day</th>\r\n",
        "    <th>hour</th> \r\n",
        "    <th>is_attributed</th>\r\n",
        "</tr>\r\n",
        "<tr>\r\n",
        "    <td>categorical</td> \r\n",
        "    <td>categorical</td> \r\n",
        "    <td>categorical</td>\r\n",
        "    <td>categorical</td> \r\n",
        "    <td>numeric/categorical</td> \r\n",
        "    <td>numeric/categorical</td>\r\n",
        "    <td>categorical</td>\r\n",
        "</tr>\r\n",
        "</table>\r\n",
        "-----------------------------------------------------------<br><br>\r\n"
      ]
    },
    {
      "cell_type": "markdown",
      "metadata": {
        "id": "rmkLiOlSEXGg"
      },
      "source": [
        "\r\n",
        "#### How feature engineering has been performed?<br>\r\n",
        "A. <u>Relationship of categorical features among themselves</u>:\r\n",
        "\r\n",
        "There is a possibility to create a huge number of features. These features naturally take very large RAM.  \r\n",
        ">Table 1\r\n",
        "<table>\r\n",
        "<tr>\r\n",
        "    <th>Sno</th>\r\n",
        "    <th>GroupBy</th>\r\n",
        "    <th>Operation</th>\r\n",
        "    <th>On</th> \r\n",
        "    <th>Remarks</th>\r\n",
        "</tr>\r\n",
        "<tr>\r\n",
        "    <td>1</td>\r\n",
        "    <td>IP</td> \r\n",
        "    <td>nunique</td> \r\n",
        "    <td>channel</td>\r\n",
        "    <td>Per IP, how many unique channels</td> \r\n",
        "</tr>\r\n",
        "<tr>\r\n",
        "    <td>2</td>\r\n",
        "    <td>IP</td> \r\n",
        "    <td>nunique</td> \r\n",
        "    <td>app</td>\r\n",
        "    <td>Per IP, how many unique app</td> \r\n",
        "</tr>\r\n",
        "<tr>\r\n",
        "    <td>3</td>\r\n",
        "    <td>IP</td> \r\n",
        "    <td>nunique</td> \r\n",
        "    <td>device</td>\r\n",
        "    <td>Per IP, how many unique device</td> \r\n",
        "</tr>\r\n",
        "<tr>\r\n",
        "    <td>4</td>\r\n",
        "    <td>IP</td> \r\n",
        "    <td>nunique</td> \r\n",
        "    <td>os</td>\r\n",
        "    <td>Per IP, how many unique os</td> \r\n",
        "</tr>\r\n",
        "<tr>\r\n",
        "    <td>5</td>\r\n",
        "    <td>IP</td> \r\n",
        "    <td>cumcount</td> \r\n",
        "    <td>app</td>\r\n",
        "    <td>Per IP, cumcount of app</td> \r\n",
        "</tr>\r\n",
        "<tr>\r\n",
        "    <td>6</td>\r\n",
        "    <td>IP</td> \r\n",
        "    <td>cumcount</td> \r\n",
        "    <td>os</td>\r\n",
        "    <td>Per IP, cumcount of os</td> \r\n",
        "</tr>\r\n",
        "<tr>\r\n",
        "    <td>7</td>\r\n",
        "    <td>IP</td> \r\n",
        "    <td>count</td> \r\n",
        "    <td>channel</td>\r\n",
        "    <td>Per IP, count of channel</td> \r\n",
        "</tr>\r\n",
        "<tr>\r\n",
        "    <td>8</td>\r\n",
        "    <td>app</td> \r\n",
        "    <td>count</td> \r\n",
        "    <td>channel</td>\r\n",
        "    <td>Per app, count of channel</td> \r\n",
        "</tr>\r\n",
        "<tr>\r\n",
        "    <td>9</td>\r\n",
        "    <td>channel</td> \r\n",
        "    <td>count</td> \r\n",
        "    <td>app</td>\r\n",
        "    <td>Per channel, count of app</td> \r\n",
        "</tr>\r\n",
        "<tr>\r\n",
        "    <td>10</td>\r\n",
        "    <td>ip+app</td> \r\n",
        "    <td>count</td> \r\n",
        "    <td>channels</td>\r\n",
        "    <td>Per ip+app, count of channels</td> \r\n",
        "</tr>\r\n",
        "<tr>\r\n",
        "    <td>11</td>\r\n",
        "    <td>ip+app</td> \r\n",
        "    <td>nunique</td> \r\n",
        "    <td>os</td>\r\n",
        "    <td>Per ip+app, how many unique os</td> \r\n",
        "</tr>\r\n",
        "<tr>\r\n",
        "    <td>12</td>\r\n",
        "    <td>ip+day</td> \r\n",
        "    <td>nunique</td> \r\n",
        "    <td>hours</td>\r\n",
        "    <td>Per ip+day how many unique hours</td> \r\n",
        "</tr>\r\n",
        "<tr>\r\n",
        "    <td>13</td>\r\n",
        "    <td>ip+day+channel</td> \r\n",
        "    <td>variance</td> \r\n",
        "    <td>hour</td>\r\n",
        "    <td>Per ip+day+channel variance of hour</td> \r\n",
        "</tr>\r\n",
        "<tr>\r\n",
        "    <td>14</td>\r\n",
        "    <td>ip+day+channel</td> \r\n",
        "    <td>mean</td> \r\n",
        "    <td>hour</td>\r\n",
        "    <td>Per ip+day+channel mean of hour</td> \r\n",
        "</tr>\r\n",
        "<tr>\r\n",
        "    <td>15</td>\r\n",
        "    <td>ip+app+os</td> \r\n",
        "    <td>variance</td> \r\n",
        "    <td>hour</td>\r\n",
        "    <td>Per ip+app+os variance of hour</td> \r\n",
        "</tr>\r\n",
        "<tr>\r\n",
        "    <td>16</td>\r\n",
        "    <td>ip+app+os</td> \r\n",
        "    <td>count</td> \r\n",
        "    <td>channels</td>\r\n",
        "    <td>Per ip+app+os count of channel</td> \r\n",
        "</tr>\r\n",
        "<tr>\r\n",
        "    <td>17</td>\r\n",
        "    <td>ip+app+channel</td> \r\n",
        "    <td>variance</td> \r\n",
        "    <td>hour</td>\r\n",
        "    <td>Per ip+app+channel variance of hours</td> \r\n",
        "</tr>\r\n",
        "<tr>\r\n",
        "    <td>18</td>\r\n",
        "    <td>ip+device+os</td> \r\n",
        "    <td>cumcount</td> \r\n",
        "    <td>app</td>\r\n",
        "    <td>Per ip+device+os cumcount of app</td> \r\n",
        "</tr>\r\n",
        "<tr>\r\n",
        "    <td>19</td>\r\n",
        "    <td>ip+device+os</td> \r\n",
        "    <td>nunique</td> \r\n",
        "    <td>os</td>\r\n",
        "    <td>Per ip+device+os how many unique of app</td> \r\n",
        "</tr>\r\n",
        "<tr>\r\n",
        "    <td>20</td>\r\n",
        "    <td>ip+day+channel</td> \r\n",
        "    <td>variance</td> \r\n",
        "    <td>hour</td>\r\n",
        "    <td>Per ip+day+channel variance of hour</td> \r\n",
        "</tr>\r\n",
        "<tr>\r\n",
        "    <td>21</td>\r\n",
        "    <td>ip+day+hour</td> \r\n",
        "    <td>count</td> \r\n",
        "    <td>channel</td>\r\n",
        "    <td>Per ip+day+hour count of channel</td> \r\n",
        "</tr>\r\n",
        "<tr>\r\n",
        "    <td>22</td>\r\n",
        "    <td>ip+app+day+hour</td> \r\n",
        "    <td>count</td> \r\n",
        "    <td>channel</td>\r\n",
        "    <td>Per ip+app+day+hour variance of hour</td> \r\n",
        "</tr>\r\n",
        "</table>\r\n",
        "-----------------------------------------------------------<br>\r\n"
      ]
    },
    {
      "cell_type": "markdown",
      "metadata": {
        "id": "aOwhOkcHEhKg"
      },
      "source": [
        "\r\n",
        "B. <u>Relationship of categorical features with target</u>:\r\n",
        "\r\n",
        "We develop relationship between a feature and the target. Essentially, we are calculating probability of being 1 or 0 (in `is_attributed`) for every level ocurring in a categorical feature or a group of features. This probability is then moderated by a factor known as `confRate`. More will be the confidence in the probability if more the evidence or more the occurrences of a particular level (in a catgorical feature) among all levels.<br><br>\r\n",
        "\r\n",
        "For example, let a categorical feature contain three levels: level-1, level-2 and level-3. Let level-1, occur in 6 rows, level-2 occur in 5-rows but level-3 occur just in 1 row. Let `np.sum(target)` for level-1 be 2 and `np.sum(target)` for level-2 be 5. Then group probability will be as shown below. But confidence in probability calculations related to level-3 feature would be very low as its probability calculations are beased on just one ocurrence of level-3. Here is an example of how it is calculated:<br>\r\n",
        "        `probability = group.sum() / float(group.count())`<br>\r\n",
        "        `confRate = np.log(group.count()) / np.log(constant)` <br>\r\n",
        "To determine appropriate values for `log(constant)`, may be a graph can be drawn between `confRate` and `log(constant)`, or `probability X confRate` vs `log(constant)` and then take a decision. In fact `log(constant)` can also be treated as a *hyperparameter*.  \r\n",
        "There is a word of caution here. Such calculations may result in *Data Leakage or leaking target information into new features. But if data is very large, the derived numerical feature may actually reflect the statistics it is intended to calculate. \r\n",
        "\r\n",
        ">Table 2\r\n",
        "\r\n",
        "<table>\r\n",
        "<tr>\r\n",
        "    <th>cat_feature</th>\r\n",
        "    <th>target</th>\r\n",
        "    <th>gr. prob</th>\r\n",
        "    <th>Conf-level</th> \r\n",
        "</tr>\r\n",
        "<tr>\r\n",
        "    <td>level-1</th>\r\n",
        "    <td>1</td>\r\n",
        "    <td>2/6</td> \r\n",
        "    <td>high</td>\r\n",
        "</tr>\r\n",
        "<tr>\r\n",
        "    <td>level-2</th>\r\n",
        "    <td>0</td>\r\n",
        "    <td>3/5</td>\r\n",
        "    <td>high</td> \r\n",
        "</tr>\r\n",
        "<tr>\r\n",
        "    <td>level-1</th>\r\n",
        "    <td>0</td>\r\n",
        "    <td>2/6</td> \r\n",
        "    <td>high</td>\r\n",
        "</tr>\r\n",
        "<tr>\r\n",
        "    <td>level-1</td>\r\n",
        "    <td>0</td>\r\n",
        "    <td>2/6</td> \r\n",
        "    <td>high</td>\r\n",
        "</tr>\r\n",
        "<tr>\r\n",
        "    <td>level-2</td>\r\n",
        "    <td>1</td>\r\n",
        "    <td>3/5</td> \r\n",
        "    <td>high</td>\r\n",
        "</tr>\r\n",
        "<tr>\r\n",
        "    <td>level-1</td>\r\n",
        "    <td>0</td>\r\n",
        "    <td>2/6</td> \r\n",
        "    <td>high</td>\r\n",
        "</tr>\r\n",
        "<tr>\r\n",
        "    <td>level-2</td>\r\n",
        "    <td>1</td>\r\n",
        "    <td>3/5</td> \r\n",
        "    <td>high</td>\r\n",
        "</tr>\r\n",
        "<tr>\r\n",
        "    <td>level-2</td>\r\n",
        "    <td>0</td>\r\n",
        "    <td>3/5</td>\r\n",
        "    <td>high</td> \r\n",
        "</tr>\r\n",
        "<tr>\r\n",
        "    <td>level-2</td>\r\n",
        "    <td>1</td>\r\n",
        "    <td>3/5</td> \r\n",
        "    <td>high</td>\r\n",
        "</tr>\r\n",
        "<tr>\r\n",
        "    <td>level-1</td>\r\n",
        "    <td>0</td>\r\n",
        "    <td>2/6</td> \r\n",
        "    <td>high</td>\r\n",
        "</tr>\r\n",
        "<tr>\r\n",
        "    <td>level-1</td>\r\n",
        "    <td>1</td>\r\n",
        "    <td>2/6</td> \r\n",
        "    <td>high</td>\r\n",
        "</tr>\r\n",
        "<tr>\r\n",
        "    <td>level-3</td>\r\n",
        "    <td>1</td>\r\n",
        "    <td>1/1</td>\r\n",
        "    <td>**LOW**</td> \r\n",
        "</tr>\r\n",
        "</table>\r\n",
        "\r\n",
        "Here is a list of features on which we perform above operations:\r\n",
        "\r\n",
        ">Table 3\r\n",
        "\r\n",
        "sno|grouping-feature|\r\n",
        "-|-|\r\n",
        "1|ip|\r\n",
        "2|app|\r\n",
        "3|os|\r\n",
        "4|channel|\r\n",
        "5|app+channel|\r\n",
        "6|app+os|\r\n",
        "7|app+device|\r\n",
        "8|channel+os|\r\n",
        "9|channel+device|\r\n",
        "10|os+device|\r\n"
      ]
    },
    {
      "cell_type": "markdown",
      "metadata": {
        "id": "x1E7JqnEirCQ"
      },
      "source": [
        "##Read Data\r\n",
        "Read either full data or sample data"
      ]
    },
    {
      "cell_type": "markdown",
      "metadata": {
        "id": "yVR6QeHyqDFc"
      },
      "source": [
        "### Either, Read complete file\r\n",
        "We read here directly from the original training data file. As data is large, we sample it.\r\n",
        "\r\n",
        "To read this data and save memory, please see this [kernel](https://www.kaggle.com/nuhsikander/lgbm-new-features-corrected)"
      ]
    },
    {
      "cell_type": "code",
      "metadata": {
        "colab": {
          "base_uri": "https://localhost:8080/",
          "height": 614
        },
        "id": "MyVHzzXjkWfv",
        "outputId": "a689dffb-8710-499b-b38d-6a56dd7b12d9"
      },
      "source": [
        "# From our experience of earlier reading of data\n",
        "#  we know that data types of some of the features.\n",
        "#   We use those data-types leading to almost half \n",
        "#    of memory-usage\n",
        "dtypes = {\n",
        "        'ip'            : 'uint32',\n",
        "        'app'           : 'uint16',\n",
        "        'device'        : 'uint16',\n",
        "        'os'            : 'uint16',\n",
        "        'channel'       : 'uint16',\n",
        "        'is_attributed' : 'uint8',\n",
        "        'click_id'      : 'uint32'\n",
        "        }\n",
        "\n",
        "print('load train...')\n",
        "\n",
        "\n",
        "\n",
        "# 2.0 Read a fraction of data\n",
        "total_lines = 184903891\n",
        "read_lines = 1000000    # (10 lakh) Reduce it if less RAM\n",
        "\n",
        "# 2.1 Read randomly 'p' fraction of files\n",
        "#     Ref: https://stackoverflow.com/a/48589768\n",
        "\n",
        "p = read_lines/total_lines  # fraction of lines to read\n",
        "\n",
        "# 2.1.1 How to pick up random rows from hard-disk\n",
        "#       without first loading the complete file in RAM\n",
        "#       Toss a coin:\n",
        "#           At each row, toss a biased-coin: 60%->Head, 40%->tail\n",
        "#           If tail comes, select the row else not.\n",
        "#           Toss a coin: random.random()\n",
        "#           Head occurs if value > 0.6 else it is tail\n",
        "#\n",
        "#       We do not toss the coin for header row. Keep the header\n",
        "start = time.time()\n",
        "train = pd.read_csv(\n",
        "                     path + \"train.csv.zip\",  # Not reading test.csv.zip\n",
        "                     header=0,  # First row is header-row\n",
        "                                # 'and' operator returns True if both values are True\n",
        "                                #  random.random() returns values between (0,1)\n",
        "                                #  No of rows skipped will be around 60% of total\n",
        "                      skiprows=lambda i: (i >0 ) and (np.random.random() > p),    # (i>0) implies skip first header row\n",
        "                      dtype=dtypes,\n",
        "                      # We read all columns. Here are the column-names\n",
        "                      #  in the sequence they occur in the train data\n",
        "                      usecols=['ip','app','device','os', 'channel', 'click_time', 'attributed_time', 'is_attributed']\n",
        "                    )\n",
        "end = time.time()\n",
        "(end-start)/60      # 3 to 4 minutes\n"
      ],
      "execution_count": 10,
      "outputs": [
        {
          "output_type": "stream",
          "text": [
            "load train...\n"
          ],
          "name": "stdout"
        },
        {
          "output_type": "error",
          "ename": "ParserError",
          "evalue": "ignored",
          "traceback": [
            "\u001b[0;31m---------------------------------------------------------------------------\u001b[0m",
            "\u001b[0;31mParserError\u001b[0m                               Traceback (most recent call last)",
            "\u001b[0;32m<ipython-input-10-2f8755e42bc1>\u001b[0m in \u001b[0;36m<module>\u001b[0;34m()\u001b[0m\n\u001b[1;32m     46\u001b[0m                       \u001b[0;31m# We read all columns. Here are the column-names\u001b[0m\u001b[0;34m\u001b[0m\u001b[0;34m\u001b[0m\u001b[0;34m\u001b[0m\u001b[0m\n\u001b[1;32m     47\u001b[0m                       \u001b[0;31m#  in the sequence they occur in the train data\u001b[0m\u001b[0;34m\u001b[0m\u001b[0;34m\u001b[0m\u001b[0;34m\u001b[0m\u001b[0m\n\u001b[0;32m---> 48\u001b[0;31m                       \u001b[0musecols\u001b[0m\u001b[0;34m=\u001b[0m\u001b[0;34m[\u001b[0m\u001b[0;34m'ip'\u001b[0m\u001b[0;34m,\u001b[0m\u001b[0;34m'app'\u001b[0m\u001b[0;34m,\u001b[0m\u001b[0;34m'device'\u001b[0m\u001b[0;34m,\u001b[0m\u001b[0;34m'os'\u001b[0m\u001b[0;34m,\u001b[0m \u001b[0;34m'channel'\u001b[0m\u001b[0;34m,\u001b[0m \u001b[0;34m'click_time'\u001b[0m\u001b[0;34m,\u001b[0m \u001b[0;34m'attributed_time'\u001b[0m\u001b[0;34m,\u001b[0m \u001b[0;34m'is_attributed'\u001b[0m\u001b[0;34m]\u001b[0m\u001b[0;34m\u001b[0m\u001b[0;34m\u001b[0m\u001b[0m\n\u001b[0m\u001b[1;32m     49\u001b[0m                     )\n\u001b[1;32m     50\u001b[0m \u001b[0mend\u001b[0m \u001b[0;34m=\u001b[0m \u001b[0mtime\u001b[0m\u001b[0;34m.\u001b[0m\u001b[0mtime\u001b[0m\u001b[0;34m(\u001b[0m\u001b[0;34m)\u001b[0m\u001b[0;34m\u001b[0m\u001b[0;34m\u001b[0m\u001b[0m\n",
            "\u001b[0;32m/usr/local/lib/python3.7/dist-packages/pandas/io/parsers.py\u001b[0m in \u001b[0;36mread_csv\u001b[0;34m(filepath_or_buffer, sep, delimiter, header, names, index_col, usecols, squeeze, prefix, mangle_dupe_cols, dtype, engine, converters, true_values, false_values, skipinitialspace, skiprows, skipfooter, nrows, na_values, keep_default_na, na_filter, verbose, skip_blank_lines, parse_dates, infer_datetime_format, keep_date_col, date_parser, dayfirst, cache_dates, iterator, chunksize, compression, thousands, decimal, lineterminator, quotechar, quoting, doublequote, escapechar, comment, encoding, dialect, error_bad_lines, warn_bad_lines, delim_whitespace, low_memory, memory_map, float_precision)\u001b[0m\n\u001b[1;32m    686\u001b[0m     )\n\u001b[1;32m    687\u001b[0m \u001b[0;34m\u001b[0m\u001b[0m\n\u001b[0;32m--> 688\u001b[0;31m     \u001b[0;32mreturn\u001b[0m \u001b[0m_read\u001b[0m\u001b[0;34m(\u001b[0m\u001b[0mfilepath_or_buffer\u001b[0m\u001b[0;34m,\u001b[0m \u001b[0mkwds\u001b[0m\u001b[0;34m)\u001b[0m\u001b[0;34m\u001b[0m\u001b[0;34m\u001b[0m\u001b[0m\n\u001b[0m\u001b[1;32m    689\u001b[0m \u001b[0;34m\u001b[0m\u001b[0m\n\u001b[1;32m    690\u001b[0m \u001b[0;34m\u001b[0m\u001b[0m\n",
            "\u001b[0;32m/usr/local/lib/python3.7/dist-packages/pandas/io/parsers.py\u001b[0m in \u001b[0;36m_read\u001b[0;34m(filepath_or_buffer, kwds)\u001b[0m\n\u001b[1;32m    458\u001b[0m \u001b[0;34m\u001b[0m\u001b[0m\n\u001b[1;32m    459\u001b[0m     \u001b[0;32mtry\u001b[0m\u001b[0;34m:\u001b[0m\u001b[0;34m\u001b[0m\u001b[0;34m\u001b[0m\u001b[0m\n\u001b[0;32m--> 460\u001b[0;31m         \u001b[0mdata\u001b[0m \u001b[0;34m=\u001b[0m \u001b[0mparser\u001b[0m\u001b[0;34m.\u001b[0m\u001b[0mread\u001b[0m\u001b[0;34m(\u001b[0m\u001b[0mnrows\u001b[0m\u001b[0;34m)\u001b[0m\u001b[0;34m\u001b[0m\u001b[0;34m\u001b[0m\u001b[0m\n\u001b[0m\u001b[1;32m    461\u001b[0m     \u001b[0;32mfinally\u001b[0m\u001b[0;34m:\u001b[0m\u001b[0;34m\u001b[0m\u001b[0;34m\u001b[0m\u001b[0m\n\u001b[1;32m    462\u001b[0m         \u001b[0mparser\u001b[0m\u001b[0;34m.\u001b[0m\u001b[0mclose\u001b[0m\u001b[0;34m(\u001b[0m\u001b[0;34m)\u001b[0m\u001b[0;34m\u001b[0m\u001b[0;34m\u001b[0m\u001b[0m\n",
            "\u001b[0;32m/usr/local/lib/python3.7/dist-packages/pandas/io/parsers.py\u001b[0m in \u001b[0;36mread\u001b[0;34m(self, nrows)\u001b[0m\n\u001b[1;32m   1196\u001b[0m     \u001b[0;32mdef\u001b[0m \u001b[0mread\u001b[0m\u001b[0;34m(\u001b[0m\u001b[0mself\u001b[0m\u001b[0;34m,\u001b[0m \u001b[0mnrows\u001b[0m\u001b[0;34m=\u001b[0m\u001b[0;32mNone\u001b[0m\u001b[0;34m)\u001b[0m\u001b[0;34m:\u001b[0m\u001b[0;34m\u001b[0m\u001b[0;34m\u001b[0m\u001b[0m\n\u001b[1;32m   1197\u001b[0m         \u001b[0mnrows\u001b[0m \u001b[0;34m=\u001b[0m \u001b[0m_validate_integer\u001b[0m\u001b[0;34m(\u001b[0m\u001b[0;34m\"nrows\"\u001b[0m\u001b[0;34m,\u001b[0m \u001b[0mnrows\u001b[0m\u001b[0;34m)\u001b[0m\u001b[0;34m\u001b[0m\u001b[0;34m\u001b[0m\u001b[0m\n\u001b[0;32m-> 1198\u001b[0;31m         \u001b[0mret\u001b[0m \u001b[0;34m=\u001b[0m \u001b[0mself\u001b[0m\u001b[0;34m.\u001b[0m\u001b[0m_engine\u001b[0m\u001b[0;34m.\u001b[0m\u001b[0mread\u001b[0m\u001b[0;34m(\u001b[0m\u001b[0mnrows\u001b[0m\u001b[0;34m)\u001b[0m\u001b[0;34m\u001b[0m\u001b[0;34m\u001b[0m\u001b[0m\n\u001b[0m\u001b[1;32m   1199\u001b[0m \u001b[0;34m\u001b[0m\u001b[0m\n\u001b[1;32m   1200\u001b[0m         \u001b[0;31m# May alter columns / col_dict\u001b[0m\u001b[0;34m\u001b[0m\u001b[0;34m\u001b[0m\u001b[0;34m\u001b[0m\u001b[0m\n",
            "\u001b[0;32m/usr/local/lib/python3.7/dist-packages/pandas/io/parsers.py\u001b[0m in \u001b[0;36mread\u001b[0;34m(self, nrows)\u001b[0m\n\u001b[1;32m   2155\u001b[0m     \u001b[0;32mdef\u001b[0m \u001b[0mread\u001b[0m\u001b[0;34m(\u001b[0m\u001b[0mself\u001b[0m\u001b[0;34m,\u001b[0m \u001b[0mnrows\u001b[0m\u001b[0;34m=\u001b[0m\u001b[0;32mNone\u001b[0m\u001b[0;34m)\u001b[0m\u001b[0;34m:\u001b[0m\u001b[0;34m\u001b[0m\u001b[0;34m\u001b[0m\u001b[0m\n\u001b[1;32m   2156\u001b[0m         \u001b[0;32mtry\u001b[0m\u001b[0;34m:\u001b[0m\u001b[0;34m\u001b[0m\u001b[0;34m\u001b[0m\u001b[0m\n\u001b[0;32m-> 2157\u001b[0;31m             \u001b[0mdata\u001b[0m \u001b[0;34m=\u001b[0m \u001b[0mself\u001b[0m\u001b[0;34m.\u001b[0m\u001b[0m_reader\u001b[0m\u001b[0;34m.\u001b[0m\u001b[0mread\u001b[0m\u001b[0;34m(\u001b[0m\u001b[0mnrows\u001b[0m\u001b[0;34m)\u001b[0m\u001b[0;34m\u001b[0m\u001b[0;34m\u001b[0m\u001b[0m\n\u001b[0m\u001b[1;32m   2158\u001b[0m         \u001b[0;32mexcept\u001b[0m \u001b[0mStopIteration\u001b[0m\u001b[0;34m:\u001b[0m\u001b[0;34m\u001b[0m\u001b[0;34m\u001b[0m\u001b[0m\n\u001b[1;32m   2159\u001b[0m             \u001b[0;32mif\u001b[0m \u001b[0mself\u001b[0m\u001b[0;34m.\u001b[0m\u001b[0m_first_chunk\u001b[0m\u001b[0;34m:\u001b[0m\u001b[0;34m\u001b[0m\u001b[0;34m\u001b[0m\u001b[0m\n",
            "\u001b[0;32mpandas/_libs/parsers.pyx\u001b[0m in \u001b[0;36mpandas._libs.parsers.TextReader.read\u001b[0;34m()\u001b[0m\n",
            "\u001b[0;32mpandas/_libs/parsers.pyx\u001b[0m in \u001b[0;36mpandas._libs.parsers.TextReader._read_low_memory\u001b[0;34m()\u001b[0m\n",
            "\u001b[0;32mpandas/_libs/parsers.pyx\u001b[0m in \u001b[0;36mpandas._libs.parsers.TextReader._read_rows\u001b[0;34m()\u001b[0m\n",
            "\u001b[0;32mpandas/_libs/parsers.pyx\u001b[0m in \u001b[0;36mpandas._libs.parsers.TextReader._tokenize_rows\u001b[0;34m()\u001b[0m\n",
            "\u001b[0;32mpandas/_libs/parsers.pyx\u001b[0m in \u001b[0;36mpandas._libs.parsers.raise_parser_error\u001b[0;34m()\u001b[0m\n",
            "\u001b[0;31mParserError\u001b[0m: Error tokenizing data. C error: no error message set"
          ]
        }
      ]
    },
    {
      "cell_type": "code",
      "metadata": {
        "id": "SitmPDrukWfw"
      },
      "source": [
        "# 2.1.2 Store sampled data to a file on \n",
        "#         Google drive for later use\n",
        "pathToSave = \"/root/\" \n",
        "filePath = pathToSave + \"talkingData_sample.csv.zip\"\n",
        "\n",
        "# 2.1.3 But first delete existing file.\n",
        "#        The following will NOT work.\n",
        "#          python variables are not available in shell\n",
        "# ! rm -f filePath\n",
        "\n",
        "# 2.1.4 This will work:\n",
        "os.remove(filePath)\n",
        "\n",
        "# 2.1.5 Check if deleted\n",
        "os.listdir(pathToSave)\n",
        "#! rm -f /root/talkingData_sample.csv.zip"
      ],
      "execution_count": null,
      "outputs": []
    },
    {
      "cell_type": "code",
      "metadata": {
        "id": "uwE_HtllQW2c"
      },
      "source": [
        ""
      ],
      "execution_count": null,
      "outputs": []
    },
    {
      "cell_type": "code",
      "metadata": {
        "colab": {
          "base_uri": "https://localhost:8080/"
        },
        "id": "JZfCcSqNAIVc",
        "outputId": "b8f2b878-1bd2-4878-f064-daf379e5c5cb"
      },
      "source": [
        "# 2.2 Save the sample data into VM only\r\n",
        "start = time.time()\r\n",
        "train.to_csv(filePath, compression = \"zip\", index = False)\r\n",
        "end = time.time()\r\n",
        "(end-start)/60     # 3 minutes"
      ],
      "execution_count": null,
      "outputs": [
        {
          "output_type": "execute_result",
          "data": {
            "text/plain": [
              "0.08405812978744506"
            ]
          },
          "metadata": {
            "tags": []
          },
          "execution_count": 9
        }
      ]
    },
    {
      "cell_type": "code",
      "metadata": {
        "colab": {
          "base_uri": "https://localhost:8080/"
        },
        "id": "uT8WPrBB0sd3",
        "outputId": "0fd5ea99-66ae-42ea-dcc2-14a5732168d2"
      },
      "source": [
        "# 2.3 Check saved file \r\n",
        "#       and get size of saved file \r\n",
        "  \r\n",
        "os.stat(filePath).st_size/1000000.0  # (305 MB)"
      ],
      "execution_count": null,
      "outputs": [
        {
          "output_type": "execute_result",
          "data": {
            "text/plain": [
              "8.745757"
            ]
          },
          "metadata": {
            "tags": []
          },
          "execution_count": 10
        }
      ]
    },
    {
      "cell_type": "code",
      "metadata": {
        "colab": {
          "base_uri": "https://localhost:8080/",
          "height": 36
        },
        "id": "U8WEsNgB0Ax_",
        "outputId": "1407c248-d015-450f-c1fe-c6858636f523"
      },
      "source": [
        "# 2.4 Copy saved sample file from VM to Google Drive\r\n",
        "from shutil import copyfile\r\n",
        "pathToGoogleDrive = \"/content/drive/MyDrive/Colab_data_files/talkingData/\" + \"talkingData_sample.csv.zip\"\r\n",
        "copyfile(filePath, pathToGoogleDrive)\r\n",
        "print(os.stat(pathToGoogleDrive).st_size/1000000.0)  # (305 MB)"
      ],
      "execution_count": null,
      "outputs": [
        {
          "output_type": "execute_result",
          "data": {
            "application/vnd.google.colaboratory.intrinsic+json": {
              "type": "string"
            },
            "text/plain": [
              "'/content/drive/MyDrive/Colab_data_files/talkingData/talkingData_sample.csv.zip'"
            ]
          },
          "metadata": {
            "tags": []
          },
          "execution_count": 11
        },
        {
          "output_type": "stream",
          "text": [
            "8.745757\n"
          ],
          "name": "stdout"
        }
      ]
    },
    {
      "cell_type": "markdown",
      "metadata": {
        "id": "aMp8MiDiq-Ah"
      },
      "source": [
        "### Or, Read already saved sampled data from Google drive"
      ]
    },
    {
      "cell_type": "code",
      "metadata": {
        "id": "UcFlzO1hrDFs",
        "colab": {
          "base_uri": "https://localhost:8080/"
        },
        "outputId": "c3b8729c-6c77-4a61-d565-f5a905aa8b1f"
      },
      "source": [
        "# 3.0 Path to saved sample data in Google Drive\r\n",
        "pathToSavedData = \"/content/drive/MyDrive/Colab_data_files/talkingData/\" + \"talkingData_sample.csv.zip\"\r\n",
        "\r\n",
        "# 3.0.1 Read the sample file\r\n",
        "start = time.time()\r\n",
        "train = pd.read_csv(\r\n",
        "                     pathToSavedData,\r\n",
        "                     header=0,  # First row is header-row\r\n",
        "                    )\r\n",
        "end = time.time()\r\n",
        "(end-start)/60     # 3 minutes"
      ],
      "execution_count": 11,
      "outputs": [
        {
          "output_type": "execute_result",
          "data": {
            "text/plain": [
              "0.0246079683303833"
            ]
          },
          "metadata": {
            "tags": []
          },
          "execution_count": 11
        }
      ]
    },
    {
      "cell_type": "markdown",
      "metadata": {
        "id": "zOawk74FiyDJ"
      },
      "source": [
        "##Explore data"
      ]
    },
    {
      "cell_type": "code",
      "metadata": {
        "colab": {
          "base_uri": "https://localhost:8080/",
          "height": 526
        },
        "id": "pllVXXpOkWfx",
        "outputId": "bb6f1495-b82c-4161-a5c6-825b3abb1cb5"
      },
      "source": [
        "# 3.1\n",
        "print(train.shape)   # (39995256, 8)\n",
        "train.head(3)\n",
        "\n",
        "# 3.2\n",
        "print(\"---dtypes----\")\n",
        "print(train.dtypes) # ip int64,app int64,device int64,os int64,channel int64,\n",
        "                    # click_time object,attributed_time object,is_attributed int64\n",
        "\n",
        "# 3.3 Let us see distribution of NULLS\n",
        "print(\"---Nulls----\")\n",
        "print(train.isnull().sum())      # 299084 nulls in attributed_time\n",
        "\n",
        "# 3.4 Transform 'click_time' to datetime\n",
        "train['click_time'] = pd.to_datetime(train['click_time'])"
      ],
      "execution_count": 12,
      "outputs": [
        {
          "output_type": "stream",
          "text": [
            "(998880, 8)\n"
          ],
          "name": "stdout"
        },
        {
          "output_type": "execute_result",
          "data": {
            "text/html": [
              "<div>\n",
              "<style scoped>\n",
              "    .dataframe tbody tr th:only-of-type {\n",
              "        vertical-align: middle;\n",
              "    }\n",
              "\n",
              "    .dataframe tbody tr th {\n",
              "        vertical-align: top;\n",
              "    }\n",
              "\n",
              "    .dataframe thead th {\n",
              "        text-align: right;\n",
              "    }\n",
              "</style>\n",
              "<table border=\"1\" class=\"dataframe\">\n",
              "  <thead>\n",
              "    <tr style=\"text-align: right;\">\n",
              "      <th></th>\n",
              "      <th>ip</th>\n",
              "      <th>app</th>\n",
              "      <th>device</th>\n",
              "      <th>os</th>\n",
              "      <th>channel</th>\n",
              "      <th>click_time</th>\n",
              "      <th>attributed_time</th>\n",
              "      <th>is_attributed</th>\n",
              "    </tr>\n",
              "  </thead>\n",
              "  <tbody>\n",
              "    <tr>\n",
              "      <th>0</th>\n",
              "      <td>109591</td>\n",
              "      <td>3</td>\n",
              "      <td>1</td>\n",
              "      <td>19</td>\n",
              "      <td>379</td>\n",
              "      <td>2017-11-06 15:46:02</td>\n",
              "      <td>NaN</td>\n",
              "      <td>0</td>\n",
              "    </tr>\n",
              "    <tr>\n",
              "      <th>1</th>\n",
              "      <td>165679</td>\n",
              "      <td>3</td>\n",
              "      <td>1</td>\n",
              "      <td>23</td>\n",
              "      <td>379</td>\n",
              "      <td>2017-11-06 15:46:51</td>\n",
              "      <td>NaN</td>\n",
              "      <td>0</td>\n",
              "    </tr>\n",
              "    <tr>\n",
              "      <th>2</th>\n",
              "      <td>108040</td>\n",
              "      <td>3</td>\n",
              "      <td>1</td>\n",
              "      <td>8</td>\n",
              "      <td>379</td>\n",
              "      <td>2017-11-06 15:46:52</td>\n",
              "      <td>NaN</td>\n",
              "      <td>0</td>\n",
              "    </tr>\n",
              "  </tbody>\n",
              "</table>\n",
              "</div>"
            ],
            "text/plain": [
              "       ip  app  device  ...           click_time  attributed_time is_attributed\n",
              "0  109591    3       1  ...  2017-11-06 15:46:02              NaN             0\n",
              "1  165679    3       1  ...  2017-11-06 15:46:51              NaN             0\n",
              "2  108040    3       1  ...  2017-11-06 15:46:52              NaN             0\n",
              "\n",
              "[3 rows x 8 columns]"
            ]
          },
          "metadata": {
            "tags": []
          },
          "execution_count": 12
        },
        {
          "output_type": "stream",
          "text": [
            "---dtypes----\n",
            "ip                  int64\n",
            "app                 int64\n",
            "device              int64\n",
            "os                  int64\n",
            "channel             int64\n",
            "click_time         object\n",
            "attributed_time    object\n",
            "is_attributed       int64\n",
            "dtype: object\n",
            "---Nulls----\n",
            "ip                      0\n",
            "app                     0\n",
            "device                  0\n",
            "os                      0\n",
            "channel                 0\n",
            "click_time              0\n",
            "attributed_time    996439\n",
            "is_attributed           0\n",
            "dtype: int64\n"
          ],
          "name": "stdout"
        }
      ]
    },
    {
      "cell_type": "code",
      "metadata": {
        "colab": {
          "base_uri": "https://localhost:8080/",
          "height": 162
        },
        "id": "CxMopioIsd17",
        "outputId": "f6fc6141-2529-4e06-893f-426976dbf8fd"
      },
      "source": [
        "# 3.5 Derive some date components\r\n",
        "train['day']    = train['click_time'].dt.day.astype('uint8')\r\n",
        "train['hour']   = train['click_time'].dt.hour.astype('uint8')\r\n",
        "train['minute'] = train['click_time'].dt.minute.astype('uint8')\r\n",
        "train['second'] = train['click_time'].dt.second.astype('uint8')\r\n",
        "train.head(3)\r\n",
        "train.shape   # (999280, 12)"
      ],
      "execution_count": 13,
      "outputs": [
        {
          "output_type": "execute_result",
          "data": {
            "text/html": [
              "<div>\n",
              "<style scoped>\n",
              "    .dataframe tbody tr th:only-of-type {\n",
              "        vertical-align: middle;\n",
              "    }\n",
              "\n",
              "    .dataframe tbody tr th {\n",
              "        vertical-align: top;\n",
              "    }\n",
              "\n",
              "    .dataframe thead th {\n",
              "        text-align: right;\n",
              "    }\n",
              "</style>\n",
              "<table border=\"1\" class=\"dataframe\">\n",
              "  <thead>\n",
              "    <tr style=\"text-align: right;\">\n",
              "      <th></th>\n",
              "      <th>ip</th>\n",
              "      <th>app</th>\n",
              "      <th>device</th>\n",
              "      <th>os</th>\n",
              "      <th>channel</th>\n",
              "      <th>click_time</th>\n",
              "      <th>attributed_time</th>\n",
              "      <th>is_attributed</th>\n",
              "      <th>day</th>\n",
              "      <th>hour</th>\n",
              "      <th>minute</th>\n",
              "      <th>second</th>\n",
              "    </tr>\n",
              "  </thead>\n",
              "  <tbody>\n",
              "    <tr>\n",
              "      <th>0</th>\n",
              "      <td>109591</td>\n",
              "      <td>3</td>\n",
              "      <td>1</td>\n",
              "      <td>19</td>\n",
              "      <td>379</td>\n",
              "      <td>2017-11-06 15:46:02</td>\n",
              "      <td>NaN</td>\n",
              "      <td>0</td>\n",
              "      <td>6</td>\n",
              "      <td>15</td>\n",
              "      <td>46</td>\n",
              "      <td>2</td>\n",
              "    </tr>\n",
              "    <tr>\n",
              "      <th>1</th>\n",
              "      <td>165679</td>\n",
              "      <td>3</td>\n",
              "      <td>1</td>\n",
              "      <td>23</td>\n",
              "      <td>379</td>\n",
              "      <td>2017-11-06 15:46:51</td>\n",
              "      <td>NaN</td>\n",
              "      <td>0</td>\n",
              "      <td>6</td>\n",
              "      <td>15</td>\n",
              "      <td>46</td>\n",
              "      <td>51</td>\n",
              "    </tr>\n",
              "    <tr>\n",
              "      <th>2</th>\n",
              "      <td>108040</td>\n",
              "      <td>3</td>\n",
              "      <td>1</td>\n",
              "      <td>8</td>\n",
              "      <td>379</td>\n",
              "      <td>2017-11-06 15:46:52</td>\n",
              "      <td>NaN</td>\n",
              "      <td>0</td>\n",
              "      <td>6</td>\n",
              "      <td>15</td>\n",
              "      <td>46</td>\n",
              "      <td>52</td>\n",
              "    </tr>\n",
              "  </tbody>\n",
              "</table>\n",
              "</div>"
            ],
            "text/plain": [
              "       ip  app  device  os  channel  ... is_attributed day  hour  minute  second\n",
              "0  109591    3       1  19      379  ...             0   6    15      46       2\n",
              "1  165679    3       1  23      379  ...             0   6    15      46      51\n",
              "2  108040    3       1   8      379  ...             0   6    15      46      52\n",
              "\n",
              "[3 rows x 12 columns]"
            ]
          },
          "metadata": {
            "tags": []
          },
          "execution_count": 13
        },
        {
          "output_type": "execute_result",
          "data": {
            "text/plain": [
              "(998880, 12)"
            ]
          },
          "metadata": {
            "tags": []
          },
          "execution_count": 13
        }
      ]
    },
    {
      "cell_type": "markdown",
      "metadata": {
        "id": "uoNN0aQ4k61f"
      },
      "source": [
        "##Relationship of categorical features with target (Expts)\r\n",
        "We first perform some experiments to learn how to go about developing relationship of categorical features with the target"
      ]
    },
    {
      "cell_type": "markdown",
      "metadata": {
        "id": "iUQEN-P9vaRe"
      },
      "source": [
        "### Joining elements of a list"
      ]
    },
    {
      "cell_type": "code",
      "metadata": {
        "colab": {
          "base_uri": "https://localhost:8080/",
          "height": 36
        },
        "id": "P_bXSjfXOJoq",
        "outputId": "0844982d-de42-4236-cab2-c98dc8ae940c"
      },
      "source": [
        "# 4.0 Use join() to concatenate elements of a list\r\n",
        "#     We use this to easily create new feature-names\r\n",
        "\r\n",
        "# 4.1 The join() string method returns a\r\n",
        "#      string by joining all the elements of\r\n",
        "#       an iterable, separated by a string separator.\r\n",
        "\r\n",
        "# 4.1.1\r\n",
        "list1 = ['a', 'b', 'c']\r\n",
        "tuple1 = (\"a\", \"b\", \"c\")\r\n",
        "ss = \"uvxyz\"\r\n",
        "\r\n",
        "# 4.1.2 Join the elements of containers now\r\n",
        "'_'.join(list1)   # Elements of list are joint by string: a_b_c\r\n",
        "'_'.join(tuple1)  # a_b_c\r\n",
        "'_'.join(ss)      # u_v_x_y_z"
      ],
      "execution_count": 14,
      "outputs": [
        {
          "output_type": "execute_result",
          "data": {
            "application/vnd.google.colaboratory.intrinsic+json": {
              "type": "string"
            },
            "text/plain": [
              "'a_b_c'"
            ]
          },
          "metadata": {
            "tags": []
          },
          "execution_count": 14
        },
        {
          "output_type": "execute_result",
          "data": {
            "application/vnd.google.colaboratory.intrinsic+json": {
              "type": "string"
            },
            "text/plain": [
              "'a_b_c'"
            ]
          },
          "metadata": {
            "tags": []
          },
          "execution_count": 14
        },
        {
          "output_type": "execute_result",
          "data": {
            "application/vnd.google.colaboratory.intrinsic+json": {
              "type": "string"
            },
            "text/plain": [
              "'u_v_x_y_z'"
            ]
          },
          "metadata": {
            "tags": []
          },
          "execution_count": 14
        }
      ]
    },
    {
      "cell_type": "code",
      "metadata": {
        "colab": {
          "base_uri": "https://localhost:8080/"
        },
        "id": "vWAkJqJGs4_n",
        "outputId": "ec53dd65-c85b-4eae-ad78-2763603210a1"
      },
      "source": [
        "# 4.2 Our lists\r\n",
        "ATTRIBUTION_CATEGORIES = [        \r\n",
        "    # V1 Features #\r\n",
        "    ###############\r\n",
        "    ['ip'], ['app'], ['device'], ['os'], ['channel'],    # 5\r\n",
        "    \r\n",
        "    # V2 Features #\r\n",
        "    ###############\r\n",
        "    ['app', 'channel'],    # name \"app_channel\" \r\n",
        "    ['app', 'os'],         # name: \"app_os\"\r\n",
        "    ['app', 'device'],     # name: \"app_device\" \r\n",
        "    \r\n",
        "    # V3 Features #\r\n",
        "    ###############\r\n",
        "    ['channel', 'os'],     # name: \"channel_os\"\r\n",
        "    ['channel', 'device'], # name: \"channel_device\"\r\n",
        "    ['os', 'device']       # name: \"os_device\"\r\n",
        "]\r\n",
        "\r\n",
        "# 4.2.1 Join elements of each contioner, one by one\r\n",
        "#       Our new features will have these names:\r\n",
        "\r\n",
        "feature_names = []\r\n",
        "for elements in ATTRIBUTION_CATEGORIES:\r\n",
        "    new_feature = '_'.join(elements)+'_confRate' \r\n",
        "    feature_names.append(new_feature)\r\n",
        "\r\n",
        "print (feature_names)    "
      ],
      "execution_count": 15,
      "outputs": [
        {
          "output_type": "stream",
          "text": [
            "['ip_confRate', 'app_confRate', 'device_confRate', 'os_confRate', 'channel_confRate', 'app_channel_confRate', 'app_os_confRate', 'app_device_confRate', 'channel_os_confRate', 'channel_device_confRate', 'os_device_confRate']\n"
          ],
          "name": "stdout"
        }
      ]
    },
    {
      "cell_type": "markdown",
      "metadata": {
        "id": "nRfwW1QCvgFI"
      },
      "source": [
        "### Grouping"
      ]
    },
    {
      "cell_type": "code",
      "metadata": {
        "id": "GrWoILlbbUpH",
        "colab": {
          "base_uri": "https://localhost:8080/"
        },
        "outputId": "bd0c05bf-12c2-4a9e-e307-9a75492d67a9"
      },
      "source": [
        "# 4.3 groupby()\r\n",
        "\r\n",
        "# 4.3.1 Find frequency of 'is_attributed' for\r\n",
        "#       each unique value in column(s)\r\n",
        "\r\n",
        "freqs = {}\r\n",
        "cols = ['app', 'channel']\r\n",
        "\r\n",
        "# 4.3.2 New feature name:\r\n",
        "\r\n",
        "new_feature = '_'.join(cols)+'_confRate'    \r\n",
        "    \r\n",
        "# 4.3.3 Perform the groupby:\r\n",
        "\r\n",
        "grouped = train.groupby(cols)   # For example: ['app', 'channel']\r\n",
        "    \r\n",
        "# 4.3.4 Each group size:\r\n",
        "\r\n",
        "group_sizes = grouped.size()\r\n",
        "\r\n",
        "# 4.3.5 How many groups:\r\n",
        "\r\n",
        "print(group_sizes.shape)       # (638,)\r\n",
        "\r\n",
        "# 4.3.5 Have a look at some groups:\r\n",
        "group_sizes[:5]"
      ],
      "execution_count": 16,
      "outputs": [
        {
          "output_type": "stream",
          "text": [
            "(669,)\n"
          ],
          "name": "stdout"
        },
        {
          "output_type": "execute_result",
          "data": {
            "text/plain": [
              "app  channel\n",
              "0    101          11\n",
              "1    13          606\n",
              "     17         1252\n",
              "     18           59\n",
              "     24          418\n",
              "dtype: int64"
            ]
          },
          "metadata": {
            "tags": []
          },
          "execution_count": 16
        }
      ]
    },
    {
      "cell_type": "markdown",
      "metadata": {
        "id": "GCwBgbeVvkaX"
      },
      "source": [
        "### Confidence rate calculation"
      ]
    },
    {
      "cell_type": "code",
      "metadata": {
        "colab": {
          "base_uri": "https://localhost:8080/"
        },
        "id": "uGzetYfkvjrB",
        "outputId": "d7bea774-e67c-4b9d-efe3-b590d3b5c4b9"
      },
      "source": [
        "# 5.0\r\n",
        "x1 = grouped['is_attributed'].sum()         # How many are labeled as 1's per group\r\n",
        "x1[:5]\r\n",
        "\r\n",
        "# 5.1\r\n",
        "x2 = grouped['is_attributed'].count()       # Size of each group. Same as group_sizes\r\n",
        "x2[:5]"
      ],
      "execution_count": 17,
      "outputs": [
        {
          "output_type": "execute_result",
          "data": {
            "text/plain": [
              "app  channel\n",
              "0    101        6\n",
              "1    13         0\n",
              "     17         2\n",
              "     18         0\n",
              "     24         0\n",
              "Name: is_attributed, dtype: int64"
            ]
          },
          "metadata": {
            "tags": []
          },
          "execution_count": 17
        },
        {
          "output_type": "execute_result",
          "data": {
            "text/plain": [
              "app  channel\n",
              "0    101          11\n",
              "1    13          606\n",
              "     17         1252\n",
              "     18           59\n",
              "     24          418\n",
              "Name: is_attributed, dtype: int64"
            ]
          },
          "metadata": {
            "tags": []
          },
          "execution_count": 17
        }
      ]
    },
    {
      "cell_type": "code",
      "metadata": {
        "colab": {
          "base_uri": "https://localhost:8080/"
        },
        "id": "H_73tgkDv_Oq",
        "outputId": "72c5808b-6378-4453-a295-a2e4615320c6"
      },
      "source": [
        "# 5.2 Group-wise importance or probability\r\n",
        "probability = x1/x2\r\n",
        "probability[:5]"
      ],
      "execution_count": 18,
      "outputs": [
        {
          "output_type": "execute_result",
          "data": {
            "text/plain": [
              "app  channel\n",
              "0    101        0.545455\n",
              "1    13         0.000000\n",
              "     17         0.001597\n",
              "     18         0.000000\n",
              "     24         0.000000\n",
              "Name: is_attributed, dtype: float64"
            ]
          },
          "metadata": {
            "tags": []
          },
          "execution_count": 18
        }
      ]
    },
    {
      "cell_type": "code",
      "metadata": {
        "colab": {
          "base_uri": "https://localhost:8080/"
        },
        "id": "tA8Qu-MLC6YZ",
        "outputId": "2ce261cc-8a79-4184-ad54-62589f818942"
      },
      "source": [
        "# 5.3 Group-wise confidence in probabilites\r\n",
        "\r\n",
        "       # Higher the total occurrences or group-size (ie group count),\r\n",
        "        #  per-group, more the confidence in probability calculations\r\n",
        "        #   But below certain number of counts, confidence in probability\r\n",
        "        #    should be low. \r\n",
        "        #    That is confidence is proportional to counts\r\n",
        "        #      But better use log(counts) so that after \r\n",
        "        #       certain threshold of high-counts, probability\r\n",
        "        #        does not get affected by still higher counts. After all\r\n",
        "        #         count of 10000 should be same as count of 10500. So\r\n",
        "        #          use log(group_sizes). Further, results should\r\n",
        "        #            be normalized by dividing by a constant (log(100000))\r\n",
        "        #         \r\n",
        "log_group = np.log(100000)\r\n",
        "conf = np.log(x2.astype('float')) / log_group\r\n",
        "conf[:5]"
      ],
      "execution_count": 29,
      "outputs": [
        {
          "output_type": "execute_result",
          "data": {
            "text/plain": [
              "app  channel\n",
              "0    101        0.208279\n",
              "1    13         0.556495\n",
              "     17         0.619521\n",
              "     18         0.354170\n",
              "     24         0.524235\n",
              "Name: is_attributed, dtype: float64"
            ]
          },
          "metadata": {
            "tags": []
          },
          "execution_count": 29
        }
      ]
    },
    {
      "cell_type": "code",
      "metadata": {
        "id": "bYAAJvUvAXJA",
        "outputId": "8bb2d6ab-c8a2-4dc2-c493-d9a94b030eb1",
        "colab": {
          "base_uri": "https://localhost:8080/",
          "height": 265
        }
      },
      "source": [
        "# 5.3.1 Plot of log(count)\r\n",
        "#       For low values of count() it \r\n",
        "#        tends to be zero and for large values\r\n",
        "#         of count() it tries to suppress importance\r\n",
        "\r\n",
        "import matplotlib.pyplot as plt\r\n",
        "t = np.linspace(1, 1000, 100)\r\n",
        "_=plt.plot(t, np.log(t))\r\n",
        "\r\n"
      ],
      "execution_count": 25,
      "outputs": [
        {
          "output_type": "display_data",
          "data": {
            "image/png": "[encoded data removed]",
            "text/plain": [
              "<Figure size 432x288 with 1 Axes>"
            ]
          },
          "metadata": {
            "tags": [],
            "needs_background": "light"
          }
        }
      ]
    },
    {
      "cell_type": "code",
      "metadata": {
        "id": "Hw6q1yQaBbSl",
        "outputId": "de1906da-75c6-4188-b060-e60a574ddd6b",
        "colab": {
          "base_uri": "https://localhost:8080/",
          "height": 265
        }
      },
      "source": [
        "# 5.3.2\r\n",
        "t = np.linspace(1, 10, 10)\r\n",
        "_=plt.plot(t, np.log(t))"
      ],
      "execution_count": 26,
      "outputs": [
        {
          "output_type": "display_data",
          "data": {
            "image/png": "[encoded data removed]",
            "text/plain": [
              "<Figure size 432x288 with 1 Axes>"
            ]
          },
          "metadata": {
            "tags": [],
            "needs_background": "light"
          }
        }
      ]
    },
    {
      "cell_type": "code",
      "metadata": {
        "id": "TfrSOR2-3kCb"
      },
      "source": [
        "# 5.4 Rate calculation function\r\n",
        "#     apply() calls this function and passes to it\r\n",
        "#     just one group (or one dataframe subset)\r\n",
        "#     So, 'x' is that group or DataFrame.\r\n",
        "#     Therefore, x.sum(), is a scalar\r\n",
        "#     so also x.count().\r\n",
        "\r\n",
        "def rate_calculation(x):\r\n",
        "        \"\"\"Calculate the attributed rate. Scale by confidence\"\"\"\r\n",
        "        # x.sum() is a scalar so also x.count() \r\n",
        "        probability = x.sum() / float(x.count())\r\n",
        "        conf = np.min([1, np.log(x.count()) / log_group])\r\n",
        "        return probability * conf\r\n"
      ],
      "execution_count": 30,
      "outputs": []
    },
    {
      "cell_type": "code",
      "metadata": {
        "colab": {
          "base_uri": "https://localhost:8080/",
          "height": 424
        },
        "id": "Hy_Ymc9N5W0S",
        "outputId": "483128b7-5bf3-4edd-cdc4-6860827c6b1b"
      },
      "source": [
        "# 5.5 Here are the results\r\n",
        "grouped['is_attributed']. \\\r\n",
        "            apply(rate_calculation). \\\r\n",
        "            reset_index()"
      ],
      "execution_count": 31,
      "outputs": [
        {
          "output_type": "execute_result",
          "data": {
            "text/html": [
              "<div>\n",
              "<style scoped>\n",
              "    .dataframe tbody tr th:only-of-type {\n",
              "        vertical-align: middle;\n",
              "    }\n",
              "\n",
              "    .dataframe tbody tr th {\n",
              "        vertical-align: top;\n",
              "    }\n",
              "\n",
              "    .dataframe thead th {\n",
              "        text-align: right;\n",
              "    }\n",
              "</style>\n",
              "<table border=\"1\" class=\"dataframe\">\n",
              "  <thead>\n",
              "    <tr style=\"text-align: right;\">\n",
              "      <th></th>\n",
              "      <th>app</th>\n",
              "      <th>channel</th>\n",
              "      <th>is_attributed</th>\n",
              "    </tr>\n",
              "  </thead>\n",
              "  <tbody>\n",
              "    <tr>\n",
              "      <th>0</th>\n",
              "      <td>0</td>\n",
              "      <td>101</td>\n",
              "      <td>0.113606</td>\n",
              "    </tr>\n",
              "    <tr>\n",
              "      <th>1</th>\n",
              "      <td>1</td>\n",
              "      <td>13</td>\n",
              "      <td>0.000000</td>\n",
              "    </tr>\n",
              "    <tr>\n",
              "      <th>2</th>\n",
              "      <td>1</td>\n",
              "      <td>17</td>\n",
              "      <td>0.000990</td>\n",
              "    </tr>\n",
              "    <tr>\n",
              "      <th>3</th>\n",
              "      <td>1</td>\n",
              "      <td>18</td>\n",
              "      <td>0.000000</td>\n",
              "    </tr>\n",
              "    <tr>\n",
              "      <th>4</th>\n",
              "      <td>1</td>\n",
              "      <td>24</td>\n",
              "      <td>0.000000</td>\n",
              "    </tr>\n",
              "    <tr>\n",
              "      <th>...</th>\n",
              "      <td>...</td>\n",
              "      <td>...</td>\n",
              "      <td>...</td>\n",
              "    </tr>\n",
              "    <tr>\n",
              "      <th>664</th>\n",
              "      <td>552</td>\n",
              "      <td>347</td>\n",
              "      <td>0.000000</td>\n",
              "    </tr>\n",
              "    <tr>\n",
              "      <th>665</th>\n",
              "      <td>556</td>\n",
              "      <td>347</td>\n",
              "      <td>0.000000</td>\n",
              "    </tr>\n",
              "    <tr>\n",
              "      <th>666</th>\n",
              "      <td>563</td>\n",
              "      <td>347</td>\n",
              "      <td>0.000000</td>\n",
              "    </tr>\n",
              "    <tr>\n",
              "      <th>667</th>\n",
              "      <td>567</td>\n",
              "      <td>347</td>\n",
              "      <td>0.000000</td>\n",
              "    </tr>\n",
              "    <tr>\n",
              "      <th>668</th>\n",
              "      <td>729</td>\n",
              "      <td>213</td>\n",
              "      <td>0.000000</td>\n",
              "    </tr>\n",
              "  </tbody>\n",
              "</table>\n",
              "<p>669 rows × 3 columns</p>\n",
              "</div>"
            ],
            "text/plain": [
              "     app  channel  is_attributed\n",
              "0      0      101       0.113606\n",
              "1      1       13       0.000000\n",
              "2      1       17       0.000990\n",
              "3      1       18       0.000000\n",
              "4      1       24       0.000000\n",
              "..   ...      ...            ...\n",
              "664  552      347       0.000000\n",
              "665  556      347       0.000000\n",
              "666  563      347       0.000000\n",
              "667  567      347       0.000000\n",
              "668  729      213       0.000000\n",
              "\n",
              "[669 rows x 3 columns]"
            ]
          },
          "metadata": {
            "tags": []
          },
          "execution_count": 31
        }
      ]
    },
    {
      "cell_type": "code",
      "metadata": {
        "colab": {
          "base_uri": "https://localhost:8080/",
          "height": 424
        },
        "id": "dG7MxS0e7_jM",
        "outputId": "8a7f3108-8dbd-4c80-8deb-c903b3dc34d2"
      },
      "source": [
        "# 5.5 Here are the results\r\n",
        "cols = ['app', 'channel']\r\n",
        "\r\n",
        "# 5.6\r\n",
        "new_feature = 'appchannelConfRate'\r\n",
        "\r\n",
        "# 5.7\r\n",
        "grouped['is_attributed']. \\\r\n",
        "            apply(rate_calculation). \\\r\n",
        "            reset_index(). \\\r\n",
        "            rename( \r\n",
        "                    index=str,\r\n",
        "                    columns={'is_attributed': new_feature}\r\n",
        "                   )"
      ],
      "execution_count": 32,
      "outputs": [
        {
          "output_type": "execute_result",
          "data": {
            "text/html": [
              "<div>\n",
              "<style scoped>\n",
              "    .dataframe tbody tr th:only-of-type {\n",
              "        vertical-align: middle;\n",
              "    }\n",
              "\n",
              "    .dataframe tbody tr th {\n",
              "        vertical-align: top;\n",
              "    }\n",
              "\n",
              "    .dataframe thead th {\n",
              "        text-align: right;\n",
              "    }\n",
              "</style>\n",
              "<table border=\"1\" class=\"dataframe\">\n",
              "  <thead>\n",
              "    <tr style=\"text-align: right;\">\n",
              "      <th></th>\n",
              "      <th>app</th>\n",
              "      <th>channel</th>\n",
              "      <th>appchannelConfRate</th>\n",
              "    </tr>\n",
              "  </thead>\n",
              "  <tbody>\n",
              "    <tr>\n",
              "      <th>0</th>\n",
              "      <td>0</td>\n",
              "      <td>101</td>\n",
              "      <td>0.113606</td>\n",
              "    </tr>\n",
              "    <tr>\n",
              "      <th>1</th>\n",
              "      <td>1</td>\n",
              "      <td>13</td>\n",
              "      <td>0.000000</td>\n",
              "    </tr>\n",
              "    <tr>\n",
              "      <th>2</th>\n",
              "      <td>1</td>\n",
              "      <td>17</td>\n",
              "      <td>0.000990</td>\n",
              "    </tr>\n",
              "    <tr>\n",
              "      <th>3</th>\n",
              "      <td>1</td>\n",
              "      <td>18</td>\n",
              "      <td>0.000000</td>\n",
              "    </tr>\n",
              "    <tr>\n",
              "      <th>4</th>\n",
              "      <td>1</td>\n",
              "      <td>24</td>\n",
              "      <td>0.000000</td>\n",
              "    </tr>\n",
              "    <tr>\n",
              "      <th>...</th>\n",
              "      <td>...</td>\n",
              "      <td>...</td>\n",
              "      <td>...</td>\n",
              "    </tr>\n",
              "    <tr>\n",
              "      <th>664</th>\n",
              "      <td>552</td>\n",
              "      <td>347</td>\n",
              "      <td>0.000000</td>\n",
              "    </tr>\n",
              "    <tr>\n",
              "      <th>665</th>\n",
              "      <td>556</td>\n",
              "      <td>347</td>\n",
              "      <td>0.000000</td>\n",
              "    </tr>\n",
              "    <tr>\n",
              "      <th>666</th>\n",
              "      <td>563</td>\n",
              "      <td>347</td>\n",
              "      <td>0.000000</td>\n",
              "    </tr>\n",
              "    <tr>\n",
              "      <th>667</th>\n",
              "      <td>567</td>\n",
              "      <td>347</td>\n",
              "      <td>0.000000</td>\n",
              "    </tr>\n",
              "    <tr>\n",
              "      <th>668</th>\n",
              "      <td>729</td>\n",
              "      <td>213</td>\n",
              "      <td>0.000000</td>\n",
              "    </tr>\n",
              "  </tbody>\n",
              "</table>\n",
              "<p>669 rows × 3 columns</p>\n",
              "</div>"
            ],
            "text/plain": [
              "     app  channel  appchannelConfRate\n",
              "0      0      101            0.113606\n",
              "1      1       13            0.000000\n",
              "2      1       17            0.000990\n",
              "3      1       18            0.000000\n",
              "4      1       24            0.000000\n",
              "..   ...      ...                 ...\n",
              "664  552      347            0.000000\n",
              "665  556      347            0.000000\n",
              "666  563      347            0.000000\n",
              "667  567      347            0.000000\n",
              "668  729      213            0.000000\n",
              "\n",
              "[669 rows x 3 columns]"
            ]
          },
          "metadata": {
            "tags": []
          },
          "execution_count": 32
        }
      ]
    },
    {
      "cell_type": "code",
      "metadata": {
        "colab": {
          "base_uri": "https://localhost:8080/",
          "height": 424
        },
        "id": "6qgJ4srt5ggW",
        "outputId": "49400712-ff0c-48ee-d0ea-dc545528de7c"
      },
      "source": [
        "# 5.7 Grouping and reindexing\r\n",
        "cols = ['app', 'channel']\r\n",
        "new_feature = 'appchannelConfRate'\r\n",
        "grouped['is_attributed']. \\\r\n",
        "            apply(rate_calculation). \\\r\n",
        "            reset_index(). \\\r\n",
        "            rename( \r\n",
        "                    index=str,\r\n",
        "                    columns={'is_attributed': new_feature}\r\n",
        "                   )[cols + [new_feature]]\r\n",
        "                        "
      ],
      "execution_count": 33,
      "outputs": [
        {
          "output_type": "execute_result",
          "data": {
            "text/html": [
              "<div>\n",
              "<style scoped>\n",
              "    .dataframe tbody tr th:only-of-type {\n",
              "        vertical-align: middle;\n",
              "    }\n",
              "\n",
              "    .dataframe tbody tr th {\n",
              "        vertical-align: top;\n",
              "    }\n",
              "\n",
              "    .dataframe thead th {\n",
              "        text-align: right;\n",
              "    }\n",
              "</style>\n",
              "<table border=\"1\" class=\"dataframe\">\n",
              "  <thead>\n",
              "    <tr style=\"text-align: right;\">\n",
              "      <th></th>\n",
              "      <th>app</th>\n",
              "      <th>channel</th>\n",
              "      <th>appchannelConfRate</th>\n",
              "    </tr>\n",
              "  </thead>\n",
              "  <tbody>\n",
              "    <tr>\n",
              "      <th>0</th>\n",
              "      <td>0</td>\n",
              "      <td>101</td>\n",
              "      <td>0.113606</td>\n",
              "    </tr>\n",
              "    <tr>\n",
              "      <th>1</th>\n",
              "      <td>1</td>\n",
              "      <td>13</td>\n",
              "      <td>0.000000</td>\n",
              "    </tr>\n",
              "    <tr>\n",
              "      <th>2</th>\n",
              "      <td>1</td>\n",
              "      <td>17</td>\n",
              "      <td>0.000990</td>\n",
              "    </tr>\n",
              "    <tr>\n",
              "      <th>3</th>\n",
              "      <td>1</td>\n",
              "      <td>18</td>\n",
              "      <td>0.000000</td>\n",
              "    </tr>\n",
              "    <tr>\n",
              "      <th>4</th>\n",
              "      <td>1</td>\n",
              "      <td>24</td>\n",
              "      <td>0.000000</td>\n",
              "    </tr>\n",
              "    <tr>\n",
              "      <th>...</th>\n",
              "      <td>...</td>\n",
              "      <td>...</td>\n",
              "      <td>...</td>\n",
              "    </tr>\n",
              "    <tr>\n",
              "      <th>664</th>\n",
              "      <td>552</td>\n",
              "      <td>347</td>\n",
              "      <td>0.000000</td>\n",
              "    </tr>\n",
              "    <tr>\n",
              "      <th>665</th>\n",
              "      <td>556</td>\n",
              "      <td>347</td>\n",
              "      <td>0.000000</td>\n",
              "    </tr>\n",
              "    <tr>\n",
              "      <th>666</th>\n",
              "      <td>563</td>\n",
              "      <td>347</td>\n",
              "      <td>0.000000</td>\n",
              "    </tr>\n",
              "    <tr>\n",
              "      <th>667</th>\n",
              "      <td>567</td>\n",
              "      <td>347</td>\n",
              "      <td>0.000000</td>\n",
              "    </tr>\n",
              "    <tr>\n",
              "      <th>668</th>\n",
              "      <td>729</td>\n",
              "      <td>213</td>\n",
              "      <td>0.000000</td>\n",
              "    </tr>\n",
              "  </tbody>\n",
              "</table>\n",
              "<p>669 rows × 3 columns</p>\n",
              "</div>"
            ],
            "text/plain": [
              "     app  channel  appchannelConfRate\n",
              "0      0      101            0.113606\n",
              "1      1       13            0.000000\n",
              "2      1       17            0.000990\n",
              "3      1       18            0.000000\n",
              "4      1       24            0.000000\n",
              "..   ...      ...                 ...\n",
              "664  552      347            0.000000\n",
              "665  556      347            0.000000\n",
              "666  563      347            0.000000\n",
              "667  567      347            0.000000\n",
              "668  729      213            0.000000\n",
              "\n",
              "[669 rows x 3 columns]"
            ]
          },
          "metadata": {
            "tags": []
          },
          "execution_count": 33
        }
      ]
    },
    {
      "cell_type": "code",
      "metadata": {
        "colab": {
          "base_uri": "https://localhost:8080/",
          "height": 215
        },
        "id": "lRfDPvgLBOFW",
        "outputId": "de941f86-5b8f-44bf-e43e-97677a67ae30"
      },
      "source": [
        "# 5.8 Merging the group back into main data\r\n",
        "# And finally merging the above result \r\n",
        "#  in the train data\r\n",
        "abc = train.merge(\r\n",
        "                    grouped['is_attributed']. \\\r\n",
        "                    apply(rate_calculation). \\\r\n",
        "                    reset_index(). \\\r\n",
        "                         rename( \r\n",
        "                                index=str,\r\n",
        "                                columns={'is_attributed': new_feature}\r\n",
        "                                )[cols + [new_feature]],\r\n",
        "                         on=cols,\r\n",
        "                         how='left'\r\n",
        "                    )\r\n",
        "\r\n",
        "abc.head(3)"
      ],
      "execution_count": 34,
      "outputs": [
        {
          "output_type": "execute_result",
          "data": {
            "text/html": [
              "<div>\n",
              "<style scoped>\n",
              "    .dataframe tbody tr th:only-of-type {\n",
              "        vertical-align: middle;\n",
              "    }\n",
              "\n",
              "    .dataframe tbody tr th {\n",
              "        vertical-align: top;\n",
              "    }\n",
              "\n",
              "    .dataframe thead th {\n",
              "        text-align: right;\n",
              "    }\n",
              "</style>\n",
              "<table border=\"1\" class=\"dataframe\">\n",
              "  <thead>\n",
              "    <tr style=\"text-align: right;\">\n",
              "      <th></th>\n",
              "      <th>ip</th>\n",
              "      <th>app</th>\n",
              "      <th>device</th>\n",
              "      <th>os</th>\n",
              "      <th>channel</th>\n",
              "      <th>click_time</th>\n",
              "      <th>attributed_time</th>\n",
              "      <th>is_attributed</th>\n",
              "      <th>day</th>\n",
              "      <th>hour</th>\n",
              "      <th>minute</th>\n",
              "      <th>second</th>\n",
              "      <th>appchannelConfRate</th>\n",
              "    </tr>\n",
              "  </thead>\n",
              "  <tbody>\n",
              "    <tr>\n",
              "      <th>0</th>\n",
              "      <td>109591</td>\n",
              "      <td>3</td>\n",
              "      <td>1</td>\n",
              "      <td>19</td>\n",
              "      <td>379</td>\n",
              "      <td>2017-11-06 15:46:02</td>\n",
              "      <td>NaN</td>\n",
              "      <td>0</td>\n",
              "      <td>6</td>\n",
              "      <td>15</td>\n",
              "      <td>46</td>\n",
              "      <td>2</td>\n",
              "      <td>0.000561</td>\n",
              "    </tr>\n",
              "    <tr>\n",
              "      <th>1</th>\n",
              "      <td>165679</td>\n",
              "      <td>3</td>\n",
              "      <td>1</td>\n",
              "      <td>23</td>\n",
              "      <td>379</td>\n",
              "      <td>2017-11-06 15:46:51</td>\n",
              "      <td>NaN</td>\n",
              "      <td>0</td>\n",
              "      <td>6</td>\n",
              "      <td>15</td>\n",
              "      <td>46</td>\n",
              "      <td>51</td>\n",
              "      <td>0.000561</td>\n",
              "    </tr>\n",
              "    <tr>\n",
              "      <th>2</th>\n",
              "      <td>108040</td>\n",
              "      <td>3</td>\n",
              "      <td>1</td>\n",
              "      <td>8</td>\n",
              "      <td>379</td>\n",
              "      <td>2017-11-06 15:46:52</td>\n",
              "      <td>NaN</td>\n",
              "      <td>0</td>\n",
              "      <td>6</td>\n",
              "      <td>15</td>\n",
              "      <td>46</td>\n",
              "      <td>52</td>\n",
              "      <td>0.000561</td>\n",
              "    </tr>\n",
              "  </tbody>\n",
              "</table>\n",
              "</div>"
            ],
            "text/plain": [
              "       ip  app  device  os  ...  hour minute second  appchannelConfRate\n",
              "0  109591    3       1  19  ...    15     46      2            0.000561\n",
              "1  165679    3       1  23  ...    15     46     51            0.000561\n",
              "2  108040    3       1   8  ...    15     46     52            0.000561\n",
              "\n",
              "[3 rows x 13 columns]"
            ]
          },
          "metadata": {
            "tags": []
          },
          "execution_count": 34
        }
      ]
    },
    {
      "cell_type": "markdown",
      "metadata": {
        "id": "gYfS9igD_UmD"
      },
      "source": [
        "##  Finally develop relationship of categorical features with target\r\n",
        "We now use the above experiments to create new features. Create each new feature by multiplying `probability` with `confRate`. We define a full function to perform this. You may refer to Tables 2 and 3 above."
      ]
    },
    {
      "cell_type": "code",
      "metadata": {
        "colab": {
          "base_uri": "https://localhost:8080/"
        },
        "id": "4x1Z5RZlNLGT",
        "outputId": "17eeb4eb-15f4-46fa-c7d4-390610f1cf61"
      },
      "source": [
        "# 6.0 Now the full function\r\n",
        "#     for many columns\r\n",
        "\r\n",
        "# 6.1 Our lists\r\n",
        "ATTRIBUTION_CATEGORIES = [        \r\n",
        "    # V1 Features #\r\n",
        "    ###############\r\n",
        "    ['ip'], ['app'], ['device'], ['os'], ['channel'],    # 5\r\n",
        "    \r\n",
        "    # V2 Features #\r\n",
        "    ###############\r\n",
        "    ['app', 'channel'],    # name \"app_channel\" \r\n",
        "    ['app', 'os'],         # name: \"app_os\"\r\n",
        "    ['app', 'device'],     # name: \"app_device\" \r\n",
        "    \r\n",
        "    # V3 Features #\r\n",
        "    ###############\r\n",
        "    ['channel', 'os'],     # name: \"channel_os\"\r\n",
        "    ['channel', 'device'], # name: \"channel_device\"\r\n",
        "    ['os', 'device']       # name: \"os_device\"\r\n",
        "]\r\n",
        "\r\n",
        "\r\n",
        "freqs = {}\r\n",
        "\r\n",
        "# 6.2\r\n",
        "for cols in ATTRIBUTION_CATEGORIES:\r\n",
        "    \r\n",
        "    # 6.2 New feature name\r\n",
        "    new_feature = '_'.join(cols)+'_confRate'    \r\n",
        "    \r\n",
        "    # 6.3 Perform the groupby\r\n",
        "    grouped = train.groupby(cols)   # For example on: ['app', 'channel']\r\n",
        "    \r\n",
        "    # 6.4 Group sizes: Size of each group in pandas Series    \r\n",
        "    group_sizes = grouped.size()\r\n",
        "\r\n",
        "    # 6.5 Normalizer that can be a hyperparameter\r\n",
        "    log_group = np.log(100000) # 1000 views -> 60% confidence, 100 views -> 40% confidence \r\n",
        "\r\n",
        "    # 6.6 Just print some information about this group\r\n",
        "    print(\">> Calculating confidence-weighted rate for: {}.\\n   \\\r\n",
        "              Saving to: {}. \\\r\n",
        "              Group Max /Mean / Median / Min: {} / {} / {} / {}\". \\\r\n",
        "              format( \\\r\n",
        "                      cols, new_feature, \r\n",
        "                      group_sizes.max(), \r\n",
        "                      np.round(group_sizes.mean(), 2),\r\n",
        "                      np.round(group_sizes.median(), 2),\r\n",
        "                      group_sizes.min()\r\n",
        "                    )\r\n",
        "         )\r\n",
        "    \r\n",
        "    # 6.7 Function to calculate probability/confRate calculations\r\n",
        "    def rate_calculation(x):\r\n",
        "        \"\"\"Calculate the attributed rate. Scale by confidence\"\"\"\r\n",
        "\r\n",
        "        # Higher the number of 1's in a group, higher\r\n",
        "        # the probability of 1's.\r\n",
        "        probability = x.sum() / float(x.count())\r\n",
        "        \r\n",
        "        # Higher the total occurrences (ie x.count()),\r\n",
        "        #  per-group, more the confidence in above calculation\r\n",
        "        #  of probability. But below certain number of counts, \r\n",
        "        #   confidence in probability should be low. \r\n",
        "        #    That is confidence is proportional to counts\r\n",
        "        #      But better use log(counts) so that after \r\n",
        "        #       certain threshold of high-counts, probability\r\n",
        "        #        do not get affected by them. Further, it can be\r\n",
        "        #         normalized by dividing by a constant (log(100000))\r\n",
        "        #         \r\n",
        "        conf = np.min([1, np.log(x.count()) / log_group])\r\n",
        "        return probability * conf\r\n",
        "    \r\n",
        "    # 6.8 Perform the merge\r\n",
        "    train = train.merge(\r\n",
        "                         grouped['is_attributed']. \\\r\n",
        "                         apply(rate_calculation). \\\r\n",
        "                         reset_index(). \\\r\n",
        "                         rename( \r\n",
        "                                index=str,\r\n",
        "                                columns={'is_attributed': new_feature}\r\n",
        "                                )[cols + [new_feature]],\r\n",
        "                         on=cols,\r\n",
        "                         how='left'\r\n",
        "                         )\r\n",
        "    "
      ],
      "execution_count": 35,
      "outputs": [
        {
          "output_type": "stream",
          "text": [
            ">> Calculating confidence-weighted rate for: ['ip'].\n",
            "                 Saving to: ip_confRate.               Group Max /Mean / Median / Min: 6711 / 12.28 / 4.0 / 1\n",
            ">> Calculating confidence-weighted rate for: ['app'].\n",
            "                 Saving to: app_confRate.               Group Max /Mean / Median / Min: 183109 / 3492.59 / 8.0 / 1\n",
            ">> Calculating confidence-weighted rate for: ['device'].\n",
            "                 Saving to: device_confRate.               Group Max /Mean / Median / Min: 941936 / 2259.91 / 1.0 / 1\n",
            ">> Calculating confidence-weighted rate for: ['os'].\n",
            "                 Saving to: os_confRate.               Group Max /Mean / Median / Min: 238674 / 4825.51 / 15.0 / 1\n",
            ">> Calculating confidence-weighted rate for: ['channel'].\n",
            "                 Saving to: channel_confRate.               Group Max /Mean / Median / Min: 81363 / 5841.4 / 1556.0 / 1\n",
            ">> Calculating confidence-weighted rate for: ['app', 'channel'].\n",
            "                 Saving to: app_channel_confRate.               Group Max /Mean / Median / Min: 78306 / 1493.09 / 23.0 / 1\n",
            ">> Calculating confidence-weighted rate for: ['app', 'os'].\n",
            "                 Saving to: app_os_confRate.               Group Max /Mean / Median / Min: 44644 / 256.06 / 5.0 / 1\n",
            ">> Calculating confidence-weighted rate for: ['app', 'device'].\n",
            "                 Saving to: app_device_confRate.               Group Max /Mean / Median / Min: 176959 / 900.7 / 2.0 / 1\n",
            ">> Calculating confidence-weighted rate for: ['channel', 'os'].\n",
            "                 Saving to: channel_os_confRate.               Group Max /Mean / Median / Min: 19275 / 126.26 / 10.0 / 1\n",
            ">> Calculating confidence-weighted rate for: ['channel', 'device'].\n",
            "                 Saving to: channel_device_confRate.               Group Max /Mean / Median / Min: 78532 / 918.93 / 2.0 / 1\n",
            ">> Calculating confidence-weighted rate for: ['os', 'device'].\n",
            "                 Saving to: os_device_confRate.               Group Max /Mean / Median / Min: 233211 / 1225.62 / 2.0 / 1\n"
          ],
          "name": "stdout"
        }
      ]
    },
    {
      "cell_type": "code",
      "metadata": {
        "id": "G0qIVzm4Ycwi",
        "colab": {
          "base_uri": "https://localhost:8080/",
          "height": 182
        },
        "outputId": "0bb18061-7d89-4b23-ff7b-180612be55d8"
      },
      "source": [
        "# 6.8.1\r\n",
        "train.shape     # (999280, 23)  Earlier was # (999280, 12)\r\n",
        "train.columns   \r\n",
        "\"\"\"\r\n",
        "[\r\n",
        "       'ip', 'app', 'device', 'os', 'channel', 'click_time', 'attributed_time',\r\n",
        "       'is_attributed', 'day', 'hour', 'minute', 'second', \r\n",
        "       'ip_confRate', 'app_confRate', 'device_confRate', 'os_confRate', 'channel_confRate',\r\n",
        "       'app_channel_confRate', 'app_os_confRate', 'app_device_confRate',\r\n",
        "       'channel_os_confRate', 'channel_device_confRate', 'os_device_confRate'\r\n",
        "  ]\r\n",
        " \"\"\"\r\n",
        "\r\n"
      ],
      "execution_count": null,
      "outputs": [
        {
          "output_type": "execute_result",
          "data": {
            "text/plain": [
              "(998880, 23)"
            ]
          },
          "metadata": {
            "tags": []
          },
          "execution_count": 11
        },
        {
          "output_type": "execute_result",
          "data": {
            "text/plain": [
              "Index(['ip', 'app', 'device', 'os', 'channel', 'click_time', 'attributed_time',\n",
              "       'is_attributed', 'day', 'hour', 'minute', 'second', 'ip_confRate',\n",
              "       'app_confRate', 'device_confRate', 'os_confRate', 'channel_confRate',\n",
              "       'app_channel_confRate', 'app_os_confRate', 'app_device_confRate',\n",
              "       'channel_os_confRate', 'channel_device_confRate', 'os_device_confRate'],\n",
              "      dtype='object')"
            ]
          },
          "metadata": {
            "tags": []
          },
          "execution_count": 11
        },
        {
          "output_type": "execute_result",
          "data": {
            "application/vnd.google.colaboratory.intrinsic+json": {
              "type": "string"
            },
            "text/plain": [
              "\"\\n[\\n       'ip', 'app', 'device', 'os', 'channel', 'click_time', 'attributed_time',\\n       'is_attributed', 'day', 'hour', 'minute', 'second', \\n       'ip_confRate', 'app_confRate', 'device_confRate', 'os_confRate', 'channel_confRate',\\n       'app_channel_confRate', 'app_os_confRate', 'app_device_confRate',\\n       'channel_os_confRate', 'channel_device_confRate', 'os_device_confRate'\\n  ]\\n \""
            ]
          },
          "metadata": {
            "tags": []
          },
          "execution_count": 11
        }
      ]
    },
    {
      "cell_type": "markdown",
      "metadata": {
        "id": "S1Nqr7sjjLtx"
      },
      "source": [
        "##Relationship of features among themselves (Expts)\r\n",
        "We first perform some experiments to to learn how to go about it in a concise manner."
      ]
    },
    {
      "cell_type": "markdown",
      "metadata": {
        "id": "V-NxWk-JRNH6"
      },
      "source": [
        "### Some more experiments\r\n",
        "We will now develop relationship among '*independent*' or '*explanatory*' categorical features. (See Table 1 above). To understand how it is done, we perform some simple experiments first."
      ]
    },
    {
      "cell_type": "code",
      "metadata": {
        "id": "4qY522tBBa0O"
      },
      "source": [
        "# 7.0 Here is a sample of features. \r\n",
        "#     Please see that the three dict keys here \r\n",
        "#     correspond to three columns \r\n",
        "#     ('GroupBy','Operation', 'On') of Table 1.\r\n",
        "\r\n",
        "PLAN_AGGREGATIONS = [\r\n",
        "                      # V1 - GroupBy Features #\r\n",
        "                      #########################    \r\n",
        "                      # Variance in day, for ip-app-channel\r\n",
        "                      {'groupby': ['ip','app','channel'], 'select': 'day', 'agg': 'var'},\r\n",
        "    \r\n",
        "                      # Variance in hour, for ip-app-os\r\n",
        "                      {'groupby': ['ip','app','os'], 'select': 'hour', 'agg': 'var'}\r\n",
        "                    ]"
      ],
      "execution_count": 36,
      "outputs": []
    },
    {
      "cell_type": "code",
      "metadata": {
        "colab": {
          "base_uri": "https://localhost:8080/",
          "height": 175
        },
        "id": "LX_aYRzmEK59",
        "outputId": "46fc00e5-b2fb-44d8-e1f6-f845b6131a0e"
      },
      "source": [
        "# 7.1 Make a copy of our data\r\n",
        "#     (Our sample data is small. \r\n",
        "#       So this is possible for our expt here)\r\n",
        "abc = train.copy()\r\n",
        "# 7.2 First perform grouped sets\r\n",
        "grouped = abc.groupby(['ip','app','channel'])\r\n",
        "# 7.3 Then apply requisite aggregation on each grouped set\r\n",
        "gred = grouped.agg({'day': 'var'})\r\n",
        "# 7.4 Check. Our DataFrame has an Index with\r\n",
        "#      three columns. It is Multiindex or \r\n",
        "#       hierarchical index\r\n",
        "gred.head(3)\r\n"
      ],
      "execution_count": 38,
      "outputs": [
        {
          "output_type": "execute_result",
          "data": {
            "text/html": [
              "<div>\n",
              "<style scoped>\n",
              "    .dataframe tbody tr th:only-of-type {\n",
              "        vertical-align: middle;\n",
              "    }\n",
              "\n",
              "    .dataframe tbody tr th {\n",
              "        vertical-align: top;\n",
              "    }\n",
              "\n",
              "    .dataframe thead th {\n",
              "        text-align: right;\n",
              "    }\n",
              "</style>\n",
              "<table border=\"1\" class=\"dataframe\">\n",
              "  <thead>\n",
              "    <tr style=\"text-align: right;\">\n",
              "      <th></th>\n",
              "      <th></th>\n",
              "      <th></th>\n",
              "      <th>day</th>\n",
              "    </tr>\n",
              "    <tr>\n",
              "      <th>ip</th>\n",
              "      <th>app</th>\n",
              "      <th>channel</th>\n",
              "      <th></th>\n",
              "    </tr>\n",
              "  </thead>\n",
              "  <tbody>\n",
              "    <tr>\n",
              "      <th rowspan=\"3\" valign=\"top\">6</th>\n",
              "      <th rowspan=\"2\" valign=\"top\">2</th>\n",
              "      <th>435</th>\n",
              "      <td>NaN</td>\n",
              "    </tr>\n",
              "    <tr>\n",
              "      <th>477</th>\n",
              "      <td>NaN</td>\n",
              "    </tr>\n",
              "    <tr>\n",
              "      <th>3</th>\n",
              "      <th>280</th>\n",
              "      <td>NaN</td>\n",
              "    </tr>\n",
              "  </tbody>\n",
              "</table>\n",
              "</div>"
            ],
            "text/plain": [
              "                day\n",
              "ip app channel     \n",
              "6  2   435      NaN\n",
              "       477      NaN\n",
              "   3   280      NaN"
            ]
          },
          "metadata": {
            "tags": []
          },
          "execution_count": 38
        }
      ]
    },
    {
      "cell_type": "code",
      "metadata": {
        "colab": {
          "base_uri": "https://localhost:8080/",
          "height": 206
        },
        "id": "M4QnJqr6XT8_",
        "outputId": "892e07c0-f15a-447c-9dec-e6202066046b"
      },
      "source": [
        "# 7.5 Reset index \r\n",
        "gred.reset_index().head()"
      ],
      "execution_count": 39,
      "outputs": [
        {
          "output_type": "execute_result",
          "data": {
            "text/html": [
              "<div>\n",
              "<style scoped>\n",
              "    .dataframe tbody tr th:only-of-type {\n",
              "        vertical-align: middle;\n",
              "    }\n",
              "\n",
              "    .dataframe tbody tr th {\n",
              "        vertical-align: top;\n",
              "    }\n",
              "\n",
              "    .dataframe thead th {\n",
              "        text-align: right;\n",
              "    }\n",
              "</style>\n",
              "<table border=\"1\" class=\"dataframe\">\n",
              "  <thead>\n",
              "    <tr style=\"text-align: right;\">\n",
              "      <th></th>\n",
              "      <th>ip</th>\n",
              "      <th>app</th>\n",
              "      <th>channel</th>\n",
              "      <th>day</th>\n",
              "    </tr>\n",
              "  </thead>\n",
              "  <tbody>\n",
              "    <tr>\n",
              "      <th>0</th>\n",
              "      <td>6</td>\n",
              "      <td>2</td>\n",
              "      <td>435</td>\n",
              "      <td>NaN</td>\n",
              "    </tr>\n",
              "    <tr>\n",
              "      <th>1</th>\n",
              "      <td>6</td>\n",
              "      <td>2</td>\n",
              "      <td>477</td>\n",
              "      <td>NaN</td>\n",
              "    </tr>\n",
              "    <tr>\n",
              "      <th>2</th>\n",
              "      <td>6</td>\n",
              "      <td>3</td>\n",
              "      <td>280</td>\n",
              "      <td>NaN</td>\n",
              "    </tr>\n",
              "    <tr>\n",
              "      <th>3</th>\n",
              "      <td>6</td>\n",
              "      <td>9</td>\n",
              "      <td>107</td>\n",
              "      <td>NaN</td>\n",
              "    </tr>\n",
              "    <tr>\n",
              "      <th>4</th>\n",
              "      <td>6</td>\n",
              "      <td>9</td>\n",
              "      <td>466</td>\n",
              "      <td>NaN</td>\n",
              "    </tr>\n",
              "  </tbody>\n",
              "</table>\n",
              "</div>"
            ],
            "text/plain": [
              "   ip  app  channel  day\n",
              "0   6    2      435  NaN\n",
              "1   6    2      477  NaN\n",
              "2   6    3      280  NaN\n",
              "3   6    9      107  NaN\n",
              "4   6    9      466  NaN"
            ]
          },
          "metadata": {
            "tags": []
          },
          "execution_count": 39
        }
      ]
    },
    {
      "cell_type": "code",
      "metadata": {
        "colab": {
          "base_uri": "https://localhost:8080/",
          "height": 36
        },
        "id": "i6SVtMhb-I33",
        "outputId": "d6fe053d-3abd-4187-d0fe-fde9c6d80773"
      },
      "source": [
        "\"xy\".join(['a','b'])"
      ],
      "execution_count": 40,
      "outputs": [
        {
          "output_type": "execute_result",
          "data": {
            "application/vnd.google.colaboratory.intrinsic+json": {
              "type": "string"
            },
            "text/plain": [
              "'axyb'"
            ]
          },
          "metadata": {
            "tags": []
          },
          "execution_count": 40
        }
      ]
    },
    {
      "cell_type": "code",
      "metadata": {
        "colab": {
          "base_uri": "https://localhost:8080/",
          "height": 312
        },
        "id": "d-jWINGY4--Z",
        "outputId": "900cd459-311f-4246-be44-b8cc8c86cd31"
      },
      "source": [
        "# We can now re-write the above\r\n",
        "#  in terms of dictionary key-values\r\n",
        "abc = train.copy()\r\n",
        "abc.head(2)\r\n",
        "for i in PLAN_AGGREGATIONS:\r\n",
        "  grouped = abc.groupby(i['groupby'])\r\n",
        "  gred = grouped[i['select']].agg(i['agg'])\r\n",
        "  gred = gred.reset_index()\r\n",
        "  print(gred.head(3)) "
      ],
      "execution_count": 41,
      "outputs": [
        {
          "output_type": "execute_result",
          "data": {
            "text/html": [
              "<div>\n",
              "<style scoped>\n",
              "    .dataframe tbody tr th:only-of-type {\n",
              "        vertical-align: middle;\n",
              "    }\n",
              "\n",
              "    .dataframe tbody tr th {\n",
              "        vertical-align: top;\n",
              "    }\n",
              "\n",
              "    .dataframe thead th {\n",
              "        text-align: right;\n",
              "    }\n",
              "</style>\n",
              "<table border=\"1\" class=\"dataframe\">\n",
              "  <thead>\n",
              "    <tr style=\"text-align: right;\">\n",
              "      <th></th>\n",
              "      <th>ip</th>\n",
              "      <th>app</th>\n",
              "      <th>device</th>\n",
              "      <th>os</th>\n",
              "      <th>channel</th>\n",
              "      <th>click_time</th>\n",
              "      <th>attributed_time</th>\n",
              "      <th>is_attributed</th>\n",
              "      <th>day</th>\n",
              "      <th>hour</th>\n",
              "      <th>minute</th>\n",
              "      <th>second</th>\n",
              "      <th>ip_confRate</th>\n",
              "      <th>app_confRate</th>\n",
              "      <th>device_confRate</th>\n",
              "      <th>os_confRate</th>\n",
              "      <th>channel_confRate</th>\n",
              "      <th>app_channel_confRate</th>\n",
              "      <th>app_os_confRate</th>\n",
              "      <th>app_device_confRate</th>\n",
              "      <th>channel_os_confRate</th>\n",
              "      <th>channel_device_confRate</th>\n",
              "      <th>os_device_confRate</th>\n",
              "    </tr>\n",
              "  </thead>\n",
              "  <tbody>\n",
              "    <tr>\n",
              "      <th>0</th>\n",
              "      <td>109591</td>\n",
              "      <td>3</td>\n",
              "      <td>1</td>\n",
              "      <td>19</td>\n",
              "      <td>379</td>\n",
              "      <td>2017-11-06 15:46:02</td>\n",
              "      <td>NaN</td>\n",
              "      <td>0</td>\n",
              "      <td>6</td>\n",
              "      <td>15</td>\n",
              "      <td>46</td>\n",
              "      <td>2</td>\n",
              "      <td>0.0</td>\n",
              "      <td>0.00036</td>\n",
              "      <td>0.00174</td>\n",
              "      <td>0.001919</td>\n",
              "      <td>0.000417</td>\n",
              "      <td>0.000561</td>\n",
              "      <td>0.000292</td>\n",
              "      <td>0.000373</td>\n",
              "      <td>0.00047</td>\n",
              "      <td>0.00042</td>\n",
              "      <td>0.001951</td>\n",
              "    </tr>\n",
              "    <tr>\n",
              "      <th>1</th>\n",
              "      <td>165679</td>\n",
              "      <td>3</td>\n",
              "      <td>1</td>\n",
              "      <td>23</td>\n",
              "      <td>379</td>\n",
              "      <td>2017-11-06 15:46:51</td>\n",
              "      <td>NaN</td>\n",
              "      <td>0</td>\n",
              "      <td>6</td>\n",
              "      <td>15</td>\n",
              "      <td>46</td>\n",
              "      <td>51</td>\n",
              "      <td>0.0</td>\n",
              "      <td>0.00036</td>\n",
              "      <td>0.00174</td>\n",
              "      <td>0.000885</td>\n",
              "      <td>0.000417</td>\n",
              "      <td>0.000561</td>\n",
              "      <td>0.000426</td>\n",
              "      <td>0.000373</td>\n",
              "      <td>0.00000</td>\n",
              "      <td>0.00042</td>\n",
              "      <td>0.000897</td>\n",
              "    </tr>\n",
              "  </tbody>\n",
              "</table>\n",
              "</div>"
            ],
            "text/plain": [
              "       ip  app  ...  channel_device_confRate  os_device_confRate\n",
              "0  109591    3  ...                  0.00042            0.001951\n",
              "1  165679    3  ...                  0.00042            0.000897\n",
              "\n",
              "[2 rows x 23 columns]"
            ]
          },
          "metadata": {
            "tags": []
          },
          "execution_count": 41
        },
        {
          "output_type": "stream",
          "text": [
            "   ip  app  channel  day\n",
            "0   6    2      435  NaN\n",
            "1   6    2      477  NaN\n",
            "2   6    3      280  NaN\n",
            "   ip  app  os  hour\n",
            "0   6    2  19   0.5\n",
            "1   6    3   8   NaN\n",
            "2   6    9  17   NaN\n"
          ],
          "name": "stdout"
        }
      ]
    },
    {
      "cell_type": "code",
      "metadata": {
        "colab": {
          "base_uri": "https://localhost:8080/"
        },
        "id": "GTIihbGa59vr",
        "outputId": "b7eab200-9d6c-427f-e969-2854f222e439"
      },
      "source": [
        "# We can now re-write the above\r\n",
        "#  in terms of dictionary key-values\r\n",
        "abc = train.copy()\r\n",
        "print(abc.shape)\r\n",
        "for i in PLAN_AGGREGATIONS:\r\n",
        "  grouped = abc.groupby(i['groupby'])\r\n",
        "  gred = grouped[i['select']].agg(i['agg'])\r\n",
        "  gred = gred.reset_index().rename(columns = {i['select'] : \"_\".join(i['groupby']) +\"_\" +i['select'] + \"_\" +i['agg']} )\r\n",
        "  print(gred.head(3)) \r\n",
        "  abc = abc.merge(gred)\r\n",
        "  print(abc.head(2))\r\n",
        "  print(abc.shape)"
      ],
      "execution_count": 42,
      "outputs": [
        {
          "output_type": "stream",
          "text": [
            "(998880, 23)\n",
            "   ip  app  channel  ip_app_channel_day_var\n",
            "0   6    2      435                     NaN\n",
            "1   6    2      477                     NaN\n",
            "2   6    3      280                     NaN\n",
            "       ip  app  ...  os_device_confRate  ip_app_channel_day_var\n",
            "0  109591    3  ...            0.001951                     NaN\n",
            "1  165679    3  ...            0.000897                     NaN\n",
            "\n",
            "[2 rows x 24 columns]\n",
            "(998880, 24)\n",
            "   ip  app  os  ip_app_os_hour_var\n",
            "0   6    2  19                 0.5\n",
            "1   6    3   8                 NaN\n",
            "2   6    9  17                 NaN\n",
            "       ip  app  ...  ip_app_channel_day_var  ip_app_os_hour_var\n",
            "0  109591    3  ...                     NaN                 NaN\n",
            "1  165679    3  ...                     NaN                 NaN\n",
            "\n",
            "[2 rows x 25 columns]\n",
            "(998880, 25)\n"
          ],
          "name": "stdout"
        }
      ]
    },
    {
      "cell_type": "code",
      "metadata": {
        "colab": {
          "base_uri": "https://localhost:8080/"
        },
        "id": "sGTU9BQzfjaz",
        "outputId": "fd55d09e-2298-4edd-c035-d483532d99ad"
      },
      "source": [
        "# 8.0 Apply now all the groupby transformations\r\n",
        "\r\n",
        "for spec in PLAN_AGGREGATIONS:\r\n",
        "    \r\n",
        "    # Name of the aggregation we're applying\r\n",
        "    agg_name = spec['agg_name'] if 'agg_name' in spec else spec['agg']\r\n",
        "    \r\n",
        "    # Name of new feature\r\n",
        "    new_feature = '{}_{}_{}'.format('_'.join(spec['groupby']), agg_name, spec['select'])\r\n",
        "    \r\n",
        "    # Info\r\n",
        "    print(\"Grouping by {}, and aggregating {} with {}\".format(\r\n",
        "        spec['groupby'], spec['select'], agg_name\r\n",
        "    ))\r\n",
        "    \r\n",
        "    # Unique list of features to select\r\n",
        "    all_features = list(set(spec['groupby'] + [spec['select']]))\r\n",
        "    \r\n",
        "    # Perform the groupby\r\n",
        "    gp = train[all_features]. \\\r\n",
        "        groupby(spec['groupby'])[spec['select']]. \\\r\n",
        "        agg(spec['agg']). \\\r\n",
        "        reset_index(). \\\r\n",
        "        rename(index=str, columns={spec['select']: new_feature})\r\n",
        "        \r\n",
        "    # Merge back to X_total\r\n",
        "    if 'cumcount' == spec['agg']:\r\n",
        "        train[new_feature] = gp[0].values\r\n",
        "    else:\r\n",
        "        train = train.merge(gp, on=spec['groupby'], how='left')\r\n",
        "        \r\n",
        "     # Clear memory\r\n",
        "    del gp\r\n",
        "    gc.collect()"
      ],
      "execution_count": 43,
      "outputs": [
        {
          "output_type": "stream",
          "text": [
            "Grouping by ['ip', 'app', 'channel'], and aggregating day with var\n"
          ],
          "name": "stdout"
        },
        {
          "output_type": "execute_result",
          "data": {
            "text/plain": [
              "56"
            ]
          },
          "metadata": {
            "tags": []
          },
          "execution_count": 43
        },
        {
          "output_type": "stream",
          "text": [
            "Grouping by ['ip', 'app', 'os'], and aggregating hour with var\n"
          ],
          "name": "stdout"
        },
        {
          "output_type": "execute_result",
          "data": {
            "text/plain": [
              "0"
            ]
          },
          "metadata": {
            "tags": []
          },
          "execution_count": 43
        }
      ]
    },
    {
      "cell_type": "code",
      "metadata": {
        "colab": {
          "base_uri": "https://localhost:8080/",
          "height": 990
        },
        "id": "JwjW_oNQfqSi",
        "outputId": "606131fd-bbc0-4b61-b19d-fe93030f0309"
      },
      "source": [
        "train[['ip', 'app', 'channel','ip_app_channel_var_day', \t'ip_app_os_var_hour']].sort_values(by= 'ip').head(30)"
      ],
      "execution_count": 44,
      "outputs": [
        {
          "output_type": "execute_result",
          "data": {
            "text/html": [
              "<div>\n",
              "<style scoped>\n",
              "    .dataframe tbody tr th:only-of-type {\n",
              "        vertical-align: middle;\n",
              "    }\n",
              "\n",
              "    .dataframe tbody tr th {\n",
              "        vertical-align: top;\n",
              "    }\n",
              "\n",
              "    .dataframe thead th {\n",
              "        text-align: right;\n",
              "    }\n",
              "</style>\n",
              "<table border=\"1\" class=\"dataframe\">\n",
              "  <thead>\n",
              "    <tr style=\"text-align: right;\">\n",
              "      <th></th>\n",
              "      <th>ip</th>\n",
              "      <th>app</th>\n",
              "      <th>channel</th>\n",
              "      <th>ip_app_channel_var_day</th>\n",
              "      <th>ip_app_os_var_hour</th>\n",
              "    </tr>\n",
              "  </thead>\n",
              "  <tbody>\n",
              "    <tr>\n",
              "      <th>522633</th>\n",
              "      <td>6</td>\n",
              "      <td>3</td>\n",
              "      <td>280</td>\n",
              "      <td>NaN</td>\n",
              "      <td>NaN</td>\n",
              "    </tr>\n",
              "    <tr>\n",
              "      <th>925173</th>\n",
              "      <td>6</td>\n",
              "      <td>9</td>\n",
              "      <td>466</td>\n",
              "      <td>NaN</td>\n",
              "      <td>NaN</td>\n",
              "    </tr>\n",
              "    <tr>\n",
              "      <th>811856</th>\n",
              "      <td>6</td>\n",
              "      <td>2</td>\n",
              "      <td>477</td>\n",
              "      <td>NaN</td>\n",
              "      <td>0.500000</td>\n",
              "    </tr>\n",
              "    <tr>\n",
              "      <th>484650</th>\n",
              "      <td>6</td>\n",
              "      <td>2</td>\n",
              "      <td>435</td>\n",
              "      <td>NaN</td>\n",
              "      <td>0.500000</td>\n",
              "    </tr>\n",
              "    <tr>\n",
              "      <th>410180</th>\n",
              "      <td>6</td>\n",
              "      <td>15</td>\n",
              "      <td>245</td>\n",
              "      <td>NaN</td>\n",
              "      <td>NaN</td>\n",
              "    </tr>\n",
              "    <tr>\n",
              "      <th>950899</th>\n",
              "      <td>6</td>\n",
              "      <td>9</td>\n",
              "      <td>107</td>\n",
              "      <td>NaN</td>\n",
              "      <td>NaN</td>\n",
              "    </tr>\n",
              "    <tr>\n",
              "      <th>180680</th>\n",
              "      <td>9</td>\n",
              "      <td>1</td>\n",
              "      <td>124</td>\n",
              "      <td>NaN</td>\n",
              "      <td>NaN</td>\n",
              "    </tr>\n",
              "    <tr>\n",
              "      <th>330816</th>\n",
              "      <td>9</td>\n",
              "      <td>15</td>\n",
              "      <td>245</td>\n",
              "      <td>0.000000</td>\n",
              "      <td>NaN</td>\n",
              "    </tr>\n",
              "    <tr>\n",
              "      <th>226093</th>\n",
              "      <td>9</td>\n",
              "      <td>19</td>\n",
              "      <td>213</td>\n",
              "      <td>NaN</td>\n",
              "      <td>NaN</td>\n",
              "    </tr>\n",
              "    <tr>\n",
              "      <th>161787</th>\n",
              "      <td>9</td>\n",
              "      <td>3</td>\n",
              "      <td>280</td>\n",
              "      <td>0.333333</td>\n",
              "      <td>18.000000</td>\n",
              "    </tr>\n",
              "    <tr>\n",
              "      <th>746456</th>\n",
              "      <td>9</td>\n",
              "      <td>15</td>\n",
              "      <td>480</td>\n",
              "      <td>NaN</td>\n",
              "      <td>NaN</td>\n",
              "    </tr>\n",
              "    <tr>\n",
              "      <th>72169</th>\n",
              "      <td>9</td>\n",
              "      <td>3</td>\n",
              "      <td>280</td>\n",
              "      <td>0.333333</td>\n",
              "      <td>57.333333</td>\n",
              "    </tr>\n",
              "    <tr>\n",
              "      <th>854179</th>\n",
              "      <td>9</td>\n",
              "      <td>9</td>\n",
              "      <td>215</td>\n",
              "      <td>0.500000</td>\n",
              "      <td>32.000000</td>\n",
              "    </tr>\n",
              "    <tr>\n",
              "      <th>678790</th>\n",
              "      <td>9</td>\n",
              "      <td>18</td>\n",
              "      <td>121</td>\n",
              "      <td>NaN</td>\n",
              "      <td>NaN</td>\n",
              "    </tr>\n",
              "    <tr>\n",
              "      <th>87407</th>\n",
              "      <td>9</td>\n",
              "      <td>23</td>\n",
              "      <td>153</td>\n",
              "      <td>0.500000</td>\n",
              "      <td>NaN</td>\n",
              "    </tr>\n",
              "    <tr>\n",
              "      <th>634771</th>\n",
              "      <td>9</td>\n",
              "      <td>23</td>\n",
              "      <td>153</td>\n",
              "      <td>0.500000</td>\n",
              "      <td>NaN</td>\n",
              "    </tr>\n",
              "    <tr>\n",
              "      <th>520946</th>\n",
              "      <td>9</td>\n",
              "      <td>9</td>\n",
              "      <td>215</td>\n",
              "      <td>0.500000</td>\n",
              "      <td>NaN</td>\n",
              "    </tr>\n",
              "    <tr>\n",
              "      <th>377500</th>\n",
              "      <td>9</td>\n",
              "      <td>3</td>\n",
              "      <td>280</td>\n",
              "      <td>0.333333</td>\n",
              "      <td>18.000000</td>\n",
              "    </tr>\n",
              "    <tr>\n",
              "      <th>492797</th>\n",
              "      <td>9</td>\n",
              "      <td>3</td>\n",
              "      <td>280</td>\n",
              "      <td>0.333333</td>\n",
              "      <td>NaN</td>\n",
              "    </tr>\n",
              "    <tr>\n",
              "      <th>238424</th>\n",
              "      <td>9</td>\n",
              "      <td>64</td>\n",
              "      <td>459</td>\n",
              "      <td>NaN</td>\n",
              "      <td>NaN</td>\n",
              "    </tr>\n",
              "    <tr>\n",
              "      <th>910003</th>\n",
              "      <td>9</td>\n",
              "      <td>2</td>\n",
              "      <td>377</td>\n",
              "      <td>NaN</td>\n",
              "      <td>NaN</td>\n",
              "    </tr>\n",
              "    <tr>\n",
              "      <th>695754</th>\n",
              "      <td>9</td>\n",
              "      <td>2</td>\n",
              "      <td>452</td>\n",
              "      <td>NaN</td>\n",
              "      <td>NaN</td>\n",
              "    </tr>\n",
              "    <tr>\n",
              "      <th>686785</th>\n",
              "      <td>9</td>\n",
              "      <td>9</td>\n",
              "      <td>134</td>\n",
              "      <td>NaN</td>\n",
              "      <td>NaN</td>\n",
              "    </tr>\n",
              "    <tr>\n",
              "      <th>108102</th>\n",
              "      <td>9</td>\n",
              "      <td>2</td>\n",
              "      <td>237</td>\n",
              "      <td>NaN</td>\n",
              "      <td>NaN</td>\n",
              "    </tr>\n",
              "    <tr>\n",
              "      <th>319216</th>\n",
              "      <td>9</td>\n",
              "      <td>9</td>\n",
              "      <td>489</td>\n",
              "      <td>NaN</td>\n",
              "      <td>32.000000</td>\n",
              "    </tr>\n",
              "    <tr>\n",
              "      <th>523506</th>\n",
              "      <td>9</td>\n",
              "      <td>12</td>\n",
              "      <td>265</td>\n",
              "      <td>NaN</td>\n",
              "      <td>NaN</td>\n",
              "    </tr>\n",
              "    <tr>\n",
              "      <th>230856</th>\n",
              "      <td>9</td>\n",
              "      <td>9</td>\n",
              "      <td>334</td>\n",
              "      <td>NaN</td>\n",
              "      <td>NaN</td>\n",
              "    </tr>\n",
              "    <tr>\n",
              "      <th>285553</th>\n",
              "      <td>9</td>\n",
              "      <td>3</td>\n",
              "      <td>211</td>\n",
              "      <td>NaN</td>\n",
              "      <td>57.333333</td>\n",
              "    </tr>\n",
              "    <tr>\n",
              "      <th>335920</th>\n",
              "      <td>9</td>\n",
              "      <td>15</td>\n",
              "      <td>245</td>\n",
              "      <td>0.000000</td>\n",
              "      <td>NaN</td>\n",
              "    </tr>\n",
              "    <tr>\n",
              "      <th>644429</th>\n",
              "      <td>9</td>\n",
              "      <td>3</td>\n",
              "      <td>115</td>\n",
              "      <td>NaN</td>\n",
              "      <td>57.333333</td>\n",
              "    </tr>\n",
              "  </tbody>\n",
              "</table>\n",
              "</div>"
            ],
            "text/plain": [
              "        ip  app  channel  ip_app_channel_var_day  ip_app_os_var_hour\n",
              "522633   6    3      280                     NaN                 NaN\n",
              "925173   6    9      466                     NaN                 NaN\n",
              "811856   6    2      477                     NaN            0.500000\n",
              "484650   6    2      435                     NaN            0.500000\n",
              "410180   6   15      245                     NaN                 NaN\n",
              "950899   6    9      107                     NaN                 NaN\n",
              "180680   9    1      124                     NaN                 NaN\n",
              "330816   9   15      245                0.000000                 NaN\n",
              "226093   9   19      213                     NaN                 NaN\n",
              "161787   9    3      280                0.333333           18.000000\n",
              "746456   9   15      480                     NaN                 NaN\n",
              "72169    9    3      280                0.333333           57.333333\n",
              "854179   9    9      215                0.500000           32.000000\n",
              "678790   9   18      121                     NaN                 NaN\n",
              "87407    9   23      153                0.500000                 NaN\n",
              "634771   9   23      153                0.500000                 NaN\n",
              "520946   9    9      215                0.500000                 NaN\n",
              "377500   9    3      280                0.333333           18.000000\n",
              "492797   9    3      280                0.333333                 NaN\n",
              "238424   9   64      459                     NaN                 NaN\n",
              "910003   9    2      377                     NaN                 NaN\n",
              "695754   9    2      452                     NaN                 NaN\n",
              "686785   9    9      134                     NaN                 NaN\n",
              "108102   9    2      237                     NaN                 NaN\n",
              "319216   9    9      489                     NaN           32.000000\n",
              "523506   9   12      265                     NaN                 NaN\n",
              "230856   9    9      334                     NaN                 NaN\n",
              "285553   9    3      211                     NaN           57.333333\n",
              "335920   9   15      245                0.000000                 NaN\n",
              "644429   9    3      115                     NaN           57.333333"
            ]
          },
          "metadata": {
            "tags": []
          },
          "execution_count": 44
        }
      ]
    },
    {
      "cell_type": "code",
      "metadata": {
        "colab": {
          "base_uri": "https://localhost:8080/",
          "height": 1000
        },
        "id": "OBOCL3gSBjMl",
        "outputId": "f44ea858-e9c4-43f4-b27d-417e1394b678"
      },
      "source": [
        "abc = train.copy()\r\n",
        "abc.head(2)\r\n",
        "for i in PLAN_AGGREGATIONS:\r\n",
        "  grouped = abc.groupby(i['groupby'])\r\n",
        "  gred = grouped[i['select']].agg({i['agg']})\r\n",
        "  gred = gred.reset_index()\r\n",
        "  print(gred.head(30))\r\n",
        "  #abc = train.merge(gred)\r\n"
      ],
      "execution_count": 46,
      "outputs": [
        {
          "output_type": "execute_result",
          "data": {
            "text/html": [
              "<div>\n",
              "<style scoped>\n",
              "    .dataframe tbody tr th:only-of-type {\n",
              "        vertical-align: middle;\n",
              "    }\n",
              "\n",
              "    .dataframe tbody tr th {\n",
              "        vertical-align: top;\n",
              "    }\n",
              "\n",
              "    .dataframe thead th {\n",
              "        text-align: right;\n",
              "    }\n",
              "</style>\n",
              "<table border=\"1\" class=\"dataframe\">\n",
              "  <thead>\n",
              "    <tr style=\"text-align: right;\">\n",
              "      <th></th>\n",
              "      <th>ip</th>\n",
              "      <th>app</th>\n",
              "      <th>device</th>\n",
              "      <th>os</th>\n",
              "      <th>channel</th>\n",
              "      <th>click_time</th>\n",
              "      <th>attributed_time</th>\n",
              "      <th>is_attributed</th>\n",
              "      <th>day</th>\n",
              "      <th>hour</th>\n",
              "      <th>minute</th>\n",
              "      <th>second</th>\n",
              "      <th>ip_confRate</th>\n",
              "      <th>app_confRate</th>\n",
              "      <th>device_confRate</th>\n",
              "      <th>os_confRate</th>\n",
              "      <th>channel_confRate</th>\n",
              "      <th>app_channel_confRate</th>\n",
              "      <th>app_os_confRate</th>\n",
              "      <th>app_device_confRate</th>\n",
              "      <th>channel_os_confRate</th>\n",
              "      <th>channel_device_confRate</th>\n",
              "      <th>os_device_confRate</th>\n",
              "      <th>ip_app_channel_var_day</th>\n",
              "      <th>ip_app_os_var_hour</th>\n",
              "    </tr>\n",
              "  </thead>\n",
              "  <tbody>\n",
              "    <tr>\n",
              "      <th>0</th>\n",
              "      <td>109591</td>\n",
              "      <td>3</td>\n",
              "      <td>1</td>\n",
              "      <td>19</td>\n",
              "      <td>379</td>\n",
              "      <td>2017-11-06 15:46:02</td>\n",
              "      <td>NaN</td>\n",
              "      <td>0</td>\n",
              "      <td>6</td>\n",
              "      <td>15</td>\n",
              "      <td>46</td>\n",
              "      <td>2</td>\n",
              "      <td>0.0</td>\n",
              "      <td>0.00036</td>\n",
              "      <td>0.00174</td>\n",
              "      <td>0.001919</td>\n",
              "      <td>0.000417</td>\n",
              "      <td>0.000561</td>\n",
              "      <td>0.000292</td>\n",
              "      <td>0.000373</td>\n",
              "      <td>0.00047</td>\n",
              "      <td>0.00042</td>\n",
              "      <td>0.001951</td>\n",
              "      <td>NaN</td>\n",
              "      <td>NaN</td>\n",
              "    </tr>\n",
              "    <tr>\n",
              "      <th>1</th>\n",
              "      <td>165679</td>\n",
              "      <td>3</td>\n",
              "      <td>1</td>\n",
              "      <td>23</td>\n",
              "      <td>379</td>\n",
              "      <td>2017-11-06 15:46:51</td>\n",
              "      <td>NaN</td>\n",
              "      <td>0</td>\n",
              "      <td>6</td>\n",
              "      <td>15</td>\n",
              "      <td>46</td>\n",
              "      <td>51</td>\n",
              "      <td>0.0</td>\n",
              "      <td>0.00036</td>\n",
              "      <td>0.00174</td>\n",
              "      <td>0.000885</td>\n",
              "      <td>0.000417</td>\n",
              "      <td>0.000561</td>\n",
              "      <td>0.000426</td>\n",
              "      <td>0.000373</td>\n",
              "      <td>0.00000</td>\n",
              "      <td>0.00042</td>\n",
              "      <td>0.000897</td>\n",
              "      <td>NaN</td>\n",
              "      <td>NaN</td>\n",
              "    </tr>\n",
              "  </tbody>\n",
              "</table>\n",
              "</div>"
            ],
            "text/plain": [
              "       ip  app  ...  ip_app_channel_var_day  ip_app_os_var_hour\n",
              "0  109591    3  ...                     NaN                 NaN\n",
              "1  165679    3  ...                     NaN                 NaN\n",
              "\n",
              "[2 rows x 25 columns]"
            ]
          },
          "metadata": {
            "tags": []
          },
          "execution_count": 46
        },
        {
          "output_type": "stream",
          "text": [
            "    ip  app  channel       var\n",
            "0    6    2      435       NaN\n",
            "1    6    2      477       NaN\n",
            "2    6    3      280       NaN\n",
            "3    6    9      107       NaN\n",
            "4    6    9      466       NaN\n",
            "5    6   15      245       NaN\n",
            "6    9    1      124       NaN\n",
            "7    9    2      237       NaN\n",
            "8    9    2      377       NaN\n",
            "9    9    2      452       NaN\n",
            "10   9    3      115       NaN\n",
            "11   9    3      205       NaN\n",
            "12   9    3      211       NaN\n",
            "13   9    3      280  0.333333\n",
            "14   9    9      134       NaN\n",
            "15   9    9      215  0.500000\n",
            "16   9    9      334       NaN\n",
            "17   9    9      489       NaN\n",
            "18   9   12      265       NaN\n",
            "19   9   14      439       NaN\n",
            "20   9   15      245  0.000000\n",
            "21   9   15      278       NaN\n",
            "22   9   15      480       NaN\n",
            "23   9   18      107       NaN\n",
            "24   9   18      121       NaN\n",
            "25   9   19      213       NaN\n",
            "26   9   23      153  0.500000\n",
            "27   9   64      459       NaN\n",
            "28  10    3      280       NaN\n",
            "29  10    3      442       NaN\n",
            "    ip  app  os        var\n",
            "0    6    2  19   0.500000\n",
            "1    6    3   8        NaN\n",
            "2    6    9  17        NaN\n",
            "3    6    9  41        NaN\n",
            "4    6   15  23        NaN\n",
            "5    9    1  13        NaN\n",
            "6    9    2   1        NaN\n",
            "7    9    2  13        NaN\n",
            "8    9    2  53        NaN\n",
            "9    9    3   6  18.000000\n",
            "10   9    3  13  57.333333\n",
            "11   9    3  19        NaN\n",
            "12   9    3  41        NaN\n",
            "13   9    9   1        NaN\n",
            "14   9    9  13  32.000000\n",
            "15   9    9  19        NaN\n",
            "16   9    9  26        NaN\n",
            "17   9   12  26        NaN\n",
            "18   9   14  32        NaN\n",
            "19   9   15  13        NaN\n",
            "20   9   15  18        NaN\n",
            "21   9   15  19        NaN\n",
            "22   9   15  37        NaN\n",
            "23   9   18  13        NaN\n",
            "24   9   18  19        NaN\n",
            "25   9   19  38        NaN\n",
            "26   9   23  19        NaN\n",
            "27   9   23  41        NaN\n",
            "28   9   64  13        NaN\n",
            "29  10    3  13        NaN\n"
          ],
          "name": "stdout"
        }
      ]
    },
    {
      "cell_type": "code",
      "metadata": {
        "colab": {
          "base_uri": "https://localhost:8080/",
          "height": 216
        },
        "id": "kvGpI0ISDJyA",
        "outputId": "84236a75-bec8-4832-8e87-12afe1c7a47a"
      },
      "source": [
        "abc.head(3)"
      ],
      "execution_count": null,
      "outputs": [
        {
          "output_type": "execute_result",
          "data": {
            "text/html": [
              "<div>\n",
              "<style scoped>\n",
              "    .dataframe tbody tr th:only-of-type {\n",
              "        vertical-align: middle;\n",
              "    }\n",
              "\n",
              "    .dataframe tbody tr th {\n",
              "        vertical-align: top;\n",
              "    }\n",
              "\n",
              "    .dataframe thead th {\n",
              "        text-align: right;\n",
              "    }\n",
              "</style>\n",
              "<table border=\"1\" class=\"dataframe\">\n",
              "  <thead>\n",
              "    <tr style=\"text-align: right;\">\n",
              "      <th></th>\n",
              "      <th>ip</th>\n",
              "      <th>app</th>\n",
              "      <th>device</th>\n",
              "      <th>os</th>\n",
              "      <th>channel</th>\n",
              "      <th>click_time</th>\n",
              "      <th>attributed_time</th>\n",
              "      <th>is_attributed</th>\n",
              "      <th>day</th>\n",
              "      <th>hour</th>\n",
              "      <th>minute</th>\n",
              "      <th>second</th>\n",
              "      <th>ip_confRate</th>\n",
              "      <th>app_confRate</th>\n",
              "      <th>device_confRate</th>\n",
              "      <th>os_confRate</th>\n",
              "      <th>channel_confRate</th>\n",
              "      <th>app_channel_confRate</th>\n",
              "      <th>app_os_confRate</th>\n",
              "      <th>app_device_confRate</th>\n",
              "      <th>channel_os_confRate</th>\n",
              "      <th>channel_device_confRate</th>\n",
              "      <th>os_device_confRate</th>\n",
              "    </tr>\n",
              "  </thead>\n",
              "  <tbody>\n",
              "    <tr>\n",
              "      <th>0</th>\n",
              "      <td>191851</td>\n",
              "      <td>2</td>\n",
              "      <td>1</td>\n",
              "      <td>13</td>\n",
              "      <td>477</td>\n",
              "      <td>2017-11-06 16:00:01</td>\n",
              "      <td>NaN</td>\n",
              "      <td>0</td>\n",
              "      <td>6</td>\n",
              "      <td>16</td>\n",
              "      <td>0</td>\n",
              "      <td>1</td>\n",
              "      <td>0.0</td>\n",
              "      <td>0.000212</td>\n",
              "      <td>0.001773</td>\n",
              "      <td>0.001535</td>\n",
              "      <td>0.000094</td>\n",
              "      <td>0.000086</td>\n",
              "      <td>0.000143</td>\n",
              "      <td>0.000223</td>\n",
              "      <td>0.0</td>\n",
              "      <td>0.000096</td>\n",
              "      <td>0.001591</td>\n",
              "    </tr>\n",
              "    <tr>\n",
              "      <th>1</th>\n",
              "      <td>123872</td>\n",
              "      <td>12</td>\n",
              "      <td>1</td>\n",
              "      <td>8</td>\n",
              "      <td>245</td>\n",
              "      <td>2017-11-06 16:01:03</td>\n",
              "      <td>NaN</td>\n",
              "      <td>0</td>\n",
              "      <td>6</td>\n",
              "      <td>16</td>\n",
              "      <td>1</td>\n",
              "      <td>3</td>\n",
              "      <td>0.0</td>\n",
              "      <td>0.000107</td>\n",
              "      <td>0.001773</td>\n",
              "      <td>0.001027</td>\n",
              "      <td>0.000078</td>\n",
              "      <td>0.000051</td>\n",
              "      <td>0.000000</td>\n",
              "      <td>0.000114</td>\n",
              "      <td>0.0</td>\n",
              "      <td>0.000081</td>\n",
              "      <td>0.001055</td>\n",
              "    </tr>\n",
              "    <tr>\n",
              "      <th>2</th>\n",
              "      <td>83306</td>\n",
              "      <td>18</td>\n",
              "      <td>1</td>\n",
              "      <td>17</td>\n",
              "      <td>121</td>\n",
              "      <td>2017-11-06 16:20:48</td>\n",
              "      <td>NaN</td>\n",
              "      <td>0</td>\n",
              "      <td>6</td>\n",
              "      <td>16</td>\n",
              "      <td>20</td>\n",
              "      <td>48</td>\n",
              "      <td>0.0</td>\n",
              "      <td>0.000558</td>\n",
              "      <td>0.001773</td>\n",
              "      <td>0.001333</td>\n",
              "      <td>0.000349</td>\n",
              "      <td>0.000395</td>\n",
              "      <td>0.000502</td>\n",
              "      <td>0.000587</td>\n",
              "      <td>0.0</td>\n",
              "      <td>0.000357</td>\n",
              "      <td>0.001355</td>\n",
              "    </tr>\n",
              "  </tbody>\n",
              "</table>\n",
              "</div>"
            ],
            "text/plain": [
              "       ip  app  ...  channel_device_confRate  os_device_confRate\n",
              "0  191851    2  ...                 0.000096            0.001591\n",
              "1  123872   12  ...                 0.000081            0.001055\n",
              "2   83306   18  ...                 0.000357            0.001355\n",
              "\n",
              "[3 rows x 23 columns]"
            ]
          },
          "metadata": {
            "tags": []
          },
          "execution_count": 30
        }
      ]
    },
    {
      "cell_type": "markdown",
      "metadata": {
        "id": "pEhEHu1zjjiH"
      },
      "source": [
        "##Perform final feature generation\r\n",
        "We now use the above experiments to write our final function and perform feature generation (among explanatory features)."
      ]
    },
    {
      "cell_type": "markdown",
      "metadata": {
        "id": "aYAnTmkGnbag"
      },
      "source": [
        "###First develop grouping plan\r\n",
        "Plan describes:<br> i) which features will be grouped,<br> ii) which feature will be summarised, and<br> iii) what kind of summary (count, var etc)"
      ]
    },
    {
      "cell_type": "code",
      "metadata": {
        "id": "enxYId5HD7nP"
      },
      "source": [
        " # Define all the groupby transformations\r\n",
        "GROUPBY_AGGREGATIONS = [\r\n",
        "    \r\n",
        "    # V1 - GroupBy Features #\r\n",
        "    #########################    \r\n",
        "    # Variance in day, for ip-app-channel\r\n",
        "    {'groupby': ['ip','app','channel'], 'select': 'day', 'agg': 'var'},\r\n",
        "    # Variance in hour, for ip-app-os\r\n",
        "    {'groupby': ['ip','app','os'], 'select': 'hour', 'agg': 'var'},\r\n",
        "    # Variance in hour, for ip-day-channel\r\n",
        "    {'groupby': ['ip','day','channel'], 'select': 'hour', 'agg': 'var'},\r\n",
        "    # Count, for ip-day-hour\r\n",
        "    {'groupby': ['ip','day','hour'], 'select': 'channel', 'agg': 'count'},\r\n",
        "    # Count, for ip-app\r\n",
        "    {'groupby': ['ip', 'app'], 'select': 'channel', 'agg': 'count'},        \r\n",
        "    # Count, for ip-app-os\r\n",
        "    {'groupby': ['ip', 'app', 'os'], 'select': 'channel', 'agg': 'count'},\r\n",
        "    # Count, for ip-app-day-hour\r\n",
        "    {'groupby': ['ip','app','day','hour'], 'select': 'channel', 'agg': 'count'},\r\n",
        "    # Mean hour, for ip-app-channel\r\n",
        "    {'groupby': ['ip','app','channel'], 'select': 'hour', 'agg': 'mean'}, \r\n",
        "    \r\n",
        "    # V2 - GroupBy Features #\r\n",
        "    #########################\r\n",
        "    # Average clicks on app by distinct users; is it an app they return to?\r\n",
        "    {'groupby': ['app'], \r\n",
        "     'select': 'ip', \r\n",
        "     'agg': lambda x: float(len(x)) / len(x.unique()), \r\n",
        "     'agg_name': 'AvgViewPerDistinct'\r\n",
        "    },\r\n",
        "    # How popular is the app or channel?\r\n",
        "    {'groupby': ['app'], 'select': 'channel', 'agg': 'count'},\r\n",
        "    {'groupby': ['channel'], 'select': 'app', 'agg': 'count'},\r\n",
        "    \r\n",
        "    # V3 - GroupBy Features                                              #\r\n",
        "    # https://www.kaggle.com/bk0000/non-blending-lightgbm-model-lb-0-977 #\r\n",
        "    ###################################################################### \r\n",
        "    {'groupby': ['ip'], 'select': 'channel', 'agg': 'nunique'}, \r\n",
        "    {'groupby': ['ip'], 'select': 'app', 'agg': 'nunique'}, \r\n",
        "    {'groupby': ['ip','day'], 'select': 'hour', 'agg': 'nunique'}, \r\n",
        "    {'groupby': ['ip','app'], 'select': 'os', 'agg': 'nunique'}, \r\n",
        "    {'groupby': ['ip'], 'select': 'device', 'agg': 'nunique'}, \r\n",
        "    {'groupby': ['app'], 'select': 'channel', 'agg': 'nunique'}, \r\n",
        "    {'groupby': ['ip', 'device', 'os'], 'select': 'app', 'agg': 'nunique'}, \r\n",
        "    {'groupby': ['ip','device','os'], 'select': 'app', 'agg': 'cumcount'}, \r\n",
        "    {'groupby': ['ip'], 'select': 'app', 'agg': 'cumcount'}, \r\n",
        "    {'groupby': ['ip'], 'select': 'os', 'agg': 'cumcount'}, \r\n",
        "    {'groupby': ['ip','day','channel'], 'select': 'hour', 'agg': 'var'}    \r\n",
        "]"
      ],
      "execution_count": null,
      "outputs": []
    },
    {
      "cell_type": "markdown",
      "metadata": {
        "id": "vPnP4hzUngDP"
      },
      "source": [
        "###Next, use the plan \r\n",
        "Write now a for-loop to go over the plan, one at a time. In the for-loop,as and when new-feature is created, go on merging this new-feature with the train data after giving appropriate name (or a descriptive name) to the new-feature"
      ]
    },
    {
      "cell_type": "code",
      "metadata": {
        "colab": {
          "base_uri": "https://localhost:8080/"
        },
        "id": "kb1qVBkFD9mn",
        "outputId": "d1042f6c-3a6b-41a1-81f2-11f837626102"
      },
      "source": [
        "# Apply all the groupby transformations\r\n",
        "for spec in GROUPBY_AGGREGATIONS:\r\n",
        "    \r\n",
        "    # Name of the aggregation we're applying\r\n",
        "    agg_name = spec['agg_name'] if 'agg_name' in spec else spec['agg']\r\n",
        "    \r\n",
        "    # Name of new feature\r\n",
        "    new_feature = '{}_{}_{}'.format('_'.join(spec['groupby']), agg_name, spec['select'])\r\n",
        "    \r\n",
        "    # Info\r\n",
        "    print(\"Grouping by {}, and aggregating {} with {}\".format(\r\n",
        "        spec['groupby'], spec['select'], agg_name\r\n",
        "    ))\r\n",
        "    \r\n",
        "    # Unique list of features to select\r\n",
        "    all_features = list(set(spec['groupby'] + [spec['select']]))\r\n",
        "    \r\n",
        "    # Perform the groupby\r\n",
        "    gp = train[all_features]. \\\r\n",
        "        groupby(spec['groupby'])[spec['select']]. \\\r\n",
        "        agg(spec['agg']). \\\r\n",
        "        reset_index(). \\\r\n",
        "        rename(index=str, columns={spec['select']: new_feature})\r\n",
        "        \r\n",
        "    # Merge back to X_total\r\n",
        "    if 'cumcount' == spec['agg']:\r\n",
        "        train[new_feature] = gp[0].values\r\n",
        "    else:\r\n",
        "        train = train.merge(gp, on=spec['groupby'], how='left')\r\n",
        "        \r\n",
        "     # Clear memory\r\n",
        "    del gp\r\n",
        "    gc.collect()"
      ],
      "execution_count": null,
      "outputs": [
        {
          "output_type": "stream",
          "text": [
            "Grouping by ['ip', 'app', 'channel'], and aggregating day with var\n"
          ],
          "name": "stdout"
        },
        {
          "output_type": "execute_result",
          "data": {
            "text/plain": [
              "819"
            ]
          },
          "metadata": {
            "tags": []
          },
          "execution_count": 126
        },
        {
          "output_type": "stream",
          "text": [
            "Grouping by ['ip', 'app', 'os'], and aggregating hour with var\n"
          ],
          "name": "stdout"
        },
        {
          "output_type": "execute_result",
          "data": {
            "text/plain": [
              "0"
            ]
          },
          "metadata": {
            "tags": []
          },
          "execution_count": 126
        },
        {
          "output_type": "stream",
          "text": [
            "Grouping by ['ip', 'day', 'channel'], and aggregating hour with var\n"
          ],
          "name": "stdout"
        },
        {
          "output_type": "execute_result",
          "data": {
            "text/plain": [
              "0"
            ]
          },
          "metadata": {
            "tags": []
          },
          "execution_count": 126
        },
        {
          "output_type": "stream",
          "text": [
            "Grouping by ['ip', 'day', 'hour'], and aggregating channel with count\n"
          ],
          "name": "stdout"
        },
        {
          "output_type": "execute_result",
          "data": {
            "text/plain": [
              "0"
            ]
          },
          "metadata": {
            "tags": []
          },
          "execution_count": 126
        },
        {
          "output_type": "stream",
          "text": [
            "Grouping by ['ip', 'app'], and aggregating channel with count\n"
          ],
          "name": "stdout"
        },
        {
          "output_type": "execute_result",
          "data": {
            "text/plain": [
              "0"
            ]
          },
          "metadata": {
            "tags": []
          },
          "execution_count": 126
        },
        {
          "output_type": "stream",
          "text": [
            "Grouping by ['ip', 'app', 'os'], and aggregating channel with count\n"
          ],
          "name": "stdout"
        },
        {
          "output_type": "execute_result",
          "data": {
            "text/plain": [
              "0"
            ]
          },
          "metadata": {
            "tags": []
          },
          "execution_count": 126
        },
        {
          "output_type": "stream",
          "text": [
            "Grouping by ['ip', 'app', 'day', 'hour'], and aggregating channel with count\n"
          ],
          "name": "stdout"
        },
        {
          "output_type": "execute_result",
          "data": {
            "text/plain": [
              "0"
            ]
          },
          "metadata": {
            "tags": []
          },
          "execution_count": 126
        },
        {
          "output_type": "stream",
          "text": [
            "Grouping by ['ip', 'app', 'channel'], and aggregating hour with mean\n"
          ],
          "name": "stdout"
        },
        {
          "output_type": "execute_result",
          "data": {
            "text/plain": [
              "0"
            ]
          },
          "metadata": {
            "tags": []
          },
          "execution_count": 126
        },
        {
          "output_type": "stream",
          "text": [
            "Grouping by ['app'], and aggregating ip with AvgViewPerDistinct\n"
          ],
          "name": "stdout"
        },
        {
          "output_type": "execute_result",
          "data": {
            "text/plain": [
              "0"
            ]
          },
          "metadata": {
            "tags": []
          },
          "execution_count": 126
        },
        {
          "output_type": "stream",
          "text": [
            "Grouping by ['app'], and aggregating channel with count\n"
          ],
          "name": "stdout"
        },
        {
          "output_type": "execute_result",
          "data": {
            "text/plain": [
              "0"
            ]
          },
          "metadata": {
            "tags": []
          },
          "execution_count": 126
        },
        {
          "output_type": "stream",
          "text": [
            "Grouping by ['channel'], and aggregating app with count\n"
          ],
          "name": "stdout"
        },
        {
          "output_type": "execute_result",
          "data": {
            "text/plain": [
              "0"
            ]
          },
          "metadata": {
            "tags": []
          },
          "execution_count": 126
        },
        {
          "output_type": "stream",
          "text": [
            "Grouping by ['ip'], and aggregating channel with nunique\n"
          ],
          "name": "stdout"
        },
        {
          "output_type": "execute_result",
          "data": {
            "text/plain": [
              "0"
            ]
          },
          "metadata": {
            "tags": []
          },
          "execution_count": 126
        },
        {
          "output_type": "stream",
          "text": [
            "Grouping by ['ip'], and aggregating app with nunique\n"
          ],
          "name": "stdout"
        },
        {
          "output_type": "execute_result",
          "data": {
            "text/plain": [
              "0"
            ]
          },
          "metadata": {
            "tags": []
          },
          "execution_count": 126
        },
        {
          "output_type": "stream",
          "text": [
            "Grouping by ['ip', 'day'], and aggregating hour with nunique\n"
          ],
          "name": "stdout"
        },
        {
          "output_type": "execute_result",
          "data": {
            "text/plain": [
              "0"
            ]
          },
          "metadata": {
            "tags": []
          },
          "execution_count": 126
        },
        {
          "output_type": "stream",
          "text": [
            "Grouping by ['ip', 'app'], and aggregating os with nunique\n"
          ],
          "name": "stdout"
        },
        {
          "output_type": "execute_result",
          "data": {
            "text/plain": [
              "0"
            ]
          },
          "metadata": {
            "tags": []
          },
          "execution_count": 126
        },
        {
          "output_type": "stream",
          "text": [
            "Grouping by ['ip'], and aggregating device with nunique\n"
          ],
          "name": "stdout"
        },
        {
          "output_type": "execute_result",
          "data": {
            "text/plain": [
              "0"
            ]
          },
          "metadata": {
            "tags": []
          },
          "execution_count": 126
        },
        {
          "output_type": "stream",
          "text": [
            "Grouping by ['app'], and aggregating channel with nunique\n"
          ],
          "name": "stdout"
        },
        {
          "output_type": "execute_result",
          "data": {
            "text/plain": [
              "0"
            ]
          },
          "metadata": {
            "tags": []
          },
          "execution_count": 126
        },
        {
          "output_type": "stream",
          "text": [
            "Grouping by ['ip', 'device', 'os'], and aggregating app with nunique\n"
          ],
          "name": "stdout"
        },
        {
          "output_type": "execute_result",
          "data": {
            "text/plain": [
              "0"
            ]
          },
          "metadata": {
            "tags": []
          },
          "execution_count": 126
        },
        {
          "output_type": "stream",
          "text": [
            "Grouping by ['ip', 'device', 'os'], and aggregating app with cumcount\n"
          ],
          "name": "stdout"
        },
        {
          "output_type": "execute_result",
          "data": {
            "text/plain": [
              "0"
            ]
          },
          "metadata": {
            "tags": []
          },
          "execution_count": 126
        },
        {
          "output_type": "stream",
          "text": [
            "Grouping by ['ip'], and aggregating app with cumcount\n"
          ],
          "name": "stdout"
        },
        {
          "output_type": "execute_result",
          "data": {
            "text/plain": [
              "0"
            ]
          },
          "metadata": {
            "tags": []
          },
          "execution_count": 126
        },
        {
          "output_type": "stream",
          "text": [
            "Grouping by ['ip'], and aggregating os with cumcount\n"
          ],
          "name": "stdout"
        },
        {
          "output_type": "execute_result",
          "data": {
            "text/plain": [
              "0"
            ]
          },
          "metadata": {
            "tags": []
          },
          "execution_count": 126
        },
        {
          "output_type": "stream",
          "text": [
            "Grouping by ['ip', 'day', 'channel'], and aggregating hour with var\n"
          ],
          "name": "stdout"
        },
        {
          "output_type": "execute_result",
          "data": {
            "text/plain": [
              "0"
            ]
          },
          "metadata": {
            "tags": []
          },
          "execution_count": 126
        }
      ]
    },
    {
      "cell_type": "markdown",
      "metadata": {
        "id": "Y77rjgHEphTG"
      },
      "source": [
        "##Save your data\r\n",
        "As the final data will have very large number of features and you do not want to go over it again, save to Google drive for later use."
      ]
    },
    {
      "cell_type": "code",
      "metadata": {
        "id": "xQGd_XB-kWgO"
      },
      "source": [
        "#####################"
      ],
      "execution_count": null,
      "outputs": []
    }
  ]
}