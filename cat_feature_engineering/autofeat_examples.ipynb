{
  "nbformat": 4,
  "nbformat_minor": 0,
  "metadata": {
    "colab": {
      "name": "autofeat examples.ipynb",
      "provenance": [],
      "collapsed_sections": [
        "QD_RHxhNUo4K"
      ],
      "mount_file_id": "1EmBxAlm38tX1KYGJg5trI1rvxXsOxBc0",
      "authorship_tag": "ABX9TyNtDyNFuC+lKlj8+maxlc0r",
      "include_colab_link": true
    },
    "kernelspec": {
      "name": "python3",
      "display_name": "Python 3"
    },
    "language_info": {
      "name": "python"
    }
  },
  "cells": [
    {
      "cell_type": "markdown",
      "metadata": {
        "id": "view-in-github",
        "colab_type": "text"
      },
      "source": [
        "<a href=\"https://colab.research.google.com/github/harnalashok/classification/blob/main/autofeat_examples.ipynb\" target=\"_parent\"><img src=\"https://colab.research.google.com/assets/colab-badge.svg\" alt=\"Open In Colab\"/></a>"
      ]
    },
    {
      "cell_type": "code",
      "metadata": {
        "id": "lvHoxrVjMrfj"
      },
      "source": [
        "# Last amended: 5th Sep, 2021\n",
        "# Ref: 1. https://github.com/cod3licious/autofeat\n",
        "#      2. https://github.com/cod3licious/autofeat/blob/master/autofeat_examples.ipynb"
      ],
      "execution_count": null,
      "outputs": []
    },
    {
      "cell_type": "code",
      "metadata": {
        "colab": {
          "base_uri": "https://localhost:8080/"
        },
        "id": "X4SKwjig5leR",
        "outputId": "01f28d55-ee81-444d-b87b-eef93d0a23b8"
      },
      "source": [
        "!pip install autofeat"
      ],
      "execution_count": null,
      "outputs": [
        {
          "output_type": "stream",
          "name": "stdout",
          "text": [
            "Collecting autofeat\n",
            "  Downloading autofeat-2.0.9-py3-none-any.whl (24 kB)\n",
            "Requirement already satisfied: sympy>=1.7.1 in /usr/local/lib/python3.7/dist-packages (from autofeat) (1.7.1)\n",
            "Collecting pint\n",
            "  Downloading Pint-0.17-py2.py3-none-any.whl (204 kB)\n",
            "\u001b[K     |████████████████████████████████| 204 kB 3.6 MB/s \n",
            "\u001b[?25hRequirement already satisfied: numba in /usr/local/lib/python3.7/dist-packages (from autofeat) (0.51.2)\n",
            "Requirement already satisfied: scikit-learn in /usr/local/lib/python3.7/dist-packages (from autofeat) (0.22.2.post1)\n",
            "Requirement already satisfied: numpy in /usr/local/lib/python3.7/dist-packages (from autofeat) (1.19.5)\n",
            "Requirement already satisfied: pandas>=0.24.0 in /usr/local/lib/python3.7/dist-packages (from autofeat) (1.1.5)\n",
            "Requirement already satisfied: joblib in /usr/local/lib/python3.7/dist-packages (from autofeat) (1.0.1)\n",
            "Requirement already satisfied: future in /usr/local/lib/python3.7/dist-packages (from autofeat) (0.16.0)\n",
            "Requirement already satisfied: pytz>=2017.2 in /usr/local/lib/python3.7/dist-packages (from pandas>=0.24.0->autofeat) (2018.9)\n",
            "Requirement already satisfied: python-dateutil>=2.7.3 in /usr/local/lib/python3.7/dist-packages (from pandas>=0.24.0->autofeat) (2.8.2)\n",
            "Requirement already satisfied: six>=1.5 in /usr/local/lib/python3.7/dist-packages (from python-dateutil>=2.7.3->pandas>=0.24.0->autofeat) (1.15.0)\n",
            "Requirement already satisfied: mpmath>=0.19 in /usr/local/lib/python3.7/dist-packages (from sympy>=1.7.1->autofeat) (1.2.1)\n",
            "Requirement already satisfied: setuptools in /usr/local/lib/python3.7/dist-packages (from numba->autofeat) (57.4.0)\n",
            "Requirement already satisfied: llvmlite<0.35,>=0.34.0.dev0 in /usr/local/lib/python3.7/dist-packages (from numba->autofeat) (0.34.0)\n",
            "Requirement already satisfied: importlib-metadata in /usr/local/lib/python3.7/dist-packages (from pint->autofeat) (4.6.4)\n",
            "Requirement already satisfied: packaging in /usr/local/lib/python3.7/dist-packages (from pint->autofeat) (21.0)\n",
            "Requirement already satisfied: zipp>=0.5 in /usr/local/lib/python3.7/dist-packages (from importlib-metadata->pint->autofeat) (3.5.0)\n",
            "Requirement already satisfied: typing-extensions>=3.6.4 in /usr/local/lib/python3.7/dist-packages (from importlib-metadata->pint->autofeat) (3.7.4.3)\n",
            "Requirement already satisfied: pyparsing>=2.0.2 in /usr/local/lib/python3.7/dist-packages (from packaging->pint->autofeat) (2.4.7)\n",
            "Requirement already satisfied: scipy>=0.17.0 in /usr/local/lib/python3.7/dist-packages (from scikit-learn->autofeat) (1.4.1)\n",
            "Installing collected packages: pint, autofeat\n",
            "Successfully installed autofeat-2.0.9 pint-0.17\n"
          ]
        }
      ]
    },
    {
      "cell_type": "code",
      "metadata": {
        "id": "GgOYB10ITn8b"
      },
      "source": [
        "from IPython.core.interactiveshell import InteractiveShell\n",
        "InteractiveShell.ast_node_interactivity = \"all\"\n"
      ],
      "execution_count": null,
      "outputs": []
    },
    {
      "cell_type": "code",
      "metadata": {
        "colab": {
          "base_uri": "https://localhost:8080/"
        },
        "id": "cjcfv2I3T72F",
        "outputId": "ea614c04-f43d-47be-ce45-c5987837fc80"
      },
      "source": [
        "from google.colab import drive\n",
        "drive.mount('/gdrive')"
      ],
      "execution_count": null,
      "outputs": [
        {
          "output_type": "stream",
          "name": "stdout",
          "text": [
            "Drive already mounted at /gdrive; to attempt to forcibly remount, call drive.mount(\"/gdrive\", force_remount=True).\n"
          ]
        }
      ]
    },
    {
      "cell_type": "code",
      "metadata": {
        "id": "f5vZ58N75n76",
        "colab": {
          "base_uri": "https://localhost:8080/"
        },
        "outputId": "2a0869a5-ee7b-4e12-a879-bd2514ce3d5e"
      },
      "source": [
        "import numpy as np\n",
        "import pandas as pd\n",
        "import matplotlib.pyplot as plt\n",
        "\n",
        "from autofeat import FeatureSelector, AutoFeatRegressor, AutoFeatClassifier\n",
        "\n",
        "%matplotlib inline\n",
        "%load_ext autoreload\n",
        "%autoreload 2"
      ],
      "execution_count": null,
      "outputs": [
        {
          "output_type": "stream",
          "name": "stdout",
          "text": [
            "The autoreload extension is already loaded. To reload it, use:\n",
            "  %reload_ext autoreload\n"
          ]
        }
      ]
    },
    {
      "cell_type": "markdown",
      "metadata": {
        "id": "QD_RHxhNUo4K"
      },
      "source": [
        "# Experiments"
      ]
    },
    {
      "cell_type": "code",
      "metadata": {
        "id": "9j4HBWjx5zSi"
      },
      "source": [
        "# generate some toy data\n",
        "np.random.seed(10)\n",
        "x1 = np.random.rand(1000)     # (1000,)\n",
        "x2 = np.random.randn(1000)    # (1000,)\n",
        "x3 = np.random.rand(1000)     # (1000,)\n",
        "x4 = np.random.randn(1000)\n",
        "x5 = np.random.rand(1000)\n"
      ],
      "execution_count": null,
      "outputs": []
    },
    {
      "cell_type": "code",
      "metadata": {
        "colab": {
          "base_uri": "https://localhost:8080/"
        },
        "id": "aEemOCAb8OB5",
        "outputId": "88b751f7-bb51-4e74-be5c-51f3c4b5b9fb"
      },
      "source": [
        "# Stack seven (1000,) variables one upon another\n",
        "#  to get (7,1000) dataset\n",
        "X = np.vstack([x1, x2, x3, x4, x5, 1/(x2 - 1/x3), (x2 + np.log(x1))**3])\n",
        "X.shape"
      ],
      "execution_count": null,
      "outputs": [
        {
          "output_type": "execute_result",
          "data": {
            "text/plain": [
              "(7, 1000)"
            ]
          },
          "metadata": {},
          "execution_count": 4
        }
      ]
    },
    {
      "cell_type": "markdown",
      "metadata": {
        "id": "O--deAbc9EjB"
      },
      "source": [
        "Transpose it to have our seven features as:<br>\n",
        "f1=x1&nbsp;&nbsp; &nbsp; &nbsp;f2=x2&nbsp;&nbsp; &nbsp; &nbsp;    f3=x3&nbsp;&nbsp; &nbsp; &nbsp;     f4=x4&nbsp;&nbsp; &nbsp; &nbsp;    f5=x5&nbsp;&nbsp; &nbsp; &nbsp;   f6=1/(x2 - 1/x3)&nbsp;&nbsp; &nbsp; &nbsp;    f7=(x2 + np.log(x1))**3"
      ]
    },
    {
      "cell_type": "code",
      "metadata": {
        "id": "9koU8K-k8cyV"
      },
      "source": [
        "X = X.T"
      ],
      "execution_count": null,
      "outputs": []
    },
    {
      "cell_type": "code",
      "metadata": {
        "id": "jihFQeKa-UvT"
      },
      "source": [
        "# Data as a dataframe\n",
        "df = pd.DataFrame(X, columns=[\"x1\", \"x2\", \"x3\", \"x4\", \"x5\", \"eng6\", \"eng7\"])"
      ],
      "execution_count": null,
      "outputs": []
    },
    {
      "cell_type": "code",
      "metadata": {
        "colab": {
          "base_uri": "https://localhost:8080/",
          "height": 206
        },
        "id": "-AdlIPd6-hm5",
        "outputId": "ecbfa1cd-d0e2-4e43-a988-4513f596cf9c"
      },
      "source": [
        "df.head()"
      ],
      "execution_count": null,
      "outputs": [
        {
          "output_type": "execute_result",
          "data": {
            "text/html": [
              "<div>\n",
              "<style scoped>\n",
              "    .dataframe tbody tr th:only-of-type {\n",
              "        vertical-align: middle;\n",
              "    }\n",
              "\n",
              "    .dataframe tbody tr th {\n",
              "        vertical-align: top;\n",
              "    }\n",
              "\n",
              "    .dataframe thead th {\n",
              "        text-align: right;\n",
              "    }\n",
              "</style>\n",
              "<table border=\"1\" class=\"dataframe\">\n",
              "  <thead>\n",
              "    <tr style=\"text-align: right;\">\n",
              "      <th></th>\n",
              "      <th>x1</th>\n",
              "      <th>x2</th>\n",
              "      <th>x3</th>\n",
              "      <th>x4</th>\n",
              "      <th>x5</th>\n",
              "      <th>eng6</th>\n",
              "      <th>eng7</th>\n",
              "    </tr>\n",
              "  </thead>\n",
              "  <tbody>\n",
              "    <tr>\n",
              "      <th>0</th>\n",
              "      <td>0.771321</td>\n",
              "      <td>1.097121</td>\n",
              "      <td>0.222560</td>\n",
              "      <td>0.029988</td>\n",
              "      <td>0.720170</td>\n",
              "      <td>-0.294459</td>\n",
              "      <td>0.587364</td>\n",
              "    </tr>\n",
              "    <tr>\n",
              "      <th>1</th>\n",
              "      <td>0.020752</td>\n",
              "      <td>-0.538577</td>\n",
              "      <td>0.226277</td>\n",
              "      <td>-0.975896</td>\n",
              "      <td>0.723432</td>\n",
              "      <td>-0.201697</td>\n",
              "      <td>-85.981735</td>\n",
              "    </tr>\n",
              "    <tr>\n",
              "      <th>2</th>\n",
              "      <td>0.633648</td>\n",
              "      <td>2.195597</td>\n",
              "      <td>0.824412</td>\n",
              "      <td>1.021897</td>\n",
              "      <td>0.090843</td>\n",
              "      <td>1.017697</td>\n",
              "      <td>5.261990</td>\n",
              "    </tr>\n",
              "    <tr>\n",
              "      <th>3</th>\n",
              "      <td>0.748804</td>\n",
              "      <td>-0.702644</td>\n",
              "      <td>0.716858</td>\n",
              "      <td>0.632287</td>\n",
              "      <td>0.029328</td>\n",
              "      <td>-0.476731</td>\n",
              "      <td>-0.975961</td>\n",
              "    </tr>\n",
              "    <tr>\n",
              "      <th>4</th>\n",
              "      <td>0.498507</td>\n",
              "      <td>-0.060600</td>\n",
              "      <td>0.013533</td>\n",
              "      <td>0.517100</td>\n",
              "      <td>0.435986</td>\n",
              "      <td>-0.013522</td>\n",
              "      <td>-0.433346</td>\n",
              "    </tr>\n",
              "  </tbody>\n",
              "</table>\n",
              "</div>"
            ],
            "text/plain": [
              "         x1        x2        x3        x4        x5      eng6       eng7\n",
              "0  0.771321  1.097121  0.222560  0.029988  0.720170 -0.294459   0.587364\n",
              "1  0.020752 -0.538577  0.226277 -0.975896  0.723432 -0.201697 -85.981735\n",
              "2  0.633648  2.195597  0.824412  1.021897  0.090843  1.017697   5.261990\n",
              "3  0.748804 -0.702644  0.716858  0.632287  0.029328 -0.476731  -0.975961\n",
              "4  0.498507 -0.060600  0.013533  0.517100  0.435986 -0.013522  -0.433346"
            ]
          },
          "metadata": {},
          "execution_count": 7
        }
      ]
    },
    {
      "cell_type": "code",
      "metadata": {
        "id": "vwZX9POu6MaF"
      },
      "source": [
        "# Create target. Target, row-by-row has a non-linear relationship\n",
        "# with independent features with target\n",
        "# Note that x4 and x5 are absent here:\n",
        "\n",
        "target = 2 + 15*x1 + 3/(x2 - 1/x3) + 5*(x2 + np.log(x1))**3"
      ],
      "execution_count": null,
      "outputs": []
    },
    {
      "cell_type": "code",
      "metadata": {
        "id": "uM_HmK0z-0ot"
      },
      "source": [
        "help(FeatureSelector)\n",
        "# FeatureSelector(\n",
        "#                  problem_type='regression',  # \"classification\"\n",
        "#                  featsel_runs=5,\n",
        "#                  keep=None,\n",
        "#                  n_jobs=1,\n",
        "#                  verbose=0)"
      ],
      "execution_count": null,
      "outputs": []
    },
    {
      "cell_type": "code",
      "metadata": {
        "id": "T2RwDbcc-zwC"
      },
      "source": [
        "# Instantiate feature selector\n",
        "fsel = FeatureSelector(verbose=1)"
      ],
      "execution_count": null,
      "outputs": []
    },
    {
      "cell_type": "code",
      "metadata": {
        "id": "bxeSNR6vEfBe"
      },
      "source": [
        "# Perform feature selection\n",
        "new_X = fsel.fit_transform(df, target)"
      ],
      "execution_count": null,
      "outputs": []
    },
    {
      "cell_type": "code",
      "metadata": {
        "colab": {
          "base_uri": "https://localhost:8080/"
        },
        "id": "2f2IC-AA6CbX",
        "outputId": "ae1f9bdc-2127-4438-9299-2060f610a49b"
      },
      "source": [
        "# should contain [\"x1\", \"eng6\", \"eng7\"]\n",
        "print(new_X.columns)"
      ],
      "execution_count": null,
      "outputs": [
        {
          "output_type": "stream",
          "name": "stdout",
          "text": [
            "Index(['x1', 'eng7', 'eng6'], dtype='object')\n"
          ]
        }
      ]
    },
    {
      "cell_type": "markdown",
      "metadata": {
        "id": "vbp0aC-IFIxi"
      },
      "source": [
        "## autofeat"
      ]
    },
    {
      "cell_type": "markdown",
      "metadata": {
        "id": "KuZ4Dr5OGV5h"
      },
      "source": [
        "### Generate some toy data"
      ]
    },
    {
      "cell_type": "code",
      "metadata": {
        "id": "HARUJWoRE6Jr"
      },
      "source": [
        "# Generate some toy data\n",
        "np.random.seed(10)\n",
        "x1 = np.random.rand(1000)\n",
        "x2 = np.random.randn(1000)\n",
        "x3 = np.random.rand(1000)"
      ],
      "execution_count": null,
      "outputs": []
    },
    {
      "cell_type": "code",
      "metadata": {
        "id": "E77SZEY-GmQa"
      },
      "source": [
        "# Stack and transpose to create (1000,3) shape dataset\n",
        "X = np.vstack([x1, x2, x3]).T"
      ],
      "execution_count": null,
      "outputs": []
    },
    {
      "cell_type": "code",
      "metadata": {
        "id": "kYhvYppcHoQq"
      },
      "source": [
        "# Data frame\n",
        "df_org = pd.DataFrame(X, columns=[\"x1\", \"x2\", \"x3\"])\n",
        "df_org.head()"
      ],
      "execution_count": null,
      "outputs": []
    },
    {
      "cell_type": "code",
      "metadata": {
        "id": "cCpgT9cvGoNr"
      },
      "source": [
        "# Now the target\n",
        "target = 2 + 15*x1 + 3/(x2 - 1/x3) + 5*(x2 + np.log(x1))**3"
      ],
      "execution_count": null,
      "outputs": []
    },
    {
      "cell_type": "code",
      "metadata": {
        "id": "opSf5wu_Gd4O"
      },
      "source": [
        "# Add some noise to target\n",
        "#  and create two more targets\n",
        "target_noisy = target + 0.01*target.std()*np.random.randn(1000)\n",
        "target_very_noisy = target + 0.1*target.std()*np.random.randn(1000)"
      ],
      "execution_count": null,
      "outputs": []
    },
    {
      "cell_type": "markdown",
      "metadata": {
        "id": "YcAS1n8NIGtT"
      },
      "source": [
        "### Autofeat with different numbers of FE steps"
      ]
    },
    {
      "cell_type": "code",
      "metadata": {
        "id": "CBk04fyYUV0Z"
      },
      "source": [
        "help(AutoFeatRegressor)"
      ],
      "execution_count": null,
      "outputs": []
    },
    {
      "cell_type": "code",
      "metadata": {
        "id": "eJCtZyIaIjeD"
      },
      "source": [
        "# Instaniate regressor\n",
        "steps =1 \n",
        "afreg = AutoFeatRegressor(verbose=1, feateng_steps=steps)"
      ],
      "execution_count": null,
      "outputs": []
    },
    {
      "cell_type": "code",
      "metadata": {
        "id": "Q1DqpfvYJHlY"
      },
      "source": [
        "# Syntax of Regressor problem_type: regression\n",
        "# AutoFeatRegressor(\n",
        "#                    categorical_cols=None, # list of column names of cat features; \n",
        " |                                          # these will be transformed into 0/1 encoding\n",
        "#                    feateng_cols=None,     # list of col names for feature engineering\n",
        "#                    units=None,            # Let it be as it is\n",
        "#                    feateng_steps=2, # no. of steps to perform in the FE (default: 2)\n",
        "#                    featsel_runs=5,\n",
        "#                    max_gb=None, # max gigabytes to use\n",
        "#                                 # this is no guarantee! \n",
        "#                                 # it will lead to subsampling of the\n",
        "#                                 # data points if the new dataframe\n",
        "#                                 # generated is n_rows * n_cols * 32bit > max_gb\n",
        "#                    transformations=('1/', 'exp', 'log', 'abs', 'sqrt', '^2', '^3'),\n",
        "#                    apply_pi_theorem=True,\n",
        "#                    always_return_numpy=False,\n",
        "#                    n_jobs=1,\n",
        "#                    verbose=0)\n",
        " |  "
      ],
      "execution_count": null,
      "outputs": []
    },
    {
      "cell_type": "code",
      "metadata": {
        "id": "fRwtIdmdI2dm"
      },
      "source": [
        "df = afreg.fit_transform(df_org, target)"
      ],
      "execution_count": null,
      "outputs": []
    },
    {
      "cell_type": "code",
      "metadata": {
        "colab": {
          "base_uri": "https://localhost:8080/",
          "height": 206
        },
        "id": "GftMoKmPUfN6",
        "outputId": "ac928f8e-923c-47ee-cbe6-f115cae5b788"
      },
      "source": [
        "df.head()"
      ],
      "execution_count": null,
      "outputs": [
        {
          "output_type": "execute_result",
          "data": {
            "text/html": [
              "<div>\n",
              "<style scoped>\n",
              "    .dataframe tbody tr th:only-of-type {\n",
              "        vertical-align: middle;\n",
              "    }\n",
              "\n",
              "    .dataframe tbody tr th {\n",
              "        vertical-align: top;\n",
              "    }\n",
              "\n",
              "    .dataframe thead th {\n",
              "        text-align: right;\n",
              "    }\n",
              "</style>\n",
              "<table border=\"1\" class=\"dataframe\">\n",
              "  <thead>\n",
              "    <tr style=\"text-align: right;\">\n",
              "      <th></th>\n",
              "      <th>x1</th>\n",
              "      <th>x2</th>\n",
              "      <th>x3</th>\n",
              "      <th>1/x1</th>\n",
              "      <th>x2**2</th>\n",
              "      <th>x2**3</th>\n",
              "      <th>log(x1)</th>\n",
              "    </tr>\n",
              "  </thead>\n",
              "  <tbody>\n",
              "    <tr>\n",
              "      <th>0</th>\n",
              "      <td>0.771321</td>\n",
              "      <td>1.097121</td>\n",
              "      <td>0.222560</td>\n",
              "      <td>1.296478</td>\n",
              "      <td>1.203674</td>\n",
              "      <td>1.320576</td>\n",
              "      <td>-0.259651</td>\n",
              "    </tr>\n",
              "    <tr>\n",
              "      <th>1</th>\n",
              "      <td>0.020752</td>\n",
              "      <td>-0.538577</td>\n",
              "      <td>0.226277</td>\n",
              "      <td>48.188244</td>\n",
              "      <td>0.290066</td>\n",
              "      <td>-0.156223</td>\n",
              "      <td>-3.875115</td>\n",
              "    </tr>\n",
              "    <tr>\n",
              "      <th>2</th>\n",
              "      <td>0.633648</td>\n",
              "      <td>2.195597</td>\n",
              "      <td>0.824412</td>\n",
              "      <td>1.578163</td>\n",
              "      <td>4.820645</td>\n",
              "      <td>10.584193</td>\n",
              "      <td>-0.456261</td>\n",
              "    </tr>\n",
              "    <tr>\n",
              "      <th>3</th>\n",
              "      <td>0.748804</td>\n",
              "      <td>-0.702644</td>\n",
              "      <td>0.716858</td>\n",
              "      <td>1.335463</td>\n",
              "      <td>0.493708</td>\n",
              "      <td>-0.346901</td>\n",
              "      <td>-0.289278</td>\n",
              "    </tr>\n",
              "    <tr>\n",
              "      <th>4</th>\n",
              "      <td>0.498507</td>\n",
              "      <td>-0.060600</td>\n",
              "      <td>0.013533</td>\n",
              "      <td>2.005990</td>\n",
              "      <td>0.003672</td>\n",
              "      <td>-0.000223</td>\n",
              "      <td>-0.696138</td>\n",
              "    </tr>\n",
              "  </tbody>\n",
              "</table>\n",
              "</div>"
            ],
            "text/plain": [
              "         x1        x2        x3       1/x1     x2**2      x2**3   log(x1)\n",
              "0  0.771321  1.097121  0.222560   1.296478  1.203674   1.320576 -0.259651\n",
              "1  0.020752 -0.538577  0.226277  48.188244  0.290066  -0.156223 -3.875115\n",
              "2  0.633648  2.195597  0.824412   1.578163  4.820645  10.584193 -0.456261\n",
              "3  0.748804 -0.702644  0.716858   1.335463  0.493708  -0.346901 -0.289278\n",
              "4  0.498507 -0.060600  0.013533   2.005990  0.003672  -0.000223 -0.696138"
            ]
          },
          "metadata": {},
          "execution_count": 21
        }
      ]
    },
    {
      "cell_type": "code",
      "metadata": {
        "id": "LUsfWyCONm2G"
      },
      "source": [
        "r2 = afreg.score(df_org, target)  # R^2/Accuracy returned by prediction_model\n",
        "print(\"## Final R^2: %.4f\" % r2)"
      ],
      "execution_count": null,
      "outputs": []
    },
    {
      "cell_type": "code",
      "metadata": {
        "id": "xvKDybaLManX"
      },
      "source": [
        "plt.figure()\n",
        "plt.scatter(\n",
        "             afreg.predict(df_org),\n",
        "             target,\n",
        "             s=2\n",
        "            );\n",
        "plt.title(\"%i FE steps (R^2: %.4f; %i new features)\" % (steps, r2, len(afreg.new_feat_cols_)))"
      ],
      "execution_count": null,
      "outputs": []
    },
    {
      "cell_type": "code",
      "metadata": {
        "id": "Lw8CO2zsVG3s"
      },
      "source": [
        "steps = 2\n",
        "afreg = AutoFeatRegressor(verbose=1, feateng_steps=steps)\n",
        "df = afreg.fit_transform(df_org, target)\n",
        "df.head()"
      ],
      "execution_count": null,
      "outputs": []
    },
    {
      "cell_type": "code",
      "metadata": {
        "id": "3Fxvc85eVXv8"
      },
      "source": [
        "r2 = afreg.score(df_org, target)\n",
        "print(\"## Final R^2: %.4f\" % r2)\n",
        "plt.figure()\n",
        "plt.scatter(afreg.predict(df_org), target, s=2);\n",
        "plt.title(\"%i FE steps (R^2: %.4f; %i new features)\" % (steps, r2, len(afreg.new_feat_cols_)))"
      ],
      "execution_count": null,
      "outputs": []
    },
    {
      "cell_type": "code",
      "metadata": {
        "id": "bgwH9zzlV0lU"
      },
      "source": [
        "steps = 3\n",
        "afreg = AutoFeatRegressor(verbose=1, feateng_steps=steps)\n",
        "df = afreg.fit_transform(df_org, target)\n",
        "df.head()"
      ],
      "execution_count": null,
      "outputs": []
    },
    {
      "cell_type": "code",
      "metadata": {
        "id": "FgPjXdQoV42k"
      },
      "source": [
        "r2 = afreg.score(df_org, target)\n",
        "print(\"## Final R^2: %.4f\" % r2)\n",
        "plt.figure()\n",
        "plt.scatter(afreg.predict(df_org), target, s=2);\n",
        "plt.title(\"%i FE steps (R^2: %.4f; %i new features)\" % (steps, r2, len(afreg.new_feat_cols_)))"
      ],
      "execution_count": null,
      "outputs": []
    },
    {
      "cell_type": "code",
      "metadata": {
        "id": "XWuR3rNuWjE9"
      },
      "source": [
        "help(AutoFeatClassifier)"
      ],
      "execution_count": null,
      "outputs": []
    },
    {
      "cell_type": "markdown",
      "metadata": {
        "id": "uRSbA2rtUgwL"
      },
      "source": [
        "# Problem"
      ]
    },
    {
      "cell_type": "code",
      "metadata": {
        "id": "7EOt8PEvFH10"
      },
      "source": [
        "from sklearn.preprocessing import StandardScaler\n",
        "from sklearn.model_selection import train_test_split\n",
        "from sklearn.ensemble import RandomForestRegressor, RandomForestClassifier\n",
        "from sklearn.metrics import accuracy_score, f1_score, roc_auc_score,cohen_kappa_score\n",
        "import os, gc"
      ],
      "execution_count": null,
      "outputs": []
    },
    {
      "cell_type": "code",
      "metadata": {
        "id": "3AjUm7YXCNcL"
      },
      "source": [
        "# Path to data\n",
        "path = \"/gdrive/MyDrive/Colab_data_files/autofeat/\""
      ],
      "execution_count": null,
      "outputs": []
    },
    {
      "cell_type": "code",
      "metadata": {
        "id": "bxkV0yaHEvsG",
        "colab": {
          "base_uri": "https://localhost:8080/",
          "height": 206
        },
        "outputId": "bbbf304e-f634-44bf-e9e2-ba1fe787aed6"
      },
      "source": [
        "# Read datafile\n",
        "data = pd.read_csv(path + \"Concrete_Data_Yeh.csv\")\n",
        "data.head()"
      ],
      "execution_count": null,
      "outputs": [
        {
          "output_type": "execute_result",
          "data": {
            "text/html": [
              "<div>\n",
              "<style scoped>\n",
              "    .dataframe tbody tr th:only-of-type {\n",
              "        vertical-align: middle;\n",
              "    }\n",
              "\n",
              "    .dataframe tbody tr th {\n",
              "        vertical-align: top;\n",
              "    }\n",
              "\n",
              "    .dataframe thead th {\n",
              "        text-align: right;\n",
              "    }\n",
              "</style>\n",
              "<table border=\"1\" class=\"dataframe\">\n",
              "  <thead>\n",
              "    <tr style=\"text-align: right;\">\n",
              "      <th></th>\n",
              "      <th>cement</th>\n",
              "      <th>slag</th>\n",
              "      <th>flyash</th>\n",
              "      <th>water</th>\n",
              "      <th>superplasticizer</th>\n",
              "      <th>coarseaggregate</th>\n",
              "      <th>fineaggregate</th>\n",
              "      <th>age</th>\n",
              "      <th>csMPa</th>\n",
              "    </tr>\n",
              "  </thead>\n",
              "  <tbody>\n",
              "    <tr>\n",
              "      <th>0</th>\n",
              "      <td>540.0</td>\n",
              "      <td>0.0</td>\n",
              "      <td>0.0</td>\n",
              "      <td>162.0</td>\n",
              "      <td>2.5</td>\n",
              "      <td>1040.0</td>\n",
              "      <td>676.0</td>\n",
              "      <td>28</td>\n",
              "      <td>79.99</td>\n",
              "    </tr>\n",
              "    <tr>\n",
              "      <th>1</th>\n",
              "      <td>540.0</td>\n",
              "      <td>0.0</td>\n",
              "      <td>0.0</td>\n",
              "      <td>162.0</td>\n",
              "      <td>2.5</td>\n",
              "      <td>1055.0</td>\n",
              "      <td>676.0</td>\n",
              "      <td>28</td>\n",
              "      <td>61.89</td>\n",
              "    </tr>\n",
              "    <tr>\n",
              "      <th>2</th>\n",
              "      <td>332.5</td>\n",
              "      <td>142.5</td>\n",
              "      <td>0.0</td>\n",
              "      <td>228.0</td>\n",
              "      <td>0.0</td>\n",
              "      <td>932.0</td>\n",
              "      <td>594.0</td>\n",
              "      <td>270</td>\n",
              "      <td>40.27</td>\n",
              "    </tr>\n",
              "    <tr>\n",
              "      <th>3</th>\n",
              "      <td>332.5</td>\n",
              "      <td>142.5</td>\n",
              "      <td>0.0</td>\n",
              "      <td>228.0</td>\n",
              "      <td>0.0</td>\n",
              "      <td>932.0</td>\n",
              "      <td>594.0</td>\n",
              "      <td>365</td>\n",
              "      <td>41.05</td>\n",
              "    </tr>\n",
              "    <tr>\n",
              "      <th>4</th>\n",
              "      <td>198.6</td>\n",
              "      <td>132.4</td>\n",
              "      <td>0.0</td>\n",
              "      <td>192.0</td>\n",
              "      <td>0.0</td>\n",
              "      <td>978.4</td>\n",
              "      <td>825.5</td>\n",
              "      <td>360</td>\n",
              "      <td>44.30</td>\n",
              "    </tr>\n",
              "  </tbody>\n",
              "</table>\n",
              "</div>"
            ],
            "text/plain": [
              "   cement   slag  flyash  water  ...  coarseaggregate  fineaggregate  age  csMPa\n",
              "0   540.0    0.0     0.0  162.0  ...           1040.0          676.0   28  79.99\n",
              "1   540.0    0.0     0.0  162.0  ...           1055.0          676.0   28  61.89\n",
              "2   332.5  142.5     0.0  228.0  ...            932.0          594.0  270  40.27\n",
              "3   332.5  142.5     0.0  228.0  ...            932.0          594.0  365  41.05\n",
              "4   198.6  132.4     0.0  192.0  ...            978.4          825.5  360  44.30\n",
              "\n",
              "[5 rows x 9 columns]"
            ]
          },
          "metadata": {},
          "execution_count": 9
        }
      ]
    },
    {
      "cell_type": "code",
      "metadata": {
        "colab": {
          "base_uri": "https://localhost:8080/"
        },
        "id": "yfhnB0ojE6Cz",
        "outputId": "31c2997a-a26f-45e7-bfd9-9d77198352ed"
      },
      "source": [
        "# Data should not have any nulls\n",
        "data.isnull().sum().sum()"
      ],
      "execution_count": null,
      "outputs": [
        {
          "output_type": "execute_result",
          "data": {
            "text/plain": [
              "0"
            ]
          },
          "metadata": {},
          "execution_count": 10
        }
      ]
    },
    {
      "cell_type": "code",
      "metadata": {
        "colab": {
          "base_uri": "https://localhost:8080/"
        },
        "id": "XQ6RlkVFFcgH",
        "outputId": "3b5942ea-7002-4bc6-b206-2326fc19f0f3"
      },
      "source": [
        "# Get predictors and target\n",
        "X = data.iloc[:,:-1]\n",
        "X.shape\n",
        "y = data.iloc[:,-1]\n",
        "y.shape"
      ],
      "execution_count": null,
      "outputs": [
        {
          "output_type": "execute_result",
          "data": {
            "text/plain": [
              "(1030, 8)"
            ]
          },
          "metadata": {},
          "execution_count": 11
        },
        {
          "output_type": "execute_result",
          "data": {
            "text/plain": [
              "(1030,)"
            ]
          },
          "metadata": {},
          "execution_count": 11
        }
      ]
    },
    {
      "cell_type": "code",
      "metadata": {
        "id": "ttB3j6xuFzCV"
      },
      "source": [
        "# split dataset\n",
        "X_train,X_test, y_train,y_test = train_test_split(X,y,\n",
        "                                                  test_size = 0.3\n",
        "                                                  )"
      ],
      "execution_count": null,
      "outputs": []
    },
    {
      "cell_type": "code",
      "metadata": {
        "id": "OzxkinJaS3rl"
      },
      "source": [
        "# Standardize\n",
        "ss = StandardScaler()\n",
        "X_train = ss.fit_transform(X_train)\n",
        "X_test = ss.transform(X_test)"
      ],
      "execution_count": null,
      "outputs": []
    },
    {
      "cell_type": "code",
      "metadata": {
        "colab": {
          "base_uri": "https://localhost:8080/",
          "height": 395
        },
        "id": "8OZCW4bbTBaa",
        "outputId": "6b68b83b-07d1-4848-be30-18dce220d778"
      },
      "source": [
        "X_train = pd.DataFrame(X_train, columns = data.columns[:-1])\n",
        "X_test = pd.DataFrame(X_test, columns = data.columns[:-1])\n",
        "X_train.head()\n",
        "X_test.head()"
      ],
      "execution_count": null,
      "outputs": [
        {
          "output_type": "execute_result",
          "data": {
            "text/html": [
              "<div>\n",
              "<style scoped>\n",
              "    .dataframe tbody tr th:only-of-type {\n",
              "        vertical-align: middle;\n",
              "    }\n",
              "\n",
              "    .dataframe tbody tr th {\n",
              "        vertical-align: top;\n",
              "    }\n",
              "\n",
              "    .dataframe thead th {\n",
              "        text-align: right;\n",
              "    }\n",
              "</style>\n",
              "<table border=\"1\" class=\"dataframe\">\n",
              "  <thead>\n",
              "    <tr style=\"text-align: right;\">\n",
              "      <th></th>\n",
              "      <th>cement</th>\n",
              "      <th>slag</th>\n",
              "      <th>flyash</th>\n",
              "      <th>water</th>\n",
              "      <th>superplasticizer</th>\n",
              "      <th>coarseaggregate</th>\n",
              "      <th>fineaggregate</th>\n",
              "      <th>age</th>\n",
              "    </tr>\n",
              "  </thead>\n",
              "  <tbody>\n",
              "    <tr>\n",
              "      <th>0</th>\n",
              "      <td>-0.022239</td>\n",
              "      <td>-0.864576</td>\n",
              "      <td>-0.865997</td>\n",
              "      <td>0.441054</td>\n",
              "      <td>-1.033417</td>\n",
              "      <td>-0.051765</td>\n",
              "      <td>1.021137</td>\n",
              "      <td>-0.509222</td>\n",
              "    </tr>\n",
              "    <tr>\n",
              "      <th>1</th>\n",
              "      <td>1.588466</td>\n",
              "      <td>-0.583054</td>\n",
              "      <td>0.367997</td>\n",
              "      <td>-0.890834</td>\n",
              "      <td>0.883435</td>\n",
              "      <td>-0.064725</td>\n",
              "      <td>-0.780808</td>\n",
              "      <td>0.163770</td>\n",
              "    </tr>\n",
              "    <tr>\n",
              "      <th>2</th>\n",
              "      <td>-1.493795</td>\n",
              "      <td>1.292588</td>\n",
              "      <td>-0.865997</td>\n",
              "      <td>1.015144</td>\n",
              "      <td>-1.033417</td>\n",
              "      <td>-0.178767</td>\n",
              "      <td>0.321632</td>\n",
              "      <td>0.708573</td>\n",
              "    </tr>\n",
              "    <tr>\n",
              "      <th>3</th>\n",
              "      <td>0.170283</td>\n",
              "      <td>-0.864576</td>\n",
              "      <td>0.969374</td>\n",
              "      <td>-0.302967</td>\n",
              "      <td>0.536419</td>\n",
              "      <td>0.658406</td>\n",
              "      <td>-0.261498</td>\n",
              "      <td>-0.509222</td>\n",
              "    </tr>\n",
              "    <tr>\n",
              "      <th>4</th>\n",
              "      <td>-0.398706</td>\n",
              "      <td>1.921320</td>\n",
              "      <td>-0.865997</td>\n",
              "      <td>2.140360</td>\n",
              "      <td>-1.033417</td>\n",
              "      <td>-0.518302</td>\n",
              "      <td>-2.257402</td>\n",
              "      <td>3.592823</td>\n",
              "    </tr>\n",
              "  </tbody>\n",
              "</table>\n",
              "</div>"
            ],
            "text/plain": [
              "     cement      slag    flyash  ...  coarseaggregate  fineaggregate       age\n",
              "0 -0.022239 -0.864576 -0.865997  ...        -0.051765       1.021137 -0.509222\n",
              "1  1.588466 -0.583054  0.367997  ...        -0.064725      -0.780808  0.163770\n",
              "2 -1.493795  1.292588 -0.865997  ...        -0.178767       0.321632  0.708573\n",
              "3  0.170283 -0.864576  0.969374  ...         0.658406      -0.261498 -0.509222\n",
              "4 -0.398706  1.921320 -0.865997  ...        -0.518302      -2.257402  3.592823\n",
              "\n",
              "[5 rows x 8 columns]"
            ]
          },
          "metadata": {},
          "execution_count": 14
        },
        {
          "output_type": "execute_result",
          "data": {
            "text/html": [
              "<div>\n",
              "<style scoped>\n",
              "    .dataframe tbody tr th:only-of-type {\n",
              "        vertical-align: middle;\n",
              "    }\n",
              "\n",
              "    .dataframe tbody tr th {\n",
              "        vertical-align: top;\n",
              "    }\n",
              "\n",
              "    .dataframe thead th {\n",
              "        text-align: right;\n",
              "    }\n",
              "</style>\n",
              "<table border=\"1\" class=\"dataframe\">\n",
              "  <thead>\n",
              "    <tr style=\"text-align: right;\">\n",
              "      <th></th>\n",
              "      <th>cement</th>\n",
              "      <th>slag</th>\n",
              "      <th>flyash</th>\n",
              "      <th>water</th>\n",
              "      <th>superplasticizer</th>\n",
              "      <th>coarseaggregate</th>\n",
              "      <th>fineaggregate</th>\n",
              "      <th>age</th>\n",
              "    </tr>\n",
              "  </thead>\n",
              "  <tbody>\n",
              "    <tr>\n",
              "      <th>0</th>\n",
              "      <td>1.588466</td>\n",
              "      <td>-0.583054</td>\n",
              "      <td>0.367997</td>\n",
              "      <td>-0.890834</td>\n",
              "      <td>0.883435</td>\n",
              "      <td>-0.064725</td>\n",
              "      <td>-0.780808</td>\n",
              "      <td>-0.621387</td>\n",
              "    </tr>\n",
              "    <tr>\n",
              "      <th>1</th>\n",
              "      <td>-0.933384</td>\n",
              "      <td>-0.864576</td>\n",
              "      <td>1.742573</td>\n",
              "      <td>-0.541788</td>\n",
              "      <td>0.222452</td>\n",
              "      <td>1.083473</td>\n",
              "      <td>0.042581</td>\n",
              "      <td>-0.284891</td>\n",
              "    </tr>\n",
              "    <tr>\n",
              "      <th>2</th>\n",
              "      <td>-0.756111</td>\n",
              "      <td>0.695526</td>\n",
              "      <td>-0.865997</td>\n",
              "      <td>0.486981</td>\n",
              "      <td>-1.033417</td>\n",
              "      <td>-0.085460</td>\n",
              "      <td>0.397964</td>\n",
              "      <td>-0.621387</td>\n",
              "    </tr>\n",
              "    <tr>\n",
              "      <th>3</th>\n",
              "      <td>-1.204058</td>\n",
              "      <td>0.331893</td>\n",
              "      <td>-0.865997</td>\n",
              "      <td>0.486981</td>\n",
              "      <td>-1.033417</td>\n",
              "      <td>-1.088513</td>\n",
              "      <td>2.111064</td>\n",
              "      <td>-0.284891</td>\n",
              "    </tr>\n",
              "    <tr>\n",
              "      <th>4</th>\n",
              "      <td>0.177907</td>\n",
              "      <td>0.742446</td>\n",
              "      <td>0.805362</td>\n",
              "      <td>0.900326</td>\n",
              "      <td>-0.041942</td>\n",
              "      <td>-1.218106</td>\n",
              "      <td>-1.494078</td>\n",
              "      <td>-0.284891</td>\n",
              "    </tr>\n",
              "  </tbody>\n",
              "</table>\n",
              "</div>"
            ],
            "text/plain": [
              "     cement      slag    flyash  ...  coarseaggregate  fineaggregate       age\n",
              "0  1.588466 -0.583054  0.367997  ...        -0.064725      -0.780808 -0.621387\n",
              "1 -0.933384 -0.864576  1.742573  ...         1.083473       0.042581 -0.284891\n",
              "2 -0.756111  0.695526 -0.865997  ...        -0.085460       0.397964 -0.621387\n",
              "3 -1.204058  0.331893 -0.865997  ...        -1.088513       2.111064 -0.284891\n",
              "4  0.177907  0.742446  0.805362  ...        -1.218106      -1.494078 -0.284891\n",
              "\n",
              "[5 rows x 8 columns]"
            ]
          },
          "metadata": {},
          "execution_count": 14
        }
      ]
    },
    {
      "cell_type": "code",
      "metadata": {
        "colab": {
          "base_uri": "https://localhost:8080/"
        },
        "id": "vUte6uQhEfJM",
        "outputId": "68681f56-615a-42a7-8512-91aed7355e60"
      },
      "source": [
        "help(AutoFeatRegressor)"
      ],
      "execution_count": null,
      "outputs": [
        {
          "output_type": "stream",
          "name": "stdout",
          "text": [
            "Help on class AutoFeatRegressor in module autofeat.autofeat:\n",
            "\n",
            "class AutoFeatRegressor(AutoFeatModel, sklearn.base.BaseEstimator, sklearn.base.RegressorMixin)\n",
            " |  AutoFeatRegressor(categorical_cols=None, feateng_cols=None, units=None, feateng_steps=2, featsel_runs=5, max_gb=None, transformations=('1/', 'exp', 'log', 'abs', 'sqrt', '^2', '^3'), apply_pi_theorem=True, always_return_numpy=False, n_jobs=1, verbose=0)\n",
            " |  \n",
            " |  Short-cut initialization for AutoFeatModel with problem_type: regression\n",
            " |  \n",
            " |  Method resolution order:\n",
            " |      AutoFeatRegressor\n",
            " |      AutoFeatModel\n",
            " |      sklearn.base.BaseEstimator\n",
            " |      sklearn.base.RegressorMixin\n",
            " |      builtins.object\n",
            " |  \n",
            " |  Methods defined here:\n",
            " |  \n",
            " |  __init__(self, categorical_cols=None, feateng_cols=None, units=None, feateng_steps=2, featsel_runs=5, max_gb=None, transformations=('1/', 'exp', 'log', 'abs', 'sqrt', '^2', '^3'), apply_pi_theorem=True, always_return_numpy=False, n_jobs=1, verbose=0)\n",
            " |      multi-step feature engineering and cross-validated feature selection to generate promising additional\n",
            " |      features for your dataset and train a linear prediction model with them.\n",
            " |      \n",
            " |      Inputs:\n",
            " |          - problem_type: str, either \"regression\" or \"classification\" (default: \"regression\")\n",
            " |          - categorical_cols: list of column names of categorical features; these will be transformed into\n",
            " |                              0/1 encoding (default: None)\n",
            " |          - feateng_cols: list of column names that should be used for the feature engineering part\n",
            " |                          (default None --> all, with categorical_cols in 0/1 encoding)\n",
            " |          - units: dictionary with {col_name: unit} where unit is a string that can be converted into a pint unit.\n",
            " |                   all columns without units are dimensionless and can be combined with any other column.\n",
            " |                   Note: it is assumed that all features are of comparable magnitude, i.e., not one variable is in\n",
            " |                         m and another in mm. If this needs to be accounted for, please scale your variables before\n",
            " |                         passing them to autofeat!\n",
            " |                   (default: None --> all columns are dimensionless).\n",
            " |          - feateng_steps: number of steps to perform in the feature engineering part (int; default: 2)\n",
            " |          - featsel_runs: number of times to perform in the feature selection part with a random fraction of data points (int; default: 5)\n",
            " |          - max_gb: if an int is given: maximum number of gigabytes to use in the process (i.e. mostly the\n",
            " |                    feature engineering part). this is no guarantee! it will lead to subsampling of the\n",
            " |                    data points if the new dataframe generated is n_rows * n_cols * 32bit > max_gb\n",
            " |                    Note: this is only an approximate estimate of the final matrix; intermediate representations could easily\n",
            " |                          take up at least 2 or 3 times that much space...If you can, subsample before, you know your data best.\n",
            " |          - transformations: list of transformations that should be applied; possible elements:\n",
            " |                             \"1/\", \"exp\", \"log\", \"abs\", \"sqrt\", \"^2\", \"^3\", \"1+\", \"1-\", \"sin\", \"cos\", \"exp-\", \"2^\"\n",
            " |                             (first 7, i.e., up to ^3, are applied by default)\n",
            " |          - apply_pi_theorem: whether or not to apply the pi theorem (if units are given; bool; default: True)\n",
            " |          - always_return_numpy: whether to always return a numpy array instead of a pd dataframe when calling (fit_)transform\n",
            " |                                 (default: False; mainly used for sklearn estimator checks)\n",
            " |          - n_jobs: how many jobs to run when selecting the features in parallel (int; default: 1)\n",
            " |          - verbose: verbosity level (int; default: 0)\n",
            " |      \n",
            " |      Attributes:\n",
            " |          - original_columns_: original columns of X when calling fit\n",
            " |          - all_columns_: columns of X after calling fit\n",
            " |          - categorical_cols_map_: dict mapping from the original categorical columns to a list with new column names\n",
            " |          - feateng_cols_: actual columns used for the feature engineering\n",
            " |          - feature_formulas_: sympy formulas to generate new features\n",
            " |          - feature_functions_: compiled feature functions with columns\n",
            " |          - new_feat_cols_: list of good new features that should be generated when calling transform()\n",
            " |          - good_cols_: columns selected in the feature selection process, used with the final prediction model\n",
            " |          - prediction_model_: sklearn model instance used for the predictions\n",
            " |      \n",
            " |      Note: when giving categorical_cols or feateng_cols, X later (i.e. when calling fit/fit_transform) has to be a DataFrame\n",
            " |  \n",
            " |  ----------------------------------------------------------------------\n",
            " |  Methods inherited from AutoFeatModel:\n",
            " |  \n",
            " |  __getstate__(self)\n",
            " |      get dict for pickling without feature_functions as they are not pickleable\n",
            " |  \n",
            " |  fit(self, X, y)\n",
            " |  \n",
            " |  fit_transform(self, X, y)\n",
            " |      Fits the regression model and returns a new dataframe with the additional features.\n",
            " |      \n",
            " |      Inputs:\n",
            " |          - X: pandas dataframe or numpy array with original features (n_datapoints x n_features)\n",
            " |          - y: pandas dataframe or numpy array with targets for all n_datapoints\n",
            " |      Returns:\n",
            " |          - new_df: new pandas dataframe with all the original features (except categorical features transformed\n",
            " |                    into multiple 0/1 columns) and the most promising engineered features. This df can then be\n",
            " |                    used to train your final model.\n",
            " |      \n",
            " |      Please ensure that X only contains valid feature columns (including possible categorical variables).\n",
            " |      \n",
            " |      Note: we strongly encourage you to name your features X1 ...  Xn or something simple like this before passing\n",
            " |            a DataFrame to this model. This can help avoid potential problems with sympy later on.\n",
            " |            The data should only contain finite values (no NaNs etc.)\n",
            " |  \n",
            " |  predict(self, X)\n",
            " |      Inputs:\n",
            " |          - X: pandas dataframe or numpy array with original features (n_datapoints x n_features)\n",
            " |      Returns:\n",
            " |          - y_pred: predicted targets return by prediction_model.predict()\n",
            " |  \n",
            " |  score(self, X, y)\n",
            " |      Inputs:\n",
            " |          - X: pandas dataframe or numpy array with original features (n_datapoints x n_features)\n",
            " |          - y: pandas dataframe or numpy array with the targets for all n_datapoints\n",
            " |      Returns:\n",
            " |          - R^2/Accuracy returned by prediction_model.score()\n",
            " |  \n",
            " |  transform(self, X)\n",
            " |      Inputs:\n",
            " |          - X: pandas dataframe or numpy array with original features (n_datapoints x n_features)\n",
            " |      Returns:\n",
            " |          - new_df: new pandas dataframe with all the original features (except categorical features transformed\n",
            " |                    into multiple 0/1 columns) and the most promising engineered features. This df can then be\n",
            " |                    used to train your final model.\n",
            " |  \n",
            " |  ----------------------------------------------------------------------\n",
            " |  Data descriptors inherited from AutoFeatModel:\n",
            " |  \n",
            " |  n_features_in_\n",
            " |  \n",
            " |  ----------------------------------------------------------------------\n",
            " |  Methods inherited from sklearn.base.BaseEstimator:\n",
            " |  \n",
            " |  __repr__(self, N_CHAR_MAX=700)\n",
            " |      Return repr(self).\n",
            " |  \n",
            " |  __setstate__(self, state)\n",
            " |  \n",
            " |  get_params(self, deep=True)\n",
            " |      Get parameters for this estimator.\n",
            " |      \n",
            " |      Parameters\n",
            " |      ----------\n",
            " |      deep : bool, default=True\n",
            " |          If True, will return the parameters for this estimator and\n",
            " |          contained subobjects that are estimators.\n",
            " |      \n",
            " |      Returns\n",
            " |      -------\n",
            " |      params : mapping of string to any\n",
            " |          Parameter names mapped to their values.\n",
            " |  \n",
            " |  set_params(self, **params)\n",
            " |      Set the parameters of this estimator.\n",
            " |      \n",
            " |      The method works on simple estimators as well as on nested objects\n",
            " |      (such as pipelines). The latter have parameters of the form\n",
            " |      ``<component>__<parameter>`` so that it's possible to update each\n",
            " |      component of a nested object.\n",
            " |      \n",
            " |      Parameters\n",
            " |      ----------\n",
            " |      **params : dict\n",
            " |          Estimator parameters.\n",
            " |      \n",
            " |      Returns\n",
            " |      -------\n",
            " |      self : object\n",
            " |          Estimator instance.\n",
            " |  \n",
            " |  ----------------------------------------------------------------------\n",
            " |  Data descriptors inherited from sklearn.base.BaseEstimator:\n",
            " |  \n",
            " |  __dict__\n",
            " |      dictionary for instance variables (if defined)\n",
            " |  \n",
            " |  __weakref__\n",
            " |      list of weak references to the object (if defined)\n",
            "\n"
          ]
        }
      ]
    },
    {
      "cell_type": "code",
      "metadata": {
        "colab": {
          "base_uri": "https://localhost:8080/"
        },
        "id": "yusoyBYvrAcB",
        "outputId": "61ccfce2-9da0-4a18-dd6e-667dc2a923a6"
      },
      "source": [
        "X.columns"
      ],
      "execution_count": null,
      "outputs": [
        {
          "output_type": "execute_result",
          "data": {
            "text/plain": [
              "Index(['cement', 'slag', 'flyash', 'water', 'superplasticizer',\n",
              "       'coarseaggregate', 'fineaggregate', 'age'],\n",
              "      dtype='object')"
            ]
          },
          "metadata": {},
          "execution_count": 15
        }
      ]
    },
    {
      "cell_type": "code",
      "metadata": {
        "colab": {
          "base_uri": "https://localhost:8080/"
        },
        "id": "1WG04Tx-GQZu",
        "outputId": "ae0997c5-c18d-4b53-eb00-e1274159ea30"
      },
      "source": [
        "%%time\n",
        "cols_fe = ['slag']\n",
        "afreg = AutoFeatRegressor(verbose=1, feateng_steps=3, feateng_cols = cols_fe)\n",
        "df = afreg.fit_transform(X_train, y_train)"
      ],
      "execution_count": null,
      "outputs": [
        {
          "output_type": "stream",
          "name": "stdout",
          "text": [
            "[AutoFeat] The 3 step feature engineering process could generate up to 532 features.\n",
            "[AutoFeat] With 721 data points this new feature matrix would use about 0.00 gb of space.\n",
            "[feateng] Step 1: transformation of original features\n",
            "[feateng]               0/              1 features transformed\r[feateng] Generated 5 transformed features from 1 original features - done.\n",
            "[feateng] Step 2: first combination of features\n",
            "[feateng] Generated 56 feature combinations from 15 original feature tuples - done.\n",
            "[feateng] Step 3: transformation of new features\n",
            "[feateng] Generated 226 transformed features from 56 original features - done.\n",
            "[feateng] Generated altogether 293 new features in 3 steps\n",
            "[feateng] Removing correlated features, as well as additions at the highest level\n",
            "[feateng] Generated a total of 207 additional features\n",
            "[featsel] Scaling data...done.\n",
            "[featsel] Feature selection run 1/5\n",
            "[featsel] Feature selection run 2/5\n",
            "[featsel] Feature selection run 3/5\n",
            "[featsel] Feature selection run 4/5\n",
            "[featsel] Feature selection run 5/5\n",
            "[featsel] 15 features after 5 feature selection runs\n",
            "[featsel] 13 features after correlation filtering\n",
            "[featsel] 8 features after noise filtering\n",
            "[AutoFeat] Computing 3 new features.\n",
            "[AutoFeat]     3/    3 new features ...done.\n",
            "[AutoFeat] Final dataframe with 11 feature columns (3 new).\n",
            "[AutoFeat] Training final regression model.\n",
            "[AutoFeat] Trained model: largest coefficients:\n",
            "41.19155304505693\n",
            "-20.955573 * exp(slag - exp(slag))\n",
            "11.602106 * cement\n",
            "7.015662 * age\n",
            "6.839577 * Abs(slag)/slag\n",
            "-4.857598 * water\n",
            "4.798616 * flyash\n",
            "0.566009 * superplasticizer\n",
            "0.262678 * exp(slag - 1/slag)\n",
            "[AutoFeat] Final score: 0.6228\n",
            "CPU times: user 13 s, sys: 2.51 s, total: 15.5 s\n",
            "Wall time: 13 s\n"
          ]
        }
      ]
    },
    {
      "cell_type": "code",
      "metadata": {
        "colab": {
          "base_uri": "https://localhost:8080/",
          "height": 261
        },
        "id": "hWG72lV2SLu-",
        "outputId": "6dd1ef5a-4fa7-4f97-87e7-6ff01988ba41"
      },
      "source": [
        "df.head()"
      ],
      "execution_count": null,
      "outputs": [
        {
          "output_type": "execute_result",
          "data": {
            "text/html": [
              "<div>\n",
              "<style scoped>\n",
              "    .dataframe tbody tr th:only-of-type {\n",
              "        vertical-align: middle;\n",
              "    }\n",
              "\n",
              "    .dataframe tbody tr th {\n",
              "        vertical-align: top;\n",
              "    }\n",
              "\n",
              "    .dataframe thead th {\n",
              "        text-align: right;\n",
              "    }\n",
              "</style>\n",
              "<table border=\"1\" class=\"dataframe\">\n",
              "  <thead>\n",
              "    <tr style=\"text-align: right;\">\n",
              "      <th></th>\n",
              "      <th>cement</th>\n",
              "      <th>slag</th>\n",
              "      <th>flyash</th>\n",
              "      <th>water</th>\n",
              "      <th>superplasticizer</th>\n",
              "      <th>coarseaggregate</th>\n",
              "      <th>fineaggregate</th>\n",
              "      <th>age</th>\n",
              "      <th>Abs(slag)/slag</th>\n",
              "      <th>exp(slag - 1/slag)</th>\n",
              "      <th>exp(slag - exp(slag))</th>\n",
              "    </tr>\n",
              "  </thead>\n",
              "  <tbody>\n",
              "    <tr>\n",
              "      <th>0</th>\n",
              "      <td>-0.022239</td>\n",
              "      <td>-0.864576</td>\n",
              "      <td>-0.865997</td>\n",
              "      <td>0.441054</td>\n",
              "      <td>-1.033417</td>\n",
              "      <td>-0.051765</td>\n",
              "      <td>1.021137</td>\n",
              "      <td>-0.509222</td>\n",
              "      <td>-1.0</td>\n",
              "      <td>1.339184</td>\n",
              "      <td>0.276428</td>\n",
              "    </tr>\n",
              "    <tr>\n",
              "      <th>1</th>\n",
              "      <td>1.588466</td>\n",
              "      <td>-0.583054</td>\n",
              "      <td>0.367997</td>\n",
              "      <td>-0.890834</td>\n",
              "      <td>0.883435</td>\n",
              "      <td>-0.064725</td>\n",
              "      <td>-0.780808</td>\n",
              "      <td>0.163770</td>\n",
              "      <td>-1.0</td>\n",
              "      <td>3.102021</td>\n",
              "      <td>0.319421</td>\n",
              "    </tr>\n",
              "    <tr>\n",
              "      <th>2</th>\n",
              "      <td>-1.493795</td>\n",
              "      <td>1.292588</td>\n",
              "      <td>-0.865997</td>\n",
              "      <td>1.015144</td>\n",
              "      <td>-1.033417</td>\n",
              "      <td>-0.178767</td>\n",
              "      <td>0.321632</td>\n",
              "      <td>0.708573</td>\n",
              "      <td>1.0</td>\n",
              "      <td>1.680255</td>\n",
              "      <td>0.095406</td>\n",
              "    </tr>\n",
              "    <tr>\n",
              "      <th>3</th>\n",
              "      <td>0.170283</td>\n",
              "      <td>-0.864576</td>\n",
              "      <td>0.969374</td>\n",
              "      <td>-0.302967</td>\n",
              "      <td>0.536419</td>\n",
              "      <td>0.658406</td>\n",
              "      <td>-0.261498</td>\n",
              "      <td>-0.509222</td>\n",
              "      <td>-1.0</td>\n",
              "      <td>1.339184</td>\n",
              "      <td>0.276428</td>\n",
              "    </tr>\n",
              "    <tr>\n",
              "      <th>4</th>\n",
              "      <td>-0.398706</td>\n",
              "      <td>1.921320</td>\n",
              "      <td>-0.865997</td>\n",
              "      <td>2.140360</td>\n",
              "      <td>-1.033417</td>\n",
              "      <td>-0.518302</td>\n",
              "      <td>-2.257402</td>\n",
              "      <td>3.592823</td>\n",
              "      <td>1.0</td>\n",
              "      <td>4.058628</td>\n",
              "      <td>0.007382</td>\n",
              "    </tr>\n",
              "  </tbody>\n",
              "</table>\n",
              "</div>"
            ],
            "text/plain": [
              "     cement      slag  ...  exp(slag - 1/slag)  exp(slag - exp(slag))\n",
              "0 -0.022239 -0.864576  ...            1.339184               0.276428\n",
              "1  1.588466 -0.583054  ...            3.102021               0.319421\n",
              "2 -1.493795  1.292588  ...            1.680255               0.095406\n",
              "3  0.170283 -0.864576  ...            1.339184               0.276428\n",
              "4 -0.398706  1.921320  ...            4.058628               0.007382\n",
              "\n",
              "[5 rows x 11 columns]"
            ]
          },
          "metadata": {},
          "execution_count": 17
        }
      ]
    },
    {
      "cell_type": "code",
      "metadata": {
        "id": "P7jwIklPWLJ1",
        "colab": {
          "base_uri": "https://localhost:8080/"
        },
        "outputId": "bce981d4-5c9b-487e-fad6-4f7596a38496"
      },
      "source": [
        "df_test =  afreg.transform(X_test)"
      ],
      "execution_count": null,
      "outputs": [
        {
          "output_type": "stream",
          "name": "stdout",
          "text": [
            "[AutoFeat] Computing 31 new features.\n",
            "[AutoFeat]     0/   31 new features\r[AutoFeat]     1/   31 new features\r[AutoFeat]     2/   31 new features\r[AutoFeat]     3/   31 new features\r[AutoFeat]     4/   31 new features\r[AutoFeat]     5/   31 new features\r[AutoFeat]     6/   31 new features\r[AutoFeat]     7/   31 new features\r[AutoFeat]     8/   31 new features\r[AutoFeat]     9/   31 new features\r[AutoFeat]    10/   31 new features\r[AutoFeat]    11/   31 new features\r[AutoFeat]    12/   31 new features\r[AutoFeat]    13/   31 new features\r[AutoFeat]    14/   31 new features\r[AutoFeat]    15/   31 new features\r[AutoFeat]    16/   31 new features\r[AutoFeat]    17/   31 new features\r[AutoFeat]    18/   31 new features\r[AutoFeat]    19/   31 new features\r[AutoFeat]    20/   31 new features\r[AutoFeat]    21/   31 new features\r[AutoFeat]    22/   31 new features\r[AutoFeat]    23/   31 new features\r[AutoFeat]    24/   31 new features\r[AutoFeat]    25/   31 new features\r[AutoFeat]    26/   31 new features\r[AutoFeat]    27/   31 new features\r[AutoFeat]    28/   31 new features\r[AutoFeat]    29/   31 new features\r[AutoFeat]    30/   31 new features\r[AutoFeat]    31/   31 new features ...done.\n"
          ]
        }
      ]
    },
    {
      "cell_type": "code",
      "metadata": {
        "id": "A_Os8F8dBrIu"
      },
      "source": [
        "df_test.head()"
      ],
      "execution_count": null,
      "outputs": []
    },
    {
      "cell_type": "code",
      "metadata": {
        "id": "mTzzfEkUSUyU"
      },
      "source": [
        "df.to_csv(path + \"concrete_train.csv\", index = False)\n",
        "df_test.to_csv(path+\"concrete_test.csv\", index = False)"
      ],
      "execution_count": null,
      "outputs": []
    },
    {
      "cell_type": "code",
      "metadata": {
        "id": "d7ShGL9xJGWG"
      },
      "source": [
        "clf_autofeat = RandomForestRegressor()\n",
        "clf_autofeat.fit(df, y_train)\n",
        "pred_autofeat = clf_autofeat.predict(df_test)"
      ],
      "execution_count": null,
      "outputs": []
    },
    {
      "cell_type": "code",
      "metadata": {
        "id": "3Iv-cGL6DaM7"
      },
      "source": [
        "clf = RandomForestRegressor()\n",
        "clf.fit(X_train, y_train)\n",
        "pred = clf.predict(X_test)"
      ],
      "execution_count": null,
      "outputs": []
    },
    {
      "cell_type": "code",
      "metadata": {
        "colab": {
          "base_uri": "https://localhost:8080/"
        },
        "id": "MPEpWzBoEU8e",
        "outputId": "195f8372-eaa0-4a75-8cd9-88d225ea5742"
      },
      "source": [
        "y_test.shape\n",
        "X_test.shape\n",
        "pred.shape"
      ],
      "execution_count": null,
      "outputs": [
        {
          "output_type": "execute_result",
          "data": {
            "text/plain": [
              "(309,)"
            ]
          },
          "metadata": {},
          "execution_count": 145
        },
        {
          "output_type": "execute_result",
          "data": {
            "text/plain": [
              "(309, 8)"
            ]
          },
          "metadata": {},
          "execution_count": 145
        },
        {
          "output_type": "execute_result",
          "data": {
            "text/plain": [
              "(309,)"
            ]
          },
          "metadata": {},
          "execution_count": 145
        }
      ]
    },
    {
      "cell_type": "code",
      "metadata": {
        "id": "XCBUH8IdWYp7",
        "colab": {
          "base_uri": "https://localhost:8080/"
        },
        "outputId": "6055750a-029b-4f45-e7bb-9a69d83ebdc5"
      },
      "source": [
        "from sklearn.metrics import explained_variance_score, mean_squared_error\n",
        "explained_variance_score(y_test, pred), explained_variance_score(y_test, pred_autofeat)\n",
        "mean_squared_error(y_test, pred),mean_squared_error(y_test, pred_autofeat)"
      ],
      "execution_count": null,
      "outputs": [
        {
          "output_type": "execute_result",
          "data": {
            "text/plain": [
              "(0.9077746541204639, 0.8894223984074386)"
            ]
          },
          "metadata": {},
          "execution_count": 146
        },
        {
          "output_type": "execute_result",
          "data": {
            "text/plain": [
              "(27.262571583041655, 32.60140986914953)"
            ]
          },
          "metadata": {},
          "execution_count": 146
        }
      ]
    },
    {
      "cell_type": "code",
      "metadata": {
        "id": "4knLJuOWMfY5"
      },
      "source": [
        "# Path to data\n",
        "path = \"/gdrive/MyDrive/Colab_data_files/autofeat/\"\n",
        "\n",
        "# Read datafile\n",
        "data = pd.read_csv(path + \"heart.csv\")\n",
        "data.head()\n",
        "\n",
        "# Get predictors and target\n",
        "X = data.iloc[:,:-1]\n",
        "X.shape\n",
        "y = data.iloc[:,-1]\n",
        "y.shape\n",
        "\n",
        "# split dataset\n",
        "X_train,X_test, y_train,y_test = train_test_split(X,y,\n",
        "                                                  test_size = 0.3\n",
        "                                                  )\n",
        "\n",
        "# Standardize\n",
        "ss = StandardScaler()\n",
        "X_train = ss.fit_transform(X_train)\n",
        "X_test = ss.transform(X_test)\n",
        "\n",
        "X_train = pd.DataFrame(X_train, columns = data.columns[:-1])\n",
        "X_test = pd.DataFrame(X_test, columns = data.columns[:-1])\n",
        "X_train.head()\n",
        "X_test.head()"
      ],
      "execution_count": null,
      "outputs": []
    },
    {
      "cell_type": "code",
      "metadata": {
        "colab": {
          "base_uri": "https://localhost:8080/"
        },
        "id": "6I6j9sOpNHEW",
        "outputId": "6f7396d2-fd1f-4022-c8e3-26b577458fe4"
      },
      "source": [
        "%%time\n",
        "afreg = AutoFeatRegressor(verbose=1, feateng_steps=3)\n",
        "df = afreg.fit_transform(X_train, y_train)"
      ],
      "execution_count": null,
      "outputs": [
        {
          "output_type": "stream",
          "name": "stdout",
          "text": [
            "[AutoFeat] The 3 step feature engineering process could generate up to 102466 features.\n",
            "[AutoFeat] With 212 data points this new feature matrix would use about 0.09 gb of space.\n",
            "[feateng] Step 1: transformation of original features\n",
            "[feateng]               0/             13 features transformed\r[feateng] Generated 50 transformed features from 13 original features - done.\n",
            "[feateng] Step 2: first combination of features\n",
            "[feateng] Generated 7772 feature combinations from 1953 original feature tuples - done.\n",
            "[feateng] Step 3: transformation of new features\n",
            "[feateng] Generated 32061 transformed features from 7772 original features - done.\n",
            "[feateng] Generated altogether 39936 new features in 3 steps\n",
            "[feateng] Removing correlated features, as well as additions at the highest level\n",
            "[feateng] Generated a total of 31358 additional features\n",
            "[featsel] Scaling data...done.\n",
            "[featsel] Feature selection run 1/5\n",
            "[featsel] Feature selection run 2/5\n",
            "[featsel] Feature selection run 3/5\n",
            "[featsel] Feature selection run 4/5\n",
            "[featsel] Feature selection run 5/5\n",
            "[featsel] 75 features after 5 feature selection runs\n",
            "[featsel] 67 features after correlation filtering\n",
            "[featsel] 24 features after noise filtering\n",
            "[AutoFeat] Computing 24 new features.\n",
            "[AutoFeat]    24/   24 new features ...done.\n",
            "[AutoFeat] Final dataframe with 37 feature columns (24 new).\n",
            "[AutoFeat] Training final regression model.\n",
            "[AutoFeat] Trained model: largest coefficients:\n",
            "0.6989301087560164\n",
            "0.133336 * 1/(exp(oldpeak) + exp(serum_cholestrol))\n",
            "0.095188 * chest_painType*Abs(slope)\n",
            "-0.059953 * log(oldpeak**2 + thal**2)\n",
            "-0.053840 * exp(exang - exp(slope))\n",
            "-0.044278 * Abs(exp(thal) - Abs(oldpeak))\n",
            "-0.037656 * Abs(resting_blood_pressure**2 - exp(thal))\n",
            "-0.032874 * ca*exp(-restecg)\n",
            "0.032514 * 1/(thalach**3 - 1/oldpeak)\n",
            "-0.028151 * exp(sex - exp(thalach))\n",
            "-0.023340 * exp(-chest_painType)/ca\n",
            "-0.021413 * log(exp(oldpeak) + exp(resting_blood_pressure))\n",
            "-0.015946 * 1/(-resting_blood_pressure**2 + thal**3)\n",
            "0.009127 * log(exp(chest_painType)*exp(slope))\n",
            "0.008640 * Abs(sex/thal)\n",
            "-0.006761 * 1/(ca**2 - thalach)\n",
            "-0.006711 * Abs(serum_cholestrol + exp(thal))\n",
            "-0.003887 * exp(1/thal - 1/slope)\n",
            "-0.003627 * Abs(restecg - exp(thal))\n",
            "-0.001887 * exp(exang - 1/chest_painType)\n",
            "[AutoFeat] Final score: 0.6989\n",
            "CPU times: user 21min 1s, sys: 15min 24s, total: 36min 26s\n",
            "Wall time: 19min 7s\n"
          ]
        }
      ]
    },
    {
      "cell_type": "code",
      "metadata": {
        "id": "MhoNIQtFV1G9",
        "colab": {
          "base_uri": "https://localhost:8080/"
        },
        "outputId": "7c0ad7ad-2b22-4136-aee2-56385f89a8f0"
      },
      "source": [
        "df_test =  afreg.transform(X_test)"
      ],
      "execution_count": null,
      "outputs": [
        {
          "output_type": "stream",
          "name": "stdout",
          "text": [
            "[AutoFeat] Computing 24 new features.\n",
            "[AutoFeat]     0/   24 new features\r[AutoFeat]     1/   24 new features\r[AutoFeat]     2/   24 new features\r[AutoFeat]     3/   24 new features\r[AutoFeat]     4/   24 new features\r[AutoFeat]     5/   24 new features\r[AutoFeat]     6/   24 new features\r[AutoFeat]     7/   24 new features\r[AutoFeat]     8/   24 new features\r[AutoFeat]     9/   24 new features\r[AutoFeat]    10/   24 new features\r[AutoFeat]    11/   24 new features\r[AutoFeat]    12/   24 new features\r[AutoFeat]    13/   24 new features\r[AutoFeat]    14/   24 new features\r[AutoFeat]    15/   24 new features\r[AutoFeat]    16/   24 new features\r[AutoFeat]    17/   24 new features\r[AutoFeat]    18/   24 new features\r[AutoFeat]    19/   24 new features\r[AutoFeat]    20/   24 new features\r[AutoFeat]    21/   24 new features\r[AutoFeat]    22/   24 new features\r[AutoFeat]    23/   24 new features\r[AutoFeat]    24/   24 new features ...done.\n"
          ]
        }
      ]
    },
    {
      "cell_type": "code",
      "metadata": {
        "colab": {
          "base_uri": "https://localhost:8080/"
        },
        "id": "v0e5mtzJNXbi",
        "outputId": "84a4460e-d148-4788-92b2-b1e58ec5edc0"
      },
      "source": [
        "clf_autofeat = RandomForestClassifier(n_estimators=500)\n",
        "clf_autofeat.fit(df, y_train)\n",
        "pred_autofeat = clf_autofeat.predict_proba(df_test)"
      ],
      "execution_count": null,
      "outputs": [
        {
          "output_type": "execute_result",
          "data": {
            "text/plain": [
              "RandomForestClassifier(bootstrap=True, ccp_alpha=0.0, class_weight=None,\n",
              "                       criterion='gini', max_depth=None, max_features='auto',\n",
              "                       max_leaf_nodes=None, max_samples=None,\n",
              "                       min_impurity_decrease=0.0, min_impurity_split=None,\n",
              "                       min_samples_leaf=1, min_samples_split=2,\n",
              "                       min_weight_fraction_leaf=0.0, n_estimators=500,\n",
              "                       n_jobs=None, oob_score=False, random_state=None,\n",
              "                       verbose=0, warm_start=False)"
            ]
          },
          "metadata": {},
          "execution_count": 175
        }
      ]
    },
    {
      "cell_type": "code",
      "metadata": {
        "colab": {
          "base_uri": "https://localhost:8080/"
        },
        "id": "N2H-HBY9NXbk",
        "outputId": "ab65a84f-7d99-44cc-bd31-0dd756daaed2"
      },
      "source": [
        "clf = RandomForestClassifier(n_estimators=500)\n",
        "clf.fit(X_train, y_train)\n",
        "pred = clf.predict_proba(X_test)"
      ],
      "execution_count": null,
      "outputs": [
        {
          "output_type": "execute_result",
          "data": {
            "text/plain": [
              "RandomForestClassifier(bootstrap=True, ccp_alpha=0.0, class_weight=None,\n",
              "                       criterion='gini', max_depth=None, max_features='auto',\n",
              "                       max_leaf_nodes=None, max_samples=None,\n",
              "                       min_impurity_decrease=0.0, min_impurity_split=None,\n",
              "                       min_samples_leaf=1, min_samples_split=2,\n",
              "                       min_weight_fraction_leaf=0.0, n_estimators=500,\n",
              "                       n_jobs=None, oob_score=False, random_state=None,\n",
              "                       verbose=0, warm_start=False)"
            ]
          },
          "metadata": {},
          "execution_count": 174
        }
      ]
    },
    {
      "cell_type": "code",
      "metadata": {
        "colab": {
          "base_uri": "https://localhost:8080/"
        },
        "id": "o5GYl9_IlTJ4",
        "outputId": "7ce55827-6fe7-49f2-8f94-d2a5218a0a57"
      },
      "source": [
        "pred[:5]"
      ],
      "execution_count": null,
      "outputs": [
        {
          "output_type": "execute_result",
          "data": {
            "text/plain": [
              "array([[0.14 , 0.86 ],\n",
              "       [0.298, 0.702],\n",
              "       [0.058, 0.942],\n",
              "       [0.102, 0.898],\n",
              "       [0.204, 0.796]])"
            ]
          },
          "metadata": {},
          "execution_count": 181
        }
      ]
    },
    {
      "cell_type": "code",
      "metadata": {
        "colab": {
          "base_uri": "https://localhost:8080/"
        },
        "id": "xR_O5W-ZlXvB",
        "outputId": "aee4525d-57d1-4823-e8f4-f5e0610aeac6"
      },
      "source": [
        "pred_autofeat[:5]"
      ],
      "execution_count": null,
      "outputs": [
        {
          "output_type": "execute_result",
          "data": {
            "text/plain": [
              "array([[0.198, 0.802],\n",
              "       [0.456, 0.544],\n",
              "       [0.07 , 0.93 ],\n",
              "       [0.036, 0.964],\n",
              "       [0.092, 0.908]])"
            ]
          },
          "metadata": {},
          "execution_count": 182
        }
      ]
    },
    {
      "cell_type": "code",
      "metadata": {
        "colab": {
          "base_uri": "https://localhost:8080/"
        },
        "id": "Dm3lRwpvoONm",
        "outputId": "79379bf5-03ad-4458-b867-8c70cd9ba7d7"
      },
      "source": [
        "roc_auc_score(y_test, pred[:,1])"
      ],
      "execution_count": null,
      "outputs": [
        {
          "output_type": "execute_result",
          "data": {
            "text/plain": [
              "0.8844476744186047"
            ]
          },
          "metadata": {},
          "execution_count": 184
        }
      ]
    },
    {
      "cell_type": "code",
      "metadata": {
        "colab": {
          "base_uri": "https://localhost:8080/"
        },
        "id": "fgzZVQPEou84",
        "outputId": "29db8472-24af-4208-e272-ec69b9c08354"
      },
      "source": [
        "roc_auc_score(y_test, pred_autofeat[:,1])"
      ],
      "execution_count": null,
      "outputs": [
        {
          "output_type": "execute_result",
          "data": {
            "text/plain": [
              "0.8599806201550387"
            ]
          },
          "metadata": {},
          "execution_count": 185
        }
      ]
    },
    {
      "cell_type": "code",
      "metadata": {
        "colab": {
          "base_uri": "https://localhost:8080/"
        },
        "id": "vXe3hARmR7E3",
        "outputId": "87b31a70-cabf-473a-f8a3-e1428bd35448"
      },
      "source": [
        "accuracy_score(y_test,pred_autofeat)"
      ],
      "execution_count": null,
      "outputs": [
        {
          "output_type": "execute_result",
          "data": {
            "text/plain": [
              "0.7802197802197802"
            ]
          },
          "metadata": {},
          "execution_count": 170
        }
      ]
    },
    {
      "cell_type": "code",
      "metadata": {
        "colab": {
          "base_uri": "https://localhost:8080/"
        },
        "id": "CEvuFnu9R_pq",
        "outputId": "7c68083f-1d6f-4310-80ae-e19adc21d3be"
      },
      "source": [
        "accuracy_score(y_test, pred)"
      ],
      "execution_count": null,
      "outputs": [
        {
          "output_type": "execute_result",
          "data": {
            "text/plain": [
              "0.7802197802197802"
            ]
          },
          "metadata": {},
          "execution_count": 171
        }
      ]
    },
    {
      "cell_type": "code",
      "metadata": {
        "colab": {
          "base_uri": "https://localhost:8080/"
        },
        "id": "9oSjZ8hbSHT2",
        "outputId": "8eccad1a-e4cf-4399-e37c-f9e41f9d7bc9"
      },
      "source": [
        "pred"
      ],
      "execution_count": null,
      "outputs": [
        {
          "output_type": "execute_result",
          "data": {
            "text/plain": [
              "array([1, 1, 1, 1, 1, 0, 1, 0, 1, 0, 1, 0, 0, 0, 1, 0, 1, 1, 1, 1, 1, 1,\n",
              "       1, 0, 1, 1, 1, 1, 1, 1, 0, 0, 0, 0, 1, 1, 0, 1, 1, 1, 1, 0, 1, 1,\n",
              "       1, 1, 1, 0, 0, 1, 1, 0, 0, 1, 0, 0, 0, 1, 0, 1, 0, 0, 1, 1, 1, 1,\n",
              "       1, 1, 1, 1, 0, 0, 0, 1, 0, 0, 1, 1, 1, 1, 0, 1, 0, 1, 0, 1, 1, 0,\n",
              "       0, 0, 0])"
            ]
          },
          "metadata": {},
          "execution_count": 158
        }
      ]
    },
    {
      "cell_type": "code",
      "metadata": {
        "colab": {
          "base_uri": "https://localhost:8080/"
        },
        "id": "ZCdBCnIsSVp9",
        "outputId": "5d560a8e-0e8b-4154-f64e-12b982f65d87"
      },
      "source": [
        "pred_autofeat"
      ],
      "execution_count": null,
      "outputs": [
        {
          "output_type": "execute_result",
          "data": {
            "text/plain": [
              "array([1, 0, 1, 1, 1, 1, 1, 0, 1, 1, 0, 0, 0, 0, 0, 1, 1, 1, 1, 1, 1, 1,\n",
              "       1, 0, 1, 1, 1, 1, 1, 1, 0, 0, 0, 0, 0, 1, 0, 1, 1, 0, 1, 0, 0, 1,\n",
              "       1, 1, 1, 0, 0, 0, 1, 0, 0, 1, 0, 0, 0, 1, 0, 0, 0, 0, 1, 1, 1, 0,\n",
              "       1, 1, 1, 1, 0, 0, 0, 1, 0, 0, 1, 1, 1, 1, 0, 1, 0, 1, 0, 1, 1, 0,\n",
              "       0, 0, 0])"
            ]
          },
          "metadata": {},
          "execution_count": 159
        }
      ]
    },
    {
      "cell_type": "code",
      "metadata": {
        "colab": {
          "base_uri": "https://localhost:8080/"
        },
        "id": "9av7kHEnSXf7",
        "outputId": "c5eb3a04-3606-4b1c-ee82-ed9aaaf88765"
      },
      "source": [
        "f1_score(y_test,pred) , f1_score(y_test,pred_autofeat)"
      ],
      "execution_count": null,
      "outputs": [
        {
          "output_type": "execute_result",
          "data": {
            "text/plain": [
              "(0.8076923076923077, 0.7959183673469388)"
            ]
          },
          "metadata": {},
          "execution_count": 172
        }
      ]
    }
  ]
}