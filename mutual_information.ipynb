{
  "cells": [
    {
      "cell_type": "markdown",
      "metadata": {
        "id": "view-in-github",
        "colab_type": "text"
      },
      "source": [
        "<a href=\"https://colab.research.google.com/github/harnalashok/classification/blob/main/mutual_information.ipynb\" target=\"_parent\"><img src=\"https://colab.research.google.com/assets/colab-badge.svg\" alt=\"Open In Colab\"/></a>"
      ]
    },
    {
      "cell_type": "code",
      "source": [
        "# Last amended: 31st May, 2023\n",
        "# Ref: https://www.kaggle.com/code/ryanholbrook/mutual-information\n",
        "# Data Source: https://www.kaggle.com/datasets/toramky/automobile-dataset"
      ],
      "metadata": {
        "id": "UEaQ_3NBwb2n"
      },
      "id": "UEaQ_3NBwb2n",
      "execution_count": null,
      "outputs": []
    },
    {
      "cell_type": "markdown",
      "id": "d84267b4",
      "metadata": {
        "papermill": {
          "duration": 0.004729,
          "end_time": "2023-04-20T18:11:02.112850",
          "exception": false,
          "start_time": "2023-04-20T18:11:02.108121",
          "status": "completed"
        },
        "tags": [],
        "id": "d84267b4"
      },
      "source": [
        "# Introduction #\n",
        "\n",
        "First encountering a new dataset can sometimes feel overwhelming. You might be presented with hundreds or thousands of features without even a description to go by. Where do you even begin?\n",
        "\n",
        "A great first step is to construct a ranking with a **feature utility metric**, a function measuring associations between a feature and the target. Then you can choose a smaller set of the most useful features to develop initially and have more confidence that your time will be well spent.\n",
        "\n",
        "The metric we'll use is called \"mutual information\". Mutual information is a lot like correlation in that it measures a relationship between two quantities. The advantage of mutual information is that it can detect *any* kind of relationship, while correlation only detects *linear* relationships.\n",
        "\n",
        "Mutual information is a great general-purpose metric and especially useful at the start of feature development when you might not know what model you'd like to use yet. It is:\n",
        "- easy to use and interpret,\n",
        "- computationally efficient,\n",
        "- theoretically well-founded,\n",
        "- resistant to overfitting, and,\n",
        "- able to detect any kind of relationship\n",
        "\n",
        "# Mutual Information and What it Measures #\n",
        "\n",
        "Mutual information describes relationships in terms of *uncertainty*. The **mutual information** (MI) between two quantities is a measure of the extent to which knowledge of one quantity reduces uncertainty about the other. If you knew the value of a feature, how much more confident would you be about the target?\n",
        "\n",
        "Here's an example from the *Ames Housing* data. The figure shows the relationship between the exterior quality of a house and the price it sold for. Each point represents a house.\n",
        "\n",
        "<figure style=\"padding: 1em;\">\n",
        "<img src=\"https://storage.googleapis.com/kaggle-media/learn/images/X12ARUK.png\" width=400, alt=\"Four categories of ExterQual: Fair, Typical, Good, Excellent. A scatter plot of SalePrice within each category.\">\n",
        "<figcaption style=\"textalign: center; font-style: italic\"><center>Knowing the exterior quality of a house reduces uncertainty about its sale price.\n",
        "</center></figcaption>\n",
        "</figure>\n",
        "\n",
        "From the figure, we can see that knowing the value of `ExterQual` should make you more certain about the corresponding `SalePrice` -- each category of `ExterQual` tends to concentrate `SalePrice` to within a certain range. The mutual information that `ExterQual` has with `SalePrice` is the average reduction of uncertainty in `SalePrice` taken over the four values of `ExterQual`. Since `Fair` occurs less often than `Typical`, for instance, `Fair` gets less weight in the MI score.\n",
        "\n",
        "(Technical note: What we're calling uncertainty is measured using a quantity from information theory known as \"entropy\". The entropy of a variable means roughly: \"how many yes-or-no questions you would need to describe an occurance of that variable, on average.\" The more questions you have to ask, the more uncertain you must be about the variable. Mutual information is how many questions you expect the feature to answer about the target.)\n",
        "\n",
        "# Interpreting Mutual Information Scores #\n",
        "\n",
        "The least possible mutual information between quantities is 0.0. When MI is zero, the quantities are independent: neither can tell you anything about the other. Conversely, in theory there's no upper bound to what MI can be. In practice though values above 2.0 or so are uncommon. (Mutual information is a logarithmic quantity, so it increases very slowly.)\n",
        "\n",
        "The next figure will give you an idea of how MI values correspond to the kind and degree of association a feature has with the target.\n",
        "\n",
        "<figure style=\"padding: 1em;\">\n",
        "<img src=\"https://storage.googleapis.com/kaggle-media/learn/images/Dt75E1f.png\" width=800, alt=\"\">\n",
        "<figcaption style=\"textalign: center; font-style: italic\"><center><strong>Left:</strong> Mutual information increases as the dependence between feature and target becomes tighter. <strong>Right:</strong> Mutual information can capture any kind of association (not just linear, like correlation.)\n",
        "</center></figcaption>\n",
        "</figure>\n",
        "In the figure on the right there are four features. All four features are continuous and vary in a sinusoidal manner with respect to target. The feature that varies most, it has the least MI and the feature that varies linearly has the highest MI. In the left figure on the right, all target values, on an average, increase as feature values increases. But for some features (light brown), variations around mean is large and for some features (dark brown) variation around mean is small. Features with least variations have highest MI.   \n",
        "\n",
        "Here are some things to remember when applying mutual information:\n",
        "- MI can help you to understand the *relative potential* of a feature as a predictor of the target, considered by itself.\n",
        "- It's possible for a feature to be very informative when interacting with other features, but not so informative all alone. MI *can't detect interactions* between features. It is a **univariate** metric.\n",
        "- The *actual* usefulness of a feature *depends on the model you use it with*. A feature is only useful to the extent that its relationship with the target is one your model can learn. Just because a feature has a high MI score doesn't mean your model will be able to do anything with that information. You may need to transform the feature first to expose the association.\n",
        "\n"
      ]
    },
    {
      "cell_type": "markdown",
      "source": [
        "# Example - 1985 Automobiles"
      ],
      "metadata": {
        "id": "Y9r8P7xs3XL4"
      },
      "id": "Y9r8P7xs3XL4"
    },
    {
      "cell_type": "markdown",
      "source": [
        "\n",
        "\n",
        "The [*Automobile*](https://www.kaggle.com/toramky/automobile-dataset) dataset consists of 193 cars from the 1985 model year. The goal for this dataset is to predict a car's `price` (the target) from 23 of the car's features, such as `make`, `body_style`, and `horsepower`. In this example, we'll rank the features with mutual information and investigate the results by data visualization.\n",
        "\n",
        "This hidden cell imports some libraries and loads the dataset."
      ],
      "metadata": {
        "id": "b0WU9O9T3SE3"
      },
      "id": "b0WU9O9T3SE3"
    },
    {
      "cell_type": "code",
      "source": [
        "import numpy as np\n",
        "import pandas as pd\n",
        "\n",
        "from sklearn.feature_selection import mutual_info_regression\n",
        "import matplotlib.pyplot as plt\n",
        "\n",
        "import seaborn as sns\n",
        "from pathlib import Path"
      ],
      "metadata": {
        "id": "goK__qsw3RTl"
      },
      "id": "goK__qsw3RTl",
      "execution_count": 21,
      "outputs": []
    },
    {
      "cell_type": "code",
      "source": [
        "plt.style.use(\"seaborn-whitegrid\")"
      ],
      "metadata": {
        "colab": {
          "base_uri": "https://localhost:8080/"
        },
        "id": "HWxmkY1A507g",
        "outputId": "f1bbdd46-c294-4bee-8c32-dfe20a269322"
      },
      "id": "HWxmkY1A507g",
      "execution_count": 22,
      "outputs": [
        {
          "output_type": "stream",
          "name": "stderr",
          "text": [
            "<ipython-input-22-44e8d52a7f21>:1: MatplotlibDeprecationWarning: The seaborn styles shipped by Matplotlib are deprecated since 3.6, as they no longer correspond to the styles shipped by seaborn. However, they will remain available as 'seaborn-v0_8-<style>'. Alternatively, directly use the seaborn API instead.\n",
            "  plt.style.use(\"seaborn-whitegrid\")\n"
          ]
        }
      ]
    },
    {
      "cell_type": "code",
      "source": [
        "from IPython.core.interactiveshell import InteractiveShell\n",
        "InteractiveShell.ast_node_interactivity = \"all\"\n"
      ],
      "metadata": {
        "id": "OgNdk3TgEP09"
      },
      "id": "OgNdk3TgEP09",
      "execution_count": 29,
      "outputs": []
    },
    {
      "cell_type": "code",
      "source": [
        "from google.colab import drive\n",
        "drive.mount('/gdrive')"
      ],
      "metadata": {
        "colab": {
          "base_uri": "https://localhost:8080/"
        },
        "id": "spDhkMF-5_Qv",
        "outputId": "4ebebfb2-5173-48e6-b977-0bc6ce27d03a"
      },
      "id": "spDhkMF-5_Qv",
      "execution_count": 23,
      "outputs": [
        {
          "output_type": "stream",
          "name": "stdout",
          "text": [
            "Drive already mounted at /gdrive; to attempt to forcibly remount, call drive.mount(\"/gdrive\", force_remount=True).\n"
          ]
        }
      ]
    },
    {
      "cell_type": "code",
      "source": [
        "pathToFolder = \"/gdrive/MyDrive/Colab_data_files/automobile\"\n"
      ],
      "metadata": {
        "id": "im_AZiK66Q7I"
      },
      "id": "im_AZiK66Q7I",
      "execution_count": 30,
      "outputs": []
    },
    {
      "cell_type": "code",
      "source": [
        "path = Path(pathToFolder) / \"automobile_data.csv\""
      ],
      "metadata": {
        "id": "ikQqdu6j6Z-0"
      },
      "id": "ikQqdu6j6Z-0",
      "execution_count": 31,
      "outputs": []
    },
    {
      "cell_type": "code",
      "execution_count": 33,
      "id": "7794ae31",
      "metadata": {
        "_kg_hide-input": true,
        "execution": {
          "iopub.execute_input": "2023-04-20T18:11:02.123198Z",
          "iopub.status.busy": "2023-04-20T18:11:02.122729Z",
          "iopub.status.idle": "2023-04-20T18:11:03.526432Z",
          "shell.execute_reply": "2023-04-20T18:11:03.525097Z"
        },
        "papermill": {
          "duration": 1.412786,
          "end_time": "2023-04-20T18:11:03.529595",
          "exception": false,
          "start_time": "2023-04-20T18:11:02.116809",
          "status": "completed"
        },
        "tags": [],
        "colab": {
          "base_uri": "https://localhost:8080/",
          "height": 404
        },
        "id": "7794ae31",
        "outputId": "256c7515-31d9-4656-c154-6ca362c8ed83"
      },
      "outputs": [
        {
          "output_type": "execute_result",
          "data": {
            "text/plain": [
              "(205, 26)"
            ]
          },
          "metadata": {},
          "execution_count": 33
        },
        {
          "output_type": "execute_result",
          "data": {
            "text/plain": [
              "   symboling normalized-losses         make fuel-type aspiration num-of-doors  \\\n",
              "0          3                 ?  alfa-romero       gas        std          two   \n",
              "1          3                 ?  alfa-romero       gas        std          two   \n",
              "2          1                 ?  alfa-romero       gas        std          two   \n",
              "3          2               164         audi       gas        std         four   \n",
              "4          2               164         audi       gas        std         four   \n",
              "\n",
              "    body-style drive-wheels engine-location  wheel-base  ...  engine-size  \\\n",
              "0  convertible          rwd           front        88.6  ...          130   \n",
              "1  convertible          rwd           front        88.6  ...          130   \n",
              "2    hatchback          rwd           front        94.5  ...          152   \n",
              "3        sedan          fwd           front        99.8  ...          109   \n",
              "4        sedan          4wd           front        99.4  ...          136   \n",
              "\n",
              "   fuel-system  bore  stroke compression-ratio horsepower  peak-rpm city-mpg  \\\n",
              "0         mpfi  3.47    2.68               9.0        111      5000       21   \n",
              "1         mpfi  3.47    2.68               9.0        111      5000       21   \n",
              "2         mpfi  2.68    3.47               9.0        154      5000       19   \n",
              "3         mpfi  3.19     3.4              10.0        102      5500       24   \n",
              "4         mpfi  3.19     3.4               8.0        115      5500       18   \n",
              "\n",
              "  highway-mpg  price  \n",
              "0          27  13495  \n",
              "1          27  16500  \n",
              "2          26  16500  \n",
              "3          30  13950  \n",
              "4          22  17450  \n",
              "\n",
              "[5 rows x 26 columns]"
            ],
            "text/html": [
              "\n",
              "  <div id=\"df-1f3b345d-2755-4628-85a4-6beaeccc50ea\">\n",
              "    <div class=\"colab-df-container\">\n",
              "      <div>\n",
              "<style scoped>\n",
              "    .dataframe tbody tr th:only-of-type {\n",
              "        vertical-align: middle;\n",
              "    }\n",
              "\n",
              "    .dataframe tbody tr th {\n",
              "        vertical-align: top;\n",
              "    }\n",
              "\n",
              "    .dataframe thead th {\n",
              "        text-align: right;\n",
              "    }\n",
              "</style>\n",
              "<table border=\"1\" class=\"dataframe\">\n",
              "  <thead>\n",
              "    <tr style=\"text-align: right;\">\n",
              "      <th></th>\n",
              "      <th>symboling</th>\n",
              "      <th>normalized-losses</th>\n",
              "      <th>make</th>\n",
              "      <th>fuel-type</th>\n",
              "      <th>aspiration</th>\n",
              "      <th>num-of-doors</th>\n",
              "      <th>body-style</th>\n",
              "      <th>drive-wheels</th>\n",
              "      <th>engine-location</th>\n",
              "      <th>wheel-base</th>\n",
              "      <th>...</th>\n",
              "      <th>engine-size</th>\n",
              "      <th>fuel-system</th>\n",
              "      <th>bore</th>\n",
              "      <th>stroke</th>\n",
              "      <th>compression-ratio</th>\n",
              "      <th>horsepower</th>\n",
              "      <th>peak-rpm</th>\n",
              "      <th>city-mpg</th>\n",
              "      <th>highway-mpg</th>\n",
              "      <th>price</th>\n",
              "    </tr>\n",
              "  </thead>\n",
              "  <tbody>\n",
              "    <tr>\n",
              "      <th>0</th>\n",
              "      <td>3</td>\n",
              "      <td>?</td>\n",
              "      <td>alfa-romero</td>\n",
              "      <td>gas</td>\n",
              "      <td>std</td>\n",
              "      <td>two</td>\n",
              "      <td>convertible</td>\n",
              "      <td>rwd</td>\n",
              "      <td>front</td>\n",
              "      <td>88.6</td>\n",
              "      <td>...</td>\n",
              "      <td>130</td>\n",
              "      <td>mpfi</td>\n",
              "      <td>3.47</td>\n",
              "      <td>2.68</td>\n",
              "      <td>9.0</td>\n",
              "      <td>111</td>\n",
              "      <td>5000</td>\n",
              "      <td>21</td>\n",
              "      <td>27</td>\n",
              "      <td>13495</td>\n",
              "    </tr>\n",
              "    <tr>\n",
              "      <th>1</th>\n",
              "      <td>3</td>\n",
              "      <td>?</td>\n",
              "      <td>alfa-romero</td>\n",
              "      <td>gas</td>\n",
              "      <td>std</td>\n",
              "      <td>two</td>\n",
              "      <td>convertible</td>\n",
              "      <td>rwd</td>\n",
              "      <td>front</td>\n",
              "      <td>88.6</td>\n",
              "      <td>...</td>\n",
              "      <td>130</td>\n",
              "      <td>mpfi</td>\n",
              "      <td>3.47</td>\n",
              "      <td>2.68</td>\n",
              "      <td>9.0</td>\n",
              "      <td>111</td>\n",
              "      <td>5000</td>\n",
              "      <td>21</td>\n",
              "      <td>27</td>\n",
              "      <td>16500</td>\n",
              "    </tr>\n",
              "    <tr>\n",
              "      <th>2</th>\n",
              "      <td>1</td>\n",
              "      <td>?</td>\n",
              "      <td>alfa-romero</td>\n",
              "      <td>gas</td>\n",
              "      <td>std</td>\n",
              "      <td>two</td>\n",
              "      <td>hatchback</td>\n",
              "      <td>rwd</td>\n",
              "      <td>front</td>\n",
              "      <td>94.5</td>\n",
              "      <td>...</td>\n",
              "      <td>152</td>\n",
              "      <td>mpfi</td>\n",
              "      <td>2.68</td>\n",
              "      <td>3.47</td>\n",
              "      <td>9.0</td>\n",
              "      <td>154</td>\n",
              "      <td>5000</td>\n",
              "      <td>19</td>\n",
              "      <td>26</td>\n",
              "      <td>16500</td>\n",
              "    </tr>\n",
              "    <tr>\n",
              "      <th>3</th>\n",
              "      <td>2</td>\n",
              "      <td>164</td>\n",
              "      <td>audi</td>\n",
              "      <td>gas</td>\n",
              "      <td>std</td>\n",
              "      <td>four</td>\n",
              "      <td>sedan</td>\n",
              "      <td>fwd</td>\n",
              "      <td>front</td>\n",
              "      <td>99.8</td>\n",
              "      <td>...</td>\n",
              "      <td>109</td>\n",
              "      <td>mpfi</td>\n",
              "      <td>3.19</td>\n",
              "      <td>3.4</td>\n",
              "      <td>10.0</td>\n",
              "      <td>102</td>\n",
              "      <td>5500</td>\n",
              "      <td>24</td>\n",
              "      <td>30</td>\n",
              "      <td>13950</td>\n",
              "    </tr>\n",
              "    <tr>\n",
              "      <th>4</th>\n",
              "      <td>2</td>\n",
              "      <td>164</td>\n",
              "      <td>audi</td>\n",
              "      <td>gas</td>\n",
              "      <td>std</td>\n",
              "      <td>four</td>\n",
              "      <td>sedan</td>\n",
              "      <td>4wd</td>\n",
              "      <td>front</td>\n",
              "      <td>99.4</td>\n",
              "      <td>...</td>\n",
              "      <td>136</td>\n",
              "      <td>mpfi</td>\n",
              "      <td>3.19</td>\n",
              "      <td>3.4</td>\n",
              "      <td>8.0</td>\n",
              "      <td>115</td>\n",
              "      <td>5500</td>\n",
              "      <td>18</td>\n",
              "      <td>22</td>\n",
              "      <td>17450</td>\n",
              "    </tr>\n",
              "  </tbody>\n",
              "</table>\n",
              "<p>5 rows × 26 columns</p>\n",
              "</div>\n",
              "      <button class=\"colab-df-convert\" onclick=\"convertToInteractive('df-1f3b345d-2755-4628-85a4-6beaeccc50ea')\"\n",
              "              title=\"Convert this dataframe to an interactive table.\"\n",
              "              style=\"display:none;\">\n",
              "        \n",
              "  <svg xmlns=\"http://www.w3.org/2000/svg\" height=\"24px\"viewBox=\"0 0 24 24\"\n",
              "       width=\"24px\">\n",
              "    <path d=\"M0 0h24v24H0V0z\" fill=\"none\"/>\n",
              "    <path d=\"M18.56 5.44l.94 2.06.94-2.06 2.06-.94-2.06-.94-.94-2.06-.94 2.06-2.06.94zm-11 1L8.5 8.5l.94-2.06 2.06-.94-2.06-.94L8.5 2.5l-.94 2.06-2.06.94zm10 10l.94 2.06.94-2.06 2.06-.94-2.06-.94-.94-2.06-.94 2.06-2.06.94z\"/><path d=\"M17.41 7.96l-1.37-1.37c-.4-.4-.92-.59-1.43-.59-.52 0-1.04.2-1.43.59L10.3 9.45l-7.72 7.72c-.78.78-.78 2.05 0 2.83L4 21.41c.39.39.9.59 1.41.59.51 0 1.02-.2 1.41-.59l7.78-7.78 2.81-2.81c.8-.78.8-2.07 0-2.86zM5.41 20L4 18.59l7.72-7.72 1.47 1.35L5.41 20z\"/>\n",
              "  </svg>\n",
              "      </button>\n",
              "      \n",
              "  <style>\n",
              "    .colab-df-container {\n",
              "      display:flex;\n",
              "      flex-wrap:wrap;\n",
              "      gap: 12px;\n",
              "    }\n",
              "\n",
              "    .colab-df-convert {\n",
              "      background-color: #E8F0FE;\n",
              "      border: none;\n",
              "      border-radius: 50%;\n",
              "      cursor: pointer;\n",
              "      display: none;\n",
              "      fill: #1967D2;\n",
              "      height: 32px;\n",
              "      padding: 0 0 0 0;\n",
              "      width: 32px;\n",
              "    }\n",
              "\n",
              "    .colab-df-convert:hover {\n",
              "      background-color: #E2EBFA;\n",
              "      box-shadow: 0px 1px 2px rgba(60, 64, 67, 0.3), 0px 1px 3px 1px rgba(60, 64, 67, 0.15);\n",
              "      fill: #174EA6;\n",
              "    }\n",
              "\n",
              "    [theme=dark] .colab-df-convert {\n",
              "      background-color: #3B4455;\n",
              "      fill: #D2E3FC;\n",
              "    }\n",
              "\n",
              "    [theme=dark] .colab-df-convert:hover {\n",
              "      background-color: #434B5C;\n",
              "      box-shadow: 0px 1px 3px 1px rgba(0, 0, 0, 0.15);\n",
              "      filter: drop-shadow(0px 1px 2px rgba(0, 0, 0, 0.3));\n",
              "      fill: #FFFFFF;\n",
              "    }\n",
              "  </style>\n",
              "\n",
              "      <script>\n",
              "        const buttonEl =\n",
              "          document.querySelector('#df-1f3b345d-2755-4628-85a4-6beaeccc50ea button.colab-df-convert');\n",
              "        buttonEl.style.display =\n",
              "          google.colab.kernel.accessAllowed ? 'block' : 'none';\n",
              "\n",
              "        async function convertToInteractive(key) {\n",
              "          const element = document.querySelector('#df-1f3b345d-2755-4628-85a4-6beaeccc50ea');\n",
              "          const dataTable =\n",
              "            await google.colab.kernel.invokeFunction('convertToInteractive',\n",
              "                                                     [key], {});\n",
              "          if (!dataTable) return;\n",
              "\n",
              "          const docLinkHtml = 'Like what you see? Visit the ' +\n",
              "            '<a target=\"_blank\" href=https://colab.research.google.com/notebooks/data_table.ipynb>data table notebook</a>'\n",
              "            + ' to learn more about interactive tables.';\n",
              "          element.innerHTML = '';\n",
              "          dataTable['output_type'] = 'display_data';\n",
              "          await google.colab.output.renderOutput(dataTable, element);\n",
              "          const docLink = document.createElement('div');\n",
              "          docLink.innerHTML = docLinkHtml;\n",
              "          element.appendChild(docLink);\n",
              "        }\n",
              "      </script>\n",
              "    </div>\n",
              "  </div>\n",
              "  "
            ]
          },
          "metadata": {},
          "execution_count": 33
        }
      ],
      "source": [
        "df = pd.read_csv(path)\n",
        "df.shape\n",
        "df.head()"
      ]
    },
    {
      "cell_type": "markdown",
      "id": "84e14bc9",
      "metadata": {
        "papermill": {
          "duration": 0.004573,
          "end_time": "2023-04-20T18:11:03.539737",
          "exception": false,
          "start_time": "2023-04-20T18:11:03.535164",
          "status": "completed"
        },
        "tags": [],
        "id": "84e14bc9"
      },
      "source": [
        "The scikit-learn algorithm for MI treats discrete features differently from continuous features. Consequently, you need to tell it which are which. As a rule of thumb, anything that *must* have a `float` dtype is *not* discrete. Categoricals (`object` or `categorial` dtype) can be treated as discrete by giving them a label encoding. (You can review label encodings in our [Categorical Variables](http://www.kaggle.com/alexisbcook/categorical-variables) lesson.)"
      ]
    },
    {
      "cell_type": "code",
      "source": [
        "# Checking total entries with '?' in each column\n",
        "# Ref: https://www.kaggle.com/code/umangaggarwal/automobile-price-prediction-with-0-93-r2-score\n",
        "\n",
        "for col in df.columns:\n",
        "    if('?' in df[col].values):\n",
        "        print(col + \" = \" + str(len(df[df[col]=='?'])))"
      ],
      "metadata": {
        "colab": {
          "base_uri": "https://localhost:8080/"
        },
        "id": "bW2NZoLhOe90",
        "outputId": "b8679822-e681-4f7c-ffd6-7f0e2336bd4c"
      },
      "id": "bW2NZoLhOe90",
      "execution_count": 41,
      "outputs": [
        {
          "output_type": "stream",
          "name": "stdout",
          "text": [
            "normalized-losses = 41\n",
            "num-of-doors = 2\n",
            "bore = 4\n",
            "stroke = 4\n",
            "horsepower = 2\n",
            "peak-rpm = 2\n",
            "price = 4\n"
          ]
        },
        {
          "output_type": "stream",
          "name": "stderr",
          "text": [
            "<ipython-input-41-4feed932ae88>:2: FutureWarning: elementwise comparison failed; returning scalar instead, but in the future will perform elementwise comparison\n",
            "  if('?' in df[col].values):\n"
          ]
        }
      ]
    },
    {
      "cell_type": "markdown",
      "source": [
        "\n",
        "\n",
        "Observations:\n",
        "\n",
        "    There are 41 '?' in normalized losses column\n",
        "    Others have 2-4 entries with '?'.\n",
        "\n",
        "To handle\n",
        "\n",
        "    We will drop '?' entries of price column & num-of-doors column.\n",
        "    We will replace '?' with mean value for every other column.\n",
        "\n"
      ],
      "metadata": {
        "id": "veFcVdSFOsIv"
      },
      "id": "veFcVdSFOsIv"
    },
    {
      "cell_type": "markdown",
      "source": [
        "b) Handling Missing Values\n",
        "\n",
        "Removing '?' and changing data type\n"
      ],
      "metadata": {
        "id": "ZSojKl8oO2uF"
      },
      "id": "ZSojKl8oO2uF"
    },
    {
      "cell_type": "code",
      "source": [
        "# Converting price column type to numeric & Dropping '?' entries from price column \n",
        "df['price'] = df['price'].replace('?',np.nan)\n",
        "df['price'] = pd.to_numeric(df['price'])\n",
        "df = df[df['price'].notna()]\n",
        "\n",
        "# Dropping '?' from num-of-doors column \n",
        "df['num-of-doors'] = df['num-of-doors'].replace('?',np.nan)\n",
        "df = df[df['num-of-doors'].notna()]\n",
        "df.info()"
      ],
      "metadata": {
        "colab": {
          "base_uri": "https://localhost:8080/"
        },
        "id": "woMBrymtO5uz",
        "outputId": "7b8b1cfd-1540-4b52-a68d-3b9f77e70a06"
      },
      "id": "woMBrymtO5uz",
      "execution_count": 42,
      "outputs": [
        {
          "output_type": "stream",
          "name": "stdout",
          "text": [
            "<class 'pandas.core.frame.DataFrame'>\n",
            "Int64Index: 199 entries, 0 to 204\n",
            "Data columns (total 26 columns):\n",
            " #   Column             Non-Null Count  Dtype  \n",
            "---  ------             --------------  -----  \n",
            " 0   symboling          199 non-null    int64  \n",
            " 1   normalized-losses  199 non-null    object \n",
            " 2   make               199 non-null    object \n",
            " 3   fuel-type          199 non-null    object \n",
            " 4   aspiration         199 non-null    object \n",
            " 5   num-of-doors       199 non-null    object \n",
            " 6   body-style         199 non-null    object \n",
            " 7   drive-wheels       199 non-null    object \n",
            " 8   engine-location    199 non-null    object \n",
            " 9   wheel-base         199 non-null    float64\n",
            " 10  length             199 non-null    float64\n",
            " 11  width              199 non-null    float64\n",
            " 12  height             199 non-null    float64\n",
            " 13  curb-weight        199 non-null    int64  \n",
            " 14  engine-type        199 non-null    object \n",
            " 15  num-of-cylinders   199 non-null    object \n",
            " 16  engine-size        199 non-null    int64  \n",
            " 17  fuel-system        199 non-null    object \n",
            " 18  bore               199 non-null    object \n",
            " 19  stroke             199 non-null    object \n",
            " 20  compression-ratio  199 non-null    float64\n",
            " 21  horsepower         199 non-null    object \n",
            " 22  peak-rpm           199 non-null    object \n",
            " 23  city-mpg           199 non-null    int64  \n",
            " 24  highway-mpg        199 non-null    int64  \n",
            " 25  price              199 non-null    float64\n",
            "dtypes: float64(6), int64(5), object(15)\n",
            "memory usage: 42.0+ KB\n"
          ]
        },
        {
          "output_type": "stream",
          "name": "stderr",
          "text": [
            "<ipython-input-42-28f8916fcaf2>:7: SettingWithCopyWarning: \n",
            "A value is trying to be set on a copy of a slice from a DataFrame.\n",
            "Try using .loc[row_indexer,col_indexer] = value instead\n",
            "\n",
            "See the caveats in the documentation: https://pandas.pydata.org/pandas-docs/stable/user_guide/indexing.html#returning-a-view-versus-a-copy\n",
            "  df['num-of-doors'] = df['num-of-doors'].replace('?',np.nan)\n"
          ]
        }
      ]
    },
    {
      "cell_type": "code",
      "source": [
        "# Converting column type to numeric and replacing '?' with mean value\n",
        "num_col = ['normalized-losses', 'bore',  'stroke', 'horsepower', 'peak-rpm']\n",
        "for col in num_col:\n",
        "    df[col] = df[col].replace('?', np.nan)\n",
        "    df[col] = pd.to_numeric(df[col])\n",
        "    df[col].fillna(df[col].mean(), inplace=True)\n",
        "df.head(10)"
      ],
      "metadata": {
        "colab": {
          "base_uri": "https://localhost:8080/",
          "height": 543
        },
        "id": "4kK-b8G2PE1E",
        "outputId": "e3e3c2ed-0f65-4073-a6ed-d365d6899091"
      },
      "id": "4kK-b8G2PE1E",
      "execution_count": 43,
      "outputs": [
        {
          "output_type": "execute_result",
          "data": {
            "text/plain": [
              "    symboling  normalized-losses         make fuel-type aspiration  \\\n",
              "0           3         121.840491  alfa-romero       gas        std   \n",
              "1           3         121.840491  alfa-romero       gas        std   \n",
              "2           1         121.840491  alfa-romero       gas        std   \n",
              "3           2         164.000000         audi       gas        std   \n",
              "4           2         164.000000         audi       gas        std   \n",
              "5           2         121.840491         audi       gas        std   \n",
              "6           1         158.000000         audi       gas        std   \n",
              "7           1         121.840491         audi       gas        std   \n",
              "8           1         158.000000         audi       gas      turbo   \n",
              "10          2         192.000000          bmw       gas        std   \n",
              "\n",
              "   num-of-doors   body-style drive-wheels engine-location  wheel-base  ...  \\\n",
              "0           two  convertible          rwd           front        88.6  ...   \n",
              "1           two  convertible          rwd           front        88.6  ...   \n",
              "2           two    hatchback          rwd           front        94.5  ...   \n",
              "3          four        sedan          fwd           front        99.8  ...   \n",
              "4          four        sedan          4wd           front        99.4  ...   \n",
              "5           two        sedan          fwd           front        99.8  ...   \n",
              "6          four        sedan          fwd           front       105.8  ...   \n",
              "7          four        wagon          fwd           front       105.8  ...   \n",
              "8          four        sedan          fwd           front       105.8  ...   \n",
              "10          two        sedan          rwd           front       101.2  ...   \n",
              "\n",
              "    engine-size  fuel-system  bore  stroke compression-ratio horsepower  \\\n",
              "0           130         mpfi  3.47    2.68               9.0      111.0   \n",
              "1           130         mpfi  3.47    2.68               9.0      111.0   \n",
              "2           152         mpfi  2.68    3.47               9.0      154.0   \n",
              "3           109         mpfi  3.19    3.40              10.0      102.0   \n",
              "4           136         mpfi  3.19    3.40               8.0      115.0   \n",
              "5           136         mpfi  3.19    3.40               8.5      110.0   \n",
              "6           136         mpfi  3.19    3.40               8.5      110.0   \n",
              "7           136         mpfi  3.19    3.40               8.5      110.0   \n",
              "8           131         mpfi  3.13    3.40               8.3      140.0   \n",
              "10          108         mpfi  3.50    2.80               8.8      101.0   \n",
              "\n",
              "    peak-rpm city-mpg  highway-mpg    price  \n",
              "0     5000.0       21           27  13495.0  \n",
              "1     5000.0       21           27  16500.0  \n",
              "2     5000.0       19           26  16500.0  \n",
              "3     5500.0       24           30  13950.0  \n",
              "4     5500.0       18           22  17450.0  \n",
              "5     5500.0       19           25  15250.0  \n",
              "6     5500.0       19           25  17710.0  \n",
              "7     5500.0       19           25  18920.0  \n",
              "8     5500.0       17           20  23875.0  \n",
              "10    5800.0       23           29  16430.0  \n",
              "\n",
              "[10 rows x 26 columns]"
            ],
            "text/html": [
              "\n",
              "  <div id=\"df-1b0f3b93-cd3a-46cb-8178-9e2fe4eb5354\">\n",
              "    <div class=\"colab-df-container\">\n",
              "      <div>\n",
              "<style scoped>\n",
              "    .dataframe tbody tr th:only-of-type {\n",
              "        vertical-align: middle;\n",
              "    }\n",
              "\n",
              "    .dataframe tbody tr th {\n",
              "        vertical-align: top;\n",
              "    }\n",
              "\n",
              "    .dataframe thead th {\n",
              "        text-align: right;\n",
              "    }\n",
              "</style>\n",
              "<table border=\"1\" class=\"dataframe\">\n",
              "  <thead>\n",
              "    <tr style=\"text-align: right;\">\n",
              "      <th></th>\n",
              "      <th>symboling</th>\n",
              "      <th>normalized-losses</th>\n",
              "      <th>make</th>\n",
              "      <th>fuel-type</th>\n",
              "      <th>aspiration</th>\n",
              "      <th>num-of-doors</th>\n",
              "      <th>body-style</th>\n",
              "      <th>drive-wheels</th>\n",
              "      <th>engine-location</th>\n",
              "      <th>wheel-base</th>\n",
              "      <th>...</th>\n",
              "      <th>engine-size</th>\n",
              "      <th>fuel-system</th>\n",
              "      <th>bore</th>\n",
              "      <th>stroke</th>\n",
              "      <th>compression-ratio</th>\n",
              "      <th>horsepower</th>\n",
              "      <th>peak-rpm</th>\n",
              "      <th>city-mpg</th>\n",
              "      <th>highway-mpg</th>\n",
              "      <th>price</th>\n",
              "    </tr>\n",
              "  </thead>\n",
              "  <tbody>\n",
              "    <tr>\n",
              "      <th>0</th>\n",
              "      <td>3</td>\n",
              "      <td>121.840491</td>\n",
              "      <td>alfa-romero</td>\n",
              "      <td>gas</td>\n",
              "      <td>std</td>\n",
              "      <td>two</td>\n",
              "      <td>convertible</td>\n",
              "      <td>rwd</td>\n",
              "      <td>front</td>\n",
              "      <td>88.6</td>\n",
              "      <td>...</td>\n",
              "      <td>130</td>\n",
              "      <td>mpfi</td>\n",
              "      <td>3.47</td>\n",
              "      <td>2.68</td>\n",
              "      <td>9.0</td>\n",
              "      <td>111.0</td>\n",
              "      <td>5000.0</td>\n",
              "      <td>21</td>\n",
              "      <td>27</td>\n",
              "      <td>13495.0</td>\n",
              "    </tr>\n",
              "    <tr>\n",
              "      <th>1</th>\n",
              "      <td>3</td>\n",
              "      <td>121.840491</td>\n",
              "      <td>alfa-romero</td>\n",
              "      <td>gas</td>\n",
              "      <td>std</td>\n",
              "      <td>two</td>\n",
              "      <td>convertible</td>\n",
              "      <td>rwd</td>\n",
              "      <td>front</td>\n",
              "      <td>88.6</td>\n",
              "      <td>...</td>\n",
              "      <td>130</td>\n",
              "      <td>mpfi</td>\n",
              "      <td>3.47</td>\n",
              "      <td>2.68</td>\n",
              "      <td>9.0</td>\n",
              "      <td>111.0</td>\n",
              "      <td>5000.0</td>\n",
              "      <td>21</td>\n",
              "      <td>27</td>\n",
              "      <td>16500.0</td>\n",
              "    </tr>\n",
              "    <tr>\n",
              "      <th>2</th>\n",
              "      <td>1</td>\n",
              "      <td>121.840491</td>\n",
              "      <td>alfa-romero</td>\n",
              "      <td>gas</td>\n",
              "      <td>std</td>\n",
              "      <td>two</td>\n",
              "      <td>hatchback</td>\n",
              "      <td>rwd</td>\n",
              "      <td>front</td>\n",
              "      <td>94.5</td>\n",
              "      <td>...</td>\n",
              "      <td>152</td>\n",
              "      <td>mpfi</td>\n",
              "      <td>2.68</td>\n",
              "      <td>3.47</td>\n",
              "      <td>9.0</td>\n",
              "      <td>154.0</td>\n",
              "      <td>5000.0</td>\n",
              "      <td>19</td>\n",
              "      <td>26</td>\n",
              "      <td>16500.0</td>\n",
              "    </tr>\n",
              "    <tr>\n",
              "      <th>3</th>\n",
              "      <td>2</td>\n",
              "      <td>164.000000</td>\n",
              "      <td>audi</td>\n",
              "      <td>gas</td>\n",
              "      <td>std</td>\n",
              "      <td>four</td>\n",
              "      <td>sedan</td>\n",
              "      <td>fwd</td>\n",
              "      <td>front</td>\n",
              "      <td>99.8</td>\n",
              "      <td>...</td>\n",
              "      <td>109</td>\n",
              "      <td>mpfi</td>\n",
              "      <td>3.19</td>\n",
              "      <td>3.40</td>\n",
              "      <td>10.0</td>\n",
              "      <td>102.0</td>\n",
              "      <td>5500.0</td>\n",
              "      <td>24</td>\n",
              "      <td>30</td>\n",
              "      <td>13950.0</td>\n",
              "    </tr>\n",
              "    <tr>\n",
              "      <th>4</th>\n",
              "      <td>2</td>\n",
              "      <td>164.000000</td>\n",
              "      <td>audi</td>\n",
              "      <td>gas</td>\n",
              "      <td>std</td>\n",
              "      <td>four</td>\n",
              "      <td>sedan</td>\n",
              "      <td>4wd</td>\n",
              "      <td>front</td>\n",
              "      <td>99.4</td>\n",
              "      <td>...</td>\n",
              "      <td>136</td>\n",
              "      <td>mpfi</td>\n",
              "      <td>3.19</td>\n",
              "      <td>3.40</td>\n",
              "      <td>8.0</td>\n",
              "      <td>115.0</td>\n",
              "      <td>5500.0</td>\n",
              "      <td>18</td>\n",
              "      <td>22</td>\n",
              "      <td>17450.0</td>\n",
              "    </tr>\n",
              "    <tr>\n",
              "      <th>5</th>\n",
              "      <td>2</td>\n",
              "      <td>121.840491</td>\n",
              "      <td>audi</td>\n",
              "      <td>gas</td>\n",
              "      <td>std</td>\n",
              "      <td>two</td>\n",
              "      <td>sedan</td>\n",
              "      <td>fwd</td>\n",
              "      <td>front</td>\n",
              "      <td>99.8</td>\n",
              "      <td>...</td>\n",
              "      <td>136</td>\n",
              "      <td>mpfi</td>\n",
              "      <td>3.19</td>\n",
              "      <td>3.40</td>\n",
              "      <td>8.5</td>\n",
              "      <td>110.0</td>\n",
              "      <td>5500.0</td>\n",
              "      <td>19</td>\n",
              "      <td>25</td>\n",
              "      <td>15250.0</td>\n",
              "    </tr>\n",
              "    <tr>\n",
              "      <th>6</th>\n",
              "      <td>1</td>\n",
              "      <td>158.000000</td>\n",
              "      <td>audi</td>\n",
              "      <td>gas</td>\n",
              "      <td>std</td>\n",
              "      <td>four</td>\n",
              "      <td>sedan</td>\n",
              "      <td>fwd</td>\n",
              "      <td>front</td>\n",
              "      <td>105.8</td>\n",
              "      <td>...</td>\n",
              "      <td>136</td>\n",
              "      <td>mpfi</td>\n",
              "      <td>3.19</td>\n",
              "      <td>3.40</td>\n",
              "      <td>8.5</td>\n",
              "      <td>110.0</td>\n",
              "      <td>5500.0</td>\n",
              "      <td>19</td>\n",
              "      <td>25</td>\n",
              "      <td>17710.0</td>\n",
              "    </tr>\n",
              "    <tr>\n",
              "      <th>7</th>\n",
              "      <td>1</td>\n",
              "      <td>121.840491</td>\n",
              "      <td>audi</td>\n",
              "      <td>gas</td>\n",
              "      <td>std</td>\n",
              "      <td>four</td>\n",
              "      <td>wagon</td>\n",
              "      <td>fwd</td>\n",
              "      <td>front</td>\n",
              "      <td>105.8</td>\n",
              "      <td>...</td>\n",
              "      <td>136</td>\n",
              "      <td>mpfi</td>\n",
              "      <td>3.19</td>\n",
              "      <td>3.40</td>\n",
              "      <td>8.5</td>\n",
              "      <td>110.0</td>\n",
              "      <td>5500.0</td>\n",
              "      <td>19</td>\n",
              "      <td>25</td>\n",
              "      <td>18920.0</td>\n",
              "    </tr>\n",
              "    <tr>\n",
              "      <th>8</th>\n",
              "      <td>1</td>\n",
              "      <td>158.000000</td>\n",
              "      <td>audi</td>\n",
              "      <td>gas</td>\n",
              "      <td>turbo</td>\n",
              "      <td>four</td>\n",
              "      <td>sedan</td>\n",
              "      <td>fwd</td>\n",
              "      <td>front</td>\n",
              "      <td>105.8</td>\n",
              "      <td>...</td>\n",
              "      <td>131</td>\n",
              "      <td>mpfi</td>\n",
              "      <td>3.13</td>\n",
              "      <td>3.40</td>\n",
              "      <td>8.3</td>\n",
              "      <td>140.0</td>\n",
              "      <td>5500.0</td>\n",
              "      <td>17</td>\n",
              "      <td>20</td>\n",
              "      <td>23875.0</td>\n",
              "    </tr>\n",
              "    <tr>\n",
              "      <th>10</th>\n",
              "      <td>2</td>\n",
              "      <td>192.000000</td>\n",
              "      <td>bmw</td>\n",
              "      <td>gas</td>\n",
              "      <td>std</td>\n",
              "      <td>two</td>\n",
              "      <td>sedan</td>\n",
              "      <td>rwd</td>\n",
              "      <td>front</td>\n",
              "      <td>101.2</td>\n",
              "      <td>...</td>\n",
              "      <td>108</td>\n",
              "      <td>mpfi</td>\n",
              "      <td>3.50</td>\n",
              "      <td>2.80</td>\n",
              "      <td>8.8</td>\n",
              "      <td>101.0</td>\n",
              "      <td>5800.0</td>\n",
              "      <td>23</td>\n",
              "      <td>29</td>\n",
              "      <td>16430.0</td>\n",
              "    </tr>\n",
              "  </tbody>\n",
              "</table>\n",
              "<p>10 rows × 26 columns</p>\n",
              "</div>\n",
              "      <button class=\"colab-df-convert\" onclick=\"convertToInteractive('df-1b0f3b93-cd3a-46cb-8178-9e2fe4eb5354')\"\n",
              "              title=\"Convert this dataframe to an interactive table.\"\n",
              "              style=\"display:none;\">\n",
              "        \n",
              "  <svg xmlns=\"http://www.w3.org/2000/svg\" height=\"24px\"viewBox=\"0 0 24 24\"\n",
              "       width=\"24px\">\n",
              "    <path d=\"M0 0h24v24H0V0z\" fill=\"none\"/>\n",
              "    <path d=\"M18.56 5.44l.94 2.06.94-2.06 2.06-.94-2.06-.94-.94-2.06-.94 2.06-2.06.94zm-11 1L8.5 8.5l.94-2.06 2.06-.94-2.06-.94L8.5 2.5l-.94 2.06-2.06.94zm10 10l.94 2.06.94-2.06 2.06-.94-2.06-.94-.94-2.06-.94 2.06-2.06.94z\"/><path d=\"M17.41 7.96l-1.37-1.37c-.4-.4-.92-.59-1.43-.59-.52 0-1.04.2-1.43.59L10.3 9.45l-7.72 7.72c-.78.78-.78 2.05 0 2.83L4 21.41c.39.39.9.59 1.41.59.51 0 1.02-.2 1.41-.59l7.78-7.78 2.81-2.81c.8-.78.8-2.07 0-2.86zM5.41 20L4 18.59l7.72-7.72 1.47 1.35L5.41 20z\"/>\n",
              "  </svg>\n",
              "      </button>\n",
              "      \n",
              "  <style>\n",
              "    .colab-df-container {\n",
              "      display:flex;\n",
              "      flex-wrap:wrap;\n",
              "      gap: 12px;\n",
              "    }\n",
              "\n",
              "    .colab-df-convert {\n",
              "      background-color: #E8F0FE;\n",
              "      border: none;\n",
              "      border-radius: 50%;\n",
              "      cursor: pointer;\n",
              "      display: none;\n",
              "      fill: #1967D2;\n",
              "      height: 32px;\n",
              "      padding: 0 0 0 0;\n",
              "      width: 32px;\n",
              "    }\n",
              "\n",
              "    .colab-df-convert:hover {\n",
              "      background-color: #E2EBFA;\n",
              "      box-shadow: 0px 1px 2px rgba(60, 64, 67, 0.3), 0px 1px 3px 1px rgba(60, 64, 67, 0.15);\n",
              "      fill: #174EA6;\n",
              "    }\n",
              "\n",
              "    [theme=dark] .colab-df-convert {\n",
              "      background-color: #3B4455;\n",
              "      fill: #D2E3FC;\n",
              "    }\n",
              "\n",
              "    [theme=dark] .colab-df-convert:hover {\n",
              "      background-color: #434B5C;\n",
              "      box-shadow: 0px 1px 3px 1px rgba(0, 0, 0, 0.15);\n",
              "      filter: drop-shadow(0px 1px 2px rgba(0, 0, 0, 0.3));\n",
              "      fill: #FFFFFF;\n",
              "    }\n",
              "  </style>\n",
              "\n",
              "      <script>\n",
              "        const buttonEl =\n",
              "          document.querySelector('#df-1b0f3b93-cd3a-46cb-8178-9e2fe4eb5354 button.colab-df-convert');\n",
              "        buttonEl.style.display =\n",
              "          google.colab.kernel.accessAllowed ? 'block' : 'none';\n",
              "\n",
              "        async function convertToInteractive(key) {\n",
              "          const element = document.querySelector('#df-1b0f3b93-cd3a-46cb-8178-9e2fe4eb5354');\n",
              "          const dataTable =\n",
              "            await google.colab.kernel.invokeFunction('convertToInteractive',\n",
              "                                                     [key], {});\n",
              "          if (!dataTable) return;\n",
              "\n",
              "          const docLinkHtml = 'Like what you see? Visit the ' +\n",
              "            '<a target=\"_blank\" href=https://colab.research.google.com/notebooks/data_table.ipynb>data table notebook</a>'\n",
              "            + ' to learn more about interactive tables.';\n",
              "          element.innerHTML = '';\n",
              "          dataTable['output_type'] = 'display_data';\n",
              "          await google.colab.output.renderOutput(dataTable, element);\n",
              "          const docLink = document.createElement('div');\n",
              "          docLink.innerHTML = docLinkHtml;\n",
              "          element.appendChild(docLink);\n",
              "        }\n",
              "      </script>\n",
              "    </div>\n",
              "  </div>\n",
              "  "
            ]
          },
          "metadata": {},
          "execution_count": 43
        }
      ]
    },
    {
      "cell_type": "code",
      "execution_count": 44,
      "id": "d24d9272",
      "metadata": {
        "execution": {
          "iopub.execute_input": "2023-04-20T18:11:03.551719Z",
          "iopub.status.busy": "2023-04-20T18:11:03.551310Z",
          "iopub.status.idle": "2023-04-20T18:11:03.580971Z",
          "shell.execute_reply": "2023-04-20T18:11:03.579491Z"
        },
        "papermill": {
          "duration": 0.039419,
          "end_time": "2023-04-20T18:11:03.584257",
          "exception": false,
          "start_time": "2023-04-20T18:11:03.544838",
          "status": "completed"
        },
        "tags": [],
        "id": "d24d9272"
      },
      "outputs": [],
      "source": [
        "X = df.copy()\n",
        "y = X.pop(\"price\")"
      ]
    },
    {
      "cell_type": "code",
      "source": [
        "# Label encoding for categoricals\n",
        "# Refer: https://stackoverflow.com/a/39390208/3282777\n",
        "#\n",
        "\n",
        "for colname in X.select_dtypes(\"object\"):\n",
        "    X[colname], _ = X[colname].factorize()"
      ],
      "metadata": {
        "id": "UgxIM_646pqF"
      },
      "id": "UgxIM_646pqF",
      "execution_count": 45,
      "outputs": []
    },
    {
      "cell_type": "code",
      "source": [
        "# All discrete features should now have integer dtypes (double-check this before using MI!)\n",
        "discrete_features = X.dtypes == int\n",
        "\n",
        "discrete_features"
      ],
      "metadata": {
        "colab": {
          "base_uri": "https://localhost:8080/"
        },
        "id": "glvabXgU6u5C",
        "outputId": "314acff2-ff5d-4b1f-ccd3-826c44e3f1ec"
      },
      "id": "glvabXgU6u5C",
      "execution_count": 46,
      "outputs": [
        {
          "output_type": "execute_result",
          "data": {
            "text/plain": [
              "symboling             True\n",
              "normalized-losses    False\n",
              "make                  True\n",
              "fuel-type             True\n",
              "aspiration            True\n",
              "num-of-doors          True\n",
              "body-style            True\n",
              "drive-wheels          True\n",
              "engine-location       True\n",
              "wheel-base           False\n",
              "length               False\n",
              "width                False\n",
              "height               False\n",
              "curb-weight           True\n",
              "engine-type           True\n",
              "num-of-cylinders      True\n",
              "engine-size           True\n",
              "fuel-system           True\n",
              "bore                 False\n",
              "stroke               False\n",
              "compression-ratio    False\n",
              "horsepower           False\n",
              "peak-rpm             False\n",
              "city-mpg              True\n",
              "highway-mpg           True\n",
              "dtype: bool"
            ]
          },
          "metadata": {},
          "execution_count": 46
        }
      ]
    },
    {
      "cell_type": "markdown",
      "id": "caf9535a",
      "metadata": {
        "papermill": {
          "duration": 0.00416,
          "end_time": "2023-04-20T18:11:03.593012",
          "exception": false,
          "start_time": "2023-04-20T18:11:03.588852",
          "status": "completed"
        },
        "tags": [],
        "id": "caf9535a"
      },
      "source": [
        "Scikit-learn has two mutual information metrics in its `feature_selection` module: one for real-valued targets (`mutual_info_regression`) and one for categorical targets (`mutual_info_classif`). Our target, `price`, is real-valued. The next cell computes the MI scores for our features and wraps them up in a nice dataframe."
      ]
    },
    {
      "cell_type": "code",
      "execution_count": 47,
      "id": "ec3a008a",
      "metadata": {
        "execution": {
          "iopub.execute_input": "2023-04-20T18:11:03.604106Z",
          "iopub.status.busy": "2023-04-20T18:11:03.603698Z",
          "iopub.status.idle": "2023-04-20T18:11:04.295246Z",
          "shell.execute_reply": "2023-04-20T18:11:04.294143Z"
        },
        "papermill": {
          "duration": 0.700623,
          "end_time": "2023-04-20T18:11:04.298169",
          "exception": false,
          "start_time": "2023-04-20T18:11:03.597546",
          "status": "completed"
        },
        "tags": [],
        "id": "ec3a008a"
      },
      "outputs": [],
      "source": [
        "def make_mi_scores(X, y, discrete_features):\n",
        "    mi_scores = mutual_info_regression(X, y, discrete_features=discrete_features)\n",
        "    mi_scores = pd.Series(mi_scores, name=\"MI Scores\", index=X.columns)\n",
        "    mi_scores = mi_scores.sort_values(ascending=False)\n",
        "    return mi_scores\n",
        "\n"
      ]
    },
    {
      "cell_type": "code",
      "source": [
        "mi_scores = make_mi_scores(X, y, discrete_features)\n",
        "mi_scores[::3]  # show a few features with their MI scores"
      ],
      "metadata": {
        "colab": {
          "base_uri": "https://localhost:8080/"
        },
        "id": "KIizAafjDy7B",
        "outputId": "9a160d5e-608f-4b5d-9e46-1bdfd2b0ea02"
      },
      "id": "KIizAafjDy7B",
      "execution_count": 48,
      "outputs": [
        {
          "output_type": "execute_result",
          "data": {
            "text/plain": [
              "curb-weight          1.423597\n",
              "horsepower           0.874313\n",
              "wheel-base           0.598955\n",
              "fuel-system          0.483948\n",
              "height               0.342150\n",
              "symboling            0.234892\n",
              "compression-ratio    0.163838\n",
              "body-style           0.078350\n",
              "num-of-doors         0.003503\n",
              "Name: MI Scores, dtype: float64"
            ]
          },
          "metadata": {},
          "execution_count": 48
        }
      ]
    },
    {
      "cell_type": "markdown",
      "id": "619a8981",
      "metadata": {
        "papermill": {
          "duration": 0.003988,
          "end_time": "2023-04-20T18:11:04.306750",
          "exception": false,
          "start_time": "2023-04-20T18:11:04.302762",
          "status": "completed"
        },
        "tags": [],
        "id": "619a8981"
      },
      "source": [
        "And now a bar plot to make comparisions easier:"
      ]
    },
    {
      "cell_type": "code",
      "execution_count": null,
      "id": "a4655175",
      "metadata": {
        "execution": {
          "iopub.execute_input": "2023-04-20T18:11:04.318489Z",
          "iopub.status.busy": "2023-04-20T18:11:04.317379Z",
          "iopub.status.idle": "2023-04-20T18:11:04.747414Z",
          "shell.execute_reply": "2023-04-20T18:11:04.746006Z"
        },
        "papermill": {
          "duration": 0.439166,
          "end_time": "2023-04-20T18:11:04.750162",
          "exception": false,
          "start_time": "2023-04-20T18:11:04.310996",
          "status": "completed"
        },
        "tags": [],
        "id": "a4655175"
      },
      "outputs": [],
      "source": [
        "def plot_mi_scores(scores):\n",
        "    scores = scores.sort_values(ascending=True)\n",
        "    width = np.arange(len(scores))\n",
        "    ticks = list(scores.index)\n",
        "    plt.barh(width, scores)\n",
        "    plt.yticks(width, ticks)\n",
        "    plt.title(\"Mutual Information Scores\")\n"
      ]
    },
    {
      "cell_type": "code",
      "source": [
        "plt.figure(dpi=100, figsize=(8, 5))\n",
        "plot_mi_scores(mi_scores)"
      ],
      "metadata": {
        "colab": {
          "base_uri": "https://localhost:8080/",
          "height": 479
        },
        "id": "44uAaeaVPgWM",
        "outputId": "5c02e1d0-0b40-42c8-dcb8-6262d9447353"
      },
      "id": "44uAaeaVPgWM",
      "execution_count": 52,
      "outputs": [
        {
          "output_type": "execute_result",
          "data": {
            "text/plain": [
              "<Figure size 800x500 with 0 Axes>"
            ]
          },
          "metadata": {},
          "execution_count": 52
        },
        {
          "output_type": "display_data",
          "data": {
            "text/plain": [
              "<Figure size 800x500 with 1 Axes>"
            ],
            "image/png": "[encoded data removed]"
          },
          "metadata": {}
        }
      ]
    },
    {
      "cell_type": "markdown",
      "id": "681e2ebe",
      "metadata": {
        "papermill": {
          "duration": 0.004686,
          "end_time": "2023-04-20T18:11:04.760156",
          "exception": false,
          "start_time": "2023-04-20T18:11:04.755470",
          "status": "completed"
        },
        "tags": [],
        "id": "681e2ebe"
      },
      "source": [
        "Data visualization is a great follow-up to a utility ranking. Let's take a closer look at a couple of these.\n",
        "\n",
        "As we might expect, the high-scoring `curb_weight` feature exhibits a strong relationship with `price`, the target.\n"
      ]
    },
    {
      "cell_type": "code",
      "source": [
        "X.columns"
      ],
      "metadata": {
        "colab": {
          "base_uri": "https://localhost:8080/"
        },
        "id": "0WP1WgW_PxuE",
        "outputId": "89435482-89d0-4fb0-81e4-2f73b4828f2d"
      },
      "id": "0WP1WgW_PxuE",
      "execution_count": 54,
      "outputs": [
        {
          "output_type": "execute_result",
          "data": {
            "text/plain": [
              "Index(['symboling', 'normalized-losses', 'make', 'fuel-type', 'aspiration',\n",
              "       'num-of-doors', 'body-style', 'drive-wheels', 'engine-location',\n",
              "       'wheel-base', 'length', 'width', 'height', 'curb-weight', 'engine-type',\n",
              "       'num-of-cylinders', 'engine-size', 'fuel-system', 'bore', 'stroke',\n",
              "       'compression-ratio', 'horsepower', 'peak-rpm', 'city-mpg',\n",
              "       'highway-mpg'],\n",
              "      dtype='object')"
            ]
          },
          "metadata": {},
          "execution_count": 54
        }
      ]
    },
    {
      "cell_type": "code",
      "execution_count": 56,
      "id": "81c399ed",
      "metadata": {
        "execution": {
          "iopub.execute_input": "2023-04-20T18:11:04.772783Z",
          "iopub.status.busy": "2023-04-20T18:11:04.771629Z",
          "iopub.status.idle": "2023-04-20T18:11:05.154130Z",
          "shell.execute_reply": "2023-04-20T18:11:05.152673Z"
        },
        "papermill": {
          "duration": 0.39179,
          "end_time": "2023-04-20T18:11:05.156933",
          "exception": false,
          "start_time": "2023-04-20T18:11:04.765143",
          "status": "completed"
        },
        "tags": [],
        "colab": {
          "base_uri": "https://localhost:8080/",
          "height": 507
        },
        "id": "81c399ed",
        "outputId": "66f151dc-3c44-4099-c2fe-8ceb2f4f98ab"
      },
      "outputs": [
        {
          "output_type": "display_data",
          "data": {
            "text/plain": [
              "<Figure size 500x500 with 1 Axes>"
            ],
            "image/png": "[encoded data removed]"
          },
          "metadata": {}
        }
      ],
      "source": [
        "sns.relplot(x=\"curb-weight\", y=y, data=X);"
      ]
    },
    {
      "cell_type": "markdown",
      "id": "36989c35",
      "metadata": {
        "papermill": {
          "duration": 0.005616,
          "end_time": "2023-04-20T18:11:05.168499",
          "exception": false,
          "start_time": "2023-04-20T18:11:05.162883",
          "status": "completed"
        },
        "tags": [],
        "id": "36989c35"
      },
      "source": [
        "The `fuel_type` feature has a fairly low MI score, but as we can see from the figure, it clearly separates two `price` populations with different trends within the `horsepower` feature. This indicates that `fuel_type` contributes an interaction effect and might not be unimportant after all. Before deciding a feature is unimportant from its MI score, it's good to investigate any possible interaction effects -- domain knowledge can offer a lot of guidance here."
      ]
    },
    {
      "cell_type": "code",
      "source": [
        "X['price'] = y"
      ],
      "metadata": {
        "id": "H57XfAa_R-Vr"
      },
      "id": "H57XfAa_R-Vr",
      "execution_count": 61,
      "outputs": []
    },
    {
      "cell_type": "code",
      "source": [
        "X.dtypes"
      ],
      "metadata": {
        "colab": {
          "base_uri": "https://localhost:8080/"
        },
        "id": "hKbXJyJ9SDDm",
        "outputId": "53fb5dc4-2cae-4b76-eb38-c6049fbf699d"
      },
      "id": "hKbXJyJ9SDDm",
      "execution_count": 63,
      "outputs": [
        {
          "output_type": "execute_result",
          "data": {
            "text/plain": [
              "symboling              int64\n",
              "normalized-losses    float64\n",
              "make                   int64\n",
              "fuel-type              int64\n",
              "aspiration             int64\n",
              "num-of-doors           int64\n",
              "body-style             int64\n",
              "drive-wheels           int64\n",
              "engine-location        int64\n",
              "wheel-base           float64\n",
              "length               float64\n",
              "width                float64\n",
              "height               float64\n",
              "curb-weight            int64\n",
              "engine-type            int64\n",
              "num-of-cylinders       int64\n",
              "engine-size            int64\n",
              "fuel-system            int64\n",
              "bore                 float64\n",
              "stroke               float64\n",
              "compression-ratio    float64\n",
              "horsepower           float64\n",
              "peak-rpm             float64\n",
              "city-mpg               int64\n",
              "highway-mpg            int64\n",
              "price                float64\n",
              "dtype: object"
            ]
          },
          "metadata": {},
          "execution_count": 63
        }
      ]
    },
    {
      "cell_type": "code",
      "execution_count": 65,
      "id": "2a194eec",
      "metadata": {
        "execution": {
          "iopub.execute_input": "2023-04-20T18:11:05.182348Z",
          "iopub.status.busy": "2023-04-20T18:11:05.181914Z",
          "iopub.status.idle": "2023-04-20T18:11:05.788784Z",
          "shell.execute_reply": "2023-04-20T18:11:05.787484Z"
        },
        "papermill": {
          "duration": 0.617121,
          "end_time": "2023-04-20T18:11:05.791425",
          "exception": false,
          "start_time": "2023-04-20T18:11:05.174304",
          "status": "completed"
        },
        "tags": [],
        "colab": {
          "base_uri": "https://localhost:8080/",
          "height": 506
        },
        "id": "2a194eec",
        "outputId": "5c9413a3-6577-42be-91bd-221c28b8c467"
      },
      "outputs": [
        {
          "output_type": "display_data",
          "data": {
            "text/plain": [
              "<Figure size 564.611x500 with 1 Axes>"
            ],
            "image/png": "[encoded data removed]"
          },
          "metadata": {}
        }
      ],
      "source": [
        "sns.lmplot(x=\"horsepower\", y= \"price\", hue=\"fuel-type\", data= X);"
      ]
    },
    {
      "cell_type": "markdown",
      "id": "9058c827",
      "metadata": {
        "papermill": {
          "duration": 0.006664,
          "end_time": "2023-04-20T18:11:05.805171",
          "exception": false,
          "start_time": "2023-04-20T18:11:05.798507",
          "status": "completed"
        },
        "tags": [],
        "id": "9058c827"
      },
      "source": [
        "Data visualization is a great addition to your feature-engineering toolbox. Along with utility metrics like mutual information, visualizations like these can help you discover important relationships in your data. Check out our [Data Visualization](https://www.kaggle.com/learn/data-visualization) course to learn more!\n",
        "\n",
        "# Your Turn #\n",
        "\n",
        "[**Rank the features**](https://www.kaggle.com/kernels/fork/14393925) of the *Ames Housing* dataset and choose your first set of features to start developing."
      ]
    },
    {
      "cell_type": "markdown",
      "id": "d0ec7928",
      "metadata": {
        "papermill": {
          "duration": 0.006522,
          "end_time": "2023-04-20T18:11:05.818590",
          "exception": false,
          "start_time": "2023-04-20T18:11:05.812068",
          "status": "completed"
        },
        "tags": [],
        "id": "d0ec7928"
      },
      "source": [
        "---\n",
        "\n",
        "\n",
        "\n",
        "\n",
        "*Have questions or comments? Visit the [course discussion forum](https://www.kaggle.com/learn/feature-engineering/discussion) to chat with other learners.*"
      ]
    }
  ],
  "metadata": {
    "jupytext": {
      "cell_metadata_filter": "-all",
      "formats": "ipynb"
    },
    "kernelspec": {
      "display_name": "Python 3",
      "language": "python",
      "name": "python3"
    },
    "language_info": {
      "codemirror_mode": {
        "name": "ipython",
        "version": 3
      },
      "file_extension": ".py",
      "mimetype": "text/x-python",
      "name": "python",
      "nbconvert_exporter": "python",
      "pygments_lexer": "ipython3",
      "version": "3.7.12"
    },
    "papermill": {
      "default_parameters": {},
      "duration": 15.766581,
      "end_time": "2023-04-20T18:11:06.649276",
      "environment_variables": {},
      "exception": null,
      "input_path": "__notebook__.ipynb",
      "output_path": "__notebook__.ipynb",
      "parameters": {},
      "start_time": "2023-04-20T18:10:50.882695",
      "version": "2.4.0"
    },
    "colab": {
      "provenance": [],
      "include_colab_link": true
    }
  },
  "nbformat": 4,
  "nbformat_minor": 5
}