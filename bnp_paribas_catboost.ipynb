{
  "nbformat": 4,
  "nbformat_minor": 0,
  "metadata": {
    "colab": {
      "name": "bnp_paribas_catboost.ipynb",
      "provenance": [],
      "collapsed_sections": [],
      "mount_file_id": "1WdHVvp7SlJBiewOWt40mA6aN01k2VfTW",
      "authorship_tag": "ABX9TyMJ6yrS1WhZx+P0YjJKHAA7",
      "include_colab_link": true
    },
    "kernelspec": {
      "name": "python3",
      "display_name": "Python 3"
    },
    "language_info": {
      "name": "python"
    }
  },
  "cells": [
    {
      "cell_type": "markdown",
      "metadata": {
        "id": "view-in-github",
        "colab_type": "text"
      },
      "source": [
        "<a href=\"https://colab.research.google.com/github/harnalashok/classification/blob/main/bnp_paribas_catboost.ipynb\" target=\"_parent\"><img src=\"https://colab.research.google.com/assets/colab-badge.svg\" alt=\"Open In Colab\"/></a>"
      ]
    },
    {
      "cell_type": "code",
      "metadata": {
        "id": "CPJunTvKWkCj"
      },
      "source": [
        "\"\"\"\n",
        "Last amended: 27th July, 2021\n",
        "My folder: C:\\Users\\ashok\\OneDrive\\Documents\\bnp_paribas_insurance\n",
        "           /home/ashok/Documents/bnp_paribas_insurance/\n",
        "Ref:\n",
        "    Kaggle problem: https://www.kaggle.com/c/bnp-paribas-cardif-claims-management\n",
        "    https://github.com/catboost/tutorials/blob/master/advanced_tutorials/kaggle_paribas.ipynb\n",
        "\n",
        "Evaluation:\n",
        "    logloss\n",
        "    https://www.kaggle.com/c/bnp-paribas-cardif-claims-management#evaluation\n",
        "\n",
        "Objectives:\n",
        "    i)   Learn to work with catboost\n",
        "    ii)  Plotting missingvalues graphs\n",
        "            a. Matrix plots\n",
        "            b. Heatmap/correlation plots\n",
        "            c. dendogram plots\n",
        "    ii)  Plotting ROC curve in python\n",
        "    iii) Feature importance\n",
        "    iv)  Grid search--parameter tuning\n",
        "\n",
        "\"\"\"\n"
      ],
      "execution_count": null,
      "outputs": []
    },
    {
      "cell_type": "code",
      "metadata": {
        "id": "RZ9tPu1nZFfw",
        "colab": {
          "base_uri": "https://localhost:8080/"
        },
        "outputId": "d3f99cb0-4438-4ca1-99bb-209889e2438b"
      },
      "source": [
        "! pip install catboost"
      ],
      "execution_count": 1,
      "outputs": [
        {
          "output_type": "stream",
          "text": [
            "Collecting catboost\n",
            "  Downloading catboost-0.26-cp37-none-manylinux1_x86_64.whl (69.2 MB)\n",
            "\u001b[K     |████████████████████████████████| 69.2 MB 4.8 kB/s \n",
            "\u001b[?25hRequirement already satisfied: numpy>=1.16.0 in /usr/local/lib/python3.7/dist-packages (from catboost) (1.19.5)\n",
            "Requirement already satisfied: scipy in /usr/local/lib/python3.7/dist-packages (from catboost) (1.4.1)\n",
            "Requirement already satisfied: plotly in /usr/local/lib/python3.7/dist-packages (from catboost) (4.4.1)\n",
            "Requirement already satisfied: graphviz in /usr/local/lib/python3.7/dist-packages (from catboost) (0.10.1)\n",
            "Requirement already satisfied: six in /usr/local/lib/python3.7/dist-packages (from catboost) (1.15.0)\n",
            "Requirement already satisfied: pandas>=0.24.0 in /usr/local/lib/python3.7/dist-packages (from catboost) (1.1.5)\n",
            "Requirement already satisfied: matplotlib in /usr/local/lib/python3.7/dist-packages (from catboost) (3.2.2)\n",
            "Requirement already satisfied: python-dateutil>=2.7.3 in /usr/local/lib/python3.7/dist-packages (from pandas>=0.24.0->catboost) (2.8.1)\n",
            "Requirement already satisfied: pytz>=2017.2 in /usr/local/lib/python3.7/dist-packages (from pandas>=0.24.0->catboost) (2018.9)\n",
            "Requirement already satisfied: pyparsing!=2.0.4,!=2.1.2,!=2.1.6,>=2.0.1 in /usr/local/lib/python3.7/dist-packages (from matplotlib->catboost) (2.4.7)\n",
            "Requirement already satisfied: kiwisolver>=1.0.1 in /usr/local/lib/python3.7/dist-packages (from matplotlib->catboost) (1.3.1)\n",
            "Requirement already satisfied: cycler>=0.10 in /usr/local/lib/python3.7/dist-packages (from matplotlib->catboost) (0.10.0)\n",
            "Requirement already satisfied: retrying>=1.3.3 in /usr/local/lib/python3.7/dist-packages (from plotly->catboost) (1.3.3)\n",
            "Installing collected packages: catboost\n",
            "Successfully installed catboost-0.26\n"
          ],
          "name": "stdout"
        }
      ]
    },
    {
      "cell_type": "code",
      "metadata": {
        "id": "2waN9FWMXD6p"
      },
      "source": [
        "# 1.0 Call libraries\n",
        "#%reset -f\n",
        "import pandas as pd        # Data manipulation\n",
        "import numpy as np         # Array manipulation\n",
        "\n",
        "# 1.1 Modeling libraries\n",
        "from sklearn.model_selection import train_test_split\n",
        "# 1.1.1 For parameter-search over grid\n",
        "from sklearn.model_selection import GridSearchCV\n",
        "# conda install -c conda-forge catboost \n",
        "from catboost import CatBoostClassifier   # For classification\n",
        "from catboost import Pool                 # Pool is catboost's internal data structure\n",
        "\n",
        "# 1.2 Model performance\n",
        "from sklearn.metrics import confusion_matrix\n",
        "from sklearn import metrics\n",
        "\n",
        "# 1.3 For plotting\n",
        "# conda install -c conda-forge scikit-plot\n",
        "from sklearn.metrics import roc_curve\n",
        "#import scikitplot as skplt      # For roc graphs\n",
        "import matplotlib.pyplot as plt\n",
        "import seaborn as sns\n",
        "\n",
        "# 1.4 Plot missing values\n",
        "#     Ref: https://github.com/ResidentMario/missingno\n",
        "#     pip install missingno\n",
        "import missingno as msno      # For missing plots\n",
        "\n",
        "\n",
        "# 1.5 Misc\n",
        "import os\n",
        "import time\n",
        "import gc"
      ],
      "execution_count": 2,
      "outputs": []
    },
    {
      "cell_type": "code",
      "metadata": {
        "id": "_9tCjEQQeKos"
      },
      "source": [
        "# \n",
        "from IPython.core.interactiveshell import InteractiveShell\n",
        "InteractiveShell.ast_node_interactivity = \"all\"\n"
      ],
      "execution_count": 3,
      "outputs": []
    },
    {
      "cell_type": "code",
      "metadata": {
        "colab": {
          "base_uri": "https://localhost:8080/"
        },
        "id": "nugrWxl5btFx",
        "outputId": "176e1337-e04e-4467-8686-65bfc2d95b7e"
      },
      "source": [
        "from google.colab import drive\n",
        "drive.mount('/gdrive')"
      ],
      "execution_count": 4,
      "outputs": [
        {
          "output_type": "stream",
          "text": [
            "Mounted at /gdrive\n"
          ],
          "name": "stdout"
        }
      ]
    },
    {
      "cell_type": "code",
      "metadata": {
        "id": "ogDwHWGnbwdV"
      },
      "source": [
        "filePath = \"/gdrive/MyDrive/bnp_paribas\"\n",
        "# 2.0 Change working directory and read file\n",
        "os.chdir(filePath)\n",
        "#os.chdir(\"C:/Users/ashok/OneDrive/Documents/bnp_paribas_insurance\")\n",
        "# 2.1\n",
        "train_df = pd.read_csv('train.csv.zip')"
      ],
      "execution_count": 40,
      "outputs": []
    },
    {
      "cell_type": "code",
      "metadata": {
        "id": "Y-87NQ7ccYBL",
        "colab": {
          "base_uri": "https://localhost:8080/"
        },
        "outputId": "037dfa15-afd4-4e79-db70-c3f64fa6ca57"
      },
      "source": [
        "# 2.2 Explore data\n",
        "print(train_df.shape)          # 114321, 133\n",
        "print()\n",
        "print(train_df.columns)        # Column names\n",
        "print()\n",
        "print(train_df.dtypes)         # Column types\n",
        "print()\n",
        "# 2.3 Count of different dtypes\n",
        "#     float64: 138, object: 19, int64: 6\n",
        "train_df.dtypes.value_counts()\n",
        "# Memory usage\n",
        "print()\n",
        "print(train_df.memory_usage().sum())  # 121637672 = 121mb"
      ],
      "execution_count": 41,
      "outputs": [
        {
          "output_type": "stream",
          "text": [
            "(114321, 133)\n",
            "\n",
            "Index(['ID', 'target', 'v1', 'v2', 'v3', 'v4', 'v5', 'v6', 'v7', 'v8',\n",
            "       ...\n",
            "       'v122', 'v123', 'v124', 'v125', 'v126', 'v127', 'v128', 'v129', 'v130',\n",
            "       'v131'],\n",
            "      dtype='object', length=133)\n",
            "\n",
            "ID          int64\n",
            "target      int64\n",
            "v1        float64\n",
            "v2        float64\n",
            "v3         object\n",
            "           ...   \n",
            "v127      float64\n",
            "v128      float64\n",
            "v129        int64\n",
            "v130      float64\n",
            "v131      float64\n",
            "Length: 133, dtype: object\n",
            "\n"
          ],
          "name": "stdout"
        },
        {
          "output_type": "execute_result",
          "data": {
            "text/plain": [
              "float64    108\n",
              "object      19\n",
              "int64        6\n",
              "dtype: int64"
            ]
          },
          "metadata": {
            "tags": []
          },
          "execution_count": 41
        },
        {
          "output_type": "stream",
          "text": [
            "\n",
            "121637672\n"
          ],
          "name": "stdout"
        }
      ]
    },
    {
      "cell_type": "code",
      "metadata": {
        "id": "EREHDVU3hA84",
        "colab": {
          "base_uri": "https://localhost:8080/"
        },
        "outputId": "61165b8b-c782-40c5-a36b-3a3a915991fb"
      },
      "source": [
        "train_df['target'].value_counts()"
      ],
      "execution_count": 42,
      "outputs": [
        {
          "output_type": "execute_result",
          "data": {
            "text/plain": [
              "1    87021\n",
              "0    27300\n",
              "Name: target, dtype: int64"
            ]
          },
          "metadata": {
            "tags": []
          },
          "execution_count": 42
        }
      ]
    },
    {
      "cell_type": "code",
      "metadata": {
        "id": "6dwNabXUfJiJ",
        "colab": {
          "base_uri": "https://localhost:8080/"
        },
        "outputId": "c7d4bd29-90bb-4168-a7de-906e9b05f828"
      },
      "source": [
        "df = train_df.select_dtypes(include = ['float64'])\n",
        "print(df.max().max())\n",
        "print(df.min().min())"
      ],
      "execution_count": 43,
      "outputs": [
        {
          "output_type": "stream",
          "text": [
            "20.0000009996\n",
            "-9.99993198897e-07\n"
          ],
          "name": "stdout"
        }
      ]
    },
    {
      "cell_type": "code",
      "metadata": {
        "id": "diIaKcord46u",
        "colab": {
          "base_uri": "https://localhost:8080/"
        },
        "outputId": "3b14f303-3dd0-4b30-e78c-b7ceccfcf66c"
      },
      "source": [
        "# StackOverFlow: https://stackoverflow.com/a/1658752\n",
        "print(np.finfo('float64'))\n",
        "print(np.finfo('float32'))"
      ],
      "execution_count": 44,
      "outputs": [
        {
          "output_type": "stream",
          "text": [
            "Machine parameters for float64\n",
            "---------------------------------------------------------------\n",
            "precision =  15   resolution = 1.0000000000000001e-15\n",
            "machep =    -52   eps =        2.2204460492503131e-16\n",
            "negep =     -53   epsneg =     1.1102230246251565e-16\n",
            "minexp =  -1022   tiny =       2.2250738585072014e-308\n",
            "maxexp =   1024   max =        1.7976931348623157e+308\n",
            "nexp =       11   min =        -max\n",
            "---------------------------------------------------------------\n",
            "\n",
            "Machine parameters for float32\n",
            "---------------------------------------------------------------\n",
            "precision =   6   resolution = 1.0000000e-06\n",
            "machep =    -23   eps =        1.1920929e-07\n",
            "negep =     -24   epsneg =     5.9604645e-08\n",
            "minexp =   -126   tiny =       1.1754944e-38\n",
            "maxexp =    128   max =        3.4028235e+38\n",
            "nexp =        8   min =        -max\n",
            "---------------------------------------------------------------\n",
            "\n"
          ],
          "name": "stdout"
        }
      ]
    },
    {
      "cell_type": "code",
      "metadata": {
        "id": "uoAQBCJOfsoE",
        "colab": {
          "base_uri": "https://localhost:8080/"
        },
        "outputId": "7c3f3d01-304d-44db-bc7f-61f185d5bc78"
      },
      "source": [
        "df = train_df.select_dtypes(include = ['int64'])\n",
        "print(df.max().max())\n",
        "print(df.min().min())\n",
        "int_cols = df.columns\n",
        "int_cols"
      ],
      "execution_count": 45,
      "outputs": [
        {
          "output_type": "stream",
          "text": [
            "228713\n",
            "0\n"
          ],
          "name": "stdout"
        },
        {
          "output_type": "execute_result",
          "data": {
            "text/plain": [
              "Index(['ID', 'target', 'v38', 'v62', 'v72', 'v129'], dtype='object')"
            ]
          },
          "metadata": {
            "tags": []
          },
          "execution_count": 45
        }
      ]
    },
    {
      "cell_type": "code",
      "metadata": {
        "id": "G7gy4Q1pga3w",
        "colab": {
          "base_uri": "https://localhost:8080/"
        },
        "outputId": "3891828c-59d3-4a9f-f2da-2ddbdd0dcb5f"
      },
      "source": [
        "print(np.iinfo('int64'))\n",
        "print(np.iinfo('int32'))\n",
        "print(np.iinfo('int16'))"
      ],
      "execution_count": 46,
      "outputs": [
        {
          "output_type": "stream",
          "text": [
            "Machine parameters for int64\n",
            "---------------------------------------------------------------\n",
            "min = -9223372036854775808\n",
            "max = 9223372036854775807\n",
            "---------------------------------------------------------------\n",
            "\n",
            "Machine parameters for int32\n",
            "---------------------------------------------------------------\n",
            "min = -2147483648\n",
            "max = 2147483647\n",
            "---------------------------------------------------------------\n",
            "\n",
            "Machine parameters for int16\n",
            "---------------------------------------------------------------\n",
            "min = -32768\n",
            "max = 32767\n",
            "---------------------------------------------------------------\n",
            "\n"
          ],
          "name": "stdout"
        }
      ]
    },
    {
      "cell_type": "code",
      "metadata": {
        "id": "xKQGB10rgia8",
        "colab": {
          "base_uri": "https://localhost:8080/"
        },
        "outputId": "07a297f8-0684-45b2-c283-eca13d4b9b10"
      },
      "source": [
        "train_df[int_cols] = train_df[int_cols].astype('int16')\n",
        "train_df.dtypes.value_counts()\n",
        "print()\n",
        "print(train_df.memory_usage().sum())  # 117522116 = 117mb"
      ],
      "execution_count": 47,
      "outputs": [
        {
          "output_type": "execute_result",
          "data": {
            "text/plain": [
              "float64    108\n",
              "object      19\n",
              "int16        6\n",
              "dtype: int64"
            ]
          },
          "metadata": {
            "tags": []
          },
          "execution_count": 47
        },
        {
          "output_type": "stream",
          "text": [
            "\n",
            "117522116\n"
          ],
          "name": "stdout"
        }
      ]
    },
    {
      "cell_type": "code",
      "metadata": {
        "colab": {
          "base_uri": "https://localhost:8080/",
          "height": 708
        },
        "id": "m4Q7cOKwicB0",
        "outputId": "33fa2ba6-1129-40d4-ab99-d31b12ebdc85"
      },
      "source": [
        "# 2.4.1 Just look at data upto IInd index\n",
        "train_df.loc[:20 , train_df.dtypes == \"object\"]  # All have char data"
      ],
      "execution_count": 48,
      "outputs": [
        {
          "output_type": "execute_result",
          "data": {
            "text/html": [
              "<div>\n",
              "<style scoped>\n",
              "    .dataframe tbody tr th:only-of-type {\n",
              "        vertical-align: middle;\n",
              "    }\n",
              "\n",
              "    .dataframe tbody tr th {\n",
              "        vertical-align: top;\n",
              "    }\n",
              "\n",
              "    .dataframe thead th {\n",
              "        text-align: right;\n",
              "    }\n",
              "</style>\n",
              "<table border=\"1\" class=\"dataframe\">\n",
              "  <thead>\n",
              "    <tr style=\"text-align: right;\">\n",
              "      <th></th>\n",
              "      <th>v3</th>\n",
              "      <th>v22</th>\n",
              "      <th>v24</th>\n",
              "      <th>v30</th>\n",
              "      <th>v31</th>\n",
              "      <th>v47</th>\n",
              "      <th>v52</th>\n",
              "      <th>v56</th>\n",
              "      <th>v66</th>\n",
              "      <th>v71</th>\n",
              "      <th>v74</th>\n",
              "      <th>v75</th>\n",
              "      <th>v79</th>\n",
              "      <th>v91</th>\n",
              "      <th>v107</th>\n",
              "      <th>v110</th>\n",
              "      <th>v112</th>\n",
              "      <th>v113</th>\n",
              "      <th>v125</th>\n",
              "    </tr>\n",
              "  </thead>\n",
              "  <tbody>\n",
              "    <tr>\n",
              "      <th>0</th>\n",
              "      <td>C</td>\n",
              "      <td>XDX</td>\n",
              "      <td>C</td>\n",
              "      <td>C</td>\n",
              "      <td>A</td>\n",
              "      <td>C</td>\n",
              "      <td>G</td>\n",
              "      <td>DI</td>\n",
              "      <td>C</td>\n",
              "      <td>F</td>\n",
              "      <td>B</td>\n",
              "      <td>D</td>\n",
              "      <td>E</td>\n",
              "      <td>A</td>\n",
              "      <td>E</td>\n",
              "      <td>B</td>\n",
              "      <td>O</td>\n",
              "      <td>NaN</td>\n",
              "      <td>AU</td>\n",
              "    </tr>\n",
              "    <tr>\n",
              "      <th>1</th>\n",
              "      <td>C</td>\n",
              "      <td>GUV</td>\n",
              "      <td>C</td>\n",
              "      <td>C</td>\n",
              "      <td>A</td>\n",
              "      <td>E</td>\n",
              "      <td>G</td>\n",
              "      <td>DY</td>\n",
              "      <td>A</td>\n",
              "      <td>F</td>\n",
              "      <td>B</td>\n",
              "      <td>D</td>\n",
              "      <td>D</td>\n",
              "      <td>B</td>\n",
              "      <td>B</td>\n",
              "      <td>A</td>\n",
              "      <td>U</td>\n",
              "      <td>G</td>\n",
              "      <td>AF</td>\n",
              "    </tr>\n",
              "    <tr>\n",
              "      <th>2</th>\n",
              "      <td>C</td>\n",
              "      <td>FQ</td>\n",
              "      <td>E</td>\n",
              "      <td>NaN</td>\n",
              "      <td>A</td>\n",
              "      <td>C</td>\n",
              "      <td>F</td>\n",
              "      <td>AS</td>\n",
              "      <td>A</td>\n",
              "      <td>B</td>\n",
              "      <td>B</td>\n",
              "      <td>B</td>\n",
              "      <td>E</td>\n",
              "      <td>G</td>\n",
              "      <td>C</td>\n",
              "      <td>B</td>\n",
              "      <td>S</td>\n",
              "      <td>NaN</td>\n",
              "      <td>AE</td>\n",
              "    </tr>\n",
              "    <tr>\n",
              "      <th>3</th>\n",
              "      <td>C</td>\n",
              "      <td>ACUE</td>\n",
              "      <td>D</td>\n",
              "      <td>C</td>\n",
              "      <td>B</td>\n",
              "      <td>C</td>\n",
              "      <td>H</td>\n",
              "      <td>BW</td>\n",
              "      <td>A</td>\n",
              "      <td>F</td>\n",
              "      <td>B</td>\n",
              "      <td>D</td>\n",
              "      <td>B</td>\n",
              "      <td>B</td>\n",
              "      <td>B</td>\n",
              "      <td>B</td>\n",
              "      <td>J</td>\n",
              "      <td>NaN</td>\n",
              "      <td>CJ</td>\n",
              "    </tr>\n",
              "    <tr>\n",
              "      <th>4</th>\n",
              "      <td>C</td>\n",
              "      <td>HIT</td>\n",
              "      <td>E</td>\n",
              "      <td>NaN</td>\n",
              "      <td>A</td>\n",
              "      <td>I</td>\n",
              "      <td>H</td>\n",
              "      <td>NaN</td>\n",
              "      <td>C</td>\n",
              "      <td>F</td>\n",
              "      <td>B</td>\n",
              "      <td>D</td>\n",
              "      <td>C</td>\n",
              "      <td>G</td>\n",
              "      <td>C</td>\n",
              "      <td>A</td>\n",
              "      <td>T</td>\n",
              "      <td>G</td>\n",
              "      <td>Z</td>\n",
              "    </tr>\n",
              "    <tr>\n",
              "      <th>5</th>\n",
              "      <td>C</td>\n",
              "      <td>AYX</td>\n",
              "      <td>A</td>\n",
              "      <td>NaN</td>\n",
              "      <td>A</td>\n",
              "      <td>I</td>\n",
              "      <td>K</td>\n",
              "      <td>DX</td>\n",
              "      <td>A</td>\n",
              "      <td>F</td>\n",
              "      <td>B</td>\n",
              "      <td>D</td>\n",
              "      <td>I</td>\n",
              "      <td>G</td>\n",
              "      <td>C</td>\n",
              "      <td>A</td>\n",
              "      <td>D</td>\n",
              "      <td>X</td>\n",
              "      <td>X</td>\n",
              "    </tr>\n",
              "    <tr>\n",
              "      <th>6</th>\n",
              "      <td>C</td>\n",
              "      <td>NFD</td>\n",
              "      <td>E</td>\n",
              "      <td>G</td>\n",
              "      <td>A</td>\n",
              "      <td>C</td>\n",
              "      <td>A</td>\n",
              "      <td>AS</td>\n",
              "      <td>A</td>\n",
              "      <td>F</td>\n",
              "      <td>B</td>\n",
              "      <td>D</td>\n",
              "      <td>E</td>\n",
              "      <td>B</td>\n",
              "      <td>B</td>\n",
              "      <td>B</td>\n",
              "      <td>I</td>\n",
              "      <td>NaN</td>\n",
              "      <td>BJ</td>\n",
              "    </tr>\n",
              "    <tr>\n",
              "      <th>7</th>\n",
              "      <td>C</td>\n",
              "      <td>AHBW</td>\n",
              "      <td>D</td>\n",
              "      <td>C</td>\n",
              "      <td>A</td>\n",
              "      <td>I</td>\n",
              "      <td>C</td>\n",
              "      <td>DP</td>\n",
              "      <td>C</td>\n",
              "      <td>F</td>\n",
              "      <td>B</td>\n",
              "      <td>D</td>\n",
              "      <td>C</td>\n",
              "      <td>A</td>\n",
              "      <td>E</td>\n",
              "      <td>A</td>\n",
              "      <td>F</td>\n",
              "      <td>M</td>\n",
              "      <td>BY</td>\n",
              "    </tr>\n",
              "    <tr>\n",
              "      <th>8</th>\n",
              "      <td>NaN</td>\n",
              "      <td>GKQ</td>\n",
              "      <td>E</td>\n",
              "      <td>NaN</td>\n",
              "      <td>NaN</td>\n",
              "      <td>D</td>\n",
              "      <td>H</td>\n",
              "      <td>AF</td>\n",
              "      <td>B</td>\n",
              "      <td>B</td>\n",
              "      <td>B</td>\n",
              "      <td>B</td>\n",
              "      <td>P</td>\n",
              "      <td>C</td>\n",
              "      <td>D</td>\n",
              "      <td>C</td>\n",
              "      <td>L</td>\n",
              "      <td>NaN</td>\n",
              "      <td>S</td>\n",
              "    </tr>\n",
              "    <tr>\n",
              "      <th>9</th>\n",
              "      <td>C</td>\n",
              "      <td>PYF</td>\n",
              "      <td>C</td>\n",
              "      <td>C</td>\n",
              "      <td>A</td>\n",
              "      <td>I</td>\n",
              "      <td>A</td>\n",
              "      <td>NaN</td>\n",
              "      <td>A</td>\n",
              "      <td>F</td>\n",
              "      <td>B</td>\n",
              "      <td>D</td>\n",
              "      <td>C</td>\n",
              "      <td>A</td>\n",
              "      <td>E</td>\n",
              "      <td>A</td>\n",
              "      <td>J</td>\n",
              "      <td>P</td>\n",
              "      <td>E</td>\n",
              "    </tr>\n",
              "    <tr>\n",
              "      <th>10</th>\n",
              "      <td>C</td>\n",
              "      <td>GEH</td>\n",
              "      <td>E</td>\n",
              "      <td>D</td>\n",
              "      <td>A</td>\n",
              "      <td>I</td>\n",
              "      <td>E</td>\n",
              "      <td>CY</td>\n",
              "      <td>A</td>\n",
              "      <td>F</td>\n",
              "      <td>B</td>\n",
              "      <td>D</td>\n",
              "      <td>C</td>\n",
              "      <td>F</td>\n",
              "      <td>A</td>\n",
              "      <td>A</td>\n",
              "      <td>F</td>\n",
              "      <td>X</td>\n",
              "      <td>AR</td>\n",
              "    </tr>\n",
              "    <tr>\n",
              "      <th>11</th>\n",
              "      <td>C</td>\n",
              "      <td>ABQS</td>\n",
              "      <td>D</td>\n",
              "      <td>G</td>\n",
              "      <td>A</td>\n",
              "      <td>C</td>\n",
              "      <td>A</td>\n",
              "      <td>AW</td>\n",
              "      <td>C</td>\n",
              "      <td>F</td>\n",
              "      <td>B</td>\n",
              "      <td>D</td>\n",
              "      <td>E</td>\n",
              "      <td>A</td>\n",
              "      <td>E</td>\n",
              "      <td>B</td>\n",
              "      <td>M</td>\n",
              "      <td>NaN</td>\n",
              "      <td>AM</td>\n",
              "    </tr>\n",
              "    <tr>\n",
              "      <th>12</th>\n",
              "      <td>C</td>\n",
              "      <td>QKP</td>\n",
              "      <td>E</td>\n",
              "      <td>NaN</td>\n",
              "      <td>A</td>\n",
              "      <td>I</td>\n",
              "      <td>H</td>\n",
              "      <td>BW</td>\n",
              "      <td>C</td>\n",
              "      <td>F</td>\n",
              "      <td>B</td>\n",
              "      <td>D</td>\n",
              "      <td>C</td>\n",
              "      <td>G</td>\n",
              "      <td>C</td>\n",
              "      <td>A</td>\n",
              "      <td>T</td>\n",
              "      <td>P</td>\n",
              "      <td>Z</td>\n",
              "    </tr>\n",
              "    <tr>\n",
              "      <th>13</th>\n",
              "      <td>C</td>\n",
              "      <td>MVD</td>\n",
              "      <td>C</td>\n",
              "      <td>NaN</td>\n",
              "      <td>B</td>\n",
              "      <td>C</td>\n",
              "      <td>J</td>\n",
              "      <td>AL</td>\n",
              "      <td>A</td>\n",
              "      <td>F</td>\n",
              "      <td>B</td>\n",
              "      <td>D</td>\n",
              "      <td>B</td>\n",
              "      <td>G</td>\n",
              "      <td>C</td>\n",
              "      <td>B</td>\n",
              "      <td>E</td>\n",
              "      <td>NaN</td>\n",
              "      <td>AQ</td>\n",
              "    </tr>\n",
              "    <tr>\n",
              "      <th>14</th>\n",
              "      <td>C</td>\n",
              "      <td>QKP</td>\n",
              "      <td>E</td>\n",
              "      <td>B</td>\n",
              "      <td>A</td>\n",
              "      <td>C</td>\n",
              "      <td>G</td>\n",
              "      <td>AS</td>\n",
              "      <td>A</td>\n",
              "      <td>F</td>\n",
              "      <td>B</td>\n",
              "      <td>D</td>\n",
              "      <td>E</td>\n",
              "      <td>G</td>\n",
              "      <td>C</td>\n",
              "      <td>B</td>\n",
              "      <td>T</td>\n",
              "      <td>NaN</td>\n",
              "      <td>Z</td>\n",
              "    </tr>\n",
              "    <tr>\n",
              "      <th>15</th>\n",
              "      <td>C</td>\n",
              "      <td>NKE</td>\n",
              "      <td>E</td>\n",
              "      <td>NaN</td>\n",
              "      <td>A</td>\n",
              "      <td>I</td>\n",
              "      <td>C</td>\n",
              "      <td>CY</td>\n",
              "      <td>A</td>\n",
              "      <td>B</td>\n",
              "      <td>B</td>\n",
              "      <td>B</td>\n",
              "      <td>C</td>\n",
              "      <td>A</td>\n",
              "      <td>E</td>\n",
              "      <td>A</td>\n",
              "      <td>F</td>\n",
              "      <td>S</td>\n",
              "      <td>BY</td>\n",
              "    </tr>\n",
              "    <tr>\n",
              "      <th>16</th>\n",
              "      <td>C</td>\n",
              "      <td>NSV</td>\n",
              "      <td>E</td>\n",
              "      <td>G</td>\n",
              "      <td>A</td>\n",
              "      <td>I</td>\n",
              "      <td>F</td>\n",
              "      <td>NaN</td>\n",
              "      <td>B</td>\n",
              "      <td>F</td>\n",
              "      <td>B</td>\n",
              "      <td>D</td>\n",
              "      <td>C</td>\n",
              "      <td>C</td>\n",
              "      <td>D</td>\n",
              "      <td>A</td>\n",
              "      <td>I</td>\n",
              "      <td>G</td>\n",
              "      <td>BJ</td>\n",
              "    </tr>\n",
              "    <tr>\n",
              "      <th>17</th>\n",
              "      <td>C</td>\n",
              "      <td>NaN</td>\n",
              "      <td>D</td>\n",
              "      <td>C</td>\n",
              "      <td>B</td>\n",
              "      <td>C</td>\n",
              "      <td>D</td>\n",
              "      <td>AZ</td>\n",
              "      <td>A</td>\n",
              "      <td>F</td>\n",
              "      <td>B</td>\n",
              "      <td>D</td>\n",
              "      <td>B</td>\n",
              "      <td>A</td>\n",
              "      <td>E</td>\n",
              "      <td>B</td>\n",
              "      <td>T</td>\n",
              "      <td>NaN</td>\n",
              "      <td>Z</td>\n",
              "    </tr>\n",
              "    <tr>\n",
              "      <th>18</th>\n",
              "      <td>C</td>\n",
              "      <td>ABJD</td>\n",
              "      <td>C</td>\n",
              "      <td>NaN</td>\n",
              "      <td>B</td>\n",
              "      <td>C</td>\n",
              "      <td>C</td>\n",
              "      <td>Z</td>\n",
              "      <td>A</td>\n",
              "      <td>B</td>\n",
              "      <td>B</td>\n",
              "      <td>B</td>\n",
              "      <td>A</td>\n",
              "      <td>B</td>\n",
              "      <td>B</td>\n",
              "      <td>B</td>\n",
              "      <td>J</td>\n",
              "      <td>NaN</td>\n",
              "      <td>E</td>\n",
              "    </tr>\n",
              "    <tr>\n",
              "      <th>19</th>\n",
              "      <td>C</td>\n",
              "      <td>AGDF</td>\n",
              "      <td>C</td>\n",
              "      <td>F</td>\n",
              "      <td>B</td>\n",
              "      <td>C</td>\n",
              "      <td>C</td>\n",
              "      <td>DN</td>\n",
              "      <td>B</td>\n",
              "      <td>F</td>\n",
              "      <td>B</td>\n",
              "      <td>D</td>\n",
              "      <td>A</td>\n",
              "      <td>G</td>\n",
              "      <td>C</td>\n",
              "      <td>B</td>\n",
              "      <td>F</td>\n",
              "      <td>NaN</td>\n",
              "      <td>AZ</td>\n",
              "    </tr>\n",
              "    <tr>\n",
              "      <th>20</th>\n",
              "      <td>C</td>\n",
              "      <td>IEE</td>\n",
              "      <td>C</td>\n",
              "      <td>NaN</td>\n",
              "      <td>B</td>\n",
              "      <td>C</td>\n",
              "      <td>K</td>\n",
              "      <td>BQ</td>\n",
              "      <td>A</td>\n",
              "      <td>F</td>\n",
              "      <td>B</td>\n",
              "      <td>D</td>\n",
              "      <td>B</td>\n",
              "      <td>A</td>\n",
              "      <td>E</td>\n",
              "      <td>B</td>\n",
              "      <td>D</td>\n",
              "      <td>NaN</td>\n",
              "      <td>U</td>\n",
              "    </tr>\n",
              "  </tbody>\n",
              "</table>\n",
              "</div>"
            ],
            "text/plain": [
              "     v3   v22 v24  v30  v31 v47 v52  v56  ... v75 v79 v91 v107 v110 v112 v113 v125\n",
              "0     C   XDX   C    C    A   C   G   DI  ...   D   E   A    E    B    O  NaN   AU\n",
              "1     C   GUV   C    C    A   E   G   DY  ...   D   D   B    B    A    U    G   AF\n",
              "2     C    FQ   E  NaN    A   C   F   AS  ...   B   E   G    C    B    S  NaN   AE\n",
              "3     C  ACUE   D    C    B   C   H   BW  ...   D   B   B    B    B    J  NaN   CJ\n",
              "4     C   HIT   E  NaN    A   I   H  NaN  ...   D   C   G    C    A    T    G    Z\n",
              "5     C   AYX   A  NaN    A   I   K   DX  ...   D   I   G    C    A    D    X    X\n",
              "6     C   NFD   E    G    A   C   A   AS  ...   D   E   B    B    B    I  NaN   BJ\n",
              "7     C  AHBW   D    C    A   I   C   DP  ...   D   C   A    E    A    F    M   BY\n",
              "8   NaN   GKQ   E  NaN  NaN   D   H   AF  ...   B   P   C    D    C    L  NaN    S\n",
              "9     C   PYF   C    C    A   I   A  NaN  ...   D   C   A    E    A    J    P    E\n",
              "10    C   GEH   E    D    A   I   E   CY  ...   D   C   F    A    A    F    X   AR\n",
              "11    C  ABQS   D    G    A   C   A   AW  ...   D   E   A    E    B    M  NaN   AM\n",
              "12    C   QKP   E  NaN    A   I   H   BW  ...   D   C   G    C    A    T    P    Z\n",
              "13    C   MVD   C  NaN    B   C   J   AL  ...   D   B   G    C    B    E  NaN   AQ\n",
              "14    C   QKP   E    B    A   C   G   AS  ...   D   E   G    C    B    T  NaN    Z\n",
              "15    C   NKE   E  NaN    A   I   C   CY  ...   B   C   A    E    A    F    S   BY\n",
              "16    C   NSV   E    G    A   I   F  NaN  ...   D   C   C    D    A    I    G   BJ\n",
              "17    C   NaN   D    C    B   C   D   AZ  ...   D   B   A    E    B    T  NaN    Z\n",
              "18    C  ABJD   C  NaN    B   C   C    Z  ...   B   A   B    B    B    J  NaN    E\n",
              "19    C  AGDF   C    F    B   C   C   DN  ...   D   A   G    C    B    F  NaN   AZ\n",
              "20    C   IEE   C  NaN    B   C   K   BQ  ...   D   B   A    E    B    D  NaN    U\n",
              "\n",
              "[21 rows x 19 columns]"
            ]
          },
          "metadata": {
            "tags": []
          },
          "execution_count": 48
        }
      ]
    },
    {
      "cell_type": "code",
      "metadata": {
        "colab": {
          "base_uri": "https://localhost:8080/"
        },
        "id": "hguKwx6Mlq53",
        "outputId": "3948dc86-d2f3-4e60-8175-857be3b3007f"
      },
      "source": [
        "# Calculate number of levels in each\n",
        "df = train_df.loc[: , train_df.dtypes == \"object\"]\n",
        "print()\n",
        "df['v22'].value_counts()\n",
        "print()\n",
        "df['v24'].value_counts()\n"
      ],
      "execution_count": 49,
      "outputs": [
        {
          "output_type": "stream",
          "text": [
            "\n"
          ],
          "name": "stdout"
        },
        {
          "output_type": "execute_result",
          "data": {
            "text/plain": [
              "AGDF    2386\n",
              "YGJ     2119\n",
              "QKI      668\n",
              "PWR      649\n",
              "HZE      423\n",
              "        ... \n",
              "ZQZ        1\n",
              "UNO        1\n",
              "EFD        1\n",
              "OKQ        1\n",
              "POM        1\n",
              "Name: v22, Length: 18210, dtype: int64"
            ]
          },
          "metadata": {
            "tags": []
          },
          "execution_count": 49
        },
        {
          "output_type": "stream",
          "text": [
            "\n"
          ],
          "name": "stdout"
        },
        {
          "output_type": "execute_result",
          "data": {
            "text/plain": [
              "E    55177\n",
              "D    26333\n",
              "C    20872\n",
              "B     8150\n",
              "A     3789\n",
              "Name: v24, dtype: int64"
            ]
          },
          "metadata": {
            "tags": []
          },
          "execution_count": 49
        }
      ]
    },
    {
      "cell_type": "code",
      "metadata": {
        "id": "Ls8u1P9vmM9c",
        "colab": {
          "base_uri": "https://localhost:8080/"
        },
        "outputId": "4197db76-104c-42c9-e97a-575a7d9b703f"
      },
      "source": [
        "for i in df.columns:\n",
        "  print(i,len(df[i].value_counts().index.values))"
      ],
      "execution_count": 50,
      "outputs": [
        {
          "output_type": "stream",
          "text": [
            "v3 3\n",
            "v22 18210\n",
            "v24 5\n",
            "v30 7\n",
            "v31 3\n",
            "v47 10\n",
            "v52 12\n",
            "v56 122\n",
            "v66 3\n",
            "v71 9\n",
            "v74 3\n",
            "v75 4\n",
            "v79 18\n",
            "v91 7\n",
            "v107 7\n",
            "v110 3\n",
            "v112 22\n",
            "v113 36\n",
            "v125 90\n"
          ],
          "name": "stdout"
        }
      ]
    },
    {
      "cell_type": "code",
      "metadata": {
        "id": "JgRVwcPzmpgI",
        "colab": {
          "base_uri": "https://localhost:8080/"
        },
        "outputId": "dba09302-5612-455a-a994-35900e88e584"
      },
      "source": [
        "train_df.loc[:, train_df.dtypes == 'object'].isnull().sum().sort_values(ascending = False)\n",
        "train_df.loc[:, train_df.dtypes == 'float64'].isnull().sum().sort_values(ascending = False)\n",
        "train_df.loc[:, train_df.dtypes == 'int16'].isnull().sum().sort_values(ascending = False)\n"
      ],
      "execution_count": 51,
      "outputs": [
        {
          "output_type": "execute_result",
          "data": {
            "text/plain": [
              "v30     60110\n",
              "v113    55304\n",
              "v56      6882\n",
              "v3       3457\n",
              "v31      3457\n",
              "v22       500\n",
              "v112      382\n",
              "v125       77\n",
              "v52         3\n",
              "v91         3\n",
              "v107        3\n",
              "v74         0\n",
              "v75         0\n",
              "v66         0\n",
              "v79         0\n",
              "v47         0\n",
              "v24         0\n",
              "v110        0\n",
              "v71         0\n",
              "dtype: int64"
            ]
          },
          "metadata": {
            "tags": []
          },
          "execution_count": 51
        },
        {
          "output_type": "execute_result",
          "data": {
            "text/plain": [
              "v102    51316\n",
              "v85     50682\n",
              "v119    50680\n",
              "v123    50678\n",
              "v51     50678\n",
              "        ...  \n",
              "v12        86\n",
              "v50        86\n",
              "v10        84\n",
              "v114       30\n",
              "v14         4\n",
              "Length: 108, dtype: int64"
            ]
          },
          "metadata": {
            "tags": []
          },
          "execution_count": 51
        },
        {
          "output_type": "execute_result",
          "data": {
            "text/plain": [
              "v129      0\n",
              "v72       0\n",
              "v62       0\n",
              "v38       0\n",
              "target    0\n",
              "ID        0\n",
              "dtype: int64"
            ]
          },
          "metadata": {
            "tags": []
          },
          "execution_count": 51
        }
      ]
    },
    {
      "cell_type": "markdown",
      "metadata": {
        "id": "tpPKWeOhy91S"
      },
      "source": [
        "## Patterns in missing data"
      ]
    },
    {
      "cell_type": "code",
      "metadata": {
        "id": "ACp4jKy-xcUK",
        "colab": {
          "base_uri": "https://localhost:8080/"
        },
        "outputId": "5a26e699-c4bf-4328-f440-03f466cb0526"
      },
      "source": [
        "sample = train_df.sample(frac = 0.1)\n",
        "sample.shape  # 11432, 133)"
      ],
      "execution_count": 26,
      "outputs": [
        {
          "output_type": "execute_result",
          "data": {
            "text/plain": [
              "(11432, 133)"
            ]
          },
          "metadata": {
            "tags": []
          },
          "execution_count": 26
        }
      ]
    },
    {
      "cell_type": "code",
      "metadata": {
        "colab": {
          "base_uri": "https://localhost:8080/",
          "height": 284
        },
        "id": "TgE15-c4o5KP",
        "outputId": "a516a34c-1f14-47a5-cf31-670505ed0f92"
      },
      "source": [
        "sns.heatmap(sample.loc[:, sample.dtypes=='object' ].isnull(), cbar=False);"
      ],
      "execution_count": 27,
      "outputs": [
        {
          "output_type": "display_data",
          "data": {
            "image/png": "[encoded data removed]",
            "text/plain": [
              "<Figure size 432x288 with 1 Axes>"
            ]
          },
          "metadata": {
            "tags": [],
            "needs_background": "light"
          }
        }
      ]
    },
    {
      "cell_type": "code",
      "metadata": {
        "id": "ucsCl7gsy3Ka",
        "colab": {
          "base_uri": "https://localhost:8080/",
          "height": 440
        },
        "outputId": "5675d8e1-5e1d-4861-894b-beed1cc9283a"
      },
      "source": [
        "msno.matrix(sample.loc[:, sample.dtypes=='object' ]);"
      ],
      "execution_count": 28,
      "outputs": [
        {
          "output_type": "display_data",
          "data": {
            "image/png": "[encoded data removed]",
            "text/plain": [
              "<Figure size 1800x720 with 2 Axes>"
            ]
          },
          "metadata": {
            "tags": [],
            "needs_background": "light"
          }
        }
      ]
    },
    {
      "cell_type": "code",
      "metadata": {
        "id": "_R1_NCi9ytGC",
        "colab": {
          "base_uri": "https://localhost:8080/",
          "height": 284
        },
        "outputId": "23b23082-9366-40cc-f2d2-aba8c5562dac"
      },
      "source": [
        "sns.heatmap(sample.loc[:, sample.dtypes=='float64' ].isnull(), cbar=False);"
      ],
      "execution_count": 29,
      "outputs": [
        {
          "output_type": "display_data",
          "data": {
            "image/png": "[encoded data removed]",
            "text/plain": [
              "<Figure size 432x288 with 1 Axes>"
            ]
          },
          "metadata": {
            "tags": [],
            "needs_background": "light"
          }
        }
      ]
    },
    {
      "cell_type": "code",
      "metadata": {
        "colab": {
          "base_uri": "https://localhost:8080/",
          "height": 411
        },
        "id": "RuHJeuduwzIC",
        "outputId": "7d293e87-3b41-4b49-e7b6-9abbda750729"
      },
      "source": [
        "msno.matrix(sample.loc[:, sample.dtypes=='float64' ]);"
      ],
      "execution_count": 30,
      "outputs": [
        {
          "output_type": "display_data",
          "data": {
            "image/png": "[encoded data removed]",
            "text/plain": [
              "<Figure size 1800x720 with 2 Axes>"
            ]
          },
          "metadata": {
            "tags": [],
            "needs_background": "light"
          }
        }
      ]
    },
    {
      "cell_type": "code",
      "metadata": {
        "id": "oQc18Z9I0Tjn",
        "colab": {
          "base_uri": "https://localhost:8080/",
          "height": 469
        },
        "outputId": "adef3404-9272-4385-ef3f-97b04068d314"
      },
      "source": [
        "msno.dendrogram(sample.loc[:, sample.dtypes=='object' ])"
      ],
      "execution_count": 31,
      "outputs": [
        {
          "output_type": "execute_result",
          "data": {
            "text/plain": [
              "<matplotlib.axes._subplots.AxesSubplot at 0x7f6e2e2bb850>"
            ]
          },
          "metadata": {
            "tags": []
          },
          "execution_count": 31
        },
        {
          "output_type": "display_data",
          "data": {
            "image/png": "[encoded data removed]",
            "text/plain": [
              "<Figure size 1800x720 with 1 Axes>"
            ]
          },
          "metadata": {
            "tags": [],
            "needs_background": "light"
          }
        }
      ]
    },
    {
      "cell_type": "code",
      "metadata": {
        "id": "S4NTvG2w1HfT"
      },
      "source": [
        "\n",
        "# 2.9 Fill up missing values arbitrarily.\n",
        "#     Fill up all just with one value\n",
        "#     In object type, it will appear as a catageory\n",
        "#     And in float type, it will be a number\n",
        "train_df.fillna(-9999, inplace=True)"
      ],
      "execution_count": 52,
      "outputs": []
    },
    {
      "cell_type": "code",
      "metadata": {
        "colab": {
          "base_uri": "https://localhost:8080/"
        },
        "id": "LzLroo0VQXGC",
        "outputId": "0fc84b3c-e0e4-412f-93eb-aaba1580c844"
      },
      "source": [
        "\n",
        "# 2.10 Check dtypes again\n",
        "train_df.dtypes.value_counts()           # fl: 108, Ob: 19, int: 6\n"
      ],
      "execution_count": 33,
      "outputs": [
        {
          "output_type": "execute_result",
          "data": {
            "text/plain": [
              "float64    108\n",
              "object      19\n",
              "int16        6\n",
              "dtype: int64"
            ]
          },
          "metadata": {
            "tags": []
          },
          "execution_count": 33
        }
      ]
    },
    {
      "cell_type": "code",
      "metadata": {
        "id": "P9vyIvsVQbiD"
      },
      "source": [
        "\n",
        "# 3.0 Drop columns not needed\n",
        "# 3.1 Get data with all relevant predictors\n",
        "X = train_df.drop(axis=1,\n",
        "                  columns=['ID','target']\n",
        "                  )\n",
        "\n",
        "# 3.2 Target\n",
        "y = train_df.target"
      ],
      "execution_count": 53,
      "outputs": []
    },
    {
      "cell_type": "code",
      "metadata": {
        "colab": {
          "base_uri": "https://localhost:8080/"
        },
        "id": "ql3hnhGAQiWH",
        "outputId": "29077d1e-a495-4587-bddd-6a3dc10e031d"
      },
      "source": [
        "\n",
        "# 4. Split data into train/test using train_test_split()\n",
        "X_train,X_test,y_train,y_test = train_test_split(X,\n",
        "\t                                             y,\n",
        "\t                                             test_size = 0.50   # To save time\n",
        "\t                                             )\n",
        "\n",
        "# 4.1 Check shapes\n",
        "X_train.shape\n",
        "X_test.shape\n",
        "y_train.shape\n",
        "y_test.shape\n"
      ],
      "execution_count": 54,
      "outputs": [
        {
          "output_type": "execute_result",
          "data": {
            "text/plain": [
              "(57160, 131)"
            ]
          },
          "metadata": {
            "tags": []
          },
          "execution_count": 54
        },
        {
          "output_type": "execute_result",
          "data": {
            "text/plain": [
              "(57161, 131)"
            ]
          },
          "metadata": {
            "tags": []
          },
          "execution_count": 54
        },
        {
          "output_type": "execute_result",
          "data": {
            "text/plain": [
              "(57160,)"
            ]
          },
          "metadata": {
            "tags": []
          },
          "execution_count": 54
        },
        {
          "output_type": "execute_result",
          "data": {
            "text/plain": [
              "(57161,)"
            ]
          },
          "metadata": {
            "tags": []
          },
          "execution_count": 54
        }
      ]
    },
    {
      "cell_type": "code",
      "metadata": {
        "id": "nBF0PI8WQlll"
      },
      "source": [
        "\n",
        "# 4.2 Let us define what we would consider to be\n",
        "#      a categorical variable and keep a list of\n",
        "#     all categorical columns\n",
        "#      We need this list so as to specify in CatBoost\n",
        "\n",
        "# 4.2.1 First get unique values per col\n",
        "d_cat = X.apply(pd.Series.nunique)\n",
        "d_cat                  # Look at them\n"
      ],
      "execution_count": null,
      "outputs": []
    },
    {
      "cell_type": "code",
      "metadata": {
        "id": "M8UaElnZSvAB"
      },
      "source": [
        "\n",
        "# 4.3 Let us say those columns with\n",
        "#     unique values < 30000 are categorical\n",
        "#     np.where() is same as which() in R\n",
        "#     Note that np.where(d_cat < 30000) is a tuple\n",
        "#     (array([2,21..]) , ) with first element as\n",
        "#     an array inside it.\n",
        "#     Hence the syntax:\n",
        "#       np.where(d_cat < 30000)[0]  gets the Ist element\n",
        "#     ie the complete array\n",
        "d_cat < 30000           # Data being anonymous, an arbitray decision\n",
        "np.where(d_cat < 30000)\n",
        "cat_features_ids = np.where(d_cat < 30000)[0].tolist()\n",
        "cat_features_ids\n",
        "len(cat_features_ids)   # 23 in all out of 131\n",
        "X.shape                 # 114321 X 131\n"
      ],
      "execution_count": null,
      "outputs": []
    },
    {
      "cell_type": "code",
      "metadata": {
        "colab": {
          "base_uri": "https://localhost:8080/"
        },
        "id": "6toPWMN_Vp8e",
        "outputId": "ad9e1643-7bda-44fc-bea7-6011c4c438ea"
      },
      "source": [
        "cat = list(train_df.select_dtypes(include = \"object\").columns.values)\n",
        "cat"
      ],
      "execution_count": 59,
      "outputs": [
        {
          "output_type": "execute_result",
          "data": {
            "text/plain": [
              "['v3',\n",
              " 'v22',\n",
              " 'v24',\n",
              " 'v30',\n",
              " 'v31',\n",
              " 'v47',\n",
              " 'v52',\n",
              " 'v56',\n",
              " 'v66',\n",
              " 'v71',\n",
              " 'v74',\n",
              " 'v75',\n",
              " 'v79',\n",
              " 'v91',\n",
              " 'v107',\n",
              " 'v110',\n",
              " 'v112',\n",
              " 'v113',\n",
              " 'v125']"
            ]
          },
          "metadata": {
            "tags": []
          },
          "execution_count": 59
        }
      ]
    },
    {
      "cell_type": "code",
      "metadata": {
        "colab": {
          "base_uri": "https://localhost:8080/",
          "height": 91
        },
        "id": "zp96mQ5mS6FO",
        "outputId": "de295638-5fdc-4585-c881-6c03622e1ba8"
      },
      "source": [
        "\n",
        "\"\"\"\n",
        "5. Start modeling\n",
        "\n",
        "Ref: https://tech.yandex.com/catboost/doc/dg/concepts/python-reference_catboostclassifier-docpage/\n",
        "CatBoostClassifier:\n",
        "      Training and applying models for the\n",
        "      classification problems. When using\n",
        "      the applying methods only the probability\n",
        "      that the object belongs to the class is\n",
        "      returned. Provides compatibility with the\n",
        "      scikit-learn tools.\n",
        "\n",
        "\"\"\"\n",
        "# 5.1 Instantiate the CatBoostClassifier() object\n",
        "start = time.time()\n",
        "clf = CatBoostClassifier(\n",
        "                        learning_rate=0.1,\n",
        "\t                      iterations=300,   #  max no of trees\n",
        "\t                      random_seed=0,\n",
        "                        thread_count = 2,\n",
        "                        eval_metric = 'AUC',  # Recall,Precision,F1,TotalF1,\n",
        "                                              #  Accuracy,Kappa,AUC\n",
        "\t                      verbose =1\n",
        "\t                     )\n",
        "\n"
      ],
      "execution_count": 60,
      "outputs": [
        {
          "output_type": "execute_result",
          "data": {
            "application/vnd.google.colaboratory.intrinsic+json": {
              "type": "string"
            },
            "text/plain": [
              "'\\n5. Start modeling\\n\\nRef: https://tech.yandex.com/catboost/doc/dg/concepts/python-reference_catboostclassifier-docpage/\\nCatBoostClassifier:\\n      Training and applying models for the\\n      classification problems. When using\\n      the applying methods only the probability\\n      that the object belongs to the class is\\n      returned. Provides compatibility with the\\n      scikit-learn tools.\\n\\n'"
            ]
          },
          "metadata": {
            "tags": []
          },
          "execution_count": 60
        }
      ]
    },
    {
      "cell_type": "code",
      "metadata": {
        "colab": {
          "base_uri": "https://localhost:8080/",
          "height": 1000
        },
        "id": "tOo-X2WnTO6p",
        "outputId": "8744318f-3577-49a6-97c1-884a860adf15"
      },
      "source": [
        "\n",
        "\"\"\"\n",
        "ref: https://tech.yandex.com/catboost/doc/dg/concepts/python-reference_catboostclassifier_fit-docpage/#python-reference_catboostclassifier_fit\n",
        "fit\n",
        " Train the model\n",
        "\"\"\"\n",
        "\n",
        "# 5.2 Use now the 'clf' object to learn from data\n",
        "#     and create model\n",
        "start = time.time()\n",
        "clf.fit(\n",
        "        X_train,\n",
        "        y_train,\n",
        "        eval_set=(X_test, y_test),\n",
        "        # Specify which columns are categorical in nature\n",
        "        cat_features=cat  # cat_features_ids\n",
        "        )\n",
        "# Result may say:\n",
        "#  Shrink model to first 206 iterations.\n",
        "#    Meaning that out of 300 trees only 206 trees are kept\n",
        "\n",
        "end = time.time()\n",
        "(end - start)/60"
      ],
      "execution_count": 61,
      "outputs": [
        {
          "output_type": "execute_result",
          "data": {
            "application/vnd.google.colaboratory.intrinsic+json": {
              "type": "string"
            },
            "text/plain": [
              "'\\nref: https://tech.yandex.com/catboost/doc/dg/concepts/python-reference_catboostclassifier_fit-docpage/#python-reference_catboostclassifier_fit\\nfit\\n Train the model\\n'"
            ]
          },
          "metadata": {
            "tags": []
          },
          "execution_count": 61
        },
        {
          "output_type": "stream",
          "text": [
            "0:\ttest: 0.7111733\tbest: 0.7111733 (0)\ttotal: 346ms\tremaining: 1m 43s\n",
            "1:\ttest: 0.7197467\tbest: 0.7197467 (1)\ttotal: 792ms\tremaining: 1m 57s\n",
            "2:\ttest: 0.7215407\tbest: 0.7215407 (2)\ttotal: 1.25s\tremaining: 2m 3s\n",
            "3:\ttest: 0.7296032\tbest: 0.7296032 (3)\ttotal: 1.59s\tremaining: 1m 57s\n",
            "4:\ttest: 0.7311808\tbest: 0.7311808 (4)\ttotal: 1.98s\tremaining: 1m 56s\n",
            "5:\ttest: 0.7302661\tbest: 0.7311808 (4)\ttotal: 2.37s\tremaining: 1m 56s\n",
            "6:\ttest: 0.7309097\tbest: 0.7311808 (4)\ttotal: 2.75s\tremaining: 1m 55s\n",
            "7:\ttest: 0.7309175\tbest: 0.7311808 (4)\ttotal: 3.14s\tremaining: 1m 54s\n",
            "8:\ttest: 0.7323740\tbest: 0.7323740 (8)\ttotal: 3.42s\tremaining: 1m 50s\n",
            "9:\ttest: 0.7332319\tbest: 0.7332319 (9)\ttotal: 3.78s\tremaining: 1m 49s\n",
            "10:\ttest: 0.7338955\tbest: 0.7338955 (10)\ttotal: 3.96s\tremaining: 1m 44s\n",
            "11:\ttest: 0.7341817\tbest: 0.7341817 (11)\ttotal: 4.42s\tremaining: 1m 46s\n",
            "12:\ttest: 0.7343239\tbest: 0.7343239 (12)\ttotal: 4.78s\tremaining: 1m 45s\n",
            "13:\ttest: 0.7352941\tbest: 0.7352941 (13)\ttotal: 5.17s\tremaining: 1m 45s\n",
            "14:\ttest: 0.7365450\tbest: 0.7365450 (14)\ttotal: 5.53s\tremaining: 1m 45s\n",
            "15:\ttest: 0.7370734\tbest: 0.7370734 (15)\ttotal: 5.96s\tremaining: 1m 45s\n",
            "16:\ttest: 0.7377312\tbest: 0.7377312 (16)\ttotal: 6.37s\tremaining: 1m 46s\n",
            "17:\ttest: 0.7379992\tbest: 0.7379992 (17)\ttotal: 6.79s\tremaining: 1m 46s\n",
            "18:\ttest: 0.7386159\tbest: 0.7386159 (18)\ttotal: 7.21s\tremaining: 1m 46s\n",
            "19:\ttest: 0.7394958\tbest: 0.7394958 (19)\ttotal: 7.6s\tremaining: 1m 46s\n",
            "20:\ttest: 0.7401400\tbest: 0.7401400 (20)\ttotal: 8.05s\tremaining: 1m 46s\n",
            "21:\ttest: 0.7407097\tbest: 0.7407097 (21)\ttotal: 8.44s\tremaining: 1m 46s\n",
            "22:\ttest: 0.7411113\tbest: 0.7411113 (22)\ttotal: 8.85s\tremaining: 1m 46s\n",
            "23:\ttest: 0.7411246\tbest: 0.7411246 (23)\ttotal: 9.27s\tremaining: 1m 46s\n",
            "24:\ttest: 0.7416424\tbest: 0.7416424 (24)\ttotal: 9.64s\tremaining: 1m 46s\n",
            "25:\ttest: 0.7417463\tbest: 0.7417463 (25)\ttotal: 10.1s\tremaining: 1m 46s\n",
            "26:\ttest: 0.7421067\tbest: 0.7421067 (26)\ttotal: 10.5s\tremaining: 1m 45s\n",
            "27:\ttest: 0.7426320\tbest: 0.7426320 (27)\ttotal: 10.8s\tremaining: 1m 45s\n",
            "28:\ttest: 0.7427576\tbest: 0.7427576 (28)\ttotal: 11.2s\tremaining: 1m 44s\n",
            "29:\ttest: 0.7429839\tbest: 0.7429839 (29)\ttotal: 11.6s\tremaining: 1m 44s\n",
            "30:\ttest: 0.7433528\tbest: 0.7433528 (30)\ttotal: 12s\tremaining: 1m 43s\n",
            "31:\ttest: 0.7437774\tbest: 0.7437774 (31)\ttotal: 12.4s\tremaining: 1m 43s\n",
            "32:\ttest: 0.7440277\tbest: 0.7440277 (32)\ttotal: 12.8s\tremaining: 1m 43s\n",
            "33:\ttest: 0.7441296\tbest: 0.7441296 (33)\ttotal: 13.2s\tremaining: 1m 43s\n",
            "34:\ttest: 0.7441068\tbest: 0.7441296 (33)\ttotal: 13.7s\tremaining: 1m 43s\n",
            "35:\ttest: 0.7446725\tbest: 0.7446725 (35)\ttotal: 14s\tremaining: 1m 42s\n",
            "36:\ttest: 0.7447378\tbest: 0.7447378 (36)\ttotal: 14.4s\tremaining: 1m 42s\n",
            "37:\ttest: 0.7448231\tbest: 0.7448231 (37)\ttotal: 14.8s\tremaining: 1m 41s\n",
            "38:\ttest: 0.7450968\tbest: 0.7450968 (38)\ttotal: 15.2s\tremaining: 1m 41s\n",
            "39:\ttest: 0.7454990\tbest: 0.7454990 (39)\ttotal: 15.6s\tremaining: 1m 41s\n",
            "40:\ttest: 0.7456056\tbest: 0.7456056 (40)\ttotal: 16s\tremaining: 1m 41s\n",
            "41:\ttest: 0.7458524\tbest: 0.7458524 (41)\ttotal: 16.4s\tremaining: 1m 41s\n",
            "42:\ttest: 0.7461689\tbest: 0.7461689 (42)\ttotal: 16.9s\tremaining: 1m 40s\n",
            "43:\ttest: 0.7462327\tbest: 0.7462327 (43)\ttotal: 17.3s\tremaining: 1m 40s\n",
            "44:\ttest: 0.7468141\tbest: 0.7468141 (44)\ttotal: 17.8s\tremaining: 1m 40s\n",
            "45:\ttest: 0.7468710\tbest: 0.7468710 (45)\ttotal: 18.1s\tremaining: 1m 40s\n",
            "46:\ttest: 0.7469708\tbest: 0.7469708 (46)\ttotal: 18.6s\tremaining: 1m 39s\n",
            "47:\ttest: 0.7472179\tbest: 0.7472179 (47)\ttotal: 19s\tremaining: 1m 39s\n",
            "48:\ttest: 0.7473288\tbest: 0.7473288 (48)\ttotal: 19.4s\tremaining: 1m 39s\n",
            "49:\ttest: 0.7484608\tbest: 0.7484608 (49)\ttotal: 20s\tremaining: 1m 39s\n",
            "50:\ttest: 0.7485565\tbest: 0.7485565 (50)\ttotal: 20.4s\tremaining: 1m 39s\n",
            "51:\ttest: 0.7486328\tbest: 0.7486328 (51)\ttotal: 20.8s\tremaining: 1m 39s\n",
            "52:\ttest: 0.7488389\tbest: 0.7488389 (52)\ttotal: 21.3s\tremaining: 1m 39s\n",
            "53:\ttest: 0.7490255\tbest: 0.7490255 (53)\ttotal: 21.7s\tremaining: 1m 38s\n",
            "54:\ttest: 0.7504074\tbest: 0.7504074 (54)\ttotal: 22.2s\tremaining: 1m 38s\n",
            "55:\ttest: 0.7507861\tbest: 0.7507861 (55)\ttotal: 22.6s\tremaining: 1m 38s\n",
            "56:\ttest: 0.7520397\tbest: 0.7520397 (56)\ttotal: 23.1s\tremaining: 1m 38s\n",
            "57:\ttest: 0.7528159\tbest: 0.7528159 (57)\ttotal: 23.6s\tremaining: 1m 38s\n",
            "58:\ttest: 0.7528817\tbest: 0.7528817 (58)\ttotal: 23.9s\tremaining: 1m 37s\n",
            "59:\ttest: 0.7529914\tbest: 0.7529914 (59)\ttotal: 24.3s\tremaining: 1m 37s\n",
            "60:\ttest: 0.7530715\tbest: 0.7530715 (60)\ttotal: 24.7s\tremaining: 1m 36s\n",
            "61:\ttest: 0.7533495\tbest: 0.7533495 (61)\ttotal: 25.2s\tremaining: 1m 36s\n",
            "62:\ttest: 0.7534528\tbest: 0.7534528 (62)\ttotal: 25.6s\tremaining: 1m 36s\n",
            "63:\ttest: 0.7535598\tbest: 0.7535598 (63)\ttotal: 26s\tremaining: 1m 35s\n",
            "64:\ttest: 0.7540981\tbest: 0.7540981 (64)\ttotal: 26.5s\tremaining: 1m 35s\n",
            "65:\ttest: 0.7547285\tbest: 0.7547285 (65)\ttotal: 27s\tremaining: 1m 35s\n",
            "66:\ttest: 0.7547973\tbest: 0.7547973 (66)\ttotal: 27.4s\tremaining: 1m 35s\n",
            "67:\ttest: 0.7549416\tbest: 0.7549416 (67)\ttotal: 27.9s\tremaining: 1m 35s\n",
            "68:\ttest: 0.7551851\tbest: 0.7551851 (68)\ttotal: 28.2s\tremaining: 1m 34s\n",
            "69:\ttest: 0.7558208\tbest: 0.7558208 (69)\ttotal: 28.8s\tremaining: 1m 34s\n",
            "70:\ttest: 0.7562192\tbest: 0.7562192 (70)\ttotal: 29.4s\tremaining: 1m 34s\n",
            "71:\ttest: 0.7562897\tbest: 0.7562897 (71)\ttotal: 29.8s\tremaining: 1m 34s\n",
            "72:\ttest: 0.7563632\tbest: 0.7563632 (72)\ttotal: 30.2s\tremaining: 1m 33s\n",
            "73:\ttest: 0.7564343\tbest: 0.7564343 (73)\ttotal: 30.6s\tremaining: 1m 33s\n",
            "74:\ttest: 0.7565129\tbest: 0.7565129 (74)\ttotal: 30.9s\tremaining: 1m 32s\n",
            "75:\ttest: 0.7566052\tbest: 0.7566052 (75)\ttotal: 31.3s\tremaining: 1m 32s\n",
            "76:\ttest: 0.7566290\tbest: 0.7566290 (76)\ttotal: 31.7s\tremaining: 1m 31s\n",
            "77:\ttest: 0.7566172\tbest: 0.7566290 (76)\ttotal: 32.1s\tremaining: 1m 31s\n",
            "78:\ttest: 0.7569360\tbest: 0.7569360 (78)\ttotal: 32.7s\tremaining: 1m 31s\n",
            "79:\ttest: 0.7570953\tbest: 0.7570953 (79)\ttotal: 33.1s\tremaining: 1m 31s\n",
            "80:\ttest: 0.7571086\tbest: 0.7571086 (80)\ttotal: 33.5s\tremaining: 1m 30s\n",
            "81:\ttest: 0.7573432\tbest: 0.7573432 (81)\ttotal: 33.9s\tremaining: 1m 30s\n",
            "82:\ttest: 0.7576821\tbest: 0.7576821 (82)\ttotal: 34.4s\tremaining: 1m 30s\n",
            "83:\ttest: 0.7576908\tbest: 0.7576908 (83)\ttotal: 34.8s\tremaining: 1m 29s\n",
            "84:\ttest: 0.7578047\tbest: 0.7578047 (84)\ttotal: 35.2s\tremaining: 1m 29s\n",
            "85:\ttest: 0.7580037\tbest: 0.7580037 (85)\ttotal: 35.6s\tremaining: 1m 28s\n",
            "86:\ttest: 0.7580933\tbest: 0.7580933 (86)\ttotal: 36s\tremaining: 1m 28s\n",
            "87:\ttest: 0.7580813\tbest: 0.7580933 (86)\ttotal: 36.4s\tremaining: 1m 27s\n",
            "88:\ttest: 0.7581471\tbest: 0.7581471 (88)\ttotal: 36.8s\tremaining: 1m 27s\n",
            "89:\ttest: 0.7581949\tbest: 0.7581949 (89)\ttotal: 37.2s\tremaining: 1m 26s\n",
            "90:\ttest: 0.7583303\tbest: 0.7583303 (90)\ttotal: 37.6s\tremaining: 1m 26s\n",
            "91:\ttest: 0.7583358\tbest: 0.7583358 (91)\ttotal: 38s\tremaining: 1m 25s\n",
            "92:\ttest: 0.7583490\tbest: 0.7583490 (92)\ttotal: 38.4s\tremaining: 1m 25s\n",
            "93:\ttest: 0.7583537\tbest: 0.7583537 (93)\ttotal: 38.8s\tremaining: 1m 24s\n",
            "94:\ttest: 0.7584060\tbest: 0.7584060 (94)\ttotal: 39.2s\tremaining: 1m 24s\n",
            "95:\ttest: 0.7584621\tbest: 0.7584621 (95)\ttotal: 39.6s\tremaining: 1m 24s\n",
            "96:\ttest: 0.7584141\tbest: 0.7584621 (95)\ttotal: 39.9s\tremaining: 1m 23s\n",
            "97:\ttest: 0.7584281\tbest: 0.7584621 (95)\ttotal: 40.4s\tremaining: 1m 23s\n",
            "98:\ttest: 0.7583966\tbest: 0.7584621 (95)\ttotal: 40.7s\tremaining: 1m 22s\n",
            "99:\ttest: 0.7584314\tbest: 0.7584621 (95)\ttotal: 41.2s\tremaining: 1m 22s\n",
            "100:\ttest: 0.7584763\tbest: 0.7584763 (100)\ttotal: 41.6s\tremaining: 1m 21s\n",
            "101:\ttest: 0.7586318\tbest: 0.7586318 (101)\ttotal: 42s\tremaining: 1m 21s\n",
            "102:\ttest: 0.7588400\tbest: 0.7588400 (102)\ttotal: 42.5s\tremaining: 1m 21s\n",
            "103:\ttest: 0.7588644\tbest: 0.7588644 (103)\ttotal: 42.9s\tremaining: 1m 20s\n",
            "104:\ttest: 0.7589292\tbest: 0.7589292 (104)\ttotal: 43.3s\tremaining: 1m 20s\n",
            "105:\ttest: 0.7589688\tbest: 0.7589688 (105)\ttotal: 43.6s\tremaining: 1m 19s\n",
            "106:\ttest: 0.7590582\tbest: 0.7590582 (106)\ttotal: 44.1s\tremaining: 1m 19s\n",
            "107:\ttest: 0.7590528\tbest: 0.7590582 (106)\ttotal: 44.5s\tremaining: 1m 19s\n",
            "108:\ttest: 0.7599928\tbest: 0.7599928 (108)\ttotal: 44.8s\tremaining: 1m 18s\n",
            "109:\ttest: 0.7599821\tbest: 0.7599928 (108)\ttotal: 45.3s\tremaining: 1m 18s\n",
            "110:\ttest: 0.7599802\tbest: 0.7599928 (108)\ttotal: 45.6s\tremaining: 1m 17s\n",
            "111:\ttest: 0.7600178\tbest: 0.7600178 (111)\ttotal: 46s\tremaining: 1m 17s\n",
            "112:\ttest: 0.7599687\tbest: 0.7600178 (111)\ttotal: 46.4s\tremaining: 1m 16s\n",
            "113:\ttest: 0.7607510\tbest: 0.7607510 (113)\ttotal: 47.1s\tremaining: 1m 16s\n",
            "114:\ttest: 0.7607891\tbest: 0.7607891 (114)\ttotal: 47.5s\tremaining: 1m 16s\n",
            "115:\ttest: 0.7608635\tbest: 0.7608635 (115)\ttotal: 47.9s\tremaining: 1m 15s\n",
            "116:\ttest: 0.7609539\tbest: 0.7609539 (116)\ttotal: 48.2s\tremaining: 1m 15s\n",
            "117:\ttest: 0.7609648\tbest: 0.7609648 (117)\ttotal: 48.6s\tremaining: 1m 15s\n",
            "118:\ttest: 0.7611381\tbest: 0.7611381 (118)\ttotal: 49s\tremaining: 1m 14s\n",
            "119:\ttest: 0.7612108\tbest: 0.7612108 (119)\ttotal: 49.4s\tremaining: 1m 14s\n",
            "120:\ttest: 0.7611546\tbest: 0.7612108 (119)\ttotal: 49.8s\tremaining: 1m 13s\n",
            "121:\ttest: 0.7611411\tbest: 0.7612108 (119)\ttotal: 50.2s\tremaining: 1m 13s\n",
            "122:\ttest: 0.7611863\tbest: 0.7612108 (119)\ttotal: 50.6s\tremaining: 1m 12s\n",
            "123:\ttest: 0.7612214\tbest: 0.7612214 (123)\ttotal: 51s\tremaining: 1m 12s\n",
            "124:\ttest: 0.7612415\tbest: 0.7612415 (124)\ttotal: 51.4s\tremaining: 1m 11s\n",
            "125:\ttest: 0.7613181\tbest: 0.7613181 (125)\ttotal: 51.8s\tremaining: 1m 11s\n",
            "126:\ttest: 0.7612570\tbest: 0.7613181 (125)\ttotal: 52.1s\tremaining: 1m 11s\n",
            "127:\ttest: 0.7612862\tbest: 0.7613181 (125)\ttotal: 52.5s\tremaining: 1m 10s\n",
            "128:\ttest: 0.7613837\tbest: 0.7613837 (128)\ttotal: 52.9s\tremaining: 1m 10s\n",
            "129:\ttest: 0.7614309\tbest: 0.7614309 (129)\ttotal: 53.2s\tremaining: 1m 9s\n",
            "130:\ttest: 0.7614476\tbest: 0.7614476 (130)\ttotal: 53.7s\tremaining: 1m 9s\n",
            "131:\ttest: 0.7614293\tbest: 0.7614476 (130)\ttotal: 54.1s\tremaining: 1m 8s\n",
            "132:\ttest: 0.7614715\tbest: 0.7614715 (132)\ttotal: 54.5s\tremaining: 1m 8s\n",
            "133:\ttest: 0.7614633\tbest: 0.7614715 (132)\ttotal: 54.9s\tremaining: 1m 7s\n",
            "134:\ttest: 0.7615538\tbest: 0.7615538 (134)\ttotal: 55.2s\tremaining: 1m 7s\n",
            "135:\ttest: 0.7615163\tbest: 0.7615538 (134)\ttotal: 55.6s\tremaining: 1m 7s\n",
            "136:\ttest: 0.7615191\tbest: 0.7615538 (134)\ttotal: 56s\tremaining: 1m 6s\n",
            "137:\ttest: 0.7615332\tbest: 0.7615538 (134)\ttotal: 56.4s\tremaining: 1m 6s\n",
            "138:\ttest: 0.7615732\tbest: 0.7615732 (138)\ttotal: 56.8s\tremaining: 1m 5s\n",
            "139:\ttest: 0.7615309\tbest: 0.7615732 (138)\ttotal: 57.2s\tremaining: 1m 5s\n",
            "140:\ttest: 0.7615922\tbest: 0.7615922 (140)\ttotal: 57.6s\tremaining: 1m 4s\n",
            "141:\ttest: 0.7616229\tbest: 0.7616229 (141)\ttotal: 58s\tremaining: 1m 4s\n",
            "142:\ttest: 0.7616966\tbest: 0.7616966 (142)\ttotal: 58.4s\tremaining: 1m 4s\n",
            "143:\ttest: 0.7616574\tbest: 0.7616966 (142)\ttotal: 58.8s\tremaining: 1m 3s\n",
            "144:\ttest: 0.7616925\tbest: 0.7616966 (142)\ttotal: 59.2s\tremaining: 1m 3s\n",
            "145:\ttest: 0.7616838\tbest: 0.7616966 (142)\ttotal: 59.6s\tremaining: 1m 2s\n",
            "146:\ttest: 0.7616735\tbest: 0.7616966 (142)\ttotal: 60s\tremaining: 1m 2s\n",
            "147:\ttest: 0.7616830\tbest: 0.7616966 (142)\ttotal: 1m\tremaining: 1m 1s\n",
            "148:\ttest: 0.7616735\tbest: 0.7616966 (142)\ttotal: 1m\tremaining: 1m 1s\n",
            "149:\ttest: 0.7617010\tbest: 0.7617010 (149)\ttotal: 1m 1s\tremaining: 1m 1s\n",
            "150:\ttest: 0.7617274\tbest: 0.7617274 (150)\ttotal: 1m 1s\tremaining: 1m\n",
            "151:\ttest: 0.7617382\tbest: 0.7617382 (151)\ttotal: 1m 1s\tremaining: 1m\n",
            "152:\ttest: 0.7617125\tbest: 0.7617382 (151)\ttotal: 1m 2s\tremaining: 60s\n",
            "153:\ttest: 0.7617406\tbest: 0.7617406 (153)\ttotal: 1m 2s\tremaining: 59.5s\n",
            "154:\ttest: 0.7618780\tbest: 0.7618780 (154)\ttotal: 1m 3s\tremaining: 59.1s\n",
            "155:\ttest: 0.7619609\tbest: 0.7619609 (155)\ttotal: 1m 3s\tremaining: 58.7s\n",
            "156:\ttest: 0.7619581\tbest: 0.7619609 (155)\ttotal: 1m 4s\tremaining: 58.3s\n",
            "157:\ttest: 0.7619343\tbest: 0.7619609 (155)\ttotal: 1m 4s\tremaining: 57.9s\n",
            "158:\ttest: 0.7619301\tbest: 0.7619609 (155)\ttotal: 1m 4s\tremaining: 57.5s\n",
            "159:\ttest: 0.7619418\tbest: 0.7619609 (155)\ttotal: 1m 5s\tremaining: 57.1s\n",
            "160:\ttest: 0.7620714\tbest: 0.7620714 (160)\ttotal: 1m 5s\tremaining: 56.7s\n",
            "161:\ttest: 0.7621222\tbest: 0.7621222 (161)\ttotal: 1m 5s\tremaining: 56.2s\n",
            "162:\ttest: 0.7620806\tbest: 0.7621222 (161)\ttotal: 1m 6s\tremaining: 55.8s\n",
            "163:\ttest: 0.7621792\tbest: 0.7621792 (163)\ttotal: 1m 6s\tremaining: 55.4s\n",
            "164:\ttest: 0.7621782\tbest: 0.7621792 (163)\ttotal: 1m 7s\tremaining: 54.9s\n",
            "165:\ttest: 0.7622313\tbest: 0.7622313 (165)\ttotal: 1m 7s\tremaining: 54.5s\n",
            "166:\ttest: 0.7622565\tbest: 0.7622565 (166)\ttotal: 1m 7s\tremaining: 54.1s\n",
            "167:\ttest: 0.7622340\tbest: 0.7622565 (166)\ttotal: 1m 8s\tremaining: 53.7s\n",
            "168:\ttest: 0.7622024\tbest: 0.7622565 (166)\ttotal: 1m 8s\tremaining: 53.3s\n",
            "169:\ttest: 0.7622293\tbest: 0.7622565 (166)\ttotal: 1m 9s\tremaining: 52.9s\n",
            "170:\ttest: 0.7622645\tbest: 0.7622645 (170)\ttotal: 1m 9s\tremaining: 52.4s\n",
            "171:\ttest: 0.7622291\tbest: 0.7622645 (170)\ttotal: 1m 9s\tremaining: 52s\n",
            "172:\ttest: 0.7622003\tbest: 0.7622645 (170)\ttotal: 1m 10s\tremaining: 51.6s\n",
            "173:\ttest: 0.7622113\tbest: 0.7622645 (170)\ttotal: 1m 10s\tremaining: 51.2s\n",
            "174:\ttest: 0.7621932\tbest: 0.7622645 (170)\ttotal: 1m 11s\tremaining: 50.7s\n",
            "175:\ttest: 0.7621631\tbest: 0.7622645 (170)\ttotal: 1m 11s\tremaining: 50.3s\n",
            "176:\ttest: 0.7622372\tbest: 0.7622645 (170)\ttotal: 1m 11s\tremaining: 50s\n",
            "177:\ttest: 0.7623177\tbest: 0.7623177 (177)\ttotal: 1m 12s\tremaining: 49.6s\n",
            "178:\ttest: 0.7623219\tbest: 0.7623219 (178)\ttotal: 1m 12s\tremaining: 49.1s\n",
            "179:\ttest: 0.7623309\tbest: 0.7623309 (179)\ttotal: 1m 13s\tremaining: 48.7s\n",
            "180:\ttest: 0.7625573\tbest: 0.7625573 (180)\ttotal: 1m 13s\tremaining: 48.4s\n",
            "181:\ttest: 0.7626278\tbest: 0.7626278 (181)\ttotal: 1m 13s\tremaining: 47.9s\n",
            "182:\ttest: 0.7626615\tbest: 0.7626615 (182)\ttotal: 1m 14s\tremaining: 47.5s\n",
            "183:\ttest: 0.7626441\tbest: 0.7626615 (182)\ttotal: 1m 14s\tremaining: 47.1s\n",
            "184:\ttest: 0.7626735\tbest: 0.7626735 (184)\ttotal: 1m 15s\tremaining: 46.7s\n",
            "185:\ttest: 0.7626787\tbest: 0.7626787 (185)\ttotal: 1m 15s\tremaining: 46.2s\n",
            "186:\ttest: 0.7627451\tbest: 0.7627451 (186)\ttotal: 1m 15s\tremaining: 45.8s\n",
            "187:\ttest: 0.7628009\tbest: 0.7628009 (187)\ttotal: 1m 16s\tremaining: 45.4s\n",
            "188:\ttest: 0.7628117\tbest: 0.7628117 (188)\ttotal: 1m 16s\tremaining: 45s\n",
            "189:\ttest: 0.7627903\tbest: 0.7628117 (188)\ttotal: 1m 17s\tremaining: 44.6s\n",
            "190:\ttest: 0.7627836\tbest: 0.7628117 (188)\ttotal: 1m 17s\tremaining: 44.2s\n",
            "191:\ttest: 0.7628129\tbest: 0.7628129 (191)\ttotal: 1m 17s\tremaining: 43.8s\n",
            "192:\ttest: 0.7627712\tbest: 0.7628129 (191)\ttotal: 1m 18s\tremaining: 43.4s\n",
            "193:\ttest: 0.7627822\tbest: 0.7628129 (191)\ttotal: 1m 18s\tremaining: 43s\n",
            "194:\ttest: 0.7628229\tbest: 0.7628229 (194)\ttotal: 1m 18s\tremaining: 42.5s\n",
            "195:\ttest: 0.7628304\tbest: 0.7628304 (195)\ttotal: 1m 19s\tremaining: 42.1s\n",
            "196:\ttest: 0.7628741\tbest: 0.7628741 (196)\ttotal: 1m 19s\tremaining: 41.7s\n",
            "197:\ttest: 0.7628851\tbest: 0.7628851 (197)\ttotal: 1m 20s\tremaining: 41.3s\n",
            "198:\ttest: 0.7628837\tbest: 0.7628851 (197)\ttotal: 1m 20s\tremaining: 40.9s\n",
            "199:\ttest: 0.7629262\tbest: 0.7629262 (199)\ttotal: 1m 20s\tremaining: 40.5s\n",
            "200:\ttest: 0.7629417\tbest: 0.7629417 (200)\ttotal: 1m 21s\tremaining: 40s\n",
            "201:\ttest: 0.7629171\tbest: 0.7629417 (200)\ttotal: 1m 21s\tremaining: 39.6s\n",
            "202:\ttest: 0.7629433\tbest: 0.7629433 (202)\ttotal: 1m 22s\tremaining: 39.2s\n",
            "203:\ttest: 0.7634430\tbest: 0.7634430 (203)\ttotal: 1m 22s\tremaining: 38.9s\n",
            "204:\ttest: 0.7634088\tbest: 0.7634430 (203)\ttotal: 1m 22s\tremaining: 38.5s\n",
            "205:\ttest: 0.7634040\tbest: 0.7634430 (203)\ttotal: 1m 23s\tremaining: 38.1s\n",
            "206:\ttest: 0.7633764\tbest: 0.7634430 (203)\ttotal: 1m 23s\tremaining: 37.7s\n",
            "207:\ttest: 0.7634255\tbest: 0.7634430 (203)\ttotal: 1m 24s\tremaining: 37.3s\n",
            "208:\ttest: 0.7634086\tbest: 0.7634430 (203)\ttotal: 1m 24s\tremaining: 36.9s\n",
            "209:\ttest: 0.7634353\tbest: 0.7634430 (203)\ttotal: 1m 25s\tremaining: 36.5s\n",
            "210:\ttest: 0.7634431\tbest: 0.7634431 (210)\ttotal: 1m 25s\tremaining: 36.1s\n",
            "211:\ttest: 0.7634318\tbest: 0.7634431 (210)\ttotal: 1m 25s\tremaining: 35.7s\n",
            "212:\ttest: 0.7633971\tbest: 0.7634431 (210)\ttotal: 1m 26s\tremaining: 35.3s\n",
            "213:\ttest: 0.7633903\tbest: 0.7634431 (210)\ttotal: 1m 26s\tremaining: 34.9s\n",
            "214:\ttest: 0.7634597\tbest: 0.7634597 (214)\ttotal: 1m 27s\tremaining: 34.4s\n",
            "215:\ttest: 0.7634882\tbest: 0.7634882 (215)\ttotal: 1m 27s\tremaining: 34s\n",
            "216:\ttest: 0.7634924\tbest: 0.7634924 (216)\ttotal: 1m 27s\tremaining: 33.6s\n",
            "217:\ttest: 0.7639161\tbest: 0.7639161 (217)\ttotal: 1m 28s\tremaining: 33.3s\n",
            "218:\ttest: 0.7639136\tbest: 0.7639161 (217)\ttotal: 1m 29s\tremaining: 32.9s\n",
            "219:\ttest: 0.7639779\tbest: 0.7639779 (219)\ttotal: 1m 29s\tremaining: 32.5s\n",
            "220:\ttest: 0.7639600\tbest: 0.7639779 (219)\ttotal: 1m 29s\tremaining: 32.1s\n",
            "221:\ttest: 0.7639886\tbest: 0.7639886 (221)\ttotal: 1m 30s\tremaining: 31.7s\n",
            "222:\ttest: 0.7639922\tbest: 0.7639922 (222)\ttotal: 1m 30s\tremaining: 31.3s\n",
            "223:\ttest: 0.7640277\tbest: 0.7640277 (223)\ttotal: 1m 31s\tremaining: 30.9s\n",
            "224:\ttest: 0.7640059\tbest: 0.7640277 (223)\ttotal: 1m 31s\tremaining: 30.5s\n",
            "225:\ttest: 0.7640035\tbest: 0.7640277 (223)\ttotal: 1m 31s\tremaining: 30.1s\n",
            "226:\ttest: 0.7640218\tbest: 0.7640277 (223)\ttotal: 1m 32s\tremaining: 29.7s\n",
            "227:\ttest: 0.7640265\tbest: 0.7640277 (223)\ttotal: 1m 32s\tremaining: 29.2s\n",
            "228:\ttest: 0.7640142\tbest: 0.7640277 (223)\ttotal: 1m 33s\tremaining: 28.8s\n",
            "229:\ttest: 0.7639724\tbest: 0.7640277 (223)\ttotal: 1m 33s\tremaining: 28.4s\n",
            "230:\ttest: 0.7639343\tbest: 0.7640277 (223)\ttotal: 1m 33s\tremaining: 28s\n",
            "231:\ttest: 0.7639053\tbest: 0.7640277 (223)\ttotal: 1m 34s\tremaining: 27.6s\n",
            "232:\ttest: 0.7639491\tbest: 0.7640277 (223)\ttotal: 1m 34s\tremaining: 27.2s\n",
            "233:\ttest: 0.7639716\tbest: 0.7640277 (223)\ttotal: 1m 35s\tremaining: 26.8s\n",
            "234:\ttest: 0.7639831\tbest: 0.7640277 (223)\ttotal: 1m 35s\tremaining: 26.4s\n",
            "235:\ttest: 0.7641163\tbest: 0.7641163 (235)\ttotal: 1m 35s\tremaining: 26s\n",
            "236:\ttest: 0.7641411\tbest: 0.7641411 (236)\ttotal: 1m 36s\tremaining: 25.6s\n",
            "237:\ttest: 0.7641423\tbest: 0.7641423 (237)\ttotal: 1m 36s\tremaining: 25.2s\n",
            "238:\ttest: 0.7641456\tbest: 0.7641456 (238)\ttotal: 1m 37s\tremaining: 24.8s\n",
            "239:\ttest: 0.7641370\tbest: 0.7641456 (238)\ttotal: 1m 37s\tremaining: 24.4s\n",
            "240:\ttest: 0.7641892\tbest: 0.7641892 (240)\ttotal: 1m 37s\tremaining: 24s\n",
            "241:\ttest: 0.7642344\tbest: 0.7642344 (241)\ttotal: 1m 38s\tremaining: 23.6s\n",
            "242:\ttest: 0.7643112\tbest: 0.7643112 (242)\ttotal: 1m 38s\tremaining: 23.1s\n",
            "243:\ttest: 0.7643037\tbest: 0.7643112 (242)\ttotal: 1m 39s\tremaining: 22.7s\n",
            "244:\ttest: 0.7642778\tbest: 0.7643112 (242)\ttotal: 1m 39s\tremaining: 22.3s\n",
            "245:\ttest: 0.7643387\tbest: 0.7643387 (245)\ttotal: 1m 39s\tremaining: 21.9s\n",
            "246:\ttest: 0.7643537\tbest: 0.7643537 (246)\ttotal: 1m 40s\tremaining: 21.5s\n",
            "247:\ttest: 0.7643586\tbest: 0.7643586 (247)\ttotal: 1m 40s\tremaining: 21.1s\n",
            "248:\ttest: 0.7643207\tbest: 0.7643586 (247)\ttotal: 1m 41s\tremaining: 20.7s\n",
            "249:\ttest: 0.7644310\tbest: 0.7644310 (249)\ttotal: 1m 41s\tremaining: 20.3s\n",
            "250:\ttest: 0.7644443\tbest: 0.7644443 (250)\ttotal: 1m 42s\tremaining: 19.9s\n",
            "251:\ttest: 0.7644208\tbest: 0.7644443 (250)\ttotal: 1m 42s\tremaining: 19.5s\n",
            "252:\ttest: 0.7644301\tbest: 0.7644443 (250)\ttotal: 1m 42s\tremaining: 19.1s\n",
            "253:\ttest: 0.7644214\tbest: 0.7644443 (250)\ttotal: 1m 43s\tremaining: 18.7s\n",
            "254:\ttest: 0.7644588\tbest: 0.7644588 (254)\ttotal: 1m 43s\tremaining: 18.3s\n",
            "255:\ttest: 0.7644524\tbest: 0.7644588 (254)\ttotal: 1m 44s\tremaining: 17.9s\n",
            "256:\ttest: 0.7645180\tbest: 0.7645180 (256)\ttotal: 1m 44s\tremaining: 17.5s\n",
            "257:\ttest: 0.7645123\tbest: 0.7645180 (256)\ttotal: 1m 45s\tremaining: 17.1s\n",
            "258:\ttest: 0.7645115\tbest: 0.7645180 (256)\ttotal: 1m 45s\tremaining: 16.7s\n",
            "259:\ttest: 0.7645203\tbest: 0.7645203 (259)\ttotal: 1m 45s\tremaining: 16.3s\n",
            "260:\ttest: 0.7645346\tbest: 0.7645346 (260)\ttotal: 1m 46s\tremaining: 15.9s\n",
            "261:\ttest: 0.7645443\tbest: 0.7645443 (261)\ttotal: 1m 46s\tremaining: 15.5s\n",
            "262:\ttest: 0.7645670\tbest: 0.7645670 (262)\ttotal: 1m 46s\tremaining: 15s\n",
            "263:\ttest: 0.7646505\tbest: 0.7646505 (263)\ttotal: 1m 47s\tremaining: 14.7s\n",
            "264:\ttest: 0.7646413\tbest: 0.7646505 (263)\ttotal: 1m 47s\tremaining: 14.2s\n",
            "265:\ttest: 0.7646124\tbest: 0.7646505 (263)\ttotal: 1m 48s\tremaining: 13.8s\n",
            "266:\ttest: 0.7646122\tbest: 0.7646505 (263)\ttotal: 1m 48s\tremaining: 13.4s\n",
            "267:\ttest: 0.7646610\tbest: 0.7646610 (267)\ttotal: 1m 49s\tremaining: 13s\n",
            "268:\ttest: 0.7646645\tbest: 0.7646645 (268)\ttotal: 1m 49s\tremaining: 12.6s\n",
            "269:\ttest: 0.7646691\tbest: 0.7646691 (269)\ttotal: 1m 49s\tremaining: 12.2s\n",
            "270:\ttest: 0.7646310\tbest: 0.7646691 (269)\ttotal: 1m 50s\tremaining: 11.8s\n",
            "271:\ttest: 0.7645830\tbest: 0.7646691 (269)\ttotal: 1m 50s\tremaining: 11.4s\n",
            "272:\ttest: 0.7646100\tbest: 0.7646691 (269)\ttotal: 1m 51s\tremaining: 11s\n",
            "273:\ttest: 0.7646063\tbest: 0.7646691 (269)\ttotal: 1m 51s\tremaining: 10.6s\n",
            "274:\ttest: 0.7646561\tbest: 0.7646691 (269)\ttotal: 1m 52s\tremaining: 10.2s\n",
            "275:\ttest: 0.7646053\tbest: 0.7646691 (269)\ttotal: 1m 52s\tremaining: 9.78s\n",
            "276:\ttest: 0.7646121\tbest: 0.7646691 (269)\ttotal: 1m 52s\tremaining: 9.37s\n",
            "277:\ttest: 0.7646380\tbest: 0.7646691 (269)\ttotal: 1m 53s\tremaining: 8.96s\n",
            "278:\ttest: 0.7647879\tbest: 0.7647879 (278)\ttotal: 1m 53s\tremaining: 8.55s\n",
            "279:\ttest: 0.7647985\tbest: 0.7647985 (279)\ttotal: 1m 54s\tremaining: 8.14s\n",
            "280:\ttest: 0.7648025\tbest: 0.7648025 (280)\ttotal: 1m 54s\tremaining: 7.74s\n",
            "281:\ttest: 0.7648000\tbest: 0.7648025 (280)\ttotal: 1m 54s\tremaining: 7.33s\n",
            "282:\ttest: 0.7647734\tbest: 0.7648025 (280)\ttotal: 1m 55s\tremaining: 6.92s\n",
            "283:\ttest: 0.7647839\tbest: 0.7648025 (280)\ttotal: 1m 55s\tremaining: 6.51s\n",
            "284:\ttest: 0.7647877\tbest: 0.7648025 (280)\ttotal: 1m 55s\tremaining: 6.1s\n",
            "285:\ttest: 0.7647939\tbest: 0.7648025 (280)\ttotal: 1m 56s\tremaining: 5.69s\n",
            "286:\ttest: 0.7648319\tbest: 0.7648319 (286)\ttotal: 1m 56s\tremaining: 5.29s\n",
            "287:\ttest: 0.7647561\tbest: 0.7648319 (286)\ttotal: 1m 57s\tremaining: 4.88s\n",
            "288:\ttest: 0.7647628\tbest: 0.7648319 (286)\ttotal: 1m 57s\tremaining: 4.47s\n",
            "289:\ttest: 0.7647408\tbest: 0.7648319 (286)\ttotal: 1m 57s\tremaining: 4.07s\n",
            "290:\ttest: 0.7647637\tbest: 0.7648319 (286)\ttotal: 1m 58s\tremaining: 3.66s\n",
            "291:\ttest: 0.7647196\tbest: 0.7648319 (286)\ttotal: 1m 58s\tremaining: 3.25s\n",
            "292:\ttest: 0.7647231\tbest: 0.7648319 (286)\ttotal: 1m 59s\tremaining: 2.85s\n",
            "293:\ttest: 0.7647565\tbest: 0.7648319 (286)\ttotal: 1m 59s\tremaining: 2.44s\n",
            "294:\ttest: 0.7647590\tbest: 0.7648319 (286)\ttotal: 1m 59s\tremaining: 2.03s\n",
            "295:\ttest: 0.7647714\tbest: 0.7648319 (286)\ttotal: 2m\tremaining: 1.63s\n",
            "296:\ttest: 0.7647761\tbest: 0.7648319 (286)\ttotal: 2m\tremaining: 1.22s\n",
            "297:\ttest: 0.7647643\tbest: 0.7648319 (286)\ttotal: 2m 1s\tremaining: 813ms\n",
            "298:\ttest: 0.7647654\tbest: 0.7648319 (286)\ttotal: 2m 1s\tremaining: 407ms\n",
            "299:\ttest: 0.7648276\tbest: 0.7648319 (286)\ttotal: 2m 1s\tremaining: 0us\n",
            "\n",
            "bestTest = 0.7648319361\n",
            "bestIteration = 286\n",
            "\n",
            "Shrink model to first 287 iterations.\n"
          ],
          "name": "stdout"
        },
        {
          "output_type": "execute_result",
          "data": {
            "text/plain": [
              "<catboost.core.CatBoostClassifier at 0x7f6e2dbb1b90>"
            ]
          },
          "metadata": {
            "tags": []
          },
          "execution_count": 61
        },
        {
          "output_type": "execute_result",
          "data": {
            "text/plain": [
              "2.0758543690045674"
            ]
          },
          "metadata": {
            "tags": []
          },
          "execution_count": 61
        }
      ]
    },
    {
      "cell_type": "code",
      "metadata": {
        "colab": {
          "base_uri": "https://localhost:8080/",
          "height": 54
        },
        "id": "NAYUSZ6wTb1l",
        "outputId": "47cf58d2-0434-4b86-dea9-007d4853c7ae"
      },
      "source": [
        "\n",
        "\"\"\"\n",
        "predict\n",
        "   Apply the model to the given dataset.\n",
        "   Note. The model can not be correctly\n",
        "   applied if the order of the columns\n",
        "   in the testing and training datasets\n",
        "   differs.\n",
        "\"\"\"\n",
        "\n",
        "# 5.3  Apply model to make class-wise predictions\n",
        "prediction = clf.predict(X_test,\n",
        "                         verbose = True,\n",
        "                         prediction_type='Class'  # Options: Probability\n",
        "                         )\n"
      ],
      "execution_count": 62,
      "outputs": [
        {
          "output_type": "execute_result",
          "data": {
            "application/vnd.google.colaboratory.intrinsic+json": {
              "type": "string"
            },
            "text/plain": [
              "'\\npredict\\n   Apply the model to the given dataset.\\n   Note. The model can not be correctly\\n   applied if the order of the columns\\n   in the testing and training datasets\\n   differs.\\n'"
            ]
          },
          "metadata": {
            "tags": []
          },
          "execution_count": 62
        }
      ]
    },
    {
      "cell_type": "code",
      "metadata": {
        "id": "kLhHsxF8Xyz5"
      },
      "source": [
        "\n",
        "# 5.4 Apply model to make probaility predictions\n",
        "#     IInd col of prediction_prob is prob of being '1'.\n",
        "prediction_prob = clf.predict(X_test,\n",
        "                              verbose = True,\n",
        "                              prediction_type='Probability'\n",
        "                             )\n",
        "\n"
      ],
      "execution_count": 63,
      "outputs": []
    },
    {
      "cell_type": "code",
      "metadata": {
        "id": "H8yugO9qX2VE"
      },
      "source": [
        "\n",
        "# 5.5 Dataframe of actual vs predicted class-values.\n",
        "df = pd.DataFrame(\n",
        "                     {\n",
        "                     'actualID':y_test,\n",
        "                     'Predicted':prediction\n",
        "                     }\n",
        "                 )\n"
      ],
      "execution_count": 64,
      "outputs": []
    },
    {
      "cell_type": "code",
      "metadata": {
        "colab": {
          "base_uri": "https://localhost:8080/"
        },
        "id": "TZ7hNE4BX5UD",
        "outputId": "afef724e-473f-4672-c4cd-75a213268261"
      },
      "source": [
        "\n",
        "# 5.6 Confusion matrix\n",
        "confusion_matrix(df.actualID,\n",
        "\t             df.Predicted\n",
        "\t             )\n"
      ],
      "execution_count": 65,
      "outputs": [
        {
          "output_type": "execute_result",
          "data": {
            "text/plain": [
              "array([[ 2896, 10797],\n",
              "       [ 1392, 42076]])"
            ]
          },
          "metadata": {
            "tags": []
          },
          "execution_count": 65
        }
      ]
    },
    {
      "cell_type": "code",
      "metadata": {
        "colab": {
          "base_uri": "https://localhost:8080/"
        },
        "id": "NSj8lknpX8IH",
        "outputId": "c1021c33-79e9-4237-9c7b-78563d35e3b3"
      },
      "source": [
        "\n",
        "# 5.7 Calculate performance parameters\n",
        "#     ravel() flattens the matrix\n",
        "tn_1, fp_1, fn_1, tp_1 = confusion_matrix(df.actualID,\n",
        "\t                              df.Predicted).ravel()\n",
        "\n",
        "# 5.8 Performance parameters\n",
        "print(\"accu:     \", (tp_1 + tn_1)/(tp_1 + fp_1 + fn_1 + tn_1))\n",
        "print(\"precision:\", tp_1/(tp_1 + fp_1) )\n",
        "print(\"recall:   \", tp_1/(tp_1 + fn_1) )\n",
        "\n"
      ],
      "execution_count": 66,
      "outputs": [
        {
          "output_type": "stream",
          "text": [
            "accu:      0.7867602036353458\n",
            "precision: 0.7957936943241352\n",
            "recall:    0.9679764424404159\n"
          ],
          "name": "stdout"
        }
      ]
    },
    {
      "cell_type": "code",
      "metadata": {
        "id": "ncjDociiYATt"
      },
      "source": [
        "\n",
        "# 5.9 AUC plot\n",
        "# Ref: https://stackoverflow.com/questions/25009284/how-to-plot-roc-curve-in-python\n",
        "skplt.metrics.plot_roc_curve(y_test, prediction_prob)\n",
        "plt.show()\n",
        "\n"
      ],
      "execution_count": null,
      "outputs": []
    },
    {
      "cell_type": "code",
      "metadata": {
        "id": "r9ekvKhSYF1Z"
      },
      "source": [
        "\n",
        "# 6. Get feature importance\n",
        "#    First transform data into a special matrix\n",
        "#    as rquired by catboost\n",
        "\n",
        "train_pool = Pool(X_train, y_train, cat_features=cat_features_ids)\n"
      ],
      "execution_count": 68,
      "outputs": []
    },
    {
      "cell_type": "code",
      "metadata": {
        "id": "92788SSBYJfw"
      },
      "source": [
        "\n",
        "# 6. Get feature importance\n",
        "#    First transform data into a special matrix\n",
        "#    as rquired by catboost\n",
        "\n",
        "train_pool = Pool(X_train, y_train, cat_features=cat_features_ids)\n"
      ],
      "execution_count": 69,
      "outputs": []
    },
    {
      "cell_type": "code",
      "metadata": {
        "id": "GpNwxIoBYN0d"
      },
      "source": [
        "\n",
        "# 6.1 Calculate feature importance using model object (clf)\n",
        "\n",
        "feature_importances = clf.get_feature_importance(data=train_pool)\n",
        "feature_importances\n",
        "feature_names = X_train.columns\n"
      ],
      "execution_count": null,
      "outputs": []
    },
    {
      "cell_type": "code",
      "metadata": {
        "id": "CXX1RJbyYQmo"
      },
      "source": [
        "\n",
        "# 6.2 Create dataframe of feature importance, col-name wise\n",
        "df_imp = pd.DataFrame(\n",
        "                       { 'feature_names':feature_names,\n",
        "                         'feature_impt': feature_importances\n",
        "                        }\n",
        "                     )\n",
        "\n",
        "df_imp\n"
      ],
      "execution_count": null,
      "outputs": []
    },
    {
      "cell_type": "code",
      "metadata": {
        "id": "QEbdCk1aYWGr"
      },
      "source": [
        ""
      ],
      "execution_count": null,
      "outputs": []
    }
  ]
}