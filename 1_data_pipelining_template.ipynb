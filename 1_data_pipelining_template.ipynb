{
  "nbformat": 4,
  "nbformat_minor": 0,
  "metadata": {
    "kernelspec": {
      "display_name": "Python 3",
      "language": "python",
      "name": "python3"
    },
    "language_info": {
      "codemirror_mode": {
        "name": "ipython",
        "version": 3
      },
      "file_extension": ".py",
      "mimetype": "text/x-python",
      "name": "python",
      "nbconvert_exporter": "python",
      "pygments_lexer": "ipython3",
      "version": "3.8.3"
    },
    "colab": {
      "name": "1.data pipelining template.ipynb",
      "provenance": [],
      "collapsed_sections": [
        "KjgQEVq1KX0G",
        "nuKQRILEKdVV",
        "EdzkFAaw2aTF",
        "nMG6vGL62aTI",
        "roim7Ncy2aTL",
        "WSYGhgu1DcQu",
        "qE21s8EK2aTN",
        "rcjXaDu-EaEM",
        "XbxE4yXZ2aTN",
        "zSrunwTQ2aTO",
        "BfIsB1cO2aTO"
      ],
      "include_colab_link": true
    }
  },
  "cells": [
    {
      "cell_type": "markdown",
      "metadata": {
        "id": "view-in-github",
        "colab_type": "text"
      },
      "source": [
        "<a href=\"https://colab.research.google.com/github/harnalashok/classification/blob/main/1_data_pipelining_template.ipynb\" target=\"_parent\"><img src=\"https://colab.research.google.com/assets/colab-badge.svg\" alt=\"Open In Colab\"/></a>"
      ]
    },
    {
      "cell_type": "code",
      "metadata": {
        "id": "PDvAPLfo2aS7"
      },
      "source": [
        "# Last amended:  8th May, 2021\n",
        "# My folder:    /home/ashok/Documents/5.decisiontree\n",
        "# VM: lubuntu_machinelearning_I\n",
        "# Ref Why dummy encoding:\n",
        "#        https://www.statisticssolutions.com/dummy-coding-the-how-and-why/\n",
        "\n",
        "# Objectives:\n",
        "#     i)    Read and explore data\n",
        "#    ii)    Deal with missing values \n",
        "#   iii)    OneHotEncode categorical features\n",
        "#    iv)    Use Pipeline and ColumnTransformer \n",
        "#           for data transformation\n",
        "#    v)     Pipeline for modeling\n",
        "#    vi)    Nested pipes"
      ],
      "execution_count": null,
      "outputs": []
    },
    {
      "cell_type": "code",
      "metadata": {
        "id": "BhOobKZkep38",
        "colab": {
          "base_uri": "https://localhost:8080/"
        },
        "outputId": "cad00caf-93a8-4602-efb3-5a78982ba958"
      },
      "source": [
        "# 0.0 Install recent version of sklearn for\n",
        "#     visualizing pipelines\n",
        "\n",
        "!pip install --upgrade scikit-learn"
      ],
      "execution_count": 1,
      "outputs": [
        {
          "output_type": "stream",
          "text": [
            "Collecting scikit-learn\n",
            "\u001b[?25l  Downloading https://files.pythonhosted.org/packages/a8/eb/a48f25c967526b66d5f1fa7a984594f0bf0a5afafa94a8c4dbc317744620/scikit_learn-0.24.2-cp37-cp37m-manylinux2010_x86_64.whl (22.3MB)\n",
            "\u001b[K     |████████████████████████████████| 22.3MB 1.1MB/s \n",
            "\u001b[?25hCollecting threadpoolctl>=2.0.0\n",
            "  Downloading https://files.pythonhosted.org/packages/f7/12/ec3f2e203afa394a149911729357aa48affc59c20e2c1c8297a60f33f133/threadpoolctl-2.1.0-py3-none-any.whl\n",
            "Requirement already satisfied, skipping upgrade: numpy>=1.13.3 in /usr/local/lib/python3.7/dist-packages (from scikit-learn) (1.19.5)\n",
            "Requirement already satisfied, skipping upgrade: joblib>=0.11 in /usr/local/lib/python3.7/dist-packages (from scikit-learn) (1.0.1)\n",
            "Requirement already satisfied, skipping upgrade: scipy>=0.19.1 in /usr/local/lib/python3.7/dist-packages (from scikit-learn) (1.4.1)\n",
            "Installing collected packages: threadpoolctl, scikit-learn\n",
            "  Found existing installation: scikit-learn 0.22.2.post1\n",
            "    Uninstalling scikit-learn-0.22.2.post1:\n",
            "      Successfully uninstalled scikit-learn-0.22.2.post1\n",
            "Successfully installed scikit-learn-0.24.2 threadpoolctl-2.1.0\n"
          ],
          "name": "stdout"
        }
      ]
    },
    {
      "cell_type": "markdown",
      "metadata": {
        "id": "KjgQEVq1KX0G"
      },
      "source": [
        "### Call libraries\n"
      ]
    },
    {
      "cell_type": "code",
      "metadata": {
        "id": "XZwZ335C2aTB"
      },
      "source": [
        "# 1.0 Reset memory\n",
        "#%reset -f\n",
        "# 1.1 Call libraries\n",
        "\n",
        "## Data manipulation\n",
        "import numpy as np\n",
        "import pandas as pd\n",
        "\n",
        "# 1.2 for data splitting\n",
        "from sklearn.model_selection import train_test_split\n",
        "\n",
        "## Transformers:\n",
        "# 1.3 Class for imputing missing values\n",
        "# https://scikit-learn.org/stable/modules/generated/sklearn.impute.SimpleImputer.html\n",
        "from sklearn.impute import SimpleImputer\n",
        "\n",
        "# 1.4 One hot encode categorical data--Convert to dummy\n",
        "# https://scikit-learn.org/stable/modules/generated/sklearn.preprocessing.OneHotEncoder.html\n",
        "from sklearn.preprocessing import OneHotEncoder as onehot\n",
        "\n",
        "# 1.5 Label encode target column\n",
        "from sklearn.preprocessing import LabelEncoder\n",
        "\n",
        "# 1.6 Scale numeric data\n",
        "from sklearn.preprocessing import StandardScaler\n",
        "\n",
        "\n",
        "## Composite Transformers\n",
        "# 1.7 Class for applying multiple data transformation jobs\n",
        "from sklearn.compose import ColumnTransformer\n",
        "\n",
        "# 1.8 Pipeline class\n",
        "from sklearn.pipeline import Pipeline\n",
        "\n",
        "# 1.9 Estimator\n",
        "# Ref: https://scikit-learn.org/stable/modules/generated/sklearn.tree.DecisionTreeClassifier.html\n",
        "# User guide: https://scikit-learn.org/stable/modules/tree.html\n",
        "from sklearn.tree import DecisionTreeClassifier \n",
        "\n",
        "# 1.10 To plot pipeline diagram\n",
        "from sklearn import set_config"
      ],
      "execution_count": 2,
      "outputs": []
    },
    {
      "cell_type": "code",
      "metadata": {
        "id": "JVR_x1sr2aTC"
      },
      "source": [
        "# 1.11 Display outputs of all commands from a cell--not just of the last command\n",
        "from IPython.core.interactiveshell import InteractiveShell\n",
        "InteractiveShell.ast_node_interactivity = \"all\""
      ],
      "execution_count": 3,
      "outputs": []
    },
    {
      "cell_type": "code",
      "metadata": {
        "id": "UecQ2sRu2aTD"
      },
      "source": [
        "# 2.0 Import warnings module\n",
        "import warnings\n",
        "# 2.1 Do not print warnings on screen\n",
        "warnings.filterwarnings(\"ignore\")"
      ],
      "execution_count": 4,
      "outputs": []
    },
    {
      "cell_type": "markdown",
      "metadata": {
        "id": "nuKQRILEKdVV"
      },
      "source": [
        "### Read and preprocess data\n",
        "Read data, create simple cat features and shuffle data"
      ]
    },
    {
      "cell_type": "code",
      "metadata": {
        "colab": {
          "base_uri": "https://localhost:8080/",
          "height": 488
        },
        "id": "CbM3cNrf2aTE",
        "outputId": "eb5eef4e-aa07-40a6-b61a-4e9ee57d568a"
      },
      "source": [
        "# 3.0 Create a toy dataset with six columns\n",
        "#     Every column has at least one NaN except column: 'creditability'\n",
        "#     'creditability' is our target column so no NaN\n",
        "df = pd.DataFrame({\n",
        "                    'creditability' : ['yes','yes','yes','yes','yes','yes','no','no','no','no','no','no','no','no'], # Target column\n",
        "                    'acc_balance'   : [1,2,1,np.nan,1,2,1,2,1,2,2,np.nan,np.nan,np.nan],\n",
        "                    'house_owned'   : ['big','small',np.nan,'small','big',np.nan,np.nan,'big','small','big','big','small',np.nan,'small'],\n",
        "                    'age'           : [21,45,np.nan,40,34,89,23,65,87,np.nan,90,np.nan,60,np.nan],\n",
        "                    'income'        : [np.nan,7.8,3.4,5.5,2.1,8.9,3.9,np.nan,6.9,9.0,np.nan,8.0,8.5,np.nan],  \n",
        "                    'credit_amount' : [1011,np.nan,3211,np.nan,1000,2323,1010,1500,1300,1782,1212,np.nan,1232,np.nan]\n",
        "                  }\n",
        "               )\n",
        "\n",
        "df    # (14,6)"
      ],
      "execution_count": 5,
      "outputs": [
        {
          "output_type": "execute_result",
          "data": {
            "text/html": [
              "<div>\n",
              "<style scoped>\n",
              "    .dataframe tbody tr th:only-of-type {\n",
              "        vertical-align: middle;\n",
              "    }\n",
              "\n",
              "    .dataframe tbody tr th {\n",
              "        vertical-align: top;\n",
              "    }\n",
              "\n",
              "    .dataframe thead th {\n",
              "        text-align: right;\n",
              "    }\n",
              "</style>\n",
              "<table border=\"1\" class=\"dataframe\">\n",
              "  <thead>\n",
              "    <tr style=\"text-align: right;\">\n",
              "      <th></th>\n",
              "      <th>creditability</th>\n",
              "      <th>acc_balance</th>\n",
              "      <th>house_owned</th>\n",
              "      <th>age</th>\n",
              "      <th>income</th>\n",
              "      <th>credit_amount</th>\n",
              "    </tr>\n",
              "  </thead>\n",
              "  <tbody>\n",
              "    <tr>\n",
              "      <th>0</th>\n",
              "      <td>yes</td>\n",
              "      <td>1.0</td>\n",
              "      <td>big</td>\n",
              "      <td>21.0</td>\n",
              "      <td>NaN</td>\n",
              "      <td>1011.0</td>\n",
              "    </tr>\n",
              "    <tr>\n",
              "      <th>1</th>\n",
              "      <td>yes</td>\n",
              "      <td>2.0</td>\n",
              "      <td>small</td>\n",
              "      <td>45.0</td>\n",
              "      <td>7.8</td>\n",
              "      <td>NaN</td>\n",
              "    </tr>\n",
              "    <tr>\n",
              "      <th>2</th>\n",
              "      <td>yes</td>\n",
              "      <td>1.0</td>\n",
              "      <td>NaN</td>\n",
              "      <td>NaN</td>\n",
              "      <td>3.4</td>\n",
              "      <td>3211.0</td>\n",
              "    </tr>\n",
              "    <tr>\n",
              "      <th>3</th>\n",
              "      <td>yes</td>\n",
              "      <td>NaN</td>\n",
              "      <td>small</td>\n",
              "      <td>40.0</td>\n",
              "      <td>5.5</td>\n",
              "      <td>NaN</td>\n",
              "    </tr>\n",
              "    <tr>\n",
              "      <th>4</th>\n",
              "      <td>yes</td>\n",
              "      <td>1.0</td>\n",
              "      <td>big</td>\n",
              "      <td>34.0</td>\n",
              "      <td>2.1</td>\n",
              "      <td>1000.0</td>\n",
              "    </tr>\n",
              "    <tr>\n",
              "      <th>5</th>\n",
              "      <td>yes</td>\n",
              "      <td>2.0</td>\n",
              "      <td>NaN</td>\n",
              "      <td>89.0</td>\n",
              "      <td>8.9</td>\n",
              "      <td>2323.0</td>\n",
              "    </tr>\n",
              "    <tr>\n",
              "      <th>6</th>\n",
              "      <td>no</td>\n",
              "      <td>1.0</td>\n",
              "      <td>NaN</td>\n",
              "      <td>23.0</td>\n",
              "      <td>3.9</td>\n",
              "      <td>1010.0</td>\n",
              "    </tr>\n",
              "    <tr>\n",
              "      <th>7</th>\n",
              "      <td>no</td>\n",
              "      <td>2.0</td>\n",
              "      <td>big</td>\n",
              "      <td>65.0</td>\n",
              "      <td>NaN</td>\n",
              "      <td>1500.0</td>\n",
              "    </tr>\n",
              "    <tr>\n",
              "      <th>8</th>\n",
              "      <td>no</td>\n",
              "      <td>1.0</td>\n",
              "      <td>small</td>\n",
              "      <td>87.0</td>\n",
              "      <td>6.9</td>\n",
              "      <td>1300.0</td>\n",
              "    </tr>\n",
              "    <tr>\n",
              "      <th>9</th>\n",
              "      <td>no</td>\n",
              "      <td>2.0</td>\n",
              "      <td>big</td>\n",
              "      <td>NaN</td>\n",
              "      <td>9.0</td>\n",
              "      <td>1782.0</td>\n",
              "    </tr>\n",
              "    <tr>\n",
              "      <th>10</th>\n",
              "      <td>no</td>\n",
              "      <td>2.0</td>\n",
              "      <td>big</td>\n",
              "      <td>90.0</td>\n",
              "      <td>NaN</td>\n",
              "      <td>1212.0</td>\n",
              "    </tr>\n",
              "    <tr>\n",
              "      <th>11</th>\n",
              "      <td>no</td>\n",
              "      <td>NaN</td>\n",
              "      <td>small</td>\n",
              "      <td>NaN</td>\n",
              "      <td>8.0</td>\n",
              "      <td>NaN</td>\n",
              "    </tr>\n",
              "    <tr>\n",
              "      <th>12</th>\n",
              "      <td>no</td>\n",
              "      <td>NaN</td>\n",
              "      <td>NaN</td>\n",
              "      <td>60.0</td>\n",
              "      <td>8.5</td>\n",
              "      <td>1232.0</td>\n",
              "    </tr>\n",
              "    <tr>\n",
              "      <th>13</th>\n",
              "      <td>no</td>\n",
              "      <td>NaN</td>\n",
              "      <td>small</td>\n",
              "      <td>NaN</td>\n",
              "      <td>NaN</td>\n",
              "      <td>NaN</td>\n",
              "    </tr>\n",
              "  </tbody>\n",
              "</table>\n",
              "</div>"
            ],
            "text/plain": [
              "   creditability  acc_balance house_owned   age  income  credit_amount\n",
              "0            yes          1.0         big  21.0     NaN         1011.0\n",
              "1            yes          2.0       small  45.0     7.8            NaN\n",
              "2            yes          1.0         NaN   NaN     3.4         3211.0\n",
              "3            yes          NaN       small  40.0     5.5            NaN\n",
              "4            yes          1.0         big  34.0     2.1         1000.0\n",
              "5            yes          2.0         NaN  89.0     8.9         2323.0\n",
              "6             no          1.0         NaN  23.0     3.9         1010.0\n",
              "7             no          2.0         big  65.0     NaN         1500.0\n",
              "8             no          1.0       small  87.0     6.9         1300.0\n",
              "9             no          2.0         big   NaN     9.0         1782.0\n",
              "10            no          2.0         big  90.0     NaN         1212.0\n",
              "11            no          NaN       small   NaN     8.0            NaN\n",
              "12            no          NaN         NaN  60.0     8.5         1232.0\n",
              "13            no          NaN       small   NaN     NaN            NaN"
            ]
          },
          "metadata": {
            "tags": []
          },
          "execution_count": 5
        }
      ]
    },
    {
      "cell_type": "code",
      "metadata": {
        "colab": {
          "base_uri": "https://localhost:8080/",
          "height": 488
        },
        "id": "P5kdn8t12aTE",
        "outputId": "80a5bac7-4b61-484a-d046-f3961d01ba5b"
      },
      "source": [
        "# 3.1 Engineer some new categorical features from 'age' and 'credit_amount'\n",
        "#     We will have NaN values both in 'age_cat' and 'credit_amount_cat' columns\n",
        "#     (Note: Strictly speaking this method of creating features outside pipeline is \n",
        "#     not recommended as it leaks information about X_test (to be created, see below)\n",
        "#     to X_train. Recommended way is to wrap it up inside sklearn's FunctionTransformer\n",
        "#     and then use wrapped transformer within a processing pipeline. See:\n",
        "#     https://scikit-learn.org/stable/modules/preprocessing.html#custom-transformers)\n",
        "#     Else, use KBinsDiscretizer of sklearn\n",
        "\n",
        "df['age_cat'] = pd.cut(df['age'],               # Equal interval cuts between min and max\n",
        "                       3,                       # Three cuts\n",
        "                       labels=[\"1\",\"2\", \"3\"]    # Label for each cut\n",
        "                       )\n",
        "\n",
        "# 3.1.1\n",
        "df['credit_amount_cat'] = pd.qcut(df['credit_amount'],       # Equal freq cut\n",
        "                                  3,\n",
        "                                  labels=[\"low\",\"medium\", \"high\"])\n",
        "df   # (13,8)\n"
      ],
      "execution_count": 6,
      "outputs": [
        {
          "output_type": "execute_result",
          "data": {
            "text/html": [
              "<div>\n",
              "<style scoped>\n",
              "    .dataframe tbody tr th:only-of-type {\n",
              "        vertical-align: middle;\n",
              "    }\n",
              "\n",
              "    .dataframe tbody tr th {\n",
              "        vertical-align: top;\n",
              "    }\n",
              "\n",
              "    .dataframe thead th {\n",
              "        text-align: right;\n",
              "    }\n",
              "</style>\n",
              "<table border=\"1\" class=\"dataframe\">\n",
              "  <thead>\n",
              "    <tr style=\"text-align: right;\">\n",
              "      <th></th>\n",
              "      <th>creditability</th>\n",
              "      <th>acc_balance</th>\n",
              "      <th>house_owned</th>\n",
              "      <th>age</th>\n",
              "      <th>income</th>\n",
              "      <th>credit_amount</th>\n",
              "      <th>age_cat</th>\n",
              "      <th>credit_amount_cat</th>\n",
              "    </tr>\n",
              "  </thead>\n",
              "  <tbody>\n",
              "    <tr>\n",
              "      <th>0</th>\n",
              "      <td>yes</td>\n",
              "      <td>1.0</td>\n",
              "      <td>big</td>\n",
              "      <td>21.0</td>\n",
              "      <td>NaN</td>\n",
              "      <td>1011.0</td>\n",
              "      <td>1</td>\n",
              "      <td>low</td>\n",
              "    </tr>\n",
              "    <tr>\n",
              "      <th>1</th>\n",
              "      <td>yes</td>\n",
              "      <td>2.0</td>\n",
              "      <td>small</td>\n",
              "      <td>45.0</td>\n",
              "      <td>7.8</td>\n",
              "      <td>NaN</td>\n",
              "      <td>2</td>\n",
              "      <td>NaN</td>\n",
              "    </tr>\n",
              "    <tr>\n",
              "      <th>2</th>\n",
              "      <td>yes</td>\n",
              "      <td>1.0</td>\n",
              "      <td>NaN</td>\n",
              "      <td>NaN</td>\n",
              "      <td>3.4</td>\n",
              "      <td>3211.0</td>\n",
              "      <td>NaN</td>\n",
              "      <td>high</td>\n",
              "    </tr>\n",
              "    <tr>\n",
              "      <th>3</th>\n",
              "      <td>yes</td>\n",
              "      <td>NaN</td>\n",
              "      <td>small</td>\n",
              "      <td>40.0</td>\n",
              "      <td>5.5</td>\n",
              "      <td>NaN</td>\n",
              "      <td>1</td>\n",
              "      <td>NaN</td>\n",
              "    </tr>\n",
              "    <tr>\n",
              "      <th>4</th>\n",
              "      <td>yes</td>\n",
              "      <td>1.0</td>\n",
              "      <td>big</td>\n",
              "      <td>34.0</td>\n",
              "      <td>2.1</td>\n",
              "      <td>1000.0</td>\n",
              "      <td>1</td>\n",
              "      <td>low</td>\n",
              "    </tr>\n",
              "    <tr>\n",
              "      <th>5</th>\n",
              "      <td>yes</td>\n",
              "      <td>2.0</td>\n",
              "      <td>NaN</td>\n",
              "      <td>89.0</td>\n",
              "      <td>8.9</td>\n",
              "      <td>2323.0</td>\n",
              "      <td>3</td>\n",
              "      <td>high</td>\n",
              "    </tr>\n",
              "    <tr>\n",
              "      <th>6</th>\n",
              "      <td>no</td>\n",
              "      <td>1.0</td>\n",
              "      <td>NaN</td>\n",
              "      <td>23.0</td>\n",
              "      <td>3.9</td>\n",
              "      <td>1010.0</td>\n",
              "      <td>1</td>\n",
              "      <td>low</td>\n",
              "    </tr>\n",
              "    <tr>\n",
              "      <th>7</th>\n",
              "      <td>no</td>\n",
              "      <td>2.0</td>\n",
              "      <td>big</td>\n",
              "      <td>65.0</td>\n",
              "      <td>NaN</td>\n",
              "      <td>1500.0</td>\n",
              "      <td>2</td>\n",
              "      <td>medium</td>\n",
              "    </tr>\n",
              "    <tr>\n",
              "      <th>8</th>\n",
              "      <td>no</td>\n",
              "      <td>1.0</td>\n",
              "      <td>small</td>\n",
              "      <td>87.0</td>\n",
              "      <td>6.9</td>\n",
              "      <td>1300.0</td>\n",
              "      <td>3</td>\n",
              "      <td>medium</td>\n",
              "    </tr>\n",
              "    <tr>\n",
              "      <th>9</th>\n",
              "      <td>no</td>\n",
              "      <td>2.0</td>\n",
              "      <td>big</td>\n",
              "      <td>NaN</td>\n",
              "      <td>9.0</td>\n",
              "      <td>1782.0</td>\n",
              "      <td>NaN</td>\n",
              "      <td>high</td>\n",
              "    </tr>\n",
              "    <tr>\n",
              "      <th>10</th>\n",
              "      <td>no</td>\n",
              "      <td>2.0</td>\n",
              "      <td>big</td>\n",
              "      <td>90.0</td>\n",
              "      <td>NaN</td>\n",
              "      <td>1212.0</td>\n",
              "      <td>3</td>\n",
              "      <td>low</td>\n",
              "    </tr>\n",
              "    <tr>\n",
              "      <th>11</th>\n",
              "      <td>no</td>\n",
              "      <td>NaN</td>\n",
              "      <td>small</td>\n",
              "      <td>NaN</td>\n",
              "      <td>8.0</td>\n",
              "      <td>NaN</td>\n",
              "      <td>NaN</td>\n",
              "      <td>NaN</td>\n",
              "    </tr>\n",
              "    <tr>\n",
              "      <th>12</th>\n",
              "      <td>no</td>\n",
              "      <td>NaN</td>\n",
              "      <td>NaN</td>\n",
              "      <td>60.0</td>\n",
              "      <td>8.5</td>\n",
              "      <td>1232.0</td>\n",
              "      <td>2</td>\n",
              "      <td>medium</td>\n",
              "    </tr>\n",
              "    <tr>\n",
              "      <th>13</th>\n",
              "      <td>no</td>\n",
              "      <td>NaN</td>\n",
              "      <td>small</td>\n",
              "      <td>NaN</td>\n",
              "      <td>NaN</td>\n",
              "      <td>NaN</td>\n",
              "      <td>NaN</td>\n",
              "      <td>NaN</td>\n",
              "    </tr>\n",
              "  </tbody>\n",
              "</table>\n",
              "</div>"
            ],
            "text/plain": [
              "   creditability  acc_balance  ... age_cat  credit_amount_cat\n",
              "0            yes          1.0  ...       1                low\n",
              "1            yes          2.0  ...       2                NaN\n",
              "2            yes          1.0  ...     NaN               high\n",
              "3            yes          NaN  ...       1                NaN\n",
              "4            yes          1.0  ...       1                low\n",
              "5            yes          2.0  ...       3               high\n",
              "6             no          1.0  ...       1                low\n",
              "7             no          2.0  ...       2             medium\n",
              "8             no          1.0  ...       3             medium\n",
              "9             no          2.0  ...     NaN               high\n",
              "10            no          2.0  ...       3                low\n",
              "11            no          NaN  ...     NaN                NaN\n",
              "12            no          NaN  ...       2             medium\n",
              "13            no          NaN  ...     NaN                NaN\n",
              "\n",
              "[14 rows x 8 columns]"
            ]
          },
          "metadata": {
            "tags": []
          },
          "execution_count": 6
        }
      ]
    },
    {
      "cell_type": "code",
      "metadata": {
        "colab": {
          "base_uri": "https://localhost:8080/",
          "height": 488
        },
        "id": "Ry93GzGl2aTF",
        "outputId": "4e7b3e61-98bc-4f4d-a87b-7ff4e1b24fb4"
      },
      "source": [
        "# 3.2 Randomly shuffle data as values \n",
        "#     in 'credibility' column have an order\n",
        "df = df.sample(frac = 1) \n",
        "df    # (13,8)"
      ],
      "execution_count": 7,
      "outputs": [
        {
          "output_type": "execute_result",
          "data": {
            "text/html": [
              "<div>\n",
              "<style scoped>\n",
              "    .dataframe tbody tr th:only-of-type {\n",
              "        vertical-align: middle;\n",
              "    }\n",
              "\n",
              "    .dataframe tbody tr th {\n",
              "        vertical-align: top;\n",
              "    }\n",
              "\n",
              "    .dataframe thead th {\n",
              "        text-align: right;\n",
              "    }\n",
              "</style>\n",
              "<table border=\"1\" class=\"dataframe\">\n",
              "  <thead>\n",
              "    <tr style=\"text-align: right;\">\n",
              "      <th></th>\n",
              "      <th>creditability</th>\n",
              "      <th>acc_balance</th>\n",
              "      <th>house_owned</th>\n",
              "      <th>age</th>\n",
              "      <th>income</th>\n",
              "      <th>credit_amount</th>\n",
              "      <th>age_cat</th>\n",
              "      <th>credit_amount_cat</th>\n",
              "    </tr>\n",
              "  </thead>\n",
              "  <tbody>\n",
              "    <tr>\n",
              "      <th>3</th>\n",
              "      <td>yes</td>\n",
              "      <td>NaN</td>\n",
              "      <td>small</td>\n",
              "      <td>40.0</td>\n",
              "      <td>5.5</td>\n",
              "      <td>NaN</td>\n",
              "      <td>1</td>\n",
              "      <td>NaN</td>\n",
              "    </tr>\n",
              "    <tr>\n",
              "      <th>0</th>\n",
              "      <td>yes</td>\n",
              "      <td>1.0</td>\n",
              "      <td>big</td>\n",
              "      <td>21.0</td>\n",
              "      <td>NaN</td>\n",
              "      <td>1011.0</td>\n",
              "      <td>1</td>\n",
              "      <td>low</td>\n",
              "    </tr>\n",
              "    <tr>\n",
              "      <th>4</th>\n",
              "      <td>yes</td>\n",
              "      <td>1.0</td>\n",
              "      <td>big</td>\n",
              "      <td>34.0</td>\n",
              "      <td>2.1</td>\n",
              "      <td>1000.0</td>\n",
              "      <td>1</td>\n",
              "      <td>low</td>\n",
              "    </tr>\n",
              "    <tr>\n",
              "      <th>10</th>\n",
              "      <td>no</td>\n",
              "      <td>2.0</td>\n",
              "      <td>big</td>\n",
              "      <td>90.0</td>\n",
              "      <td>NaN</td>\n",
              "      <td>1212.0</td>\n",
              "      <td>3</td>\n",
              "      <td>low</td>\n",
              "    </tr>\n",
              "    <tr>\n",
              "      <th>1</th>\n",
              "      <td>yes</td>\n",
              "      <td>2.0</td>\n",
              "      <td>small</td>\n",
              "      <td>45.0</td>\n",
              "      <td>7.8</td>\n",
              "      <td>NaN</td>\n",
              "      <td>2</td>\n",
              "      <td>NaN</td>\n",
              "    </tr>\n",
              "    <tr>\n",
              "      <th>13</th>\n",
              "      <td>no</td>\n",
              "      <td>NaN</td>\n",
              "      <td>small</td>\n",
              "      <td>NaN</td>\n",
              "      <td>NaN</td>\n",
              "      <td>NaN</td>\n",
              "      <td>NaN</td>\n",
              "      <td>NaN</td>\n",
              "    </tr>\n",
              "    <tr>\n",
              "      <th>9</th>\n",
              "      <td>no</td>\n",
              "      <td>2.0</td>\n",
              "      <td>big</td>\n",
              "      <td>NaN</td>\n",
              "      <td>9.0</td>\n",
              "      <td>1782.0</td>\n",
              "      <td>NaN</td>\n",
              "      <td>high</td>\n",
              "    </tr>\n",
              "    <tr>\n",
              "      <th>8</th>\n",
              "      <td>no</td>\n",
              "      <td>1.0</td>\n",
              "      <td>small</td>\n",
              "      <td>87.0</td>\n",
              "      <td>6.9</td>\n",
              "      <td>1300.0</td>\n",
              "      <td>3</td>\n",
              "      <td>medium</td>\n",
              "    </tr>\n",
              "    <tr>\n",
              "      <th>7</th>\n",
              "      <td>no</td>\n",
              "      <td>2.0</td>\n",
              "      <td>big</td>\n",
              "      <td>65.0</td>\n",
              "      <td>NaN</td>\n",
              "      <td>1500.0</td>\n",
              "      <td>2</td>\n",
              "      <td>medium</td>\n",
              "    </tr>\n",
              "    <tr>\n",
              "      <th>11</th>\n",
              "      <td>no</td>\n",
              "      <td>NaN</td>\n",
              "      <td>small</td>\n",
              "      <td>NaN</td>\n",
              "      <td>8.0</td>\n",
              "      <td>NaN</td>\n",
              "      <td>NaN</td>\n",
              "      <td>NaN</td>\n",
              "    </tr>\n",
              "    <tr>\n",
              "      <th>2</th>\n",
              "      <td>yes</td>\n",
              "      <td>1.0</td>\n",
              "      <td>NaN</td>\n",
              "      <td>NaN</td>\n",
              "      <td>3.4</td>\n",
              "      <td>3211.0</td>\n",
              "      <td>NaN</td>\n",
              "      <td>high</td>\n",
              "    </tr>\n",
              "    <tr>\n",
              "      <th>6</th>\n",
              "      <td>no</td>\n",
              "      <td>1.0</td>\n",
              "      <td>NaN</td>\n",
              "      <td>23.0</td>\n",
              "      <td>3.9</td>\n",
              "      <td>1010.0</td>\n",
              "      <td>1</td>\n",
              "      <td>low</td>\n",
              "    </tr>\n",
              "    <tr>\n",
              "      <th>12</th>\n",
              "      <td>no</td>\n",
              "      <td>NaN</td>\n",
              "      <td>NaN</td>\n",
              "      <td>60.0</td>\n",
              "      <td>8.5</td>\n",
              "      <td>1232.0</td>\n",
              "      <td>2</td>\n",
              "      <td>medium</td>\n",
              "    </tr>\n",
              "    <tr>\n",
              "      <th>5</th>\n",
              "      <td>yes</td>\n",
              "      <td>2.0</td>\n",
              "      <td>NaN</td>\n",
              "      <td>89.0</td>\n",
              "      <td>8.9</td>\n",
              "      <td>2323.0</td>\n",
              "      <td>3</td>\n",
              "      <td>high</td>\n",
              "    </tr>\n",
              "  </tbody>\n",
              "</table>\n",
              "</div>"
            ],
            "text/plain": [
              "   creditability  acc_balance  ... age_cat  credit_amount_cat\n",
              "3            yes          NaN  ...       1                NaN\n",
              "0            yes          1.0  ...       1                low\n",
              "4            yes          1.0  ...       1                low\n",
              "10            no          2.0  ...       3                low\n",
              "1            yes          2.0  ...       2                NaN\n",
              "13            no          NaN  ...     NaN                NaN\n",
              "9             no          2.0  ...     NaN               high\n",
              "8             no          1.0  ...       3             medium\n",
              "7             no          2.0  ...       2             medium\n",
              "11            no          NaN  ...     NaN                NaN\n",
              "2            yes          1.0  ...     NaN               high\n",
              "6             no          1.0  ...       1                low\n",
              "12            no          NaN  ...       2             medium\n",
              "5            yes          2.0  ...       3               high\n",
              "\n",
              "[14 rows x 8 columns]"
            ]
          },
          "metadata": {
            "tags": []
          },
          "execution_count": 7
        }
      ]
    },
    {
      "cell_type": "markdown",
      "metadata": {
        "id": "EdzkFAaw2aTF"
      },
      "source": [
        "### Data splitting\n",
        "Separate predictors and target. Create train/test data."
      ]
    },
    {
      "cell_type": "code",
      "metadata": {
        "colab": {
          "base_uri": "https://localhost:8080/"
        },
        "id": "IK22CYOL2aTG",
        "outputId": "dd01c2a7-4448-4cf3-ce12-fa6bcb294871"
      },
      "source": [
        "# 3.3    Popout target\n",
        "#        to separate predictors and target\n",
        "\n",
        "y = df.pop('creditability')\n",
        "y[:3]      # Pandas Series\n",
        "\n",
        "# 3.4   Create an alias of predictors dataset \n",
        "X = df     # X is another name for df\n",
        "X.shape    # (13,7)"
      ],
      "execution_count": 8,
      "outputs": [
        {
          "output_type": "execute_result",
          "data": {
            "text/plain": [
              "3    yes\n",
              "0    yes\n",
              "4    yes\n",
              "Name: creditability, dtype: object"
            ]
          },
          "metadata": {
            "tags": []
          },
          "execution_count": 8
        },
        {
          "output_type": "execute_result",
          "data": {
            "text/plain": [
              "(14, 7)"
            ]
          },
          "metadata": {
            "tags": []
          },
          "execution_count": 8
        }
      ]
    },
    {
      "cell_type": "code",
      "metadata": {
        "colab": {
          "base_uri": "https://localhost:8080/",
          "height": 93
        },
        "id": "Hi7ZJdaT2aTG",
        "outputId": "acefdf09-5b89-4649-9ac3-285e66322a0b"
      },
      "source": [
        "# 4.0 Split dataset. We will preprocess X_train and apply that\n",
        "#     processing to X_test later\n",
        "X_train,X_test, y_train, y_test = train_test_split(\n",
        "                                                    X,                   # Data features\n",
        "                                                    y,                   # Target column\n",
        "                                                    test_size = 0.2      # split-ratio\n",
        "                                                    )\n",
        "\n",
        "# 4.1 Note the use of f-string for printing\n",
        "f\"X_train shape: {X_train.shape}\"    # (11,7)\n",
        "print()\n",
        "f\"X_test.shape : {X_test.shape}\"     # (3,7)\n",
        "print()\n",
        "f\"y_train shape: {y_train.shape}\"    # (11,)\n",
        "print()\n",
        "f\"y_test shape : {y_test.shape}\"     # (3,)"
      ],
      "execution_count": 41,
      "outputs": [
        {
          "output_type": "execute_result",
          "data": {
            "application/vnd.google.colaboratory.intrinsic+json": {
              "type": "string"
            },
            "text/plain": [
              "'X_train shape: (11, 7)'"
            ]
          },
          "metadata": {
            "tags": []
          },
          "execution_count": 41
        },
        {
          "output_type": "stream",
          "text": [
            "\n"
          ],
          "name": "stdout"
        },
        {
          "output_type": "execute_result",
          "data": {
            "application/vnd.google.colaboratory.intrinsic+json": {
              "type": "string"
            },
            "text/plain": [
              "'X_test.shape : (3, 7)'"
            ]
          },
          "metadata": {
            "tags": []
          },
          "execution_count": 41
        },
        {
          "output_type": "stream",
          "text": [
            "\n"
          ],
          "name": "stdout"
        },
        {
          "output_type": "execute_result",
          "data": {
            "application/vnd.google.colaboratory.intrinsic+json": {
              "type": "string"
            },
            "text/plain": [
              "'y_train shape: (11,)'"
            ]
          },
          "metadata": {
            "tags": []
          },
          "execution_count": 41
        },
        {
          "output_type": "stream",
          "text": [
            "\n"
          ],
          "name": "stdout"
        },
        {
          "output_type": "execute_result",
          "data": {
            "application/vnd.google.colaboratory.intrinsic+json": {
              "type": "string"
            },
            "text/plain": [
              "'y_test shape : (3,)'"
            ]
          },
          "metadata": {
            "tags": []
          },
          "execution_count": 41
        }
      ]
    },
    {
      "cell_type": "markdown",
      "metadata": {
        "id": "nMG6vGL62aTI"
      },
      "source": [
        "### Separate out categorical and numerical features\n",
        "\n",
        "Categorical features processing:\n",
        "-  Imputation \n",
        "> - Impute most-frequent value\n",
        "> - Impute constant value\n",
        "- Encoding\n",
        "> -  Target encoding of target only\n",
        "> -  OneHotEncoding of rest features\n",
        "\n",
        "Numeric features processing\n",
        "-  Imputation \n",
        "> - Impute median\n",
        "> - Impute mean\n",
        "- Scaling\n",
        "> -  Min-Max or StandardScaling"
      ]
    },
    {
      "cell_type": "code",
      "metadata": {
        "colab": {
          "base_uri": "https://localhost:8080/",
          "height": 382
        },
        "id": "QTPkGJ992aTJ",
        "outputId": "695b59a3-864b-454c-a3a2-8956dc5decfa"
      },
      "source": [
        "### 4.3\n",
        "###    Which columns are categorical\n",
        "###    but disguised as integers\n",
        "\n",
        "# 4.3 How many unique values per column.\n",
        "#     Check every column\n",
        "#     We will assume that if number of unique values\n",
        "#      are 4 or less it is categorical column else numeric\n",
        "\n",
        "f\"Total no of unique values per column are:\" ; print()\n",
        "X_train.nunique()        # Total no of unique values in each column\n",
        "\n",
        "# 4.4 If no. of unique values less than 5, it is categorical\n",
        "print(\"\\n------\\n\")\n",
        "f\"True are categorical and False are numerical:\" ; print()\n",
        "X_train.nunique() < 5    # All True are categorical\n"
      ],
      "execution_count": 42,
      "outputs": [
        {
          "output_type": "execute_result",
          "data": {
            "application/vnd.google.colaboratory.intrinsic+json": {
              "type": "string"
            },
            "text/plain": [
              "'Total no of unique values per column are:'"
            ]
          },
          "metadata": {
            "tags": []
          },
          "execution_count": 42
        },
        {
          "output_type": "stream",
          "text": [
            "\n"
          ],
          "name": "stdout"
        },
        {
          "output_type": "execute_result",
          "data": {
            "text/plain": [
              "acc_balance          2\n",
              "house_owned          2\n",
              "age                  8\n",
              "income               7\n",
              "credit_amount        9\n",
              "age_cat              3\n",
              "credit_amount_cat    3\n",
              "dtype: int64"
            ]
          },
          "metadata": {
            "tags": []
          },
          "execution_count": 42
        },
        {
          "output_type": "stream",
          "text": [
            "\n",
            "------\n",
            "\n"
          ],
          "name": "stdout"
        },
        {
          "output_type": "execute_result",
          "data": {
            "application/vnd.google.colaboratory.intrinsic+json": {
              "type": "string"
            },
            "text/plain": [
              "'True are categorical and False are numerical:'"
            ]
          },
          "metadata": {
            "tags": []
          },
          "execution_count": 42
        },
        {
          "output_type": "stream",
          "text": [
            "\n"
          ],
          "name": "stdout"
        },
        {
          "output_type": "execute_result",
          "data": {
            "text/plain": [
              "acc_balance           True\n",
              "house_owned           True\n",
              "age                  False\n",
              "income               False\n",
              "credit_amount        False\n",
              "age_cat               True\n",
              "credit_amount_cat     True\n",
              "dtype: bool"
            ]
          },
          "metadata": {
            "tags": []
          },
          "execution_count": 42
        }
      ]
    },
    {
      "cell_type": "code",
      "metadata": {
        "colab": {
          "base_uri": "https://localhost:8080/"
        },
        "id": "eXVNP9iD2aTJ",
        "outputId": "310fef55-2dd0-48c6-9b94-5057613012ad"
      },
      "source": [
        "# 4.5 Extract list of cat_cols and num_cols:\n",
        "\n",
        "# 4.6 First note which are cat and which are num\n",
        "dg = (X_train.nunique() < 5)  \n",
        "dg    # All True are cat and all False are num\n",
        "\n",
        "# 4.7 Then filter out names from Series index \n",
        "cat_cols = dg[dg==True].index.tolist()\n",
        "num_cols = dg[dg==False].index.tolist()"
      ],
      "execution_count": 43,
      "outputs": [
        {
          "output_type": "execute_result",
          "data": {
            "text/plain": [
              "acc_balance           True\n",
              "house_owned           True\n",
              "age                  False\n",
              "income               False\n",
              "credit_amount        False\n",
              "age_cat               True\n",
              "credit_amount_cat     True\n",
              "dtype: bool"
            ]
          },
          "metadata": {
            "tags": []
          },
          "execution_count": 43
        }
      ]
    },
    {
      "cell_type": "code",
      "metadata": {
        "colab": {
          "base_uri": "https://localhost:8080/"
        },
        "id": "ZzWdSA5W2aTJ",
        "outputId": "b7ea36d3-8d5d-44bd-b242-2e24862e1e1d"
      },
      "source": [
        "# 4.8 Here are the columns\n",
        "cat_cols    #  4\n",
        "print()\n",
        "num_cols    #  3"
      ],
      "execution_count": 44,
      "outputs": [
        {
          "output_type": "execute_result",
          "data": {
            "text/plain": [
              "['acc_balance', 'house_owned', 'age_cat', 'credit_amount_cat']"
            ]
          },
          "metadata": {
            "tags": []
          },
          "execution_count": 44
        },
        {
          "output_type": "stream",
          "text": [
            "\n"
          ],
          "name": "stdout"
        },
        {
          "output_type": "execute_result",
          "data": {
            "text/plain": [
              "['age', 'income', 'credit_amount']"
            ]
          },
          "metadata": {
            "tags": []
          },
          "execution_count": 44
        }
      ]
    },
    {
      "cell_type": "code",
      "metadata": {
        "id": "kG62VK5_2aTK"
      },
      "source": [
        "# 4.9 We will create two subsets of num_cols\n",
        "#      One set we will impute using 'mean' \n",
        "#       and the other using 'median'\n",
        "\n",
        "num_cols_mean   = ['age']\n",
        "num_cols_median = ['income', 'credit_amount']"
      ],
      "execution_count": 45,
      "outputs": []
    },
    {
      "cell_type": "code",
      "metadata": {
        "id": "kXHseoUP2aTL"
      },
      "source": [
        "# 4.10 We will create two sets of cat_cols\n",
        "#      One set we will fill with 'most_frequent'\n",
        "#       and the other using a constant value\n",
        "\n",
        "cat_cols_mf       = ['acc_balance', 'house_owned']       # 'most_frequent' fill\n",
        "cat_cols_const    = ['age_cat', 'credit_amount_cat']     # 'constant' fill"
      ],
      "execution_count": 46,
      "outputs": []
    },
    {
      "cell_type": "markdown",
      "metadata": {
        "id": "_jlTQ1GhTTJP"
      },
      "source": [
        "#### Our four data subsets\n",
        "> Numeric with mean imputation<br>\n",
        "> Numeric with nedian imputation<br>\n",
        "> Categorical with mode imputation<br>\n",
        "> Categorical with constant imputation<br>"
      ]
    },
    {
      "cell_type": "code",
      "metadata": {
        "colab": {
          "base_uri": "https://localhost:8080/",
          "height": 1000
        },
        "id": "1MDgY2hp2aTL",
        "outputId": "1eb348ad-91c7-4d3c-a721-71b086ea0827"
      },
      "source": [
        "# 4.11 So we have four datasets for imputing: These are:\n",
        "X_train[num_cols_mean]              # Num dataset, impute by 'mean'   strategy\n",
        "X_train[num_cols_median]            # Num dataset, impute by 'median' strategy\n",
        "X_train[cat_cols_mf]                # Cat dataset, impute by 'most_frequent' strategy\n",
        "X_train[cat_cols_const]             # Cat dataset, impute by 'constant' strategy"
      ],
      "execution_count": 47,
      "outputs": [
        {
          "output_type": "execute_result",
          "data": {
            "text/html": [
              "<div>\n",
              "<style scoped>\n",
              "    .dataframe tbody tr th:only-of-type {\n",
              "        vertical-align: middle;\n",
              "    }\n",
              "\n",
              "    .dataframe tbody tr th {\n",
              "        vertical-align: top;\n",
              "    }\n",
              "\n",
              "    .dataframe thead th {\n",
              "        text-align: right;\n",
              "    }\n",
              "</style>\n",
              "<table border=\"1\" class=\"dataframe\">\n",
              "  <thead>\n",
              "    <tr style=\"text-align: right;\">\n",
              "      <th></th>\n",
              "      <th>age</th>\n",
              "    </tr>\n",
              "  </thead>\n",
              "  <tbody>\n",
              "    <tr>\n",
              "      <th>7</th>\n",
              "      <td>65.0</td>\n",
              "    </tr>\n",
              "    <tr>\n",
              "      <th>3</th>\n",
              "      <td>40.0</td>\n",
              "    </tr>\n",
              "    <tr>\n",
              "      <th>0</th>\n",
              "      <td>21.0</td>\n",
              "    </tr>\n",
              "    <tr>\n",
              "      <th>13</th>\n",
              "      <td>NaN</td>\n",
              "    </tr>\n",
              "    <tr>\n",
              "      <th>12</th>\n",
              "      <td>60.0</td>\n",
              "    </tr>\n",
              "    <tr>\n",
              "      <th>9</th>\n",
              "      <td>NaN</td>\n",
              "    </tr>\n",
              "    <tr>\n",
              "      <th>8</th>\n",
              "      <td>87.0</td>\n",
              "    </tr>\n",
              "    <tr>\n",
              "      <th>2</th>\n",
              "      <td>NaN</td>\n",
              "    </tr>\n",
              "    <tr>\n",
              "      <th>6</th>\n",
              "      <td>23.0</td>\n",
              "    </tr>\n",
              "    <tr>\n",
              "      <th>5</th>\n",
              "      <td>89.0</td>\n",
              "    </tr>\n",
              "    <tr>\n",
              "      <th>10</th>\n",
              "      <td>90.0</td>\n",
              "    </tr>\n",
              "  </tbody>\n",
              "</table>\n",
              "</div>"
            ],
            "text/plain": [
              "     age\n",
              "7   65.0\n",
              "3   40.0\n",
              "0   21.0\n",
              "13   NaN\n",
              "12  60.0\n",
              "9    NaN\n",
              "8   87.0\n",
              "2    NaN\n",
              "6   23.0\n",
              "5   89.0\n",
              "10  90.0"
            ]
          },
          "metadata": {
            "tags": []
          },
          "execution_count": 47
        },
        {
          "output_type": "execute_result",
          "data": {
            "text/html": [
              "<div>\n",
              "<style scoped>\n",
              "    .dataframe tbody tr th:only-of-type {\n",
              "        vertical-align: middle;\n",
              "    }\n",
              "\n",
              "    .dataframe tbody tr th {\n",
              "        vertical-align: top;\n",
              "    }\n",
              "\n",
              "    .dataframe thead th {\n",
              "        text-align: right;\n",
              "    }\n",
              "</style>\n",
              "<table border=\"1\" class=\"dataframe\">\n",
              "  <thead>\n",
              "    <tr style=\"text-align: right;\">\n",
              "      <th></th>\n",
              "      <th>income</th>\n",
              "      <th>credit_amount</th>\n",
              "    </tr>\n",
              "  </thead>\n",
              "  <tbody>\n",
              "    <tr>\n",
              "      <th>7</th>\n",
              "      <td>NaN</td>\n",
              "      <td>1500.0</td>\n",
              "    </tr>\n",
              "    <tr>\n",
              "      <th>3</th>\n",
              "      <td>5.5</td>\n",
              "      <td>NaN</td>\n",
              "    </tr>\n",
              "    <tr>\n",
              "      <th>0</th>\n",
              "      <td>NaN</td>\n",
              "      <td>1011.0</td>\n",
              "    </tr>\n",
              "    <tr>\n",
              "      <th>13</th>\n",
              "      <td>NaN</td>\n",
              "      <td>NaN</td>\n",
              "    </tr>\n",
              "    <tr>\n",
              "      <th>12</th>\n",
              "      <td>8.5</td>\n",
              "      <td>1232.0</td>\n",
              "    </tr>\n",
              "    <tr>\n",
              "      <th>9</th>\n",
              "      <td>9.0</td>\n",
              "      <td>1782.0</td>\n",
              "    </tr>\n",
              "    <tr>\n",
              "      <th>8</th>\n",
              "      <td>6.9</td>\n",
              "      <td>1300.0</td>\n",
              "    </tr>\n",
              "    <tr>\n",
              "      <th>2</th>\n",
              "      <td>3.4</td>\n",
              "      <td>3211.0</td>\n",
              "    </tr>\n",
              "    <tr>\n",
              "      <th>6</th>\n",
              "      <td>3.9</td>\n",
              "      <td>1010.0</td>\n",
              "    </tr>\n",
              "    <tr>\n",
              "      <th>5</th>\n",
              "      <td>8.9</td>\n",
              "      <td>2323.0</td>\n",
              "    </tr>\n",
              "    <tr>\n",
              "      <th>10</th>\n",
              "      <td>NaN</td>\n",
              "      <td>1212.0</td>\n",
              "    </tr>\n",
              "  </tbody>\n",
              "</table>\n",
              "</div>"
            ],
            "text/plain": [
              "    income  credit_amount\n",
              "7      NaN         1500.0\n",
              "3      5.5            NaN\n",
              "0      NaN         1011.0\n",
              "13     NaN            NaN\n",
              "12     8.5         1232.0\n",
              "9      9.0         1782.0\n",
              "8      6.9         1300.0\n",
              "2      3.4         3211.0\n",
              "6      3.9         1010.0\n",
              "5      8.9         2323.0\n",
              "10     NaN         1212.0"
            ]
          },
          "metadata": {
            "tags": []
          },
          "execution_count": 47
        },
        {
          "output_type": "execute_result",
          "data": {
            "text/html": [
              "<div>\n",
              "<style scoped>\n",
              "    .dataframe tbody tr th:only-of-type {\n",
              "        vertical-align: middle;\n",
              "    }\n",
              "\n",
              "    .dataframe tbody tr th {\n",
              "        vertical-align: top;\n",
              "    }\n",
              "\n",
              "    .dataframe thead th {\n",
              "        text-align: right;\n",
              "    }\n",
              "</style>\n",
              "<table border=\"1\" class=\"dataframe\">\n",
              "  <thead>\n",
              "    <tr style=\"text-align: right;\">\n",
              "      <th></th>\n",
              "      <th>acc_balance</th>\n",
              "      <th>house_owned</th>\n",
              "    </tr>\n",
              "  </thead>\n",
              "  <tbody>\n",
              "    <tr>\n",
              "      <th>7</th>\n",
              "      <td>2.0</td>\n",
              "      <td>big</td>\n",
              "    </tr>\n",
              "    <tr>\n",
              "      <th>3</th>\n",
              "      <td>NaN</td>\n",
              "      <td>small</td>\n",
              "    </tr>\n",
              "    <tr>\n",
              "      <th>0</th>\n",
              "      <td>1.0</td>\n",
              "      <td>big</td>\n",
              "    </tr>\n",
              "    <tr>\n",
              "      <th>13</th>\n",
              "      <td>NaN</td>\n",
              "      <td>small</td>\n",
              "    </tr>\n",
              "    <tr>\n",
              "      <th>12</th>\n",
              "      <td>NaN</td>\n",
              "      <td>NaN</td>\n",
              "    </tr>\n",
              "    <tr>\n",
              "      <th>9</th>\n",
              "      <td>2.0</td>\n",
              "      <td>big</td>\n",
              "    </tr>\n",
              "    <tr>\n",
              "      <th>8</th>\n",
              "      <td>1.0</td>\n",
              "      <td>small</td>\n",
              "    </tr>\n",
              "    <tr>\n",
              "      <th>2</th>\n",
              "      <td>1.0</td>\n",
              "      <td>NaN</td>\n",
              "    </tr>\n",
              "    <tr>\n",
              "      <th>6</th>\n",
              "      <td>1.0</td>\n",
              "      <td>NaN</td>\n",
              "    </tr>\n",
              "    <tr>\n",
              "      <th>5</th>\n",
              "      <td>2.0</td>\n",
              "      <td>NaN</td>\n",
              "    </tr>\n",
              "    <tr>\n",
              "      <th>10</th>\n",
              "      <td>2.0</td>\n",
              "      <td>big</td>\n",
              "    </tr>\n",
              "  </tbody>\n",
              "</table>\n",
              "</div>"
            ],
            "text/plain": [
              "    acc_balance house_owned\n",
              "7           2.0         big\n",
              "3           NaN       small\n",
              "0           1.0         big\n",
              "13          NaN       small\n",
              "12          NaN         NaN\n",
              "9           2.0         big\n",
              "8           1.0       small\n",
              "2           1.0         NaN\n",
              "6           1.0         NaN\n",
              "5           2.0         NaN\n",
              "10          2.0         big"
            ]
          },
          "metadata": {
            "tags": []
          },
          "execution_count": 47
        },
        {
          "output_type": "execute_result",
          "data": {
            "text/html": [
              "<div>\n",
              "<style scoped>\n",
              "    .dataframe tbody tr th:only-of-type {\n",
              "        vertical-align: middle;\n",
              "    }\n",
              "\n",
              "    .dataframe tbody tr th {\n",
              "        vertical-align: top;\n",
              "    }\n",
              "\n",
              "    .dataframe thead th {\n",
              "        text-align: right;\n",
              "    }\n",
              "</style>\n",
              "<table border=\"1\" class=\"dataframe\">\n",
              "  <thead>\n",
              "    <tr style=\"text-align: right;\">\n",
              "      <th></th>\n",
              "      <th>age_cat</th>\n",
              "      <th>credit_amount_cat</th>\n",
              "    </tr>\n",
              "  </thead>\n",
              "  <tbody>\n",
              "    <tr>\n",
              "      <th>7</th>\n",
              "      <td>2</td>\n",
              "      <td>medium</td>\n",
              "    </tr>\n",
              "    <tr>\n",
              "      <th>3</th>\n",
              "      <td>1</td>\n",
              "      <td>NaN</td>\n",
              "    </tr>\n",
              "    <tr>\n",
              "      <th>0</th>\n",
              "      <td>1</td>\n",
              "      <td>low</td>\n",
              "    </tr>\n",
              "    <tr>\n",
              "      <th>13</th>\n",
              "      <td>NaN</td>\n",
              "      <td>NaN</td>\n",
              "    </tr>\n",
              "    <tr>\n",
              "      <th>12</th>\n",
              "      <td>2</td>\n",
              "      <td>medium</td>\n",
              "    </tr>\n",
              "    <tr>\n",
              "      <th>9</th>\n",
              "      <td>NaN</td>\n",
              "      <td>high</td>\n",
              "    </tr>\n",
              "    <tr>\n",
              "      <th>8</th>\n",
              "      <td>3</td>\n",
              "      <td>medium</td>\n",
              "    </tr>\n",
              "    <tr>\n",
              "      <th>2</th>\n",
              "      <td>NaN</td>\n",
              "      <td>high</td>\n",
              "    </tr>\n",
              "    <tr>\n",
              "      <th>6</th>\n",
              "      <td>1</td>\n",
              "      <td>low</td>\n",
              "    </tr>\n",
              "    <tr>\n",
              "      <th>5</th>\n",
              "      <td>3</td>\n",
              "      <td>high</td>\n",
              "    </tr>\n",
              "    <tr>\n",
              "      <th>10</th>\n",
              "      <td>3</td>\n",
              "      <td>low</td>\n",
              "    </tr>\n",
              "  </tbody>\n",
              "</table>\n",
              "</div>"
            ],
            "text/plain": [
              "   age_cat credit_amount_cat\n",
              "7        2            medium\n",
              "3        1               NaN\n",
              "0        1               low\n",
              "13     NaN               NaN\n",
              "12       2            medium\n",
              "9      NaN              high\n",
              "8        3            medium\n",
              "2      NaN              high\n",
              "6        1               low\n",
              "5        3              high\n",
              "10       3               low"
            ]
          },
          "metadata": {
            "tags": []
          },
          "execution_count": 47
        }
      ]
    },
    {
      "cell_type": "code",
      "metadata": {
        "id": "E90hOJfTCz4C"
      },
      "source": [
        "# 4.2   Make a copy of X_train\n",
        "#       and X_test for two separate\n",
        "#       ways of data processing\n",
        "#       without using pipes and with pipes\n",
        "\n",
        "X_train_c = X_train.copy()\n",
        "X_test_c  = X_test.copy()"
      ],
      "execution_count": 48,
      "outputs": []
    },
    {
      "cell_type": "markdown",
      "metadata": {
        "id": "roim7Ncy2aTL"
      },
      "source": [
        "## Part I\n",
        "\n",
        "Data preprocessing without Pipelining\n",
        "Pre-process each one of the four subsets of data separately. And finally manually concatenate all results to create final dataset. We will henceforth use two terms:<br>\n",
        "<ul>\n",
        "    <li>\n",
        "    transformers: Which transform a dataset. Examples: <i>StandardScaler()</i>, <i>Normalizer()</i>, <i>SimpleImputer()</i>,  <i>OneHotEncoder()</i>, <i>PipeLine()</i>, <i>ColumnTransformer()</i>. Transformers have <i>fit()</i>, <i>transform()</i> and <i>fit_transform()</i> methods. Transformers do not make any predictions and hence there is no <i>predict()</i> method.\n",
        "    </li>\n",
        "    <li>\n",
        "estimators:   Which estimate the pattern in a data. Example: <i>DecisionTreeClassifier</i>, <i>KMeans</i>, <i>GMM</i>.      Estimators have <i>fit()</i> and <i>predict()</i> methods. There is no need for any transformation and hence there is no <i>transform()</i> method.\n",
        "</ul></li>\n"
      ]
    },
    {
      "cell_type": "markdown",
      "metadata": {
        "id": "A3Dt-OCs2gos"
      },
      "source": [
        "![image.png](data:image/png;base64,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)"
      ]
    },
    {
      "cell_type": "markdown",
      "metadata": {
        "id": "XBxAAgEd2aTL"
      },
      "source": [
        "### Impute missing values"
      ]
    },
    {
      "cell_type": "markdown",
      "metadata": {
        "id": "kmU1S9M52aTL"
      },
      "source": [
        "#### Impute in two subsets of numeric data\n",
        "Impute NaN first in two data subsets: `num_cols_median` and `num_cols_mean`. Our class-objects will be `si_median` and `si_mean`.\n"
      ]
    },
    {
      "cell_type": "code",
      "metadata": {
        "id": "aoiM_oE52aTM"
      },
      "source": [
        "## 5.1 Instantiate \n",
        "\n",
        "# 5.1.1 Instantiate SimpleImputer class\n",
        "#        with two difft strategies to\n",
        "#         create two objects. \n",
        "\n",
        "si_median = SimpleImputer(strategy = 'median')\n",
        "si_mean   = SimpleImputer(strategy = 'mean')\n",
        "\n",
        "# 5.1.2 Next, use the two objects to fit \n",
        "#       and transform respective datasets:\n",
        "\n",
        "X_train_c[num_cols_median] = si_median.fit_transform(\n",
        "                                                     X_train_c[num_cols_median]\n",
        "                                                     )\n",
        "\n",
        "X_train_c[num_cols_mean] = si_mean.fit_transform(\n",
        "                                                  X_train_c[num_cols_mean]\n",
        "                                                 )\n",
        "\n"
      ],
      "execution_count": 49,
      "outputs": []
    },
    {
      "cell_type": "code",
      "metadata": {
        "id": "C-wq0e562aTM",
        "colab": {
          "base_uri": "https://localhost:8080/",
          "height": 0
        },
        "outputId": "13deb19e-f70e-41fc-b448-6a4221072111"
      },
      "source": [
        "# 5.2 Observe results of two transformations.\n",
        "#     There should be no NaNs\n",
        "\n",
        "X_train_c[num_cols_median]\n",
        "print()\n",
        "X_train_c[num_cols_mean]"
      ],
      "execution_count": 50,
      "outputs": [
        {
          "output_type": "execute_result",
          "data": {
            "text/html": [
              "<div>\n",
              "<style scoped>\n",
              "    .dataframe tbody tr th:only-of-type {\n",
              "        vertical-align: middle;\n",
              "    }\n",
              "\n",
              "    .dataframe tbody tr th {\n",
              "        vertical-align: top;\n",
              "    }\n",
              "\n",
              "    .dataframe thead th {\n",
              "        text-align: right;\n",
              "    }\n",
              "</style>\n",
              "<table border=\"1\" class=\"dataframe\">\n",
              "  <thead>\n",
              "    <tr style=\"text-align: right;\">\n",
              "      <th></th>\n",
              "      <th>income</th>\n",
              "      <th>credit_amount</th>\n",
              "    </tr>\n",
              "  </thead>\n",
              "  <tbody>\n",
              "    <tr>\n",
              "      <th>7</th>\n",
              "      <td>6.9</td>\n",
              "      <td>1500.0</td>\n",
              "    </tr>\n",
              "    <tr>\n",
              "      <th>3</th>\n",
              "      <td>5.5</td>\n",
              "      <td>1300.0</td>\n",
              "    </tr>\n",
              "    <tr>\n",
              "      <th>0</th>\n",
              "      <td>6.9</td>\n",
              "      <td>1011.0</td>\n",
              "    </tr>\n",
              "    <tr>\n",
              "      <th>13</th>\n",
              "      <td>6.9</td>\n",
              "      <td>1300.0</td>\n",
              "    </tr>\n",
              "    <tr>\n",
              "      <th>12</th>\n",
              "      <td>8.5</td>\n",
              "      <td>1232.0</td>\n",
              "    </tr>\n",
              "    <tr>\n",
              "      <th>9</th>\n",
              "      <td>9.0</td>\n",
              "      <td>1782.0</td>\n",
              "    </tr>\n",
              "    <tr>\n",
              "      <th>8</th>\n",
              "      <td>6.9</td>\n",
              "      <td>1300.0</td>\n",
              "    </tr>\n",
              "    <tr>\n",
              "      <th>2</th>\n",
              "      <td>3.4</td>\n",
              "      <td>3211.0</td>\n",
              "    </tr>\n",
              "    <tr>\n",
              "      <th>6</th>\n",
              "      <td>3.9</td>\n",
              "      <td>1010.0</td>\n",
              "    </tr>\n",
              "    <tr>\n",
              "      <th>5</th>\n",
              "      <td>8.9</td>\n",
              "      <td>2323.0</td>\n",
              "    </tr>\n",
              "    <tr>\n",
              "      <th>10</th>\n",
              "      <td>6.9</td>\n",
              "      <td>1212.0</td>\n",
              "    </tr>\n",
              "  </tbody>\n",
              "</table>\n",
              "</div>"
            ],
            "text/plain": [
              "    income  credit_amount\n",
              "7      6.9         1500.0\n",
              "3      5.5         1300.0\n",
              "0      6.9         1011.0\n",
              "13     6.9         1300.0\n",
              "12     8.5         1232.0\n",
              "9      9.0         1782.0\n",
              "8      6.9         1300.0\n",
              "2      3.4         3211.0\n",
              "6      3.9         1010.0\n",
              "5      8.9         2323.0\n",
              "10     6.9         1212.0"
            ]
          },
          "metadata": {
            "tags": []
          },
          "execution_count": 50
        },
        {
          "output_type": "stream",
          "text": [
            "\n"
          ],
          "name": "stdout"
        },
        {
          "output_type": "execute_result",
          "data": {
            "text/html": [
              "<div>\n",
              "<style scoped>\n",
              "    .dataframe tbody tr th:only-of-type {\n",
              "        vertical-align: middle;\n",
              "    }\n",
              "\n",
              "    .dataframe tbody tr th {\n",
              "        vertical-align: top;\n",
              "    }\n",
              "\n",
              "    .dataframe thead th {\n",
              "        text-align: right;\n",
              "    }\n",
              "</style>\n",
              "<table border=\"1\" class=\"dataframe\">\n",
              "  <thead>\n",
              "    <tr style=\"text-align: right;\">\n",
              "      <th></th>\n",
              "      <th>age</th>\n",
              "    </tr>\n",
              "  </thead>\n",
              "  <tbody>\n",
              "    <tr>\n",
              "      <th>7</th>\n",
              "      <td>65.000</td>\n",
              "    </tr>\n",
              "    <tr>\n",
              "      <th>3</th>\n",
              "      <td>40.000</td>\n",
              "    </tr>\n",
              "    <tr>\n",
              "      <th>0</th>\n",
              "      <td>21.000</td>\n",
              "    </tr>\n",
              "    <tr>\n",
              "      <th>13</th>\n",
              "      <td>59.375</td>\n",
              "    </tr>\n",
              "    <tr>\n",
              "      <th>12</th>\n",
              "      <td>60.000</td>\n",
              "    </tr>\n",
              "    <tr>\n",
              "      <th>9</th>\n",
              "      <td>59.375</td>\n",
              "    </tr>\n",
              "    <tr>\n",
              "      <th>8</th>\n",
              "      <td>87.000</td>\n",
              "    </tr>\n",
              "    <tr>\n",
              "      <th>2</th>\n",
              "      <td>59.375</td>\n",
              "    </tr>\n",
              "    <tr>\n",
              "      <th>6</th>\n",
              "      <td>23.000</td>\n",
              "    </tr>\n",
              "    <tr>\n",
              "      <th>5</th>\n",
              "      <td>89.000</td>\n",
              "    </tr>\n",
              "    <tr>\n",
              "      <th>10</th>\n",
              "      <td>90.000</td>\n",
              "    </tr>\n",
              "  </tbody>\n",
              "</table>\n",
              "</div>"
            ],
            "text/plain": [
              "       age\n",
              "7   65.000\n",
              "3   40.000\n",
              "0   21.000\n",
              "13  59.375\n",
              "12  60.000\n",
              "9   59.375\n",
              "8   87.000\n",
              "2   59.375\n",
              "6   23.000\n",
              "5   89.000\n",
              "10  90.000"
            ]
          },
          "metadata": {
            "tags": []
          },
          "execution_count": 50
        }
      ]
    },
    {
      "cell_type": "markdown",
      "metadata": {
        "id": "6sSMaLRY2aTM"
      },
      "source": [
        "#### Impute in two subsets of categorical data next"
      ]
    },
    {
      "cell_type": "code",
      "metadata": {
        "id": "ONaqHlgm2aTM"
      },
      "source": [
        "# 5.3 Similarly create two objects\n",
        "#     to impute data in categorical \n",
        "#     data-subsets.\n",
        "\n",
        "si_mf = SimpleImputer(strategy = 'most_frequent')\n",
        "\n",
        "si_const = SimpleImputer(\n",
        "                          strategy = 'constant',\n",
        "                          fill_value = 'missing'  # fill with const value 'missing'\n",
        "                        )\n",
        "\n",
        "# 5.3.1 Use the two objects to transform\n",
        "#       the respective two data-subsets:\n",
        "\n",
        "X_train_c[cat_cols_mf] = si_mf.fit_transform(\n",
        "                                             X_train_c[cat_cols_mf]\n",
        "                                             )\n",
        "\n",
        "X_train_c[cat_cols_const] = si_const.fit_transform(\n",
        "                                                    X_train_c[cat_cols_const]\n",
        "                                                   )"
      ],
      "execution_count": 51,
      "outputs": []
    },
    {
      "cell_type": "code",
      "metadata": {
        "id": "Ln__pM9b2aTM",
        "colab": {
          "base_uri": "https://localhost:8080/",
          "height": 0
        },
        "outputId": "bc066d8f-e8ad-45cd-ec35-9fd82ee724bb"
      },
      "source": [
        "# 5.4 Observer the results of transformation\n",
        "#     in two data-subsets\n",
        "\n",
        "X_train_c[cat_cols_const]\n",
        "print()\n",
        "X_train_c[cat_cols_mf]"
      ],
      "execution_count": 52,
      "outputs": [
        {
          "output_type": "execute_result",
          "data": {
            "text/html": [
              "<div>\n",
              "<style scoped>\n",
              "    .dataframe tbody tr th:only-of-type {\n",
              "        vertical-align: middle;\n",
              "    }\n",
              "\n",
              "    .dataframe tbody tr th {\n",
              "        vertical-align: top;\n",
              "    }\n",
              "\n",
              "    .dataframe thead th {\n",
              "        text-align: right;\n",
              "    }\n",
              "</style>\n",
              "<table border=\"1\" class=\"dataframe\">\n",
              "  <thead>\n",
              "    <tr style=\"text-align: right;\">\n",
              "      <th></th>\n",
              "      <th>age_cat</th>\n",
              "      <th>credit_amount_cat</th>\n",
              "    </tr>\n",
              "  </thead>\n",
              "  <tbody>\n",
              "    <tr>\n",
              "      <th>7</th>\n",
              "      <td>2</td>\n",
              "      <td>medium</td>\n",
              "    </tr>\n",
              "    <tr>\n",
              "      <th>3</th>\n",
              "      <td>1</td>\n",
              "      <td>missing</td>\n",
              "    </tr>\n",
              "    <tr>\n",
              "      <th>0</th>\n",
              "      <td>1</td>\n",
              "      <td>low</td>\n",
              "    </tr>\n",
              "    <tr>\n",
              "      <th>13</th>\n",
              "      <td>missing</td>\n",
              "      <td>missing</td>\n",
              "    </tr>\n",
              "    <tr>\n",
              "      <th>12</th>\n",
              "      <td>2</td>\n",
              "      <td>medium</td>\n",
              "    </tr>\n",
              "    <tr>\n",
              "      <th>9</th>\n",
              "      <td>missing</td>\n",
              "      <td>high</td>\n",
              "    </tr>\n",
              "    <tr>\n",
              "      <th>8</th>\n",
              "      <td>3</td>\n",
              "      <td>medium</td>\n",
              "    </tr>\n",
              "    <tr>\n",
              "      <th>2</th>\n",
              "      <td>missing</td>\n",
              "      <td>high</td>\n",
              "    </tr>\n",
              "    <tr>\n",
              "      <th>6</th>\n",
              "      <td>1</td>\n",
              "      <td>low</td>\n",
              "    </tr>\n",
              "    <tr>\n",
              "      <th>5</th>\n",
              "      <td>3</td>\n",
              "      <td>high</td>\n",
              "    </tr>\n",
              "    <tr>\n",
              "      <th>10</th>\n",
              "      <td>3</td>\n",
              "      <td>low</td>\n",
              "    </tr>\n",
              "  </tbody>\n",
              "</table>\n",
              "</div>"
            ],
            "text/plain": [
              "    age_cat credit_amount_cat\n",
              "7         2            medium\n",
              "3         1           missing\n",
              "0         1               low\n",
              "13  missing           missing\n",
              "12        2            medium\n",
              "9   missing              high\n",
              "8         3            medium\n",
              "2   missing              high\n",
              "6         1               low\n",
              "5         3              high\n",
              "10        3               low"
            ]
          },
          "metadata": {
            "tags": []
          },
          "execution_count": 52
        },
        {
          "output_type": "stream",
          "text": [
            "\n"
          ],
          "name": "stdout"
        },
        {
          "output_type": "execute_result",
          "data": {
            "text/html": [
              "<div>\n",
              "<style scoped>\n",
              "    .dataframe tbody tr th:only-of-type {\n",
              "        vertical-align: middle;\n",
              "    }\n",
              "\n",
              "    .dataframe tbody tr th {\n",
              "        vertical-align: top;\n",
              "    }\n",
              "\n",
              "    .dataframe thead th {\n",
              "        text-align: right;\n",
              "    }\n",
              "</style>\n",
              "<table border=\"1\" class=\"dataframe\">\n",
              "  <thead>\n",
              "    <tr style=\"text-align: right;\">\n",
              "      <th></th>\n",
              "      <th>acc_balance</th>\n",
              "      <th>house_owned</th>\n",
              "    </tr>\n",
              "  </thead>\n",
              "  <tbody>\n",
              "    <tr>\n",
              "      <th>7</th>\n",
              "      <td>2.0</td>\n",
              "      <td>big</td>\n",
              "    </tr>\n",
              "    <tr>\n",
              "      <th>3</th>\n",
              "      <td>1.0</td>\n",
              "      <td>small</td>\n",
              "    </tr>\n",
              "    <tr>\n",
              "      <th>0</th>\n",
              "      <td>1.0</td>\n",
              "      <td>big</td>\n",
              "    </tr>\n",
              "    <tr>\n",
              "      <th>13</th>\n",
              "      <td>1.0</td>\n",
              "      <td>small</td>\n",
              "    </tr>\n",
              "    <tr>\n",
              "      <th>12</th>\n",
              "      <td>1.0</td>\n",
              "      <td>big</td>\n",
              "    </tr>\n",
              "    <tr>\n",
              "      <th>9</th>\n",
              "      <td>2.0</td>\n",
              "      <td>big</td>\n",
              "    </tr>\n",
              "    <tr>\n",
              "      <th>8</th>\n",
              "      <td>1.0</td>\n",
              "      <td>small</td>\n",
              "    </tr>\n",
              "    <tr>\n",
              "      <th>2</th>\n",
              "      <td>1.0</td>\n",
              "      <td>big</td>\n",
              "    </tr>\n",
              "    <tr>\n",
              "      <th>6</th>\n",
              "      <td>1.0</td>\n",
              "      <td>big</td>\n",
              "    </tr>\n",
              "    <tr>\n",
              "      <th>5</th>\n",
              "      <td>2.0</td>\n",
              "      <td>big</td>\n",
              "    </tr>\n",
              "    <tr>\n",
              "      <th>10</th>\n",
              "      <td>2.0</td>\n",
              "      <td>big</td>\n",
              "    </tr>\n",
              "  </tbody>\n",
              "</table>\n",
              "</div>"
            ],
            "text/plain": [
              "    acc_balance house_owned\n",
              "7           2.0         big\n",
              "3           1.0       small\n",
              "0           1.0         big\n",
              "13          1.0       small\n",
              "12          1.0         big\n",
              "9           2.0         big\n",
              "8           1.0       small\n",
              "2           1.0         big\n",
              "6           1.0         big\n",
              "5           2.0         big\n",
              "10          2.0         big"
            ]
          },
          "metadata": {
            "tags": []
          },
          "execution_count": 52
        }
      ]
    },
    {
      "cell_type": "code",
      "metadata": {
        "colab": {
          "base_uri": "https://localhost:8080/"
        },
        "id": "FAjtX9xx2aTN",
        "outputId": "792e18a1-ffa6-4ab6-ee70-9a869ab9e72a"
      },
      "source": [
        "## A Summary\n",
        "# 5.5 So our fitted transformers are:\n",
        "\n",
        "si_median         # To transform num_cols_median\n",
        "si_mean           # To transform num_cols_mean\n",
        "si_mf             # To transform cat_cols_mf\n",
        "si_const          # To transform cat_cols_constant\n",
        "\n",
        "# 5.6 Our column-colections are:\n",
        "\n",
        "cat_cols          # cat_cols_mf + cat_cols_constant\n",
        "num_cols          # num_cols_mean + num_cols_median\n",
        "\n",
        "# 5.6.1\n",
        "cat_cols_mf\n",
        "cat_cols_const\n",
        "num_cols_mean\n",
        "num_cols_median\n",
        "\n",
        "# 5.7 Our datasets are:\n",
        "\n",
        "X_train_c[:2],X_test_c[:2],y_train[:2],y_test[:2]"
      ],
      "execution_count": 53,
      "outputs": [
        {
          "output_type": "execute_result",
          "data": {
            "text/plain": [
              "SimpleImputer(strategy='median')"
            ]
          },
          "metadata": {
            "tags": []
          },
          "execution_count": 53
        },
        {
          "output_type": "execute_result",
          "data": {
            "text/plain": [
              "SimpleImputer()"
            ]
          },
          "metadata": {
            "tags": []
          },
          "execution_count": 53
        },
        {
          "output_type": "execute_result",
          "data": {
            "text/plain": [
              "SimpleImputer(strategy='most_frequent')"
            ]
          },
          "metadata": {
            "tags": []
          },
          "execution_count": 53
        },
        {
          "output_type": "execute_result",
          "data": {
            "text/plain": [
              "SimpleImputer(fill_value='missing', strategy='constant')"
            ]
          },
          "metadata": {
            "tags": []
          },
          "execution_count": 53
        },
        {
          "output_type": "execute_result",
          "data": {
            "text/plain": [
              "['acc_balance', 'house_owned', 'age_cat', 'credit_amount_cat']"
            ]
          },
          "metadata": {
            "tags": []
          },
          "execution_count": 53
        },
        {
          "output_type": "execute_result",
          "data": {
            "text/plain": [
              "['age', 'income', 'credit_amount']"
            ]
          },
          "metadata": {
            "tags": []
          },
          "execution_count": 53
        },
        {
          "output_type": "execute_result",
          "data": {
            "text/plain": [
              "['acc_balance', 'house_owned']"
            ]
          },
          "metadata": {
            "tags": []
          },
          "execution_count": 53
        },
        {
          "output_type": "execute_result",
          "data": {
            "text/plain": [
              "['age_cat', 'credit_amount_cat']"
            ]
          },
          "metadata": {
            "tags": []
          },
          "execution_count": 53
        },
        {
          "output_type": "execute_result",
          "data": {
            "text/plain": [
              "['age']"
            ]
          },
          "metadata": {
            "tags": []
          },
          "execution_count": 53
        },
        {
          "output_type": "execute_result",
          "data": {
            "text/plain": [
              "['income', 'credit_amount']"
            ]
          },
          "metadata": {
            "tags": []
          },
          "execution_count": 53
        },
        {
          "output_type": "execute_result",
          "data": {
            "text/plain": [
              "(   acc_balance house_owned   age  ...  credit_amount  age_cat credit_amount_cat\n",
              " 7          2.0         big  65.0  ...         1500.0        2            medium\n",
              " 3          1.0       small  40.0  ...         1300.0        1           missing\n",
              " \n",
              " [2 rows x 7 columns],\n",
              "     acc_balance house_owned   age  ...  credit_amount  age_cat credit_amount_cat\n",
              " 4           1.0         big  34.0  ...         1000.0        1               low\n",
              " 11          NaN       small   NaN  ...            NaN      NaN               NaN\n",
              " \n",
              " [2 rows x 7 columns],\n",
              " 7     no\n",
              " 3    yes\n",
              " Name: creditability, dtype: object,\n",
              " 4     yes\n",
              " 11     no\n",
              " Name: creditability, dtype: object)"
            ]
          },
          "metadata": {
            "tags": []
          },
          "execution_count": 53
        }
      ]
    },
    {
      "cell_type": "markdown",
      "metadata": {
        "id": "WSYGhgu1DcQu"
      },
      "source": [
        "### OneHotEncoding"
      ]
    },
    {
      "cell_type": "markdown",
      "metadata": {
        "id": "qE21s8EK2aTN"
      },
      "source": [
        "#### What does OHE do?"
      ]
    },
    {
      "cell_type": "markdown",
      "metadata": {
        "id": "65LTvSfJEJlm"
      },
      "source": [
        "##### sparse = False"
      ]
    },
    {
      "cell_type": "code",
      "metadata": {
        "colab": {
          "base_uri": "https://localhost:8080/"
        },
        "id": "8Mb1_kmE2aTN",
        "outputId": "24544afc-908c-47c4-acbb-45d8c674a1a3"
      },
      "source": [
        "# 6.0 What does OneHotEncoder do?\n",
        "#     Demo with 'sparse = False'\n",
        "\n",
        "# 6.1 Instantiate onehot class.\n",
        "#     Our object name is 'abc' \n",
        "\n",
        "abc = onehot(sparse = False)\n",
        "\n",
        "# 6.2 Let 'abc' learn relevant data\n",
        "#     properties. Our demo data is: 4 X 2\n",
        "#     Both columns are categorical:\n",
        "\n",
        "abc.fit(\n",
        "         [                            # A list of lists\n",
        "            ['big'   , 'yes' ],\n",
        "            ['small' , 'no'  ],\n",
        "            ['medium', 'yes' ],\n",
        "            ['big'   , 'no'  ]\n",
        "         ]\n",
        "       )\n",
        "\n",
        "# 6.3 Use 'abc' object to transform demo data\n",
        "#     to dummy values\n",
        "\n",
        "abc.transform(\n",
        "              [                     \n",
        "                ['big'   , 'yes' ],\n",
        "                ['small' , 'no'  ],\n",
        "                ['medium', 'yes' ],\n",
        "                ['big'   , 'no'  ]\n",
        "              ]\n",
        "             )\n",
        "\n"
      ],
      "execution_count": 54,
      "outputs": [
        {
          "output_type": "execute_result",
          "data": {
            "text/plain": [
              "OneHotEncoder(sparse=False)"
            ]
          },
          "metadata": {
            "tags": []
          },
          "execution_count": 54
        },
        {
          "output_type": "execute_result",
          "data": {
            "text/plain": [
              "array([[1., 0., 0., 0., 1.],\n",
              "       [0., 0., 1., 1., 0.],\n",
              "       [0., 1., 0., 0., 1.],\n",
              "       [1., 0., 0., 1., 0.]])"
            ]
          },
          "metadata": {
            "tags": []
          },
          "execution_count": 54
        }
      ]
    },
    {
      "cell_type": "code",
      "metadata": {
        "colab": {
          "base_uri": "https://localhost:8080/"
        },
        "id": "wSQeYXmQ2aTN",
        "outputId": "c1e55577-ecfd-4093-c59c-b8d839e0da82"
      },
      "source": [
        "# 6.4 In future use 'abc' to tansform \n",
        "#     any data with such levels.\n",
        "#     For example:\n",
        "\n",
        "abc.transform(\n",
        "               [\n",
        "                   ['small'  , 'yes'],\n",
        "                   ['medium' , 'no' ]\n",
        "               ])"
      ],
      "execution_count": 55,
      "outputs": [
        {
          "output_type": "execute_result",
          "data": {
            "text/plain": [
              "array([[0., 0., 1., 0., 1.],\n",
              "       [0., 1., 0., 1., 0.]])"
            ]
          },
          "metadata": {
            "tags": []
          },
          "execution_count": 55
        }
      ]
    },
    {
      "cell_type": "markdown",
      "metadata": {
        "id": "Dmlt0UhqERp1"
      },
      "source": [
        "##### sparse = True"
      ]
    },
    {
      "cell_type": "code",
      "metadata": {
        "colab": {
          "base_uri": "https://localhost:8080/"
        },
        "id": "gFDkfgvo2aTN",
        "outputId": "9a67a42c-4bf2-4e46-d5a4-61de3837f9db"
      },
      "source": [
        "# 6.5 What does OneHotEncoder do?\n",
        "#     In one line, it transforms dense data to dummy values (1,0)\n",
        "#     Demo with 'sparse = True' -- Output is stored in a special compressed format\n",
        "#     See here dense matrix to sparse matrix conversion example:\n",
        "#     http://www.btechsmartclass.com/data_structures/ds_images/Triplet_Representation_of_Sparse_Matrix.png\n",
        "#     https://www.researchgate.net/publication/328995968/figure/fig4/AS:693582436528129@1542374347304/Illustration-of-the-sparse-matrix-format-A-Example-matrix-of-size-8-8-with-5.png\n",
        "\n",
        "# 6.5.1\n",
        "\n",
        "cde = onehot(sparse = True)\n",
        "\n",
        "\n",
        "# 6.5.2\n",
        "sp = cde.fit_transform(\n",
        "                       [\n",
        "                        ['big', 'yes'],\n",
        "                        ['small', 'no'],\n",
        "                        ['medium', 'yes'],\n",
        "                        ['big','no']\n",
        "                        ]\n",
        "                       )\n",
        "\n",
        "# 6.5.3\n",
        "sp\n"
      ],
      "execution_count": 56,
      "outputs": [
        {
          "output_type": "execute_result",
          "data": {
            "text/plain": [
              "<4x5 sparse matrix of type '<class 'numpy.float64'>'\n",
              "\twith 8 stored elements in Compressed Sparse Row format>"
            ]
          },
          "metadata": {
            "tags": []
          },
          "execution_count": 56
        }
      ]
    },
    {
      "cell_type": "code",
      "metadata": {
        "colab": {
          "base_uri": "https://localhost:8080/"
        },
        "id": "Y_II3Kjv2aTN",
        "outputId": "4b9076a1-c843-4a54-a161-19fe8024bfb0"
      },
      "source": [
        "# 6.5.4  Transform sparse to dense form\n",
        "sp.toarray()"
      ],
      "execution_count": 57,
      "outputs": [
        {
          "output_type": "execute_result",
          "data": {
            "text/plain": [
              "array([[1., 0., 0., 0., 1.],\n",
              "       [0., 0., 1., 1., 0.],\n",
              "       [0., 1., 0., 0., 1.],\n",
              "       [1., 0., 0., 1., 0.]])"
            ]
          },
          "metadata": {
            "tags": []
          },
          "execution_count": 57
        }
      ]
    },
    {
      "cell_type": "markdown",
      "metadata": {
        "id": "rcjXaDu-EaEM"
      },
      "source": [
        "#### OHE for our train data:\n",
        "Let us now transform ALL our cat_cols to OHE."
      ]
    },
    {
      "cell_type": "code",
      "metadata": {
        "colab": {
          "base_uri": "https://localhost:8080/"
        },
        "id": "2oz67E6q2aTN",
        "outputId": "478a3705-1d8b-44da-e026-a5c11b4d151e"
      },
      "source": [
        "# 6.6 One Hot Encode all categorical columns, cat_cols \n",
        "#     Note, by now all NaNs have been filled\n",
        "\n",
        "ohe = onehot(sparse = False)\n",
        "ohe.fit_transform(X_train_c[cat_cols])"
      ],
      "execution_count": 58,
      "outputs": [
        {
          "output_type": "execute_result",
          "data": {
            "text/plain": [
              "array([[0., 1., 1., 0., 0., 1., 0., 0., 0., 0., 1., 0.],\n",
              "       [1., 0., 0., 1., 1., 0., 0., 0., 0., 0., 0., 1.],\n",
              "       [1., 0., 1., 0., 1., 0., 0., 0., 0., 1., 0., 0.],\n",
              "       [1., 0., 0., 1., 0., 0., 0., 1., 0., 0., 0., 1.],\n",
              "       [1., 0., 1., 0., 0., 1., 0., 0., 0., 0., 1., 0.],\n",
              "       [0., 1., 1., 0., 0., 0., 0., 1., 1., 0., 0., 0.],\n",
              "       [1., 0., 0., 1., 0., 0., 1., 0., 0., 0., 1., 0.],\n",
              "       [1., 0., 1., 0., 0., 0., 0., 1., 1., 0., 0., 0.],\n",
              "       [1., 0., 1., 0., 1., 0., 0., 0., 0., 1., 0., 0.],\n",
              "       [0., 1., 1., 0., 0., 0., 1., 0., 1., 0., 0., 0.],\n",
              "       [0., 1., 1., 0., 0., 0., 1., 0., 0., 1., 0., 0.]])"
            ]
          },
          "metadata": {
            "tags": []
          },
          "execution_count": 58
        }
      ]
    },
    {
      "cell_type": "markdown",
      "metadata": {
        "id": "XbxE4yXZ2aTN"
      },
      "source": [
        "### Standard scaling all numeric columns\n",
        "Scale all numeric columns"
      ]
    },
    {
      "cell_type": "code",
      "metadata": {
        "id": "LIj1QB7T2aTO",
        "colab": {
          "base_uri": "https://localhost:8080/"
        },
        "outputId": "901cb389-2771-424f-c39f-a5c7422e3341"
      },
      "source": [
        "# 6.7 Scale all numeric variables in the same manner\n",
        "#     Note, by now all NaNs have been dealth with\n",
        "\n",
        "ss = StandardScaler()\n",
        "ss.fit_transform(X_train_c[num_cols])"
      ],
      "execution_count": 59,
      "outputs": [
        {
          "output_type": "execute_result",
          "data": {
            "text/plain": [
              "array([[ 0.24534913,  0.11419676, -0.09792913],\n",
              "       [-0.84509144, -0.68518059, -0.41429343],\n",
              "       [-1.67382628,  0.11419676, -0.87143985],\n",
              "       [ 0.        ,  0.11419676, -0.41429343],\n",
              "       [ 0.02726101,  1.02777088, -0.5218573 ],\n",
              "       [ 0.        ,  1.31326279,  0.34814453],\n",
              "       [ 1.20493683,  0.11419676, -0.41429343],\n",
              "       [ 0.        , -1.88424661,  2.60856748],\n",
              "       [-1.58659103, -1.5987547 , -0.87302167],\n",
              "       [ 1.29217208,  1.25616441,  1.20390997],\n",
              "       [ 1.3357897 ,  0.11419676, -0.55349373]])"
            ]
          },
          "metadata": {
            "tags": []
          },
          "execution_count": 59
        }
      ]
    },
    {
      "cell_type": "markdown",
      "metadata": {
        "id": "mvgfHpxuBBnQ"
      },
      "source": [
        "### Should OHE features be standardized?\n",
        "\n",
        "\n",
        "\n",
        "\n"
      ]
    },
    {
      "cell_type": "markdown",
      "metadata": {
        "id": "bDsybvFbHNR3"
      },
      "source": [
        "There is quite a lot of discussion on it. Please see the following StackOverflow answers:  \n",
        "\n",
        "[Do I need to standardize my one hot encoded labels?](https://datascience.stackexchange.com/a/56452/64849)   \n",
        "\n",
        "[Ridge\\Lasso — Standardization of dummy indicators](https://stats.stackexchange.com/a/359370/78454)\n",
        "\n",
        "Very briefly: If OHE features are standardized then model interpretation becomes difficult. But if they are not, then all features are not on the same scale (ie mean = 0, variance =1). Let performance be the final judge. Try with and without standardizing OHE features."
      ]
    },
    {
      "cell_type": "markdown",
      "metadata": {
        "id": "zSrunwTQ2aTO"
      },
      "source": [
        "### Concatenate pre-processed data"
      ]
    },
    {
      "cell_type": "code",
      "metadata": {
        "colab": {
          "base_uri": "https://localhost:8080/"
        },
        "id": "NLAvy-3M2aTO",
        "outputId": "0fa677e5-a5d9-4c87-8496-8e96f0af4914"
      },
      "source": [
        "# 7.0 So complete dataset is:\n",
        "a = ohe.transform(X_train_c[cat_cols])\n",
        "b = ss.transform(X_train_c[num_cols])\n",
        "\n",
        "# 7.1 Horizontally concatenate now\n",
        "Xtr = np.hstack([a,b]) # It is not X_train\n",
        "Xtr.shape # (8,14)"
      ],
      "execution_count": 60,
      "outputs": [
        {
          "output_type": "execute_result",
          "data": {
            "text/plain": [
              "(11, 15)"
            ]
          },
          "metadata": {
            "tags": []
          },
          "execution_count": 60
        }
      ]
    },
    {
      "cell_type": "markdown",
      "metadata": {
        "id": "BfIsB1cO2aTO"
      },
      "source": [
        "### Label encoding target\n",
        "Code text values in target column to digits. Our <i>y_train</i> (<i>'Creditability'</i> column) has values 'yes', 'no'..."
      ]
    },
    {
      "cell_type": "code",
      "metadata": {
        "colab": {
          "base_uri": "https://localhost:8080/",
          "height": 0
        },
        "id": "YWK2E7Jy2aTO",
        "outputId": "25dafad1-7060-4a4f-d0c6-0e32ac0c485b"
      },
      "source": [
        "# 8.0 Label encode target feature\n",
        "# 8.0.1 Our target\n",
        "f\"Unencoded target column is:\"\n",
        "y_train\n",
        "\n",
        "# 8.0.2 Encode now\n",
        "le = LabelEncoder()\n",
        "le.fit(y_train)\n",
        "\n",
        "y_train = le.fit_transform(y_train)\n",
        "\n",
        "# 8.0.3 Just print transformed y_train\n",
        "print()\n",
        "f\"Encoded y_train is: {y_train}\"   # Encoded y"
      ],
      "execution_count": 61,
      "outputs": [
        {
          "output_type": "execute_result",
          "data": {
            "application/vnd.google.colaboratory.intrinsic+json": {
              "type": "string"
            },
            "text/plain": [
              "'Unencoded target column is:'"
            ]
          },
          "metadata": {
            "tags": []
          },
          "execution_count": 61
        },
        {
          "output_type": "execute_result",
          "data": {
            "text/plain": [
              "7      no\n",
              "3     yes\n",
              "0     yes\n",
              "13     no\n",
              "12     no\n",
              "9      no\n",
              "8      no\n",
              "2     yes\n",
              "6      no\n",
              "5     yes\n",
              "10     no\n",
              "Name: creditability, dtype: object"
            ]
          },
          "metadata": {
            "tags": []
          },
          "execution_count": 61
        },
        {
          "output_type": "execute_result",
          "data": {
            "text/plain": [
              "LabelEncoder()"
            ]
          },
          "metadata": {
            "tags": []
          },
          "execution_count": 61
        },
        {
          "output_type": "stream",
          "text": [
            "\n"
          ],
          "name": "stdout"
        },
        {
          "output_type": "execute_result",
          "data": {
            "application/vnd.google.colaboratory.intrinsic+json": {
              "type": "string"
            },
            "text/plain": [
              "'Encoded y_train is: [0 1 1 0 0 0 0 1 0 1 0]'"
            ]
          },
          "metadata": {
            "tags": []
          },
          "execution_count": 61
        }
      ]
    },
    {
      "cell_type": "markdown",
      "metadata": {
        "id": "TmR7brMg2aTO"
      },
      "source": [
        "### Decision tree Modeling"
      ]
    },
    {
      "cell_type": "code",
      "metadata": {
        "colab": {
          "base_uri": "https://localhost:8080/"
        },
        "id": "0fNKfL-j2aTP",
        "outputId": "93ac46ff-0d7f-4f6d-911f-5a953016ae76"
      },
      "source": [
        "# 9.0 Train model using Xtrain\n",
        "from sklearn.tree import DecisionTreeClassifier \n",
        "\n",
        "# 9.1 Instantiate DecisionTreeClassifier class\n",
        "\n",
        "dt = DecisionTreeClassifier()\n",
        "\n",
        "# 9.2 Use the classifier object to train \n",
        "#     on our data\n",
        "\n",
        "dt.fit(Xtr,y_train)\n"
      ],
      "execution_count": 62,
      "outputs": [
        {
          "output_type": "execute_result",
          "data": {
            "text/plain": [
              "DecisionTreeClassifier()"
            ]
          },
          "metadata": {
            "tags": []
          },
          "execution_count": 62
        }
      ]
    },
    {
      "cell_type": "markdown",
      "metadata": {
        "id": "ctNoKRIxGqTt"
      },
      "source": [
        "### Make predictions"
      ]
    },
    {
      "cell_type": "markdown",
      "metadata": {
        "id": "XqDxXWBd2aTP"
      },
      "source": [
        "#### Transform X_test_c\n",
        "Before making predictions, we need to tranform columns of <i>X_test_c</i> in the same manner we did to X_train"
      ]
    },
    {
      "cell_type": "code",
      "metadata": {
        "id": "az08pKAm2aTP"
      },
      "source": [
        "# 9.3 We now want to predict values for X_test_c\n",
        "\n",
        "# 9.4 First, transform X_test_c in the same manner as we did for X_train\n",
        "#      But this time, there will be no 'fit()'. We will use\n",
        "#       already fitted objects for transformations.\n",
        "\n",
        "#     NOTE: If you have find the error of there being new levels in Xtest,\n",
        "#           execute all code quickly from #4.0 onwards.\n",
        "\n",
        "X_test_c[num_cols_median]  = si_median.transform(X_test_c[num_cols_median])\n",
        "X_test_c[num_cols_mean]    = si_mean.transform(X_test_c[num_cols_mean])\n",
        "X_test_c[cat_cols_const]   = si_const.transform(X_test_c[cat_cols_const])\n",
        "X_test_c[cat_cols_mf]      = si_mf.transform(X_test_c[cat_cols_mf]) \n",
        "a                          = ohe.transform(X_test_c[cat_cols])\n",
        "b                          = ss.transform(X_test_c[num_cols])\n",
        "Xtest = np.hstack([a,b])   # Final transformed X_test"
      ],
      "execution_count": 63,
      "outputs": []
    },
    {
      "cell_type": "code",
      "metadata": {
        "colab": {
          "base_uri": "https://localhost:8080/",
          "height": 0
        },
        "id": "iDtlibwo2aTP",
        "outputId": "3ebeafd7-9474-4e85-b70e-33609cf77cc5"
      },
      "source": [
        "# 9.5 Also label encode, y_test\n",
        "#     Using earlier fitted 'le' object\n",
        "f\"Values in y_test are:\"\n",
        "y_test\n",
        "\n",
        "y_test = le.transform(y_test)\n",
        "f\"Transformed y_test is: {y_test}\""
      ],
      "execution_count": 64,
      "outputs": [
        {
          "output_type": "execute_result",
          "data": {
            "application/vnd.google.colaboratory.intrinsic+json": {
              "type": "string"
            },
            "text/plain": [
              "'Values in y_test are:'"
            ]
          },
          "metadata": {
            "tags": []
          },
          "execution_count": 64
        },
        {
          "output_type": "execute_result",
          "data": {
            "text/plain": [
              "4     yes\n",
              "11     no\n",
              "1     yes\n",
              "Name: creditability, dtype: object"
            ]
          },
          "metadata": {
            "tags": []
          },
          "execution_count": 64
        },
        {
          "output_type": "execute_result",
          "data": {
            "application/vnd.google.colaboratory.intrinsic+json": {
              "type": "string"
            },
            "text/plain": [
              "'Transformed y_test is: [1 0 1]'"
            ]
          },
          "metadata": {
            "tags": []
          },
          "execution_count": 64
        }
      ]
    },
    {
      "cell_type": "markdown",
      "metadata": {
        "id": "dpTumlZqG-NN"
      },
      "source": [
        "#### Make predictions"
      ]
    },
    {
      "cell_type": "code",
      "metadata": {
        "colab": {
          "base_uri": "https://localhost:8080/"
        },
        "id": "RldJDcRI2aTP",
        "outputId": "16f55c67-6413-4651-88f8-5c26dcf5d651"
      },
      "source": [
        "# 9.6 Make prediction for Xtest\n",
        "dt.predict(Xtest)"
      ],
      "execution_count": 65,
      "outputs": [
        {
          "output_type": "execute_result",
          "data": {
            "text/plain": [
              "array([0, 0, 0])"
            ]
          },
          "metadata": {
            "tags": []
          },
          "execution_count": 65
        }
      ]
    },
    {
      "cell_type": "markdown",
      "metadata": {
        "id": "R_4Cixrp2aTQ"
      },
      "source": [
        "## Part II\n",
        "## Data pre-processing with Pipelining\n",
        "Pipelining has two advantages:\n",
        "> 1. It avoids intermediate variables\n",
        "> 2. It avoids data leakage\n",
        "\n",
        "As you create a pipe (say, pipe1) test it if it is working. Our big-picture of all plumbing is as below. \n",
        "\n",
        "```\n",
        "Pipeline(\n",
        "           [\n",
        "            ColumnTransformer(\n",
        "                              [ \n",
        "                                pipe1,\n",
        "                                pipe2,\n",
        "                                pipe3,\n",
        "                                pipe4\n",
        "                             ],\n",
        "           DecisionTreeClassifier            \n",
        "          ]\n",
        "        ) \n",
        "```\n",
        "\n",
        "\n",
        "                     "
      ]
    },
    {
      "cell_type": "markdown",
      "metadata": {
        "id": "PPlO-D6e6evB"
      },
      "source": [
        "Here is another complete diagram. \n",
        "\n",
        "**Impt:** As you build pipes, go on testing them (just as a plumber would do) before you join all of them together."
      ]
    },
    {
      "cell_type": "markdown",
      "metadata": {
        "id": "1N6b8RrWgX11"
      },
      "source": [
        "![image.png](data:image/png;base64,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)"
      ]
    },
    {
      "cell_type": "code",
      "metadata": {
        "id": "hACa7GuE2aTQ"
      },
      "source": [
        "# 10.0 Create pipes for all transformations\n",
        "# Ref: https://scikit-learn.org/stable/modules/compose.html#pipeline\n",
        "\n",
        "#     ColumnTransformer: Applies specified transformations parallely to each data-subset\n",
        "#     Pipeline         :  Applies transformation sequentially through transformers. \n",
        "#                         Input to pipe is one data-subset. Output of one transformer\n",
        "#                         is fed to another.\n",
        "\n",
        "#     A pipeline can be used as any other estimator\n",
        "#     and avoids leaking the test set into the train set"
      ],
      "execution_count": null,
      "outputs": []
    },
    {
      "cell_type": "markdown",
      "metadata": {
        "id": "wzoVJ2rIx_29"
      },
      "source": [
        "Pipeline syntax is as below. Pipes operate sequentially.\n",
        "\n",
        "```\n",
        "    Pipeline (\n",
        "              [ \n",
        "                 (\"transf1 name\", transformer1),\n",
        "                 (\"transf2 name\", transformer2)\n",
        "              ]\n",
        "            )\n",
        "            \n",
        "```\n",
        "\n",
        "\n"
      ]
    },
    {
      "cell_type": "code",
      "metadata": {
        "id": "_cKFkFnwsfak"
      },
      "source": [
        "# 10.1 Instantiate Pipeline object for processing\n",
        "#      cat data. Impute = most_frequent\n",
        "\n",
        "pipe1  =  Pipeline(\n",
        "                     [\n",
        "                      ('mf', SimpleImputer(strategy='most_frequent')),\n",
        "                      ('ohe', onehot())\n",
        "                     ]\n",
        "                   )"
      ],
      "execution_count": 67,
      "outputs": []
    },
    {
      "cell_type": "code",
      "metadata": {
        "id": "oyo47aExs_vM"
      },
      "source": [
        "# 10.2 Instantiate SimpleImputer object for processing\n",
        "#      cat data. Impute = constant\n",
        "\n",
        "sc = SimpleImputer(strategy=\"constant\", fill_value = 'missing')\n",
        "\n",
        "# 10.2.1 Ceate pipeline object:\n",
        "\n",
        "pipe2   = Pipeline(\n",
        "                    [\n",
        "                      ('cons', sc),\n",
        "                      ('ohe', onehot())\n",
        "                    ]\n",
        "                  )"
      ],
      "execution_count": 68,
      "outputs": []
    },
    {
      "cell_type": "code",
      "metadata": {
        "id": "Qbuu95_oukdC"
      },
      "source": [
        "# 10.3 Instantiate Pipeline object for \n",
        "#      processing numerical data. Impute = median\n",
        "\n",
        "pipe3    = Pipeline(\n",
        "                     [\n",
        "                      ('sm', SimpleImputer(strategy='median')),\n",
        "                      ('ss2', StandardScaler())\n",
        "                     ]\n",
        "                  )"
      ],
      "execution_count": 69,
      "outputs": []
    },
    {
      "cell_type": "code",
      "metadata": {
        "id": "PPgz-mjo2aTQ"
      },
      "source": [
        "# 10.4 Instantiate Pipeline object for \n",
        "#      processing numerical data. Impute = mean\n",
        "#      Pipeline as a composite transformer\n",
        "\n",
        "pipe4 =     Pipeline(\n",
        "                      [\n",
        "                       ('si', SimpleImputer(strategy='mean')),\n",
        "                       ('ss1', StandardScaler())\n",
        "                      ]\n",
        "                    )"
      ],
      "execution_count": 70,
      "outputs": []
    },
    {
      "cell_type": "code",
      "metadata": {
        "id": "3vkGgSNn2aTQ"
      },
      "source": [
        "# 10.5\n",
        "# Test transformers:\n",
        "# Feed data to each pipe to see if it is working\n",
        "# It is like testing a sub-component\n",
        "# before full-plumbing is done.\n",
        "# No error should come.\n",
        "\n",
        "pipe1.fit_transform(X_train[cat_cols_mf])\n",
        "pipe2.fit_transform(X_train[cat_cols_const])\n",
        "pipe3.fit_transform(X_train[num_cols_median])\n",
        "pipe4.fit_transform(X_train[num_cols_mean])"
      ],
      "execution_count": null,
      "outputs": []
    },
    {
      "cell_type": "markdown",
      "metadata": {
        "id": "MsDguw9A33Jv"
      },
      "source": [
        "Column transformer syntax. In a Column transformer, all transformations take place parallely.\n",
        "\n",
        "```\n",
        "ColumnTransformer(\n",
        "                   [\n",
        "                     ('tranf1_nm', transf1, cols_list1),\n",
        "                     ('tranf2_nm', transf2, cols_list2),\n",
        "                   ]\n",
        "                  )\n",
        "```\n"
      ]
    },
    {
      "cell_type": "code",
      "metadata": {
        "id": "9xXCW9Pd2aTS"
      },
      "source": [
        "# 10.6 Collecting all pipes in column transformer\n",
        "#     along with column names\n",
        "#     All pipes operate parallely\n",
        "#                       some-name  transformer     col-names\n",
        "\n",
        "ct_transformer = ColumnTransformer(\n",
        "                                    [\n",
        "                                      ('p_mf',   pipe1,   cat_cols_mf),\n",
        "                                      ('p_const',pipe2,   cat_cols_const),\n",
        "                                      ('p_med',  pipe3,   num_cols_median),\n",
        "                                      ('p_mean', pipe4,   num_cols_mean),\n",
        "                                    ]\n",
        "                                  )"
      ],
      "execution_count": 73,
      "outputs": []
    },
    {
      "cell_type": "code",
      "metadata": {
        "id": "TkdVpvay6PAb"
      },
      "source": [
        "# 10.7 Test column transformet\n",
        "ct_transformer.fit_transform(X_train)"
      ],
      "execution_count": null,
      "outputs": []
    },
    {
      "cell_type": "code",
      "metadata": {
        "id": "WZiHn9qo2aTS"
      },
      "source": [
        "# 10.6 Final pipeline for transformation and modeling\n",
        "#     final_pipe is both a \n",
        "outer_pipe = Pipeline(\n",
        "                      [\n",
        "                       ('ct', ct_transformer),        # Column transformer object\n",
        "                       ('dt', DecisionTreeClassifier()) # Estimator\n",
        "                      ]\n",
        "                     )"
      ],
      "execution_count": 75,
      "outputs": []
    },
    {
      "cell_type": "markdown",
      "metadata": {
        "id": "yJSqaIN22aTS"
      },
      "source": [
        "#### Train final_pipe on data"
      ]
    },
    {
      "cell_type": "code",
      "metadata": {
        "id": "K1oS0fD32aTS"
      },
      "source": [
        "# 11.0 Train on data using final_pipe\n",
        "#     We use (X_train, y_train)\n",
        "\n",
        "outer_pipe.fit(X_train,y_train)"
      ],
      "execution_count": null,
      "outputs": []
    },
    {
      "cell_type": "code",
      "metadata": {
        "id": "oRrPDH5P2aTS",
        "colab": {
          "base_uri": "https://localhost:8080/"
        },
        "outputId": "3bbaae1a-68fe-4860-bafd-cde418636b41"
      },
      "source": [
        "# 11.1 Make prediction on test data\n",
        "#     Note that there is no need to separately\n",
        "#     transform X_test. Pipes take care of that\n",
        "\n",
        "outer_pipe.predict(X_test)"
      ],
      "execution_count": 77,
      "outputs": [
        {
          "output_type": "execute_result",
          "data": {
            "text/plain": [
              "array([0, 0, 0])"
            ]
          },
          "metadata": {
            "tags": []
          },
          "execution_count": 77
        }
      ]
    },
    {
      "cell_type": "code",
      "metadata": {
        "id": "E9G1b6XY2aTT",
        "colab": {
          "base_uri": "https://localhost:8080/"
        },
        "outputId": "8f953a91-df5c-4923-d29f-71d7b27954ec"
      },
      "source": [
        "# 11.2 But what is the actual y_test\n",
        "y_test\n",
        "# le.transform(y_test)"
      ],
      "execution_count": 78,
      "outputs": [
        {
          "output_type": "execute_result",
          "data": {
            "text/plain": [
              "array([1, 0, 1])"
            ]
          },
          "metadata": {
            "tags": []
          },
          "execution_count": 78
        }
      ]
    },
    {
      "cell_type": "code",
      "metadata": {
        "colab": {
          "base_uri": "https://localhost:8080/",
          "height": 197
        },
        "id": "sBbeFX452fLd",
        "outputId": "653e31df-28ca-4f2a-c236-771508987262"
      },
      "source": [
        "# 11.2 Display pipeline as diagram\n",
        "# Ref:\n",
        "#  https://scikit-learn.org/stable/modules/compose.html#visualizing-composite-estimators\n",
        "\n",
        "set_config(display='diagram')\n",
        "outer_pipe"
      ],
      "execution_count": 79,
      "outputs": [
        {
          "output_type": "execute_result",
          "data": {
            "text/html": [
              "<style>#sk-082fa5a2-1f86-4ffc-b49e-581c8d49bdef {color: black;background-color: white;}#sk-082fa5a2-1f86-4ffc-b49e-581c8d49bdef pre{padding: 0;}#sk-082fa5a2-1f86-4ffc-b49e-581c8d49bdef div.sk-toggleable {background-color: white;}#sk-082fa5a2-1f86-4ffc-b49e-581c8d49bdef label.sk-toggleable__label {cursor: pointer;display: block;width: 100%;margin-bottom: 0;padding: 0.2em 0.3em;box-sizing: border-box;text-align: center;}#sk-082fa5a2-1f86-4ffc-b49e-581c8d49bdef div.sk-toggleable__content {max-height: 0;max-width: 0;overflow: hidden;text-align: left;background-color: #f0f8ff;}#sk-082fa5a2-1f86-4ffc-b49e-581c8d49bdef div.sk-toggleable__content pre {margin: 0.2em;color: black;border-radius: 0.25em;background-color: #f0f8ff;}#sk-082fa5a2-1f86-4ffc-b49e-581c8d49bdef input.sk-toggleable__control:checked~div.sk-toggleable__content {max-height: 200px;max-width: 100%;overflow: auto;}#sk-082fa5a2-1f86-4ffc-b49e-581c8d49bdef div.sk-estimator input.sk-toggleable__control:checked~label.sk-toggleable__label {background-color: #d4ebff;}#sk-082fa5a2-1f86-4ffc-b49e-581c8d49bdef div.sk-label input.sk-toggleable__control:checked~label.sk-toggleable__label {background-color: #d4ebff;}#sk-082fa5a2-1f86-4ffc-b49e-581c8d49bdef input.sk-hidden--visually {border: 0;clip: rect(1px 1px 1px 1px);clip: rect(1px, 1px, 1px, 1px);height: 1px;margin: -1px;overflow: hidden;padding: 0;position: absolute;width: 1px;}#sk-082fa5a2-1f86-4ffc-b49e-581c8d49bdef div.sk-estimator {font-family: monospace;background-color: #f0f8ff;margin: 0.25em 0.25em;border: 1px dotted black;border-radius: 0.25em;box-sizing: border-box;}#sk-082fa5a2-1f86-4ffc-b49e-581c8d49bdef div.sk-estimator:hover {background-color: #d4ebff;}#sk-082fa5a2-1f86-4ffc-b49e-581c8d49bdef div.sk-parallel-item::after {content: \"\";width: 100%;border-bottom: 1px solid gray;flex-grow: 1;}#sk-082fa5a2-1f86-4ffc-b49e-581c8d49bdef div.sk-label:hover label.sk-toggleable__label {background-color: #d4ebff;}#sk-082fa5a2-1f86-4ffc-b49e-581c8d49bdef div.sk-serial::before {content: \"\";position: absolute;border-left: 1px solid gray;box-sizing: border-box;top: 2em;bottom: 0;left: 50%;}#sk-082fa5a2-1f86-4ffc-b49e-581c8d49bdef div.sk-serial {display: flex;flex-direction: column;align-items: center;background-color: white;}#sk-082fa5a2-1f86-4ffc-b49e-581c8d49bdef div.sk-item {z-index: 1;}#sk-082fa5a2-1f86-4ffc-b49e-581c8d49bdef div.sk-parallel {display: flex;align-items: stretch;justify-content: center;background-color: white;}#sk-082fa5a2-1f86-4ffc-b49e-581c8d49bdef div.sk-parallel-item {display: flex;flex-direction: column;position: relative;background-color: white;}#sk-082fa5a2-1f86-4ffc-b49e-581c8d49bdef div.sk-parallel-item:first-child::after {align-self: flex-end;width: 50%;}#sk-082fa5a2-1f86-4ffc-b49e-581c8d49bdef div.sk-parallel-item:last-child::after {align-self: flex-start;width: 50%;}#sk-082fa5a2-1f86-4ffc-b49e-581c8d49bdef div.sk-parallel-item:only-child::after {width: 0;}#sk-082fa5a2-1f86-4ffc-b49e-581c8d49bdef div.sk-dashed-wrapped {border: 1px dashed gray;margin: 0.2em;box-sizing: border-box;padding-bottom: 0.1em;background-color: white;position: relative;}#sk-082fa5a2-1f86-4ffc-b49e-581c8d49bdef div.sk-label label {font-family: monospace;font-weight: bold;background-color: white;display: inline-block;line-height: 1.2em;}#sk-082fa5a2-1f86-4ffc-b49e-581c8d49bdef div.sk-label-container {position: relative;z-index: 2;text-align: center;}#sk-082fa5a2-1f86-4ffc-b49e-581c8d49bdef div.sk-container {display: inline-block;position: relative;}</style><div id=\"sk-082fa5a2-1f86-4ffc-b49e-581c8d49bdef\" class\"sk-top-container\"><div class=\"sk-container\"><div class=\"sk-item sk-dashed-wrapped\"><div class=\"sk-label-container\"><div class=\"sk-label sk-toggleable\"><input class=\"sk-toggleable__control sk-hidden--visually\" id=\"72325049-bd6c-4d09-abdf-23d3e89c4dfd\" type=\"checkbox\" ><label class=\"sk-toggleable__label\" for=\"72325049-bd6c-4d09-abdf-23d3e89c4dfd\">Pipeline</label><div class=\"sk-toggleable__content\"><pre>Pipeline(steps=[('ct',\n",
              "                 ColumnTransformer(transformers=[('pmf',\n",
              "                                                  Pipeline(steps=[('mf',\n",
              "                                                                   SimpleImputer(strategy='most_frequent')),\n",
              "                                                                  ('ohe',\n",
              "                                                                   OneHotEncoder())]),\n",
              "                                                  ['acc_balance',\n",
              "                                                   'house_owned']),\n",
              "                                                 ('pconst',\n",
              "                                                  Pipeline(steps=[('cons',\n",
              "                                                                   SimpleImputer(fill_value='missing',\n",
              "                                                                                 strategy='constant')),\n",
              "                                                                  ('ohe',\n",
              "                                                                   OneHotEncoder())]),\n",
              "                                                  ['age_cat',\n",
              "                                                   'credit_amount_cat']),\n",
              "                                                 ('pme',\n",
              "                                                  Pipeline(steps=[('sm',\n",
              "                                                                   SimpleImputer(strategy='median')),\n",
              "                                                                  ('ss2',\n",
              "                                                                   StandardScaler())]),\n",
              "                                                  ['income', 'credit_amount']),\n",
              "                                                 ('pm',\n",
              "                                                  Pipeline(steps=[('si',\n",
              "                                                                   SimpleImputer()),\n",
              "                                                                  ('ss1',\n",
              "                                                                   StandardScaler())]),\n",
              "                                                  ['age'])])),\n",
              "                ('dt', DecisionTreeClassifier())])</pre></div></div></div><div class=\"sk-serial\"><div class=\"sk-item sk-dashed-wrapped\"><div class=\"sk-label-container\"><div class=\"sk-label sk-toggleable\"><input class=\"sk-toggleable__control sk-hidden--visually\" id=\"f4d7d3b4-7370-4c76-9406-f11d6570c95a\" type=\"checkbox\" ><label class=\"sk-toggleable__label\" for=\"f4d7d3b4-7370-4c76-9406-f11d6570c95a\">ct: ColumnTransformer</label><div class=\"sk-toggleable__content\"><pre>ColumnTransformer(transformers=[('pmf',\n",
              "                                 Pipeline(steps=[('mf',\n",
              "                                                  SimpleImputer(strategy='most_frequent')),\n",
              "                                                 ('ohe', OneHotEncoder())]),\n",
              "                                 ['acc_balance', 'house_owned']),\n",
              "                                ('pconst',\n",
              "                                 Pipeline(steps=[('cons',\n",
              "                                                  SimpleImputer(fill_value='missing',\n",
              "                                                                strategy='constant')),\n",
              "                                                 ('ohe', OneHotEncoder())]),\n",
              "                                 ['age_cat', 'credit_amount_cat']),\n",
              "                                ('pme',\n",
              "                                 Pipeline(steps=[('sm',\n",
              "                                                  SimpleImputer(strategy='median')),\n",
              "                                                 ('ss2', StandardScaler())]),\n",
              "                                 ['income', 'credit_amount']),\n",
              "                                ('pm',\n",
              "                                 Pipeline(steps=[('si', SimpleImputer()),\n",
              "                                                 ('ss1', StandardScaler())]),\n",
              "                                 ['age'])])</pre></div></div></div><div class=\"sk-parallel\"><div class=\"sk-parallel-item\"><div class=\"sk-item\"><div class=\"sk-label-container\"><div class=\"sk-label sk-toggleable\"><input class=\"sk-toggleable__control sk-hidden--visually\" id=\"27199aad-6f18-423d-b81d-0d02c4248d70\" type=\"checkbox\" ><label class=\"sk-toggleable__label\" for=\"27199aad-6f18-423d-b81d-0d02c4248d70\">pmf</label><div class=\"sk-toggleable__content\"><pre>['acc_balance', 'house_owned']</pre></div></div></div><div class=\"sk-serial\"><div class=\"sk-item\"><div class=\"sk-serial\"><div class=\"sk-item\"><div class=\"sk-estimator sk-toggleable\"><input class=\"sk-toggleable__control sk-hidden--visually\" id=\"e58eb72d-e7bd-4e64-be1f-8d71ac8eafcd\" type=\"checkbox\" ><label class=\"sk-toggleable__label\" for=\"e58eb72d-e7bd-4e64-be1f-8d71ac8eafcd\">SimpleImputer</label><div class=\"sk-toggleable__content\"><pre>SimpleImputer(strategy='most_frequent')</pre></div></div></div><div class=\"sk-item\"><div class=\"sk-estimator sk-toggleable\"><input class=\"sk-toggleable__control sk-hidden--visually\" id=\"0d83d64e-8b6f-4dee-b294-73a5c247cacb\" type=\"checkbox\" ><label class=\"sk-toggleable__label\" for=\"0d83d64e-8b6f-4dee-b294-73a5c247cacb\">OneHotEncoder</label><div class=\"sk-toggleable__content\"><pre>OneHotEncoder()</pre></div></div></div></div></div></div></div></div><div class=\"sk-parallel-item\"><div class=\"sk-item\"><div class=\"sk-label-container\"><div class=\"sk-label sk-toggleable\"><input class=\"sk-toggleable__control sk-hidden--visually\" id=\"43edca0a-423d-4340-9825-06cb2cb4ac9b\" type=\"checkbox\" ><label class=\"sk-toggleable__label\" for=\"43edca0a-423d-4340-9825-06cb2cb4ac9b\">pconst</label><div class=\"sk-toggleable__content\"><pre>['age_cat', 'credit_amount_cat']</pre></div></div></div><div class=\"sk-serial\"><div class=\"sk-item\"><div class=\"sk-serial\"><div class=\"sk-item\"><div class=\"sk-estimator sk-toggleable\"><input class=\"sk-toggleable__control sk-hidden--visually\" id=\"921e6739-9bc2-4b55-a9a1-b4d18841b012\" type=\"checkbox\" ><label class=\"sk-toggleable__label\" for=\"921e6739-9bc2-4b55-a9a1-b4d18841b012\">SimpleImputer</label><div class=\"sk-toggleable__content\"><pre>SimpleImputer(fill_value='missing', strategy='constant')</pre></div></div></div><div class=\"sk-item\"><div class=\"sk-estimator sk-toggleable\"><input class=\"sk-toggleable__control sk-hidden--visually\" id=\"955f34ba-3092-4b1d-a56f-2aec3da8a3f8\" type=\"checkbox\" ><label class=\"sk-toggleable__label\" for=\"955f34ba-3092-4b1d-a56f-2aec3da8a3f8\">OneHotEncoder</label><div class=\"sk-toggleable__content\"><pre>OneHotEncoder()</pre></div></div></div></div></div></div></div></div><div class=\"sk-parallel-item\"><div class=\"sk-item\"><div class=\"sk-label-container\"><div class=\"sk-label sk-toggleable\"><input class=\"sk-toggleable__control sk-hidden--visually\" id=\"4ce9a390-2c0e-4ede-99ca-ff8bf53ecf1d\" type=\"checkbox\" ><label class=\"sk-toggleable__label\" for=\"4ce9a390-2c0e-4ede-99ca-ff8bf53ecf1d\">pme</label><div class=\"sk-toggleable__content\"><pre>['income', 'credit_amount']</pre></div></div></div><div class=\"sk-serial\"><div class=\"sk-item\"><div class=\"sk-serial\"><div class=\"sk-item\"><div class=\"sk-estimator sk-toggleable\"><input class=\"sk-toggleable__control sk-hidden--visually\" id=\"fdd9a69d-1e4d-4029-8df3-d6c5589d2869\" type=\"checkbox\" ><label class=\"sk-toggleable__label\" for=\"fdd9a69d-1e4d-4029-8df3-d6c5589d2869\">SimpleImputer</label><div class=\"sk-toggleable__content\"><pre>SimpleImputer(strategy='median')</pre></div></div></div><div class=\"sk-item\"><div class=\"sk-estimator sk-toggleable\"><input class=\"sk-toggleable__control sk-hidden--visually\" id=\"0f86b965-b8a6-46a8-b5b9-e2be6d2fb60c\" type=\"checkbox\" ><label class=\"sk-toggleable__label\" for=\"0f86b965-b8a6-46a8-b5b9-e2be6d2fb60c\">StandardScaler</label><div class=\"sk-toggleable__content\"><pre>StandardScaler()</pre></div></div></div></div></div></div></div></div><div class=\"sk-parallel-item\"><div class=\"sk-item\"><div class=\"sk-label-container\"><div class=\"sk-label sk-toggleable\"><input class=\"sk-toggleable__control sk-hidden--visually\" id=\"daa23e63-fd14-4513-b087-97d8a161ddf1\" type=\"checkbox\" ><label class=\"sk-toggleable__label\" for=\"daa23e63-fd14-4513-b087-97d8a161ddf1\">pm</label><div class=\"sk-toggleable__content\"><pre>['age']</pre></div></div></div><div class=\"sk-serial\"><div class=\"sk-item\"><div class=\"sk-serial\"><div class=\"sk-item\"><div class=\"sk-estimator sk-toggleable\"><input class=\"sk-toggleable__control sk-hidden--visually\" id=\"69195dbb-ab85-43a1-b3da-58afca133e27\" type=\"checkbox\" ><label class=\"sk-toggleable__label\" for=\"69195dbb-ab85-43a1-b3da-58afca133e27\">SimpleImputer</label><div class=\"sk-toggleable__content\"><pre>SimpleImputer()</pre></div></div></div><div class=\"sk-item\"><div class=\"sk-estimator sk-toggleable\"><input class=\"sk-toggleable__control sk-hidden--visually\" id=\"bdcc62b2-3671-4769-a143-b6f9cbd2b117\" type=\"checkbox\" ><label class=\"sk-toggleable__label\" for=\"bdcc62b2-3671-4769-a143-b6f9cbd2b117\">StandardScaler</label><div class=\"sk-toggleable__content\"><pre>StandardScaler()</pre></div></div></div></div></div></div></div></div></div></div><div class=\"sk-item\"><div class=\"sk-estimator sk-toggleable\"><input class=\"sk-toggleable__control sk-hidden--visually\" id=\"9b9bd164-7484-4915-9cc3-fc13aa1426bd\" type=\"checkbox\" ><label class=\"sk-toggleable__label\" for=\"9b9bd164-7484-4915-9cc3-fc13aa1426bd\">DecisionTreeClassifier</label><div class=\"sk-toggleable__content\"><pre>DecisionTreeClassifier()</pre></div></div></div></div></div></div></div>"
            ],
            "text/plain": [
              "Pipeline(steps=[('ct',\n",
              "                 ColumnTransformer(transformers=[('pmf',\n",
              "                                                  Pipeline(steps=[('mf',\n",
              "                                                                   SimpleImputer(strategy='most_frequent')),\n",
              "                                                                  ('ohe',\n",
              "                                                                   OneHotEncoder())]),\n",
              "                                                  ['acc_balance',\n",
              "                                                   'house_owned']),\n",
              "                                                 ('pconst',\n",
              "                                                  Pipeline(steps=[('cons',\n",
              "                                                                   SimpleImputer(fill_value='missing',\n",
              "                                                                                 strategy='constant')),\n",
              "                                                                  ('ohe',\n",
              "                                                                   OneHotEncoder())]),\n",
              "                                                  ['age_cat',\n",
              "                                                   'credit_amount_cat']),\n",
              "                                                 ('pme',\n",
              "                                                  Pipeline(steps=[('sm',\n",
              "                                                                   SimpleImputer(strategy='median')),\n",
              "                                                                  ('ss2',\n",
              "                                                                   StandardScaler())]),\n",
              "                                                  ['income', 'credit_amount']),\n",
              "                                                 ('pm',\n",
              "                                                  Pipeline(steps=[('si',\n",
              "                                                                   SimpleImputer()),\n",
              "                                                                  ('ss1',\n",
              "                                                                   StandardScaler())]),\n",
              "                                                  ['age'])])),\n",
              "                ('dt', DecisionTreeClassifier())])"
            ]
          },
          "metadata": {
            "tags": []
          },
          "execution_count": 79
        }
      ]
    },
    {
      "cell_type": "code",
      "metadata": {
        "id": "eqaeY6GJgz2n"
      },
      "source": [
        "# 11.3 Pipeline as text\n",
        "set_config(display='text')\n",
        "final_pipe_transformer_estimator"
      ],
      "execution_count": null,
      "outputs": []
    },
    {
      "cell_type": "code",
      "metadata": {
        "id": "3u3Gx_Co2aTT"
      },
      "source": [
        "######## That's all folks ##########"
      ],
      "execution_count": null,
      "outputs": []
    },
    {
      "cell_type": "markdown",
      "metadata": {
        "id": "kYt9UCvuTu4_"
      },
      "source": [
        "### Decision tree--A greedy algorithm\n",
        "What is a greedy algorithm?  \n",
        "A greedy algorithm is any algorithm that follows the problem-solving heuristic of making the locally optimal choice at each stage. In many problems, a greedy strategy does not usually produce an optimal solution, but nonetheless, a greedy heuristic may yield locally optimal solutions that approximate a globally optimal solution in a reasonable amount of time. "
      ]
    },
    {
      "cell_type": "markdown",
      "metadata": {
        "id": "3a-vYGE5XPm2"
      },
      "source": [
        "Problem:\n",
        "Find the largest possible sum, starting from the root. If focused on choosing the maximum value at each step, leads to a solution that is not globally optimal."
      ]
    },
    {
      "cell_type": "markdown",
      "metadata": {
        "id": "gCwQFc91WTYk"
      },
      "source": [
        "![image.png](data:image/png;base64,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)"
      ]
    },
    {
      "cell_type": "code",
      "metadata": {
        "id": "sqd1ABoSTznb"
      },
      "source": [
        "########### ############### ###########"
      ],
      "execution_count": null,
      "outputs": []
    }
  ]
}