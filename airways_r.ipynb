{
  "nbformat": 4,
  "nbformat_minor": 0,
  "metadata": {
    "colab": {
      "provenance": [],
      "authorship_tag": "ABX9TyPNSghaOdENzB2PoVM1FtMx",
      "include_colab_link": true
    },
    "kernelspec": {
      "name": "ir",
      "display_name": "R"
    },
    "language_info": {
      "name": "R"
    }
  },
  "cells": [
    {
      "cell_type": "markdown",
      "metadata": {
        "id": "view-in-github",
        "colab_type": "text"
      },
      "source": [
        "<a href=\"https://colab.research.google.com/github/harnalashok/classification/blob/main/airways_r.ipynb\" target=\"_parent\"><img src=\"https://colab.research.google.com/assets/colab-badge.svg\" alt=\"Open In Colab\"/></a>"
      ]
    },
    {
      "cell_type": "code",
      "execution_count": null,
      "metadata": {
        "id": "ZRWVa8-fIacQ"
      },
      "outputs": [],
      "source": [
        "# R code"
      ]
    },
    {
      "cell_type": "code",
      "source": [
        "# prompt: write r code to read a csv file\n",
        "\n",
        "# Install and load the readr package if not already installed\n",
        "if(!require(readr)){install.packages(\"readr\")}\n",
        "library(readr)\n",
        "\n",
        "# Replace 'your_file.csv' with the actual file path\n",
        "df <- read_csv(\"https://raw.githubusercontent.com/harnalashok/classification/refs/heads/main/data/airways_mod_ver4.csv\")\n",
        "\n",
        "# Print the first few rows of the data frame to verify\n",
        "head(df)"
      ],
      "metadata": {
        "colab": {
          "base_uri": "https://localhost:8080/",
          "height": 464
        },
        "id": "eGoP1ZtJIfm2",
        "outputId": "f06230f7-e9e3-495e-c1be-373fb86b76d0"
      },
      "execution_count": 1,
      "outputs": [
        {
          "output_type": "stream",
          "name": "stderr",
          "text": [
            "Loading required package: readr\n",
            "\n",
            "\u001b[1mRows: \u001b[22m\u001b[34m1000\u001b[39m \u001b[1mColumns: \u001b[22m\u001b[34m13\u001b[39m\n",
            "\u001b[36m──\u001b[39m \u001b[1mColumn specification\u001b[22m \u001b[36m────────────────────────────────────────────────────────\u001b[39m\n",
            "\u001b[1mDelimiter:\u001b[22m \",\"\n",
            "\u001b[31mchr\u001b[39m  (1): sex\n",
            "\u001b[32mdbl\u001b[39m (12): age, height, subluxation of mandible, head and neck movement, buck...\n",
            "\n",
            "\u001b[36mℹ\u001b[39m Use `spec()` to retrieve the full column specification for this data.\n",
            "\u001b[36mℹ\u001b[39m Specify the column types or set `show_col_types = FALSE` to quiet this message.\n"
          ]
        },
        {
          "output_type": "display_data",
          "data": {
            "text/html": [
              "<table class=\"dataframe\">\n",
              "<caption>A tibble: 6 × 13</caption>\n",
              "<thead>\n",
              "\t<tr><th scope=col>age</th><th scope=col>sex</th><th scope=col>height</th><th scope=col>subluxation of mandible</th><th scope=col>head and neck movement</th><th scope=col>buck teeth</th><th scope=col>edentulous</th><th scope=col>bmi</th><th scope=col>sternomental distance</th><th scope=col>thyromental distance</th><th scope=col>mallampatti</th><th scope=col>mouth opening</th><th scope=col>cormack lahane</th></tr>\n",
              "\t<tr><th scope=col>&lt;dbl&gt;</th><th scope=col>&lt;chr&gt;</th><th scope=col>&lt;dbl&gt;</th><th scope=col>&lt;dbl&gt;</th><th scope=col>&lt;dbl&gt;</th><th scope=col>&lt;dbl&gt;</th><th scope=col>&lt;dbl&gt;</th><th scope=col>&lt;dbl&gt;</th><th scope=col>&lt;dbl&gt;</th><th scope=col>&lt;dbl&gt;</th><th scope=col>&lt;dbl&gt;</th><th scope=col>&lt;dbl&gt;</th><th scope=col>&lt;dbl&gt;</th></tr>\n",
              "</thead>\n",
              "<tbody>\n",
              "\t<tr><td>22</td><td>male  </td><td>172</td><td>1</td><td>0</td><td>1</td><td>0</td><td>22.40</td><td>17.0</td><td>8.6</td><td>2</td><td>0</td><td>2</td></tr>\n",
              "\t<tr><td>55</td><td>female</td><td>143</td><td>1</td><td>0</td><td>1</td><td>0</td><td>27.45</td><td>16.0</td><td>7.8</td><td>2</td><td>0</td><td>1</td></tr>\n",
              "\t<tr><td>59</td><td>male  </td><td>162</td><td>2</td><td>1</td><td>0</td><td>1</td><td>24.20</td><td>14.3</td><td>6.9</td><td>3</td><td>0</td><td>3</td></tr>\n",
              "\t<tr><td>48</td><td>female</td><td>168</td><td>1</td><td>0</td><td>0</td><td>0</td><td>28.50</td><td>15.6</td><td>7.2</td><td>3</td><td>0</td><td>2</td></tr>\n",
              "\t<tr><td>51</td><td>female</td><td>154</td><td>3</td><td>0</td><td>0</td><td>1</td><td>25.30</td><td>14.3</td><td>6.7</td><td>4</td><td>1</td><td>4</td></tr>\n",
              "\t<tr><td>56</td><td>male  </td><td>182</td><td>1</td><td>1</td><td>1</td><td>0</td><td>30.00</td><td>20.0</td><td>9.7</td><td>2</td><td>0</td><td>3</td></tr>\n",
              "</tbody>\n",
              "</table>\n"
            ],
            "text/markdown": "\nA tibble: 6 × 13\n\n| age &lt;dbl&gt; | sex &lt;chr&gt; | height &lt;dbl&gt; | subluxation of mandible &lt;dbl&gt; | head and neck movement &lt;dbl&gt; | buck teeth &lt;dbl&gt; | edentulous &lt;dbl&gt; | bmi &lt;dbl&gt; | sternomental distance &lt;dbl&gt; | thyromental distance &lt;dbl&gt; | mallampatti &lt;dbl&gt; | mouth opening &lt;dbl&gt; | cormack lahane &lt;dbl&gt; |\n|---|---|---|---|---|---|---|---|---|---|---|---|---|\n| 22 | male   | 172 | 1 | 0 | 1 | 0 | 22.40 | 17.0 | 8.6 | 2 | 0 | 2 |\n| 55 | female | 143 | 1 | 0 | 1 | 0 | 27.45 | 16.0 | 7.8 | 2 | 0 | 1 |\n| 59 | male   | 162 | 2 | 1 | 0 | 1 | 24.20 | 14.3 | 6.9 | 3 | 0 | 3 |\n| 48 | female | 168 | 1 | 0 | 0 | 0 | 28.50 | 15.6 | 7.2 | 3 | 0 | 2 |\n| 51 | female | 154 | 3 | 0 | 0 | 1 | 25.30 | 14.3 | 6.7 | 4 | 1 | 4 |\n| 56 | male   | 182 | 1 | 1 | 1 | 0 | 30.00 | 20.0 | 9.7 | 2 | 0 | 3 |\n\n",
            "text/latex": "A tibble: 6 × 13\n\\begin{tabular}{lllllllllllll}\n age & sex & height & subluxation of mandible & head and neck movement & buck teeth & edentulous & bmi & sternomental distance & thyromental distance & mallampatti & mouth opening & cormack lahane\\\\\n <dbl> & <chr> & <dbl> & <dbl> & <dbl> & <dbl> & <dbl> & <dbl> & <dbl> & <dbl> & <dbl> & <dbl> & <dbl>\\\\\n\\hline\n\t 22 & male   & 172 & 1 & 0 & 1 & 0 & 22.40 & 17.0 & 8.6 & 2 & 0 & 2\\\\\n\t 55 & female & 143 & 1 & 0 & 1 & 0 & 27.45 & 16.0 & 7.8 & 2 & 0 & 1\\\\\n\t 59 & male   & 162 & 2 & 1 & 0 & 1 & 24.20 & 14.3 & 6.9 & 3 & 0 & 3\\\\\n\t 48 & female & 168 & 1 & 0 & 0 & 0 & 28.50 & 15.6 & 7.2 & 3 & 0 & 2\\\\\n\t 51 & female & 154 & 3 & 0 & 0 & 1 & 25.30 & 14.3 & 6.7 & 4 & 1 & 4\\\\\n\t 56 & male   & 182 & 1 & 1 & 1 & 0 & 30.00 & 20.0 & 9.7 & 2 & 0 & 3\\\\\n\\end{tabular}\n",
            "text/plain": [
              "  age sex    height subluxation of mandible head and neck movement buck teeth\n",
              "1 22  male   172    1                       0                      1         \n",
              "2 55  female 143    1                       0                      1         \n",
              "3 59  male   162    2                       1                      0         \n",
              "4 48  female 168    1                       0                      0         \n",
              "5 51  female 154    3                       0                      0         \n",
              "6 56  male   182    1                       1                      1         \n",
              "  edentulous bmi   sternomental distance thyromental distance mallampatti\n",
              "1 0          22.40 17.0                  8.6                  2          \n",
              "2 0          27.45 16.0                  7.8                  2          \n",
              "3 1          24.20 14.3                  6.9                  3          \n",
              "4 0          28.50 15.6                  7.2                  3          \n",
              "5 1          25.30 14.3                  6.7                  4          \n",
              "6 0          30.00 20.0                  9.7                  2          \n",
              "  mouth opening cormack lahane\n",
              "1 0             2             \n",
              "2 0             1             \n",
              "3 0             3             \n",
              "4 0             2             \n",
              "5 1             4             \n",
              "6 0             3             "
            ]
          },
          "metadata": {}
        }
      ]
    },
    {
      "cell_type": "code",
      "source": [],
      "metadata": {
        "id": "YVxhxdWMIvHz"
      },
      "execution_count": null,
      "outputs": []
    }
  ]
}