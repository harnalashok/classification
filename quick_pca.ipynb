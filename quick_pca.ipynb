{
  "nbformat": 4,
  "nbformat_minor": 0,
  "metadata": {
    "colab": {
      "provenance": [],
      "authorship_tag": "ABX9TyNo56wG4W+bxdCLzJrni/DF",
      "include_colab_link": true
    },
    "kernelspec": {
      "name": "python3",
      "display_name": "Python 3"
    },
    "language_info": {
      "name": "python"
    }
  },
  "cells": [
    {
      "cell_type": "markdown",
      "metadata": {
        "id": "view-in-github",
        "colab_type": "text"
      },
      "source": [
        "<a href=\"https://colab.research.google.com/github/harnalashok/classification/blob/main/quick_pca.ipynb\" target=\"_parent\"><img src=\"https://colab.research.google.com/assets/colab-badge.svg\" alt=\"Open In Colab\"/></a>"
      ]
    },
    {
      "cell_type": "code",
      "execution_count": null,
      "metadata": {
        "id": "j-os87d_-nlx"
      },
      "outputs": [],
      "source": [
        "# 1.0 Import libraries\n",
        "\n",
        "import pandas as pd\n",
        "import numpy as np\n",
        "from sklearn.preprocessing import StandardScaler\n",
        "from sklearn.impute import SimpleImputer\n",
        "from sklearn.decomposition import PCA\n",
        "from pathlib import Path"
      ]
    },
    {
      "cell_type": "code",
      "source": [
        "# 1.1 Connect gdrive\n",
        "from google.colab import drive\n",
        "drive.mount('/gdrive')"
      ],
      "metadata": {
        "colab": {
          "base_uri": "https://localhost:8080/"
        },
        "id": "Sz6ZeKgu_din",
        "outputId": "7efd3650-7692-4164-a09f-0e281bc6eff0"
      },
      "execution_count": null,
      "outputs": [
        {
          "output_type": "stream",
          "name": "stdout",
          "text": [
            "Drive already mounted at /gdrive; to attempt to forcibly remount, call drive.mount(\"/gdrive\", force_remount=True).\n"
          ]
        }
      ]
    },
    {
      "cell_type": "code",
      "source": [
        "# 1.2\n",
        "from IPython.core.interactiveshell import InteractiveShell\n",
        "InteractiveShell.ast_node_interactivity = \"all\""
      ],
      "metadata": {
        "id": "RrS8oIZ4ULqG"
      },
      "execution_count": null,
      "outputs": []
    },
    {
      "cell_type": "code",
      "source": [
        "# 1.3 Path to data folder in gdriev:\n",
        "\n",
        "pathToFolder = Path(\"/gdrive/MyDrive/Colab_data_files/product_testing/\")"
      ],
      "metadata": {
        "id": "OmuRtz8S_fPW"
      },
      "execution_count": null,
      "outputs": []
    },
    {
      "cell_type": "code",
      "source": [
        "# 2.0 Read data file:\n",
        "\n",
        "df = pd.read_csv(pathToFolder / \"train.csv.zip\")\n",
        "df.head()"
      ],
      "metadata": {
        "id": "mio4fHbuArkk"
      },
      "execution_count": null,
      "outputs": []
    },
    {
      "cell_type": "code",
      "source": [
        "# 2.0.1 Columns\n",
        "df.shape\n",
        "df.columns"
      ],
      "metadata": {
        "colab": {
          "base_uri": "https://localhost:8080/"
        },
        "id": "VSxFEbTgBWrL",
        "outputId": "04d45a3c-b431-4572-d699-a4dcf4acb9d2"
      },
      "execution_count": null,
      "outputs": [
        {
          "output_type": "execute_result",
          "data": {
            "text/plain": [
              "Index(['id', 'product_code', 'loading', 'attribute_0', 'attribute_1',\n",
              "       'attribute_2', 'attribute_3', 'measurement_0', 'measurement_1',\n",
              "       'measurement_2', 'measurement_3', 'measurement_4', 'measurement_5',\n",
              "       'measurement_6', 'measurement_7', 'measurement_8', 'measurement_9',\n",
              "       'measurement_10', 'measurement_11', 'measurement_12', 'measurement_13',\n",
              "       'measurement_14', 'measurement_15', 'measurement_16', 'measurement_17',\n",
              "       'failure'],\n",
              "      dtype='object')"
            ]
          },
          "metadata": {},
          "execution_count": 19
        }
      ]
    },
    {
      "cell_type": "code",
      "source": [
        "# 2.1 Drop 'id' and store target\n",
        "#     in another variable:\n",
        "\n",
        "_=df.pop(\"id\")\n",
        "target = df.pop('failure')"
      ],
      "metadata": {
        "id": "WYZkEgobBcJm"
      },
      "execution_count": null,
      "outputs": []
    },
    {
      "cell_type": "code",
      "source": [
        "# 2.2 Drop categorical columns:\n",
        "\n",
        "df = df.drop(columns = ['product_code','attribute_0', 'attribute_1' ])\n",
        "df.head()\n",
        "df.shape"
      ],
      "metadata": {
        "id": "AYyewLMEBpjt"
      },
      "execution_count": null,
      "outputs": []
    },
    {
      "cell_type": "code",
      "source": [
        "# 3.0 Scale numeric features:\n",
        "\n",
        "ss= StandardScaler()\n",
        "df.iloc[:] = ss.fit_transform(df)\n"
      ],
      "metadata": {
        "id": "K4KEvCm3Cvn8"
      },
      "execution_count": null,
      "outputs": []
    },
    {
      "cell_type": "code",
      "source": [
        "# 3.1\n",
        "df.head()"
      ],
      "metadata": {
        "colab": {
          "base_uri": "https://localhost:8080/",
          "height": 299
        },
        "id": "1z2On9lzC8GS",
        "outputId": "62cd9dfe-3ba7-40d0-f006-9d3786eaec9b"
      },
      "execution_count": null,
      "outputs": [
        {
          "output_type": "execute_result",
          "data": {
            "text/plain": [
              "    loading  attribute_2  attribute_3  measurement_0  measurement_1  \\\n",
              "0 -1.222832     1.525966    -1.538285      -0.101025      -0.055370   \n",
              "1 -1.100103     1.525966    -1.538285       1.599402      -1.246039   \n",
              "2 -1.163133     1.525966    -1.538285       1.113565      -1.722306   \n",
              "3 -0.685543     1.525966    -1.538285       1.356484      -1.484172   \n",
              "4  1.543297     1.525966    -1.538285       0.384811      -1.484172   \n",
              "\n",
              "   measurement_2  measurement_3  measurement_4  measurement_5  measurement_6  \\\n",
              "0      -0.681939       0.248179       0.789117      -1.384796       1.788466   \n",
              "1      -0.984141       0.420975      -0.192746       0.591328       0.383792   \n",
              "2      -0.379737       0.265159      -0.080304      -0.391214       0.732199   \n",
              "3      -0.077535      -0.495942      -0.546137       1.453436       0.831601   \n",
              "4       0.526868       1.552639       1.222823      -0.138302      -1.771917   \n",
              "\n",
              "   ...  measurement_8  measurement_9  measurement_10  measurement_11  \\\n",
              "0  ...       1.120680      -0.759395       -0.184011       -1.037699   \n",
              "1  ...      -1.126062       1.018175        1.301105       -0.826619   \n",
              "2  ...      -0.730453       1.285411       -0.363249             NaN   \n",
              "3  ...       0.034986       1.041195        0.162374       -0.522823   \n",
              "4  ...      -0.923795      -1.094691        0.685863        0.499696   \n",
              "\n",
              "   measurement_12  measurement_13  measurement_14  measurement_15  \\\n",
              "0        2.344516       -0.540071             NaN       -1.266177   \n",
              "1        0.035287       -0.797164       -0.417888       -0.387656   \n",
              "2        1.407525        0.915923        1.731060       -0.581950   \n",
              "3       -1.130075       -0.348767       -0.326058        0.747773   \n",
              "4        0.487326        0.458003       -2.204209       -1.189363   \n",
              "\n",
              "   measurement_16  measurement_17  \n",
              "0       -1.039690        0.509571  \n",
              "1       -0.485533       -0.155814  \n",
              "2        0.869140       -0.307320  \n",
              "3        0.416217        1.013879  \n",
              "4       -0.028514       -0.984448  \n",
              "\n",
              "[5 rows x 21 columns]"
            ],
            "text/html": [
              "\n",
              "\n",
              "  <div id=\"df-9151c1ef-be4c-46ef-8611-e86c2726c546\">\n",
              "    <div class=\"colab-df-container\">\n",
              "      <div>\n",
              "<style scoped>\n",
              "    .dataframe tbody tr th:only-of-type {\n",
              "        vertical-align: middle;\n",
              "    }\n",
              "\n",
              "    .dataframe tbody tr th {\n",
              "        vertical-align: top;\n",
              "    }\n",
              "\n",
              "    .dataframe thead th {\n",
              "        text-align: right;\n",
              "    }\n",
              "</style>\n",
              "<table border=\"1\" class=\"dataframe\">\n",
              "  <thead>\n",
              "    <tr style=\"text-align: right;\">\n",
              "      <th></th>\n",
              "      <th>loading</th>\n",
              "      <th>attribute_2</th>\n",
              "      <th>attribute_3</th>\n",
              "      <th>measurement_0</th>\n",
              "      <th>measurement_1</th>\n",
              "      <th>measurement_2</th>\n",
              "      <th>measurement_3</th>\n",
              "      <th>measurement_4</th>\n",
              "      <th>measurement_5</th>\n",
              "      <th>measurement_6</th>\n",
              "      <th>...</th>\n",
              "      <th>measurement_8</th>\n",
              "      <th>measurement_9</th>\n",
              "      <th>measurement_10</th>\n",
              "      <th>measurement_11</th>\n",
              "      <th>measurement_12</th>\n",
              "      <th>measurement_13</th>\n",
              "      <th>measurement_14</th>\n",
              "      <th>measurement_15</th>\n",
              "      <th>measurement_16</th>\n",
              "      <th>measurement_17</th>\n",
              "    </tr>\n",
              "  </thead>\n",
              "  <tbody>\n",
              "    <tr>\n",
              "      <th>0</th>\n",
              "      <td>-1.222832</td>\n",
              "      <td>1.525966</td>\n",
              "      <td>-1.538285</td>\n",
              "      <td>-0.101025</td>\n",
              "      <td>-0.055370</td>\n",
              "      <td>-0.681939</td>\n",
              "      <td>0.248179</td>\n",
              "      <td>0.789117</td>\n",
              "      <td>-1.384796</td>\n",
              "      <td>1.788466</td>\n",
              "      <td>...</td>\n",
              "      <td>1.120680</td>\n",
              "      <td>-0.759395</td>\n",
              "      <td>-0.184011</td>\n",
              "      <td>-1.037699</td>\n",
              "      <td>2.344516</td>\n",
              "      <td>-0.540071</td>\n",
              "      <td>NaN</td>\n",
              "      <td>-1.266177</td>\n",
              "      <td>-1.039690</td>\n",
              "      <td>0.509571</td>\n",
              "    </tr>\n",
              "    <tr>\n",
              "      <th>1</th>\n",
              "      <td>-1.100103</td>\n",
              "      <td>1.525966</td>\n",
              "      <td>-1.538285</td>\n",
              "      <td>1.599402</td>\n",
              "      <td>-1.246039</td>\n",
              "      <td>-0.984141</td>\n",
              "      <td>0.420975</td>\n",
              "      <td>-0.192746</td>\n",
              "      <td>0.591328</td>\n",
              "      <td>0.383792</td>\n",
              "      <td>...</td>\n",
              "      <td>-1.126062</td>\n",
              "      <td>1.018175</td>\n",
              "      <td>1.301105</td>\n",
              "      <td>-0.826619</td>\n",
              "      <td>0.035287</td>\n",
              "      <td>-0.797164</td>\n",
              "      <td>-0.417888</td>\n",
              "      <td>-0.387656</td>\n",
              "      <td>-0.485533</td>\n",
              "      <td>-0.155814</td>\n",
              "    </tr>\n",
              "    <tr>\n",
              "      <th>2</th>\n",
              "      <td>-1.163133</td>\n",
              "      <td>1.525966</td>\n",
              "      <td>-1.538285</td>\n",
              "      <td>1.113565</td>\n",
              "      <td>-1.722306</td>\n",
              "      <td>-0.379737</td>\n",
              "      <td>0.265159</td>\n",
              "      <td>-0.080304</td>\n",
              "      <td>-0.391214</td>\n",
              "      <td>0.732199</td>\n",
              "      <td>...</td>\n",
              "      <td>-0.730453</td>\n",
              "      <td>1.285411</td>\n",
              "      <td>-0.363249</td>\n",
              "      <td>NaN</td>\n",
              "      <td>1.407525</td>\n",
              "      <td>0.915923</td>\n",
              "      <td>1.731060</td>\n",
              "      <td>-0.581950</td>\n",
              "      <td>0.869140</td>\n",
              "      <td>-0.307320</td>\n",
              "    </tr>\n",
              "    <tr>\n",
              "      <th>3</th>\n",
              "      <td>-0.685543</td>\n",
              "      <td>1.525966</td>\n",
              "      <td>-1.538285</td>\n",
              "      <td>1.356484</td>\n",
              "      <td>-1.484172</td>\n",
              "      <td>-0.077535</td>\n",
              "      <td>-0.495942</td>\n",
              "      <td>-0.546137</td>\n",
              "      <td>1.453436</td>\n",
              "      <td>0.831601</td>\n",
              "      <td>...</td>\n",
              "      <td>0.034986</td>\n",
              "      <td>1.041195</td>\n",
              "      <td>0.162374</td>\n",
              "      <td>-0.522823</td>\n",
              "      <td>-1.130075</td>\n",
              "      <td>-0.348767</td>\n",
              "      <td>-0.326058</td>\n",
              "      <td>0.747773</td>\n",
              "      <td>0.416217</td>\n",
              "      <td>1.013879</td>\n",
              "    </tr>\n",
              "    <tr>\n",
              "      <th>4</th>\n",
              "      <td>1.543297</td>\n",
              "      <td>1.525966</td>\n",
              "      <td>-1.538285</td>\n",
              "      <td>0.384811</td>\n",
              "      <td>-1.484172</td>\n",
              "      <td>0.526868</td>\n",
              "      <td>1.552639</td>\n",
              "      <td>1.222823</td>\n",
              "      <td>-0.138302</td>\n",
              "      <td>-1.771917</td>\n",
              "      <td>...</td>\n",
              "      <td>-0.923795</td>\n",
              "      <td>-1.094691</td>\n",
              "      <td>0.685863</td>\n",
              "      <td>0.499696</td>\n",
              "      <td>0.487326</td>\n",
              "      <td>0.458003</td>\n",
              "      <td>-2.204209</td>\n",
              "      <td>-1.189363</td>\n",
              "      <td>-0.028514</td>\n",
              "      <td>-0.984448</td>\n",
              "    </tr>\n",
              "  </tbody>\n",
              "</table>\n",
              "<p>5 rows × 21 columns</p>\n",
              "</div>\n",
              "      <button class=\"colab-df-convert\" onclick=\"convertToInteractive('df-9151c1ef-be4c-46ef-8611-e86c2726c546')\"\n",
              "              title=\"Convert this dataframe to an interactive table.\"\n",
              "              style=\"display:none;\">\n",
              "\n",
              "  <svg xmlns=\"http://www.w3.org/2000/svg\" height=\"24px\"viewBox=\"0 0 24 24\"\n",
              "       width=\"24px\">\n",
              "    <path d=\"M0 0h24v24H0V0z\" fill=\"none\"/>\n",
              "    <path d=\"M18.56 5.44l.94 2.06.94-2.06 2.06-.94-2.06-.94-.94-2.06-.94 2.06-2.06.94zm-11 1L8.5 8.5l.94-2.06 2.06-.94-2.06-.94L8.5 2.5l-.94 2.06-2.06.94zm10 10l.94 2.06.94-2.06 2.06-.94-2.06-.94-.94-2.06-.94 2.06-2.06.94z\"/><path d=\"M17.41 7.96l-1.37-1.37c-.4-.4-.92-.59-1.43-.59-.52 0-1.04.2-1.43.59L10.3 9.45l-7.72 7.72c-.78.78-.78 2.05 0 2.83L4 21.41c.39.39.9.59 1.41.59.51 0 1.02-.2 1.41-.59l7.78-7.78 2.81-2.81c.8-.78.8-2.07 0-2.86zM5.41 20L4 18.59l7.72-7.72 1.47 1.35L5.41 20z\"/>\n",
              "  </svg>\n",
              "      </button>\n",
              "\n",
              "\n",
              "\n",
              "    <div id=\"df-3ba19d66-950a-47e1-9ce9-dfa42a91a1e7\">\n",
              "      <button class=\"colab-df-quickchart\" onclick=\"quickchart('df-3ba19d66-950a-47e1-9ce9-dfa42a91a1e7')\"\n",
              "              title=\"Suggest charts.\"\n",
              "              style=\"display:none;\">\n",
              "\n",
              "<svg xmlns=\"http://www.w3.org/2000/svg\" height=\"24px\"viewBox=\"0 0 24 24\"\n",
              "     width=\"24px\">\n",
              "    <g>\n",
              "        <path d=\"M19 3H5c-1.1 0-2 .9-2 2v14c0 1.1.9 2 2 2h14c1.1 0 2-.9 2-2V5c0-1.1-.9-2-2-2zM9 17H7v-7h2v7zm4 0h-2V7h2v10zm4 0h-2v-4h2v4z\"/>\n",
              "    </g>\n",
              "</svg>\n",
              "      </button>\n",
              "    </div>\n",
              "\n",
              "<style>\n",
              "  .colab-df-quickchart {\n",
              "    background-color: #E8F0FE;\n",
              "    border: none;\n",
              "    border-radius: 50%;\n",
              "    cursor: pointer;\n",
              "    display: none;\n",
              "    fill: #1967D2;\n",
              "    height: 32px;\n",
              "    padding: 0 0 0 0;\n",
              "    width: 32px;\n",
              "  }\n",
              "\n",
              "  .colab-df-quickchart:hover {\n",
              "    background-color: #E2EBFA;\n",
              "    box-shadow: 0px 1px 2px rgba(60, 64, 67, 0.3), 0px 1px 3px 1px rgba(60, 64, 67, 0.15);\n",
              "    fill: #174EA6;\n",
              "  }\n",
              "\n",
              "  [theme=dark] .colab-df-quickchart {\n",
              "    background-color: #3B4455;\n",
              "    fill: #D2E3FC;\n",
              "  }\n",
              "\n",
              "  [theme=dark] .colab-df-quickchart:hover {\n",
              "    background-color: #434B5C;\n",
              "    box-shadow: 0px 1px 3px 1px rgba(0, 0, 0, 0.15);\n",
              "    filter: drop-shadow(0px 1px 2px rgba(0, 0, 0, 0.3));\n",
              "    fill: #FFFFFF;\n",
              "  }\n",
              "</style>\n",
              "\n",
              "    <script>\n",
              "      async function quickchart(key) {\n",
              "        const containerElement = document.querySelector('#' + key);\n",
              "        const charts = await google.colab.kernel.invokeFunction(\n",
              "            'suggestCharts', [key], {});\n",
              "      }\n",
              "    </script>\n",
              "\n",
              "      <script>\n",
              "\n",
              "function displayQuickchartButton(domScope) {\n",
              "  let quickchartButtonEl =\n",
              "    domScope.querySelector('#df-3ba19d66-950a-47e1-9ce9-dfa42a91a1e7 button.colab-df-quickchart');\n",
              "  quickchartButtonEl.style.display =\n",
              "    google.colab.kernel.accessAllowed ? 'block' : 'none';\n",
              "}\n",
              "\n",
              "        displayQuickchartButton(document);\n",
              "      </script>\n",
              "      <style>\n",
              "    .colab-df-container {\n",
              "      display:flex;\n",
              "      flex-wrap:wrap;\n",
              "      gap: 12px;\n",
              "    }\n",
              "\n",
              "    .colab-df-convert {\n",
              "      background-color: #E8F0FE;\n",
              "      border: none;\n",
              "      border-radius: 50%;\n",
              "      cursor: pointer;\n",
              "      display: none;\n",
              "      fill: #1967D2;\n",
              "      height: 32px;\n",
              "      padding: 0 0 0 0;\n",
              "      width: 32px;\n",
              "    }\n",
              "\n",
              "    .colab-df-convert:hover {\n",
              "      background-color: #E2EBFA;\n",
              "      box-shadow: 0px 1px 2px rgba(60, 64, 67, 0.3), 0px 1px 3px 1px rgba(60, 64, 67, 0.15);\n",
              "      fill: #174EA6;\n",
              "    }\n",
              "\n",
              "    [theme=dark] .colab-df-convert {\n",
              "      background-color: #3B4455;\n",
              "      fill: #D2E3FC;\n",
              "    }\n",
              "\n",
              "    [theme=dark] .colab-df-convert:hover {\n",
              "      background-color: #434B5C;\n",
              "      box-shadow: 0px 1px 3px 1px rgba(0, 0, 0, 0.15);\n",
              "      filter: drop-shadow(0px 1px 2px rgba(0, 0, 0, 0.3));\n",
              "      fill: #FFFFFF;\n",
              "    }\n",
              "  </style>\n",
              "\n",
              "      <script>\n",
              "        const buttonEl =\n",
              "          document.querySelector('#df-9151c1ef-be4c-46ef-8611-e86c2726c546 button.colab-df-convert');\n",
              "        buttonEl.style.display =\n",
              "          google.colab.kernel.accessAllowed ? 'block' : 'none';\n",
              "\n",
              "        async function convertToInteractive(key) {\n",
              "          const element = document.querySelector('#df-9151c1ef-be4c-46ef-8611-e86c2726c546');\n",
              "          const dataTable =\n",
              "            await google.colab.kernel.invokeFunction('convertToInteractive',\n",
              "                                                     [key], {});\n",
              "          if (!dataTable) return;\n",
              "\n",
              "          const docLinkHtml = 'Like what you see? Visit the ' +\n",
              "            '<a target=\"_blank\" href=https://colab.research.google.com/notebooks/data_table.ipynb>data table notebook</a>'\n",
              "            + ' to learn more about interactive tables.';\n",
              "          element.innerHTML = '';\n",
              "          dataTable['output_type'] = 'display_data';\n",
              "          await google.colab.output.renderOutput(dataTable, element);\n",
              "          const docLink = document.createElement('div');\n",
              "          docLink.innerHTML = docLinkHtml;\n",
              "          element.appendChild(docLink);\n",
              "        }\n",
              "      </script>\n",
              "    </div>\n",
              "  </div>\n"
            ]
          },
          "metadata": {},
          "execution_count": 27
        }
      ]
    },
    {
      "cell_type": "code",
      "source": [
        "# 3.2 95% PCA of numeric features\n",
        "pca = PCA(n_components = 0.95)\n",
        "k = pca.fit_transform(df)"
      ],
      "metadata": {
        "id": "o3jN1UDKC921"
      },
      "execution_count": null,
      "outputs": []
    },
    {
      "cell_type": "code",
      "source": [
        "# 3.2 Impute null values:\n",
        "\n",
        "si = SimpleImputer(strategy = 'median')\n",
        "df.iloc[:,:]= si.fit_transform(df)"
      ],
      "metadata": {
        "id": "EaSi1-SQDTzl"
      },
      "execution_count": null,
      "outputs": []
    },
    {
      "cell_type": "code",
      "source": [
        "# 3.2.1 Check:\n",
        "df.isnull().sum().sum()"
      ],
      "metadata": {
        "colab": {
          "base_uri": "https://localhost:8080/"
        },
        "id": "U2tkWS1UDexU",
        "outputId": "c246d997-363b-482d-be3a-c335d5c38c24"
      },
      "execution_count": null,
      "outputs": [
        {
          "output_type": "execute_result",
          "data": {
            "text/plain": [
              "0"
            ]
          },
          "metadata": {},
          "execution_count": 32
        }
      ]
    },
    {
      "cell_type": "code",
      "source": [
        "# 4.0 PCA now\n",
        "pca = PCA(n_components = 0.95)\n",
        "k = pca.fit_transform(df)"
      ],
      "metadata": {
        "id": "8KZFjQ3ADlFC"
      },
      "execution_count": null,
      "outputs": []
    },
    {
      "cell_type": "code",
      "source": [
        "# 4.1\n",
        "k.shape"
      ],
      "metadata": {
        "colab": {
          "base_uri": "https://localhost:8080/"
        },
        "id": "QxM7P1qfDpG_",
        "outputId": "7747c07b-e18e-4b48-d20b-6ab56cd1293f"
      },
      "execution_count": null,
      "outputs": [
        {
          "output_type": "execute_result",
          "data": {
            "text/plain": [
              "(26570, 19)"
            ]
          },
          "metadata": {},
          "execution_count": 34
        }
      ]
    },
    {
      "cell_type": "code",
      "source": [
        "# 4.2\n",
        "pca.explained_variance_"
      ],
      "metadata": {
        "colab": {
          "base_uri": "https://localhost:8080/"
        },
        "id": "ua-8Gg3ID28j",
        "outputId": "f213a827-863c-4b79-897b-99c7b1298df5"
      },
      "execution_count": null,
      "outputs": [
        {
          "output_type": "execute_result",
          "data": {
            "text/plain": [
              "array([2.16102821, 1.69930049, 1.16415541, 1.09027906, 1.02612856,\n",
              "       1.00315619, 0.9944671 , 0.98748065, 0.97805585, 0.97261848,\n",
              "       0.96335298, 0.95509186, 0.9493565 , 0.91030699, 0.86354433,\n",
              "       0.788326  , 0.7729046 , 0.71593101, 0.66466463])"
            ]
          },
          "metadata": {},
          "execution_count": 39
        }
      ]
    },
    {
      "cell_type": "code",
      "source": [
        "# 4.3\n",
        "np.sum(pca.explained_variance_ratio_)"
      ],
      "metadata": {
        "colab": {
          "base_uri": "https://localhost:8080/"
        },
        "id": "x4bCdknXE3ja",
        "outputId": "d94f6741-7206-426f-943e-5bb91f7a2f05"
      },
      "execution_count": null,
      "outputs": [
        {
          "output_type": "execute_result",
          "data": {
            "text/plain": [
              "0.9714447999761037"
            ]
          },
          "metadata": {},
          "execution_count": 44
        }
      ]
    },
    {
      "cell_type": "code",
      "source": [
        "# 4.4\n",
        "plt.plot(range(1,20), np.cumsum(pca.explained_variance_ratio_), marker = \"o\" )"
      ],
      "metadata": {
        "colab": {
          "base_uri": "https://localhost:8080/",
          "height": 447
        },
        "id": "etjxIxYtE_b-",
        "outputId": "a3b82fa4-819c-4ca1-ee34-8bb6afbcaa1e"
      },
      "execution_count": null,
      "outputs": [
        {
          "output_type": "execute_result",
          "data": {
            "text/plain": [
              "[<matplotlib.lines.Line2D at 0x7b68f2b15f00>]"
            ]
          },
          "metadata": {},
          "execution_count": 50
        },
        {
          "output_type": "display_data",
          "data": {
            "text/plain": [
              "<Figure size 640x480 with 1 Axes>"
            ],
            "image/png": "[encoded data removed]"
          },
          "metadata": {}
        }
      ]
    },
    {
      "cell_type": "code",
      "source": [
        "############## DONE ################3"
      ],
      "metadata": {
        "id": "M3n9sh1UFSWl"
      },
      "execution_count": null,
      "outputs": []
    }
  ]
}