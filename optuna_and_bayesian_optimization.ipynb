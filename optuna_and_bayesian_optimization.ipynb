{
  "nbformat": 4,
  "nbformat_minor": 0,
  "metadata": {
    "colab": {
      "name": "optuna_and_bayesian optimization.ipynb",
      "provenance": [],
      "collapsed_sections": [],
      "authorship_tag": "ABX9TyOXU9+HMhkb+O8uOg+W0GxP",
      "include_colab_link": true
    },
    "kernelspec": {
      "name": "python3",
      "display_name": "Python 3"
    },
    "language_info": {
      "name": "python"
    }
  },
  "cells": [
    {
      "cell_type": "markdown",
      "metadata": {
        "id": "view-in-github",
        "colab_type": "text"
      },
      "source": [
        "<a href=\"https://colab.research.google.com/github/harnalashok/classification/blob/main/optuna_and_bayesian_optimization.ipynb\" target=\"_parent\"><img src=\"https://colab.research.google.com/assets/colab-badge.svg\" alt=\"Open In Colab\"/></a>"
      ]
    },
    {
      "cell_type": "code",
      "metadata": {
        "id": "gcQ9K-OqwRD5"
      },
      "source": [
        "# Last amended: 8th July, 2021\n",
        "# Myfolder: C:\\Users\\Administrator\\OneDrive\\Documents\\breast_cancer\n",
        "#\n",
        "# Ref: https://medium.com/optuna/lightgbm-tuner-new-optuna-integration-for-hyperparameter-optimization-8b7095e99258\n",
        "#      https://github.com/optuna/optuna/blob/master/examples/lightgbm_tuner_simple.py\n",
        "#\n",
        "# Objective:\n",
        "#           i) Learn to use automated tuning of lightgbm\n",
        "#          ii) Using optuna\n",
        "#         iii) Perform Bayesian optimization\n",
        "#\n",
        "# See also 'h2o_talkingData.ipynb' in folder:\n",
        "#   C:\\Users\\Administrator\\OneDrive\\Documents\\talkingdata"
      ],
      "execution_count": null,
      "outputs": []
    },
    {
      "cell_type": "code",
      "metadata": {
        "id": "7PTJLI1TwXpM"
      },
      "source": [
        "\"\"\"\n",
        "Optuna example that optimizes a classifier configuration\n",
        "for cancer dataset using LightGBM tuner.\n",
        "In this example, we optimize the validation log loss of\n",
        "cancer detection.\n",
        "\n",
        "\"\"\""
      ],
      "execution_count": null,
      "outputs": []
    },
    {
      "cell_type": "markdown",
      "metadata": {
        "id": "m7stik-g6oJM"
      },
      "source": [
        "### Install libraries"
      ]
    },
    {
      "cell_type": "code",
      "metadata": {
        "id": "YbcFRRTTwZPR"
      },
      "source": [
        "# 0.0 Optuna\n",
        "#     https://optuna.org/\n",
        "! pip install optuna"
      ],
      "execution_count": null,
      "outputs": []
    },
    {
      "cell_type": "code",
      "metadata": {
        "colab": {
          "base_uri": "https://localhost:8080/"
        },
        "id": "fzZNaCAP1q4X",
        "outputId": "558e4084-35a0-4fed-fa78-34a9cf884d4f"
      },
      "source": [
        "# 0.1 sklearn optimizer\n",
        "# \n",
        "!pip install scikit-optimize\n",
        "!pip install 'scikit-optimize[plots]'"
      ],
      "execution_count": 18,
      "outputs": [
        {
          "output_type": "stream",
          "text": [
            "Collecting scikit-optimize\n",
            "\u001b[?25l  Downloading https://files.pythonhosted.org/packages/8b/03/be33e89f55866065a02e515c5b319304a801a9f1027a9b311a9b1d1f8dc7/scikit_optimize-0.8.1-py2.py3-none-any.whl (101kB)\n",
            "\r\u001b[K     |███▎                            | 10kB 17.4MB/s eta 0:00:01\r\u001b[K     |██████▌                         | 20kB 13.4MB/s eta 0:00:01\r\u001b[K     |█████████▊                      | 30kB 9.1MB/s eta 0:00:01\r\u001b[K     |█████████████                   | 40kB 5.7MB/s eta 0:00:01\r\u001b[K     |████████████████▏               | 51kB 6.4MB/s eta 0:00:01\r\u001b[K     |███████████████████▍            | 61kB 6.5MB/s eta 0:00:01\r\u001b[K     |██████████████████████▊         | 71kB 6.9MB/s eta 0:00:01\r\u001b[K     |██████████████████████████      | 81kB 7.6MB/s eta 0:00:01\r\u001b[K     |█████████████████████████████▏  | 92kB 7.5MB/s eta 0:00:01\r\u001b[K     |████████████████████████████████| 102kB 5.6MB/s \n",
            "\u001b[?25hRequirement already satisfied: scipy>=0.19.1 in /usr/local/lib/python3.7/dist-packages (from scikit-optimize) (1.4.1)\n",
            "Requirement already satisfied: joblib>=0.11 in /usr/local/lib/python3.7/dist-packages (from scikit-optimize) (1.0.1)\n",
            "Requirement already satisfied: scikit-learn>=0.20.0 in /usr/local/lib/python3.7/dist-packages (from scikit-optimize) (0.22.2.post1)\n",
            "Requirement already satisfied: numpy>=1.13.3 in /usr/local/lib/python3.7/dist-packages (from scikit-optimize) (1.19.5)\n",
            "Collecting pyaml>=16.9\n",
            "  Downloading https://files.pythonhosted.org/packages/15/c4/1310a054d33abc318426a956e7d6df0df76a6ddfa9c66f6310274fb75d42/pyaml-20.4.0-py2.py3-none-any.whl\n",
            "Requirement already satisfied: PyYAML in /usr/local/lib/python3.7/dist-packages (from pyaml>=16.9->scikit-optimize) (3.13)\n",
            "Installing collected packages: pyaml, scikit-optimize\n",
            "Successfully installed pyaml-20.4.0 scikit-optimize-0.8.1\n",
            "Requirement already satisfied: scikit-optimize[plots] in /usr/local/lib/python3.7/dist-packages (0.8.1)\n",
            "Requirement already satisfied: scipy>=0.19.1 in /usr/local/lib/python3.7/dist-packages (from scikit-optimize[plots]) (1.4.1)\n",
            "Requirement already satisfied: numpy>=1.13.3 in /usr/local/lib/python3.7/dist-packages (from scikit-optimize[plots]) (1.19.5)\n",
            "Requirement already satisfied: joblib>=0.11 in /usr/local/lib/python3.7/dist-packages (from scikit-optimize[plots]) (1.0.1)\n",
            "Requirement already satisfied: scikit-learn>=0.20.0 in /usr/local/lib/python3.7/dist-packages (from scikit-optimize[plots]) (0.22.2.post1)\n",
            "Requirement already satisfied: pyaml>=16.9 in /usr/local/lib/python3.7/dist-packages (from scikit-optimize[plots]) (20.4.0)\n",
            "Requirement already satisfied: matplotlib>=2.0.0; extra == \"plots\" in /usr/local/lib/python3.7/dist-packages (from scikit-optimize[plots]) (3.2.2)\n",
            "Requirement already satisfied: PyYAML in /usr/local/lib/python3.7/dist-packages (from pyaml>=16.9->scikit-optimize[plots]) (3.13)\n",
            "Requirement already satisfied: pyparsing!=2.0.4,!=2.1.2,!=2.1.6,>=2.0.1 in /usr/local/lib/python3.7/dist-packages (from matplotlib>=2.0.0; extra == \"plots\"->scikit-optimize[plots]) (2.4.7)\n",
            "Requirement already satisfied: cycler>=0.10 in /usr/local/lib/python3.7/dist-packages (from matplotlib>=2.0.0; extra == \"plots\"->scikit-optimize[plots]) (0.10.0)\n",
            "Requirement already satisfied: kiwisolver>=1.0.1 in /usr/local/lib/python3.7/dist-packages (from matplotlib>=2.0.0; extra == \"plots\"->scikit-optimize[plots]) (1.3.1)\n",
            "Requirement already satisfied: python-dateutil>=2.1 in /usr/local/lib/python3.7/dist-packages (from matplotlib>=2.0.0; extra == \"plots\"->scikit-optimize[plots]) (2.8.1)\n",
            "Requirement already satisfied: six in /usr/local/lib/python3.7/dist-packages (from cycler>=0.10->matplotlib>=2.0.0; extra == \"plots\"->scikit-optimize[plots]) (1.15.0)\n"
          ],
          "name": "stdout"
        }
      ]
    },
    {
      "cell_type": "code",
      "metadata": {
        "colab": {
          "base_uri": "https://localhost:8080/",
          "height": 386
        },
        "id": "AUrdExgY1uck",
        "outputId": "ae7773c0-b837-48d6-a90d-8b4d6abf0635"
      },
      "source": [
        "0.2 Lightgbm\n",
        "! pip install lightgbm --upgrade\n",
        "import lightgbm\n",
        "lightgbm.__version__"
      ],
      "execution_count": 19,
      "outputs": [
        {
          "output_type": "execute_result",
          "data": {
            "text/plain": [
              "0.1"
            ]
          },
          "metadata": {
            "tags": []
          },
          "execution_count": 19
        },
        {
          "output_type": "stream",
          "text": [
            "Collecting lightgbm\n",
            "\u001b[?25l  Downloading https://files.pythonhosted.org/packages/18/b2/fff8370f48549ce223f929fe8cab4ee6bf285a41f86037d91312b48ed95b/lightgbm-3.2.1-py3-none-manylinux1_x86_64.whl (2.0MB)\n",
            "\u001b[K     |████████████████████████████████| 2.0MB 8.7MB/s \n",
            "\u001b[?25hRequirement already satisfied, skipping upgrade: scipy in /usr/local/lib/python3.7/dist-packages (from lightgbm) (1.4.1)\n",
            "Requirement already satisfied, skipping upgrade: scikit-learn!=0.22.0 in /usr/local/lib/python3.7/dist-packages (from lightgbm) (0.22.2.post1)\n",
            "Requirement already satisfied, skipping upgrade: numpy in /usr/local/lib/python3.7/dist-packages (from lightgbm) (1.19.5)\n",
            "Requirement already satisfied, skipping upgrade: wheel in /usr/local/lib/python3.7/dist-packages (from lightgbm) (0.36.2)\n",
            "Requirement already satisfied, skipping upgrade: joblib>=0.11 in /usr/local/lib/python3.7/dist-packages (from scikit-learn!=0.22.0->lightgbm) (1.0.1)\n",
            "Installing collected packages: lightgbm\n",
            "  Found existing installation: lightgbm 2.2.3\n",
            "    Uninstalling lightgbm-2.2.3:\n",
            "      Successfully uninstalled lightgbm-2.2.3\n",
            "Successfully installed lightgbm-3.2.1\n"
          ],
          "name": "stdout"
        },
        {
          "output_type": "display_data",
          "data": {
            "application/vnd.colab-display-data+json": {
              "pip_warning": {
                "packages": [
                  "lightgbm"
                ]
              }
            }
          },
          "metadata": {
            "tags": []
          }
        },
        {
          "output_type": "execute_result",
          "data": {
            "application/vnd.google.colaboratory.intrinsic+json": {
              "type": "string"
            },
            "text/plain": [
              "'2.2.3'"
            ]
          },
          "metadata": {
            "tags": []
          },
          "execution_count": 19
        }
      ]
    },
    {
      "cell_type": "code",
      "metadata": {
        "id": "l29Rt56cwd-q"
      },
      "source": [
        "# 1.0 Call libraries\n",
        "import pandas as pd\n",
        "import numpy as np\n",
        "import sklearn.datasets\n",
        "from sklearn.datasets import make_classification\n",
        "from sklearn.metrics import accuracy_score\n",
        "from sklearn.model_selection import train_test_split\n",
        "\n",
        "# 1.1 Import optuna integration with lightgbm\n",
        "# Install as: conda install -c conda-forge optuna\n",
        "\n",
        "import optuna.integration.lightgbm as lgbm\n",
        "\n",
        "\n",
        "# 1.2  Return stratified folds. The folds are made by\n",
        "#      preserving the percentage of samples for each class.\n",
        "\n",
        "from sklearn.model_selection import StratifiedKFold\n",
        "from sklearn.metrics import auc, roc_curve\n",
        "\n",
        "# 1.3 ML - we will classify using lightgbm\n",
        "#          with stratified cross validation\n",
        "#      conda install -c conda-forge lightgbm \n",
        "import lightgbm as lgb\n",
        "\n",
        "# 1.4 OS related\n",
        "import os, time\n",
        "\n",
        "# 1.5 Bayes optimization--IInd method\n",
        "# SKOPT is a parameter-optimisation framewor\n",
        "#  Install skopt as:\n",
        "#     conda install -c conda-forge scikit-optimize\n",
        "\n",
        "\n",
        "from skopt import BayesSearchCV\n",
        "from skopt.space import Real, Categorical, Integer"
      ],
      "execution_count": 24,
      "outputs": []
    },
    {
      "cell_type": "code",
      "metadata": {
        "id": "YU53Wl2S0rHx"
      },
      "source": [
        "# 1.6\n",
        "from IPython.core.interactiveshell import InteractiveShell\n",
        "InteractiveShell.ast_node_interactivity = \"all\"\n"
      ],
      "execution_count": 25,
      "outputs": []
    },
    {
      "cell_type": "code",
      "metadata": {
        "id": "vfd3gJ7tx5Wp"
      },
      "source": [
        "# # 2.0 Get data and split it\n",
        "data,target = make_classification( n_samples = 10000,\n",
        "                          n_features = 20,\n",
        "                          n_informative = 10,\n",
        "                          n_redundant = 2,\n",
        "                          n_repeated = 3,\n",
        "                          n_classes = 2,\n",
        "                          flip_y = 0.01,\n",
        "                          shuffle = True)\n",
        "\n",
        "# 2.0.1\n",
        "train_x, val_x, train_y, val_y = train_test_split(data, target, test_size=0.25)"
      ],
      "execution_count": 26,
      "outputs": []
    },
    {
      "cell_type": "code",
      "metadata": {
        "id": "vOasDve-zYji"
      },
      "source": [
        "# 2.1 Transform train_x and val_x to lightgbm data-matricies\n",
        "\n",
        "dtrain = lgbm.Dataset(train_x, label=train_y)\n",
        "\n",
        "dval = lgbm.Dataset(val_x, label=val_y)"
      ],
      "execution_count": 27,
      "outputs": []
    },
    {
      "cell_type": "code",
      "metadata": {
        "id": "pcUeQ5ZyznNZ"
      },
      "source": [
        "# 3.0 Set fixed hyper-params\n",
        "params_fixed = {                           # Specify params that are fixed\n",
        "                 \"objective\": \"binary\",\n",
        "                 \"metric\": \"binary_logloss\",\n",
        "                 \"verbosity\": -1,\n",
        "                 \"boosting_type\": \"gbdt\",\n",
        "                }"
      ],
      "execution_count": 28,
      "outputs": []
    },
    {
      "cell_type": "code",
      "metadata": {
        "colab": {
          "base_uri": "https://localhost:8080/"
        },
        "id": "3sTFJFQtzuHf",
        "outputId": "9def0487-2cd5-4eaa-a157-30ef75bbfe81"
      },
      "source": [
        "# 3.1 Note that unlike in sklearn, here there is\n",
        "#     no instantiation of LightGBM model\n",
        "#     Start modeling as also tuning hyperparameters\n",
        "\n",
        "model = lgbm.train(\n",
        "                   params_fixed,               # Just fixed params only\n",
        "                   dtrain,                     # Dataset\n",
        "                   valid_sets=[dtrain, dval],  # Evaluate performance on these datasets\n",
        "                   verbose_eval=100,\n",
        "                   early_stopping_rounds=100\n",
        "                  )\n"
      ],
      "execution_count": 29,
      "outputs": [
        {
          "output_type": "stream",
          "text": [
            "\u001b[32m[I 2021-07-08 07:17:19,879]\u001b[0m A new study created in memory with name: no-name-56b97d7f-1d9c-421a-8203-3da136ec2fc9\u001b[0m\n",
            "feature_fraction, val_score: inf:   0%|          | 0/7 [00:00<?, ?it/s]"
          ],
          "name": "stderr"
        },
        {
          "output_type": "stream",
          "text": [
            "Training until validation scores don't improve for 100 rounds\n",
            "[100]\tvalid_0's binary_logloss: 0.0381096\tvalid_1's binary_logloss: 0.0997356\n",
            "[200]\tvalid_0's binary_logloss: 0.00790182\tvalid_1's binary_logloss: 0.0913913\n"
          ],
          "name": "stdout"
        },
        {
          "output_type": "stream",
          "text": [
            "feature_fraction, val_score: 0.090753:  14%|#4        | 1/7 [00:00<00:05,  1.01it/s]\u001b[32m[I 2021-07-08 07:17:20,885]\u001b[0m Trial 0 finished with value: 0.0907532032594731 and parameters: {'feature_fraction': 0.5}. Best is trial 0 with value: 0.0907532032594731.\u001b[0m\n",
            "feature_fraction, val_score: 0.090753:  14%|#4        | 1/7 [00:00<00:05,  1.01it/s]"
          ],
          "name": "stderr"
        },
        {
          "output_type": "stream",
          "text": [
            "Early stopping, best iteration is:\n",
            "[187]\tvalid_0's binary_logloss: 0.00958323\tvalid_1's binary_logloss: 0.0907532\n",
            "Training until validation scores don't improve for 100 rounds\n",
            "[100]\tvalid_0's binary_logloss: 0.030268\tvalid_1's binary_logloss: 0.0980822\n"
          ],
          "name": "stdout"
        },
        {
          "output_type": "stream",
          "text": [
            "\rfeature_fraction, val_score: 0.090753:  14%|#4        | 1/7 [00:02<00:05,  1.01it/s]"
          ],
          "name": "stderr"
        },
        {
          "output_type": "stream",
          "text": [
            "[200]\tvalid_0's binary_logloss: 0.00537757\tvalid_1's binary_logloss: 0.0971241\n",
            "Early stopping, best iteration is:\n",
            "[147]\tvalid_0's binary_logloss: 0.0130725\tvalid_1's binary_logloss: 0.095221\n"
          ],
          "name": "stdout"
        },
        {
          "output_type": "stream",
          "text": [
            "feature_fraction, val_score: 0.090753:  29%|##8       | 2/7 [00:02<00:05,  1.00s/it]\u001b[32m[I 2021-07-08 07:17:21,916]\u001b[0m Trial 1 finished with value: 0.09522104008215482 and parameters: {'feature_fraction': 0.7}. Best is trial 0 with value: 0.0907532032594731.\u001b[0m\n",
            "feature_fraction, val_score: 0.090753:  29%|##8       | 2/7 [00:02<00:05,  1.00s/it]"
          ],
          "name": "stderr"
        },
        {
          "output_type": "stream",
          "text": [
            "Training until validation scores don't improve for 100 rounds\n",
            "[100]\tvalid_0's binary_logloss: 0.0456781\tvalid_1's binary_logloss: 0.104454\n",
            "[200]\tvalid_0's binary_logloss: 0.0104999\tvalid_1's binary_logloss: 0.0949056\n"
          ],
          "name": "stdout"
        },
        {
          "output_type": "stream",
          "text": [
            "feature_fraction, val_score: 0.090753:  43%|####2     | 3/7 [00:02<00:03,  1.03it/s]\u001b[32m[I 2021-07-08 07:17:22,796]\u001b[0m Trial 2 finished with value: 0.09399217203790583 and parameters: {'feature_fraction': 0.4}. Best is trial 0 with value: 0.0907532032594731.\u001b[0m\n",
            "feature_fraction, val_score: 0.090753:  43%|####2     | 3/7 [00:02<00:03,  1.03it/s]"
          ],
          "name": "stderr"
        },
        {
          "output_type": "stream",
          "text": [
            "Early stopping, best iteration is:\n",
            "[175]\tvalid_0's binary_logloss: 0.0147443\tvalid_1's binary_logloss: 0.0939922\n",
            "Training until validation scores don't improve for 100 rounds\n",
            "[100]\tvalid_0's binary_logloss: 0.0253942\tvalid_1's binary_logloss: 0.0926768\n"
          ],
          "name": "stdout"
        },
        {
          "output_type": "stream",
          "text": [
            "feature_fraction, val_score: 0.089836:  57%|#####7    | 4/7 [00:04<00:03,  1.03s/it]"
          ],
          "name": "stderr"
        },
        {
          "output_type": "stream",
          "text": [
            "[200]\tvalid_0's binary_logloss: 0.00411341\tvalid_1's binary_logloss: 0.0939967\n",
            "Early stopping, best iteration is:\n",
            "[141]\tvalid_0's binary_logloss: 0.0120927\tvalid_1's binary_logloss: 0.089836\n"
          ],
          "name": "stdout"
        },
        {
          "output_type": "stream",
          "text": [
            "\u001b[32m[I 2021-07-08 07:17:23,971]\u001b[0m Trial 3 finished with value: 0.08983595021545777 and parameters: {'feature_fraction': 1.0}. Best is trial 3 with value: 0.08983595021545777.\u001b[0m\n",
            "feature_fraction, val_score: 0.089836:  57%|#####7    | 4/7 [00:04<00:03,  1.03s/it]"
          ],
          "name": "stderr"
        },
        {
          "output_type": "stream",
          "text": [
            "Training until validation scores don't improve for 100 rounds\n",
            "[100]\tvalid_0's binary_logloss: 0.0262574\tvalid_1's binary_logloss: 0.0945546\n"
          ],
          "name": "stdout"
        },
        {
          "output_type": "stream",
          "text": [
            "feature_fraction, val_score: 0.089836:  71%|#######1  | 5/7 [00:05<00:02,  1.04s/it]\u001b[32m[I 2021-07-08 07:17:25,039]\u001b[0m Trial 4 finished with value: 0.09234518965834333 and parameters: {'feature_fraction': 0.8999999999999999}. Best is trial 3 with value: 0.08983595021545777.\u001b[0m\n",
            "feature_fraction, val_score: 0.089836:  71%|#######1  | 5/7 [00:05<00:02,  1.04s/it]"
          ],
          "name": "stderr"
        },
        {
          "output_type": "stream",
          "text": [
            "[200]\tvalid_0's binary_logloss: 0.0042462\tvalid_1's binary_logloss: 0.0965736\n",
            "Early stopping, best iteration is:\n",
            "[129]\tvalid_0's binary_logloss: 0.0153669\tvalid_1's binary_logloss: 0.0923452\n",
            "Training until validation scores don't improve for 100 rounds\n",
            "[100]\tvalid_0's binary_logloss: 0.0272739\tvalid_1's binary_logloss: 0.0952272\n"
          ],
          "name": "stdout"
        },
        {
          "output_type": "stream",
          "text": [
            "feature_fraction, val_score: 0.089836:  86%|########5 | 6/7 [00:06<00:01,  1.03s/it]\u001b[32m[I 2021-07-08 07:17:26,028]\u001b[0m Trial 5 finished with value: 0.0917358799932102 and parameters: {'feature_fraction': 0.8}. Best is trial 3 with value: 0.08983595021545777.\u001b[0m\n",
            "feature_fraction, val_score: 0.089836:  86%|########5 | 6/7 [00:06<00:01,  1.03s/it]"
          ],
          "name": "stderr"
        },
        {
          "output_type": "stream",
          "text": [
            "[200]\tvalid_0's binary_logloss: 0.00475885\tvalid_1's binary_logloss: 0.09748\n",
            "Early stopping, best iteration is:\n",
            "[128]\tvalid_0's binary_logloss: 0.0161695\tvalid_1's binary_logloss: 0.0917359\n",
            "Training until validation scores don't improve for 100 rounds\n",
            "[100]\tvalid_0's binary_logloss: 0.0335499\tvalid_1's binary_logloss: 0.0998077\n",
            "[200]\tvalid_0's binary_logloss: 0.00636738\tvalid_1's binary_logloss: 0.0950124\n",
            "Early stopping, best iteration is:\n",
            "[156]\tvalid_0's binary_logloss: 0.012936\tvalid_1's binary_logloss: 0.0935982\n"
          ],
          "name": "stdout"
        },
        {
          "output_type": "stream",
          "text": [
            "feature_fraction, val_score: 0.089836: 100%|##########| 7/7 [00:07<00:00,  1.01s/it]\u001b[32m[I 2021-07-08 07:17:26,995]\u001b[0m Trial 6 finished with value: 0.09359823946364364 and parameters: {'feature_fraction': 0.6}. Best is trial 3 with value: 0.08983595021545777.\u001b[0m\n",
            "feature_fraction, val_score: 0.089836: 100%|##########| 7/7 [00:07<00:00,  1.02s/it]\n",
            "num_leaves, val_score: 0.089836:   0%|          | 0/20 [00:00<?, ?it/s]"
          ],
          "name": "stderr"
        },
        {
          "output_type": "stream",
          "text": [
            "Training until validation scores don't improve for 100 rounds\n",
            "[100]\tvalid_0's binary_logloss: 0.000872232\tvalid_1's binary_logloss: 0.100834\n"
          ],
          "name": "stdout"
        },
        {
          "output_type": "stream",
          "text": [
            "num_leaves, val_score: 0.089836:   5%|5         | 1/20 [00:02<00:45,  2.39s/it]\u001b[32m[I 2021-07-08 07:17:29,397]\u001b[0m Trial 7 finished with value: 0.09416257441721364 and parameters: {'num_leaves': 162}. Best is trial 7 with value: 0.09416257441721364.\u001b[0m\n",
            "num_leaves, val_score: 0.089836:   5%|5         | 1/20 [00:02<00:45,  2.39s/it]"
          ],
          "name": "stderr"
        },
        {
          "output_type": "stream",
          "text": [
            "Early stopping, best iteration is:\n",
            "[72]\tvalid_0's binary_logloss: 0.00488303\tvalid_1's binary_logloss: 0.0941626\n",
            "Training until validation scores don't improve for 100 rounds\n",
            "[100]\tvalid_0's binary_logloss: 0.000859301\tvalid_1's binary_logloss: 0.103425\n"
          ],
          "name": "stdout"
        },
        {
          "output_type": "stream",
          "text": [
            "num_leaves, val_score: 0.089836:  10%|#         | 2/20 [00:05<00:44,  2.46s/it]\u001b[32m[I 2021-07-08 07:17:32,039]\u001b[0m Trial 8 finished with value: 0.09862357594643976 and parameters: {'num_leaves': 176}. Best is trial 7 with value: 0.09416257441721364.\u001b[0m\n",
            "num_leaves, val_score: 0.089836:  10%|#         | 2/20 [00:05<00:44,  2.46s/it]"
          ],
          "name": "stderr"
        },
        {
          "output_type": "stream",
          "text": [
            "Early stopping, best iteration is:\n",
            "[67]\tvalid_0's binary_logloss: 0.00662219\tvalid_1's binary_logloss: 0.0986236\n",
            "Training until validation scores don't improve for 100 rounds\n",
            "[100]\tvalid_0's binary_logloss: 0.000894184\tvalid_1's binary_logloss: 0.102005\n"
          ],
          "name": "stdout"
        },
        {
          "output_type": "stream",
          "text": [
            "num_leaves, val_score: 0.089836:  15%|#5        | 3/20 [00:08<00:46,  2.71s/it]\u001b[32m[I 2021-07-08 07:17:35,324]\u001b[0m Trial 9 finished with value: 0.09649747208410231 and parameters: {'num_leaves': 254}. Best is trial 7 with value: 0.09416257441721364.\u001b[0m\n",
            "num_leaves, val_score: 0.089836:  15%|#5        | 3/20 [00:08<00:46,  2.71s/it]"
          ],
          "name": "stderr"
        },
        {
          "output_type": "stream",
          "text": [
            "Early stopping, best iteration is:\n",
            "[64]\tvalid_0's binary_logloss: 0.00805191\tvalid_1's binary_logloss: 0.0964975\n",
            "Training until validation scores don't improve for 100 rounds\n",
            "[100]\tvalid_0's binary_logloss: 0.000892441\tvalid_1's binary_logloss: 0.103233\n"
          ],
          "name": "stdout"
        },
        {
          "output_type": "stream",
          "text": [
            "num_leaves, val_score: 0.089836:  20%|##        | 4/20 [00:10<00:41,  2.60s/it]\u001b[32m[I 2021-07-08 07:17:37,657]\u001b[0m Trial 10 finished with value: 0.09649492589475772 and parameters: {'num_leaves': 158}. Best is trial 7 with value: 0.09416257441721364.\u001b[0m\n",
            "num_leaves, val_score: 0.089836:  20%|##        | 4/20 [00:10<00:41,  2.60s/it]"
          ],
          "name": "stderr"
        },
        {
          "output_type": "stream",
          "text": [
            "Early stopping, best iteration is:\n",
            "[66]\tvalid_0's binary_logloss: 0.0072232\tvalid_1's binary_logloss: 0.0964949\n",
            "Training until validation scores don't improve for 100 rounds\n",
            "[100]\tvalid_0's binary_logloss: 0.000881575\tvalid_1's binary_logloss: 0.102789\n"
          ],
          "name": "stdout"
        },
        {
          "output_type": "stream",
          "text": [
            "num_leaves, val_score: 0.089836:  25%|##5       | 5/20 [00:13<00:40,  2.68s/it]\u001b[32m[I 2021-07-08 07:17:40,531]\u001b[0m Trial 11 finished with value: 0.09853997883653619 and parameters: {'num_leaves': 203}. Best is trial 7 with value: 0.09416257441721364.\u001b[0m\n",
            "num_leaves, val_score: 0.089836:  25%|##5       | 5/20 [00:13<00:40,  2.68s/it]"
          ],
          "name": "stderr"
        },
        {
          "output_type": "stream",
          "text": [
            "Early stopping, best iteration is:\n",
            "[72]\tvalid_0's binary_logloss: 0.00483082\tvalid_1's binary_logloss: 0.09854\n",
            "Training until validation scores don't improve for 100 rounds\n",
            "[100]\tvalid_0's binary_logloss: 0.210931\tvalid_1's binary_logloss: 0.211966\n",
            "[200]\tvalid_0's binary_logloss: 0.161594\tvalid_1's binary_logloss: 0.165865\n",
            "[300]\tvalid_0's binary_logloss: 0.137583\tvalid_1's binary_logloss: 0.146607\n",
            "[400]\tvalid_0's binary_logloss: 0.121598\tvalid_1's binary_logloss: 0.134001\n",
            "[500]\tvalid_0's binary_logloss: 0.110385\tvalid_1's binary_logloss: 0.127547\n",
            "[600]\tvalid_0's binary_logloss: 0.100681\tvalid_1's binary_logloss: 0.122694\n",
            "[700]\tvalid_0's binary_logloss: 0.0927844\tvalid_1's binary_logloss: 0.119032\n",
            "[800]\tvalid_0's binary_logloss: 0.0856343\tvalid_1's binary_logloss: 0.1168\n"
          ],
          "name": "stdout"
        },
        {
          "output_type": "stream",
          "text": [
            "num_leaves, val_score: 0.089836:  30%|###       | 6/20 [00:14<00:32,  2.30s/it]\u001b[32m[I 2021-07-08 07:17:41,958]\u001b[0m Trial 12 finished with value: 0.11336796831761317 and parameters: {'num_leaves': 3}. Best is trial 7 with value: 0.09416257441721364.\u001b[0m\n",
            "num_leaves, val_score: 0.089836:  30%|###       | 6/20 [00:14<00:32,  2.30s/it]"
          ],
          "name": "stderr"
        },
        {
          "output_type": "stream",
          "text": [
            "[900]\tvalid_0's binary_logloss: 0.0796249\tvalid_1's binary_logloss: 0.115002\n",
            "[1000]\tvalid_0's binary_logloss: 0.0744069\tvalid_1's binary_logloss: 0.113368\n",
            "Did not meet early stopping. Best iteration is:\n",
            "[1000]\tvalid_0's binary_logloss: 0.0744069\tvalid_1's binary_logloss: 0.113368\n",
            "Training until validation scores don't improve for 100 rounds\n",
            "[100]\tvalid_0's binary_logloss: 0.00177761\tvalid_1's binary_logloss: 0.0972888\n"
          ],
          "name": "stdout"
        },
        {
          "output_type": "stream",
          "text": [
            "num_leaves, val_score: 0.089836:  35%|###5      | 7/20 [00:16<00:28,  2.16s/it]\u001b[32m[I 2021-07-08 07:17:43,797]\u001b[0m Trial 13 finished with value: 0.0926778091311073 and parameters: {'num_leaves': 98}. Best is trial 13 with value: 0.0926778091311073.\u001b[0m\n",
            "num_leaves, val_score: 0.089836:  35%|###5      | 7/20 [00:16<00:28,  2.16s/it]"
          ],
          "name": "stderr"
        },
        {
          "output_type": "stream",
          "text": [
            "Early stopping, best iteration is:\n",
            "[80]\tvalid_0's binary_logloss: 0.0048603\tvalid_1's binary_logloss: 0.0926778\n",
            "Training until validation scores don't improve for 100 rounds\n",
            "[100]\tvalid_0's binary_logloss: 0.000961555\tvalid_1's binary_logloss: 0.0978426\n"
          ],
          "name": "stdout"
        },
        {
          "output_type": "stream",
          "text": [
            "num_leaves, val_score: 0.089836:  40%|####      | 8/20 [00:18<00:25,  2.15s/it]\u001b[32m[I 2021-07-08 07:17:45,921]\u001b[0m Trial 14 finished with value: 0.09280194011414854 and parameters: {'num_leaves': 137}. Best is trial 13 with value: 0.0926778091311073.\u001b[0m\n",
            "num_leaves, val_score: 0.089836:  40%|####      | 8/20 [00:18<00:25,  2.15s/it]"
          ],
          "name": "stderr"
        },
        {
          "output_type": "stream",
          "text": [
            "Early stopping, best iteration is:\n",
            "[70]\tvalid_0's binary_logloss: 0.00573025\tvalid_1's binary_logloss: 0.0928019\n",
            "Training until validation scores don't improve for 100 rounds\n",
            "[100]\tvalid_0's binary_logloss: 0.000885563\tvalid_1's binary_logloss: 0.0993031\n"
          ],
          "name": "stdout"
        },
        {
          "output_type": "stream",
          "text": [
            "num_leaves, val_score: 0.089836:  45%|####5     | 9/20 [00:21<00:25,  2.36s/it]\u001b[32m[I 2021-07-08 07:17:48,767]\u001b[0m Trial 15 finished with value: 0.09519310599259224 and parameters: {'num_leaves': 194}. Best is trial 13 with value: 0.0926778091311073.\u001b[0m\n",
            "num_leaves, val_score: 0.089836:  45%|####5     | 9/20 [00:21<00:25,  2.36s/it]"
          ],
          "name": "stderr"
        },
        {
          "output_type": "stream",
          "text": [
            "Early stopping, best iteration is:\n",
            "[79]\tvalid_0's binary_logloss: 0.00320344\tvalid_1's binary_logloss: 0.0951931\n",
            "Training until validation scores don't improve for 100 rounds\n",
            "[100]\tvalid_0's binary_logloss: 0.000869887\tvalid_1's binary_logloss: 0.103152\n"
          ],
          "name": "stdout"
        },
        {
          "output_type": "stream",
          "text": [
            "num_leaves, val_score: 0.089836:  50%|#####     | 10/20 [00:24<00:26,  2.61s/it]\u001b[32m[I 2021-07-08 07:17:51,950]\u001b[0m Trial 16 finished with value: 0.09737738270023442 and parameters: {'num_leaves': 225}. Best is trial 13 with value: 0.0926778091311073.\u001b[0m\n",
            "num_leaves, val_score: 0.089836:  50%|#####     | 10/20 [00:24<00:26,  2.61s/it]"
          ],
          "name": "stderr"
        },
        {
          "output_type": "stream",
          "text": [
            "Early stopping, best iteration is:\n",
            "[79]\tvalid_0's binary_logloss: 0.0031317\tvalid_1's binary_logloss: 0.0973774\n",
            "Training until validation scores don't improve for 100 rounds\n",
            "[100]\tvalid_0's binary_logloss: 0.00456264\tvalid_1's binary_logloss: 0.092611\n"
          ],
          "name": "stdout"
        },
        {
          "output_type": "stream",
          "text": [
            "num_leaves, val_score: 0.089836:  55%|#####5    | 11/20 [00:26<00:20,  2.30s/it]\u001b[32m[I 2021-07-08 07:17:53,522]\u001b[0m Trial 17 finished with value: 0.0916611437129203 and parameters: {'num_leaves': 67}. Best is trial 17 with value: 0.0916611437129203.\u001b[0m\n",
            "num_leaves, val_score: 0.089836:  55%|#####5    | 11/20 [00:26<00:20,  2.30s/it]"
          ],
          "name": "stderr"
        },
        {
          "output_type": "stream",
          "text": [
            "Early stopping, best iteration is:\n",
            "[94]\tvalid_0's binary_logloss: 0.00570057\tvalid_1's binary_logloss: 0.0916611\n",
            "Training until validation scores don't improve for 100 rounds\n",
            "[100]\tvalid_0's binary_logloss: 0.00407052\tvalid_1's binary_logloss: 0.0939652\n"
          ],
          "name": "stdout"
        },
        {
          "output_type": "stream",
          "text": [
            "num_leaves, val_score: 0.089836:  60%|######    | 12/20 [00:28<00:16,  2.06s/it]\u001b[32m[I 2021-07-08 07:17:55,049]\u001b[0m Trial 18 finished with value: 0.09217205361937497 and parameters: {'num_leaves': 70}. Best is trial 17 with value: 0.0916611437129203.\u001b[0m\n",
            "num_leaves, val_score: 0.089836:  60%|######    | 12/20 [00:28<00:16,  2.06s/it]"
          ],
          "name": "stderr"
        },
        {
          "output_type": "stream",
          "text": [
            "Early stopping, best iteration is:\n",
            "[85]\tvalid_0's binary_logloss: 0.00741527\tvalid_1's binary_logloss: 0.0921721\n",
            "Training until validation scores don't improve for 100 rounds\n",
            "[100]\tvalid_0's binary_logloss: 0.0077294\tvalid_1's binary_logloss: 0.0917921\n"
          ],
          "name": "stdout"
        },
        {
          "output_type": "stream",
          "text": [
            "num_leaves, val_score: 0.089836:  65%|######5   | 13/20 [00:29<00:13,  1.87s/it]\u001b[32m[I 2021-07-08 07:17:56,455]\u001b[0m Trial 19 finished with value: 0.09142475971320038 and parameters: {'num_leaves': 55}. Best is trial 19 with value: 0.09142475971320038.\u001b[0m\n",
            "num_leaves, val_score: 0.089836:  65%|######5   | 13/20 [00:29<00:13,  1.87s/it]"
          ],
          "name": "stderr"
        },
        {
          "output_type": "stream",
          "text": [
            "Early stopping, best iteration is:\n",
            "[98]\tvalid_0's binary_logloss: 0.00823243\tvalid_1's binary_logloss: 0.0914248\n",
            "Training until validation scores don't improve for 100 rounds\n",
            "[100]\tvalid_0's binary_logloss: 0.0274458\tvalid_1's binary_logloss: 0.098487\n",
            "[200]\tvalid_0's binary_logloss: 0.00481664\tvalid_1's binary_logloss: 0.0983063\n"
          ],
          "name": "stdout"
        },
        {
          "output_type": "stream",
          "text": [
            "num_leaves, val_score: 0.089836:  70%|#######   | 14/20 [00:30<00:09,  1.66s/it]\u001b[32m[I 2021-07-08 07:17:57,621]\u001b[0m Trial 20 finished with value: 0.09469594337276808 and parameters: {'num_leaves': 30}. Best is trial 19 with value: 0.09142475971320038.\u001b[0m\n",
            "num_leaves, val_score: 0.089836:  70%|#######   | 14/20 [00:30<00:09,  1.66s/it]"
          ],
          "name": "stderr"
        },
        {
          "output_type": "stream",
          "text": [
            "Early stopping, best iteration is:\n",
            "[147]\tvalid_0's binary_logloss: 0.012216\tvalid_1's binary_logloss: 0.0946959\n",
            "Training until validation scores don't improve for 100 rounds\n",
            "[100]\tvalid_0's binary_logloss: 0.00569905\tvalid_1's binary_logloss: 0.0955812\n"
          ],
          "name": "stdout"
        },
        {
          "output_type": "stream",
          "text": [
            "num_leaves, val_score: 0.089836:  75%|#######5  | 15/20 [00:31<00:07,  1.58s/it]\u001b[32m[I 2021-07-08 07:17:59,011]\u001b[0m Trial 21 finished with value: 0.09418251276463045 and parameters: {'num_leaves': 62}. Best is trial 19 with value: 0.09142475971320038.\u001b[0m\n",
            "num_leaves, val_score: 0.089836:  75%|#######5  | 15/20 [00:32<00:07,  1.58s/it]"
          ],
          "name": "stderr"
        },
        {
          "output_type": "stream",
          "text": [
            "Early stopping, best iteration is:\n",
            "[81]\tvalid_0's binary_logloss: 0.0113977\tvalid_1's binary_logloss: 0.0941825\n",
            "Training until validation scores don't improve for 100 rounds\n",
            "[100]\tvalid_0's binary_logloss: 0.00187871\tvalid_1's binary_logloss: 0.0982669\n"
          ],
          "name": "stdout"
        },
        {
          "output_type": "stream",
          "text": [
            "num_leaves, val_score: 0.089836:  80%|########  | 16/20 [00:33<00:06,  1.63s/it]\u001b[32m[I 2021-07-08 07:18:00,766]\u001b[0m Trial 22 finished with value: 0.09300933498711572 and parameters: {'num_leaves': 95}. Best is trial 19 with value: 0.09142475971320038.\u001b[0m\n",
            "num_leaves, val_score: 0.089836:  80%|########  | 16/20 [00:33<00:06,  1.63s/it]"
          ],
          "name": "stderr"
        },
        {
          "output_type": "stream",
          "text": [
            "Early stopping, best iteration is:\n",
            "[76]\tvalid_0's binary_logloss: 0.00625833\tvalid_1's binary_logloss: 0.0930093\n",
            "Training until validation scores don't improve for 100 rounds\n",
            "[100]\tvalid_0's binary_logloss: 0.093375\tvalid_1's binary_logloss: 0.116949\n",
            "[200]\tvalid_0's binary_logloss: 0.0540213\tvalid_1's binary_logloss: 0.100839\n",
            "[300]\tvalid_0's binary_logloss: 0.0336681\tvalid_1's binary_logloss: 0.0962595\n",
            "[400]\tvalid_0's binary_logloss: 0.020851\tvalid_1's binary_logloss: 0.0939722\n",
            "Early stopping, best iteration is:\n",
            "[392]\tvalid_0's binary_logloss: 0.0215878\tvalid_1's binary_logloss: 0.0937886\n"
          ],
          "name": "stdout"
        },
        {
          "output_type": "stream",
          "text": [
            "num_leaves, val_score: 0.089836:  85%|########5 | 17/20 [00:34<00:04,  1.51s/it]\u001b[32m[I 2021-07-08 07:18:01,982]\u001b[0m Trial 23 finished with value: 0.09378862959215839 and parameters: {'num_leaves': 10}. Best is trial 19 with value: 0.09142475971320038.\u001b[0m\n",
            "num_leaves, val_score: 0.089836:  85%|########5 | 17/20 [00:34<00:04,  1.51s/it]"
          ],
          "name": "stderr"
        },
        {
          "output_type": "stream",
          "text": [
            "Training until validation scores don't improve for 100 rounds\n",
            "[100]\tvalid_0's binary_logloss: 0.0172843\tvalid_1's binary_logloss: 0.095012\n"
          ],
          "name": "stdout"
        },
        {
          "output_type": "stream",
          "text": [
            "num_leaves, val_score: 0.089836:  90%|######### | 18/20 [00:36<00:02,  1.39s/it]\u001b[32m[I 2021-07-08 07:18:03,106]\u001b[0m Trial 24 finished with value: 0.09474697623632847 and parameters: {'num_leaves': 38}. Best is trial 19 with value: 0.09142475971320038.\u001b[0m\n",
            "num_leaves, val_score: 0.089836:  90%|######### | 18/20 [00:36<00:02,  1.39s/it]"
          ],
          "name": "stderr"
        },
        {
          "output_type": "stream",
          "text": [
            "Early stopping, best iteration is:\n",
            "[99]\tvalid_0's binary_logloss: 0.0176895\tvalid_1's binary_logloss: 0.094747\n",
            "Training until validation scores don't improve for 100 rounds\n",
            "[100]\tvalid_0's binary_logloss: 0.00140044\tvalid_1's binary_logloss: 0.0994956\n"
          ],
          "name": "stdout"
        },
        {
          "output_type": "stream",
          "text": [
            "num_leaves, val_score: 0.089836:  95%|#########5| 19/20 [00:38<00:01,  1.55s/it]\u001b[32m[I 2021-07-08 07:18:05,033]\u001b[0m Trial 25 finished with value: 0.09467321600960629 and parameters: {'num_leaves': 109}. Best is trial 19 with value: 0.09142475971320038.\u001b[0m\n",
            "num_leaves, val_score: 0.089836:  95%|#########5| 19/20 [00:38<00:01,  1.55s/it]"
          ],
          "name": "stderr"
        },
        {
          "output_type": "stream",
          "text": [
            "Early stopping, best iteration is:\n",
            "[79]\tvalid_0's binary_logloss: 0.0042924\tvalid_1's binary_logloss: 0.0946732\n",
            "Training until validation scores don't improve for 100 rounds\n",
            "[100]\tvalid_0's binary_logloss: 0.00489343\tvalid_1's binary_logloss: 0.0952705\n"
          ],
          "name": "stdout"
        },
        {
          "output_type": "stream",
          "text": [
            "num_leaves, val_score: 0.089836: 100%|##########| 20/20 [00:39<00:00,  1.51s/it]\u001b[32m[I 2021-07-08 07:18:06,441]\u001b[0m Trial 26 finished with value: 0.0942735766295275 and parameters: {'num_leaves': 65}. Best is trial 19 with value: 0.09142475971320038.\u001b[0m\n",
            "num_leaves, val_score: 0.089836: 100%|##########| 20/20 [00:39<00:00,  1.97s/it]\n",
            "bagging, val_score: 0.089836:   0%|          | 0/10 [00:00<?, ?it/s]"
          ],
          "name": "stderr"
        },
        {
          "output_type": "stream",
          "text": [
            "Early stopping, best iteration is:\n",
            "[78]\tvalid_0's binary_logloss: 0.0113699\tvalid_1's binary_logloss: 0.0942736\n",
            "Training until validation scores don't improve for 100 rounds\n",
            "[100]\tvalid_0's binary_logloss: 0.0271522\tvalid_1's binary_logloss: 0.0962813\n",
            "[200]\tvalid_0's binary_logloss: 0.00489498\tvalid_1's binary_logloss: 0.094812\n",
            "Early stopping, best iteration is:\n",
            "[139]\tvalid_0's binary_logloss: 0.0137178\tvalid_1's binary_logloss: 0.0903724\n"
          ],
          "name": "stdout"
        },
        {
          "output_type": "stream",
          "text": [
            "bagging, val_score: 0.089836:  10%|#         | 1/10 [00:01<00:10,  1.22s/it]\u001b[32m[I 2021-07-08 07:18:07,679]\u001b[0m Trial 27 finished with value: 0.09037235019307102 and parameters: {'bagging_fraction': 0.5745382346001807, 'bagging_freq': 6}. Best is trial 27 with value: 0.09037235019307102.\u001b[0m\n",
            "bagging, val_score: 0.089836:  10%|#         | 1/10 [00:01<00:10,  1.22s/it]"
          ],
          "name": "stderr"
        },
        {
          "output_type": "stream",
          "text": [
            "Training until validation scores don't improve for 100 rounds\n",
            "[100]\tvalid_0's binary_logloss: 0.0245932\tvalid_1's binary_logloss: 0.0951481\n"
          ],
          "name": "stdout"
        },
        {
          "output_type": "stream",
          "text": [
            "bagging, val_score: 0.089836:  20%|##        | 2/10 [00:02<00:09,  1.23s/it]\u001b[32m[I 2021-07-08 07:18:08,917]\u001b[0m Trial 28 finished with value: 0.09238834985023402 and parameters: {'bagging_fraction': 0.9324848362131773, 'bagging_freq': 2}. Best is trial 27 with value: 0.09037235019307102.\u001b[0m\n",
            "bagging, val_score: 0.089836:  20%|##        | 2/10 [00:02<00:09,  1.23s/it]"
          ],
          "name": "stderr"
        },
        {
          "output_type": "stream",
          "text": [
            "[200]\tvalid_0's binary_logloss: 0.00402044\tvalid_1's binary_logloss: 0.0967322\n",
            "Early stopping, best iteration is:\n",
            "[133]\tvalid_0's binary_logloss: 0.0134399\tvalid_1's binary_logloss: 0.0923883\n",
            "Training until validation scores don't improve for 100 rounds\n",
            "[100]\tvalid_0's binary_logloss: 0.0272501\tvalid_1's binary_logloss: 0.0968569\n",
            "[200]\tvalid_0's binary_logloss: 0.00480428\tvalid_1's binary_logloss: 0.0961106\n"
          ],
          "name": "stdout"
        },
        {
          "output_type": "stream",
          "text": [
            "bagging, val_score: 0.089836:  30%|###       | 3/10 [00:03<00:08,  1.25s/it]\u001b[32m[I 2021-07-08 07:18:10,208]\u001b[0m Trial 29 finished with value: 0.09315234206941989 and parameters: {'bagging_fraction': 0.573816406555939, 'bagging_freq': 5}. Best is trial 27 with value: 0.09037235019307102.\u001b[0m\n",
            "bagging, val_score: 0.089836:  30%|###       | 3/10 [00:03<00:08,  1.25s/it]"
          ],
          "name": "stderr"
        },
        {
          "output_type": "stream",
          "text": [
            "Early stopping, best iteration is:\n",
            "[155]\tvalid_0's binary_logloss: 0.0102911\tvalid_1's binary_logloss: 0.0931523\n",
            "Training until validation scores don't improve for 100 rounds\n",
            "[100]\tvalid_0's binary_logloss: 0.0252921\tvalid_1's binary_logloss: 0.0962923\n",
            "[200]\tvalid_0's binary_logloss: 0.00390208\tvalid_1's binary_logloss: 0.0955578\n"
          ],
          "name": "stdout"
        },
        {
          "output_type": "stream",
          "text": [
            "bagging, val_score: 0.089836:  40%|####      | 4/10 [00:05<00:07,  1.27s/it]\u001b[32m[I 2021-07-08 07:18:11,536]\u001b[0m Trial 30 finished with value: 0.09130454126655825 and parameters: {'bagging_fraction': 0.8280797324586335, 'bagging_freq': 7}. Best is trial 27 with value: 0.09037235019307102.\u001b[0m\n",
            "bagging, val_score: 0.089836:  40%|####      | 4/10 [00:05<00:07,  1.27s/it]"
          ],
          "name": "stderr"
        },
        {
          "output_type": "stream",
          "text": [
            "Early stopping, best iteration is:\n",
            "[149]\tvalid_0's binary_logloss: 0.0101101\tvalid_1's binary_logloss: 0.0913045\n",
            "Training until validation scores don't improve for 100 rounds\n",
            "[100]\tvalid_0's binary_logloss: 0.0258786\tvalid_1's binary_logloss: 0.0949673\n"
          ],
          "name": "stdout"
        },
        {
          "output_type": "stream",
          "text": [
            "bagging, val_score: 0.089836:  50%|#####     | 5/10 [00:06<00:06,  1.23s/it]\u001b[32m[I 2021-07-08 07:18:12,671]\u001b[0m Trial 31 finished with value: 0.0929572068057612 and parameters: {'bagging_fraction': 0.9852885678162316, 'bagging_freq': 6}. Best is trial 27 with value: 0.09037235019307102.\u001b[0m\n",
            "bagging, val_score: 0.089836:  50%|#####     | 5/10 [00:06<00:06,  1.23s/it]"
          ],
          "name": "stderr"
        },
        {
          "output_type": "stream",
          "text": [
            "[200]\tvalid_0's binary_logloss: 0.0041623\tvalid_1's binary_logloss: 0.098005\n",
            "Early stopping, best iteration is:\n",
            "[114]\tvalid_0's binary_logloss: 0.0198223\tvalid_1's binary_logloss: 0.0929572\n",
            "Training until validation scores don't improve for 100 rounds\n",
            "[100]\tvalid_0's binary_logloss: 0.0255833\tvalid_1's binary_logloss: 0.0956603\n"
          ],
          "name": "stdout"
        },
        {
          "output_type": "stream",
          "text": [
            "bagging, val_score: 0.089836:  60%|######    | 6/10 [00:07<00:04,  1.23s/it]"
          ],
          "name": "stderr"
        },
        {
          "output_type": "stream",
          "text": [
            "[200]\tvalid_0's binary_logloss: 0.00450406\tvalid_1's binary_logloss: 0.0993965\n",
            "Early stopping, best iteration is:\n",
            "[138]\tvalid_0's binary_logloss: 0.01258\tvalid_1's binary_logloss: 0.0927104\n"
          ],
          "name": "stdout"
        },
        {
          "output_type": "stream",
          "text": [
            "\u001b[32m[I 2021-07-08 07:18:13,904]\u001b[0m Trial 32 finished with value: 0.09271044684137764 and parameters: {'bagging_fraction': 0.6492720956953384, 'bagging_freq': 5}. Best is trial 27 with value: 0.09037235019307102.\u001b[0m\n",
            "bagging, val_score: 0.089836:  60%|######    | 6/10 [00:07<00:04,  1.23s/it]"
          ],
          "name": "stderr"
        },
        {
          "output_type": "stream",
          "text": [
            "Training until validation scores don't improve for 100 rounds\n",
            "[100]\tvalid_0's binary_logloss: 0.0258653\tvalid_1's binary_logloss: 0.0939667\n"
          ],
          "name": "stdout"
        },
        {
          "output_type": "stream",
          "text": [
            "bagging, val_score: 0.089836:  70%|#######   | 7/10 [00:08<00:03,  1.21s/it]\u001b[32m[I 2021-07-08 07:18:15,054]\u001b[0m Trial 33 finished with value: 0.09244420058550015 and parameters: {'bagging_fraction': 0.5017275125682548, 'bagging_freq': 1}. Best is trial 27 with value: 0.09037235019307102.\u001b[0m\n",
            "bagging, val_score: 0.089836:  70%|#######   | 7/10 [00:08<00:03,  1.21s/it]"
          ],
          "name": "stderr"
        },
        {
          "output_type": "stream",
          "text": [
            "[200]\tvalid_0's binary_logloss: 0.00466057\tvalid_1's binary_logloss: 0.0971842\n",
            "Early stopping, best iteration is:\n",
            "[135]\tvalid_0's binary_logloss: 0.0137098\tvalid_1's binary_logloss: 0.0924442\n",
            "Training until validation scores don't improve for 100 rounds\n",
            "[100]\tvalid_0's binary_logloss: 0.0281999\tvalid_1's binary_logloss: 0.0996069\n"
          ],
          "name": "stdout"
        },
        {
          "output_type": "stream",
          "text": [
            "bagging, val_score: 0.089836:  80%|########  | 8/10 [00:09<00:02,  1.18s/it]\u001b[32m[I 2021-07-08 07:18:16,163]\u001b[0m Trial 34 finished with value: 0.09700983709537939 and parameters: {'bagging_fraction': 0.48640143291081445, 'bagging_freq': 7}. Best is trial 27 with value: 0.09037235019307102.\u001b[0m\n",
            "bagging, val_score: 0.089836:  80%|########  | 8/10 [00:09<00:02,  1.18s/it]"
          ],
          "name": "stderr"
        },
        {
          "output_type": "stream",
          "text": [
            "[200]\tvalid_0's binary_logloss: 0.00542598\tvalid_1's binary_logloss: 0.100059\n",
            "Early stopping, best iteration is:\n",
            "[123]\tvalid_0's binary_logloss: 0.0189714\tvalid_1's binary_logloss: 0.0970098\n",
            "Training until validation scores don't improve for 100 rounds\n",
            "[100]\tvalid_0's binary_logloss: 0.0256515\tvalid_1's binary_logloss: 0.0939244\n",
            "[200]\tvalid_0's binary_logloss: 0.00419583\tvalid_1's binary_logloss: 0.0949619\n"
          ],
          "name": "stdout"
        },
        {
          "output_type": "stream",
          "text": [
            "bagging, val_score: 0.089836:  90%|######### | 9/10 [00:10<00:01,  1.19s/it]\u001b[32m[I 2021-07-08 07:18:17,390]\u001b[0m Trial 35 finished with value: 0.09087325016213982 and parameters: {'bagging_fraction': 0.9972407715910623, 'bagging_freq': 1}. Best is trial 27 with value: 0.09037235019307102.\u001b[0m\n",
            "bagging, val_score: 0.089836:  90%|######### | 9/10 [00:10<00:01,  1.19s/it]"
          ],
          "name": "stderr"
        },
        {
          "output_type": "stream",
          "text": [
            "Early stopping, best iteration is:\n",
            "[146]\tvalid_0's binary_logloss: 0.0108052\tvalid_1's binary_logloss: 0.0908733\n",
            "Training until validation scores don't improve for 100 rounds\n",
            "[100]\tvalid_0's binary_logloss: 0.0299968\tvalid_1's binary_logloss: 0.0988773\n",
            "[200]\tvalid_0's binary_logloss: 0.00558022\tvalid_1's binary_logloss: 0.101086\n"
          ],
          "name": "stdout"
        },
        {
          "output_type": "stream",
          "text": [
            "bagging, val_score: 0.089836: 100%|##########| 10/10 [00:12<00:00,  1.20s/it]\u001b[32m[I 2021-07-08 07:18:18,620]\u001b[0m Trial 36 finished with value: 0.09612116462508186 and parameters: {'bagging_fraction': 0.48354670437858555, 'bagging_freq': 6}. Best is trial 27 with value: 0.09037235019307102.\u001b[0m\n",
            "bagging, val_score: 0.089836: 100%|##########| 10/10 [00:12<00:00,  1.22s/it]\n",
            "feature_fraction_stage2, val_score: 0.089836:   0%|          | 0/3 [00:00<?, ?it/s]"
          ],
          "name": "stderr"
        },
        {
          "output_type": "stream",
          "text": [
            "Early stopping, best iteration is:\n",
            "[144]\tvalid_0's binary_logloss: 0.0141744\tvalid_1's binary_logloss: 0.0961212\n",
            "Training until validation scores don't improve for 100 rounds\n",
            "[100]\tvalid_0's binary_logloss: 0.0253942\tvalid_1's binary_logloss: 0.0926768\n"
          ],
          "name": "stdout"
        },
        {
          "output_type": "stream",
          "text": [
            "\rfeature_fraction_stage2, val_score: 0.089836:   0%|          | 0/3 [00:01<?, ?it/s]"
          ],
          "name": "stderr"
        },
        {
          "output_type": "stream",
          "text": [
            "[200]\tvalid_0's binary_logloss: 0.00411341\tvalid_1's binary_logloss: 0.0939967\n",
            "Early stopping, best iteration is:\n",
            "[141]\tvalid_0's binary_logloss: 0.0120927\tvalid_1's binary_logloss: 0.089836\n"
          ],
          "name": "stdout"
        },
        {
          "output_type": "stream",
          "text": [
            "feature_fraction_stage2, val_score: 0.089836:  33%|###3      | 1/3 [00:01<00:02,  1.17s/it]\u001b[32m[I 2021-07-08 07:18:19,800]\u001b[0m Trial 37 finished with value: 0.08983595021545777 and parameters: {'feature_fraction': 0.9840000000000001}. Best is trial 37 with value: 0.08983595021545777.\u001b[0m\n",
            "feature_fraction_stage2, val_score: 0.089836:  33%|###3      | 1/3 [00:01<00:02,  1.17s/it]"
          ],
          "name": "stderr"
        },
        {
          "output_type": "stream",
          "text": [
            "Training until validation scores don't improve for 100 rounds\n",
            "[100]\tvalid_0's binary_logloss: 0.0266999\tvalid_1's binary_logloss: 0.0955665\n",
            "[200]\tvalid_0's binary_logloss: 0.00452384\tvalid_1's binary_logloss: 0.0959887\n"
          ],
          "name": "stdout"
        },
        {
          "output_type": "stream",
          "text": [
            "feature_fraction_stage2, val_score: 0.089836:  67%|######6   | 2/3 [00:02<00:01,  1.17s/it]\u001b[32m[I 2021-07-08 07:18:20,985]\u001b[0m Trial 38 finished with value: 0.09217987704037073 and parameters: {'feature_fraction': 0.9520000000000001}. Best is trial 37 with value: 0.08983595021545777.\u001b[0m\n",
            "feature_fraction_stage2, val_score: 0.089836:  67%|######6   | 2/3 [00:02<00:01,  1.17s/it]"
          ],
          "name": "stderr"
        },
        {
          "output_type": "stream",
          "text": [
            "Early stopping, best iteration is:\n",
            "[148]\tvalid_0's binary_logloss: 0.0114996\tvalid_1's binary_logloss: 0.0921799\n",
            "Training until validation scores don't improve for 100 rounds\n",
            "[100]\tvalid_0's binary_logloss: 0.0262574\tvalid_1's binary_logloss: 0.0945546\n"
          ],
          "name": "stdout"
        },
        {
          "output_type": "stream",
          "text": [
            "feature_fraction_stage2, val_score: 0.089836: 100%|##########| 3/3 [00:03<00:00,  1.15s/it]\u001b[32m[I 2021-07-08 07:18:22,069]\u001b[0m Trial 39 finished with value: 0.09234518965834333 and parameters: {'feature_fraction': 0.92}. Best is trial 37 with value: 0.08983595021545777.\u001b[0m\n",
            "feature_fraction_stage2, val_score: 0.089836: 100%|##########| 3/3 [00:03<00:00,  1.15s/it]\n",
            "regularization_factors, val_score: 0.089836:   0%|          | 0/20 [00:00<?, ?it/s]"
          ],
          "name": "stderr"
        },
        {
          "output_type": "stream",
          "text": [
            "[200]\tvalid_0's binary_logloss: 0.0042462\tvalid_1's binary_logloss: 0.0965736\n",
            "Early stopping, best iteration is:\n",
            "[129]\tvalid_0's binary_logloss: 0.0153669\tvalid_1's binary_logloss: 0.0923452\n",
            "Training until validation scores don't improve for 100 rounds\n",
            "[100]\tvalid_0's binary_logloss: 0.0259698\tvalid_1's binary_logloss: 0.0963468\n"
          ],
          "name": "stdout"
        },
        {
          "output_type": "stream",
          "text": [
            "regularization_factors, val_score: 0.089836:   5%|5         | 1/20 [00:01<00:24,  1.31s/it]\u001b[32m[I 2021-07-08 07:18:23,395]\u001b[0m Trial 40 finished with value: 0.09369623925684864 and parameters: {'lambda_l1': 5.08026851500443e-06, 'lambda_l2': 0.006323901771057314}. Best is trial 40 with value: 0.09369623925684864.\u001b[0m\n",
            "regularization_factors, val_score: 0.089836:   5%|5         | 1/20 [00:01<00:24,  1.31s/it]"
          ],
          "name": "stderr"
        },
        {
          "output_type": "stream",
          "text": [
            "[200]\tvalid_0's binary_logloss: 0.00443343\tvalid_1's binary_logloss: 0.0984468\n",
            "Early stopping, best iteration is:\n",
            "[127]\tvalid_0's binary_logloss: 0.015929\tvalid_1's binary_logloss: 0.0936962\n",
            "Training until validation scores don't improve for 100 rounds\n",
            "[100]\tvalid_0's binary_logloss: 0.0253943\tvalid_1's binary_logloss: 0.0926768\n",
            "[200]\tvalid_0's binary_logloss: 0.00411345\tvalid_1's binary_logloss: 0.0939967\n"
          ],
          "name": "stdout"
        },
        {
          "output_type": "stream",
          "text": [
            "regularization_factors, val_score: 0.089836:  10%|#         | 2/20 [00:02<00:23,  1.33s/it]\u001b[32m[I 2021-07-08 07:18:24,769]\u001b[0m Trial 41 finished with value: 0.08983594453928181 and parameters: {'lambda_l1': 3.1135606304565795e-07, 'lambda_l2': 3.233372286654026e-06}. Best is trial 41 with value: 0.08983594453928181.\u001b[0m\n",
            "regularization_factors, val_score: 0.089836:  10%|#         | 2/20 [00:02<00:23,  1.33s/it]"
          ],
          "name": "stderr"
        },
        {
          "output_type": "stream",
          "text": [
            "Early stopping, best iteration is:\n",
            "[141]\tvalid_0's binary_logloss: 0.0120928\tvalid_1's binary_logloss: 0.0898359\n",
            "Training until validation scores don't improve for 100 rounds\n",
            "[100]\tvalid_0's binary_logloss: 0.030656\tvalid_1's binary_logloss: 0.0950943\n",
            "[200]\tvalid_0's binary_logloss: 0.0100051\tvalid_1's binary_logloss: 0.0925467\n",
            "Early stopping, best iteration is:\n",
            "[165]\tvalid_0's binary_logloss: 0.0135703\tvalid_1's binary_logloss: 0.0916565\n"
          ],
          "name": "stdout"
        },
        {
          "output_type": "stream",
          "text": [
            "regularization_factors, val_score: 0.089836:  15%|#5        | 3/20 [00:04<00:22,  1.33s/it]\u001b[32m[I 2021-07-08 07:18:26,085]\u001b[0m Trial 42 finished with value: 0.09165645117661565 and parameters: {'lambda_l1': 0.6986955657361004, 'lambda_l2': 0.0013098264937932281}. Best is trial 41 with value: 0.08983594453928181.\u001b[0m\n",
            "regularization_factors, val_score: 0.089836:  15%|#5        | 3/20 [00:04<00:22,  1.33s/it]"
          ],
          "name": "stderr"
        },
        {
          "output_type": "stream",
          "text": [
            "Training until validation scores don't improve for 100 rounds\n",
            "[100]\tvalid_0's binary_logloss: 0.0268025\tvalid_1's binary_logloss: 0.095615\n",
            "[200]\tvalid_0's binary_logloss: 0.00448251\tvalid_1's binary_logloss: 0.0995365\n"
          ],
          "name": "stdout"
        },
        {
          "output_type": "stream",
          "text": [
            "regularization_factors, val_score: 0.089836:  20%|##        | 4/20 [00:05<00:21,  1.34s/it]\u001b[32m[I 2021-07-08 07:18:27,446]\u001b[0m Trial 43 finished with value: 0.09391040330989883 and parameters: {'lambda_l1': 0.00013903853206700796, 'lambda_l2': 1.170549684860397e-06}. Best is trial 41 with value: 0.08983594453928181.\u001b[0m\n",
            "regularization_factors, val_score: 0.089836:  20%|##        | 4/20 [00:05<00:21,  1.34s/it]"
          ],
          "name": "stderr"
        },
        {
          "output_type": "stream",
          "text": [
            "Early stopping, best iteration is:\n",
            "[139]\tvalid_0's binary_logloss: 0.0135581\tvalid_1's binary_logloss: 0.0939104\n",
            "Training until validation scores don't improve for 100 rounds\n",
            "[100]\tvalid_0's binary_logloss: 0.0253942\tvalid_1's binary_logloss: 0.0926768\n",
            "[200]\tvalid_0's binary_logloss: 0.00411342\tvalid_1's binary_logloss: 0.0939967\n"
          ],
          "name": "stdout"
        },
        {
          "output_type": "stream",
          "text": [
            "regularization_factors, val_score: 0.089836:  25%|##5       | 5/20 [00:06<00:20,  1.34s/it]\u001b[32m[I 2021-07-08 07:18:28,802]\u001b[0m Trial 44 finished with value: 0.08983594918595159 and parameters: {'lambda_l1': 7.441361890020762e-08, 'lambda_l2': 5.612977189351021e-07}. Best is trial 41 with value: 0.08983594453928181.\u001b[0m\n",
            "regularization_factors, val_score: 0.089836:  25%|##5       | 5/20 [00:06<00:20,  1.34s/it]"
          ],
          "name": "stderr"
        },
        {
          "output_type": "stream",
          "text": [
            "Early stopping, best iteration is:\n",
            "[141]\tvalid_0's binary_logloss: 0.0120927\tvalid_1's binary_logloss: 0.0898359\n",
            "Training until validation scores don't improve for 100 rounds\n",
            "[100]\tvalid_0's binary_logloss: 0.0577284\tvalid_1's binary_logloss: 0.103592\n",
            "[200]\tvalid_0's binary_logloss: 0.0279431\tvalid_1's binary_logloss: 0.0959309\n",
            "[300]\tvalid_0's binary_logloss: 0.0167659\tvalid_1's binary_logloss: 0.0958183\n"
          ],
          "name": "stdout"
        },
        {
          "output_type": "stream",
          "text": [
            "regularization_factors, val_score: 0.089836:  30%|###       | 6/20 [00:08<00:21,  1.52s/it]\u001b[32m[I 2021-07-08 07:18:30,731]\u001b[0m Trial 45 finished with value: 0.09510076046597471 and parameters: {'lambda_l1': 0.5654534099030097, 'lambda_l2': 9.934497727079833}. Best is trial 41 with value: 0.08983594453928181.\u001b[0m\n",
            "regularization_factors, val_score: 0.089836:  30%|###       | 6/20 [00:08<00:21,  1.52s/it]"
          ],
          "name": "stderr"
        },
        {
          "output_type": "stream",
          "text": [
            "Early stopping, best iteration is:\n",
            "[261]\tvalid_0's binary_logloss: 0.0200361\tvalid_1's binary_logloss: 0.0951008\n",
            "Training until validation scores don't improve for 100 rounds\n",
            "[100]\tvalid_0's binary_logloss: 0.026806\tvalid_1's binary_logloss: 0.0956154\n"
          ],
          "name": "stdout"
        },
        {
          "output_type": "stream",
          "text": [
            "regularization_factors, val_score: 0.089836:  35%|###5      | 7/20 [00:09<00:18,  1.45s/it]\u001b[32m[I 2021-07-08 07:18:32,034]\u001b[0m Trial 46 finished with value: 0.09364068905507411 and parameters: {'lambda_l1': 0.00044877211058895326, 'lambda_l2': 3.1185097633814553e-07}. Best is trial 41 with value: 0.08983594453928181.\u001b[0m\n",
            "regularization_factors, val_score: 0.089836:  35%|###5      | 7/20 [00:09<00:18,  1.45s/it]"
          ],
          "name": "stderr"
        },
        {
          "output_type": "stream",
          "text": [
            "[200]\tvalid_0's binary_logloss: 0.00452292\tvalid_1's binary_logloss: 0.0980174\n",
            "Early stopping, best iteration is:\n",
            "[127]\tvalid_0's binary_logloss: 0.0164483\tvalid_1's binary_logloss: 0.0936407\n",
            "Training until validation scores don't improve for 100 rounds\n",
            "[100]\tvalid_0's binary_logloss: 0.0253626\tvalid_1's binary_logloss: 0.0944646\n",
            "[200]\tvalid_0's binary_logloss: 0.00408028\tvalid_1's binary_logloss: 0.0974187\n",
            "Early stopping, best iteration is:\n",
            "[137]\tvalid_0's binary_logloss: 0.0129444\tvalid_1's binary_logloss: 0.092903\n"
          ],
          "name": "stdout"
        },
        {
          "output_type": "stream",
          "text": [
            "regularization_factors, val_score: 0.089836:  40%|####      | 8/20 [00:11<00:17,  1.43s/it]\u001b[32m[I 2021-07-08 07:18:33,411]\u001b[0m Trial 47 finished with value: 0.09290301730822542 and parameters: {'lambda_l1': 0.0012578803589816446, 'lambda_l2': 1.0345467002238742e-06}. Best is trial 41 with value: 0.08983594453928181.\u001b[0m\n",
            "regularization_factors, val_score: 0.089836:  40%|####      | 8/20 [00:11<00:17,  1.43s/it]"
          ],
          "name": "stderr"
        },
        {
          "output_type": "stream",
          "text": [
            "Training until validation scores don't improve for 100 rounds\n",
            "[100]\tvalid_0's binary_logloss: 0.0328356\tvalid_1's binary_logloss: 0.0942387\n",
            "[200]\tvalid_0's binary_logloss: 0.0115642\tvalid_1's binary_logloss: 0.0911474\n"
          ],
          "name": "stdout"
        },
        {
          "output_type": "stream",
          "text": [
            "regularization_factors, val_score: 0.089836:  45%|####5     | 9/20 [00:12<00:15,  1.41s/it]\u001b[32m[I 2021-07-08 07:18:34,782]\u001b[0m Trial 48 finished with value: 0.09091283718195198 and parameters: {'lambda_l1': 0.8774875813984908, 'lambda_l2': 0.0017327648488078787}. Best is trial 41 with value: 0.08983594453928181.\u001b[0m\n",
            "regularization_factors, val_score: 0.089836:  45%|####5     | 9/20 [00:12<00:15,  1.41s/it]"
          ],
          "name": "stderr"
        },
        {
          "output_type": "stream",
          "text": [
            "Early stopping, best iteration is:\n",
            "[191]\tvalid_0's binary_logloss: 0.0123953\tvalid_1's binary_logloss: 0.0909128\n",
            "Training until validation scores don't improve for 100 rounds\n",
            "[100]\tvalid_0's binary_logloss: 0.0538335\tvalid_1's binary_logloss: 0.100196\n",
            "[200]\tvalid_0's binary_logloss: 0.0237895\tvalid_1's binary_logloss: 0.0943328\n",
            "[300]\tvalid_0's binary_logloss: 0.0130951\tvalid_1's binary_logloss: 0.0933197\n"
          ],
          "name": "stdout"
        },
        {
          "output_type": "stream",
          "text": [
            "regularization_factors, val_score: 0.089836:  50%|#####     | 10/20 [00:14<00:16,  1.64s/it]\u001b[32m[I 2021-07-08 07:18:36,938]\u001b[0m Trial 49 finished with value: 0.09308156624480361 and parameters: {'lambda_l1': 4.953172342820749e-07, 'lambda_l2': 9.297425237438308}. Best is trial 41 with value: 0.08983594453928181.\u001b[0m\n",
            "regularization_factors, val_score: 0.089836:  50%|#####     | 10/20 [00:14<00:16,  1.64s/it]"
          ],
          "name": "stderr"
        },
        {
          "output_type": "stream",
          "text": [
            "Early stopping, best iteration is:\n",
            "[286]\tvalid_0's binary_logloss: 0.0140743\tvalid_1's binary_logloss: 0.0930816\n",
            "Training until validation scores don't improve for 100 rounds\n",
            "[100]\tvalid_0's binary_logloss: 0.0268018\tvalid_1's binary_logloss: 0.0956149\n",
            "[200]\tvalid_0's binary_logloss: 0.00442726\tvalid_1's binary_logloss: 0.0983188\n"
          ],
          "name": "stdout"
        },
        {
          "output_type": "stream",
          "text": [
            "regularization_factors, val_score: 0.089836:  55%|#####5    | 11/20 [00:16<00:14,  1.57s/it]\u001b[32m[I 2021-07-08 07:18:38,338]\u001b[0m Trial 50 finished with value: 0.09310243115204264 and parameters: {'lambda_l1': 1.2150718094773996e-08, 'lambda_l2': 7.240403672471875e-05}. Best is trial 41 with value: 0.08983594453928181.\u001b[0m\n",
            "regularization_factors, val_score: 0.089836:  55%|#####5    | 11/20 [00:16<00:14,  1.57s/it]"
          ],
          "name": "stderr"
        },
        {
          "output_type": "stream",
          "text": [
            "Early stopping, best iteration is:\n",
            "[149]\tvalid_0's binary_logloss: 0.0112925\tvalid_1's binary_logloss: 0.0931024\n",
            "Training until validation scores don't improve for 100 rounds\n",
            "[100]\tvalid_0's binary_logloss: 0.0253942\tvalid_1's binary_logloss: 0.0926768\n",
            "[200]\tvalid_0's binary_logloss: 0.00411341\tvalid_1's binary_logloss: 0.0939967\n"
          ],
          "name": "stdout"
        },
        {
          "output_type": "stream",
          "text": [
            "regularization_factors, val_score: 0.089836:  60%|######    | 12/20 [00:17<00:12,  1.51s/it]\u001b[32m[I 2021-07-08 07:18:39,722]\u001b[0m Trial 51 finished with value: 0.0898359502007411 and parameters: {'lambda_l1': 1.0881296311520561e-08, 'lambda_l2': 1.069859317364551e-08}. Best is trial 41 with value: 0.08983594453928181.\u001b[0m\n",
            "regularization_factors, val_score: 0.089836:  60%|######    | 12/20 [00:17<00:12,  1.51s/it]"
          ],
          "name": "stderr"
        },
        {
          "output_type": "stream",
          "text": [
            "Early stopping, best iteration is:\n",
            "[141]\tvalid_0's binary_logloss: 0.0120927\tvalid_1's binary_logloss: 0.089836\n",
            "Training until validation scores don't improve for 100 rounds\n",
            "[100]\tvalid_0's binary_logloss: 0.0253945\tvalid_1's binary_logloss: 0.0926768\n",
            "[200]\tvalid_0's binary_logloss: 0.0041137\tvalid_1's binary_logloss: 0.0939962\n"
          ],
          "name": "stdout"
        },
        {
          "output_type": "stream",
          "text": [
            "regularization_factors, val_score: 0.089836:  65%|######5   | 13/20 [00:19<00:10,  1.47s/it]\u001b[32m[I 2021-07-08 07:18:41,090]\u001b[0m Trial 52 finished with value: 0.08983590004861614 and parameters: {'lambda_l1': 3.1277122465018763e-07, 'lambda_l2': 2.7972823281952556e-05}. Best is trial 52 with value: 0.08983590004861614.\u001b[0m\n",
            "regularization_factors, val_score: 0.089836:  65%|######5   | 13/20 [00:19<00:10,  1.47s/it]"
          ],
          "name": "stderr"
        },
        {
          "output_type": "stream",
          "text": [
            "Early stopping, best iteration is:\n",
            "[141]\tvalid_0's binary_logloss: 0.012093\tvalid_1's binary_logloss: 0.0898359\n",
            "Training until validation scores don't improve for 100 rounds\n",
            "[100]\tvalid_0's binary_logloss: 0.0253947\tvalid_1's binary_logloss: 0.0926768\n",
            "[200]\tvalid_0's binary_logloss: 0.00411385\tvalid_1's binary_logloss: 0.093996\n"
          ],
          "name": "stdout"
        },
        {
          "output_type": "stream",
          "text": [
            "regularization_factors, val_score: 0.089836:  70%|#######   | 14/20 [00:20<00:08,  1.45s/it]\u001b[32m[I 2021-07-08 07:18:42,506]\u001b[0m Trial 53 finished with value: 0.08983588213743225 and parameters: {'lambda_l1': 4.066584328323084e-06, 'lambda_l2': 3.9096804408098115e-05}. Best is trial 53 with value: 0.08983588213743225.\u001b[0m\n",
            "regularization_factors, val_score: 0.089836:  70%|#######   | 14/20 [00:20<00:08,  1.45s/it]"
          ],
          "name": "stderr"
        },
        {
          "output_type": "stream",
          "text": [
            "Early stopping, best iteration is:\n",
            "[141]\tvalid_0's binary_logloss: 0.0120932\tvalid_1's binary_logloss: 0.0898359\n",
            "Training until validation scores don't improve for 100 rounds\n",
            "[100]\tvalid_0's binary_logloss: 0.0254101\tvalid_1's binary_logloss: 0.0966377\n"
          ],
          "name": "stdout"
        },
        {
          "output_type": "stream",
          "text": [
            "regularization_factors, val_score: 0.089836:  75%|#######5  | 15/20 [00:21<00:06,  1.39s/it]\u001b[32m[I 2021-07-08 07:18:43,758]\u001b[0m Trial 54 finished with value: 0.09536221764972759 and parameters: {'lambda_l1': 7.119176960219073e-06, 'lambda_l2': 0.07157888352528745}. Best is trial 53 with value: 0.08983588213743225.\u001b[0m\n",
            "regularization_factors, val_score: 0.089836:  75%|#######5  | 15/20 [00:21<00:06,  1.39s/it]"
          ],
          "name": "stderr"
        },
        {
          "output_type": "stream",
          "text": [
            "[200]\tvalid_0's binary_logloss: 0.00455905\tvalid_1's binary_logloss: 0.0987355\n",
            "Early stopping, best iteration is:\n",
            "[113]\tvalid_0's binary_logloss: 0.0201865\tvalid_1's binary_logloss: 0.0953622\n",
            "Training until validation scores don't improve for 100 rounds\n",
            "[100]\tvalid_0's binary_logloss: 0.0268019\tvalid_1's binary_logloss: 0.0956392\n",
            "[200]\tvalid_0's binary_logloss: 0.00442742\tvalid_1's binary_logloss: 0.0983273\n"
          ],
          "name": "stdout"
        },
        {
          "output_type": "stream",
          "text": [
            "regularization_factors, val_score: 0.089836:  80%|########  | 16/20 [00:23<00:05,  1.40s/it]\u001b[32m[I 2021-07-08 07:18:45,177]\u001b[0m Trial 55 finished with value: 0.09311466067091494 and parameters: {'lambda_l1': 2.1421931852704816e-05, 'lambda_l2': 6.117276474569512e-05}. Best is trial 53 with value: 0.08983588213743225.\u001b[0m\n",
            "regularization_factors, val_score: 0.089836:  80%|########  | 16/20 [00:23<00:05,  1.40s/it]"
          ],
          "name": "stderr"
        },
        {
          "output_type": "stream",
          "text": [
            "Early stopping, best iteration is:\n",
            "[149]\tvalid_0's binary_logloss: 0.0112926\tvalid_1's binary_logloss: 0.0931147\n",
            "Training until validation scores don't improve for 100 rounds\n",
            "[100]\tvalid_0's binary_logloss: 0.0261429\tvalid_1's binary_logloss: 0.0972692\n",
            "[200]\tvalid_0's binary_logloss: 0.00442588\tvalid_1's binary_logloss: 0.0996465\n"
          ],
          "name": "stdout"
        },
        {
          "output_type": "stream",
          "text": [
            "regularization_factors, val_score: 0.089836:  85%|########5 | 17/20 [00:24<00:04,  1.40s/it]\u001b[32m[I 2021-07-08 07:18:46,582]\u001b[0m Trial 56 finished with value: 0.09428220744616982 and parameters: {'lambda_l1': 0.01081134255859155, 'lambda_l2': 2.27838995437538e-05}. Best is trial 53 with value: 0.08983588213743225.\u001b[0m\n",
            "regularization_factors, val_score: 0.089836:  85%|########5 | 17/20 [00:24<00:04,  1.40s/it]"
          ],
          "name": "stderr"
        },
        {
          "output_type": "stream",
          "text": [
            "Early stopping, best iteration is:\n",
            "[147]\tvalid_0's binary_logloss: 0.011312\tvalid_1's binary_logloss: 0.0942822\n",
            "Training until validation scores don't improve for 100 rounds\n",
            "[100]\tvalid_0's binary_logloss: 0.0257536\tvalid_1's binary_logloss: 0.0985693\n",
            "[200]\tvalid_0's binary_logloss: 0.00439922\tvalid_1's binary_logloss: 0.100248\n"
          ],
          "name": "stdout"
        },
        {
          "output_type": "stream",
          "text": [
            "regularization_factors, val_score: 0.089836:  90%|######### | 18/20 [00:25<00:02,  1.40s/it]\u001b[32m[I 2021-07-08 07:18:47,972]\u001b[0m Trial 57 finished with value: 0.09588404268389536 and parameters: {'lambda_l1': 8.803142022360681e-07, 'lambda_l2': 0.02248523588556901}. Best is trial 53 with value: 0.08983588213743225.\u001b[0m\n",
            "regularization_factors, val_score: 0.089836:  90%|######### | 18/20 [00:25<00:02,  1.40s/it]"
          ],
          "name": "stderr"
        },
        {
          "output_type": "stream",
          "text": [
            "Early stopping, best iteration is:\n",
            "[139]\tvalid_0's binary_logloss: 0.0127461\tvalid_1's binary_logloss: 0.095884\n",
            "Training until validation scores don't improve for 100 rounds\n",
            "[100]\tvalid_0's binary_logloss: 0.0253943\tvalid_1's binary_logloss: 0.0926768\n",
            "[200]\tvalid_0's binary_logloss: 0.00411352\tvalid_1's binary_logloss: 0.0939965\n"
          ],
          "name": "stdout"
        },
        {
          "output_type": "stream",
          "text": [
            "regularization_factors, val_score: 0.089836:  95%|#########5| 19/20 [00:27<00:01,  1.39s/it]\u001b[32m[I 2021-07-08 07:18:49,330]\u001b[0m Trial 58 finished with value: 0.08983593038167505 and parameters: {'lambda_l1': 4.4226529541414415e-08, 'lambda_l2': 1.1016425133122444e-05}. Best is trial 53 with value: 0.08983588213743225.\u001b[0m\n",
            "regularization_factors, val_score: 0.089836:  95%|#########5| 19/20 [00:27<00:01,  1.39s/it]"
          ],
          "name": "stderr"
        },
        {
          "output_type": "stream",
          "text": [
            "Early stopping, best iteration is:\n",
            "[141]\tvalid_0's binary_logloss: 0.0120928\tvalid_1's binary_logloss: 0.0898359\n",
            "Training until validation scores don't improve for 100 rounds\n",
            "[100]\tvalid_0's binary_logloss: 0.0253946\tvalid_1's binary_logloss: 0.0926769\n",
            "[200]\tvalid_0's binary_logloss: 0.00411385\tvalid_1's binary_logloss: 0.0939961\n"
          ],
          "name": "stdout"
        },
        {
          "output_type": "stream",
          "text": [
            "regularization_factors, val_score: 0.089836: 100%|##########| 20/20 [00:28<00:00,  1.38s/it]\u001b[32m[I 2021-07-08 07:18:50,706]\u001b[0m Trial 59 finished with value: 0.08983596982002191 and parameters: {'lambda_l1': 3.477167744430956e-05, 'lambda_l2': 2.608059189326384e-08}. Best is trial 53 with value: 0.08983588213743225.\u001b[0m\n",
            "regularization_factors, val_score: 0.089836: 100%|##########| 20/20 [00:28<00:00,  1.43s/it]\n",
            "min_data_in_leaf, val_score: 0.089836:   0%|          | 0/5 [00:00<?, ?it/s]"
          ],
          "name": "stderr"
        },
        {
          "output_type": "stream",
          "text": [
            "Early stopping, best iteration is:\n",
            "[141]\tvalid_0's binary_logloss: 0.0120931\tvalid_1's binary_logloss: 0.089836\n",
            "Training until validation scores don't improve for 100 rounds\n",
            "[100]\tvalid_0's binary_logloss: 0.0242783\tvalid_1's binary_logloss: 0.0970875\n"
          ],
          "name": "stdout"
        },
        {
          "output_type": "stream",
          "text": [
            "min_data_in_leaf, val_score: 0.089836:  20%|##        | 1/5 [00:01<00:05,  1.37s/it]"
          ],
          "name": "stderr"
        },
        {
          "output_type": "stream",
          "text": [
            "[200]\tvalid_0's binary_logloss: 0.00396737\tvalid_1's binary_logloss: 0.100779\n",
            "Early stopping, best iteration is:\n",
            "[131]\tvalid_0's binary_logloss: 0.0136264\tvalid_1's binary_logloss: 0.0952047\n"
          ],
          "name": "stdout"
        },
        {
          "output_type": "stream",
          "text": [
            "\u001b[32m[I 2021-07-08 07:18:52,092]\u001b[0m Trial 60 finished with value: 0.09520474107229336 and parameters: {'min_child_samples': 10}. Best is trial 60 with value: 0.09520474107229336.\u001b[0m\n",
            "min_data_in_leaf, val_score: 0.089836:  20%|##        | 1/5 [00:01<00:05,  1.37s/it]"
          ],
          "name": "stderr"
        },
        {
          "output_type": "stream",
          "text": [
            "Training until validation scores don't improve for 100 rounds\n",
            "[100]\tvalid_0's binary_logloss: 0.0235292\tvalid_1's binary_logloss: 0.096362\n"
          ],
          "name": "stdout"
        },
        {
          "output_type": "stream",
          "text": [
            "min_data_in_leaf, val_score: 0.089836:  40%|####      | 2/5 [00:02<00:04,  1.36s/it]\u001b[32m[I 2021-07-08 07:18:53,432]\u001b[0m Trial 61 finished with value: 0.09572764835156546 and parameters: {'min_child_samples': 5}. Best is trial 60 with value: 0.09520474107229336.\u001b[0m\n",
            "min_data_in_leaf, val_score: 0.089836:  40%|####      | 2/5 [00:02<00:04,  1.36s/it]"
          ],
          "name": "stderr"
        },
        {
          "output_type": "stream",
          "text": [
            "[200]\tvalid_0's binary_logloss: 0.00389642\tvalid_1's binary_logloss: 0.0990119\n",
            "Early stopping, best iteration is:\n",
            "[103]\tvalid_0's binary_logloss: 0.0223279\tvalid_1's binary_logloss: 0.0957276\n",
            "Training until validation scores don't improve for 100 rounds\n",
            "[100]\tvalid_0's binary_logloss: 0.0332724\tvalid_1's binary_logloss: 0.0943157\n",
            "[200]\tvalid_0's binary_logloss: 0.00625863\tvalid_1's binary_logloss: 0.0941238\n"
          ],
          "name": "stdout"
        },
        {
          "output_type": "stream",
          "text": [
            "min_data_in_leaf, val_score: 0.089836:  60%|######    | 3/5 [00:03<00:02,  1.32s/it]\u001b[32m[I 2021-07-08 07:18:54,657]\u001b[0m Trial 62 finished with value: 0.09052109975525174 and parameters: {'min_child_samples': 100}. Best is trial 62 with value: 0.09052109975525174.\u001b[0m\n",
            "min_data_in_leaf, val_score: 0.089836:  60%|######    | 3/5 [00:03<00:02,  1.32s/it]"
          ],
          "name": "stderr"
        },
        {
          "output_type": "stream",
          "text": [
            "Early stopping, best iteration is:\n",
            "[145]\tvalid_0's binary_logloss: 0.0154447\tvalid_1's binary_logloss: 0.0905211\n",
            "Training until validation scores don't improve for 100 rounds\n",
            "[100]\tvalid_0's binary_logloss: 0.0284007\tvalid_1's binary_logloss: 0.0977881\n",
            "[200]\tvalid_0's binary_logloss: 0.00491651\tvalid_1's binary_logloss: 0.0982477\n"
          ],
          "name": "stdout"
        },
        {
          "output_type": "stream",
          "text": [
            "min_data_in_leaf, val_score: 0.089836:  80%|########  | 4/5 [00:05<00:01,  1.32s/it]\u001b[32m[I 2021-07-08 07:18:55,971]\u001b[0m Trial 63 finished with value: 0.09579798181871012 and parameters: {'min_child_samples': 50}. Best is trial 62 with value: 0.09052109975525174.\u001b[0m\n",
            "min_data_in_leaf, val_score: 0.089836:  80%|########  | 4/5 [00:05<00:01,  1.32s/it]"
          ],
          "name": "stderr"
        },
        {
          "output_type": "stream",
          "text": [
            "Early stopping, best iteration is:\n",
            "[147]\tvalid_0's binary_logloss: 0.0120501\tvalid_1's binary_logloss: 0.095798\n",
            "Training until validation scores don't improve for 100 rounds\n",
            "[100]\tvalid_0's binary_logloss: 0.0260306\tvalid_1's binary_logloss: 0.0950447\n"
          ],
          "name": "stdout"
        },
        {
          "output_type": "stream",
          "text": [
            "min_data_in_leaf, val_score: 0.089836: 100%|##########| 5/5 [00:06<00:00,  1.29s/it]\u001b[32m[I 2021-07-08 07:18:57,205]\u001b[0m Trial 64 finished with value: 0.09330422273398999 and parameters: {'min_child_samples': 25}. Best is trial 62 with value: 0.09052109975525174.\u001b[0m\n",
            "min_data_in_leaf, val_score: 0.089836: 100%|##########| 5/5 [00:06<00:00,  1.30s/it]"
          ],
          "name": "stderr"
        },
        {
          "output_type": "stream",
          "text": [
            "[200]\tvalid_0's binary_logloss: 0.00428766\tvalid_1's binary_logloss: 0.0971265\n",
            "Early stopping, best iteration is:\n",
            "[115]\tvalid_0's binary_logloss: 0.0197392\tvalid_1's binary_logloss: 0.0933042\n"
          ],
          "name": "stdout"
        },
        {
          "output_type": "stream",
          "text": [
            "\n"
          ],
          "name": "stderr"
        }
      ]
    },
    {
      "cell_type": "code",
      "metadata": {
        "colab": {
          "base_uri": "https://localhost:8080/"
        },
        "id": "oumLiq3S_HSZ",
        "outputId": "9faa8f53-238b-4056-ef7e-4bbc4a0fbd62"
      },
      "source": [
        "# 3.2 This predicts probabilities:\n",
        "model.predict(\n",
        "                val_x,    # Note that it is not lightgbm dataset\n",
        "                num_iteration = model.best_iteration\n",
        "             )"
      ],
      "execution_count": 31,
      "outputs": [
        {
          "output_type": "execute_result",
          "data": {
            "text/plain": [
              "array([9.90719887e-01, 9.90108305e-01, 1.17905424e-03, ...,\n",
              "       4.93418061e-04, 2.71868461e-02, 9.79997092e-03])"
            ]
          },
          "metadata": {
            "tags": []
          },
          "execution_count": 31
        }
      ]
    },
    {
      "cell_type": "code",
      "metadata": {
        "colab": {
          "base_uri": "https://localhost:8080/"
        },
        "id": "ZNA2LOZEzzPs",
        "outputId": "0802c370-104f-497b-b270-7bf856e33766"
      },
      "source": [
        "### Model is ready\n",
        "# 4.0 Make prediction\n",
        "#     np.rint: Round elements of the array to the nearest integer. \n",
        "#     For values exactly halfway between rounded decimal values,\n",
        "#     NumPy rounds to the nearest even value. Thus 1.5 and 2.5 \n",
        "#     round to 2.0, -0.5 and 0.5 round to 0.0, etc.\n",
        "\n",
        "prediction = np.rint(\n",
        "                     model.predict(\n",
        "                                    val_x,    # Note that it is not lightgbm dataset\n",
        "                                    num_iteration = model.best_iteration\n",
        "                                    )\n",
        "                    )\n",
        "\n",
        "# 4.0.1\n",
        "prediction"
      ],
      "execution_count": 30,
      "outputs": [
        {
          "output_type": "execute_result",
          "data": {
            "text/plain": [
              "array([1., 1., 0., ..., 0., 0., 0.])"
            ]
          },
          "metadata": {
            "tags": []
          },
          "execution_count": 30
        }
      ]
    },
    {
      "cell_type": "code",
      "metadata": {
        "colab": {
          "base_uri": "https://localhost:8080/"
        },
        "id": "a7gnxL1_vKww",
        "outputId": "dc496f39-8b8b-474b-9274-247c68eb34e5"
      },
      "source": [
        "# 4.1 Determine accuracy\n",
        "accuracy = accuracy_score(val_y, prediction)\n",
        "\n",
        "# 4.2 Get best params\n",
        "best_params = model.params\n",
        "print(\"\\nbest_params: \" ,best_params) \n",
        "print(\"\\n===============\")\n",
        "print(\"\\nAccuracy: \", accuracy)\n",
        "print(\"\\n===============\")\n",
        "\n",
        "# 4.3\n",
        "for key, value in best_params.items():\n",
        "    print(\"\\n    {}: {}\".format(key, value))\n",
        "\n",
        "######################\n"
      ],
      "execution_count": 32,
      "outputs": [
        {
          "output_type": "stream",
          "text": [
            "\n",
            "best_params:  {'objective': 'binary', 'metric': 'binary_logloss', 'verbosity': -1, 'boosting_type': 'gbdt', 'feature_pre_filter': False, 'lambda_l1': 4.066584328323084e-06, 'lambda_l2': 3.9096804408098115e-05, 'num_leaves': 31, 'feature_fraction': 1.0, 'bagging_fraction': 1.0, 'bagging_freq': 0, 'min_child_samples': 20, 'num_iterations': 1000, 'early_stopping_round': 100}\n",
            "\n",
            "===============\n",
            "\n",
            "Accuracy:  0.9736\n",
            "\n",
            "===============\n",
            "\n",
            "    objective: binary\n",
            "\n",
            "    metric: binary_logloss\n",
            "\n",
            "    verbosity: -1\n",
            "\n",
            "    boosting_type: gbdt\n",
            "\n",
            "    feature_pre_filter: False\n",
            "\n",
            "    lambda_l1: 4.066584328323084e-06\n",
            "\n",
            "    lambda_l2: 3.9096804408098115e-05\n",
            "\n",
            "    num_leaves: 31\n",
            "\n",
            "    feature_fraction: 1.0\n",
            "\n",
            "    bagging_fraction: 1.0\n",
            "\n",
            "    bagging_freq: 0\n",
            "\n",
            "    min_child_samples: 20\n",
            "\n",
            "    num_iterations: 1000\n",
            "\n",
            "    early_stopping_round: 100\n"
          ],
          "name": "stdout"
        }
      ]
    },
    {
      "cell_type": "markdown",
      "metadata": {
        "id": "rEx5vVfk2fC7"
      },
      "source": [
        "## Bayesian optimization"
      ]
    },
    {
      "cell_type": "markdown",
      "metadata": {
        "id": "W4oP7XLS6OLD"
      },
      "source": [
        "#### Model Object"
      ]
    },
    {
      "cell_type": "code",
      "metadata": {
        "id": "riHBaNDk2kQL"
      },
      "source": [
        "# 5.0. Define classifier object:\n",
        "\n",
        "model_lgb = lgb.LGBMRegressor(                # Regressor will also perform classification\n",
        "                                objective='binary',\n",
        "                                metric='auc', # This output must match with what\n",
        "                                          #  we specify as input to Bayesian model\n",
        "                                n_jobs=2,\n",
        "                                verbose=0,\n",
        "                                #baggeng_freq=1,\n",
        "                                #bagging_fraction =0.8,\n",
        "                              )"
      ],
      "execution_count": 33,
      "outputs": []
    },
    {
      "cell_type": "markdown",
      "metadata": {
        "id": "mWdSr0f36KYi"
      },
      "source": [
        "#### Parameter space"
      ]
    },
    {
      "cell_type": "code",
      "metadata": {
        "id": "TBwd-hUU2osN"
      },
      "source": [
        "# 5.1 Parameter search space for selected modeler\n",
        "#      For suggested parameter grid for lightgbm, pl see: \n",
        "#         https://github.com/Microsoft/LightGBM/issues/695\n",
        "#\n",
        "params = {\n",
        "        # The 'boosting' option parameter give lots of errors. \n",
        "        # Do not use it. (Removed 'rf' from it. Avoids errors)\n",
        "        'boosting'    :   Categorical(['gbdt','dart']),                                                         \n",
        "        'n_estimators':   Integer(50, 100), # No of boosted trees or iterations to fit (default: 100).\n",
        "\n",
        "        'num_leaves'  :   Integer(5,45),   # Max tree leaves for base boosters\n",
        "                                           # Create a node only if no of leaves exceed this limit\n",
        "                                           #  and also following condition of 'min_child_samples' is met\n",
        "\n",
        "        'min_child_samples': Integer(1, 50),  # Create a node only if min data-points at this node\n",
        "                                              #  exceed this limit\n",
        "\n",
        "        'feature_fraction' : Real(0.1, 0.9),  # Randomly select part of features on each iteration\n",
        "                                              #  for every boosted tree\n",
        "\n",
        "        'bagging_fraction' : Real(0.8, 1),   # Randomly select part of data without resampling\n",
        "                                             #   for each boosted tree\n",
        "\n",
        "        'bagging_freq'     : Integer(1,10),  # k means perform bagging at every k iteration\n",
        "\n",
        "        'max_depth'        : Integer(1, 50), # Max tree depth for base learners, -1 means no limit.\n",
        "\n",
        "        'learning_rate': Real(0.01, 1.0, 'log-uniform'), # Prob of interval 1 to 10 is same as 10 to 100\n",
        "                                                         # Equal prob of selection from 0.01 to 0.1, 0.1\n",
        "                                                         # to 1\n",
        "                                                         # In a loguniform distributon, log-transformed\n",
        "                                                         # random variable is uniformly distributed\n",
        "\n",
        "        'reg_lambda': Real(1e-9, 1000, 'log-uniform'),  # L2 regularization term on weights.\n",
        "        'reg_alpha':  Real(1e-9, 1.0, 'log-uniform'),   #  L1 regularization\n",
        "\n",
        "        'scale_pos_weight': Real(1, 10),    # default: 1\n",
        "                                            # used only in binary application\n",
        "                                            # How much more importance should be given to binary\n",
        "                                            # weight of labels with positive class\n",
        "\n",
        "        #-----***** Not understood **** -----\n",
        "\n",
        "        'max_bin': Integer(100, 1000),      # max number of bins that feature\n",
        "                                            #  values will be bucketed in\n",
        "                                            # small number of bins may reduce\n",
        "                                            # training accuracy but may increase\n",
        "                                            # general power (deal with over-fitting)\n",
        "\n",
        "        'min_child_weight':  Real(1, 10),   # Deals with overfitting\n",
        "\n",
        "        'subsample_for_bin': Integer(100000, 500000)  #  Number of samples for constructing bins(default: 200000)\n",
        "                                               # setting this to larger value will give better training\n",
        "                                               #  result, but will increase data loading time\n",
        "           }\n",
        "\n"
      ],
      "execution_count": 34,
      "outputs": []
    },
    {
      "cell_type": "markdown",
      "metadata": {
        "id": "Q-2bp6_v6Bek"
      },
      "source": [
        "#### Cross validation strategy"
      ]
    },
    {
      "cell_type": "markdown",
      "metadata": {
        "id": "n_PnKV6G6EO0"
      },
      "source": [
        "![image.png](data:image/png;base64,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)"
      ]
    },
    {
      "cell_type": "code",
      "metadata": {
        "colab": {
          "base_uri": "https://localhost:8080/",
          "height": 110
        },
        "id": "FCCDwa6z2sPj",
        "outputId": "26f47eeb-f8ac-47d5-96e4-364d030b4d2c"
      },
      "source": [
        "# 5.2 Cross validation strategy for the modeler\n",
        "#      Perform startified k-fold cross-validation\n",
        "#      There is also RepeatedStratifiedKFold() class\n",
        "#      that will repeat startified k-fold N-number\n",
        "#      of times\n",
        "#      Instantiate cross-vlidation object\n",
        "\"\"\"\n",
        "Examples of Cross-validation strategies:\n",
        "    i)   Leave one out  : Very time consuming\n",
        "    ii)  Leave P out    : For example, leave 2 out\n",
        "    iii) kfold          : k-equal random folds\n",
        "    iv)  StratifiedKFold : kfolds + stratification\n",
        "    v)   ShuffleSplit  => Generate n-numbers of userdefined pairs\n",
        "                          of (train,test). For examples, in each\n",
        "                          (train,test) pair, let number of rows\n",
        "                          of 'test' data be 30% of train data\n",
        "\n",
        "\"\"\"\n",
        "\n",
        "cvStrategy = StratifiedKFold(\n",
        "                             n_splits=3,\n",
        "                             shuffle=True,\n",
        "                             random_state=42\n",
        "                            )"
      ],
      "execution_count": 35,
      "outputs": [
        {
          "output_type": "execute_result",
          "data": {
            "application/vnd.google.colaboratory.intrinsic+json": {
              "type": "string"
            },
            "text/plain": [
              "\"\\nExamples of Cross-validation strategies:\\n    i)   Leave one out  : Very time consuming\\n    ii)  Leave P out    : For example, leave 2 out\\n    iii) kfold          : k-equal random folds\\n    iv)  StratifiedKFold : kfolds + stratification\\n    v)   ShuffleSplit  => Generate n-numbers of userdefined pairs\\n                          of (train,test). For examples, in each\\n                          (train,test) pair, let number of rows\\n                          of 'test' data be 30% of train data\\n\\n\""
            ]
          },
          "metadata": {
            "tags": []
          },
          "execution_count": 35
        }
      ]
    },
    {
      "cell_type": "markdown",
      "metadata": {
        "id": "83_tkl2a55gH"
      },
      "source": [
        "#### Bayes tuner object"
      ]
    },
    {
      "cell_type": "code",
      "metadata": {
        "id": "oM_1l4jF2u6A"
      },
      "source": [
        "# 5.3 Bayesian object instantiation\n",
        "#     For API, refer: https://scikit-optimize.github.io/#skopt.BayesSearchCV\n",
        "#     For example: https://scikit-optimize.github.io/stable/modules/generated/skopt.BayesSearchCV.html\n",
        "\n",
        "start = time.time()\n",
        "bayes_cv_tuner = BayesSearchCV(\n",
        "                              estimator = model_lgb,    # rf, lgb, xgb, nn , pipeline etc--Black box\n",
        "                              search_spaces = params,  # Specify params as required by the estimator\n",
        "                              scoring = 'roc_auc',  # Input to Bayes function\n",
        "                                                    # modeler should return this\n",
        "                                                    # peformence metric\n",
        "                              cv = cvStrategy,      # Optional. Determines the cross-validation splitting strategy.\n",
        "                                                    #           Can be cross-validation generator or an iterable,\n",
        "                                                    #           Possible inputs for cv are: - None, to use the default 3-fold cv,\n",
        "                                                    #           - integer, to specify the number of folds in a (Stratified)KFold,\n",
        "                                                    #           - An object to be used as a cross-validation generator.\n",
        "                              n_jobs = 2,           # Start two parallel threads for processing\n",
        "                              n_iter = 10,        # How many times to look for parameter sets\n",
        "                              verbose = 1,\n",
        "                              refit = True,       #  Refit the best estimator with the entire dataset\n",
        "                              random_state = 42\n",
        "                               )\n",
        "end = time.time()\n",
        "(end-start)/60"
      ],
      "execution_count": 36,
      "outputs": []
    },
    {
      "cell_type": "markdown",
      "metadata": {
        "id": "v8j5B089506S"
      },
      "source": [
        "#### Begin tuning"
      ]
    },
    {
      "cell_type": "code",
      "metadata": {
        "colab": {
          "base_uri": "https://localhost:8080/"
        },
        "id": "tSylYoba2y6L",
        "outputId": "45395827-c3ac-4157-a1bf-a45d191bf69a"
      },
      "source": [
        "# 5.4 Start learning using Bayes tuner\n",
        "\n",
        "start = time.time()\n",
        "result = bayes_cv_tuner.fit(\n",
        "                            train_x,       # Note that we use normal train data\n",
        "                            train_y       #  rather than lgb train-data matrix\n",
        "                           #callback=status_print\n",
        "                           )\n",
        "\n",
        "end = time.time()\n",
        "(end - start)/60\n"
      ],
      "execution_count": 38,
      "outputs": [
        {
          "output_type": "stream",
          "text": [
            "Fitting 3 folds for each of 1 candidates, totalling 3 fits\n"
          ],
          "name": "stdout"
        },
        {
          "output_type": "stream",
          "text": [
            "[Parallel(n_jobs=2)]: Using backend LokyBackend with 2 concurrent workers.\n",
            "[Parallel(n_jobs=2)]: Done   3 out of   3 | elapsed:   44.3s finished\n",
            "[Parallel(n_jobs=2)]: Using backend LokyBackend with 2 concurrent workers.\n"
          ],
          "name": "stderr"
        },
        {
          "output_type": "stream",
          "text": [
            "Fitting 3 folds for each of 1 candidates, totalling 3 fits\n"
          ],
          "name": "stdout"
        },
        {
          "output_type": "stream",
          "text": [
            "[Parallel(n_jobs=2)]: Done   3 out of   3 | elapsed:    8.7s finished\n",
            "[Parallel(n_jobs=2)]: Using backend LokyBackend with 2 concurrent workers.\n"
          ],
          "name": "stderr"
        },
        {
          "output_type": "stream",
          "text": [
            "Fitting 3 folds for each of 1 candidates, totalling 3 fits\n"
          ],
          "name": "stdout"
        },
        {
          "output_type": "stream",
          "text": [
            "[Parallel(n_jobs=2)]: Done   3 out of   3 | elapsed:    9.3s finished\n",
            "[Parallel(n_jobs=2)]: Using backend LokyBackend with 2 concurrent workers.\n"
          ],
          "name": "stderr"
        },
        {
          "output_type": "stream",
          "text": [
            "Fitting 3 folds for each of 1 candidates, totalling 3 fits\n"
          ],
          "name": "stdout"
        },
        {
          "output_type": "stream",
          "text": [
            "[Parallel(n_jobs=2)]: Done   3 out of   3 | elapsed:    0.7s finished\n",
            "[Parallel(n_jobs=2)]: Using backend LokyBackend with 2 concurrent workers.\n"
          ],
          "name": "stderr"
        },
        {
          "output_type": "stream",
          "text": [
            "Fitting 3 folds for each of 1 candidates, totalling 3 fits\n"
          ],
          "name": "stdout"
        },
        {
          "output_type": "stream",
          "text": [
            "[Parallel(n_jobs=2)]: Done   3 out of   3 | elapsed:    8.0s finished\n",
            "[Parallel(n_jobs=2)]: Using backend LokyBackend with 2 concurrent workers.\n"
          ],
          "name": "stderr"
        },
        {
          "output_type": "stream",
          "text": [
            "Fitting 3 folds for each of 1 candidates, totalling 3 fits\n"
          ],
          "name": "stdout"
        },
        {
          "output_type": "stream",
          "text": [
            "[Parallel(n_jobs=2)]: Done   3 out of   3 | elapsed:    9.2s finished\n",
            "[Parallel(n_jobs=2)]: Using backend LokyBackend with 2 concurrent workers.\n"
          ],
          "name": "stderr"
        },
        {
          "output_type": "stream",
          "text": [
            "Fitting 3 folds for each of 1 candidates, totalling 3 fits\n"
          ],
          "name": "stdout"
        },
        {
          "output_type": "stream",
          "text": [
            "[Parallel(n_jobs=2)]: Done   3 out of   3 | elapsed:    9.3s finished\n",
            "[Parallel(n_jobs=2)]: Using backend LokyBackend with 2 concurrent workers.\n"
          ],
          "name": "stderr"
        },
        {
          "output_type": "stream",
          "text": [
            "Fitting 3 folds for each of 1 candidates, totalling 3 fits\n"
          ],
          "name": "stdout"
        },
        {
          "output_type": "stream",
          "text": [
            "[Parallel(n_jobs=2)]: Done   3 out of   3 | elapsed:    6.0s finished\n",
            "[Parallel(n_jobs=2)]: Using backend LokyBackend with 2 concurrent workers.\n"
          ],
          "name": "stderr"
        },
        {
          "output_type": "stream",
          "text": [
            "Fitting 3 folds for each of 1 candidates, totalling 3 fits\n"
          ],
          "name": "stdout"
        },
        {
          "output_type": "stream",
          "text": [
            "[Parallel(n_jobs=2)]: Done   3 out of   3 | elapsed:    0.2s finished\n"
          ],
          "name": "stderr"
        },
        {
          "output_type": "stream",
          "text": [
            "Fitting 3 folds for each of 1 candidates, totalling 3 fits\n"
          ],
          "name": "stdout"
        },
        {
          "output_type": "stream",
          "text": [
            "[Parallel(n_jobs=2)]: Using backend LokyBackend with 2 concurrent workers.\n",
            "[Parallel(n_jobs=2)]: Done   3 out of   3 | elapsed:    2.7s finished\n"
          ],
          "name": "stderr"
        },
        {
          "output_type": "stream",
          "text": [
            "[LightGBM] [Warning] bagging_fraction is set=0.9234158717004632, subsample=1.0 will be ignored. Current value: bagging_fraction=0.9234158717004632\n",
            "[LightGBM] [Warning] boosting is set=dart, boosting_type=gbdt will be ignored. Current value: boosting=dart\n",
            "[LightGBM] [Warning] feature_fraction is set=0.7994602362675662, colsample_bytree=1.0 will be ignored. Current value: feature_fraction=0.7994602362675662\n",
            "[LightGBM] [Warning] bagging_freq is set=8, subsample_freq=0 will be ignored. Current value: bagging_freq=8\n",
            "[LightGBM] [Warning] bagging_fraction is set=0.9234158717004632, subsample=1.0 will be ignored. Current value: bagging_fraction=0.9234158717004632\n",
            "[LightGBM] [Warning] boosting is set=dart, boosting_type=gbdt will be ignored. Current value: boosting=dart\n",
            "[LightGBM] [Warning] feature_fraction is set=0.7994602362675662, colsample_bytree=1.0 will be ignored. Current value: feature_fraction=0.7994602362675662\n",
            "[LightGBM] [Warning] bagging_freq is set=8, subsample_freq=0 will be ignored. Current value: bagging_freq=8\n",
            "[LightGBM] [Warning] Auto-choosing col-wise multi-threading, the overhead of testing was 0.001705 seconds.\n",
            "You can set `force_col_wise=true` to remove the overhead.\n"
          ],
          "name": "stdout"
        },
        {
          "output_type": "execute_result",
          "data": {
            "text/plain": [
              "1.7050672968228657"
            ]
          },
          "metadata": {
            "tags": []
          },
          "execution_count": 38
        }
      ]
    },
    {
      "cell_type": "markdown",
      "metadata": {
        "id": "Qd4ly49X5wmS"
      },
      "source": [
        "#### Results"
      ]
    },
    {
      "cell_type": "code",
      "metadata": {
        "id": "ylRwPe3-21Op"
      },
      "source": [
        "# 6.0 So what are the results?\n",
        "#      Use the following estimator in future\n",
        "#      What parameters the best estimator was using?\n",
        "\n",
        "best_params = pd.Series(bayes_cv_tuner.best_params_)\n",
        "print(best_params)\n",
        "\n",
        "# 6.1 Best auc score for the above estimator\n",
        "\n",
        "print(\"\\n\\nBest score: \", np.round(bayes_cv_tuner.best_score_, 4))\n"
      ],
      "execution_count": null,
      "outputs": []
    },
    {
      "cell_type": "code",
      "metadata": {
        "colab": {
          "base_uri": "https://localhost:8080/",
          "height": 418
        },
        "id": "sxdUqR6k25Jf",
        "outputId": "7eab9099-ac5e-44f5-e991-2ac5a01bf400"
      },
      "source": [
        "# 6.2 Summary of all models developed by Bayes process\n",
        "\n",
        "allModels_summary = pd.DataFrame(bayes_cv_tuner.cv_results_)\n",
        "allModels_summary.shape  # 50 X 26 ; 50 iterations\n",
        "\n",
        "# 17.3\n",
        "allModels_summary.head()"
      ],
      "execution_count": 40,
      "outputs": [
        {
          "output_type": "execute_result",
          "data": {
            "text/plain": [
              "(10, 26)"
            ]
          },
          "metadata": {
            "tags": []
          },
          "execution_count": 40
        },
        {
          "output_type": "execute_result",
          "data": {
            "text/html": [
              "<div>\n",
              "<style scoped>\n",
              "    .dataframe tbody tr th:only-of-type {\n",
              "        vertical-align: middle;\n",
              "    }\n",
              "\n",
              "    .dataframe tbody tr th {\n",
              "        vertical-align: top;\n",
              "    }\n",
              "\n",
              "    .dataframe thead th {\n",
              "        text-align: right;\n",
              "    }\n",
              "</style>\n",
              "<table border=\"1\" class=\"dataframe\">\n",
              "  <thead>\n",
              "    <tr style=\"text-align: right;\">\n",
              "      <th></th>\n",
              "      <th>split0_test_score</th>\n",
              "      <th>split1_test_score</th>\n",
              "      <th>split2_test_score</th>\n",
              "      <th>mean_test_score</th>\n",
              "      <th>std_test_score</th>\n",
              "      <th>rank_test_score</th>\n",
              "      <th>mean_fit_time</th>\n",
              "      <th>std_fit_time</th>\n",
              "      <th>mean_score_time</th>\n",
              "      <th>std_score_time</th>\n",
              "      <th>param_bagging_fraction</th>\n",
              "      <th>param_bagging_freq</th>\n",
              "      <th>param_boosting</th>\n",
              "      <th>param_feature_fraction</th>\n",
              "      <th>param_learning_rate</th>\n",
              "      <th>param_max_bin</th>\n",
              "      <th>param_max_depth</th>\n",
              "      <th>param_min_child_samples</th>\n",
              "      <th>param_min_child_weight</th>\n",
              "      <th>param_n_estimators</th>\n",
              "      <th>param_num_leaves</th>\n",
              "      <th>param_reg_alpha</th>\n",
              "      <th>param_reg_lambda</th>\n",
              "      <th>param_scale_pos_weight</th>\n",
              "      <th>param_subsample_for_bin</th>\n",
              "      <th>params</th>\n",
              "    </tr>\n",
              "  </thead>\n",
              "  <tbody>\n",
              "    <tr>\n",
              "      <th>0</th>\n",
              "      <td>0.988982</td>\n",
              "      <td>0.987655</td>\n",
              "      <td>0.987402</td>\n",
              "      <td>0.988013</td>\n",
              "      <td>0.000693</td>\n",
              "      <td>4</td>\n",
              "      <td>28.441240</td>\n",
              "      <td>19.930946</td>\n",
              "      <td>0.025239</td>\n",
              "      <td>0.008256</td>\n",
              "      <td>0.882021</td>\n",
              "      <td>8</td>\n",
              "      <td>gbdt</td>\n",
              "      <td>0.352640</td>\n",
              "      <td>0.218925</td>\n",
              "      <td>473</td>\n",
              "      <td>18</td>\n",
              "      <td>37</td>\n",
              "      <td>3.740170</td>\n",
              "      <td>82</td>\n",
              "      <td>27</td>\n",
              "      <td>1.385174e-08</td>\n",
              "      <td>1.370904e-07</td>\n",
              "      <td>6.688861</td>\n",
              "      <td>131156</td>\n",
              "      <td>{'bagging_fraction': 0.8820207917706628, 'bagg...</td>\n",
              "    </tr>\n",
              "    <tr>\n",
              "      <th>1</th>\n",
              "      <td>0.990606</td>\n",
              "      <td>0.987696</td>\n",
              "      <td>0.986857</td>\n",
              "      <td>0.988386</td>\n",
              "      <td>0.001607</td>\n",
              "      <td>2</td>\n",
              "      <td>5.657794</td>\n",
              "      <td>3.760303</td>\n",
              "      <td>0.024961</td>\n",
              "      <td>0.007852</td>\n",
              "      <td>0.967478</td>\n",
              "      <td>9</td>\n",
              "      <td>dart</td>\n",
              "      <td>0.860979</td>\n",
              "      <td>0.534879</td>\n",
              "      <td>156</td>\n",
              "      <td>8</td>\n",
              "      <td>18</td>\n",
              "      <td>6.721562</td>\n",
              "      <td>98</td>\n",
              "      <td>30</td>\n",
              "      <td>8.524050e-01</td>\n",
              "      <td>1.590337e+00</td>\n",
              "      <td>4.496724</td>\n",
              "      <td>342928</td>\n",
              "      <td>{'bagging_fraction': 0.9674776711106569, 'bagg...</td>\n",
              "    </tr>\n",
              "    <tr>\n",
              "      <th>2</th>\n",
              "      <td>0.979032</td>\n",
              "      <td>0.975995</td>\n",
              "      <td>0.978529</td>\n",
              "      <td>0.977852</td>\n",
              "      <td>0.001329</td>\n",
              "      <td>9</td>\n",
              "      <td>6.003815</td>\n",
              "      <td>3.912243</td>\n",
              "      <td>0.024276</td>\n",
              "      <td>0.007369</td>\n",
              "      <td>0.888967</td>\n",
              "      <td>9</td>\n",
              "      <td>dart</td>\n",
              "      <td>0.446666</td>\n",
              "      <td>0.023763</td>\n",
              "      <td>508</td>\n",
              "      <td>9</td>\n",
              "      <td>38</td>\n",
              "      <td>6.016064</td>\n",
              "      <td>99</td>\n",
              "      <td>33</td>\n",
              "      <td>2.711809e-06</td>\n",
              "      <td>2.367361e-07</td>\n",
              "      <td>5.585960</td>\n",
              "      <td>278139</td>\n",
              "      <td>{'bagging_fraction': 0.8889665024602303, 'bagg...</td>\n",
              "    </tr>\n",
              "    <tr>\n",
              "      <th>3</th>\n",
              "      <td>0.990094</td>\n",
              "      <td>0.986936</td>\n",
              "      <td>0.987576</td>\n",
              "      <td>0.988202</td>\n",
              "      <td>0.001363</td>\n",
              "      <td>3</td>\n",
              "      <td>0.356219</td>\n",
              "      <td>0.147289</td>\n",
              "      <td>0.019463</td>\n",
              "      <td>0.007358</td>\n",
              "      <td>0.962479</td>\n",
              "      <td>3</td>\n",
              "      <td>gbdt</td>\n",
              "      <td>0.742212</td>\n",
              "      <td>0.111200</td>\n",
              "      <td>186</td>\n",
              "      <td>38</td>\n",
              "      <td>44</td>\n",
              "      <td>9.207360</td>\n",
              "      <td>69</td>\n",
              "      <td>19</td>\n",
              "      <td>3.449623e-02</td>\n",
              "      <td>2.114410e-02</td>\n",
              "      <td>1.236578</td>\n",
              "      <td>485880</td>\n",
              "      <td>{'bagging_fraction': 0.9624791976714727, 'bagg...</td>\n",
              "    </tr>\n",
              "    <tr>\n",
              "      <th>4</th>\n",
              "      <td>0.989252</td>\n",
              "      <td>0.987627</td>\n",
              "      <td>0.985639</td>\n",
              "      <td>0.987506</td>\n",
              "      <td>0.001478</td>\n",
              "      <td>5</td>\n",
              "      <td>5.248043</td>\n",
              "      <td>3.533455</td>\n",
              "      <td>0.019700</td>\n",
              "      <td>0.006454</td>\n",
              "      <td>0.959911</td>\n",
              "      <td>5</td>\n",
              "      <td>gbdt</td>\n",
              "      <td>0.672571</td>\n",
              "      <td>0.642250</td>\n",
              "      <td>745</td>\n",
              "      <td>22</td>\n",
              "      <td>33</td>\n",
              "      <td>4.177755</td>\n",
              "      <td>83</td>\n",
              "      <td>26</td>\n",
              "      <td>8.740059e-02</td>\n",
              "      <td>1.165902e-06</td>\n",
              "      <td>3.383559</td>\n",
              "      <td>207155</td>\n",
              "      <td>{'bagging_fraction': 0.9599106883214347, 'bagg...</td>\n",
              "    </tr>\n",
              "  </tbody>\n",
              "</table>\n",
              "</div>"
            ],
            "text/plain": [
              "   split0_test_score  ...                                             params\n",
              "0           0.988982  ...  {'bagging_fraction': 0.8820207917706628, 'bagg...\n",
              "1           0.990606  ...  {'bagging_fraction': 0.9674776711106569, 'bagg...\n",
              "2           0.979032  ...  {'bagging_fraction': 0.8889665024602303, 'bagg...\n",
              "3           0.990094  ...  {'bagging_fraction': 0.9624791976714727, 'bagg...\n",
              "4           0.989252  ...  {'bagging_fraction': 0.9599106883214347, 'bagg...\n",
              "\n",
              "[5 rows x 26 columns]"
            ]
          },
          "metadata": {
            "tags": []
          },
          "execution_count": 40
        }
      ]
    },
    {
      "cell_type": "code",
      "metadata": {
        "id": "0dpfv7-b8X9w"
      },
      "source": [
        "####### I am done #############"
      ],
      "execution_count": null,
      "outputs": []
    }
  ]
}