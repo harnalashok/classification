{
  "nbformat": 4,
  "nbformat_minor": 0,
  "metadata": {
    "colab": {
      "name": "optuna_and_bayesian optimization.ipynb",
      "provenance": [],
      "collapsed_sections": [],
      "authorship_tag": "ABX9TyOExnVD0ig5Quosm8P1pEly",
      "include_colab_link": true
    },
    "kernelspec": {
      "name": "python3",
      "display_name": "Python 3"
    },
    "language_info": {
      "name": "python"
    }
  },
  "cells": [
    {
      "cell_type": "markdown",
      "metadata": {
        "id": "view-in-github",
        "colab_type": "text"
      },
      "source": [
        "<a href=\"https://colab.research.google.com/github/harnalashok/classification/blob/main/optuna_and_bayesian_optimization.ipynb\" target=\"_parent\"><img src=\"https://colab.research.google.com/assets/colab-badge.svg\" alt=\"Open In Colab\"/></a>"
      ]
    },
    {
      "cell_type": "code",
      "metadata": {
        "id": "gcQ9K-OqwRD5"
      },
      "source": [
        "# Last amended: 8th July, 2021\n",
        "# Myfolder: C:\\Users\\Administrator\\OneDrive\\Documents\\breast_cancer\n",
        "#\n",
        "# Ref: https://medium.com/optuna/lightgbm-tuner-new-optuna-integration-for-hyperparameter-optimization-8b7095e99258\n",
        "#      https://github.com/optuna/optuna/blob/master/examples/lightgbm_tuner_simple.py\n",
        "#\n",
        "# Objective:\n",
        "#           i) Learn to use automated tuning of lightgbm\n",
        "#          ii) Using optuna\n",
        "#         iii) Perform Bayesian optimization\n",
        "#\n",
        "# See also 'h2o_talkingData.ipynb' in folder:\n",
        "#   C:\\Users\\Administrator\\OneDrive\\Documents\\talkingdata"
      ],
      "execution_count": null,
      "outputs": []
    },
    {
      "cell_type": "code",
      "metadata": {
        "id": "7PTJLI1TwXpM"
      },
      "source": [
        "\"\"\"\n",
        "Optuna example that optimizes a classifier configuration\n",
        "for cancer dataset using LightGBM tuner.\n",
        "In this example, we optimize the validation log loss of\n",
        "cancer detection.\n",
        "\n",
        "\"\"\""
      ],
      "execution_count": null,
      "outputs": []
    },
    {
      "cell_type": "markdown",
      "metadata": {
        "id": "m7stik-g6oJM"
      },
      "source": [
        "### Install libraries"
      ]
    },
    {
      "cell_type": "code",
      "metadata": {
        "id": "3nrZkaz-yXdA",
        "colab": {
          "base_uri": "https://localhost:8080/",
          "height": 120
        },
        "outputId": "2c52d9cc-bbb1-402b-c43f-3baf7287eb52"
      },
      "source": [
        "# Downgrade sklearn\n",
        "# Higher version gives problem with BayesSearchCV\n",
        "conda install -c intel scikit-learn==0.23.2\n",
        "! pip install scikit-learn==0.23.2 \n",
        "import sklearn\n",
        "sklearn.__version__"
      ],
      "execution_count": 18,
      "outputs": [
        {
          "output_type": "stream",
          "text": [
            "Requirement already satisfied: scikit-learn==0.23.2 in /usr/local/lib/python3.7/dist-packages (0.23.2)\n",
            "Requirement already satisfied: scipy>=0.19.1 in /usr/local/lib/python3.7/dist-packages (from scikit-learn==0.23.2) (1.4.1)\n",
            "Requirement already satisfied: joblib>=0.11 in /usr/local/lib/python3.7/dist-packages (from scikit-learn==0.23.2) (1.0.1)\n",
            "Requirement already satisfied: numpy>=1.13.3 in /usr/local/lib/python3.7/dist-packages (from scikit-learn==0.23.2) (1.19.5)\n",
            "Requirement already satisfied: threadpoolctl>=2.0.0 in /usr/local/lib/python3.7/dist-packages (from scikit-learn==0.23.2) (2.1.0)\n"
          ],
          "name": "stdout"
        },
        {
          "output_type": "execute_result",
          "data": {
            "application/vnd.google.colaboratory.intrinsic+json": {
              "type": "string"
            },
            "text/plain": [
              "'0.23.2'"
            ]
          },
          "metadata": {
            "tags": []
          },
          "execution_count": 18
        }
      ]
    },
    {
      "cell_type": "code",
      "metadata": {
        "id": "YbcFRRTTwZPR",
        "outputId": "94aef071-c60f-4e8e-844a-5d0569fdbb09",
        "colab": {
          "base_uri": "https://localhost:8080/"
        }
      },
      "source": [
        "# 0.0 Optuna\n",
        "#     https://optuna.org/\n",
        "! pip install optuna"
      ],
      "execution_count": 19,
      "outputs": [
        {
          "output_type": "stream",
          "text": [
            "Requirement already satisfied: optuna in /usr/local/lib/python3.7/dist-packages (2.8.0)\n",
            "Requirement already satisfied: sqlalchemy>=1.1.0 in /usr/local/lib/python3.7/dist-packages (from optuna) (1.4.18)\n",
            "Requirement already satisfied: colorlog in /usr/local/lib/python3.7/dist-packages (from optuna) (5.0.1)\n",
            "Requirement already satisfied: cliff in /usr/local/lib/python3.7/dist-packages (from optuna) (3.8.0)\n",
            "Requirement already satisfied: packaging>=20.0 in /usr/local/lib/python3.7/dist-packages (from optuna) (20.9)\n",
            "Requirement already satisfied: scipy!=1.4.0 in /usr/local/lib/python3.7/dist-packages (from optuna) (1.4.1)\n",
            "Requirement already satisfied: numpy in /usr/local/lib/python3.7/dist-packages (from optuna) (1.19.5)\n",
            "Requirement already satisfied: cmaes>=0.8.2 in /usr/local/lib/python3.7/dist-packages (from optuna) (0.8.2)\n",
            "Requirement already satisfied: tqdm in /usr/local/lib/python3.7/dist-packages (from optuna) (4.41.1)\n",
            "Requirement already satisfied: alembic in /usr/local/lib/python3.7/dist-packages (from optuna) (1.6.5)\n",
            "Requirement already satisfied: greenlet!=0.4.17; python_version >= \"3\" in /usr/local/lib/python3.7/dist-packages (from sqlalchemy>=1.1.0->optuna) (1.1.0)\n",
            "Requirement already satisfied: importlib-metadata; python_version < \"3.8\" in /usr/local/lib/python3.7/dist-packages (from sqlalchemy>=1.1.0->optuna) (4.5.0)\n",
            "Requirement already satisfied: cmd2>=1.0.0 in /usr/local/lib/python3.7/dist-packages (from cliff->optuna) (2.1.2)\n",
            "Requirement already satisfied: stevedore>=2.0.1 in /usr/local/lib/python3.7/dist-packages (from cliff->optuna) (3.3.0)\n",
            "Requirement already satisfied: PrettyTable>=0.7.2 in /usr/local/lib/python3.7/dist-packages (from cliff->optuna) (2.1.0)\n",
            "Requirement already satisfied: PyYAML>=3.12 in /usr/local/lib/python3.7/dist-packages (from cliff->optuna) (3.13)\n",
            "Requirement already satisfied: pbr!=2.1.0,>=2.0.0 in /usr/local/lib/python3.7/dist-packages (from cliff->optuna) (5.6.0)\n",
            "Requirement already satisfied: pyparsing>=2.1.0 in /usr/local/lib/python3.7/dist-packages (from cliff->optuna) (2.4.7)\n",
            "Requirement already satisfied: python-dateutil in /usr/local/lib/python3.7/dist-packages (from alembic->optuna) (2.8.1)\n",
            "Requirement already satisfied: Mako in /usr/local/lib/python3.7/dist-packages (from alembic->optuna) (1.1.4)\n",
            "Requirement already satisfied: python-editor>=0.3 in /usr/local/lib/python3.7/dist-packages (from alembic->optuna) (1.0.4)\n",
            "Requirement already satisfied: typing-extensions>=3.6.4; python_version < \"3.8\" in /usr/local/lib/python3.7/dist-packages (from importlib-metadata; python_version < \"3.8\"->sqlalchemy>=1.1.0->optuna) (3.7.4.3)\n",
            "Requirement already satisfied: zipp>=0.5 in /usr/local/lib/python3.7/dist-packages (from importlib-metadata; python_version < \"3.8\"->sqlalchemy>=1.1.0->optuna) (3.4.1)\n",
            "Requirement already satisfied: pyperclip>=1.6 in /usr/local/lib/python3.7/dist-packages (from cmd2>=1.0.0->cliff->optuna) (1.8.2)\n",
            "Requirement already satisfied: wcwidth>=0.1.7 in /usr/local/lib/python3.7/dist-packages (from cmd2>=1.0.0->cliff->optuna) (0.2.5)\n",
            "Requirement already satisfied: attrs>=16.3.0 in /usr/local/lib/python3.7/dist-packages (from cmd2>=1.0.0->cliff->optuna) (21.2.0)\n",
            "Requirement already satisfied: colorama>=0.3.7 in /usr/local/lib/python3.7/dist-packages (from cmd2>=1.0.0->cliff->optuna) (0.4.4)\n",
            "Requirement already satisfied: six>=1.5 in /usr/local/lib/python3.7/dist-packages (from python-dateutil->alembic->optuna) (1.15.0)\n",
            "Requirement already satisfied: MarkupSafe>=0.9.2 in /usr/local/lib/python3.7/dist-packages (from Mako->alembic->optuna) (2.0.1)\n"
          ],
          "name": "stdout"
        }
      ]
    },
    {
      "cell_type": "code",
      "metadata": {
        "id": "fzZNaCAP1q4X",
        "outputId": "d7bc4d3b-3f11-4d6d-bfac-7d59273f6fd9",
        "colab": {
          "base_uri": "https://localhost:8080/"
        }
      },
      "source": [
        "# 0.1 sklearn optimizer\n",
        "# \n",
        "!pip install scikit-optimize\n",
        "!pip install 'scikit-optimize[plots]'"
      ],
      "execution_count": 20,
      "outputs": [
        {
          "output_type": "stream",
          "text": [
            "Requirement already satisfied: scikit-optimize in /usr/local/lib/python3.7/dist-packages (0.8.1)\n",
            "Requirement already satisfied: scipy>=0.19.1 in /usr/local/lib/python3.7/dist-packages (from scikit-optimize) (1.4.1)\n",
            "Requirement already satisfied: scikit-learn>=0.20.0 in /usr/local/lib/python3.7/dist-packages (from scikit-optimize) (0.23.2)\n",
            "Requirement already satisfied: joblib>=0.11 in /usr/local/lib/python3.7/dist-packages (from scikit-optimize) (1.0.1)\n",
            "Requirement already satisfied: numpy>=1.13.3 in /usr/local/lib/python3.7/dist-packages (from scikit-optimize) (1.19.5)\n",
            "Requirement already satisfied: pyaml>=16.9 in /usr/local/lib/python3.7/dist-packages (from scikit-optimize) (20.4.0)\n",
            "Requirement already satisfied: threadpoolctl>=2.0.0 in /usr/local/lib/python3.7/dist-packages (from scikit-learn>=0.20.0->scikit-optimize) (2.1.0)\n",
            "Requirement already satisfied: PyYAML in /usr/local/lib/python3.7/dist-packages (from pyaml>=16.9->scikit-optimize) (3.13)\n",
            "Requirement already satisfied: scikit-optimize[plots] in /usr/local/lib/python3.7/dist-packages (0.8.1)\n",
            "Requirement already satisfied: joblib>=0.11 in /usr/local/lib/python3.7/dist-packages (from scikit-optimize[plots]) (1.0.1)\n",
            "Requirement already satisfied: numpy>=1.13.3 in /usr/local/lib/python3.7/dist-packages (from scikit-optimize[plots]) (1.19.5)\n",
            "Requirement already satisfied: pyaml>=16.9 in /usr/local/lib/python3.7/dist-packages (from scikit-optimize[plots]) (20.4.0)\n",
            "Requirement already satisfied: scipy>=0.19.1 in /usr/local/lib/python3.7/dist-packages (from scikit-optimize[plots]) (1.4.1)\n",
            "Requirement already satisfied: scikit-learn>=0.20.0 in /usr/local/lib/python3.7/dist-packages (from scikit-optimize[plots]) (0.23.2)\n",
            "Requirement already satisfied: matplotlib>=2.0.0; extra == \"plots\" in /usr/local/lib/python3.7/dist-packages (from scikit-optimize[plots]) (3.2.2)\n",
            "Requirement already satisfied: PyYAML in /usr/local/lib/python3.7/dist-packages (from pyaml>=16.9->scikit-optimize[plots]) (3.13)\n",
            "Requirement already satisfied: threadpoolctl>=2.0.0 in /usr/local/lib/python3.7/dist-packages (from scikit-learn>=0.20.0->scikit-optimize[plots]) (2.1.0)\n",
            "Requirement already satisfied: python-dateutil>=2.1 in /usr/local/lib/python3.7/dist-packages (from matplotlib>=2.0.0; extra == \"plots\"->scikit-optimize[plots]) (2.8.1)\n",
            "Requirement already satisfied: cycler>=0.10 in /usr/local/lib/python3.7/dist-packages (from matplotlib>=2.0.0; extra == \"plots\"->scikit-optimize[plots]) (0.10.0)\n",
            "Requirement already satisfied: kiwisolver>=1.0.1 in /usr/local/lib/python3.7/dist-packages (from matplotlib>=2.0.0; extra == \"plots\"->scikit-optimize[plots]) (1.3.1)\n",
            "Requirement already satisfied: pyparsing!=2.0.4,!=2.1.2,!=2.1.6,>=2.0.1 in /usr/local/lib/python3.7/dist-packages (from matplotlib>=2.0.0; extra == \"plots\"->scikit-optimize[plots]) (2.4.7)\n",
            "Requirement already satisfied: six>=1.5 in /usr/local/lib/python3.7/dist-packages (from python-dateutil>=2.1->matplotlib>=2.0.0; extra == \"plots\"->scikit-optimize[plots]) (1.15.0)\n"
          ],
          "name": "stdout"
        }
      ]
    },
    {
      "cell_type": "code",
      "metadata": {
        "id": "AUrdExgY1uck",
        "outputId": "5fed7486-a563-4eb8-d4ce-960ecd5bab77",
        "colab": {
          "base_uri": "https://localhost:8080/",
          "height": 174
        }
      },
      "source": [
        "# 0.2 Lightgbm\n",
        "! pip install lightgbm --upgrade\n",
        "import lightgbm\n",
        "lightgbm.__version__"
      ],
      "execution_count": 21,
      "outputs": [
        {
          "output_type": "stream",
          "text": [
            "Requirement already up-to-date: lightgbm in /usr/local/lib/python3.7/dist-packages (3.2.1)\n",
            "Requirement already satisfied, skipping upgrade: wheel in /usr/local/lib/python3.7/dist-packages (from lightgbm) (0.36.2)\n",
            "Requirement already satisfied, skipping upgrade: scikit-learn!=0.22.0 in /usr/local/lib/python3.7/dist-packages (from lightgbm) (0.23.2)\n",
            "Requirement already satisfied, skipping upgrade: numpy in /usr/local/lib/python3.7/dist-packages (from lightgbm) (1.19.5)\n",
            "Requirement already satisfied, skipping upgrade: scipy in /usr/local/lib/python3.7/dist-packages (from lightgbm) (1.4.1)\n",
            "Requirement already satisfied, skipping upgrade: threadpoolctl>=2.0.0 in /usr/local/lib/python3.7/dist-packages (from scikit-learn!=0.22.0->lightgbm) (2.1.0)\n",
            "Requirement already satisfied, skipping upgrade: joblib>=0.11 in /usr/local/lib/python3.7/dist-packages (from scikit-learn!=0.22.0->lightgbm) (1.0.1)\n"
          ],
          "name": "stdout"
        },
        {
          "output_type": "execute_result",
          "data": {
            "application/vnd.google.colaboratory.intrinsic+json": {
              "type": "string"
            },
            "text/plain": [
              "'3.2.1'"
            ]
          },
          "metadata": {
            "tags": []
          },
          "execution_count": 21
        }
      ]
    },
    {
      "cell_type": "code",
      "metadata": {
        "id": "l29Rt56cwd-q"
      },
      "source": [
        "# 1.0 Call libraries\n",
        "import pandas as pd\n",
        "import numpy as np\n",
        "import sklearn.datasets\n",
        "from sklearn.datasets import make_classification\n",
        "from sklearn.metrics import accuracy_score\n",
        "from sklearn.model_selection import train_test_split\n",
        "\n",
        "# 1.1 Import optuna integration with lightgbm\n",
        "# Install as: conda install -c conda-forge optuna\n",
        "\n",
        "import optuna.integration.lightgbm as lgbm\n",
        "\n",
        "\n",
        "# 1.2  Return stratified folds. The folds are made by\n",
        "#      preserving the percentage of samples for each class.\n",
        "\n",
        "from sklearn.model_selection import StratifiedKFold\n",
        "from sklearn.metrics import auc, roc_curve\n",
        "\n",
        "# 1.3 ML - we will classify using lightgbm\n",
        "#          with stratified cross validation\n",
        "#      conda install -c conda-forge lightgbm \n",
        "import lightgbm as lgb\n",
        "\n",
        "# 1.4 OS related\n",
        "import os, time\n",
        "\n",
        "# 1.5 Bayes optimization--IInd method\n",
        "# SKOPT is a parameter-optimisation framewor\n",
        "#  Install skopt as:\n",
        "#     conda install -c conda-forge scikit-optimize\n",
        "\n",
        "\n",
        "from skopt import BayesSearchCV\n",
        "from skopt.space import Real, Categorical, Integer\n",
        "\n",
        "from sklearn.pipeline import Pipeline\n",
        "from sklearn.preprocessing import StandardScaler"
      ],
      "execution_count": 22,
      "outputs": []
    },
    {
      "cell_type": "code",
      "metadata": {
        "id": "YU53Wl2S0rHx"
      },
      "source": [
        "# 1.6\n",
        "from IPython.core.interactiveshell import InteractiveShell\n",
        "InteractiveShell.ast_node_interactivity = \"all\"\n"
      ],
      "execution_count": 23,
      "outputs": []
    },
    {
      "cell_type": "code",
      "metadata": {
        "id": "vfd3gJ7tx5Wp"
      },
      "source": [
        "# # 2.0 Get data and split it\n",
        "data,target = make_classification( n_samples = 10000,\n",
        "                          n_features = 20,\n",
        "                          n_informative = 10,\n",
        "                          n_redundant = 2,\n",
        "                          n_repeated = 3,\n",
        "                          n_classes = 2,\n",
        "                          flip_y = 0.01,\n",
        "                          shuffle = True)\n",
        "\n",
        "# 2.0.1\n",
        "train_x, val_x, train_y, val_y = train_test_split(data, target, test_size=0.25)"
      ],
      "execution_count": 24,
      "outputs": []
    },
    {
      "cell_type": "code",
      "metadata": {
        "id": "vOasDve-zYji"
      },
      "source": [
        "# 2.1 Transform train_x and val_x to lightgbm data-matricies\n",
        "\n",
        "dtrain = lgbm.Dataset(train_x, label=train_y)\n",
        "\n",
        "dval = lgbm.Dataset(val_x, label=val_y)"
      ],
      "execution_count": 25,
      "outputs": []
    },
    {
      "cell_type": "code",
      "metadata": {
        "id": "pcUeQ5ZyznNZ"
      },
      "source": [
        "# 3.0 Set fixed hyper-params\n",
        "params_fixed = {                           # Specify params that are fixed\n",
        "                 \"objective\": \"binary\",\n",
        "                 \"metric\": \"binary_logloss\",\n",
        "                 \"verbosity\": -1,\n",
        "                 \"boosting_type\": \"gbdt\",\n",
        "                }"
      ],
      "execution_count": 26,
      "outputs": []
    },
    {
      "cell_type": "code",
      "metadata": {
        "id": "3sTFJFQtzuHf",
        "outputId": "1e5d9d9d-1186-4004-df65-45c3e07b8f22",
        "colab": {
          "base_uri": "https://localhost:8080/"
        }
      },
      "source": [
        "# 3.1 Note that unlike in sklearn, here there is\n",
        "#     no instantiation of LightGBM model\n",
        "#     Start modeling as also tuning hyperparameters\n",
        "\n",
        "model = lgbm.train(\n",
        "                   params_fixed,               # Just fixed params only\n",
        "                   dtrain,                     # Dataset\n",
        "                   valid_sets=[dtrain, dval],  # Evaluate performance on these datasets\n",
        "                   verbose_eval=100,\n",
        "                   early_stopping_rounds=100,\n",
        "                   #categorical_features = [\"c0\", \"c7\"]\n",
        "                  )\n"
      ],
      "execution_count": 27,
      "outputs": [
        {
          "output_type": "stream",
          "text": [
            "\u001b[32m[I 2021-07-08 11:55:06,956]\u001b[0m A new study created in memory with name: no-name-1a97cfd3-56db-485e-a56c-a44d9f238677\u001b[0m\n",
            "feature_fraction, val_score: inf:   0%|          | 0/7 [00:00<?, ?it/s]"
          ],
          "name": "stderr"
        },
        {
          "output_type": "stream",
          "text": [
            "Training until validation scores don't improve for 100 rounds\n",
            "[100]\tvalid_0's binary_logloss: 0.0568924\tvalid_1's binary_logloss: 0.170773\n",
            "[200]\tvalid_0's binary_logloss: 0.0169738\tvalid_1's binary_logloss: 0.170037\n"
          ],
          "name": "stdout"
        },
        {
          "output_type": "stream",
          "text": [
            "feature_fraction, val_score: 0.168536:  14%|#4        | 1/7 [00:01<00:07,  1.25s/it]\u001b[32m[I 2021-07-08 11:55:08,222]\u001b[0m Trial 0 finished with value: 0.16853562906693267 and parameters: {'feature_fraction': 0.8}. Best is trial 0 with value: 0.16853562906693267.\u001b[0m\n",
            "feature_fraction, val_score: 0.168536:  14%|#4        | 1/7 [00:01<00:07,  1.25s/it]"
          ],
          "name": "stderr"
        },
        {
          "output_type": "stream",
          "text": [
            "Early stopping, best iteration is:\n",
            "[157]\tvalid_0's binary_logloss: 0.0280817\tvalid_1's binary_logloss: 0.168536\n",
            "Training until validation scores don't improve for 100 rounds\n",
            "[100]\tvalid_0's binary_logloss: 0.0530946\tvalid_1's binary_logloss: 0.16755\n",
            "[200]\tvalid_0's binary_logloss: 0.0153786\tvalid_1's binary_logloss: 0.168119\n"
          ],
          "name": "stdout"
        },
        {
          "output_type": "stream",
          "text": [
            "feature_fraction, val_score: 0.164654:  29%|##8       | 2/7 [00:02<00:06,  1.27s/it]\u001b[32m[I 2021-07-08 11:55:09,514]\u001b[0m Trial 1 finished with value: 0.16465421765249585 and parameters: {'feature_fraction': 1.0}. Best is trial 1 with value: 0.16465421765249585.\u001b[0m\n",
            "feature_fraction, val_score: 0.164654:  29%|##8       | 2/7 [00:02<00:06,  1.27s/it]"
          ],
          "name": "stderr"
        },
        {
          "output_type": "stream",
          "text": [
            "Early stopping, best iteration is:\n",
            "[138]\tvalid_0's binary_logloss: 0.0334067\tvalid_1's binary_logloss: 0.164654\n",
            "Training until validation scores don't improve for 100 rounds\n",
            "[100]\tvalid_0's binary_logloss: 0.0545368\tvalid_1's binary_logloss: 0.168682\n"
          ],
          "name": "stdout"
        },
        {
          "output_type": "stream",
          "text": [
            "feature_fraction, val_score: 0.164654:  43%|####2     | 3/7 [00:03<00:04,  1.21s/it]\u001b[32m[I 2021-07-08 11:55:10,587]\u001b[0m Trial 2 finished with value: 0.16783007535429328 and parameters: {'feature_fraction': 0.8999999999999999}. Best is trial 1 with value: 0.16465421765249585.\u001b[0m\n",
            "feature_fraction, val_score: 0.164654:  43%|####2     | 3/7 [00:03<00:04,  1.21s/it]"
          ],
          "name": "stderr"
        },
        {
          "output_type": "stream",
          "text": [
            "[200]\tvalid_0's binary_logloss: 0.0157384\tvalid_1's binary_logloss: 0.172265\n",
            "Early stopping, best iteration is:\n",
            "[111]\tvalid_0's binary_logloss: 0.0472145\tvalid_1's binary_logloss: 0.16783\n",
            "Training until validation scores don't improve for 100 rounds\n",
            "[100]\tvalid_0's binary_logloss: 0.0636866\tvalid_1's binary_logloss: 0.175667\n",
            "[200]\tvalid_0's binary_logloss: 0.0192202\tvalid_1's binary_logloss: 0.170951\n"
          ],
          "name": "stdout"
        },
        {
          "output_type": "stream",
          "text": [
            "feature_fraction, val_score: 0.164654:  57%|#####7    | 4/7 [00:04<00:03,  1.20s/it]\u001b[32m[I 2021-07-08 11:55:11,775]\u001b[0m Trial 3 finished with value: 0.17018157556052907 and parameters: {'feature_fraction': 0.6}. Best is trial 1 with value: 0.16465421765249585.\u001b[0m\n",
            "feature_fraction, val_score: 0.164654:  57%|#####7    | 4/7 [00:04<00:03,  1.20s/it]"
          ],
          "name": "stderr"
        },
        {
          "output_type": "stream",
          "text": [
            "Early stopping, best iteration is:\n",
            "[195]\tvalid_0's binary_logloss: 0.0203034\tvalid_1's binary_logloss: 0.170182\n",
            "Training until validation scores don't improve for 100 rounds\n",
            "[100]\tvalid_0's binary_logloss: 0.0689838\tvalid_1's binary_logloss: 0.174017\n",
            "[200]\tvalid_0's binary_logloss: 0.0223302\tvalid_1's binary_logloss: 0.172254\n",
            "Early stopping, best iteration is:\n",
            "[157]\tvalid_0's binary_logloss: 0.0354445\tvalid_1's binary_logloss: 0.170544\n"
          ],
          "name": "stdout"
        },
        {
          "output_type": "stream",
          "text": [
            "feature_fraction, val_score: 0.164654:  71%|#######1  | 5/7 [00:05<00:02,  1.13s/it]\u001b[32m[I 2021-07-08 11:55:12,756]\u001b[0m Trial 4 finished with value: 0.17054414529805248 and parameters: {'feature_fraction': 0.5}. Best is trial 1 with value: 0.16465421765249585.\u001b[0m\n",
            "feature_fraction, val_score: 0.164654:  71%|#######1  | 5/7 [00:05<00:02,  1.13s/it]"
          ],
          "name": "stderr"
        },
        {
          "output_type": "stream",
          "text": [
            "Training until validation scores don't improve for 100 rounds\n",
            "[100]\tvalid_0's binary_logloss: 0.0579577\tvalid_1's binary_logloss: 0.171431\n",
            "[200]\tvalid_0's binary_logloss: 0.0176041\tvalid_1's binary_logloss: 0.168904\n"
          ],
          "name": "stdout"
        },
        {
          "output_type": "stream",
          "text": [
            "feature_fraction, val_score: 0.164654:  86%|########5 | 6/7 [00:06<00:01,  1.15s/it]\u001b[32m[I 2021-07-08 11:55:13,949]\u001b[0m Trial 5 finished with value: 0.16658029305387922 and parameters: {'feature_fraction': 0.7}. Best is trial 1 with value: 0.16465421765249585.\u001b[0m\n",
            "feature_fraction, val_score: 0.164654:  86%|########5 | 6/7 [00:06<00:01,  1.15s/it]"
          ],
          "name": "stderr"
        },
        {
          "output_type": "stream",
          "text": [
            "Early stopping, best iteration is:\n",
            "[163]\tvalid_0's binary_logloss: 0.0269221\tvalid_1's binary_logloss: 0.16658\n",
            "Training until validation scores don't improve for 100 rounds\n",
            "[100]\tvalid_0's binary_logloss: 0.0779442\tvalid_1's binary_logloss: 0.178162\n",
            "[200]\tvalid_0's binary_logloss: 0.0261468\tvalid_1's binary_logloss: 0.173023\n"
          ],
          "name": "stdout"
        },
        {
          "output_type": "stream",
          "text": [
            "feature_fraction, val_score: 0.164654: 100%|##########| 7/7 [00:08<00:00,  1.12s/it]\u001b[32m[I 2021-07-08 11:55:14,985]\u001b[0m Trial 6 finished with value: 0.17197005841982763 and parameters: {'feature_fraction': 0.4}. Best is trial 1 with value: 0.16465421765249585.\u001b[0m\n",
            "feature_fraction, val_score: 0.164654: 100%|##########| 7/7 [00:08<00:00,  1.15s/it]\n",
            "num_leaves, val_score: 0.164654:   0%|          | 0/20 [00:00<?, ?it/s]"
          ],
          "name": "stderr"
        },
        {
          "output_type": "stream",
          "text": [
            "[300]\tvalid_0's binary_logloss: 0.00977079\tvalid_1's binary_logloss: 0.182603\n",
            "Early stopping, best iteration is:\n",
            "[210]\tvalid_0's binary_logloss: 0.0235545\tvalid_1's binary_logloss: 0.17197\n",
            "Training until validation scores don't improve for 100 rounds\n",
            "[100]\tvalid_0's binary_logloss: 0.00440891\tvalid_1's binary_logloss: 0.178052\n"
          ],
          "name": "stdout"
        },
        {
          "output_type": "stream",
          "text": [
            "num_leaves, val_score: 0.164654:   5%|5         | 1/20 [00:02<00:38,  2.03s/it]\u001b[32m[I 2021-07-08 11:55:17,034]\u001b[0m Trial 7 finished with value: 0.17021903106266295 and parameters: {'num_leaves': 104}. Best is trial 7 with value: 0.17021903106266295.\u001b[0m\n",
            "num_leaves, val_score: 0.164654:   5%|5         | 1/20 [00:02<00:38,  2.03s/it]"
          ],
          "name": "stderr"
        },
        {
          "output_type": "stream",
          "text": [
            "Early stopping, best iteration is:\n",
            "[66]\tvalid_0's binary_logloss: 0.0181216\tvalid_1's binary_logloss: 0.170219\n",
            "Training until validation scores don't improve for 100 rounds\n",
            "[100]\tvalid_0's binary_logloss: 0.00271529\tvalid_1's binary_logloss: 0.187876\n"
          ],
          "name": "stdout"
        },
        {
          "output_type": "stream",
          "text": [
            "num_leaves, val_score: 0.164654:  10%|#         | 2/20 [00:04<00:37,  2.08s/it]\u001b[32m[I 2021-07-08 11:55:19,223]\u001b[0m Trial 8 finished with value: 0.17096874286549388 and parameters: {'num_leaves': 128}. Best is trial 7 with value: 0.17021903106266295.\u001b[0m\n",
            "num_leaves, val_score: 0.164654:  10%|#         | 2/20 [00:04<00:37,  2.08s/it]"
          ],
          "name": "stderr"
        },
        {
          "output_type": "stream",
          "text": [
            "Early stopping, best iteration is:\n",
            "[53]\tvalid_0's binary_logloss: 0.0265069\tvalid_1's binary_logloss: 0.170969\n",
            "Training until validation scores don't improve for 100 rounds\n",
            "[100]\tvalid_0's binary_logloss: 0.00164462\tvalid_1's binary_logloss: 0.205119\n"
          ],
          "name": "stdout"
        },
        {
          "output_type": "stream",
          "text": [
            "num_leaves, val_score: 0.164654:  15%|#5        | 3/20 [00:07<00:41,  2.44s/it]\u001b[32m[I 2021-07-08 11:55:22,518]\u001b[0m Trial 9 finished with value: 0.17433820991472584 and parameters: {'num_leaves': 231}. Best is trial 7 with value: 0.17021903106266295.\u001b[0m\n",
            "num_leaves, val_score: 0.164654:  15%|#5        | 3/20 [00:07<00:41,  2.44s/it]"
          ],
          "name": "stderr"
        },
        {
          "output_type": "stream",
          "text": [
            "Early stopping, best iteration is:\n",
            "[56]\tvalid_0's binary_logloss: 0.0189414\tvalid_1's binary_logloss: 0.174338\n",
            "Training until validation scores don't improve for 100 rounds\n",
            "[100]\tvalid_0's binary_logloss: 0.0107728\tvalid_1's binary_logloss: 0.172687\n"
          ],
          "name": "stdout"
        },
        {
          "output_type": "stream",
          "text": [
            "num_leaves, val_score: 0.164654:  20%|##        | 4/20 [00:09<00:35,  2.23s/it]\u001b[32m[I 2021-07-08 11:55:24,258]\u001b[0m Trial 10 finished with value: 0.1685963764577486 and parameters: {'num_leaves': 72}. Best is trial 10 with value: 0.1685963764577486.\u001b[0m\n",
            "num_leaves, val_score: 0.164654:  20%|##        | 4/20 [00:09<00:35,  2.23s/it]"
          ],
          "name": "stderr"
        },
        {
          "output_type": "stream",
          "text": [
            "Early stopping, best iteration is:\n",
            "[81]\tvalid_0's binary_logloss: 0.019578\tvalid_1's binary_logloss: 0.168596\n",
            "Training until validation scores don't improve for 100 rounds\n",
            "[100]\tvalid_0's binary_logloss: 0.0120522\tvalid_1's binary_logloss: 0.169418\n"
          ],
          "name": "stdout"
        },
        {
          "output_type": "stream",
          "text": [
            "num_leaves, val_score: 0.164654:  25%|##5       | 5/20 [00:10<00:30,  2.06s/it]\u001b[32m[I 2021-07-08 11:55:25,911]\u001b[0m Trial 11 finished with value: 0.16705032887766558 and parameters: {'num_leaves': 69}. Best is trial 11 with value: 0.16705032887766558.\u001b[0m\n",
            "num_leaves, val_score: 0.164654:  25%|##5       | 5/20 [00:10<00:30,  2.06s/it]"
          ],
          "name": "stderr"
        },
        {
          "output_type": "stream",
          "text": [
            "Early stopping, best iteration is:\n",
            "[69]\tvalid_0's binary_logloss: 0.0301225\tvalid_1's binary_logloss: 0.16705\n",
            "Training until validation scores don't improve for 100 rounds\n",
            "[100]\tvalid_0's binary_logloss: 0.00237127\tvalid_1's binary_logloss: 0.196503\n"
          ],
          "name": "stdout"
        },
        {
          "output_type": "stream",
          "text": [
            "num_leaves, val_score: 0.164654:  30%|###       | 6/20 [00:13<00:29,  2.11s/it]\u001b[32m[I 2021-07-08 11:55:28,156]\u001b[0m Trial 12 finished with value: 0.17562954810440923 and parameters: {'num_leaves': 137}. Best is trial 11 with value: 0.16705032887766558.\u001b[0m\n",
            "num_leaves, val_score: 0.164654:  30%|###       | 6/20 [00:13<00:29,  2.11s/it]"
          ],
          "name": "stderr"
        },
        {
          "output_type": "stream",
          "text": [
            "Early stopping, best iteration is:\n",
            "[52]\tvalid_0's binary_logloss: 0.0262541\tvalid_1's binary_logloss: 0.17563\n",
            "Training until validation scores don't improve for 100 rounds\n",
            "[100]\tvalid_0's binary_logloss: 0.00977201\tvalid_1's binary_logloss: 0.168525\n"
          ],
          "name": "stdout"
        },
        {
          "output_type": "stream",
          "text": [
            "num_leaves, val_score: 0.164654:  35%|###5      | 7/20 [00:14<00:26,  2.01s/it]\u001b[32m[I 2021-07-08 11:55:29,907]\u001b[0m Trial 13 finished with value: 0.16489803585414917 and parameters: {'num_leaves': 74}. Best is trial 13 with value: 0.16489803585414917.\u001b[0m\n",
            "num_leaves, val_score: 0.164654:  35%|###5      | 7/20 [00:14<00:26,  2.01s/it]"
          ],
          "name": "stderr"
        },
        {
          "output_type": "stream",
          "text": [
            "Early stopping, best iteration is:\n",
            "[80]\tvalid_0's binary_logloss: 0.018645\tvalid_1's binary_logloss: 0.164898\n",
            "Training until validation scores don't improve for 100 rounds\n",
            "[100]\tvalid_0's binary_logloss: 0.0158799\tvalid_1's binary_logloss: 0.169574\n"
          ],
          "name": "stdout"
        },
        {
          "output_type": "stream",
          "text": [
            "num_leaves, val_score: 0.164654:  40%|####      | 8/20 [00:16<00:22,  1.88s/it]\u001b[32m[I 2021-07-08 11:55:31,482]\u001b[0m Trial 14 finished with value: 0.16596005120486007 and parameters: {'num_leaves': 60}. Best is trial 13 with value: 0.16489803585414917.\u001b[0m\n",
            "num_leaves, val_score: 0.164654:  40%|####      | 8/20 [00:16<00:22,  1.88s/it]"
          ],
          "name": "stderr"
        },
        {
          "output_type": "stream",
          "text": [
            "Early stopping, best iteration is:\n",
            "[87]\tvalid_0's binary_logloss: 0.0219059\tvalid_1's binary_logloss: 0.16596\n",
            "Training until validation scores don't improve for 100 rounds\n",
            "[100]\tvalid_0's binary_logloss: 0.00523154\tvalid_1's binary_logloss: 0.183572\n"
          ],
          "name": "stdout"
        },
        {
          "output_type": "stream",
          "text": [
            "num_leaves, val_score: 0.164654:  45%|####5     | 9/20 [00:18<00:20,  1.91s/it]\u001b[32m[I 2021-07-08 11:55:33,465]\u001b[0m Trial 15 finished with value: 0.1710412047042833 and parameters: {'num_leaves': 97}. Best is trial 13 with value: 0.16489803585414917.\u001b[0m\n",
            "num_leaves, val_score: 0.164654:  45%|####5     | 9/20 [00:18<00:20,  1.91s/it]"
          ],
          "name": "stderr"
        },
        {
          "output_type": "stream",
          "text": [
            "Early stopping, best iteration is:\n",
            "[61]\tvalid_0's binary_logloss: 0.0249668\tvalid_1's binary_logloss: 0.171041\n",
            "Training until validation scores don't improve for 100 rounds\n",
            "[100]\tvalid_0's binary_logloss: 0.00180459\tvalid_1's binary_logloss: 0.197418\n"
          ],
          "name": "stdout"
        },
        {
          "output_type": "stream",
          "text": [
            "num_leaves, val_score: 0.164654:  50%|#####     | 10/20 [00:20<00:20,  2.09s/it]\u001b[32m[I 2021-07-08 11:55:35,995]\u001b[0m Trial 16 finished with value: 0.17010847495109865 and parameters: {'num_leaves': 164}. Best is trial 13 with value: 0.16489803585414917.\u001b[0m\n",
            "num_leaves, val_score: 0.164654:  50%|#####     | 10/20 [00:20<00:20,  2.09s/it]"
          ],
          "name": "stderr"
        },
        {
          "output_type": "stream",
          "text": [
            "Early stopping, best iteration is:\n",
            "[52]\tvalid_0's binary_logloss: 0.02446\tvalid_1's binary_logloss: 0.170108\n",
            "Training until validation scores don't improve for 100 rounds\n",
            "[100]\tvalid_0's binary_logloss: 0.0016395\tvalid_1's binary_logloss: 0.199118\n"
          ],
          "name": "stdout"
        },
        {
          "output_type": "stream",
          "text": [
            "num_leaves, val_score: 0.164654:  55%|#####5    | 11/20 [00:24<00:21,  2.38s/it]\u001b[32m[I 2021-07-08 11:55:39,052]\u001b[0m Trial 17 finished with value: 0.1738134027771659 and parameters: {'num_leaves': 196}. Best is trial 13 with value: 0.16489803585414917.\u001b[0m\n",
            "num_leaves, val_score: 0.164654:  55%|#####5    | 11/20 [00:24<00:21,  2.38s/it]"
          ],
          "name": "stderr"
        },
        {
          "output_type": "stream",
          "text": [
            "Early stopping, best iteration is:\n",
            "[58]\tvalid_0's binary_logloss: 0.0168625\tvalid_1's binary_logloss: 0.173813\n",
            "Training until validation scores don't improve for 100 rounds\n",
            "[100]\tvalid_0's binary_logloss: 0.181875\tvalid_1's binary_logloss: 0.224683\n",
            "[200]\tvalid_0's binary_logloss: 0.132381\tvalid_1's binary_logloss: 0.196342\n",
            "[300]\tvalid_0's binary_logloss: 0.102514\tvalid_1's binary_logloss: 0.185436\n",
            "[400]\tvalid_0's binary_logloss: 0.079901\tvalid_1's binary_logloss: 0.177778\n",
            "[500]\tvalid_0's binary_logloss: 0.0623771\tvalid_1's binary_logloss: 0.173702\n",
            "[600]\tvalid_0's binary_logloss: 0.0502206\tvalid_1's binary_logloss: 0.17239\n",
            "[700]\tvalid_0's binary_logloss: 0.0399868\tvalid_1's binary_logloss: 0.16994\n"
          ],
          "name": "stdout"
        },
        {
          "output_type": "stream",
          "text": [
            "num_leaves, val_score: 0.164654:  60%|######    | 12/20 [00:25<00:17,  2.20s/it]\u001b[32m[I 2021-07-08 11:55:40,824]\u001b[0m Trial 18 finished with value: 0.1688906436217458 and parameters: {'num_leaves': 7}. Best is trial 13 with value: 0.16489803585414917.\u001b[0m\n",
            "num_leaves, val_score: 0.164654:  60%|######    | 12/20 [00:25<00:17,  2.20s/it]"
          ],
          "name": "stderr"
        },
        {
          "output_type": "stream",
          "text": [
            "[800]\tvalid_0's binary_logloss: 0.0321168\tvalid_1's binary_logloss: 0.169963\n",
            "Early stopping, best iteration is:\n",
            "[733]\tvalid_0's binary_logloss: 0.0368297\tvalid_1's binary_logloss: 0.168891\n",
            "Training until validation scores don't improve for 100 rounds\n",
            "[100]\tvalid_0's binary_logloss: 0.138974\tvalid_1's binary_logloss: 0.197238\n",
            "[200]\tvalid_0's binary_logloss: 0.0891179\tvalid_1's binary_logloss: 0.179676\n",
            "[300]\tvalid_0's binary_logloss: 0.0596496\tvalid_1's binary_logloss: 0.17295\n",
            "[400]\tvalid_0's binary_logloss: 0.0408285\tvalid_1's binary_logloss: 0.171751\n",
            "Early stopping, best iteration is:\n",
            "[375]\tvalid_0's binary_logloss: 0.0451601\tvalid_1's binary_logloss: 0.170579\n"
          ],
          "name": "stdout"
        },
        {
          "output_type": "stream",
          "text": [
            "num_leaves, val_score: 0.164654:  65%|######5   | 13/20 [00:27<00:13,  1.93s/it]\u001b[32m[I 2021-07-08 11:55:42,117]\u001b[0m Trial 19 finished with value: 0.17057931461226467 and parameters: {'num_leaves': 11}. Best is trial 13 with value: 0.16489803585414917.\u001b[0m\n",
            "num_leaves, val_score: 0.164654:  65%|######5   | 13/20 [00:27<00:13,  1.93s/it]"
          ],
          "name": "stderr"
        },
        {
          "output_type": "stream",
          "text": [
            "Training until validation scores don't improve for 100 rounds\n",
            "[100]\tvalid_0's binary_logloss: 0.0356521\tvalid_1's binary_logloss: 0.17087\n"
          ],
          "name": "stdout"
        },
        {
          "output_type": "stream",
          "text": [
            "num_leaves, val_score: 0.164654:  70%|#######   | 14/20 [00:28<00:10,  1.80s/it]"
          ],
          "name": "stderr"
        },
        {
          "output_type": "stream",
          "text": [
            "[200]\tvalid_0's binary_logloss: 0.00690575\tvalid_1's binary_logloss: 0.176263\n",
            "Early stopping, best iteration is:\n",
            "[129]\tvalid_0's binary_logloss: 0.0221743\tvalid_1's binary_logloss: 0.169056\n"
          ],
          "name": "stdout"
        },
        {
          "output_type": "stream",
          "text": [
            "\u001b[32m[I 2021-07-08 11:55:43,617]\u001b[0m Trial 20 finished with value: 0.16905626434109725 and parameters: {'num_leaves': 40}. Best is trial 13 with value: 0.16489803585414917.\u001b[0m\n",
            "num_leaves, val_score: 0.164654:  70%|#######   | 14/20 [00:28<00:10,  1.80s/it]"
          ],
          "name": "stderr"
        },
        {
          "output_type": "stream",
          "text": [
            "Training until validation scores don't improve for 100 rounds\n",
            "[100]\tvalid_0's binary_logloss: 0.0281131\tvalid_1's binary_logloss: 0.168271\n"
          ],
          "name": "stdout"
        },
        {
          "output_type": "stream",
          "text": [
            "num_leaves, val_score: 0.164654:  75%|#######5  | 15/20 [00:29<00:08,  1.66s/it]\u001b[32m[I 2021-07-08 11:55:44,962]\u001b[0m Trial 21 finished with value: 0.1673788764912126 and parameters: {'num_leaves': 46}. Best is trial 13 with value: 0.16489803585414917.\u001b[0m\n",
            "num_leaves, val_score: 0.164654:  75%|#######5  | 15/20 [00:29<00:08,  1.66s/it]"
          ],
          "name": "stderr"
        },
        {
          "output_type": "stream",
          "text": [
            "Early stopping, best iteration is:\n",
            "[94]\tvalid_0's binary_logloss: 0.0319322\tvalid_1's binary_logloss: 0.167379\n",
            "Training until validation scores don't improve for 100 rounds\n",
            "[100]\tvalid_0's binary_logloss: 0.019287\tvalid_1's binary_logloss: 0.166953\n"
          ],
          "name": "stdout"
        },
        {
          "output_type": "stream",
          "text": [
            "num_leaves, val_score: 0.164654:  80%|########  | 16/20 [00:31<00:06,  1.61s/it]\u001b[32m[I 2021-07-08 11:55:46,452]\u001b[0m Trial 22 finished with value: 0.1661530996813903 and parameters: {'num_leaves': 55}. Best is trial 13 with value: 0.16489803585414917.\u001b[0m\n",
            "num_leaves, val_score: 0.164654:  80%|########  | 16/20 [00:31<00:06,  1.61s/it]"
          ],
          "name": "stderr"
        },
        {
          "output_type": "stream",
          "text": [
            "Early stopping, best iteration is:\n",
            "[87]\tvalid_0's binary_logloss: 0.0259429\tvalid_1's binary_logloss: 0.166153\n",
            "Training until validation scores don't improve for 100 rounds\n",
            "[100]\tvalid_0's binary_logloss: 0.0881637\tvalid_1's binary_logloss: 0.175905\n",
            "[200]\tvalid_0's binary_logloss: 0.0392835\tvalid_1's binary_logloss: 0.166431\n"
          ],
          "name": "stdout"
        },
        {
          "output_type": "stream",
          "text": [
            "num_leaves, val_score: 0.164654:  85%|########5 | 17/20 [00:32<00:04,  1.45s/it]\u001b[32m[I 2021-07-08 11:55:47,520]\u001b[0m Trial 23 finished with value: 0.16545281085170518 and parameters: {'num_leaves': 20}. Best is trial 13 with value: 0.16489803585414917.\u001b[0m\n",
            "num_leaves, val_score: 0.164654:  85%|########5 | 17/20 [00:32<00:04,  1.45s/it]"
          ],
          "name": "stderr"
        },
        {
          "output_type": "stream",
          "text": [
            "Early stopping, best iteration is:\n",
            "[174]\tvalid_0's binary_logloss: 0.047704\tvalid_1's binary_logloss: 0.165453\n",
            "Training until validation scores don't improve for 100 rounds\n",
            "[100]\tvalid_0's binary_logloss: 0.104379\tvalid_1's binary_logloss: 0.181778\n",
            "[200]\tvalid_0's binary_logloss: 0.054238\tvalid_1's binary_logloss: 0.174025\n",
            "[300]\tvalid_0's binary_logloss: 0.0285448\tvalid_1's binary_logloss: 0.170955\n"
          ],
          "name": "stdout"
        },
        {
          "output_type": "stream",
          "text": [
            "num_leaves, val_score: 0.164654:  90%|######### | 18/20 [00:33<00:02,  1.45s/it]\u001b[32m[I 2021-07-08 11:55:48,981]\u001b[0m Trial 24 finished with value: 0.169046554202418 and parameters: {'num_leaves': 17}. Best is trial 13 with value: 0.16489803585414917.\u001b[0m\n",
            "num_leaves, val_score: 0.164654:  90%|######### | 18/20 [00:33<00:02,  1.45s/it]"
          ],
          "name": "stderr"
        },
        {
          "output_type": "stream",
          "text": [
            "[400]\tvalid_0's binary_logloss: 0.0148546\tvalid_1's binary_logloss: 0.171163\n",
            "Early stopping, best iteration is:\n",
            "[327]\tvalid_0's binary_logloss: 0.0238361\tvalid_1's binary_logloss: 0.169047\n",
            "Training until validation scores don't improve for 100 rounds\n",
            "[100]\tvalid_0's binary_logloss: 0.00690887\tvalid_1's binary_logloss: 0.178476\n"
          ],
          "name": "stdout"
        },
        {
          "output_type": "stream",
          "text": [
            "num_leaves, val_score: 0.164654:  95%|#########5| 19/20 [00:35<00:01,  1.57s/it]\u001b[32m[I 2021-07-08 11:55:50,841]\u001b[0m Trial 25 finished with value: 0.16896888030994636 and parameters: {'num_leaves': 86}. Best is trial 13 with value: 0.16489803585414917.\u001b[0m\n",
            "num_leaves, val_score: 0.164654:  95%|#########5| 19/20 [00:35<00:01,  1.57s/it]"
          ],
          "name": "stderr"
        },
        {
          "output_type": "stream",
          "text": [
            "Early stopping, best iteration is:\n",
            "[70]\tvalid_0's binary_logloss: 0.0204649\tvalid_1's binary_logloss: 0.168969\n",
            "Training until validation scores don't improve for 100 rounds\n",
            "[100]\tvalid_0's binary_logloss: 0.0416161\tvalid_1's binary_logloss: 0.167318\n"
          ],
          "name": "stdout"
        },
        {
          "output_type": "stream",
          "text": [
            "num_leaves, val_score: 0.164654: 100%|##########| 20/20 [00:37<00:00,  1.46s/it]\u001b[32m[I 2021-07-08 11:55:52,050]\u001b[0m Trial 26 finished with value: 0.1661808663133873 and parameters: {'num_leaves': 36}. Best is trial 13 with value: 0.16489803585414917.\u001b[0m\n",
            "num_leaves, val_score: 0.164654: 100%|##########| 20/20 [00:37<00:00,  1.85s/it]\n",
            "bagging, val_score: 0.164654:   0%|          | 0/10 [00:00<?, ?it/s]"
          ],
          "name": "stderr"
        },
        {
          "output_type": "stream",
          "text": [
            "[200]\tvalid_0's binary_logloss: 0.00962081\tvalid_1's binary_logloss: 0.173849\n",
            "Early stopping, best iteration is:\n",
            "[107]\tvalid_0's binary_logloss: 0.0373751\tvalid_1's binary_logloss: 0.166181\n",
            "Training until validation scores don't improve for 100 rounds\n",
            "[100]\tvalid_0's binary_logloss: 0.0514038\tvalid_1's binary_logloss: 0.169617\n"
          ],
          "name": "stdout"
        },
        {
          "output_type": "stream",
          "text": [
            "bagging, val_score: 0.164654:  10%|#         | 1/10 [00:01<00:10,  1.14s/it]\u001b[32m[I 2021-07-08 11:55:53,206]\u001b[0m Trial 27 finished with value: 0.16885791506382955 and parameters: {'bagging_fraction': 0.5436724666297672, 'bagging_freq': 1}. Best is trial 27 with value: 0.16885791506382955.\u001b[0m\n",
            "bagging, val_score: 0.164654:  10%|#         | 1/10 [00:01<00:10,  1.14s/it]"
          ],
          "name": "stderr"
        },
        {
          "output_type": "stream",
          "text": [
            "[200]\tvalid_0's binary_logloss: 0.0135067\tvalid_1's binary_logloss: 0.177292\n",
            "Early stopping, best iteration is:\n",
            "[106]\tvalid_0's binary_logloss: 0.0468626\tvalid_1's binary_logloss: 0.168858\n",
            "Training until validation scores don't improve for 100 rounds\n",
            "[100]\tvalid_0's binary_logloss: 0.0561597\tvalid_1's binary_logloss: 0.170697\n",
            "[200]\tvalid_0's binary_logloss: 0.0154832\tvalid_1's binary_logloss: 0.171458\n",
            "Early stopping, best iteration is:\n",
            "[134]\tvalid_0's binary_logloss: 0.0352891\tvalid_1's binary_logloss: 0.166508\n"
          ],
          "name": "stdout"
        },
        {
          "output_type": "stream",
          "text": [
            "bagging, val_score: 0.164654:  20%|##        | 2/10 [00:02<00:09,  1.19s/it]\u001b[32m[I 2021-07-08 11:55:54,528]\u001b[0m Trial 28 finished with value: 0.16650764030978507 and parameters: {'bagging_fraction': 0.5132291938132683, 'bagging_freq': 6}. Best is trial 28 with value: 0.16650764030978507.\u001b[0m\n",
            "bagging, val_score: 0.164654:  20%|##        | 2/10 [00:02<00:09,  1.19s/it]"
          ],
          "name": "stderr"
        },
        {
          "output_type": "stream",
          "text": [
            "Training until validation scores don't improve for 100 rounds\n",
            "[100]\tvalid_0's binary_logloss: 0.0508023\tvalid_1's binary_logloss: 0.168022\n",
            "[200]\tvalid_0's binary_logloss: 0.0135763\tvalid_1's binary_logloss: 0.17221\n",
            "Early stopping, best iteration is:\n",
            "[134]\tvalid_0's binary_logloss: 0.0315551\tvalid_1's binary_logloss: 0.167382\n"
          ],
          "name": "stdout"
        },
        {
          "output_type": "stream",
          "text": [
            "bagging, val_score: 0.164654:  30%|###       | 3/10 [00:03<00:08,  1.24s/it]\u001b[32m[I 2021-07-08 11:55:55,868]\u001b[0m Trial 29 finished with value: 0.16738162071525411 and parameters: {'bagging_fraction': 0.7725709445115803, 'bagging_freq': 5}. Best is trial 28 with value: 0.16650764030978507.\u001b[0m\n",
            "bagging, val_score: 0.164654:  30%|###       | 3/10 [00:03<00:08,  1.24s/it]"
          ],
          "name": "stderr"
        },
        {
          "output_type": "stream",
          "text": [
            "Training until validation scores don't improve for 100 rounds\n",
            "[100]\tvalid_0's binary_logloss: 0.0526517\tvalid_1's binary_logloss: 0.172654\n"
          ],
          "name": "stdout"
        },
        {
          "output_type": "stream",
          "text": [
            "bagging, val_score: 0.164654:  40%|####      | 4/10 [00:05<00:07,  1.25s/it]\u001b[32m[I 2021-07-08 11:55:57,156]\u001b[0m Trial 30 finished with value: 0.16982904667934268 and parameters: {'bagging_fraction': 0.9750348304409797, 'bagging_freq': 7}. Best is trial 28 with value: 0.16650764030978507.\u001b[0m\n",
            "bagging, val_score: 0.164654:  40%|####      | 4/10 [00:05<00:07,  1.25s/it]"
          ],
          "name": "stderr"
        },
        {
          "output_type": "stream",
          "text": [
            "[200]\tvalid_0's binary_logloss: 0.015211\tvalid_1's binary_logloss: 0.173754\n",
            "Early stopping, best iteration is:\n",
            "[122]\tvalid_0's binary_logloss: 0.0400874\tvalid_1's binary_logloss: 0.169829\n",
            "Training until validation scores don't improve for 100 rounds\n",
            "[100]\tvalid_0's binary_logloss: 0.0531485\tvalid_1's binary_logloss: 0.17349\n"
          ],
          "name": "stdout"
        },
        {
          "output_type": "stream",
          "text": [
            "bagging, val_score: 0.164654:  50%|#####     | 5/10 [00:06<00:06,  1.25s/it]\u001b[32m[I 2021-07-08 11:55:58,384]\u001b[0m Trial 31 finished with value: 0.17268898444740663 and parameters: {'bagging_fraction': 0.5076969676783699, 'bagging_freq': 3}. Best is trial 28 with value: 0.16650764030978507.\u001b[0m\n",
            "bagging, val_score: 0.164654:  50%|#####     | 5/10 [00:06<00:06,  1.25s/it]"
          ],
          "name": "stderr"
        },
        {
          "output_type": "stream",
          "text": [
            "[200]\tvalid_0's binary_logloss: 0.0143836\tvalid_1's binary_logloss: 0.174855\n",
            "Early stopping, best iteration is:\n",
            "[109]\tvalid_0's binary_logloss: 0.0468871\tvalid_1's binary_logloss: 0.172689\n",
            "Training until validation scores don't improve for 100 rounds\n",
            "[100]\tvalid_0's binary_logloss: 0.0541996\tvalid_1's binary_logloss: 0.172897\n"
          ],
          "name": "stdout"
        },
        {
          "output_type": "stream",
          "text": [
            "bagging, val_score: 0.164654:  60%|######    | 6/10 [00:07<00:04,  1.21s/it]\u001b[32m[I 2021-07-08 11:55:59,524]\u001b[0m Trial 32 finished with value: 0.17280996908562474 and parameters: {'bagging_fraction': 0.47161241672032594, 'bagging_freq': 3}. Best is trial 28 with value: 0.16650764030978507.\u001b[0m\n",
            "bagging, val_score: 0.164654:  60%|######    | 6/10 [00:07<00:04,  1.21s/it]"
          ],
          "name": "stderr"
        },
        {
          "output_type": "stream",
          "text": [
            "[200]\tvalid_0's binary_logloss: 0.0150669\tvalid_1's binary_logloss: 0.182116\n",
            "Early stopping, best iteration is:\n",
            "[101]\tvalid_0's binary_logloss: 0.05358\tvalid_1's binary_logloss: 0.17281\n",
            "Training until validation scores don't improve for 100 rounds\n",
            "[100]\tvalid_0's binary_logloss: 0.0524263\tvalid_1's binary_logloss: 0.172315\n",
            "[200]\tvalid_0's binary_logloss: 0.0148849\tvalid_1's binary_logloss: 0.174196\n"
          ],
          "name": "stdout"
        },
        {
          "output_type": "stream",
          "text": [
            "bagging, val_score: 0.164654:  70%|#######   | 7/10 [00:08<00:03,  1.30s/it]\u001b[32m[I 2021-07-08 11:56:01,028]\u001b[0m Trial 33 finished with value: 0.17065453113752366 and parameters: {'bagging_fraction': 0.9521974687612067, 'bagging_freq': 7}. Best is trial 28 with value: 0.16650764030978507.\u001b[0m\n",
            "bagging, val_score: 0.164654:  70%|#######   | 7/10 [00:08<00:03,  1.30s/it]"
          ],
          "name": "stderr"
        },
        {
          "output_type": "stream",
          "text": [
            "Early stopping, best iteration is:\n",
            "[161]\tvalid_0's binary_logloss: 0.0239036\tvalid_1's binary_logloss: 0.170655\n",
            "Training until validation scores don't improve for 100 rounds\n",
            "[100]\tvalid_0's binary_logloss: 0.0578373\tvalid_1's binary_logloss: 0.17934\n",
            "[200]\tvalid_0's binary_logloss: 0.0163762\tvalid_1's binary_logloss: 0.178378\n"
          ],
          "name": "stdout"
        },
        {
          "output_type": "stream",
          "text": [
            "bagging, val_score: 0.164654:  80%|########  | 8/10 [00:10<00:02,  1.34s/it]\u001b[32m[I 2021-07-08 11:56:02,456]\u001b[0m Trial 34 finished with value: 0.173958096819208 and parameters: {'bagging_fraction': 0.4448294180004479, 'bagging_freq': 5}. Best is trial 28 with value: 0.16650764030978507.\u001b[0m\n",
            "bagging, val_score: 0.164654:  80%|########  | 8/10 [00:10<00:02,  1.34s/it]"
          ],
          "name": "stderr"
        },
        {
          "output_type": "stream",
          "text": [
            "Early stopping, best iteration is:\n",
            "[156]\tvalid_0's binary_logloss: 0.0272428\tvalid_1's binary_logloss: 0.173958\n",
            "Training until validation scores don't improve for 100 rounds\n",
            "[100]\tvalid_0's binary_logloss: 0.0519917\tvalid_1's binary_logloss: 0.164734\n",
            "[200]\tvalid_0's binary_logloss: 0.0133435\tvalid_1's binary_logloss: 0.167695\n"
          ],
          "name": "stdout"
        },
        {
          "output_type": "stream",
          "text": [
            "bagging, val_score: 0.162487:  90%|######### | 9/10 [00:11<00:01,  1.41s/it]\u001b[32m[I 2021-07-08 11:56:04,014]\u001b[0m Trial 35 finished with value: 0.16248665564906428 and parameters: {'bagging_fraction': 0.7952077309152048, 'bagging_freq': 6}. Best is trial 35 with value: 0.16248665564906428.\u001b[0m\n",
            "bagging, val_score: 0.162487:  90%|######### | 9/10 [00:11<00:01,  1.41s/it]"
          ],
          "name": "stderr"
        },
        {
          "output_type": "stream",
          "text": [
            "Early stopping, best iteration is:\n",
            "[166]\tvalid_0's binary_logloss: 0.0206616\tvalid_1's binary_logloss: 0.162487\n",
            "Training until validation scores don't improve for 100 rounds\n",
            "[100]\tvalid_0's binary_logloss: 0.0507708\tvalid_1's binary_logloss: 0.170318\n"
          ],
          "name": "stdout"
        },
        {
          "output_type": "stream",
          "text": [
            "bagging, val_score: 0.162487: 100%|##########| 10/10 [00:13<00:00,  1.37s/it]\u001b[32m[I 2021-07-08 11:56:05,308]\u001b[0m Trial 36 finished with value: 0.16775172694379958 and parameters: {'bagging_fraction': 0.8371609686113339, 'bagging_freq': 2}. Best is trial 35 with value: 0.16248665564906428.\u001b[0m\n",
            "bagging, val_score: 0.162487: 100%|##########| 10/10 [00:13<00:00,  1.33s/it]\n",
            "feature_fraction_stage2, val_score: 0.162487:   0%|          | 0/3 [00:00<?, ?it/s]"
          ],
          "name": "stderr"
        },
        {
          "output_type": "stream",
          "text": [
            "[200]\tvalid_0's binary_logloss: 0.0133893\tvalid_1's binary_logloss: 0.174087\n",
            "Early stopping, best iteration is:\n",
            "[113]\tvalid_0's binary_logloss: 0.0416798\tvalid_1's binary_logloss: 0.167752\n",
            "Training until validation scores don't improve for 100 rounds\n",
            "[100]\tvalid_0's binary_logloss: 0.0522151\tvalid_1's binary_logloss: 0.169609\n"
          ],
          "name": "stdout"
        },
        {
          "output_type": "stream",
          "text": [
            "feature_fraction_stage2, val_score: 0.162487:  33%|###3      | 1/3 [00:01<00:02,  1.27s/it]\u001b[32m[I 2021-07-08 11:56:06,594]\u001b[0m Trial 37 finished with value: 0.16799381669131572 and parameters: {'feature_fraction': 0.9520000000000001}. Best is trial 37 with value: 0.16799381669131572.\u001b[0m\n",
            "feature_fraction_stage2, val_score: 0.162487:  33%|###3      | 1/3 [00:01<00:02,  1.27s/it]"
          ],
          "name": "stderr"
        },
        {
          "output_type": "stream",
          "text": [
            "[200]\tvalid_0's binary_logloss: 0.0140353\tvalid_1's binary_logloss: 0.17247\n",
            "Early stopping, best iteration is:\n",
            "[121]\tvalid_0's binary_logloss: 0.0386372\tvalid_1's binary_logloss: 0.167994\n",
            "Training until validation scores don't improve for 100 rounds\n",
            "[100]\tvalid_0's binary_logloss: 0.0540345\tvalid_1's binary_logloss: 0.169068\n",
            "[200]\tvalid_0's binary_logloss: 0.0146455\tvalid_1's binary_logloss: 0.169742\n"
          ],
          "name": "stdout"
        },
        {
          "output_type": "stream",
          "text": [
            "feature_fraction_stage2, val_score: 0.162487:  67%|######6   | 2/3 [00:02<00:01,  1.32s/it]\u001b[32m[I 2021-07-08 11:56:08,044]\u001b[0m Trial 38 finished with value: 0.1650105755316427 and parameters: {'feature_fraction': 0.92}. Best is trial 38 with value: 0.1650105755316427.\u001b[0m\n",
            "feature_fraction_stage2, val_score: 0.162487:  67%|######6   | 2/3 [00:02<00:01,  1.32s/it]"
          ],
          "name": "stderr"
        },
        {
          "output_type": "stream",
          "text": [
            "Early stopping, best iteration is:\n",
            "[163]\tvalid_0's binary_logloss: 0.0228551\tvalid_1's binary_logloss: 0.165011\n",
            "Training until validation scores don't improve for 100 rounds\n",
            "[100]\tvalid_0's binary_logloss: 0.0519917\tvalid_1's binary_logloss: 0.164734\n",
            "[200]\tvalid_0's binary_logloss: 0.0133435\tvalid_1's binary_logloss: 0.167695\n"
          ],
          "name": "stdout"
        },
        {
          "output_type": "stream",
          "text": [
            "feature_fraction_stage2, val_score: 0.162487: 100%|##########| 3/3 [00:04<00:00,  1.41s/it]\u001b[32m[I 2021-07-08 11:56:09,647]\u001b[0m Trial 39 finished with value: 0.16248665564906428 and parameters: {'feature_fraction': 0.9840000000000001}. Best is trial 39 with value: 0.16248665564906428.\u001b[0m\n",
            "feature_fraction_stage2, val_score: 0.162487: 100%|##########| 3/3 [00:04<00:00,  1.44s/it]\n",
            "regularization_factors, val_score: 0.162487:   0%|          | 0/20 [00:00<?, ?it/s]"
          ],
          "name": "stderr"
        },
        {
          "output_type": "stream",
          "text": [
            "Early stopping, best iteration is:\n",
            "[166]\tvalid_0's binary_logloss: 0.0206616\tvalid_1's binary_logloss: 0.162487\n",
            "Training until validation scores don't improve for 100 rounds\n",
            "[100]\tvalid_0's binary_logloss: 0.0752738\tvalid_1's binary_logloss: 0.16932\n",
            "[200]\tvalid_0's binary_logloss: 0.036102\tvalid_1's binary_logloss: 0.166039\n"
          ],
          "name": "stdout"
        },
        {
          "output_type": "stream",
          "text": [
            "regularization_factors, val_score: 0.162487:   5%|5         | 1/20 [00:01<00:32,  1.73s/it]\u001b[32m[I 2021-07-08 11:56:11,403]\u001b[0m Trial 40 finished with value: 0.16386478523275658 and parameters: {'lambda_l1': 1.1872165473854008, 'lambda_l2': 2.2422606818693147}. Best is trial 40 with value: 0.16386478523275658.\u001b[0m\n",
            "regularization_factors, val_score: 0.162487:   5%|5         | 1/20 [00:01<00:32,  1.73s/it]"
          ],
          "name": "stderr"
        },
        {
          "output_type": "stream",
          "text": [
            "Early stopping, best iteration is:\n",
            "[170]\tvalid_0's binary_logloss: 0.0434335\tvalid_1's binary_logloss: 0.163865\n",
            "Training until validation scores don't improve for 100 rounds\n",
            "[100]\tvalid_0's binary_logloss: 0.0523182\tvalid_1's binary_logloss: 0.168885\n",
            "[200]\tvalid_0's binary_logloss: 0.0140262\tvalid_1's binary_logloss: 0.168312\n"
          ],
          "name": "stdout"
        },
        {
          "output_type": "stream",
          "text": [
            "regularization_factors, val_score: 0.162487:  10%|#         | 2/20 [00:03<00:31,  1.73s/it]\u001b[32m[I 2021-07-08 11:56:13,121]\u001b[0m Trial 41 finished with value: 0.1639074787830278 and parameters: {'lambda_l1': 1.3909070571334386e-06, 'lambda_l2': 0.0014304013299087724}. Best is trial 40 with value: 0.16386478523275658.\u001b[0m\n",
            "regularization_factors, val_score: 0.162487:  10%|#         | 2/20 [00:03<00:31,  1.73s/it]"
          ],
          "name": "stderr"
        },
        {
          "output_type": "stream",
          "text": [
            "Early stopping, best iteration is:\n",
            "[162]\tvalid_0's binary_logloss: 0.0224559\tvalid_1's binary_logloss: 0.163907\n",
            "Training until validation scores don't improve for 100 rounds\n",
            "[100]\tvalid_0's binary_logloss: 0.0522029\tvalid_1's binary_logloss: 0.167841\n",
            "[200]\tvalid_0's binary_logloss: 0.01337\tvalid_1's binary_logloss: 0.165364\n"
          ],
          "name": "stdout"
        },
        {
          "output_type": "stream",
          "text": [
            "regularization_factors, val_score: 0.162180:  15%|#5        | 3/20 [00:05<00:29,  1.73s/it]\u001b[32m[I 2021-07-08 11:56:14,857]\u001b[0m Trial 42 finished with value: 0.16217998244668805 and parameters: {'lambda_l1': 7.417273840626408e-07, 'lambda_l2': 0.002106587659841218}. Best is trial 42 with value: 0.16217998244668805.\u001b[0m\n",
            "regularization_factors, val_score: 0.162180:  15%|#5        | 3/20 [00:05<00:29,  1.73s/it]"
          ],
          "name": "stderr"
        },
        {
          "output_type": "stream",
          "text": [
            "Early stopping, best iteration is:\n",
            "[163]\tvalid_0's binary_logloss: 0.0216304\tvalid_1's binary_logloss: 0.16218\n",
            "Training until validation scores don't improve for 100 rounds\n",
            "[100]\tvalid_0's binary_logloss: 0.0519919\tvalid_1's binary_logloss: 0.164734\n",
            "[200]\tvalid_0's binary_logloss: 0.0133438\tvalid_1's binary_logloss: 0.167695\n"
          ],
          "name": "stdout"
        },
        {
          "output_type": "stream",
          "text": [
            "regularization_factors, val_score: 0.162180:  20%|##        | 4/20 [00:06<00:27,  1.73s/it]\u001b[32m[I 2021-07-08 11:56:16,598]\u001b[0m Trial 43 finished with value: 0.16248650724231464 and parameters: {'lambda_l1': 1.8968878931790378e-05, 'lambda_l2': 3.025299053789883e-08}. Best is trial 42 with value: 0.16217998244668805.\u001b[0m\n",
            "regularization_factors, val_score: 0.162180:  20%|##        | 4/20 [00:06<00:27,  1.73s/it]"
          ],
          "name": "stderr"
        },
        {
          "output_type": "stream",
          "text": [
            "Early stopping, best iteration is:\n",
            "[166]\tvalid_0's binary_logloss: 0.0206619\tvalid_1's binary_logloss: 0.162487\n",
            "Training until validation scores don't improve for 100 rounds\n",
            "[100]\tvalid_0's binary_logloss: 0.05591\tvalid_1's binary_logloss: 0.169752\n",
            "[200]\tvalid_0's binary_logloss: 0.0198294\tvalid_1's binary_logloss: 0.168605\n"
          ],
          "name": "stdout"
        },
        {
          "output_type": "stream",
          "text": [
            "regularization_factors, val_score: 0.162180:  25%|##5       | 5/20 [00:08<00:26,  1.75s/it]\u001b[32m[I 2021-07-08 11:56:18,391]\u001b[0m Trial 44 finished with value: 0.16550903795482583 and parameters: {'lambda_l1': 0.6026750808437773, 'lambda_l2': 0.0003391261679826045}. Best is trial 42 with value: 0.16217998244668805.\u001b[0m\n",
            "regularization_factors, val_score: 0.162180:  25%|##5       | 5/20 [00:08<00:26,  1.75s/it]"
          ],
          "name": "stderr"
        },
        {
          "output_type": "stream",
          "text": [
            "Early stopping, best iteration is:\n",
            "[166]\tvalid_0's binary_logloss: 0.026808\tvalid_1's binary_logloss: 0.165509\n",
            "Training until validation scores don't improve for 100 rounds\n",
            "[100]\tvalid_0's binary_logloss: 0.0519919\tvalid_1's binary_logloss: 0.164734\n",
            "[200]\tvalid_0's binary_logloss: 0.0133437\tvalid_1's binary_logloss: 0.167695\n"
          ],
          "name": "stdout"
        },
        {
          "output_type": "stream",
          "text": [
            "regularization_factors, val_score: 0.162180:  30%|###       | 6/20 [00:10<00:24,  1.75s/it]\u001b[32m[I 2021-07-08 11:56:20,151]\u001b[0m Trial 45 finished with value: 0.16248653484300743 and parameters: {'lambda_l1': 1.8096785382926073e-08, 'lambda_l2': 1.4754125692122512e-05}. Best is trial 42 with value: 0.16217998244668805.\u001b[0m\n",
            "regularization_factors, val_score: 0.162180:  30%|###       | 6/20 [00:10<00:24,  1.75s/it]"
          ],
          "name": "stderr"
        },
        {
          "output_type": "stream",
          "text": [
            "Early stopping, best iteration is:\n",
            "[166]\tvalid_0's binary_logloss: 0.0206618\tvalid_1's binary_logloss: 0.162487\n",
            "Training until validation scores don't improve for 100 rounds\n",
            "[100]\tvalid_0's binary_logloss: 0.0528162\tvalid_1's binary_logloss: 0.174159\n",
            "[200]\tvalid_0's binary_logloss: 0.0145546\tvalid_1's binary_logloss: 0.173566\n"
          ],
          "name": "stdout"
        },
        {
          "output_type": "stream",
          "text": [
            "regularization_factors, val_score: 0.162180:  35%|###5      | 7/20 [00:12<00:22,  1.75s/it]\u001b[32m[I 2021-07-08 11:56:21,903]\u001b[0m Trial 46 finished with value: 0.17185591856504406 and parameters: {'lambda_l1': 9.869165557136895e-06, 'lambda_l2': 0.09384694696153903}. Best is trial 42 with value: 0.16217998244668805.\u001b[0m\n",
            "regularization_factors, val_score: 0.162180:  35%|###5      | 7/20 [00:12<00:22,  1.75s/it]"
          ],
          "name": "stderr"
        },
        {
          "output_type": "stream",
          "text": [
            "Early stopping, best iteration is:\n",
            "[164]\tvalid_0's binary_logloss: 0.0226935\tvalid_1's binary_logloss: 0.171856\n",
            "Training until validation scores don't improve for 100 rounds\n",
            "[100]\tvalid_0's binary_logloss: 0.0521136\tvalid_1's binary_logloss: 0.168345\n",
            "[200]\tvalid_0's binary_logloss: 0.0135753\tvalid_1's binary_logloss: 0.171267\n",
            "Early stopping, best iteration is:\n",
            "[130]\tvalid_0's binary_logloss: 0.0343514\tvalid_1's binary_logloss: 0.165518\n"
          ],
          "name": "stdout"
        },
        {
          "output_type": "stream",
          "text": [
            "regularization_factors, val_score: 0.162180:  40%|####      | 8/20 [00:13<00:20,  1.69s/it]\u001b[32m[I 2021-07-08 11:56:23,448]\u001b[0m Trial 47 finished with value: 0.16551751075936422 and parameters: {'lambda_l1': 0.001078534403411606, 'lambda_l2': 5.9604394367095235e-05}. Best is trial 42 with value: 0.16217998244668805.\u001b[0m\n",
            "regularization_factors, val_score: 0.162180:  40%|####      | 8/20 [00:13<00:20,  1.69s/it]"
          ],
          "name": "stderr"
        },
        {
          "output_type": "stream",
          "text": [
            "Training until validation scores don't improve for 100 rounds\n",
            "[100]\tvalid_0's binary_logloss: 0.0521151\tvalid_1's binary_logloss: 0.168346\n",
            "[200]\tvalid_0's binary_logloss: 0.0138772\tvalid_1's binary_logloss: 0.170569\n",
            "Early stopping, best iteration is:\n",
            "[130]\tvalid_0's binary_logloss: 0.0343531\tvalid_1's binary_logloss: 0.165517\n"
          ],
          "name": "stdout"
        },
        {
          "output_type": "stream",
          "text": [
            "regularization_factors, val_score: 0.162180:  45%|####5     | 9/20 [00:15<00:17,  1.64s/it]\u001b[32m[I 2021-07-08 11:56:24,954]\u001b[0m Trial 48 finished with value: 0.165517433257536 and parameters: {'lambda_l1': 0.00125267233188576, 'lambda_l2': 2.3707976100032355e-06}. Best is trial 42 with value: 0.16217998244668805.\u001b[0m\n",
            "regularization_factors, val_score: 0.162180:  45%|####5     | 9/20 [00:15<00:17,  1.64s/it]"
          ],
          "name": "stderr"
        },
        {
          "output_type": "stream",
          "text": [
            "Training until validation scores don't improve for 100 rounds\n",
            "[100]\tvalid_0's binary_logloss: 0.0537758\tvalid_1's binary_logloss: 0.171205\n",
            "[200]\tvalid_0's binary_logloss: 0.0167683\tvalid_1's binary_logloss: 0.172118\n"
          ],
          "name": "stdout"
        },
        {
          "output_type": "stream",
          "text": [
            "regularization_factors, val_score: 0.162180:  50%|#####     | 10/20 [00:17<00:16,  1.67s/it]\u001b[32m[I 2021-07-08 11:56:26,699]\u001b[0m Trial 49 finished with value: 0.1686320922007667 and parameters: {'lambda_l1': 0.3165017472041056, 'lambda_l2': 0.0003906796345458473}. Best is trial 42 with value: 0.16217998244668805.\u001b[0m\n",
            "regularization_factors, val_score: 0.162180:  50%|#####     | 10/20 [00:17<00:16,  1.67s/it]"
          ],
          "name": "stderr"
        },
        {
          "output_type": "stream",
          "text": [
            "Early stopping, best iteration is:\n",
            "[163]\tvalid_0's binary_logloss: 0.0244653\tvalid_1's binary_logloss: 0.168632\n",
            "Training until validation scores don't improve for 100 rounds\n",
            "[100]\tvalid_0's binary_logloss: 0.0524526\tvalid_1's binary_logloss: 0.169324\n",
            "[200]\tvalid_0's binary_logloss: 0.0139005\tvalid_1's binary_logloss: 0.169041\n"
          ],
          "name": "stdout"
        },
        {
          "output_type": "stream",
          "text": [
            "regularization_factors, val_score: 0.162180:  55%|#####5    | 11/20 [00:18<00:15,  1.70s/it]\u001b[32m[I 2021-07-08 11:56:28,460]\u001b[0m Trial 50 finished with value: 0.16466102455232706 and parameters: {'lambda_l1': 1.641509465401057e-08, 'lambda_l2': 0.029947059223816033}. Best is trial 42 with value: 0.16217998244668805.\u001b[0m\n",
            "regularization_factors, val_score: 0.162180:  55%|#####5    | 11/20 [00:18<00:15,  1.70s/it]"
          ],
          "name": "stderr"
        },
        {
          "output_type": "stream",
          "text": [
            "Early stopping, best iteration is:\n",
            "[164]\tvalid_0's binary_logloss: 0.0216596\tvalid_1's binary_logloss: 0.164661\n",
            "Training until validation scores don't improve for 100 rounds\n",
            "[100]\tvalid_0's binary_logloss: 0.0519917\tvalid_1's binary_logloss: 0.164734\n",
            "[200]\tvalid_0's binary_logloss: 0.0133435\tvalid_1's binary_logloss: 0.167695\n"
          ],
          "name": "stdout"
        },
        {
          "output_type": "stream",
          "text": [
            "regularization_factors, val_score: 0.162180:  60%|######    | 12/20 [00:20<00:13,  1.71s/it]\u001b[32m[I 2021-07-08 11:56:30,204]\u001b[0m Trial 51 finished with value: 0.16248663275124373 and parameters: {'lambda_l1': 2.9211038415933357e-06, 'lambda_l2': 1.491539372050477e-08}. Best is trial 42 with value: 0.16217998244668805.\u001b[0m\n",
            "regularization_factors, val_score: 0.162180:  60%|######    | 12/20 [00:20<00:13,  1.71s/it]"
          ],
          "name": "stderr"
        },
        {
          "output_type": "stream",
          "text": [
            "Early stopping, best iteration is:\n",
            "[166]\tvalid_0's binary_logloss: 0.0206617\tvalid_1's binary_logloss: 0.162487\n",
            "Training until validation scores don't improve for 100 rounds\n",
            "[100]\tvalid_0's binary_logloss: 0.0519926\tvalid_1's binary_logloss: 0.164734\n"
          ],
          "name": "stdout"
        },
        {
          "output_type": "stream",
          "text": [
            "regularization_factors, val_score: 0.162180:  65%|######5   | 13/20 [00:21<00:11,  1.63s/it]\u001b[32m[I 2021-07-08 11:56:31,655]\u001b[0m Trial 52 finished with value: 0.16269016528769129 and parameters: {'lambda_l1': 6.718594703116303e-05, 'lambda_l2': 1.6148276265768736e-08}. Best is trial 42 with value: 0.16217998244668805.\u001b[0m\n",
            "regularization_factors, val_score: 0.162180:  65%|######5   | 13/20 [00:21<00:11,  1.63s/it]"
          ],
          "name": "stderr"
        },
        {
          "output_type": "stream",
          "text": [
            "[200]\tvalid_0's binary_logloss: 0.0135027\tvalid_1's binary_logloss: 0.167677\n",
            "Early stopping, best iteration is:\n",
            "[116]\tvalid_0's binary_logloss: 0.041084\tvalid_1's binary_logloss: 0.16269\n",
            "Training until validation scores don't improve for 100 rounds\n",
            "[100]\tvalid_0's binary_logloss: 0.0519917\tvalid_1's binary_logloss: 0.164734\n",
            "[200]\tvalid_0's binary_logloss: 0.0133435\tvalid_1's binary_logloss: 0.167695\n"
          ],
          "name": "stdout"
        },
        {
          "output_type": "stream",
          "text": [
            "regularization_factors, val_score: 0.162180:  70%|#######   | 14/20 [00:23<00:09,  1.66s/it]\u001b[32m[I 2021-07-08 11:56:33,367]\u001b[0m Trial 53 finished with value: 0.16248664623836645 and parameters: {'lambda_l1': 5.785823539858185e-08, 'lambda_l2': 1.0989504895147348e-06}. Best is trial 42 with value: 0.16217998244668805.\u001b[0m\n",
            "regularization_factors, val_score: 0.162180:  70%|#######   | 14/20 [00:23<00:09,  1.66s/it]"
          ],
          "name": "stderr"
        },
        {
          "output_type": "stream",
          "text": [
            "Early stopping, best iteration is:\n",
            "[166]\tvalid_0's binary_logloss: 0.0206616\tvalid_1's binary_logloss: 0.162487\n",
            "Training until validation scores don't improve for 100 rounds\n",
            "[100]\tvalid_0's binary_logloss: 0.0524463\tvalid_1's binary_logloss: 0.169324\n",
            "[200]\tvalid_0's binary_logloss: 0.0136494\tvalid_1's binary_logloss: 0.170838\n"
          ],
          "name": "stdout"
        },
        {
          "output_type": "stream",
          "text": [
            "regularization_factors, val_score: 0.162180:  75%|#######5  | 15/20 [00:25<00:08,  1.70s/it]\u001b[32m[I 2021-07-08 11:56:35,171]\u001b[0m Trial 54 finished with value: 0.16658018664653992 and parameters: {'lambda_l1': 2.5461816724686464e-07, 'lambda_l2': 0.02953291081502729}. Best is trial 42 with value: 0.16217998244668805.\u001b[0m\n",
            "regularization_factors, val_score: 0.162180:  75%|#######5  | 15/20 [00:25<00:08,  1.70s/it]"
          ],
          "name": "stderr"
        },
        {
          "output_type": "stream",
          "text": [
            "Early stopping, best iteration is:\n",
            "[165]\tvalid_0's binary_logloss: 0.021182\tvalid_1's binary_logloss: 0.16658\n",
            "Training until validation scores don't improve for 100 rounds\n",
            "[100]\tvalid_0's binary_logloss: 0.0519927\tvalid_1's binary_logloss: 0.164734\n"
          ],
          "name": "stdout"
        },
        {
          "output_type": "stream",
          "text": [
            "regularization_factors, val_score: 0.162180:  80%|########  | 16/20 [00:26<00:06,  1.62s/it]\u001b[32m[I 2021-07-08 11:56:36,583]\u001b[0m Trial 55 finished with value: 0.16269016258449578 and parameters: {'lambda_l1': 7.010146376857184e-05, 'lambda_l2': 2.7109375858693756e-07}. Best is trial 42 with value: 0.16217998244668805.\u001b[0m\n",
            "regularization_factors, val_score: 0.162180:  80%|########  | 16/20 [00:26<00:06,  1.62s/it]"
          ],
          "name": "stderr"
        },
        {
          "output_type": "stream",
          "text": [
            "[200]\tvalid_0's binary_logloss: 0.0135027\tvalid_1's binary_logloss: 0.167677\n",
            "Early stopping, best iteration is:\n",
            "[116]\tvalid_0's binary_logloss: 0.0410841\tvalid_1's binary_logloss: 0.16269\n",
            "Training until validation scores don't improve for 100 rounds\n",
            "[100]\tvalid_0's binary_logloss: 0.0721489\tvalid_1's binary_logloss: 0.169499\n",
            "[200]\tvalid_0's binary_logloss: 0.029415\tvalid_1's binary_logloss: 0.16038\n"
          ],
          "name": "stdout"
        },
        {
          "output_type": "stream",
          "text": [
            "regularization_factors, val_score: 0.159145:  85%|########5 | 17/20 [00:28<00:05,  1.73s/it]\u001b[32m[I 2021-07-08 11:56:38,565]\u001b[0m Trial 56 finished with value: 0.1591453332319076 and parameters: {'lambda_l1': 0.020294014904660942, 'lambda_l2': 3.701976914252573}. Best is trial 56 with value: 0.1591453332319076.\u001b[0m\n",
            "regularization_factors, val_score: 0.159145:  85%|########5 | 17/20 [00:28<00:05,  1.73s/it]"
          ],
          "name": "stderr"
        },
        {
          "output_type": "stream",
          "text": [
            "Early stopping, best iteration is:\n",
            "[192]\tvalid_0's binary_logloss: 0.0313319\tvalid_1's binary_logloss: 0.159145\n",
            "Training until validation scores don't improve for 100 rounds\n",
            "[100]\tvalid_0's binary_logloss: 0.0906454\tvalid_1's binary_logloss: 0.173771\n",
            "[200]\tvalid_0's binary_logloss: 0.0464445\tvalid_1's binary_logloss: 0.166846\n",
            "[300]\tvalid_0's binary_logloss: 0.0278089\tvalid_1's binary_logloss: 0.167081\n"
          ],
          "name": "stdout"
        },
        {
          "output_type": "stream",
          "text": [
            "regularization_factors, val_score: 0.159145:  90%|######### | 18/20 [00:31<00:03,  1.97s/it]\u001b[32m[I 2021-07-08 11:56:41,100]\u001b[0m Trial 57 finished with value: 0.1660405675832248 and parameters: {'lambda_l1': 0.023547128074766714, 'lambda_l2': 9.712542200440545}. Best is trial 56 with value: 0.1591453332319076.\u001b[0m\n",
            "regularization_factors, val_score: 0.159145:  90%|######### | 18/20 [00:31<00:03,  1.97s/it]"
          ],
          "name": "stderr"
        },
        {
          "output_type": "stream",
          "text": [
            "Early stopping, best iteration is:\n",
            "[278]\tvalid_0's binary_logloss: 0.0307365\tvalid_1's binary_logloss: 0.166041\n",
            "Training until validation scores don't improve for 100 rounds\n",
            "[100]\tvalid_0's binary_logloss: 0.0593806\tvalid_1's binary_logloss: 0.170316\n",
            "[200]\tvalid_0's binary_logloss: 0.0199784\tvalid_1's binary_logloss: 0.167201\n"
          ],
          "name": "stdout"
        },
        {
          "output_type": "stream",
          "text": [
            "regularization_factors, val_score: 0.159145:  95%|#########5| 19/20 [00:33<00:01,  1.92s/it]\u001b[32m[I 2021-07-08 11:56:42,895]\u001b[0m Trial 58 finished with value: 0.16490748233135738 and parameters: {'lambda_l1': 0.019432702740660043, 'lambda_l2': 1.191717326455687}. Best is trial 56 with value: 0.1591453332319076.\u001b[0m\n",
            "regularization_factors, val_score: 0.159145:  95%|#########5| 19/20 [00:33<00:01,  1.92s/it]"
          ],
          "name": "stderr"
        },
        {
          "output_type": "stream",
          "text": [
            "Early stopping, best iteration is:\n",
            "[163]\tvalid_0's binary_logloss: 0.0291046\tvalid_1's binary_logloss: 0.164907\n",
            "Training until validation scores don't improve for 100 rounds\n",
            "[100]\tvalid_0's binary_logloss: 0.054639\tvalid_1's binary_logloss: 0.171988\n",
            "[200]\tvalid_0's binary_logloss: 0.0156119\tvalid_1's binary_logloss: 0.171188\n"
          ],
          "name": "stdout"
        },
        {
          "output_type": "stream",
          "text": [
            "regularization_factors, val_score: 0.159145: 100%|##########| 20/20 [00:35<00:00,  1.88s/it]\u001b[32m[I 2021-07-08 11:56:44,693]\u001b[0m Trial 59 finished with value: 0.16813483853092998 and parameters: {'lambda_l1': 0.021568618195596793, 'lambda_l2': 0.25995765847303554}. Best is trial 56 with value: 0.1591453332319076.\u001b[0m\n",
            "regularization_factors, val_score: 0.159145: 100%|##########| 20/20 [00:35<00:00,  1.75s/it]\n",
            "min_data_in_leaf, val_score: 0.159145:   0%|          | 0/5 [00:00<?, ?it/s]"
          ],
          "name": "stderr"
        },
        {
          "output_type": "stream",
          "text": [
            "Early stopping, best iteration is:\n",
            "[164]\tvalid_0's binary_logloss: 0.0235756\tvalid_1's binary_logloss: 0.168135\n",
            "Training until validation scores don't improve for 100 rounds\n",
            "[100]\tvalid_0's binary_logloss: 0.0717525\tvalid_1's binary_logloss: 0.168933\n",
            "[200]\tvalid_0's binary_logloss: 0.0297673\tvalid_1's binary_logloss: 0.163914\n"
          ],
          "name": "stdout"
        },
        {
          "output_type": "stream",
          "text": [
            "min_data_in_leaf, val_score: 0.159145:  20%|##        | 1/5 [00:02<00:08,  2.00s/it]\u001b[32m[I 2021-07-08 11:56:46,708]\u001b[0m Trial 60 finished with value: 0.16192345719889606 and parameters: {'min_child_samples': 10}. Best is trial 60 with value: 0.16192345719889606.\u001b[0m\n",
            "min_data_in_leaf, val_score: 0.159145:  20%|##        | 1/5 [00:02<00:08,  2.00s/it]"
          ],
          "name": "stderr"
        },
        {
          "output_type": "stream",
          "text": [
            "Early stopping, best iteration is:\n",
            "[186]\tvalid_0's binary_logloss: 0.0332677\tvalid_1's binary_logloss: 0.161923\n",
            "Training until validation scores don't improve for 100 rounds\n",
            "[100]\tvalid_0's binary_logloss: 0.0819594\tvalid_1's binary_logloss: 0.172821\n",
            "[200]\tvalid_0's binary_logloss: 0.0361745\tvalid_1's binary_logloss: 0.168247\n"
          ],
          "name": "stdout"
        },
        {
          "output_type": "stream",
          "text": [
            "min_data_in_leaf, val_score: 0.159145:  40%|####      | 2/5 [00:03<00:05,  1.86s/it]\u001b[32m[I 2021-07-08 11:56:48,235]\u001b[0m Trial 61 finished with value: 0.16641041857692604 and parameters: {'min_child_samples': 100}. Best is trial 60 with value: 0.16192345719889606.\u001b[0m\n",
            "min_data_in_leaf, val_score: 0.159145:  40%|####      | 2/5 [00:03<00:05,  1.86s/it]"
          ],
          "name": "stderr"
        },
        {
          "output_type": "stream",
          "text": [
            "Early stopping, best iteration is:\n",
            "[175]\tvalid_0's binary_logloss: 0.0436899\tvalid_1's binary_logloss: 0.16641\n",
            "Training until validation scores don't improve for 100 rounds\n",
            "[100]\tvalid_0's binary_logloss: 0.0721706\tvalid_1's binary_logloss: 0.169661\n",
            "[200]\tvalid_0's binary_logloss: 0.0299465\tvalid_1's binary_logloss: 0.167511\n"
          ],
          "name": "stdout"
        },
        {
          "output_type": "stream",
          "text": [
            "min_data_in_leaf, val_score: 0.159145:  60%|######    | 3/5 [00:05<00:03,  1.80s/it]\u001b[32m[I 2021-07-08 11:56:49,885]\u001b[0m Trial 62 finished with value: 0.16472882637853087 and parameters: {'min_child_samples': 25}. Best is trial 60 with value: 0.16192345719889606.\u001b[0m\n",
            "min_data_in_leaf, val_score: 0.159145:  60%|######    | 3/5 [00:05<00:03,  1.80s/it]"
          ],
          "name": "stderr"
        },
        {
          "output_type": "stream",
          "text": [
            "Early stopping, best iteration is:\n",
            "[146]\tvalid_0's binary_logloss: 0.0466436\tvalid_1's binary_logloss: 0.164729\n",
            "Training until validation scores don't improve for 100 rounds\n",
            "[100]\tvalid_0's binary_logloss: 0.0710023\tvalid_1's binary_logloss: 0.171499\n",
            "[200]\tvalid_0's binary_logloss: 0.0296749\tvalid_1's binary_logloss: 0.168552\n"
          ],
          "name": "stdout"
        },
        {
          "output_type": "stream",
          "text": [
            "min_data_in_leaf, val_score: 0.159145:  80%|########  | 4/5 [00:06<00:01,  1.77s/it]\u001b[32m[I 2021-07-08 11:56:51,588]\u001b[0m Trial 63 finished with value: 0.16657472265169937 and parameters: {'min_child_samples': 5}. Best is trial 60 with value: 0.16192345719889606.\u001b[0m\n",
            "min_data_in_leaf, val_score: 0.159145:  80%|########  | 4/5 [00:06<00:01,  1.77s/it]"
          ],
          "name": "stderr"
        },
        {
          "output_type": "stream",
          "text": [
            "Early stopping, best iteration is:\n",
            "[135]\tvalid_0's binary_logloss: 0.0506332\tvalid_1's binary_logloss: 0.166575\n",
            "Training until validation scores don't improve for 100 rounds\n",
            "[100]\tvalid_0's binary_logloss: 0.0739232\tvalid_1's binary_logloss: 0.169954\n",
            "[200]\tvalid_0's binary_logloss: 0.0312251\tvalid_1's binary_logloss: 0.164205\n"
          ],
          "name": "stdout"
        },
        {
          "output_type": "stream",
          "text": [
            "min_data_in_leaf, val_score: 0.159145: 100%|##########| 5/5 [00:08<00:00,  1.73s/it]\u001b[32m[I 2021-07-08 11:56:53,238]\u001b[0m Trial 64 finished with value: 0.1628956722642669 and parameters: {'min_child_samples': 50}. Best is trial 60 with value: 0.16192345719889606.\u001b[0m\n",
            "min_data_in_leaf, val_score: 0.159145: 100%|##########| 5/5 [00:08<00:00,  1.71s/it]"
          ],
          "name": "stderr"
        },
        {
          "output_type": "stream",
          "text": [
            "Early stopping, best iteration is:\n",
            "[169]\tvalid_0's binary_logloss: 0.0396943\tvalid_1's binary_logloss: 0.162896\n"
          ],
          "name": "stdout"
        },
        {
          "output_type": "stream",
          "text": [
            "\n"
          ],
          "name": "stderr"
        }
      ]
    },
    {
      "cell_type": "code",
      "metadata": {
        "colab": {
          "base_uri": "https://localhost:8080/"
        },
        "id": "oumLiq3S_HSZ",
        "outputId": "30a20713-49b6-40cd-985b-78075a51d82f"
      },
      "source": [
        "# 3.2 This predicts probabilities:\n",
        "model.predict(\n",
        "                val_x,    # Note that it is not lightgbm dataset\n",
        "                num_iteration = model.best_iteration\n",
        "             )"
      ],
      "execution_count": 28,
      "outputs": [
        {
          "output_type": "execute_result",
          "data": {
            "text/plain": [
              "array([2.99461169e-03, 2.89555858e-03, 9.94995762e-01, ...,\n",
              "       9.99160476e-01, 9.17084444e-04, 9.95777695e-01])"
            ]
          },
          "metadata": {
            "tags": []
          },
          "execution_count": 28
        }
      ]
    },
    {
      "cell_type": "code",
      "metadata": {
        "colab": {
          "base_uri": "https://localhost:8080/"
        },
        "id": "ZNA2LOZEzzPs",
        "outputId": "fc58d6ac-4ebf-4df8-fca1-513330e3e6ef"
      },
      "source": [
        "### Model is ready\n",
        "# 4.0 Make prediction\n",
        "#     np.rint: Round elements of the array to the nearest integer. \n",
        "#     For values exactly halfway between rounded decimal values,\n",
        "#     NumPy rounds to the nearest even value. Thus 1.5 and 2.5 \n",
        "#     round to 2.0, -0.5 and 0.5 round to 0.0, etc.\n",
        "\n",
        "prediction = np.rint(\n",
        "                     model.predict(\n",
        "                                    val_x,    # Note that it is not lightgbm dataset\n",
        "                                    num_iteration = model.best_iteration\n",
        "                                    )\n",
        "                    )\n",
        "\n",
        "# 4.0.1\n",
        "prediction"
      ],
      "execution_count": 29,
      "outputs": [
        {
          "output_type": "execute_result",
          "data": {
            "text/plain": [
              "array([0., 0., 1., ..., 1., 0., 1.])"
            ]
          },
          "metadata": {
            "tags": []
          },
          "execution_count": 29
        }
      ]
    },
    {
      "cell_type": "code",
      "metadata": {
        "id": "a7gnxL1_vKww",
        "outputId": "9a4f7eb2-fd55-4423-e3f2-74cf71194203",
        "colab": {
          "base_uri": "https://localhost:8080/"
        }
      },
      "source": [
        "# 4.1 Determine accuracy\n",
        "accuracy = accuracy_score(val_y, prediction)\n",
        "\n",
        "# 4.2 Get best params\n",
        "best_params = model.params\n",
        "print(\"\\nbest_params: \" ,best_params) \n",
        "print(\"\\n===============\")\n",
        "print(\"\\nAccuracy: \", accuracy)\n",
        "print(\"\\n===============\")\n",
        "\n",
        "# 4.3\n",
        "for key, value in best_params.items():\n",
        "    print(\"\\n    {}: {}\".format(key, value))\n",
        "\n",
        "######################\n"
      ],
      "execution_count": 30,
      "outputs": [
        {
          "output_type": "stream",
          "text": [
            "\n",
            "best_params:  {'objective': 'binary', 'metric': 'binary_logloss', 'verbosity': -1, 'boosting_type': 'gbdt', 'feature_pre_filter': False, 'lambda_l1': 0.020294014904660942, 'lambda_l2': 3.701976914252573, 'num_leaves': 31, 'feature_fraction': 1.0, 'bagging_fraction': 0.7952077309152048, 'bagging_freq': 6, 'min_child_samples': 20, 'num_iterations': 1000, 'early_stopping_round': 100}\n",
            "\n",
            "===============\n",
            "\n",
            "Accuracy:  0.9404\n",
            "\n",
            "===============\n",
            "\n",
            "    objective: binary\n",
            "\n",
            "    metric: binary_logloss\n",
            "\n",
            "    verbosity: -1\n",
            "\n",
            "    boosting_type: gbdt\n",
            "\n",
            "    feature_pre_filter: False\n",
            "\n",
            "    lambda_l1: 0.020294014904660942\n",
            "\n",
            "    lambda_l2: 3.701976914252573\n",
            "\n",
            "    num_leaves: 31\n",
            "\n",
            "    feature_fraction: 1.0\n",
            "\n",
            "    bagging_fraction: 0.7952077309152048\n",
            "\n",
            "    bagging_freq: 6\n",
            "\n",
            "    min_child_samples: 20\n",
            "\n",
            "    num_iterations: 1000\n",
            "\n",
            "    early_stopping_round: 100\n"
          ],
          "name": "stdout"
        }
      ]
    },
    {
      "cell_type": "markdown",
      "metadata": {
        "id": "rEx5vVfk2fC7"
      },
      "source": [
        "## Bayesian optimization"
      ]
    },
    {
      "cell_type": "markdown",
      "metadata": {
        "id": "W4oP7XLS6OLD"
      },
      "source": [
        "#### Model Object"
      ]
    },
    {
      "cell_type": "code",
      "metadata": {
        "id": "riHBaNDk2kQL"
      },
      "source": [
        "# 5.0. Define classifier object:\n",
        "\n",
        "model_lgb = lgb.LGBMRegressor(                # Regressor will also perform classification\n",
        "                                objective='binary',\n",
        "                                metric='auc', # This output must match with what\n",
        "                                          #  we specify as input to Bayesian model\n",
        "                                n_jobs=2,\n",
        "                                verbose=0,\n",
        "                                #baggeng_freq=1,\n",
        "                                #bagging_fraction =0.8,\n",
        "                              )"
      ],
      "execution_count": 31,
      "outputs": []
    },
    {
      "cell_type": "code",
      "metadata": {
        "id": "dwuxr2GIEGXv"
      },
      "source": [
        "pipe = Pipeline([\n",
        "                 (\"ss\", StandardScaler()),\n",
        "                 (\"xg\", model_lgb)\n",
        "\n",
        "\n",
        "])\n",
        "\n",
        "pipe.get_params()"
      ],
      "execution_count": null,
      "outputs": []
    },
    {
      "cell_type": "markdown",
      "metadata": {
        "id": "mWdSr0f36KYi"
      },
      "source": [
        "#### Parameter space"
      ]
    },
    {
      "cell_type": "code",
      "metadata": {
        "id": "TBwd-hUU2osN"
      },
      "source": [
        "# 5.1 Parameter search space for selected modeler\n",
        "#      For suggested parameter grid for lightgbm, pl see: \n",
        "#         https://github.com/Microsoft/LightGBM/issues/695\n",
        "#\n",
        "params = {\n",
        "        # The 'boosting' option parameter give lots of errors. \n",
        "        # Do not use it. (Removed 'rf' from it. Avoids errors)\n",
        "        'xg__boosting'    :   Categorical(['gbdt','dart']),                                                         \n",
        "        'xg__n_estimators':   Integer(50, 100), # No of boosted trees or iterations to fit (default: 100).\n",
        "\n",
        "        'xg__num_leaves'  :   Integer(5,45),   # Max tree leaves for base boosters\n",
        "                                           # Create a node only if no of leaves exceed this limit\n",
        "                                           #  and also following condition of 'min_child_samples' is met\n",
        "\n",
        "        'xg__min_child_samples': Integer(1, 50),  # Create a node only if min data-points at this node\n",
        "                                              #  exceed this limit\n",
        "\n",
        "        'xg__feature_fraction' : Real(0.1, 0.9),  # Randomly select part of features on each iteration\n",
        "                                              #  for every boosted tree\n",
        "\n",
        "        'xg__bagging_fraction' : Real(0.8, 1),   # Randomly select part of data without resampling\n",
        "                                             #   for each boosted tree\n",
        "\n",
        "        'xg__bagging_freq'     : Integer(1,10),  # k means perform bagging at every k iteration\n",
        "\n",
        "        'xg__max_depth'        : Integer(1, 50), # Max tree depth for base learners, -1 means no limit.\n",
        "\n",
        "        'xg__learning_rate': Real(0.01, 1.0, 'log-uniform'), # Prob of interval 1 to 10 is same as 10 to 100\n",
        "                                                         # Equal prob of selection from 0.01 to 0.1, 0.1\n",
        "                                                         # to 1\n",
        "                                                         # In a loguniform distributon, log-transformed\n",
        "                                                         # random variable is uniformly distributed\n",
        "\n",
        "        'xg__reg_lambda': Real(1e-9, 1000, 'log-uniform'),  # L2 regularization term on weights.\n",
        "        'xg__reg_alpha':  Real(1e-9, 1.0, 'log-uniform'),   #  L1 regularization\n",
        "\n",
        "        'xg__scale_pos_weight': Real(1, 10),    # default: 1\n",
        "                                            # used only in binary application\n",
        "                                            # How much more importance should be given to binary\n",
        "                                            # weight of labels with positive class\n",
        "\n",
        "        #-----***** Not understood **** -----\n",
        "\n",
        "        'xg__max_bin': Integer(100, 1000),      # max number of bins that feature\n",
        "                                            #  values will be bucketed in\n",
        "                                            # small number of bins may reduce\n",
        "                                            # training accuracy but may increase\n",
        "                                            # general power (deal with over-fitting)\n",
        "\n",
        "        'xg__min_child_weight':  Real(1, 10),   # Deals with overfitting\n",
        "\n",
        "        'xg__subsample_for_bin': Integer(100000, 500000)  #  Number of samples for constructing bins(default: 200000)\n",
        "                                               # setting this to larger value will give better training\n",
        "                                               #  result, but will increase data loading time\n",
        "           }\n",
        "\n"
      ],
      "execution_count": 39,
      "outputs": []
    },
    {
      "cell_type": "markdown",
      "metadata": {
        "id": "Q-2bp6_v6Bek"
      },
      "source": [
        "#### Cross validation strategy"
      ]
    },
    {
      "cell_type": "markdown",
      "metadata": {
        "id": "n_PnKV6G6EO0"
      },
      "source": [
        "![image.png](data:image/png;base64,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)"
      ]
    },
    {
      "cell_type": "code",
      "metadata": {
        "colab": {
          "base_uri": "https://localhost:8080/",
          "height": 86
        },
        "id": "FCCDwa6z2sPj",
        "outputId": "385a941b-e951-408f-f0d1-f210bed67331"
      },
      "source": [
        "# 5.2 Cross validation strategy for the modeler\n",
        "#      Perform startified k-fold cross-validation\n",
        "#      There is also RepeatedStratifiedKFold() class\n",
        "#      that will repeat startified k-fold N-number\n",
        "#      of times\n",
        "#      Instantiate cross-vlidation object\n",
        "\"\"\"\n",
        "Examples of Cross-validation strategies:\n",
        "    i)   Leave one out  : Very time consuming\n",
        "    ii)  Leave P out    : For example, leave 2 out\n",
        "    iii) kfold          : k-equal random folds\n",
        "    iv)  StratifiedKFold : kfolds + stratification\n",
        "    v)   ShuffleSplit  => Generate n-numbers of userdefined pairs\n",
        "                          of (train,test). For examples, in each\n",
        "                          (train,test) pair, let number of rows\n",
        "                          of 'test' data be 30% of train data\n",
        "\n",
        "\"\"\"\n",
        "\n",
        "cvStrategy = StratifiedKFold(\n",
        "                             n_splits=3,\n",
        "                             shuffle=True,\n",
        "                             random_state=42\n",
        "                            )"
      ],
      "execution_count": 34,
      "outputs": [
        {
          "output_type": "execute_result",
          "data": {
            "application/vnd.google.colaboratory.intrinsic+json": {
              "type": "string"
            },
            "text/plain": [
              "\"\\nExamples of Cross-validation strategies:\\n    i)   Leave one out  : Very time consuming\\n    ii)  Leave P out    : For example, leave 2 out\\n    iii) kfold          : k-equal random folds\\n    iv)  StratifiedKFold : kfolds + stratification\\n    v)   ShuffleSplit  => Generate n-numbers of userdefined pairs\\n                          of (train,test). For examples, in each\\n                          (train,test) pair, let number of rows\\n                          of 'test' data be 30% of train data\\n\\n\""
            ]
          },
          "metadata": {
            "tags": []
          },
          "execution_count": 34
        }
      ]
    },
    {
      "cell_type": "markdown",
      "metadata": {
        "id": "83_tkl2a55gH"
      },
      "source": [
        "#### Bayes tuner object"
      ]
    },
    {
      "cell_type": "code",
      "metadata": {
        "id": "oM_1l4jF2u6A",
        "colab": {
          "base_uri": "https://localhost:8080/"
        },
        "outputId": "e1470e9e-c8a2-4d46-b2e6-5c0e987e0c12"
      },
      "source": [
        "# 5.3 Bayesian object instantiation\n",
        "#     For API, refer: https://scikit-optimize.github.io/#skopt.BayesSearchCV\n",
        "#     For example: https://scikit-optimize.github.io/stable/modules/generated/skopt.BayesSearchCV.html\n",
        "\n",
        "start = time.time()\n",
        "bayes_cv_tuner = BayesSearchCV(\n",
        "                              estimator = pipe,    # rf, lgb, xgb, nn , pipeline etc--Black box\n",
        "                              search_spaces = params,  # Specify params as required by the estimator\n",
        "                              scoring = 'roc_auc',  # Input to Bayes function\n",
        "                                                    # modeler should return this\n",
        "                                                    # peformence metric\n",
        "                              cv = cvStrategy,      # Optional. Determines the cross-validation splitting strategy.\n",
        "                                                    #           Can be cross-validation generator or an iterable,\n",
        "                                                    #           Possible inputs for cv are: - None, to use the default 3-fold cv,\n",
        "                                                    #           - integer, to specify the number of folds in a (Stratified)KFold,\n",
        "                                                    #           - An object to be used as a cross-validation generator.\n",
        "                              n_jobs = 2,           # Start two parallel threads for processing\n",
        "                              n_iter = 10,        # How many times to look for parameter sets\n",
        "                              verbose = 1,\n",
        "                              refit = True,       #  Refit the best estimator with the entire dataset\n",
        "                              random_state = 42\n",
        "                               )\n",
        "end = time.time()\n",
        "(end-start)/60"
      ],
      "execution_count": 43,
      "outputs": [
        {
          "output_type": "execute_result",
          "data": {
            "text/plain": [
              "2.368291219075521e-06"
            ]
          },
          "metadata": {
            "tags": []
          },
          "execution_count": 43
        }
      ]
    },
    {
      "cell_type": "markdown",
      "metadata": {
        "id": "v8j5B089506S"
      },
      "source": [
        "#### Begin tuning"
      ]
    },
    {
      "cell_type": "code",
      "metadata": {
        "id": "tSylYoba2y6L",
        "outputId": "757f53ba-4f74-40af-e797-fb65cc00b351",
        "colab": {
          "base_uri": "https://localhost:8080/"
        }
      },
      "source": [
        "# 5.4 Start learning using Bayes tuner\n",
        "\n",
        "start = time.time()\n",
        "result = bayes_cv_tuner.fit(\n",
        "                            train_x,       # Note that we use normal train data\n",
        "                            train_y,       #  rather than lgb train-data matrix\n",
        "                            #callback=status_print\n",
        "                           )\n",
        "\n",
        "end = time.time()\n",
        "(end - start)/60\n"
      ],
      "execution_count": 44,
      "outputs": [
        {
          "output_type": "stream",
          "text": [
            "Fitting 3 folds for each of 1 candidates, totalling 3 fits\n"
          ],
          "name": "stdout"
        },
        {
          "output_type": "stream",
          "text": [
            "[Parallel(n_jobs=2)]: Using backend LokyBackend with 2 concurrent workers.\n",
            "[Parallel(n_jobs=2)]: Done   3 out of   3 | elapsed:    3.6s finished\n",
            "[Parallel(n_jobs=2)]: Using backend LokyBackend with 2 concurrent workers.\n"
          ],
          "name": "stderr"
        },
        {
          "output_type": "stream",
          "text": [
            "Fitting 3 folds for each of 1 candidates, totalling 3 fits\n"
          ],
          "name": "stdout"
        },
        {
          "output_type": "stream",
          "text": [
            "[Parallel(n_jobs=2)]: Done   3 out of   3 | elapsed:    2.3s finished\n",
            "[Parallel(n_jobs=2)]: Using backend LokyBackend with 2 concurrent workers.\n"
          ],
          "name": "stderr"
        },
        {
          "output_type": "stream",
          "text": [
            "Fitting 3 folds for each of 1 candidates, totalling 3 fits\n"
          ],
          "name": "stdout"
        },
        {
          "output_type": "stream",
          "text": [
            "[Parallel(n_jobs=2)]: Done   3 out of   3 | elapsed:    2.7s finished\n",
            "[Parallel(n_jobs=2)]: Using backend LokyBackend with 2 concurrent workers.\n"
          ],
          "name": "stderr"
        },
        {
          "output_type": "stream",
          "text": [
            "Fitting 3 folds for each of 1 candidates, totalling 3 fits\n"
          ],
          "name": "stdout"
        },
        {
          "output_type": "stream",
          "text": [
            "[Parallel(n_jobs=2)]: Done   3 out of   3 | elapsed:    5.0s finished\n",
            "[Parallel(n_jobs=2)]: Using backend LokyBackend with 2 concurrent workers.\n"
          ],
          "name": "stderr"
        },
        {
          "output_type": "stream",
          "text": [
            "Fitting 3 folds for each of 1 candidates, totalling 3 fits\n"
          ],
          "name": "stdout"
        },
        {
          "output_type": "stream",
          "text": [
            "[Parallel(n_jobs=2)]: Done   3 out of   3 | elapsed:    2.5s finished\n",
            "[Parallel(n_jobs=2)]: Using backend LokyBackend with 2 concurrent workers.\n"
          ],
          "name": "stderr"
        },
        {
          "output_type": "stream",
          "text": [
            "Fitting 3 folds for each of 1 candidates, totalling 3 fits\n"
          ],
          "name": "stdout"
        },
        {
          "output_type": "stream",
          "text": [
            "[Parallel(n_jobs=2)]: Done   3 out of   3 | elapsed:    1.4s finished\n",
            "[Parallel(n_jobs=2)]: Using backend LokyBackend with 2 concurrent workers.\n"
          ],
          "name": "stderr"
        },
        {
          "output_type": "stream",
          "text": [
            "Fitting 3 folds for each of 1 candidates, totalling 3 fits\n"
          ],
          "name": "stdout"
        },
        {
          "output_type": "stream",
          "text": [
            "[Parallel(n_jobs=2)]: Done   3 out of   3 | elapsed:    8.3s finished\n",
            "[Parallel(n_jobs=2)]: Using backend LokyBackend with 2 concurrent workers.\n"
          ],
          "name": "stderr"
        },
        {
          "output_type": "stream",
          "text": [
            "Fitting 3 folds for each of 1 candidates, totalling 3 fits\n"
          ],
          "name": "stdout"
        },
        {
          "output_type": "stream",
          "text": [
            "[Parallel(n_jobs=2)]: Done   3 out of   3 | elapsed:    1.9s finished\n",
            "[Parallel(n_jobs=2)]: Using backend LokyBackend with 2 concurrent workers.\n"
          ],
          "name": "stderr"
        },
        {
          "output_type": "stream",
          "text": [
            "Fitting 3 folds for each of 1 candidates, totalling 3 fits\n"
          ],
          "name": "stdout"
        },
        {
          "output_type": "stream",
          "text": [
            "[Parallel(n_jobs=2)]: Done   3 out of   3 | elapsed:    0.3s finished\n"
          ],
          "name": "stderr"
        },
        {
          "output_type": "stream",
          "text": [
            "Fitting 3 folds for each of 1 candidates, totalling 3 fits\n"
          ],
          "name": "stdout"
        },
        {
          "output_type": "stream",
          "text": [
            "[Parallel(n_jobs=2)]: Using backend LokyBackend with 2 concurrent workers.\n",
            "[Parallel(n_jobs=2)]: Done   3 out of   3 | elapsed:    1.6s finished\n"
          ],
          "name": "stderr"
        },
        {
          "output_type": "stream",
          "text": [
            "[LightGBM] [Warning] bagging_fraction is set=0.9234158717004632, subsample=1.0 will be ignored. Current value: bagging_fraction=0.9234158717004632\n",
            "[LightGBM] [Warning] boosting is set=dart, boosting_type=gbdt will be ignored. Current value: boosting=dart\n",
            "[LightGBM] [Warning] feature_fraction is set=0.7994602362675662, colsample_bytree=1.0 will be ignored. Current value: feature_fraction=0.7994602362675662\n",
            "[LightGBM] [Warning] bagging_freq is set=8, subsample_freq=0 will be ignored. Current value: bagging_freq=8\n",
            "[LightGBM] [Warning] bagging_fraction is set=0.9234158717004632, subsample=1.0 will be ignored. Current value: bagging_fraction=0.9234158717004632\n",
            "[LightGBM] [Warning] boosting is set=dart, boosting_type=gbdt will be ignored. Current value: boosting=dart\n",
            "[LightGBM] [Warning] feature_fraction is set=0.7994602362675662, colsample_bytree=1.0 will be ignored. Current value: feature_fraction=0.7994602362675662\n",
            "[LightGBM] [Warning] bagging_freq is set=8, subsample_freq=0 will be ignored. Current value: bagging_freq=8\n",
            "[LightGBM] [Warning] Auto-choosing col-wise multi-threading, the overhead of testing was 0.001813 seconds.\n",
            "You can set `force_col_wise=true` to remove the overhead.\n"
          ],
          "name": "stdout"
        },
        {
          "output_type": "execute_result",
          "data": {
            "text/plain": [
              "0.5544545332590739"
            ]
          },
          "metadata": {
            "tags": []
          },
          "execution_count": 44
        }
      ]
    },
    {
      "cell_type": "markdown",
      "metadata": {
        "id": "Qd4ly49X5wmS"
      },
      "source": [
        "#### Results"
      ]
    },
    {
      "cell_type": "code",
      "metadata": {
        "id": "ylRwPe3-21Op",
        "colab": {
          "base_uri": "https://localhost:8080/"
        },
        "outputId": "603bb564-01e9-421e-c2ba-09adb7015142"
      },
      "source": [
        "# 6.0 So what are the results?\n",
        "#      Use the following estimator in future\n",
        "#      What parameters the best estimator was using?\n",
        "\n",
        "best_params = pd.Series(bayes_cv_tuner.best_params_)\n",
        "print(best_params)\n",
        "\n",
        "# 6.1 Best auc score for the above estimator\n",
        "\n",
        "print(\"\\n\\nBest score: \", np.round(bayes_cv_tuner.best_score_, 4))\n"
      ],
      "execution_count": null,
      "outputs": [
        {
          "output_type": "stream",
          "text": [
            "bagging_fraction        0.923416\n",
            "bagging_freq                   8\n",
            "boosting                    dart\n",
            "feature_fraction         0.79946\n",
            "learning_rate           0.153193\n",
            "max_bin                      635\n",
            "max_depth                     33\n",
            "min_child_samples             22\n",
            "min_child_weight         7.60494\n",
            "n_estimators                  82\n",
            "num_leaves                    42\n",
            "reg_alpha            0.000833057\n",
            "reg_lambda             0.0219248\n",
            "scale_pos_weight         4.11378\n",
            "subsample_for_bin         287406\n",
            "dtype: object\n",
            "\n",
            "\n",
            "Best score:  0.9803\n"
          ],
          "name": "stdout"
        }
      ]
    },
    {
      "cell_type": "code",
      "metadata": {
        "colab": {
          "base_uri": "https://localhost:8080/",
          "height": 415
        },
        "id": "sxdUqR6k25Jf",
        "outputId": "651aaff6-98c6-42e8-8d14-825d95dc8ecc"
      },
      "source": [
        "# 6.2 Summary of all models developed by Bayes process\n",
        "\n",
        "allModels_summary = pd.DataFrame(bayes_cv_tuner.cv_results_)\n",
        "allModels_summary.shape  # 50 X 26 ; 50 iterations\n",
        "\n",
        "# 17.3\n",
        "allModels_summary.head()"
      ],
      "execution_count": null,
      "outputs": [
        {
          "output_type": "execute_result",
          "data": {
            "text/plain": [
              "(10, 26)"
            ]
          },
          "metadata": {
            "tags": []
          },
          "execution_count": 17
        },
        {
          "output_type": "execute_result",
          "data": {
            "text/html": [
              "<div>\n",
              "<style scoped>\n",
              "    .dataframe tbody tr th:only-of-type {\n",
              "        vertical-align: middle;\n",
              "    }\n",
              "\n",
              "    .dataframe tbody tr th {\n",
              "        vertical-align: top;\n",
              "    }\n",
              "\n",
              "    .dataframe thead th {\n",
              "        text-align: right;\n",
              "    }\n",
              "</style>\n",
              "<table border=\"1\" class=\"dataframe\">\n",
              "  <thead>\n",
              "    <tr style=\"text-align: right;\">\n",
              "      <th></th>\n",
              "      <th>split0_test_score</th>\n",
              "      <th>split1_test_score</th>\n",
              "      <th>split2_test_score</th>\n",
              "      <th>mean_test_score</th>\n",
              "      <th>std_test_score</th>\n",
              "      <th>rank_test_score</th>\n",
              "      <th>mean_fit_time</th>\n",
              "      <th>std_fit_time</th>\n",
              "      <th>mean_score_time</th>\n",
              "      <th>std_score_time</th>\n",
              "      <th>param_bagging_fraction</th>\n",
              "      <th>param_bagging_freq</th>\n",
              "      <th>param_boosting</th>\n",
              "      <th>param_feature_fraction</th>\n",
              "      <th>param_learning_rate</th>\n",
              "      <th>param_max_bin</th>\n",
              "      <th>param_max_depth</th>\n",
              "      <th>param_min_child_samples</th>\n",
              "      <th>param_min_child_weight</th>\n",
              "      <th>param_n_estimators</th>\n",
              "      <th>param_num_leaves</th>\n",
              "      <th>param_reg_alpha</th>\n",
              "      <th>param_reg_lambda</th>\n",
              "      <th>param_scale_pos_weight</th>\n",
              "      <th>param_subsample_for_bin</th>\n",
              "      <th>params</th>\n",
              "    </tr>\n",
              "  </thead>\n",
              "  <tbody>\n",
              "    <tr>\n",
              "      <th>0</th>\n",
              "      <td>0.976999</td>\n",
              "      <td>0.977463</td>\n",
              "      <td>0.974857</td>\n",
              "      <td>0.976440</td>\n",
              "      <td>0.001135</td>\n",
              "      <td>3</td>\n",
              "      <td>0.702537</td>\n",
              "      <td>0.311060</td>\n",
              "      <td>0.021811</td>\n",
              "      <td>0.006333</td>\n",
              "      <td>0.882021</td>\n",
              "      <td>8</td>\n",
              "      <td>gbdt</td>\n",
              "      <td>0.352640</td>\n",
              "      <td>0.218925</td>\n",
              "      <td>473</td>\n",
              "      <td>18</td>\n",
              "      <td>37</td>\n",
              "      <td>3.740170</td>\n",
              "      <td>82</td>\n",
              "      <td>27</td>\n",
              "      <td>1.385174e-08</td>\n",
              "      <td>1.370904e-07</td>\n",
              "      <td>6.688861</td>\n",
              "      <td>131156</td>\n",
              "      <td>{'bagging_fraction': 0.8820207917706628, 'bagg...</td>\n",
              "    </tr>\n",
              "    <tr>\n",
              "      <th>1</th>\n",
              "      <td>0.980483</td>\n",
              "      <td>0.980932</td>\n",
              "      <td>0.978493</td>\n",
              "      <td>0.979969</td>\n",
              "      <td>0.001060</td>\n",
              "      <td>2</td>\n",
              "      <td>5.272465</td>\n",
              "      <td>3.297048</td>\n",
              "      <td>0.038632</td>\n",
              "      <td>0.016431</td>\n",
              "      <td>0.967478</td>\n",
              "      <td>9</td>\n",
              "      <td>dart</td>\n",
              "      <td>0.860979</td>\n",
              "      <td>0.534879</td>\n",
              "      <td>156</td>\n",
              "      <td>8</td>\n",
              "      <td>18</td>\n",
              "      <td>6.721562</td>\n",
              "      <td>98</td>\n",
              "      <td>30</td>\n",
              "      <td>8.524050e-01</td>\n",
              "      <td>1.590337e+00</td>\n",
              "      <td>4.496724</td>\n",
              "      <td>342928</td>\n",
              "      <td>{'bagging_fraction': 0.9674776711106569, 'bagg...</td>\n",
              "    </tr>\n",
              "    <tr>\n",
              "      <th>2</th>\n",
              "      <td>0.945151</td>\n",
              "      <td>0.952531</td>\n",
              "      <td>0.936246</td>\n",
              "      <td>0.944643</td>\n",
              "      <td>0.006658</td>\n",
              "      <td>9</td>\n",
              "      <td>1.585780</td>\n",
              "      <td>0.729317</td>\n",
              "      <td>0.029046</td>\n",
              "      <td>0.011230</td>\n",
              "      <td>0.888967</td>\n",
              "      <td>9</td>\n",
              "      <td>dart</td>\n",
              "      <td>0.446666</td>\n",
              "      <td>0.023763</td>\n",
              "      <td>508</td>\n",
              "      <td>9</td>\n",
              "      <td>38</td>\n",
              "      <td>6.016064</td>\n",
              "      <td>99</td>\n",
              "      <td>33</td>\n",
              "      <td>2.711809e-06</td>\n",
              "      <td>2.367361e-07</td>\n",
              "      <td>5.585960</td>\n",
              "      <td>278139</td>\n",
              "      <td>{'bagging_fraction': 0.8889665024602303, 'bagg...</td>\n",
              "    </tr>\n",
              "    <tr>\n",
              "      <th>3</th>\n",
              "      <td>0.976621</td>\n",
              "      <td>0.976025</td>\n",
              "      <td>0.973043</td>\n",
              "      <td>0.975230</td>\n",
              "      <td>0.001565</td>\n",
              "      <td>4</td>\n",
              "      <td>0.739239</td>\n",
              "      <td>0.399895</td>\n",
              "      <td>0.022771</td>\n",
              "      <td>0.008165</td>\n",
              "      <td>0.962479</td>\n",
              "      <td>3</td>\n",
              "      <td>gbdt</td>\n",
              "      <td>0.742212</td>\n",
              "      <td>0.111200</td>\n",
              "      <td>186</td>\n",
              "      <td>38</td>\n",
              "      <td>44</td>\n",
              "      <td>9.207360</td>\n",
              "      <td>69</td>\n",
              "      <td>19</td>\n",
              "      <td>3.449623e-02</td>\n",
              "      <td>2.114410e-02</td>\n",
              "      <td>1.236578</td>\n",
              "      <td>485880</td>\n",
              "      <td>{'bagging_fraction': 0.9624791976714727, 'bagg...</td>\n",
              "    </tr>\n",
              "    <tr>\n",
              "      <th>4</th>\n",
              "      <td>0.974006</td>\n",
              "      <td>0.976800</td>\n",
              "      <td>0.970314</td>\n",
              "      <td>0.973707</td>\n",
              "      <td>0.002657</td>\n",
              "      <td>5</td>\n",
              "      <td>1.206950</td>\n",
              "      <td>0.558106</td>\n",
              "      <td>0.023425</td>\n",
              "      <td>0.007199</td>\n",
              "      <td>0.959911</td>\n",
              "      <td>5</td>\n",
              "      <td>gbdt</td>\n",
              "      <td>0.672571</td>\n",
              "      <td>0.642250</td>\n",
              "      <td>745</td>\n",
              "      <td>22</td>\n",
              "      <td>33</td>\n",
              "      <td>4.177755</td>\n",
              "      <td>83</td>\n",
              "      <td>26</td>\n",
              "      <td>8.740059e-02</td>\n",
              "      <td>1.165902e-06</td>\n",
              "      <td>3.383559</td>\n",
              "      <td>207155</td>\n",
              "      <td>{'bagging_fraction': 0.9599106883214347, 'bagg...</td>\n",
              "    </tr>\n",
              "  </tbody>\n",
              "</table>\n",
              "</div>"
            ],
            "text/plain": [
              "   split0_test_score  ...                                             params\n",
              "0           0.976999  ...  {'bagging_fraction': 0.8820207917706628, 'bagg...\n",
              "1           0.980483  ...  {'bagging_fraction': 0.9674776711106569, 'bagg...\n",
              "2           0.945151  ...  {'bagging_fraction': 0.8889665024602303, 'bagg...\n",
              "3           0.976621  ...  {'bagging_fraction': 0.9624791976714727, 'bagg...\n",
              "4           0.974006  ...  {'bagging_fraction': 0.9599106883214347, 'bagg...\n",
              "\n",
              "[5 rows x 26 columns]"
            ]
          },
          "metadata": {
            "tags": []
          },
          "execution_count": 17
        }
      ]
    },
    {
      "cell_type": "code",
      "metadata": {
        "id": "0dpfv7-b8X9w"
      },
      "source": [
        "####### I am done #############"
      ],
      "execution_count": null,
      "outputs": []
    }
  ]
}