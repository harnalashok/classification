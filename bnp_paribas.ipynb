{
  "nbformat": 4,
  "nbformat_minor": 0,
  "metadata": {
    "colab": {
      "name": "bnp_paribas.ipynb",
      "provenance": [],
      "collapsed_sections": [],
      "mount_file_id": "1WdHVvp7SlJBiewOWt40mA6aN01k2VfTW",
      "authorship_tag": "ABX9TyNO2IMVFZtz8yjYE/MVf3gu",
      "include_colab_link": true
    },
    "kernelspec": {
      "name": "python3",
      "display_name": "Python 3"
    },
    "language_info": {
      "name": "python"
    }
  },
  "cells": [
    {
      "cell_type": "markdown",
      "metadata": {
        "id": "view-in-github",
        "colab_type": "text"
      },
      "source": [
        "<a href=\"https://colab.research.google.com/github/harnalashok/classification/blob/main/bnp_paribas.ipynb\" target=\"_parent\"><img src=\"https://colab.research.google.com/assets/colab-badge.svg\" alt=\"Open In Colab\"/></a>"
      ]
    },
    {
      "cell_type": "code",
      "metadata": {
        "id": "CPJunTvKWkCj"
      },
      "source": [
        "\"\"\"\n",
        "Last amended: 20th August, 2018\n",
        "My folder: C:\\Users\\ashok\\OneDrive\\Documents\\bnp_paribas_insurance\n",
        "           /home/ashok/Documents/bnp_paribas_insurance/\n",
        "Ref:\n",
        "    Kaggle problem: https://www.kaggle.com/c/bnp-paribas-cardif-claims-management\n",
        "    https://github.com/catboost/tutorials/blob/master/advanced_tutorials/kaggle_paribas.ipynb\n",
        "\n",
        "Evaluation:\n",
        "    logloss\n",
        "    https://www.kaggle.com/c/bnp-paribas-cardif-claims-management#evaluation\n",
        "\n",
        "Objectives:\n",
        "    i)   Learn to work with catboost\n",
        "    ii)  Plotting missingvalues graphs\n",
        "            a. Matrix plots\n",
        "            b. Heatmap/correlation plots\n",
        "            c. dendogram plots\n",
        "    ii)  Plotting ROC curve in python\n",
        "    iii) Feature importance\n",
        "    iv)  Grid search--parameter tuning\n",
        "\n",
        "\"\"\"\n"
      ],
      "execution_count": null,
      "outputs": []
    },
    {
      "cell_type": "code",
      "metadata": {
        "id": "RZ9tPu1nZFfw"
      },
      "source": [
        "! pip install catboost"
      ],
      "execution_count": null,
      "outputs": []
    },
    {
      "cell_type": "code",
      "metadata": {
        "id": "2waN9FWMXD6p"
      },
      "source": [
        "# 1.0 Call libraries\n",
        "#%reset -f\n",
        "import pandas as pd        # Data manipulation\n",
        "import numpy as np         # Array manipulation\n",
        "\n",
        "# 1.1 Modeling libraries\n",
        "from sklearn.model_selection import train_test_split\n",
        "# 1.1.1 For parameter-search over grid\n",
        "from sklearn.model_selection import GridSearchCV\n",
        "# conda install -c conda-forge catboost \n",
        "from catboost import CatBoostClassifier   # For classification\n",
        "from catboost import Pool                 # Pool is catboost's internal data structure\n",
        "\n",
        "# 1.2 Model performance\n",
        "from sklearn.metrics import confusion_matrix\n",
        "from sklearn import metrics\n",
        "\n",
        "# 1.3 For plotting\n",
        "# conda install -c conda-forge scikit-plot\n",
        "from sklearn.metrics import roc_curve\n",
        "#import scikitplot as skplt      # For roc graphs\n",
        "import matplotlib.pyplot as plt\n",
        "import seaborn as sns\n",
        "\n",
        "# 1.4 Plot missing values\n",
        "#     Ref: https://github.com/ResidentMario/missingno\n",
        "#     pip install missingno\n",
        "import missingno as msno      # For missing plots\n",
        "\n",
        "\n",
        "# 1.5 Misc\n",
        "import os\n",
        "import time\n",
        "import gc"
      ],
      "execution_count": 75,
      "outputs": []
    },
    {
      "cell_type": "code",
      "metadata": {
        "id": "_9tCjEQQeKos"
      },
      "source": [
        "from IPython.core.interactiveshell import InteractiveShell\n",
        "InteractiveShell.ast_node_interactivity = \"all\"\n"
      ],
      "execution_count": 14,
      "outputs": []
    },
    {
      "cell_type": "code",
      "metadata": {
        "colab": {
          "base_uri": "https://localhost:8080/"
        },
        "id": "nugrWxl5btFx",
        "outputId": "2082754a-e6b1-4a93-d88d-7fae5717cef3"
      },
      "source": [
        "from google.colab import drive\n",
        "drive.mount('/gdrive')"
      ],
      "execution_count": 8,
      "outputs": [
        {
          "output_type": "stream",
          "text": [
            "Mounted at /gdrive\n"
          ],
          "name": "stdout"
        }
      ]
    },
    {
      "cell_type": "code",
      "metadata": {
        "id": "ogDwHWGnbwdV"
      },
      "source": [
        "filePath = \"/gdrive/MyDrive/bnp_paribas\"\n",
        "# 2.0 Change working directory and read file\n",
        "os.chdir(filePath)\n",
        "#os.chdir(\"C:/Users/ashok/OneDrive/Documents/bnp_paribas_insurance\")\n",
        "# 2.1\n",
        "train_df = pd.read_csv('train.csv.zip')"
      ],
      "execution_count": 42,
      "outputs": []
    },
    {
      "cell_type": "code",
      "metadata": {
        "id": "Y-87NQ7ccYBL"
      },
      "source": [
        "# 2.2 Explore data\n",
        "print(train_df.shape)          # 114321, 133\n",
        "print()\n",
        "print(train_df.columns)        # Column names\n",
        "print()\n",
        "print(train_df.dtypes)         # Column types\n",
        "print()\n",
        "# 2.3 Count of different dtypes\n",
        "#     float64: 138, object: 19, int64: 6\n",
        "train_df.dtypes.value_counts()\n",
        "# Memory usage\n",
        "print()\n",
        "print(train_df.memory_usage().sum())  # 121637672 = 121mb"
      ],
      "execution_count": null,
      "outputs": []
    },
    {
      "cell_type": "code",
      "metadata": {
        "id": "EREHDVU3hA84"
      },
      "source": [
        "train_df['target'].value_counts()"
      ],
      "execution_count": null,
      "outputs": []
    },
    {
      "cell_type": "code",
      "metadata": {
        "id": "6dwNabXUfJiJ"
      },
      "source": [
        "df = train_df.select_dtypes(include = ['float64'])\n",
        "print(df.max().max())\n",
        "print(df.min().min())"
      ],
      "execution_count": null,
      "outputs": []
    },
    {
      "cell_type": "code",
      "metadata": {
        "id": "diIaKcord46u"
      },
      "source": [
        "# StackOverFlow: https://stackoverflow.com/a/1658752\n",
        "print(np.finfo('float64'))\n",
        "print(np.finfo('float32'))"
      ],
      "execution_count": null,
      "outputs": []
    },
    {
      "cell_type": "code",
      "metadata": {
        "id": "uoAQBCJOfsoE"
      },
      "source": [
        "df = train_df.select_dtypes(include = ['int64'])\n",
        "print(df.max().max())\n",
        "print(df.min().min())\n",
        "int_cols = df.columns\n",
        "int_cols"
      ],
      "execution_count": null,
      "outputs": []
    },
    {
      "cell_type": "code",
      "metadata": {
        "id": "G7gy4Q1pga3w"
      },
      "source": [
        "print(np.iinfo('int64'))\n",
        "print(np.iinfo('int32'))\n",
        "print(np.iinfo('int16'))"
      ],
      "execution_count": null,
      "outputs": []
    },
    {
      "cell_type": "code",
      "metadata": {
        "id": "xKQGB10rgia8"
      },
      "source": [
        "train_df[int_cols] = train_df[int_cols].astype('int16')\n",
        "train_df.dtypes.value_counts()\n",
        "print()\n",
        "print(train_df.memory_usage().sum())  # 117522116 = 117mb"
      ],
      "execution_count": null,
      "outputs": []
    },
    {
      "cell_type": "code",
      "metadata": {
        "colab": {
          "base_uri": "https://localhost:8080/",
          "height": 112
        },
        "id": "m4Q7cOKwicB0",
        "outputId": "36e01d66-3b80-455f-d54c-17f268307f56"
      },
      "source": [
        "# 2.4.1 Just look at data upto IInd index\n",
        "train_df.loc[:1 , train_df.dtypes == \"object\"].head(20)  # All have char data"
      ],
      "execution_count": 55,
      "outputs": [
        {
          "output_type": "execute_result",
          "data": {
            "text/html": [
              "<div>\n",
              "<style scoped>\n",
              "    .dataframe tbody tr th:only-of-type {\n",
              "        vertical-align: middle;\n",
              "    }\n",
              "\n",
              "    .dataframe tbody tr th {\n",
              "        vertical-align: top;\n",
              "    }\n",
              "\n",
              "    .dataframe thead th {\n",
              "        text-align: right;\n",
              "    }\n",
              "</style>\n",
              "<table border=\"1\" class=\"dataframe\">\n",
              "  <thead>\n",
              "    <tr style=\"text-align: right;\">\n",
              "      <th></th>\n",
              "      <th>v3</th>\n",
              "      <th>v22</th>\n",
              "      <th>v24</th>\n",
              "      <th>v30</th>\n",
              "      <th>v31</th>\n",
              "      <th>v47</th>\n",
              "      <th>v52</th>\n",
              "      <th>v56</th>\n",
              "      <th>v66</th>\n",
              "      <th>v71</th>\n",
              "      <th>v74</th>\n",
              "      <th>v75</th>\n",
              "      <th>v79</th>\n",
              "      <th>v91</th>\n",
              "      <th>v107</th>\n",
              "      <th>v110</th>\n",
              "      <th>v112</th>\n",
              "      <th>v113</th>\n",
              "      <th>v125</th>\n",
              "    </tr>\n",
              "  </thead>\n",
              "  <tbody>\n",
              "    <tr>\n",
              "      <th>0</th>\n",
              "      <td>C</td>\n",
              "      <td>XDX</td>\n",
              "      <td>C</td>\n",
              "      <td>C</td>\n",
              "      <td>A</td>\n",
              "      <td>C</td>\n",
              "      <td>G</td>\n",
              "      <td>DI</td>\n",
              "      <td>C</td>\n",
              "      <td>F</td>\n",
              "      <td>B</td>\n",
              "      <td>D</td>\n",
              "      <td>E</td>\n",
              "      <td>A</td>\n",
              "      <td>E</td>\n",
              "      <td>B</td>\n",
              "      <td>O</td>\n",
              "      <td>NaN</td>\n",
              "      <td>AU</td>\n",
              "    </tr>\n",
              "    <tr>\n",
              "      <th>1</th>\n",
              "      <td>C</td>\n",
              "      <td>GUV</td>\n",
              "      <td>C</td>\n",
              "      <td>C</td>\n",
              "      <td>A</td>\n",
              "      <td>E</td>\n",
              "      <td>G</td>\n",
              "      <td>DY</td>\n",
              "      <td>A</td>\n",
              "      <td>F</td>\n",
              "      <td>B</td>\n",
              "      <td>D</td>\n",
              "      <td>D</td>\n",
              "      <td>B</td>\n",
              "      <td>B</td>\n",
              "      <td>A</td>\n",
              "      <td>U</td>\n",
              "      <td>G</td>\n",
              "      <td>AF</td>\n",
              "    </tr>\n",
              "  </tbody>\n",
              "</table>\n",
              "</div>"
            ],
            "text/plain": [
              "  v3  v22 v24 v30 v31 v47 v52 v56 v66  ... v74 v75 v79 v91 v107 v110 v112 v113 v125\n",
              "0  C  XDX   C   C   A   C   G  DI   C  ...   B   D   E   A    E    B    O  NaN   AU\n",
              "1  C  GUV   C   C   A   E   G  DY   A  ...   B   D   D   B    B    A    U    G   AF\n",
              "\n",
              "[2 rows x 19 columns]"
            ]
          },
          "metadata": {
            "tags": []
          },
          "execution_count": 55
        }
      ]
    },
    {
      "cell_type": "code",
      "metadata": {
        "colab": {
          "base_uri": "https://localhost:8080/"
        },
        "id": "hguKwx6Mlq53",
        "outputId": "36d71c84-2093-49ce-b9c0-90eab6a95bc6"
      },
      "source": [
        "# Calculate number of levels in each\n",
        "df = train_df.loc[:1 , train_df.dtypes == \"object\"]\n",
        "print()\n",
        "df['v22'].value_counts()\n",
        "print()\n",
        "len(df['v22'].value_counts().index.values)\n"
      ],
      "execution_count": 61,
      "outputs": [
        {
          "output_type": "stream",
          "text": [
            "\n"
          ],
          "name": "stdout"
        },
        {
          "output_type": "execute_result",
          "data": {
            "text/plain": [
              "GUV    1\n",
              "XDX    1\n",
              "Name: v22, dtype: int64"
            ]
          },
          "metadata": {
            "tags": []
          },
          "execution_count": 61
        },
        {
          "output_type": "stream",
          "text": [
            "\n"
          ],
          "name": "stdout"
        },
        {
          "output_type": "execute_result",
          "data": {
            "text/plain": [
              "2"
            ]
          },
          "metadata": {
            "tags": []
          },
          "execution_count": 61
        }
      ]
    },
    {
      "cell_type": "code",
      "metadata": {
        "colab": {
          "base_uri": "https://localhost:8080/"
        },
        "id": "Ls8u1P9vmM9c",
        "outputId": "8e6f525f-fb9f-47fe-a22e-85212f8ff05f"
      },
      "source": [
        "for i in df.columns:\n",
        "  print(i,len(df['v22'].value_counts().index.values))"
      ],
      "execution_count": 62,
      "outputs": [
        {
          "output_type": "stream",
          "text": [
            "v3 2\n",
            "v22 2\n",
            "v24 2\n",
            "v30 2\n",
            "v31 2\n",
            "v47 2\n",
            "v52 2\n",
            "v56 2\n",
            "v66 2\n",
            "v71 2\n",
            "v74 2\n",
            "v75 2\n",
            "v79 2\n",
            "v91 2\n",
            "v107 2\n",
            "v110 2\n",
            "v112 2\n",
            "v113 2\n",
            "v125 2\n"
          ],
          "name": "stdout"
        }
      ]
    },
    {
      "cell_type": "code",
      "metadata": {
        "id": "ITQjIagXrkzn"
      },
      "source": [
        ""
      ],
      "execution_count": null,
      "outputs": []
    },
    {
      "cell_type": "code",
      "metadata": {
        "colab": {
          "base_uri": "https://localhost:8080/"
        },
        "id": "JgRVwcPzmpgI",
        "outputId": "749db561-abb1-40d5-bea7-ed6cbdd33229"
      },
      "source": [
        "train_df.loc[:, train_df.dtypes == 'object'].isnull().sum().sort_values(ascending = False)\n",
        "train_df.loc[:, train_df.dtypes == 'float64'].isnull().sum().sort_values(ascending = False)\n",
        "train_df.loc[:, train_df.dtypes == 'int16'].isnull().sum().sort_values(ascending = False)\n"
      ],
      "execution_count": 74,
      "outputs": [
        {
          "output_type": "execute_result",
          "data": {
            "text/plain": [
              "v30     60110\n",
              "v113    55304\n",
              "v56      6882\n",
              "v3       3457\n",
              "v31      3457\n",
              "v22       500\n",
              "v112      382\n",
              "v125       77\n",
              "v52         3\n",
              "v91         3\n",
              "v107        3\n",
              "v74         0\n",
              "v75         0\n",
              "v66         0\n",
              "v79         0\n",
              "v47         0\n",
              "v24         0\n",
              "v110        0\n",
              "v71         0\n",
              "dtype: int64"
            ]
          },
          "metadata": {
            "tags": []
          },
          "execution_count": 74
        },
        {
          "output_type": "execute_result",
          "data": {
            "text/plain": [
              "v102    51316\n",
              "v85     50682\n",
              "v119    50680\n",
              "v123    50678\n",
              "v51     50678\n",
              "        ...  \n",
              "v12        86\n",
              "v50        86\n",
              "v10        84\n",
              "v114       30\n",
              "v14         4\n",
              "Length: 108, dtype: int64"
            ]
          },
          "metadata": {
            "tags": []
          },
          "execution_count": 74
        },
        {
          "output_type": "execute_result",
          "data": {
            "text/plain": [
              "v129      0\n",
              "v72       0\n",
              "v62       0\n",
              "v38       0\n",
              "target    0\n",
              "ID        0\n",
              "dtype: int64"
            ]
          },
          "metadata": {
            "tags": []
          },
          "execution_count": 74
        }
      ]
    },
    {
      "cell_type": "markdown",
      "metadata": {
        "id": "tpPKWeOhy91S"
      },
      "source": [
        "## Patterns in missing data"
      ]
    },
    {
      "cell_type": "code",
      "metadata": {
        "colab": {
          "base_uri": "https://localhost:8080/"
        },
        "id": "ACp4jKy-xcUK",
        "outputId": "86feee96-b5bf-41ad-9985-d15e7437d641"
      },
      "source": [
        "sample = train_df.sample(frac = 0.1)\n",
        "sample.shape  # 11432, 133)"
      ],
      "execution_count": 80,
      "outputs": [
        {
          "output_type": "execute_result",
          "data": {
            "text/plain": [
              "(11432, 133)"
            ]
          },
          "metadata": {
            "tags": []
          },
          "execution_count": 80
        }
      ]
    },
    {
      "cell_type": "code",
      "metadata": {
        "colab": {
          "base_uri": "https://localhost:8080/",
          "height": 284
        },
        "id": "TgE15-c4o5KP",
        "outputId": "8152788f-bda7-4f0d-dd7e-11b53c1b3fef"
      },
      "source": [
        "sns.heatmap(sample.loc[:, sample.dtypes=='object' ].isnull(), cbar=False);"
      ],
      "execution_count": 87,
      "outputs": [
        {
          "output_type": "display_data",
          "data": {
            "image/png": "[encoded data removed]",
            "text/plain": [
              "<Figure size 432x288 with 1 Axes>"
            ]
          },
          "metadata": {
            "tags": [],
            "needs_background": "light"
          }
        }
      ]
    },
    {
      "cell_type": "code",
      "metadata": {
        "colab": {
          "base_uri": "https://localhost:8080/",
          "height": 440
        },
        "id": "ucsCl7gsy3Ka",
        "outputId": "b4100148-908c-498f-eb81-f5d9a37f2bfc"
      },
      "source": [
        "msno.matrix(sample.loc[:, sample.dtypes=='object' ]);"
      ],
      "execution_count": 88,
      "outputs": [
        {
          "output_type": "display_data",
          "data": {
            "image/png": "[encoded data removed]",
            "text/plain": [
              "<Figure size 1800x720 with 2 Axes>"
            ]
          },
          "metadata": {
            "tags": [],
            "needs_background": "light"
          }
        }
      ]
    },
    {
      "cell_type": "code",
      "metadata": {
        "colab": {
          "base_uri": "https://localhost:8080/",
          "height": 284
        },
        "id": "_R1_NCi9ytGC",
        "outputId": "72a12048-1c32-446d-bcd2-bf4fbdbadd90"
      },
      "source": [
        "sns.heatmap(sample.loc[:, sample.dtypes=='float64' ].isnull(), cbar=False);"
      ],
      "execution_count": 86,
      "outputs": [
        {
          "output_type": "display_data",
          "data": {
            "image/png": "[encoded data removed]",
            "text/plain": [
              "<Figure size 432x288 with 1 Axes>"
            ]
          },
          "metadata": {
            "tags": [],
            "needs_background": "light"
          }
        }
      ]
    },
    {
      "cell_type": "code",
      "metadata": {
        "colab": {
          "base_uri": "https://localhost:8080/",
          "height": 411
        },
        "id": "RuHJeuduwzIC",
        "outputId": "0610be4b-5aef-4bcc-e84f-ce38e3b06fbd"
      },
      "source": [
        "msno.matrix(sample.loc[:, sample.dtypes=='float64' ]);"
      ],
      "execution_count": 90,
      "outputs": [
        {
          "output_type": "display_data",
          "data": {
            "image/png": "[encoded data removed]",
            "text/plain": [
              "<Figure size 1800x720 with 2 Axes>"
            ]
          },
          "metadata": {
            "tags": [],
            "needs_background": "light"
          }
        }
      ]
    },
    {
      "cell_type": "code",
      "metadata": {
        "id": "oQc18Z9I0Tjn"
      },
      "source": [
        "msno.dendrogram(sample.loc[:, sample.dtypes=='object' ])"
      ],
      "execution_count": null,
      "outputs": []
    },
    {
      "cell_type": "code",
      "metadata": {
        "id": "S4NTvG2w1HfT"
      },
      "source": [
        ""
      ],
      "execution_count": null,
      "outputs": []
    }
  ]
}