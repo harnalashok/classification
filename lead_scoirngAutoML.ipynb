{
  "nbformat": 4,
  "nbformat_minor": 0,
  "metadata": {
    "colab": {
      "name": "lead_scoirngAutoML.ipynb",
      "provenance": [],
      "collapsed_sections": [],
      "authorship_tag": "ABX9TyPrlBJW3tuPHRR0asrcgUbJ",
      "include_colab_link": true
    },
    "kernelspec": {
      "name": "python3",
      "display_name": "Python 3"
    },
    "language_info": {
      "name": "python"
    },
    "widgets": {
      "application/vnd.jupyter.widget-state+json": {
        "fdea6a58162243fa9cdf5485c7a5018a": {
          "model_module": "plotlywidget",
          "model_name": "FigureModel",
          "state": {
            "_view_name": "FigureView",
            "_py2js_animate": {},
            "_py2js_removeLayoutProps": {},
            "_last_trace_edit_id": 77,
            "_view_module": "plotlywidget",
            "_model_module_version": "^4.14.3",
            "_view_count": 0,
            "_js2py_relayout": {},
            "_py2js_moveTraces": {},
            "_py2js_addTraces": {},
            "_model_module": "plotlywidget",
            "_py2js_relayout": null,
            "_js2py_pointsCallback": {},
            "_js2py_update": {},
            "_js2py_restyle": {},
            "_py2js_removeTraceProps": {},
            "_py2js_deleteTraces": {},
            "_dom_classes": [],
            "_model_name": "FigureModel",
            "_layout": {
              "yaxis": {
                "title": {
                  "text": "Score"
                }
              },
              "xaxis": {
                "title": {
                  "text": "Iteration"
                },
                "rangemode": "tozero"
              },
              "title": {
                "text": "Pipeline Search: Iteration vs. Lead Scoring<br><sub>Gray marker indicates the score at current iteration</sub>"
              }
            },
            "_js2py_layoutDelta": {},
            "_py2js_update": null,
            "_data": [
              {
                "uid": "0afe25cc-5515-45aa-91ac-28f601cfbe9f",
                "mode": "lines+markers",
                "y": [],
                "x": [],
                "type": "scatter",
                "name": "Best Score"
              },
              {
                "name": "Iter score",
                "y": [],
                "mode": "markers",
                "marker": {
                  "color": "gray"
                },
                "x": [],
                "type": "scatter",
                "uid": "c7b2c00a-c71b-4058-bb5b-142c6bcd3e4a"
              }
            ],
            "_config": {
              "plotlyServerURL": "https://plot.ly"
            },
            "_py2js_restyle": null,
            "_view_module_version": "^4.14.3",
            "_last_layout_edit_id": 77,
            "_js2py_traceDeltas": {}
          }
        },
        "9100f22bdaad4d228e4c8d9ee701faf2": {
          "model_module": "plotlywidget",
          "model_name": "FigureModel",
          "state": {
            "_view_name": "FigureView",
            "_py2js_animate": {},
            "_py2js_removeLayoutProps": {},
            "_last_trace_edit_id": 77,
            "_view_module": "plotlywidget",
            "_model_module_version": "^4.14.3",
            "_view_count": 0,
            "_js2py_relayout": {},
            "_py2js_moveTraces": {},
            "_py2js_addTraces": {},
            "_model_module": "plotlywidget",
            "_py2js_relayout": null,
            "_js2py_pointsCallback": {},
            "_js2py_update": {},
            "_js2py_restyle": {},
            "_py2js_removeTraceProps": {},
            "_py2js_deleteTraces": {},
            "_dom_classes": [],
            "_model_name": "FigureModel",
            "_layout": {
              "yaxis": {
                "title": {
                  "text": "Score"
                }
              },
              "xaxis": {
                "title": {
                  "text": "Iteration"
                },
                "rangemode": "tozero"
              },
              "title": {
                "text": "Pipeline Search: Iteration vs. AUC<br><sub>Gray marker indicates the score at current iteration</sub>"
              }
            },
            "_js2py_layoutDelta": {},
            "_py2js_update": null,
            "_data": [
              {
                "uid": "4618b6e3-d76a-4a72-8d67-c3cec09ccb1b",
                "mode": "lines+markers",
                "y": [],
                "x": [],
                "type": "scatter",
                "name": "Best Score"
              },
              {
                "name": "Iter score",
                "y": [],
                "mode": "markers",
                "marker": {
                  "color": "gray"
                },
                "x": [],
                "type": "scatter",
                "uid": "1cef605e-3695-47af-b7eb-3be54787f774"
              }
            ],
            "_config": {
              "plotlyServerURL": "https://plot.ly"
            },
            "_py2js_restyle": null,
            "_view_module_version": "^4.14.3",
            "_last_layout_edit_id": 77,
            "_js2py_traceDeltas": {}
          }
        }
      }
    }
  },
  "cells": [
    {
      "cell_type": "markdown",
      "metadata": {
        "id": "view-in-github",
        "colab_type": "text"
      },
      "source": [
        "<a href=\"https://colab.research.google.com/github/harnalashok/classification/blob/main/lead_scoirngAutoML.ipynb\" target=\"_parent\"><img src=\"https://colab.research.google.com/assets/colab-badge.svg\" alt=\"Open In Colab\"/></a>"
      ]
    },
    {
      "cell_type": "code",
      "metadata": {
        "id": "2ppXhpO9e38h"
      },
      "source": [
        "# Last amended: 24th May, 2021\n",
        "# My folder: C:\\Users\\ashok\\OneDrive\\Documents\\leads_scoring\n",
        "#\n",
        "# AutoML:\n",
        "# Ref: https://evalml.alteryx.com/en/stable/demos/lead_scoring.html\n",
        "# Lead scoring:\n",
        "#      https://towardsdatascience.com/a-true-end-to-end-ml-example-lead-scoring-f5b52e9a3c80\n",
        "# Kaggle \n",
        "#      https://www.kaggle.com/ashydv/leads-dataset"
      ],
      "execution_count": null,
      "outputs": []
    },
    {
      "cell_type": "markdown",
      "metadata": {
        "id": "VICRLPwkfHfl"
      },
      "source": [
        "# Building a Lead Scoring Model with EvalML"
      ]
    },
    {
      "cell_type": "markdown",
      "metadata": {
        "id": "EqXqe6tYfB8N"
      },
      "source": [
        "In this example, we will build an optimized lead scoring model using EvalML. To optimize the pipeline, we will set up an objective function to maximize the revenue generated with true positives while taking into account the cost of false positives. At the end of this demo, we also show you how introducing the right objective during the training is significantly better than using a generic machine learning metric like AUC."
      ]
    },
    {
      "cell_type": "markdown",
      "metadata": {
        "id": "5PubkqfffNc8"
      },
      "source": [
        "## Install packages"
      ]
    },
    {
      "cell_type": "markdown",
      "metadata": {
        "id": "uU7Ftn_WzDVQ"
      },
      "source": [
        "EvalML is an AutoML library that builds, optimizes, and evaluates machine learning pipelines using domain-specific objective functions.\n",
        "\n",
        "Combined with Featuretools and Compose, EvalML can be used to create end-to-end supervised machine learning solutions."
      ]
    },
    {
      "cell_type": "code",
      "metadata": {
        "colab": {
          "base_uri": "https://localhost:8080/",
          "height": 1000
        },
        "id": "u-l_GcN7epOb",
        "outputId": "dc224d63-e813-4cb3-e2ce-439814b9ef52"
      },
      "source": [
        "# Install evalml. Some of the packages installed are:\n",
        "# imbalanced-learn, scikit-optimize, plotly, category-encoders,\n",
        "# graphviz, lightgbm, shap, statsmodels, catboost, scikit-learn\n",
        "# featuretools, matplotlib,nltk,xgboost, pmdarima (for the anagram of 'py' + 'arima')\n",
        "# kaleido (blockchain) \n",
        "\n",
        "!pip install evalml\n",
        "! pip install dask[dataframe] --upgrade "
      ],
      "execution_count": 1,
      "outputs": [
        {
          "output_type": "stream",
          "text": [
            "Collecting evalml\n",
            "\u001b[?25l  Downloading https://files.pythonhosted.org/packages/e4/99/af94628a0db62f3e37ec9de40dba4d40564260974156bc66131db401a983/evalml-0.24.2-py3-none-any.whl (6.2MB)\n",
            "\u001b[K     |████████████████████████████████| 6.2MB 2.8MB/s \n",
            "\u001b[?25hCollecting sktime>=0.5.3; python_version < \"3.9\"\n",
            "\u001b[?25l  Downloading https://files.pythonhosted.org/packages/be/47/1cdd9342586b1695397bc72b8602cac2f9af7a49e1b51ddb5452d23d99c9/sktime-0.6.1-cp37-cp37m-manylinux_2_17_x86_64.manylinux2014_x86_64.whl (5.7MB)\n",
            "\u001b[K     |████████████████████████████████| 5.7MB 16.5MB/s \n",
            "\u001b[?25hCollecting imbalanced-learn>=0.8.0\n",
            "\u001b[?25l  Downloading https://files.pythonhosted.org/packages/80/98/dc784205a7e3034e84d41ac4781660c67ad6327f2f5a80c568df31673d1c/imbalanced_learn-0.8.0-py3-none-any.whl (206kB)\n",
            "\u001b[K     |████████████████████████████████| 215kB 36.6MB/s \n",
            "\u001b[?25hCollecting texttable>=1.6.2\n",
            "  Downloading https://files.pythonhosted.org/packages/06/f5/46201c428aebe0eecfa83df66bf3e6caa29659dbac5a56ddfd83cae0d4a4/texttable-1.6.3-py2.py3-none-any.whl\n",
            "Collecting catboost>=0.20\n",
            "\u001b[?25l  Downloading https://files.pythonhosted.org/packages/47/80/8e9c57ec32dfed6ba2922bc5c96462cbf8596ce1a6f5de532ad1e43e53fe/catboost-0.25.1-cp37-none-manylinux1_x86_64.whl (67.3MB)\n",
            "\u001b[K     |████████████████████████████████| 67.3MB 55kB/s \n",
            "\u001b[?25hCollecting matplotlib>=3.3.3\n",
            "\u001b[?25l  Downloading https://files.pythonhosted.org/packages/24/33/5568d443ba438d95d4db635dd69958056f087e57e1026bee56f959d53f9d/matplotlib-3.4.2-cp37-cp37m-manylinux1_x86_64.whl (10.3MB)\n",
            "\u001b[K     |████████████████████████████████| 10.3MB 28.5MB/s \n",
            "\u001b[?25hCollecting numpy>=1.20.0\n",
            "\u001b[?25l  Downloading https://files.pythonhosted.org/packages/a5/42/560d269f604d3e186a57c21a363e77e199358d054884e61b73e405dd217c/numpy-1.20.3-cp37-cp37m-manylinux_2_12_x86_64.manylinux2010_x86_64.whl (15.3MB)\n",
            "\u001b[K     |████████████████████████████████| 15.3MB 240kB/s \n",
            "\u001b[?25hCollecting featuretools>=0.21.0\n",
            "\u001b[?25l  Downloading https://files.pythonhosted.org/packages/56/3d/9534143fb5589fe009c94ef6d44fc0fcb475a0ade2559ca7fcef2c8635c9/featuretools-0.24.0-py3-none-any.whl (297kB)\n",
            "\u001b[K     |████████████████████████████████| 307kB 35.9MB/s \n",
            "\u001b[?25hCollecting xgboost<1.3.0,>=1.1.0\n",
            "\u001b[?25l  Downloading https://files.pythonhosted.org/packages/35/cc/fd3d5fc6b6616a03385a0f6492cc77a253940d1026406ecc07597095e381/xgboost-1.2.1-py3-none-manylinux2010_x86_64.whl (148.9MB)\n",
            "\u001b[K     |████████████████████████████████| 148.9MB 88kB/s \n",
            "\u001b[?25hCollecting plotly>=4.14.0\n",
            "\u001b[?25l  Downloading https://files.pythonhosted.org/packages/1f/f6/bd3c17c8003b6641df1228e80e1acac97ed8402635e46c2571f8e1ef63af/plotly-4.14.3-py2.py3-none-any.whl (13.2MB)\n",
            "\u001b[K     |████████████████████████████████| 13.2MB 28.5MB/s \n",
            "\u001b[?25hRequirement already satisfied: click>=7.1.2 in /usr/local/lib/python3.7/dist-packages (from evalml) (8.0.0)\n",
            "Collecting colorama>=0.4.4\n",
            "  Downloading https://files.pythonhosted.org/packages/44/98/5b86278fbbf250d239ae0ecb724f8572af1c91f4a11edf4d36a206189440/colorama-0.4.4-py2.py3-none-any.whl\n",
            "Requirement already satisfied: scipy>=1.3.3 in /usr/local/lib/python3.7/dist-packages (from evalml) (1.4.1)\n",
            "Collecting pyzmq<22.0.0,>=20.0.0\n",
            "\u001b[?25l  Downloading https://files.pythonhosted.org/packages/b2/20/ba6fd6cb14c3f7ef415b9666aab11042b4878c0c1c9c01ec2a5ae97b11fd/pyzmq-21.0.2-cp37-cp37m-manylinux1_x86_64.whl (6.7MB)\n",
            "\u001b[K     |████████████████████████████████| 6.7MB 22.5MB/s \n",
            "\u001b[?25hCollecting lightgbm<3.1.0,>=2.3.1\n",
            "\u001b[?25l  Downloading https://files.pythonhosted.org/packages/25/47/f8ef524e15ff86f5246cb4e1cee200b747ddb2536429fa021cc5f17ea40a/lightgbm-3.0.0-py2.py3-none-manylinux1_x86_64.whl (1.7MB)\n",
            "\u001b[K     |████████████████████████████████| 1.8MB 26.2MB/s \n",
            "\u001b[?25hCollecting shap>=0.36.0\n",
            "\u001b[?25l  Downloading https://files.pythonhosted.org/packages/b9/f4/c5b95cddae15be80f8e58b25edceca105aa83c0b8c86a1edad24a6af80d3/shap-0.39.0.tar.gz (356kB)\n",
            "\u001b[K     |████████████████████████████████| 358kB 42.7MB/s \n",
            "\u001b[?25hCollecting scikit-learn>=0.24.0\n",
            "\u001b[?25l  Downloading https://files.pythonhosted.org/packages/a8/eb/a48f25c967526b66d5f1fa7a984594f0bf0a5afafa94a8c4dbc317744620/scikit_learn-0.24.2-cp37-cp37m-manylinux2010_x86_64.whl (22.3MB)\n",
            "\u001b[K     |████████████████████████████████| 22.3MB 6.7MB/s \n",
            "\u001b[?25hRequirement already satisfied: ipywidgets>=7.5 in /usr/local/lib/python3.7/dist-packages (from evalml) (7.6.3)\n",
            "Collecting pmdarima==1.8.0\n",
            "\u001b[?25l  Downloading https://files.pythonhosted.org/packages/e4/a8/bdf15174e35d072e145d16388b1d3bc7605b752610170cb022a290411427/pmdarima-1.8.0-cp37-cp37m-manylinux1_x86_64.whl (1.5MB)\n",
            "\u001b[K     |████████████████████████████████| 1.5MB 26.0MB/s \n",
            "\u001b[?25hCollecting nlp-primitives>=1.1.0\n",
            "\u001b[?25l  Downloading https://files.pythonhosted.org/packages/a0/b8/c5465a6ed6d5fce76703e62d60fde588cee1af65a8a3d7340b26e1a1c290/nlp_primitives-1.1.0-py3-none-any.whl (18.0MB)\n",
            "\u001b[K     |████████████████████████████████| 18.0MB 253kB/s \n",
            "\u001b[?25hCollecting kaleido>=0.1.0\n",
            "\u001b[?25l  Downloading https://files.pythonhosted.org/packages/ae/b3/a0f0f4faac229b0011d8c4a7ee6da7c2dca0b6fd08039c95920846f23ca4/kaleido-0.2.1-py2.py3-none-manylinux1_x86_64.whl (79.9MB)\n",
            "\u001b[K     |████████████████████████████████| 79.9MB 117kB/s \n",
            "\u001b[?25hRequirement already satisfied: dask>=2.12.0 in /usr/local/lib/python3.7/dist-packages (from evalml) (2.12.0)\n",
            "Collecting psutil>=5.6.3\n",
            "\u001b[?25l  Downloading https://files.pythonhosted.org/packages/84/da/f7efdcf012b51506938553dbe302aecc22f3f43abd5cffa8320e8e0588d5/psutil-5.8.0-cp37-cp37m-manylinux2010_x86_64.whl (296kB)\n",
            "\u001b[K     |████████████████████████████████| 296kB 37.7MB/s \n",
            "\u001b[?25hCollecting woodwork==0.0.11\n",
            "\u001b[?25l  Downloading https://files.pythonhosted.org/packages/5c/eb/6846fe1b8846a5dc0f1d38bf48d1172517da396334e773a155b9e73fa609/woodwork-0.0.11-py3-none-any.whl (91kB)\n",
            "\u001b[K     |████████████████████████████████| 92kB 9.7MB/s \n",
            "\u001b[?25hRequirement already satisfied: networkx>=2.5 in /usr/local/lib/python3.7/dist-packages (from evalml) (2.5.1)\n",
            "Collecting category-encoders>=2.2.2\n",
            "\u001b[?25l  Downloading https://files.pythonhosted.org/packages/44/57/fcef41c248701ee62e8325026b90c432adea35555cbc870aff9cfba23727/category_encoders-2.2.2-py2.py3-none-any.whl (80kB)\n",
            "\u001b[K     |████████████████████████████████| 81kB 8.7MB/s \n",
            "\u001b[?25hRequirement already satisfied: seaborn>=0.11.1 in /usr/local/lib/python3.7/dist-packages (from evalml) (0.11.1)\n",
            "Collecting statsmodels>=0.12.2\n",
            "\u001b[?25l  Downloading https://files.pythonhosted.org/packages/da/69/8eef30a6237c54f3c0b524140e2975f4b1eea3489b45eb3339574fc8acee/statsmodels-0.12.2-cp37-cp37m-manylinux1_x86_64.whl (9.5MB)\n",
            "\u001b[K     |████████████████████████████████| 9.5MB 28.6MB/s \n",
            "\u001b[?25hCollecting graphviz>=0.13\n",
            "  Downloading https://files.pythonhosted.org/packages/86/86/89ba50ba65928001d3161f23bfa03945ed18ea13a1d1d44a772ff1fa4e7a/graphviz-0.16-py2.py3-none-any.whl\n",
            "Collecting cloudpickle>=1.5.0\n",
            "  Downloading https://files.pythonhosted.org/packages/e7/e3/898487e5dbeb612054cf2e0c188463acb358167fef749c53c8bb8918cea1/cloudpickle-1.6.0-py3-none-any.whl\n",
            "Collecting requirements-parser>=0.2.0\n",
            "  Downloading https://files.pythonhosted.org/packages/03/80/eb6ba1dd0429089436e90e556db50884ea21da060b10f2e5668c4cac99da/requirements-parser-0.2.0.tar.gz\n",
            "Collecting pandas>=1.2.1\n",
            "\u001b[?25l  Downloading https://files.pythonhosted.org/packages/51/51/48f3fc47c4e2144da2806dfb6629c4dd1fa3d5a143f9652b141e979a8ca9/pandas-1.2.4-cp37-cp37m-manylinux1_x86_64.whl (9.9MB)\n",
            "\u001b[K     |████████████████████████████████| 9.9MB 27.0MB/s \n",
            "\u001b[?25hCollecting scikit-optimize>=0.8.1\n",
            "\u001b[?25l  Downloading https://files.pythonhosted.org/packages/8b/03/be33e89f55866065a02e515c5b319304a801a9f1027a9b311a9b1d1f8dc7/scikit_optimize-0.8.1-py2.py3-none-any.whl (101kB)\n",
            "\u001b[K     |████████████████████████████████| 102kB 10.8MB/s \n",
            "\u001b[?25hRequirement already satisfied: numba>=0.50 in /usr/local/lib/python3.7/dist-packages (from sktime>=0.5.3; python_version < \"3.9\"->evalml) (0.51.2)\n",
            "Requirement already satisfied: wheel in /usr/local/lib/python3.7/dist-packages (from sktime>=0.5.3; python_version < \"3.9\"->evalml) (0.36.2)\n",
            "Requirement already satisfied: joblib>=0.11 in /usr/local/lib/python3.7/dist-packages (from imbalanced-learn>=0.8.0->evalml) (1.0.1)\n",
            "Requirement already satisfied: six in /usr/local/lib/python3.7/dist-packages (from catboost>=0.20->evalml) (1.15.0)\n",
            "Requirement already satisfied: kiwisolver>=1.0.1 in /usr/local/lib/python3.7/dist-packages (from matplotlib>=3.3.3->evalml) (1.3.1)\n",
            "Requirement already satisfied: pyparsing>=2.2.1 in /usr/local/lib/python3.7/dist-packages (from matplotlib>=3.3.3->evalml) (2.4.7)\n",
            "Requirement already satisfied: pillow>=6.2.0 in /usr/local/lib/python3.7/dist-packages (from matplotlib>=3.3.3->evalml) (7.1.2)\n",
            "Requirement already satisfied: cycler>=0.10 in /usr/local/lib/python3.7/dist-packages (from matplotlib>=3.3.3->evalml) (0.10.0)\n",
            "Requirement already satisfied: python-dateutil>=2.7 in /usr/local/lib/python3.7/dist-packages (from matplotlib>=3.3.3->evalml) (2.8.1)\n",
            "Requirement already satisfied: tqdm>=4.32.0 in /usr/local/lib/python3.7/dist-packages (from featuretools>=0.21.0->evalml) (4.41.1)\n",
            "Collecting distributed>=2.12.0\n",
            "\u001b[?25l  Downloading https://files.pythonhosted.org/packages/6b/be/e150dfcdceb22ac1a15ed6ab03268bd760b59cce6b6d4e584454efd8ca8c/distributed-2021.5.0-py3-none-any.whl (699kB)\n",
            "\u001b[K     |████████████████████████████████| 706kB 36.1MB/s \n",
            "\u001b[?25hRequirement already satisfied: pyyaml>=3.12 in /usr/local/lib/python3.7/dist-packages (from featuretools>=0.21.0->evalml) (3.13)\n",
            "Requirement already satisfied: retrying>=1.3.3 in /usr/local/lib/python3.7/dist-packages (from plotly>=4.14.0->evalml) (1.3.3)\n",
            "Collecting slicer==0.0.7\n",
            "  Downloading https://files.pythonhosted.org/packages/78/c2/b3f55dfdb8af9812fdb9baf70cacf3b9e82e505b2bd4324d588888b81202/slicer-0.0.7-py3-none-any.whl\n",
            "Collecting threadpoolctl>=2.0.0\n",
            "  Downloading https://files.pythonhosted.org/packages/f7/12/ec3f2e203afa394a149911729357aa48affc59c20e2c1c8297a60f33f133/threadpoolctl-2.1.0-py3-none-any.whl\n",
            "Requirement already satisfied: ipython>=4.0.0; python_version >= \"3.3\" in /usr/local/lib/python3.7/dist-packages (from ipywidgets>=7.5->evalml) (5.5.0)\n",
            "Requirement already satisfied: jupyterlab-widgets>=1.0.0; python_version >= \"3.6\" in /usr/local/lib/python3.7/dist-packages (from ipywidgets>=7.5->evalml) (1.0.0)\n",
            "Requirement already satisfied: widgetsnbextension~=3.5.0 in /usr/local/lib/python3.7/dist-packages (from ipywidgets>=7.5->evalml) (3.5.1)\n",
            "Requirement already satisfied: ipykernel>=4.5.1 in /usr/local/lib/python3.7/dist-packages (from ipywidgets>=7.5->evalml) (4.10.1)\n",
            "Requirement already satisfied: nbformat>=4.2.0 in /usr/local/lib/python3.7/dist-packages (from ipywidgets>=7.5->evalml) (5.1.3)\n",
            "Requirement already satisfied: traitlets>=4.3.1 in /usr/local/lib/python3.7/dist-packages (from ipywidgets>=7.5->evalml) (5.0.5)\n",
            "Collecting Cython<0.29.18,>=0.29\n",
            "\u001b[?25l  Downloading https://files.pythonhosted.org/packages/dc/6c/198da24bf0a1d5b5ee6119e891c5300bb1b0b8904832fac9ff62d4e381c9/Cython-0.29.17-cp37-cp37m-manylinux1_x86_64.whl (2.1MB)\n",
            "\u001b[K     |████████████████████████████████| 2.1MB 30.2MB/s \n",
            "\u001b[?25hRequirement already satisfied: urllib3 in /usr/local/lib/python3.7/dist-packages (from pmdarima==1.8.0->evalml) (1.24.3)\n",
            "Requirement already satisfied: setuptools!=50.0.0,>=38.6.0 in /usr/local/lib/python3.7/dist-packages (from pmdarima==1.8.0->evalml) (56.1.0)\n",
            "Collecting nltk>=3.4.5\n",
            "\u001b[?25l  Downloading https://files.pythonhosted.org/packages/5e/37/9532ddd4b1bbb619333d5708aaad9bf1742f051a664c3c6fa6632a105fd8/nltk-3.6.2-py3-none-any.whl (1.5MB)\n",
            "\u001b[K     |████████████████████████████████| 1.5MB 24.4MB/s \n",
            "\u001b[?25hRequirement already satisfied: decorator<5,>=4.3 in /usr/local/lib/python3.7/dist-packages (from networkx>=2.5->evalml) (4.4.2)\n",
            "Requirement already satisfied: patsy>=0.5.1 in /usr/local/lib/python3.7/dist-packages (from category-encoders>=2.2.2->evalml) (0.5.1)\n",
            "Requirement already satisfied: pytz>=2017.3 in /usr/local/lib/python3.7/dist-packages (from pandas>=1.2.1->evalml) (2018.9)\n",
            "Collecting pyaml>=16.9\n",
            "  Downloading https://files.pythonhosted.org/packages/15/c4/1310a054d33abc318426a956e7d6df0df76a6ddfa9c66f6310274fb75d42/pyaml-20.4.0-py2.py3-none-any.whl\n",
            "Requirement already satisfied: llvmlite<0.35,>=0.34.0.dev0 in /usr/local/lib/python3.7/dist-packages (from numba>=0.50->sktime>=0.5.3; python_version < \"3.9\"->evalml) (0.34.0)\n",
            "Requirement already satisfied: tornado>=5; python_version < \"3.8\" in /usr/local/lib/python3.7/dist-packages (from distributed>=2.12.0->featuretools>=0.21.0->evalml) (5.1.1)\n",
            "Requirement already satisfied: sortedcontainers!=2.0.0,!=2.0.1 in /usr/local/lib/python3.7/dist-packages (from distributed>=2.12.0->featuretools>=0.21.0->evalml) (2.3.0)\n",
            "Requirement already satisfied: zict>=0.1.3 in /usr/local/lib/python3.7/dist-packages (from distributed>=2.12.0->featuretools>=0.21.0->evalml) (2.0.0)\n",
            "Requirement already satisfied: toolz>=0.8.2 in /usr/local/lib/python3.7/dist-packages (from distributed>=2.12.0->featuretools>=0.21.0->evalml) (0.11.1)\n",
            "Requirement already satisfied: tblib>=1.6.0 in /usr/local/lib/python3.7/dist-packages (from distributed>=2.12.0->featuretools>=0.21.0->evalml) (1.7.0)\n",
            "Requirement already satisfied: msgpack>=0.6.0 in /usr/local/lib/python3.7/dist-packages (from distributed>=2.12.0->featuretools>=0.21.0->evalml) (1.0.2)\n",
            "Requirement already satisfied: pygments in /usr/local/lib/python3.7/dist-packages (from ipython>=4.0.0; python_version >= \"3.3\"->ipywidgets>=7.5->evalml) (2.6.1)\n",
            "Requirement already satisfied: pexpect; sys_platform != \"win32\" in /usr/local/lib/python3.7/dist-packages (from ipython>=4.0.0; python_version >= \"3.3\"->ipywidgets>=7.5->evalml) (4.8.0)\n",
            "Requirement already satisfied: prompt-toolkit<2.0.0,>=1.0.4 in /usr/local/lib/python3.7/dist-packages (from ipython>=4.0.0; python_version >= \"3.3\"->ipywidgets>=7.5->evalml) (1.0.18)\n",
            "Requirement already satisfied: simplegeneric>0.8 in /usr/local/lib/python3.7/dist-packages (from ipython>=4.0.0; python_version >= \"3.3\"->ipywidgets>=7.5->evalml) (0.8.1)\n",
            "Requirement already satisfied: pickleshare in /usr/local/lib/python3.7/dist-packages (from ipython>=4.0.0; python_version >= \"3.3\"->ipywidgets>=7.5->evalml) (0.7.5)\n",
            "Requirement already satisfied: notebook>=4.4.1 in /usr/local/lib/python3.7/dist-packages (from widgetsnbextension~=3.5.0->ipywidgets>=7.5->evalml) (5.3.1)\n",
            "Requirement already satisfied: jupyter-client in /usr/local/lib/python3.7/dist-packages (from ipykernel>=4.5.1->ipywidgets>=7.5->evalml) (5.3.5)\n",
            "Requirement already satisfied: jsonschema!=2.5.0,>=2.4 in /usr/local/lib/python3.7/dist-packages (from nbformat>=4.2.0->ipywidgets>=7.5->evalml) (2.6.0)\n",
            "Requirement already satisfied: jupyter-core in /usr/local/lib/python3.7/dist-packages (from nbformat>=4.2.0->ipywidgets>=7.5->evalml) (4.7.1)\n",
            "Requirement already satisfied: ipython-genutils in /usr/local/lib/python3.7/dist-packages (from nbformat>=4.2.0->ipywidgets>=7.5->evalml) (0.2.0)\n",
            "Requirement already satisfied: regex in /usr/local/lib/python3.7/dist-packages (from nltk>=3.4.5->nlp-primitives>=1.1.0->evalml) (2019.12.20)\n",
            "Requirement already satisfied: heapdict in /usr/local/lib/python3.7/dist-packages (from zict>=0.1.3->distributed>=2.12.0->featuretools>=0.21.0->evalml) (1.0.1)\n",
            "Requirement already satisfied: ptyprocess>=0.5 in /usr/local/lib/python3.7/dist-packages (from pexpect; sys_platform != \"win32\"->ipython>=4.0.0; python_version >= \"3.3\"->ipywidgets>=7.5->evalml) (0.7.0)\n",
            "Requirement already satisfied: wcwidth in /usr/local/lib/python3.7/dist-packages (from prompt-toolkit<2.0.0,>=1.0.4->ipython>=4.0.0; python_version >= \"3.3\"->ipywidgets>=7.5->evalml) (0.2.5)\n",
            "Requirement already satisfied: terminado>=0.8.1 in /usr/local/lib/python3.7/dist-packages (from notebook>=4.4.1->widgetsnbextension~=3.5.0->ipywidgets>=7.5->evalml) (0.9.5)\n",
            "Requirement already satisfied: nbconvert in /usr/local/lib/python3.7/dist-packages (from notebook>=4.4.1->widgetsnbextension~=3.5.0->ipywidgets>=7.5->evalml) (5.6.1)\n",
            "Requirement already satisfied: Send2Trash in /usr/local/lib/python3.7/dist-packages (from notebook>=4.4.1->widgetsnbextension~=3.5.0->ipywidgets>=7.5->evalml) (1.5.0)\n",
            "Requirement already satisfied: jinja2 in /usr/local/lib/python3.7/dist-packages (from notebook>=4.4.1->widgetsnbextension~=3.5.0->ipywidgets>=7.5->evalml) (2.11.3)\n",
            "Requirement already satisfied: entrypoints>=0.2.2 in /usr/local/lib/python3.7/dist-packages (from nbconvert->notebook>=4.4.1->widgetsnbextension~=3.5.0->ipywidgets>=7.5->evalml) (0.3)\n",
            "Requirement already satisfied: mistune<2,>=0.8.1 in /usr/local/lib/python3.7/dist-packages (from nbconvert->notebook>=4.4.1->widgetsnbextension~=3.5.0->ipywidgets>=7.5->evalml) (0.8.4)\n",
            "Requirement already satisfied: testpath in /usr/local/lib/python3.7/dist-packages (from nbconvert->notebook>=4.4.1->widgetsnbextension~=3.5.0->ipywidgets>=7.5->evalml) (0.4.4)\n",
            "Requirement already satisfied: pandocfilters>=1.4.1 in /usr/local/lib/python3.7/dist-packages (from nbconvert->notebook>=4.4.1->widgetsnbextension~=3.5.0->ipywidgets>=7.5->evalml) (1.4.3)\n",
            "Requirement already satisfied: defusedxml in /usr/local/lib/python3.7/dist-packages (from nbconvert->notebook>=4.4.1->widgetsnbextension~=3.5.0->ipywidgets>=7.5->evalml) (0.7.1)\n",
            "Requirement already satisfied: bleach in /usr/local/lib/python3.7/dist-packages (from nbconvert->notebook>=4.4.1->widgetsnbextension~=3.5.0->ipywidgets>=7.5->evalml) (3.3.0)\n",
            "Requirement already satisfied: MarkupSafe>=0.23 in /usr/local/lib/python3.7/dist-packages (from jinja2->notebook>=4.4.1->widgetsnbextension~=3.5.0->ipywidgets>=7.5->evalml) (2.0.0)\n",
            "Requirement already satisfied: webencodings in /usr/local/lib/python3.7/dist-packages (from bleach->nbconvert->notebook>=4.4.1->widgetsnbextension~=3.5.0->ipywidgets>=7.5->evalml) (0.5.1)\n",
            "Requirement already satisfied: packaging in /usr/local/lib/python3.7/dist-packages (from bleach->nbconvert->notebook>=4.4.1->widgetsnbextension~=3.5.0->ipywidgets>=7.5->evalml) (20.9)\n",
            "Building wheels for collected packages: shap, requirements-parser\n",
            "  Building wheel for shap (setup.py) ... \u001b[?25l\u001b[?25hdone\n",
            "  Created wheel for shap: filename=shap-0.39.0-cp37-cp37m-linux_x86_64.whl size=491644 sha256=3d2d0590e07f2612fe7371083b31a420bc6c9fa75beef0d4fdeec067f2dcdec2\n",
            "  Stored in directory: /root/.cache/pip/wheels/15/27/f5/a8ab9da52fd159aae6477b5ede6eaaec69fd130fa0fa59f283\n",
            "  Building wheel for requirements-parser (setup.py) ... \u001b[?25l\u001b[?25hdone\n",
            "  Created wheel for requirements-parser: filename=requirements_parser-0.2.0-cp37-none-any.whl size=7656 sha256=be7c787d23a8a9c92aca0f104151b605ce1684c79436e57cdd86cf8ea8df1dfb\n",
            "  Stored in directory: /root/.cache/pip/wheels/c6/e5/ef/a12b26033eee476b7ebdd797528faa1765feae6e3b33a3954b\n",
            "Successfully built shap requirements-parser\n",
            "\u001b[31mERROR: tensorflow 2.4.1 has requirement numpy~=1.19.2, but you'll have numpy 1.20.3 which is incompatible.\u001b[0m\n",
            "\u001b[31mERROR: google-colab 1.0.0 has requirement pandas~=1.1.0; python_version >= \"3.0\", but you'll have pandas 1.2.4 which is incompatible.\u001b[0m\n",
            "\u001b[31mERROR: distributed 2021.5.0 has requirement dask==2021.05.0, but you'll have dask 2.12.0 which is incompatible.\u001b[0m\n",
            "\u001b[31mERROR: datascience 0.10.6 has requirement folium==0.2.1, but you'll have folium 0.8.3 which is incompatible.\u001b[0m\n",
            "\u001b[31mERROR: albumentations 0.1.12 has requirement imgaug<0.2.7,>=0.2.5, but you'll have imgaug 0.2.9 which is incompatible.\u001b[0m\n",
            "Installing collected packages: numpy, pandas, statsmodels, threadpoolctl, scikit-learn, sktime, imbalanced-learn, texttable, matplotlib, graphviz, plotly, catboost, cloudpickle, psutil, distributed, featuretools, xgboost, colorama, pyzmq, lightgbm, slicer, shap, Cython, pmdarima, nltk, nlp-primitives, kaleido, woodwork, category-encoders, requirements-parser, pyaml, scikit-optimize, evalml\n",
            "  Found existing installation: numpy 1.19.5\n",
            "    Uninstalling numpy-1.19.5:\n",
            "      Successfully uninstalled numpy-1.19.5\n",
            "  Found existing installation: pandas 1.1.5\n",
            "    Uninstalling pandas-1.1.5:\n",
            "      Successfully uninstalled pandas-1.1.5\n",
            "  Found existing installation: statsmodels 0.10.2\n",
            "    Uninstalling statsmodels-0.10.2:\n",
            "      Successfully uninstalled statsmodels-0.10.2\n",
            "  Found existing installation: scikit-learn 0.22.2.post1\n",
            "    Uninstalling scikit-learn-0.22.2.post1:\n",
            "      Successfully uninstalled scikit-learn-0.22.2.post1\n",
            "  Found existing installation: imbalanced-learn 0.4.3\n",
            "    Uninstalling imbalanced-learn-0.4.3:\n",
            "      Successfully uninstalled imbalanced-learn-0.4.3\n",
            "  Found existing installation: matplotlib 3.2.2\n",
            "    Uninstalling matplotlib-3.2.2:\n",
            "      Successfully uninstalled matplotlib-3.2.2\n",
            "  Found existing installation: graphviz 0.10.1\n",
            "    Uninstalling graphviz-0.10.1:\n",
            "      Successfully uninstalled graphviz-0.10.1\n",
            "  Found existing installation: plotly 4.4.1\n",
            "    Uninstalling plotly-4.4.1:\n",
            "      Successfully uninstalled plotly-4.4.1\n",
            "  Found existing installation: cloudpickle 1.3.0\n",
            "    Uninstalling cloudpickle-1.3.0:\n",
            "      Successfully uninstalled cloudpickle-1.3.0\n",
            "  Found existing installation: psutil 5.4.8\n",
            "    Uninstalling psutil-5.4.8:\n",
            "      Successfully uninstalled psutil-5.4.8\n",
            "  Found existing installation: distributed 1.25.3\n",
            "    Uninstalling distributed-1.25.3:\n",
            "      Successfully uninstalled distributed-1.25.3\n",
            "  Found existing installation: xgboost 0.90\n",
            "    Uninstalling xgboost-0.90:\n",
            "      Successfully uninstalled xgboost-0.90\n",
            "  Found existing installation: pyzmq 22.0.3\n",
            "    Uninstalling pyzmq-22.0.3:\n",
            "      Successfully uninstalled pyzmq-22.0.3\n",
            "  Found existing installation: lightgbm 2.2.3\n",
            "    Uninstalling lightgbm-2.2.3:\n",
            "      Successfully uninstalled lightgbm-2.2.3\n",
            "  Found existing installation: Cython 0.29.23\n",
            "    Uninstalling Cython-0.29.23:\n",
            "      Successfully uninstalled Cython-0.29.23\n",
            "  Found existing installation: nltk 3.2.5\n",
            "    Uninstalling nltk-3.2.5:\n",
            "      Successfully uninstalled nltk-3.2.5\n",
            "Successfully installed Cython-0.29.17 catboost-0.25.1 category-encoders-2.2.2 cloudpickle-1.6.0 colorama-0.4.4 distributed-2021.5.0 evalml-0.24.2 featuretools-0.24.0 graphviz-0.16 imbalanced-learn-0.8.0 kaleido-0.2.1 lightgbm-3.0.0 matplotlib-3.4.2 nlp-primitives-1.1.0 nltk-3.6.2 numpy-1.20.3 pandas-1.2.4 plotly-4.14.3 pmdarima-1.8.0 psutil-5.8.0 pyaml-20.4.0 pyzmq-21.0.2 requirements-parser-0.2.0 scikit-learn-0.24.2 scikit-optimize-0.8.1 shap-0.39.0 sktime-0.6.1 slicer-0.0.7 statsmodels-0.12.2 texttable-1.6.3 threadpoolctl-2.1.0 woodwork-0.0.11 xgboost-1.2.1\n"
          ],
          "name": "stdout"
        },
        {
          "output_type": "display_data",
          "data": {
            "application/vnd.colab-display-data+json": {
              "pip_warning": {
                "packages": [
                  "matplotlib",
                  "mpl_toolkits",
                  "numpy",
                  "pandas",
                  "psutil",
                  "zmq"
                ]
              }
            }
          },
          "metadata": {
            "tags": []
          }
        },
        {
          "output_type": "stream",
          "text": [
            "Collecting dask[dataframe]\n",
            "\u001b[?25l  Downloading https://files.pythonhosted.org/packages/b9/a0/0905a1112dc3801304348ac0af0e641a2fbe12fe163ab5c3a43b2e88092d/dask-2021.5.0-py3-none-any.whl (960kB)\n",
            "\u001b[K     |████████████████████████████████| 962kB 3.9MB/s \n",
            "\u001b[?25hRequirement already satisfied, skipping upgrade: pyyaml in /usr/local/lib/python3.7/dist-packages (from dask[dataframe]) (3.13)\n",
            "Requirement already satisfied, skipping upgrade: toolz>=0.8.2 in /usr/local/lib/python3.7/dist-packages (from dask[dataframe]) (0.11.1)\n",
            "Collecting fsspec>=0.6.0\n",
            "\u001b[?25l  Downloading https://files.pythonhosted.org/packages/bc/52/816d1a3a599176057bf29dfacb1f8fadb61d35fbd96cb1bab4aaa7df83c0/fsspec-2021.5.0-py3-none-any.whl (111kB)\n",
            "\u001b[K     |████████████████████████████████| 112kB 8.4MB/s \n",
            "\u001b[?25hRequirement already satisfied, skipping upgrade: cloudpickle>=1.1.1 in /usr/local/lib/python3.7/dist-packages (from dask[dataframe]) (1.6.0)\n",
            "Collecting partd>=0.3.10\n",
            "  Downloading https://files.pythonhosted.org/packages/41/94/360258a68b55f47859d72b2d0b2b3cfe0ca4fbbcb81b78812bd00ae86b7c/partd-1.2.0-py3-none-any.whl\n",
            "Requirement already satisfied, skipping upgrade: pandas>=0.25.0; extra == \"dataframe\" in /usr/local/lib/python3.7/dist-packages (from dask[dataframe]) (1.2.4)\n",
            "Requirement already satisfied, skipping upgrade: numpy>=1.16; extra == \"dataframe\" in /usr/local/lib/python3.7/dist-packages (from dask[dataframe]) (1.20.3)\n",
            "Collecting locket\n",
            "  Downloading https://files.pythonhosted.org/packages/50/b8/e789e45b9b9c2db75e9d9e6ceb022c8d1d7e49b2c085ce8c05600f90a96b/locket-0.2.1-py2.py3-none-any.whl\n",
            "Requirement already satisfied, skipping upgrade: python-dateutil>=2.7.3 in /usr/local/lib/python3.7/dist-packages (from pandas>=0.25.0; extra == \"dataframe\"->dask[dataframe]) (2.8.1)\n",
            "Requirement already satisfied, skipping upgrade: pytz>=2017.3 in /usr/local/lib/python3.7/dist-packages (from pandas>=0.25.0; extra == \"dataframe\"->dask[dataframe]) (2018.9)\n",
            "Requirement already satisfied, skipping upgrade: six>=1.5 in /usr/local/lib/python3.7/dist-packages (from python-dateutil>=2.7.3->pandas>=0.25.0; extra == \"dataframe\"->dask[dataframe]) (1.15.0)\n",
            "Installing collected packages: fsspec, locket, partd, dask\n",
            "  Found existing installation: dask 2.12.0\n",
            "    Uninstalling dask-2.12.0:\n",
            "      Successfully uninstalled dask-2.12.0\n",
            "Successfully installed dask-2021.5.0 fsspec-2021.5.0 locket-0.2.1 partd-1.2.0\n"
          ],
          "name": "stdout"
        }
      ]
    },
    {
      "cell_type": "markdown",
      "metadata": {
        "id": "uXtP0NDxoSJZ"
      },
      "source": [
        "## Call libraries"
      ]
    },
    {
      "cell_type": "code",
      "metadata": {
        "id": "Npcpyi2Eev18"
      },
      "source": [
        "# Call libraries\n",
        "# 1.0 Data manipulation\n",
        "import numpy as np\n",
        "import pandas as pd\n",
        "\n",
        "# 1.1 Auto Machine Learning\n",
        "# conda install -c conda-forge evalml\n",
        "import evalml\n",
        "from evalml import AutoMLSearch\n",
        "from evalml.objectives import LeadScoring\n",
        "\n",
        "# 1.2 URL open\n",
        "from urllib.request import urlopen\n",
        "\n",
        "# 1.3 Woodwork makes it easy to manage additional\n",
        "#      'data-typing' information for your data,\n",
        "#        and, therefore, access only the data one needs\n",
        "#         based on these additional data-types, called\n",
        "#          logical types or semantic tags.\n",
        "#           It is used by featuretools and evalml\n",
        "\n",
        "import woodwork as ww\n",
        "\n",
        "# 1.4 Misc\n",
        "import time"
      ],
      "execution_count": 30,
      "outputs": []
    },
    {
      "cell_type": "code",
      "metadata": {
        "id": "oTKKu_7P4pi8"
      },
      "source": [
        "# 1.5\n",
        "from IPython.core.interactiveshell import InteractiveShell\n",
        "InteractiveShell.ast_node_interactivity = \"all\"\n"
      ],
      "execution_count": 31,
      "outputs": []
    },
    {
      "cell_type": "markdown",
      "metadata": {
        "id": "xpHqNEp6mmF9"
      },
      "source": [
        "## Dataset"
      ]
    },
    {
      "cell_type": "markdown",
      "metadata": {
        "id": "lEOz1x3YmjcV"
      },
      "source": [
        "We will be utilizing a dataset detailing a customer’s job, country, state, zip, online action, the dollar amount of that action and whether they were a successful lead."
      ]
    },
    {
      "cell_type": "code",
      "metadata": {
        "id": "KenUFNwumZmI"
      },
      "source": [
        "# Open URLs to access data\n",
        "customers_data      = urlopen('https://featurelabs-static.s3.amazonaws.com/lead_scoring_ml_apps/customers.csv')\n",
        "interactions_data   = urlopen('https://featurelabs-static.s3.amazonaws.com/lead_scoring_ml_apps/interactions.csv')\n",
        "leads_data          = urlopen('https://featurelabs-static.s3.amazonaws.com/lead_scoring_ml_apps/previous_leads.csv')\n",
        "\n",
        "# Method read() can be used to read data\n",
        "##print(customers_data.read())"
      ],
      "execution_count": 6,
      "outputs": []
    },
    {
      "cell_type": "code",
      "metadata": {
        "id": "YOsbtPU9o9WH"
      },
      "source": [
        "# Read lead-score tables from opened URL\n",
        "customers = pd.read_csv(customers_data)\n",
        "interactions = pd.read_csv(interactions_data)\n",
        "leads = pd.read_csv(leads_data)"
      ],
      "execution_count": 7,
      "outputs": []
    },
    {
      "cell_type": "code",
      "metadata": {
        "colab": {
          "base_uri": "https://localhost:8080/",
          "height": 311
        },
        "id": "xUBA1eAA4GY2",
        "outputId": "acb15c59-2521-4c71-82f9-ea6748013155"
      },
      "source": [
        "# Look at data\n",
        "customers.shape    # (1000, 11)\n",
        "customers.head()"
      ],
      "execution_count": 8,
      "outputs": [
        {
          "output_type": "execute_result",
          "data": {
            "text/plain": [
              "(1000, 11)"
            ]
          },
          "metadata": {
            "tags": []
          },
          "execution_count": 8
        },
        {
          "output_type": "execute_result",
          "data": {
            "text/html": [
              "<div>\n",
              "<style scoped>\n",
              "    .dataframe tbody tr th:only-of-type {\n",
              "        vertical-align: middle;\n",
              "    }\n",
              "\n",
              "    .dataframe tbody tr th {\n",
              "        vertical-align: top;\n",
              "    }\n",
              "\n",
              "    .dataframe thead th {\n",
              "        text-align: right;\n",
              "    }\n",
              "</style>\n",
              "<table border=\"1\" class=\"dataframe\">\n",
              "  <thead>\n",
              "    <tr style=\"text-align: right;\">\n",
              "      <th></th>\n",
              "      <th>customer_id</th>\n",
              "      <th>date_registered</th>\n",
              "      <th>birthday</th>\n",
              "      <th>job</th>\n",
              "      <th>phone</th>\n",
              "      <th>email</th>\n",
              "      <th>country</th>\n",
              "      <th>state</th>\n",
              "      <th>zip</th>\n",
              "      <th>owner</th>\n",
              "      <th>company</th>\n",
              "    </tr>\n",
              "  </thead>\n",
              "  <tbody>\n",
              "    <tr>\n",
              "      <th>0</th>\n",
              "      <td>460429349361</td>\n",
              "      <td>2017-08-10 11:04:45</td>\n",
              "      <td>NaN</td>\n",
              "      <td>Engineer, mining</td>\n",
              "      <td>+1-283-990-1507x7713</td>\n",
              "      <td>christian92@gmail.com</td>\n",
              "      <td>NaN</td>\n",
              "      <td>NY</td>\n",
              "      <td>60091.0</td>\n",
              "      <td>Kathleen Hawkins MD</td>\n",
              "      <td>6.185414e+11</td>\n",
              "    </tr>\n",
              "    <tr>\n",
              "      <th>1</th>\n",
              "      <td>392559384176</td>\n",
              "      <td>2017-08-10 23:13:51</td>\n",
              "      <td>NaN</td>\n",
              "      <td>Arts administrator</td>\n",
              "      <td>400.808.2148</td>\n",
              "      <td>jenniferdavis@carter-ellis.biz</td>\n",
              "      <td>US</td>\n",
              "      <td>CA</td>\n",
              "      <td>NaN</td>\n",
              "      <td>John Edwards</td>\n",
              "      <td>8.330990e+11</td>\n",
              "    </tr>\n",
              "    <tr>\n",
              "      <th>2</th>\n",
              "      <td>674438580580</td>\n",
              "      <td>2017-08-11 08:35:32</td>\n",
              "      <td>NaN</td>\n",
              "      <td>Psychologist, forensic</td>\n",
              "      <td>(299)543-9962</td>\n",
              "      <td>wwelch@lee.com</td>\n",
              "      <td>US</td>\n",
              "      <td>CA</td>\n",
              "      <td>NaN</td>\n",
              "      <td>John Edwards</td>\n",
              "      <td>2.114827e+11</td>\n",
              "    </tr>\n",
              "    <tr>\n",
              "      <th>3</th>\n",
              "      <td>364017777045</td>\n",
              "      <td>2017-08-11 10:15:37</td>\n",
              "      <td>NaN</td>\n",
              "      <td>Air cabin crew</td>\n",
              "      <td>+1-213-455-5314</td>\n",
              "      <td>xjones@smith.net</td>\n",
              "      <td>US</td>\n",
              "      <td>NaN</td>\n",
              "      <td>60091.0</td>\n",
              "      <td>Erica Anderson</td>\n",
              "      <td>NaN</td>\n",
              "    </tr>\n",
              "    <tr>\n",
              "      <th>4</th>\n",
              "      <td>551397602202</td>\n",
              "      <td>2017-08-11 13:33:23</td>\n",
              "      <td>NaN</td>\n",
              "      <td>Press sub</td>\n",
              "      <td>619.795.6618</td>\n",
              "      <td>walterromero@gmail.com</td>\n",
              "      <td>US</td>\n",
              "      <td>NaN</td>\n",
              "      <td>NaN</td>\n",
              "      <td>Kathleen Hawkins MD</td>\n",
              "      <td>NaN</td>\n",
              "    </tr>\n",
              "  </tbody>\n",
              "</table>\n",
              "</div>"
            ],
            "text/plain": [
              "    customer_id      date_registered  ...                owner       company\n",
              "0  460429349361  2017-08-10 11:04:45  ...  Kathleen Hawkins MD  6.185414e+11\n",
              "1  392559384176  2017-08-10 23:13:51  ...         John Edwards  8.330990e+11\n",
              "2  674438580580  2017-08-11 08:35:32  ...         John Edwards  2.114827e+11\n",
              "3  364017777045  2017-08-11 10:15:37  ...       Erica Anderson           NaN\n",
              "4  551397602202  2017-08-11 13:33:23  ...  Kathleen Hawkins MD           NaN\n",
              "\n",
              "[5 rows x 11 columns]"
            ]
          },
          "metadata": {
            "tags": []
          },
          "execution_count": 8
        }
      ]
    },
    {
      "cell_type": "code",
      "metadata": {
        "colab": {
          "base_uri": "https://localhost:8080/",
          "height": 225
        },
        "id": "YxOLJddq4Wrv",
        "outputId": "5677f9f3-e845-4872-c5e1-bf9b7a62dc3d"
      },
      "source": [
        "#\n",
        "interactions.shape  # (5625, 7)\n",
        "interactions.head()"
      ],
      "execution_count": 9,
      "outputs": [
        {
          "output_type": "execute_result",
          "data": {
            "text/plain": [
              "(5625, 7)"
            ]
          },
          "metadata": {
            "tags": []
          },
          "execution_count": 9
        },
        {
          "output_type": "execute_result",
          "data": {
            "text/html": [
              "<div>\n",
              "<style scoped>\n",
              "    .dataframe tbody tr th:only-of-type {\n",
              "        vertical-align: middle;\n",
              "    }\n",
              "\n",
              "    .dataframe tbody tr th {\n",
              "        vertical-align: top;\n",
              "    }\n",
              "\n",
              "    .dataframe thead th {\n",
              "        text-align: right;\n",
              "    }\n",
              "</style>\n",
              "<table border=\"1\" class=\"dataframe\">\n",
              "  <thead>\n",
              "    <tr style=\"text-align: right;\">\n",
              "      <th></th>\n",
              "      <th>id</th>\n",
              "      <th>time</th>\n",
              "      <th>customer_id</th>\n",
              "      <th>action</th>\n",
              "      <th>amount</th>\n",
              "      <th>session</th>\n",
              "      <th>referrer</th>\n",
              "    </tr>\n",
              "  </thead>\n",
              "  <tbody>\n",
              "    <tr>\n",
              "      <th>0</th>\n",
              "      <td>807870369974</td>\n",
              "      <td>2017-08-17 18:18:45</td>\n",
              "      <td>676332384432</td>\n",
              "      <td>contact_form</td>\n",
              "      <td>NaN</td>\n",
              "      <td>531094009776</td>\n",
              "      <td>https://www.twitter.com</td>\n",
              "    </tr>\n",
              "    <tr>\n",
              "      <th>1</th>\n",
              "      <td>889936071815</td>\n",
              "      <td>2017-08-18 18:58:39</td>\n",
              "      <td>676332384432</td>\n",
              "      <td>contact_form</td>\n",
              "      <td>NaN</td>\n",
              "      <td>531094009776</td>\n",
              "      <td>https://www.twitter.com</td>\n",
              "    </tr>\n",
              "    <tr>\n",
              "      <th>2</th>\n",
              "      <td>890016715098</td>\n",
              "      <td>2017-08-22 15:54:26</td>\n",
              "      <td>756895858030</td>\n",
              "      <td>purchase</td>\n",
              "      <td>50.54</td>\n",
              "      <td>355429835992</td>\n",
              "      <td>NaN</td>\n",
              "    </tr>\n",
              "    <tr>\n",
              "      <th>3</th>\n",
              "      <td>539965059120</td>\n",
              "      <td>2017-08-24 23:25:33</td>\n",
              "      <td>676332384432</td>\n",
              "      <td>page_view</td>\n",
              "      <td>NaN</td>\n",
              "      <td>531094009776</td>\n",
              "      <td>NaN</td>\n",
              "    </tr>\n",
              "    <tr>\n",
              "      <th>4</th>\n",
              "      <td>496056352403</td>\n",
              "      <td>2017-08-25 09:32:25</td>\n",
              "      <td>676332384432</td>\n",
              "      <td>page_view</td>\n",
              "      <td>NaN</td>\n",
              "      <td>531094009776</td>\n",
              "      <td>https://medium.com/article</td>\n",
              "    </tr>\n",
              "  </tbody>\n",
              "</table>\n",
              "</div>"
            ],
            "text/plain": [
              "             id                 time  ...       session                    referrer\n",
              "0  807870369974  2017-08-17 18:18:45  ...  531094009776     https://www.twitter.com\n",
              "1  889936071815  2017-08-18 18:58:39  ...  531094009776     https://www.twitter.com\n",
              "2  890016715098  2017-08-22 15:54:26  ...  355429835992                         NaN\n",
              "3  539965059120  2017-08-24 23:25:33  ...  531094009776                         NaN\n",
              "4  496056352403  2017-08-25 09:32:25  ...  531094009776  https://medium.com/article\n",
              "\n",
              "[5 rows x 7 columns]"
            ]
          },
          "metadata": {
            "tags": []
          },
          "execution_count": 9
        }
      ]
    },
    {
      "cell_type": "code",
      "metadata": {
        "colab": {
          "base_uri": "https://localhost:8080/",
          "height": 225
        },
        "id": "W_hk-gmw4xlc",
        "outputId": "7a1048e4-2f8d-4b9c-e01b-860cfe822ba9"
      },
      "source": [
        "#\n",
        "leads.shape  # (584, 3)\n",
        "leads.head()"
      ],
      "execution_count": 10,
      "outputs": [
        {
          "output_type": "execute_result",
          "data": {
            "text/plain": [
              "(584, 3)"
            ]
          },
          "metadata": {
            "tags": []
          },
          "execution_count": 10
        },
        {
          "output_type": "execute_result",
          "data": {
            "text/html": [
              "<div>\n",
              "<style scoped>\n",
              "    .dataframe tbody tr th:only-of-type {\n",
              "        vertical-align: middle;\n",
              "    }\n",
              "\n",
              "    .dataframe tbody tr th {\n",
              "        vertical-align: top;\n",
              "    }\n",
              "\n",
              "    .dataframe thead th {\n",
              "        text-align: right;\n",
              "    }\n",
              "</style>\n",
              "<table border=\"1\" class=\"dataframe\">\n",
              "  <thead>\n",
              "    <tr style=\"text-align: right;\">\n",
              "      <th></th>\n",
              "      <th>customer_id</th>\n",
              "      <th>time</th>\n",
              "      <th>label</th>\n",
              "    </tr>\n",
              "  </thead>\n",
              "  <tbody>\n",
              "    <tr>\n",
              "      <th>0</th>\n",
              "      <td>961424493033</td>\n",
              "      <td>2017-09-17 08:20:09</td>\n",
              "      <td>False</td>\n",
              "    </tr>\n",
              "    <tr>\n",
              "      <th>1</th>\n",
              "      <td>739795366381</td>\n",
              "      <td>2017-09-20 18:14:56</td>\n",
              "      <td>False</td>\n",
              "    </tr>\n",
              "    <tr>\n",
              "      <th>2</th>\n",
              "      <td>433081973416</td>\n",
              "      <td>2017-09-26 12:14:42</td>\n",
              "      <td>False</td>\n",
              "    </tr>\n",
              "    <tr>\n",
              "      <th>3</th>\n",
              "      <td>178336564320</td>\n",
              "      <td>2017-09-29 12:48:25</td>\n",
              "      <td>False</td>\n",
              "    </tr>\n",
              "    <tr>\n",
              "      <th>4</th>\n",
              "      <td>203924762965</td>\n",
              "      <td>2017-10-02 02:57:06</td>\n",
              "      <td>False</td>\n",
              "    </tr>\n",
              "  </tbody>\n",
              "</table>\n",
              "</div>"
            ],
            "text/plain": [
              "    customer_id                 time  label\n",
              "0  961424493033  2017-09-17 08:20:09  False\n",
              "1  739795366381  2017-09-20 18:14:56  False\n",
              "2  433081973416  2017-09-26 12:14:42  False\n",
              "3  178336564320  2017-09-29 12:48:25  False\n",
              "4  203924762965  2017-10-02 02:57:06  False"
            ]
          },
          "metadata": {
            "tags": []
          },
          "execution_count": 10
        }
      ]
    },
    {
      "cell_type": "code",
      "metadata": {
        "id": "vOv6meMi5e6c"
      },
      "source": [
        "customers.to_csv(\"customers.csv\", index = False)\n",
        "interactions.to_csv(\"interactions.csv\", index = False)\n",
        "leads.to_csv(\"leads.csv\", index=False)"
      ],
      "execution_count": 14,
      "outputs": []
    },
    {
      "cell_type": "markdown",
      "metadata": {
        "id": "2hUZYdGM7c3t"
      },
      "source": [
        "## Configure LeadScoring objectives"
      ]
    },
    {
      "cell_type": "markdown",
      "metadata": {
        "id": "v_yWnT4y8gHT"
      },
      "source": [
        "To optimize the pipelines toward the specific business needs of this model, you can set your own assumptions for how much value is gained through true positives and the cost associated with false positives. These parameters are\n",
        "\n",
        "> true_positive - dollar amount to be gained with a successful lead  \n",
        "false_positive - dollar amount to be lost with an unsuccessful lead\n",
        "\n",
        "Using these parameters, EvalML builds a pileline that will maximize the amount of revenue per lead generated."
      ]
    },
    {
      "cell_type": "code",
      "metadata": {
        "id": "6P5aN7b-8Ypc"
      },
      "source": [
        "lead_scoring_objective = LeadScoring(\n",
        "                                      true_positives=1000,\n",
        "                                      false_positives=-10\n",
        "                                    )"
      ],
      "execution_count": 15,
      "outputs": []
    },
    {
      "cell_type": "code",
      "metadata": {
        "id": "f-ZoLf1r8rh4"
      },
      "source": [
        "# Merge the three datasets\n",
        "X = customers.merge(\n",
        "                    interactions,\n",
        "                    on='customer_id').merge(\n",
        "                                            leads,\n",
        "                                            on='customer_id'\n",
        "                                            )\n",
        "y = X['label']"
      ],
      "execution_count": 21,
      "outputs": []
    },
    {
      "cell_type": "code",
      "metadata": {
        "id": "MVt5c3S2-z2U",
        "outputId": "b8f90292-cb47-42a7-91d5-f2d599ceb2a8",
        "colab": {
          "base_uri": "https://localhost:8080/",
          "height": 206
        }
      },
      "source": [
        "X = X.drop(\n",
        "            [ 'customer_id', 'date_registered', 'birthday','phone', 'email',\n",
        "              'owner', 'company', 'id', 'time_x',\n",
        "              'session', 'referrer', 'time_y', 'label', 'country'],\n",
        "              axis=1\n",
        "           )\n",
        "\n",
        "display(X.head())"
      ],
      "execution_count": 22,
      "outputs": [
        {
          "output_type": "display_data",
          "data": {
            "text/html": [
              "<div>\n",
              "<style scoped>\n",
              "    .dataframe tbody tr th:only-of-type {\n",
              "        vertical-align: middle;\n",
              "    }\n",
              "\n",
              "    .dataframe tbody tr th {\n",
              "        vertical-align: top;\n",
              "    }\n",
              "\n",
              "    .dataframe thead th {\n",
              "        text-align: right;\n",
              "    }\n",
              "</style>\n",
              "<table border=\"1\" class=\"dataframe\">\n",
              "  <thead>\n",
              "    <tr style=\"text-align: right;\">\n",
              "      <th></th>\n",
              "      <th>job</th>\n",
              "      <th>state</th>\n",
              "      <th>zip</th>\n",
              "      <th>action</th>\n",
              "      <th>amount</th>\n",
              "    </tr>\n",
              "  </thead>\n",
              "  <tbody>\n",
              "    <tr>\n",
              "      <th>0</th>\n",
              "      <td>Engineer, mining</td>\n",
              "      <td>NY</td>\n",
              "      <td>60091.0</td>\n",
              "      <td>page_view</td>\n",
              "      <td>NaN</td>\n",
              "    </tr>\n",
              "    <tr>\n",
              "      <th>1</th>\n",
              "      <td>Psychologist, forensic</td>\n",
              "      <td>CA</td>\n",
              "      <td>NaN</td>\n",
              "      <td>purchase</td>\n",
              "      <td>135.23</td>\n",
              "    </tr>\n",
              "    <tr>\n",
              "      <th>2</th>\n",
              "      <td>Psychologist, forensic</td>\n",
              "      <td>CA</td>\n",
              "      <td>NaN</td>\n",
              "      <td>page_view</td>\n",
              "      <td>NaN</td>\n",
              "    </tr>\n",
              "    <tr>\n",
              "      <th>3</th>\n",
              "      <td>Air cabin crew</td>\n",
              "      <td>NaN</td>\n",
              "      <td>60091.0</td>\n",
              "      <td>download</td>\n",
              "      <td>NaN</td>\n",
              "    </tr>\n",
              "    <tr>\n",
              "      <th>4</th>\n",
              "      <td>Air cabin crew</td>\n",
              "      <td>NaN</td>\n",
              "      <td>60091.0</td>\n",
              "      <td>page_view</td>\n",
              "      <td>NaN</td>\n",
              "    </tr>\n",
              "  </tbody>\n",
              "</table>\n",
              "</div>"
            ],
            "text/plain": [
              "                      job state      zip     action  amount\n",
              "0        Engineer, mining    NY  60091.0  page_view     NaN\n",
              "1  Psychologist, forensic    CA      NaN   purchase  135.23\n",
              "2  Psychologist, forensic    CA      NaN  page_view     NaN\n",
              "3          Air cabin crew   NaN  60091.0   download     NaN\n",
              "4          Air cabin crew   NaN  60091.0  page_view     NaN"
            ]
          },
          "metadata": {
            "tags": []
          }
        }
      ]
    },
    {
      "cell_type": "code",
      "metadata": {
        "id": "WL1A1Dts_BWP",
        "outputId": "b86cd902-baf0-45ce-b504-794411f4ba8c",
        "colab": {
          "base_uri": "https://localhost:8080/",
          "height": 293
        }
      },
      "source": [
        "# Transform X and y to Woodwork Dataframes\n",
        "# and look at logical type and semantic tags\n",
        "X1 = ww.DataTable(X)    # Pandas DataFrame to DataTable\n",
        "y1 =  ww.DataColumn(y)  # Pandas Series to DataColumn\n",
        "\n",
        "#\n",
        "X1.types\n",
        "\n",
        "#\n",
        "print()\n",
        "type(X1)\n",
        "print()\n",
        "type(y1)"
      ],
      "execution_count": 25,
      "outputs": [
        {
          "output_type": "execute_result",
          "data": {
            "text/html": [
              "<div>\n",
              "<style scoped>\n",
              "    .dataframe tbody tr th:only-of-type {\n",
              "        vertical-align: middle;\n",
              "    }\n",
              "\n",
              "    .dataframe tbody tr th {\n",
              "        vertical-align: top;\n",
              "    }\n",
              "\n",
              "    .dataframe thead th {\n",
              "        text-align: right;\n",
              "    }\n",
              "</style>\n",
              "<table border=\"1\" class=\"dataframe\">\n",
              "  <thead>\n",
              "    <tr style=\"text-align: right;\">\n",
              "      <th></th>\n",
              "      <th>Physical Type</th>\n",
              "      <th>Logical Type</th>\n",
              "      <th>Semantic Tag(s)</th>\n",
              "    </tr>\n",
              "    <tr>\n",
              "      <th>Data Column</th>\n",
              "      <th></th>\n",
              "      <th></th>\n",
              "      <th></th>\n",
              "    </tr>\n",
              "  </thead>\n",
              "  <tbody>\n",
              "    <tr>\n",
              "      <th>job</th>\n",
              "      <td>string</td>\n",
              "      <td>NaturalLanguage</td>\n",
              "      <td>[]</td>\n",
              "    </tr>\n",
              "    <tr>\n",
              "      <th>state</th>\n",
              "      <td>category</td>\n",
              "      <td>Categorical</td>\n",
              "      <td>['category']</td>\n",
              "    </tr>\n",
              "    <tr>\n",
              "      <th>zip</th>\n",
              "      <td>float64</td>\n",
              "      <td>Double</td>\n",
              "      <td>['numeric']</td>\n",
              "    </tr>\n",
              "    <tr>\n",
              "      <th>action</th>\n",
              "      <td>category</td>\n",
              "      <td>Categorical</td>\n",
              "      <td>['category']</td>\n",
              "    </tr>\n",
              "    <tr>\n",
              "      <th>amount</th>\n",
              "      <td>float64</td>\n",
              "      <td>Double</td>\n",
              "      <td>['numeric']</td>\n",
              "    </tr>\n",
              "  </tbody>\n",
              "</table>\n",
              "</div>"
            ],
            "text/plain": [
              "            Physical Type     Logical Type Semantic Tag(s)\n",
              "Data Column                                               \n",
              "job                string  NaturalLanguage              []\n",
              "state            category      Categorical    ['category']\n",
              "zip               float64           Double     ['numeric']\n",
              "action           category      Categorical    ['category']\n",
              "amount            float64           Double     ['numeric']"
            ]
          },
          "metadata": {
            "tags": []
          },
          "execution_count": 25
        },
        {
          "output_type": "stream",
          "text": [
            "\n"
          ],
          "name": "stdout"
        },
        {
          "output_type": "execute_result",
          "data": {
            "text/plain": [
              "woodwork.datatable.DataTable"
            ]
          },
          "metadata": {
            "tags": []
          },
          "execution_count": 25
        },
        {
          "output_type": "stream",
          "text": [
            "\n"
          ],
          "name": "stdout"
        },
        {
          "output_type": "execute_result",
          "data": {
            "text/plain": [
              "woodwork.datacolumn.DataColumn"
            ]
          },
          "metadata": {
            "tags": []
          },
          "execution_count": 25
        }
      ]
    },
    {
      "cell_type": "code",
      "metadata": {
        "id": "haw7Vc44_O94",
        "outputId": "d9eca656-c241-4918-fff9-e564e5695c24",
        "colab": {
          "base_uri": "https://localhost:8080/",
          "height": 238
        }
      },
      "source": [
        "# As 'job' column does not get any type,\n",
        "# we explicitly add one:\n",
        "\n",
        "X = ww.DataTable(X, semantic_tags={'job': 'category'}, logical_types={'job': 'Categorical'})\n",
        "y = ww.DataColumn(y)\n",
        "X.types"
      ],
      "execution_count": 26,
      "outputs": [
        {
          "output_type": "execute_result",
          "data": {
            "text/html": [
              "<div>\n",
              "<style scoped>\n",
              "    .dataframe tbody tr th:only-of-type {\n",
              "        vertical-align: middle;\n",
              "    }\n",
              "\n",
              "    .dataframe tbody tr th {\n",
              "        vertical-align: top;\n",
              "    }\n",
              "\n",
              "    .dataframe thead th {\n",
              "        text-align: right;\n",
              "    }\n",
              "</style>\n",
              "<table border=\"1\" class=\"dataframe\">\n",
              "  <thead>\n",
              "    <tr style=\"text-align: right;\">\n",
              "      <th></th>\n",
              "      <th>Physical Type</th>\n",
              "      <th>Logical Type</th>\n",
              "      <th>Semantic Tag(s)</th>\n",
              "    </tr>\n",
              "    <tr>\n",
              "      <th>Data Column</th>\n",
              "      <th></th>\n",
              "      <th></th>\n",
              "      <th></th>\n",
              "    </tr>\n",
              "  </thead>\n",
              "  <tbody>\n",
              "    <tr>\n",
              "      <th>job</th>\n",
              "      <td>category</td>\n",
              "      <td>Categorical</td>\n",
              "      <td>['category']</td>\n",
              "    </tr>\n",
              "    <tr>\n",
              "      <th>state</th>\n",
              "      <td>category</td>\n",
              "      <td>Categorical</td>\n",
              "      <td>['category']</td>\n",
              "    </tr>\n",
              "    <tr>\n",
              "      <th>zip</th>\n",
              "      <td>float64</td>\n",
              "      <td>Double</td>\n",
              "      <td>['numeric']</td>\n",
              "    </tr>\n",
              "    <tr>\n",
              "      <th>action</th>\n",
              "      <td>category</td>\n",
              "      <td>Categorical</td>\n",
              "      <td>['category']</td>\n",
              "    </tr>\n",
              "    <tr>\n",
              "      <th>amount</th>\n",
              "      <td>float64</td>\n",
              "      <td>Double</td>\n",
              "      <td>['numeric']</td>\n",
              "    </tr>\n",
              "  </tbody>\n",
              "</table>\n",
              "</div>"
            ],
            "text/plain": [
              "            Physical Type Logical Type Semantic Tag(s)\n",
              "Data Column                                           \n",
              "job              category  Categorical    ['category']\n",
              "state            category  Categorical    ['category']\n",
              "zip               float64       Double     ['numeric']\n",
              "action           category  Categorical    ['category']\n",
              "amount            float64       Double     ['numeric']"
            ]
          },
          "metadata": {
            "tags": []
          },
          "execution_count": 26
        }
      ]
    },
    {
      "cell_type": "markdown",
      "metadata": {
        "id": "bGxYlILcC5jI"
      },
      "source": [
        "## Search for the best pipeline¶"
      ]
    },
    {
      "cell_type": "markdown",
      "metadata": {
        "id": "he1zrA60Dawd"
      },
      "source": [
        "In order to validate the results of the pipeline creation and optimization process, we will save some of our data as a holdout set.\n",
        "\n",
        "EvalML natively supports one-hot encoding and imputation so the above NaN and categorical values will be taken care of."
      ]
    },
    {
      "cell_type": "code",
      "metadata": {
        "id": "SHW2UFjyCuI0",
        "outputId": "23c9bbf4-c6f2-4fc8-b3d7-67291e11349a",
        "colab": {
          "base_uri": "https://localhost:8080/"
        }
      },
      "source": [
        "X_train, X_holdout, y_train, y_holdout = evalml. \\\n",
        "                                         preprocessing. \\\n",
        "                                         split_data(\n",
        "                                                     X, y,\n",
        "                                                     problem_type='binary',\n",
        "                                                     test_size=0.2,\n",
        "                                                     random_seed=0\n",
        "                                                    )\n",
        "print(X.types)"
      ],
      "execution_count": 27,
      "outputs": [
        {
          "output_type": "stream",
          "text": [
            "            Physical Type Logical Type Semantic Tag(s)\n",
            "Data Column                                           \n",
            "job              category  Categorical    ['category']\n",
            "state            category  Categorical    ['category']\n",
            "zip               float64       Double     ['numeric']\n",
            "action           category  Categorical    ['category']\n",
            "amount            float64       Double     ['numeric']\n"
          ],
          "name": "stdout"
        }
      ]
    },
    {
      "cell_type": "markdown",
      "metadata": {
        "id": "KDpFcRRUEIxM"
      },
      "source": [
        "Because the lead scoring labels are binary, we will use `AutoMLSearch(X_train=X_train, y_train=y_train, problem_type='binary')`. When we call `.search()`, the search for the best pipeline will begin."
      ]
    },
    {
      "cell_type": "code",
      "metadata": {
        "id": "tBN22fV2D4-4",
        "outputId": "76c81848-d435-4510-963a-be813714ffec",
        "colab": {
          "base_uri": "https://localhost:8080/"
        }
      },
      "source": [
        "# Instantiate AutoMLSearch class \n",
        "automl = AutoMLSearch(\n",
        "                      X_train=X_train,\n",
        "                      y_train=y_train,\n",
        "                      problem_type='binary',\n",
        "                      objective=lead_scoring_objective,\n",
        "                      additional_objectives=['auc'],\n",
        "                      max_batches=3,\n",
        "                      optimize_thresholds=True,\n",
        "                      sampler_method=None)\n",
        "\n"
      ],
      "execution_count": 32,
      "outputs": [
        {
          "output_type": "stream",
          "text": [
            "Generating pipelines to search over...\n",
            "8 pipelines ready for search.\n"
          ],
          "name": "stdout"
        }
      ]
    },
    {
      "cell_type": "code",
      "metadata": {
        "id": "IYO2Kl6REkGw",
        "outputId": "6287b85f-3fea-44ee-b9d4-20654f694bd1",
        "colab": {
          "base_uri": "https://localhost:8080/",
          "height": 1000,
          "referenced_widgets": [
            "fdea6a58162243fa9cdf5485c7a5018a"
          ]
        }
      },
      "source": [
        "start = time.time()\n",
        "automl.search()\n",
        "end = time.time()\n",
        "print(\"Time taken: \", (end-start)/60)"
      ],
      "execution_count": 33,
      "outputs": [
        {
          "output_type": "stream",
          "text": [
            "\n",
            "*****************************\n",
            "* Beginning pipeline search *\n",
            "*****************************\n",
            "\n",
            "Optimizing for Lead Scoring. \n",
            "Greater score is better.\n",
            "\n",
            "Using SequentialEngine to train and score pipelines.\n",
            "Searching up to 3 batches for a total of 19 pipelines. \n",
            "Allowed model families: extra_trees, linear_model, xgboost, random_forest, lightgbm, decision_tree, catboost\n",
            "\n"
          ],
          "name": "stdout"
        },
        {
          "output_type": "display_data",
          "data": {
            "application/vnd.jupyter.widget-view+json": {
              "model_id": "fdea6a58162243fa9cdf5485c7a5018a",
              "version_minor": 0,
              "version_major": 2
            },
            "text/plain": [
              "FigureWidget({\n",
              "    'data': [{'mode': 'lines+markers',\n",
              "              'name': 'Best Score',\n",
              "              'type'…"
            ]
          },
          "metadata": {
            "tags": []
          }
        },
        {
          "output_type": "stream",
          "text": [
            "Evaluating Baseline Pipeline: Mode Baseline Binary Classification Pipeline\n",
            "Mode Baseline Binary Classification Pipeline:\n",
            "\tStarting cross validation\n",
            "\tFinished cross validation - mean Lead Scoring: 0.000\n",
            "\n",
            "*****************************\n",
            "* Evaluating Batch Number 1 *\n",
            "*****************************\n",
            "\n",
            "Elastic Net Classifier w/ Imputer + One Hot Encoder + Standard Scaler:\n",
            "\tStarting cross validation\n",
            "\tFinished cross validation - mean Lead Scoring: 15.550\n",
            "Decision Tree Classifier w/ Imputer + One Hot Encoder:\n",
            "\tStarting cross validation\n",
            "\tFinished cross validation - mean Lead Scoring: 14.821\n",
            "Random Forest Classifier w/ Imputer + One Hot Encoder:\n",
            "\tStarting cross validation\n",
            "\tFinished cross validation - mean Lead Scoring: 14.515\n",
            "LightGBM Classifier w/ Imputer + One Hot Encoder:\n",
            "\tStarting cross validation\n",
            "\tFinished cross validation - mean Lead Scoring: 13.354\n",
            "Logistic Regression Classifier w/ Imputer + One Hot Encoder + Standard Scaler:\n",
            "\tStarting cross validation\n",
            "\tFinished cross validation - mean Lead Scoring: 14.941\n",
            "XGBoost Classifier w/ Imputer + One Hot Encoder:\n",
            "\tStarting cross validation\n",
            "\tFinished cross validation - mean Lead Scoring: 14.537\n",
            "Extra Trees Classifier w/ Imputer + One Hot Encoder:\n",
            "\tStarting cross validation\n",
            "\tFinished cross validation - mean Lead Scoring: 15.294\n",
            "CatBoost Classifier w/ Imputer:\n",
            "\tStarting cross validation\n",
            "\tFinished cross validation - mean Lead Scoring: 15.997\n",
            "\n",
            "*****************************\n",
            "* Evaluating Batch Number 2 *\n",
            "*****************************\n",
            "\n",
            "CatBoost Classifier w/ Imputer:\n",
            "\tStarting cross validation\n",
            "\tFinished cross validation - mean Lead Scoring: 12.570\n",
            "CatBoost Classifier w/ Imputer:\n",
            "\tStarting cross validation\n",
            "\tFinished cross validation - mean Lead Scoring: 14.180\n",
            "CatBoost Classifier w/ Imputer:\n",
            "\tStarting cross validation\n",
            "\tFinished cross validation - mean Lead Scoring: 13.119\n",
            "CatBoost Classifier w/ Imputer:\n",
            "\tStarting cross validation\n",
            "\tFinished cross validation - mean Lead Scoring: 13.755\n",
            "CatBoost Classifier w/ Imputer:\n",
            "\tStarting cross validation\n",
            "\tFinished cross validation - mean Lead Scoring: 15.655\n",
            "\n",
            "*****************************\n",
            "* Evaluating Batch Number 3 *\n",
            "*****************************\n",
            "\n",
            "Elastic Net Classifier w/ Imputer + One Hot Encoder + Standard Scaler:\n",
            "\tStarting cross validation\n",
            "\tFinished cross validation - mean Lead Scoring: 15.997\n",
            "Elastic Net Classifier w/ Imputer + One Hot Encoder + Standard Scaler:\n",
            "\tStarting cross validation\n",
            "\tFinished cross validation - mean Lead Scoring: 15.997\n",
            "Elastic Net Classifier w/ Imputer + One Hot Encoder + Standard Scaler:\n",
            "\tStarting cross validation\n",
            "\tFinished cross validation - mean Lead Scoring: 15.997\n",
            "Elastic Net Classifier w/ Imputer + One Hot Encoder + Standard Scaler:\n",
            "\tStarting cross validation\n",
            "\tFinished cross validation - mean Lead Scoring: 15.997\n",
            "Elastic Net Classifier w/ Imputer + One Hot Encoder + Standard Scaler:\n",
            "\tStarting cross validation\n",
            "\tFinished cross validation - mean Lead Scoring: 15.997\n",
            "\n",
            "Search finished after 00:47            \n",
            "Best pipeline: Elastic Net Classifier w/ Imputer + One Hot Encoder + Standard Scaler\n",
            "Best pipeline Lead Scoring: 15.996914\n",
            "Time taken:  0.8068358262379964\n"
          ],
          "name": "stdout"
        }
      ]
    },
    {
      "cell_type": "markdown",
      "metadata": {
        "id": "vAQyVtCnHWKP"
      },
      "source": [
        "## View rankings and select pipeline"
      ]
    },
    {
      "cell_type": "markdown",
      "metadata": {
        "id": "r8mtAFdnJq-J"
      },
      "source": [
        "Once the fitting process is done, we can see all of the pipelines that were searched, ranked by their score on the lead scoring objective we defined."
      ]
    },
    {
      "cell_type": "code",
      "metadata": {
        "id": "PCUBbOHZEmfn",
        "outputId": "2dc6ddfc-317d-4730-d5cd-7260195b9e8a",
        "colab": {
          "base_uri": "https://localhost:8080/",
          "height": 803
        }
      },
      "source": [
        "automl.rankings"
      ],
      "execution_count": 34,
      "outputs": [
        {
          "output_type": "execute_result",
          "data": {
            "text/html": [
              "<div>\n",
              "<style scoped>\n",
              "    .dataframe tbody tr th:only-of-type {\n",
              "        vertical-align: middle;\n",
              "    }\n",
              "\n",
              "    .dataframe tbody tr th {\n",
              "        vertical-align: top;\n",
              "    }\n",
              "\n",
              "    .dataframe thead th {\n",
              "        text-align: right;\n",
              "    }\n",
              "</style>\n",
              "<table border=\"1\" class=\"dataframe\">\n",
              "  <thead>\n",
              "    <tr style=\"text-align: right;\">\n",
              "      <th></th>\n",
              "      <th>id</th>\n",
              "      <th>pipeline_name</th>\n",
              "      <th>mean_cv_score</th>\n",
              "      <th>standard_deviation_cv_score</th>\n",
              "      <th>validation_score</th>\n",
              "      <th>percent_better_than_baseline</th>\n",
              "      <th>high_variance_cv</th>\n",
              "      <th>parameters</th>\n",
              "    </tr>\n",
              "  </thead>\n",
              "  <tbody>\n",
              "    <tr>\n",
              "      <th>0</th>\n",
              "      <td>18</td>\n",
              "      <td>Elastic Net Classifier w/ Imputer + One Hot En...</td>\n",
              "      <td>15.996914</td>\n",
              "      <td>0.645669</td>\n",
              "      <td>16.741935</td>\n",
              "      <td>inf</td>\n",
              "      <td>False</td>\n",
              "      <td>{'Imputer': {'categorical_impute_strategy': 'm...</td>\n",
              "    </tr>\n",
              "    <tr>\n",
              "      <th>4</th>\n",
              "      <td>8</td>\n",
              "      <td>CatBoost Classifier w/ Imputer</td>\n",
              "      <td>15.996914</td>\n",
              "      <td>0.645669</td>\n",
              "      <td>16.741935</td>\n",
              "      <td>inf</td>\n",
              "      <td>False</td>\n",
              "      <td>{'Imputer': {'categorical_impute_strategy': 'm...</td>\n",
              "    </tr>\n",
              "    <tr>\n",
              "      <th>8</th>\n",
              "      <td>7</td>\n",
              "      <td>Extra Trees Classifier w/ Imputer + One Hot En...</td>\n",
              "      <td>15.293603</td>\n",
              "      <td>0.436765</td>\n",
              "      <td>14.877419</td>\n",
              "      <td>inf</td>\n",
              "      <td>False</td>\n",
              "      <td>{'Imputer': {'categorical_impute_strategy': 'm...</td>\n",
              "    </tr>\n",
              "    <tr>\n",
              "      <th>9</th>\n",
              "      <td>5</td>\n",
              "      <td>Logistic Regression Classifier w/ Imputer + On...</td>\n",
              "      <td>14.940900</td>\n",
              "      <td>0.914874</td>\n",
              "      <td>13.929032</td>\n",
              "      <td>inf</td>\n",
              "      <td>False</td>\n",
              "      <td>{'Imputer': {'categorical_impute_strategy': 'm...</td>\n",
              "    </tr>\n",
              "    <tr>\n",
              "      <th>10</th>\n",
              "      <td>2</td>\n",
              "      <td>Decision Tree Classifier w/ Imputer + One Hot ...</td>\n",
              "      <td>14.820570</td>\n",
              "      <td>2.443147</td>\n",
              "      <td>16.741935</td>\n",
              "      <td>inf</td>\n",
              "      <td>False</td>\n",
              "      <td>{'Imputer': {'categorical_impute_strategy': 'm...</td>\n",
              "    </tr>\n",
              "    <tr>\n",
              "      <th>11</th>\n",
              "      <td>6</td>\n",
              "      <td>XGBoost Classifier w/ Imputer + One Hot Encoder</td>\n",
              "      <td>14.536504</td>\n",
              "      <td>1.124271</td>\n",
              "      <td>15.541935</td>\n",
              "      <td>inf</td>\n",
              "      <td>False</td>\n",
              "      <td>{'Imputer': {'categorical_impute_strategy': 'm...</td>\n",
              "    </tr>\n",
              "    <tr>\n",
              "      <th>12</th>\n",
              "      <td>3</td>\n",
              "      <td>Random Forest Classifier w/ Imputer + One Hot ...</td>\n",
              "      <td>14.514975</td>\n",
              "      <td>0.504420</td>\n",
              "      <td>14.948387</td>\n",
              "      <td>inf</td>\n",
              "      <td>False</td>\n",
              "      <td>{'Imputer': {'categorical_impute_strategy': 'm...</td>\n",
              "    </tr>\n",
              "    <tr>\n",
              "      <th>15</th>\n",
              "      <td>4</td>\n",
              "      <td>LightGBM Classifier w/ Imputer + One Hot Encoder</td>\n",
              "      <td>13.353574</td>\n",
              "      <td>1.575213</td>\n",
              "      <td>14.400000</td>\n",
              "      <td>inf</td>\n",
              "      <td>False</td>\n",
              "      <td>{'Imputer': {'categorical_impute_strategy': 'm...</td>\n",
              "    </tr>\n",
              "    <tr>\n",
              "      <th>18</th>\n",
              "      <td>0</td>\n",
              "      <td>Mode Baseline Binary Classification Pipeline</td>\n",
              "      <td>0.000000</td>\n",
              "      <td>0.000000</td>\n",
              "      <td>0.000000</td>\n",
              "      <td>0.0</td>\n",
              "      <td>False</td>\n",
              "      <td>{'Baseline Classifier': {'strategy': 'mode'}}</td>\n",
              "    </tr>\n",
              "  </tbody>\n",
              "</table>\n",
              "</div>"
            ],
            "text/plain": [
              "    id  ...                                         parameters\n",
              "0   18  ...  {'Imputer': {'categorical_impute_strategy': 'm...\n",
              "4    8  ...  {'Imputer': {'categorical_impute_strategy': 'm...\n",
              "8    7  ...  {'Imputer': {'categorical_impute_strategy': 'm...\n",
              "9    5  ...  {'Imputer': {'categorical_impute_strategy': 'm...\n",
              "10   2  ...  {'Imputer': {'categorical_impute_strategy': 'm...\n",
              "11   6  ...  {'Imputer': {'categorical_impute_strategy': 'm...\n",
              "12   3  ...  {'Imputer': {'categorical_impute_strategy': 'm...\n",
              "15   4  ...  {'Imputer': {'categorical_impute_strategy': 'm...\n",
              "18   0  ...      {'Baseline Classifier': {'strategy': 'mode'}}\n",
              "\n",
              "[9 rows x 8 columns]"
            ]
          },
          "metadata": {
            "tags": []
          },
          "execution_count": 34
        }
      ]
    },
    {
      "cell_type": "markdown",
      "metadata": {
        "id": "d_dxz4URJ4Pq"
      },
      "source": [
        "To select the best pipeline we can call automl.best_pipeline."
      ]
    },
    {
      "cell_type": "code",
      "metadata": {
        "id": "cHNCGrDKJur5"
      },
      "source": [
        "best_pipeline = automl.best_pipeline"
      ],
      "execution_count": 35,
      "outputs": []
    },
    {
      "cell_type": "markdown",
      "metadata": {
        "id": "ypXbc4b-KCL3"
      },
      "source": [
        "You can get more details about any pipeline, including how it performed on other objective functions by calling `.describe_pipeline()` and specifying the id of the pipeline."
      ]
    },
    {
      "cell_type": "code",
      "metadata": {
        "id": "4AZqFk9kJ7oy",
        "outputId": "c23a6ae5-ab55-4b52-83f2-505e9202337c",
        "colab": {
          "base_uri": "https://localhost:8080/"
        }
      },
      "source": [
        "automl.describe_pipeline(automl.rankings.iloc[0][\"id\"])"
      ],
      "execution_count": 36,
      "outputs": [
        {
          "output_type": "stream",
          "text": [
            "\n",
            "*************************************************************************\n",
            "* Elastic Net Classifier w/ Imputer + One Hot Encoder + Standard Scaler *\n",
            "*************************************************************************\n",
            "\n",
            "Problem Type: binary\n",
            "Model Family: Linear\n",
            "\n",
            "Pipeline Steps\n",
            "==============\n",
            "1. Imputer\n",
            "\t * categorical_impute_strategy : most_frequent\n",
            "\t * numeric_impute_strategy : median\n",
            "\t * categorical_fill_value : None\n",
            "\t * numeric_fill_value : None\n",
            "2. One Hot Encoder\n",
            "\t * top_n : 10\n",
            "\t * features_to_encode : None\n",
            "\t * categories : None\n",
            "\t * drop : if_binary\n",
            "\t * handle_unknown : ignore\n",
            "\t * handle_missing : error\n",
            "3. Standard Scaler\n",
            "4. Elastic Net Classifier\n",
            "\t * alpha : 0.29753460654447234\n",
            "\t * l1_ratio : 0.056712977317443194\n",
            "\t * n_jobs : -1\n",
            "\t * max_iter : 1000\n",
            "\t * penalty : elasticnet\n",
            "\t * loss : log\n",
            "\n",
            "Training\n",
            "========\n",
            "Training for binary problems.\n",
            "Objective to optimize binary classification pipeline thresholds for: <evalml.objectives.lead_scoring.LeadScoring object at 0x7f439b8a7510>\n",
            "Total training time (including CV): 2.6 seconds\n",
            "\n",
            "Cross Validation\n",
            "----------------\n",
            "             Lead Scoring   AUC # Training # Validation\n",
            "0                  16.742 0.563      3,099        1,550\n",
            "1                  15.600 0.531      3,099        1,550\n",
            "2                  15.649 0.521      3,100        1,549\n",
            "mean               15.997 0.538          -            -\n",
            "std                 0.646 0.022          -            -\n",
            "coef of var         0.040 0.041          -            -\n"
          ],
          "name": "stdout"
        }
      ]
    },
    {
      "cell_type": "markdown",
      "metadata": {
        "id": "cqdzIH11L0OH"
      },
      "source": [
        "## Evaluate on hold out"
      ]
    },
    {
      "cell_type": "markdown",
      "metadata": {
        "id": "AJk5JAFdL6cR"
      },
      "source": [
        "Finally, since the best pipeline was trained on all of the training data, we evaluate it on the holdout dataset."
      ]
    },
    {
      "cell_type": "code",
      "metadata": {
        "id": "I4VEdDdQKRWg",
        "outputId": "d3182297-9673-48b5-abce-2cc7f9fb4368",
        "colab": {
          "base_uri": "https://localhost:8080/"
        }
      },
      "source": [
        "best_pipeline.score(X_holdout, y_holdout, objectives=[\"auc\", lead_scoring_objective])"
      ],
      "execution_count": 37,
      "outputs": [
        {
          "output_type": "execute_result",
          "data": {
            "text/plain": [
              "OrderedDict([('AUC', 0.5098670293139922),\n",
              "             ('Lead Scoring', 15.382631126397248)])"
            ]
          },
          "metadata": {
            "tags": []
          },
          "execution_count": 37
        }
      ]
    },
    {
      "cell_type": "markdown",
      "metadata": {
        "id": "JXLeKhO5MBm5"
      },
      "source": [
        "## Why optimize for a problem-specific objective?"
      ]
    },
    {
      "cell_type": "markdown",
      "metadata": {
        "id": "xhX1qgE1MI9t"
      },
      "source": [
        "To demonstrate the importance of optimizing for the right objective, let’s search for another pipeline using AUC, a common machine learning metric. After that, we will score the holdout data using the lead scoring objective to see how the best pipelines compare."
      ]
    },
    {
      "cell_type": "code",
      "metadata": {
        "id": "oi97ZcTxL9g-",
        "outputId": "82d9beda-e8ed-4ebc-9dc8-5f66b57b0f4d",
        "colab": {
          "base_uri": "https://localhost:8080/",
          "height": 1000,
          "referenced_widgets": [
            "9100f22bdaad4d228e4c8d9ee701faf2"
          ]
        }
      },
      "source": [
        "# Instantiate AutoMLSearch class\n",
        "automl_auc = evalml.AutoMLSearch(\n",
        "                                 X_train=X_train,\n",
        "                                 y_train=y_train,\n",
        "                                 problem_type='binary',\n",
        "                                 objective='auc',\n",
        "                                 additional_objectives=[],\n",
        "                                 max_batches=3,\n",
        "                                 optimize_thresholds=True,\n",
        "                                 sampler_method=None)\n",
        "\n",
        "# Execute search()\n",
        "automl_auc.search()"
      ],
      "execution_count": 40,
      "outputs": [
        {
          "output_type": "stream",
          "text": [
            "Generating pipelines to search over...\n",
            "8 pipelines ready for search.\n",
            "\n",
            "*****************************\n",
            "* Beginning pipeline search *\n",
            "*****************************\n",
            "\n",
            "Optimizing for AUC. \n",
            "Greater score is better.\n",
            "\n",
            "Using SequentialEngine to train and score pipelines.\n",
            "Searching up to 3 batches for a total of 19 pipelines. \n",
            "Allowed model families: extra_trees, linear_model, xgboost, random_forest, lightgbm, decision_tree, catboost\n",
            "\n"
          ],
          "name": "stdout"
        },
        {
          "output_type": "display_data",
          "data": {
            "application/vnd.jupyter.widget-view+json": {
              "model_id": "9100f22bdaad4d228e4c8d9ee701faf2",
              "version_minor": 0,
              "version_major": 2
            },
            "text/plain": [
              "FigureWidget({\n",
              "    'data': [{'mode': 'lines+markers',\n",
              "              'name': 'Best Score',\n",
              "              'type'…"
            ]
          },
          "metadata": {
            "tags": []
          }
        },
        {
          "output_type": "stream",
          "text": [
            "Evaluating Baseline Pipeline: Mode Baseline Binary Classification Pipeline\n",
            "Mode Baseline Binary Classification Pipeline:\n",
            "\tStarting cross validation\n",
            "\tFinished cross validation - mean AUC: 0.500\n",
            "\n",
            "*****************************\n",
            "* Evaluating Batch Number 1 *\n",
            "*****************************\n",
            "\n",
            "Elastic Net Classifier w/ Imputer + One Hot Encoder + Standard Scaler:\n",
            "\tStarting cross validation\n",
            "\tFinished cross validation - mean AUC: 0.630\n",
            "Decision Tree Classifier w/ Imputer + One Hot Encoder:\n",
            "\tStarting cross validation\n",
            "\tFinished cross validation - mean AUC: 0.594\n",
            "Random Forest Classifier w/ Imputer + One Hot Encoder:\n",
            "\tStarting cross validation\n",
            "\tFinished cross validation - mean AUC: 0.682\n",
            "LightGBM Classifier w/ Imputer + One Hot Encoder:\n",
            "\tStarting cross validation\n",
            "\tFinished cross validation - mean AUC: 0.671\n",
            "Logistic Regression Classifier w/ Imputer + One Hot Encoder + Standard Scaler:\n",
            "\tStarting cross validation\n",
            "\tFinished cross validation - mean AUC: 0.681\n",
            "XGBoost Classifier w/ Imputer + One Hot Encoder:\n",
            "\tStarting cross validation\n",
            "\tFinished cross validation - mean AUC: 0.701\n",
            "Extra Trees Classifier w/ Imputer + One Hot Encoder:\n",
            "\tStarting cross validation\n",
            "\tFinished cross validation - mean AUC: 0.689\n",
            "CatBoost Classifier w/ Imputer:\n",
            "\tStarting cross validation\n",
            "\tFinished cross validation - mean AUC: 0.542\n",
            "\n",
            "*****************************\n",
            "* Evaluating Batch Number 2 *\n",
            "*****************************\n",
            "\n",
            "XGBoost Classifier w/ Imputer + One Hot Encoder:\n",
            "\tStarting cross validation\n",
            "\tFinished cross validation - mean AUC: 0.669\n",
            "XGBoost Classifier w/ Imputer + One Hot Encoder:\n",
            "\tStarting cross validation\n",
            "\tFinished cross validation - mean AUC: 0.660\n",
            "XGBoost Classifier w/ Imputer + One Hot Encoder:\n",
            "\tStarting cross validation\n",
            "\tFinished cross validation - mean AUC: 0.672\n",
            "XGBoost Classifier w/ Imputer + One Hot Encoder:\n",
            "\tStarting cross validation\n",
            "\tFinished cross validation - mean AUC: 0.624\n",
            "XGBoost Classifier w/ Imputer + One Hot Encoder:\n",
            "\tStarting cross validation\n",
            "\tFinished cross validation - mean AUC: 0.642\n",
            "\n",
            "*****************************\n",
            "* Evaluating Batch Number 3 *\n",
            "*****************************\n",
            "\n",
            "Extra Trees Classifier w/ Imputer + One Hot Encoder:\n",
            "\tStarting cross validation\n",
            "\tFinished cross validation - mean AUC: 0.676\n",
            "Extra Trees Classifier w/ Imputer + One Hot Encoder:\n",
            "\tStarting cross validation\n",
            "\tFinished cross validation - mean AUC: 0.673\n",
            "Extra Trees Classifier w/ Imputer + One Hot Encoder:\n",
            "\tStarting cross validation\n",
            "\tFinished cross validation - mean AUC: 0.682\n",
            "Extra Trees Classifier w/ Imputer + One Hot Encoder:\n",
            "\tStarting cross validation\n",
            "\tFinished cross validation - mean AUC: 0.681\n",
            "Extra Trees Classifier w/ Imputer + One Hot Encoder:\n",
            "\tStarting cross validation\n",
            "\tFinished cross validation - mean AUC: 0.674\n",
            "\n",
            "Search finished after 00:55            \n",
            "Best pipeline: XGBoost Classifier w/ Imputer + One Hot Encoder\n",
            "Best pipeline AUC: 0.701032\n"
          ],
          "name": "stdout"
        }
      ]
    },
    {
      "cell_type": "code",
      "metadata": {
        "id": "3-jTYprPMbBy",
        "outputId": "17391e00-ca58-47a5-a074-5a24f7616c7a",
        "colab": {
          "base_uri": "https://localhost:8080/",
          "height": 803
        }
      },
      "source": [
        "automl_auc.rankings"
      ],
      "execution_count": 42,
      "outputs": [
        {
          "output_type": "execute_result",
          "data": {
            "text/html": [
              "<div>\n",
              "<style scoped>\n",
              "    .dataframe tbody tr th:only-of-type {\n",
              "        vertical-align: middle;\n",
              "    }\n",
              "\n",
              "    .dataframe tbody tr th {\n",
              "        vertical-align: top;\n",
              "    }\n",
              "\n",
              "    .dataframe thead th {\n",
              "        text-align: right;\n",
              "    }\n",
              "</style>\n",
              "<table border=\"1\" class=\"dataframe\">\n",
              "  <thead>\n",
              "    <tr style=\"text-align: right;\">\n",
              "      <th></th>\n",
              "      <th>id</th>\n",
              "      <th>pipeline_name</th>\n",
              "      <th>mean_cv_score</th>\n",
              "      <th>standard_deviation_cv_score</th>\n",
              "      <th>validation_score</th>\n",
              "      <th>percent_better_than_baseline</th>\n",
              "      <th>high_variance_cv</th>\n",
              "      <th>parameters</th>\n",
              "    </tr>\n",
              "  </thead>\n",
              "  <tbody>\n",
              "    <tr>\n",
              "      <th>0</th>\n",
              "      <td>6</td>\n",
              "      <td>XGBoost Classifier w/ Imputer + One Hot Encoder</td>\n",
              "      <td>0.701032</td>\n",
              "      <td>0.024980</td>\n",
              "      <td>0.720642</td>\n",
              "      <td>20.103249</td>\n",
              "      <td>False</td>\n",
              "      <td>{'Imputer': {'categorical_impute_strategy': 'm...</td>\n",
              "    </tr>\n",
              "    <tr>\n",
              "      <th>1</th>\n",
              "      <td>7</td>\n",
              "      <td>Extra Trees Classifier w/ Imputer + One Hot En...</td>\n",
              "      <td>0.689375</td>\n",
              "      <td>0.036617</td>\n",
              "      <td>0.727598</td>\n",
              "      <td>18.937464</td>\n",
              "      <td>False</td>\n",
              "      <td>{'Imputer': {'categorical_impute_strategy': 'm...</td>\n",
              "    </tr>\n",
              "    <tr>\n",
              "      <th>2</th>\n",
              "      <td>3</td>\n",
              "      <td>Random Forest Classifier w/ Imputer + One Hot ...</td>\n",
              "      <td>0.682025</td>\n",
              "      <td>0.050716</td>\n",
              "      <td>0.732789</td>\n",
              "      <td>18.202538</td>\n",
              "      <td>False</td>\n",
              "      <td>{'Imputer': {'categorical_impute_strategy': 'm...</td>\n",
              "    </tr>\n",
              "    <tr>\n",
              "      <th>5</th>\n",
              "      <td>5</td>\n",
              "      <td>Logistic Regression Classifier w/ Imputer + On...</td>\n",
              "      <td>0.680753</td>\n",
              "      <td>0.013682</td>\n",
              "      <td>0.696548</td>\n",
              "      <td>18.075341</td>\n",
              "      <td>False</td>\n",
              "      <td>{'Imputer': {'categorical_impute_strategy': 'm...</td>\n",
              "    </tr>\n",
              "    <tr>\n",
              "      <th>10</th>\n",
              "      <td>4</td>\n",
              "      <td>LightGBM Classifier w/ Imputer + One Hot Encoder</td>\n",
              "      <td>0.671060</td>\n",
              "      <td>0.028763</td>\n",
              "      <td>0.698287</td>\n",
              "      <td>17.105985</td>\n",
              "      <td>False</td>\n",
              "      <td>{'Imputer': {'categorical_impute_strategy': 'm...</td>\n",
              "    </tr>\n",
              "    <tr>\n",
              "      <th>14</th>\n",
              "      <td>1</td>\n",
              "      <td>Elastic Net Classifier w/ Imputer + One Hot En...</td>\n",
              "      <td>0.630335</td>\n",
              "      <td>0.003036</td>\n",
              "      <td>0.626837</td>\n",
              "      <td>13.033470</td>\n",
              "      <td>False</td>\n",
              "      <td>{'Imputer': {'categorical_impute_strategy': 'm...</td>\n",
              "    </tr>\n",
              "    <tr>\n",
              "      <th>16</th>\n",
              "      <td>2</td>\n",
              "      <td>Decision Tree Classifier w/ Imputer + One Hot ...</td>\n",
              "      <td>0.594215</td>\n",
              "      <td>0.006959</td>\n",
              "      <td>0.601705</td>\n",
              "      <td>9.421468</td>\n",
              "      <td>False</td>\n",
              "      <td>{'Imputer': {'categorical_impute_strategy': 'm...</td>\n",
              "    </tr>\n",
              "    <tr>\n",
              "      <th>17</th>\n",
              "      <td>8</td>\n",
              "      <td>CatBoost Classifier w/ Imputer</td>\n",
              "      <td>0.542394</td>\n",
              "      <td>0.039310</td>\n",
              "      <td>0.505055</td>\n",
              "      <td>4.239420</td>\n",
              "      <td>False</td>\n",
              "      <td>{'Imputer': {'categorical_impute_strategy': 'm...</td>\n",
              "    </tr>\n",
              "    <tr>\n",
              "      <th>18</th>\n",
              "      <td>0</td>\n",
              "      <td>Mode Baseline Binary Classification Pipeline</td>\n",
              "      <td>0.500000</td>\n",
              "      <td>0.000000</td>\n",
              "      <td>0.500000</td>\n",
              "      <td>0.000000</td>\n",
              "      <td>False</td>\n",
              "      <td>{'Baseline Classifier': {'strategy': 'mode'}}</td>\n",
              "    </tr>\n",
              "  </tbody>\n",
              "</table>\n",
              "</div>"
            ],
            "text/plain": [
              "    id  ...                                         parameters\n",
              "0    6  ...  {'Imputer': {'categorical_impute_strategy': 'm...\n",
              "1    7  ...  {'Imputer': {'categorical_impute_strategy': 'm...\n",
              "2    3  ...  {'Imputer': {'categorical_impute_strategy': 'm...\n",
              "5    5  ...  {'Imputer': {'categorical_impute_strategy': 'm...\n",
              "10   4  ...  {'Imputer': {'categorical_impute_strategy': 'm...\n",
              "14   1  ...  {'Imputer': {'categorical_impute_strategy': 'm...\n",
              "16   2  ...  {'Imputer': {'categorical_impute_strategy': 'm...\n",
              "17   8  ...  {'Imputer': {'categorical_impute_strategy': 'm...\n",
              "18   0  ...      {'Baseline Classifier': {'strategy': 'mode'}}\n",
              "\n",
              "[9 rows x 8 columns]"
            ]
          },
          "metadata": {
            "tags": []
          },
          "execution_count": 42
        }
      ]
    },
    {
      "cell_type": "markdown",
      "metadata": {
        "id": "1m_KW4J8MpIz"
      },
      "source": [
        "Like before, we can look at the rankings and pick the best pipeline."
      ]
    },
    {
      "cell_type": "code",
      "metadata": {
        "id": "RVQRGRbNMhnv"
      },
      "source": [
        "best_pipeline_auc = automl_auc.best_pipeline"
      ],
      "execution_count": 43,
      "outputs": []
    },
    {
      "cell_type": "code",
      "metadata": {
        "id": "mEzFcVlVMuSe",
        "outputId": "012dc684-b1d0-4d8c-afb4-c6d5fccfc77b",
        "colab": {
          "base_uri": "https://localhost:8080/"
        }
      },
      "source": [
        "# get the auc and lead scoring score on holdout data\n",
        "best_pipeline_auc.score(\n",
        "                        X_holdout,\n",
        "                        y_holdout,\n",
        "                        objectives=[\n",
        "                                     \"auc\",\n",
        "                                     lead_scoring_objective\n",
        "                                    ]\n",
        "                        )"
      ],
      "execution_count": 44,
      "outputs": [
        {
          "output_type": "execute_result",
          "data": {
            "text/plain": [
              "OrderedDict([('AUC', 0.6687518887881535), ('Lead Scoring', 0.0)])"
            ]
          },
          "metadata": {
            "tags": []
          },
          "execution_count": 44
        }
      ]
    },
    {
      "cell_type": "markdown",
      "metadata": {
        "id": "B0BlrkRjNCCC"
      },
      "source": [
        "When we optimize for AUC, we can see that the AUC score from this pipeline is better than the AUC score from the pipeline optimized for lead scoring. However, the revenue per lead is much smaller per lead when optimized for AUC and was much larger when optimized for lead scoring. As a result, we would have a huge gain on the amount of revenue if we optimized for lead scoring.\n",
        "\n",
        "This happens because optimizing for AUC does not take into account the user-specified true_positive (dollar amount to be gained with a successful lead) and false_positive (dollar amount to be lost with an unsuccessful lead) values. Thus, the best pipelines may produce the highest AUC but may not actually generate the most revenue through lead scoring.\n",
        "\n",
        "This example highlights how performance in the real world can diverge greatly from machine learning metrics."
      ]
    },
    {
      "cell_type": "code",
      "metadata": {
        "id": "SG7uPktLNZfB",
        "outputId": "eeac461f-d6aa-47e2-f100-717590d45144",
        "colab": {
          "base_uri": "https://localhost:8080/",
          "height": 817
        }
      },
      "source": [
        "best_pipeline_auc.graph_feature_importance()"
      ],
      "execution_count": 45,
      "outputs": [
        {
          "output_type": "display_data",
          "data": {
            "text/html": [
              "<html>\n",
              "<head><meta charset=\"utf-8\" /></head>\n",
              "<body>\n",
              "    <div>            <script src=\"https://cdnjs.cloudflare.com/ajax/libs/mathjax/2.7.5/MathJax.js?config=TeX-AMS-MML_SVG\"></script><script type=\"text/javascript\">if (window.MathJax) {MathJax.Hub.Config({SVG: {font: \"STIX-Web\"}});}</script>                <script type=\"text/javascript\">window.PlotlyConfig = {MathJaxConfig: 'local'};</script>\n",
              "        <script src=\"https://cdn.plot.ly/plotly-latest.min.js\"></script>                <div id=\"d515a07e-437c-459a-aea7-a8092c037c97\" class=\"plotly-graph-div\" style=\"height:800px; width:100%;\"></div>            <script type=\"text/javascript\">                                    window.PLOTLYENV=window.PLOTLYENV || {};                                    if (document.getElementById(\"d515a07e-437c-459a-aea7-a8092c037c97\")) {                    Plotly.newPlot(                        \"d515a07e-437c-459a-aea7-a8092c037c97\",                        [{\"orientation\": \"h\", \"type\": \"bar\", \"x\": [0.00861864909529686, 0.009134186431765556, 0.01226128451526165, 0.01941334828734398, 0.022609557956457138, 0.02669421024620533, 0.027316274121403694, 0.027341008186340332, 0.029839737340807915, 0.036992449313402176, 0.039982933551073074, 0.04081614315509796, 0.04938497766852379, 0.05577702820301056, 0.06636381894350052, 0.0680697038769722, 0.06816712021827698, 0.0847267284989357, 0.08562026172876358, 0.08704107999801636, 0.13382963836193085], \"y\": [\"action_download\", \"action_page_view\", \"action_purchase\", \"action_contact_form\", \"state_CA\", \"job_Development worker, community\", \"amount\", \"job_Television/film/video producer\", \"job_Clothing/textile technologist\", \"zip\", \"job_Naval architect\", \"job_Chartered management accountant\", \"job_Scientist, forensic\", \"state_NY\", \"job_Insurance claims handler\", \"state_MA\", \"state_FL\", \"job_Bookseller\", \"state_IL\", \"job_Scientist, biomedical\", \"job_Medical illustrator\"]}],                        {\"height\": 800, \"template\": {\"data\": {\"bar\": [{\"error_x\": {\"color\": \"#2a3f5f\"}, \"error_y\": {\"color\": \"#2a3f5f\"}, \"marker\": {\"line\": {\"color\": \"#E5ECF6\", \"width\": 0.5}}, \"type\": \"bar\"}], \"barpolar\": [{\"marker\": {\"line\": {\"color\": \"#E5ECF6\", \"width\": 0.5}}, \"type\": \"barpolar\"}], \"carpet\": [{\"aaxis\": {\"endlinecolor\": \"#2a3f5f\", \"gridcolor\": \"white\", \"linecolor\": \"white\", \"minorgridcolor\": \"white\", \"startlinecolor\": \"#2a3f5f\"}, \"baxis\": {\"endlinecolor\": \"#2a3f5f\", \"gridcolor\": \"white\", \"linecolor\": \"white\", \"minorgridcolor\": \"white\", \"startlinecolor\": \"#2a3f5f\"}, \"type\": \"carpet\"}], \"choropleth\": [{\"colorbar\": {\"outlinewidth\": 0, \"ticks\": \"\"}, \"type\": \"choropleth\"}], \"contour\": [{\"colorbar\": {\"outlinewidth\": 0, \"ticks\": \"\"}, \"colorscale\": [[0.0, \"#0d0887\"], [0.1111111111111111, \"#46039f\"], [0.2222222222222222, \"#7201a8\"], [0.3333333333333333, \"#9c179e\"], [0.4444444444444444, \"#bd3786\"], [0.5555555555555556, \"#d8576b\"], [0.6666666666666666, \"#ed7953\"], [0.7777777777777778, \"#fb9f3a\"], [0.8888888888888888, \"#fdca26\"], [1.0, \"#f0f921\"]], \"type\": \"contour\"}], \"contourcarpet\": [{\"colorbar\": {\"outlinewidth\": 0, \"ticks\": \"\"}, \"type\": \"contourcarpet\"}], \"heatmap\": [{\"colorbar\": {\"outlinewidth\": 0, \"ticks\": \"\"}, \"colorscale\": [[0.0, \"#0d0887\"], [0.1111111111111111, \"#46039f\"], [0.2222222222222222, \"#7201a8\"], [0.3333333333333333, \"#9c179e\"], [0.4444444444444444, \"#bd3786\"], [0.5555555555555556, \"#d8576b\"], [0.6666666666666666, \"#ed7953\"], [0.7777777777777778, \"#fb9f3a\"], [0.8888888888888888, \"#fdca26\"], [1.0, \"#f0f921\"]], \"type\": \"heatmap\"}], \"heatmapgl\": [{\"colorbar\": {\"outlinewidth\": 0, \"ticks\": \"\"}, \"colorscale\": [[0.0, \"#0d0887\"], [0.1111111111111111, \"#46039f\"], [0.2222222222222222, \"#7201a8\"], [0.3333333333333333, \"#9c179e\"], [0.4444444444444444, \"#bd3786\"], [0.5555555555555556, \"#d8576b\"], [0.6666666666666666, \"#ed7953\"], [0.7777777777777778, \"#fb9f3a\"], [0.8888888888888888, \"#fdca26\"], [1.0, \"#f0f921\"]], \"type\": \"heatmapgl\"}], \"histogram\": [{\"marker\": {\"colorbar\": {\"outlinewidth\": 0, \"ticks\": \"\"}}, \"type\": \"histogram\"}], \"histogram2d\": [{\"colorbar\": {\"outlinewidth\": 0, \"ticks\": \"\"}, \"colorscale\": [[0.0, \"#0d0887\"], [0.1111111111111111, \"#46039f\"], [0.2222222222222222, \"#7201a8\"], [0.3333333333333333, \"#9c179e\"], [0.4444444444444444, \"#bd3786\"], [0.5555555555555556, \"#d8576b\"], [0.6666666666666666, \"#ed7953\"], [0.7777777777777778, \"#fb9f3a\"], [0.8888888888888888, \"#fdca26\"], [1.0, \"#f0f921\"]], \"type\": \"histogram2d\"}], \"histogram2dcontour\": [{\"colorbar\": {\"outlinewidth\": 0, \"ticks\": \"\"}, \"colorscale\": [[0.0, \"#0d0887\"], [0.1111111111111111, \"#46039f\"], [0.2222222222222222, \"#7201a8\"], [0.3333333333333333, \"#9c179e\"], [0.4444444444444444, \"#bd3786\"], [0.5555555555555556, \"#d8576b\"], [0.6666666666666666, \"#ed7953\"], [0.7777777777777778, \"#fb9f3a\"], [0.8888888888888888, \"#fdca26\"], [1.0, \"#f0f921\"]], \"type\": \"histogram2dcontour\"}], \"mesh3d\": [{\"colorbar\": {\"outlinewidth\": 0, \"ticks\": \"\"}, \"type\": \"mesh3d\"}], \"parcoords\": [{\"line\": {\"colorbar\": {\"outlinewidth\": 0, \"ticks\": \"\"}}, \"type\": \"parcoords\"}], \"pie\": [{\"automargin\": true, \"type\": \"pie\"}], \"scatter\": [{\"marker\": {\"colorbar\": {\"outlinewidth\": 0, \"ticks\": \"\"}}, \"type\": \"scatter\"}], \"scatter3d\": [{\"line\": {\"colorbar\": {\"outlinewidth\": 0, \"ticks\": \"\"}}, \"marker\": {\"colorbar\": {\"outlinewidth\": 0, \"ticks\": \"\"}}, \"type\": \"scatter3d\"}], \"scattercarpet\": [{\"marker\": {\"colorbar\": {\"outlinewidth\": 0, \"ticks\": \"\"}}, \"type\": \"scattercarpet\"}], \"scattergeo\": [{\"marker\": {\"colorbar\": {\"outlinewidth\": 0, \"ticks\": \"\"}}, \"type\": \"scattergeo\"}], \"scattergl\": [{\"marker\": {\"colorbar\": {\"outlinewidth\": 0, \"ticks\": \"\"}}, \"type\": \"scattergl\"}], \"scattermapbox\": [{\"marker\": {\"colorbar\": {\"outlinewidth\": 0, \"ticks\": \"\"}}, \"type\": \"scattermapbox\"}], \"scatterpolar\": [{\"marker\": {\"colorbar\": {\"outlinewidth\": 0, \"ticks\": \"\"}}, \"type\": \"scatterpolar\"}], \"scatterpolargl\": [{\"marker\": {\"colorbar\": {\"outlinewidth\": 0, \"ticks\": \"\"}}, \"type\": \"scatterpolargl\"}], \"scatterternary\": [{\"marker\": {\"colorbar\": {\"outlinewidth\": 0, \"ticks\": \"\"}}, \"type\": \"scatterternary\"}], \"surface\": [{\"colorbar\": {\"outlinewidth\": 0, \"ticks\": \"\"}, \"colorscale\": [[0.0, \"#0d0887\"], [0.1111111111111111, \"#46039f\"], [0.2222222222222222, \"#7201a8\"], [0.3333333333333333, \"#9c179e\"], [0.4444444444444444, \"#bd3786\"], [0.5555555555555556, \"#d8576b\"], [0.6666666666666666, \"#ed7953\"], [0.7777777777777778, \"#fb9f3a\"], [0.8888888888888888, \"#fdca26\"], [1.0, \"#f0f921\"]], \"type\": \"surface\"}], \"table\": [{\"cells\": {\"fill\": {\"color\": \"#EBF0F8\"}, \"line\": {\"color\": \"white\"}}, \"header\": {\"fill\": {\"color\": \"#C8D4E3\"}, \"line\": {\"color\": \"white\"}}, \"type\": \"table\"}]}, \"layout\": {\"annotationdefaults\": {\"arrowcolor\": \"#2a3f5f\", \"arrowhead\": 0, \"arrowwidth\": 1}, \"autotypenumbers\": \"strict\", \"coloraxis\": {\"colorbar\": {\"outlinewidth\": 0, \"ticks\": \"\"}}, \"colorscale\": {\"diverging\": [[0, \"#8e0152\"], [0.1, \"#c51b7d\"], [0.2, \"#de77ae\"], [0.3, \"#f1b6da\"], [0.4, \"#fde0ef\"], [0.5, \"#f7f7f7\"], [0.6, \"#e6f5d0\"], [0.7, \"#b8e186\"], [0.8, \"#7fbc41\"], [0.9, \"#4d9221\"], [1, \"#276419\"]], \"sequential\": [[0.0, \"#0d0887\"], [0.1111111111111111, \"#46039f\"], [0.2222222222222222, \"#7201a8\"], [0.3333333333333333, \"#9c179e\"], [0.4444444444444444, \"#bd3786\"], [0.5555555555555556, \"#d8576b\"], [0.6666666666666666, \"#ed7953\"], [0.7777777777777778, \"#fb9f3a\"], [0.8888888888888888, \"#fdca26\"], [1.0, \"#f0f921\"]], \"sequentialminus\": [[0.0, \"#0d0887\"], [0.1111111111111111, \"#46039f\"], [0.2222222222222222, \"#7201a8\"], [0.3333333333333333, \"#9c179e\"], [0.4444444444444444, \"#bd3786\"], [0.5555555555555556, \"#d8576b\"], [0.6666666666666666, \"#ed7953\"], [0.7777777777777778, \"#fb9f3a\"], [0.8888888888888888, \"#fdca26\"], [1.0, \"#f0f921\"]]}, \"colorway\": [\"#636efa\", \"#EF553B\", \"#00cc96\", \"#ab63fa\", \"#FFA15A\", \"#19d3f3\", \"#FF6692\", \"#B6E880\", \"#FF97FF\", \"#FECB52\"], \"font\": {\"color\": \"#2a3f5f\"}, \"geo\": {\"bgcolor\": \"white\", \"lakecolor\": \"white\", \"landcolor\": \"#E5ECF6\", \"showlakes\": true, \"showland\": true, \"subunitcolor\": \"white\"}, \"hoverlabel\": {\"align\": \"left\"}, \"hovermode\": \"closest\", \"mapbox\": {\"style\": \"light\"}, \"paper_bgcolor\": \"white\", \"plot_bgcolor\": \"#E5ECF6\", \"polar\": {\"angularaxis\": {\"gridcolor\": \"white\", \"linecolor\": \"white\", \"ticks\": \"\"}, \"bgcolor\": \"#E5ECF6\", \"radialaxis\": {\"gridcolor\": \"white\", \"linecolor\": \"white\", \"ticks\": \"\"}}, \"scene\": {\"xaxis\": {\"backgroundcolor\": \"#E5ECF6\", \"gridcolor\": \"white\", \"gridwidth\": 2, \"linecolor\": \"white\", \"showbackground\": true, \"ticks\": \"\", \"zerolinecolor\": \"white\"}, \"yaxis\": {\"backgroundcolor\": \"#E5ECF6\", \"gridcolor\": \"white\", \"gridwidth\": 2, \"linecolor\": \"white\", \"showbackground\": true, \"ticks\": \"\", \"zerolinecolor\": \"white\"}, \"zaxis\": {\"backgroundcolor\": \"#E5ECF6\", \"gridcolor\": \"white\", \"gridwidth\": 2, \"linecolor\": \"white\", \"showbackground\": true, \"ticks\": \"\", \"zerolinecolor\": \"white\"}}, \"shapedefaults\": {\"line\": {\"color\": \"#2a3f5f\"}}, \"ternary\": {\"aaxis\": {\"gridcolor\": \"white\", \"linecolor\": \"white\", \"ticks\": \"\"}, \"baxis\": {\"gridcolor\": \"white\", \"linecolor\": \"white\", \"ticks\": \"\"}, \"bgcolor\": \"#E5ECF6\", \"caxis\": {\"gridcolor\": \"white\", \"linecolor\": \"white\", \"ticks\": \"\"}}, \"title\": {\"x\": 0.05}, \"xaxis\": {\"automargin\": true, \"gridcolor\": \"white\", \"linecolor\": \"white\", \"ticks\": \"\", \"title\": {\"standoff\": 15}, \"zerolinecolor\": \"white\", \"zerolinewidth\": 2}, \"yaxis\": {\"automargin\": true, \"gridcolor\": \"white\", \"linecolor\": \"white\", \"ticks\": \"\", \"title\": {\"standoff\": 15}, \"zerolinecolor\": \"white\", \"zerolinewidth\": 2}}}, \"title\": {\"text\": \"Feature Importance<br><sub>May display fewer features due to feature selection</sub>\"}, \"xaxis\": {\"title\": {\"text\": \"Feature Importance\"}}, \"yaxis\": {\"title\": {\"text\": \"Feature\"}, \"type\": \"category\"}},                        {\"responsive\": true}                    ).then(function(){\n",
              "                            \n",
              "var gd = document.getElementById('d515a07e-437c-459a-aea7-a8092c037c97');\n",
              "var x = new MutationObserver(function (mutations, observer) {{\n",
              "        var display = window.getComputedStyle(gd).display;\n",
              "        if (!display || display === 'none') {{\n",
              "            console.log([gd, 'removed!']);\n",
              "            Plotly.purge(gd);\n",
              "            observer.disconnect();\n",
              "        }}\n",
              "}});\n",
              "\n",
              "// Listen for the removal of the full notebook cells\n",
              "var notebookContainer = gd.closest('#notebook-container');\n",
              "if (notebookContainer) {{\n",
              "    x.observe(notebookContainer, {childList: true});\n",
              "}}\n",
              "\n",
              "// Listen for the clearing of the current output cell\n",
              "var outputEl = gd.closest('.output');\n",
              "if (outputEl) {{\n",
              "    x.observe(outputEl, {childList: true});\n",
              "}}\n",
              "\n",
              "                        })                };                            </script>        </div>\n",
              "</body>\n",
              "</html>"
            ]
          },
          "metadata": {
            "tags": []
          }
        }
      ]
    },
    {
      "cell_type": "code",
      "metadata": {
        "id": "tw84GuYUNjDE",
        "outputId": "5c604f72-b77f-47f7-c97e-fe5848f7a505",
        "colab": {
          "base_uri": "https://localhost:8080/"
        }
      },
      "source": [
        "best_pipeline_auc.input_feature_names"
      ],
      "execution_count": 47,
      "outputs": [
        {
          "output_type": "execute_result",
          "data": {
            "text/plain": [
              "{'Imputer': ['job', 'state', 'zip', 'action', 'amount'],\n",
              " 'One Hot Encoder': ['job', 'state', 'zip', 'action', 'amount'],\n",
              " 'XGBoost Classifier': ['zip',\n",
              "  'amount',\n",
              "  'job_Bookseller',\n",
              "  'job_Chartered management accountant',\n",
              "  'job_Clothing/textile technologist',\n",
              "  'job_Development worker, community',\n",
              "  'job_Insurance claims handler',\n",
              "  'job_Medical illustrator',\n",
              "  'job_Naval architect',\n",
              "  'job_Scientist, biomedical',\n",
              "  'job_Scientist, forensic',\n",
              "  'job_Television/film/video producer',\n",
              "  'state_CA',\n",
              "  'state_FL',\n",
              "  'state_IL',\n",
              "  'state_MA',\n",
              "  'state_NY',\n",
              "  'action_contact_form',\n",
              "  'action_download',\n",
              "  'action_page_view',\n",
              "  'action_purchase']}"
            ]
          },
          "metadata": {
            "tags": []
          },
          "execution_count": 47
        }
      ]
    },
    {
      "cell_type": "code",
      "metadata": {
        "id": "5QvyAG9wT-bS",
        "outputId": "b726d9b9-16e1-4339-ed5e-81bc1272533d",
        "colab": {
          "base_uri": "https://localhost:8080/",
          "height": 194
        }
      },
      "source": [
        "#visualizing best pipeline flow \n",
        "best_pipeline_auc.graph()"
      ],
      "execution_count": 56,
      "outputs": [
        {
          "output_type": "execute_result",
          "data": {
            "text/plain": [
              "<graphviz.dot.Digraph at 0x7f4361e47110>"
            ],
            "image/svg+xml": "<?xml version=\"1.0\" encoding=\"UTF-8\" standalone=\"no\"?>\n<!DOCTYPE svg PUBLIC \"-//W3C//DTD SVG 1.1//EN\"\n \"http://www.w3.org/Graphics/SVG/1.1/DTD/svg11.dtd\">\n<!-- Generated by graphviz version 2.40.1 (20161225.0304)\n -->\n<!-- Title: %3 Pages: 1 -->\n<svg width=\"660pt\" height=\"130pt\"\n viewBox=\"0.00 0.00 660.00 130.00\" xmlns=\"http://www.w3.org/2000/svg\" xmlns:xlink=\"http://www.w3.org/1999/xlink\">\n<g id=\"graph0\" class=\"graph\" transform=\"scale(1 1) rotate(0) translate(4 126)\">\n<title>%3</title>\n<polygon fill=\"#ffffff\" stroke=\"transparent\" points=\"-4,4 -4,-126 656,-126 656,4 -4,4\"/>\n<!-- Imputer -->\n<g id=\"node1\" class=\"node\">\n<title>Imputer</title>\n<polygon fill=\"none\" stroke=\"#000000\" points=\"0,-15.5 0,-106.5 270,-106.5 270,-15.5 0,-15.5\"/>\n<text text-anchor=\"middle\" x=\"135\" y=\"-91.3\" font-family=\"Times,serif\" font-size=\"14.00\" fill=\"#000000\">Imputer</text>\n<polyline fill=\"none\" stroke=\"#000000\" points=\"0,-83.5 270,-83.5 \"/>\n<text text-anchor=\"start\" x=\"8\" y=\"-68.3\" font-family=\"Times,serif\" font-size=\"14.00\" fill=\"#000000\">categorical_impute_strategy : most_frequent</text>\n<text text-anchor=\"start\" x=\"8\" y=\"-53.3\" font-family=\"Times,serif\" font-size=\"14.00\" fill=\"#000000\">numeric_impute_strategy : mean</text>\n<text text-anchor=\"start\" x=\"8\" y=\"-38.3\" font-family=\"Times,serif\" font-size=\"14.00\" fill=\"#000000\">categorical_fill_value : None</text>\n<text text-anchor=\"start\" x=\"8\" y=\"-23.3\" font-family=\"Times,serif\" font-size=\"14.00\" fill=\"#000000\">numeric_fill_value : None</text>\n</g>\n<!-- One Hot Encoder -->\n<g id=\"node2\" class=\"node\">\n<title>One Hot Encoder</title>\n<polygon fill=\"none\" stroke=\"#000000\" points=\"306,-.5 306,-121.5 476,-121.5 476,-.5 306,-.5\"/>\n<text text-anchor=\"middle\" x=\"391\" y=\"-106.3\" font-family=\"Times,serif\" font-size=\"14.00\" fill=\"#000000\">One Hot Encoder</text>\n<polyline fill=\"none\" stroke=\"#000000\" points=\"306,-98.5 476,-98.5 \"/>\n<text text-anchor=\"start\" x=\"314\" y=\"-83.3\" font-family=\"Times,serif\" font-size=\"14.00\" fill=\"#000000\">top_n : 10</text>\n<text text-anchor=\"start\" x=\"314\" y=\"-68.3\" font-family=\"Times,serif\" font-size=\"14.00\" fill=\"#000000\">features_to_encode : None</text>\n<text text-anchor=\"start\" x=\"314\" y=\"-53.3\" font-family=\"Times,serif\" font-size=\"14.00\" fill=\"#000000\">categories : None</text>\n<text text-anchor=\"start\" x=\"314\" y=\"-38.3\" font-family=\"Times,serif\" font-size=\"14.00\" fill=\"#000000\">drop : if_binary</text>\n<text text-anchor=\"start\" x=\"314\" y=\"-23.3\" font-family=\"Times,serif\" font-size=\"14.00\" fill=\"#000000\">handle_unknown : ignore</text>\n<text text-anchor=\"start\" x=\"314\" y=\"-8.3\" font-family=\"Times,serif\" font-size=\"14.00\" fill=\"#000000\">handle_missing : error</text>\n</g>\n<!-- Imputer&#45;&gt;One Hot Encoder -->\n<g id=\"edge1\" class=\"edge\">\n<title>Imputer&#45;&gt;One Hot Encoder</title>\n<path fill=\"none\" stroke=\"#000000\" d=\"M270.1217,-61C270.1217,-61 295.8453,-61 295.8453,-61\"/>\n<polygon fill=\"#000000\" stroke=\"#000000\" points=\"295.8454,-64.5001 305.8453,-61 295.8453,-57.5001 295.8454,-64.5001\"/>\n</g>\n<!-- XGBoost Classifier -->\n<g id=\"node3\" class=\"node\">\n<title>XGBoost Classifier</title>\n<polygon fill=\"none\" stroke=\"#000000\" points=\"512,-15.5 512,-106.5 652,-106.5 652,-15.5 512,-15.5\"/>\n<text text-anchor=\"middle\" x=\"582\" y=\"-91.3\" font-family=\"Times,serif\" font-size=\"14.00\" fill=\"#000000\">XGBoost Classifier</text>\n<polyline fill=\"none\" stroke=\"#000000\" points=\"512,-83.5 652,-83.5 \"/>\n<text text-anchor=\"start\" x=\"520\" y=\"-68.3\" font-family=\"Times,serif\" font-size=\"14.00\" fill=\"#000000\">eta : 0.10</text>\n<text text-anchor=\"start\" x=\"520\" y=\"-53.3\" font-family=\"Times,serif\" font-size=\"14.00\" fill=\"#000000\">max_depth : 6</text>\n<text text-anchor=\"start\" x=\"520\" y=\"-38.3\" font-family=\"Times,serif\" font-size=\"14.00\" fill=\"#000000\">min_child_weight : 1</text>\n<text text-anchor=\"start\" x=\"520\" y=\"-23.3\" font-family=\"Times,serif\" font-size=\"14.00\" fill=\"#000000\">n_estimators : 100</text>\n</g>\n<!-- One Hot Encoder&#45;&gt;XGBoost Classifier -->\n<g id=\"edge2\" class=\"edge\">\n<title>One Hot Encoder&#45;&gt;XGBoost Classifier</title>\n<path fill=\"none\" stroke=\"#000000\" d=\"M476.166,-61C476.166,-61 501.8744,-61 501.8744,-61\"/>\n<polygon fill=\"#000000\" stroke=\"#000000\" points=\"501.8744,-64.5001 511.8744,-61 501.8743,-57.5001 501.8744,-64.5001\"/>\n</g>\n</g>\n</svg>\n"
          },
          "metadata": {
            "tags": []
          },
          "execution_count": 56
        }
      ]
    },
    {
      "cell_type": "code",
      "metadata": {
        "id": "sUUYiG8hN6Rb"
      },
      "source": [
        "from evalml.model_understanding import graph_roc_curve"
      ],
      "execution_count": 48,
      "outputs": []
    },
    {
      "cell_type": "code",
      "metadata": {
        "id": "KACesOTtOPSJ"
      },
      "source": [
        "best_pipeline.save(\"model.pkl\")"
      ],
      "execution_count": 51,
      "outputs": []
    },
    {
      "cell_type": "code",
      "metadata": {
        "id": "pV-BCEBhTl1u"
      },
      "source": [
        "check_model=automl.load('model.pkl')"
      ],
      "execution_count": 52,
      "outputs": []
    },
    {
      "cell_type": "code",
      "metadata": {
        "id": "1LQuaYkFTplK",
        "outputId": "2318e9d2-cf9b-4293-f21c-ce67406b8fac",
        "colab": {
          "base_uri": "https://localhost:8080/",
          "height": 424
        }
      },
      "source": [
        "check_model.predict_proba(X_holdout).to_dataframe()"
      ],
      "execution_count": 54,
      "outputs": [
        {
          "output_type": "execute_result",
          "data": {
            "text/html": [
              "<div>\n",
              "<style scoped>\n",
              "    .dataframe tbody tr th:only-of-type {\n",
              "        vertical-align: middle;\n",
              "    }\n",
              "\n",
              "    .dataframe tbody tr th {\n",
              "        vertical-align: top;\n",
              "    }\n",
              "\n",
              "    .dataframe thead th {\n",
              "        text-align: right;\n",
              "    }\n",
              "</style>\n",
              "<table border=\"1\" class=\"dataframe\">\n",
              "  <thead>\n",
              "    <tr style=\"text-align: right;\">\n",
              "      <th></th>\n",
              "      <th>False</th>\n",
              "      <th>True</th>\n",
              "    </tr>\n",
              "  </thead>\n",
              "  <tbody>\n",
              "    <tr>\n",
              "      <th>0</th>\n",
              "      <td>0.950313</td>\n",
              "      <td>0.049687</td>\n",
              "    </tr>\n",
              "    <tr>\n",
              "      <th>1</th>\n",
              "      <td>0.950313</td>\n",
              "      <td>0.049687</td>\n",
              "    </tr>\n",
              "    <tr>\n",
              "      <th>2</th>\n",
              "      <td>0.950313</td>\n",
              "      <td>0.049687</td>\n",
              "    </tr>\n",
              "    <tr>\n",
              "      <th>3</th>\n",
              "      <td>0.950313</td>\n",
              "      <td>0.049687</td>\n",
              "    </tr>\n",
              "    <tr>\n",
              "      <th>4</th>\n",
              "      <td>0.950313</td>\n",
              "      <td>0.049687</td>\n",
              "    </tr>\n",
              "    <tr>\n",
              "      <th>...</th>\n",
              "      <td>...</td>\n",
              "      <td>...</td>\n",
              "    </tr>\n",
              "    <tr>\n",
              "      <th>1158</th>\n",
              "      <td>0.950313</td>\n",
              "      <td>0.049687</td>\n",
              "    </tr>\n",
              "    <tr>\n",
              "      <th>1159</th>\n",
              "      <td>0.950313</td>\n",
              "      <td>0.049687</td>\n",
              "    </tr>\n",
              "    <tr>\n",
              "      <th>1160</th>\n",
              "      <td>0.950313</td>\n",
              "      <td>0.049687</td>\n",
              "    </tr>\n",
              "    <tr>\n",
              "      <th>1161</th>\n",
              "      <td>0.950313</td>\n",
              "      <td>0.049687</td>\n",
              "    </tr>\n",
              "    <tr>\n",
              "      <th>1162</th>\n",
              "      <td>0.950313</td>\n",
              "      <td>0.049687</td>\n",
              "    </tr>\n",
              "  </tbody>\n",
              "</table>\n",
              "<p>1163 rows × 2 columns</p>\n",
              "</div>"
            ],
            "text/plain": [
              "         False     True \n",
              "0     0.950313  0.049687\n",
              "1     0.950313  0.049687\n",
              "2     0.950313  0.049687\n",
              "3     0.950313  0.049687\n",
              "4     0.950313  0.049687\n",
              "...        ...       ...\n",
              "1158  0.950313  0.049687\n",
              "1159  0.950313  0.049687\n",
              "1160  0.950313  0.049687\n",
              "1161  0.950313  0.049687\n",
              "1162  0.950313  0.049687\n",
              "\n",
              "[1163 rows x 2 columns]"
            ]
          },
          "metadata": {
            "tags": []
          },
          "execution_count": 54
        }
      ]
    },
    {
      "cell_type": "code",
      "metadata": {
        "id": "U4WUCYxYVMPz",
        "outputId": "9afecdae-103a-472b-e34d-934f7a2ded70",
        "colab": {
          "base_uri": "https://localhost:8080/",
          "height": 542
        }
      },
      "source": [
        "from evalml.model_understanding.graphs import graph_confusion_matrix, graph_roc_curve\n",
        "\n",
        "# pipeline trained with log loss\n",
        "y_pred = best_pipeline_auc.predict(X_holdout)\n",
        "graph_confusion_matrix(y_holdout, y_pred)\n",
        "\n"
      ],
      "execution_count": 59,
      "outputs": [
        {
          "output_type": "display_data",
          "data": {
            "text/html": [
              "<html>\n",
              "<head><meta charset=\"utf-8\" /></head>\n",
              "<body>\n",
              "    <div>            <script src=\"https://cdnjs.cloudflare.com/ajax/libs/mathjax/2.7.5/MathJax.js?config=TeX-AMS-MML_SVG\"></script><script type=\"text/javascript\">if (window.MathJax) {MathJax.Hub.Config({SVG: {font: \"STIX-Web\"}});}</script>                <script type=\"text/javascript\">window.PlotlyConfig = {MathJaxConfig: 'local'};</script>\n",
              "        <script src=\"https://cdn.plot.ly/plotly-latest.min.js\"></script>                <div id=\"1de27114-2b75-4818-8c5a-a0d6f94202b0\" class=\"plotly-graph-div\" style=\"height:525px; width:100%;\"></div>            <script type=\"text/javascript\">                                    window.PLOTLYENV=window.PLOTLYENV || {};                                    if (document.getElementById(\"1de27114-2b75-4818-8c5a-a0d6f94202b0\")) {                    Plotly.newPlot(                        \"1de27114-2b75-4818-8c5a-a0d6f94202b0\",                        [{\"colorscale\": [[0.0, \"rgb(247,251,255)\"], [0.125, \"rgb(222,235,247)\"], [0.25, \"rgb(198,219,239)\"], [0.375, \"rgb(158,202,225)\"], [0.5, \"rgb(107,174,214)\"], [0.625, \"rgb(66,146,198)\"], [0.75, \"rgb(33,113,181)\"], [0.875, \"rgb(8,81,156)\"], [1.0, \"rgb(8,48,107)\"]], \"customdata\": [[1102, 1], [60, 0]], \"hovertemplate\": \"<b>True</b>: %{y}<br><b>Predicted</b>: %{x}<br><b>Normalized Count</b>: %{z}<br><b>Raw Count</b>: %{customdata} <br><extra></extra>\", \"reversescale\": false, \"showscale\": true, \"type\": \"heatmap\", \"x\": [false, true], \"y\": [false, true], \"z\": [[0.99909338168631, 0.0009066183136899365], [1.0, 0.0]]}],                        {\"annotations\": [{\"font\": {\"color\": \"#FFFFFF\"}, \"showarrow\": false, \"text\": \"0.999\", \"x\": false, \"xref\": \"x\", \"y\": false, \"yref\": \"y\"}, {\"font\": {\"color\": \"#000000\"}, \"showarrow\": false, \"text\": \"0.001\", \"x\": true, \"xref\": \"x\", \"y\": false, \"yref\": \"y\"}, {\"font\": {\"color\": \"#FFFFFF\"}, \"showarrow\": false, \"text\": \"1.000\", \"x\": false, \"xref\": \"x\", \"y\": true, \"yref\": \"y\"}, {\"font\": {\"color\": \"#000000\"}, \"showarrow\": false, \"text\": \"0.000\", \"x\": true, \"xref\": \"x\", \"y\": true, \"yref\": \"y\"}], \"template\": {\"data\": {\"bar\": [{\"error_x\": {\"color\": \"#2a3f5f\"}, \"error_y\": {\"color\": \"#2a3f5f\"}, \"marker\": {\"line\": {\"color\": \"#E5ECF6\", \"width\": 0.5}}, \"type\": \"bar\"}], \"barpolar\": [{\"marker\": {\"line\": {\"color\": \"#E5ECF6\", \"width\": 0.5}}, \"type\": \"barpolar\"}], \"carpet\": [{\"aaxis\": {\"endlinecolor\": \"#2a3f5f\", \"gridcolor\": \"white\", \"linecolor\": \"white\", \"minorgridcolor\": \"white\", \"startlinecolor\": \"#2a3f5f\"}, \"baxis\": {\"endlinecolor\": \"#2a3f5f\", \"gridcolor\": \"white\", \"linecolor\": \"white\", \"minorgridcolor\": \"white\", \"startlinecolor\": \"#2a3f5f\"}, \"type\": \"carpet\"}], \"choropleth\": [{\"colorbar\": {\"outlinewidth\": 0, \"ticks\": \"\"}, \"type\": \"choropleth\"}], \"contour\": [{\"colorbar\": {\"outlinewidth\": 0, \"ticks\": \"\"}, \"colorscale\": [[0.0, \"#0d0887\"], [0.1111111111111111, \"#46039f\"], [0.2222222222222222, \"#7201a8\"], [0.3333333333333333, \"#9c179e\"], [0.4444444444444444, \"#bd3786\"], [0.5555555555555556, \"#d8576b\"], [0.6666666666666666, \"#ed7953\"], [0.7777777777777778, \"#fb9f3a\"], [0.8888888888888888, \"#fdca26\"], [1.0, \"#f0f921\"]], \"type\": \"contour\"}], \"contourcarpet\": [{\"colorbar\": {\"outlinewidth\": 0, \"ticks\": \"\"}, \"type\": \"contourcarpet\"}], \"heatmap\": [{\"colorbar\": {\"outlinewidth\": 0, \"ticks\": \"\"}, \"colorscale\": [[0.0, \"#0d0887\"], [0.1111111111111111, \"#46039f\"], [0.2222222222222222, \"#7201a8\"], [0.3333333333333333, \"#9c179e\"], [0.4444444444444444, \"#bd3786\"], [0.5555555555555556, \"#d8576b\"], [0.6666666666666666, \"#ed7953\"], [0.7777777777777778, \"#fb9f3a\"], [0.8888888888888888, \"#fdca26\"], [1.0, \"#f0f921\"]], \"type\": \"heatmap\"}], \"heatmapgl\": [{\"colorbar\": {\"outlinewidth\": 0, \"ticks\": \"\"}, \"colorscale\": [[0.0, \"#0d0887\"], [0.1111111111111111, \"#46039f\"], [0.2222222222222222, \"#7201a8\"], [0.3333333333333333, \"#9c179e\"], [0.4444444444444444, \"#bd3786\"], [0.5555555555555556, \"#d8576b\"], [0.6666666666666666, \"#ed7953\"], [0.7777777777777778, \"#fb9f3a\"], [0.8888888888888888, \"#fdca26\"], [1.0, \"#f0f921\"]], \"type\": \"heatmapgl\"}], \"histogram\": [{\"marker\": {\"colorbar\": {\"outlinewidth\": 0, \"ticks\": \"\"}}, \"type\": \"histogram\"}], \"histogram2d\": [{\"colorbar\": {\"outlinewidth\": 0, \"ticks\": \"\"}, \"colorscale\": [[0.0, \"#0d0887\"], [0.1111111111111111, \"#46039f\"], [0.2222222222222222, \"#7201a8\"], [0.3333333333333333, \"#9c179e\"], [0.4444444444444444, \"#bd3786\"], [0.5555555555555556, \"#d8576b\"], [0.6666666666666666, \"#ed7953\"], [0.7777777777777778, \"#fb9f3a\"], [0.8888888888888888, \"#fdca26\"], [1.0, \"#f0f921\"]], \"type\": \"histogram2d\"}], \"histogram2dcontour\": [{\"colorbar\": {\"outlinewidth\": 0, \"ticks\": \"\"}, \"colorscale\": [[0.0, \"#0d0887\"], [0.1111111111111111, \"#46039f\"], [0.2222222222222222, \"#7201a8\"], [0.3333333333333333, \"#9c179e\"], [0.4444444444444444, \"#bd3786\"], [0.5555555555555556, \"#d8576b\"], [0.6666666666666666, \"#ed7953\"], [0.7777777777777778, \"#fb9f3a\"], [0.8888888888888888, \"#fdca26\"], [1.0, \"#f0f921\"]], \"type\": \"histogram2dcontour\"}], \"mesh3d\": [{\"colorbar\": {\"outlinewidth\": 0, \"ticks\": \"\"}, \"type\": \"mesh3d\"}], \"parcoords\": [{\"line\": {\"colorbar\": {\"outlinewidth\": 0, \"ticks\": \"\"}}, \"type\": \"parcoords\"}], \"pie\": [{\"automargin\": true, \"type\": \"pie\"}], \"scatter\": [{\"marker\": {\"colorbar\": {\"outlinewidth\": 0, \"ticks\": \"\"}}, \"type\": \"scatter\"}], \"scatter3d\": [{\"line\": {\"colorbar\": {\"outlinewidth\": 0, \"ticks\": \"\"}}, \"marker\": {\"colorbar\": {\"outlinewidth\": 0, \"ticks\": \"\"}}, \"type\": \"scatter3d\"}], \"scattercarpet\": [{\"marker\": {\"colorbar\": {\"outlinewidth\": 0, \"ticks\": \"\"}}, \"type\": \"scattercarpet\"}], \"scattergeo\": [{\"marker\": {\"colorbar\": {\"outlinewidth\": 0, \"ticks\": \"\"}}, \"type\": \"scattergeo\"}], \"scattergl\": [{\"marker\": {\"colorbar\": {\"outlinewidth\": 0, \"ticks\": \"\"}}, \"type\": \"scattergl\"}], \"scattermapbox\": [{\"marker\": {\"colorbar\": {\"outlinewidth\": 0, \"ticks\": \"\"}}, \"type\": \"scattermapbox\"}], \"scatterpolar\": [{\"marker\": {\"colorbar\": {\"outlinewidth\": 0, \"ticks\": \"\"}}, \"type\": \"scatterpolar\"}], \"scatterpolargl\": [{\"marker\": {\"colorbar\": {\"outlinewidth\": 0, \"ticks\": \"\"}}, \"type\": \"scatterpolargl\"}], \"scatterternary\": [{\"marker\": {\"colorbar\": {\"outlinewidth\": 0, \"ticks\": \"\"}}, \"type\": \"scatterternary\"}], \"surface\": [{\"colorbar\": {\"outlinewidth\": 0, \"ticks\": \"\"}, \"colorscale\": [[0.0, \"#0d0887\"], [0.1111111111111111, \"#46039f\"], [0.2222222222222222, \"#7201a8\"], [0.3333333333333333, \"#9c179e\"], [0.4444444444444444, \"#bd3786\"], [0.5555555555555556, \"#d8576b\"], [0.6666666666666666, \"#ed7953\"], [0.7777777777777778, \"#fb9f3a\"], [0.8888888888888888, \"#fdca26\"], [1.0, \"#f0f921\"]], \"type\": \"surface\"}], \"table\": [{\"cells\": {\"fill\": {\"color\": \"#EBF0F8\"}, \"line\": {\"color\": \"white\"}}, \"header\": {\"fill\": {\"color\": \"#C8D4E3\"}, \"line\": {\"color\": \"white\"}}, \"type\": \"table\"}]}, \"layout\": {\"annotationdefaults\": {\"arrowcolor\": \"#2a3f5f\", \"arrowhead\": 0, \"arrowwidth\": 1}, \"autotypenumbers\": \"strict\", \"coloraxis\": {\"colorbar\": {\"outlinewidth\": 0, \"ticks\": \"\"}}, \"colorscale\": {\"diverging\": [[0, \"#8e0152\"], [0.1, \"#c51b7d\"], [0.2, \"#de77ae\"], [0.3, \"#f1b6da\"], [0.4, \"#fde0ef\"], [0.5, \"#f7f7f7\"], [0.6, \"#e6f5d0\"], [0.7, \"#b8e186\"], [0.8, \"#7fbc41\"], [0.9, \"#4d9221\"], [1, \"#276419\"]], \"sequential\": [[0.0, \"#0d0887\"], [0.1111111111111111, \"#46039f\"], [0.2222222222222222, \"#7201a8\"], [0.3333333333333333, \"#9c179e\"], [0.4444444444444444, \"#bd3786\"], [0.5555555555555556, \"#d8576b\"], [0.6666666666666666, \"#ed7953\"], [0.7777777777777778, \"#fb9f3a\"], [0.8888888888888888, \"#fdca26\"], [1.0, \"#f0f921\"]], \"sequentialminus\": [[0.0, \"#0d0887\"], [0.1111111111111111, \"#46039f\"], [0.2222222222222222, \"#7201a8\"], [0.3333333333333333, \"#9c179e\"], [0.4444444444444444, \"#bd3786\"], [0.5555555555555556, \"#d8576b\"], [0.6666666666666666, \"#ed7953\"], [0.7777777777777778, \"#fb9f3a\"], [0.8888888888888888, \"#fdca26\"], [1.0, \"#f0f921\"]]}, \"colorway\": [\"#636efa\", \"#EF553B\", \"#00cc96\", \"#ab63fa\", \"#FFA15A\", \"#19d3f3\", \"#FF6692\", \"#B6E880\", \"#FF97FF\", \"#FECB52\"], \"font\": {\"color\": \"#2a3f5f\"}, \"geo\": {\"bgcolor\": \"white\", \"lakecolor\": \"white\", \"landcolor\": \"#E5ECF6\", \"showlakes\": true, \"showland\": true, \"subunitcolor\": \"white\"}, \"hoverlabel\": {\"align\": \"left\"}, \"hovermode\": \"closest\", \"mapbox\": {\"style\": \"light\"}, \"paper_bgcolor\": \"white\", \"plot_bgcolor\": \"#E5ECF6\", \"polar\": {\"angularaxis\": {\"gridcolor\": \"white\", \"linecolor\": \"white\", \"ticks\": \"\"}, \"bgcolor\": \"#E5ECF6\", \"radialaxis\": {\"gridcolor\": \"white\", \"linecolor\": \"white\", \"ticks\": \"\"}}, \"scene\": {\"xaxis\": {\"backgroundcolor\": \"#E5ECF6\", \"gridcolor\": \"white\", \"gridwidth\": 2, \"linecolor\": \"white\", \"showbackground\": true, \"ticks\": \"\", \"zerolinecolor\": \"white\"}, \"yaxis\": {\"backgroundcolor\": \"#E5ECF6\", \"gridcolor\": \"white\", \"gridwidth\": 2, \"linecolor\": \"white\", \"showbackground\": true, \"ticks\": \"\", \"zerolinecolor\": \"white\"}, \"zaxis\": {\"backgroundcolor\": \"#E5ECF6\", \"gridcolor\": \"white\", \"gridwidth\": 2, \"linecolor\": \"white\", \"showbackground\": true, \"ticks\": \"\", \"zerolinecolor\": \"white\"}}, \"shapedefaults\": {\"line\": {\"color\": \"#2a3f5f\"}}, \"ternary\": {\"aaxis\": {\"gridcolor\": \"white\", \"linecolor\": \"white\", \"ticks\": \"\"}, \"baxis\": {\"gridcolor\": \"white\", \"linecolor\": \"white\", \"ticks\": \"\"}, \"bgcolor\": \"#E5ECF6\", \"caxis\": {\"gridcolor\": \"white\", \"linecolor\": \"white\", \"ticks\": \"\"}}, \"title\": {\"x\": 0.05}, \"xaxis\": {\"automargin\": true, \"gridcolor\": \"white\", \"linecolor\": \"white\", \"ticks\": \"\", \"title\": {\"standoff\": 15}, \"zerolinecolor\": \"white\", \"zerolinewidth\": 2}, \"yaxis\": {\"automargin\": true, \"gridcolor\": \"white\", \"linecolor\": \"white\", \"ticks\": \"\", \"title\": {\"standoff\": 15}, \"zerolinecolor\": \"white\", \"zerolinewidth\": 2}}}, \"title\": {\"text\": \"Confusion matrix, normalized using method \\\"true\\\"\"}, \"xaxis\": {\"dtick\": 1, \"gridcolor\": \"rgb(0, 0, 0)\", \"side\": \"bottom\", \"ticks\": \"\", \"tickvals\": [false, true], \"title\": {\"text\": \"Predicted Label\"}, \"type\": \"category\"}, \"yaxis\": {\"autorange\": \"reversed\", \"dtick\": 1, \"ticks\": \"\", \"ticksuffix\": \"  \", \"tickvals\": [false, true], \"title\": {\"text\": \"True Label\"}, \"type\": \"category\"}},                        {\"responsive\": true}                    ).then(function(){\n",
              "                            \n",
              "var gd = document.getElementById('1de27114-2b75-4818-8c5a-a0d6f94202b0');\n",
              "var x = new MutationObserver(function (mutations, observer) {{\n",
              "        var display = window.getComputedStyle(gd).display;\n",
              "        if (!display || display === 'none') {{\n",
              "            console.log([gd, 'removed!']);\n",
              "            Plotly.purge(gd);\n",
              "            observer.disconnect();\n",
              "        }}\n",
              "}});\n",
              "\n",
              "// Listen for the removal of the full notebook cells\n",
              "var notebookContainer = gd.closest('#notebook-container');\n",
              "if (notebookContainer) {{\n",
              "    x.observe(notebookContainer, {childList: true});\n",
              "}}\n",
              "\n",
              "// Listen for the clearing of the current output cell\n",
              "var outputEl = gd.closest('.output');\n",
              "if (outputEl) {{\n",
              "    x.observe(outputEl, {childList: true});\n",
              "}}\n",
              "\n",
              "                        })                };                            </script>        </div>\n",
              "</body>\n",
              "</html>"
            ]
          },
          "metadata": {
            "tags": []
          }
        }
      ]
    },
    {
      "cell_type": "code",
      "metadata": {
        "id": "kemNuPA4Xp7W",
        "outputId": "aa8386cf-eb61-478f-fe98-277a397ca46d",
        "colab": {
          "base_uri": "https://localhost:8080/",
          "height": 542
        }
      },
      "source": [
        "y_pred = best_pipeline_auc.predict_proba(X_holdout)\n",
        "graph_roc_curve(y_holdout, y_pred)"
      ],
      "execution_count": 62,
      "outputs": [
        {
          "output_type": "display_data",
          "data": {
            "text/html": [
              "<html>\n",
              "<head><meta charset=\"utf-8\" /></head>\n",
              "<body>\n",
              "    <div>            <script src=\"https://cdnjs.cloudflare.com/ajax/libs/mathjax/2.7.5/MathJax.js?config=TeX-AMS-MML_SVG\"></script><script type=\"text/javascript\">if (window.MathJax) {MathJax.Hub.Config({SVG: {font: \"STIX-Web\"}});}</script>                <script type=\"text/javascript\">window.PlotlyConfig = {MathJaxConfig: 'local'};</script>\n",
              "        <script src=\"https://cdn.plot.ly/plotly-latest.min.js\"></script>                <div id=\"cf40476b-fba8-43d8-8b72-42ab31e24330\" class=\"plotly-graph-div\" style=\"height:525px; width:100%;\"></div>            <script type=\"text/javascript\">                                    window.PLOTLYENV=window.PLOTLYENV || {};                                    if (document.getElementById(\"cf40476b-fba8-43d8-8b72-42ab31e24330\")) {                    Plotly.newPlot(                        \"cf40476b-fba8-43d8-8b72-42ab31e24330\",                        [{\"hovertemplate\": \"(False Postive Rate: %{x}, True Positive Rate: %{y})<br>Threshold: %{text}\", \"line\": {\"width\": 3}, \"name\": \"Class 1 (AUC 0.668752)\", \"text\": [1.8156368732452393, 0.8156368732452393, 0.4811626076698303, 0.4653892517089844, 0.41079235076904297, 0.40469175577163696, 0.36603236198425293, 0.3216670751571655, 0.27576565742492676, 0.23583045601844788, 0.1947040557861328, 0.18700246512889862, 0.18374930322170258, 0.1816738247871399, 0.17836879193782806, 0.17831681668758392, 0.15701250731945038, 0.15599818527698517, 0.15592263638973236, 0.14888101816177368, 0.139468252658844, 0.13065500557422638, 0.12901200354099274, 0.12805293500423431, 0.1259935200214386, 0.12380413711071014, 0.11793549358844757, 0.11302697658538818, 0.11276672780513763, 0.11065880209207535, 0.10976596176624298, 0.09827931225299835, 0.09739939123392105, 0.09623494744300842, 0.08813551813364029, 0.08366014808416367, 0.07948953658342361, 0.0774686262011528, 0.0762428417801857, 0.07584401965141296, 0.07377737760543823, 0.0711711198091507, 0.06475226581096649, 0.06359132379293442, 0.059132590889930725, 0.05751537159085274, 0.056703273206949234, 0.05449681729078293, 0.05409950017929077, 0.05380624532699585, 0.052700381726026535, 0.051609210669994354, 0.05075140669941902, 0.04929747432470322, 0.04885750263929367, 0.048118289560079575, 0.046149034053087234, 0.044786643236875534, 0.043914105743169785, 0.043832723051309586, 0.042670100927352905, 0.042035553604364395, 0.04147491604089737, 0.039892371743917465, 0.03870513662695885, 0.03860701248049736, 0.038252830505371094, 0.03808596357703209, 0.03710383176803589, 0.035858023911714554, 0.03551315516233444, 0.03229455277323723, 0.032069023698568344, 0.03169994428753853, 0.031469907611608505, 0.030111433938145638, 0.028965746983885765, 0.028778422623872757, 0.028310485184192657, 0.02819107100367546, 0.02796984277665615, 0.024531792849302292, 0.024494964629411697, 0.024270037189126015, 0.022881586104631424, 0.02270825207233429, 0.022231116890907288, 0.022003155201673508, 0.021440021693706512, 0.02134987898170948, 0.02112744003534317, 0.021027548238635063, 0.021018115803599358, 0.020659418776631355, 0.02048368938267231, 0.02041773498058319, 0.02041010744869709, 0.02036883309483528, 0.019699016585946083, 0.019279953092336655, 0.01892099715769291, 0.01874215342104435, 0.018616212531924248, 0.018324142321944237, 0.017751922830939293, 0.017710158601403236, 0.01767350547015667, 0.01750577613711357, 0.017428254708647728, 0.017321038991212845, 0.01704801805317402, 0.01680058240890503, 0.01660066470503807, 0.016432570293545723, 0.016027988865971565, 0.015931954607367516, 0.015057261101901531, 0.013634629547595978, 0.01360995601862669, 0.013444030657410622, 0.013268286362290382, 0.013216190971434116, 0.012824545614421368, 0.01276068389415741, 0.012539966031908989, 0.012440294027328491, 0.01229474600404501, 0.012227618135511875, 0.012179810553789139, 0.012085653841495514, 0.011948341503739357, 0.011895149014890194, 0.01177915744483471, 0.011617154814302921, 0.011336466297507286, 0.011120885610580444, 0.011041668243706226, 0.010933232493698597, 0.010877745226025581, 0.010381066240370274, 0.010344322770833969, 0.010108854621648788, 0.010065844282507896, 0.009943274781107903, 0.009941468015313148, 0.00869334302842617, 0.00846902746707201, 0.008043822832405567, 0.007851389236748219, 0.007758629973977804, 0.007642680313438177, 0.0075632622465491295, 0.007357797119766474, 0.00727201160043478, 0.007157957646995783, 0.006805017590522766, 0.0065664914436638355, 0.006541158072650433, 0.006261132657527924, 0.006082694977521896, 0.006066157948225737, 0.005620342679321766, 0.005604540463536978, 0.005542881786823273, 0.005470830947160721, 0.0051221540197730064, 0.005081379320472479, 0.005065070930868387, 0.0047411369159817696, 0.00456830533221364, 0.004536771215498447, 0.004501908551901579, 0.004490193910896778, 0.004176018759608269, 0.00409829244017601, 0.003712963778525591, 0.003600450698286295, 0.003596786642447114, 0.0032307689543813467, 0.0032158391550183296, 0.0031491511035710573, 0.0030482059810310602, 0.0029795763548463583, 0.0027127359062433243, 0.002517837332561612, 0.002375873504206538, 0.0022051117848604918, 0.0018989695236086845, 0.0017543422291055322, 0.0012787014711648226], \"type\": \"scatter\", \"x\": [0.0, 0.0009066183136899365, 0.003626473254759746, 0.005439709882139619, 0.012692656391659111, 0.014505893019038985, 0.015412511332728921, 0.017225747960108794, 0.019038984587488667, 0.021758839528558477, 0.02357207615593835, 0.02357207615593835, 0.025385312783318223, 0.027198549410698096, 0.032638259292837715, 0.0371713508612874, 0.03989120580235721, 0.04533091568449683, 0.0471441523118767, 0.051677243880326386, 0.05530371713508613, 0.05802357207615594, 0.05983680870353581, 0.06074342701722575, 0.0643699002719855, 0.06527651858567543, 0.06618313689936536, 0.06708975521305531, 0.0743427017225748, 0.0770625566636446, 0.08250226654578423, 0.08340888485947416, 0.08612873980054397, 0.08703535811423391, 0.08975521305530372, 0.09066183136899365, 0.09338168631006347, 0.0942883046237534, 0.09882139619220308, 0.10063463281958296, 0.10335448776065277, 0.10516772438803264, 0.11060743427017226, 0.1115140525838622, 0.11514052583862194, 0.11604714415231188, 0.11604714415231188, 0.11695376246600181, 0.12058023572076156, 0.12239347234814144, 0.12239347234814144, 0.1985494106980961, 0.19945602901178605, 0.20126926563916592, 0.20489573889392565, 0.20670897552130554, 0.20942883046237534, 0.21396192203082504, 0.21486854034451497, 0.21668177697189483, 0.2184950135992747, 0.29827742520398914, 0.38531278331822305, 0.38803263825929285, 0.3889392565729828, 0.39075249320036265, 0.3916591115140526, 0.3952855847688123, 0.3989120580235721, 0.40072529465095197, 0.4125113327289211, 0.414324569356301, 0.414324569356301, 0.41523118766999095, 0.4170444242973708, 0.4197642792384406, 0.44061650045330913, 0.44242973708068906, 0.4614687216681777, 0.46328195829555757, 0.4814143245693563, 0.48322756119673616, 0.4941069809610154, 0.49501359927470534, 0.5049864007252947, 0.5058930190389845, 0.5167724388032638, 0.5530371713508613, 0.5548504079782411, 0.5557570262919311, 0.5584768812330009, 0.5602901178603807, 0.5829555757026292, 0.5929283771532184, 0.5938349954669084, 0.5956482320942883, 0.5965548504079783, 0.599274705349048, 0.600181323662738, 0.600181323662738, 0.6019945602901179, 0.6165004533091568, 0.6174070716228468, 0.6210335448776065, 0.6219401631912964, 0.6264732547597461, 0.6273798730734361, 0.6455122393472348, 0.6473254759746147, 0.6545784224841342, 0.6826835902085222, 0.7126019945602902, 0.7180417044424298, 0.7189483227561196, 0.7343608340888486, 0.7370806890299184, 0.7388939256572983, 0.7416137805983681, 0.7443336355394379, 0.7552130553037172, 0.7706255666364461, 0.7842248413417952, 0.786038077969175, 0.7960108794197642, 0.7987307343608341, 0.800543970988214, 0.8023572076155938, 0.8159564823209429, 0.8213961922030825, 0.8250226654578422, 0.827742520398912, 0.8359020852221215, 0.8368087035358114, 0.8404351767905711, 0.8422484134179511, 0.844061650045331, 0.8476881233000907, 0.8476881233000907, 0.8513145965548504, 0.8531278331822303, 0.8540344514959202, 0.8540344514959202, 0.8558476881233001, 0.8585675430643699, 0.8585675430643699, 0.8667271078875793, 0.8685403445149592, 0.8712601994560291, 0.8757932910244787, 0.8766999093381687, 0.8803263825929284, 0.8812330009066183, 0.8821396192203083, 0.8830462375339981, 0.8848594741613781, 0.8875793291024479, 0.8912058023572076, 0.8948322756119673, 0.9102447869446962, 0.9138712601994561, 0.915684496826836, 0.9193109700815957, 0.9338168631006346, 0.9347234814143246, 0.9401631912964642, 0.9419764279238441, 0.9456029011786038, 0.9465095194922938, 0.9483227561196736, 0.9501359927470535, 0.9528558476881233, 0.9546690843155031, 0.957388939256573, 0.9601087941976428, 0.9637352674524026, 0.9682683590208522, 0.971894832275612, 0.9746146872166818, 0.9764279238440616, 0.9782411604714415, 0.9791477787851315, 0.9809610154125114, 0.9836808703535811, 0.986400725294651, 0.9900271985494107, 0.9918404351767905, 0.9945602901178604, 0.9963735267452403, 0.99909338168631, 1.0], \"y\": [0.0, 0.0, 0.0, 0.0, 0.0, 0.0, 0.0, 0.0, 0.0, 0.0, 0.0, 0.03333333333333333, 0.03333333333333333, 0.03333333333333333, 0.05, 0.05, 0.05, 0.08333333333333333, 0.1, 0.1, 0.1, 0.11666666666666667, 0.13333333333333333, 0.13333333333333333, 0.15, 0.15, 0.16666666666666666, 0.16666666666666666, 0.2, 0.21666666666666667, 0.25, 0.25, 0.25, 0.25, 0.25, 0.25, 0.25, 0.25, 0.25, 0.25, 0.25, 0.26666666666666666, 0.26666666666666666, 0.26666666666666666, 0.26666666666666666, 0.26666666666666666, 0.2833333333333333, 0.2833333333333333, 0.2833333333333333, 0.2833333333333333, 0.3, 0.4166666666666667, 0.4166666666666667, 0.4166666666666667, 0.4166666666666667, 0.4166666666666667, 0.4166666666666667, 0.4166666666666667, 0.4166666666666667, 0.4166666666666667, 0.4166666666666667, 0.48333333333333334, 0.6166666666666667, 0.6166666666666667, 0.6166666666666667, 0.6166666666666667, 0.6166666666666667, 0.65, 0.65, 0.65, 0.65, 0.65, 0.6666666666666666, 0.6666666666666666, 0.6666666666666666, 0.6666666666666666, 0.7, 0.7, 0.7333333333333333, 0.7333333333333333, 0.7833333333333333, 0.7833333333333333, 0.7833333333333333, 0.7833333333333333, 0.8, 0.8, 0.8, 0.8166666666666667, 0.8166666666666667, 0.8166666666666667, 0.8166666666666667, 0.8166666666666667, 0.8166666666666667, 0.8166666666666667, 0.8166666666666667, 0.8166666666666667, 0.8166666666666667, 0.8166666666666667, 0.8166666666666667, 0.8333333333333334, 0.8333333333333334, 0.8333333333333334, 0.8333333333333334, 0.8333333333333334, 0.8333333333333334, 0.8333333333333334, 0.8333333333333334, 0.8333333333333334, 0.8333333333333334, 0.85, 0.85, 0.8666666666666667, 0.8666666666666667, 0.8666666666666667, 0.8833333333333333, 0.8833333333333333, 0.8833333333333333, 0.8833333333333333, 0.8833333333333333, 0.9166666666666666, 0.9166666666666666, 0.9333333333333333, 0.9333333333333333, 0.9333333333333333, 0.9333333333333333, 0.9333333333333333, 0.9333333333333333, 0.9333333333333333, 0.9333333333333333, 0.9333333333333333, 0.9333333333333333, 0.9333333333333333, 0.9333333333333333, 0.9333333333333333, 0.9333333333333333, 0.9333333333333333, 0.9333333333333333, 0.95, 0.95, 0.95, 0.95, 0.9666666666666667, 0.9666666666666667, 0.9666666666666667, 0.9833333333333333, 0.9833333333333333, 0.9833333333333333, 0.9833333333333333, 0.9833333333333333, 0.9833333333333333, 0.9833333333333333, 0.9833333333333333, 1.0, 1.0, 1.0, 1.0, 1.0, 1.0, 1.0, 1.0, 1.0, 1.0, 1.0, 1.0, 1.0, 1.0, 1.0, 1.0, 1.0, 1.0, 1.0, 1.0, 1.0, 1.0, 1.0, 1.0, 1.0, 1.0, 1.0, 1.0, 1.0, 1.0, 1.0, 1.0, 1.0, 1.0, 1.0, 1.0, 1.0, 1.0]}, {\"line\": {\"dash\": \"dash\"}, \"name\": \"Trivial Model (AUC 0.5)\", \"type\": \"scatter\", \"x\": [0, 1], \"y\": [0, 1]}],                        {\"template\": {\"data\": {\"bar\": [{\"error_x\": {\"color\": \"#2a3f5f\"}, \"error_y\": {\"color\": \"#2a3f5f\"}, \"marker\": {\"line\": {\"color\": \"#E5ECF6\", \"width\": 0.5}}, \"type\": \"bar\"}], \"barpolar\": [{\"marker\": {\"line\": {\"color\": \"#E5ECF6\", \"width\": 0.5}}, \"type\": \"barpolar\"}], \"carpet\": [{\"aaxis\": {\"endlinecolor\": \"#2a3f5f\", \"gridcolor\": \"white\", \"linecolor\": \"white\", \"minorgridcolor\": \"white\", \"startlinecolor\": \"#2a3f5f\"}, \"baxis\": {\"endlinecolor\": \"#2a3f5f\", \"gridcolor\": \"white\", \"linecolor\": \"white\", \"minorgridcolor\": \"white\", \"startlinecolor\": \"#2a3f5f\"}, \"type\": \"carpet\"}], \"choropleth\": [{\"colorbar\": {\"outlinewidth\": 0, \"ticks\": \"\"}, \"type\": \"choropleth\"}], \"contour\": [{\"colorbar\": {\"outlinewidth\": 0, \"ticks\": \"\"}, \"colorscale\": [[0.0, \"#0d0887\"], [0.1111111111111111, \"#46039f\"], [0.2222222222222222, \"#7201a8\"], [0.3333333333333333, \"#9c179e\"], [0.4444444444444444, \"#bd3786\"], [0.5555555555555556, \"#d8576b\"], [0.6666666666666666, \"#ed7953\"], [0.7777777777777778, \"#fb9f3a\"], [0.8888888888888888, \"#fdca26\"], [1.0, \"#f0f921\"]], \"type\": \"contour\"}], \"contourcarpet\": [{\"colorbar\": {\"outlinewidth\": 0, \"ticks\": \"\"}, \"type\": \"contourcarpet\"}], \"heatmap\": [{\"colorbar\": {\"outlinewidth\": 0, \"ticks\": \"\"}, \"colorscale\": [[0.0, \"#0d0887\"], [0.1111111111111111, \"#46039f\"], [0.2222222222222222, \"#7201a8\"], [0.3333333333333333, \"#9c179e\"], [0.4444444444444444, \"#bd3786\"], [0.5555555555555556, \"#d8576b\"], [0.6666666666666666, \"#ed7953\"], [0.7777777777777778, \"#fb9f3a\"], [0.8888888888888888, \"#fdca26\"], [1.0, \"#f0f921\"]], \"type\": \"heatmap\"}], \"heatmapgl\": [{\"colorbar\": {\"outlinewidth\": 0, \"ticks\": \"\"}, \"colorscale\": [[0.0, \"#0d0887\"], [0.1111111111111111, \"#46039f\"], [0.2222222222222222, \"#7201a8\"], [0.3333333333333333, \"#9c179e\"], [0.4444444444444444, \"#bd3786\"], [0.5555555555555556, \"#d8576b\"], [0.6666666666666666, \"#ed7953\"], [0.7777777777777778, \"#fb9f3a\"], [0.8888888888888888, \"#fdca26\"], [1.0, \"#f0f921\"]], \"type\": \"heatmapgl\"}], \"histogram\": [{\"marker\": {\"colorbar\": {\"outlinewidth\": 0, \"ticks\": \"\"}}, \"type\": \"histogram\"}], \"histogram2d\": [{\"colorbar\": {\"outlinewidth\": 0, \"ticks\": \"\"}, \"colorscale\": [[0.0, \"#0d0887\"], [0.1111111111111111, \"#46039f\"], [0.2222222222222222, \"#7201a8\"], [0.3333333333333333, \"#9c179e\"], [0.4444444444444444, \"#bd3786\"], [0.5555555555555556, \"#d8576b\"], [0.6666666666666666, \"#ed7953\"], [0.7777777777777778, \"#fb9f3a\"], [0.8888888888888888, \"#fdca26\"], [1.0, \"#f0f921\"]], \"type\": \"histogram2d\"}], \"histogram2dcontour\": [{\"colorbar\": {\"outlinewidth\": 0, \"ticks\": \"\"}, \"colorscale\": [[0.0, \"#0d0887\"], [0.1111111111111111, \"#46039f\"], [0.2222222222222222, \"#7201a8\"], [0.3333333333333333, \"#9c179e\"], [0.4444444444444444, \"#bd3786\"], [0.5555555555555556, \"#d8576b\"], [0.6666666666666666, \"#ed7953\"], [0.7777777777777778, \"#fb9f3a\"], [0.8888888888888888, \"#fdca26\"], [1.0, \"#f0f921\"]], \"type\": \"histogram2dcontour\"}], \"mesh3d\": [{\"colorbar\": {\"outlinewidth\": 0, \"ticks\": \"\"}, \"type\": \"mesh3d\"}], \"parcoords\": [{\"line\": {\"colorbar\": {\"outlinewidth\": 0, \"ticks\": \"\"}}, \"type\": \"parcoords\"}], \"pie\": [{\"automargin\": true, \"type\": \"pie\"}], \"scatter\": [{\"marker\": {\"colorbar\": {\"outlinewidth\": 0, \"ticks\": \"\"}}, \"type\": \"scatter\"}], \"scatter3d\": [{\"line\": {\"colorbar\": {\"outlinewidth\": 0, \"ticks\": \"\"}}, \"marker\": {\"colorbar\": {\"outlinewidth\": 0, \"ticks\": \"\"}}, \"type\": \"scatter3d\"}], \"scattercarpet\": [{\"marker\": {\"colorbar\": {\"outlinewidth\": 0, \"ticks\": \"\"}}, \"type\": \"scattercarpet\"}], \"scattergeo\": [{\"marker\": {\"colorbar\": {\"outlinewidth\": 0, \"ticks\": \"\"}}, \"type\": \"scattergeo\"}], \"scattergl\": [{\"marker\": {\"colorbar\": {\"outlinewidth\": 0, \"ticks\": \"\"}}, \"type\": \"scattergl\"}], \"scattermapbox\": [{\"marker\": {\"colorbar\": {\"outlinewidth\": 0, \"ticks\": \"\"}}, \"type\": \"scattermapbox\"}], \"scatterpolar\": [{\"marker\": {\"colorbar\": {\"outlinewidth\": 0, \"ticks\": \"\"}}, \"type\": \"scatterpolar\"}], \"scatterpolargl\": [{\"marker\": {\"colorbar\": {\"outlinewidth\": 0, \"ticks\": \"\"}}, \"type\": \"scatterpolargl\"}], \"scatterternary\": [{\"marker\": {\"colorbar\": {\"outlinewidth\": 0, \"ticks\": \"\"}}, \"type\": \"scatterternary\"}], \"surface\": [{\"colorbar\": {\"outlinewidth\": 0, \"ticks\": \"\"}, \"colorscale\": [[0.0, \"#0d0887\"], [0.1111111111111111, \"#46039f\"], [0.2222222222222222, \"#7201a8\"], [0.3333333333333333, \"#9c179e\"], [0.4444444444444444, \"#bd3786\"], [0.5555555555555556, \"#d8576b\"], [0.6666666666666666, \"#ed7953\"], [0.7777777777777778, \"#fb9f3a\"], [0.8888888888888888, \"#fdca26\"], [1.0, \"#f0f921\"]], \"type\": \"surface\"}], \"table\": [{\"cells\": {\"fill\": {\"color\": \"#EBF0F8\"}, \"line\": {\"color\": \"white\"}}, \"header\": {\"fill\": {\"color\": \"#C8D4E3\"}, \"line\": {\"color\": \"white\"}}, \"type\": \"table\"}]}, \"layout\": {\"annotationdefaults\": {\"arrowcolor\": \"#2a3f5f\", \"arrowhead\": 0, \"arrowwidth\": 1}, \"autotypenumbers\": \"strict\", \"coloraxis\": {\"colorbar\": {\"outlinewidth\": 0, \"ticks\": \"\"}}, \"colorscale\": {\"diverging\": [[0, \"#8e0152\"], [0.1, \"#c51b7d\"], [0.2, \"#de77ae\"], [0.3, \"#f1b6da\"], [0.4, \"#fde0ef\"], [0.5, \"#f7f7f7\"], [0.6, \"#e6f5d0\"], [0.7, \"#b8e186\"], [0.8, \"#7fbc41\"], [0.9, \"#4d9221\"], [1, \"#276419\"]], \"sequential\": [[0.0, \"#0d0887\"], [0.1111111111111111, \"#46039f\"], [0.2222222222222222, \"#7201a8\"], [0.3333333333333333, \"#9c179e\"], [0.4444444444444444, \"#bd3786\"], [0.5555555555555556, \"#d8576b\"], [0.6666666666666666, \"#ed7953\"], [0.7777777777777778, \"#fb9f3a\"], [0.8888888888888888, \"#fdca26\"], [1.0, \"#f0f921\"]], \"sequentialminus\": [[0.0, \"#0d0887\"], [0.1111111111111111, \"#46039f\"], [0.2222222222222222, \"#7201a8\"], [0.3333333333333333, \"#9c179e\"], [0.4444444444444444, \"#bd3786\"], [0.5555555555555556, \"#d8576b\"], [0.6666666666666666, \"#ed7953\"], [0.7777777777777778, \"#fb9f3a\"], [0.8888888888888888, \"#fdca26\"], [1.0, \"#f0f921\"]]}, \"colorway\": [\"#636efa\", \"#EF553B\", \"#00cc96\", \"#ab63fa\", \"#FFA15A\", \"#19d3f3\", \"#FF6692\", \"#B6E880\", \"#FF97FF\", \"#FECB52\"], \"font\": {\"color\": \"#2a3f5f\"}, \"geo\": {\"bgcolor\": \"white\", \"lakecolor\": \"white\", \"landcolor\": \"#E5ECF6\", \"showlakes\": true, \"showland\": true, \"subunitcolor\": \"white\"}, \"hoverlabel\": {\"align\": \"left\"}, \"hovermode\": \"closest\", \"mapbox\": {\"style\": \"light\"}, \"paper_bgcolor\": \"white\", \"plot_bgcolor\": \"#E5ECF6\", \"polar\": {\"angularaxis\": {\"gridcolor\": \"white\", \"linecolor\": \"white\", \"ticks\": \"\"}, \"bgcolor\": \"#E5ECF6\", \"radialaxis\": {\"gridcolor\": \"white\", \"linecolor\": \"white\", \"ticks\": \"\"}}, \"scene\": {\"xaxis\": {\"backgroundcolor\": \"#E5ECF6\", \"gridcolor\": \"white\", \"gridwidth\": 2, \"linecolor\": \"white\", \"showbackground\": true, \"ticks\": \"\", \"zerolinecolor\": \"white\"}, \"yaxis\": {\"backgroundcolor\": \"#E5ECF6\", \"gridcolor\": \"white\", \"gridwidth\": 2, \"linecolor\": \"white\", \"showbackground\": true, \"ticks\": \"\", \"zerolinecolor\": \"white\"}, \"zaxis\": {\"backgroundcolor\": \"#E5ECF6\", \"gridcolor\": \"white\", \"gridwidth\": 2, \"linecolor\": \"white\", \"showbackground\": true, \"ticks\": \"\", \"zerolinecolor\": \"white\"}}, \"shapedefaults\": {\"line\": {\"color\": \"#2a3f5f\"}}, \"ternary\": {\"aaxis\": {\"gridcolor\": \"white\", \"linecolor\": \"white\", \"ticks\": \"\"}, \"baxis\": {\"gridcolor\": \"white\", \"linecolor\": \"white\", \"ticks\": \"\"}, \"bgcolor\": \"#E5ECF6\", \"caxis\": {\"gridcolor\": \"white\", \"linecolor\": \"white\", \"ticks\": \"\"}}, \"title\": {\"x\": 0.05}, \"xaxis\": {\"automargin\": true, \"gridcolor\": \"white\", \"linecolor\": \"white\", \"ticks\": \"\", \"title\": {\"standoff\": 15}, \"zerolinecolor\": \"white\", \"zerolinewidth\": 2}, \"yaxis\": {\"automargin\": true, \"gridcolor\": \"white\", \"linecolor\": \"white\", \"ticks\": \"\", \"title\": {\"standoff\": 15}, \"zerolinecolor\": \"white\", \"zerolinewidth\": 2}}}, \"title\": {\"text\": \"Receiver Operating Characteristic\"}, \"xaxis\": {\"range\": [-0.05, 1.05], \"title\": {\"text\": \"False Positive Rate\"}}, \"yaxis\": {\"range\": [-0.05, 1.05], \"title\": {\"text\": \"True Positive Rate\"}}},                        {\"responsive\": true}                    ).then(function(){\n",
              "                            \n",
              "var gd = document.getElementById('cf40476b-fba8-43d8-8b72-42ab31e24330');\n",
              "var x = new MutationObserver(function (mutations, observer) {{\n",
              "        var display = window.getComputedStyle(gd).display;\n",
              "        if (!display || display === 'none') {{\n",
              "            console.log([gd, 'removed!']);\n",
              "            Plotly.purge(gd);\n",
              "            observer.disconnect();\n",
              "        }}\n",
              "}});\n",
              "\n",
              "// Listen for the removal of the full notebook cells\n",
              "var notebookContainer = gd.closest('#notebook-container');\n",
              "if (notebookContainer) {{\n",
              "    x.observe(notebookContainer, {childList: true});\n",
              "}}\n",
              "\n",
              "// Listen for the clearing of the current output cell\n",
              "var outputEl = gd.closest('.output');\n",
              "if (outputEl) {{\n",
              "    x.observe(outputEl, {childList: true});\n",
              "}}\n",
              "\n",
              "                        })                };                            </script>        </div>\n",
              "</body>\n",
              "</html>"
            ]
          },
          "metadata": {
            "tags": []
          }
        }
      ]
    },
    {
      "cell_type": "code",
      "metadata": {
        "id": "FYHbxbF4M8mZ"
      },
      "source": [
        "########## I am done ##############"
      ],
      "execution_count": null,
      "outputs": []
    }
  ]
}