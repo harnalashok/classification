{
  "nbformat": 4,
  "nbformat_minor": 0,
  "metadata": {
    "kernelspec": {
      "display_name": "h2o",
      "language": "python",
      "name": "h2o"
    },
    "language_info": {
      "codemirror_mode": {
        "name": "ipython",
        "version": 3
      },
      "file_extension": ".py",
      "mimetype": "text/x-python",
      "name": "python",
      "nbconvert_exporter": "python",
      "pygments_lexer": "ipython3",
      "version": "3.6.12"
    },
    "colab": {
      "name": "talkingData_CatFeature engineering.ipynb",
      "provenance": [],
      "collapsed_sections": [],
      "include_colab_link": true
    }
  },
  "cells": [
    {
      "cell_type": "markdown",
      "metadata": {
        "id": "view-in-github",
        "colab_type": "text"
      },
      "source": [
        "<a href=\"https://colab.research.google.com/github/harnalashok/classification/blob/main/11_talkingData_CatFeature_engineering.ipynb\" target=\"_parent\"><img src=\"https://colab.research.google.com/assets/colab-badge.svg\" alt=\"Open In Colab\"/></a>"
      ]
    },
    {
      "cell_type": "code",
      "metadata": {
        "id": "rk_aNZnekWfk"
      },
      "source": [
        "# Last amended: 22nd July, 2021\n",
        "# Myfolder: C:\\Users\\Administrator\\OneDrive\\Documents\\talkingdata\n",
        "# Ref: https://www.kaggle.com/nanomathias/feature-engineering-importance-testing\n",
        "#      https://www.kaggle.com/nuhsikander/lgbm-new-features-corrected\n",
        "#      https://github.com/harnalashok/h2o\n",
        "#\n",
        "# Data source: https://www.kaggle.com/c/talkingdata-adtracking-fraud-detection\n",
        "# Objectives:\n",
        "#           i)    Categorical feature engineering\n",
        "#                 using aggregation"
      ],
      "execution_count": null,
      "outputs": []
    },
    {
      "cell_type": "markdown",
      "metadata": {
        "id": "i8_6qUCwd9Cn"
      },
      "source": [
        "## About the Problem"
      ]
    },
    {
      "cell_type": "markdown",
      "metadata": {
        "id": "RSR1T4kbGiVO"
      },
      "source": [
        "Fraud risk is everywhere, but for companies that advertise online, click fraud can happen at an overwhelming volume, resulting in misleading click data and wasted money. Ad channels can drive up costs by simply clicking on the ad at a large scale. With over 1 billion smart mobile devices in active use every month, China is the largest\n",
        "mobile market in the world and therefore suffers from huge volumes of fradulent traffic.\n",
        "\n",
        "TalkingData, China’s largest independent big data service platform, covers over 70% of active mobile devices nationwide. They handle 3 billion clicks per day, of which 90% are potentially fraudulent. Their current approach to prevent click fraud for app developers is to measure the journey of a user’s click across their portfolio, and flag IP addresses who produce lots of clicks, but never end up installing apps. With this information, they've built an IP blacklist and device blacklist.\n",
        "\n",
        "While successful, they want to always be one step ahead of fraudsters and have turned to the Kaggle community for help in further developing their solution. In their 2nd competition with Kaggle, you’re challenged to build an algorithm that predicts whether a user will download an app after clicking a mobile app ad. To support your modeling, they have provided a generous dataset covering approximately 200 million clicks over 4 days!"
      ]
    },
    {
      "cell_type": "markdown",
      "metadata": {
        "id": "XxWaVXuYeUyl"
      },
      "source": [
        "### Data fields\n",
        "\n",
        "Each row of the training data contains a click record, with the following features.\n",
        "\n",
        "    ip: ip address of click.\n",
        "    app: app id for marketing.\n",
        "    device: device type id of user mobile phone (e.g., iphone 6 plus, iphone 7, huawei mate 7, etc.)\n",
        "    os: os version id of user mobile phone\n",
        "    channel: channel id of mobile ad publisher\n",
        "    click_time: timestamp of click (UTC)\n",
        "    attributed_time: if user download the app for after clicking an ad, this is the time of the app download\n",
        "    is_attributed: the target that is to be predicted, indicating the app was downloaded\n"
      ]
    },
    {
      "cell_type": "markdown",
      "metadata": {
        "id": "yHTsjpcyHq08"
      },
      "source": [
        "##How to create new features from categorical features"
      ]
    },
    {
      "cell_type": "markdown",
      "metadata": {
        "id": "bcmSTbc0rkGE"
      },
      "source": [
        ">Categorical features can be encoded either using OneHotEncoding technique or using Hashing technique. But if the categorical features have bery large number of levels, then in both cases very large number of features will be generated.  \n",
        "Another option is to develop new features by transforming each cat-feature to one numeric column. There can be many ways to do this and, therefore, one cat-feature can get transformed to many numeric features. But, when we do this, we have a control over how many numeric columns we create and can also examine which are more important. This example demonstartes feature creation using this option. "
      ]
    },
    {
      "cell_type": "markdown",
      "metadata": {
        "id": "RNXnyNHml046"
      },
      "source": [
        "##Mounting Google Drive and calling libraries"
      ]
    },
    {
      "cell_type": "code",
      "metadata": {
        "id": "91k9nYm1iDo1",
        "colab": {
          "base_uri": "https://localhost:8080/"
        },
        "outputId": "1fc134be-42bc-4c54-c6ba-20bd330fde8a"
      },
      "source": [
        "# 1.0 Mount your google drive \n",
        "#      so that you can access data files \n",
        "#      on your Google Drive\n",
        "from google.colab import drive\n",
        "drive.mount('/content/drive', force_remount=True)"
      ],
      "execution_count": 33,
      "outputs": [
        {
          "output_type": "stream",
          "text": [
            "Mounted at /content/drive\n"
          ],
          "name": "stdout"
        }
      ]
    },
    {
      "cell_type": "code",
      "metadata": {
        "id": "YUvGeAu5iHnU"
      },
      "source": [
        "# 1.1 Call libraries\n",
        "# %reset -f\n",
        "import numpy as np\n",
        "import pandas as pd\n",
        "import matplotlib.pyplot as plt\n",
        "import random, gc\n",
        "import os,time"
      ],
      "execution_count": 34,
      "outputs": []
    },
    {
      "cell_type": "code",
      "metadata": {
        "id": "hBtMbDZhiMqC"
      },
      "source": [
        "# 1.2 Display output from multiple commands\n",
        "from IPython.core.interactiveshell import InteractiveShell\n",
        "InteractiveShell.ast_node_interactivity = \"all\""
      ],
      "execution_count": 35,
      "outputs": []
    },
    {
      "cell_type": "code",
      "metadata": {
        "id": "e_hc_871iR1t",
        "colab": {
          "base_uri": "https://localhost:8080/"
        },
        "outputId": "9b9fcd67-a1ca-4c4e-aa7c-a252166e8ecb"
      },
      "source": [
        "# 1.3 Change folder to where TalkingData is:\n",
        "#os.chdir(\"C:\\\\Users\\\\Administrator\\\\OneDrive\\\\Documents\\\\talkingdata\")\n",
        "path =  \"/content/drive/MyDrive/Colab_data_files/talkingData/\"\n",
        "os.listdir(path)"
      ],
      "execution_count": 36,
      "outputs": [
        {
          "output_type": "execute_result",
          "data": {
            "text/plain": [
              "['train.csv.zip', 'test.csv.zip', 'talkingData_sample.csv.zip']"
            ]
          },
          "metadata": {
            "tags": []
          },
          "execution_count": 36
        }
      ]
    },
    {
      "cell_type": "markdown",
      "metadata": {
        "id": "-MhBI_bOvLwP"
      },
      "source": [
        "## Feature Engineering\n",
        ">    \"*As Andy once said in the comment of a kernel(Sorry, i can't remember which kernel since i have try more than 20 until now): There is nothing to stop us from doing that. I think that makes sense because when we generate some new features using frequency,mean,var,count,unique etc. , we want to get the accurate numerical number as much as we can which is close to the hidden population distribution statistically in this 4 days , test set is also a sample of this population distribution in this 4 days, So we NEED to use train/test set together to generate the statistical features which can help us get close to the hidden population distribution. And as you can imagine, If we can use the entire train/test set to compute the features, that certainly would be more accurate to train our model.*\"\n",
        "\n",
        ">    \"*A perfect algorithm might not need these features. But no algorithm is perfect so you can think of derived features as aiding/helping the classifier figure out what might be relevant to classify correctly.*\"\n"
      ]
    },
    {
      "cell_type": "markdown",
      "metadata": {
        "id": "uBX-eSPal-h4"
      },
      "source": [
        "#### Which features are of which type\n",
        "Here is how the features are being treated:  \n",
        "Target feature is '*is_atributed*'  \n",
        "\n",
        "<table>\n",
        "<tr>\n",
        "    <th>ip</th>\n",
        "    <th>app</th>\n",
        "    <th>os</th> \n",
        "    <th>channel</th>\n",
        "    <th>day</th>\n",
        "    <th>hour</th> \n",
        "    <th>is_attributed</th>\n",
        "</tr>\n",
        "<tr>\n",
        "    <td>categorical</td> \n",
        "    <td>categorical</td> \n",
        "    <td>categorical</td>\n",
        "    <td>categorical</td> \n",
        "    <td>numeric/categorical</td> \n",
        "    <td>numeric/categorical</td>\n",
        "    <td>categorical</td>\n",
        "</tr>\n",
        "</table>\n",
        "-----------------------------------------------------------<br><br>\n"
      ]
    },
    {
      "cell_type": "markdown",
      "metadata": {
        "id": "rmkLiOlSEXGg"
      },
      "source": [
        "\n",
        "#### How feature engineering has been performed?<br>\n",
        "A. <u>Relationship of categorical features among themselves</u>:\n",
        "\n",
        "There is a possibility to create a huge number of features. These features naturally take very large RAM.  \n",
        ">Table 1\n",
        "<table>\n",
        "<tr>\n",
        "    <th>Sno</th>\n",
        "    <th>GroupBy</th>\n",
        "    <th>Operation</th>\n",
        "    <th>On</th> \n",
        "    <th>Remarks</th>\n",
        "</tr>\n",
        "<tr>\n",
        "    <td>1</td>\n",
        "    <td>IP</td> \n",
        "    <td>nunique</td> \n",
        "    <td>channel</td>\n",
        "    <td>Per IP, how many unique channels</td> \n",
        "</tr>\n",
        "<tr>\n",
        "    <td>2</td>\n",
        "    <td>IP</td> \n",
        "    <td>nunique</td> \n",
        "    <td>app</td>\n",
        "    <td>Per IP, how many unique app</td> \n",
        "</tr>\n",
        "<tr>\n",
        "    <td>3</td>\n",
        "    <td>IP</td> \n",
        "    <td>nunique</td> \n",
        "    <td>device</td>\n",
        "    <td>Per IP, how many unique device</td> \n",
        "</tr>\n",
        "<tr>\n",
        "    <td>4</td>\n",
        "    <td>IP</td> \n",
        "    <td>nunique</td> \n",
        "    <td>os</td>\n",
        "    <td>Per IP, how many unique os</td> \n",
        "</tr>\n",
        "<tr>\n",
        "    <td>5</td>\n",
        "    <td>IP</td> \n",
        "    <td>cumcount</td> \n",
        "    <td>app</td>\n",
        "    <td>Per IP, cumcount of app</td> \n",
        "</tr>\n",
        "<tr>\n",
        "    <td>6</td>\n",
        "    <td>IP</td> \n",
        "    <td>cumcount</td> \n",
        "    <td>os</td>\n",
        "    <td>Per IP, cumcount of os</td> \n",
        "</tr>\n",
        "<tr>\n",
        "    <td>7</td>\n",
        "    <td>IP</td> \n",
        "    <td>count</td> \n",
        "    <td>channel</td>\n",
        "    <td>Per IP, count of channel</td> \n",
        "</tr>\n",
        "<tr>\n",
        "    <td>8</td>\n",
        "    <td>app</td> \n",
        "    <td>count</td> \n",
        "    <td>channel</td>\n",
        "    <td>Per app, count of channel</td> \n",
        "</tr>\n",
        "<tr>\n",
        "    <td>9</td>\n",
        "    <td>channel</td> \n",
        "    <td>count</td> \n",
        "    <td>app</td>\n",
        "    <td>Per channel, count of app</td> \n",
        "</tr>\n",
        "<tr>\n",
        "    <td>10</td>\n",
        "    <td>ip+app</td> \n",
        "    <td>count</td> \n",
        "    <td>channels</td>\n",
        "    <td>Per ip+app, count of channels</td> \n",
        "</tr>\n",
        "<tr>\n",
        "    <td>11</td>\n",
        "    <td>ip+app</td> \n",
        "    <td>nunique</td> \n",
        "    <td>os</td>\n",
        "    <td>Per ip+app, how many unique os</td> \n",
        "</tr>\n",
        "<tr>\n",
        "    <td>12</td>\n",
        "    <td>ip+day</td> \n",
        "    <td>nunique</td> \n",
        "    <td>hours</td>\n",
        "    <td>Per ip+day how many unique hours</td> \n",
        "</tr>\n",
        "<tr>\n",
        "    <td>13</td>\n",
        "    <td>ip+day+channel</td> \n",
        "    <td>variance</td> \n",
        "    <td>hour</td>\n",
        "    <td>Per ip+day+channel variance of hour</td> \n",
        "</tr>\n",
        "<tr>\n",
        "    <td>14</td>\n",
        "    <td>ip+day+channel</td> \n",
        "    <td>mean</td> \n",
        "    <td>hour</td>\n",
        "    <td>Per ip+day+channel mean of hour</td> \n",
        "</tr>\n",
        "<tr>\n",
        "    <td>15</td>\n",
        "    <td>ip+app+os</td> \n",
        "    <td>variance</td> \n",
        "    <td>hour</td>\n",
        "    <td>Per ip+app+os variance of hour</td> \n",
        "</tr>\n",
        "<tr>\n",
        "    <td>16</td>\n",
        "    <td>ip+app+os</td> \n",
        "    <td>count</td> \n",
        "    <td>channels</td>\n",
        "    <td>Per ip+app+os count of channel</td> \n",
        "</tr>\n",
        "<tr>\n",
        "    <td>17</td>\n",
        "    <td>ip+app+channel</td> \n",
        "    <td>variance</td> \n",
        "    <td>hour</td>\n",
        "    <td>Per ip+app+channel variance of hours</td> \n",
        "</tr>\n",
        "<tr>\n",
        "    <td>18</td>\n",
        "    <td>ip+device+os</td> \n",
        "    <td>cumcount</td> \n",
        "    <td>app</td>\n",
        "    <td>Per ip+device+os cumcount of app</td> \n",
        "</tr>\n",
        "<tr>\n",
        "    <td>19</td>\n",
        "    <td>ip+device+os</td> \n",
        "    <td>nunique</td> \n",
        "    <td>os</td>\n",
        "    <td>Per ip+device+os how many unique of app</td> \n",
        "</tr>\n",
        "<tr>\n",
        "    <td>20</td>\n",
        "    <td>ip+day+channel</td> \n",
        "    <td>variance</td> \n",
        "    <td>hour</td>\n",
        "    <td>Per ip+day+channel variance of hour</td> \n",
        "</tr>\n",
        "<tr>\n",
        "    <td>21</td>\n",
        "    <td>ip+day+hour</td> \n",
        "    <td>count</td> \n",
        "    <td>channel</td>\n",
        "    <td>Per ip+day+hour count of channel</td> \n",
        "</tr>\n",
        "<tr>\n",
        "    <td>22</td>\n",
        "    <td>ip+app+day+hour</td> \n",
        "    <td>count</td> \n",
        "    <td>channel</td>\n",
        "    <td>Per ip+app+day+hour variance of hour</td> \n",
        "</tr>\n",
        "</table>\n",
        "-----------------------------------------------------------<br>\n"
      ]
    },
    {
      "cell_type": "markdown",
      "metadata": {
        "id": "aOwhOkcHEhKg"
      },
      "source": [
        "\n",
        "B. <u>Relationship of categorical features with target</u>:\n",
        "\n",
        "We develop probabilistic relationship between feature levels and the target values. For some feature, if everytime a level, say, x, occurs and the target is 1, we have an ideal relationship between that *level x* and the target; on the other hand if every time a level, say, y, occurs and target value is 0, we have the worst possible relationship.<br>   Essentially, given a level, x, we are calculating probability of target being 1. \n",
        "Suppose a level, x, occurs 'g1' times and in the target, value of 1 occurs g2 times. <br>Then:\n",
        "\n",
        "`prob(target =1/level =x) = g2/g1`\n",
        "\n",
        "However, to have confidence in this probability, we should be having sufficiently large number of instances of x ie g1 should be a sufficiently large number, statistically.\n",
        "\n",
        "For this reason, we moderate the calculated probabilities by a factor known as `confRate`. More will be the confidence in the probability if more the evidence or more the occurrences of a particular level (in a catgorical feature) among all levels.<br>\n",
        "\n",
        "For example, let a categorical feature contain three levels: level-1, level-2 and level-3. Let level-1, occur in 6 rows, level-2 occur in 5-rows but level-3 occur just in 1 row. Let `np.sum(target)` for level-1 be 2 and `np.sum(target)` for level-2 be 5. Then group probability will be as shown below. But confidence in probability calculations related to level-3 feature would be very low as its probability calculations are beased on just one ocurrence of level-3.<br>\n",
        "\n",
        "Here is an example of how we calculate probabilities:<br><br>\n",
        "`grouped = df.groupby(df['x'])`<br>\n",
        "        `prob = grouped['target'].sum()/ grouped['target'].count()`<br>\n",
        "        `confRate = np.log(grouped.count())/np.log(constant)` <br><br>\n",
        "\n",
        "Briefly, beyond certain number of occurrences of level-x, we want to flatten the importance or confRate. Below is the graph of `np.log(count)`:\n"
      ]
    },
    {
      "cell_type": "code",
      "metadata": {
        "id": "xl5HnpgyyE-c",
        "outputId": "8010882d-ddd7-4665-c0d3-88568143e897",
        "colab": {
          "base_uri": "https://localhost:8080/",
          "height": 265
        }
      },
      "source": [
        "y = np.log10(np.arange(1,9))\n",
        "plt.plot(y);"
      ],
      "execution_count": 31,
      "outputs": [
        {
          "output_type": "display_data",
          "data": {
            "image/png": "[encoded data removed]",
            "text/plain": [
              "<Figure size 432x288 with 1 Axes>"
            ]
          },
          "metadata": {
            "tags": [],
            "needs_background": "light"
          }
        }
      ]
    },
    {
      "cell_type": "markdown",
      "metadata": {
        "id": "I8r-dI06xslu"
      },
      "source": [
        "To determine appropriate values for `log(constant)`, may be a graph can be drawn between `confRate` and `log(constant)`, or `probability X confRate` vs `log(constant)` and then take a decision. In fact `log(constant)` can also be treated as a *hyperparameter*.  <br><br>\n",
        "**Data Leakage**<br>\n",
        "There is a word of caution here. Such probability calculations may result in *Data Leakage* or leaking target information into new features. But if data is very large, the derived numerical feature may actually reflect the statistics it is intended to calculate. \n",
        "\n",
        ">Table 2\n",
        "\n",
        "<table>\n",
        "<tr>\n",
        "    <th>cat_feature</th>\n",
        "    <th>target</th>\n",
        "    <th>gr. prob</th>\n",
        "    <th>Conf-level</th> \n",
        "</tr>\n",
        "<tr>\n",
        "    <td>level-1</th>\n",
        "    <td>1</td>\n",
        "    <td>2/6</td> \n",
        "    <td>high</td>\n",
        "</tr>\n",
        "<tr>\n",
        "    <td>level-2</th>\n",
        "    <td>0</td>\n",
        "    <td>3/5</td>\n",
        "    <td>high</td> \n",
        "</tr>\n",
        "<tr>\n",
        "    <td>level-1</th>\n",
        "    <td>0</td>\n",
        "    <td>2/6</td> \n",
        "    <td>high</td>\n",
        "</tr>\n",
        "<tr>\n",
        "    <td>level-1</td>\n",
        "    <td>0</td>\n",
        "    <td>2/6</td> \n",
        "    <td>high</td>\n",
        "</tr>\n",
        "<tr>\n",
        "    <td>level-2</td>\n",
        "    <td>1</td>\n",
        "    <td>3/5</td> \n",
        "    <td>high</td>\n",
        "</tr>\n",
        "<tr>\n",
        "    <td>level-1</td>\n",
        "    <td>0</td>\n",
        "    <td>2/6</td> \n",
        "    <td>high</td>\n",
        "</tr>\n",
        "<tr>\n",
        "    <td>level-2</td>\n",
        "    <td>1</td>\n",
        "    <td>3/5</td> \n",
        "    <td>high</td>\n",
        "</tr>\n",
        "<tr>\n",
        "    <td>level-2</td>\n",
        "    <td>0</td>\n",
        "    <td>3/5</td>\n",
        "    <td>high</td> \n",
        "</tr>\n",
        "<tr>\n",
        "    <td>level-2</td>\n",
        "    <td>1</td>\n",
        "    <td>3/5</td> \n",
        "    <td>high</td>\n",
        "</tr>\n",
        "<tr>\n",
        "    <td>level-1</td>\n",
        "    <td>0</td>\n",
        "    <td>2/6</td> \n",
        "    <td>high</td>\n",
        "</tr>\n",
        "<tr>\n",
        "    <td>level-1</td>\n",
        "    <td>1</td>\n",
        "    <td>2/6</td> \n",
        "    <td>high</td>\n",
        "</tr>\n",
        "<tr>\n",
        "    <td>level-3</td>\n",
        "    <td>1</td>\n",
        "    <td>1/1</td>\n",
        "    <td>**LOW**</td> \n",
        "</tr>\n",
        "</table>\n",
        "\n",
        "Here is a list of features on which we perform above operations:\n",
        "\n",
        ">Table 3\n",
        "\n",
        "sno|grouping-feature|\n",
        "-|-|\n",
        "1|ip|\n",
        "2|app|\n",
        "3|os|\n",
        "4|channel|\n",
        "5|app+channel|\n",
        "6|app+os|\n",
        "7|app+device|\n",
        "8|channel+os|\n",
        "9|channel+device|\n",
        "10|os+device|\n"
      ]
    },
    {
      "cell_type": "markdown",
      "metadata": {
        "id": "x1E7JqnEirCQ"
      },
      "source": [
        "##Read full Data\n",
        "Read either full data or sample data"
      ]
    },
    {
      "cell_type": "markdown",
      "metadata": {
        "id": "yVR6QeHyqDFc"
      },
      "source": [
        "### Either, Read complete file\n",
        "We read here directly from the original training data file. As data is large, we sample it.\n",
        "\n",
        "To read this data and save memory, please see this [kernel](https://www.kaggle.com/nuhsikander/lgbm-new-features-corrected)"
      ]
    },
    {
      "cell_type": "code",
      "metadata": {
        "colab": {
          "base_uri": "https://localhost:8080/"
        },
        "id": "MyVHzzXjkWfv",
        "outputId": "95bddba1-bddd-46cb-b191-9083d6548d2c"
      },
      "source": [
        "# From our experience of earlier reading of data\n",
        "#  we know that data types of some of the features.\n",
        "#   We use those data-types leading to almost half \n",
        "#    of memory-usage\n",
        "dtypes = {\n",
        "        'ip'            : 'uint32',\n",
        "        'app'           : 'uint16',\n",
        "        'device'        : 'uint16',\n",
        "        'os'            : 'uint16',\n",
        "        'channel'       : 'uint16',\n",
        "        'is_attributed' : 'uint8',\n",
        "        'click_id'      : 'uint32'\n",
        "        }\n",
        "\n",
        "print('load train...')\n",
        "\n",
        "\n",
        "\n",
        "# 2.0 Read a fraction of data\n",
        "total_lines = 184903891 # 18,49,03,891\n",
        "read_lines = 1000000    # (10 lakh) Reduce it if less RAM\n",
        "\n",
        "# 2.1 Read randomly 'p' fraction of files\n",
        "#     Ref: https://stackoverflow.com/a/48589768\n",
        "\n",
        "p = read_lines/total_lines  # fraction of lines to read\n",
        "\n",
        "# 2.1.1 How to pick up random rows from hard-disk\n",
        "#       without first loading the complete file in RAM\n",
        "#       Toss a coin:\n",
        "#           At each row, toss a biased-coin: 60%->Head, 40%->tail\n",
        "#           If tail comes, select the row else not.\n",
        "#           Toss a coin: random.random()\n",
        "#           Head occurs if value > 0.6 else it is tail\n",
        "#\n",
        "#       We do not toss the coin for header row. Keep the header\n",
        "start = time.time()\n",
        "train = pd.read_csv(\n",
        "                     path + \"train.csv.zip\",  # Not reading test.csv.zip\n",
        "                     header=0,  # First row is header-row\n",
        "                                # 'and' operator returns True if both values are True\n",
        "                                #  random.random() returns values between (0,1)\n",
        "                                #  No of rows skipped will be around 60% of total\n",
        "                      skiprows=lambda i: (i >0 ) and (np.random.random() > p),    # (i>0) implies skip first header row\n",
        "                      dtype=dtypes,\n",
        "                      # We read all columns. Here are the column-names\n",
        "                      #  in the sequence they occur in the train data\n",
        "                      usecols=['ip','app','device','os', 'channel', 'click_time', 'attributed_time', 'is_attributed']\n",
        "                    )\n",
        "end = time.time()\n",
        "(end-start)/60      # 3 to 4 minutes\n"
      ],
      "execution_count": 5,
      "outputs": [
        {
          "output_type": "stream",
          "text": [
            "load train...\n"
          ],
          "name": "stdout"
        },
        {
          "output_type": "execute_result",
          "data": {
            "text/plain": [
              "3.588112711906433"
            ]
          },
          "metadata": {
            "tags": []
          },
          "execution_count": 5
        }
      ]
    },
    {
      "cell_type": "code",
      "metadata": {
        "id": "SitmPDrukWfw"
      },
      "source": [
        "# 2.1.2 Store sampled data to a file on \n",
        "#         Google drive for later use\n",
        "pathToSave = \"/root/\" \n",
        "filePath = pathToSave + \"talkingData_sample.csv.zip\"\n",
        "\n",
        "# 2.1.3 But first delete existing file.\n",
        "#        The following will NOT work.\n",
        "#          python variables are not available in shell\n",
        "# ! rm -f filePath\n",
        "\n",
        "# 2.1.4 This will work:\n",
        "os.remove(filePath)\n",
        "\n",
        "# 2.1.5 Check if deleted\n",
        "os.listdir(pathToSave)\n",
        "#! rm -f /root/talkingData_sample.csv.zip"
      ],
      "execution_count": null,
      "outputs": []
    },
    {
      "cell_type": "code",
      "metadata": {
        "colab": {
          "base_uri": "https://localhost:8080/"
        },
        "id": "JZfCcSqNAIVc",
        "outputId": "18e12fa9-a92e-4641-d6aa-176fdee6cf9c"
      },
      "source": [
        "# 2.2 Save the sample data into VM only\n",
        "start = time.time()\n",
        "train.to_csv(filePath, compression = \"zip\", index = False)\n",
        "end = time.time()\n",
        "(end-start)/60     # 3 minutes"
      ],
      "execution_count": 7,
      "outputs": [
        {
          "output_type": "execute_result",
          "data": {
            "text/plain": [
              "0.08482751051584879"
            ]
          },
          "metadata": {
            "tags": []
          },
          "execution_count": 7
        }
      ]
    },
    {
      "cell_type": "code",
      "metadata": {
        "colab": {
          "base_uri": "https://localhost:8080/"
        },
        "id": "uT8WPrBB0sd3",
        "outputId": "44bfc123-9902-47c1-d932-f93834191f26"
      },
      "source": [
        "# 2.3 Check saved file \n",
        "#       and get size of saved file \n",
        "  \n",
        "os.stat(filePath).st_size/1000000.0  # (305 MB)"
      ],
      "execution_count": 8,
      "outputs": [
        {
          "output_type": "execute_result",
          "data": {
            "text/plain": [
              "8.74913"
            ]
          },
          "metadata": {
            "tags": []
          },
          "execution_count": 8
        }
      ]
    },
    {
      "cell_type": "code",
      "metadata": {
        "colab": {
          "base_uri": "https://localhost:8080/",
          "height": 36
        },
        "id": "U8WEsNgB0Ax_",
        "outputId": "ac558150-5ebe-447d-9688-525d597fe9e8"
      },
      "source": [
        "# 2.4 Copy saved sample file from VM to Google Drive\n",
        "from shutil import copyfile\n",
        "pathToGoogleDrive = \"/content/drive/MyDrive/Colab_data_files/talkingData/\" + \"talkingData_sample.csv.zip\"\n",
        "copyfile(filePath, pathToGoogleDrive)\n",
        "print(os.stat(pathToGoogleDrive).st_size/1000000.0)  # (305 MB)"
      ],
      "execution_count": 9,
      "outputs": [
        {
          "output_type": "execute_result",
          "data": {
            "application/vnd.google.colaboratory.intrinsic+json": {
              "type": "string"
            },
            "text/plain": [
              "'/content/drive/MyDrive/Colab_data_files/talkingData/talkingData_sample.csv.zip'"
            ]
          },
          "metadata": {
            "tags": []
          },
          "execution_count": 9
        },
        {
          "output_type": "stream",
          "text": [
            "8.74913\n"
          ],
          "name": "stdout"
        }
      ]
    },
    {
      "cell_type": "markdown",
      "metadata": {
        "id": "aMp8MiDiq-Ah"
      },
      "source": [
        "## Read sampled saved data\n",
        "Read already saved sampled data from Google drive"
      ]
    },
    {
      "cell_type": "code",
      "metadata": {
        "id": "UcFlzO1hrDFs",
        "colab": {
          "base_uri": "https://localhost:8080/"
        },
        "outputId": "8119b83e-edb4-4cc3-9484-d2fce5d7f026"
      },
      "source": [
        "# 3.0 Path to saved sample data in Google Drive\n",
        "pathToSavedData = \"/content/drive/MyDrive/Colab_data_files/talkingData/\" + \"talkingData_sample.csv.zip\"\n",
        "\n",
        "\n",
        "# 3.0.1 Our dtypes\n",
        "dtypes = {\n",
        "        'ip'            : 'uint32',\n",
        "        'app'           : 'uint16',\n",
        "        'device'        : 'uint16',\n",
        "        'os'            : 'uint16',\n",
        "        'channel'       : 'uint16',\n",
        "        'is_attributed' : 'uint8',\n",
        "        'click_id'      : 'uint32'\n",
        "        }\n",
        "\n",
        "\n",
        "\n",
        "# 3.0.2 Read the sample file\n",
        "start = time.time()\n",
        "train = pd.read_csv(\n",
        "                     pathToSavedData,\n",
        "                     dtype = dtypes,\n",
        "                     header=0,  # First row is header-row\n",
        "                    )\n",
        "end = time.time()\n",
        "(end-start)/60     # 3 minutes\n",
        "\n",
        "train.dtypes"
      ],
      "execution_count": 99,
      "outputs": [
        {
          "output_type": "execute_result",
          "data": {
            "text/plain": [
              "0.016713956991831463"
            ]
          },
          "metadata": {
            "tags": []
          },
          "execution_count": 99
        },
        {
          "output_type": "execute_result",
          "data": {
            "text/plain": [
              "ip                 uint32\n",
              "app                uint16\n",
              "device             uint16\n",
              "os                 uint16\n",
              "channel            uint16\n",
              "click_time         object\n",
              "attributed_time    object\n",
              "is_attributed       uint8\n",
              "dtype: object"
            ]
          },
          "metadata": {
            "tags": []
          },
          "execution_count": 99
        }
      ]
    },
    {
      "cell_type": "markdown",
      "metadata": {
        "id": "zOawk74FiyDJ"
      },
      "source": [
        "##Explore data"
      ]
    },
    {
      "cell_type": "code",
      "metadata": {
        "colab": {
          "base_uri": "https://localhost:8080/",
          "height": 0
        },
        "id": "pllVXXpOkWfx",
        "outputId": "7cbe94af-121d-42f6-a3fb-83b16cc98a7b"
      },
      "source": [
        "# 3.1\n",
        "print(train.shape)   # (999189, 8)\n",
        "print()\n",
        "train.head(3)\n",
        "\n",
        "# 3.2\n",
        "print(\"---dtypes----\")\n",
        "print(train.dtypes) # ip int64,app int64,device int64,os int64,channel int64,\n",
        "                    # click_time object,attributed_time object,is_attributed int64\n",
        "\n",
        "# 3.3 Let us see distribution of NULLS\n",
        "print(\"---Nulls----\")\n",
        "print(train.isnull().sum())      # 299084 nulls in attributed_time\n",
        "\n",
        "# 3.4 Transform 'click_time' to datetime\n",
        "train['click_time'] = pd.to_datetime(train['click_time'])"
      ],
      "execution_count": 100,
      "outputs": [
        {
          "output_type": "stream",
          "text": [
            "(999189, 8)\n",
            "\n"
          ],
          "name": "stdout"
        },
        {
          "output_type": "execute_result",
          "data": {
            "text/html": [
              "<div>\n",
              "<style scoped>\n",
              "    .dataframe tbody tr th:only-of-type {\n",
              "        vertical-align: middle;\n",
              "    }\n",
              "\n",
              "    .dataframe tbody tr th {\n",
              "        vertical-align: top;\n",
              "    }\n",
              "\n",
              "    .dataframe thead th {\n",
              "        text-align: right;\n",
              "    }\n",
              "</style>\n",
              "<table border=\"1\" class=\"dataframe\">\n",
              "  <thead>\n",
              "    <tr style=\"text-align: right;\">\n",
              "      <th></th>\n",
              "      <th>ip</th>\n",
              "      <th>app</th>\n",
              "      <th>device</th>\n",
              "      <th>os</th>\n",
              "      <th>channel</th>\n",
              "      <th>click_time</th>\n",
              "      <th>attributed_time</th>\n",
              "      <th>is_attributed</th>\n",
              "    </tr>\n",
              "  </thead>\n",
              "  <tbody>\n",
              "    <tr>\n",
              "      <th>0</th>\n",
              "      <td>49305</td>\n",
              "      <td>3</td>\n",
              "      <td>1</td>\n",
              "      <td>25</td>\n",
              "      <td>379</td>\n",
              "      <td>2017-11-06 15:50:26</td>\n",
              "      <td>NaN</td>\n",
              "      <td>0</td>\n",
              "    </tr>\n",
              "    <tr>\n",
              "      <th>1</th>\n",
              "      <td>117898</td>\n",
              "      <td>2</td>\n",
              "      <td>2</td>\n",
              "      <td>36</td>\n",
              "      <td>205</td>\n",
              "      <td>2017-11-06 16:00:00</td>\n",
              "      <td>NaN</td>\n",
              "      <td>0</td>\n",
              "    </tr>\n",
              "    <tr>\n",
              "      <th>2</th>\n",
              "      <td>60235</td>\n",
              "      <td>2</td>\n",
              "      <td>1</td>\n",
              "      <td>19</td>\n",
              "      <td>205</td>\n",
              "      <td>2017-11-06 16:00:01</td>\n",
              "      <td>NaN</td>\n",
              "      <td>0</td>\n",
              "    </tr>\n",
              "  </tbody>\n",
              "</table>\n",
              "</div>"
            ],
            "text/plain": [
              "       ip  app  device  ...           click_time  attributed_time is_attributed\n",
              "0   49305    3       1  ...  2017-11-06 15:50:26              NaN             0\n",
              "1  117898    2       2  ...  2017-11-06 16:00:00              NaN             0\n",
              "2   60235    2       1  ...  2017-11-06 16:00:01              NaN             0\n",
              "\n",
              "[3 rows x 8 columns]"
            ]
          },
          "metadata": {
            "tags": []
          },
          "execution_count": 100
        },
        {
          "output_type": "stream",
          "text": [
            "---dtypes----\n",
            "ip                 uint32\n",
            "app                uint16\n",
            "device             uint16\n",
            "os                 uint16\n",
            "channel            uint16\n",
            "click_time         object\n",
            "attributed_time    object\n",
            "is_attributed       uint8\n",
            "dtype: object\n",
            "---Nulls----\n",
            "ip                      0\n",
            "app                     0\n",
            "device                  0\n",
            "os                      0\n",
            "channel                 0\n",
            "click_time              0\n",
            "attributed_time    996669\n",
            "is_attributed           0\n",
            "dtype: int64\n"
          ],
          "name": "stdout"
        }
      ]
    },
    {
      "cell_type": "code",
      "metadata": {
        "colab": {
          "base_uri": "https://localhost:8080/",
          "height": 0
        },
        "id": "CxMopioIsd17",
        "outputId": "a9f4e63d-70ad-4979-90e6-a1e12d78c0ba"
      },
      "source": [
        "# 3.5 Derive some date components\n",
        "train['day']    = train['click_time'].dt.day.astype('uint8')\n",
        "train['hour']   = train['click_time'].dt.hour.astype('uint8')\n",
        "train['minute'] = train['click_time'].dt.minute.astype('uint8')\n",
        "train['second'] = train['click_time'].dt.second.astype('uint8')\n",
        "train.head(3)\n",
        "train.shape   # (999280, 12)"
      ],
      "execution_count": 101,
      "outputs": [
        {
          "output_type": "execute_result",
          "data": {
            "text/html": [
              "<div>\n",
              "<style scoped>\n",
              "    .dataframe tbody tr th:only-of-type {\n",
              "        vertical-align: middle;\n",
              "    }\n",
              "\n",
              "    .dataframe tbody tr th {\n",
              "        vertical-align: top;\n",
              "    }\n",
              "\n",
              "    .dataframe thead th {\n",
              "        text-align: right;\n",
              "    }\n",
              "</style>\n",
              "<table border=\"1\" class=\"dataframe\">\n",
              "  <thead>\n",
              "    <tr style=\"text-align: right;\">\n",
              "      <th></th>\n",
              "      <th>ip</th>\n",
              "      <th>app</th>\n",
              "      <th>device</th>\n",
              "      <th>os</th>\n",
              "      <th>channel</th>\n",
              "      <th>click_time</th>\n",
              "      <th>attributed_time</th>\n",
              "      <th>is_attributed</th>\n",
              "      <th>day</th>\n",
              "      <th>hour</th>\n",
              "      <th>minute</th>\n",
              "      <th>second</th>\n",
              "    </tr>\n",
              "  </thead>\n",
              "  <tbody>\n",
              "    <tr>\n",
              "      <th>0</th>\n",
              "      <td>49305</td>\n",
              "      <td>3</td>\n",
              "      <td>1</td>\n",
              "      <td>25</td>\n",
              "      <td>379</td>\n",
              "      <td>2017-11-06 15:50:26</td>\n",
              "      <td>NaN</td>\n",
              "      <td>0</td>\n",
              "      <td>6</td>\n",
              "      <td>15</td>\n",
              "      <td>50</td>\n",
              "      <td>26</td>\n",
              "    </tr>\n",
              "    <tr>\n",
              "      <th>1</th>\n",
              "      <td>117898</td>\n",
              "      <td>2</td>\n",
              "      <td>2</td>\n",
              "      <td>36</td>\n",
              "      <td>205</td>\n",
              "      <td>2017-11-06 16:00:00</td>\n",
              "      <td>NaN</td>\n",
              "      <td>0</td>\n",
              "      <td>6</td>\n",
              "      <td>16</td>\n",
              "      <td>0</td>\n",
              "      <td>0</td>\n",
              "    </tr>\n",
              "    <tr>\n",
              "      <th>2</th>\n",
              "      <td>60235</td>\n",
              "      <td>2</td>\n",
              "      <td>1</td>\n",
              "      <td>19</td>\n",
              "      <td>205</td>\n",
              "      <td>2017-11-06 16:00:01</td>\n",
              "      <td>NaN</td>\n",
              "      <td>0</td>\n",
              "      <td>6</td>\n",
              "      <td>16</td>\n",
              "      <td>0</td>\n",
              "      <td>1</td>\n",
              "    </tr>\n",
              "  </tbody>\n",
              "</table>\n",
              "</div>"
            ],
            "text/plain": [
              "       ip  app  device  os  channel  ... is_attributed day  hour  minute  second\n",
              "0   49305    3       1  25      379  ...             0   6    15      50      26\n",
              "1  117898    2       2  36      205  ...             0   6    16       0       0\n",
              "2   60235    2       1  19      205  ...             0   6    16       0       1\n",
              "\n",
              "[3 rows x 12 columns]"
            ]
          },
          "metadata": {
            "tags": []
          },
          "execution_count": 101
        },
        {
          "output_type": "execute_result",
          "data": {
            "text/plain": [
              "(999189, 12)"
            ]
          },
          "metadata": {
            "tags": []
          },
          "execution_count": 101
        }
      ]
    },
    {
      "cell_type": "markdown",
      "metadata": {
        "id": "uoNN0aQ4k61f"
      },
      "source": [
        "##Relationship of categorical features with target (Expts)\n",
        "We first perform some experiments to learn how to go about developing relationship of categorical features with the target"
      ]
    },
    {
      "cell_type": "markdown",
      "metadata": {
        "id": "iUQEN-P9vaRe"
      },
      "source": [
        "### Joining elements of a list"
      ]
    },
    {
      "cell_type": "code",
      "metadata": {
        "colab": {
          "base_uri": "https://localhost:8080/",
          "height": 36
        },
        "id": "P_bXSjfXOJoq",
        "outputId": "358e4c47-d461-4ab9-bbc1-b54c3576258b"
      },
      "source": [
        "# 4.0 Use join() to concatenate elements of a list\n",
        "#     We use this to easily create new feature-names\n",
        "\n",
        "# 4.1 The join() string method returns a\n",
        "#      string by joining all the elements of\n",
        "#       an iterable, separated by a string separator.\n",
        "\n",
        "# 4.1.1\n",
        "list1 = ['a', 'b', 'c']\n",
        "tuple1 = (\"a\", \"b\", \"c\")\n",
        "ss = \"uvxyz\"\n",
        "\n",
        "# 4.1.2 Join the elements of containers now\n",
        "'_'.join(list1)   # Elements of list are joint by string: a_b_c\n",
        "'_'.join(tuple1)  # a_b_c\n",
        "'_'.join(ss)      # u_v_x_y_z"
      ],
      "execution_count": 13,
      "outputs": [
        {
          "output_type": "execute_result",
          "data": {
            "application/vnd.google.colaboratory.intrinsic+json": {
              "type": "string"
            },
            "text/plain": [
              "'a_b_c'"
            ]
          },
          "metadata": {
            "tags": []
          },
          "execution_count": 13
        },
        {
          "output_type": "execute_result",
          "data": {
            "application/vnd.google.colaboratory.intrinsic+json": {
              "type": "string"
            },
            "text/plain": [
              "'a_b_c'"
            ]
          },
          "metadata": {
            "tags": []
          },
          "execution_count": 13
        },
        {
          "output_type": "execute_result",
          "data": {
            "application/vnd.google.colaboratory.intrinsic+json": {
              "type": "string"
            },
            "text/plain": [
              "'u_v_x_y_z'"
            ]
          },
          "metadata": {
            "tags": []
          },
          "execution_count": 13
        }
      ]
    },
    {
      "cell_type": "code",
      "metadata": {
        "colab": {
          "base_uri": "https://localhost:8080/"
        },
        "id": "vWAkJqJGs4_n",
        "outputId": "760b0d83-68f7-4dba-9d84-4b704bc0bd2a"
      },
      "source": [
        "# 4.2 Our list of lists.\n",
        "#     We will perform grouping on each one of the inner lists:\n",
        "\n",
        "ATTRIBUTION_CATEGORIES = [ ['ip'], ['app'], ['device'], ['os'], ['channel'], ['app', 'channel'],\n",
        "                           ['app', 'os'],['app', 'device'], ['channel', 'os'],\n",
        "                           ['channel', 'device'], ['os', 'device'] ]\n",
        "\n",
        "# Same as above but in a more planned way:\n",
        "ATTRIBUTION_CATEGORIES = [        \n",
        "    # V1 Features #\n",
        "    ###############\n",
        "    ['ip'], ['app'], ['device'], ['os'], ['channel'],    # 5\n",
        "    \n",
        "    # V2 Features #\n",
        "    ###############\n",
        "    ['app', 'channel'],    # name \"app_channel\" \n",
        "    ['app', 'os'],         # name: \"app_os\"\n",
        "    ['app', 'device'],     # name: \"app_device\" \n",
        "    \n",
        "    # V3 Features #\n",
        "    ###############\n",
        "    ['channel', 'os'],     # name: \"channel_os\"\n",
        "    ['channel', 'device'], # name: \"channel_device\"\n",
        "    ['os', 'device']       # name: \"os_device\"\n",
        "]\n",
        "\n",
        "# 4.2.1 Join elements of each container, one by one\n",
        "#       Our new features will have these names:\n",
        "\n",
        "feature_names = []\n",
        "for elements in ATTRIBUTION_CATEGORIES:\n",
        "    new_feature = '_'.join(elements)+'_confRate' \n",
        "    feature_names.append(new_feature)\n",
        "\n",
        "print (feature_names)    "
      ],
      "execution_count": 32,
      "outputs": [
        {
          "output_type": "stream",
          "text": [
            "['ip_confRate', 'app_confRate', 'device_confRate', 'os_confRate', 'channel_confRate', 'app_channel_confRate', 'app_os_confRate', 'app_device_confRate', 'channel_os_confRate', 'channel_device_confRate', 'os_device_confRate']\n"
          ],
          "name": "stdout"
        }
      ]
    },
    {
      "cell_type": "markdown",
      "metadata": {
        "id": "nRfwW1QCvgFI"
      },
      "source": [
        "### Grouping"
      ]
    },
    {
      "cell_type": "code",
      "metadata": {
        "id": "GrWoILlbbUpH",
        "colab": {
          "base_uri": "https://localhost:8080/"
        },
        "outputId": "8b78b6e3-d500-4bde-e410-32235703d7a2"
      },
      "source": [
        "# 4.3 groupby()\n",
        "\n",
        "# 4.3.1 Find frequency of 'is_attributed' for\n",
        "#       each unique value in column(s)\n",
        "\n",
        "freqs = {}\n",
        "cols = ['app', 'channel']\n",
        "\n",
        "# 4.3.2 New feature name:\n",
        "\n",
        "new_feature = '_'.join(cols)+'_confRate'    \n",
        "    \n",
        "# 4.3.3 Perform the groupby:\n",
        "\n",
        "grouped = train.groupby(cols)   # For example: ['app', 'channel']\n",
        "    \n",
        "# 4.3.4 Each group size:\n",
        "\n",
        "group_sizes = grouped.size()\n",
        "\n",
        "# 4.3.5 How many groups:\n",
        "\n",
        "print(group_sizes.shape)       # (638,)\n",
        "\n",
        "# 4.3.5 Have a look at some groups:\n",
        "group_sizes[:5]"
      ],
      "execution_count": 15,
      "outputs": [
        {
          "output_type": "stream",
          "text": [
            "(667,)\n"
          ],
          "name": "stdout"
        },
        {
          "output_type": "execute_result",
          "data": {
            "text/plain": [
              "app  channel\n",
              "0    101          19\n",
              "1    13          605\n",
              "     17         1099\n",
              "     18           86\n",
              "     24          364\n",
              "dtype: int64"
            ]
          },
          "metadata": {
            "tags": []
          },
          "execution_count": 15
        }
      ]
    },
    {
      "cell_type": "markdown",
      "metadata": {
        "id": "GCwBgbeVvkaX"
      },
      "source": [
        "### Confidence rate calculation"
      ]
    },
    {
      "cell_type": "code",
      "metadata": {
        "colab": {
          "base_uri": "https://localhost:8080/"
        },
        "id": "uGzetYfkvjrB",
        "outputId": "230daa87-240b-417a-a1c9-3579abdc5a8f"
      },
      "source": [
        "# 5.0\n",
        "x1 = grouped['is_attributed'].sum()         # How many are labeled as 1's per group\n",
        "x1[:5]\n",
        "\n",
        "# 5.1\n",
        "x2 = grouped['is_attributed'].count()       # Size of each group. Same as group_sizes\n",
        "x2[:5]"
      ],
      "execution_count": 70,
      "outputs": [
        {
          "output_type": "execute_result",
          "data": {
            "text/plain": [
              "app  channel\n",
              "0    101        4\n",
              "1    13         0\n",
              "     17         0\n",
              "     18         0\n",
              "     24         0\n",
              "Name: is_attributed, dtype: int64"
            ]
          },
          "metadata": {
            "tags": []
          },
          "execution_count": 70
        },
        {
          "output_type": "execute_result",
          "data": {
            "text/plain": [
              "app  channel\n",
              "0    101          19\n",
              "1    13          605\n",
              "     17         1099\n",
              "     18           86\n",
              "     24          364\n",
              "Name: is_attributed, dtype: int64"
            ]
          },
          "metadata": {
            "tags": []
          },
          "execution_count": 70
        }
      ]
    },
    {
      "cell_type": "code",
      "metadata": {
        "colab": {
          "base_uri": "https://localhost:8080/"
        },
        "id": "H_73tgkDv_Oq",
        "outputId": "bebefb2d-7944-4860-e3f5-12c854a8d1fd"
      },
      "source": [
        "# 5.2 Group-wise importance or probability\n",
        "probability = x1/x2\n",
        "probability[:5]"
      ],
      "execution_count": 71,
      "outputs": [
        {
          "output_type": "execute_result",
          "data": {
            "text/plain": [
              "app  channel\n",
              "0    101        0.210526\n",
              "1    13         0.000000\n",
              "     17         0.000000\n",
              "     18         0.000000\n",
              "     24         0.000000\n",
              "Name: is_attributed, dtype: float64"
            ]
          },
          "metadata": {
            "tags": []
          },
          "execution_count": 71
        }
      ]
    },
    {
      "cell_type": "code",
      "metadata": {
        "id": "Yhh-nBep7Jac"
      },
      "source": [
        "# What should be the size of log(constant)\n",
        "max_value = []\n",
        "min_value = []\n",
        "for i in ATTRIBUTION_CATEGORIES:\n",
        "  grpd = train.groupby(i)\n",
        "  ct = grpd['is_attributed'].count()\n",
        "  mt = ct.max()\n",
        "  mi = ct.min()\n",
        "  max_value.append(mt)  \n",
        "  min_value.append(mi)\n",
        "\n",
        "print(max_value)   # [6726, 182184, 942262, 238634, 81008]\n",
        "print(min_value)   # [1, 1, 1, 1, 1, 1, 1, 1, 1, 1, 1]  "
      ],
      "execution_count": null,
      "outputs": []
    },
    {
      "cell_type": "code",
      "metadata": {
        "id": "tA8Qu-MLC6YZ"
      },
      "source": [
        "# 5.3 Group-wise confidence in probabilites\n",
        "\n",
        "       # Higher the total occurrences or group-size (ie group count),\n",
        "        #  per-group, more the confidence in probability calculations\n",
        "        #   But below certain number of counts, confidence in probability\n",
        "        #    should be low. \n",
        "        #    That is confidence is proportional to counts\n",
        "        #      But better use log(counts) so that after \n",
        "        #       certain threshold of high-counts, probability\n",
        "        #        does not get affected by still higher counts. After all\n",
        "        #         count of 10000 should be same as count of 10500. So\n",
        "        #          use log(group_sizes). Further, results should\n",
        "        #            be normalized by dividing by a constant (log(100000))\n",
        "        #         \n",
        "log_group = np.log(100000)\n",
        "conf = np.log(x2.astype('float')) / log_group\n",
        "conf[:5]"
      ],
      "execution_count": null,
      "outputs": []
    },
    {
      "cell_type": "code",
      "metadata": {
        "id": "bYAAJvUvAXJA",
        "colab": {
          "base_uri": "https://localhost:8080/",
          "height": 265
        },
        "outputId": "57f8b65d-b7f8-4217-d0dc-9569ab41d709"
      },
      "source": [
        "# 5.3.1 Plot of log(count)\n",
        "#       For low values of count() it \n",
        "#        tends to be zero and for large values\n",
        "#         of count() it tries to suppress importance\n",
        "\n",
        "import matplotlib.pyplot as plt\n",
        "t = np.linspace(1, 1000, 100)\n",
        "_=plt.plot(t, np.log(t))\n",
        "\n"
      ],
      "execution_count": 73,
      "outputs": [
        {
          "output_type": "display_data",
          "data": {
            "image/png": "[encoded data removed]",
            "text/plain": [
              "<Figure size 432x288 with 1 Axes>"
            ]
          },
          "metadata": {
            "tags": [],
            "needs_background": "light"
          }
        }
      ]
    },
    {
      "cell_type": "code",
      "metadata": {
        "id": "Hw6q1yQaBbSl",
        "colab": {
          "base_uri": "https://localhost:8080/",
          "height": 265
        },
        "outputId": "3b44af87-8049-4762-9a57-da267719e2a1"
      },
      "source": [
        "# 5.3.2\n",
        "t = np.linspace(1, 10, 10)\n",
        "_=plt.plot(t, np.log(t))"
      ],
      "execution_count": 74,
      "outputs": [
        {
          "output_type": "display_data",
          "data": {
            "image/png": "[encoded data removed]",
            "text/plain": [
              "<Figure size 432x288 with 1 Axes>"
            ]
          },
          "metadata": {
            "tags": [],
            "needs_background": "light"
          }
        }
      ]
    },
    {
      "cell_type": "code",
      "metadata": {
        "id": "TfrSOR2-3kCb"
      },
      "source": [
        "# 5.4 Rate calculation function\n",
        "#     apply() calls this function and passes to it\n",
        "#     just one group (or one dataframe subset)\n",
        "#     So, 'x' is that group or DataFrame.\n",
        "#     Therefore, x.sum(), is a scalar\n",
        "#     so also x.count().\n",
        "\n",
        "def rate_calculation(x):\n",
        "        \"\"\"Calculate the attributed rate. Scale by confidence\"\"\"\n",
        "        # x.sum() is a scalar so also x.count() \n",
        "        probability = x.sum() / float(x.count())\n",
        "        conf = np.min([1, np.log(x.count()) / log_group])\n",
        "        return probability * conf\n"
      ],
      "execution_count": 75,
      "outputs": []
    },
    {
      "cell_type": "code",
      "metadata": {
        "colab": {
          "base_uri": "https://localhost:8080/",
          "height": 424
        },
        "id": "Hy_Ymc9N5W0S",
        "outputId": "15238ff4-3759-4096-d44e-9276dcb652bc"
      },
      "source": [
        "# 5.5 Here are the results\n",
        "grouped['is_attributed']. \\\n",
        "            apply(rate_calculation). \\\n",
        "            reset_index()"
      ],
      "execution_count": 76,
      "outputs": [
        {
          "output_type": "execute_result",
          "data": {
            "text/html": [
              "<div>\n",
              "<style scoped>\n",
              "    .dataframe tbody tr th:only-of-type {\n",
              "        vertical-align: middle;\n",
              "    }\n",
              "\n",
              "    .dataframe tbody tr th {\n",
              "        vertical-align: top;\n",
              "    }\n",
              "\n",
              "    .dataframe thead th {\n",
              "        text-align: right;\n",
              "    }\n",
              "</style>\n",
              "<table border=\"1\" class=\"dataframe\">\n",
              "  <thead>\n",
              "    <tr style=\"text-align: right;\">\n",
              "      <th></th>\n",
              "      <th>app</th>\n",
              "      <th>channel</th>\n",
              "      <th>is_attributed</th>\n",
              "    </tr>\n",
              "  </thead>\n",
              "  <tbody>\n",
              "    <tr>\n",
              "      <th>0</th>\n",
              "      <td>0</td>\n",
              "      <td>101</td>\n",
              "      <td>0.053842</td>\n",
              "    </tr>\n",
              "    <tr>\n",
              "      <th>1</th>\n",
              "      <td>1</td>\n",
              "      <td>13</td>\n",
              "      <td>0.000000</td>\n",
              "    </tr>\n",
              "    <tr>\n",
              "      <th>2</th>\n",
              "      <td>1</td>\n",
              "      <td>17</td>\n",
              "      <td>0.000000</td>\n",
              "    </tr>\n",
              "    <tr>\n",
              "      <th>3</th>\n",
              "      <td>1</td>\n",
              "      <td>18</td>\n",
              "      <td>0.000000</td>\n",
              "    </tr>\n",
              "    <tr>\n",
              "      <th>4</th>\n",
              "      <td>1</td>\n",
              "      <td>24</td>\n",
              "      <td>0.000000</td>\n",
              "    </tr>\n",
              "    <tr>\n",
              "      <th>...</th>\n",
              "      <td>...</td>\n",
              "      <td>...</td>\n",
              "      <td>...</td>\n",
              "    </tr>\n",
              "    <tr>\n",
              "      <th>662</th>\n",
              "      <td>549</td>\n",
              "      <td>347</td>\n",
              "      <td>0.000000</td>\n",
              "    </tr>\n",
              "    <tr>\n",
              "      <th>663</th>\n",
              "      <td>556</td>\n",
              "      <td>347</td>\n",
              "      <td>0.000000</td>\n",
              "    </tr>\n",
              "    <tr>\n",
              "      <th>664</th>\n",
              "      <td>617</td>\n",
              "      <td>347</td>\n",
              "      <td>0.000000</td>\n",
              "    </tr>\n",
              "    <tr>\n",
              "      <th>665</th>\n",
              "      <td>633</td>\n",
              "      <td>101</td>\n",
              "      <td>0.000000</td>\n",
              "    </tr>\n",
              "    <tr>\n",
              "      <th>666</th>\n",
              "      <td>718</td>\n",
              "      <td>347</td>\n",
              "      <td>0.000000</td>\n",
              "    </tr>\n",
              "  </tbody>\n",
              "</table>\n",
              "<p>667 rows × 3 columns</p>\n",
              "</div>"
            ],
            "text/plain": [
              "     app  channel  is_attributed\n",
              "0      0      101       0.053842\n",
              "1      1       13       0.000000\n",
              "2      1       17       0.000000\n",
              "3      1       18       0.000000\n",
              "4      1       24       0.000000\n",
              "..   ...      ...            ...\n",
              "662  549      347       0.000000\n",
              "663  556      347       0.000000\n",
              "664  617      347       0.000000\n",
              "665  633      101       0.000000\n",
              "666  718      347       0.000000\n",
              "\n",
              "[667 rows x 3 columns]"
            ]
          },
          "metadata": {
            "tags": []
          },
          "execution_count": 76
        }
      ]
    },
    {
      "cell_type": "code",
      "metadata": {
        "colab": {
          "base_uri": "https://localhost:8080/",
          "height": 424
        },
        "id": "dG7MxS0e7_jM",
        "outputId": "6a7839bf-c207-4885-ffdd-4290547ed989"
      },
      "source": [
        "# 5.5 Here are the results\n",
        "cols = ['app', 'channel']\n",
        "\n",
        "# 5.6\n",
        "new_feature = 'appchannelConfRate'\n",
        "\n",
        "# 5.7\n",
        "grouped['is_attributed']. \\\n",
        "            apply(rate_calculation). \\\n",
        "            reset_index(). \\\n",
        "            rename( \n",
        "                    index=str,\n",
        "                    columns={'is_attributed': new_feature}\n",
        "                   )"
      ],
      "execution_count": 81,
      "outputs": [
        {
          "output_type": "execute_result",
          "data": {
            "text/html": [
              "<div>\n",
              "<style scoped>\n",
              "    .dataframe tbody tr th:only-of-type {\n",
              "        vertical-align: middle;\n",
              "    }\n",
              "\n",
              "    .dataframe tbody tr th {\n",
              "        vertical-align: top;\n",
              "    }\n",
              "\n",
              "    .dataframe thead th {\n",
              "        text-align: right;\n",
              "    }\n",
              "</style>\n",
              "<table border=\"1\" class=\"dataframe\">\n",
              "  <thead>\n",
              "    <tr style=\"text-align: right;\">\n",
              "      <th></th>\n",
              "      <th>app</th>\n",
              "      <th>channel</th>\n",
              "      <th>appchannelConfRate</th>\n",
              "    </tr>\n",
              "  </thead>\n",
              "  <tbody>\n",
              "    <tr>\n",
              "      <th>0</th>\n",
              "      <td>0</td>\n",
              "      <td>101</td>\n",
              "      <td>0.053842</td>\n",
              "    </tr>\n",
              "    <tr>\n",
              "      <th>1</th>\n",
              "      <td>1</td>\n",
              "      <td>13</td>\n",
              "      <td>0.000000</td>\n",
              "    </tr>\n",
              "    <tr>\n",
              "      <th>2</th>\n",
              "      <td>1</td>\n",
              "      <td>17</td>\n",
              "      <td>0.000000</td>\n",
              "    </tr>\n",
              "    <tr>\n",
              "      <th>3</th>\n",
              "      <td>1</td>\n",
              "      <td>18</td>\n",
              "      <td>0.000000</td>\n",
              "    </tr>\n",
              "    <tr>\n",
              "      <th>4</th>\n",
              "      <td>1</td>\n",
              "      <td>24</td>\n",
              "      <td>0.000000</td>\n",
              "    </tr>\n",
              "    <tr>\n",
              "      <th>...</th>\n",
              "      <td>...</td>\n",
              "      <td>...</td>\n",
              "      <td>...</td>\n",
              "    </tr>\n",
              "    <tr>\n",
              "      <th>662</th>\n",
              "      <td>549</td>\n",
              "      <td>347</td>\n",
              "      <td>0.000000</td>\n",
              "    </tr>\n",
              "    <tr>\n",
              "      <th>663</th>\n",
              "      <td>556</td>\n",
              "      <td>347</td>\n",
              "      <td>0.000000</td>\n",
              "    </tr>\n",
              "    <tr>\n",
              "      <th>664</th>\n",
              "      <td>617</td>\n",
              "      <td>347</td>\n",
              "      <td>0.000000</td>\n",
              "    </tr>\n",
              "    <tr>\n",
              "      <th>665</th>\n",
              "      <td>633</td>\n",
              "      <td>101</td>\n",
              "      <td>0.000000</td>\n",
              "    </tr>\n",
              "    <tr>\n",
              "      <th>666</th>\n",
              "      <td>718</td>\n",
              "      <td>347</td>\n",
              "      <td>0.000000</td>\n",
              "    </tr>\n",
              "  </tbody>\n",
              "</table>\n",
              "<p>667 rows × 3 columns</p>\n",
              "</div>"
            ],
            "text/plain": [
              "     app  channel  appchannelConfRate\n",
              "0      0      101            0.053842\n",
              "1      1       13            0.000000\n",
              "2      1       17            0.000000\n",
              "3      1       18            0.000000\n",
              "4      1       24            0.000000\n",
              "..   ...      ...                 ...\n",
              "662  549      347            0.000000\n",
              "663  556      347            0.000000\n",
              "664  617      347            0.000000\n",
              "665  633      101            0.000000\n",
              "666  718      347            0.000000\n",
              "\n",
              "[667 rows x 3 columns]"
            ]
          },
          "metadata": {
            "tags": []
          },
          "execution_count": 81
        }
      ]
    },
    {
      "cell_type": "code",
      "metadata": {
        "colab": {
          "base_uri": "https://localhost:8080/",
          "height": 424
        },
        "id": "6qgJ4srt5ggW",
        "outputId": "266bb0a1-b5d4-4ad8-d797-c397bd6d2962"
      },
      "source": [
        "# 5.7 Grouping and reindexing\n",
        "cols = ['app', 'channel']\n",
        "new_feature = 'appchannelConfRate'\n",
        "grouped['is_attributed']. \\\n",
        "            apply(rate_calculation). \\\n",
        "            reset_index(). \\\n",
        "            rename( \n",
        "                    index=str,\n",
        "                    columns={'is_attributed': new_feature}\n",
        "                   )[cols + [new_feature]]\n",
        "                        "
      ],
      "execution_count": 78,
      "outputs": [
        {
          "output_type": "execute_result",
          "data": {
            "text/html": [
              "<div>\n",
              "<style scoped>\n",
              "    .dataframe tbody tr th:only-of-type {\n",
              "        vertical-align: middle;\n",
              "    }\n",
              "\n",
              "    .dataframe tbody tr th {\n",
              "        vertical-align: top;\n",
              "    }\n",
              "\n",
              "    .dataframe thead th {\n",
              "        text-align: right;\n",
              "    }\n",
              "</style>\n",
              "<table border=\"1\" class=\"dataframe\">\n",
              "  <thead>\n",
              "    <tr style=\"text-align: right;\">\n",
              "      <th></th>\n",
              "      <th>app</th>\n",
              "      <th>channel</th>\n",
              "      <th>appchannelConfRate</th>\n",
              "    </tr>\n",
              "  </thead>\n",
              "  <tbody>\n",
              "    <tr>\n",
              "      <th>0</th>\n",
              "      <td>0</td>\n",
              "      <td>101</td>\n",
              "      <td>0.053842</td>\n",
              "    </tr>\n",
              "    <tr>\n",
              "      <th>1</th>\n",
              "      <td>1</td>\n",
              "      <td>13</td>\n",
              "      <td>0.000000</td>\n",
              "    </tr>\n",
              "    <tr>\n",
              "      <th>2</th>\n",
              "      <td>1</td>\n",
              "      <td>17</td>\n",
              "      <td>0.000000</td>\n",
              "    </tr>\n",
              "    <tr>\n",
              "      <th>3</th>\n",
              "      <td>1</td>\n",
              "      <td>18</td>\n",
              "      <td>0.000000</td>\n",
              "    </tr>\n",
              "    <tr>\n",
              "      <th>4</th>\n",
              "      <td>1</td>\n",
              "      <td>24</td>\n",
              "      <td>0.000000</td>\n",
              "    </tr>\n",
              "    <tr>\n",
              "      <th>...</th>\n",
              "      <td>...</td>\n",
              "      <td>...</td>\n",
              "      <td>...</td>\n",
              "    </tr>\n",
              "    <tr>\n",
              "      <th>662</th>\n",
              "      <td>549</td>\n",
              "      <td>347</td>\n",
              "      <td>0.000000</td>\n",
              "    </tr>\n",
              "    <tr>\n",
              "      <th>663</th>\n",
              "      <td>556</td>\n",
              "      <td>347</td>\n",
              "      <td>0.000000</td>\n",
              "    </tr>\n",
              "    <tr>\n",
              "      <th>664</th>\n",
              "      <td>617</td>\n",
              "      <td>347</td>\n",
              "      <td>0.000000</td>\n",
              "    </tr>\n",
              "    <tr>\n",
              "      <th>665</th>\n",
              "      <td>633</td>\n",
              "      <td>101</td>\n",
              "      <td>0.000000</td>\n",
              "    </tr>\n",
              "    <tr>\n",
              "      <th>666</th>\n",
              "      <td>718</td>\n",
              "      <td>347</td>\n",
              "      <td>0.000000</td>\n",
              "    </tr>\n",
              "  </tbody>\n",
              "</table>\n",
              "<p>667 rows × 3 columns</p>\n",
              "</div>"
            ],
            "text/plain": [
              "     app  channel  appchannelConfRate\n",
              "0      0      101            0.053842\n",
              "1      1       13            0.000000\n",
              "2      1       17            0.000000\n",
              "3      1       18            0.000000\n",
              "4      1       24            0.000000\n",
              "..   ...      ...                 ...\n",
              "662  549      347            0.000000\n",
              "663  556      347            0.000000\n",
              "664  617      347            0.000000\n",
              "665  633      101            0.000000\n",
              "666  718      347            0.000000\n",
              "\n",
              "[667 rows x 3 columns]"
            ]
          },
          "metadata": {
            "tags": []
          },
          "execution_count": 78
        }
      ]
    },
    {
      "cell_type": "code",
      "metadata": {
        "colab": {
          "base_uri": "https://localhost:8080/",
          "height": 143
        },
        "id": "lRfDPvgLBOFW",
        "outputId": "9efef5eb-b840-4498-fc75-8ec608030110"
      },
      "source": [
        "# 5.8 Merging the group back into main data\n",
        "# And finally merging the above result \n",
        "#  in the train data\n",
        "abc = train.merge(\n",
        "                    grouped['is_attributed']. \\\n",
        "                    apply(rate_calculation). \\\n",
        "                    reset_index(). \\\n",
        "                         rename( \n",
        "                                index=str,\n",
        "                                columns={'is_attributed': new_feature}\n",
        "                                )[cols + [new_feature]],\n",
        "                         on=cols,\n",
        "                         how='left'\n",
        "                    )\n",
        "\n",
        "abc.head(3)"
      ],
      "execution_count": 79,
      "outputs": [
        {
          "output_type": "execute_result",
          "data": {
            "text/html": [
              "<div>\n",
              "<style scoped>\n",
              "    .dataframe tbody tr th:only-of-type {\n",
              "        vertical-align: middle;\n",
              "    }\n",
              "\n",
              "    .dataframe tbody tr th {\n",
              "        vertical-align: top;\n",
              "    }\n",
              "\n",
              "    .dataframe thead th {\n",
              "        text-align: right;\n",
              "    }\n",
              "</style>\n",
              "<table border=\"1\" class=\"dataframe\">\n",
              "  <thead>\n",
              "    <tr style=\"text-align: right;\">\n",
              "      <th></th>\n",
              "      <th>ip</th>\n",
              "      <th>app</th>\n",
              "      <th>device</th>\n",
              "      <th>os</th>\n",
              "      <th>channel</th>\n",
              "      <th>click_time</th>\n",
              "      <th>attributed_time</th>\n",
              "      <th>is_attributed</th>\n",
              "      <th>appchannelConfRate</th>\n",
              "    </tr>\n",
              "  </thead>\n",
              "  <tbody>\n",
              "    <tr>\n",
              "      <th>0</th>\n",
              "      <td>49305</td>\n",
              "      <td>3</td>\n",
              "      <td>1</td>\n",
              "      <td>25</td>\n",
              "      <td>379</td>\n",
              "      <td>2017-11-06 15:50:26</td>\n",
              "      <td>NaN</td>\n",
              "      <td>0</td>\n",
              "      <td>0.000281</td>\n",
              "    </tr>\n",
              "    <tr>\n",
              "      <th>1</th>\n",
              "      <td>117898</td>\n",
              "      <td>2</td>\n",
              "      <td>2</td>\n",
              "      <td>36</td>\n",
              "      <td>205</td>\n",
              "      <td>2017-11-06 16:00:00</td>\n",
              "      <td>NaN</td>\n",
              "      <td>0</td>\n",
              "      <td>0.000000</td>\n",
              "    </tr>\n",
              "    <tr>\n",
              "      <th>2</th>\n",
              "      <td>60235</td>\n",
              "      <td>2</td>\n",
              "      <td>1</td>\n",
              "      <td>19</td>\n",
              "      <td>205</td>\n",
              "      <td>2017-11-06 16:00:01</td>\n",
              "      <td>NaN</td>\n",
              "      <td>0</td>\n",
              "      <td>0.000000</td>\n",
              "    </tr>\n",
              "  </tbody>\n",
              "</table>\n",
              "</div>"
            ],
            "text/plain": [
              "       ip  app  device  ...  attributed_time  is_attributed appchannelConfRate\n",
              "0   49305    3       1  ...              NaN              0           0.000281\n",
              "1  117898    2       2  ...              NaN              0           0.000000\n",
              "2   60235    2       1  ...              NaN              0           0.000000\n",
              "\n",
              "[3 rows x 9 columns]"
            ]
          },
          "metadata": {
            "tags": []
          },
          "execution_count": 79
        }
      ]
    },
    {
      "cell_type": "markdown",
      "metadata": {
        "id": "gYfS9igD_UmD"
      },
      "source": [
        "##  Finally develop relationship of categorical features with target\n",
        "We now use the above experiments to create new features. Create each new feature by multiplying `probability` with `confRate`. We define a full function to perform this. You may refer to Tables 2 and 3 above."
      ]
    },
    {
      "cell_type": "code",
      "metadata": {
        "id": "4x1Z5RZlNLGT"
      },
      "source": [
        "# 6.0 Now the full function\n",
        "#     for many columns\n",
        "\n",
        "# 6.1 Our lists\n",
        "ATTRIBUTION_CATEGORIES = [        \n",
        "    # V1 Features #\n",
        "    ###############\n",
        "    ['ip'], ['app'], ['device'], ['os'], ['channel'],    # 5\n",
        "    \n",
        "    # V2 Features #\n",
        "    ###############\n",
        "    ['app', 'channel'],    # name \"app_channel\" \n",
        "    ['app', 'os'],         # name: \"app_os\"\n",
        "    ['app', 'device'],     # name: \"app_device\" \n",
        "    \n",
        "    # V3 Features #\n",
        "    ###############\n",
        "    ['channel', 'os'],     # name: \"channel_os\"\n",
        "    ['channel', 'device'], # name: \"channel_device\"\n",
        "    ['os', 'device']       # name: \"os_device\"\n",
        "]\n",
        "\n",
        "# 6.6 Function to calculate probability/confRate calculations\n",
        "def rate_calculation(x):\n",
        "    \"\"\"Calculate the attributed rate. Scale by confidence\"\"\"\n",
        "\n",
        "    probability = x.sum() / float(x.count())\n",
        "    conf = np.min([1, np.log(x.count()) / log_group])\n",
        "    return probability * conf\n",
        "\n",
        "freqs = {}\n",
        "\n",
        "# 6.2\n",
        "for cols in ATTRIBUTION_CATEGORIES:\n",
        "    \n",
        "    # 6.2 New feature name\n",
        "    new_feature = '_'.join(cols)+'_confRate'    \n",
        "    \n",
        "    # 6.3 Perform the groupby\n",
        "    grouped = train.groupby(cols)   # For example on: ['app', 'channel']\n",
        "    \n",
        "    # 6.4 Group sizes: Size of each group in pandas Series    \n",
        "    group_sizes = grouped.size()\n",
        "\n",
        "    # 6.5 Normalizer that can be a hyperparameter\n",
        "    log_group = np.log(100000) # 1000 views -> 60% confidence, 100 views -> 40% confidence \n",
        "    \n",
        "    \n",
        "    # 6.8 Perform the merge\n",
        "    train = train.merge(\n",
        "                         grouped['is_attributed']. \\\n",
        "                         apply(rate_calculation). \\\n",
        "                         reset_index(). \\\n",
        "                         rename( \n",
        "                                #index=str,\n",
        "                                columns={'is_attributed': new_feature}\n",
        "                                )[cols + [new_feature]],\n",
        "                         on=cols,\n",
        "                         how='left'\n",
        "                         )\n",
        "    "
      ],
      "execution_count": 102,
      "outputs": []
    },
    {
      "cell_type": "code",
      "metadata": {
        "id": "G0qIVzm4Ycwi"
      },
      "source": [
        "# 6.8.1\n",
        "train.shape     # (999280, 23)  Earlier was # (999280, 12)\n",
        "print()\n",
        "print(train.columns) \n",
        "print()\n",
        "train.head()\n",
        "\n",
        "\"\"\"\n",
        "[\n",
        "       'ip', 'app', 'device', 'os', 'channel', 'click_time', 'attributed_time',\n",
        "       'is_attributed', 'day', 'hour', 'minute', 'second', \n",
        "       'ip_confRate', 'app_confRate', 'device_confRate', 'os_confRate', 'channel_confRate',\n",
        "       'app_channel_confRate', 'app_os_confRate', 'app_device_confRate',\n",
        "       'channel_os_confRate', 'channel_device_confRate', 'os_device_confRate'\n",
        "  ]\n",
        " \"\"\"\n",
        "\n"
      ],
      "execution_count": null,
      "outputs": []
    },
    {
      "cell_type": "markdown",
      "metadata": {
        "id": "S1Nqr7sjjLtx"
      },
      "source": [
        "##Relationship of features among themselves (Expts)\n",
        "We first perform some experiments to to learn how to go about it in a concise manner."
      ]
    },
    {
      "cell_type": "markdown",
      "metadata": {
        "id": "V-NxWk-JRNH6"
      },
      "source": [
        "### Some more experiments\n",
        "We will now develop relationship among '*independent*' or '*explanatory*' categorical features. (See Table 1 above). To understand how it is done, we perform some simple experiments first."
      ]
    },
    {
      "cell_type": "code",
      "metadata": {
        "id": "4qY522tBBa0O"
      },
      "source": [
        "# 7.0 Here is a sample of features. \n",
        "#     Please see that the three dict keys here \n",
        "#     correspond to three columns \n",
        "#     ('GroupBy','Operation', 'On') of Table 1.\n",
        "\n",
        "PLAN_AGGREGATIONS = [\n",
        "                      # V1 - GroupBy Features #\n",
        "                      #########################    \n",
        "                      # GroupBy [ip-app-channel], and calculate variance of 'day'\n",
        "                      {'groupby': ['ip','app','channel'], 'select': 'day', 'agg': 'var'},\n",
        "    \n",
        "                      # GroupBy ip-app-os and calculate variance of 'hour'\n",
        "                      {'groupby': ['ip','app','os'], 'select': 'hour', 'agg': 'var'}\n",
        "                    ]"
      ],
      "execution_count": 108,
      "outputs": []
    },
    {
      "cell_type": "code",
      "metadata": {
        "colab": {
          "base_uri": "https://localhost:8080/",
          "height": 175
        },
        "id": "LX_aYRzmEK59",
        "outputId": "edef7a3a-8e01-4447-c0e7-3b79f7ef7485"
      },
      "source": [
        "# 7.1 Make a copy of our data\n",
        "#     (Our sample data is small. \n",
        "#       So this is possible for our expt here)\n",
        "abc = train.copy()\n",
        "# 7.2 First perform grouped sets\n",
        "grouped = abc.groupby(['ip','app','channel'])\n",
        "# 7.3 Then apply requisite aggregation on each grouped set\n",
        "gred = grouped.agg({'day': 'var'})\n",
        "# 7.4 Check. Our DataFrame has an Index with\n",
        "#      three columns. It is Multiindex or \n",
        "#       hierarchical index\n",
        "gred.head(3)\n"
      ],
      "execution_count": 104,
      "outputs": [
        {
          "output_type": "execute_result",
          "data": {
            "text/html": [
              "<div>\n",
              "<style scoped>\n",
              "    .dataframe tbody tr th:only-of-type {\n",
              "        vertical-align: middle;\n",
              "    }\n",
              "\n",
              "    .dataframe tbody tr th {\n",
              "        vertical-align: top;\n",
              "    }\n",
              "\n",
              "    .dataframe thead th {\n",
              "        text-align: right;\n",
              "    }\n",
              "</style>\n",
              "<table border=\"1\" class=\"dataframe\">\n",
              "  <thead>\n",
              "    <tr style=\"text-align: right;\">\n",
              "      <th></th>\n",
              "      <th></th>\n",
              "      <th></th>\n",
              "      <th>day</th>\n",
              "    </tr>\n",
              "    <tr>\n",
              "      <th>ip</th>\n",
              "      <th>app</th>\n",
              "      <th>channel</th>\n",
              "      <th></th>\n",
              "    </tr>\n",
              "  </thead>\n",
              "  <tbody>\n",
              "    <tr>\n",
              "      <th rowspan=\"3\" valign=\"top\">6</th>\n",
              "      <th rowspan=\"2\" valign=\"top\">2</th>\n",
              "      <th>435</th>\n",
              "      <td>NaN</td>\n",
              "    </tr>\n",
              "    <tr>\n",
              "      <th>477</th>\n",
              "      <td>NaN</td>\n",
              "    </tr>\n",
              "    <tr>\n",
              "      <th>11</th>\n",
              "      <th>173</th>\n",
              "      <td>NaN</td>\n",
              "    </tr>\n",
              "  </tbody>\n",
              "</table>\n",
              "</div>"
            ],
            "text/plain": [
              "                day\n",
              "ip app channel     \n",
              "6  2   435      NaN\n",
              "       477      NaN\n",
              "   11  173      NaN"
            ]
          },
          "metadata": {
            "tags": []
          },
          "execution_count": 104
        }
      ]
    },
    {
      "cell_type": "code",
      "metadata": {
        "colab": {
          "base_uri": "https://localhost:8080/",
          "height": 206
        },
        "id": "M4QnJqr6XT8_",
        "outputId": "40391cfd-547f-42ed-a59b-b5201c6a3009"
      },
      "source": [
        "# 7.5 Reset index \n",
        "gred.reset_index().head()"
      ],
      "execution_count": 105,
      "outputs": [
        {
          "output_type": "execute_result",
          "data": {
            "text/html": [
              "<div>\n",
              "<style scoped>\n",
              "    .dataframe tbody tr th:only-of-type {\n",
              "        vertical-align: middle;\n",
              "    }\n",
              "\n",
              "    .dataframe tbody tr th {\n",
              "        vertical-align: top;\n",
              "    }\n",
              "\n",
              "    .dataframe thead th {\n",
              "        text-align: right;\n",
              "    }\n",
              "</style>\n",
              "<table border=\"1\" class=\"dataframe\">\n",
              "  <thead>\n",
              "    <tr style=\"text-align: right;\">\n",
              "      <th></th>\n",
              "      <th>ip</th>\n",
              "      <th>app</th>\n",
              "      <th>channel</th>\n",
              "      <th>day</th>\n",
              "    </tr>\n",
              "  </thead>\n",
              "  <tbody>\n",
              "    <tr>\n",
              "      <th>0</th>\n",
              "      <td>6</td>\n",
              "      <td>2</td>\n",
              "      <td>435</td>\n",
              "      <td>NaN</td>\n",
              "    </tr>\n",
              "    <tr>\n",
              "      <th>1</th>\n",
              "      <td>6</td>\n",
              "      <td>2</td>\n",
              "      <td>477</td>\n",
              "      <td>NaN</td>\n",
              "    </tr>\n",
              "    <tr>\n",
              "      <th>2</th>\n",
              "      <td>6</td>\n",
              "      <td>11</td>\n",
              "      <td>173</td>\n",
              "      <td>NaN</td>\n",
              "    </tr>\n",
              "    <tr>\n",
              "      <th>3</th>\n",
              "      <td>6</td>\n",
              "      <td>12</td>\n",
              "      <td>145</td>\n",
              "      <td>NaN</td>\n",
              "    </tr>\n",
              "    <tr>\n",
              "      <th>4</th>\n",
              "      <td>6</td>\n",
              "      <td>12</td>\n",
              "      <td>212</td>\n",
              "      <td>NaN</td>\n",
              "    </tr>\n",
              "  </tbody>\n",
              "</table>\n",
              "</div>"
            ],
            "text/plain": [
              "   ip  app  channel  day\n",
              "0   6    2      435  NaN\n",
              "1   6    2      477  NaN\n",
              "2   6   11      173  NaN\n",
              "3   6   12      145  NaN\n",
              "4   6   12      212  NaN"
            ]
          },
          "metadata": {
            "tags": []
          },
          "execution_count": 105
        }
      ]
    },
    {
      "cell_type": "code",
      "metadata": {
        "colab": {
          "base_uri": "https://localhost:8080/",
          "height": 36
        },
        "id": "i6SVtMhb-I33",
        "outputId": "cad46cbc-de8b-466b-c59e-dced797ccb96"
      },
      "source": [
        "\"xy\".join(['a','b'])"
      ],
      "execution_count": 106,
      "outputs": [
        {
          "output_type": "execute_result",
          "data": {
            "application/vnd.google.colaboratory.intrinsic+json": {
              "type": "string"
            },
            "text/plain": [
              "'axyb'"
            ]
          },
          "metadata": {
            "tags": []
          },
          "execution_count": 106
        }
      ]
    },
    {
      "cell_type": "code",
      "metadata": {
        "colab": {
          "base_uri": "https://localhost:8080/",
          "height": 314
        },
        "id": "d-jWINGY4--Z",
        "outputId": "d1ece6b2-0db0-4577-893d-34202aee6612"
      },
      "source": [
        "# We can now re-write the above\n",
        "#  in terms of dictionary key-values\n",
        "abc = train.copy()\n",
        "abc.head(2)\n",
        "for i in PLAN_AGGREGATIONS:\n",
        "  grouped = abc.groupby(i['groupby'])\n",
        "  gred = grouped[i['select']].agg(i['agg'])\n",
        "  gred = gred.reset_index()\n",
        "  print(gred.head(3)) "
      ],
      "execution_count": 109,
      "outputs": [
        {
          "output_type": "execute_result",
          "data": {
            "text/html": [
              "<div>\n",
              "<style scoped>\n",
              "    .dataframe tbody tr th:only-of-type {\n",
              "        vertical-align: middle;\n",
              "    }\n",
              "\n",
              "    .dataframe tbody tr th {\n",
              "        vertical-align: top;\n",
              "    }\n",
              "\n",
              "    .dataframe thead th {\n",
              "        text-align: right;\n",
              "    }\n",
              "</style>\n",
              "<table border=\"1\" class=\"dataframe\">\n",
              "  <thead>\n",
              "    <tr style=\"text-align: right;\">\n",
              "      <th></th>\n",
              "      <th>ip</th>\n",
              "      <th>app</th>\n",
              "      <th>device</th>\n",
              "      <th>os</th>\n",
              "      <th>channel</th>\n",
              "      <th>click_time</th>\n",
              "      <th>attributed_time</th>\n",
              "      <th>is_attributed</th>\n",
              "      <th>day</th>\n",
              "      <th>hour</th>\n",
              "      <th>minute</th>\n",
              "      <th>second</th>\n",
              "      <th>ip_confRate</th>\n",
              "      <th>app_confRate</th>\n",
              "      <th>device_confRate</th>\n",
              "      <th>os_confRate</th>\n",
              "      <th>channel_confRate</th>\n",
              "      <th>app_channel_confRate</th>\n",
              "      <th>app_os_confRate</th>\n",
              "      <th>app_device_confRate</th>\n",
              "      <th>channel_os_confRate</th>\n",
              "      <th>channel_device_confRate</th>\n",
              "      <th>os_device_confRate</th>\n",
              "    </tr>\n",
              "  </thead>\n",
              "  <tbody>\n",
              "    <tr>\n",
              "      <th>0</th>\n",
              "      <td>49305</td>\n",
              "      <td>3</td>\n",
              "      <td>1</td>\n",
              "      <td>25</td>\n",
              "      <td>379</td>\n",
              "      <td>2017-11-06 15:50:26</td>\n",
              "      <td>NaN</td>\n",
              "      <td>0</td>\n",
              "      <td>6</td>\n",
              "      <td>15</td>\n",
              "      <td>50</td>\n",
              "      <td>26</td>\n",
              "      <td>0.000000</td>\n",
              "      <td>0.000291</td>\n",
              "      <td>0.001818</td>\n",
              "      <td>0.000960</td>\n",
              "      <td>0.000140</td>\n",
              "      <td>0.000281</td>\n",
              "      <td>0.0</td>\n",
              "      <td>0.000301</td>\n",
              "      <td>0.0</td>\n",
              "      <td>0.00014</td>\n",
              "      <td>0.000995</td>\n",
              "    </tr>\n",
              "    <tr>\n",
              "      <th>1</th>\n",
              "      <td>117898</td>\n",
              "      <td>2</td>\n",
              "      <td>2</td>\n",
              "      <td>36</td>\n",
              "      <td>205</td>\n",
              "      <td>2017-11-06 16:00:00</td>\n",
              "      <td>NaN</td>\n",
              "      <td>0</td>\n",
              "      <td>6</td>\n",
              "      <td>16</td>\n",
              "      <td>0</td>\n",
              "      <td>0</td>\n",
              "      <td>0.003349</td>\n",
              "      <td>0.000205</td>\n",
              "      <td>0.000255</td>\n",
              "      <td>0.004767</td>\n",
              "      <td>0.000148</td>\n",
              "      <td>0.000000</td>\n",
              "      <td>0.0</td>\n",
              "      <td>0.000000</td>\n",
              "      <td>0.0</td>\n",
              "      <td>0.00000</td>\n",
              "      <td>0.000000</td>\n",
              "    </tr>\n",
              "  </tbody>\n",
              "</table>\n",
              "</div>"
            ],
            "text/plain": [
              "       ip  app  ...  channel_device_confRate  os_device_confRate\n",
              "0   49305    3  ...                  0.00014            0.000995\n",
              "1  117898    2  ...                  0.00000            0.000000\n",
              "\n",
              "[2 rows x 23 columns]"
            ]
          },
          "metadata": {
            "tags": []
          },
          "execution_count": 109
        },
        {
          "output_type": "stream",
          "text": [
            "   ip  app  channel  day\n",
            "0   6    2      435  NaN\n",
            "1   6    2      477  NaN\n",
            "2   6   11      173  NaN\n",
            "   ip  app  os  hour\n",
            "0   6    2  12   NaN\n",
            "1   6    2  19   NaN\n",
            "2   6   11  19   NaN\n"
          ],
          "name": "stdout"
        }
      ]
    },
    {
      "cell_type": "code",
      "metadata": {
        "colab": {
          "base_uri": "https://localhost:8080/"
        },
        "id": "GTIihbGa59vr",
        "outputId": "5f842c6f-4d6b-4d35-e341-3e5bbb7796b1"
      },
      "source": [
        "# We can now re-write the above\n",
        "#  in terms of dictionary key-values\n",
        "abc = train.copy()\n",
        "print(abc.shape)\n",
        "for i in PLAN_AGGREGATIONS:\n",
        "  grouped = abc.groupby(i['groupby'])\n",
        "  gred = grouped[i['select']].agg(i['agg'])\n",
        "  gred = gred.reset_index().rename(columns = {i['select'] : \"_\".join(i['groupby']) +\"_\" +i['select'] + \"_\" +i['agg']} )\n",
        "  print(gred.head(3)) \n",
        "  abc = abc.merge(gred)\n",
        "  print(abc.head(2))\n",
        "  print(abc.shape)"
      ],
      "execution_count": 110,
      "outputs": [
        {
          "output_type": "stream",
          "text": [
            "(999189, 23)\n",
            "   ip  app  channel  ip_app_channel_day_var\n",
            "0   6    2      435                     NaN\n",
            "1   6    2      477                     NaN\n",
            "2   6   11      173                     NaN\n",
            "       ip  app  ...  os_device_confRate  ip_app_channel_day_var\n",
            "0   49305    3  ...            0.000995                     NaN\n",
            "1  117898    2  ...            0.000000                  1.1133\n",
            "\n",
            "[2 rows x 24 columns]\n",
            "(999189, 24)\n",
            "   ip  app  os  ip_app_os_hour_var\n",
            "0   6    2  12                 NaN\n",
            "1   6    2  19                 NaN\n",
            "2   6   11  19                 NaN\n",
            "       ip  app  ...  ip_app_channel_day_var  ip_app_os_hour_var\n",
            "0   49305    3  ...                     NaN                 NaN\n",
            "1  117898    2  ...                  1.1133                 NaN\n",
            "\n",
            "[2 rows x 25 columns]\n",
            "(999189, 25)\n"
          ],
          "name": "stdout"
        }
      ]
    },
    {
      "cell_type": "code",
      "metadata": {
        "colab": {
          "base_uri": "https://localhost:8080/"
        },
        "id": "sGTU9BQzfjaz",
        "outputId": "fd55d09e-2298-4edd-c035-d483532d99ad"
      },
      "source": [
        "# 8.0 Apply now all the groupby transformations\n",
        "\n",
        "for spec in PLAN_AGGREGATIONS:\n",
        "    \n",
        "    # Name of the aggregation we're applying\n",
        "    agg_name = spec['agg_name'] if 'agg_name' in spec else spec['agg']\n",
        "    \n",
        "    # Name of new feature\n",
        "    new_feature = '{}_{}_{}'.format('_'.join(spec['groupby']), agg_name, spec['select'])\n",
        "    \n",
        "    # Info\n",
        "    print(\"Grouping by {}, and aggregating {} with {}\".format(\n",
        "        spec['groupby'], spec['select'], agg_name\n",
        "    ))\n",
        "    \n",
        "    # Unique list of features to select\n",
        "    all_features = list(set(spec['groupby'] + [spec['select']]))\n",
        "    \n",
        "    # Perform the groupby\n",
        "    gp = train[all_features]. \\\n",
        "        groupby(spec['groupby'])[spec['select']]. \\\n",
        "        agg(spec['agg']). \\\n",
        "        reset_index(). \\\n",
        "        rename(index=str, columns={spec['select']: new_feature})\n",
        "        \n",
        "    # Merge back to X_total\n",
        "    if 'cumcount' == spec['agg']:\n",
        "        train[new_feature] = gp[0].values\n",
        "    else:\n",
        "        train = train.merge(gp, on=spec['groupby'], how='left')\n",
        "        \n",
        "     # Clear memory\n",
        "    del gp\n",
        "    gc.collect()"
      ],
      "execution_count": null,
      "outputs": [
        {
          "output_type": "stream",
          "text": [
            "Grouping by ['ip', 'app', 'channel'], and aggregating day with var\n"
          ],
          "name": "stdout"
        },
        {
          "output_type": "execute_result",
          "data": {
            "text/plain": [
              "56"
            ]
          },
          "metadata": {
            "tags": []
          },
          "execution_count": 43
        },
        {
          "output_type": "stream",
          "text": [
            "Grouping by ['ip', 'app', 'os'], and aggregating hour with var\n"
          ],
          "name": "stdout"
        },
        {
          "output_type": "execute_result",
          "data": {
            "text/plain": [
              "0"
            ]
          },
          "metadata": {
            "tags": []
          },
          "execution_count": 43
        }
      ]
    },
    {
      "cell_type": "code",
      "metadata": {
        "colab": {
          "base_uri": "https://localhost:8080/",
          "height": 990
        },
        "id": "JwjW_oNQfqSi",
        "outputId": "606131fd-bbc0-4b61-b19d-fe93030f0309"
      },
      "source": [
        "train[['ip', 'app', 'channel','ip_app_channel_var_day', \t'ip_app_os_var_hour']].sort_values(by= 'ip').head(30)"
      ],
      "execution_count": null,
      "outputs": [
        {
          "output_type": "execute_result",
          "data": {
            "text/html": [
              "<div>\n",
              "<style scoped>\n",
              "    .dataframe tbody tr th:only-of-type {\n",
              "        vertical-align: middle;\n",
              "    }\n",
              "\n",
              "    .dataframe tbody tr th {\n",
              "        vertical-align: top;\n",
              "    }\n",
              "\n",
              "    .dataframe thead th {\n",
              "        text-align: right;\n",
              "    }\n",
              "</style>\n",
              "<table border=\"1\" class=\"dataframe\">\n",
              "  <thead>\n",
              "    <tr style=\"text-align: right;\">\n",
              "      <th></th>\n",
              "      <th>ip</th>\n",
              "      <th>app</th>\n",
              "      <th>channel</th>\n",
              "      <th>ip_app_channel_var_day</th>\n",
              "      <th>ip_app_os_var_hour</th>\n",
              "    </tr>\n",
              "  </thead>\n",
              "  <tbody>\n",
              "    <tr>\n",
              "      <th>522633</th>\n",
              "      <td>6</td>\n",
              "      <td>3</td>\n",
              "      <td>280</td>\n",
              "      <td>NaN</td>\n",
              "      <td>NaN</td>\n",
              "    </tr>\n",
              "    <tr>\n",
              "      <th>925173</th>\n",
              "      <td>6</td>\n",
              "      <td>9</td>\n",
              "      <td>466</td>\n",
              "      <td>NaN</td>\n",
              "      <td>NaN</td>\n",
              "    </tr>\n",
              "    <tr>\n",
              "      <th>811856</th>\n",
              "      <td>6</td>\n",
              "      <td>2</td>\n",
              "      <td>477</td>\n",
              "      <td>NaN</td>\n",
              "      <td>0.500000</td>\n",
              "    </tr>\n",
              "    <tr>\n",
              "      <th>484650</th>\n",
              "      <td>6</td>\n",
              "      <td>2</td>\n",
              "      <td>435</td>\n",
              "      <td>NaN</td>\n",
              "      <td>0.500000</td>\n",
              "    </tr>\n",
              "    <tr>\n",
              "      <th>410180</th>\n",
              "      <td>6</td>\n",
              "      <td>15</td>\n",
              "      <td>245</td>\n",
              "      <td>NaN</td>\n",
              "      <td>NaN</td>\n",
              "    </tr>\n",
              "    <tr>\n",
              "      <th>950899</th>\n",
              "      <td>6</td>\n",
              "      <td>9</td>\n",
              "      <td>107</td>\n",
              "      <td>NaN</td>\n",
              "      <td>NaN</td>\n",
              "    </tr>\n",
              "    <tr>\n",
              "      <th>180680</th>\n",
              "      <td>9</td>\n",
              "      <td>1</td>\n",
              "      <td>124</td>\n",
              "      <td>NaN</td>\n",
              "      <td>NaN</td>\n",
              "    </tr>\n",
              "    <tr>\n",
              "      <th>330816</th>\n",
              "      <td>9</td>\n",
              "      <td>15</td>\n",
              "      <td>245</td>\n",
              "      <td>0.000000</td>\n",
              "      <td>NaN</td>\n",
              "    </tr>\n",
              "    <tr>\n",
              "      <th>226093</th>\n",
              "      <td>9</td>\n",
              "      <td>19</td>\n",
              "      <td>213</td>\n",
              "      <td>NaN</td>\n",
              "      <td>NaN</td>\n",
              "    </tr>\n",
              "    <tr>\n",
              "      <th>161787</th>\n",
              "      <td>9</td>\n",
              "      <td>3</td>\n",
              "      <td>280</td>\n",
              "      <td>0.333333</td>\n",
              "      <td>18.000000</td>\n",
              "    </tr>\n",
              "    <tr>\n",
              "      <th>746456</th>\n",
              "      <td>9</td>\n",
              "      <td>15</td>\n",
              "      <td>480</td>\n",
              "      <td>NaN</td>\n",
              "      <td>NaN</td>\n",
              "    </tr>\n",
              "    <tr>\n",
              "      <th>72169</th>\n",
              "      <td>9</td>\n",
              "      <td>3</td>\n",
              "      <td>280</td>\n",
              "      <td>0.333333</td>\n",
              "      <td>57.333333</td>\n",
              "    </tr>\n",
              "    <tr>\n",
              "      <th>854179</th>\n",
              "      <td>9</td>\n",
              "      <td>9</td>\n",
              "      <td>215</td>\n",
              "      <td>0.500000</td>\n",
              "      <td>32.000000</td>\n",
              "    </tr>\n",
              "    <tr>\n",
              "      <th>678790</th>\n",
              "      <td>9</td>\n",
              "      <td>18</td>\n",
              "      <td>121</td>\n",
              "      <td>NaN</td>\n",
              "      <td>NaN</td>\n",
              "    </tr>\n",
              "    <tr>\n",
              "      <th>87407</th>\n",
              "      <td>9</td>\n",
              "      <td>23</td>\n",
              "      <td>153</td>\n",
              "      <td>0.500000</td>\n",
              "      <td>NaN</td>\n",
              "    </tr>\n",
              "    <tr>\n",
              "      <th>634771</th>\n",
              "      <td>9</td>\n",
              "      <td>23</td>\n",
              "      <td>153</td>\n",
              "      <td>0.500000</td>\n",
              "      <td>NaN</td>\n",
              "    </tr>\n",
              "    <tr>\n",
              "      <th>520946</th>\n",
              "      <td>9</td>\n",
              "      <td>9</td>\n",
              "      <td>215</td>\n",
              "      <td>0.500000</td>\n",
              "      <td>NaN</td>\n",
              "    </tr>\n",
              "    <tr>\n",
              "      <th>377500</th>\n",
              "      <td>9</td>\n",
              "      <td>3</td>\n",
              "      <td>280</td>\n",
              "      <td>0.333333</td>\n",
              "      <td>18.000000</td>\n",
              "    </tr>\n",
              "    <tr>\n",
              "      <th>492797</th>\n",
              "      <td>9</td>\n",
              "      <td>3</td>\n",
              "      <td>280</td>\n",
              "      <td>0.333333</td>\n",
              "      <td>NaN</td>\n",
              "    </tr>\n",
              "    <tr>\n",
              "      <th>238424</th>\n",
              "      <td>9</td>\n",
              "      <td>64</td>\n",
              "      <td>459</td>\n",
              "      <td>NaN</td>\n",
              "      <td>NaN</td>\n",
              "    </tr>\n",
              "    <tr>\n",
              "      <th>910003</th>\n",
              "      <td>9</td>\n",
              "      <td>2</td>\n",
              "      <td>377</td>\n",
              "      <td>NaN</td>\n",
              "      <td>NaN</td>\n",
              "    </tr>\n",
              "    <tr>\n",
              "      <th>695754</th>\n",
              "      <td>9</td>\n",
              "      <td>2</td>\n",
              "      <td>452</td>\n",
              "      <td>NaN</td>\n",
              "      <td>NaN</td>\n",
              "    </tr>\n",
              "    <tr>\n",
              "      <th>686785</th>\n",
              "      <td>9</td>\n",
              "      <td>9</td>\n",
              "      <td>134</td>\n",
              "      <td>NaN</td>\n",
              "      <td>NaN</td>\n",
              "    </tr>\n",
              "    <tr>\n",
              "      <th>108102</th>\n",
              "      <td>9</td>\n",
              "      <td>2</td>\n",
              "      <td>237</td>\n",
              "      <td>NaN</td>\n",
              "      <td>NaN</td>\n",
              "    </tr>\n",
              "    <tr>\n",
              "      <th>319216</th>\n",
              "      <td>9</td>\n",
              "      <td>9</td>\n",
              "      <td>489</td>\n",
              "      <td>NaN</td>\n",
              "      <td>32.000000</td>\n",
              "    </tr>\n",
              "    <tr>\n",
              "      <th>523506</th>\n",
              "      <td>9</td>\n",
              "      <td>12</td>\n",
              "      <td>265</td>\n",
              "      <td>NaN</td>\n",
              "      <td>NaN</td>\n",
              "    </tr>\n",
              "    <tr>\n",
              "      <th>230856</th>\n",
              "      <td>9</td>\n",
              "      <td>9</td>\n",
              "      <td>334</td>\n",
              "      <td>NaN</td>\n",
              "      <td>NaN</td>\n",
              "    </tr>\n",
              "    <tr>\n",
              "      <th>285553</th>\n",
              "      <td>9</td>\n",
              "      <td>3</td>\n",
              "      <td>211</td>\n",
              "      <td>NaN</td>\n",
              "      <td>57.333333</td>\n",
              "    </tr>\n",
              "    <tr>\n",
              "      <th>335920</th>\n",
              "      <td>9</td>\n",
              "      <td>15</td>\n",
              "      <td>245</td>\n",
              "      <td>0.000000</td>\n",
              "      <td>NaN</td>\n",
              "    </tr>\n",
              "    <tr>\n",
              "      <th>644429</th>\n",
              "      <td>9</td>\n",
              "      <td>3</td>\n",
              "      <td>115</td>\n",
              "      <td>NaN</td>\n",
              "      <td>57.333333</td>\n",
              "    </tr>\n",
              "  </tbody>\n",
              "</table>\n",
              "</div>"
            ],
            "text/plain": [
              "        ip  app  channel  ip_app_channel_var_day  ip_app_os_var_hour\n",
              "522633   6    3      280                     NaN                 NaN\n",
              "925173   6    9      466                     NaN                 NaN\n",
              "811856   6    2      477                     NaN            0.500000\n",
              "484650   6    2      435                     NaN            0.500000\n",
              "410180   6   15      245                     NaN                 NaN\n",
              "950899   6    9      107                     NaN                 NaN\n",
              "180680   9    1      124                     NaN                 NaN\n",
              "330816   9   15      245                0.000000                 NaN\n",
              "226093   9   19      213                     NaN                 NaN\n",
              "161787   9    3      280                0.333333           18.000000\n",
              "746456   9   15      480                     NaN                 NaN\n",
              "72169    9    3      280                0.333333           57.333333\n",
              "854179   9    9      215                0.500000           32.000000\n",
              "678790   9   18      121                     NaN                 NaN\n",
              "87407    9   23      153                0.500000                 NaN\n",
              "634771   9   23      153                0.500000                 NaN\n",
              "520946   9    9      215                0.500000                 NaN\n",
              "377500   9    3      280                0.333333           18.000000\n",
              "492797   9    3      280                0.333333                 NaN\n",
              "238424   9   64      459                     NaN                 NaN\n",
              "910003   9    2      377                     NaN                 NaN\n",
              "695754   9    2      452                     NaN                 NaN\n",
              "686785   9    9      134                     NaN                 NaN\n",
              "108102   9    2      237                     NaN                 NaN\n",
              "319216   9    9      489                     NaN           32.000000\n",
              "523506   9   12      265                     NaN                 NaN\n",
              "230856   9    9      334                     NaN                 NaN\n",
              "285553   9    3      211                     NaN           57.333333\n",
              "335920   9   15      245                0.000000                 NaN\n",
              "644429   9    3      115                     NaN           57.333333"
            ]
          },
          "metadata": {
            "tags": []
          },
          "execution_count": 44
        }
      ]
    },
    {
      "cell_type": "code",
      "metadata": {
        "colab": {
          "base_uri": "https://localhost:8080/",
          "height": 1000
        },
        "id": "OBOCL3gSBjMl",
        "outputId": "f44ea858-e9c4-43f4-b27d-417e1394b678"
      },
      "source": [
        "abc = train.copy()\n",
        "abc.head(2)\n",
        "for i in PLAN_AGGREGATIONS:\n",
        "  grouped = abc.groupby(i['groupby'])\n",
        "  gred = grouped[i['select']].agg({i['agg']})\n",
        "  gred = gred.reset_index()\n",
        "  print(gred.head(30))\n",
        "  #abc = train.merge(gred)\n"
      ],
      "execution_count": null,
      "outputs": [
        {
          "output_type": "execute_result",
          "data": {
            "text/html": [
              "<div>\n",
              "<style scoped>\n",
              "    .dataframe tbody tr th:only-of-type {\n",
              "        vertical-align: middle;\n",
              "    }\n",
              "\n",
              "    .dataframe tbody tr th {\n",
              "        vertical-align: top;\n",
              "    }\n",
              "\n",
              "    .dataframe thead th {\n",
              "        text-align: right;\n",
              "    }\n",
              "</style>\n",
              "<table border=\"1\" class=\"dataframe\">\n",
              "  <thead>\n",
              "    <tr style=\"text-align: right;\">\n",
              "      <th></th>\n",
              "      <th>ip</th>\n",
              "      <th>app</th>\n",
              "      <th>device</th>\n",
              "      <th>os</th>\n",
              "      <th>channel</th>\n",
              "      <th>click_time</th>\n",
              "      <th>attributed_time</th>\n",
              "      <th>is_attributed</th>\n",
              "      <th>day</th>\n",
              "      <th>hour</th>\n",
              "      <th>minute</th>\n",
              "      <th>second</th>\n",
              "      <th>ip_confRate</th>\n",
              "      <th>app_confRate</th>\n",
              "      <th>device_confRate</th>\n",
              "      <th>os_confRate</th>\n",
              "      <th>channel_confRate</th>\n",
              "      <th>app_channel_confRate</th>\n",
              "      <th>app_os_confRate</th>\n",
              "      <th>app_device_confRate</th>\n",
              "      <th>channel_os_confRate</th>\n",
              "      <th>channel_device_confRate</th>\n",
              "      <th>os_device_confRate</th>\n",
              "      <th>ip_app_channel_var_day</th>\n",
              "      <th>ip_app_os_var_hour</th>\n",
              "    </tr>\n",
              "  </thead>\n",
              "  <tbody>\n",
              "    <tr>\n",
              "      <th>0</th>\n",
              "      <td>109591</td>\n",
              "      <td>3</td>\n",
              "      <td>1</td>\n",
              "      <td>19</td>\n",
              "      <td>379</td>\n",
              "      <td>2017-11-06 15:46:02</td>\n",
              "      <td>NaN</td>\n",
              "      <td>0</td>\n",
              "      <td>6</td>\n",
              "      <td>15</td>\n",
              "      <td>46</td>\n",
              "      <td>2</td>\n",
              "      <td>0.0</td>\n",
              "      <td>0.00036</td>\n",
              "      <td>0.00174</td>\n",
              "      <td>0.001919</td>\n",
              "      <td>0.000417</td>\n",
              "      <td>0.000561</td>\n",
              "      <td>0.000292</td>\n",
              "      <td>0.000373</td>\n",
              "      <td>0.00047</td>\n",
              "      <td>0.00042</td>\n",
              "      <td>0.001951</td>\n",
              "      <td>NaN</td>\n",
              "      <td>NaN</td>\n",
              "    </tr>\n",
              "    <tr>\n",
              "      <th>1</th>\n",
              "      <td>165679</td>\n",
              "      <td>3</td>\n",
              "      <td>1</td>\n",
              "      <td>23</td>\n",
              "      <td>379</td>\n",
              "      <td>2017-11-06 15:46:51</td>\n",
              "      <td>NaN</td>\n",
              "      <td>0</td>\n",
              "      <td>6</td>\n",
              "      <td>15</td>\n",
              "      <td>46</td>\n",
              "      <td>51</td>\n",
              "      <td>0.0</td>\n",
              "      <td>0.00036</td>\n",
              "      <td>0.00174</td>\n",
              "      <td>0.000885</td>\n",
              "      <td>0.000417</td>\n",
              "      <td>0.000561</td>\n",
              "      <td>0.000426</td>\n",
              "      <td>0.000373</td>\n",
              "      <td>0.00000</td>\n",
              "      <td>0.00042</td>\n",
              "      <td>0.000897</td>\n",
              "      <td>NaN</td>\n",
              "      <td>NaN</td>\n",
              "    </tr>\n",
              "  </tbody>\n",
              "</table>\n",
              "</div>"
            ],
            "text/plain": [
              "       ip  app  ...  ip_app_channel_var_day  ip_app_os_var_hour\n",
              "0  109591    3  ...                     NaN                 NaN\n",
              "1  165679    3  ...                     NaN                 NaN\n",
              "\n",
              "[2 rows x 25 columns]"
            ]
          },
          "metadata": {
            "tags": []
          },
          "execution_count": 46
        },
        {
          "output_type": "stream",
          "text": [
            "    ip  app  channel       var\n",
            "0    6    2      435       NaN\n",
            "1    6    2      477       NaN\n",
            "2    6    3      280       NaN\n",
            "3    6    9      107       NaN\n",
            "4    6    9      466       NaN\n",
            "5    6   15      245       NaN\n",
            "6    9    1      124       NaN\n",
            "7    9    2      237       NaN\n",
            "8    9    2      377       NaN\n",
            "9    9    2      452       NaN\n",
            "10   9    3      115       NaN\n",
            "11   9    3      205       NaN\n",
            "12   9    3      211       NaN\n",
            "13   9    3      280  0.333333\n",
            "14   9    9      134       NaN\n",
            "15   9    9      215  0.500000\n",
            "16   9    9      334       NaN\n",
            "17   9    9      489       NaN\n",
            "18   9   12      265       NaN\n",
            "19   9   14      439       NaN\n",
            "20   9   15      245  0.000000\n",
            "21   9   15      278       NaN\n",
            "22   9   15      480       NaN\n",
            "23   9   18      107       NaN\n",
            "24   9   18      121       NaN\n",
            "25   9   19      213       NaN\n",
            "26   9   23      153  0.500000\n",
            "27   9   64      459       NaN\n",
            "28  10    3      280       NaN\n",
            "29  10    3      442       NaN\n",
            "    ip  app  os        var\n",
            "0    6    2  19   0.500000\n",
            "1    6    3   8        NaN\n",
            "2    6    9  17        NaN\n",
            "3    6    9  41        NaN\n",
            "4    6   15  23        NaN\n",
            "5    9    1  13        NaN\n",
            "6    9    2   1        NaN\n",
            "7    9    2  13        NaN\n",
            "8    9    2  53        NaN\n",
            "9    9    3   6  18.000000\n",
            "10   9    3  13  57.333333\n",
            "11   9    3  19        NaN\n",
            "12   9    3  41        NaN\n",
            "13   9    9   1        NaN\n",
            "14   9    9  13  32.000000\n",
            "15   9    9  19        NaN\n",
            "16   9    9  26        NaN\n",
            "17   9   12  26        NaN\n",
            "18   9   14  32        NaN\n",
            "19   9   15  13        NaN\n",
            "20   9   15  18        NaN\n",
            "21   9   15  19        NaN\n",
            "22   9   15  37        NaN\n",
            "23   9   18  13        NaN\n",
            "24   9   18  19        NaN\n",
            "25   9   19  38        NaN\n",
            "26   9   23  19        NaN\n",
            "27   9   23  41        NaN\n",
            "28   9   64  13        NaN\n",
            "29  10    3  13        NaN\n"
          ],
          "name": "stdout"
        }
      ]
    },
    {
      "cell_type": "code",
      "metadata": {
        "colab": {
          "base_uri": "https://localhost:8080/",
          "height": 216
        },
        "id": "kvGpI0ISDJyA",
        "outputId": "84236a75-bec8-4832-8e87-12afe1c7a47a"
      },
      "source": [
        "abc.head(3)"
      ],
      "execution_count": null,
      "outputs": [
        {
          "output_type": "execute_result",
          "data": {
            "text/html": [
              "<div>\n",
              "<style scoped>\n",
              "    .dataframe tbody tr th:only-of-type {\n",
              "        vertical-align: middle;\n",
              "    }\n",
              "\n",
              "    .dataframe tbody tr th {\n",
              "        vertical-align: top;\n",
              "    }\n",
              "\n",
              "    .dataframe thead th {\n",
              "        text-align: right;\n",
              "    }\n",
              "</style>\n",
              "<table border=\"1\" class=\"dataframe\">\n",
              "  <thead>\n",
              "    <tr style=\"text-align: right;\">\n",
              "      <th></th>\n",
              "      <th>ip</th>\n",
              "      <th>app</th>\n",
              "      <th>device</th>\n",
              "      <th>os</th>\n",
              "      <th>channel</th>\n",
              "      <th>click_time</th>\n",
              "      <th>attributed_time</th>\n",
              "      <th>is_attributed</th>\n",
              "      <th>day</th>\n",
              "      <th>hour</th>\n",
              "      <th>minute</th>\n",
              "      <th>second</th>\n",
              "      <th>ip_confRate</th>\n",
              "      <th>app_confRate</th>\n",
              "      <th>device_confRate</th>\n",
              "      <th>os_confRate</th>\n",
              "      <th>channel_confRate</th>\n",
              "      <th>app_channel_confRate</th>\n",
              "      <th>app_os_confRate</th>\n",
              "      <th>app_device_confRate</th>\n",
              "      <th>channel_os_confRate</th>\n",
              "      <th>channel_device_confRate</th>\n",
              "      <th>os_device_confRate</th>\n",
              "    </tr>\n",
              "  </thead>\n",
              "  <tbody>\n",
              "    <tr>\n",
              "      <th>0</th>\n",
              "      <td>191851</td>\n",
              "      <td>2</td>\n",
              "      <td>1</td>\n",
              "      <td>13</td>\n",
              "      <td>477</td>\n",
              "      <td>2017-11-06 16:00:01</td>\n",
              "      <td>NaN</td>\n",
              "      <td>0</td>\n",
              "      <td>6</td>\n",
              "      <td>16</td>\n",
              "      <td>0</td>\n",
              "      <td>1</td>\n",
              "      <td>0.0</td>\n",
              "      <td>0.000212</td>\n",
              "      <td>0.001773</td>\n",
              "      <td>0.001535</td>\n",
              "      <td>0.000094</td>\n",
              "      <td>0.000086</td>\n",
              "      <td>0.000143</td>\n",
              "      <td>0.000223</td>\n",
              "      <td>0.0</td>\n",
              "      <td>0.000096</td>\n",
              "      <td>0.001591</td>\n",
              "    </tr>\n",
              "    <tr>\n",
              "      <th>1</th>\n",
              "      <td>123872</td>\n",
              "      <td>12</td>\n",
              "      <td>1</td>\n",
              "      <td>8</td>\n",
              "      <td>245</td>\n",
              "      <td>2017-11-06 16:01:03</td>\n",
              "      <td>NaN</td>\n",
              "      <td>0</td>\n",
              "      <td>6</td>\n",
              "      <td>16</td>\n",
              "      <td>1</td>\n",
              "      <td>3</td>\n",
              "      <td>0.0</td>\n",
              "      <td>0.000107</td>\n",
              "      <td>0.001773</td>\n",
              "      <td>0.001027</td>\n",
              "      <td>0.000078</td>\n",
              "      <td>0.000051</td>\n",
              "      <td>0.000000</td>\n",
              "      <td>0.000114</td>\n",
              "      <td>0.0</td>\n",
              "      <td>0.000081</td>\n",
              "      <td>0.001055</td>\n",
              "    </tr>\n",
              "    <tr>\n",
              "      <th>2</th>\n",
              "      <td>83306</td>\n",
              "      <td>18</td>\n",
              "      <td>1</td>\n",
              "      <td>17</td>\n",
              "      <td>121</td>\n",
              "      <td>2017-11-06 16:20:48</td>\n",
              "      <td>NaN</td>\n",
              "      <td>0</td>\n",
              "      <td>6</td>\n",
              "      <td>16</td>\n",
              "      <td>20</td>\n",
              "      <td>48</td>\n",
              "      <td>0.0</td>\n",
              "      <td>0.000558</td>\n",
              "      <td>0.001773</td>\n",
              "      <td>0.001333</td>\n",
              "      <td>0.000349</td>\n",
              "      <td>0.000395</td>\n",
              "      <td>0.000502</td>\n",
              "      <td>0.000587</td>\n",
              "      <td>0.0</td>\n",
              "      <td>0.000357</td>\n",
              "      <td>0.001355</td>\n",
              "    </tr>\n",
              "  </tbody>\n",
              "</table>\n",
              "</div>"
            ],
            "text/plain": [
              "       ip  app  ...  channel_device_confRate  os_device_confRate\n",
              "0  191851    2  ...                 0.000096            0.001591\n",
              "1  123872   12  ...                 0.000081            0.001055\n",
              "2   83306   18  ...                 0.000357            0.001355\n",
              "\n",
              "[3 rows x 23 columns]"
            ]
          },
          "metadata": {
            "tags": []
          },
          "execution_count": 30
        }
      ]
    },
    {
      "cell_type": "markdown",
      "metadata": {
        "id": "pEhEHu1zjjiH"
      },
      "source": [
        "##Perform final feature generation\n",
        "We now use the above experiments to write our final function and perform feature generation (among explanatory features)."
      ]
    },
    {
      "cell_type": "markdown",
      "metadata": {
        "id": "aYAnTmkGnbag"
      },
      "source": [
        "###First develop grouping plan\n",
        "Plan describes:<br> i) which features will be grouped,<br> ii) which feature will be summarised, and<br> iii) what kind of summary (count, var etc)"
      ]
    },
    {
      "cell_type": "code",
      "metadata": {
        "id": "enxYId5HD7nP"
      },
      "source": [
        " # Define all the groupby transformations\n",
        "GROUPBY_AGGREGATIONS = [\n",
        "    \n",
        "    # V1 - GroupBy Features #\n",
        "    #########################    \n",
        "    # Variance in day, for ip-app-channel\n",
        "    {'groupby': ['ip','app','channel'], 'select': 'day', 'agg': 'var'},\n",
        "    # Variance in hour, for ip-app-os\n",
        "    {'groupby': ['ip','app','os'], 'select': 'hour', 'agg': 'var'},\n",
        "    # Variance in hour, for ip-day-channel\n",
        "    {'groupby': ['ip','day','channel'], 'select': 'hour', 'agg': 'var'},\n",
        "    # Count, for ip-day-hour\n",
        "    {'groupby': ['ip','day','hour'], 'select': 'channel', 'agg': 'count'},\n",
        "    # Count, for ip-app\n",
        "    {'groupby': ['ip', 'app'], 'select': 'channel', 'agg': 'count'},        \n",
        "    # Count, for ip-app-os\n",
        "    {'groupby': ['ip', 'app', 'os'], 'select': 'channel', 'agg': 'count'},\n",
        "    # Count, for ip-app-day-hour\n",
        "    {'groupby': ['ip','app','day','hour'], 'select': 'channel', 'agg': 'count'},\n",
        "    # Mean hour, for ip-app-channel\n",
        "    {'groupby': ['ip','app','channel'], 'select': 'hour', 'agg': 'mean'}, \n",
        "    \n",
        "    # V2 - GroupBy Features #\n",
        "    #########################\n",
        "    # Average clicks on app by distinct users; is it an app they return to?\n",
        "    {'groupby': ['app'], \n",
        "     'select': 'ip', \n",
        "     'agg': lambda x: float(len(x)) / len(x.unique()), \n",
        "     'agg_name': 'AvgViewPerDistinct'\n",
        "    },\n",
        "    # How popular is the app or channel?\n",
        "    {'groupby': ['app'], 'select': 'channel', 'agg': 'count'},\n",
        "    {'groupby': ['channel'], 'select': 'app', 'agg': 'count'},\n",
        "    \n",
        "    # V3 - GroupBy Features                                              #\n",
        "    # https://www.kaggle.com/bk0000/non-blending-lightgbm-model-lb-0-977 #\n",
        "    ###################################################################### \n",
        "    {'groupby': ['ip'], 'select': 'channel', 'agg': 'nunique'}, \n",
        "    {'groupby': ['ip'], 'select': 'app', 'agg': 'nunique'}, \n",
        "    {'groupby': ['ip','day'], 'select': 'hour', 'agg': 'nunique'}, \n",
        "    {'groupby': ['ip','app'], 'select': 'os', 'agg': 'nunique'}, \n",
        "    {'groupby': ['ip'], 'select': 'device', 'agg': 'nunique'}, \n",
        "    {'groupby': ['app'], 'select': 'channel', 'agg': 'nunique'}, \n",
        "    {'groupby': ['ip', 'device', 'os'], 'select': 'app', 'agg': 'nunique'}, \n",
        "    {'groupby': ['ip','device','os'], 'select': 'app', 'agg': 'cumcount'}, \n",
        "    {'groupby': ['ip'], 'select': 'app', 'agg': 'cumcount'}, \n",
        "    {'groupby': ['ip'], 'select': 'os', 'agg': 'cumcount'}, \n",
        "    {'groupby': ['ip','day','channel'], 'select': 'hour', 'agg': 'var'}    \n",
        "]"
      ],
      "execution_count": null,
      "outputs": []
    },
    {
      "cell_type": "markdown",
      "metadata": {
        "id": "vPnP4hzUngDP"
      },
      "source": [
        "###Next, use the plan \n",
        "Write now a for-loop to go over the plan, one at a time. In the for-loop,as and when new-feature is created, go on merging this new-feature with the train data after giving appropriate name (or a descriptive name) to the new-feature"
      ]
    },
    {
      "cell_type": "code",
      "metadata": {
        "colab": {
          "base_uri": "https://localhost:8080/"
        },
        "id": "kb1qVBkFD9mn",
        "outputId": "d1042f6c-3a6b-41a1-81f2-11f837626102"
      },
      "source": [
        "# Apply all the groupby transformations\n",
        "for spec in GROUPBY_AGGREGATIONS:\n",
        "    \n",
        "    # Name of the aggregation we're applying\n",
        "    agg_name = spec['agg_name'] if 'agg_name' in spec else spec['agg']\n",
        "    \n",
        "    # Name of new feature\n",
        "    new_feature = '{}_{}_{}'.format('_'.join(spec['groupby']), agg_name, spec['select'])\n",
        "    \n",
        "    # Info\n",
        "    print(\"Grouping by {}, and aggregating {} with {}\".format(\n",
        "        spec['groupby'], spec['select'], agg_name\n",
        "    ))\n",
        "    \n",
        "    # Unique list of features to select\n",
        "    all_features = list(set(spec['groupby'] + [spec['select']]))\n",
        "    \n",
        "    # Perform the groupby\n",
        "    gp = train[all_features]. \\\n",
        "        groupby(spec['groupby'])[spec['select']]. \\\n",
        "        agg(spec['agg']). \\\n",
        "        reset_index(). \\\n",
        "        rename(index=str, columns={spec['select']: new_feature})\n",
        "        \n",
        "    # Merge back to X_total\n",
        "    if 'cumcount' == spec['agg']:\n",
        "        train[new_feature] = gp[0].values\n",
        "    else:\n",
        "        train = train.merge(gp, on=spec['groupby'], how='left')\n",
        "        \n",
        "     # Clear memory\n",
        "    del gp\n",
        "    gc.collect()"
      ],
      "execution_count": null,
      "outputs": [
        {
          "output_type": "stream",
          "text": [
            "Grouping by ['ip', 'app', 'channel'], and aggregating day with var\n"
          ],
          "name": "stdout"
        },
        {
          "output_type": "execute_result",
          "data": {
            "text/plain": [
              "819"
            ]
          },
          "metadata": {
            "tags": []
          },
          "execution_count": 126
        },
        {
          "output_type": "stream",
          "text": [
            "Grouping by ['ip', 'app', 'os'], and aggregating hour with var\n"
          ],
          "name": "stdout"
        },
        {
          "output_type": "execute_result",
          "data": {
            "text/plain": [
              "0"
            ]
          },
          "metadata": {
            "tags": []
          },
          "execution_count": 126
        },
        {
          "output_type": "stream",
          "text": [
            "Grouping by ['ip', 'day', 'channel'], and aggregating hour with var\n"
          ],
          "name": "stdout"
        },
        {
          "output_type": "execute_result",
          "data": {
            "text/plain": [
              "0"
            ]
          },
          "metadata": {
            "tags": []
          },
          "execution_count": 126
        },
        {
          "output_type": "stream",
          "text": [
            "Grouping by ['ip', 'day', 'hour'], and aggregating channel with count\n"
          ],
          "name": "stdout"
        },
        {
          "output_type": "execute_result",
          "data": {
            "text/plain": [
              "0"
            ]
          },
          "metadata": {
            "tags": []
          },
          "execution_count": 126
        },
        {
          "output_type": "stream",
          "text": [
            "Grouping by ['ip', 'app'], and aggregating channel with count\n"
          ],
          "name": "stdout"
        },
        {
          "output_type": "execute_result",
          "data": {
            "text/plain": [
              "0"
            ]
          },
          "metadata": {
            "tags": []
          },
          "execution_count": 126
        },
        {
          "output_type": "stream",
          "text": [
            "Grouping by ['ip', 'app', 'os'], and aggregating channel with count\n"
          ],
          "name": "stdout"
        },
        {
          "output_type": "execute_result",
          "data": {
            "text/plain": [
              "0"
            ]
          },
          "metadata": {
            "tags": []
          },
          "execution_count": 126
        },
        {
          "output_type": "stream",
          "text": [
            "Grouping by ['ip', 'app', 'day', 'hour'], and aggregating channel with count\n"
          ],
          "name": "stdout"
        },
        {
          "output_type": "execute_result",
          "data": {
            "text/plain": [
              "0"
            ]
          },
          "metadata": {
            "tags": []
          },
          "execution_count": 126
        },
        {
          "output_type": "stream",
          "text": [
            "Grouping by ['ip', 'app', 'channel'], and aggregating hour with mean\n"
          ],
          "name": "stdout"
        },
        {
          "output_type": "execute_result",
          "data": {
            "text/plain": [
              "0"
            ]
          },
          "metadata": {
            "tags": []
          },
          "execution_count": 126
        },
        {
          "output_type": "stream",
          "text": [
            "Grouping by ['app'], and aggregating ip with AvgViewPerDistinct\n"
          ],
          "name": "stdout"
        },
        {
          "output_type": "execute_result",
          "data": {
            "text/plain": [
              "0"
            ]
          },
          "metadata": {
            "tags": []
          },
          "execution_count": 126
        },
        {
          "output_type": "stream",
          "text": [
            "Grouping by ['app'], and aggregating channel with count\n"
          ],
          "name": "stdout"
        },
        {
          "output_type": "execute_result",
          "data": {
            "text/plain": [
              "0"
            ]
          },
          "metadata": {
            "tags": []
          },
          "execution_count": 126
        },
        {
          "output_type": "stream",
          "text": [
            "Grouping by ['channel'], and aggregating app with count\n"
          ],
          "name": "stdout"
        },
        {
          "output_type": "execute_result",
          "data": {
            "text/plain": [
              "0"
            ]
          },
          "metadata": {
            "tags": []
          },
          "execution_count": 126
        },
        {
          "output_type": "stream",
          "text": [
            "Grouping by ['ip'], and aggregating channel with nunique\n"
          ],
          "name": "stdout"
        },
        {
          "output_type": "execute_result",
          "data": {
            "text/plain": [
              "0"
            ]
          },
          "metadata": {
            "tags": []
          },
          "execution_count": 126
        },
        {
          "output_type": "stream",
          "text": [
            "Grouping by ['ip'], and aggregating app with nunique\n"
          ],
          "name": "stdout"
        },
        {
          "output_type": "execute_result",
          "data": {
            "text/plain": [
              "0"
            ]
          },
          "metadata": {
            "tags": []
          },
          "execution_count": 126
        },
        {
          "output_type": "stream",
          "text": [
            "Grouping by ['ip', 'day'], and aggregating hour with nunique\n"
          ],
          "name": "stdout"
        },
        {
          "output_type": "execute_result",
          "data": {
            "text/plain": [
              "0"
            ]
          },
          "metadata": {
            "tags": []
          },
          "execution_count": 126
        },
        {
          "output_type": "stream",
          "text": [
            "Grouping by ['ip', 'app'], and aggregating os with nunique\n"
          ],
          "name": "stdout"
        },
        {
          "output_type": "execute_result",
          "data": {
            "text/plain": [
              "0"
            ]
          },
          "metadata": {
            "tags": []
          },
          "execution_count": 126
        },
        {
          "output_type": "stream",
          "text": [
            "Grouping by ['ip'], and aggregating device with nunique\n"
          ],
          "name": "stdout"
        },
        {
          "output_type": "execute_result",
          "data": {
            "text/plain": [
              "0"
            ]
          },
          "metadata": {
            "tags": []
          },
          "execution_count": 126
        },
        {
          "output_type": "stream",
          "text": [
            "Grouping by ['app'], and aggregating channel with nunique\n"
          ],
          "name": "stdout"
        },
        {
          "output_type": "execute_result",
          "data": {
            "text/plain": [
              "0"
            ]
          },
          "metadata": {
            "tags": []
          },
          "execution_count": 126
        },
        {
          "output_type": "stream",
          "text": [
            "Grouping by ['ip', 'device', 'os'], and aggregating app with nunique\n"
          ],
          "name": "stdout"
        },
        {
          "output_type": "execute_result",
          "data": {
            "text/plain": [
              "0"
            ]
          },
          "metadata": {
            "tags": []
          },
          "execution_count": 126
        },
        {
          "output_type": "stream",
          "text": [
            "Grouping by ['ip', 'device', 'os'], and aggregating app with cumcount\n"
          ],
          "name": "stdout"
        },
        {
          "output_type": "execute_result",
          "data": {
            "text/plain": [
              "0"
            ]
          },
          "metadata": {
            "tags": []
          },
          "execution_count": 126
        },
        {
          "output_type": "stream",
          "text": [
            "Grouping by ['ip'], and aggregating app with cumcount\n"
          ],
          "name": "stdout"
        },
        {
          "output_type": "execute_result",
          "data": {
            "text/plain": [
              "0"
            ]
          },
          "metadata": {
            "tags": []
          },
          "execution_count": 126
        },
        {
          "output_type": "stream",
          "text": [
            "Grouping by ['ip'], and aggregating os with cumcount\n"
          ],
          "name": "stdout"
        },
        {
          "output_type": "execute_result",
          "data": {
            "text/plain": [
              "0"
            ]
          },
          "metadata": {
            "tags": []
          },
          "execution_count": 126
        },
        {
          "output_type": "stream",
          "text": [
            "Grouping by ['ip', 'day', 'channel'], and aggregating hour with var\n"
          ],
          "name": "stdout"
        },
        {
          "output_type": "execute_result",
          "data": {
            "text/plain": [
              "0"
            ]
          },
          "metadata": {
            "tags": []
          },
          "execution_count": 126
        }
      ]
    },
    {
      "cell_type": "markdown",
      "metadata": {
        "id": "Y77rjgHEphTG"
      },
      "source": [
        "##Save your data\n",
        "As the final data will have very large number of features and you do not want to go over it again, save to Google drive for later use."
      ]
    },
    {
      "cell_type": "code",
      "metadata": {
        "id": "xQGd_XB-kWgO"
      },
      "source": [
        "#####################"
      ],
      "execution_count": null,
      "outputs": []
    }
  ]
}