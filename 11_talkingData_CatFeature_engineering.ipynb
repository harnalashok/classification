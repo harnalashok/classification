{
  "nbformat": 4,
  "nbformat_minor": 0,
  "metadata": {
    "kernelspec": {
      "display_name": "h2o",
      "language": "python",
      "name": "h2o"
    },
    "language_info": {
      "codemirror_mode": {
        "name": "ipython",
        "version": 3
      },
      "file_extension": ".py",
      "mimetype": "text/x-python",
      "name": "python",
      "nbconvert_exporter": "python",
      "pygments_lexer": "ipython3",
      "version": "3.6.12"
    },
    "colab": {
      "name": "talkingData_CatFeature engineering.ipynb",
      "provenance": [],
      "collapsed_sections": [],
      "include_colab_link": true
    }
  },
  "cells": [
    {
      "cell_type": "markdown",
      "metadata": {
        "id": "view-in-github",
        "colab_type": "text"
      },
      "source": [
        "<a href=\"https://colab.research.google.com/github/harnalashok/classification/blob/main/11_talkingData_CatFeature_engineering.ipynb\" target=\"_parent\"><img src=\"https://colab.research.google.com/assets/colab-badge.svg\" alt=\"Open In Colab\"/></a>"
      ]
    },
    {
      "cell_type": "code",
      "metadata": {
        "id": "rk_aNZnekWfk"
      },
      "source": [
        "# Last amended: 25th July, 2021\n",
        "# Myfolder: C:\\Users\\Administrator\\OneDrive\\Documents\\talkingdata\n",
        "# Ref: https://www.kaggle.com/nanomathias/feature-engineering-importance-testing\n",
        "#      https://www.kaggle.com/nuhsikander/lgbm-new-features-corrected\n",
        "#      https://github.com/harnalashok/h2o\n",
        "#\n",
        "# Data source: https://www.kaggle.com/c/talkingdata-adtracking-fraud-detection\n",
        "# Objectives:\n",
        "#           i)    Categorical feature engineering\n",
        "#                 using aggregation"
      ],
      "execution_count": null,
      "outputs": []
    },
    {
      "cell_type": "markdown",
      "metadata": {
        "id": "i8_6qUCwd9Cn"
      },
      "source": [
        "## About the Problem"
      ]
    },
    {
      "cell_type": "markdown",
      "metadata": {
        "id": "RSR1T4kbGiVO"
      },
      "source": [
        "Fraud risk is everywhere, but for companies that advertise online, click fraud can happen at an overwhelming volume, resulting in misleading click data and wasted money. Ad channels can drive up costs by simply clicking on the ad at a large scale. With over 1 billion smart mobile devices in active use every month, China is the largest\n",
        "mobile market in the world and therefore suffers from huge volumes of fradulent traffic.\n",
        "\n",
        "TalkingData, China’s largest independent big data service platform, covers over 70% of active mobile devices nationwide. They handle 3 billion clicks per day, of which 90% are potentially fraudulent. Their current approach to prevent click fraud for app developers is to measure the journey of a user’s click across their portfolio, and flag IP addresses who produce lots of clicks, but never end up installing apps. With this information, they've built an IP blacklist and device blacklist.\n",
        "\n",
        "While successful, they want to always be one step ahead of fraudsters and have turned to the Kaggle community for help in further developing their solution. In their 2nd competition with Kaggle, you’re challenged to build an algorithm that predicts whether a user will download an app after clicking a mobile app ad. To support your modeling, they have provided a generous dataset covering approximately 200 million clicks over 4 days!"
      ]
    },
    {
      "cell_type": "markdown",
      "metadata": {
        "id": "XxWaVXuYeUyl"
      },
      "source": [
        "### Data fields\n",
        "\n",
        "Each row of the training data contains a click record, with the following features.\n",
        "\n",
        "    ip: ip address of click.\n",
        "    app: app id for marketing.\n",
        "    device: device type id of user mobile phone (e.g., iphone 6 plus, iphone 7, huawei mate 7, etc.)\n",
        "    os: os version id of user mobile phone\n",
        "    channel: channel id of mobile ad publisher\n",
        "    click_time: timestamp of click (UTC)\n",
        "    attributed_time: if user download the app for after clicking an ad, this is the time of the app download\n",
        "    is_attributed: the target that is to be predicted, indicating the app was downloaded\n"
      ]
    },
    {
      "cell_type": "markdown",
      "metadata": {
        "id": "yHTsjpcyHq08"
      },
      "source": [
        "##How to create new features from categorical features"
      ]
    },
    {
      "cell_type": "markdown",
      "metadata": {
        "id": "bcmSTbc0rkGE"
      },
      "source": [
        ">Categorical features can be encoded either using OneHotEncoding technique or using Hashing technique. But if the categorical features have bery large number of levels, then in both cases very large number of features will be generated.  \n",
        "Another option is to develop new features by transforming each cat-feature to one numeric column. There can be many ways to do this and, therefore, one cat-feature can get transformed to many numeric features. But, when we do this, we have a control over how many numeric columns we create and can also examine which are more important. This example demonstartes feature creation using this option. "
      ]
    },
    {
      "cell_type": "markdown",
      "metadata": {
        "id": "RNXnyNHml046"
      },
      "source": [
        "##Mounting Google Drive and calling libraries"
      ]
    },
    {
      "cell_type": "code",
      "metadata": {
        "id": "91k9nYm1iDo1",
        "colab": {
          "base_uri": "https://localhost:8080/"
        },
        "outputId": "d01ca49e-906c-4aef-fc8b-5b77ca3d3484"
      },
      "source": [
        "# 1.0 Mount your google drive \n",
        "#      so that you can access data files \n",
        "#      on your Google Drive\n",
        "from google.colab import drive\n",
        "drive.mount('/content/drive', force_remount=True)"
      ],
      "execution_count": 1,
      "outputs": [
        {
          "output_type": "stream",
          "text": [
            "Mounted at /content/drive\n"
          ],
          "name": "stdout"
        }
      ]
    },
    {
      "cell_type": "code",
      "metadata": {
        "id": "YUvGeAu5iHnU"
      },
      "source": [
        "# 1.1 Call libraries\n",
        "# %reset -f\n",
        "import numpy as np\n",
        "import pandas as pd\n",
        "import matplotlib.pyplot as plt\n",
        "import random, gc\n",
        "import os,time"
      ],
      "execution_count": 2,
      "outputs": []
    },
    {
      "cell_type": "code",
      "metadata": {
        "id": "hBtMbDZhiMqC"
      },
      "source": [
        "# 1.2 Display output from multiple commands\n",
        "from IPython.core.interactiveshell import InteractiveShell\n",
        "InteractiveShell.ast_node_interactivity = \"all\""
      ],
      "execution_count": 3,
      "outputs": []
    },
    {
      "cell_type": "code",
      "metadata": {
        "id": "e_hc_871iR1t",
        "colab": {
          "base_uri": "https://localhost:8080/"
        },
        "outputId": "8ba47daf-7e89-4f0b-90e4-399f6626b6e4"
      },
      "source": [
        "# 1.3 Change folder to where TalkingData is:\n",
        "#os.chdir(\"C:\\\\Users\\\\Administrator\\\\OneDrive\\\\Documents\\\\talkingdata\")\n",
        "path =  \"/content/drive/MyDrive/Colab_data_files/talkingData/\"\n",
        "os.listdir(path)"
      ],
      "execution_count": 4,
      "outputs": [
        {
          "output_type": "execute_result",
          "data": {
            "text/plain": [
              "['train.csv', 'test.csv.zip', 'train.csv.zip', 'talkingData_sample.csv.zip']"
            ]
          },
          "metadata": {
            "tags": []
          },
          "execution_count": 4
        }
      ]
    },
    {
      "cell_type": "markdown",
      "metadata": {
        "id": "IXpTihGBGtpa"
      },
      "source": [
        "## Feature Engineering\n",
        "Should feature extraction be from train only or from train+test"
      ]
    },
    {
      "cell_type": "markdown",
      "metadata": {
        "id": "-MhBI_bOvLwP"
      },
      "source": [
        ">    \"*As Andy once said in the comment of a kernel(Sorry, i can't remember which kernel since i have try more than 20 until now): There is nothing to stop us from doing that. I think that makes sense because when we generate some new features using frequency,mean,var,count,unique etc. , we want to get the accurate numerical number as much as we can which is close to the hidden population distribution statistically in this 4 days , test set is also a sample of this population distribution in this 4 days, So we NEED to use train/test set together to generate the statistical features which can help us get close to the hidden population distribution. And as you can imagine, If we can use the entire train/test set to compute the features, that certainly would be more accurate to train our model.*\"\n",
        "\n",
        ">    \"*A perfect algorithm might not need these features. But no algorithm is perfect so you can think of derived features as aiding/helping the classifier figure out what might be relevant to classify correctly.*\"\n"
      ]
    },
    {
      "cell_type": "markdown",
      "metadata": {
        "id": "7xx39pOEU25F"
      },
      "source": [
        "##Read full Data\n",
        "Read either full data or sample data"
      ]
    },
    {
      "cell_type": "code",
      "metadata": {
        "id": "fa8STWffHT9_"
      },
      "source": [
        "# 2.0 From our experience of earlier reading of data\n",
        "#      we know that data types of some of the features.\n",
        "#       We use those data-types leading to almost half \n",
        "#        of memory-usage\n",
        "\n",
        "%%time\n",
        "\n",
        "dtypes = {\n",
        "        'ip'            : 'uint32',\n",
        "        'app'           : 'uint16',\n",
        "        'device'        : 'uint16',\n",
        "        'os'            : 'uint16',\n",
        "        'channel'       : 'uint16',\n",
        "        'is_attributed' : 'uint8',\n",
        "        'click_id'      : 'uint32'\n",
        "        }\n",
        "\n",
        "print('load train...')\n",
        "\n",
        "\n",
        "# 2.2.1 How to pick up random rows from hard-disk\n",
        "#       without first loading the complete file in RAM\n",
        "#       Toss a coin:\n",
        "#           At each row, toss a biased-coin: 60%->Head, 40%->tail\n",
        "#           If tail comes, select the row else not.\n",
        "#           Toss a coin: random.random()\n",
        "#           Head occurs if value > 0.6 else it is tail\n",
        "#\n",
        "#       We do not toss the coin for header row. Keep the header\n",
        "train = pd.read_csv(\n",
        "                     path + \"train.csv.zip\",  # Not reading test.csv.zip\n",
        "                     header=0,  # First row is header-row\n",
        "                                # 'and' operator returns True if both values are True\n",
        "                                #  random.random() returns values between (0,1)\n",
        "                                #  No of rows skipped will be around 60% of total\n",
        "                      dtype=dtypes,\n",
        "                      # We read all columns. Here are the column-names\n",
        "                      #  in the sequence they occur in the train data\n",
        "                      usecols=['ip','app','device','os', 'channel', 'click_time', 'attributed_time', 'is_attributed']\n",
        "                    )\n"
      ],
      "execution_count": null,
      "outputs": []
    },
    {
      "cell_type": "code",
      "metadata": {
        "colab": {
          "base_uri": "https://localhost:8080/",
          "height": 206
        },
        "id": "Jl_to9k4Ncx7",
        "outputId": "0914c9f8-de34-40d6-fe68-c9c61bf9870c"
      },
      "source": [
        "# 2.2.2\n",
        "train.head()"
      ],
      "execution_count": 8,
      "outputs": [
        {
          "output_type": "execute_result",
          "data": {
            "text/html": [
              "<div>\n",
              "<style scoped>\n",
              "    .dataframe tbody tr th:only-of-type {\n",
              "        vertical-align: middle;\n",
              "    }\n",
              "\n",
              "    .dataframe tbody tr th {\n",
              "        vertical-align: top;\n",
              "    }\n",
              "\n",
              "    .dataframe thead th {\n",
              "        text-align: right;\n",
              "    }\n",
              "</style>\n",
              "<table border=\"1\" class=\"dataframe\">\n",
              "  <thead>\n",
              "    <tr style=\"text-align: right;\">\n",
              "      <th></th>\n",
              "      <th>ip</th>\n",
              "      <th>app</th>\n",
              "      <th>device</th>\n",
              "      <th>os</th>\n",
              "      <th>channel</th>\n",
              "      <th>click_time</th>\n",
              "      <th>attributed_time</th>\n",
              "      <th>is_attributed</th>\n",
              "    </tr>\n",
              "  </thead>\n",
              "  <tbody>\n",
              "    <tr>\n",
              "      <th>0</th>\n",
              "      <td>83230</td>\n",
              "      <td>3</td>\n",
              "      <td>1</td>\n",
              "      <td>13</td>\n",
              "      <td>379</td>\n",
              "      <td>2017-11-06 14:32:21</td>\n",
              "      <td>NaN</td>\n",
              "      <td>0</td>\n",
              "    </tr>\n",
              "    <tr>\n",
              "      <th>1</th>\n",
              "      <td>17357</td>\n",
              "      <td>3</td>\n",
              "      <td>1</td>\n",
              "      <td>19</td>\n",
              "      <td>379</td>\n",
              "      <td>2017-11-06 14:33:34</td>\n",
              "      <td>NaN</td>\n",
              "      <td>0</td>\n",
              "    </tr>\n",
              "    <tr>\n",
              "      <th>2</th>\n",
              "      <td>35810</td>\n",
              "      <td>3</td>\n",
              "      <td>1</td>\n",
              "      <td>13</td>\n",
              "      <td>379</td>\n",
              "      <td>2017-11-06 14:34:12</td>\n",
              "      <td>NaN</td>\n",
              "      <td>0</td>\n",
              "    </tr>\n",
              "    <tr>\n",
              "      <th>3</th>\n",
              "      <td>45745</td>\n",
              "      <td>14</td>\n",
              "      <td>1</td>\n",
              "      <td>13</td>\n",
              "      <td>478</td>\n",
              "      <td>2017-11-06 14:34:52</td>\n",
              "      <td>NaN</td>\n",
              "      <td>0</td>\n",
              "    </tr>\n",
              "    <tr>\n",
              "      <th>4</th>\n",
              "      <td>161007</td>\n",
              "      <td>3</td>\n",
              "      <td>1</td>\n",
              "      <td>13</td>\n",
              "      <td>379</td>\n",
              "      <td>2017-11-06 14:35:08</td>\n",
              "      <td>NaN</td>\n",
              "      <td>0</td>\n",
              "    </tr>\n",
              "  </tbody>\n",
              "</table>\n",
              "</div>"
            ],
            "text/plain": [
              "       ip  app  device  ...           click_time  attributed_time is_attributed\n",
              "0   83230    3       1  ...  2017-11-06 14:32:21              NaN             0\n",
              "1   17357    3       1  ...  2017-11-06 14:33:34              NaN             0\n",
              "2   35810    3       1  ...  2017-11-06 14:34:12              NaN             0\n",
              "3   45745   14       1  ...  2017-11-06 14:34:52              NaN             0\n",
              "4  161007    3       1  ...  2017-11-06 14:35:08              NaN             0\n",
              "\n",
              "[5 rows x 8 columns]"
            ]
          },
          "metadata": {
            "tags": []
          },
          "execution_count": 8
        }
      ]
    },
    {
      "cell_type": "code",
      "metadata": {
        "colab": {
          "base_uri": "https://localhost:8080/",
          "height": 92
        },
        "id": "nsD80OrkNoB2",
        "outputId": "4adf1740-e0e8-43e8-fe09-e780e8677205"
      },
      "source": [
        "# 2.3 Unique values in a few features\n",
        "f\"Unique ips  {train['ip'].nunique()}\"\n",
        "print()\n",
        "f\"Unique os  {train['os'].nunique()}\"\n",
        "print()\n",
        "f\"Unique device  {train['device'].nunique()}\"\n",
        "print()\n",
        "f\"Unique channel  {train['channel'].nunique()}\""
      ],
      "execution_count": 11,
      "outputs": [
        {
          "output_type": "execute_result",
          "data": {
            "application/vnd.google.colaboratory.intrinsic+json": {
              "type": "string"
            },
            "text/plain": [
              "'Unique ips  277396'"
            ]
          },
          "metadata": {
            "tags": []
          },
          "execution_count": 11
        },
        {
          "output_type": "stream",
          "text": [
            "\n"
          ],
          "name": "stdout"
        },
        {
          "output_type": "execute_result",
          "data": {
            "application/vnd.google.colaboratory.intrinsic+json": {
              "type": "string"
            },
            "text/plain": [
              "'Unique os  800'"
            ]
          },
          "metadata": {
            "tags": []
          },
          "execution_count": 11
        },
        {
          "output_type": "stream",
          "text": [
            "\n"
          ],
          "name": "stdout"
        },
        {
          "output_type": "execute_result",
          "data": {
            "application/vnd.google.colaboratory.intrinsic+json": {
              "type": "string"
            },
            "text/plain": [
              "'Unique device  3475'"
            ]
          },
          "metadata": {
            "tags": []
          },
          "execution_count": 11
        },
        {
          "output_type": "stream",
          "text": [
            "\n"
          ],
          "name": "stdout"
        },
        {
          "output_type": "execute_result",
          "data": {
            "application/vnd.google.colaboratory.intrinsic+json": {
              "type": "string"
            },
            "text/plain": [
              "'Unique channel  202'"
            ]
          },
          "metadata": {
            "tags": []
          },
          "execution_count": 11
        }
      ]
    },
    {
      "cell_type": "markdown",
      "metadata": {
        "id": "b9wYCaN8VKL0"
      },
      "source": [
        "### OR, Read a sample of it\n",
        "We read here directly from the original training data file. As data is large, we sample it.\n",
        "\n",
        "To read this data and save memory, please see this [kernel](https://www.kaggle.com/nuhsikander/lgbm-new-features-corrected)"
      ]
    },
    {
      "cell_type": "code",
      "metadata": {
        "colab": {
          "base_uri": "https://localhost:8080/"
        },
        "id": "Adn1vMjZVEcO",
        "outputId": "cc599a6f-473f-4de0-cd7a-008b5afaecfa"
      },
      "source": [
        "# 3.0 From our experience of earlier reading of data\n",
        "#      we know that data types of some of the features.\n",
        "#       We use those data-types leading to almost half \n",
        "#        of memory-usage\n",
        "\n",
        "%%time\n",
        "\n",
        "dtypes = {\n",
        "        'ip'            : 'uint32',\n",
        "        'app'           : 'uint16',\n",
        "        'device'        : 'uint16',\n",
        "        'os'            : 'uint16',\n",
        "        'channel'       : 'uint16',\n",
        "        'is_attributed' : 'uint8',\n",
        "        'click_id'      : 'uint32'\n",
        "        }\n",
        "\n",
        "print('load train...')\n",
        "\n",
        "\n",
        "# 3.1 Read a fraction of data\n",
        "total_lines = 184903891 # 18,49,03,891\n",
        "read_lines = 400000    # (4 lakh) Reduce it if less RAM\n",
        "\n",
        "# 3.2 Read randomly 'p' fraction of files\n",
        "#     Ref: https://stackoverflow.com/a/48589768\n",
        "\n",
        "p = read_lines/total_lines  # fraction of lines to read\n",
        "\n",
        "# 3.2.1 How to pick up random rows from hard-disk\n",
        "#       without first loading the complete file in RAM\n",
        "#       Toss a coin:\n",
        "#           At each row, toss a biased-coin: 60%->Head, 40%->tail\n",
        "#           If tail comes, select the row else not.\n",
        "#           Toss a coin: random.random()\n",
        "#           Head occurs if value > 0.6 else it is tail\n",
        "#\n",
        "#       We do not toss the coin for header row. Keep the header\n",
        "train = pd.read_csv(\n",
        "                     path + \"train.csv.zip\",  # Not reading test.csv.zip\n",
        "                     header=0,  # First row is header-row\n",
        "                                # 'and' operator returns True if both values are True\n",
        "                                #  random.random() returns values between (0,1)\n",
        "                                #  No of rows skipped will be around 60% of total\n",
        "                      skiprows=lambda i: (i >0 ) and (np.random.random() > p),    # (i>0) implies skip first header row\n",
        "                      dtype=dtypes,\n",
        "                      # We read all columns. Here are the column-names\n",
        "                      #  in the sequence they occur in the train data\n",
        "                      usecols=['ip','app','device','os', 'channel', 'click_time', 'attributed_time', 'is_attributed']\n",
        "                    )\n"
      ],
      "execution_count": 21,
      "outputs": [
        {
          "output_type": "stream",
          "text": [
            "load train...\n",
            "CPU times: user 3min 17s, sys: 1.76 s, total: 3min 19s\n",
            "Wall time: 3min 19s\n"
          ],
          "name": "stdout"
        }
      ]
    },
    {
      "cell_type": "code",
      "metadata": {
        "colab": {
          "base_uri": "https://localhost:8080/"
        },
        "id": "c5tS15pJit0h",
        "outputId": "1c9ed7ed-b916-4370-c594-01effd751a00"
      },
      "source": [
        "# 3.3 Store sampled data to a file on \n",
        "#         Google drive for later use\n",
        "pathToSave = path  \n",
        "filePath = pathToSave + \"talkingData_sample.csv.zip\"\n",
        "\n",
        "# 3.4 But first delete existing file.\n",
        "#        The following will NOT work.\n",
        "#          python variables are not available in shell\n",
        "# ! rm -f filePath\n",
        "\n",
        "# 3.5 This will work:\n",
        "os.remove(filePath)\n",
        "\n",
        "# 3.6 Check if deleted\n",
        "os.listdir(pathToSave)\n",
        "#! rm -f /root/talkingData_sample.csv.zip"
      ],
      "execution_count": 37,
      "outputs": [
        {
          "output_type": "execute_result",
          "data": {
            "text/plain": [
              "['train.csv', 'test.csv.zip', 'train.csv.zip']"
            ]
          },
          "metadata": {
            "tags": []
          },
          "execution_count": 37
        }
      ]
    },
    {
      "cell_type": "code",
      "metadata": {
        "colab": {
          "base_uri": "https://localhost:8080/"
        },
        "id": "dBZ6eCZii5Sw",
        "outputId": "6a0c84cb-3d95-42e3-dd3c-8cc7a33aff61"
      },
      "source": [
        "# 3.7 Save the sample data into VM only\n",
        "start = time.time()\n",
        "train.to_csv(filePath, compression = \"zip\", index = False)\n",
        "end = time.time()\n",
        "(end-start)/60     # 3 minutes"
      ],
      "execution_count": 27,
      "outputs": [
        {
          "output_type": "execute_result",
          "data": {
            "text/plain": [
              "0.030960341294606526"
            ]
          },
          "metadata": {
            "tags": []
          },
          "execution_count": 27
        }
      ]
    },
    {
      "cell_type": "code",
      "metadata": {
        "colab": {
          "base_uri": "https://localhost:8080/"
        },
        "id": "yrTrQZsIlZ_c",
        "outputId": "0a27ab80-9c59-4192-b22e-fa0dcf7b9893"
      },
      "source": [
        "# 3.8 Check saved file \n",
        "#       and get size of saved file \n",
        "  \n",
        "os.stat(filePath).st_size/1000000.0  # (305 MB)"
      ],
      "execution_count": 28,
      "outputs": [
        {
          "output_type": "execute_result",
          "data": {
            "text/plain": [
              "3.612058"
            ]
          },
          "metadata": {
            "tags": []
          },
          "execution_count": 28
        }
      ]
    },
    {
      "cell_type": "markdown",
      "metadata": {
        "id": "hdUL1e8ilpev"
      },
      "source": [
        "## Else, read sampled saved data\n",
        "Read already saved sampled data from Google drive"
      ]
    },
    {
      "cell_type": "code",
      "metadata": {
        "colab": {
          "base_uri": "https://localhost:8080/"
        },
        "id": "BVnLhLv_lhiH",
        "outputId": "b5595f8b-b5a0-486d-b8d7-17418bff3fa8"
      },
      "source": [
        "# 4.0 Path to saved sample data in Google Drive\n",
        "pathToSavedData = \"/content/drive/MyDrive/Colab_data_files/talkingData/\" + \"talkingData_sample.csv.zip\"\n",
        "\n",
        "%%time\n",
        "\n",
        "# 4.1 Our dtypes\n",
        "dtypes = {\n",
        "        'ip'            : 'uint32',\n",
        "        'app'           : 'uint16',\n",
        "        'device'        : 'uint16',\n",
        "        'os'            : 'uint16',\n",
        "        'channel'       : 'uint16',\n",
        "        'is_attributed' : 'uint8',\n",
        "        'click_id'      : 'uint32'\n",
        "        }\n",
        "\n",
        "\n",
        "\n",
        "# 4.2 Read the sample file\n",
        "train = pd.read_csv(\n",
        "                     pathToSavedData,\n",
        "                     dtype = dtypes,\n",
        "                     header=0,  # First row is header-row\n",
        "                    )\n",
        "\n",
        "train.dtypes"
      ],
      "execution_count": 5,
      "outputs": [
        {
          "output_type": "execute_result",
          "data": {
            "text/plain": [
              "0.006573828061421713"
            ]
          },
          "metadata": {
            "tags": []
          },
          "execution_count": 5
        },
        {
          "output_type": "execute_result",
          "data": {
            "text/plain": [
              "ip                 uint32\n",
              "app                uint16\n",
              "device             uint16\n",
              "os                 uint16\n",
              "channel            uint16\n",
              "click_time         object\n",
              "attributed_time    object\n",
              "is_attributed       uint8\n",
              "dtype: object"
            ]
          },
          "metadata": {
            "tags": []
          },
          "execution_count": 5
        }
      ]
    },
    {
      "cell_type": "code",
      "metadata": {
        "colab": {
          "base_uri": "https://localhost:8080/"
        },
        "id": "L0rSzJAoWQ1U",
        "outputId": "2fb99b36-3ce6-40fe-c315-5b9386683e95"
      },
      "source": [
        "# 4.3\n",
        "train.dtypes\n",
        "train.memory_usage().sum()\n",
        "gc.collect()"
      ],
      "execution_count": 6,
      "outputs": [
        {
          "output_type": "execute_result",
          "data": {
            "text/plain": [
              "ip                 uint32\n",
              "app                uint16\n",
              "device             uint16\n",
              "os                 uint16\n",
              "channel            uint16\n",
              "click_time         object\n",
              "attributed_time    object\n",
              "is_attributed       uint8\n",
              "dtype: object"
            ]
          },
          "metadata": {
            "tags": []
          },
          "execution_count": 6
        },
        {
          "output_type": "execute_result",
          "data": {
            "text/plain": [
              "11586208"
            ]
          },
          "metadata": {
            "tags": []
          },
          "execution_count": 6
        },
        {
          "output_type": "execute_result",
          "data": {
            "text/plain": [
              "99"
            ]
          },
          "metadata": {
            "tags": []
          },
          "execution_count": 6
        }
      ]
    },
    {
      "cell_type": "markdown",
      "metadata": {
        "id": "uBX-eSPal-h4"
      },
      "source": [
        "#### Which features are of which type\n",
        "Here is how the features are being treated:  \n",
        "Target feature is '*is_atributed*'  \n",
        "\n",
        "<table>\n",
        "<tr>\n",
        "    <th>ip</th>\n",
        "    <th>app</th>\n",
        "    <th>os</th> \n",
        "    <th>channel</th>\n",
        "    <th>day</th>\n",
        "    <th>hour</th> \n",
        "    <th>is_attributed</th>\n",
        "</tr>\n",
        "<tr>\n",
        "    <td>categorical</td> \n",
        "    <td>categorical</td> \n",
        "    <td>categorical</td>\n",
        "    <td>categorical</td> \n",
        "    <td>numeric/categorical</td> \n",
        "    <td>numeric/categorical</td>\n",
        "    <td>categorical</td>\n",
        "</tr>\n",
        "</table>\n",
        "-----------------------------------------------------------<br><br>\n"
      ]
    },
    {
      "cell_type": "markdown",
      "metadata": {
        "id": "XM9RQD9_YcdM"
      },
      "source": [
        "#### How feature engineering has been performed?<br>\n"
      ]
    },
    {
      "cell_type": "markdown",
      "metadata": {
        "id": "sa7hBj3BYXM6"
      },
      "source": [
        "\n",
        "A. <u>Relationship of categorical features with target</u>:\n",
        "\n",
        "> We develop probabilistic relationship between feature levels and the target values. For some feature, if everytime a level, say, x, occurs and the target is 1, we have an ideal relationship between that *level x* and the target; on the other hand if every time a level, say, y, occurs and target value is 0, we have the worst possible relationship.<br>   Essentially, given a level, x, we are calculating probability of target being 1. \n",
        "Suppose a level, x, occurs 'g1' times and in these 'g1' times, the target, value of 1 occurs g2 times. <br>Then:\n",
        "\n",
        "> `prob(target =1/level =x) = g2/g1`\n",
        "\n",
        "> However, to have confidence in this probability, we should be having sufficiently large number of instances of x ie g1 should be a sufficiently large number, statistically.\n",
        "\n",
        "> For this reason, we moderate the calculated probabilities by a factor known as `confRate`. More will be the confidence in the probability if more the evidence or more the occurrences of a particular level (in a catgorical feature) among all levels.<br>\n",
        "\n",
        "> For example, let a categorical feature contain three levels: level-1, level-2 and level-3. Let level-1, occur in 6 rows, level-2 occur in 5-rows but level-3 occur just in 1 row. Let `np.sum(target)` for level-1 be 2 and `np.sum(target)` for level-2 be 5. Then group probability will be as shown below. But confidence in probability calculations related to level-3 feature would be very low as its probability calculations are based on just one ocurrence of level-3.<br>\n",
        "\n",
        "> Here is an example of how we calculate probabilities:<br><br>\n",
        "`grouped = df.groupby(df['x'])`<br>\n",
        "        `prob = grouped['target'].sum()/ grouped['target'].count()`<br>\n",
        "        `confRate = np.log(grouped.count())/np.log(constant)` <br><br>\n",
        "\n",
        "> Briefly, beyond certain number of occurrences of level-x, we want to flatten the importance or confRate. Below is the graph of `np.log(count)`:\n"
      ]
    },
    {
      "cell_type": "code",
      "metadata": {
        "colab": {
          "base_uri": "https://localhost:8080/",
          "height": 265
        },
        "id": "QyfY1f0abZOV",
        "outputId": "44f49597-e437-4b21-8f8c-80cc17df4609"
      },
      "source": [
        "# 4.4 After count has reached a level,\n",
        "# log(count) saturates\n",
        "y = np.log10(np.arange(1,9))\n",
        "plt.plot(y);"
      ],
      "execution_count": 7,
      "outputs": [
        {
          "output_type": "display_data",
          "data": {
            "image/png": "[encoded data removed]",
            "text/plain": [
              "<Figure size 432x288 with 1 Axes>"
            ]
          },
          "metadata": {
            "tags": [],
            "needs_background": "light"
          }
        }
      ]
    },
    {
      "cell_type": "markdown",
      "metadata": {
        "id": "CBdifNBeg3z7"
      },
      "source": [
        "> To determine appropriate values for `log(constant)`, may be a graph can be drawn between `confRate` and `log(constant)`, or `probability X confRate` vs `log(constant)` and then take a decision. In fact `log(constant)` can also be treated as a *hyperparameter*.  <br><br>\n",
        "**Data Leakage**<br>\n",
        "There is a word of caution here. Such probability calculations may result in *Data Leakage* or leaking target information into new features. But if data is very large, the derived numerical feature may actually reflect the statistics it is intended to calculate. \n",
        "\n",
        ">Table 1\n",
        "\n",
        "<table>\n",
        "<tr>\n",
        "    <th>cat_feature</th>\n",
        "    <th>target</th>\n",
        "    <th>gr. prob</th>\n",
        "    <th>Conf-level</th> \n",
        "</tr>\n",
        "<tr>\n",
        "    <td>level-1</th>\n",
        "    <td>1</td>\n",
        "    <td>2/6</td> \n",
        "    <td>high</td>\n",
        "</tr>\n",
        "<tr>\n",
        "    <td>level-2</th>\n",
        "    <td>0</td>\n",
        "    <td>3/5</td>\n",
        "    <td>high</td> \n",
        "</tr>\n",
        "<tr>\n",
        "    <td>level-1</th>\n",
        "    <td>0</td>\n",
        "    <td>2/6</td> \n",
        "    <td>high</td>\n",
        "</tr>\n",
        "<tr>\n",
        "    <td>level-1</td>\n",
        "    <td>0</td>\n",
        "    <td>2/6</td> \n",
        "    <td>high</td>\n",
        "</tr>\n",
        "<tr>\n",
        "    <td>level-2</td>\n",
        "    <td>1</td>\n",
        "    <td>3/5</td> \n",
        "    <td>high</td>\n",
        "</tr>\n",
        "<tr>\n",
        "    <td>level-1</td>\n",
        "    <td>0</td>\n",
        "    <td>2/6</td> \n",
        "    <td>high</td>\n",
        "</tr>\n",
        "<tr>\n",
        "    <td>level-2</td>\n",
        "    <td>1</td>\n",
        "    <td>3/5</td> \n",
        "    <td>high</td>\n",
        "</tr>\n",
        "<tr>\n",
        "    <td>level-2</td>\n",
        "    <td>0</td>\n",
        "    <td>3/5</td>\n",
        "    <td>high</td> \n",
        "</tr>\n",
        "<tr>\n",
        "    <td>level-2</td>\n",
        "    <td>1</td>\n",
        "    <td>3/5</td> \n",
        "    <td>high</td>\n",
        "</tr>\n",
        "<tr>\n",
        "    <td>level-1</td>\n",
        "    <td>0</td>\n",
        "    <td>2/6</td> \n",
        "    <td>high</td>\n",
        "</tr>\n",
        "<tr>\n",
        "    <td>level-1</td>\n",
        "    <td>1</td>\n",
        "    <td>2/6</td> \n",
        "    <td>high</td>\n",
        "</tr>\n",
        "<tr>\n",
        "    <td>level-3</td>\n",
        "    <td>1</td>\n",
        "    <td>1/1</td>\n",
        "    <td>**LOW**</td> \n",
        "</tr>\n",
        "</table>\n",
        "\n",
        "Here is a list of features on which we perform above operations:\n",
        "\n",
        ">Table 2\n",
        "\n",
        "sno|grouping-feature|\n",
        "-|-|\n",
        "1|ip|\n",
        "2|app|\n",
        "3|os|\n",
        "4|channel|\n",
        "5|app+channel|\n",
        "6|app+os|\n",
        "7|app+device|\n",
        "8|channel+os|\n",
        "9|channel+device|\n",
        "10|os+device|\n"
      ]
    },
    {
      "cell_type": "markdown",
      "metadata": {
        "id": "rmkLiOlSEXGg"
      },
      "source": [
        "B. <u>Relationship of categorical features among themselves</u>:\n",
        "\n",
        "There is a possibility to create a huge number of features. These features naturally take very large RAM.  \n",
        ">Table 3\n",
        "<table>\n",
        "<tr>\n",
        "    <th>Sno</th>\n",
        "    <th>GroupBy</th>\n",
        "    <th>Operation</th>\n",
        "    <th>On</th> \n",
        "    <th>Remarks</th>\n",
        "</tr>\n",
        "<tr>\n",
        "    <td>1</td>\n",
        "    <td>IP</td> \n",
        "    <td>nunique</td> \n",
        "    <td>channel</td>\n",
        "    <td>Per IP, how many unique channels</td> \n",
        "</tr>\n",
        "<tr>\n",
        "    <td>2</td>\n",
        "    <td>IP</td> \n",
        "    <td>nunique</td> \n",
        "    <td>app</td>\n",
        "    <td>Per IP, how many unique app</td> \n",
        "</tr>\n",
        "<tr>\n",
        "    <td>3</td>\n",
        "    <td>IP</td> \n",
        "    <td>nunique</td> \n",
        "    <td>device</td>\n",
        "    <td>Per IP, how many unique device</td> \n",
        "</tr>\n",
        "<tr>\n",
        "    <td>4</td>\n",
        "    <td>IP</td> \n",
        "    <td>nunique</td> \n",
        "    <td>os</td>\n",
        "    <td>Per IP, how many unique os</td> \n",
        "</tr>\n",
        "<tr>\n",
        "    <td>5</td>\n",
        "    <td>IP</td> \n",
        "    <td>cumcount</td> \n",
        "    <td>app</td>\n",
        "    <td>Per IP, cumcount of app</td> \n",
        "</tr>\n",
        "<tr>\n",
        "    <td>6</td>\n",
        "    <td>IP</td> \n",
        "    <td>cumcount</td> \n",
        "    <td>os</td>\n",
        "    <td>Per IP, cumcount of os</td> \n",
        "</tr>\n",
        "<tr>\n",
        "    <td>7</td>\n",
        "    <td>IP</td> \n",
        "    <td>count</td> \n",
        "    <td>channel</td>\n",
        "    <td>Per IP, count of channel</td> \n",
        "</tr>\n",
        "<tr>\n",
        "    <td>8</td>\n",
        "    <td>app</td> \n",
        "    <td>count</td> \n",
        "    <td>channel</td>\n",
        "    <td>Per app, count of channel</td> \n",
        "</tr>\n",
        "<tr>\n",
        "    <td>9</td>\n",
        "    <td>channel</td> \n",
        "    <td>count</td> \n",
        "    <td>app</td>\n",
        "    <td>Per channel, count of app</td> \n",
        "</tr>\n",
        "<tr>\n",
        "    <td>10</td>\n",
        "    <td>ip+app</td> \n",
        "    <td>count</td> \n",
        "    <td>channels</td>\n",
        "    <td>Per ip+app, count of channels</td> \n",
        "</tr>\n",
        "<tr>\n",
        "    <td>11</td>\n",
        "    <td>ip+app</td> \n",
        "    <td>nunique</td> \n",
        "    <td>os</td>\n",
        "    <td>Per ip+app, how many unique os</td> \n",
        "</tr>\n",
        "<tr>\n",
        "    <td>12</td>\n",
        "    <td>ip+day</td> \n",
        "    <td>nunique</td> \n",
        "    <td>hours</td>\n",
        "    <td>Per ip+day how many unique hours</td> \n",
        "</tr>\n",
        "<tr>\n",
        "    <td>13</td>\n",
        "    <td>ip+day+channel</td> \n",
        "    <td>variance</td> \n",
        "    <td>hour</td>\n",
        "    <td>Per ip+day+channel variance of hour</td> \n",
        "</tr>\n",
        "<tr>\n",
        "    <td>14</td>\n",
        "    <td>ip+day+channel</td> \n",
        "    <td>mean</td> \n",
        "    <td>hour</td>\n",
        "    <td>Per ip+day+channel mean of hour</td> \n",
        "</tr>\n",
        "<tr>\n",
        "    <td>15</td>\n",
        "    <td>ip+app+os</td> \n",
        "    <td>variance</td> \n",
        "    <td>hour</td>\n",
        "    <td>Per ip+app+os variance of hour</td> \n",
        "</tr>\n",
        "<tr>\n",
        "    <td>16</td>\n",
        "    <td>ip+app+os</td> \n",
        "    <td>count</td> \n",
        "    <td>channels</td>\n",
        "    <td>Per ip+app+os count of channel</td> \n",
        "</tr>\n",
        "<tr>\n",
        "    <td>17</td>\n",
        "    <td>ip+app+channel</td> \n",
        "    <td>variance</td> \n",
        "    <td>hour</td>\n",
        "    <td>Per ip+app+channel variance of hours</td> \n",
        "</tr>\n",
        "<tr>\n",
        "    <td>18</td>\n",
        "    <td>ip+device+os</td> \n",
        "    <td>cumcount</td> \n",
        "    <td>app</td>\n",
        "    <td>Per ip+device+os cumcount of app</td> \n",
        "</tr>\n",
        "<tr>\n",
        "    <td>19</td>\n",
        "    <td>ip+device+os</td> \n",
        "    <td>nunique</td> \n",
        "    <td>os</td>\n",
        "    <td>Per ip+device+os how many unique of app</td> \n",
        "</tr>\n",
        "<tr>\n",
        "    <td>20</td>\n",
        "    <td>ip+day+channel</td> \n",
        "    <td>variance</td> \n",
        "    <td>hour</td>\n",
        "    <td>Per ip+day+channel variance of hour</td> \n",
        "</tr>\n",
        "<tr>\n",
        "    <td>21</td>\n",
        "    <td>ip+day+hour</td> \n",
        "    <td>count</td> \n",
        "    <td>channel</td>\n",
        "    <td>Per ip+day+hour count of channel</td> \n",
        "</tr>\n",
        "<tr>\n",
        "    <td>22</td>\n",
        "    <td>ip+app+day+hour</td> \n",
        "    <td>count</td> \n",
        "    <td>channel</td>\n",
        "    <td>Per ip+app+day+hour variance of hour</td> \n",
        "</tr>\n",
        "</table>\n",
        "-----------------------------------------------------------<br>\n"
      ]
    },
    {
      "cell_type": "markdown",
      "metadata": {
        "id": "zOawk74FiyDJ"
      },
      "source": [
        "##Explore data"
      ]
    },
    {
      "cell_type": "code",
      "metadata": {
        "id": "pllVXXpOkWfx"
      },
      "source": [
        "# 5.0\n",
        "print(train.shape)   # (999189, 8)\n",
        "print()\n",
        "train.head(3)\n",
        "\n",
        "# 5.1\n",
        "print(\"---dtypes----\")\n",
        "print(train.dtypes) # ip int64,app int64,device int64,os int64,channel int64,\n",
        "                    # click_time object,attributed_time object,is_attributed int64\n",
        "\n",
        "# 5.2 Let us see distribution of NULLS\n",
        "print(\"---Nulls----\")\n",
        "print(train.isnull().sum())      # 299084 nulls in attributed_time\n",
        "\n",
        "# 5.3 Transform 'click_time' to datetime\n",
        "train['click_time'] = pd.to_datetime(train['click_time'])"
      ],
      "execution_count": null,
      "outputs": []
    },
    {
      "cell_type": "code",
      "metadata": {
        "id": "CxMopioIsd17",
        "colab": {
          "base_uri": "https://localhost:8080/",
          "height": 162
        },
        "outputId": "046082f5-9031-4b99-96f4-6404dcef6ab0"
      },
      "source": [
        "# 5.4 Derive some date components\n",
        "train['day']    = train['click_time'].dt.day.astype('uint8')\n",
        "train['hour']   = train['click_time'].dt.hour.astype('uint8')\n",
        "train['minute'] = train['click_time'].dt.minute.astype('uint8')\n",
        "train['second'] = train['click_time'].dt.second.astype('uint8')\n",
        "train.head(3)\n",
        "train.shape   # (999280, 12)"
      ],
      "execution_count": 9,
      "outputs": [
        {
          "output_type": "execute_result",
          "data": {
            "text/html": [
              "<div>\n",
              "<style scoped>\n",
              "    .dataframe tbody tr th:only-of-type {\n",
              "        vertical-align: middle;\n",
              "    }\n",
              "\n",
              "    .dataframe tbody tr th {\n",
              "        vertical-align: top;\n",
              "    }\n",
              "\n",
              "    .dataframe thead th {\n",
              "        text-align: right;\n",
              "    }\n",
              "</style>\n",
              "<table border=\"1\" class=\"dataframe\">\n",
              "  <thead>\n",
              "    <tr style=\"text-align: right;\">\n",
              "      <th></th>\n",
              "      <th>ip</th>\n",
              "      <th>app</th>\n",
              "      <th>device</th>\n",
              "      <th>os</th>\n",
              "      <th>channel</th>\n",
              "      <th>click_time</th>\n",
              "      <th>attributed_time</th>\n",
              "      <th>is_attributed</th>\n",
              "      <th>day</th>\n",
              "      <th>hour</th>\n",
              "      <th>minute</th>\n",
              "      <th>second</th>\n",
              "    </tr>\n",
              "  </thead>\n",
              "  <tbody>\n",
              "    <tr>\n",
              "      <th>0</th>\n",
              "      <td>191894</td>\n",
              "      <td>3</td>\n",
              "      <td>1</td>\n",
              "      <td>18</td>\n",
              "      <td>379</td>\n",
              "      <td>2017-11-06 15:29:16</td>\n",
              "      <td>NaN</td>\n",
              "      <td>0</td>\n",
              "      <td>6</td>\n",
              "      <td>15</td>\n",
              "      <td>29</td>\n",
              "      <td>16</td>\n",
              "    </tr>\n",
              "    <tr>\n",
              "      <th>1</th>\n",
              "      <td>22333</td>\n",
              "      <td>3</td>\n",
              "      <td>1</td>\n",
              "      <td>19</td>\n",
              "      <td>379</td>\n",
              "      <td>2017-11-06 15:48:50</td>\n",
              "      <td>NaN</td>\n",
              "      <td>0</td>\n",
              "      <td>6</td>\n",
              "      <td>15</td>\n",
              "      <td>48</td>\n",
              "      <td>50</td>\n",
              "    </tr>\n",
              "    <tr>\n",
              "      <th>2</th>\n",
              "      <td>124769</td>\n",
              "      <td>3</td>\n",
              "      <td>1</td>\n",
              "      <td>25</td>\n",
              "      <td>402</td>\n",
              "      <td>2017-11-06 16:00:01</td>\n",
              "      <td>NaN</td>\n",
              "      <td>0</td>\n",
              "      <td>6</td>\n",
              "      <td>16</td>\n",
              "      <td>0</td>\n",
              "      <td>1</td>\n",
              "    </tr>\n",
              "  </tbody>\n",
              "</table>\n",
              "</div>"
            ],
            "text/plain": [
              "       ip  app  device  os  channel  ... is_attributed day  hour  minute  second\n",
              "0  191894    3       1  18      379  ...             0   6    15      29      16\n",
              "1   22333    3       1  19      379  ...             0   6    15      48      50\n",
              "2  124769    3       1  25      402  ...             0   6    16       0       1\n",
              "\n",
              "[3 rows x 12 columns]"
            ]
          },
          "metadata": {
            "tags": []
          },
          "execution_count": 9
        },
        {
          "output_type": "execute_result",
          "data": {
            "text/plain": [
              "(399520, 12)"
            ]
          },
          "metadata": {
            "tags": []
          },
          "execution_count": 9
        }
      ]
    },
    {
      "cell_type": "markdown",
      "metadata": {
        "id": "cqlWBqxBPBmU"
      },
      "source": [
        "## My experiments"
      ]
    },
    {
      "cell_type": "code",
      "metadata": {
        "id": "qOrmPad3PE2S"
      },
      "source": [
        "# 6.0 A list of lists\n",
        "#      Group by each one of the sub-lists\n",
        "#       and calculate probabilities of the target\n",
        "#        being 1\n",
        "myplan = [\n",
        "          ['ip'], ['app'],\n",
        "          ['ip', 'app'],['ip','device'],\n",
        "          ['app', 'device','channel']\n",
        "         ] "
      ],
      "execution_count": 10,
      "outputs": []
    },
    {
      "cell_type": "code",
      "metadata": {
        "id": "sPWvjycvS67F"
      },
      "source": [
        "# 6.1 Define function to calculate confidence\n",
        "\n",
        "# 6.1.1\n",
        "const = np.log(100000)\n",
        "\n",
        "# 6.1.2\n",
        "def rate_calculation(cnt, prob):\n",
        "  # 6.1.3\n",
        "  conf =  np.log(cnt.astype('float'))/const\n",
        "  # 6.1.4\n",
        "  return prob * conf"
      ],
      "execution_count": 55,
      "outputs": []
    },
    {
      "cell_type": "code",
      "metadata": {
        "id": "wyt0kiVnVWO3"
      },
      "source": [
        "# 6.2 Relationship of 'ip' with target\n",
        "grd = train.groupby(['ip'])\n",
        "# 6.2.1\n",
        "g1 = grd['is_attributed'].count()\n",
        "# 6.2.2\n",
        "g2 = grd['is_attributed'].sum()\n",
        "# 6.2.3\n",
        "prob = g2/g1\n",
        "# 6.2.4\n",
        "conf = rate_calculation(g1,prob)\n",
        "conf"
      ],
      "execution_count": null,
      "outputs": []
    },
    {
      "cell_type": "code",
      "metadata": {
        "id": "KKloBaJ3QuBK"
      },
      "source": [
        "# 6.3 Discovering all relationships \n",
        "#     as per plan:\n",
        "\n",
        "# 6.3.1\n",
        "abc = train.copy()\n",
        "\n",
        "# 6.3.2\n",
        "rates = []\n",
        "\n",
        "# 6.3.3\n",
        "for i in myplan:\n",
        "  # 6.3.4\n",
        "  grd = train.groupby(i)\n",
        "  # 6.3.5\n",
        "  g1 = grd['is_attributed'].count()\n",
        "  g2 = grd['is_attributed'].sum()\n",
        "  # 6.3.6\n",
        "  prob = g2/g1\n",
        "  conf = rate_calculation(g1,prob)\n",
        "  conf.name = \"_\".join(i)+\"_conf\"\n",
        "  abc = abc.merge(conf, on = i)"
      ],
      "execution_count": null,
      "outputs": []
    },
    {
      "cell_type": "code",
      "metadata": {
        "id": "LODhiU-5aXg7"
      },
      "source": [
        "# 6.4\n",
        "abc.columns\n",
        "abc.head()"
      ],
      "execution_count": null,
      "outputs": []
    },
    {
      "cell_type": "code",
      "metadata": {
        "id": "EglS1wJTfgWR"
      },
      "source": [
        "# 7.0 Plan to develop inter-relationships:\n",
        "\n",
        "gr_plan = [\n",
        "            {\"grby\" : ['ip', 'app'], \"select\" : 'hour', 'op' : 'mean' },\n",
        "            { \"grby\" : ['ip'], \"select\" : 'app', 'op' : 'count' }\n",
        "            ]"
      ],
      "execution_count": 39,
      "outputs": []
    },
    {
      "cell_type": "code",
      "metadata": {
        "id": "7rsB77b1hR89"
      },
      "source": [
        "# 7.1\n",
        "abc = train.copy()\n",
        "# 7.1.1\n",
        "for i in gr_plan:\n",
        "  # 7.1.2\n",
        "  grpd = abc.groupby(i['grby'])\n",
        "  # 7.1.3\n",
        "  result = grpd[i['select']].agg(i['op'])\n",
        "  # 7.1.4\n",
        "  result.name = \"_\".join(i['grby']) + i['select'] + i['op']\n",
        "  # 7.1.5\n",
        "  result = result.reset_index()\n",
        "  # 7.1.6\n",
        "  abc = abc.merge(result, on= i['grby'])     "
      ],
      "execution_count": 40,
      "outputs": []
    },
    {
      "cell_type": "code",
      "metadata": {
        "id": "YvJHLmUejHuW",
        "colab": {
          "base_uri": "https://localhost:8080/",
          "height": 280
        },
        "outputId": "371ab825-125f-45e8-d298-d03a7b2fe8e3"
      },
      "source": [
        "# 7.2\n",
        "abc.columns\n",
        "abc.head()"
      ],
      "execution_count": 41,
      "outputs": [
        {
          "output_type": "execute_result",
          "data": {
            "text/plain": [
              "Index(['ip', 'app', 'device', 'os', 'channel', 'click_time', 'attributed_time',\n",
              "       'is_attributed', 'day', 'hour', 'minute', 'second', 'ip_apphourmean',\n",
              "       'ipappcount'],\n",
              "      dtype='object')"
            ]
          },
          "metadata": {
            "tags": []
          },
          "execution_count": 41
        },
        {
          "output_type": "execute_result",
          "data": {
            "text/html": [
              "<div>\n",
              "<style scoped>\n",
              "    .dataframe tbody tr th:only-of-type {\n",
              "        vertical-align: middle;\n",
              "    }\n",
              "\n",
              "    .dataframe tbody tr th {\n",
              "        vertical-align: top;\n",
              "    }\n",
              "\n",
              "    .dataframe thead th {\n",
              "        text-align: right;\n",
              "    }\n",
              "</style>\n",
              "<table border=\"1\" class=\"dataframe\">\n",
              "  <thead>\n",
              "    <tr style=\"text-align: right;\">\n",
              "      <th></th>\n",
              "      <th>ip</th>\n",
              "      <th>app</th>\n",
              "      <th>device</th>\n",
              "      <th>os</th>\n",
              "      <th>channel</th>\n",
              "      <th>click_time</th>\n",
              "      <th>attributed_time</th>\n",
              "      <th>is_attributed</th>\n",
              "      <th>day</th>\n",
              "      <th>hour</th>\n",
              "      <th>minute</th>\n",
              "      <th>second</th>\n",
              "      <th>ip_apphourmean</th>\n",
              "      <th>ipappcount</th>\n",
              "    </tr>\n",
              "  </thead>\n",
              "  <tbody>\n",
              "    <tr>\n",
              "      <th>0</th>\n",
              "      <td>191894</td>\n",
              "      <td>3</td>\n",
              "      <td>1</td>\n",
              "      <td>18</td>\n",
              "      <td>379</td>\n",
              "      <td>2017-11-06 15:29:16</td>\n",
              "      <td>NaN</td>\n",
              "      <td>0</td>\n",
              "      <td>6</td>\n",
              "      <td>15</td>\n",
              "      <td>29</td>\n",
              "      <td>16</td>\n",
              "      <td>10.285714</td>\n",
              "      <td>35</td>\n",
              "    </tr>\n",
              "    <tr>\n",
              "      <th>1</th>\n",
              "      <td>191894</td>\n",
              "      <td>3</td>\n",
              "      <td>2</td>\n",
              "      <td>13</td>\n",
              "      <td>409</td>\n",
              "      <td>2017-11-07 02:21:52</td>\n",
              "      <td>NaN</td>\n",
              "      <td>0</td>\n",
              "      <td>7</td>\n",
              "      <td>2</td>\n",
              "      <td>21</td>\n",
              "      <td>52</td>\n",
              "      <td>10.285714</td>\n",
              "      <td>35</td>\n",
              "    </tr>\n",
              "    <tr>\n",
              "      <th>2</th>\n",
              "      <td>191894</td>\n",
              "      <td>3</td>\n",
              "      <td>1</td>\n",
              "      <td>13</td>\n",
              "      <td>489</td>\n",
              "      <td>2017-11-07 11:42:06</td>\n",
              "      <td>NaN</td>\n",
              "      <td>0</td>\n",
              "      <td>7</td>\n",
              "      <td>11</td>\n",
              "      <td>42</td>\n",
              "      <td>6</td>\n",
              "      <td>10.285714</td>\n",
              "      <td>35</td>\n",
              "    </tr>\n",
              "    <tr>\n",
              "      <th>3</th>\n",
              "      <td>191894</td>\n",
              "      <td>3</td>\n",
              "      <td>2</td>\n",
              "      <td>13</td>\n",
              "      <td>115</td>\n",
              "      <td>2017-11-07 13:30:13</td>\n",
              "      <td>NaN</td>\n",
              "      <td>0</td>\n",
              "      <td>7</td>\n",
              "      <td>13</td>\n",
              "      <td>30</td>\n",
              "      <td>13</td>\n",
              "      <td>10.285714</td>\n",
              "      <td>35</td>\n",
              "    </tr>\n",
              "    <tr>\n",
              "      <th>4</th>\n",
              "      <td>191894</td>\n",
              "      <td>3</td>\n",
              "      <td>1</td>\n",
              "      <td>18</td>\n",
              "      <td>480</td>\n",
              "      <td>2017-11-07 13:33:58</td>\n",
              "      <td>NaN</td>\n",
              "      <td>0</td>\n",
              "      <td>7</td>\n",
              "      <td>13</td>\n",
              "      <td>33</td>\n",
              "      <td>58</td>\n",
              "      <td>10.285714</td>\n",
              "      <td>35</td>\n",
              "    </tr>\n",
              "  </tbody>\n",
              "</table>\n",
              "</div>"
            ],
            "text/plain": [
              "       ip  app  device  os  ...  minute second ip_apphourmean  ipappcount\n",
              "0  191894    3       1  18  ...      29     16      10.285714          35\n",
              "1  191894    3       2  13  ...      21     52      10.285714          35\n",
              "2  191894    3       1  13  ...      42      6      10.285714          35\n",
              "3  191894    3       2  13  ...      30     13      10.285714          35\n",
              "4  191894    3       1  18  ...      33     58      10.285714          35\n",
              "\n",
              "[5 rows x 14 columns]"
            ]
          },
          "metadata": {
            "tags": []
          },
          "execution_count": 41
        }
      ]
    },
    {
      "cell_type": "markdown",
      "metadata": {
        "id": "uoNN0aQ4k61f"
      },
      "source": [
        "##Relationship of categorical features with target (Expts)\n",
        "We first perform some experiments to learn how to go about developing relationship of categorical features with the target"
      ]
    },
    {
      "cell_type": "markdown",
      "metadata": {
        "id": "iUQEN-P9vaRe"
      },
      "source": [
        "### Joining elements of a list"
      ]
    },
    {
      "cell_type": "markdown",
      "metadata": {
        "id": "n0yOh6eprX1i"
      },
      "source": [
        "#### Name generation"
      ]
    },
    {
      "cell_type": "code",
      "metadata": {
        "colab": {
          "base_uri": "https://localhost:8080/",
          "height": 36
        },
        "id": "P_bXSjfXOJoq",
        "outputId": "ba6243fa-984a-4e40-8f6b-10d06722dc5a"
      },
      "source": [
        "# 4.0 Use join() to concatenate elements of a list\n",
        "#     We use this to easily create new feature-names\n",
        "\n",
        "# 4.1 The join() string method returns a\n",
        "#      string by joining all the elements of\n",
        "#       an iterable, separated by a string separator.\n",
        "\n",
        "# 4.1.1\n",
        "list1 = ['a', 'b', 'c']\n",
        "tuple1 = (\"a\", \"b\", \"c\")\n",
        "ss = \"uvxyz\"\n",
        "\n",
        "# 4.1.2 Join the elements of containers now\n",
        "'_'.join(list1)   # Elements of list are joint by string: a_b_c\n",
        "'_'.join(tuple1)  # a_b_c\n",
        "'_'.join(ss)      # u_v_x_y_z"
      ],
      "execution_count": null,
      "outputs": [
        {
          "output_type": "execute_result",
          "data": {
            "application/vnd.google.colaboratory.intrinsic+json": {
              "type": "string"
            },
            "text/plain": [
              "'a_b_c'"
            ]
          },
          "metadata": {
            "tags": []
          },
          "execution_count": 20
        },
        {
          "output_type": "execute_result",
          "data": {
            "application/vnd.google.colaboratory.intrinsic+json": {
              "type": "string"
            },
            "text/plain": [
              "'a_b_c'"
            ]
          },
          "metadata": {
            "tags": []
          },
          "execution_count": 20
        },
        {
          "output_type": "execute_result",
          "data": {
            "application/vnd.google.colaboratory.intrinsic+json": {
              "type": "string"
            },
            "text/plain": [
              "'u_v_x_y_z'"
            ]
          },
          "metadata": {
            "tags": []
          },
          "execution_count": 20
        }
      ]
    },
    {
      "cell_type": "code",
      "metadata": {
        "colab": {
          "base_uri": "https://localhost:8080/"
        },
        "id": "vWAkJqJGs4_n",
        "outputId": "863d00c6-701a-46c7-fdf1-dc123716100b"
      },
      "source": [
        "# 4.2 Our list of lists.\n",
        "#     We will perform grouping on each one of the inner lists:\n",
        "\n",
        "ATTRIBUTION_CATEGORIES = [ ['ip'], ['app'], ['device'], ['os'], ['channel'], ['app', 'channel'],\n",
        "                           ['app', 'os'],['app', 'device'], ['channel', 'os'],\n",
        "                           ['channel', 'device'], ['os', 'device'] ]\n",
        "\n",
        "# Same as above but in a more planned way:\n",
        "ATTRIBUTION_CATEGORIES = [        \n",
        "    # V1 Features #\n",
        "    ###############\n",
        "    ['ip'], ['app'], ['device'], ['os'], ['channel'],    # 5\n",
        "    \n",
        "    # V2 Features #\n",
        "    ###############\n",
        "    ['app', 'channel'],    # name \"app_channel\" \n",
        "    ['app', 'os'],         # name: \"app_os\"\n",
        "    ['app', 'device'],     # name: \"app_device\" \n",
        "    \n",
        "    # V3 Features #\n",
        "    ###############\n",
        "    ['channel', 'os'],     # name: \"channel_os\"\n",
        "    ['channel', 'device'], # name: \"channel_device\"\n",
        "    ['os', 'device']       # name: \"os_device\"\n",
        "]\n",
        "\n",
        "# 4.2.1 Join elements of each container, one by one\n",
        "#       Our new features will have these names:\n",
        "\n",
        "feature_names = []\n",
        "for elements in ATTRIBUTION_CATEGORIES:\n",
        "    new_feature = '_'.join(elements)+'_confRate' \n",
        "    feature_names.append(new_feature)\n",
        "\n",
        "print (feature_names)    "
      ],
      "execution_count": null,
      "outputs": [
        {
          "output_type": "stream",
          "text": [
            "['ip_confRate', 'app_confRate', 'device_confRate', 'os_confRate', 'channel_confRate', 'app_channel_confRate', 'app_os_confRate', 'app_device_confRate', 'channel_os_confRate', 'channel_device_confRate', 'os_device_confRate']\n"
          ],
          "name": "stdout"
        }
      ]
    },
    {
      "cell_type": "markdown",
      "metadata": {
        "id": "nRfwW1QCvgFI"
      },
      "source": [
        "### Grouping"
      ]
    },
    {
      "cell_type": "code",
      "metadata": {
        "id": "GrWoILlbbUpH"
      },
      "source": [
        "# 4.3 groupby()\n",
        "\n",
        "# 4.3.1 Find frequency of 'is_attributed' for\n",
        "#       each unique value in column(s)\n",
        "\n",
        "freqs = {}\n",
        "cols = ['app', 'channel']\n",
        "\n",
        "# 4.3.2 New feature name:\n",
        "\n",
        "new_feature_name = '_'.join(cols)+'_confRate'    \n",
        "    \n",
        "# 4.3.3 Perform the groupby:\n",
        "\n",
        "grouped = train.groupby(cols)   # For example: ['app', 'channel']\n",
        "    \n",
        "# 4.3.4 Each group size:\n",
        "\n",
        "group_sizes = grouped.size()\n",
        "\n",
        "# 4.3.5 How many groups:\n",
        "\n",
        "print(group_sizes.shape)       # (638,)\n",
        "\n",
        "# 4.3.6 Have a look at some groups:\n",
        "group_sizes[:5]"
      ],
      "execution_count": null,
      "outputs": []
    },
    {
      "cell_type": "markdown",
      "metadata": {
        "id": "GCwBgbeVvkaX"
      },
      "source": [
        "### Confidence rate calculation"
      ]
    },
    {
      "cell_type": "code",
      "metadata": {
        "id": "uGzetYfkvjrB"
      },
      "source": [
        "# 5.0\n",
        "x1 = grouped['is_attributed'].sum()         # How many are labeled as 1's per group\n",
        "x1[:5]\n",
        "\n",
        "# 5.1\n",
        "x2 = grouped['is_attributed'].count()       # Size of each group. Same as group_sizes\n",
        "x2[:5]"
      ],
      "execution_count": null,
      "outputs": []
    },
    {
      "cell_type": "code",
      "metadata": {
        "colab": {
          "base_uri": "https://localhost:8080/"
        },
        "id": "H_73tgkDv_Oq",
        "outputId": "b0332741-ae48-425c-9eb3-4d297861cf21"
      },
      "source": [
        "# 5.2 Group-wise importance or probability\n",
        "probability = x1/x2\n",
        "probability[:5]"
      ],
      "execution_count": null,
      "outputs": [
        {
          "output_type": "execute_result",
          "data": {
            "text/plain": [
              "app  channel\n",
              "0    101        0.210526\n",
              "1    13         0.000000\n",
              "     17         0.000000\n",
              "     18         0.000000\n",
              "     24         0.000000\n",
              "Name: is_attributed, dtype: float64"
            ]
          },
          "metadata": {
            "tags": []
          },
          "execution_count": 35
        }
      ]
    },
    {
      "cell_type": "code",
      "metadata": {
        "id": "Yhh-nBep7Jac"
      },
      "source": [
        "# What should be the size of log(constant)\n",
        "max_value = []\n",
        "min_value = []\n",
        "for i in ATTRIBUTION_CATEGORIES:\n",
        "  grpd = train.groupby(i)\n",
        "  ct = grpd['is_attributed'].count()\n",
        "  mt = ct.max()\n",
        "  mi = ct.min()\n",
        "  max_value.append(mt)  \n",
        "  min_value.append(mi)\n",
        "\n",
        "print(max_value)   # [6726, 182184, 942262, 238634, 81008]\n",
        "print(min_value)   # [1, 1, 1, 1, 1, 1, 1, 1, 1, 1, 1]  "
      ],
      "execution_count": null,
      "outputs": []
    },
    {
      "cell_type": "code",
      "metadata": {
        "id": "tA8Qu-MLC6YZ",
        "colab": {
          "base_uri": "https://localhost:8080/"
        },
        "outputId": "4743bb57-96aa-4ee2-fb72-f2658123dfc7"
      },
      "source": [
        "# 5.3 Group-wise confidence in probabilites\n",
        "\n",
        "       # Higher the total occurrences or group-size (ie group count),\n",
        "        #  per-group, more the confidence in probability calculations\n",
        "        #   But below certain number of counts, confidence in probability\n",
        "        #    should be low. \n",
        "        #    That is confidence is proportional to counts\n",
        "        #      But better use log(counts) so that after \n",
        "        #       certain threshold of high-counts, probability\n",
        "        #        does not get affected by still higher counts. After all\n",
        "        #         count of 10000 should be same as count of 10500. So\n",
        "        #          use log(group_sizes). Further, results should\n",
        "        #            be normalized by dividing by a constant (log(100000))\n",
        "        #         \n",
        "log_group_const = np.log(100000)\n",
        "conf = np.log(x2.astype('float')) / log_group\n",
        "conf[:5]"
      ],
      "execution_count": null,
      "outputs": [
        {
          "output_type": "execute_result",
          "data": {
            "text/plain": [
              "app  channel\n",
              "0    101        0.255751\n",
              "1    13         0.556351\n",
              "     17         0.608200\n",
              "     18         0.386900\n",
              "     24         0.512220\n",
              "Name: is_attributed, dtype: float64"
            ]
          },
          "metadata": {
            "tags": []
          },
          "execution_count": 29
        }
      ]
    },
    {
      "cell_type": "code",
      "metadata": {
        "id": "bYAAJvUvAXJA",
        "colab": {
          "base_uri": "https://localhost:8080/",
          "height": 265
        },
        "outputId": "c71da98a-8beb-471b-b46e-4b3e0c6590cb"
      },
      "source": [
        "# 5.3.1 Plot of log(count)\n",
        "#       For low values of count() it \n",
        "#        tends to be zero and for large values\n",
        "#         of count() it tries to suppress importance\n",
        "\n",
        "import matplotlib.pyplot as plt\n",
        "t = np.linspace(1, 1000, 100)\n",
        "_=plt.plot(t, np.log(t))"
      ],
      "execution_count": null,
      "outputs": [
        {
          "output_type": "display_data",
          "data": {
            "image/png": "[encoded data removed]",
            "text/plain": [
              "<Figure size 432x288 with 1 Axes>"
            ]
          },
          "metadata": {
            "tags": [],
            "needs_background": "light"
          }
        }
      ]
    },
    {
      "cell_type": "code",
      "metadata": {
        "id": "Hw6q1yQaBbSl",
        "colab": {
          "base_uri": "https://localhost:8080/",
          "height": 265
        },
        "outputId": "8daf2e6e-e3f4-4a30-d010-e22cb81a0d19"
      },
      "source": [
        "# 5.3.2\n",
        "t = np.linspace(1, 10, 10)\n",
        "_=plt.plot(t, np.log(t))"
      ],
      "execution_count": null,
      "outputs": [
        {
          "output_type": "display_data",
          "data": {
            "image/png": "[encoded data removed]",
            "text/plain": [
              "<Figure size 432x288 with 1 Axes>"
            ]
          },
          "metadata": {
            "tags": [],
            "needs_background": "light"
          }
        }
      ]
    },
    {
      "cell_type": "code",
      "metadata": {
        "id": "TfrSOR2-3kCb"
      },
      "source": [
        "# 5.4 Rate calculation function\n",
        "#     apply() calls this function and passes to it\n",
        "#     just one group (or one dataframe subset)\n",
        "#     So, 'x' is that group or DataFrame.\n",
        "#     Therefore, x.sum(), is a scalar\n",
        "#     so also x.count().\n",
        "\n",
        "def rate_calculation(x):\n",
        "        \"\"\"Calculate the attributed rate. Scale by confidence\"\"\"\n",
        "        # x.sum() is a scalar so also x.count() \n",
        "        probability = x.sum() / float(x.count())\n",
        "        conf = np.min([1, np.log(x.count()) / log_group])\n",
        "        return probability * conf\n"
      ],
      "execution_count": null,
      "outputs": []
    },
    {
      "cell_type": "code",
      "metadata": {
        "colab": {
          "base_uri": "https://localhost:8080/",
          "height": 206
        },
        "id": "Hy_Ymc9N5W0S",
        "outputId": "87b08cd4-20a0-4ece-86ec-f0e2b34f47e6"
      },
      "source": [
        "# 5.5 Grouping and rate-calculations:\n",
        "\n",
        "cols = ['app', 'channel']\n",
        "grouped = train.groupby(cols)  \n",
        "grouped['is_attributed']. \\\n",
        "            apply(rate_calculation). \\\n",
        "            reset_index().head()"
      ],
      "execution_count": null,
      "outputs": [
        {
          "output_type": "execute_result",
          "data": {
            "text/html": [
              "<div>\n",
              "<style scoped>\n",
              "    .dataframe tbody tr th:only-of-type {\n",
              "        vertical-align: middle;\n",
              "    }\n",
              "\n",
              "    .dataframe tbody tr th {\n",
              "        vertical-align: top;\n",
              "    }\n",
              "\n",
              "    .dataframe thead th {\n",
              "        text-align: right;\n",
              "    }\n",
              "</style>\n",
              "<table border=\"1\" class=\"dataframe\">\n",
              "  <thead>\n",
              "    <tr style=\"text-align: right;\">\n",
              "      <th></th>\n",
              "      <th>app</th>\n",
              "      <th>channel</th>\n",
              "      <th>is_attributed</th>\n",
              "    </tr>\n",
              "  </thead>\n",
              "  <tbody>\n",
              "    <tr>\n",
              "      <th>0</th>\n",
              "      <td>0</td>\n",
              "      <td>101</td>\n",
              "      <td>0.053842</td>\n",
              "    </tr>\n",
              "    <tr>\n",
              "      <th>1</th>\n",
              "      <td>1</td>\n",
              "      <td>13</td>\n",
              "      <td>0.000000</td>\n",
              "    </tr>\n",
              "    <tr>\n",
              "      <th>2</th>\n",
              "      <td>1</td>\n",
              "      <td>17</td>\n",
              "      <td>0.000000</td>\n",
              "    </tr>\n",
              "    <tr>\n",
              "      <th>3</th>\n",
              "      <td>1</td>\n",
              "      <td>18</td>\n",
              "      <td>0.000000</td>\n",
              "    </tr>\n",
              "    <tr>\n",
              "      <th>4</th>\n",
              "      <td>1</td>\n",
              "      <td>24</td>\n",
              "      <td>0.000000</td>\n",
              "    </tr>\n",
              "  </tbody>\n",
              "</table>\n",
              "</div>"
            ],
            "text/plain": [
              "   app  channel  is_attributed\n",
              "0    0      101       0.053842\n",
              "1    1       13       0.000000\n",
              "2    1       17       0.000000\n",
              "3    1       18       0.000000\n",
              "4    1       24       0.000000"
            ]
          },
          "metadata": {
            "tags": []
          },
          "execution_count": 37
        }
      ]
    },
    {
      "cell_type": "code",
      "metadata": {
        "colab": {
          "base_uri": "https://localhost:8080/",
          "height": 206
        },
        "id": "dG7MxS0e7_jM",
        "outputId": "adb495c4-3139-4f8e-e9e9-9f4f9cd92f7d"
      },
      "source": [
        "# 5.5.1 Here are the full results\n",
        "cols = ['app', 'channel']\n",
        "\n",
        "# 5.6\n",
        "new_feature_name = 'appchannelConfRate'\n",
        "\n",
        "# 5.7\n",
        "grouped['is_attributed']. \\\n",
        "            apply(rate_calculation). \\\n",
        "            reset_index(). \\\n",
        "            rename( \n",
        "                    #index=str,\n",
        "                    columns={'is_attributed': new_feature_name}\n",
        "                   ).head()"
      ],
      "execution_count": null,
      "outputs": [
        {
          "output_type": "execute_result",
          "data": {
            "text/html": [
              "<div>\n",
              "<style scoped>\n",
              "    .dataframe tbody tr th:only-of-type {\n",
              "        vertical-align: middle;\n",
              "    }\n",
              "\n",
              "    .dataframe tbody tr th {\n",
              "        vertical-align: top;\n",
              "    }\n",
              "\n",
              "    .dataframe thead th {\n",
              "        text-align: right;\n",
              "    }\n",
              "</style>\n",
              "<table border=\"1\" class=\"dataframe\">\n",
              "  <thead>\n",
              "    <tr style=\"text-align: right;\">\n",
              "      <th></th>\n",
              "      <th>app</th>\n",
              "      <th>channel</th>\n",
              "      <th>appchannelConfRate</th>\n",
              "    </tr>\n",
              "  </thead>\n",
              "  <tbody>\n",
              "    <tr>\n",
              "      <th>0</th>\n",
              "      <td>0</td>\n",
              "      <td>101</td>\n",
              "      <td>0.053842</td>\n",
              "    </tr>\n",
              "    <tr>\n",
              "      <th>1</th>\n",
              "      <td>1</td>\n",
              "      <td>13</td>\n",
              "      <td>0.000000</td>\n",
              "    </tr>\n",
              "    <tr>\n",
              "      <th>2</th>\n",
              "      <td>1</td>\n",
              "      <td>17</td>\n",
              "      <td>0.000000</td>\n",
              "    </tr>\n",
              "    <tr>\n",
              "      <th>3</th>\n",
              "      <td>1</td>\n",
              "      <td>18</td>\n",
              "      <td>0.000000</td>\n",
              "    </tr>\n",
              "    <tr>\n",
              "      <th>4</th>\n",
              "      <td>1</td>\n",
              "      <td>24</td>\n",
              "      <td>0.000000</td>\n",
              "    </tr>\n",
              "  </tbody>\n",
              "</table>\n",
              "</div>"
            ],
            "text/plain": [
              "   app  channel  appchannelConfRate\n",
              "0    0      101            0.053842\n",
              "1    1       13            0.000000\n",
              "2    1       17            0.000000\n",
              "3    1       18            0.000000\n",
              "4    1       24            0.000000"
            ]
          },
          "metadata": {
            "tags": []
          },
          "execution_count": 39
        }
      ]
    },
    {
      "cell_type": "code",
      "metadata": {
        "colab": {
          "base_uri": "https://localhost:8080/",
          "height": 424
        },
        "id": "6qgJ4srt5ggW",
        "outputId": "35216fd6-5799-4fee-ff55-732efcf232bc"
      },
      "source": [
        "# 5.8 Grouping and reindexing\n",
        "cols = ['app', 'channel']\n",
        "new_feature_name = 'appchannelConfRate'\n",
        "grouped['is_attributed']. \\\n",
        "            apply(rate_calculation). \\\n",
        "            reset_index(). \\\n",
        "            rename( \n",
        "                    #index=str,\n",
        "                    columns={'is_attributed': new_feature_name}\n",
        "                   )[cols + [new_feature_name]]\n",
        "                        "
      ],
      "execution_count": null,
      "outputs": [
        {
          "output_type": "execute_result",
          "data": {
            "text/html": [
              "<div>\n",
              "<style scoped>\n",
              "    .dataframe tbody tr th:only-of-type {\n",
              "        vertical-align: middle;\n",
              "    }\n",
              "\n",
              "    .dataframe tbody tr th {\n",
              "        vertical-align: top;\n",
              "    }\n",
              "\n",
              "    .dataframe thead th {\n",
              "        text-align: right;\n",
              "    }\n",
              "</style>\n",
              "<table border=\"1\" class=\"dataframe\">\n",
              "  <thead>\n",
              "    <tr style=\"text-align: right;\">\n",
              "      <th></th>\n",
              "      <th>app</th>\n",
              "      <th>channel</th>\n",
              "      <th>appchannelConfRate</th>\n",
              "    </tr>\n",
              "  </thead>\n",
              "  <tbody>\n",
              "    <tr>\n",
              "      <th>0</th>\n",
              "      <td>0</td>\n",
              "      <td>101</td>\n",
              "      <td>0.053842</td>\n",
              "    </tr>\n",
              "    <tr>\n",
              "      <th>1</th>\n",
              "      <td>1</td>\n",
              "      <td>13</td>\n",
              "      <td>0.000000</td>\n",
              "    </tr>\n",
              "    <tr>\n",
              "      <th>2</th>\n",
              "      <td>1</td>\n",
              "      <td>17</td>\n",
              "      <td>0.000000</td>\n",
              "    </tr>\n",
              "    <tr>\n",
              "      <th>3</th>\n",
              "      <td>1</td>\n",
              "      <td>18</td>\n",
              "      <td>0.000000</td>\n",
              "    </tr>\n",
              "    <tr>\n",
              "      <th>4</th>\n",
              "      <td>1</td>\n",
              "      <td>24</td>\n",
              "      <td>0.000000</td>\n",
              "    </tr>\n",
              "    <tr>\n",
              "      <th>...</th>\n",
              "      <td>...</td>\n",
              "      <td>...</td>\n",
              "      <td>...</td>\n",
              "    </tr>\n",
              "    <tr>\n",
              "      <th>662</th>\n",
              "      <td>549</td>\n",
              "      <td>347</td>\n",
              "      <td>0.000000</td>\n",
              "    </tr>\n",
              "    <tr>\n",
              "      <th>663</th>\n",
              "      <td>556</td>\n",
              "      <td>347</td>\n",
              "      <td>0.000000</td>\n",
              "    </tr>\n",
              "    <tr>\n",
              "      <th>664</th>\n",
              "      <td>617</td>\n",
              "      <td>347</td>\n",
              "      <td>0.000000</td>\n",
              "    </tr>\n",
              "    <tr>\n",
              "      <th>665</th>\n",
              "      <td>633</td>\n",
              "      <td>101</td>\n",
              "      <td>0.000000</td>\n",
              "    </tr>\n",
              "    <tr>\n",
              "      <th>666</th>\n",
              "      <td>718</td>\n",
              "      <td>347</td>\n",
              "      <td>0.000000</td>\n",
              "    </tr>\n",
              "  </tbody>\n",
              "</table>\n",
              "<p>667 rows × 3 columns</p>\n",
              "</div>"
            ],
            "text/plain": [
              "     app  channel  appchannelConfRate\n",
              "0      0      101            0.053842\n",
              "1      1       13            0.000000\n",
              "2      1       17            0.000000\n",
              "3      1       18            0.000000\n",
              "4      1       24            0.000000\n",
              "..   ...      ...                 ...\n",
              "662  549      347            0.000000\n",
              "663  556      347            0.000000\n",
              "664  617      347            0.000000\n",
              "665  633      101            0.000000\n",
              "666  718      347            0.000000\n",
              "\n",
              "[667 rows x 3 columns]"
            ]
          },
          "metadata": {
            "tags": []
          },
          "execution_count": 42
        }
      ]
    },
    {
      "cell_type": "code",
      "metadata": {
        "id": "lRfDPvgLBOFW"
      },
      "source": [
        "# 5.8 Both grouping and merging \n",
        "#     Merging the group back into main data\n",
        "#     And finally merging the above result \n",
        "#     in the train data\n",
        "\n",
        "abc = train.merge(\n",
        "                    grouped['is_attributed']. \\\n",
        "                    apply(rate_calculation). \\\n",
        "                    reset_index(). \\\n",
        "                         rename( \n",
        "                                #index=str,\n",
        "                                columns={'is_attributed': new_feature_name}\n",
        "                                )[cols + [new_feature_name]],\n",
        "                         on=cols,\n",
        "                         how='left'\n",
        "                    )\n",
        "\n",
        "abc.head(3)"
      ],
      "execution_count": null,
      "outputs": []
    },
    {
      "cell_type": "markdown",
      "metadata": {
        "id": "gYfS9igD_UmD"
      },
      "source": [
        "##  Finally develop relationship of categorical features with target\n",
        "We now use the above experiments to create new features. Create each new feature by multiplying `probability` with `confRate`. We define a full function to perform this. You may refer to Tables 2 and 3 above."
      ]
    },
    {
      "cell_type": "code",
      "metadata": {
        "id": "4x1Z5RZlNLGT"
      },
      "source": [
        "# 6.0 Now the full function\n",
        "#     for many columns\n",
        "\n",
        "log_group_const = 100000\n",
        "\n",
        "# 6.1 Our lists\n",
        "ATTRIBUTION_CATEGORIES = [        \n",
        "    # V1 Features #\n",
        "    ###############\n",
        "    ['ip'], ['app'], ['device'], ['os'], ['channel'],    # 5\n",
        "    \n",
        "    # V2 Features #\n",
        "    ###############\n",
        "    ['app', 'channel'],    # name \"app_channel\" \n",
        "    ['app', 'os'],         # name: \"app_os\"\n",
        "    ['app', 'device'],     # name: \"app_device\" \n",
        "    \n",
        "    # V3 Features #\n",
        "    ###############\n",
        "    ['channel', 'os'],     # name: \"channel_os\"\n",
        "    ['channel', 'device'], # name: \"channel_device\"\n",
        "    ['os', 'device']       # name: \"os_device\"\n",
        "]\n",
        "\n",
        "# 6.2 Function to calculate probability/confRate calculations\n",
        "def rate_calculation(x):\n",
        "    \"\"\"Calculate the attributed rate. Scale by confidence\"\"\"\n",
        "\n",
        "    probability = x.sum() / float(x.count())\n",
        "    conf = np.min([1, np.log(x.count()) / log_group_const])\n",
        "    return probability * conf\n",
        "\n"
      ],
      "execution_count": null,
      "outputs": []
    },
    {
      "cell_type": "code",
      "metadata": {
        "id": "R-0nY-FQVH8l"
      },
      "source": [
        "\n",
        "freqs = {}\n",
        "\n",
        "# 6.3\n",
        "for cols in ATTRIBUTION_CATEGORIES:\n",
        "    \n",
        "    # 6.3.1 New feature name\n",
        "    new_feature = '_'.join(cols)+'_confRate'    \n",
        "    \n",
        "    # 6.3.2 Perform the groupby\n",
        "    grouped = train.groupby(cols)   # For example on: ['app', 'channel']\n",
        "    \n",
        "    # 6.3.3 Group sizes: Size of each group in pandas Series    \n",
        "    group_sizes = grouped.size()\n",
        "\n",
        "    # 6.3.4 Normalizer that can be a hyperparameter\n",
        "    log_group = np.log(100000) # 1000 views -> 60% confidence, 100 views -> 40% confidence \n",
        "    \n",
        "    \n",
        "    # 6.3.5 Perform the merge\n",
        "    train = train.merge(\n",
        "                         grouped['is_attributed']. \\\n",
        "                         apply(rate_calculation). \\\n",
        "                         reset_index(). \\\n",
        "                         rename( \n",
        "                                #index=str,\n",
        "                                columns={'is_attributed': new_feature_name}\n",
        "                                )[cols + [new_feature_name]],\n",
        "                         on=cols,\n",
        "                         how='left'\n",
        "                         )    "
      ],
      "execution_count": null,
      "outputs": []
    },
    {
      "cell_type": "code",
      "metadata": {
        "id": "G0qIVzm4Ycwi",
        "colab": {
          "base_uri": "https://localhost:8080/",
          "height": 458
        },
        "outputId": "683e78e7-1dae-4059-8339-1328949e50d1"
      },
      "source": [
        "# 6.4\n",
        "train.shape     # (999280, 23)  Earlier was # (999280, 12)\n",
        "print()\n",
        "print(train.columns) \n",
        "print()\n",
        "train.head(3)\n",
        "\n",
        "\"\"\"\n",
        "[\n",
        "       'ip', 'app', 'device', 'os', 'channel', 'click_time', 'attributed_time',\n",
        "       'is_attributed', 'day', 'hour', 'minute', 'second', \n",
        "       'ip_confRate', 'app_confRate', 'device_confRate', 'os_confRate', 'channel_confRate',\n",
        "       'app_channel_confRate', 'app_os_confRate', 'app_device_confRate',\n",
        "       'channel_os_confRate', 'channel_device_confRate', 'os_device_confRate'\n",
        "  ]\n",
        " \"\"\"\n",
        "\n"
      ],
      "execution_count": null,
      "outputs": [
        {
          "output_type": "execute_result",
          "data": {
            "text/plain": [
              "(999189, 23)"
            ]
          },
          "metadata": {
            "tags": []
          },
          "execution_count": 46
        },
        {
          "output_type": "stream",
          "text": [
            "\n",
            "Index(['ip', 'app', 'device', 'os', 'channel', 'click_time', 'attributed_time',\n",
            "       'is_attributed', 'day', 'hour', 'minute', 'second',\n",
            "       'appchannelConfRate_x', 'appchannelConfRate_y', 'appchannelConfRate_x',\n",
            "       'appchannelConfRate_y', 'appchannelConfRate_x', 'appchannelConfRate_y',\n",
            "       'appchannelConfRate_x', 'appchannelConfRate_y', 'appchannelConfRate_x',\n",
            "       'appchannelConfRate_y', 'appchannelConfRate'],\n",
            "      dtype='object')\n",
            "\n"
          ],
          "name": "stdout"
        },
        {
          "output_type": "execute_result",
          "data": {
            "text/html": [
              "<div>\n",
              "<style scoped>\n",
              "    .dataframe tbody tr th:only-of-type {\n",
              "        vertical-align: middle;\n",
              "    }\n",
              "\n",
              "    .dataframe tbody tr th {\n",
              "        vertical-align: top;\n",
              "    }\n",
              "\n",
              "    .dataframe thead th {\n",
              "        text-align: right;\n",
              "    }\n",
              "</style>\n",
              "<table border=\"1\" class=\"dataframe\">\n",
              "  <thead>\n",
              "    <tr style=\"text-align: right;\">\n",
              "      <th></th>\n",
              "      <th>ip</th>\n",
              "      <th>app</th>\n",
              "      <th>device</th>\n",
              "      <th>os</th>\n",
              "      <th>channel</th>\n",
              "      <th>click_time</th>\n",
              "      <th>attributed_time</th>\n",
              "      <th>is_attributed</th>\n",
              "      <th>day</th>\n",
              "      <th>hour</th>\n",
              "      <th>minute</th>\n",
              "      <th>second</th>\n",
              "      <th>appchannelConfRate_x</th>\n",
              "      <th>appchannelConfRate_y</th>\n",
              "      <th>appchannelConfRate_x</th>\n",
              "      <th>appchannelConfRate_y</th>\n",
              "      <th>appchannelConfRate_x</th>\n",
              "      <th>appchannelConfRate_y</th>\n",
              "      <th>appchannelConfRate_x</th>\n",
              "      <th>appchannelConfRate_y</th>\n",
              "      <th>appchannelConfRate_x</th>\n",
              "      <th>appchannelConfRate_y</th>\n",
              "      <th>appchannelConfRate</th>\n",
              "    </tr>\n",
              "  </thead>\n",
              "  <tbody>\n",
              "    <tr>\n",
              "      <th>0</th>\n",
              "      <td>49305</td>\n",
              "      <td>3</td>\n",
              "      <td>1</td>\n",
              "      <td>25</td>\n",
              "      <td>379</td>\n",
              "      <td>2017-11-06 15:50:26</td>\n",
              "      <td>NaN</td>\n",
              "      <td>0</td>\n",
              "      <td>6</td>\n",
              "      <td>15</td>\n",
              "      <td>50</td>\n",
              "      <td>26</td>\n",
              "      <td>0.000000</td>\n",
              "      <td>0.000291</td>\n",
              "      <td>0.001818</td>\n",
              "      <td>0.000960</td>\n",
              "      <td>0.000140</td>\n",
              "      <td>0.000281</td>\n",
              "      <td>0.000000</td>\n",
              "      <td>0.000301</td>\n",
              "      <td>0.0</td>\n",
              "      <td>0.000140</td>\n",
              "      <td>0.000995</td>\n",
              "    </tr>\n",
              "    <tr>\n",
              "      <th>1</th>\n",
              "      <td>117898</td>\n",
              "      <td>2</td>\n",
              "      <td>2</td>\n",
              "      <td>36</td>\n",
              "      <td>205</td>\n",
              "      <td>2017-11-06 16:00:00</td>\n",
              "      <td>NaN</td>\n",
              "      <td>0</td>\n",
              "      <td>6</td>\n",
              "      <td>16</td>\n",
              "      <td>0</td>\n",
              "      <td>0</td>\n",
              "      <td>0.003349</td>\n",
              "      <td>0.000205</td>\n",
              "      <td>0.000255</td>\n",
              "      <td>0.004767</td>\n",
              "      <td>0.000148</td>\n",
              "      <td>0.000000</td>\n",
              "      <td>0.000000</td>\n",
              "      <td>0.000000</td>\n",
              "      <td>0.0</td>\n",
              "      <td>0.000000</td>\n",
              "      <td>0.000000</td>\n",
              "    </tr>\n",
              "    <tr>\n",
              "      <th>2</th>\n",
              "      <td>60235</td>\n",
              "      <td>2</td>\n",
              "      <td>1</td>\n",
              "      <td>19</td>\n",
              "      <td>205</td>\n",
              "      <td>2017-11-06 16:00:01</td>\n",
              "      <td>NaN</td>\n",
              "      <td>0</td>\n",
              "      <td>6</td>\n",
              "      <td>16</td>\n",
              "      <td>0</td>\n",
              "      <td>1</td>\n",
              "      <td>0.000000</td>\n",
              "      <td>0.000205</td>\n",
              "      <td>0.001818</td>\n",
              "      <td>0.001865</td>\n",
              "      <td>0.000148</td>\n",
              "      <td>0.000000</td>\n",
              "      <td>0.000241</td>\n",
              "      <td>0.000215</td>\n",
              "      <td>0.0</td>\n",
              "      <td>0.000165</td>\n",
              "      <td>0.001891</td>\n",
              "    </tr>\n",
              "  </tbody>\n",
              "</table>\n",
              "</div>"
            ],
            "text/plain": [
              "       ip  app  ...  appchannelConfRate_y  appchannelConfRate\n",
              "0   49305    3  ...              0.000140            0.000995\n",
              "1  117898    2  ...              0.000000            0.000000\n",
              "2   60235    2  ...              0.000165            0.001891\n",
              "\n",
              "[3 rows x 23 columns]"
            ]
          },
          "metadata": {
            "tags": []
          },
          "execution_count": 46
        },
        {
          "output_type": "execute_result",
          "data": {
            "application/vnd.google.colaboratory.intrinsic+json": {
              "type": "string"
            },
            "text/plain": [
              "\"\\n[\\n       'ip', 'app', 'device', 'os', 'channel', 'click_time', 'attributed_time',\\n       'is_attributed', 'day', 'hour', 'minute', 'second', \\n       'ip_confRate', 'app_confRate', 'device_confRate', 'os_confRate', 'channel_confRate',\\n       'app_channel_confRate', 'app_os_confRate', 'app_device_confRate',\\n       'channel_os_confRate', 'channel_device_confRate', 'os_device_confRate'\\n  ]\\n \""
            ]
          },
          "metadata": {
            "tags": []
          },
          "execution_count": 46
        }
      ]
    },
    {
      "cell_type": "markdown",
      "metadata": {
        "id": "S1Nqr7sjjLtx"
      },
      "source": [
        "##Relationship of features among themselves (Expts)\n",
        "We first perform some experiments to to learn how to go about it in a concise manner."
      ]
    },
    {
      "cell_type": "markdown",
      "metadata": {
        "id": "V-NxWk-JRNH6"
      },
      "source": [
        "### Some more experiments\n",
        "We will now develop relationship among '*independent*' or '*explanatory*' categorical features. (See Table 1 above). To understand how it is done, we perform some simple experiments first."
      ]
    },
    {
      "cell_type": "code",
      "metadata": {
        "id": "4qY522tBBa0O"
      },
      "source": [
        "# 7.0 Here is a sample of features. \n",
        "#     Please see that the three dict keys here \n",
        "#     correspond to three columns \n",
        "#     ('GroupBy','Operation', 'On') of Table 1.\n",
        "\n",
        "PLAN_AGGREGATIONS = [\n",
        "                      # V1 - GroupBy Features #\n",
        "                      #########################    \n",
        "                      # GroupBy [ip-app-channel], and calculate variance of 'day'\n",
        "                      { \n",
        "                       'groupby': ['ip','app','channel'],\n",
        "                       'select': 'day',\n",
        "                       'agg': 'var' \n",
        "                       },\n",
        "    \n",
        "                      # GroupBy ip-app-os and calculate variance of 'hour'\n",
        "                      {\n",
        "                        'groupby': ['ip','app','os'],\n",
        "                        'select': 'hour',\n",
        "                        'agg': 'var'\n",
        "                      }\n",
        "                    ]"
      ],
      "execution_count": 32,
      "outputs": []
    },
    {
      "cell_type": "code",
      "metadata": {
        "id": "LX_aYRzmEK59",
        "colab": {
          "base_uri": "https://localhost:8080/",
          "height": 175
        },
        "outputId": "b85354bf-3bc0-4545-dc5b-054c0247cca0"
      },
      "source": [
        "# 7.1 Make a copy of our data\n",
        "#     (Our sample data is small. \n",
        "#       So this is possible for our expt here)\n",
        "\n",
        "abc = train.copy()\n",
        "\n",
        "# 7.2 First perform grouped sets\n",
        "grouped = abc.groupby(['ip','app','channel'])\n",
        "\n",
        "# 7.3 Then apply requisite aggregation on each grouped set\n",
        "gred = grouped.agg({'day': 'var'})\n",
        "\n",
        "# 7.4 Check. Our DataFrame has an Index with\n",
        "#      three columns. It is Multiindex or \n",
        "#       hierarchical index\n",
        "gred.head(3)"
      ],
      "execution_count": 33,
      "outputs": [
        {
          "output_type": "execute_result",
          "data": {
            "text/html": [
              "<div>\n",
              "<style scoped>\n",
              "    .dataframe tbody tr th:only-of-type {\n",
              "        vertical-align: middle;\n",
              "    }\n",
              "\n",
              "    .dataframe tbody tr th {\n",
              "        vertical-align: top;\n",
              "    }\n",
              "\n",
              "    .dataframe thead th {\n",
              "        text-align: right;\n",
              "    }\n",
              "</style>\n",
              "<table border=\"1\" class=\"dataframe\">\n",
              "  <thead>\n",
              "    <tr style=\"text-align: right;\">\n",
              "      <th></th>\n",
              "      <th></th>\n",
              "      <th></th>\n",
              "      <th>day</th>\n",
              "    </tr>\n",
              "    <tr>\n",
              "      <th>ip</th>\n",
              "      <th>app</th>\n",
              "      <th>channel</th>\n",
              "      <th></th>\n",
              "    </tr>\n",
              "  </thead>\n",
              "  <tbody>\n",
              "    <tr>\n",
              "      <th rowspan=\"2\" valign=\"top\">6</th>\n",
              "      <th>9</th>\n",
              "      <th>134</th>\n",
              "      <td>NaN</td>\n",
              "    </tr>\n",
              "    <tr>\n",
              "      <th>18</th>\n",
              "      <th>107</th>\n",
              "      <td>NaN</td>\n",
              "    </tr>\n",
              "    <tr>\n",
              "      <th>9</th>\n",
              "      <th>2</th>\n",
              "      <th>122</th>\n",
              "      <td>NaN</td>\n",
              "    </tr>\n",
              "  </tbody>\n",
              "</table>\n",
              "</div>"
            ],
            "text/plain": [
              "                day\n",
              "ip app channel     \n",
              "6  9   134      NaN\n",
              "   18  107      NaN\n",
              "9  2   122      NaN"
            ]
          },
          "metadata": {
            "tags": []
          },
          "execution_count": 33
        }
      ]
    },
    {
      "cell_type": "code",
      "metadata": {
        "colab": {
          "base_uri": "https://localhost:8080/",
          "height": 206
        },
        "id": "M4QnJqr6XT8_",
        "outputId": "954e3ac8-d50b-4912-c855-adcf7798615c"
      },
      "source": [
        "# 7.5 Reset index \n",
        "gred.reset_index().head()"
      ],
      "execution_count": 34,
      "outputs": [
        {
          "output_type": "execute_result",
          "data": {
            "text/html": [
              "<div>\n",
              "<style scoped>\n",
              "    .dataframe tbody tr th:only-of-type {\n",
              "        vertical-align: middle;\n",
              "    }\n",
              "\n",
              "    .dataframe tbody tr th {\n",
              "        vertical-align: top;\n",
              "    }\n",
              "\n",
              "    .dataframe thead th {\n",
              "        text-align: right;\n",
              "    }\n",
              "</style>\n",
              "<table border=\"1\" class=\"dataframe\">\n",
              "  <thead>\n",
              "    <tr style=\"text-align: right;\">\n",
              "      <th></th>\n",
              "      <th>ip</th>\n",
              "      <th>app</th>\n",
              "      <th>channel</th>\n",
              "      <th>day</th>\n",
              "    </tr>\n",
              "  </thead>\n",
              "  <tbody>\n",
              "    <tr>\n",
              "      <th>0</th>\n",
              "      <td>6</td>\n",
              "      <td>9</td>\n",
              "      <td>134</td>\n",
              "      <td>NaN</td>\n",
              "    </tr>\n",
              "    <tr>\n",
              "      <th>1</th>\n",
              "      <td>6</td>\n",
              "      <td>18</td>\n",
              "      <td>107</td>\n",
              "      <td>NaN</td>\n",
              "    </tr>\n",
              "    <tr>\n",
              "      <th>2</th>\n",
              "      <td>9</td>\n",
              "      <td>2</td>\n",
              "      <td>122</td>\n",
              "      <td>NaN</td>\n",
              "    </tr>\n",
              "    <tr>\n",
              "      <th>3</th>\n",
              "      <td>9</td>\n",
              "      <td>3</td>\n",
              "      <td>409</td>\n",
              "      <td>NaN</td>\n",
              "    </tr>\n",
              "    <tr>\n",
              "      <th>4</th>\n",
              "      <td>9</td>\n",
              "      <td>11</td>\n",
              "      <td>325</td>\n",
              "      <td>NaN</td>\n",
              "    </tr>\n",
              "  </tbody>\n",
              "</table>\n",
              "</div>"
            ],
            "text/plain": [
              "   ip  app  channel  day\n",
              "0   6    9      134  NaN\n",
              "1   6   18      107  NaN\n",
              "2   9    2      122  NaN\n",
              "3   9    3      409  NaN\n",
              "4   9   11      325  NaN"
            ]
          },
          "metadata": {
            "tags": []
          },
          "execution_count": 34
        }
      ]
    },
    {
      "cell_type": "code",
      "metadata": {
        "id": "d-jWINGY4--Z",
        "colab": {
          "base_uri": "https://localhost:8080/",
          "height": 259
        },
        "outputId": "1ad7672c-df30-4d74-b98c-dbacebfcf181"
      },
      "source": [
        "# 7.6 We can now re-write the above\n",
        "#      in terms of dictionary key-values\n",
        "\n",
        "abc = train.copy()\n",
        "abc.head(2)\n",
        "for i in PLAN_AGGREGATIONS:\n",
        "  grouped = abc.groupby(i['groupby'])\n",
        "  gred = grouped[i['select']].agg(i['agg'])\n",
        "  gred = gred.reset_index()\n",
        "  print(gred.head(3)) "
      ],
      "execution_count": 35,
      "outputs": [
        {
          "output_type": "execute_result",
          "data": {
            "text/html": [
              "<div>\n",
              "<style scoped>\n",
              "    .dataframe tbody tr th:only-of-type {\n",
              "        vertical-align: middle;\n",
              "    }\n",
              "\n",
              "    .dataframe tbody tr th {\n",
              "        vertical-align: top;\n",
              "    }\n",
              "\n",
              "    .dataframe thead th {\n",
              "        text-align: right;\n",
              "    }\n",
              "</style>\n",
              "<table border=\"1\" class=\"dataframe\">\n",
              "  <thead>\n",
              "    <tr style=\"text-align: right;\">\n",
              "      <th></th>\n",
              "      <th>ip</th>\n",
              "      <th>app</th>\n",
              "      <th>device</th>\n",
              "      <th>os</th>\n",
              "      <th>channel</th>\n",
              "      <th>click_time</th>\n",
              "      <th>attributed_time</th>\n",
              "      <th>is_attributed</th>\n",
              "      <th>day</th>\n",
              "      <th>hour</th>\n",
              "      <th>minute</th>\n",
              "      <th>second</th>\n",
              "    </tr>\n",
              "  </thead>\n",
              "  <tbody>\n",
              "    <tr>\n",
              "      <th>0</th>\n",
              "      <td>191894</td>\n",
              "      <td>3</td>\n",
              "      <td>1</td>\n",
              "      <td>18</td>\n",
              "      <td>379</td>\n",
              "      <td>2017-11-06 15:29:16</td>\n",
              "      <td>NaN</td>\n",
              "      <td>0</td>\n",
              "      <td>6</td>\n",
              "      <td>15</td>\n",
              "      <td>29</td>\n",
              "      <td>16</td>\n",
              "    </tr>\n",
              "    <tr>\n",
              "      <th>1</th>\n",
              "      <td>22333</td>\n",
              "      <td>3</td>\n",
              "      <td>1</td>\n",
              "      <td>19</td>\n",
              "      <td>379</td>\n",
              "      <td>2017-11-06 15:48:50</td>\n",
              "      <td>NaN</td>\n",
              "      <td>0</td>\n",
              "      <td>6</td>\n",
              "      <td>15</td>\n",
              "      <td>48</td>\n",
              "      <td>50</td>\n",
              "    </tr>\n",
              "  </tbody>\n",
              "</table>\n",
              "</div>"
            ],
            "text/plain": [
              "       ip  app  device  os  channel  ... is_attributed day  hour  minute  second\n",
              "0  191894    3       1  18      379  ...             0   6    15      29      16\n",
              "1   22333    3       1  19      379  ...             0   6    15      48      50\n",
              "\n",
              "[2 rows x 12 columns]"
            ]
          },
          "metadata": {
            "tags": []
          },
          "execution_count": 35
        },
        {
          "output_type": "stream",
          "text": [
            "   ip  app  channel  day\n",
            "0   6    9      134  NaN\n",
            "1   6   18      107  NaN\n",
            "2   9    2      122  NaN\n",
            "   ip  app  os  hour\n",
            "0   6    9   9   NaN\n",
            "1   6   18  13   NaN\n",
            "2   9    2   8   NaN\n"
          ],
          "name": "stdout"
        }
      ]
    },
    {
      "cell_type": "code",
      "metadata": {
        "id": "GTIihbGa59vr",
        "colab": {
          "base_uri": "https://localhost:8080/"
        },
        "outputId": "e880d6c2-123c-4f26-c418-4c815bd5ce3f"
      },
      "source": [
        "# 7.7 We can now re-write the above\n",
        "#      in terms of dictionary key-values\n",
        "abc = train.copy()\n",
        "print(abc.shape)\n",
        "for i in PLAN_AGGREGATIONS:\n",
        "  # 7.7.1\n",
        "  grouped = abc.groupby(i['groupby'])\n",
        "  # 7.7.2\n",
        "  gred = grouped[i['select']].agg(i['agg'])\n",
        "  # 7.7.3\n",
        "  gred = gred.reset_index().rename(columns = {i['select'] : \"_\".join(i['groupby']) +\"_\" +i['select'] + \"_\" +i['agg']} )\n",
        "  # 7.7.4\n",
        "  print(gred.head(3)) \n",
        "  # 7.7.5\n",
        "  abc = abc.merge(gred)\n",
        "  # 7.7.6\n",
        "  print(abc.head(2))\n",
        "  print(abc.shape)"
      ],
      "execution_count": 36,
      "outputs": [
        {
          "output_type": "stream",
          "text": [
            "(399520, 12)\n",
            "   ip  app  channel  ip_app_channel_day_var\n",
            "0   6    9      134                     NaN\n",
            "1   6   18      107                     NaN\n",
            "2   9    2      122                     NaN\n",
            "       ip  app  device  os  ...  hour minute second  ip_app_channel_day_var\n",
            "0  191894    3       1  18  ...    15     29     16                     NaN\n",
            "1   22333    3       1  19  ...    15     48     50                     NaN\n",
            "\n",
            "[2 rows x 13 columns]\n",
            "(399520, 13)\n",
            "   ip  app  os  ip_app_os_hour_var\n",
            "0   6    9   9                 NaN\n",
            "1   6   18  13                 NaN\n",
            "2   9    2   8                 NaN\n",
            "       ip  app  device  ...  second  ip_app_channel_day_var ip_app_os_hour_var\n",
            "0  191894    3       1  ...      16                     NaN                2.0\n",
            "1  191894    3       1  ...      58                     NaN                2.0\n",
            "\n",
            "[2 rows x 14 columns]\n",
            "(399520, 14)\n"
          ],
          "name": "stdout"
        }
      ]
    },
    {
      "cell_type": "code",
      "metadata": {
        "id": "sGTU9BQzfjaz"
      },
      "source": [
        "# 8.0 Apply now all the groupby transformations\n",
        "abc = train.copy()\n",
        "\n",
        "for spec in PLAN_AGGREGATIONS:\n",
        "    \n",
        "    # 8.1 What aggregation operator we're applying?\n",
        "    agg_name = spec['agg']\n",
        "    \n",
        "    # 8.2 What would be the name of new feature\n",
        "    new_feature = '{}_{}_{}'. \\\n",
        "                   format( \\\n",
        "                          '_'.join(spec['groupby']),\n",
        "                          agg_name, \n",
        "                          spec['select']\n",
        "                          )\n",
        "   \n",
        "    # 8.3 Unique list of features to select\n",
        "    all_features = list(set(spec['groupby'] + [spec['select']]))\n",
        "    \n",
        "    # 8.4 Perform the groupby\n",
        "    gp = abc[all_features]. \\\n",
        "         groupby(spec['groupby'])[spec['select']]. \\\n",
        "         agg(spec['agg']). \\\n",
        "         reset_index(). \\\n",
        "         rename(columns={spec['select']: new_feature})\n",
        "        \n",
        "    # 8.5 Merge back to X_total\n",
        "    abc = abc.merge(gp, on=spec['groupby'], how='left')\n",
        "        \n",
        "     # 8.6 Clear memory\n",
        "    del gp\n",
        "    gc.collect()\n",
        "abc.head()    "
      ],
      "execution_count": null,
      "outputs": []
    },
    {
      "cell_type": "markdown",
      "metadata": {
        "id": "pEhEHu1zjjiH"
      },
      "source": [
        "##Perform final feature generation\n",
        "We now use the above experiments to write our final function and perform feature generation (among explanatory features)."
      ]
    },
    {
      "cell_type": "markdown",
      "metadata": {
        "id": "aYAnTmkGnbag"
      },
      "source": [
        "###First develop grouping plan\n",
        "Plan describes:<br> i) which features will be grouped,<br> ii) which feature will be summarised, and<br> iii) what kind of summary (count, var etc)"
      ]
    },
    {
      "cell_type": "code",
      "metadata": {
        "id": "enxYId5HD7nP"
      },
      "source": [
        " # 9.0 Define all the groupby transformations\n",
        "GROUPBY_AGGREGATIONS = [\n",
        "    \n",
        "    # 9.1 V1 - GroupBy Features #\n",
        "    #########################    \n",
        "    # 9.2 Variance in day, for ip-app-channel\n",
        "    {'groupby': ['ip','app','channel'], 'select': 'day', 'agg': 'var'},\n",
        "    # 9.2.1 Variance in hour, for ip-app-os\n",
        "    {'groupby': ['ip','app','os'], 'select': 'hour', 'agg': 'var'},\n",
        "    # 9.2.2 Variance in hour, for ip-day-channel\n",
        "    {'groupby': ['ip','day','channel'], 'select': 'hour', 'agg': 'var'},\n",
        "    # 9.2.3 Count of channel, for ip-day-hour\n",
        "    {'groupby': ['ip','day','hour'], 'select': 'channel', 'agg': 'count'},\n",
        "    # 9.2.4 Count of channel, for ip-app\n",
        "    {'groupby': ['ip', 'app'], 'select': 'channel', 'agg': 'count'},        \n",
        "    # 9.2.5 Count of channel, for ip-app-os\n",
        "    {'groupby': ['ip', 'app', 'os'], 'select': 'channel', 'agg': 'count'},\n",
        "    # 9.2.6 Count of channel, for ip-app-day-hour\n",
        "    {'groupby': ['ip','app','day','hour'], 'select': 'channel', 'agg': 'count'},\n",
        "    # 9.2.7 Mean hour, for ip-app-channel\n",
        "    {'groupby': ['ip','app','channel'], 'select': 'hour', 'agg': 'mean'}, \n",
        "    \n",
        "    # 10.0 V2 - GroupBy Features #\n",
        "    #########################\n",
        "    # 10.1 Average clicks on app by distinct users; is it an app they return to?\n",
        "    #{'groupby': ['app'], \n",
        "    # 'select': 'ip', \n",
        "    # 'agg': lambda x: float(len(x)) / len(x.unique()), \n",
        "    # 'agg_name': 'AvgViewPerDistinct'\n",
        "    #},\n",
        "    # 10.2 How popular is the app or channel?\n",
        "    {'groupby': ['app'], 'select': 'channel', 'agg': 'count'},\n",
        "    {'groupby': ['channel'], 'select': 'app', 'agg': 'count'},\n",
        "    \n",
        "    # 10.3 V3 - GroupBy Features                                              #\n",
        "    # https://www.kaggle.com/bk0000/non-blending-lightgbm-model-lb-0-977 #\n",
        "    ###################################################################### \n",
        "    {'groupby': ['ip'], 'select': 'channel', 'agg': 'nunique'}, \n",
        "    {'groupby': ['ip'], 'select': 'app', 'agg': 'nunique'}, \n",
        "    {'groupby': ['ip','day'], 'select': 'hour', 'agg': 'nunique'}, \n",
        "    {'groupby': ['ip','app'], 'select': 'os', 'agg': 'nunique'}, \n",
        "    {'groupby': ['ip'], 'select': 'device', 'agg': 'nunique'}, \n",
        "    {'groupby': ['app'], 'select': 'channel', 'agg': 'nunique'}, \n",
        "    {'groupby': ['ip', 'device', 'os'], 'select': 'app', 'agg': 'nunique'}, \n",
        "    #{'groupby': ['ip','device','os'], 'select': 'app', 'agg': 'cumcount'}, \n",
        "    #{'groupby': ['ip'], 'select': 'app', 'agg': 'cumcount'}, \n",
        "    #{'groupby': ['ip'], 'select': 'os', 'agg': 'cumcount'}, \n",
        "    {'groupby': ['ip','day','channel'], 'select': 'hour', 'agg': 'var'}    \n",
        "  ]"
      ],
      "execution_count": null,
      "outputs": []
    },
    {
      "cell_type": "markdown",
      "metadata": {
        "id": "vPnP4hzUngDP"
      },
      "source": [
        "###Next, use the plan \n",
        "Write now a for-loop to go over the plan, one at a time. In the for-loop,as and when new-feature is created, go on merging this new-feature with the train data after giving appropriate name (or a descriptive name) to the new-feature"
      ]
    },
    {
      "cell_type": "code",
      "metadata": {
        "colab": {
          "base_uri": "https://localhost:8080/"
        },
        "id": "kb1qVBkFD9mn",
        "outputId": "2b52e784-35c3-48cd-9cd7-077932a7a420"
      },
      "source": [
        "# 11.0 Apply all the groupby transformations\n",
        "for spec in GROUPBY_AGGREGATIONS:\n",
        "    \n",
        "    # 11.1 Name of the aggregation we're applying\n",
        "    agg_name = spec['agg']\n",
        "    \n",
        "    # 11.2 Name of new feature\n",
        "    new_feature = '{}_{}_{}'.format('_'.join(spec['groupby']), agg_name, spec['select'])\n",
        "    \n",
        "    # 11.3 Info\n",
        "    print(\"Grouping by {}, and aggregating {} with {}\".format(\n",
        "        spec['groupby'], spec['select'], agg_name\n",
        "    ))\n",
        "    \n",
        "    # 11.4 Unique list of features to select\n",
        "    all_features = list(set(spec['groupby'] + [spec['select']]))\n",
        "    \n",
        "    # 11.5 Perform the groupby\n",
        "    gp = train[all_features]. \\\n",
        "        groupby(spec['groupby'])[spec['select']]. \\\n",
        "        agg(spec['agg']). \\\n",
        "        reset_index(). \\\n",
        "        rename(   \\\n",
        "                #index=str, \\\n",
        "                columns={spec['select']: new_feature} \\\n",
        "               )\n",
        "    # 11.6    \n",
        "    train = train.merge(gp, on=spec['groupby'], how='left')\n",
        "        \n",
        "     # 11.7 Clear memory\n",
        "    del gp\n",
        "    gc.collect()"
      ],
      "execution_count": null,
      "outputs": [
        {
          "output_type": "stream",
          "text": [
            "Grouping by ['ip', 'app', 'channel'], and aggregating day with var\n"
          ],
          "name": "stdout"
        },
        {
          "output_type": "execute_result",
          "data": {
            "text/plain": [
              "69"
            ]
          },
          "metadata": {
            "tags": []
          },
          "execution_count": 67
        },
        {
          "output_type": "stream",
          "text": [
            "Grouping by ['ip', 'app', 'os'], and aggregating hour with var\n"
          ],
          "name": "stdout"
        },
        {
          "output_type": "execute_result",
          "data": {
            "text/plain": [
              "0"
            ]
          },
          "metadata": {
            "tags": []
          },
          "execution_count": 67
        },
        {
          "output_type": "stream",
          "text": [
            "Grouping by ['ip', 'day', 'channel'], and aggregating hour with var\n"
          ],
          "name": "stdout"
        },
        {
          "output_type": "execute_result",
          "data": {
            "text/plain": [
              "0"
            ]
          },
          "metadata": {
            "tags": []
          },
          "execution_count": 67
        },
        {
          "output_type": "stream",
          "text": [
            "Grouping by ['ip', 'day', 'hour'], and aggregating channel with count\n"
          ],
          "name": "stdout"
        },
        {
          "output_type": "execute_result",
          "data": {
            "text/plain": [
              "0"
            ]
          },
          "metadata": {
            "tags": []
          },
          "execution_count": 67
        },
        {
          "output_type": "stream",
          "text": [
            "Grouping by ['ip', 'app'], and aggregating channel with count\n"
          ],
          "name": "stdout"
        },
        {
          "output_type": "execute_result",
          "data": {
            "text/plain": [
              "0"
            ]
          },
          "metadata": {
            "tags": []
          },
          "execution_count": 67
        },
        {
          "output_type": "stream",
          "text": [
            "Grouping by ['ip', 'app', 'os'], and aggregating channel with count\n"
          ],
          "name": "stdout"
        },
        {
          "output_type": "execute_result",
          "data": {
            "text/plain": [
              "0"
            ]
          },
          "metadata": {
            "tags": []
          },
          "execution_count": 67
        },
        {
          "output_type": "stream",
          "text": [
            "Grouping by ['ip', 'app', 'day', 'hour'], and aggregating channel with count\n"
          ],
          "name": "stdout"
        },
        {
          "output_type": "execute_result",
          "data": {
            "text/plain": [
              "0"
            ]
          },
          "metadata": {
            "tags": []
          },
          "execution_count": 67
        },
        {
          "output_type": "stream",
          "text": [
            "Grouping by ['ip', 'app', 'channel'], and aggregating hour with mean\n"
          ],
          "name": "stdout"
        },
        {
          "output_type": "execute_result",
          "data": {
            "text/plain": [
              "0"
            ]
          },
          "metadata": {
            "tags": []
          },
          "execution_count": 67
        },
        {
          "output_type": "stream",
          "text": [
            "Grouping by ['app'], and aggregating channel with count\n"
          ],
          "name": "stdout"
        },
        {
          "output_type": "execute_result",
          "data": {
            "text/plain": [
              "0"
            ]
          },
          "metadata": {
            "tags": []
          },
          "execution_count": 67
        },
        {
          "output_type": "stream",
          "text": [
            "Grouping by ['channel'], and aggregating app with count\n"
          ],
          "name": "stdout"
        },
        {
          "output_type": "execute_result",
          "data": {
            "text/plain": [
              "0"
            ]
          },
          "metadata": {
            "tags": []
          },
          "execution_count": 67
        },
        {
          "output_type": "stream",
          "text": [
            "Grouping by ['ip'], and aggregating channel with nunique\n"
          ],
          "name": "stdout"
        },
        {
          "output_type": "execute_result",
          "data": {
            "text/plain": [
              "0"
            ]
          },
          "metadata": {
            "tags": []
          },
          "execution_count": 67
        },
        {
          "output_type": "stream",
          "text": [
            "Grouping by ['ip'], and aggregating app with nunique\n"
          ],
          "name": "stdout"
        },
        {
          "output_type": "execute_result",
          "data": {
            "text/plain": [
              "0"
            ]
          },
          "metadata": {
            "tags": []
          },
          "execution_count": 67
        },
        {
          "output_type": "stream",
          "text": [
            "Grouping by ['ip', 'day'], and aggregating hour with nunique\n"
          ],
          "name": "stdout"
        },
        {
          "output_type": "execute_result",
          "data": {
            "text/plain": [
              "0"
            ]
          },
          "metadata": {
            "tags": []
          },
          "execution_count": 67
        },
        {
          "output_type": "stream",
          "text": [
            "Grouping by ['ip', 'app'], and aggregating os with nunique\n"
          ],
          "name": "stdout"
        },
        {
          "output_type": "execute_result",
          "data": {
            "text/plain": [
              "0"
            ]
          },
          "metadata": {
            "tags": []
          },
          "execution_count": 67
        },
        {
          "output_type": "stream",
          "text": [
            "Grouping by ['ip'], and aggregating device with nunique\n"
          ],
          "name": "stdout"
        },
        {
          "output_type": "execute_result",
          "data": {
            "text/plain": [
              "0"
            ]
          },
          "metadata": {
            "tags": []
          },
          "execution_count": 67
        },
        {
          "output_type": "stream",
          "text": [
            "Grouping by ['app'], and aggregating channel with nunique\n"
          ],
          "name": "stdout"
        },
        {
          "output_type": "execute_result",
          "data": {
            "text/plain": [
              "0"
            ]
          },
          "metadata": {
            "tags": []
          },
          "execution_count": 67
        },
        {
          "output_type": "stream",
          "text": [
            "Grouping by ['ip', 'device', 'os'], and aggregating app with nunique\n"
          ],
          "name": "stdout"
        },
        {
          "output_type": "execute_result",
          "data": {
            "text/plain": [
              "0"
            ]
          },
          "metadata": {
            "tags": []
          },
          "execution_count": 67
        },
        {
          "output_type": "stream",
          "text": [
            "Grouping by ['ip', 'day', 'channel'], and aggregating hour with var\n"
          ],
          "name": "stdout"
        },
        {
          "output_type": "execute_result",
          "data": {
            "text/plain": [
              "0"
            ]
          },
          "metadata": {
            "tags": []
          },
          "execution_count": 67
        }
      ]
    },
    {
      "cell_type": "markdown",
      "metadata": {
        "id": "Y77rjgHEphTG"
      },
      "source": [
        "##Save your data\n",
        "As the final data will have very large number of features and you do not want to go over it again, save to Google drive for later use."
      ]
    },
    {
      "cell_type": "code",
      "metadata": {
        "id": "xQGd_XB-kWgO"
      },
      "source": [
        "#####################"
      ],
      "execution_count": null,
      "outputs": []
    }
  ]
}