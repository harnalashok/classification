{
  "nbformat": 4,
  "nbformat_minor": 0,
  "metadata": {
    "colab": {
      "name": "bnp_paribas_catboost.ipynb",
      "provenance": [],
      "collapsed_sections": [],
      "mount_file_id": "1WdHVvp7SlJBiewOWt40mA6aN01k2VfTW",
      "authorship_tag": "ABX9TyMIo8EPHoRVpRinYe6/Yy5N",
      "include_colab_link": true
    },
    "kernelspec": {
      "name": "python3",
      "display_name": "Python 3"
    },
    "language_info": {
      "name": "python"
    }
  },
  "cells": [
    {
      "cell_type": "markdown",
      "metadata": {
        "id": "view-in-github",
        "colab_type": "text"
      },
      "source": [
        "<a href=\"https://colab.research.google.com/github/harnalashok/classification/blob/main/bnp_paribas_catboost.ipynb\" target=\"_parent\"><img src=\"https://colab.research.google.com/assets/colab-badge.svg\" alt=\"Open In Colab\"/></a>"
      ]
    },
    {
      "cell_type": "code",
      "metadata": {
        "id": "CPJunTvKWkCj"
      },
      "source": [
        "\"\"\"\n",
        "Last amended: 04th August, 2021\n",
        "My folder: C:\\Users\\ashok\\OneDrive\\Documents\\bnp_paribas_insurance\n",
        "           /home/ashok/Documents/bnp_paribas_insurance/\n",
        "Ref:\n",
        "    Kaggle problem: https://www.kaggle.com/c/bnp-paribas-cardif-claims-management\n",
        "    https://github.com/catboost/tutorials/blob/master/advanced_tutorials/kaggle_paribas.ipynb\n",
        "\n",
        "    Catboost documentation:\n",
        "    https://catboost.ai/docs/concepts/algorithm-main-stages_cat-to-numberic.html\n",
        "\n",
        "Evaluation:\n",
        "    logloss\n",
        "    https://www.kaggle.com/c/bnp-paribas-cardif-claims-management#evaluation\n",
        "\n",
        "Objectives:\n",
        "    i)   Learn to work with catboost\n",
        "    ii)  Plotting missingvalues graphs\n",
        "            a. Matrix plots\n",
        "            b. Heatmap/correlation plots\n",
        "            c. dendogram plots\n",
        "    ii)  Plotting ROC curve in python\n",
        "    iii) Feature importance\n",
        "    iv)  Grid search--parameter tuning\n",
        "\n",
        "\"\"\"\n"
      ],
      "execution_count": null,
      "outputs": []
    },
    {
      "cell_type": "code",
      "metadata": {
        "id": "Q-WL065hPxae"
      },
      "source": [
        "import sklearn\n",
        "sklearn.__version__"
      ],
      "execution_count": 1,
      "outputs": []
    },
    {
      "cell_type": "code",
      "metadata": {
        "id": "WDllO4OpP6bN"
      },
      "source": [
        "# 0.1 Update sklearn\n",
        "! pip install scikit-learn==0.24"
      ],
      "execution_count": null,
      "outputs": []
    },
    {
      "cell_type": "code",
      "metadata": {
        "id": "RZ9tPu1nZFfw"
      },
      "source": [
        "# 0.2 Install catboost\n",
        "! pip install catboost"
      ],
      "execution_count": null,
      "outputs": []
    },
    {
      "cell_type": "code",
      "metadata": {
        "id": "2waN9FWMXD6p"
      },
      "source": [
        "# 1.0 Call libraries\n",
        "#%reset -f\n",
        "import pandas as pd        # Data manipulation\n",
        "import numpy as np         # Array manipulation\n",
        "\n",
        "# 1.1 Modeling libraries\n",
        "from sklearn.model_selection import train_test_split\n",
        "# 1.1.1 For parameter-search over grid\n",
        "from sklearn.model_selection import GridSearchCV\n",
        "# conda install -c conda-forge catboost \n",
        "from catboost import CatBoostClassifier   # For classification\n",
        "from catboost import Pool                 # Pool is catboost's internal data structure\n",
        "\n",
        "# 1.2 Model performance\n",
        "from sklearn.metrics import confusion_matrix, roc_curve,plot_roc_curve,plot_det_curve \n",
        "from sklearn.metrics import plot_det_curve \n",
        "from sklearn.metrics import f1_score\n",
        "from sklearn import metrics\n",
        "\n",
        "# 1.3 For plotting\n",
        "import matplotlib.pyplot as plt\n",
        "import seaborn as sns\n",
        "\n",
        "# 1.4 Plot missing values\n",
        "#     Ref: https://github.com/ResidentMario/missingno\n",
        "#     pip install missingno\n",
        "#     conda install -c conda-forge missingno\n",
        "import missingno as msno      # For missing plots\n",
        "\n",
        "\n",
        "# 1.5 Misc\n",
        "import os\n",
        "import time\n",
        "import gc"
      ],
      "execution_count": 48,
      "outputs": []
    },
    {
      "cell_type": "code",
      "metadata": {
        "id": "_9tCjEQQeKos"
      },
      "source": [
        "# 1.6 Display cell outputs from more than one command\n",
        "from IPython.core.interactiveshell import InteractiveShell\n",
        "InteractiveShell.ast_node_interactivity = \"all\""
      ],
      "execution_count": 49,
      "outputs": []
    },
    {
      "cell_type": "code",
      "metadata": {
        "colab": {
          "base_uri": "https://localhost:8080/"
        },
        "id": "nugrWxl5btFx",
        "outputId": "080807e7-d01d-4e82-8cc2-4f8b35e54264"
      },
      "source": [
        "# 1.7 Connect gdrive\n",
        "from google.colab import drive  \n",
        "drive.mount('/gdrive')"
      ],
      "execution_count": 51,
      "outputs": [
        {
          "output_type": "stream",
          "text": [
            "Mounted at /gdrive\n"
          ],
          "name": "stdout"
        }
      ]
    },
    {
      "cell_type": "code",
      "metadata": {
        "id": "ogDwHWGnbwdV"
      },
      "source": [
        "# 2.0 Where is my data file in gdrive\n",
        "#     OR in Windows. Specify path to data folder\n",
        "\n",
        "filePath = \"/gdrive/MyDrive/bnp_paribas\"\n",
        "#filePath = \"C:/Users/ashok/OneDrive/Documents/bnp_paribas_insurance\"\n",
        "\n",
        "\n",
        "# 2.0.1 Change working directory and read file\n",
        "os.chdir(filePath)\n",
        "\n",
        "# 2.1 Read zipped file\n",
        "#     Zipped file size is 52MB:\n",
        "\n",
        "train_df = pd.read_csv('train.csv.zip')"
      ],
      "execution_count": 52,
      "outputs": []
    },
    {
      "cell_type": "code",
      "metadata": {
        "id": "Y-87NQ7ccYBL",
        "colab": {
          "base_uri": "https://localhost:8080/"
        },
        "outputId": "e37d67a3-3217-4d2d-96c2-fb2d7c111bb9"
      },
      "source": [
        "# 2.2 Explore data\n",
        "print(train_df.shape)          # 1,14,321, 133\n",
        "print()\n",
        "print(train_df.columns)        # Column names\n",
        "print()\n",
        "print(train_df.dtypes)         # Column types\n",
        "print()\n",
        "\n",
        "# 2.3 Count of different dtypes\n",
        "#     float64: 138, object: 19, int64: 6\n",
        "train_df.dtypes.value_counts()\n",
        "\n",
        "# 2.3.1 Memory usage\n",
        "print()\n",
        "print(train_df.memory_usage().sum())  # 121637672 = 121mb"
      ],
      "execution_count": 53,
      "outputs": [
        {
          "output_type": "stream",
          "text": [
            "(114321, 133)\n",
            "\n",
            "Index(['ID', 'target', 'v1', 'v2', 'v3', 'v4', 'v5', 'v6', 'v7', 'v8',\n",
            "       ...\n",
            "       'v122', 'v123', 'v124', 'v125', 'v126', 'v127', 'v128', 'v129', 'v130',\n",
            "       'v131'],\n",
            "      dtype='object', length=133)\n",
            "\n",
            "ID          int64\n",
            "target      int64\n",
            "v1        float64\n",
            "v2        float64\n",
            "v3         object\n",
            "           ...   \n",
            "v127      float64\n",
            "v128      float64\n",
            "v129        int64\n",
            "v130      float64\n",
            "v131      float64\n",
            "Length: 133, dtype: object\n",
            "\n"
          ],
          "name": "stdout"
        },
        {
          "output_type": "execute_result",
          "data": {
            "text/plain": [
              "float64    108\n",
              "object      19\n",
              "int64        6\n",
              "dtype: int64"
            ]
          },
          "metadata": {
            "tags": []
          },
          "execution_count": 53
        },
        {
          "output_type": "stream",
          "text": [
            "\n",
            "121637672\n"
          ],
          "name": "stdout"
        }
      ]
    },
    {
      "cell_type": "code",
      "metadata": {
        "id": "EREHDVU3hA84",
        "colab": {
          "base_uri": "https://localhost:8080/"
        },
        "outputId": "679d8e73-d8ff-415b-86ad-369c8f55b3c1"
      },
      "source": [
        "# 2.4 Distribution of 1 and 0 in target\n",
        "train_df['target'].value_counts()  # 1: 87021; 0: 27300"
      ],
      "execution_count": 54,
      "outputs": [
        {
          "output_type": "execute_result",
          "data": {
            "text/plain": [
              "1    87021\n",
              "0    27300\n",
              "Name: target, dtype: int64"
            ]
          },
          "metadata": {
            "tags": []
          },
          "execution_count": 54
        }
      ]
    },
    {
      "cell_type": "code",
      "metadata": {
        "id": "6dwNabXUfJiJ",
        "colab": {
          "base_uri": "https://localhost:8080/"
        },
        "outputId": "5276cfcf-c195-4b73-89f3-5cf26eaa8f4c"
      },
      "source": [
        "# 2.5 Can we reduce memory usage?\n",
        "df = train_df.select_dtypes(include = ['float64'])\n",
        "print(df.max().max())\n",
        "print(df.min().min())"
      ],
      "execution_count": 55,
      "outputs": [
        {
          "output_type": "stream",
          "text": [
            "20.0000009996\n",
            "-9.99993198897e-07\n"
          ],
          "name": "stdout"
        }
      ]
    },
    {
      "cell_type": "code",
      "metadata": {
        "id": "diIaKcord46u",
        "colab": {
          "base_uri": "https://localhost:8080/"
        },
        "outputId": "2e21222f-f1e6-496b-97e3-aa6e14b051ee"
      },
      "source": [
        "# 2.5.1 What are the boundaries of float64 and float32?\n",
        "#       StackOverFlow: https://stackoverflow.com/a/1658752\n",
        "\n",
        "print(np.finfo('float64'))\n",
        "print(np.finfo('float32'))"
      ],
      "execution_count": 56,
      "outputs": [
        {
          "output_type": "stream",
          "text": [
            "Machine parameters for float64\n",
            "---------------------------------------------------------------\n",
            "precision =  15   resolution = 1.0000000000000001e-15\n",
            "machep =    -52   eps =        2.2204460492503131e-16\n",
            "negep =     -53   epsneg =     1.1102230246251565e-16\n",
            "minexp =  -1022   tiny =       2.2250738585072014e-308\n",
            "maxexp =   1024   max =        1.7976931348623157e+308\n",
            "nexp =       11   min =        -max\n",
            "---------------------------------------------------------------\n",
            "\n",
            "Machine parameters for float32\n",
            "---------------------------------------------------------------\n",
            "precision =   6   resolution = 1.0000000e-06\n",
            "machep =    -23   eps =        1.1920929e-07\n",
            "negep =     -24   epsneg =     5.9604645e-08\n",
            "minexp =   -126   tiny =       1.1754944e-38\n",
            "maxexp =    128   max =        3.4028235e+38\n",
            "nexp =        8   min =        -max\n",
            "---------------------------------------------------------------\n",
            "\n"
          ],
          "name": "stdout"
        }
      ]
    },
    {
      "cell_type": "code",
      "metadata": {
        "id": "uoAQBCJOfsoE",
        "colab": {
          "base_uri": "https://localhost:8080/"
        },
        "outputId": "59559f7a-343c-428c-cf37-9f72886f5ef3"
      },
      "source": [
        "# 2.6 What about int columns?\n",
        "df = train_df.select_dtypes(include = ['int64'])\n",
        "print(df.max().max())\n",
        "print(df.min().min())\n",
        "int_cols = df.columns\n",
        "int_cols"
      ],
      "execution_count": 57,
      "outputs": [
        {
          "output_type": "stream",
          "text": [
            "228713\n",
            "0\n"
          ],
          "name": "stdout"
        },
        {
          "output_type": "execute_result",
          "data": {
            "text/plain": [
              "Index(['ID', 'target', 'v38', 'v62', 'v72', 'v129'], dtype='object')"
            ]
          },
          "metadata": {
            "tags": []
          },
          "execution_count": 57
        }
      ]
    },
    {
      "cell_type": "code",
      "metadata": {
        "id": "G7gy4Q1pga3w",
        "colab": {
          "base_uri": "https://localhost:8080/"
        },
        "outputId": "f072f77d-8eb5-40d8-f3f7-0ad941f2d0e7"
      },
      "source": [
        "# 2.6.1 What are the boundaries of int64 and int32?\n",
        "print(np.iinfo('int64'))\n",
        "print(np.iinfo('int32'))\n",
        "print(np.iinfo('int16'))"
      ],
      "execution_count": 58,
      "outputs": [
        {
          "output_type": "stream",
          "text": [
            "Machine parameters for int64\n",
            "---------------------------------------------------------------\n",
            "min = -9223372036854775808\n",
            "max = 9223372036854775807\n",
            "---------------------------------------------------------------\n",
            "\n",
            "Machine parameters for int32\n",
            "---------------------------------------------------------------\n",
            "min = -2147483648\n",
            "max = 2147483647\n",
            "---------------------------------------------------------------\n",
            "\n",
            "Machine parameters for int16\n",
            "---------------------------------------------------------------\n",
            "min = -32768\n",
            "max = 32767\n",
            "---------------------------------------------------------------\n",
            "\n"
          ],
          "name": "stdout"
        }
      ]
    },
    {
      "cell_type": "code",
      "metadata": {
        "id": "xKQGB10rgia8",
        "colab": {
          "base_uri": "https://localhost:8080/"
        },
        "outputId": "ec4e6e34-d3d9-4b90-f4cb-3b27198450c7"
      },
      "source": [
        "# 2.6.2 Transform int64 to int16\n",
        "train_df[int_cols] = train_df[int_cols].astype('int16')\n",
        "\n",
        "print(\"Current memory usage:\")\n",
        "print(train_df.memory_usage().sum())  # 117522116 = 117mb"
      ],
      "execution_count": 59,
      "outputs": [
        {
          "output_type": "stream",
          "text": [
            "Current memory usage:\n",
            "117522116\n"
          ],
          "name": "stdout"
        }
      ]
    },
    {
      "cell_type": "code",
      "metadata": {
        "colab": {
          "base_uri": "https://localhost:8080/",
          "height": 708
        },
        "id": "m4Q7cOKwicB0",
        "outputId": "9c260a07-f1e2-41c0-b788-c89c1f66223c"
      },
      "source": [
        "# 2.7 Just look at few rows of data from 'object' columns\n",
        "train_df.loc[:20 , train_df.dtypes == \"object\"]  # All have char data with NaN values"
      ],
      "execution_count": 60,
      "outputs": [
        {
          "output_type": "execute_result",
          "data": {
            "text/html": [
              "<div>\n",
              "<style scoped>\n",
              "    .dataframe tbody tr th:only-of-type {\n",
              "        vertical-align: middle;\n",
              "    }\n",
              "\n",
              "    .dataframe tbody tr th {\n",
              "        vertical-align: top;\n",
              "    }\n",
              "\n",
              "    .dataframe thead th {\n",
              "        text-align: right;\n",
              "    }\n",
              "</style>\n",
              "<table border=\"1\" class=\"dataframe\">\n",
              "  <thead>\n",
              "    <tr style=\"text-align: right;\">\n",
              "      <th></th>\n",
              "      <th>v3</th>\n",
              "      <th>v22</th>\n",
              "      <th>v24</th>\n",
              "      <th>v30</th>\n",
              "      <th>v31</th>\n",
              "      <th>v47</th>\n",
              "      <th>v52</th>\n",
              "      <th>v56</th>\n",
              "      <th>v66</th>\n",
              "      <th>v71</th>\n",
              "      <th>v74</th>\n",
              "      <th>v75</th>\n",
              "      <th>v79</th>\n",
              "      <th>v91</th>\n",
              "      <th>v107</th>\n",
              "      <th>v110</th>\n",
              "      <th>v112</th>\n",
              "      <th>v113</th>\n",
              "      <th>v125</th>\n",
              "    </tr>\n",
              "  </thead>\n",
              "  <tbody>\n",
              "    <tr>\n",
              "      <th>0</th>\n",
              "      <td>C</td>\n",
              "      <td>XDX</td>\n",
              "      <td>C</td>\n",
              "      <td>C</td>\n",
              "      <td>A</td>\n",
              "      <td>C</td>\n",
              "      <td>G</td>\n",
              "      <td>DI</td>\n",
              "      <td>C</td>\n",
              "      <td>F</td>\n",
              "      <td>B</td>\n",
              "      <td>D</td>\n",
              "      <td>E</td>\n",
              "      <td>A</td>\n",
              "      <td>E</td>\n",
              "      <td>B</td>\n",
              "      <td>O</td>\n",
              "      <td>NaN</td>\n",
              "      <td>AU</td>\n",
              "    </tr>\n",
              "    <tr>\n",
              "      <th>1</th>\n",
              "      <td>C</td>\n",
              "      <td>GUV</td>\n",
              "      <td>C</td>\n",
              "      <td>C</td>\n",
              "      <td>A</td>\n",
              "      <td>E</td>\n",
              "      <td>G</td>\n",
              "      <td>DY</td>\n",
              "      <td>A</td>\n",
              "      <td>F</td>\n",
              "      <td>B</td>\n",
              "      <td>D</td>\n",
              "      <td>D</td>\n",
              "      <td>B</td>\n",
              "      <td>B</td>\n",
              "      <td>A</td>\n",
              "      <td>U</td>\n",
              "      <td>G</td>\n",
              "      <td>AF</td>\n",
              "    </tr>\n",
              "    <tr>\n",
              "      <th>2</th>\n",
              "      <td>C</td>\n",
              "      <td>FQ</td>\n",
              "      <td>E</td>\n",
              "      <td>NaN</td>\n",
              "      <td>A</td>\n",
              "      <td>C</td>\n",
              "      <td>F</td>\n",
              "      <td>AS</td>\n",
              "      <td>A</td>\n",
              "      <td>B</td>\n",
              "      <td>B</td>\n",
              "      <td>B</td>\n",
              "      <td>E</td>\n",
              "      <td>G</td>\n",
              "      <td>C</td>\n",
              "      <td>B</td>\n",
              "      <td>S</td>\n",
              "      <td>NaN</td>\n",
              "      <td>AE</td>\n",
              "    </tr>\n",
              "    <tr>\n",
              "      <th>3</th>\n",
              "      <td>C</td>\n",
              "      <td>ACUE</td>\n",
              "      <td>D</td>\n",
              "      <td>C</td>\n",
              "      <td>B</td>\n",
              "      <td>C</td>\n",
              "      <td>H</td>\n",
              "      <td>BW</td>\n",
              "      <td>A</td>\n",
              "      <td>F</td>\n",
              "      <td>B</td>\n",
              "      <td>D</td>\n",
              "      <td>B</td>\n",
              "      <td>B</td>\n",
              "      <td>B</td>\n",
              "      <td>B</td>\n",
              "      <td>J</td>\n",
              "      <td>NaN</td>\n",
              "      <td>CJ</td>\n",
              "    </tr>\n",
              "    <tr>\n",
              "      <th>4</th>\n",
              "      <td>C</td>\n",
              "      <td>HIT</td>\n",
              "      <td>E</td>\n",
              "      <td>NaN</td>\n",
              "      <td>A</td>\n",
              "      <td>I</td>\n",
              "      <td>H</td>\n",
              "      <td>NaN</td>\n",
              "      <td>C</td>\n",
              "      <td>F</td>\n",
              "      <td>B</td>\n",
              "      <td>D</td>\n",
              "      <td>C</td>\n",
              "      <td>G</td>\n",
              "      <td>C</td>\n",
              "      <td>A</td>\n",
              "      <td>T</td>\n",
              "      <td>G</td>\n",
              "      <td>Z</td>\n",
              "    </tr>\n",
              "    <tr>\n",
              "      <th>5</th>\n",
              "      <td>C</td>\n",
              "      <td>AYX</td>\n",
              "      <td>A</td>\n",
              "      <td>NaN</td>\n",
              "      <td>A</td>\n",
              "      <td>I</td>\n",
              "      <td>K</td>\n",
              "      <td>DX</td>\n",
              "      <td>A</td>\n",
              "      <td>F</td>\n",
              "      <td>B</td>\n",
              "      <td>D</td>\n",
              "      <td>I</td>\n",
              "      <td>G</td>\n",
              "      <td>C</td>\n",
              "      <td>A</td>\n",
              "      <td>D</td>\n",
              "      <td>X</td>\n",
              "      <td>X</td>\n",
              "    </tr>\n",
              "    <tr>\n",
              "      <th>6</th>\n",
              "      <td>C</td>\n",
              "      <td>NFD</td>\n",
              "      <td>E</td>\n",
              "      <td>G</td>\n",
              "      <td>A</td>\n",
              "      <td>C</td>\n",
              "      <td>A</td>\n",
              "      <td>AS</td>\n",
              "      <td>A</td>\n",
              "      <td>F</td>\n",
              "      <td>B</td>\n",
              "      <td>D</td>\n",
              "      <td>E</td>\n",
              "      <td>B</td>\n",
              "      <td>B</td>\n",
              "      <td>B</td>\n",
              "      <td>I</td>\n",
              "      <td>NaN</td>\n",
              "      <td>BJ</td>\n",
              "    </tr>\n",
              "    <tr>\n",
              "      <th>7</th>\n",
              "      <td>C</td>\n",
              "      <td>AHBW</td>\n",
              "      <td>D</td>\n",
              "      <td>C</td>\n",
              "      <td>A</td>\n",
              "      <td>I</td>\n",
              "      <td>C</td>\n",
              "      <td>DP</td>\n",
              "      <td>C</td>\n",
              "      <td>F</td>\n",
              "      <td>B</td>\n",
              "      <td>D</td>\n",
              "      <td>C</td>\n",
              "      <td>A</td>\n",
              "      <td>E</td>\n",
              "      <td>A</td>\n",
              "      <td>F</td>\n",
              "      <td>M</td>\n",
              "      <td>BY</td>\n",
              "    </tr>\n",
              "    <tr>\n",
              "      <th>8</th>\n",
              "      <td>NaN</td>\n",
              "      <td>GKQ</td>\n",
              "      <td>E</td>\n",
              "      <td>NaN</td>\n",
              "      <td>NaN</td>\n",
              "      <td>D</td>\n",
              "      <td>H</td>\n",
              "      <td>AF</td>\n",
              "      <td>B</td>\n",
              "      <td>B</td>\n",
              "      <td>B</td>\n",
              "      <td>B</td>\n",
              "      <td>P</td>\n",
              "      <td>C</td>\n",
              "      <td>D</td>\n",
              "      <td>C</td>\n",
              "      <td>L</td>\n",
              "      <td>NaN</td>\n",
              "      <td>S</td>\n",
              "    </tr>\n",
              "    <tr>\n",
              "      <th>9</th>\n",
              "      <td>C</td>\n",
              "      <td>PYF</td>\n",
              "      <td>C</td>\n",
              "      <td>C</td>\n",
              "      <td>A</td>\n",
              "      <td>I</td>\n",
              "      <td>A</td>\n",
              "      <td>NaN</td>\n",
              "      <td>A</td>\n",
              "      <td>F</td>\n",
              "      <td>B</td>\n",
              "      <td>D</td>\n",
              "      <td>C</td>\n",
              "      <td>A</td>\n",
              "      <td>E</td>\n",
              "      <td>A</td>\n",
              "      <td>J</td>\n",
              "      <td>P</td>\n",
              "      <td>E</td>\n",
              "    </tr>\n",
              "    <tr>\n",
              "      <th>10</th>\n",
              "      <td>C</td>\n",
              "      <td>GEH</td>\n",
              "      <td>E</td>\n",
              "      <td>D</td>\n",
              "      <td>A</td>\n",
              "      <td>I</td>\n",
              "      <td>E</td>\n",
              "      <td>CY</td>\n",
              "      <td>A</td>\n",
              "      <td>F</td>\n",
              "      <td>B</td>\n",
              "      <td>D</td>\n",
              "      <td>C</td>\n",
              "      <td>F</td>\n",
              "      <td>A</td>\n",
              "      <td>A</td>\n",
              "      <td>F</td>\n",
              "      <td>X</td>\n",
              "      <td>AR</td>\n",
              "    </tr>\n",
              "    <tr>\n",
              "      <th>11</th>\n",
              "      <td>C</td>\n",
              "      <td>ABQS</td>\n",
              "      <td>D</td>\n",
              "      <td>G</td>\n",
              "      <td>A</td>\n",
              "      <td>C</td>\n",
              "      <td>A</td>\n",
              "      <td>AW</td>\n",
              "      <td>C</td>\n",
              "      <td>F</td>\n",
              "      <td>B</td>\n",
              "      <td>D</td>\n",
              "      <td>E</td>\n",
              "      <td>A</td>\n",
              "      <td>E</td>\n",
              "      <td>B</td>\n",
              "      <td>M</td>\n",
              "      <td>NaN</td>\n",
              "      <td>AM</td>\n",
              "    </tr>\n",
              "    <tr>\n",
              "      <th>12</th>\n",
              "      <td>C</td>\n",
              "      <td>QKP</td>\n",
              "      <td>E</td>\n",
              "      <td>NaN</td>\n",
              "      <td>A</td>\n",
              "      <td>I</td>\n",
              "      <td>H</td>\n",
              "      <td>BW</td>\n",
              "      <td>C</td>\n",
              "      <td>F</td>\n",
              "      <td>B</td>\n",
              "      <td>D</td>\n",
              "      <td>C</td>\n",
              "      <td>G</td>\n",
              "      <td>C</td>\n",
              "      <td>A</td>\n",
              "      <td>T</td>\n",
              "      <td>P</td>\n",
              "      <td>Z</td>\n",
              "    </tr>\n",
              "    <tr>\n",
              "      <th>13</th>\n",
              "      <td>C</td>\n",
              "      <td>MVD</td>\n",
              "      <td>C</td>\n",
              "      <td>NaN</td>\n",
              "      <td>B</td>\n",
              "      <td>C</td>\n",
              "      <td>J</td>\n",
              "      <td>AL</td>\n",
              "      <td>A</td>\n",
              "      <td>F</td>\n",
              "      <td>B</td>\n",
              "      <td>D</td>\n",
              "      <td>B</td>\n",
              "      <td>G</td>\n",
              "      <td>C</td>\n",
              "      <td>B</td>\n",
              "      <td>E</td>\n",
              "      <td>NaN</td>\n",
              "      <td>AQ</td>\n",
              "    </tr>\n",
              "    <tr>\n",
              "      <th>14</th>\n",
              "      <td>C</td>\n",
              "      <td>QKP</td>\n",
              "      <td>E</td>\n",
              "      <td>B</td>\n",
              "      <td>A</td>\n",
              "      <td>C</td>\n",
              "      <td>G</td>\n",
              "      <td>AS</td>\n",
              "      <td>A</td>\n",
              "      <td>F</td>\n",
              "      <td>B</td>\n",
              "      <td>D</td>\n",
              "      <td>E</td>\n",
              "      <td>G</td>\n",
              "      <td>C</td>\n",
              "      <td>B</td>\n",
              "      <td>T</td>\n",
              "      <td>NaN</td>\n",
              "      <td>Z</td>\n",
              "    </tr>\n",
              "    <tr>\n",
              "      <th>15</th>\n",
              "      <td>C</td>\n",
              "      <td>NKE</td>\n",
              "      <td>E</td>\n",
              "      <td>NaN</td>\n",
              "      <td>A</td>\n",
              "      <td>I</td>\n",
              "      <td>C</td>\n",
              "      <td>CY</td>\n",
              "      <td>A</td>\n",
              "      <td>B</td>\n",
              "      <td>B</td>\n",
              "      <td>B</td>\n",
              "      <td>C</td>\n",
              "      <td>A</td>\n",
              "      <td>E</td>\n",
              "      <td>A</td>\n",
              "      <td>F</td>\n",
              "      <td>S</td>\n",
              "      <td>BY</td>\n",
              "    </tr>\n",
              "    <tr>\n",
              "      <th>16</th>\n",
              "      <td>C</td>\n",
              "      <td>NSV</td>\n",
              "      <td>E</td>\n",
              "      <td>G</td>\n",
              "      <td>A</td>\n",
              "      <td>I</td>\n",
              "      <td>F</td>\n",
              "      <td>NaN</td>\n",
              "      <td>B</td>\n",
              "      <td>F</td>\n",
              "      <td>B</td>\n",
              "      <td>D</td>\n",
              "      <td>C</td>\n",
              "      <td>C</td>\n",
              "      <td>D</td>\n",
              "      <td>A</td>\n",
              "      <td>I</td>\n",
              "      <td>G</td>\n",
              "      <td>BJ</td>\n",
              "    </tr>\n",
              "    <tr>\n",
              "      <th>17</th>\n",
              "      <td>C</td>\n",
              "      <td>NaN</td>\n",
              "      <td>D</td>\n",
              "      <td>C</td>\n",
              "      <td>B</td>\n",
              "      <td>C</td>\n",
              "      <td>D</td>\n",
              "      <td>AZ</td>\n",
              "      <td>A</td>\n",
              "      <td>F</td>\n",
              "      <td>B</td>\n",
              "      <td>D</td>\n",
              "      <td>B</td>\n",
              "      <td>A</td>\n",
              "      <td>E</td>\n",
              "      <td>B</td>\n",
              "      <td>T</td>\n",
              "      <td>NaN</td>\n",
              "      <td>Z</td>\n",
              "    </tr>\n",
              "    <tr>\n",
              "      <th>18</th>\n",
              "      <td>C</td>\n",
              "      <td>ABJD</td>\n",
              "      <td>C</td>\n",
              "      <td>NaN</td>\n",
              "      <td>B</td>\n",
              "      <td>C</td>\n",
              "      <td>C</td>\n",
              "      <td>Z</td>\n",
              "      <td>A</td>\n",
              "      <td>B</td>\n",
              "      <td>B</td>\n",
              "      <td>B</td>\n",
              "      <td>A</td>\n",
              "      <td>B</td>\n",
              "      <td>B</td>\n",
              "      <td>B</td>\n",
              "      <td>J</td>\n",
              "      <td>NaN</td>\n",
              "      <td>E</td>\n",
              "    </tr>\n",
              "    <tr>\n",
              "      <th>19</th>\n",
              "      <td>C</td>\n",
              "      <td>AGDF</td>\n",
              "      <td>C</td>\n",
              "      <td>F</td>\n",
              "      <td>B</td>\n",
              "      <td>C</td>\n",
              "      <td>C</td>\n",
              "      <td>DN</td>\n",
              "      <td>B</td>\n",
              "      <td>F</td>\n",
              "      <td>B</td>\n",
              "      <td>D</td>\n",
              "      <td>A</td>\n",
              "      <td>G</td>\n",
              "      <td>C</td>\n",
              "      <td>B</td>\n",
              "      <td>F</td>\n",
              "      <td>NaN</td>\n",
              "      <td>AZ</td>\n",
              "    </tr>\n",
              "    <tr>\n",
              "      <th>20</th>\n",
              "      <td>C</td>\n",
              "      <td>IEE</td>\n",
              "      <td>C</td>\n",
              "      <td>NaN</td>\n",
              "      <td>B</td>\n",
              "      <td>C</td>\n",
              "      <td>K</td>\n",
              "      <td>BQ</td>\n",
              "      <td>A</td>\n",
              "      <td>F</td>\n",
              "      <td>B</td>\n",
              "      <td>D</td>\n",
              "      <td>B</td>\n",
              "      <td>A</td>\n",
              "      <td>E</td>\n",
              "      <td>B</td>\n",
              "      <td>D</td>\n",
              "      <td>NaN</td>\n",
              "      <td>U</td>\n",
              "    </tr>\n",
              "  </tbody>\n",
              "</table>\n",
              "</div>"
            ],
            "text/plain": [
              "     v3   v22 v24  v30  v31 v47 v52  v56  ... v75 v79 v91 v107 v110 v112 v113 v125\n",
              "0     C   XDX   C    C    A   C   G   DI  ...   D   E   A    E    B    O  NaN   AU\n",
              "1     C   GUV   C    C    A   E   G   DY  ...   D   D   B    B    A    U    G   AF\n",
              "2     C    FQ   E  NaN    A   C   F   AS  ...   B   E   G    C    B    S  NaN   AE\n",
              "3     C  ACUE   D    C    B   C   H   BW  ...   D   B   B    B    B    J  NaN   CJ\n",
              "4     C   HIT   E  NaN    A   I   H  NaN  ...   D   C   G    C    A    T    G    Z\n",
              "5     C   AYX   A  NaN    A   I   K   DX  ...   D   I   G    C    A    D    X    X\n",
              "6     C   NFD   E    G    A   C   A   AS  ...   D   E   B    B    B    I  NaN   BJ\n",
              "7     C  AHBW   D    C    A   I   C   DP  ...   D   C   A    E    A    F    M   BY\n",
              "8   NaN   GKQ   E  NaN  NaN   D   H   AF  ...   B   P   C    D    C    L  NaN    S\n",
              "9     C   PYF   C    C    A   I   A  NaN  ...   D   C   A    E    A    J    P    E\n",
              "10    C   GEH   E    D    A   I   E   CY  ...   D   C   F    A    A    F    X   AR\n",
              "11    C  ABQS   D    G    A   C   A   AW  ...   D   E   A    E    B    M  NaN   AM\n",
              "12    C   QKP   E  NaN    A   I   H   BW  ...   D   C   G    C    A    T    P    Z\n",
              "13    C   MVD   C  NaN    B   C   J   AL  ...   D   B   G    C    B    E  NaN   AQ\n",
              "14    C   QKP   E    B    A   C   G   AS  ...   D   E   G    C    B    T  NaN    Z\n",
              "15    C   NKE   E  NaN    A   I   C   CY  ...   B   C   A    E    A    F    S   BY\n",
              "16    C   NSV   E    G    A   I   F  NaN  ...   D   C   C    D    A    I    G   BJ\n",
              "17    C   NaN   D    C    B   C   D   AZ  ...   D   B   A    E    B    T  NaN    Z\n",
              "18    C  ABJD   C  NaN    B   C   C    Z  ...   B   A   B    B    B    J  NaN    E\n",
              "19    C  AGDF   C    F    B   C   C   DN  ...   D   A   G    C    B    F  NaN   AZ\n",
              "20    C   IEE   C  NaN    B   C   K   BQ  ...   D   B   A    E    B    D  NaN    U\n",
              "\n",
              "[21 rows x 19 columns]"
            ]
          },
          "metadata": {
            "tags": []
          },
          "execution_count": 60
        }
      ]
    },
    {
      "cell_type": "code",
      "metadata": {
        "id": "Ls8u1P9vmM9c",
        "colab": {
          "base_uri": "https://localhost:8080/"
        },
        "outputId": "61f56480-d44a-4774-a179-0fc2b3c76284"
      },
      "source": [
        "# 2.8 Get number of levels in all object columns\n",
        "df = train_df.loc[: , train_df.dtypes == \"object\"] \n",
        "for i in df.columns:\n",
        "  print(i, df[i].nunique())"
      ],
      "execution_count": 61,
      "outputs": [
        {
          "output_type": "stream",
          "text": [
            "v3 3\n",
            "v22 18210\n",
            "v24 5\n",
            "v30 7\n",
            "v31 3\n",
            "v47 10\n",
            "v52 12\n",
            "v56 122\n",
            "v66 3\n",
            "v71 9\n",
            "v74 3\n",
            "v75 4\n",
            "v79 18\n",
            "v91 7\n",
            "v107 7\n",
            "v110 3\n",
            "v112 22\n",
            "v113 36\n",
            "v125 90\n"
          ],
          "name": "stdout"
        }
      ]
    },
    {
      "cell_type": "code",
      "metadata": {
        "id": "JgRVwcPzmpgI",
        "colab": {
          "base_uri": "https://localhost:8080/"
        },
        "outputId": "1b9b6f73-89d3-4224-d55e-c00d4a2ca766"
      },
      "source": [
        "# 3.0 Examine null values\n",
        "print(\"Distribution of null values in object data types\")\n",
        "train_df.loc[:, train_df.dtypes == 'object'] \\\n",
        "                                            .isnull() \\\n",
        "                                            .sum()  \\\n",
        "                                            .sort_values(ascending = False)\n",
        "\n",
        "print(\"\\nDistribution of null values in float data types\")\n",
        "train_df.loc[:, train_df.dtypes == 'float64'] \\\n",
        "                                             .isnull() \\\n",
        "                                             .sum() \\\n",
        "                                             .sort_values(ascending = False)\n",
        "\n",
        "\n",
        "print(\"\\nDistribution of null values in int data types\")\n",
        "train_df.loc[:, train_df.dtypes == 'int16'] \\\n",
        "                        .isnull() \\\n",
        "                        .sum() \\\n",
        "                        .sort_values(ascending = False)\n"
      ],
      "execution_count": 62,
      "outputs": [
        {
          "output_type": "stream",
          "text": [
            "Distribution of null values in object data types\n"
          ],
          "name": "stdout"
        },
        {
          "output_type": "execute_result",
          "data": {
            "text/plain": [
              "v30     60110\n",
              "v113    55304\n",
              "v56      6882\n",
              "v3       3457\n",
              "v31      3457\n",
              "v22       500\n",
              "v112      382\n",
              "v125       77\n",
              "v52         3\n",
              "v91         3\n",
              "v107        3\n",
              "v74         0\n",
              "v75         0\n",
              "v66         0\n",
              "v79         0\n",
              "v47         0\n",
              "v24         0\n",
              "v110        0\n",
              "v71         0\n",
              "dtype: int64"
            ]
          },
          "metadata": {
            "tags": []
          },
          "execution_count": 62
        },
        {
          "output_type": "stream",
          "text": [
            "\n",
            "Distribution of null values in float data types\n"
          ],
          "name": "stdout"
        },
        {
          "output_type": "execute_result",
          "data": {
            "text/plain": [
              "v102    51316\n",
              "v85     50682\n",
              "v119    50680\n",
              "v123    50678\n",
              "v51     50678\n",
              "        ...  \n",
              "v12        86\n",
              "v50        86\n",
              "v10        84\n",
              "v114       30\n",
              "v14         4\n",
              "Length: 108, dtype: int64"
            ]
          },
          "metadata": {
            "tags": []
          },
          "execution_count": 62
        },
        {
          "output_type": "stream",
          "text": [
            "\n",
            "Distribution of null values in int data types\n"
          ],
          "name": "stdout"
        },
        {
          "output_type": "execute_result",
          "data": {
            "text/plain": [
              "v129      0\n",
              "v72       0\n",
              "v62       0\n",
              "v38       0\n",
              "target    0\n",
              "ID        0\n",
              "dtype: int64"
            ]
          },
          "metadata": {
            "tags": []
          },
          "execution_count": 62
        }
      ]
    },
    {
      "cell_type": "markdown",
      "metadata": {
        "id": "tpPKWeOhy91S"
      },
      "source": [
        "## Patterns in missing data\n",
        "Are there patterns in missing data?"
      ]
    },
    {
      "cell_type": "code",
      "metadata": {
        "id": "ACp4jKy-xcUK",
        "colab": {
          "base_uri": "https://localhost:8080/"
        },
        "outputId": "4adcefdb-a1d8-44c9-acf2-c336e5e155d9"
      },
      "source": [
        "# 3.1 It is better and faster to visulaize\n",
        "#     using a sample:\n",
        "\n",
        "sample = train_df.sample(frac = 0.1)\n",
        "sample.shape  # 11432, 133)"
      ],
      "execution_count": 19,
      "outputs": [
        {
          "output_type": "execute_result",
          "data": {
            "text/plain": [
              "(11432, 133)"
            ]
          },
          "metadata": {
            "tags": []
          },
          "execution_count": 19
        }
      ]
    },
    {
      "cell_type": "code",
      "metadata": {
        "colab": {
          "base_uri": "https://localhost:8080/",
          "height": 284
        },
        "id": "TgE15-c4o5KP",
        "outputId": "9dcc45d4-bc6b-4a62-c88e-32f7388109da"
      },
      "source": [
        "# 3.2 Use seaborn for 'object' features\n",
        "#     Plot a heatmap of true and false values:\n",
        "\n",
        "df_sample = sample.loc[:, sample.dtypes=='object' ]\n",
        "sns.heatmap(df_sample.isnull(), cbar=False);"
      ],
      "execution_count": 20,
      "outputs": [
        {
          "output_type": "display_data",
          "data": {
            "image/png": "[encoded data removed]",
            "text/plain": [
              "<Figure size 432x288 with 1 Axes>"
            ]
          },
          "metadata": {
            "tags": [],
            "needs_background": "light"
          }
        }
      ]
    },
    {
      "cell_type": "code",
      "metadata": {
        "id": "ucsCl7gsy3Ka",
        "colab": {
          "base_uri": "https://localhost:8080/",
          "height": 440
        },
        "outputId": "6cf59e9b-32b8-4803-8c76-c21ed723aa6d"
      },
      "source": [
        "# 3.3 Use missingno package for object features\n",
        "\n",
        "msno.matrix(df_sample);"
      ],
      "execution_count": 63,
      "outputs": [
        {
          "output_type": "display_data",
          "data": {
            "image/png": "[encoded data removed]",
            "text/plain": [
              "<Figure size 1800x720 with 2 Axes>"
            ]
          },
          "metadata": {
            "tags": [],
            "needs_background": "light"
          }
        }
      ]
    },
    {
      "cell_type": "code",
      "metadata": {
        "id": "_R1_NCi9ytGC",
        "colab": {
          "base_uri": "https://localhost:8080/",
          "height": 284
        },
        "outputId": "9a631ffd-dfe9-47ac-f535-d1ded6c6d158"
      },
      "source": [
        "# 3.4 Use seaborn for float features:\n",
        "\n",
        "sns.heatmap(sample.loc[:, sample.dtypes=='float64' ].isnull(), cbar=False);"
      ],
      "execution_count": 22,
      "outputs": [
        {
          "output_type": "display_data",
          "data": {
            "image/png": "[encoded data removed]",
            "text/plain": [
              "<Figure size 432x288 with 1 Axes>"
            ]
          },
          "metadata": {
            "tags": [],
            "needs_background": "light"
          }
        }
      ]
    },
    {
      "cell_type": "code",
      "metadata": {
        "colab": {
          "base_uri": "https://localhost:8080/",
          "height": 411
        },
        "id": "RuHJeuduwzIC",
        "outputId": "000f71a9-e330-433f-9eb5-cb0931ca34ec"
      },
      "source": [
        "# 3.5 Use missingno for float features\n",
        "msno.matrix(sample.loc[:, sample.dtypes=='float64' ]);"
      ],
      "execution_count": 64,
      "outputs": [
        {
          "output_type": "display_data",
          "data": {
            "image/png": "[encoded data removed]",
            "text/plain": [
              "<Figure size 1800x720 with 2 Axes>"
            ]
          },
          "metadata": {
            "tags": [],
            "needs_background": "light"
          }
        }
      ]
    },
    {
      "cell_type": "code",
      "metadata": {
        "id": "S4NTvG2w1HfT"
      },
      "source": [
        "# 4.0 Fill up missing values:\n",
        "#     Fill up all just with one value\n",
        "#     In object type, it will appear as a catageory\n",
        "#     And in float type, it will be a number\n",
        "\n",
        "train_df.fillna(-9999, inplace=True)"
      ],
      "execution_count": 65,
      "outputs": []
    },
    {
      "cell_type": "code",
      "metadata": {
        "colab": {
          "base_uri": "https://localhost:8080/"
        },
        "id": "LzLroo0VQXGC",
        "outputId": "50cfefc7-f409-4b5d-f55e-8609bc4af860"
      },
      "source": [
        "# 4.1 Just to be sure, check distributon of dtypes again\n",
        "\n",
        "train_df.dtypes.value_counts()           # fl: 108, Ob: 19, int: 6"
      ],
      "execution_count": 66,
      "outputs": [
        {
          "output_type": "execute_result",
          "data": {
            "text/plain": [
              "float64    108\n",
              "object      19\n",
              "int16        6\n",
              "dtype: int64"
            ]
          },
          "metadata": {
            "tags": []
          },
          "execution_count": 66
        }
      ]
    },
    {
      "cell_type": "code",
      "metadata": {
        "id": "P9vyIvsVQbiD"
      },
      "source": [
        "# 4.2 Drop columns not needed\n",
        "\n",
        "X = train_df.drop(axis=1,\n",
        "                  columns=['ID','target']\n",
        "                  )\n",
        "\n",
        "# 3.2 Target\n",
        "y = train_df.target"
      ],
      "execution_count": 67,
      "outputs": []
    },
    {
      "cell_type": "code",
      "metadata": {
        "colab": {
          "base_uri": "https://localhost:8080/"
        },
        "id": "ql3hnhGAQiWH",
        "outputId": "c2609fed-dbd6-43ee-83cc-5f493c9a7db8"
      },
      "source": [
        "# 5. Split data into train/test using train_test_split():\n",
        "\n",
        "X_train,X_test,y_train,y_test = train_test_split(X,\n",
        "\t                                               y,\n",
        "\t                                               test_size = 0.50   # To save time\n",
        "\t                                             )\n",
        "\n",
        "# 5.1 Check shapes\n",
        "X_train.shape   #(57160, 131)\n",
        "X_test.shape    #(57161, 131)\n",
        "y_train.shape   # (57160,)\n",
        "y_test.shape    # (57161,)"
      ],
      "execution_count": 68,
      "outputs": [
        {
          "output_type": "execute_result",
          "data": {
            "text/plain": [
              "(57160, 131)"
            ]
          },
          "metadata": {
            "tags": []
          },
          "execution_count": 68
        },
        {
          "output_type": "execute_result",
          "data": {
            "text/plain": [
              "(57161, 131)"
            ]
          },
          "metadata": {
            "tags": []
          },
          "execution_count": 68
        },
        {
          "output_type": "execute_result",
          "data": {
            "text/plain": [
              "(57160,)"
            ]
          },
          "metadata": {
            "tags": []
          },
          "execution_count": 68
        },
        {
          "output_type": "execute_result",
          "data": {
            "text/plain": [
              "(57161,)"
            ]
          },
          "metadata": {
            "tags": []
          },
          "execution_count": 68
        }
      ]
    },
    {
      "cell_type": "code",
      "metadata": {
        "id": "nBF0PI8WQlll",
        "colab": {
          "base_uri": "https://localhost:8080/"
        },
        "outputId": "1569c1a9-d5ce-4c47-bf8e-43204ea5fd13"
      },
      "source": [
        "# 5.2 Let us define what we would consider to be\n",
        "#      a categorical variable and keep a list of\n",
        "#       all categorical columns\n",
        "#        We need this list so as to specify in CatBoost\n",
        "\n",
        "# 5.2.1 First get unique values per col\n",
        "d_cat = X.apply(pd.Series.nunique)\n",
        "d_cat                  # Look at them\n"
      ],
      "execution_count": 70,
      "outputs": [
        {
          "output_type": "execute_result",
          "data": {
            "text/plain": [
              "v1      64488\n",
              "v2      64525\n",
              "v3          4\n",
              "v4      64525\n",
              "v5      65672\n",
              "        ...  \n",
              "v127    64489\n",
              "v128    65688\n",
              "v129       10\n",
              "v130    64477\n",
              "v131    64415\n",
              "Length: 131, dtype: int64"
            ]
          },
          "metadata": {
            "tags": []
          },
          "execution_count": 70
        }
      ]
    },
    {
      "cell_type": "code",
      "metadata": {
        "id": "M8UaElnZSvAB",
        "colab": {
          "base_uri": "https://localhost:8080/"
        },
        "outputId": "33cb90b7-874c-4aa3-cadc-7f18616baf11"
      },
      "source": [
        "# 5.3 Data is anonymous.\n",
        "#     At times some columns, such as\n",
        "#     zip-codes etc may have a large number\n",
        "#     of interger values but are actually \n",
        "#     categorical\n",
        "#     Let us say those columns with\n",
        "#     unique values < 30000 are categorical\n",
        "#     np.where() is same as which() in R\n",
        "#     Note that np.where(d_cat < 30000) is a tuple\n",
        "#     (array([2,21..]) , ) with first element as\n",
        "#     an array inside it.\n",
        "#     Hence the syntax:\n",
        "#       np.where(d_cat < 30000)[0]  gets the Ist element\n",
        "#     ie the complete array\n",
        "\n",
        "d_cat < 30000           # Data being anonymous, an arbitray decision\n"
      ],
      "execution_count": 71,
      "outputs": [
        {
          "output_type": "execute_result",
          "data": {
            "text/plain": [
              "v1      False\n",
              "v2      False\n",
              "v3       True\n",
              "v4      False\n",
              "v5      False\n",
              "        ...  \n",
              "v127    False\n",
              "v128    False\n",
              "v129     True\n",
              "v130    False\n",
              "v131    False\n",
              "Length: 131, dtype: bool"
            ]
          },
          "metadata": {
            "tags": []
          },
          "execution_count": 71
        }
      ]
    },
    {
      "cell_type": "code",
      "metadata": {
        "colab": {
          "base_uri": "https://localhost:8080/"
        },
        "id": "5dp1xvzNEsZE",
        "outputId": "7dab850d-83db-4dce-c404-64abc8281bdc"
      },
      "source": [
        "# 5.4\n",
        "np.where(d_cat < 30000)"
      ],
      "execution_count": 72,
      "outputs": [
        {
          "output_type": "execute_result",
          "data": {
            "text/plain": [
              "(array([  2,  21,  23,  29,  30,  37,  46,  51,  55,  61,  65,  70,  71,\n",
              "         73,  74,  78,  90, 106, 109, 111, 112, 124, 128]),)"
            ]
          },
          "metadata": {
            "tags": []
          },
          "execution_count": 72
        }
      ]
    },
    {
      "cell_type": "code",
      "metadata": {
        "colab": {
          "base_uri": "https://localhost:8080/"
        },
        "id": "3T9DyK_9Ev-A",
        "outputId": "096401da-d896-4648-f167-979dcc812802"
      },
      "source": [
        "# 5.5 Which are our categorical features?\n",
        "\n",
        "cat_features_ids = np.where(d_cat < 30000)[0].tolist()\n",
        "print(cat_features_ids)\n",
        "len(cat_features_ids)   # 23 in all out of 131"
      ],
      "execution_count": 73,
      "outputs": [
        {
          "output_type": "stream",
          "text": [
            "[2, 21, 23, 29, 30, 37, 46, 51, 55, 61, 65, 70, 71, 73, 74, 78, 90, 106, 109, 111, 112, 124, 128]\n"
          ],
          "name": "stdout"
        },
        {
          "output_type": "execute_result",
          "data": {
            "text/plain": [
              "23"
            ]
          },
          "metadata": {
            "tags": []
          },
          "execution_count": 73
        }
      ]
    },
    {
      "cell_type": "code",
      "metadata": {
        "colab": {
          "base_uri": "https://localhost:8080/"
        },
        "id": "rEqfUSOFFK21",
        "outputId": "fcf37b0d-50e0-4106-ba95-9ddeb76acdad"
      },
      "source": [
        "# 5.6 Get list of columns\n",
        "\n",
        "X.columns[cat_features_ids]"
      ],
      "execution_count": 75,
      "outputs": [
        {
          "output_type": "execute_result",
          "data": {
            "text/plain": [
              "Index(['v3', 'v22', 'v24', 'v30', 'v31', 'v38', 'v47', 'v52', 'v56', 'v62',\n",
              "       'v66', 'v71', 'v72', 'v74', 'v75', 'v79', 'v91', 'v107', 'v110', 'v112',\n",
              "       'v113', 'v125', 'v129'],\n",
              "      dtype='object')"
            ]
          },
          "metadata": {
            "tags": []
          },
          "execution_count": 75
        }
      ]
    },
    {
      "cell_type": "code",
      "metadata": {
        "colab": {
          "base_uri": "https://localhost:8080/"
        },
        "id": "6toPWMN_Vp8e",
        "outputId": "eac6711c-d3fd-4700-d6ea-68eabf703ab0"
      },
      "source": [
        "# 5.7\n",
        "cat = list(train_df.select_dtypes(include = \"object\").columns.values)\n",
        "print(cat)"
      ],
      "execution_count": 76,
      "outputs": [
        {
          "output_type": "stream",
          "text": [
            "['v3', 'v22', 'v24', 'v30', 'v31', 'v47', 'v52', 'v56', 'v66', 'v71', 'v74', 'v75', 'v79', 'v91', 'v107', 'v110', 'v112', 'v113', 'v125']\n"
          ],
          "name": "stdout"
        }
      ]
    },
    {
      "cell_type": "code",
      "metadata": {
        "colab": {
          "base_uri": "https://localhost:8080/",
          "height": 91
        },
        "id": "zp96mQ5mS6FO",
        "outputId": "5b202103-bf38-42d4-d3dc-cc1333ae3d7d"
      },
      "source": [
        "\n",
        "\"\"\"\n",
        "5. Start modeling\n",
        "\n",
        "Ref: https://tech.yandex.com/catboost/doc/dg/concepts/python-reference_catboostclassifier-docpage/\n",
        "CatBoostClassifier:\n",
        "      Training and applying models for the\n",
        "      classification problems. When using\n",
        "      the applying methods only the probability\n",
        "      that the object belongs to the class is\n",
        "      returned. Provides compatibility with the\n",
        "      scikit-learn tools.\n",
        "\n",
        "\"\"\"\n",
        "# 6.1 Instantiate the CatBoostClassifier() object\n",
        "\n",
        "start = time.time()\n",
        "clf = CatBoostClassifier(\n",
        "                        learning_rate=0.1,\n",
        "\t                      iterations=300,   #  max no of trees\n",
        "\t                      random_seed=0,\n",
        "                        thread_count = 2,\n",
        "                        eval_metric = 'AUC',  # Recall,Precision,F1,TotalF1,\n",
        "                                              #  Accuracy,Kappa,AUC\n",
        "\t                      verbose =1\n",
        "\t                     )\n",
        "\n"
      ],
      "execution_count": 77,
      "outputs": [
        {
          "output_type": "execute_result",
          "data": {
            "application/vnd.google.colaboratory.intrinsic+json": {
              "type": "string"
            },
            "text/plain": [
              "'\\n5. Start modeling\\n\\nRef: https://tech.yandex.com/catboost/doc/dg/concepts/python-reference_catboostclassifier-docpage/\\nCatBoostClassifier:\\n      Training and applying models for the\\n      classification problems. When using\\n      the applying methods only the probability\\n      that the object belongs to the class is\\n      returned. Provides compatibility with the\\n      scikit-learn tools.\\n\\n'"
            ]
          },
          "metadata": {
            "tags": []
          },
          "execution_count": 77
        }
      ]
    },
    {
      "cell_type": "code",
      "metadata": {
        "colab": {
          "base_uri": "https://localhost:8080/",
          "height": 1000
        },
        "id": "tOo-X2WnTO6p",
        "outputId": "a47376c5-3c7b-4db6-fc0f-b1f5d7470fc4"
      },
      "source": [
        "\n",
        "\"\"\"\n",
        "ref: https://tech.yandex.com/catboost/doc/dg/concepts/python-reference_catboostclassifier_fit-docpage/#python-reference_catboostclassifier_fit\n",
        "fit\n",
        " Train the model\n",
        "\"\"\"\n",
        "\n",
        "# 6.2 Use now the 'clf' object to learn from data\n",
        "#     and create model\n",
        "start = time.time()\n",
        "clf.fit(\n",
        "        X_train,\n",
        "        y_train,\n",
        "        eval_set=(X_test, y_test),\n",
        "        # Specify which columns are categorical in nature\n",
        "        cat_features= cat_features_ids  # cat\n",
        "        )\n",
        "\n",
        "# Result may say:\n",
        "#  Shrink model to first 206 iterations.\n",
        "#    Meaning that out of 300 trees only 206 trees are kept\n",
        "\n",
        "end = time.time()\n",
        "(end - start)/60"
      ],
      "execution_count": 78,
      "outputs": [
        {
          "output_type": "execute_result",
          "data": {
            "application/vnd.google.colaboratory.intrinsic+json": {
              "type": "string"
            },
            "text/plain": [
              "'\\nref: https://tech.yandex.com/catboost/doc/dg/concepts/python-reference_catboostclassifier_fit-docpage/#python-reference_catboostclassifier_fit\\nfit\\n Train the model\\n'"
            ]
          },
          "metadata": {
            "tags": []
          },
          "execution_count": 78
        },
        {
          "output_type": "stream",
          "text": [
            "0:\ttest: 0.7212596\tbest: 0.7212596 (0)\ttotal: 522ms\tremaining: 2m 36s\n",
            "1:\ttest: 0.7238319\tbest: 0.7238319 (1)\ttotal: 1.02s\tremaining: 2m 32s\n",
            "2:\ttest: 0.7280415\tbest: 0.7280415 (2)\ttotal: 1.5s\tremaining: 2m 28s\n",
            "3:\ttest: 0.7304209\tbest: 0.7304209 (3)\ttotal: 1.99s\tremaining: 2m 27s\n",
            "4:\ttest: 0.7343292\tbest: 0.7343292 (4)\ttotal: 2.5s\tremaining: 2m 27s\n",
            "5:\ttest: 0.7353197\tbest: 0.7353197 (5)\ttotal: 3s\tremaining: 2m 26s\n",
            "6:\ttest: 0.7351741\tbest: 0.7353197 (5)\ttotal: 3.47s\tremaining: 2m 25s\n",
            "7:\ttest: 0.7353719\tbest: 0.7353719 (7)\ttotal: 3.94s\tremaining: 2m 23s\n",
            "8:\ttest: 0.7363889\tbest: 0.7363889 (8)\ttotal: 4.42s\tremaining: 2m 22s\n",
            "9:\ttest: 0.7369792\tbest: 0.7369792 (9)\ttotal: 4.91s\tremaining: 2m 22s\n",
            "10:\ttest: 0.7371160\tbest: 0.7371160 (10)\ttotal: 5.36s\tremaining: 2m 20s\n",
            "11:\ttest: 0.7370987\tbest: 0.7371160 (10)\ttotal: 5.48s\tremaining: 2m 11s\n",
            "12:\ttest: 0.7384410\tbest: 0.7384410 (12)\ttotal: 6s\tremaining: 2m 12s\n",
            "13:\ttest: 0.7387461\tbest: 0.7387461 (13)\ttotal: 6.46s\tremaining: 2m 12s\n",
            "14:\ttest: 0.7386845\tbest: 0.7387461 (13)\ttotal: 6.58s\tremaining: 2m 5s\n",
            "15:\ttest: 0.7389452\tbest: 0.7389452 (15)\ttotal: 7.06s\tremaining: 2m 5s\n",
            "16:\ttest: 0.7396644\tbest: 0.7396644 (16)\ttotal: 7.56s\tremaining: 2m 5s\n",
            "17:\ttest: 0.7401692\tbest: 0.7401692 (17)\ttotal: 8.06s\tremaining: 2m 6s\n",
            "18:\ttest: 0.7404702\tbest: 0.7404702 (18)\ttotal: 8.54s\tremaining: 2m 6s\n",
            "19:\ttest: 0.7410068\tbest: 0.7410068 (19)\ttotal: 8.97s\tremaining: 2m 5s\n",
            "20:\ttest: 0.7416454\tbest: 0.7416454 (20)\ttotal: 9.45s\tremaining: 2m 5s\n",
            "21:\ttest: 0.7423326\tbest: 0.7423326 (21)\ttotal: 9.97s\tremaining: 2m 6s\n",
            "22:\ttest: 0.7430683\tbest: 0.7430683 (22)\ttotal: 10.4s\tremaining: 2m 5s\n",
            "23:\ttest: 0.7431974\tbest: 0.7431974 (23)\ttotal: 10.9s\tremaining: 2m 5s\n",
            "24:\ttest: 0.7435726\tbest: 0.7435726 (24)\ttotal: 11.4s\tremaining: 2m 4s\n",
            "25:\ttest: 0.7437993\tbest: 0.7437993 (25)\ttotal: 11.8s\tremaining: 2m 4s\n",
            "26:\ttest: 0.7439153\tbest: 0.7439153 (26)\ttotal: 12.3s\tremaining: 2m 4s\n",
            "27:\ttest: 0.7441353\tbest: 0.7441353 (27)\ttotal: 12.8s\tremaining: 2m 4s\n",
            "28:\ttest: 0.7447475\tbest: 0.7447475 (28)\ttotal: 13.3s\tremaining: 2m 4s\n",
            "29:\ttest: 0.7453253\tbest: 0.7453253 (29)\ttotal: 13.8s\tremaining: 2m 4s\n",
            "30:\ttest: 0.7455896\tbest: 0.7455896 (30)\ttotal: 14.3s\tremaining: 2m 4s\n",
            "31:\ttest: 0.7459820\tbest: 0.7459820 (31)\ttotal: 14.7s\tremaining: 2m 3s\n",
            "32:\ttest: 0.7462256\tbest: 0.7462256 (32)\ttotal: 15.2s\tremaining: 2m 2s\n",
            "33:\ttest: 0.7463349\tbest: 0.7463349 (33)\ttotal: 15.7s\tremaining: 2m 2s\n",
            "34:\ttest: 0.7466611\tbest: 0.7466611 (34)\ttotal: 16.1s\tremaining: 2m 2s\n",
            "35:\ttest: 0.7469166\tbest: 0.7469166 (35)\ttotal: 16.5s\tremaining: 2m 1s\n",
            "36:\ttest: 0.7473335\tbest: 0.7473335 (36)\ttotal: 17s\tremaining: 2m\n",
            "37:\ttest: 0.7476899\tbest: 0.7476899 (37)\ttotal: 17.5s\tremaining: 2m\n",
            "38:\ttest: 0.7479011\tbest: 0.7479011 (38)\ttotal: 18s\tremaining: 2m\n",
            "39:\ttest: 0.7480173\tbest: 0.7480173 (39)\ttotal: 18.5s\tremaining: 1m 59s\n",
            "40:\ttest: 0.7481103\tbest: 0.7481103 (40)\ttotal: 18.9s\tremaining: 1m 59s\n",
            "41:\ttest: 0.7482490\tbest: 0.7482490 (41)\ttotal: 19.4s\tremaining: 1m 59s\n",
            "42:\ttest: 0.7484331\tbest: 0.7484331 (42)\ttotal: 19.6s\tremaining: 1m 57s\n",
            "43:\ttest: 0.7484925\tbest: 0.7484925 (43)\ttotal: 20.1s\tremaining: 1m 57s\n",
            "44:\ttest: 0.7488589\tbest: 0.7488589 (44)\ttotal: 20.6s\tremaining: 1m 56s\n",
            "45:\ttest: 0.7490213\tbest: 0.7490213 (45)\ttotal: 20.9s\tremaining: 1m 55s\n",
            "46:\ttest: 0.7491425\tbest: 0.7491425 (46)\ttotal: 21.5s\tremaining: 1m 55s\n",
            "47:\ttest: 0.7492780\tbest: 0.7492780 (47)\ttotal: 21.9s\tremaining: 1m 55s\n",
            "48:\ttest: 0.7493150\tbest: 0.7493150 (48)\ttotal: 22.4s\tremaining: 1m 54s\n",
            "49:\ttest: 0.7494293\tbest: 0.7494293 (49)\ttotal: 22.8s\tremaining: 1m 54s\n",
            "50:\ttest: 0.7498858\tbest: 0.7498858 (50)\ttotal: 23.4s\tremaining: 1m 54s\n",
            "51:\ttest: 0.7499947\tbest: 0.7499947 (51)\ttotal: 23.8s\tremaining: 1m 53s\n",
            "52:\ttest: 0.7501973\tbest: 0.7501973 (52)\ttotal: 24.3s\tremaining: 1m 53s\n",
            "53:\ttest: 0.7504712\tbest: 0.7504712 (53)\ttotal: 24.7s\tremaining: 1m 52s\n",
            "54:\ttest: 0.7504657\tbest: 0.7504712 (53)\ttotal: 24.8s\tremaining: 1m 50s\n",
            "55:\ttest: 0.7505352\tbest: 0.7505352 (55)\ttotal: 25.4s\tremaining: 1m 50s\n",
            "56:\ttest: 0.7515173\tbest: 0.7515173 (56)\ttotal: 25.9s\tremaining: 1m 50s\n",
            "57:\ttest: 0.7517773\tbest: 0.7517773 (57)\ttotal: 26.4s\tremaining: 1m 49s\n",
            "58:\ttest: 0.7517918\tbest: 0.7517918 (58)\ttotal: 26.8s\tremaining: 1m 49s\n",
            "59:\ttest: 0.7520616\tbest: 0.7520616 (59)\ttotal: 27.3s\tremaining: 1m 49s\n",
            "60:\ttest: 0.7521513\tbest: 0.7521513 (60)\ttotal: 27.7s\tremaining: 1m 48s\n",
            "61:\ttest: 0.7521992\tbest: 0.7521992 (61)\ttotal: 28.2s\tremaining: 1m 48s\n",
            "62:\ttest: 0.7522826\tbest: 0.7522826 (62)\ttotal: 28.6s\tremaining: 1m 47s\n",
            "63:\ttest: 0.7523236\tbest: 0.7523236 (63)\ttotal: 29.2s\tremaining: 1m 47s\n",
            "64:\ttest: 0.7526864\tbest: 0.7526864 (64)\ttotal: 29.7s\tremaining: 1m 47s\n",
            "65:\ttest: 0.7527697\tbest: 0.7527697 (65)\ttotal: 30.2s\tremaining: 1m 47s\n",
            "66:\ttest: 0.7528236\tbest: 0.7528236 (66)\ttotal: 30.7s\tremaining: 1m 46s\n",
            "67:\ttest: 0.7530031\tbest: 0.7530031 (67)\ttotal: 31.1s\tremaining: 1m 46s\n",
            "68:\ttest: 0.7542506\tbest: 0.7542506 (68)\ttotal: 31.7s\tremaining: 1m 46s\n",
            "69:\ttest: 0.7542306\tbest: 0.7542506 (68)\ttotal: 32.3s\tremaining: 1m 46s\n",
            "70:\ttest: 0.7547308\tbest: 0.7547308 (70)\ttotal: 32.9s\tremaining: 1m 45s\n",
            "71:\ttest: 0.7548120\tbest: 0.7548120 (71)\ttotal: 33.4s\tremaining: 1m 45s\n",
            "72:\ttest: 0.7553526\tbest: 0.7553526 (72)\ttotal: 33.8s\tremaining: 1m 45s\n",
            "73:\ttest: 0.7553711\tbest: 0.7553711 (73)\ttotal: 34.2s\tremaining: 1m 44s\n",
            "74:\ttest: 0.7553711\tbest: 0.7553711 (73)\ttotal: 34.3s\tremaining: 1m 42s\n",
            "75:\ttest: 0.7555119\tbest: 0.7555119 (75)\ttotal: 34.7s\tremaining: 1m 42s\n",
            "76:\ttest: 0.7555578\tbest: 0.7555578 (76)\ttotal: 35.2s\tremaining: 1m 42s\n",
            "77:\ttest: 0.7556061\tbest: 0.7556061 (77)\ttotal: 35.8s\tremaining: 1m 41s\n",
            "78:\ttest: 0.7555947\tbest: 0.7556061 (77)\ttotal: 36.3s\tremaining: 1m 41s\n",
            "79:\ttest: 0.7557382\tbest: 0.7557382 (79)\ttotal: 36.8s\tremaining: 1m 41s\n",
            "80:\ttest: 0.7571322\tbest: 0.7571322 (80)\ttotal: 37.2s\tremaining: 1m 40s\n",
            "81:\ttest: 0.7572193\tbest: 0.7572193 (81)\ttotal: 37.7s\tremaining: 1m 40s\n",
            "82:\ttest: 0.7572615\tbest: 0.7572615 (82)\ttotal: 38.1s\tremaining: 1m 39s\n",
            "83:\ttest: 0.7572936\tbest: 0.7572936 (83)\ttotal: 38.7s\tremaining: 1m 39s\n",
            "84:\ttest: 0.7572715\tbest: 0.7572936 (83)\ttotal: 39.1s\tremaining: 1m 38s\n",
            "85:\ttest: 0.7572497\tbest: 0.7572936 (83)\ttotal: 39.6s\tremaining: 1m 38s\n",
            "86:\ttest: 0.7572787\tbest: 0.7572936 (83)\ttotal: 40.1s\tremaining: 1m 38s\n",
            "87:\ttest: 0.7573437\tbest: 0.7573437 (87)\ttotal: 40.5s\tremaining: 1m 37s\n",
            "88:\ttest: 0.7573681\tbest: 0.7573681 (88)\ttotal: 41s\tremaining: 1m 37s\n",
            "89:\ttest: 0.7574421\tbest: 0.7574421 (89)\ttotal: 41.5s\tremaining: 1m 36s\n",
            "90:\ttest: 0.7585014\tbest: 0.7585014 (90)\ttotal: 42.3s\tremaining: 1m 37s\n",
            "91:\ttest: 0.7592125\tbest: 0.7592125 (91)\ttotal: 43s\tremaining: 1m 37s\n",
            "92:\ttest: 0.7596963\tbest: 0.7596963 (92)\ttotal: 43.6s\tremaining: 1m 37s\n",
            "93:\ttest: 0.7597855\tbest: 0.7597855 (93)\ttotal: 44.1s\tremaining: 1m 36s\n",
            "94:\ttest: 0.7601289\tbest: 0.7601289 (94)\ttotal: 44.5s\tremaining: 1m 36s\n",
            "95:\ttest: 0.7605499\tbest: 0.7605499 (95)\ttotal: 45.2s\tremaining: 1m 36s\n",
            "96:\ttest: 0.7605040\tbest: 0.7605499 (95)\ttotal: 45.6s\tremaining: 1m 35s\n",
            "97:\ttest: 0.7610210\tbest: 0.7610210 (97)\ttotal: 46.4s\tremaining: 1m 35s\n",
            "98:\ttest: 0.7610411\tbest: 0.7610411 (98)\ttotal: 46.8s\tremaining: 1m 34s\n",
            "99:\ttest: 0.7610949\tbest: 0.7610949 (99)\ttotal: 47.3s\tremaining: 1m 34s\n",
            "100:\ttest: 0.7612459\tbest: 0.7612459 (100)\ttotal: 47.8s\tremaining: 1m 34s\n",
            "101:\ttest: 0.7613076\tbest: 0.7613076 (101)\ttotal: 48.1s\tremaining: 1m 33s\n",
            "102:\ttest: 0.7614733\tbest: 0.7614733 (102)\ttotal: 48.6s\tremaining: 1m 33s\n",
            "103:\ttest: 0.7616888\tbest: 0.7616888 (103)\ttotal: 49.2s\tremaining: 1m 32s\n",
            "104:\ttest: 0.7617117\tbest: 0.7617117 (104)\ttotal: 49.6s\tremaining: 1m 32s\n",
            "105:\ttest: 0.7617255\tbest: 0.7617255 (105)\ttotal: 50.1s\tremaining: 1m 31s\n",
            "106:\ttest: 0.7621702\tbest: 0.7621702 (106)\ttotal: 50.8s\tremaining: 1m 31s\n",
            "107:\ttest: 0.7621893\tbest: 0.7621893 (107)\ttotal: 51.3s\tremaining: 1m 31s\n",
            "108:\ttest: 0.7622068\tbest: 0.7622068 (108)\ttotal: 51.8s\tremaining: 1m 30s\n",
            "109:\ttest: 0.7622333\tbest: 0.7622333 (109)\ttotal: 52.2s\tremaining: 1m 30s\n",
            "110:\ttest: 0.7628674\tbest: 0.7628674 (110)\ttotal: 53s\tremaining: 1m 30s\n",
            "111:\ttest: 0.7628613\tbest: 0.7628674 (110)\ttotal: 53.5s\tremaining: 1m 29s\n",
            "112:\ttest: 0.7628911\tbest: 0.7628911 (112)\ttotal: 53.9s\tremaining: 1m 29s\n",
            "113:\ttest: 0.7629543\tbest: 0.7629543 (113)\ttotal: 54.4s\tremaining: 1m 28s\n",
            "114:\ttest: 0.7631797\tbest: 0.7631797 (114)\ttotal: 54.9s\tremaining: 1m 28s\n",
            "115:\ttest: 0.7633058\tbest: 0.7633058 (115)\ttotal: 55.4s\tremaining: 1m 27s\n",
            "116:\ttest: 0.7634839\tbest: 0.7634839 (116)\ttotal: 55.8s\tremaining: 1m 27s\n",
            "117:\ttest: 0.7634872\tbest: 0.7634872 (117)\ttotal: 56.3s\tremaining: 1m 26s\n",
            "118:\ttest: 0.7635123\tbest: 0.7635123 (118)\ttotal: 56.8s\tremaining: 1m 26s\n",
            "119:\ttest: 0.7635795\tbest: 0.7635795 (119)\ttotal: 57.2s\tremaining: 1m 25s\n",
            "120:\ttest: 0.7635130\tbest: 0.7635795 (119)\ttotal: 57.6s\tremaining: 1m 25s\n",
            "121:\ttest: 0.7635398\tbest: 0.7635795 (119)\ttotal: 58.2s\tremaining: 1m 24s\n",
            "122:\ttest: 0.7637213\tbest: 0.7637213 (122)\ttotal: 58.7s\tremaining: 1m 24s\n",
            "123:\ttest: 0.7637015\tbest: 0.7637213 (122)\ttotal: 59.2s\tremaining: 1m 23s\n",
            "124:\ttest: 0.7637811\tbest: 0.7637811 (124)\ttotal: 59.8s\tremaining: 1m 23s\n",
            "125:\ttest: 0.7638443\tbest: 0.7638443 (125)\ttotal: 1m\tremaining: 1m 23s\n",
            "126:\ttest: 0.7638398\tbest: 0.7638443 (125)\ttotal: 1m\tremaining: 1m 22s\n",
            "127:\ttest: 0.7639519\tbest: 0.7639519 (127)\ttotal: 1m 1s\tremaining: 1m 22s\n",
            "128:\ttest: 0.7639953\tbest: 0.7639953 (128)\ttotal: 1m 1s\tremaining: 1m 21s\n",
            "129:\ttest: 0.7639875\tbest: 0.7639953 (128)\ttotal: 1m 2s\tremaining: 1m 21s\n",
            "130:\ttest: 0.7640176\tbest: 0.7640176 (130)\ttotal: 1m 2s\tremaining: 1m 20s\n",
            "131:\ttest: 0.7640963\tbest: 0.7640963 (131)\ttotal: 1m 2s\tremaining: 1m 20s\n",
            "132:\ttest: 0.7641140\tbest: 0.7641140 (132)\ttotal: 1m 3s\tremaining: 1m 19s\n",
            "133:\ttest: 0.7642702\tbest: 0.7642702 (133)\ttotal: 1m 3s\tremaining: 1m 19s\n",
            "134:\ttest: 0.7643169\tbest: 0.7643169 (134)\ttotal: 1m 4s\tremaining: 1m 18s\n",
            "135:\ttest: 0.7642824\tbest: 0.7643169 (134)\ttotal: 1m 4s\tremaining: 1m 18s\n",
            "136:\ttest: 0.7643320\tbest: 0.7643320 (136)\ttotal: 1m 5s\tremaining: 1m 17s\n",
            "137:\ttest: 0.7643290\tbest: 0.7643320 (136)\ttotal: 1m 5s\tremaining: 1m 17s\n",
            "138:\ttest: 0.7644039\tbest: 0.7644039 (138)\ttotal: 1m 6s\tremaining: 1m 16s\n",
            "139:\ttest: 0.7644034\tbest: 0.7644039 (138)\ttotal: 1m 6s\tremaining: 1m 16s\n",
            "140:\ttest: 0.7644861\tbest: 0.7644861 (140)\ttotal: 1m 7s\tremaining: 1m 15s\n",
            "141:\ttest: 0.7644604\tbest: 0.7644861 (140)\ttotal: 1m 7s\tremaining: 1m 15s\n",
            "142:\ttest: 0.7643948\tbest: 0.7644861 (140)\ttotal: 1m 8s\tremaining: 1m 14s\n",
            "143:\ttest: 0.7644079\tbest: 0.7644861 (140)\ttotal: 1m 8s\tremaining: 1m 14s\n",
            "144:\ttest: 0.7644270\tbest: 0.7644861 (140)\ttotal: 1m 9s\tremaining: 1m 13s\n",
            "145:\ttest: 0.7644454\tbest: 0.7644861 (140)\ttotal: 1m 9s\tremaining: 1m 13s\n",
            "146:\ttest: 0.7650241\tbest: 0.7650241 (146)\ttotal: 1m 10s\tremaining: 1m 13s\n",
            "147:\ttest: 0.7651514\tbest: 0.7651514 (147)\ttotal: 1m 10s\tremaining: 1m 12s\n",
            "148:\ttest: 0.7651740\tbest: 0.7651740 (148)\ttotal: 1m 11s\tremaining: 1m 12s\n",
            "149:\ttest: 0.7651990\tbest: 0.7651990 (149)\ttotal: 1m 11s\tremaining: 1m 11s\n",
            "150:\ttest: 0.7652264\tbest: 0.7652264 (150)\ttotal: 1m 12s\tremaining: 1m 11s\n",
            "151:\ttest: 0.7652969\tbest: 0.7652969 (151)\ttotal: 1m 12s\tremaining: 1m 10s\n",
            "152:\ttest: 0.7652992\tbest: 0.7652992 (152)\ttotal: 1m 13s\tremaining: 1m 10s\n",
            "153:\ttest: 0.7653069\tbest: 0.7653069 (153)\ttotal: 1m 13s\tremaining: 1m 9s\n",
            "154:\ttest: 0.7652740\tbest: 0.7653069 (153)\ttotal: 1m 13s\tremaining: 1m 9s\n",
            "155:\ttest: 0.7652469\tbest: 0.7653069 (153)\ttotal: 1m 14s\tremaining: 1m 8s\n",
            "156:\ttest: 0.7652551\tbest: 0.7653069 (153)\ttotal: 1m 14s\tremaining: 1m 8s\n",
            "157:\ttest: 0.7652547\tbest: 0.7653069 (153)\ttotal: 1m 15s\tremaining: 1m 7s\n",
            "158:\ttest: 0.7652533\tbest: 0.7653069 (153)\ttotal: 1m 15s\tremaining: 1m 7s\n",
            "159:\ttest: 0.7652387\tbest: 0.7653069 (153)\ttotal: 1m 16s\tremaining: 1m 6s\n",
            "160:\ttest: 0.7652905\tbest: 0.7653069 (153)\ttotal: 1m 16s\tremaining: 1m 6s\n",
            "161:\ttest: 0.7652884\tbest: 0.7653069 (153)\ttotal: 1m 17s\tremaining: 1m 5s\n",
            "162:\ttest: 0.7653314\tbest: 0.7653314 (162)\ttotal: 1m 17s\tremaining: 1m 5s\n",
            "163:\ttest: 0.7653023\tbest: 0.7653314 (162)\ttotal: 1m 18s\tremaining: 1m 4s\n",
            "164:\ttest: 0.7652904\tbest: 0.7653314 (162)\ttotal: 1m 18s\tremaining: 1m 4s\n",
            "165:\ttest: 0.7663989\tbest: 0.7663989 (165)\ttotal: 1m 19s\tremaining: 1m 3s\n",
            "166:\ttest: 0.7663949\tbest: 0.7663989 (165)\ttotal: 1m 19s\tremaining: 1m 3s\n",
            "167:\ttest: 0.7663833\tbest: 0.7663989 (165)\ttotal: 1m 20s\tremaining: 1m 2s\n",
            "168:\ttest: 0.7663959\tbest: 0.7663989 (165)\ttotal: 1m 20s\tremaining: 1m 2s\n",
            "169:\ttest: 0.7663969\tbest: 0.7663989 (165)\ttotal: 1m 21s\tremaining: 1m 1s\n",
            "170:\ttest: 0.7664187\tbest: 0.7664187 (170)\ttotal: 1m 21s\tremaining: 1m 1s\n",
            "171:\ttest: 0.7664101\tbest: 0.7664187 (170)\ttotal: 1m 21s\tremaining: 1m\n",
            "172:\ttest: 0.7663585\tbest: 0.7664187 (170)\ttotal: 1m 22s\tremaining: 1m\n",
            "173:\ttest: 0.7663277\tbest: 0.7664187 (170)\ttotal: 1m 22s\tremaining: 1m\n",
            "174:\ttest: 0.7663235\tbest: 0.7664187 (170)\ttotal: 1m 23s\tremaining: 59.6s\n",
            "175:\ttest: 0.7663287\tbest: 0.7664187 (170)\ttotal: 1m 23s\tremaining: 59.1s\n",
            "176:\ttest: 0.7663171\tbest: 0.7664187 (170)\ttotal: 1m 24s\tremaining: 58.6s\n",
            "177:\ttest: 0.7663158\tbest: 0.7664187 (170)\ttotal: 1m 24s\tremaining: 58.1s\n",
            "178:\ttest: 0.7663235\tbest: 0.7664187 (170)\ttotal: 1m 25s\tremaining: 57.6s\n",
            "179:\ttest: 0.7663120\tbest: 0.7664187 (170)\ttotal: 1m 25s\tremaining: 57.1s\n",
            "180:\ttest: 0.7662594\tbest: 0.7664187 (170)\ttotal: 1m 26s\tremaining: 56.6s\n",
            "181:\ttest: 0.7662326\tbest: 0.7664187 (170)\ttotal: 1m 26s\tremaining: 56.1s\n",
            "182:\ttest: 0.7661931\tbest: 0.7664187 (170)\ttotal: 1m 27s\tremaining: 55.7s\n",
            "183:\ttest: 0.7662788\tbest: 0.7664187 (170)\ttotal: 1m 27s\tremaining: 55.2s\n",
            "184:\ttest: 0.7662734\tbest: 0.7664187 (170)\ttotal: 1m 27s\tremaining: 54.7s\n",
            "185:\ttest: 0.7662871\tbest: 0.7664187 (170)\ttotal: 1m 28s\tremaining: 54.2s\n",
            "186:\ttest: 0.7663120\tbest: 0.7664187 (170)\ttotal: 1m 28s\tremaining: 53.7s\n",
            "187:\ttest: 0.7663319\tbest: 0.7664187 (170)\ttotal: 1m 29s\tremaining: 53.2s\n",
            "188:\ttest: 0.7663185\tbest: 0.7664187 (170)\ttotal: 1m 29s\tremaining: 52.7s\n",
            "189:\ttest: 0.7663449\tbest: 0.7664187 (170)\ttotal: 1m 30s\tremaining: 52.2s\n",
            "190:\ttest: 0.7663529\tbest: 0.7664187 (170)\ttotal: 1m 30s\tremaining: 51.8s\n",
            "191:\ttest: 0.7663429\tbest: 0.7664187 (170)\ttotal: 1m 31s\tremaining: 51.3s\n",
            "192:\ttest: 0.7663288\tbest: 0.7664187 (170)\ttotal: 1m 31s\tremaining: 50.8s\n",
            "193:\ttest: 0.7662970\tbest: 0.7664187 (170)\ttotal: 1m 32s\tremaining: 50.4s\n",
            "194:\ttest: 0.7663171\tbest: 0.7664187 (170)\ttotal: 1m 32s\tremaining: 49.9s\n",
            "195:\ttest: 0.7663412\tbest: 0.7664187 (170)\ttotal: 1m 33s\tremaining: 49.5s\n",
            "196:\ttest: 0.7662976\tbest: 0.7664187 (170)\ttotal: 1m 33s\tremaining: 49s\n",
            "197:\ttest: 0.7662888\tbest: 0.7664187 (170)\ttotal: 1m 34s\tremaining: 48.5s\n",
            "198:\ttest: 0.7662969\tbest: 0.7664187 (170)\ttotal: 1m 34s\tremaining: 48s\n",
            "199:\ttest: 0.7662985\tbest: 0.7664187 (170)\ttotal: 1m 35s\tremaining: 47.5s\n",
            "200:\ttest: 0.7662827\tbest: 0.7664187 (170)\ttotal: 1m 35s\tremaining: 47.1s\n",
            "201:\ttest: 0.7662841\tbest: 0.7664187 (170)\ttotal: 1m 36s\tremaining: 46.6s\n",
            "202:\ttest: 0.7662973\tbest: 0.7664187 (170)\ttotal: 1m 36s\tremaining: 46.2s\n",
            "203:\ttest: 0.7663426\tbest: 0.7664187 (170)\ttotal: 1m 37s\tremaining: 45.7s\n",
            "204:\ttest: 0.7663534\tbest: 0.7664187 (170)\ttotal: 1m 37s\tremaining: 45.2s\n",
            "205:\ttest: 0.7663559\tbest: 0.7664187 (170)\ttotal: 1m 38s\tremaining: 44.7s\n",
            "206:\ttest: 0.7663654\tbest: 0.7664187 (170)\ttotal: 1m 38s\tremaining: 44.2s\n",
            "207:\ttest: 0.7663681\tbest: 0.7664187 (170)\ttotal: 1m 38s\tremaining: 43.8s\n",
            "208:\ttest: 0.7663661\tbest: 0.7664187 (170)\ttotal: 1m 39s\tremaining: 43.3s\n",
            "209:\ttest: 0.7663482\tbest: 0.7664187 (170)\ttotal: 1m 39s\tremaining: 42.8s\n",
            "210:\ttest: 0.7663241\tbest: 0.7664187 (170)\ttotal: 1m 40s\tremaining: 42.3s\n",
            "211:\ttest: 0.7662544\tbest: 0.7664187 (170)\ttotal: 1m 40s\tremaining: 41.8s\n",
            "212:\ttest: 0.7662890\tbest: 0.7664187 (170)\ttotal: 1m 41s\tremaining: 41.4s\n",
            "213:\ttest: 0.7662986\tbest: 0.7664187 (170)\ttotal: 1m 41s\tremaining: 40.9s\n",
            "214:\ttest: 0.7662993\tbest: 0.7664187 (170)\ttotal: 1m 42s\tremaining: 40.4s\n",
            "215:\ttest: 0.7662659\tbest: 0.7664187 (170)\ttotal: 1m 42s\tremaining: 39.9s\n",
            "216:\ttest: 0.7663107\tbest: 0.7664187 (170)\ttotal: 1m 43s\tremaining: 39.5s\n",
            "217:\ttest: 0.7662554\tbest: 0.7664187 (170)\ttotal: 1m 43s\tremaining: 39s\n",
            "218:\ttest: 0.7663038\tbest: 0.7664187 (170)\ttotal: 1m 44s\tremaining: 38.5s\n",
            "219:\ttest: 0.7662885\tbest: 0.7664187 (170)\ttotal: 1m 44s\tremaining: 38s\n",
            "220:\ttest: 0.7663114\tbest: 0.7664187 (170)\ttotal: 1m 45s\tremaining: 37.6s\n",
            "221:\ttest: 0.7663151\tbest: 0.7664187 (170)\ttotal: 1m 45s\tremaining: 37.1s\n",
            "222:\ttest: 0.7662908\tbest: 0.7664187 (170)\ttotal: 1m 46s\tremaining: 36.6s\n",
            "223:\ttest: 0.7663322\tbest: 0.7664187 (170)\ttotal: 1m 46s\tremaining: 36.2s\n",
            "224:\ttest: 0.7663488\tbest: 0.7664187 (170)\ttotal: 1m 47s\tremaining: 35.7s\n",
            "225:\ttest: 0.7663416\tbest: 0.7664187 (170)\ttotal: 1m 47s\tremaining: 35.2s\n",
            "226:\ttest: 0.7663473\tbest: 0.7664187 (170)\ttotal: 1m 47s\tremaining: 34.7s\n",
            "227:\ttest: 0.7663111\tbest: 0.7664187 (170)\ttotal: 1m 48s\tremaining: 34.2s\n",
            "228:\ttest: 0.7663459\tbest: 0.7664187 (170)\ttotal: 1m 48s\tremaining: 33.8s\n",
            "229:\ttest: 0.7663319\tbest: 0.7664187 (170)\ttotal: 1m 49s\tremaining: 33.3s\n",
            "230:\ttest: 0.7663282\tbest: 0.7664187 (170)\ttotal: 1m 49s\tremaining: 32.8s\n",
            "231:\ttest: 0.7663266\tbest: 0.7664187 (170)\ttotal: 1m 50s\tremaining: 32.4s\n",
            "232:\ttest: 0.7663033\tbest: 0.7664187 (170)\ttotal: 1m 50s\tremaining: 31.9s\n",
            "233:\ttest: 0.7663033\tbest: 0.7664187 (170)\ttotal: 1m 51s\tremaining: 31.4s\n",
            "234:\ttest: 0.7662981\tbest: 0.7664187 (170)\ttotal: 1m 51s\tremaining: 30.9s\n",
            "235:\ttest: 0.7662917\tbest: 0.7664187 (170)\ttotal: 1m 52s\tremaining: 30.5s\n",
            "236:\ttest: 0.7662794\tbest: 0.7664187 (170)\ttotal: 1m 52s\tremaining: 30s\n",
            "237:\ttest: 0.7662600\tbest: 0.7664187 (170)\ttotal: 1m 53s\tremaining: 29.5s\n",
            "238:\ttest: 0.7662664\tbest: 0.7664187 (170)\ttotal: 1m 53s\tremaining: 29s\n",
            "239:\ttest: 0.7662689\tbest: 0.7664187 (170)\ttotal: 1m 54s\tremaining: 28.6s\n",
            "240:\ttest: 0.7662590\tbest: 0.7664187 (170)\ttotal: 1m 54s\tremaining: 28.1s\n",
            "241:\ttest: 0.7663195\tbest: 0.7664187 (170)\ttotal: 1m 55s\tremaining: 27.6s\n",
            "242:\ttest: 0.7663254\tbest: 0.7664187 (170)\ttotal: 1m 55s\tremaining: 27.1s\n",
            "243:\ttest: 0.7663305\tbest: 0.7664187 (170)\ttotal: 1m 56s\tremaining: 26.6s\n",
            "244:\ttest: 0.7662838\tbest: 0.7664187 (170)\ttotal: 1m 56s\tremaining: 26.2s\n",
            "245:\ttest: 0.7663020\tbest: 0.7664187 (170)\ttotal: 1m 56s\tremaining: 25.7s\n",
            "246:\ttest: 0.7662842\tbest: 0.7664187 (170)\ttotal: 1m 57s\tremaining: 25.2s\n",
            "247:\ttest: 0.7662140\tbest: 0.7664187 (170)\ttotal: 1m 57s\tremaining: 24.7s\n",
            "248:\ttest: 0.7662347\tbest: 0.7664187 (170)\ttotal: 1m 58s\tremaining: 24.3s\n",
            "249:\ttest: 0.7662402\tbest: 0.7664187 (170)\ttotal: 1m 58s\tremaining: 23.8s\n",
            "250:\ttest: 0.7662209\tbest: 0.7664187 (170)\ttotal: 1m 59s\tremaining: 23.3s\n",
            "251:\ttest: 0.7661940\tbest: 0.7664187 (170)\ttotal: 1m 59s\tremaining: 22.9s\n",
            "252:\ttest: 0.7661294\tbest: 0.7664187 (170)\ttotal: 2m\tremaining: 22.4s\n",
            "253:\ttest: 0.7661501\tbest: 0.7664187 (170)\ttotal: 2m\tremaining: 21.9s\n",
            "254:\ttest: 0.7661593\tbest: 0.7664187 (170)\ttotal: 2m 1s\tremaining: 21.4s\n",
            "255:\ttest: 0.7661903\tbest: 0.7664187 (170)\ttotal: 2m 1s\tremaining: 20.9s\n",
            "256:\ttest: 0.7662258\tbest: 0.7664187 (170)\ttotal: 2m 2s\tremaining: 20.5s\n",
            "257:\ttest: 0.7661760\tbest: 0.7664187 (170)\ttotal: 2m 2s\tremaining: 20s\n",
            "258:\ttest: 0.7661734\tbest: 0.7664187 (170)\ttotal: 2m 3s\tremaining: 19.5s\n",
            "259:\ttest: 0.7661973\tbest: 0.7664187 (170)\ttotal: 2m 3s\tremaining: 19s\n",
            "260:\ttest: 0.7661903\tbest: 0.7664187 (170)\ttotal: 2m 4s\tremaining: 18.5s\n",
            "261:\ttest: 0.7661918\tbest: 0.7664187 (170)\ttotal: 2m 4s\tremaining: 18.1s\n",
            "262:\ttest: 0.7661740\tbest: 0.7664187 (170)\ttotal: 2m 5s\tremaining: 17.6s\n",
            "263:\ttest: 0.7661576\tbest: 0.7664187 (170)\ttotal: 2m 5s\tremaining: 17.1s\n",
            "264:\ttest: 0.7661700\tbest: 0.7664187 (170)\ttotal: 2m 6s\tremaining: 16.6s\n",
            "265:\ttest: 0.7661916\tbest: 0.7664187 (170)\ttotal: 2m 6s\tremaining: 16.2s\n",
            "266:\ttest: 0.7662045\tbest: 0.7664187 (170)\ttotal: 2m 7s\tremaining: 15.7s\n",
            "267:\ttest: 0.7662219\tbest: 0.7664187 (170)\ttotal: 2m 7s\tremaining: 15.2s\n",
            "268:\ttest: 0.7662097\tbest: 0.7664187 (170)\ttotal: 2m 7s\tremaining: 14.7s\n",
            "269:\ttest: 0.7662384\tbest: 0.7664187 (170)\ttotal: 2m 8s\tremaining: 14.3s\n",
            "270:\ttest: 0.7662215\tbest: 0.7664187 (170)\ttotal: 2m 8s\tremaining: 13.8s\n",
            "271:\ttest: 0.7662342\tbest: 0.7664187 (170)\ttotal: 2m 9s\tremaining: 13.3s\n",
            "272:\ttest: 0.7662490\tbest: 0.7664187 (170)\ttotal: 2m 9s\tremaining: 12.8s\n",
            "273:\ttest: 0.7662680\tbest: 0.7664187 (170)\ttotal: 2m 10s\tremaining: 12.4s\n",
            "274:\ttest: 0.7662676\tbest: 0.7664187 (170)\ttotal: 2m 10s\tremaining: 11.9s\n",
            "275:\ttest: 0.7662515\tbest: 0.7664187 (170)\ttotal: 2m 11s\tremaining: 11.4s\n",
            "276:\ttest: 0.7662399\tbest: 0.7664187 (170)\ttotal: 2m 11s\tremaining: 10.9s\n",
            "277:\ttest: 0.7662238\tbest: 0.7664187 (170)\ttotal: 2m 12s\tremaining: 10.5s\n",
            "278:\ttest: 0.7662182\tbest: 0.7664187 (170)\ttotal: 2m 12s\tremaining: 10s\n",
            "279:\ttest: 0.7662189\tbest: 0.7664187 (170)\ttotal: 2m 13s\tremaining: 9.52s\n",
            "280:\ttest: 0.7662180\tbest: 0.7664187 (170)\ttotal: 2m 13s\tremaining: 9.04s\n",
            "281:\ttest: 0.7662198\tbest: 0.7664187 (170)\ttotal: 2m 14s\tremaining: 8.56s\n",
            "282:\ttest: 0.7662225\tbest: 0.7664187 (170)\ttotal: 2m 14s\tremaining: 8.09s\n",
            "283:\ttest: 0.7662855\tbest: 0.7664187 (170)\ttotal: 2m 15s\tremaining: 7.61s\n",
            "284:\ttest: 0.7662649\tbest: 0.7664187 (170)\ttotal: 2m 15s\tremaining: 7.14s\n",
            "285:\ttest: 0.7662406\tbest: 0.7664187 (170)\ttotal: 2m 16s\tremaining: 6.66s\n",
            "286:\ttest: 0.7662406\tbest: 0.7664187 (170)\ttotal: 2m 16s\tremaining: 6.18s\n",
            "287:\ttest: 0.7662307\tbest: 0.7664187 (170)\ttotal: 2m 16s\tremaining: 5.71s\n",
            "288:\ttest: 0.7662588\tbest: 0.7664187 (170)\ttotal: 2m 17s\tremaining: 5.23s\n",
            "289:\ttest: 0.7662520\tbest: 0.7664187 (170)\ttotal: 2m 17s\tremaining: 4.76s\n",
            "290:\ttest: 0.7663185\tbest: 0.7664187 (170)\ttotal: 2m 18s\tremaining: 4.28s\n",
            "291:\ttest: 0.7669068\tbest: 0.7669068 (291)\ttotal: 2m 19s\tremaining: 3.81s\n",
            "292:\ttest: 0.7669137\tbest: 0.7669137 (292)\ttotal: 2m 19s\tremaining: 3.33s\n",
            "293:\ttest: 0.7669269\tbest: 0.7669269 (293)\ttotal: 2m 19s\tremaining: 2.86s\n",
            "294:\ttest: 0.7669198\tbest: 0.7669269 (293)\ttotal: 2m 20s\tremaining: 2.38s\n",
            "295:\ttest: 0.7669184\tbest: 0.7669269 (293)\ttotal: 2m 20s\tremaining: 1.9s\n",
            "296:\ttest: 0.7668966\tbest: 0.7669269 (293)\ttotal: 2m 21s\tremaining: 1.43s\n",
            "297:\ttest: 0.7669039\tbest: 0.7669269 (293)\ttotal: 2m 21s\tremaining: 952ms\n",
            "298:\ttest: 0.7668786\tbest: 0.7669269 (293)\ttotal: 2m 22s\tremaining: 476ms\n",
            "299:\ttest: 0.7668711\tbest: 0.7669269 (293)\ttotal: 2m 22s\tremaining: 0us\n",
            "\n",
            "bestTest = 0.7669268801\n",
            "bestIteration = 293\n",
            "\n",
            "Shrink model to first 294 iterations.\n"
          ],
          "name": "stdout"
        },
        {
          "output_type": "execute_result",
          "data": {
            "text/plain": [
              "<catboost.core.CatBoostClassifier at 0x7f83ba343610>"
            ]
          },
          "metadata": {
            "tags": []
          },
          "execution_count": 78
        },
        {
          "output_type": "execute_result",
          "data": {
            "text/plain": [
              "2.4413509805997213"
            ]
          },
          "metadata": {
            "tags": []
          },
          "execution_count": 78
        }
      ]
    },
    {
      "cell_type": "code",
      "metadata": {
        "colab": {
          "base_uri": "https://localhost:8080/",
          "height": 54
        },
        "id": "NAYUSZ6wTb1l",
        "outputId": "68d2ab13-0dbd-4e38-c6d7-ef10325e666b"
      },
      "source": [
        "\"\"\"\n",
        "predict\n",
        "   Apply the model to the given dataset.\n",
        "   Note. The model can not be correctly\n",
        "   applied if the order of the columns\n",
        "   in the testing and training datasets\n",
        "   differs.\n",
        "\"\"\"\n",
        "\n",
        "# 6.3  Apply model to make class-wise predictions\n",
        "prediction = clf.predict(X_test,\n",
        "                         verbose = True,\n",
        "                         prediction_type='Class'  # Options: Probability\n",
        "                         )\n"
      ],
      "execution_count": 79,
      "outputs": [
        {
          "output_type": "execute_result",
          "data": {
            "application/vnd.google.colaboratory.intrinsic+json": {
              "type": "string"
            },
            "text/plain": [
              "'\\npredict\\n   Apply the model to the given dataset.\\n   Note. The model can not be correctly\\n   applied if the order of the columns\\n   in the testing and training datasets\\n   differs.\\n'"
            ]
          },
          "metadata": {
            "tags": []
          },
          "execution_count": 79
        }
      ]
    },
    {
      "cell_type": "code",
      "metadata": {
        "id": "kLhHsxF8Xyz5"
      },
      "source": [
        "\n",
        "# 6.4 Apply model to make probaility predictions\n",
        "#     IInd col of prediction_prob is prob of being '1'.\n",
        "prediction_prob = clf.predict(X_test,\n",
        "                              verbose = True,\n",
        "                              prediction_type='Probability'\n",
        "                             )\n",
        "\n"
      ],
      "execution_count": 80,
      "outputs": []
    },
    {
      "cell_type": "code",
      "metadata": {
        "id": "H8yugO9qX2VE",
        "colab": {
          "base_uri": "https://localhost:8080/",
          "height": 206
        },
        "outputId": "dc41173a-41bb-4472-f99d-272ba975c24f"
      },
      "source": [
        "\n",
        "# 6.5 Dataframe of actual vs predicted class-values.\n",
        "df = pd.DataFrame(\n",
        "                     {\n",
        "                     'actualID':y_test,\n",
        "                     'Predicted':prediction\n",
        "                     }\n",
        "                 )\n",
        "df.head()"
      ],
      "execution_count": 81,
      "outputs": [
        {
          "output_type": "execute_result",
          "data": {
            "text/html": [
              "<div>\n",
              "<style scoped>\n",
              "    .dataframe tbody tr th:only-of-type {\n",
              "        vertical-align: middle;\n",
              "    }\n",
              "\n",
              "    .dataframe tbody tr th {\n",
              "        vertical-align: top;\n",
              "    }\n",
              "\n",
              "    .dataframe thead th {\n",
              "        text-align: right;\n",
              "    }\n",
              "</style>\n",
              "<table border=\"1\" class=\"dataframe\">\n",
              "  <thead>\n",
              "    <tr style=\"text-align: right;\">\n",
              "      <th></th>\n",
              "      <th>actualID</th>\n",
              "      <th>Predicted</th>\n",
              "    </tr>\n",
              "  </thead>\n",
              "  <tbody>\n",
              "    <tr>\n",
              "      <th>73422</th>\n",
              "      <td>0</td>\n",
              "      <td>1</td>\n",
              "    </tr>\n",
              "    <tr>\n",
              "      <th>113056</th>\n",
              "      <td>0</td>\n",
              "      <td>0</td>\n",
              "    </tr>\n",
              "    <tr>\n",
              "      <th>30307</th>\n",
              "      <td>1</td>\n",
              "      <td>1</td>\n",
              "    </tr>\n",
              "    <tr>\n",
              "      <th>106246</th>\n",
              "      <td>1</td>\n",
              "      <td>1</td>\n",
              "    </tr>\n",
              "    <tr>\n",
              "      <th>34636</th>\n",
              "      <td>1</td>\n",
              "      <td>1</td>\n",
              "    </tr>\n",
              "  </tbody>\n",
              "</table>\n",
              "</div>"
            ],
            "text/plain": [
              "        actualID  Predicted\n",
              "73422          0          1\n",
              "113056         0          0\n",
              "30307          1          1\n",
              "106246         1          1\n",
              "34636          1          1"
            ]
          },
          "metadata": {
            "tags": []
          },
          "execution_count": 81
        }
      ]
    },
    {
      "cell_type": "code",
      "metadata": {
        "colab": {
          "base_uri": "https://localhost:8080/"
        },
        "id": "TZ7hNE4BX5UD",
        "outputId": "a4e00153-9c52-4ff6-cd6f-629466dfd901"
      },
      "source": [
        "# 7.0 Confusion matrix\n",
        "confusion_matrix(df.actualID,\n",
        "\t               df.Predicted\n",
        "\t             )\n"
      ],
      "execution_count": 39,
      "outputs": [
        {
          "output_type": "execute_result",
          "data": {
            "text/plain": [
              "array([[ 2836, 10723],\n",
              "       [ 1363, 42239]])"
            ]
          },
          "metadata": {
            "tags": []
          },
          "execution_count": 39
        }
      ]
    },
    {
      "cell_type": "code",
      "metadata": {
        "colab": {
          "base_uri": "https://localhost:8080/"
        },
        "id": "NSj8lknpX8IH",
        "outputId": "05aef8d9-b1e4-468d-b138-59e4c9c80a5f"
      },
      "source": [
        "\n",
        "# 7.1 Calculate performance parameters\n",
        "#     ravel() flattens the matrix\n",
        "\n",
        "f1_score(y_test,prediction)\n"
      ],
      "execution_count": 82,
      "outputs": [
        {
          "output_type": "execute_result",
          "data": {
            "text/plain": [
              "0.8727791250767614"
            ]
          },
          "metadata": {
            "tags": []
          },
          "execution_count": 82
        }
      ]
    },
    {
      "cell_type": "code",
      "metadata": {
        "id": "ncjDociiYATt",
        "colab": {
          "base_uri": "https://localhost:8080/",
          "height": 279
        },
        "outputId": "faecb56c-5411-4e91-cf45-ab17afaff754"
      },
      "source": [
        "\n",
        "# 7.2 AUC plot\n",
        "plot_roc_curve(clf,X_test,y_test) ;"
      ],
      "execution_count": 83,
      "outputs": [
        {
          "output_type": "display_data",
          "data": {
            "image/png": "[encoded data removed]",
            "text/plain": [
              "<Figure size 432x288 with 1 Axes>"
            ]
          },
          "metadata": {
            "tags": [],
            "needs_background": "light"
          }
        }
      ]
    },
    {
      "cell_type": "code",
      "metadata": {
        "colab": {
          "base_uri": "https://localhost:8080/",
          "height": 297
        },
        "id": "IMYKikExU4k-",
        "outputId": "7f2a21ec-3fe8-43f3-cbd7-8e210359b3ad"
      },
      "source": [
        "# 7.3\n",
        "plot_det_curve(clf,X_test,y_test)"
      ],
      "execution_count": 84,
      "outputs": [
        {
          "output_type": "execute_result",
          "data": {
            "text/plain": [
              "<sklearn.metrics._plot.det_curve.DetCurveDisplay at 0x7f83ae8765d0>"
            ]
          },
          "metadata": {
            "tags": []
          },
          "execution_count": 84
        },
        {
          "output_type": "display_data",
          "data": {
            "image/png": "[encoded data removed]",
            "text/plain": [
              "<Figure size 432x288 with 1 Axes>"
            ]
          },
          "metadata": {
            "tags": [],
            "needs_background": "light"
          }
        }
      ]
    },
    {
      "cell_type": "code",
      "metadata": {
        "id": "r9ekvKhSYF1Z"
      },
      "source": [
        "\n",
        "# 8.0. Get feature importance\n",
        "#      First transform data into a special matrix\n",
        "#      as rquired by catboost\n",
        "\n",
        "train_pool = Pool(X_train, y_train, cat_features=cat_features_ids)\n"
      ],
      "execution_count": 85,
      "outputs": []
    },
    {
      "cell_type": "code",
      "metadata": {
        "id": "GpNwxIoBYN0d",
        "colab": {
          "base_uri": "https://localhost:8080/"
        },
        "outputId": "facc4c81-5dbc-4327-9aee-eb2fb8e38a53"
      },
      "source": [
        "\n",
        "# 8.1 Calculate feature importance using model object (clf)\n",
        "\n",
        "feature_importances = clf.get_feature_importance(data=train_pool)\n",
        "feature_importances\n",
        "feature_names = X_train.columns\n"
      ],
      "execution_count": 86,
      "outputs": [
        {
          "output_type": "execute_result",
          "data": {
            "text/plain": [
              "array([4.68004411e-01, 3.88750744e-01, 4.97204619e-01, 3.12845075e-02,\n",
              "       1.11207337e-01, 4.51942088e-01, 2.39022951e-01, 8.77579987e-02,\n",
              "       9.67574622e-02, 1.31111514e+00, 3.57480891e-01, 1.40073493e+00,\n",
              "       1.21653611e-01, 1.00110105e+00, 1.81656583e-01, 2.05455473e-01,\n",
              "       4.69411248e-02, 6.08219985e-02, 3.64385211e-01, 2.45428192e-01,\n",
              "       1.62603872e+00, 3.34056610e+00, 2.68877460e-01, 1.83441654e+00,\n",
              "       4.12897390e-02, 3.30148427e-01, 4.13495000e-02, 5.32103102e-01,\n",
              "       8.54922746e-02, 9.81687931e-01, 1.70416509e+00, 1.71080141e-01,\n",
              "       5.44011518e-02, 1.64810759e+00, 2.40385348e-01, 3.87647294e-01,\n",
              "       1.21011997e-01, 7.77124253e-01, 3.00894998e-01, 2.40743297e+00,\n",
              "       1.56406653e-02, 2.63184484e-01, 1.13396621e-01, 2.58625206e-01,\n",
              "       8.45993189e-02, 2.38971102e-01, 3.23396913e+00, 0.00000000e+00,\n",
              "       3.32440372e-01, 1.82920958e+01, 3.98850813e-01, 3.32092816e+00,\n",
              "       2.49100430e-01, 0.00000000e+00, 2.35691613e-01, 5.80770011e+00,\n",
              "       2.84348495e-01, 1.89622532e-01, 2.71187161e-01, 8.16083120e-02,\n",
              "       2.66090344e-01, 1.09443154e+00, 7.58283199e-02, 1.68876303e-01,\n",
              "       6.39203424e-01, 1.00844048e+01, 1.02073361e-01, 6.62652855e-01,\n",
              "       3.46731440e-01, 3.21406147e-01, 5.17345201e-01, 4.71724534e+00,\n",
              "       2.43462532e-01, 5.12702894e-01, 6.06745047e-01, 1.34449158e-01,\n",
              "       2.52637641e-01, 4.09217137e-01, 1.74128827e+00, 3.74513112e-01,\n",
              "       2.56750630e-01, 3.24810700e-01, 1.17716779e-01, 2.54079138e-01,\n",
              "       2.97783679e-01, 2.94513567e-01, 1.44178634e-01, 2.91086750e-01,\n",
              "       2.84727616e-01, 5.96952337e-01, 1.52161883e-01, 2.52134253e-02,\n",
              "       1.34777481e-01, 1.80572554e-01, 2.06071178e-01, 1.15557907e-01,\n",
              "       1.80764576e-01, 2.96195213e-01, 1.40839062e-01, 7.17005811e-01,\n",
              "       1.67709175e-01, 2.18118452e-01, 2.42279624e-01, 2.49921943e-01,\n",
              "       2.46578446e-01, 3.00885256e-01, 2.43993737e-01, 1.33267177e-01,\n",
              "       1.06041514e-01, 8.80863835e-01, 2.11229161e-01, 4.06194858e-01,\n",
              "       1.53917416e+00, 1.25650935e+00, 5.29846622e-01, 4.95041655e-02,\n",
              "       2.07615723e-01, 1.58839936e-01, 2.38527590e-01, 4.11434874e-01,\n",
              "       3.67734298e-01, 3.12300603e-01, 6.76814152e-01, 6.74742633e-01,\n",
              "       4.69305506e-01, 2.76524970e-01, 4.26375105e-01, 1.76520716e-01,\n",
              "       1.36206084e+00, 1.00444947e-01, 8.40689545e-01])"
            ]
          },
          "metadata": {
            "tags": []
          },
          "execution_count": 86
        }
      ]
    },
    {
      "cell_type": "code",
      "metadata": {
        "id": "CXX1RJbyYQmo",
        "colab": {
          "base_uri": "https://localhost:8080/",
          "height": 424
        },
        "outputId": "6d57c6e9-7d98-49e7-a9fe-9c4035069810"
      },
      "source": [
        "\n",
        "# 8.2 Create dataframe of feature importance, col-name wise\n",
        "df_imp = pd.DataFrame(\n",
        "                       { 'feature_names':feature_names,\n",
        "                         'feature_impt': feature_importances\n",
        "                        }\n",
        "                     ).sort_values(by = 'feature_impt',ascending = False)\n",
        "\n",
        "df_imp\n"
      ],
      "execution_count": 88,
      "outputs": [
        {
          "output_type": "execute_result",
          "data": {
            "text/html": [
              "<div>\n",
              "<style scoped>\n",
              "    .dataframe tbody tr th:only-of-type {\n",
              "        vertical-align: middle;\n",
              "    }\n",
              "\n",
              "    .dataframe tbody tr th {\n",
              "        vertical-align: top;\n",
              "    }\n",
              "\n",
              "    .dataframe thead th {\n",
              "        text-align: right;\n",
              "    }\n",
              "</style>\n",
              "<table border=\"1\" class=\"dataframe\">\n",
              "  <thead>\n",
              "    <tr style=\"text-align: right;\">\n",
              "      <th></th>\n",
              "      <th>feature_names</th>\n",
              "      <th>feature_impt</th>\n",
              "    </tr>\n",
              "  </thead>\n",
              "  <tbody>\n",
              "    <tr>\n",
              "      <th>49</th>\n",
              "      <td>v50</td>\n",
              "      <td>18.292096</td>\n",
              "    </tr>\n",
              "    <tr>\n",
              "      <th>65</th>\n",
              "      <td>v66</td>\n",
              "      <td>10.084405</td>\n",
              "    </tr>\n",
              "    <tr>\n",
              "      <th>55</th>\n",
              "      <td>v56</td>\n",
              "      <td>5.807700</td>\n",
              "    </tr>\n",
              "    <tr>\n",
              "      <th>71</th>\n",
              "      <td>v72</td>\n",
              "      <td>4.717245</td>\n",
              "    </tr>\n",
              "    <tr>\n",
              "      <th>21</th>\n",
              "      <td>v22</td>\n",
              "      <td>3.340566</td>\n",
              "    </tr>\n",
              "    <tr>\n",
              "      <th>...</th>\n",
              "      <td>...</td>\n",
              "      <td>...</td>\n",
              "    </tr>\n",
              "    <tr>\n",
              "      <th>3</th>\n",
              "      <td>v4</td>\n",
              "      <td>0.031285</td>\n",
              "    </tr>\n",
              "    <tr>\n",
              "      <th>91</th>\n",
              "      <td>v92</td>\n",
              "      <td>0.025213</td>\n",
              "    </tr>\n",
              "    <tr>\n",
              "      <th>40</th>\n",
              "      <td>v41</td>\n",
              "      <td>0.015641</td>\n",
              "    </tr>\n",
              "    <tr>\n",
              "      <th>53</th>\n",
              "      <td>v54</td>\n",
              "      <td>0.000000</td>\n",
              "    </tr>\n",
              "    <tr>\n",
              "      <th>47</th>\n",
              "      <td>v48</td>\n",
              "      <td>0.000000</td>\n",
              "    </tr>\n",
              "  </tbody>\n",
              "</table>\n",
              "<p>131 rows × 2 columns</p>\n",
              "</div>"
            ],
            "text/plain": [
              "   feature_names  feature_impt\n",
              "49           v50     18.292096\n",
              "65           v66     10.084405\n",
              "55           v56      5.807700\n",
              "71           v72      4.717245\n",
              "21           v22      3.340566\n",
              "..           ...           ...\n",
              "3             v4      0.031285\n",
              "91           v92      0.025213\n",
              "40           v41      0.015641\n",
              "53           v54      0.000000\n",
              "47           v48      0.000000\n",
              "\n",
              "[131 rows x 2 columns]"
            ]
          },
          "metadata": {
            "tags": []
          },
          "execution_count": 88
        }
      ]
    },
    {
      "cell_type": "markdown",
      "metadata": {
        "id": "-yPVxgJ95grb"
      },
      "source": [
        "## How does Catboost encode categorical features?\n",
        "A demo<br>\n",
        "Encoding is done as if data is streaming in. We first have one observation, perform encoding. We then have another observation, perform encoding and so on."
      ]
    },
    {
      "cell_type": "markdown",
      "metadata": {
        "id": "E-T-KomN5map"
      },
      "source": [
        "See [here](https://catboost.ai/docs/concepts/algorithm-main-stages_cat-to-numberic.html)<br>\n",
        "And in Moodle, [Excel Sheet](http://203.122.28.230/moodle/mod/resource/view.php?id=4444)\n"
      ]
    },
    {
      "cell_type": "code",
      "metadata": {
        "colab": {
          "base_uri": "https://localhost:8080/"
        },
        "id": "tAFWNMJrk8MW",
        "outputId": "646170c4-95eb-4854-dd7a-e443b0adf9bd"
      },
      "source": [
        "# e1.0\n",
        "!pip install category_encoders"
      ],
      "execution_count": 90,
      "outputs": [
        {
          "output_type": "stream",
          "text": [
            "Collecting category_encoders\n",
            "  Downloading category_encoders-2.2.2-py2.py3-none-any.whl (80 kB)\n",
            "\u001b[?25l\r\u001b[K     |████                            | 10 kB 22.1 MB/s eta 0:00:01\r\u001b[K     |████████▏                       | 20 kB 12.8 MB/s eta 0:00:01\r\u001b[K     |████████████▏                   | 30 kB 7.3 MB/s eta 0:00:01\r\u001b[K     |████████████████▎               | 40 kB 9.1 MB/s eta 0:00:01\r\u001b[K     |████████████████████▎           | 51 kB 5.1 MB/s eta 0:00:01\r\u001b[K     |████████████████████████▍       | 61 kB 5.2 MB/s eta 0:00:01\r\u001b[K     |████████████████████████████▍   | 71 kB 5.2 MB/s eta 0:00:01\r\u001b[K     |████████████████████████████████| 80 kB 3.5 MB/s \n",
            "\u001b[?25hRequirement already satisfied: pandas>=0.21.1 in /usr/local/lib/python3.7/dist-packages (from category_encoders) (1.1.5)\n",
            "Requirement already satisfied: scikit-learn>=0.20.0 in /usr/local/lib/python3.7/dist-packages (from category_encoders) (0.24.0)\n",
            "Requirement already satisfied: statsmodels>=0.9.0 in /usr/local/lib/python3.7/dist-packages (from category_encoders) (0.10.2)\n",
            "Requirement already satisfied: numpy>=1.14.0 in /usr/local/lib/python3.7/dist-packages (from category_encoders) (1.19.5)\n",
            "Requirement already satisfied: scipy>=1.0.0 in /usr/local/lib/python3.7/dist-packages (from category_encoders) (1.4.1)\n",
            "Requirement already satisfied: patsy>=0.5.1 in /usr/local/lib/python3.7/dist-packages (from category_encoders) (0.5.1)\n",
            "Requirement already satisfied: python-dateutil>=2.7.3 in /usr/local/lib/python3.7/dist-packages (from pandas>=0.21.1->category_encoders) (2.8.1)\n",
            "Requirement already satisfied: pytz>=2017.2 in /usr/local/lib/python3.7/dist-packages (from pandas>=0.21.1->category_encoders) (2018.9)\n",
            "Requirement already satisfied: six in /usr/local/lib/python3.7/dist-packages (from patsy>=0.5.1->category_encoders) (1.15.0)\n",
            "Requirement already satisfied: joblib>=0.11 in /usr/local/lib/python3.7/dist-packages (from scikit-learn>=0.20.0->category_encoders) (1.0.1)\n",
            "Requirement already satisfied: threadpoolctl>=2.0.0 in /usr/local/lib/python3.7/dist-packages (from scikit-learn>=0.20.0->category_encoders) (2.2.0)\n",
            "Installing collected packages: category-encoders\n",
            "Successfully installed category-encoders-2.2.2\n"
          ],
          "name": "stdout"
        }
      ]
    },
    {
      "cell_type": "code",
      "metadata": {
        "id": "Y39FK6PPpEAt"
      },
      "source": [
        "# e1.1 \n",
        "from IPython.core.interactiveshell import InteractiveShell\n",
        "InteractiveShell.ast_node_interactivity = \"all\"\n"
      ],
      "execution_count": 91,
      "outputs": []
    },
    {
      "cell_type": "code",
      "metadata": {
        "id": "3oLUF5j7nwk9",
        "colab": {
          "base_uri": "https://localhost:8080/"
        },
        "outputId": "75018f1c-9fdb-4c1c-f44d-2c9b2aecf76f"
      },
      "source": [
        "# e1.2 import libraries\n",
        "import category_encoders as ce\n",
        "import pandas as pd\n"
      ],
      "execution_count": 92,
      "outputs": [
        {
          "output_type": "stream",
          "text": [
            "/usr/local/lib/python3.7/dist-packages/statsmodels/tools/_testing.py:19: FutureWarning: pandas.util.testing is deprecated. Use the functions in the public API at pandas.testing instead.\n",
            "  import pandas.util.testing as tm\n"
          ],
          "name": "stderr"
        }
      ]
    },
    {
      "cell_type": "code",
      "metadata": {
        "id": "YHqfx7NwgPkV"
      },
      "source": [
        "# e 2.0 Make dataset\n",
        "train = pd.DataFrame({\n",
        "                       'color': [\"red\", \"blue\", \"blue\", \"green\", \"red\",\n",
        "                                 \"red\", \"black\", \"black\", \"blue\", \"green\",\n",
        "                                 \"red\", \"blue\", \"green\", \"red\", \"blue\"],\n",
        "                      'interests': [\"sketching\", \"painting\", \"instruments\",\n",
        "                                    \"sketching\", \"painting\", \"video games\",\n",
        "                                    \"painting\", \"instruments\", \"sketching\",\n",
        "                                    \"sketching\", \"sketching\", \"painting\",\n",
        "                                    \"sketching\", \"painting\",\"sketching\"],\n",
        "                      'height': [68, 64, 87, 45, 54, 64, 67, 98, 90, 87,\n",
        "                                 65,54,78,90,33],\n",
        "                      'grade':  [1, 0, 1, 0, 0, 1, 1, 0, 1, 1,0,1,1,1,0], \n",
        "                      }\n",
        "                     )\n"
      ],
      "execution_count": 93,
      "outputs": []
    },
    {
      "cell_type": "code",
      "metadata": {
        "colab": {
          "base_uri": "https://localhost:8080/",
          "height": 363
        },
        "id": "uA9Sc8UTn4fV",
        "outputId": "419c5911-737c-4465-d5a4-435eb6a7e6ad"
      },
      "source": [
        "# e 3.0 Define train and target\n",
        "train.head(10)\n",
        "target = train[['grade']]\n",
        "train = train.drop('grade', axis = 1)"
      ],
      "execution_count": 94,
      "outputs": [
        {
          "output_type": "execute_result",
          "data": {
            "text/html": [
              "<div>\n",
              "<style scoped>\n",
              "    .dataframe tbody tr th:only-of-type {\n",
              "        vertical-align: middle;\n",
              "    }\n",
              "\n",
              "    .dataframe tbody tr th {\n",
              "        vertical-align: top;\n",
              "    }\n",
              "\n",
              "    .dataframe thead th {\n",
              "        text-align: right;\n",
              "    }\n",
              "</style>\n",
              "<table border=\"1\" class=\"dataframe\">\n",
              "  <thead>\n",
              "    <tr style=\"text-align: right;\">\n",
              "      <th></th>\n",
              "      <th>color</th>\n",
              "      <th>interests</th>\n",
              "      <th>height</th>\n",
              "      <th>grade</th>\n",
              "    </tr>\n",
              "  </thead>\n",
              "  <tbody>\n",
              "    <tr>\n",
              "      <th>0</th>\n",
              "      <td>red</td>\n",
              "      <td>sketching</td>\n",
              "      <td>68</td>\n",
              "      <td>1</td>\n",
              "    </tr>\n",
              "    <tr>\n",
              "      <th>1</th>\n",
              "      <td>blue</td>\n",
              "      <td>painting</td>\n",
              "      <td>64</td>\n",
              "      <td>0</td>\n",
              "    </tr>\n",
              "    <tr>\n",
              "      <th>2</th>\n",
              "      <td>blue</td>\n",
              "      <td>instruments</td>\n",
              "      <td>87</td>\n",
              "      <td>1</td>\n",
              "    </tr>\n",
              "    <tr>\n",
              "      <th>3</th>\n",
              "      <td>green</td>\n",
              "      <td>sketching</td>\n",
              "      <td>45</td>\n",
              "      <td>0</td>\n",
              "    </tr>\n",
              "    <tr>\n",
              "      <th>4</th>\n",
              "      <td>red</td>\n",
              "      <td>painting</td>\n",
              "      <td>54</td>\n",
              "      <td>0</td>\n",
              "    </tr>\n",
              "    <tr>\n",
              "      <th>5</th>\n",
              "      <td>red</td>\n",
              "      <td>video games</td>\n",
              "      <td>64</td>\n",
              "      <td>1</td>\n",
              "    </tr>\n",
              "    <tr>\n",
              "      <th>6</th>\n",
              "      <td>black</td>\n",
              "      <td>painting</td>\n",
              "      <td>67</td>\n",
              "      <td>1</td>\n",
              "    </tr>\n",
              "    <tr>\n",
              "      <th>7</th>\n",
              "      <td>black</td>\n",
              "      <td>instruments</td>\n",
              "      <td>98</td>\n",
              "      <td>0</td>\n",
              "    </tr>\n",
              "    <tr>\n",
              "      <th>8</th>\n",
              "      <td>blue</td>\n",
              "      <td>sketching</td>\n",
              "      <td>90</td>\n",
              "      <td>1</td>\n",
              "    </tr>\n",
              "    <tr>\n",
              "      <th>9</th>\n",
              "      <td>green</td>\n",
              "      <td>sketching</td>\n",
              "      <td>87</td>\n",
              "      <td>1</td>\n",
              "    </tr>\n",
              "  </tbody>\n",
              "</table>\n",
              "</div>"
            ],
            "text/plain": [
              "   color    interests  height  grade\n",
              "0    red    sketching      68      1\n",
              "1   blue     painting      64      0\n",
              "2   blue  instruments      87      1\n",
              "3  green    sketching      45      0\n",
              "4    red     painting      54      0\n",
              "5    red  video games      64      1\n",
              "6  black     painting      67      1\n",
              "7  black  instruments      98      0\n",
              "8   blue    sketching      90      1\n",
              "9  green    sketching      87      1"
            ]
          },
          "metadata": {
            "tags": []
          },
          "execution_count": 94
        }
      ]
    },
    {
      "cell_type": "code",
      "metadata": {
        "colab": {
          "base_uri": "https://localhost:8080/"
        },
        "id": "IuylQtmroDt0",
        "outputId": "6bddc0f7-a12c-4ade-f26d-c3d732d19d84"
      },
      "source": [
        "# e 4.0 Define catboost encoder\n",
        "cbe_encoder = ce.cat_boost.CatBoostEncoder()\n",
        "  \n",
        "# e 4.1 Fit encoder and transform the features\n",
        "cbe_encoder.fit(train, target)\n",
        "train_cbe = cbe_encoder.transform(train,target)\n",
        "train_cbe = train_cbe.rename(columns = {\"color\": \"color_e\",\n",
        "                                        \"interests\" : \"interests_e\",\n",
        "                                        \"height\" : \"height_e\"}) "
      ],
      "execution_count": 95,
      "outputs": [
        {
          "output_type": "execute_result",
          "data": {
            "text/plain": [
              "CatBoostEncoder(cols=['color', 'interests'])"
            ]
          },
          "metadata": {
            "tags": []
          },
          "execution_count": 95
        }
      ]
    },
    {
      "cell_type": "markdown",
      "metadata": {
        "id": "h-qGgCLn-H7D"
      },
      "source": [
        "### Encoding formula"
      ]
    },
    {
      "cell_type": "markdown",
      "metadata": {
        "id": "BjmhhoMIxhzy"
      },
      "source": [
        "(**how_many_times_a_feature_was_seen_earlier_with_target_valueOf_1** + prior_value)/Total_number_of times_feature_seen_upto_now"
      ]
    },
    {
      "cell_type": "code",
      "metadata": {
        "colab": {
          "base_uri": "https://localhost:8080/",
          "height": 520
        },
        "id": "7zEvHLoxxgzj",
        "outputId": "a98f5d59-1a9a-4e8d-d227-b119fa3928f7"
      },
      "source": [
        "# e5.0\n",
        "pd.concat([train,\n",
        "           train_cbe,\n",
        "           target],\n",
        "           axis = 1).sort_values(by = 'color', ascending = False) "
      ],
      "execution_count": 96,
      "outputs": [
        {
          "output_type": "execute_result",
          "data": {
            "text/html": [
              "<div>\n",
              "<style scoped>\n",
              "    .dataframe tbody tr th:only-of-type {\n",
              "        vertical-align: middle;\n",
              "    }\n",
              "\n",
              "    .dataframe tbody tr th {\n",
              "        vertical-align: top;\n",
              "    }\n",
              "\n",
              "    .dataframe thead th {\n",
              "        text-align: right;\n",
              "    }\n",
              "</style>\n",
              "<table border=\"1\" class=\"dataframe\">\n",
              "  <thead>\n",
              "    <tr style=\"text-align: right;\">\n",
              "      <th></th>\n",
              "      <th>color</th>\n",
              "      <th>interests</th>\n",
              "      <th>height</th>\n",
              "      <th>color_e</th>\n",
              "      <th>interests_e</th>\n",
              "      <th>height_e</th>\n",
              "      <th>grade</th>\n",
              "    </tr>\n",
              "  </thead>\n",
              "  <tbody>\n",
              "    <tr>\n",
              "      <th>0</th>\n",
              "      <td>red</td>\n",
              "      <td>sketching</td>\n",
              "      <td>68</td>\n",
              "      <td>0.600000</td>\n",
              "      <td>0.600000</td>\n",
              "      <td>68</td>\n",
              "      <td>1</td>\n",
              "    </tr>\n",
              "    <tr>\n",
              "      <th>4</th>\n",
              "      <td>red</td>\n",
              "      <td>painting</td>\n",
              "      <td>54</td>\n",
              "      <td>0.800000</td>\n",
              "      <td>0.300000</td>\n",
              "      <td>54</td>\n",
              "      <td>0</td>\n",
              "    </tr>\n",
              "    <tr>\n",
              "      <th>5</th>\n",
              "      <td>red</td>\n",
              "      <td>video games</td>\n",
              "      <td>64</td>\n",
              "      <td>0.533333</td>\n",
              "      <td>0.600000</td>\n",
              "      <td>64</td>\n",
              "      <td>1</td>\n",
              "    </tr>\n",
              "    <tr>\n",
              "      <th>10</th>\n",
              "      <td>red</td>\n",
              "      <td>sketching</td>\n",
              "      <td>65</td>\n",
              "      <td>0.650000</td>\n",
              "      <td>0.720000</td>\n",
              "      <td>65</td>\n",
              "      <td>0</td>\n",
              "    </tr>\n",
              "    <tr>\n",
              "      <th>13</th>\n",
              "      <td>red</td>\n",
              "      <td>painting</td>\n",
              "      <td>90</td>\n",
              "      <td>0.520000</td>\n",
              "      <td>0.520000</td>\n",
              "      <td>90</td>\n",
              "      <td>1</td>\n",
              "    </tr>\n",
              "    <tr>\n",
              "      <th>3</th>\n",
              "      <td>green</td>\n",
              "      <td>sketching</td>\n",
              "      <td>45</td>\n",
              "      <td>0.600000</td>\n",
              "      <td>0.800000</td>\n",
              "      <td>45</td>\n",
              "      <td>0</td>\n",
              "    </tr>\n",
              "    <tr>\n",
              "      <th>9</th>\n",
              "      <td>green</td>\n",
              "      <td>sketching</td>\n",
              "      <td>87</td>\n",
              "      <td>0.300000</td>\n",
              "      <td>0.650000</td>\n",
              "      <td>87</td>\n",
              "      <td>1</td>\n",
              "    </tr>\n",
              "    <tr>\n",
              "      <th>12</th>\n",
              "      <td>green</td>\n",
              "      <td>sketching</td>\n",
              "      <td>78</td>\n",
              "      <td>0.533333</td>\n",
              "      <td>0.600000</td>\n",
              "      <td>78</td>\n",
              "      <td>1</td>\n",
              "    </tr>\n",
              "    <tr>\n",
              "      <th>1</th>\n",
              "      <td>blue</td>\n",
              "      <td>painting</td>\n",
              "      <td>64</td>\n",
              "      <td>0.600000</td>\n",
              "      <td>0.600000</td>\n",
              "      <td>64</td>\n",
              "      <td>0</td>\n",
              "    </tr>\n",
              "    <tr>\n",
              "      <th>2</th>\n",
              "      <td>blue</td>\n",
              "      <td>instruments</td>\n",
              "      <td>87</td>\n",
              "      <td>0.300000</td>\n",
              "      <td>0.600000</td>\n",
              "      <td>87</td>\n",
              "      <td>1</td>\n",
              "    </tr>\n",
              "    <tr>\n",
              "      <th>8</th>\n",
              "      <td>blue</td>\n",
              "      <td>sketching</td>\n",
              "      <td>90</td>\n",
              "      <td>0.533333</td>\n",
              "      <td>0.533333</td>\n",
              "      <td>90</td>\n",
              "      <td>1</td>\n",
              "    </tr>\n",
              "    <tr>\n",
              "      <th>11</th>\n",
              "      <td>blue</td>\n",
              "      <td>painting</td>\n",
              "      <td>54</td>\n",
              "      <td>0.650000</td>\n",
              "      <td>0.400000</td>\n",
              "      <td>54</td>\n",
              "      <td>1</td>\n",
              "    </tr>\n",
              "    <tr>\n",
              "      <th>14</th>\n",
              "      <td>blue</td>\n",
              "      <td>sketching</td>\n",
              "      <td>33</td>\n",
              "      <td>0.720000</td>\n",
              "      <td>0.657143</td>\n",
              "      <td>33</td>\n",
              "      <td>0</td>\n",
              "    </tr>\n",
              "    <tr>\n",
              "      <th>6</th>\n",
              "      <td>black</td>\n",
              "      <td>painting</td>\n",
              "      <td>67</td>\n",
              "      <td>0.600000</td>\n",
              "      <td>0.200000</td>\n",
              "      <td>67</td>\n",
              "      <td>1</td>\n",
              "    </tr>\n",
              "    <tr>\n",
              "      <th>7</th>\n",
              "      <td>black</td>\n",
              "      <td>instruments</td>\n",
              "      <td>98</td>\n",
              "      <td>0.800000</td>\n",
              "      <td>0.800000</td>\n",
              "      <td>98</td>\n",
              "      <td>0</td>\n",
              "    </tr>\n",
              "  </tbody>\n",
              "</table>\n",
              "</div>"
            ],
            "text/plain": [
              "    color    interests  height   color_e  interests_e  height_e  grade\n",
              "0     red    sketching      68  0.600000     0.600000        68      1\n",
              "4     red     painting      54  0.800000     0.300000        54      0\n",
              "5     red  video games      64  0.533333     0.600000        64      1\n",
              "10    red    sketching      65  0.650000     0.720000        65      0\n",
              "13    red     painting      90  0.520000     0.520000        90      1\n",
              "3   green    sketching      45  0.600000     0.800000        45      0\n",
              "9   green    sketching      87  0.300000     0.650000        87      1\n",
              "12  green    sketching      78  0.533333     0.600000        78      1\n",
              "1    blue     painting      64  0.600000     0.600000        64      0\n",
              "2    blue  instruments      87  0.300000     0.600000        87      1\n",
              "8    blue    sketching      90  0.533333     0.533333        90      1\n",
              "11   blue     painting      54  0.650000     0.400000        54      1\n",
              "14   blue    sketching      33  0.720000     0.657143        33      0\n",
              "6   black     painting      67  0.600000     0.200000        67      1\n",
              "7   black  instruments      98  0.800000     0.800000        98      0"
            ]
          },
          "metadata": {
            "tags": []
          },
          "execution_count": 96
        }
      ]
    },
    {
      "cell_type": "code",
      "metadata": {
        "id": "2BBgXfUlpTl1"
      },
      "source": [
        "######### I am done ##########"
      ],
      "execution_count": null,
      "outputs": []
    }
  ]
}