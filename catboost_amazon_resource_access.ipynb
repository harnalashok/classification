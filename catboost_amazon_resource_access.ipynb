{
 "cells": [
  {
   "cell_type": "code",
   "execution_count": null,
   "metadata": {},
   "outputs": [],
   "source": [
    "## This notebook does not display any charts in Colab. Download it and run it in Jupyter notebook"
   ]
  },
  {
   "cell_type": "code",
   "execution_count": null,
   "metadata": {
    "id": "91QkiQJ3t-CG"
   },
   "outputs": [],
   "source": [
    "# Last amended: 29th May, 2022\n",
    "# Data Source: https://www.kaggle.com/c/amazon-employee-access-challenge\n",
    "# catboost Ref: \n",
    "#                1. https://github.com/catboost/tutorials/blob/master/python_tutorial_with_tasks.ipynb\n",
    "#                2. USeful examples: https://catboost.ai/en/docs/concepts/python-usages-examples\n",
    "#                3. Data visualization: https://catboost.ai/en/docs/features/visualization\n",
    "\n",
    "# Objective:\n",
    "#             a. Predict an employee's access needs, given his/her job role\n",
    "#             b. catboost learning visualization\n",
    "#             c. catboost crossvalidation\n",
    "#             d. catboost hyperparameter tuning\n",
    "#             e. catboost and SHAP integration. Explaining models\n",
    "#\n",
    "\"\"\"\n",
    "\n",
    "On Anaconda create a new environment 'catboost' as follows (one line code):\n",
    "\n",
    "   >conda create -n catboost python=3.7.13 scikit-learn pandas numpy ipython shap jupyter catboost matplotlib seaborn ipywidgets hyperopt -c anaconda -c conda-forge\n",
    "\n",
    "\n",
    "If required run the following command in 'catboost' environment.\n",
    "\n",
    "    >conda activate catboost\n",
    "    >ipython kernel install --name catboost --user\n",
    "\n",
    "\"\"\""
   ]
  },
  {
   "cell_type": "markdown",
   "metadata": {
    "id": "4QtByInvke3q"
   },
   "source": [
    "In this tutorial we will use dataset Amazon Employee Access Challenge from [Kaggle](https://www.kaggle.com) competition for our experiments. Data can be downloaded [here](https://www.kaggle.com/c/amazon-employee-access-challenge/data). But data is also available in catboost library. We will use the dataset available within catboost library. "
   ]
  },
  {
   "cell_type": "markdown",
   "metadata": {
    "id": "5Ms5BKVtke3s"
   },
   "source": [
    "## Libraries installation\n",
    "Ony needed in colab"
   ]
  },
  {
   "cell_type": "code",
   "execution_count": null,
   "metadata": {
    "id": "tWCmMurpke3u"
   },
   "outputs": [],
   "source": [
    "# -1.0  Not needed if software already installed\n",
    "#!pip install --user --upgrade catboost\n",
    "#!pip install --user --upgrade ipywidgets\n",
    "\n",
    "# SHAP (SHapley Additive exPlanations) is a game theoretic\n",
    "#  approach to explain the output of any machine learning model.\n",
    "# https://shap.readthedocs.io/en/latest/index.html\n",
    "#!pip install shap\n",
    "\n",
    "#!pip install sklearn\n",
    "#!pip install --upgrade numpy\n",
    "#!jupyter nbextension enable --py widgetsnbextension"
   ]
  },
  {
   "cell_type": "code",
   "execution_count": null,
   "metadata": {
    "colab": {
     "base_uri": "https://localhost:8080/"
    },
    "id": "EXEGtxknke3w",
    "outputId": "de3a1ff7-b9f9-4432-a101-cbf1396b1720"
   },
   "outputs": [],
   "source": [
    "# -1.1 Not needed\n",
    "#      Check catboost and python versions\n",
    "#      Restart runtime if import fails:\n",
    "\n",
    "#import catboost           # 1.0.6\n",
    "#print(catboost.__version__)\n",
    "#!python --version         # 3.7.13"
   ]
  },
  {
   "cell_type": "markdown",
   "metadata": {},
   "source": [
    "## Call libraries"
   ]
  },
  {
   "cell_type": "code",
   "execution_count": null,
   "metadata": {
    "id": "LdnPABjOwLVM"
   },
   "outputs": [],
   "source": [
    "# 1.0 Call libraries\n",
    "\n",
    "# 1.1 Data manipulation\n",
    "import pandas as pd\n",
    "import numpy as np\n",
    "\n",
    "# 1.2 Catboost related\n",
    "from catboost import *\n",
    "from catboost import CatBoostClassifier, Pool, metrics, cv\n",
    "from catboost import datasets\n",
    "\n",
    "# 1.2.1 For catboost results visualization\n",
    "from catboost import MetricVisualizer\n",
    "\n",
    "# 1.3 Bayesian optimization\n",
    "import hyperopt\n",
    "\n",
    "# 1.4\n",
    "import sklearn\n",
    "from sklearn.model_selection import train_test_split\n",
    "\n",
    "# 1.5 Plotting, in general\n",
    "import matplotlib.pyplot as plt\n",
    "import os, time ,gc"
   ]
  },
  {
   "cell_type": "code",
   "execution_count": null,
   "metadata": {},
   "outputs": [],
   "source": [
    "# 1.6 Numpy output be printed to\n",
    "#      how many decimal points:\n",
    "\n",
    "np.set_printoptions(precision=4)"
   ]
  },
  {
   "cell_type": "code",
   "execution_count": null,
   "metadata": {
    "id": "Qv6ft2sHwaes"
   },
   "outputs": [],
   "source": [
    "# 1.7 Display multiple command outputs from a cell:\n",
    "\n",
    "from IPython.core.interactiveshell import InteractiveShell\n",
    "InteractiveShell.ast_node_interactivity = \"all\""
   ]
  },
  {
   "cell_type": "code",
   "execution_count": null,
   "metadata": {},
   "outputs": [],
   "source": [
    "# 1.8 Set path to dataset\n",
    "\n",
    "path = \"D:\\\\data\\\\OneDrive\\\\Documents\\\\Amazon.com-Employee_Access_ Challenge\"\n",
    "os.chdir(path)\n",
    "os.listdir()"
   ]
  },
  {
   "cell_type": "markdown",
   "metadata": {
    "id": "MOj5Zbqtke3x"
   },
   "source": [
    "## Reading the data"
   ]
  },
  {
   "cell_type": "code",
   "execution_count": null,
   "metadata": {
    "id": "330YvZW8ke3y"
   },
   "outputs": [],
   "source": [
    "# 2.0 Load train/test data from catboost package:\n",
    "#     Machine must be connected to Internet to download the dataset\n",
    "\n",
    "#(train_df,test_df) =  catboost.datasets.amazon()\n",
    "\n",
    "# 2.0.1 Read from disk\n",
    "train_df = pd.read_csv(\"train.csv\")\n",
    "test_df = pd.read_csv(\"test.csv\")"
   ]
  },
  {
   "cell_type": "code",
   "execution_count": null,
   "metadata": {
    "colab": {
     "base_uri": "https://localhost:8080/",
     "height": 484
    },
    "id": "gNU-q5ZRke3z",
    "outputId": "f44e5aa2-6669-4605-ab0a-f36d9debb235"
   },
   "outputs": [],
   "source": [
    "# 2.1 Very brief exploration:\n",
    "\n",
    "print(\"\\n===dtypes===\")\n",
    "train_df.dtypes\n",
    "print(\"\\n===Shape ===\")\n",
    "train_df.shape\n",
    "print(\"\\n======\")\n",
    "train_df.head()"
   ]
  },
  {
   "cell_type": "code",
   "execution_count": null,
   "metadata": {
    "colab": {
     "base_uri": "https://localhost:8080/"
    },
    "id": "g6X1zy93xD9m",
    "outputId": "07555e92-bdd3-41b7-a0fa-c3208afb0da6"
   },
   "outputs": [],
   "source": [
    "# 2.2 Get unique values in each feature:\n",
    "\n",
    "for i in train_df.columns:\n",
    "    print(i, train_df[i].nunique())"
   ]
  },
  {
   "cell_type": "markdown",
   "metadata": {
    "id": "oblp3T9Kke30"
   },
   "source": [
    "## Preparing your data"
   ]
  },
  {
   "cell_type": "markdown",
   "metadata": {
    "id": "H7xp_puYy0vh"
   },
   "source": [
    "### Transform all columns to category:"
   ]
  },
  {
   "cell_type": "code",
   "execution_count": null,
   "metadata": {
    "id": "4Zdj5kHuy0vl"
   },
   "outputs": [],
   "source": [
    "# 2.3 Shrink memory usage:\n",
    "\n",
    "print(\"\\n==Memory usage in mb==\")\n",
    "train_df.memory_usage().sum()/1000000   # 2.621648\n",
    "\n",
    "print(\"\\n\")\n",
    "\n",
    "# 2.3.1 To 'category'\n",
    "for i in train_df.columns:\n",
    "  train_df[i] = train_df[i].astype('category')\n",
    "\n",
    "# 2.3.2\n",
    "print(\"\\n==Memory usage after transformation==\")\n",
    "train_df.memory_usage().sum()/1000000   # 1.221142"
   ]
  },
  {
   "cell_type": "markdown",
   "metadata": {
    "id": "vA8gKAKUke31"
   },
   "source": [
    "Extract X and y"
   ]
  },
  {
   "cell_type": "code",
   "execution_count": null,
   "metadata": {
    "id": "0xpQGCR5ke32"
   },
   "outputs": [],
   "source": [
    "# 2.4 X and y:\n",
    "\n",
    "y = train_df[\"ACTION\"]\n",
    "X = train_df.drop('ACTION', axis=1)"
   ]
  },
  {
   "cell_type": "markdown",
   "metadata": {
    "id": "Fbwyq2Exke32"
   },
   "source": [
    "Categorical features declaration"
   ]
  },
  {
   "cell_type": "code",
   "execution_count": null,
   "metadata": {
    "colab": {
     "base_uri": "https://localhost:8080/"
    },
    "id": "Ch34a1Vbke33",
    "outputId": "7c0de983-c674-42ab-c46e-936c62a1cebe"
   },
   "outputs": [],
   "source": [
    "# 2.5 Get column indicies of all categorical features\n",
    "\n",
    "cat_features = list(range(X.shape[1]))\n",
    "cat_features"
   ]
  },
  {
   "cell_type": "markdown",
   "metadata": {
    "id": "CsTs1ieuke34"
   },
   "source": [
    "Is our data balanced?"
   ]
  },
  {
   "cell_type": "code",
   "execution_count": null,
   "metadata": {},
   "outputs": [],
   "source": [
    "# 2.6 Not much\n",
    "\n",
    "y.value_counts()\n",
    "y.value_counts(normalize = True)"
   ]
  },
  {
   "cell_type": "markdown",
   "metadata": {
    "id": "N5jsS3Umke35"
   },
   "source": [
    "### What is a Pool class:\n",
    "See [here](https://stackoverflow.com/a/68238224/3282777)\n",
    "\n",
    "Catboost only works with <i>Pools</i>, which is internal data format. If you pass numpy array to it, it will implicitly convert it to Pool first, without telling you. If you need to apply many formulas to one dataset, using Pool drastically increases performance (like 10x), because you'll omit converting step each time."
   ]
  },
  {
   "cell_type": "code",
   "execution_count": null,
   "metadata": {},
   "outputs": [],
   "source": [
    "# 3.0\n",
    "\n",
    "# 3.1 Pool will be created and saved in this folder\n",
    "dataset_dir = './amazon'\n",
    "if not os.path.exists(dataset_dir):\n",
    "    os.makedirs(dataset_dir)\n",
    "\n",
    "# 3.2 Save your dataset now in csv format\n",
    "train_df.to_csv(\n",
    "    os.path.join(dataset_dir, 'train.csv'),\n",
    "    index=False, sep=',', header=True\n",
    ")\n",
    "\n",
    "# 3.3 Save test dataset in csv format:\n",
    "test_df.to_csv(\n",
    "    os.path.join(dataset_dir, 'test.csv'),\n",
    "    index=False, sep=',', header=True\n",
    ")\n",
    "\n",
    "\n",
    "# 3.4 Save also both train/test files to 'tsv' format:\n",
    "\n",
    "train_df.to_csv(\n",
    "    os.path.join(dataset_dir, 'train.tsv'),\n",
    "    index=False, sep='\\t', header=False\n",
    ")\n",
    "\n",
    "\n",
    "# 3.5\n",
    "test_df.to_csv(\n",
    "    os.path.join(dataset_dir, 'test.tsv'),\n",
    "    index=False, sep='\\t', header=False\n",
    ")\n"
   ]
  },
  {
   "cell_type": "code",
   "execution_count": null,
   "metadata": {},
   "outputs": [],
   "source": [
    "# 3.6 Understanding code that follows:\n",
    "\n",
    "# 3.6.1\n",
    "list(range(1, len(train_df.columns)))    # [1,2,3,4,5,6,7,8,9]\n",
    "\n",
    "# 3.6.2\n",
    "list(enumerate(train_df.columns[1:]))    # Gives a tuple [(0, 'RESOURCE'),(1, 'MGR_ID'),(2, 'ROLE_ROLLUP_1')...\n",
    "# Convert the above list to dict\n",
    "dict(list(enumerate(train_df.columns[1:]))) # {0: 'RESOURCE',1: 'MGR_ID', 2: 'ROLE_ROLLUP_1',\n",
    "\n",
    "# 3.6.3\n",
    "feature_names = dict(list(enumerate(train_df.columns[1:])))\n",
    "feature_names       #  {0: 'RESOURCE',1: 'MGR_ID', 2: 'ROLE_ROLLUP_1',"
   ]
  },
  {
   "cell_type": "code",
   "execution_count": null,
   "metadata": {},
   "outputs": [],
   "source": [
    "# 3.7 Generate a columns description file (cd) with the given structure.\n",
    "#     https://catboost.ai/en/docs/concepts/python-reference_utils_create_cd\n",
    "\n",
    "from catboost.utils import create_cd\n",
    "\n",
    "# 3.7.1\n",
    "create_cd(\n",
    "         label = 0,                    # What is the index of target column\n",
    "         cat_features=list(range(1, len(train_df.columns))),  # Index of other cat columns: [1, 2, 3, 4, 5, 6, 7, 8, 9]\n",
    "         feature_names= feature_names,        # A dictionary with the list of column indices \n",
    "                                              #   and the corresponding feature names\n",
    "         output_path=os.path.join(dataset_dir, 'train.cd')  # Store the information here\n",
    "         )"
   ]
  },
  {
   "cell_type": "code",
   "execution_count": null,
   "metadata": {
    "colab": {
     "base_uri": "https://localhost:8080/"
    },
    "id": "5cQVgn8Lke36",
    "outputId": "854cfa76-f002-442d-8378-9dddda7311fb"
   },
   "outputs": [],
   "source": [
    "# 3.8 Just look at your saved data:\n",
    "#     A complex powershell command:\n",
    "\n",
    "print(\"\\n\\n==train.csv==\\n\")\n",
    "!powershell -command \"& {Get-Content amazon\\train.csv -TotalCount 5}\"\n",
    "\n",
    "print(\"\\n\\n==train.tsv==\\n\")\n",
    "!powershell -command \"& {Get-Content amazon\\train.tsv -TotalCount 5}\"\n"
   ]
  },
  {
   "cell_type": "code",
   "execution_count": null,
   "metadata": {},
   "outputs": [],
   "source": [
    "# 3.9 Your column descriptor file\n",
    "\n",
    "!more  amazon\\\\train.cd"
   ]
  },
  {
   "cell_type": "code",
   "execution_count": null,
   "metadata": {},
   "outputs": [],
   "source": [
    "help(Pool)\n",
    "\n",
    "\"\"\"\n",
    "Pool(  data, label=None, \n",
    "       cat_features=None,\n",
    "       text_features=None, embedding_features=None,\n",
    "       column_description=None, pairs=None, delimiter='\\t',\n",
    "       has_header=False, ignore_csv_quoting=False, weight=None,\n",
    "       group_id=None, group_weight=None, subgroup_id=None,\n",
    "       pairs_weight=None, baseline=None, feature_names=None, \n",
    "       thread_count=-1, log_cout=<ipykernel.iostream.OutStream object at 0x0\n",
    "       )\n",
    "\"\"\""
   ]
  },
  {
   "cell_type": "code",
   "execution_count": null,
   "metadata": {
    "colab": {
     "base_uri": "https://localhost:8080/"
    },
    "id": "lkl8zFEKke38",
    "outputId": "9b5aa925-bc86-47b6-97d7-f315ecfa1011"
   },
   "outputs": [],
   "source": [
    "# 4.0 What is a Pool in catboost? \n",
    "#     https://catboost.ai/en/docs/concepts/python-reference_pool\n",
    "#     See StackOverflow here: https://stackoverflow.com/a/65852092/3282777\n",
    "#     Pool used in CatBoost as a data structure to train model from.\n",
    "\n",
    "# 4.1 One way to define pool\n",
    "pool1 = Pool(\n",
    "             data=X, label=y,              # Has both X,y\n",
    "             cat_features=cat_features     # [0, 1, 2, 3, 4, 5, 6, 7, 8]\n",
    "             )\n",
    "\n",
    "\n",
    "# 4.2 More parameters in pool. Has just train data and column description\n",
    "pool2 = Pool(\n",
    "                data=os.path.join(dataset_dir, 'train.csv'), \n",
    "                delimiter=',', \n",
    "                column_description=os.path.join(dataset_dir, 'train.cd'),\n",
    "                has_header=True\n",
    ")\n",
    "\n",
    "\n",
    "# 4.2 Another way to define pool\n",
    "pool3 = Pool(data=X, \n",
    "             cat_features=cat_features\n",
    "            )\n",
    "\n",
    "\n",
    "print('Dataset shape')\n",
    "print('dataset 1:' + str(pool1.shape) +\n",
    "      '\\ndataset 2:' + str(pool2.shape) + \n",
    "      '\\ndataset 3:' + str(pool3.shape)) \n",
    "\n",
    "    \n",
    "\n",
    "print('\\n')\n",
    "print('Column names')\n",
    "print('dataset 1:')\n",
    "print(pool1.get_feature_names()) \n",
    "print('\\ndataset 2:')\n",
    "print(pool2.get_feature_names())\n",
    "print('\\ndataset 3:')\n",
    "print(pool3.get_feature_names())\n"
   ]
  },
  {
   "cell_type": "markdown",
   "metadata": {
    "id": "TTmMSxo4ke39"
   },
   "source": [
    "## Split your data into train and validation"
   ]
  },
  {
   "cell_type": "code",
   "execution_count": null,
   "metadata": {
    "id": "1Ppu-kjDke3-"
   },
   "outputs": [],
   "source": [
    "# 5.0\n",
    "\n",
    "X_train, X_validation, y_train, y_validation = train_test_split(X,\n",
    "                                                                y,\n",
    "                                                                train_size=0.8,\n",
    "                                                                random_state=1234\n",
    "                                                               )"
   ]
  },
  {
   "cell_type": "markdown",
   "metadata": {
    "id": "XGAESFOrke3_"
   },
   "source": [
    "#### Selecting the objective function"
   ]
  },
  {
   "cell_type": "markdown",
   "metadata": {
    "id": "VlBrk4H8ke4A"
   },
   "source": [
    "The default optimized objective depends on various conditions:\n",
    "\n",
    "    Logloss — The target has only two different values \n",
    "    MultiClass — The target has more than two different values \n",
    "    "
   ]
  },
  {
   "cell_type": "markdown",
   "metadata": {
    "id": "kz_pIsNFke4B"
   },
   "source": [
    "## Train the model"
   ]
  },
  {
   "cell_type": "code",
   "execution_count": null,
   "metadata": {
    "colab": {
     "base_uri": "https://localhost:8080/"
    },
    "id": "nWoRhqoJke4B",
    "outputId": "f3704d69-65cf-4754-b4d3-4c84480d2a5a",
    "scrolled": false
   },
   "outputs": [],
   "source": [
    "# 5.1 Instantiate the model:\n",
    "#     https://catboost.ai/en/docs/concepts/python-reference_catboostclassifier\n",
    "\n",
    "model = CatBoostClassifier(\n",
    "                            iterations=50,\n",
    "                            loss_function='Logloss',  # Options are: \n",
    "                                                      # Logloss, CrossEntropy, MultiClass, MultiClassOneVsAll\n",
    "                            verbose=5,\n",
    "                            )\n",
    "\n",
    "\n",
    "# 5.2 Train the model:\n",
    "#     https://catboost.ai/en/docs/concepts/python-reference_catboostclassifier_fit\n",
    "\n",
    "model.fit(\n",
    "            X_train, y_train,\n",
    "            cat_features=cat_features,\n",
    "            eval_set=(X_validation, y_validation),  # Evaluate and print LogLoss\n",
    "         )"
   ]
  },
  {
   "cell_type": "markdown",
   "metadata": {
    "id": "_qwBh0DQke4C"
   },
   "source": [
    "## Metrics calculation and graph plotting"
   ]
  },
  {
   "cell_type": "code",
   "execution_count": null,
   "metadata": {
    "colab": {
     "base_uri": "https://localhost:8080/",
     "height": 34,
     "referenced_widgets": [
      "6c1fbb0efa9e4bb7a0fac7e632336d64"
     ]
    },
    "id": "5qt6aKCfke4C",
    "outputId": "db22753e-2793-4ca2-8797-1104dc0c7c97"
   },
   "outputs": [],
   "source": [
    "# 6.0 Fitting as also \n",
    "#     https://catboost.ai/en/docs/concepts/python-reference_catboostclassifier\n",
    "\n",
    "model = CatBoostClassifier(\n",
    "    iterations=50,\n",
    "    random_seed=63,\n",
    "    learning_rate=0.5,\n",
    "    custom_loss=['AUC', 'Accuracy']\n",
    ")\n",
    "\n",
    "\n",
    "# 6.1\n",
    "#  https://catboost.ai/en/docs/concepts/python-reference_catboostclassifier_fit\n",
    "\n",
    "model.fit(\n",
    "    X_train, y_train,\n",
    "    cat_features=cat_features,\n",
    "    eval_set=(X_validation, y_validation),\n",
    "    verbose=False,\n",
    "    plot=True\n",
    ")"
   ]
  },
  {
   "cell_type": "markdown",
   "metadata": {
    "id": "rH-APevpke4D"
   },
   "source": [
    "## Model comparison"
   ]
  },
  {
   "cell_type": "code",
   "execution_count": null,
   "metadata": {
    "colab": {
     "base_uri": "https://localhost:8080/"
    },
    "id": "qzhEtu7mke4D",
    "outputId": "02b5b681-46ec-4a87-d85b-3433ecbd604c"
   },
   "outputs": [],
   "source": [
    "# 7.0 Compare model in one graph\n",
    "#     First store necessary data in files:\n",
    "#     All data is getting stored in files.\n",
    "#     Nothing is displayed (stdout)\n",
    "\n",
    "# 7.1 Define Ist model:\n",
    "\n",
    "##======== Defining====\n",
    "model1 = CatBoostClassifier(\n",
    "    learning_rate=0.7,\n",
    "    iterations=100,\n",
    "    random_seed=0,\n",
    "    train_dir='learing_rate_0.7'   # A folder is created in current dir\n",
    ")\n",
    "\n",
    "# 7.2 Define IInd model\n",
    "model2 = CatBoostClassifier(\n",
    "    learning_rate=0.01,\n",
    "    iterations=100,\n",
    "    random_seed=0,\n",
    "    train_dir='learing_rate_0.01' # Another folder created in current directory\n",
    ")\n",
    "\n",
    "#=======Fitting ==========\n",
    "\n",
    "# 7.3 Fit Ist model:\n",
    "model1.fit(\n",
    "    X_train, y_train,\n",
    "    eval_set=(X_validation, y_validation),\n",
    "    cat_features=cat_features,\n",
    "    verbose=False\n",
    ")\n",
    "\n",
    "\n",
    "# 7.4 Fit IInd model\n",
    "model2.fit(\n",
    "    X_train, y_train,\n",
    "    eval_set=(X_validation, y_validation),\n",
    "    cat_features=cat_features,\n",
    "    verbose=False\n",
    ")"
   ]
  },
  {
   "cell_type": "code",
   "execution_count": null,
   "metadata": {},
   "outputs": [],
   "source": [
    "# 7.5 Some useful results\n",
    "#     https://catboost.ai/en/docs/concepts/python-reference_catboostclassifier#attributes\n",
    "\n",
    "model.best_score_\n",
    "model.best_iteration_\n",
    "model.tree_count_    # How many trees were constructed"
   ]
  },
  {
   "cell_type": "code",
   "execution_count": null,
   "metadata": {
    "colab": {
     "base_uri": "https://localhost:8080/",
     "height": 17,
     "referenced_widgets": [
      "2ac5cf9b41234e45a5b687a6702ea105"
     ]
    },
    "id": "APMKcb_Tke4E",
    "outputId": "95203848-98b0-4899-c423-bc1a83208387"
   },
   "outputs": [],
   "source": [
    "# 7.5 Read data from directories listed in the list:\n",
    "\n",
    "MetricVisualizer(['learing_rate_0.01',   # Ist  folder\n",
    "                  'learing_rate_0.7']    # IInd folder\n",
    "                ).start()"
   ]
  },
  {
   "cell_type": "markdown",
   "metadata": {
    "id": "fB5GjxL5ke4F"
   },
   "source": [
    "## Cross-validation\n",
    "Refer [here](https://catboost.ai/en/docs/features/cross-validation) and [here](https://catboost.ai/en/docs/concepts/python-reference_cv)"
   ]
  },
  {
   "cell_type": "markdown",
   "metadata": {},
   "source": [
    "Training can be launched in cross-validation mode. In this case, only the training dataset is required. This dataset is split, and the resulting folds are used as the learning and evaluation datasets. If the input dataset contains the GroupId column, all objects from one group are added to the same fold.\n",
    "\n",
    "Each cross-validation run from the command-line interface launches one training out of N trainings in N-fold cross-validation. Use the cv function of the Python package instead of the command-line version. It returns aggregated results out-of-the-box."
   ]
  },
  {
   "cell_type": "markdown",
   "metadata": {},
   "source": [
    "Description\n",
    "\n",
    "Plot the following information during training:\n",
    "\n",
    "    the metric values per fold;\n",
    "    the custom loss values, if any;\n",
    "    the loss function change during feature selection;\n",
    "    the time has passed since training started;\n",
    "    the remaining time until the end of training.\n",
    "    This option can be used if training is performed in Jupyter notebook.\n"
   ]
  },
  {
   "cell_type": "code",
   "execution_count": null,
   "metadata": {
    "colab": {
     "base_uri": "https://localhost:8080/",
     "height": 451,
     "referenced_widgets": [
      "24e68147c19a47959dcd5bbded15abea"
     ]
    },
    "id": "T89f9PJ3ke4G",
    "outputId": "8129f4f4-1802-420b-fad5-9f53e619e401"
   },
   "outputs": [],
   "source": [
    "# 8.0\n",
    "# Specify the parameters explicitly:\n",
    "params = {}\n",
    "params['loss_function'] = 'Logloss'\n",
    "params['iterations'] = 80\n",
    "params['custom_loss'] = 'AUC'\n",
    "params['random_seed'] = 63\n",
    "params['learning_rate'] = 0.5\n",
    "\n",
    "# 8.1 Perform cross-validation\n",
    "cv_data = cv(\n",
    "    params = params,    # What parameters?\n",
    "    pool = Pool(X, label=y, cat_features=cat_features),  # Works only with Pool dataset and not with numpy arrays\n",
    "    fold_count=5,\n",
    "    shuffle=True,\n",
    "    partition_random_seed=0,\n",
    "    type = 'Classical',\n",
    "    plot=True,\n",
    "    stratified=False,\n",
    "    verbose=False\n",
    ")"
   ]
  },
  {
   "cell_type": "code",
   "execution_count": null,
   "metadata": {
    "colab": {
     "base_uri": "https://localhost:8080/",
     "height": 206
    },
    "id": "cQtuwRbpke4G",
    "outputId": "978c72db-2f71-48d6-efa9-745db8e524f4"
   },
   "outputs": [],
   "source": [
    "# 8.2 See Ist five rows of result:\n",
    "cv_data.head()"
   ]
  },
  {
   "cell_type": "code",
   "execution_count": null,
   "metadata": {
    "colab": {
     "base_uri": "https://localhost:8080/"
    },
    "id": "b7-rsOtKke4G",
    "outputId": "060473b5-db4c-4f43-f33a-696b2051ed85"
   },
   "outputs": [],
   "source": [
    "# 8.3 Best values\n",
    "best_value = np.min(cv_data['test-Logloss-mean'])\n",
    "best_iter  = np.argmin(cv_data['test-Logloss-mean'])\n",
    "stdDev = cv_data['test-Logloss-std'][best_iter]\n",
    "\n",
    "\n",
    "print(best_value)\n",
    "print(best_iter)\n",
    "print(stdDev)\n",
    "\n"
   ]
  },
  {
   "cell_type": "markdown",
   "metadata": {},
   "source": [
    "Type of Cross-validation:<br>\n",
    "[Possible values](https://catboost.ai/en/docs/concepts/python-reference_cv#type):\n",
    "\n",
    "    Classical — The dataset is split into fold_count folds, fold_count trainings are performed. Each test set consists of a single fold, and the corresponding train set consists of the remaining k–1 folds.\n",
    "\n",
    "    Inverted — The dataset is split into fold_count folds, fold_count trainings are performed. Each test set consists of the first k–1 folds, and the corresponding train set consists of the remaining fold.\n",
    "\n",
    "    TimeSeries — The dataset is split into (fold_count + 1) consecutive parts without shuffling the data, fold_count trainings are performed. The k-th train set consists of the first k folds, and the corresponding test set consists of the (k+1)-th fold.\n",
    "    \n",
    "Default is Classical    \n"
   ]
  },
  {
   "cell_type": "markdown",
   "metadata": {
    "id": "3ki3CdzRke4H"
   },
   "source": [
    "## Overfitting detector\n",
    "Use early_stopping_rounds"
   ]
  },
  {
   "cell_type": "code",
   "execution_count": null,
   "metadata": {
    "colab": {
     "base_uri": "https://localhost:8080/",
     "height": 34,
     "referenced_widgets": [
      "27c0fc5b90674a6db6830cce1590b616"
     ]
    },
    "id": "5FlRs9Ggke4H",
    "outputId": "4b736e88-566c-43a0-c30b-eadeb00899d4"
   },
   "outputs": [],
   "source": [
    "# 9.0\n",
    "model_with_early_stop = CatBoostClassifier(\n",
    "    iterations=200,\n",
    "    random_seed=63,\n",
    "    learning_rate=0.5,\n",
    "    early_stopping_rounds=20\n",
    ")\n",
    "\n",
    "# 9.1\n",
    "model_with_early_stop.fit(\n",
    "    X_train, y_train,\n",
    "    cat_features=cat_features,\n",
    "    eval_set=(X_validation, y_validation),\n",
    "    verbose=False,\n",
    "    plot=True\n",
    ")"
   ]
  },
  {
   "cell_type": "code",
   "execution_count": null,
   "metadata": {
    "colab": {
     "base_uri": "https://localhost:8080/"
    },
    "id": "b6zaZeMAke4I",
    "outputId": "76aaeb27-3f9c-4b5a-8970-5bce8420b901"
   },
   "outputs": [],
   "source": [
    "# 9.2 How many trees were constructed?\n",
    "print(model_with_early_stop.tree_count_)"
   ]
  },
  {
   "cell_type": "code",
   "execution_count": null,
   "metadata": {
    "colab": {
     "base_uri": "https://localhost:8080/",
     "height": 34,
     "referenced_widgets": [
      "8fdfec33b84a4a48922e0ddbb9d9c37b"
     ]
    },
    "id": "HpBtXO1Yke4I",
    "outputId": "cf0567c9-4e3d-44af-f934-66495f933988"
   },
   "outputs": [],
   "source": [
    "# 10.0 Change eval\n",
    "model_with_early_stop = CatBoostClassifier(\n",
    "    eval_metric='AUC',    # Calculate the specified metrics for the specified dataset\n",
    "                          # List of supported metrics is here:\n",
    "                          # https://catboost.ai/en/docs/references/custom-metric__supported-metrics\n",
    "    iterations=200,\n",
    "    random_seed=63,\n",
    "    learning_rate=0.5,\n",
    "    early_stopping_rounds=20\n",
    ")\n",
    "\n",
    "# 10.1\n",
    "model_with_early_stop.fit(\n",
    "    X_train, y_train,\n",
    "    cat_features=cat_features,\n",
    "    eval_set=(X_validation, y_validation),\n",
    "    verbose=True,\n",
    "    #plot=True\n",
    ")"
   ]
  },
  {
   "cell_type": "code",
   "execution_count": null,
   "metadata": {
    "colab": {
     "base_uri": "https://localhost:8080/"
    },
    "id": "uqJH8McWke4I",
    "outputId": "db2cf88a-1564-46fa-fdf9-8119c70ad787"
   },
   "outputs": [],
   "source": [
    "# 10.2 How many trees?\n",
    "print(model_with_early_stop.tree_count_)"
   ]
  },
  {
   "cell_type": "markdown",
   "metadata": {
    "id": "zeGtCH8_ke4K"
   },
   "source": [
    "![](https://habrastorage.org/webt/y4/1q/yq/y41qyqfm9mcerp2ziys48phpjia.png)"
   ]
  },
  {
   "cell_type": "code",
   "execution_count": null,
   "metadata": {
    "id": "lNgVkE5hke4K"
   },
   "outputs": [],
   "source": [
    "# 11.0 ROC curve\n",
    "from catboost.utils import get_roc_curve\n",
    "eval_pool = Pool(X_validation, y_validation, cat_features=cat_features)\n",
    "curve = get_roc_curve(model, eval_pool)\n",
    "(fpr, tpr, thresholds) = curve\n",
    "roc_auc = sklearn.metrics.auc(fpr, tpr)"
   ]
  },
  {
   "cell_type": "code",
   "execution_count": null,
   "metadata": {
    "colab": {
     "base_uri": "https://localhost:8080/",
     "height": 528
    },
    "id": "i2XpLYS8ke4K",
    "outputId": "44606b41-e005-4f7f-bcac-4fcdce4bda39"
   },
   "outputs": [],
   "source": [
    "# 11.1 \n",
    "\n",
    "import matplotlib.pyplot as plt\n",
    "\n",
    "plt.figure(figsize=(16, 8))\n",
    "lw = 2\n",
    "\n",
    "plt.plot(fpr, tpr, color='darkorange',\n",
    "         lw=lw, label='ROC curve (area = %0.2f)' % roc_auc, alpha=0.5)\n",
    "\n",
    "plt.plot([0, 1], [0, 1], color='navy', lw=lw, linestyle='--', alpha=0.5)\n",
    "\n",
    "plt.xlim([0.0, 1.0])\n",
    "plt.ylim([0.0, 1.05])\n",
    "plt.xticks(fontsize=16)\n",
    "plt.yticks(fontsize=16)\n",
    "plt.grid(True)\n",
    "plt.xlabel('False Positive Rate', fontsize=16)\n",
    "plt.ylabel('True Positive Rate', fontsize=16)\n",
    "plt.title('Receiver operating characteristic', fontsize=20)\n",
    "plt.legend(loc=\"lower right\", fontsize=16)\n",
    "plt.show()"
   ]
  },
  {
   "cell_type": "code",
   "execution_count": null,
   "metadata": {
    "id": "s1NNr-wQke4L"
   },
   "outputs": [],
   "source": [
    "# 12.0\n",
    "from catboost.utils import get_fpr_curve\n",
    "from catboost.utils import get_fnr_curve\n",
    "(thresholds, fpr) = get_fpr_curve(curve=curve)\n",
    "(thresholds, fnr) = get_fnr_curve(curve=curve)"
   ]
  },
  {
   "cell_type": "code",
   "execution_count": null,
   "metadata": {
    "colab": {
     "base_uri": "https://localhost:8080/",
     "height": 528
    },
    "id": "2g0Ehbnike4L",
    "outputId": "a95b4a9f-f66e-41d8-cb8a-1542c91107f9",
    "scrolled": false
   },
   "outputs": [],
   "source": [
    "# 12.1\n",
    "plt.figure(figsize=(16, 8))\n",
    "lw = 2\n",
    "\n",
    "plt.plot(thresholds, fpr, color='blue', lw=lw, label='FPR', alpha=0.5)\n",
    "plt.plot(thresholds, fnr, color='green', lw=lw, label='FNR', alpha=0.5)\n",
    "\n",
    "plt.xlim([0.0, 1.0])\n",
    "plt.ylim([0.0, 1.05])\n",
    "plt.xticks(fontsize=16)\n",
    "plt.yticks(fontsize=16)\n",
    "plt.grid(True)\n",
    "plt.xlabel('Threshold', fontsize=16)\n",
    "plt.ylabel('Error Rate', fontsize=16)\n",
    "plt.title('FPR-FNR curves', fontsize=20)\n",
    "plt.legend(loc=\"lower left\", fontsize=16)\n",
    "plt.show()"
   ]
  },
  {
   "cell_type": "code",
   "execution_count": null,
   "metadata": {
    "colab": {
     "base_uri": "https://localhost:8080/"
    },
    "id": "F66Zbwwbke4M",
    "outputId": "9024729c-f00e-42c9-975a-a9da008870ea"
   },
   "outputs": [],
   "source": [
    "# 13.0\n",
    "from catboost.utils import select_threshold\n",
    "\n",
    "print(select_threshold(model=model, data=eval_pool, FNR=0.01))\n",
    "print(select_threshold(model=model, data=eval_pool, FPR=0.01))"
   ]
  },
  {
   "cell_type": "markdown",
   "metadata": {
    "id": "fUvkwFdQke4N"
   },
   "source": [
    "## Model predictions"
   ]
  },
  {
   "cell_type": "code",
   "execution_count": null,
   "metadata": {
    "colab": {
     "base_uri": "https://localhost:8080/"
    },
    "id": "I8JBt-Sake4N",
    "outputId": "df05938b-72d6-499b-81ca-78946b8e232e"
   },
   "outputs": [],
   "source": [
    "# 14.0 Make predictions:\n",
    "\n",
    "print(model.predict_proba(X=X_validation))"
   ]
  },
  {
   "cell_type": "code",
   "execution_count": null,
   "metadata": {
    "colab": {
     "base_uri": "https://localhost:8080/"
    },
    "id": "tCXjk-Hnke4O",
    "outputId": "1114f807-0eaf-41ca-bc9d-66f42551a078"
   },
   "outputs": [],
   "source": [
    "# 14.1\n",
    "print(model.predict(data=X_validation))"
   ]
  },
  {
   "cell_type": "markdown",
   "metadata": {
    "id": "SLwuEd1Bke4T"
   },
   "source": [
    "## Metric evaluation on a new dataset"
   ]
  },
  {
   "cell_type": "code",
   "execution_count": null,
   "metadata": {
    "colab": {
     "base_uri": "https://localhost:8080/"
    },
    "id": "7-7Asx26ke4T",
    "outputId": "bad87c16-b207-4f63-da70-06f29300d6c0"
   },
   "outputs": [],
   "source": [
    "# 15.0\n",
    "model = CatBoostClassifier(\n",
    "    random_seed=63,\n",
    "    iterations=200,\n",
    "    learning_rate=0.03,\n",
    ")\n",
    "\n",
    "\n",
    "model.fit(\n",
    "    X_train, y_train,\n",
    "    cat_features=cat_features,\n",
    "    verbose=50\n",
    ")"
   ]
  },
  {
   "cell_type": "code",
   "execution_count": null,
   "metadata": {
    "colab": {
     "base_uri": "https://localhost:8080/",
     "height": 17,
     "referenced_widgets": [
      "afd560dfd6074ff287d3ea082ddfd20e"
     ]
    },
    "id": "iYduLuXgke4U",
    "outputId": "d676f2ae-e8fa-4100-ce52-e05af36ac460"
   },
   "outputs": [],
   "source": [
    "# 15.1\n",
    "metrics = model.eval_metrics(\n",
    "    data=pool1,\n",
    "    metrics=['Logloss','AUC'],\n",
    "    ntree_start=0,\n",
    "    ntree_end=0,\n",
    "    eval_period=1,\n",
    "    plot=True\n",
    ")"
   ]
  },
  {
   "cell_type": "code",
   "execution_count": null,
   "metadata": {
    "colab": {
     "base_uri": "https://localhost:8080/"
    },
    "id": "bayIJ0UZke4U",
    "outputId": "abea2c8e-6ad0-47be-c270-337c72b01722"
   },
   "outputs": [],
   "source": [
    "# 15.2\n",
    "print('AUC values:')\n",
    "print(np.array(metrics['AUC']))"
   ]
  },
  {
   "cell_type": "markdown",
   "metadata": {
    "id": "MTgF_Fvwke4a"
   },
   "source": [
    "\n",
    "## Feature importances"
   ]
  },
  {
   "cell_type": "code",
   "execution_count": null,
   "metadata": {
    "colab": {
     "base_uri": "https://localhost:8080/",
     "height": 332
    },
    "id": "QY3yy3n7ke4b",
    "outputId": "abf24509-0232-4f96-d6d4-67eeab869168"
   },
   "outputs": [],
   "source": [
    "# 15.3 Feature importances are in decreasing order\n",
    "model.get_feature_importance(prettified=True)"
   ]
  },
  {
   "cell_type": "markdown",
   "metadata": {
    "id": "VmlKHugzke4c"
   },
   "source": [
    "## Shap values\n",
    "Get feature importance observation by observation"
   ]
  },
  {
   "cell_type": "code",
   "execution_count": null,
   "metadata": {},
   "outputs": [],
   "source": [
    "# 16.0 Get feature importance \n",
    "shap_values = model.get_feature_importance(pool1, type='ShapValues')\n",
    "shap_values.shape  # (32769, 10)"
   ]
  },
  {
   "cell_type": "code",
   "execution_count": null,
   "metadata": {},
   "outputs": [],
   "source": [
    "# 16.1 For the Ist two-observations impt of respective features.\n",
    "#      The last number is the overall score. It indicates how strongly\n",
    "#      +ve or -ve class is (sort of probability):\n",
    "\n",
    "shap_values[:2,:]"
   ]
  },
  {
   "cell_type": "code",
   "execution_count": null,
   "metadata": {},
   "outputs": [],
   "source": [
    "# 16.2 The last dimension: \n",
    "expected_value = shap_values[0,-1]\n",
    "expected_value"
   ]
  },
  {
   "cell_type": "code",
   "execution_count": null,
   "metadata": {},
   "outputs": [],
   "source": [
    "# 16.3 Get all but the last dimension:\n",
    "shap_values = shap_values[:,:-1]"
   ]
  },
  {
   "cell_type": "code",
   "execution_count": null,
   "metadata": {},
   "outputs": [],
   "source": [
    "# 16.4\n",
    "shap_values.shape\n",
    "shap_values"
   ]
  },
  {
   "cell_type": "code",
   "execution_count": null,
   "metadata": {
    "colab": {
     "base_uri": "https://localhost:8080/",
     "height": 193
    },
    "id": "XxlPXhYgke4c",
    "outputId": "2482f377-decc-4757-a3e1-11152901ada2"
   },
   "outputs": [],
   "source": [
    "# 16.5\n",
    "import shap\n",
    "\n",
    "shap.initjs()\n",
    "shap.force_plot(expected_value, shap_values[2,:], X.iloc[2,:])\n",
    "X.iloc[2,:]\n",
    "y[2]"
   ]
  },
  {
   "cell_type": "code",
   "execution_count": null,
   "metadata": {
    "colab": {
     "base_uri": "https://localhost:8080/",
     "height": 193
    },
    "id": "_ZuU9GESke4d",
    "outputId": "d2175a7d-2616-4f99-b15f-855b5f774e7a"
   },
   "outputs": [],
   "source": [
    "# 16.6\n",
    "import shap\n",
    "\n",
    "shap.initjs()\n",
    "shap.force_plot(expected_value, shap_values[91,:], X.iloc[91,:])\n",
    "y[91]"
   ]
  },
  {
   "cell_type": "code",
   "execution_count": null,
   "metadata": {
    "colab": {
     "base_uri": "https://localhost:8080/",
     "height": 346
    },
    "id": "kVFEJ0PAke4d",
    "outputId": "bc37148f-8ef9-4e22-e5f8-90f0807b644b",
    "scrolled": true
   },
   "outputs": [],
   "source": [
    "# 16.7\n",
    "shap.summary_plot(shap_values, X)"
   ]
  },
  {
   "cell_type": "code",
   "execution_count": null,
   "metadata": {
    "id": "QPYM-MB-ke4e",
    "outputId": "9dcd23ae-57e5-4b8a-d458-3a252c80b27e"
   },
   "outputs": [],
   "source": [
    "# 16.8 Sample by sample, effect of a particular feature: Look Vertically\n",
    "# Y-axis select ROLE_TTILE effects\n",
    "# X=axis select sample order by similarity or original sample ordering\n",
    "# Limit X-axis to 100 samples \n",
    "X_small = X.iloc[0:100]\n",
    "shap_small = shap_values[:100]\n",
    "shap.force_plot(expected_value, shap_small, X_small)"
   ]
  },
  {
   "cell_type": "markdown",
   "metadata": {
    "id": "omrR67hTke4f"
   },
   "source": [
    "## Feature evaluation"
   ]
  },
  {
   "cell_type": "code",
   "execution_count": null,
   "metadata": {
    "id": "oiCmlSFZke4f",
    "scrolled": true
   },
   "outputs": [],
   "source": [
    "# 17.0 Not clear\n",
    "from catboost.eval.catboost_evaluation import *\n",
    "learn_params = {'iterations': 20, # 2000\n",
    "                'learning_rate': 0.5, # we set big learning_rate,\n",
    "                                      # because we have small\n",
    "                                      # #iterations\n",
    "                'random_seed': 0,\n",
    "                'verbose': False,\n",
    "                'loss_function' : 'Logloss',\n",
    "                'boosting_type': 'Plain'}\n",
    "evaluator = CatboostEvaluation('amazon/train.tsv',\n",
    "                               fold_size=10000, # <= 50% of dataset\n",
    "                               fold_count=20,\n",
    "                               column_description='amazon/train.cd',\n",
    "                               partition_random_seed=0,\n",
    "                               #working_dir=... \n",
    ")\n",
    "result = evaluator.eval_features(learn_config=learn_params,\n",
    "                                 eval_metrics=['Logloss', 'Accuracy'],\n",
    "                                 features_to_eval=[6, 7, 8])"
   ]
  },
  {
   "cell_type": "code",
   "execution_count": null,
   "metadata": {
    "colab": {
     "base_uri": "https://localhost:8080/",
     "height": 143
    },
    "id": "1HVx4TOZke4f",
    "outputId": "6152f3dc-be22-4384-97d3-8f2bb3caa93c"
   },
   "outputs": [],
   "source": [
    "from catboost.eval.evaluation_result import *\n",
    "logloss_result = result.get_metric_results('Logloss')\n",
    "logloss_result.get_baseline_comparison(\n",
    "    ScoreConfig(ScoreType.Rel, overfit_iterations_info=False)\n",
    ")"
   ]
  },
  {
   "cell_type": "markdown",
   "metadata": {
    "id": "5j_3UISeke4g"
   },
   "source": [
    "## Saving the model"
   ]
  },
  {
   "cell_type": "code",
   "execution_count": null,
   "metadata": {
    "id": "HC1r38tFke4g"
   },
   "outputs": [],
   "source": [
    "# 18.0\n",
    "# Fit your model with best parameters, run it and then save it:\n",
    "\n",
    "# 18.1 Fit model with best parameters\n",
    "my_best_model = CatBoostClassifier(iterations=10)\n",
    "\n",
    "# 18.2 Train it\n",
    "my_best_model.fit(\n",
    "    X_train, y_train,\n",
    "    eval_set=(X_validation, y_validation),\n",
    "    cat_features=cat_features,\n",
    "    verbose=False\n",
    ")\n",
    "\n",
    "# 18.3 Save it\n",
    "my_best_model.save_model('catboost_model.bin')\n",
    "my_best_model.save_model('catboost_model.json', format='json')"
   ]
  },
  {
   "cell_type": "code",
   "execution_count": null,
   "metadata": {
    "colab": {
     "base_uri": "https://localhost:8080/"
    },
    "id": "XAnqY6D8ke4g",
    "outputId": "9ec93730-c3af-43ad-cac1-a56efd5c0d30"
   },
   "outputs": [],
   "source": [
    "# 18.4 Load the saved model\n",
    "my_best_model.load_model('catboost_model.bin')\n",
    "print(my_best_model.get_params())\n",
    "print(my_best_model.random_seed_)"
   ]
  },
  {
   "cell_type": "markdown",
   "metadata": {
    "id": "CDJQ2PTrke4h"
   },
   "source": [
    "## Hyperparameter tunning"
   ]
  },
  {
   "cell_type": "markdown",
   "metadata": {
    "id": "KW6aV_Ehke4h"
   },
   "source": [
    "### Training speed"
   ]
  },
  {
   "cell_type": "code",
   "execution_count": null,
   "metadata": {},
   "outputs": [],
   "source": [
    "# 19.0\n",
    "import hyperopt\n",
    "\n",
    "def hyperopt_objective(params):\n",
    "    # Define model\n",
    "    model = CatBoostClassifier(\n",
    "                                l2_leaf_reg= params['l2_leaf_reg'],  \n",
    "                                learning_rate=params['learning_rate'],\n",
    "                                grow_policy = params['grow_policy'], \n",
    "                                depth = int(params['depth']),                 # An integer depth is expected\n",
    "                                border_count = int(params['border_count']),   # If you remove int(), one gets an error\n",
    "                                                                              # No of splits of numerical feature \n",
    "\n",
    "                                iterations=8,\n",
    "                                eval_metric=metrics.Accuracy(),\n",
    "                                random_seed=42,\n",
    "                                verbose=False,\n",
    "                                loss_function=metrics.Logloss(),\n",
    "                              )\n",
    "    \n",
    "    # Perform cross validation\n",
    "    cv_data = cv(\n",
    "                Pool(X, y, cat_features=cat_features),\n",
    "                model.get_params(),\n",
    "                logging_level='Silent',\n",
    "                )\n",
    "    \n",
    "    best_accuracy = np.max(cv_data['test-Accuracy-mean'])\n",
    "    \n",
    "    return 1 - best_accuracy # as hyperopt minimises"
   ]
  },
  {
   "cell_type": "code",
   "execution_count": null,
   "metadata": {},
   "outputs": [],
   "source": [
    "params_space = {\n",
    "    'l2_leaf_reg': hyperopt.hp.qloguniform('l2_leaf_reg', 0, 2, 1),     \n",
    "    'learning_rate': hyperopt.hp.uniform('learning_rate', 1e-3, 5e-1),  # Any value between the two numbers\n",
    "    'depth' : hyperopt.hp.quniform('depth', 4,10,1) ,  # Depth should be in steps of 1, not in decimals\n",
    "    'border_count' : hyperopt.hp.uniform('border_count', 32,255),\n",
    "    'grow_policy'  : hyperopt.hp.choice('grow_policy', ['Depthwise','SymmetricTree']) # Returns 0 or 1\n",
    "                                                                                     # Interchange the two options to see results\n",
    "}\n",
    "\n",
    "trials = hyperopt.Trials()\n",
    "\n",
    "best = hyperopt.fmin(\n",
    "                      hyperopt_objective,\n",
    "                      space=params_space,\n",
    "                      algo=hyperopt.tpe.suggest,\n",
    "                      max_evals=8,\n",
    "                      trials=trials,\n",
    "                      verbose = True\n",
    "                    )\n",
    "\n",
    "print(best)"
   ]
  },
  {
   "cell_type": "markdown",
   "metadata": {
    "id": "ZfNpM5Iqke4k"
   },
   "source": [
    "## Calculate predictions for the contest"
   ]
  },
  {
   "cell_type": "code",
   "execution_count": null,
   "metadata": {
    "id": "5YOsT_-jke4m",
    "outputId": "3558b985-e0e9-442b-82cd-865a02bbd898"
   },
   "outputs": [],
   "source": [
    "X_test = test_df.drop('id', axis=1)\n",
    "test_pool = Pool(data=X_test, cat_features=cat_features)\n",
    "contest_predictions = best_model.predict_proba(test_pool)\n",
    "print('Predictoins:')\n",
    "print(contest_predictions)"
   ]
  },
  {
   "cell_type": "markdown",
   "metadata": {
    "id": "TDadPasuke4m"
   },
   "source": [
    "## Prepare the submission"
   ]
  },
  {
   "cell_type": "code",
   "execution_count": null,
   "metadata": {
    "id": "sfDZG0dSke4n"
   },
   "outputs": [],
   "source": [
    "f = open('submit.csv', 'w')\n",
    "f.write('Id,Action\\n')\n",
    "for idx in range(len(contest_predictions)):\n",
    "    line = str(test_df['id'][idx]) + ',' + str(contest_predictions[idx][1]) + '\\n'\n",
    "    f.write(line)\n",
    "f.close()"
   ]
  },
  {
   "cell_type": "markdown",
   "metadata": {
    "id": "HewuMfVoke4n"
   },
   "source": [
    "Submit your solution [here](https://www.kaggle.com/c/amazon-employee-access-challenge/submit).\n",
    "Good luck!!!"
   ]
  },
  {
   "cell_type": "code",
   "execution_count": null,
   "metadata": {},
   "outputs": [],
   "source": [
    "print('Precise validation accuracy score: {}'.format(np.max(cv_data['test-Accuracy-mean'])))"
   ]
  }
 ],
 "metadata": {
  "colab": {
   "collapsed_sections": [
    "fB5GjxL5ke4F",
    "3ki3CdzRke4H",
    "NMuLYjcRke4J",
    "TJbZfV58ke4M",
    "fUvkwFdQke4N",
    "GNPuQNS2ke4Q",
    "azz0SEGFke4R",
    "SLwuEd1Bke4T",
    "MTgF_Fvwke4a",
    "VmlKHugzke4c",
    "omrR67hTke4f",
    "5j_3UISeke4g",
    "CDJQ2PTrke4h",
    "KW6aV_Ehke4h",
    "pLC7BUj5ke4i",
    "ywNYhyHRke4j",
    "ZfNpM5Iqke4k",
    "TDadPasuke4m"
   ],
   "include_colab_link": true,
   "name": "catboost_amazon_resource_access.ipynb",
   "provenance": []
  },
  "kernelspec": {
   "display_name": "catboost",
   "language": "python",
   "name": "catboost"
  },
  "language_info": {
   "codemirror_mode": {
    "name": "ipython",
    "version": 3
   },
   "file_extension": ".py",
   "mimetype": "text/x-python",
   "name": "python",
   "nbconvert_exporter": "python",
   "pygments_lexer": "ipython3",
   "version": "3.7.13"
  },
  "widgets": {
   "application/vnd.jupyter.widget-state+json": {
    "1e798bf653f74fc3b984fa8878c38fd2": {
     "model_module": "catboost-widget",
     "model_module_version": "^1.0.0",
     "model_name": "CatboostWidgetModel",
     "state": {
      "_dom_classes": [],
      "_model_module": "catboost-widget",
      "_model_module_version": "^1.0.0",
      "_model_name": "CatboostWidgetModel",
      "_view_count": null,
      "_view_module": "catboost-widget",
      "_view_module_version": "^1.0.0",
      "_view_name": "CatboostWidgetView",
      "data": {
       "catboost_info": {
        "content": {
         "data": {
          "iterations": [
           {
            "iteration": 0,
            "learn": [
             0.656985996
            ],
            "passed_time": 0.03184351744,
            "remaining_time": 6.336859971
           },
           {
            "iteration": 1,
            "learn": [
             0.6231215519
            ],
            "passed_time": 0.07898163776,
            "remaining_time": 7.819182138
           },
           {
            "iteration": 2,
            "learn": [
             0.5917369295
            ],
            "passed_time": 0.1340477529,
            "remaining_time": 8.80246911
           },
           {
            "iteration": 3,
            "learn": [
             0.5631905562
            ],
            "passed_time": 0.1576396888,
            "remaining_time": 7.724344749
           },
           {
            "iteration": 4,
            "learn": [
             0.5359046717
            ],
            "passed_time": 0.1806215816,
            "remaining_time": 7.044241681
           },
           {
            "iteration": 5,
            "learn": [
             0.511454421
            ],
            "passed_time": 0.2127769256,
            "remaining_time": 6.879787259
           },
           {
            "iteration": 6,
            "learn": [
             0.4885682336
            ],
            "passed_time": 0.2536767763,
            "remaining_time": 6.994231118
           },
           {
            "iteration": 7,
            "learn": [
             0.4672990771
            ],
            "passed_time": 0.2910414081,
            "remaining_time": 6.984993795
           },
           {
            "iteration": 8,
            "learn": [
             0.4468186861
            ],
            "passed_time": 0.337427579,
            "remaining_time": 7.160963066
           },
           {
            "iteration": 9,
            "learn": [
             0.4285182132
            ],
            "passed_time": 0.3591328338,
            "remaining_time": 6.823523842
           },
           {
            "iteration": 10,
            "learn": [
             0.4117044683
            ],
            "passed_time": 0.4005041773,
            "remaining_time": 6.881389955
           },
           {
            "iteration": 11,
            "learn": [
             0.3972444488
            ],
            "passed_time": 0.4194263407,
            "remaining_time": 6.571012671
           },
           {
            "iteration": 12,
            "learn": [
             0.3827980327
            ],
            "passed_time": 0.4563793025,
            "remaining_time": 6.564840736
           },
           {
            "iteration": 13,
            "learn": [
             0.3700758335
            ],
            "passed_time": 0.4897848962,
            "remaining_time": 6.507142192
           },
           {
            "iteration": 14,
            "learn": [
             0.3576765625
            ],
            "passed_time": 0.5297626796,
            "remaining_time": 6.533739716
           },
           {
            "iteration": 15,
            "learn": [
             0.3460773295
            ],
            "passed_time": 0.5672548724,
            "remaining_time": 6.523431033
           },
           {
            "iteration": 16,
            "learn": [
             0.3359205858
            ],
            "passed_time": 0.6057584488,
            "remaining_time": 6.520811538
           },
           {
            "iteration": 17,
            "learn": [
             0.3262561537
            ],
            "passed_time": 0.6434578063,
            "remaining_time": 6.506073375
           },
           {
            "iteration": 18,
            "learn": [
             0.3166045258
            ],
            "passed_time": 0.6917937204,
            "remaining_time": 6.590245442
           },
           {
            "iteration": 19,
            "learn": [
             0.3072442854
            ],
            "passed_time": 0.7350089576,
            "remaining_time": 6.615080618
           },
           {
            "iteration": 20,
            "learn": [
             0.299400488
            ],
            "passed_time": 0.7708508386,
            "remaining_time": 6.570585719
           },
           {
            "iteration": 21,
            "learn": [
             0.2932626875
            ],
            "passed_time": 0.7878671434,
            "remaining_time": 6.374561433
           },
           {
            "iteration": 22,
            "learn": [
             0.285853009
            ],
            "passed_time": 0.8326929176,
            "remaining_time": 6.408115061
           },
           {
            "iteration": 23,
            "learn": [
             0.2791061172
            ],
            "passed_time": 0.8831583239,
            "remaining_time": 6.476494375
           },
           {
            "iteration": 24,
            "learn": [
             0.2726616193
            ],
            "passed_time": 0.9321525699,
            "remaining_time": 6.525067989
           },
           {
            "iteration": 25,
            "learn": [
             0.2663727831
            ],
            "passed_time": 0.9820254699,
            "remaining_time": 6.572016606
           },
           {
            "iteration": 26,
            "learn": [
             0.2610140903
            ],
            "passed_time": 1.042802885,
            "remaining_time": 6.681662928
           },
           {
            "iteration": 27,
            "learn": [
             0.2562784851
            ],
            "passed_time": 1.089298,
            "remaining_time": 6.691401997
           },
           {
            "iteration": 28,
            "learn": [
             0.2517386847
            ],
            "passed_time": 1.136871339,
            "remaining_time": 6.703620656
           },
           {
            "iteration": 29,
            "learn": [
             0.2488155167
            ],
            "passed_time": 1.149952051,
            "remaining_time": 6.516394956
           },
           {
            "iteration": 30,
            "learn": [
             0.244302772
            ],
            "passed_time": 1.196611635,
            "remaining_time": 6.523463429
           },
           {
            "iteration": 31,
            "learn": [
             0.2398783254
            ],
            "passed_time": 1.250675632,
            "remaining_time": 6.566047066
           },
           {
            "iteration": 32,
            "learn": [
             0.235388401
            ],
            "passed_time": 1.307687578,
            "remaining_time": 6.617691683
           },
           {
            "iteration": 33,
            "learn": [
             0.2314419177
            ],
            "passed_time": 1.345703558,
            "remaining_time": 6.570199725
           },
           {
            "iteration": 34,
            "learn": [
             0.2274570269
            ],
            "passed_time": 1.388185977,
            "remaining_time": 6.54430532
           },
           {
            "iteration": 35,
            "learn": [
             0.2246366346
            ],
            "passed_time": 1.423908898,
            "remaining_time": 6.486696093
           },
           {
            "iteration": 36,
            "learn": [
             0.2215280833
            ],
            "passed_time": 1.489209041,
            "remaining_time": 6.560569561
           },
           {
            "iteration": 37,
            "learn": [
             0.2184854281
            ],
            "passed_time": 1.529704929,
            "remaining_time": 6.521373644
           },
           {
            "iteration": 38,
            "learn": [
             0.215690184
            ],
            "passed_time": 1.569696964,
            "remaining_time": 6.480031056
           },
           {
            "iteration": 39,
            "learn": [
             0.2127925274
            ],
            "passed_time": 1.62213436,
            "remaining_time": 6.48853744
           },
           {
            "iteration": 40,
            "learn": [
             0.2101532296
            ],
            "passed_time": 1.675459816,
            "remaining_time": 6.497514897
           },
           {
            "iteration": 41,
            "learn": [
             0.2075522548
            ],
            "passed_time": 1.713159356,
            "remaining_time": 6.444742341
           },
           {
            "iteration": 42,
            "learn": [
             0.2054831705
            ],
            "passed_time": 1.761293975,
            "remaining_time": 6.430771027
           },
           {
            "iteration": 43,
            "learn": [
             0.2036546682
            ],
            "passed_time": 1.794104015,
            "remaining_time": 6.360914236
           },
           {
            "iteration": 44,
            "learn": [
             0.2019341812
            ],
            "passed_time": 1.814044927,
            "remaining_time": 6.24837697
           },
           {
            "iteration": 45,
            "learn": [
             0.2000803979
            ],
            "passed_time": 1.862552229,
            "remaining_time": 6.23550094
           },
           {
            "iteration": 46,
            "learn": [
             0.1983422272
            ],
            "passed_time": 1.912572877,
            "remaining_time": 6.226035109
           },
           {
            "iteration": 47,
            "learn": [
             0.1966037075
            ],
            "passed_time": 1.999440971,
            "remaining_time": 6.331563074
           },
           {
            "iteration": 48,
            "learn": [
             0.1950959657
            ],
            "passed_time": 2.039981759,
            "remaining_time": 6.286474401
           },
           {
            "iteration": 49,
            "learn": [
             0.1937545837
            ],
            "passed_time": 2.081555511,
            "remaining_time": 6.244666533
           },
           {
            "iteration": 50,
            "learn": [
             0.1923495316
            ],
            "passed_time": 2.141444681,
            "remaining_time": 6.256377596
           },
           {
            "iteration": 51,
            "learn": [
             0.190797818
            ],
            "passed_time": 2.202517398,
            "remaining_time": 6.268703364
           },
           {
            "iteration": 52,
            "learn": [
             0.1897234271
            ],
            "passed_time": 2.244334164,
            "remaining_time": 6.224851361
           },
           {
            "iteration": 53,
            "learn": [
             0.1886370632
            ],
            "passed_time": 2.293391718,
            "remaining_time": 6.200651681
           },
           {
            "iteration": 54,
            "learn": [
             0.1875329093
            ],
            "passed_time": 2.34546956,
            "remaining_time": 6.183510658
           },
           {
            "iteration": 55,
            "learn": [
             0.1865537753
            ],
            "passed_time": 2.395924233,
            "remaining_time": 6.160948027
           },
           {
            "iteration": 56,
            "learn": [
             0.1856438096
            ],
            "passed_time": 2.427269475,
            "remaining_time": 6.089465525
           },
           {
            "iteration": 57,
            "learn": [
             0.18463809
            ],
            "passed_time": 2.488538111,
            "remaining_time": 6.092627789
           },
           {
            "iteration": 58,
            "learn": [
             0.183654527
            ],
            "passed_time": 2.543787536,
            "remaining_time": 6.07922106
           },
           {
            "iteration": 59,
            "learn": [
             0.1827446271
            ],
            "passed_time": 2.591504554,
            "remaining_time": 6.04684396
           },
           {
            "iteration": 60,
            "learn": [
             0.1819857544
            ],
            "passed_time": 2.629156374,
            "remaining_time": 5.991028458
           },
           {
            "iteration": 61,
            "learn": [
             0.1811188394
            ],
            "passed_time": 2.680240525,
            "remaining_time": 5.965696651
           },
           {
            "iteration": 62,
            "learn": [
             0.1804752762
            ],
            "passed_time": 2.718243554,
            "remaining_time": 5.911101061
           },
           {
            "iteration": 63,
            "learn": [
             0.1798248984
            ],
            "passed_time": 2.760167855,
            "remaining_time": 5.865356692
           },
           {
            "iteration": 64,
            "learn": [
             0.1791845246
            ],
            "passed_time": 2.803949644,
            "remaining_time": 5.823587722
           },
           {
            "iteration": 65,
            "learn": [
             0.178619699
            ],
            "passed_time": 2.847940689,
            "remaining_time": 5.782182611
           },
           {
            "iteration": 66,
            "learn": [
             0.178007086
            ],
            "passed_time": 2.895224949,
            "remaining_time": 5.747237586
           },
           {
            "iteration": 67,
            "learn": [
             0.1775014803
            ],
            "passed_time": 2.946300551,
            "remaining_time": 5.719289305
           },
           {
            "iteration": 68,
            "learn": [
             0.1770605705
            ],
            "passed_time": 3.004650173,
            "remaining_time": 5.704480763
           },
           {
            "iteration": 69,
            "learn": [
             0.1766045881
            ],
            "passed_time": 3.057849718,
            "remaining_time": 5.678863763
           },
           {
            "iteration": 70,
            "learn": [
             0.1760285894
            ],
            "passed_time": 3.10190773,
            "remaining_time": 5.635860524
           },
           {
            "iteration": 71,
            "learn": [
             0.1753559802
            ],
            "passed_time": 3.165379383,
            "remaining_time": 5.627341126
           },
           {
            "iteration": 72,
            "learn": [
             0.1748015695
            ],
            "passed_time": 3.207333115,
            "remaining_time": 5.579880898
           },
           {
            "iteration": 73,
            "learn": [
             0.1742881168
            ],
            "passed_time": 3.245573909,
            "remaining_time": 5.526247467
           },
           {
            "iteration": 74,
            "learn": [
             0.1737584527
            ],
            "passed_time": 3.282292224,
            "remaining_time": 5.470487041
           },
           {
            "iteration": 75,
            "learn": [
             0.1732695878
            ],
            "passed_time": 3.321362389,
            "remaining_time": 5.41906495
           },
           {
            "iteration": 76,
            "learn": [
             0.1728435385
            ],
            "passed_time": 3.368868853,
            "remaining_time": 5.381439856
           },
           {
            "iteration": 77,
            "learn": [
             0.1723622937
            ],
            "passed_time": 3.41535925,
            "remaining_time": 5.34197216
           },
           {
            "iteration": 78,
            "learn": [
             0.1720339615
            ],
            "passed_time": 3.470772067,
            "remaining_time": 5.315992659
           },
           {
            "iteration": 79,
            "learn": [
             0.1716814804
            ],
            "passed_time": 3.521426957,
            "remaining_time": 5.282140435
           },
           {
            "iteration": 80,
            "learn": [
             0.1712771479
            ],
            "passed_time": 3.564587667,
            "remaining_time": 5.236863362
           },
           {
            "iteration": 81,
            "learn": [
             0.1709758996
            ],
            "passed_time": 3.599831411,
            "remaining_time": 5.180245202
           },
           {
            "iteration": 82,
            "learn": [
             0.1707022451
            ],
            "passed_time": 3.650029684,
            "remaining_time": 5.145222566
           },
           {
            "iteration": 83,
            "learn": [
             0.1703365836
            ],
            "passed_time": 3.697859226,
            "remaining_time": 5.106567502
           },
           {
            "iteration": 84,
            "learn": [
             0.1699956836
            ],
            "passed_time": 3.734464603,
            "remaining_time": 5.052510934
           },
           {
            "iteration": 85,
            "learn": [
             0.1697326105
            ],
            "passed_time": 3.771979883,
            "remaining_time": 5.000066356
           },
           {
            "iteration": 86,
            "learn": [
             0.1694753948
            ],
            "passed_time": 3.816005736,
            "remaining_time": 4.956421243
           },
           {
            "iteration": 87,
            "learn": [
             0.1691843328
            ],
            "passed_time": 3.857302257,
            "remaining_time": 4.909293781
           },
           {
            "iteration": 88,
            "learn": [
             0.1689146653
            ],
            "passed_time": 3.915344621,
            "remaining_time": 4.883182617
           },
           {
            "iteration": 89,
            "learn": [
             0.1686907163
            ],
            "passed_time": 4.004379014,
            "remaining_time": 4.894241017
           },
           {
            "iteration": 90,
            "learn": [
             0.1682458323
            ],
            "passed_time": 4.057871497,
            "remaining_time": 4.860527398
           },
           {
            "iteration": 91,
            "learn": [
             0.1678615987
            ],
            "passed_time": 4.12124595,
            "remaining_time": 4.837984376
           },
           {
            "iteration": 92,
            "learn": [
             0.1674669153
            ],
            "passed_time": 4.181001748,
            "remaining_time": 4.810399861
           },
           {
            "iteration": 93,
            "learn": [
             0.1671986989
            ],
            "passed_time": 4.226959312,
            "remaining_time": 4.766571139
           },
           {
            "iteration": 94,
            "learn": [
             0.166923857
            ],
            "passed_time": 4.266201473,
            "remaining_time": 4.715275312
           },
           {
            "iteration": 95,
            "learn": [
             0.1666215342
            ],
            "passed_time": 4.313552474,
            "remaining_time": 4.673015181
           },
           {
            "iteration": 96,
            "learn": [
             0.1663063978
            ],
            "passed_time": 4.370607885,
            "remaining_time": 4.640954764
           },
           {
            "iteration": 97,
            "learn": [
             0.1660601832
            ],
            "passed_time": 4.424941254,
            "remaining_time": 4.605551101
           },
           {
            "iteration": 98,
            "learn": [
             0.1659020204
            ],
            "passed_time": 4.484974911,
            "remaining_time": 4.575580465
           },
           {
            "iteration": 99,
            "learn": [
             0.1656606286
            ],
            "passed_time": 4.535959157,
            "remaining_time": 4.535959157
           },
           {
            "iteration": 100,
            "learn": [
             0.1653593608
            ],
            "passed_time": 4.610067087,
            "remaining_time": 4.51877863
           },
           {
            "iteration": 101,
            "learn": [
             0.1651946409
            ],
            "passed_time": 4.650428541,
            "remaining_time": 4.468058794
           },
           {
            "iteration": 102,
            "learn": [
             0.1650133827
            ],
            "passed_time": 4.702123985,
            "remaining_time": 4.42821385
           },
           {
            "iteration": 103,
            "learn": [
             0.164766093
            ],
            "passed_time": 4.783085093,
            "remaining_time": 4.41515547
           },
           {
            "iteration": 104,
            "learn": [
             0.1645783708
            ],
            "passed_time": 4.861021441,
            "remaining_time": 4.398067018
           },
           {
            "iteration": 105,
            "learn": [
             0.164418531
            ],
            "passed_time": 4.922092798,
            "remaining_time": 4.364874745
           },
           {
            "iteration": 106,
            "learn": [
             0.1642329121
            ],
            "passed_time": 5.02870217,
            "remaining_time": 4.370741138
           },
           {
            "iteration": 107,
            "learn": [
             0.1640839708
            ],
            "passed_time": 5.094062794,
            "remaining_time": 4.339386824
           },
           {
            "iteration": 108,
            "learn": [
             0.1639011385
            ],
            "passed_time": 5.162716611,
            "remaining_time": 4.310157904
           },
           {
            "iteration": 109,
            "learn": [
             0.1636291653
            ],
            "passed_time": 5.236943914,
            "remaining_time": 4.284772293
           },
           {
            "iteration": 110,
            "learn": [
             0.1633392442
            ],
            "passed_time": 5.291852571,
            "remaining_time": 4.243016927
           },
           {
            "iteration": 111,
            "learn": [
             0.1630422262
            ],
            "passed_time": 5.352784204,
            "remaining_time": 4.205759018
           },
           {
            "iteration": 112,
            "learn": [
             0.1627711194
            ],
            "passed_time": 5.394827263,
            "remaining_time": 4.153539574
           },
           {
            "iteration": 113,
            "learn": [
             0.1625507603
            ],
            "passed_time": 5.464666314,
            "remaining_time": 4.122467571
           },
           {
            "iteration": 114,
            "learn": [
             0.162325507
            ],
            "passed_time": 5.512844995,
            "remaining_time": 4.074711518
           },
           {
            "iteration": 115,
            "learn": [
             0.1622320138
            ],
            "passed_time": 5.557313725,
            "remaining_time": 4.024261663
           },
           {
            "iteration": 116,
            "learn": [
             0.1620175015
            ],
            "passed_time": 5.638700607,
            "remaining_time": 4.000103849
           },
           {
            "iteration": 117,
            "learn": [
             0.1618365753
            ],
            "passed_time": 5.698800746,
            "remaining_time": 3.960183569
           },
           {
            "iteration": 118,
            "learn": [
             0.1616281972
            ],
            "passed_time": 5.751692526,
            "remaining_time": 3.915017602
           },
           {
            "iteration": 119,
            "learn": [
             0.1614659915
            ],
            "passed_time": 5.805088746,
            "remaining_time": 3.870059164
           },
           {
            "iteration": 120,
            "learn": [
             0.1613291379
            ],
            "passed_time": 5.852765257,
            "remaining_time": 3.821226903
           },
           {
            "iteration": 121,
            "learn": [
             0.1611576238
            ],
            "passed_time": 5.922473186,
            "remaining_time": 3.78649925
           },
           {
            "iteration": 122,
            "learn": [
             0.1610804858
            ],
            "passed_time": 5.98347693,
            "remaining_time": 3.745753851
           },
           {
            "iteration": 123,
            "learn": [
             0.1608894375
            ],
            "passed_time": 6.082254376,
            "remaining_time": 3.727833327
           },
           {
            "iteration": 124,
            "learn": [
             0.1606015007
            ],
            "passed_time": 6.164041264,
            "remaining_time": 3.698424758
           },
           {
            "iteration": 125,
            "learn": [
             0.1603620647
            ],
            "passed_time": 6.24543629,
            "remaining_time": 3.667954647
           },
           {
            "iteration": 126,
            "learn": [
             0.1601469088
            ],
            "passed_time": 6.331767549,
            "remaining_time": 3.63951993
           },
           {
            "iteration": 127,
            "learn": [
             0.1599130106
            ],
            "passed_time": 6.402216087,
            "remaining_time": 3.601246549
           },
           {
            "iteration": 128,
            "learn": [
             0.1596814504
            ],
            "passed_time": 6.485037581,
            "remaining_time": 3.56928425
           },
           {
            "iteration": 129,
            "learn": [
             0.1594895018
            ],
            "passed_time": 6.571350407,
            "remaining_time": 3.53841945
           },
           {
            "iteration": 130,
            "learn": [
             0.1592930931
            ],
            "passed_time": 6.637819886,
            "remaining_time": 3.496256276
           },
           {
            "iteration": 131,
            "learn": [
             0.1591272325
            ],
            "passed_time": 6.716935456,
            "remaining_time": 3.460239478
           },
           {
            "iteration": 132,
            "learn": [
             0.1590213104
            ],
            "passed_time": 6.831843749,
            "remaining_time": 3.441605498
           },
           {
            "iteration": 133,
            "learn": [
             0.1588136442
            ],
            "passed_time": 6.894828873,
            "remaining_time": 3.39596049
           },
           {
            "iteration": 134,
            "learn": [
             0.1587740635
            ],
            "passed_time": 6.946984658,
            "remaining_time": 3.344844465
           },
           {
            "iteration": 135,
            "learn": [
             0.1586496656
            ],
            "passed_time": 7.059805978,
            "remaining_time": 3.322261637
           },
           {
            "iteration": 136,
            "learn": [
             0.1585554176
            ],
            "passed_time": 7.113097626,
            "remaining_time": 3.2709865
           },
           {
            "iteration": 137,
            "learn": [
             0.1584491951
            ],
            "passed_time": 7.175694613,
            "remaining_time": 3.223862797
           },
           {
            "iteration": 138,
            "learn": [
             0.1582630383
            ],
            "passed_time": 7.227215078,
            "remaining_time": 3.171655538
           },
           {
            "iteration": 139,
            "learn": [
             0.158195226
            ],
            "passed_time": 7.300758075,
            "remaining_time": 3.128896318
           },
           {
            "iteration": 140,
            "learn": [
             0.1580527955
            ],
            "passed_time": 7.382751771,
            "remaining_time": 3.089236557
           },
           {
            "iteration": 141,
            "learn": [
             0.1579785069
            ],
            "passed_time": 7.448295479,
            "remaining_time": 3.042261534
           },
           {
            "iteration": 142,
            "learn": [
             0.1578644416
            ],
            "passed_time": 7.520926776,
            "remaining_time": 2.997851932
           },
           {
            "iteration": 143,
            "learn": [
             0.1576968358
            ],
            "passed_time": 7.593992678,
            "remaining_time": 2.953219375
           },
           {
            "iteration": 144,
            "learn": [
             0.1576070687
            ],
            "passed_time": 7.648115986,
            "remaining_time": 2.901009512
           },
           {
            "iteration": 145,
            "learn": [
             0.1574414972
            ],
            "passed_time": 7.724050614,
            "remaining_time": 2.856840638
           },
           {
            "iteration": 146,
            "learn": [
             0.1573503395
            ],
            "passed_time": 7.779327369,
            "remaining_time": 2.8047915
           },
           {
            "iteration": 147,
            "learn": [
             0.1573205425
            ],
            "passed_time": 7.859320647,
            "remaining_time": 2.76138293
           },
           {
            "iteration": 148,
            "learn": [
             0.1572060917
            ],
            "passed_time": 7.932642618,
            "remaining_time": 2.715199822
           },
           {
            "iteration": 149,
            "learn": [
             0.1571270428
            ],
            "passed_time": 7.992387934,
            "remaining_time": 2.664129311
           },
           {
            "iteration": 150,
            "learn": [
             0.157063052
            ],
            "passed_time": 8.0959891,
            "remaining_time": 2.627175271
           },
           {
            "iteration": 151,
            "learn": [
             0.1569695976
            ],
            "passed_time": 8.181358331,
            "remaining_time": 2.583586841
           },
           {
            "iteration": 152,
            "learn": [
             0.156931762
            ],
            "passed_time": 8.268632034,
            "remaining_time": 2.540037291
           },
           {
            "iteration": 153,
            "learn": [
             0.156815019
            ],
            "passed_time": 8.341176179,
            "remaining_time": 2.491520157
           },
           {
            "iteration": 154,
            "learn": [
             0.1567157229
            ],
            "passed_time": 8.41754461,
            "remaining_time": 2.443803274
           },
           {
            "iteration": 155,
            "learn": [
             0.1565932213
            ],
            "passed_time": 8.504316967,
            "remaining_time": 2.398653504
           },
           {
            "iteration": 156,
            "learn": [
             0.1565685102
            ],
            "passed_time": 8.588276497,
            "remaining_time": 2.352203117
           },
           {
            "iteration": 157,
            "learn": [
             0.1564937192
            ],
            "passed_time": 8.662529734,
            "remaining_time": 2.302697778
           },
           {
            "iteration": 158,
            "learn": [
             0.1564178472
            ],
            "passed_time": 8.705215531,
            "remaining_time": 2.244741112
           },
           {
            "iteration": 159,
            "learn": [
             0.1563354932
            ],
            "passed_time": 8.785929058,
            "remaining_time": 2.196482264
           },
           {
            "iteration": 160,
            "learn": [
             0.1562860473
            ],
            "passed_time": 8.856341194,
            "remaining_time": 2.145324886
           },
           {
            "iteration": 161,
            "learn": [
             0.1562381932
            ],
            "passed_time": 8.92385517,
            "remaining_time": 2.093249978
           },
           {
            "iteration": 162,
            "learn": [
             0.156163836
            ],
            "passed_time": 8.994057747,
            "remaining_time": 2.04159593
           },
           {
            "iteration": 163,
            "learn": [
             0.1560767561
            ],
            "passed_time": 9.081936902,
            "remaining_time": 1.993595905
           },
           {
            "iteration": 164,
            "learn": [
             0.1559883602
            ],
            "passed_time": 9.151955881,
            "remaining_time": 1.941323975
           },
           {
            "iteration": 165,
            "learn": [
             0.1559105983
            ],
            "passed_time": 9.225740854,
            "remaining_time": 1.889609572
           },
           {
            "iteration": 166,
            "learn": [
             0.1558403697
            ],
            "passed_time": 9.293251907,
            "remaining_time": 1.836391095
           },
           {
            "iteration": 167,
            "learn": [
             0.155761489
            ],
            "passed_time": 9.36477626,
            "remaining_time": 1.783766907
           },
           {
            "iteration": 168,
            "learn": [
             0.1557035076
            ],
            "passed_time": 9.442891004,
            "remaining_time": 1.732127936
           },
           {
            "iteration": 169,
            "learn": [
             0.1556373303
            ],
            "passed_time": 9.501738108,
            "remaining_time": 1.676777313
           },
           {
            "iteration": 170,
            "learn": [
             0.1556015698
            ],
            "passed_time": 9.553043562,
            "remaining_time": 1.620106803
           },
           {
            "iteration": 171,
            "learn": [
             0.155540716
            ],
            "passed_time": 9.637889388,
            "remaining_time": 1.568958738
           },
           {
            "iteration": 172,
            "learn": [
             0.1554338867
            ],
            "passed_time": 9.723258805,
            "remaining_time": 1.517502819
           },
           {
            "iteration": 173,
            "learn": [
             0.1553729947
            ],
            "passed_time": 9.794367594,
            "remaining_time": 1.463526192
           },
           {
            "iteration": 174,
            "learn": [
             0.1552998877
            ],
            "passed_time": 9.860030569,
            "remaining_time": 1.408575796
           },
           {
            "iteration": 175,
            "learn": [
             0.1552690339
            ],
            "passed_time": 9.908766912,
            "remaining_time": 1.351195488
           },
           {
            "iteration": 176,
            "learn": [
             0.1551848179
            ],
            "passed_time": 9.973598223,
            "remaining_time": 1.296004289
           },
           {
            "iteration": 177,
            "learn": [
             0.1551444035
            ],
            "passed_time": 10.04552227,
            "remaining_time": 1.241581405
           },
           {
            "iteration": 178,
            "learn": [
             0.1550592245
            ],
            "passed_time": 10.13752823,
            "remaining_time": 1.189318954
           },
           {
            "iteration": 179,
            "learn": [
             0.1549804606
            ],
            "passed_time": 10.21215501,
            "remaining_time": 1.13468389
           },
           {
            "iteration": 180,
            "learn": [
             0.1549348644
            ],
            "passed_time": 10.27544024,
            "remaining_time": 1.078637373
           },
           {
            "iteration": 181,
            "learn": [
             0.1548197852
            ],
            "passed_time": 10.34069726,
            "remaining_time": 1.022706322
           },
           {
            "iteration": 182,
            "learn": [
             0.154765175
            ],
            "passed_time": 10.44627244,
            "remaining_time": 0.9704187513
           },
           {
            "iteration": 183,
            "learn": [
             0.1547064675
            ],
            "passed_time": 10.52123176,
            "remaining_time": 0.914889718
           },
           {
            "iteration": 184,
            "learn": [
             0.1546688315
            ],
            "passed_time": 10.60329265,
            "remaining_time": 0.859726431
           },
           {
            "iteration": 185,
            "learn": [
             0.1546438407
            ],
            "passed_time": 10.67417738,
            "remaining_time": 0.803432706
           },
           {
            "iteration": 186,
            "learn": [
             0.154614054
            ],
            "passed_time": 10.72861105,
            "remaining_time": 0.7458392709
           },
           {
            "iteration": 187,
            "learn": [
             0.154523482
            ],
            "passed_time": 10.80370959,
            "remaining_time": 0.6895984847
           },
           {
            "iteration": 188,
            "learn": [
             0.1544943686
            ],
            "passed_time": 10.88067182,
            "remaining_time": 0.6332666136
           },
           {
            "iteration": 189,
            "learn": [
             0.1544166516
            ],
            "passed_time": 10.93995847,
            "remaining_time": 0.575787288
           },
           {
            "iteration": 190,
            "learn": [
             0.1543279574
            ],
            "passed_time": 11.02896602,
            "remaining_time": 0.5196894984
           },
           {
            "iteration": 191,
            "learn": [
             0.154308878
            ],
            "passed_time": 11.11189521,
            "remaining_time": 0.4629956336
           },
           {
            "iteration": 192,
            "learn": [
             0.1542302262
            ],
            "passed_time": 11.18217064,
            "remaining_time": 0.4055709558
           },
           {
            "iteration": 193,
            "learn": [
             0.1541928405
            ],
            "passed_time": 11.22672492,
            "remaining_time": 0.3472182966
           },
           {
            "iteration": 194,
            "learn": [
             0.1541218726
            ],
            "passed_time": 11.29344049,
            "remaining_time": 0.2895753971
           },
           {
            "iteration": 195,
            "learn": [
             0.1540885667
            ],
            "passed_time": 11.35884561,
            "remaining_time": 0.2318131758
           },
           {
            "iteration": 196,
            "learn": [
             0.1540299223
            ],
            "passed_time": 11.42490313,
            "remaining_time": 0.1739832963
           },
           {
            "iteration": 197,
            "learn": [
             0.153973326
            ],
            "passed_time": 11.48737239,
            "remaining_time": 0.1160340646
           },
           {
            "iteration": 198,
            "learn": [
             0.1539677203
            ],
            "passed_time": 11.55331698,
            "remaining_time": 0.05805686925
           },
           {
            "iteration": 199,
            "learn": [
             0.1538962256
            ],
            "passed_time": 11.64424577,
            "remaining_time": 0
           }
          ],
          "meta": {
           "iteration_count": 200,
           "launch_mode": "Train",
           "learn_metrics": [
            {
             "best_value": "Min",
             "name": "Logloss"
            }
           ],
           "learn_sets": [
            "learn"
           ],
           "name": "experiment",
           "parameters": "",
           "test_metrics": [],
           "test_sets": []
          }
         },
         "passed_iterations": 199,
         "total_iterations": 200
        },
        "name": "catboost_info",
        "path": "catboost_info"
       }
      },
      "layout": "IPY_MODEL_0deda5e77f4248a5b770e343c2c33d18"
     }
    },
    "24e68147c19a47959dcd5bbded15abea": {
     "model_module": "catboost-widget",
     "model_module_version": "^1.0.0",
     "model_name": "CatboostWidgetModel",
     "state": {
      "_dom_classes": [],
      "_model_module": "catboost-widget",
      "_model_module_version": "^1.0.0",
      "_model_name": "CatboostWidgetModel",
      "_view_count": null,
      "_view_module": "catboost-widget",
      "_view_module_version": "^1.0.0",
      "_view_name": "CatboostWidgetView",
      "data": {
       "catboost_info/fold-0": {
        "content": {
         "data": {
          "iterations": [
           {
            "iteration": 0,
            "learn": [
             0.3005937435
            ],
            "passed_time": 0.02209845407,
            "remaining_time": 1.745777872,
            "test": [
             0.3047568679,
             0.5
            ]
           },
           {
            "iteration": 1,
            "learn": [
             0.2244556995
            ],
            "passed_time": 0.07478814968,
            "remaining_time": 2.916737838,
            "test": [
             0.2291070327,
             0.6648543554
            ]
           },
           {
            "iteration": 2,
            "learn": [
             0.1974419613
            ],
            "passed_time": 0.1015426538,
            "remaining_time": 2.606261447,
            "test": [
             0.1981652177,
             0.7803539536
            ]
           },
           {
            "iteration": 3,
            "learn": [
             0.1859693554
            ],
            "passed_time": 0.1352658846,
            "remaining_time": 2.570051807,
            "test": [
             0.1851787524,
             0.8161685791
            ]
           },
           {
            "iteration": 4,
            "learn": [
             0.1800404999
            ],
            "passed_time": 0.1789212124,
            "remaining_time": 2.683818185,
            "test": [
             0.1789620545,
             0.8227134933
            ]
           },
           {
            "iteration": 5,
            "learn": [
             0.1760422015
            ],
            "passed_time": 0.2144098834,
            "remaining_time": 2.644388562,
            "test": [
             0.1756542426,
             0.8329025549
            ]
           },
           {
            "iteration": 6,
            "learn": [
             0.1735905262
            ],
            "passed_time": 0.2484411877,
            "remaining_time": 2.590886672,
            "test": [
             0.173586379,
             0.8349366267
            ]
           },
           {
            "iteration": 7,
            "learn": [
             0.1722724607
            ],
            "passed_time": 0.2838753653,
            "remaining_time": 2.554878287,
            "test": [
             0.1725277939,
             0.8385150063
            ]
           },
           {
            "iteration": 8,
            "learn": [
             0.1709741187
            ],
            "passed_time": 0.3215051933,
            "remaining_time": 2.536318747,
            "test": [
             0.172035117,
             0.8392614698
            ]
           },
           {
            "iteration": 9,
            "learn": [
             0.169729703
            ],
            "passed_time": 0.3573633751,
            "remaining_time": 2.501543626,
            "test": [
             0.1718435748,
             0.8409514943
            ]
           },
           {
            "iteration": 10,
            "learn": [
             0.1685496136
            ],
            "passed_time": 0.3926331171,
            "remaining_time": 2.462880462,
            "test": [
             0.1712234372,
             0.8410565171
            ]
           },
           {
            "iteration": 11,
            "learn": [
             0.167570096
            ],
            "passed_time": 0.4332768198,
            "remaining_time": 2.455235312,
            "test": [
             0.1705873603,
             0.8423698159
            ]
           },
           {
            "iteration": 12,
            "learn": [
             0.1672212704
            ],
            "passed_time": 0.46774389,
            "remaining_time": 2.410680048,
            "test": [
             0.1706122702,
             0.8424137981
            ]
           },
           {
            "iteration": 13,
            "learn": [
             0.1665708014
            ],
            "passed_time": 0.5030142529,
            "remaining_time": 2.371352906,
            "test": [
             0.1705346178,
             0.8425134772
            ]
           },
           {
            "iteration": 14,
            "learn": [
             0.1662792651
            ],
            "passed_time": 0.5362728664,
            "remaining_time": 2.323849088,
            "test": [
             0.1703285729,
             0.8425233424
            ]
           },
           {
            "iteration": 15,
            "learn": [
             0.1657999852
            ],
            "passed_time": 0.5775059224,
            "remaining_time": 2.310023689,
            "test": [
             0.170553716,
             0.8416605523
            ]
           },
           {
            "iteration": 16,
            "learn": [
             0.165416599
            ],
            "passed_time": 0.6121803577,
            "remaining_time": 2.268668385,
            "test": [
             0.1703085652,
             0.8412236081
            ]
           },
           {
            "iteration": 17,
            "learn": [
             0.1647597856
            ],
            "passed_time": 0.6459090473,
            "remaining_time": 2.224797829,
            "test": [
             0.1707242455,
             0.8418105849
            ]
           },
           {
            "iteration": 18,
            "learn": [
             0.1646505578
            ],
            "passed_time": 0.6806871091,
            "remaining_time": 2.185363877,
            "test": [
             0.1707262712,
             0.8414977773
            ]
           },
           {
            "iteration": 19,
            "learn": [
             0.1643696843
            ],
            "passed_time": 0.7165244199,
            "remaining_time": 2.14957326,
            "test": [
             0.1708855688,
             0.8415201794
            ]
           },
           {
            "iteration": 20,
            "learn": [
             0.1641859423
            ],
            "passed_time": 0.7488098787,
            "remaining_time": 2.103799183,
            "test": [
             0.1705092086,
             0.8422185502
            ]
           },
           {
            "iteration": 21,
            "learn": [
             0.1636643727
            ],
            "passed_time": 0.7829997076,
            "remaining_time": 2.064271956,
            "test": [
             0.1703907284,
             0.842203958
            ]
           },
           {
            "iteration": 22,
            "learn": [
             0.1629095568
            ],
            "passed_time": 0.8224856477,
            "remaining_time": 2.038333996,
            "test": [
             0.1703685898,
             0.8422506119
            ]
           },
           {
            "iteration": 23,
            "learn": [
             0.1622237973
            ],
            "passed_time": 0.857820438,
            "remaining_time": 2.001581022,
            "test": [
             0.1700160539,
             0.8423075421
            ]
           },
           {
            "iteration": 24,
            "learn": [
             0.1619205311
            ],
            "passed_time": 0.8906179999,
            "remaining_time": 1.9593596,
            "test": [
             0.170050107,
             0.8418403859
            ]
           },
           {
            "iteration": 25,
            "learn": [
             0.1613886243
            ],
            "passed_time": 0.9241233489,
            "remaining_time": 1.919333109,
            "test": [
             0.1700951672,
             0.842327478
            ]
           },
           {
            "iteration": 26,
            "learn": [
             0.1609097652
            ],
            "passed_time": 0.9702199291,
            "remaining_time": 1.904505787,
            "test": [
             0.1705368116,
             0.8421235981
            ]
           },
           {
            "iteration": 27,
            "learn": [
             0.159653387
            ],
            "passed_time": 1.005273797,
            "remaining_time": 1.866937051,
            "test": [
             0.1706288644,
             0.8426433685
            ]
           },
           {
            "iteration": 28,
            "learn": [
             0.1590332219
            ],
            "passed_time": 1.040306705,
            "remaining_time": 1.829504895,
            "test": [
             0.1702935095,
             0.8420469376
            ]
           },
           {
            "iteration": 29,
            "learn": [
             0.158701701
            ],
            "passed_time": 1.092892193,
            "remaining_time": 1.821486988,
            "test": [
             0.1700587907,
             0.8423309719
            ]
           },
           {
            "iteration": 30,
            "learn": [
             0.1585058033
            ],
            "passed_time": 1.128627772,
            "remaining_time": 1.783960027,
            "test": [
             0.1697705475,
             0.8425849996
            ]
           },
           {
            "iteration": 31,
            "learn": [
             0.1581914349
            ],
            "passed_time": 1.165091268,
            "remaining_time": 1.747636902,
            "test": [
             0.1697887963,
             0.8425870549
            ]
           },
           {
            "iteration": 32,
            "learn": [
             0.1578908906
            ],
            "passed_time": 1.200655427,
            "remaining_time": 1.710024395,
            "test": [
             0.169780747,
             0.84254595
            ]
           },
           {
            "iteration": 33,
            "learn": [
             0.1572975292
            ],
            "passed_time": 1.235081624,
            "remaining_time": 1.670992786,
            "test": [
             0.1698610936,
             0.8407130863
            ]
           },
           {
            "iteration": 34,
            "learn": [
             0.1571057652
            ],
            "passed_time": 1.267921257,
            "remaining_time": 1.630184474,
            "test": [
             0.1699359738,
             0.8406004591
            ]
           },
           {
            "iteration": 35,
            "learn": [
             0.1566669164
            ],
            "passed_time": 1.301526012,
            "remaining_time": 1.590754014,
            "test": [
             0.1698547286,
             0.841231007
            ]
           },
           {
            "iteration": 36,
            "learn": [
             0.1562396503
            ],
            "passed_time": 1.349016672,
            "remaining_time": 1.567776133,
            "test": [
             0.1696427413,
             0.8405774404
            ]
           },
           {
            "iteration": 37,
            "learn": [
             0.1561757718
            ],
            "passed_time": 1.38329922,
            "remaining_time": 1.528909664,
            "test": [
             0.1696754838,
             0.8402627831
            ]
           },
           {
            "iteration": 38,
            "learn": [
             0.1555880913
            ],
            "passed_time": 1.418757774,
            "remaining_time": 1.491514583,
            "test": [
             0.1695893693,
             0.8406869848
            ]
           },
           {
            "iteration": 39,
            "learn": [
             0.155394587
            ],
            "passed_time": 1.451125837,
            "remaining_time": 1.451125837,
            "test": [
             0.1702315262,
             0.8402348318
            ]
           },
           {
            "iteration": 40,
            "learn": [
             0.1545547156
            ],
            "passed_time": 1.483785779,
            "remaining_time": 1.411405985,
            "test": [
             0.1710871126,
             0.8388132218
            ]
           },
           {
            "iteration": 41,
            "learn": [
             0.1539788149
            ],
            "passed_time": 1.518488721,
            "remaining_time": 1.373870748,
            "test": [
             0.1710026185,
             0.8395979127
            ]
           },
           {
            "iteration": 42,
            "learn": [
             0.1537177241
            ],
            "passed_time": 1.551942669,
            "remaining_time": 1.335392529,
            "test": [
             0.1709209896,
             0.8397820623
            ]
           },
           {
            "iteration": 43,
            "learn": [
             0.1533914132
            ],
            "passed_time": 1.584923218,
            "remaining_time": 1.29675536,
            "test": [
             0.1707812345,
             0.8399497699
            ]
           },
           {
            "iteration": 44,
            "learn": [
             0.15274194
            ],
            "passed_time": 1.622905186,
            "remaining_time": 1.262259589,
            "test": [
             0.1708911972,
             0.8387585524
            ]
           },
           {
            "iteration": 45,
            "learn": [
             0.1524568591
            ],
            "passed_time": 1.661242814,
            "remaining_time": 1.227875124,
            "test": [
             0.1709420527,
             0.8385431631
            ]
           },
           {
            "iteration": 46,
            "learn": [
             0.1520908509
            ],
            "passed_time": 1.695196615,
            "remaining_time": 1.190244432,
            "test": [
             0.1711838175,
             0.8396402507
            ]
           },
           {
            "iteration": 47,
            "learn": [
             0.1518114475
            ],
            "passed_time": 1.732308015,
            "remaining_time": 1.15487201,
            "test": [
             0.1712766893,
             0.8397339696
            ]
           },
           {
            "iteration": 48,
            "learn": [
             0.1515218468
            ],
            "passed_time": 1.765286374,
            "remaining_time": 1.116813828,
            "test": [
             0.1712054428,
             0.8399551135
            ]
           },
           {
            "iteration": 49,
            "learn": [
             0.1505914221
            ],
            "passed_time": 1.798723581,
            "remaining_time": 1.079234148,
            "test": [
             0.1711361239,
             0.8405457897
            ]
           },
           {
            "iteration": 50,
            "learn": [
             0.150147896
            ],
            "passed_time": 1.833079949,
            "remaining_time": 1.042339579,
            "test": [
             0.1708950534,
             0.8412698511
            ]
           },
           {
            "iteration": 51,
            "learn": [
             0.1501476788
            ],
            "passed_time": 1.866070736,
            "remaining_time": 1.004807319,
            "test": [
             0.1708947083,
             0.8412698511
            ]
           },
           {
            "iteration": 52,
            "learn": [
             0.1497307739
            ],
            "passed_time": 1.898481666,
            "remaining_time": 0.9671510373,
            "test": [
             0.170773118,
             0.8416467822
            ]
           },
           {
            "iteration": 53,
            "learn": [
             0.1494061791
            ],
            "passed_time": 1.932527871,
            "remaining_time": 0.9304763824,
            "test": [
             0.1702918768,
             0.8436609182
            ]
           },
           {
            "iteration": 54,
            "learn": [
             0.1492061696
            ],
            "passed_time": 1.982415559,
            "remaining_time": 0.9010979815,
            "test": [
             0.1704792486,
             0.843531849
            ]
           },
           {
            "iteration": 55,
            "learn": [
             0.1488312162
            ],
            "passed_time": 2.018396027,
            "remaining_time": 0.8650268688,
            "test": [
             0.1707808536,
             0.8433148156
            ]
           },
           {
            "iteration": 56,
            "learn": [
             0.1486660878
            ],
            "passed_time": 2.054430272,
            "remaining_time": 0.8289806361,
            "test": [
             0.1710401489,
             0.8429921428
            ]
           },
           {
            "iteration": 57,
            "learn": [
             0.1481096643
            ],
            "passed_time": 2.119015755,
            "remaining_time": 0.8037645966,
            "test": [
             0.1714387751,
             0.8420487873
            ]
           },
           {
            "iteration": 58,
            "learn": [
             0.1475279862
            ],
            "passed_time": 2.178111975,
            "remaining_time": 0.7752601946,
            "test": [
             0.1714979724,
             0.8426591938
            ]
           },
           {
            "iteration": 59,
            "learn": [
             0.1471131726
            ],
            "passed_time": 2.222341702,
            "remaining_time": 0.7407805673,
            "test": [
             0.1713540245,
             0.8424355836
            ]
           },
           {
            "iteration": 60,
            "learn": [
             0.1463641842
            ],
            "passed_time": 2.255904076,
            "remaining_time": 0.7026586466,
            "test": [
             0.1710302462,
             0.842584383
            ]
           },
           {
            "iteration": 61,
            "learn": [
             0.1461804839
            ],
            "passed_time": 2.290311751,
            "remaining_time": 0.6649292181,
            "test": [
             0.1714018752,
             0.8424651791
            ]
           },
           {
            "iteration": 62,
            "learn": [
             0.1457568659
            ],
            "passed_time": 2.323750241,
            "remaining_time": 0.627043716,
            "test": [
             0.1714755766,
             0.842396123
            ]
           },
           {
            "iteration": 63,
            "learn": [
             0.1455991198
            ],
            "passed_time": 2.356807741,
            "remaining_time": 0.5892019352,
            "test": [
             0.1717483903,
             0.8421157882
            ]
           },
           {
            "iteration": 64,
            "learn": [
             0.1455689069
            ],
            "passed_time": 2.39037744,
            "remaining_time": 0.5516255632,
            "test": [
             0.1717298422,
             0.8420730391
            ]
           },
           {
            "iteration": 65,
            "learn": [
             0.145447952
            ],
            "passed_time": 2.423342171,
            "remaining_time": 0.5140422787,
            "test": [
             0.1717417004,
             0.8426550833
            ]
           },
           {
            "iteration": 66,
            "learn": [
             0.1452645618
            ],
            "passed_time": 2.455778937,
            "remaining_time": 0.4764944207,
            "test": [
             0.1718779215,
             0.8428721168
            ]
           },
           {
            "iteration": 67,
            "learn": [
             0.1450411474
            ],
            "passed_time": 2.490245503,
            "remaining_time": 0.4394550888,
            "test": [
             0.1717537158,
             0.843317693
            ]
           },
           {
            "iteration": 68,
            "learn": [
             0.1446686126
            ],
            "passed_time": 2.523412674,
            "remaining_time": 0.40228318,
            "test": [
             0.1718287831,
             0.8431082639
            ]
           },
           {
            "iteration": 69,
            "learn": [
             0.1439313997
            ],
            "passed_time": 2.558028942,
            "remaining_time": 0.365432706,
            "test": [
             0.171292139,
             0.8439118631
            ]
           },
           {
            "iteration": 70,
            "learn": [
             0.1436515693
            ],
            "passed_time": 2.590378376,
            "remaining_time": 0.3283578223,
            "test": [
             0.1714586769,
             0.8435480854
            ]
           },
           {
            "iteration": 71,
            "learn": [
             0.1431637377
            ],
            "passed_time": 2.625160486,
            "remaining_time": 0.2916844985,
            "test": [
             0.1716573248,
             0.8425693798
            ]
           },
           {
            "iteration": 72,
            "learn": [
             0.1428341537
            ],
            "passed_time": 2.663895005,
            "remaining_time": 0.2554419868,
            "test": [
             0.1715522696,
             0.8423946843
            ]
           },
           {
            "iteration": 73,
            "learn": [
             0.1426406132
            ],
            "passed_time": 2.696819072,
            "remaining_time": 0.2186610058,
            "test": [
             0.1716502311,
             0.8424641515
            ]
           },
           {
            "iteration": 74,
            "learn": [
             0.1422298648
            ],
            "passed_time": 2.730707014,
            "remaining_time": 0.1820471342,
            "test": [
             0.1717697242,
             0.8424625073
            ]
           },
           {
            "iteration": 75,
            "learn": [
             0.1421780592
            ],
            "passed_time": 2.766087734,
            "remaining_time": 0.145583565,
            "test": [
             0.1717634024,
             0.842485937
            ]
           },
           {
            "iteration": 76,
            "learn": [
             0.1417636694
            ],
            "passed_time": 2.798507882,
            "remaining_time": 0.1090327746,
            "test": [
             0.1716610161,
             0.8428768438
            ]
           },
           {
            "iteration": 77,
            "learn": [
             0.1413865063
            ],
            "passed_time": 2.83294453,
            "remaining_time": 0.07263960334,
            "test": [
             0.1716655571,
             0.8429389121
            ]
           },
           {
            "iteration": 78,
            "learn": [
             0.1411205019
            ],
            "passed_time": 2.866545853,
            "remaining_time": 0.03628539055,
            "test": [
             0.1718228737,
             0.8423313829
            ]
           },
           {
            "iteration": 79,
            "learn": [
             0.140979964
            ],
            "passed_time": 2.899500483,
            "remaining_time": 0,
            "test": [
             0.1719636147,
             0.8422582163
            ]
           }
          ],
          "meta": {
           "iteration_count": 80,
           "launch_mode": "Train",
           "learn_metrics": [
            {
             "best_value": "Min",
             "name": "Logloss"
            }
           ],
           "learn_sets": [
            "learn"
           ],
           "name": "experiment",
           "parameters": "",
           "test_metrics": [
            {
             "best_value": "Min",
             "name": "Logloss"
            },
            {
             "best_value": "Max",
             "name": "AUC"
            }
           ],
           "test_sets": [
            "test"
           ]
          }
         },
         "passed_iterations": 79,
         "total_iterations": 80
        },
        "name": "fold-0",
        "path": "catboost_info/fold-0"
       },
       "catboost_info/fold-1": {
        "content": {
         "data": {
          "iterations": [
           {
            "iteration": 0,
            "learn": [
             0.2989520834
            ],
            "passed_time": 0.02690813616,
            "remaining_time": 2.125742757,
            "test": [
             0.3074135176,
             0.5
            ]
           },
           {
            "iteration": 1,
            "learn": [
             0.2242640679
            ],
            "passed_time": 0.0652675818,
            "remaining_time": 2.54543569,
            "test": [
             0.2364428925,
             0.6378187267
            ]
           },
           {
            "iteration": 2,
            "learn": [
             0.1915563733
            ],
            "passed_time": 0.1103125145,
            "remaining_time": 2.831354538,
            "test": [
             0.196992567,
             0.8072965372
            ]
           },
           {
            "iteration": 3,
            "learn": [
             0.1843428079
            ],
            "passed_time": 0.1586357966,
            "remaining_time": 3.014080135,
            "test": [
             0.188086541,
             0.8096290241
            ]
           },
           {
            "iteration": 4,
            "learn": [
             0.1795974972
            ],
            "passed_time": 0.1951330046,
            "remaining_time": 2.92699507,
            "test": [
             0.1813474477,
             0.8202727532
            ]
           },
           {
            "iteration": 5,
            "learn": [
             0.1757153657
            ],
            "passed_time": 0.2290912421,
            "remaining_time": 2.825458652,
            "test": [
             0.1764736103,
             0.832025691
            ]
           },
           {
            "iteration": 6,
            "learn": [
             0.1730316286
            ],
            "passed_time": 0.2629267933,
            "remaining_time": 2.741950844,
            "test": [
             0.1743062425,
             0.8388472944
            ]
           },
           {
            "iteration": 7,
            "learn": [
             0.1722729279
            ],
            "passed_time": 0.2980665914,
            "remaining_time": 2.682599322,
            "test": [
             0.1729727943,
             0.8397047972
            ]
           },
           {
            "iteration": 8,
            "learn": [
             0.1710170752
            ],
            "passed_time": 0.3333249409,
            "remaining_time": 2.629563423,
            "test": [
             0.1719219149,
             0.8421462048
            ]
           },
           {
            "iteration": 9,
            "learn": [
             0.17048988
            ],
            "passed_time": 0.3664388536,
            "remaining_time": 2.565071975,
            "test": [
             0.1713478346,
             0.8422709685
            ]
           },
           {
            "iteration": 10,
            "learn": [
             0.1698601989
            ],
            "passed_time": 0.4028820318,
            "remaining_time": 2.527169108,
            "test": [
             0.1707095389,
             0.8437590231
            ]
           },
           {
            "iteration": 11,
            "learn": [
             0.1686057096
            ],
            "passed_time": 0.4370826209,
            "remaining_time": 2.476801518,
            "test": [
             0.1696651643,
             0.8451393452
            ]
           },
           {
            "iteration": 12,
            "learn": [
             0.1674329716
            ],
            "passed_time": 0.4727801415,
            "remaining_time": 2.436636114,
            "test": [
             0.1689016493,
             0.8463026181
            ]
           },
           {
            "iteration": 13,
            "learn": [
             0.1667329882
            ],
            "passed_time": 0.5045762991,
            "remaining_time": 2.378716839,
            "test": [
             0.1681882512,
             0.847344692
            ]
           },
           {
            "iteration": 14,
            "learn": [
             0.1654808201
            ],
            "passed_time": 0.5379292119,
            "remaining_time": 2.331026585,
            "test": [
             0.1671709382,
             0.8506798433
            ]
           },
           {
            "iteration": 15,
            "learn": [
             0.1648875172
            ],
            "passed_time": 0.5711212485,
            "remaining_time": 2.284484994,
            "test": [
             0.1669161655,
             0.8521035356
            ]
           },
           {
            "iteration": 16,
            "learn": [
             0.164550771
            ],
            "passed_time": 0.6036957771,
            "remaining_time": 2.237225527,
            "test": [
             0.1669267512,
             0.8512638562
            ]
           },
           {
            "iteration": 17,
            "learn": [
             0.1642009903
            ],
            "passed_time": 0.635985552,
            "remaining_time": 2.190616901,
            "test": [
             0.1666562733,
             0.8516167592
            ]
           },
           {
            "iteration": 18,
            "learn": [
             0.1635331447
            ],
            "passed_time": 0.6682806566,
            "remaining_time": 2.145532634,
            "test": [
             0.1664950154,
             0.8517716246
            ]
           },
           {
            "iteration": 19,
            "learn": [
             0.1631160369
            ],
            "passed_time": 0.7016061297,
            "remaining_time": 2.104818389,
            "test": [
             0.1665263162,
             0.8518478691
            ]
           },
           {
            "iteration": 20,
            "learn": [
             0.1623592001
            ],
            "passed_time": 0.769086196,
            "remaining_time": 2.160765979,
            "test": [
             0.1663701945,
             0.8516888449
            ]
           },
           {
            "iteration": 21,
            "learn": [
             0.1619385147
            ],
            "passed_time": 0.8006495159,
            "remaining_time": 2.110803269,
            "test": [
             0.1660464416,
             0.854174811
            ]
           },
           {
            "iteration": 22,
            "learn": [
             0.1615327278
            ],
            "passed_time": 0.8336103801,
            "remaining_time": 2.065903986,
            "test": [
             0.1660225045,
             0.8539415227
            ]
           },
           {
            "iteration": 23,
            "learn": [
             0.1611055647
            ],
            "passed_time": 0.8666503605,
            "remaining_time": 2.022184174,
            "test": [
             0.1658751419,
             0.8544843437
            ]
           },
           {
            "iteration": 24,
            "learn": [
             0.1610726204
            ],
            "passed_time": 0.8961336669,
            "remaining_time": 1.971494067,
            "test": [
             0.1658600054,
             0.8545041475
            ]
           },
           {
            "iteration": 25,
            "learn": [
             0.1603635745
            ],
            "passed_time": 0.9295711096,
            "remaining_time": 1.930647689,
            "test": [
             0.1655499015,
             0.8547305045
            ]
           },
           {
            "iteration": 26,
            "learn": [
             0.1596995514
            ],
            "passed_time": 0.9630568793,
            "remaining_time": 1.890444985,
            "test": [
             0.1648354282,
             0.8567467253
            ]
           },
           {
            "iteration": 27,
            "learn": [
             0.159211619
            ],
            "passed_time": 1.017085412,
            "remaining_time": 1.888872908,
            "test": [
             0.1651995737,
             0.8552549081
            ]
           },
           {
            "iteration": 28,
            "learn": [
             0.158722718
            ],
            "passed_time": 1.049607805,
            "remaining_time": 1.845862002,
            "test": [
             0.1650460998,
             0.8552461944
            ]
           },
           {
            "iteration": 29,
            "learn": [
             0.1583541827
            ],
            "passed_time": 1.084869876,
            "remaining_time": 1.80811646,
            "test": [
             0.1653779532,
             0.8546346543
            ]
           },
           {
            "iteration": 30,
            "learn": [
             0.1580561472
            ],
            "passed_time": 1.117540053,
            "remaining_time": 1.766434277,
            "test": [
             0.1655024969,
             0.8547683297
            ]
           },
           {
            "iteration": 31,
            "learn": [
             0.1576906514
            ],
            "passed_time": 1.154184381,
            "remaining_time": 1.731276571,
            "test": [
             0.1654751076,
             0.8549210167
            ]
           },
           {
            "iteration": 32,
            "learn": [
             0.1575427077
            ],
            "passed_time": 1.201998886,
            "remaining_time": 1.711937807,
            "test": [
             0.1654786332,
             0.8547948667
            ]
           },
           {
            "iteration": 33,
            "learn": [
             0.157484939
            ],
            "passed_time": 1.235844709,
            "remaining_time": 1.672025194,
            "test": [
             0.1654835501,
             0.8548463565
            ]
           },
           {
            "iteration": 34,
            "learn": [
             0.1571799136
            ],
            "passed_time": 1.276567802,
            "remaining_time": 1.641301459,
            "test": [
             0.1652125577,
             0.8547916981
            ]
           },
           {
            "iteration": 35,
            "learn": [
             0.156911697
            ],
            "passed_time": 1.322661069,
            "remaining_time": 1.616585752,
            "test": [
             0.1654470469,
             0.8542201616
            ]
           },
           {
            "iteration": 36,
            "learn": [
             0.156470278
            ],
            "passed_time": 1.35575854,
            "remaining_time": 1.575611276,
            "test": [
             0.1655053961,
             0.854396019
            ]
           },
           {
            "iteration": 37,
            "learn": [
             0.1558723247
            ],
            "passed_time": 1.391692849,
            "remaining_time": 1.538186834,
            "test": [
             0.1652600507,
             0.8542502633
            ]
           },
           {
            "iteration": 38,
            "learn": [
             0.1558722995
            ],
            "passed_time": 1.420016662,
            "remaining_time": 1.492838029,
            "test": [
             0.1652596598,
             0.8542502633
            ]
           },
           {
            "iteration": 39,
            "learn": [
             0.1548863966
            ],
            "passed_time": 1.456051013,
            "remaining_time": 1.456051013,
            "test": [
             0.1658262668,
             0.8532998808
            ]
           },
           {
            "iteration": 40,
            "learn": [
             0.1542805451
            ],
            "passed_time": 1.490253632,
            "remaining_time": 1.417558333,
            "test": [
             0.1651264119,
             0.8544116639
            ]
           },
           {
            "iteration": 41,
            "learn": [
             0.1538914275
            ],
            "passed_time": 1.527681849,
            "remaining_time": 1.38218834,
            "test": [
             0.1651741069,
             0.8534238524
            ]
           },
           {
            "iteration": 42,
            "learn": [
             0.1537257301
            ],
            "passed_time": 1.560222631,
            "remaining_time": 1.342517147,
            "test": [
             0.1649211072,
             0.8537779436
            ]
           },
           {
            "iteration": 43,
            "learn": [
             0.15306025
            ],
            "passed_time": 1.592479806,
            "remaining_time": 1.302938023,
            "test": [
             0.1647507005,
             0.854570094
            ]
           },
           {
            "iteration": 44,
            "learn": [
             0.1530598175
            ],
            "passed_time": 1.619545882,
            "remaining_time": 1.259646797,
            "test": [
             0.1647455213,
             0.8545696979
            ]
           },
           {
            "iteration": 45,
            "learn": [
             0.1530265784
            ],
            "passed_time": 1.651126325,
            "remaining_time": 1.220397718,
            "test": [
             0.1648271091,
             0.8543585899
            ]
           },
           {
            "iteration": 46,
            "learn": [
             0.1527932421
            ],
            "passed_time": 1.684648992,
            "remaining_time": 1.182838654,
            "test": [
             0.1646625123,
             0.8548394252
            ]
           },
           {
            "iteration": 47,
            "learn": [
             0.1526246259
            ],
            "passed_time": 1.717908722,
            "remaining_time": 1.145272481,
            "test": [
             0.1646755504,
             0.854554251
            ]
           },
           {
            "iteration": 48,
            "learn": [
             0.1521574419
            ],
            "passed_time": 1.751969478,
            "remaining_time": 1.108388853,
            "test": [
             0.164632916,
             0.8547186222
            ]
           },
           {
            "iteration": 49,
            "learn": [
             0.151717538
            ],
            "passed_time": 1.784775429,
            "remaining_time": 1.070865257,
            "test": [
             0.1651846888,
             0.8541930304
            ]
           },
           {
            "iteration": 50,
            "learn": [
             0.151416269
            ],
            "passed_time": 1.818349353,
            "remaining_time": 1.033963357,
            "test": [
             0.1650616753,
             0.8545047416
            ]
           },
           {
            "iteration": 51,
            "learn": [
             0.1512429249
            ],
            "passed_time": 1.850486314,
            "remaining_time": 0.9964157077,
            "test": [
             0.1649290396,
             0.8545166239
            ]
           },
           {
            "iteration": 52,
            "learn": [
             0.1505732946
            ],
            "passed_time": 1.883071755,
            "remaining_time": 0.9593007056,
            "test": [
             0.1650738696,
             0.8534361307
            ]
           },
           {
            "iteration": 53,
            "learn": [
             0.1503373689
            ],
            "passed_time": 1.915933409,
            "remaining_time": 0.9224864563,
            "test": [
             0.1651077371,
             0.8530210439
            ]
           },
           {
            "iteration": 54,
            "learn": [
             0.1499080153
            ],
            "passed_time": 1.948666248,
            "remaining_time": 0.8857573856,
            "test": [
             0.1651907865,
             0.853321665
            ]
           },
           {
            "iteration": 55,
            "learn": [
             0.1494260984
            ],
            "passed_time": 1.981100479,
            "remaining_time": 0.8490430626,
            "test": [
             0.1655174045,
             0.8527507225
            ]
           },
           {
            "iteration": 56,
            "learn": [
             0.1488279012
            ],
            "passed_time": 2.152020006,
            "remaining_time": 0.8683589499,
            "test": [
             0.166432362,
             0.8510028426
            ]
           },
           {
            "iteration": 57,
            "learn": [
             0.148664163
            ],
            "passed_time": 2.19132784,
            "remaining_time": 0.8311933188,
            "test": [
             0.1665772634,
             0.8507489584
            ]
           },
           {
            "iteration": 58,
            "learn": [
             0.1484557395
            ],
            "passed_time": 2.232271115,
            "remaining_time": 0.7945371765,
            "test": [
             0.1664198534,
             0.8509727409
            ]
           },
           {
            "iteration": 59,
            "learn": [
             0.1477446593
            ],
            "passed_time": 2.266302268,
            "remaining_time": 0.7554340895,
            "test": [
             0.1670330759,
             0.8491187129
            ]
           },
           {
            "iteration": 60,
            "learn": [
             0.1474963814
            ],
            "passed_time": 2.298318244,
            "remaining_time": 0.715869617,
            "test": [
             0.1669675994,
             0.8495745954
            ]
           },
           {
            "iteration": 61,
            "learn": [
             0.1468822572
            ],
            "passed_time": 2.331337024,
            "remaining_time": 0.6768397812,
            "test": [
             0.1666268234,
             0.8496385616
            ]
           },
           {
            "iteration": 62,
            "learn": [
             0.1464801321
            ],
            "passed_time": 2.363646961,
            "remaining_time": 0.6378094975,
            "test": [
             0.166919523,
             0.8489701846
            ]
           },
           {
            "iteration": 63,
            "learn": [
             0.1462102044
            ],
            "passed_time": 2.400156909,
            "remaining_time": 0.6000392274,
            "test": [
             0.1667623168,
             0.8498795733
            ]
           },
           {
            "iteration": 64,
            "learn": [
             0.1459689943
            ],
            "passed_time": 2.43389567,
            "remaining_time": 0.5616682316,
            "test": [
             0.1665906595,
             0.850299017
            ]
           },
           {
            "iteration": 65,
            "learn": [
             0.1457200336
            ],
            "passed_time": 2.467467349,
            "remaining_time": 0.523402165,
            "test": [
             0.1667657475,
             0.8499374003
            ]
           },
           {
            "iteration": 66,
            "learn": [
             0.145539943
            ],
            "passed_time": 2.499944674,
            "remaining_time": 0.485063892,
            "test": [
             0.1667136174,
             0.8500205761
            ]
           },
           {
            "iteration": 67,
            "learn": [
             0.1454303087
            ],
            "passed_time": 2.531485773,
            "remaining_time": 0.4467327834,
            "test": [
             0.1667265854,
             0.8499088829
            ]
           },
           {
            "iteration": 68,
            "learn": [
             0.1449702719
            ],
            "passed_time": 2.565160456,
            "remaining_time": 0.4089386235,
            "test": [
             0.1673284224,
             0.8482921039
            ]
           },
           {
            "iteration": 69,
            "learn": [
             0.1446651581
            ],
            "passed_time": 2.597766779,
            "remaining_time": 0.3711095398,
            "test": [
             0.1676186082,
             0.8481483286
            ]
           },
           {
            "iteration": 70,
            "learn": [
             0.1446559569
            ],
            "passed_time": 2.624110096,
            "remaining_time": 0.3326336742,
            "test": [
             0.1676195142,
             0.8479843534
            ]
           },
           {
            "iteration": 71,
            "learn": [
             0.1443116392
            ],
            "passed_time": 2.65882459,
            "remaining_time": 0.2954249545,
            "test": [
             0.1673742486,
             0.8486525323
            ]
           },
           {
            "iteration": 72,
            "learn": [
             0.1438502425
            ],
            "passed_time": 2.695716648,
            "remaining_time": 0.2584933772,
            "test": [
             0.1673072231,
             0.8476694737
            ]
           },
           {
            "iteration": 73,
            "learn": [
             0.1437632756
            ],
            "passed_time": 2.728174311,
            "remaining_time": 0.2212033225,
            "test": [
             0.1671763736,
             0.848024357
            ]
           },
           {
            "iteration": 74,
            "learn": [
             0.1434715775
            ],
            "passed_time": 2.762352357,
            "remaining_time": 0.1841568238,
            "test": [
             0.1675102607,
             0.8473042923
            ]
           },
           {
            "iteration": 75,
            "learn": [
             0.1429371205
            ],
            "passed_time": 2.79573374,
            "remaining_time": 0.147143881,
            "test": [
             0.1674894224,
             0.8473086491
            ]
           },
           {
            "iteration": 76,
            "learn": [
             0.142318202
            ],
            "passed_time": 2.827739583,
            "remaining_time": 0.1101716721,
            "test": [
             0.1670305428,
             0.8468563312
            ]
           },
           {
            "iteration": 77,
            "learn": [
             0.1415422092
            ],
            "passed_time": 2.860523834,
            "remaining_time": 0.07334676498,
            "test": [
             0.1670028939,
             0.8471581406
            ]
           },
           {
            "iteration": 78,
            "learn": [
             0.1414038633
            ],
            "passed_time": 2.893756581,
            "remaining_time": 0.03662983014,
            "test": [
             0.1670180438,
             0.8470947685
            ]
           },
           {
            "iteration": 79,
            "learn": [
             0.140842658
            ],
            "passed_time": 2.928107533,
            "remaining_time": 0,
            "test": [
             0.1674726416,
             0.8463564843
            ]
           }
          ],
          "meta": {
           "iteration_count": 80,
           "launch_mode": "Train",
           "learn_metrics": [
            {
             "best_value": "Min",
             "name": "Logloss"
            }
           ],
           "learn_sets": [
            "learn"
           ],
           "name": "experiment",
           "parameters": "",
           "test_metrics": [
            {
             "best_value": "Min",
             "name": "Logloss"
            },
            {
             "best_value": "Max",
             "name": "AUC"
            }
           ],
           "test_sets": [
            "test"
           ]
          }
         },
         "passed_iterations": 79,
         "total_iterations": 80
        },
        "name": "fold-1",
        "path": "catboost_info/fold-1"
       },
       "catboost_info/fold-2": {
        "content": {
         "data": {
          "iterations": [
           {
            "iteration": 0,
            "learn": [
             0.3061347701
            ],
            "passed_time": 0.02269346528,
            "remaining_time": 1.792783757,
            "test": [
             0.3031500672,
             0.5
            ]
           },
           {
            "iteration": 1,
            "learn": [
             0.2256599496
            ],
            "passed_time": 0.05863543383,
            "remaining_time": 2.286781919,
            "test": [
             0.2175930778,
             0.6984376537
            ]
           },
           {
            "iteration": 2,
            "learn": [
             0.1941005548
            ],
            "passed_time": 0.09741611893,
            "remaining_time": 2.500347053,
            "test": [
             0.1850557538,
             0.790157737
            ]
           },
           {
            "iteration": 3,
            "learn": [
             0.1833918022
            ],
            "passed_time": 0.1616876529,
            "remaining_time": 3.072065406,
            "test": [
             0.173541078,
             0.8224292846
            ]
           },
           {
            "iteration": 4,
            "learn": [
             0.1802202866
            ],
            "passed_time": 0.1946286107,
            "remaining_time": 2.91942916,
            "test": [
             0.1697614511,
             0.8262787026
            ]
           },
           {
            "iteration": 5,
            "learn": [
             0.1773018409
            ],
            "passed_time": 0.2395540751,
            "remaining_time": 2.95450026,
            "test": [
             0.1645236508,
             0.8499548419
            ]
           },
           {
            "iteration": 6,
            "learn": [
             0.1754810407
            ],
            "passed_time": 0.2730053428,
            "remaining_time": 2.847055718,
            "test": [
             0.1616078113,
             0.8551289114
            ]
           },
           {
            "iteration": 7,
            "learn": [
             0.1747598687
            ],
            "passed_time": 0.3057506183,
            "remaining_time": 2.751755565,
            "test": [
             0.1605143825,
             0.8571838671
            ]
           },
           {
            "iteration": 8,
            "learn": [
             0.1739316283
            ],
            "passed_time": 0.3389876699,
            "remaining_time": 2.674236063,
            "test": [
             0.1590868079,
             0.8582853639
            ]
           },
           {
            "iteration": 9,
            "learn": [
             0.1732842177
            ],
            "passed_time": 0.3753308951,
            "remaining_time": 2.627316265,
            "test": [
             0.1591608298,
             0.8584033108
            ]
           },
           {
            "iteration": 10,
            "learn": [
             0.1718333496
            ],
            "passed_time": 0.4105086845,
            "remaining_time": 2.575009021,
            "test": [
             0.1577935988,
             0.8592179571
            ]
           },
           {
            "iteration": 11,
            "learn": [
             0.1711160301
            ],
            "passed_time": 0.4436296867,
            "remaining_time": 2.513901558,
            "test": [
             0.1573158709,
             0.8601764679
            ]
           },
           {
            "iteration": 12,
            "learn": [
             0.1709147023
            ],
            "passed_time": 0.4761932914,
            "remaining_time": 2.454226964,
            "test": [
             0.1568445636,
             0.8614011829
            ]
           },
           {
            "iteration": 13,
            "learn": [
             0.1706996929
            ],
            "passed_time": 0.5116547646,
            "remaining_time": 2.412086747,
            "test": [
             0.1569402219,
             0.8608832708
            ]
           },
           {
            "iteration": 14,
            "learn": [
             0.1702335672
            ],
            "passed_time": 0.54434934,
            "remaining_time": 2.35884714,
            "test": [
             0.1567396892,
             0.8610840221
            ]
           },
           {
            "iteration": 15,
            "learn": [
             0.1697326159
            ],
            "passed_time": 0.5781258825,
            "remaining_time": 2.31250353,
            "test": [
             0.1565137682,
             0.8621475211
            ]
           },
           {
            "iteration": 16,
            "learn": [
             0.1693502149
            ],
            "passed_time": 0.6107310461,
            "remaining_time": 2.263297406,
            "test": [
             0.1562255512,
             0.8626021767
            ]
           },
           {
            "iteration": 17,
            "learn": [
             0.1691273574
            ],
            "passed_time": 0.6463376472,
            "remaining_time": 2.226274118,
            "test": [
             0.1556686578,
             0.8634021071
            ]
           },
           {
            "iteration": 18,
            "learn": [
             0.1682312101
            ],
            "passed_time": 0.679477657,
            "remaining_time": 2.181480899,
            "test": [
             0.1550178182,
             0.8637454051
            ]
           },
           {
            "iteration": 19,
            "learn": [
             0.1674209821
            ],
            "passed_time": 0.7125559659,
            "remaining_time": 2.137667898,
            "test": [
             0.1548509296,
             0.8630190542
            ]
           },
           {
            "iteration": 20,
            "learn": [
             0.1665386878
            ],
            "passed_time": 0.7450386723,
            "remaining_time": 2.093203889,
            "test": [
             0.1550997492,
             0.863322158
            ]
           },
           {
            "iteration": 21,
            "learn": [
             0.1662734613
            ],
            "passed_time": 0.7766896751,
            "remaining_time": 2.047636416,
            "test": [
             0.1550617816,
             0.8634543816
            ]
           },
           {
            "iteration": 22,
            "learn": [
             0.1662039128
            ],
            "passed_time": 0.8084228206,
            "remaining_time": 2.003482642,
            "test": [
             0.1549928735,
             0.8633603755
            ]
           },
           {
            "iteration": 23,
            "learn": [
             0.165725959
            ],
            "passed_time": 0.8400631694,
            "remaining_time": 1.960147395,
            "test": [
             0.155040398,
             0.8629022055
            ]
           },
           {
            "iteration": 24,
            "learn": [
             0.1646222292
            ],
            "passed_time": 0.8726586354,
            "remaining_time": 1.919848998,
            "test": [
             0.1548448973,
             0.8625773574
            ]
           },
           {
            "iteration": 25,
            "learn": [
             0.1637614897
            ],
            "passed_time": 0.9059218427,
            "remaining_time": 1.881529981,
            "test": [
             0.1549743135,
             0.8633263312
            ]
           },
           {
            "iteration": 26,
            "learn": [
             0.1636614757
            ],
            "passed_time": 0.9409483935,
            "remaining_time": 1.847046847,
            "test": [
             0.1546813247,
             0.8640621266
            ]
           },
           {
            "iteration": 27,
            "learn": [
             0.1634727618
            ],
            "passed_time": 0.9760793971,
            "remaining_time": 1.81271888,
            "test": [
             0.1544736479,
             0.8645336946
            ]
           },
           {
            "iteration": 28,
            "learn": [
             0.1633770723
            ],
            "passed_time": 1.005259775,
            "remaining_time": 1.767870639,
            "test": [
             0.1545114852,
             0.8639553814
            ]
           },
           {
            "iteration": 29,
            "learn": [
             0.1633618493
            ],
            "passed_time": 1.034233356,
            "remaining_time": 1.72372226,
            "test": [
             0.1545176484,
             0.8639685598
            ]
           },
           {
            "iteration": 30,
            "learn": [
             0.1627436062
            ],
            "passed_time": 1.071568717,
            "remaining_time": 1.693769907,
            "test": [
             0.1544852158,
             0.8640922173
            ]
           },
           {
            "iteration": 31,
            "learn": [
             0.1621581696
            ],
            "passed_time": 1.103927753,
            "remaining_time": 1.655891629,
            "test": [
             0.1544767562,
             0.8642204874
            ]
           },
           {
            "iteration": 32,
            "learn": [
             0.1615825389
            ],
            "passed_time": 1.163240038,
            "remaining_time": 1.656735811,
            "test": [
             0.154447637,
             0.8646457112
            ]
           },
           {
            "iteration": 33,
            "learn": [
             0.1615315553
            ],
            "passed_time": 1.194948487,
            "remaining_time": 1.616695011,
            "test": [
             0.154436784,
             0.8647603635
            ]
           },
           {
            "iteration": 34,
            "learn": [
             0.1607734254
            ],
            "passed_time": 1.236207731,
            "remaining_time": 1.589409939,
            "test": [
             0.154297676,
             0.864993402
            ]
           },
           {
            "iteration": 35,
            "learn": [
             0.1603448198
            ],
            "passed_time": 1.271229387,
            "remaining_time": 1.553724807,
            "test": [
             0.15425211,
             0.8666016092
            ]
           },
           {
            "iteration": 36,
            "learn": [
             0.1596822779
            ],
            "passed_time": 1.303513007,
            "remaining_time": 1.514893495,
            "test": [
             0.1544537555,
             0.8660571206
            ]
           },
           {
            "iteration": 37,
            "learn": [
             0.1594916381
            ],
            "passed_time": 1.338266777,
            "remaining_time": 1.479136964,
            "test": [
             0.1545735454,
             0.865785645
            ]
           },
           {
            "iteration": 38,
            "learn": [
             0.1590486515
            ],
            "passed_time": 1.375176077,
            "remaining_time": 1.445697928,
            "test": [
             0.1544375017,
             0.8664362199
            ]
           },
           {
            "iteration": 39,
            "learn": [
             0.1585671496
            ],
            "passed_time": 1.409002515,
            "remaining_time": 1.409002515,
            "test": [
             0.1544698276,
             0.8670270527
            ]
           },
           {
            "iteration": 40,
            "learn": [
             0.1582172678
            ],
            "passed_time": 1.441726878,
            "remaining_time": 1.371398738,
            "test": [
             0.1548591126,
             0.8659257756
            ]
           },
           {
            "iteration": 41,
            "learn": [
             0.1579955224
            ],
            "passed_time": 1.474431479,
            "remaining_time": 1.334009434,
            "test": [
             0.1548799775,
             0.8653992975
            ]
           },
           {
            "iteration": 42,
            "learn": [
             0.1575567677
            ],
            "passed_time": 1.507401545,
            "remaining_time": 1.297066446,
            "test": [
             0.1546555583,
             0.8663569297
            ]
           },
           {
            "iteration": 43,
            "learn": [
             0.1571766022
            ],
            "passed_time": 1.540215508,
            "remaining_time": 1.260176324,
            "test": [
             0.1546983055,
             0.8651726286
            ]
           },
           {
            "iteration": 44,
            "learn": [
             0.1564844753
            ],
            "passed_time": 1.573921559,
            "remaining_time": 1.224161213,
            "test": [
             0.1545603184,
             0.8636885183
            ]
           },
           {
            "iteration": 45,
            "learn": [
             0.1564094229
            ],
            "passed_time": 1.606319128,
            "remaining_time": 1.187279356,
            "test": [
             0.1546822505,
             0.8635488269
            ]
           },
           {
            "iteration": 46,
            "learn": [
             0.1560981536
            ],
            "passed_time": 1.638345994,
            "remaining_time": 1.150328038,
            "test": [
             0.1546605165,
             0.8632773514
            ]
           },
           {
            "iteration": 47,
            "learn": [
             0.1557369781
            ],
            "passed_time": 1.671189835,
            "remaining_time": 1.114126557,
            "test": [
             0.1548992936,
             0.8633586183
            ]
           },
           {
            "iteration": 48,
            "learn": [
             0.1552515667
            ],
            "passed_time": 1.704346046,
            "remaining_time": 1.078259743,
            "test": [
             0.1550148446,
             0.8636340474
            ]
           },
           {
            "iteration": 49,
            "learn": [
             0.1547985998
            ],
            "passed_time": 1.737839574,
            "remaining_time": 1.042703744,
            "test": [
             0.1549233255,
             0.8636437116
            ]
           },
           {
            "iteration": 50,
            "learn": [
             0.1547216775
            ],
            "passed_time": 1.771145469,
            "remaining_time": 1.007121933,
            "test": [
             0.1548800944,
             0.8636112048
            ]
           },
           {
            "iteration": 51,
            "learn": [
             0.1545001102
            ],
            "passed_time": 1.804841662,
            "remaining_time": 0.971837818,
            "test": [
             0.1553749535,
             0.8617609539
            ]
           },
           {
            "iteration": 52,
            "learn": [
             0.1541881739
            ],
            "passed_time": 1.837582846,
            "remaining_time": 0.93612711,
            "test": [
             0.1557695171,
             0.8612579773
            ]
           },
           {
            "iteration": 53,
            "learn": [
             0.1537877757
            ],
            "passed_time": 1.869976647,
            "remaining_time": 0.9003591265,
            "test": [
             0.1560536684,
             0.861104229
            ]
           },
           {
            "iteration": 54,
            "learn": [
             0.1533601275
            ],
            "passed_time": 1.904925468,
            "remaining_time": 0.8658752127,
            "test": [
             0.1562526362,
             0.8603657979
            ]
           },
           {
            "iteration": 55,
            "learn": [
             0.1530706599
            ],
            "passed_time": 1.937049557,
            "remaining_time": 0.830164096,
            "test": [
             0.1562783192,
             0.8603708497
            ]
           },
           {
            "iteration": 56,
            "learn": [
             0.1528681435
            ],
            "passed_time": 1.969528116,
            "remaining_time": 0.7947218715,
            "test": [
             0.1559629714,
             0.8610495386
            ]
           },
           {
            "iteration": 57,
            "learn": [
             0.1527296916
            ],
            "passed_time": 2.002652311,
            "remaining_time": 0.7596267387,
            "test": [
             0.15600432,
             0.8611330019
            ]
           },
           {
            "iteration": 58,
            "learn": [
             0.152408278
            ],
            "passed_time": 2.035718731,
            "remaining_time": 0.7245778534,
            "test": [
             0.1558895719,
             0.86085318
            ]
           },
           {
            "iteration": 59,
            "learn": [
             0.1518893241
            ],
            "passed_time": 2.072168986,
            "remaining_time": 0.6907229953,
            "test": [
             0.1557359774,
             0.8613429782
            ]
           },
           {
            "iteration": 60,
            "learn": [
             0.1514532427
            ],
            "passed_time": 2.107288173,
            "remaining_time": 0.6563684474,
            "test": [
             0.1556269266,
             0.8615845826
            ]
           },
           {
            "iteration": 61,
            "learn": [
             0.1510824852
            ],
            "passed_time": 2.156385976,
            "remaining_time": 0.6260475415,
            "test": [
             0.1556304429,
             0.8618670402
            ]
           },
           {
            "iteration": 62,
            "learn": [
             0.1507891181
            ],
            "passed_time": 2.211246517,
            "remaining_time": 0.596685568,
            "test": [
             0.155662695,
             0.8615841434
            ]
           },
           {
            "iteration": 63,
            "learn": [
             0.1505639638
            ],
            "passed_time": 2.250388794,
            "remaining_time": 0.5625971986,
            "test": [
             0.1555865261,
             0.8617484344
            ]
           },
           {
            "iteration": 64,
            "learn": [
             0.1504094295
            ],
            "passed_time": 2.287650507,
            "remaining_time": 0.5279193479,
            "test": [
             0.1556592591,
             0.8617176847
            ]
           },
           {
            "iteration": 65,
            "learn": [
             0.1500586932
            ],
            "passed_time": 2.321244593,
            "remaining_time": 0.4923852167,
            "test": [
             0.1553301172,
             0.8617515094
            ]
           },
           {
            "iteration": 66,
            "learn": [
             0.149691613
            ],
            "passed_time": 2.354625348,
            "remaining_time": 0.4568676048,
            "test": [
             0.1554575467,
             0.860809252
            ]
           },
           {
            "iteration": 67,
            "learn": [
             0.149500714
            ],
            "passed_time": 2.390921319,
            "remaining_time": 0.4219272916,
            "test": [
             0.1552077617,
             0.8609072116
            ]
           },
           {
            "iteration": 68,
            "learn": [
             0.1492327553
            ],
            "passed_time": 2.42358467,
            "remaining_time": 0.3863685706,
            "test": [
             0.1550461297,
             0.8615808488
            ]
           },
           {
            "iteration": 69,
            "learn": [
             0.1490997352
            ],
            "passed_time": 2.455753821,
            "remaining_time": 0.3508219744,
            "test": [
             0.1552768725,
             0.8612298634
            ]
           },
           {
            "iteration": 70,
            "learn": [
             0.1489393258
            ],
            "passed_time": 2.488245161,
            "remaining_time": 0.3154113584,
            "test": [
             0.1551389539,
             0.8614332504
            ]
           },
           {
            "iteration": 71,
            "learn": [
             0.1484821315
            ],
            "passed_time": 2.521649269,
            "remaining_time": 0.2801832521,
            "test": [
             0.1553574494,
             0.8598865425
            ]
           },
           {
            "iteration": 72,
            "learn": [
             0.148220392
            ],
            "passed_time": 2.555605882,
            "remaining_time": 0.2450580983,
            "test": [
             0.1554487266,
             0.859996802
            ]
           },
           {
            "iteration": 73,
            "learn": [
             0.1480605204
            ],
            "passed_time": 2.589329789,
            "remaining_time": 0.2099456586,
            "test": [
             0.1553920234,
             0.8601149686
            ]
           },
           {
            "iteration": 74,
            "learn": [
             0.1478658878
            ],
            "passed_time": 2.623818795,
            "remaining_time": 0.174921253,
            "test": [
             0.1554506016,
             0.8599735202
            ]
           },
           {
            "iteration": 75,
            "learn": [
             0.1474941972
            ],
            "passed_time": 2.656572305,
            "remaining_time": 0.139819595,
            "test": [
             0.1552239349,
             0.8607749881
            ]
           },
           {
            "iteration": 76,
            "learn": [
             0.1472503225
            ],
            "passed_time": 2.690412083,
            "remaining_time": 0.10482125,
            "test": [
             0.1553272581,
             0.860236869
            ]
           },
           {
            "iteration": 77,
            "learn": [
             0.147022631
            ],
            "passed_time": 2.724897562,
            "remaining_time": 0.06986916827,
            "test": [
             0.1552724686,
             0.8596653646
            ]
           },
           {
            "iteration": 78,
            "learn": [
             0.1464851792
            ],
            "passed_time": 2.760098784,
            "remaining_time": 0.03493795929,
            "test": [
             0.1548630329,
             0.8604920912
            ]
           },
           {
            "iteration": 79,
            "learn": [
             0.1462616114
            ],
            "passed_time": 2.793769894,
            "remaining_time": 0,
            "test": [
             0.1547365265,
             0.8606651678
            ]
           }
          ],
          "meta": {
           "iteration_count": 80,
           "launch_mode": "Train",
           "learn_metrics": [
            {
             "best_value": "Min",
             "name": "Logloss"
            }
           ],
           "learn_sets": [
            "learn"
           ],
           "name": "experiment",
           "parameters": "",
           "test_metrics": [
            {
             "best_value": "Min",
             "name": "Logloss"
            },
            {
             "best_value": "Max",
             "name": "AUC"
            }
           ],
           "test_sets": [
            "test"
           ]
          }
         },
         "passed_iterations": 79,
         "total_iterations": 80
        },
        "name": "fold-2",
        "path": "catboost_info/fold-2"
       },
       "catboost_info/fold-3": {
        "content": {
         "data": {
          "iterations": [
           {
            "iteration": 0,
            "learn": [
             0.3077766459
            ],
            "passed_time": 0.02582374644,
            "remaining_time": 2.040075969,
            "test": [
             0.3003739353,
             0.5
            ]
           },
           {
            "iteration": 1,
            "learn": [
             0.2333271415
            ],
            "passed_time": 0.06382032817,
            "remaining_time": 2.488992798,
            "test": [
             0.2216394942,
             0.6423153396
            ]
           },
           {
            "iteration": 2,
            "learn": [
             0.2015087008
            ],
            "passed_time": 0.08929943368,
            "remaining_time": 2.292018798,
            "test": [
             0.1827087533,
             0.7820496745
            ]
           },
           {
            "iteration": 3,
            "learn": [
             0.1914524211
            ],
            "passed_time": 0.1221073908,
            "remaining_time": 2.320040426,
            "test": [
             0.1708139245,
             0.7998197729
            ]
           },
           {
            "iteration": 4,
            "learn": [
             0.1846952811
            ],
            "passed_time": 0.1664062719,
            "remaining_time": 2.496094078,
            "test": [
             0.1616217085,
             0.8299361627
            ]
           },
           {
            "iteration": 5,
            "learn": [
             0.1825613606
            ],
            "passed_time": 0.2021096799,
            "remaining_time": 2.492686052,
            "test": [
             0.1596173791,
             0.8303952274
            ]
           },
           {
            "iteration": 6,
            "learn": [
             0.1787076627
            ],
            "passed_time": 0.2355039933,
            "remaining_time": 2.455970216,
            "test": [
             0.1553837736,
             0.8402252747
            ]
           },
           {
            "iteration": 7,
            "learn": [
             0.1772844375
            ],
            "passed_time": 0.2684814934,
            "remaining_time": 2.416333441,
            "test": [
             0.1541171656,
             0.844118024
            ]
           },
           {
            "iteration": 8,
            "learn": [
             0.1753935778
            ],
            "passed_time": 0.3152319254,
            "remaining_time": 2.486829634,
            "test": [
             0.1523091242,
             0.8475597462
            ]
           },
           {
            "iteration": 9,
            "learn": [
             0.1747616568
            ],
            "passed_time": 0.3597283854,
            "remaining_time": 2.518098698,
            "test": [
             0.1524985088,
             0.8457671203
            ]
           },
           {
            "iteration": 10,
            "learn": [
             0.1739845349
            ],
            "passed_time": 0.3957821458,
            "remaining_time": 2.48263346,
            "test": [
             0.15215061,
             0.8466638925
            ]
           },
           {
            "iteration": 11,
            "learn": [
             0.1730628928
            ],
            "passed_time": 0.4369153578,
            "remaining_time": 2.475853694,
            "test": [
             0.1516376109,
             0.8481967874
            ]
           },
           {
            "iteration": 12,
            "learn": [
             0.1728750681
            ],
            "passed_time": 0.469548182,
            "remaining_time": 2.419979092,
            "test": [
             0.1515091274,
             0.8486501109
            ]
           },
           {
            "iteration": 13,
            "learn": [
             0.1716269794
            ],
            "passed_time": 0.5097849947,
            "remaining_time": 2.403272118,
            "test": [
             0.1517136206,
             0.8493202214
            ]
           },
           {
            "iteration": 14,
            "learn": [
             0.1707664934
            ],
            "passed_time": 0.5427680517,
            "remaining_time": 2.351994891,
            "test": [
             0.151189253,
             0.8513604069
            ]
           },
           {
            "iteration": 15,
            "learn": [
             0.1701373253
            ],
            "passed_time": 0.575942014,
            "remaining_time": 2.303768056,
            "test": [
             0.1509593699,
             0.8520741503
            ]
           },
           {
            "iteration": 16,
            "learn": [
             0.169915094
            ],
            "passed_time": 0.6081654698,
            "remaining_time": 2.253789682,
            "test": [
             0.1509393443,
             0.8526700847
            ]
           },
           {
            "iteration": 17,
            "learn": [
             0.1694108651
            ],
            "passed_time": 0.6418650233,
            "remaining_time": 2.210868414,
            "test": [
             0.1508939845,
             0.8529465799
            ]
           },
           {
            "iteration": 18,
            "learn": [
             0.1684078078
            ],
            "passed_time": 0.6741129612,
            "remaining_time": 2.164257402,
            "test": [
             0.1508205025,
             0.8520656534
            ]
           },
           {
            "iteration": 19,
            "learn": [
             0.1680983432
            ],
            "passed_time": 0.7062258369,
            "remaining_time": 2.118677511,
            "test": [
             0.1506612396,
             0.8526227774
            ]
           },
           {
            "iteration": 20,
            "learn": [
             0.1673999542
            ],
            "passed_time": 0.7387370125,
            "remaining_time": 2.075499226,
            "test": [
             0.15025703,
             0.8528650552
            ]
           },
           {
            "iteration": 21,
            "learn": [
             0.1672400805
            ],
            "passed_time": 0.7714741949,
            "remaining_time": 2.033886514,
            "test": [
             0.1503340176,
             0.8527451794
            ]
           },
           {
            "iteration": 22,
            "learn": [
             0.1671259944
            ],
            "passed_time": 0.8029852084,
            "remaining_time": 1.990006821,
            "test": [
             0.1501686116,
             0.8528694185
            ]
           },
           {
            "iteration": 23,
            "learn": [
             0.1670628439
            ],
            "passed_time": 0.8463689831,
            "remaining_time": 1.974860961,
            "test": [
             0.1500725626,
             0.8528404829
            ]
           },
           {
            "iteration": 24,
            "learn": [
             0.1664984768
            ],
            "passed_time": 0.8790023958,
            "remaining_time": 1.933805271,
            "test": [
             0.1493305182,
             0.8542264036
            ]
           },
           {
            "iteration": 25,
            "learn": [
             0.16589135
            ],
            "passed_time": 0.9115930807,
            "remaining_time": 1.893308706,
            "test": [
             0.1484239356,
             0.8576515912
            ]
           },
           {
            "iteration": 26,
            "learn": [
             0.1656424083
            ],
            "passed_time": 0.9435039191,
            "remaining_time": 1.852063249,
            "test": [
             0.1479990618,
             0.8578895057
            ]
           },
           {
            "iteration": 27,
            "learn": [
             0.1655327587
            ],
            "passed_time": 0.9748051303,
            "remaining_time": 1.810352385,
            "test": [
             0.1480936122,
             0.8578729711
            ]
           },
           {
            "iteration": 28,
            "learn": [
             0.1655217911
            ],
            "passed_time": 1.004971387,
            "remaining_time": 1.767363473,
            "test": [
             0.148091091,
             0.8578798605
            ]
           },
           {
            "iteration": 29,
            "learn": [
             0.1648234937
            ],
            "passed_time": 1.037512487,
            "remaining_time": 1.729187479,
            "test": [
             0.147747144,
             0.8597882286
            ]
           },
           {
            "iteration": 30,
            "learn": [
             0.1644214645
            ],
            "passed_time": 1.072878859,
            "remaining_time": 1.695840778,
            "test": [
             0.1478377377,
             0.8600174164
            ]
           },
           {
            "iteration": 31,
            "learn": [
             0.1640917493
            ],
            "passed_time": 1.105502485,
            "remaining_time": 1.658253727,
            "test": [
             0.1480531169,
             0.8591651958
            ]
           },
           {
            "iteration": 32,
            "learn": [
             0.1630203862
            ],
            "passed_time": 1.139702194,
            "remaining_time": 1.623212216,
            "test": [
             0.1475362107,
             0.8594212524
            ]
           },
           {
            "iteration": 33,
            "learn": [
             0.1628161378
            ],
            "passed_time": 1.173547538,
            "remaining_time": 1.587740787,
            "test": [
             0.1476686842,
             0.8592235262
            ]
           },
           {
            "iteration": 34,
            "learn": [
             0.1624797853
            ],
            "passed_time": 1.207143141,
            "remaining_time": 1.552041181,
            "test": [
             0.1477017051,
             0.8595528402
            ]
           },
           {
            "iteration": 35,
            "learn": [
             0.162209375
            ],
            "passed_time": 1.240241435,
            "remaining_time": 1.515850642,
            "test": [
             0.1477457613,
             0.859633676
            ]
           },
           {
            "iteration": 36,
            "learn": [
             0.1617326847
            ],
            "passed_time": 1.272888467,
            "remaining_time": 1.479302814,
            "test": [
             0.147832409,
             0.8589998498
            ]
           },
           {
            "iteration": 37,
            "learn": [
             0.1614237123
            ],
            "passed_time": 1.305651785,
            "remaining_time": 1.443088815,
            "test": [
             0.1478327389,
             0.8592030876
            ]
           },
           {
            "iteration": 38,
            "learn": [
             0.1611594597
            ],
            "passed_time": 1.3669013,
            "remaining_time": 1.436998803,
            "test": [
             0.1474827963,
             0.8599921553
            ]
           },
           {
            "iteration": 39,
            "learn": [
             0.1607375685
            ],
            "passed_time": 1.399433452,
            "remaining_time": 1.399433452,
            "test": [
             0.1468179899,
             0.8605736219
            ]
           },
           {
            "iteration": 40,
            "learn": [
             0.159727619
            ],
            "passed_time": 1.444679171,
            "remaining_time": 1.374207016,
            "test": [
             0.1464489522,
             0.8602463747
            ]
           },
           {
            "iteration": 41,
            "learn": [
             0.1596055534
            ],
            "passed_time": 1.475875242,
            "remaining_time": 1.335315695,
            "test": [
             0.1464230618,
             0.8604287145
            ]
           },
           {
            "iteration": 42,
            "learn": [
             0.1593080429
            ],
            "passed_time": 1.512578241,
            "remaining_time": 1.301520812,
            "test": [
             0.1463235327,
             0.8609911205
            ]
           },
           {
            "iteration": 43,
            "learn": [
             0.1587865481
            ],
            "passed_time": 1.551276076,
            "remaining_time": 1.26922588,
            "test": [
             0.1456805983,
             0.8604652284
            ]
           },
           {
            "iteration": 44,
            "learn": [
             0.1575350581
            ],
            "passed_time": 1.58746719,
            "remaining_time": 1.234696703,
            "test": [
             0.1454195345,
             0.8601659982
            ]
           },
           {
            "iteration": 45,
            "learn": [
             0.1566160361
            ],
            "passed_time": 1.624286226,
            "remaining_time": 1.200559385,
            "test": [
             0.1452291925,
             0.8614667198
            ]
           },
           {
            "iteration": 46,
            "learn": [
             0.1565052116
            ],
            "passed_time": 1.657922379,
            "remaining_time": 1.16407316,
            "test": [
             0.1451777026,
             0.8615374511
            ]
           },
           {
            "iteration": 47,
            "learn": [
             0.1557269377
            ],
            "passed_time": 1.691588461,
            "remaining_time": 1.127725641,
            "test": [
             0.1444330239,
             0.8638398937
            ]
           },
           {
            "iteration": 48,
            "learn": [
             0.1554063796
            ],
            "passed_time": 1.726460397,
            "remaining_time": 1.092250456,
            "test": [
             0.1441507715,
             0.8643203156
            ]
           },
           {
            "iteration": 49,
            "learn": [
             0.1552920443
            ],
            "passed_time": 1.758713455,
            "remaining_time": 1.055228073,
            "test": [
             0.1443641054,
             0.8636717919
            ]
           },
           {
            "iteration": 50,
            "learn": [
             0.1550786449
            ],
            "passed_time": 1.793221319,
            "remaining_time": 1.019674868,
            "test": [
             0.144280692,
             0.8639064913
            ]
           },
           {
            "iteration": 51,
            "learn": [
             0.1546930583
            ],
            "passed_time": 1.826338805,
            "remaining_time": 0.9834132026,
            "test": [
             0.1443922816,
             0.8634481156
            ]
           },
           {
            "iteration": 52,
            "learn": [
             0.1543427089
            ],
            "passed_time": 1.859948129,
            "remaining_time": 0.9475207449,
            "test": [
             0.1440008939,
             0.8656908499
            ]
           },
           {
            "iteration": 53,
            "learn": [
             0.1539497667
            ],
            "passed_time": 1.893681493,
            "remaining_time": 0.9117725708,
            "test": [
             0.1435499735,
             0.866926811
            ]
           },
           {
            "iteration": 54,
            "learn": [
             0.1537291913
            ],
            "passed_time": 1.926230578,
            "remaining_time": 0.8755593536,
            "test": [
             0.143567124,
             0.8668069352
            ]
           },
           {
            "iteration": 55,
            "learn": [
             0.1529863722
            ],
            "passed_time": 1.961468527,
            "remaining_time": 0.8406293688,
            "test": [
             0.1433537051,
             0.8676919954
            ]
           },
           {
            "iteration": 56,
            "learn": [
             0.1526852795
            ],
            "passed_time": 1.994651251,
            "remaining_time": 0.8048592768,
            "test": [
             0.1441295185,
             0.8668184175
            ]
           },
           {
            "iteration": 57,
            "learn": [
             0.1524296722
            ],
            "passed_time": 2.027496977,
            "remaining_time": 0.7690505773,
            "test": [
             0.144157765,
             0.8666138019
            ]
           },
           {
            "iteration": 58,
            "learn": [
             0.1523827992
            ],
            "passed_time": 2.061687319,
            "remaining_time": 0.73382091,
            "test": [
             0.1442995778,
             0.8662872436
            ]
           },
           {
            "iteration": 59,
            "learn": [
             0.1520180264
            ],
            "passed_time": 2.093875462,
            "remaining_time": 0.6979584875,
            "test": [
             0.1444687453,
             0.8670234924
            ]
           },
           {
            "iteration": 60,
            "learn": [
             0.1514348543
            ],
            "passed_time": 2.128930328,
            "remaining_time": 0.6631094464,
            "test": [
             0.1446982741,
             0.866765369
            ]
           },
           {
            "iteration": 61,
            "learn": [
             0.1512387341
            ],
            "passed_time": 2.162208898,
            "remaining_time": 0.6277380671,
            "test": [
             0.145088299,
             0.8660341724
            ]
           },
           {
            "iteration": 62,
            "learn": [
             0.1511279679
            ],
            "passed_time": 2.197883455,
            "remaining_time": 0.5930796624,
            "test": [
             0.1448866549,
             0.8663878291
            ]
           },
           {
            "iteration": 63,
            "learn": [
             0.1511276155
            ],
            "passed_time": 2.225950404,
            "remaining_time": 0.5564876009,
            "test": [
             0.144887243,
             0.8663873698
            ]
           },
           {
            "iteration": 64,
            "learn": [
             0.1509162034
            ],
            "passed_time": 2.259650425,
            "remaining_time": 0.5214577904,
            "test": [
             0.1449571266,
             0.8652074426
            ]
           },
           {
            "iteration": 65,
            "learn": [
             0.1503415087
            ],
            "passed_time": 2.293218162,
            "remaining_time": 0.4864402162,
            "test": [
             0.1450287156,
             0.865006731
            ]
           },
           {
            "iteration": 66,
            "learn": [
             0.1493028931
            ],
            "passed_time": 2.325783525,
            "remaining_time": 0.4512714301,
            "test": [
             0.1453141354,
             0.8641602515
            ]
           },
           {
            "iteration": 67,
            "learn": [
             0.1491931094
            ],
            "passed_time": 2.391075705,
            "remaining_time": 0.4219545362,
            "test": [
             0.1452192736,
             0.8642314421
            ]
           },
           {
            "iteration": 68,
            "learn": [
             0.1488334403
            ],
            "passed_time": 2.434563472,
            "remaining_time": 0.3881188144,
            "test": [
             0.1451778371,
             0.8633339809
            ]
           },
           {
            "iteration": 69,
            "learn": [
             0.1485821487
            ],
            "passed_time": 2.477008104,
            "remaining_time": 0.3538583005,
            "test": [
             0.1453058361,
             0.8627355204
            ]
           },
           {
            "iteration": 70,
            "learn": [
             0.1485631873
            ],
            "passed_time": 2.512308706,
            "remaining_time": 0.318461667,
            "test": [
             0.1452772921,
             0.8628021181
            ]
           },
           {
            "iteration": 71,
            "learn": [
             0.1482592098
            ],
            "passed_time": 2.545061666,
            "remaining_time": 0.2827846296,
            "test": [
             0.1452140305,
             0.8632150237
            ]
           },
           {
            "iteration": 72,
            "learn": [
             0.1479154787
            ],
            "passed_time": 2.576793455,
            "remaining_time": 0.2470897833,
            "test": [
             0.1450838023,
             0.8632398256
            ]
           },
           {
            "iteration": 73,
            "learn": [
             0.1475966098
            ],
            "passed_time": 2.611401455,
            "remaining_time": 0.2117352531,
            "test": [
             0.1450173591,
             0.8631442924
            ]
           },
           {
            "iteration": 74,
            "learn": [
             0.1475186961
            ],
            "passed_time": 2.644281802,
            "remaining_time": 0.1762854535,
            "test": [
             0.1451171177,
             0.8631534783
            ]
           },
           {
            "iteration": 75,
            "learn": [
             0.1470369914
            ],
            "passed_time": 2.677459012,
            "remaining_time": 0.1409188954,
            "test": [
             0.1456168256,
             0.8609557548
            ]
           },
           {
            "iteration": 76,
            "learn": [
             0.1468802547
            ],
            "passed_time": 2.709364075,
            "remaining_time": 0.1055596393,
            "test": [
             0.1454692367,
             0.8618311698
            ]
           },
           {
            "iteration": 77,
            "learn": [
             0.1468141221
            ],
            "passed_time": 2.741516588,
            "remaining_time": 0.07029529712,
            "test": [
             0.1454284399,
             0.8624833678
            ]
           },
           {
            "iteration": 78,
            "learn": [
             0.1463007669
            ],
            "passed_time": 2.775470393,
            "remaining_time": 0.03513253662,
            "test": [
             0.1451870321,
             0.862845751
            ]
           },
           {
            "iteration": 79,
            "learn": [
             0.1460523197
            ],
            "passed_time": 2.808801412,
            "remaining_time": 0,
            "test": [
             0.1454557796,
             0.8626046215
            ]
           }
          ],
          "meta": {
           "iteration_count": 80,
           "launch_mode": "Train",
           "learn_metrics": [
            {
             "best_value": "Min",
             "name": "Logloss"
            }
           ],
           "learn_sets": [
            "learn"
           ],
           "name": "experiment",
           "parameters": "",
           "test_metrics": [
            {
             "best_value": "Min",
             "name": "Logloss"
            },
            {
             "best_value": "Max",
             "name": "AUC"
            }
           ],
           "test_sets": [
            "test"
           ]
          }
         },
         "passed_iterations": 79,
         "total_iterations": 80
        },
        "name": "fold-3",
        "path": "catboost_info/fold-3"
       },
       "catboost_info/fold-4": {
        "content": {
         "data": {
          "iterations": [
           {
            "iteration": 0,
            "learn": [
             0.2975217627
            ],
            "passed_time": 0.03872065511,
            "remaining_time": 3.058931754,
            "test": [
             0.2961402429,
             0.5678873255
            ]
           },
           {
            "iteration": 1,
            "learn": [
             0.234780278
            ],
            "passed_time": 0.05397892246,
            "remaining_time": 2.105177976,
            "test": [
             0.232069464,
             0.5678873255
            ]
           },
           {
            "iteration": 2,
            "learn": [
             0.1993704379
            ],
            "passed_time": 0.08534319713,
            "remaining_time": 2.190475393,
            "test": [
             0.1913599556,
             0.7986871839
            ]
           },
           {
            "iteration": 3,
            "learn": [
             0.188254359
            ],
            "passed_time": 0.1197068745,
            "remaining_time": 2.274430616,
            "test": [
             0.1767987611,
             0.8213989976
            ]
           },
           {
            "iteration": 4,
            "learn": [
             0.1823439596
            ],
            "passed_time": 0.1659291376,
            "remaining_time": 2.488937065,
            "test": [
             0.1697368616,
             0.8334416257
            ]
           },
           {
            "iteration": 5,
            "learn": [
             0.1801340569
            ],
            "passed_time": 0.1994526532,
            "remaining_time": 2.459916057,
            "test": [
             0.1673492034,
             0.8362761445
            ]
           },
           {
            "iteration": 6,
            "learn": [
             0.1772022401
            ],
            "passed_time": 0.2346322707,
            "remaining_time": 2.446879395,
            "test": [
             0.1635891466,
             0.8453431257
            ]
           },
           {
            "iteration": 7,
            "learn": [
             0.1750677976
            ],
            "passed_time": 0.2727608326,
            "remaining_time": 2.454847494,
            "test": [
             0.1620246809,
             0.845900679
            ]
           },
           {
            "iteration": 8,
            "learn": [
             0.1736381465
            ],
            "passed_time": 0.3081792706,
            "remaining_time": 2.431192024,
            "test": [
             0.1607496773,
             0.8468350808
            ]
           },
           {
            "iteration": 9,
            "learn": [
             0.1733084216
            ],
            "passed_time": 0.340325962,
            "remaining_time": 2.382281734,
            "test": [
             0.1603286523,
             0.8470190473
            ]
           },
           {
            "iteration": 10,
            "learn": [
             0.1721030387
            ],
            "passed_time": 0.3729191553,
            "remaining_time": 2.339220156,
            "test": [
             0.1595530867,
             0.8476016078
            ]
           },
           {
            "iteration": 11,
            "learn": [
             0.1709330159
            ],
            "passed_time": 0.4066856117,
            "remaining_time": 2.304551799,
            "test": [
             0.158791507,
             0.8490194109
            ]
           },
           {
            "iteration": 12,
            "learn": [
             0.1699951805
            ],
            "passed_time": 0.4417305514,
            "remaining_time": 2.276611303,
            "test": [
             0.1578193746,
             0.8524136575
            ]
           },
           {
            "iteration": 13,
            "learn": [
             0.1694765353
            ],
            "passed_time": 0.4740502168,
            "remaining_time": 2.234808165,
            "test": [
             0.1580768286,
             0.8519902737
            ]
           },
           {
            "iteration": 14,
            "learn": [
             0.1691932103
            ],
            "passed_time": 0.5475686571,
            "remaining_time": 2.372797514,
            "test": [
             0.1580802611,
             0.8512383162
            ]
           },
           {
            "iteration": 15,
            "learn": [
             0.1690876877
            ],
            "passed_time": 0.5994405073,
            "remaining_time": 2.397762029,
            "test": [
             0.1578723207,
             0.8513444339
            ]
           },
           {
            "iteration": 16,
            "learn": [
             0.1687510258
            ],
            "passed_time": 0.6320026148,
            "remaining_time": 2.342127337,
            "test": [
             0.1579441782,
             0.8512278784
            ]
           },
           {
            "iteration": 17,
            "learn": [
             0.1679965692
            ],
            "passed_time": 0.6712751137,
            "remaining_time": 2.312169836,
            "test": [
             0.158228853,
             0.8502019282
            ]
           },
           {
            "iteration": 18,
            "learn": [
             0.1676397856
            ],
            "passed_time": 0.7045746215,
            "remaining_time": 2.262055364,
            "test": [
             0.1580882943,
             0.8500420992
            ]
           },
           {
            "iteration": 19,
            "learn": [
             0.1670501094
            ],
            "passed_time": 0.7387320128,
            "remaining_time": 2.216196038,
            "test": [
             0.1577809004,
             0.8513531321
            ]
           },
           {
            "iteration": 20,
            "learn": [
             0.1666711076
            ],
            "passed_time": 0.772774537,
            "remaining_time": 2.171128461,
            "test": [
             0.1576633045,
             0.8518447967
            ]
           },
           {
            "iteration": 21,
            "learn": [
             0.1662197851
            ],
            "passed_time": 0.8059223917,
            "remaining_time": 2.124704487,
            "test": [
             0.157577047,
             0.8524815033
            ]
           },
           {
            "iteration": 22,
            "learn": [
             0.1658066493
            ],
            "passed_time": 0.8378660253,
            "remaining_time": 2.076450585,
            "test": [
             0.1568951527,
             0.8544855636
            ]
           },
           {
            "iteration": 23,
            "learn": [
             0.1656952632
            ],
            "passed_time": 0.8713850439,
            "remaining_time": 2.033231769,
            "test": [
             0.1568510184,
             0.8545164422
            ]
           },
           {
            "iteration": 24,
            "learn": [
             0.1647653787
            ],
            "passed_time": 0.9051564772,
            "remaining_time": 1.99134425,
            "test": [
             0.1565680551,
             0.8548365351
            ]
           },
           {
            "iteration": 25,
            "learn": [
             0.1644046316
            ],
            "passed_time": 0.9509841729,
            "remaining_time": 1.975120974,
            "test": [
             0.1565644304,
             0.8551681532
            ]
           },
           {
            "iteration": 26,
            "learn": [
             0.1636830789
            ],
            "passed_time": 0.9867921432,
            "remaining_time": 1.937036429,
            "test": [
             0.1567169285,
             0.854801525
            ]
           },
           {
            "iteration": 27,
            "learn": [
             0.1630067228
            ],
            "passed_time": 1.019905002,
            "remaining_time": 1.894109289,
            "test": [
             0.1569954994,
             0.8547491184
            ]
           },
           {
            "iteration": 28,
            "learn": [
             0.1625086229
            ],
            "passed_time": 1.052078279,
            "remaining_time": 1.850206629,
            "test": [
             0.1567623721,
             0.8562243295
            ]
           },
           {
            "iteration": 29,
            "learn": [
             0.1622592798
            ],
            "passed_time": 1.113815457,
            "remaining_time": 1.856359096,
            "test": [
             0.1567016417,
             0.8565235468
            ]
           },
           {
            "iteration": 30,
            "learn": [
             0.1618245952
            ],
            "passed_time": 1.148816949,
            "remaining_time": 1.815871951,
            "test": [
             0.1567427868,
             0.8559285914
            ]
           },
           {
            "iteration": 31,
            "learn": [
             0.1616455272
            ],
            "passed_time": 1.185374229,
            "remaining_time": 1.778061343,
            "test": [
             0.1566980961,
             0.8556798235
            ]
           },
           {
            "iteration": 32,
            "learn": [
             0.1612675818
            ],
            "passed_time": 1.217857927,
            "remaining_time": 1.734524926,
            "test": [
             0.1569018669,
             0.8557850715
            ]
           },
           {
            "iteration": 33,
            "learn": [
             0.1609132868
            ],
            "passed_time": 1.250251831,
            "remaining_time": 1.691517184,
            "test": [
             0.1565910179,
             0.8560908125
            ]
           },
           {
            "iteration": 34,
            "learn": [
             0.1608585112
            ],
            "passed_time": 1.27829547,
            "remaining_time": 1.643522747,
            "test": [
             0.1567231381,
             0.8559394642
            ]
           },
           {
            "iteration": 35,
            "learn": [
             0.1599409725
            ],
            "passed_time": 1.312927817,
            "remaining_time": 1.604689554,
            "test": [
             0.1563461621,
             0.8564683134
            ]
           },
           {
            "iteration": 36,
            "learn": [
             0.1597929252
            ],
            "passed_time": 1.345026625,
            "remaining_time": 1.56313905,
            "test": [
             0.1564282279,
             0.8564578756
            ]
           },
           {
            "iteration": 37,
            "learn": [
             0.1595448689
            ],
            "passed_time": 1.378702951,
            "remaining_time": 1.523829578,
            "test": [
             0.1563234371,
             0.8572296215
            ]
           },
           {
            "iteration": 38,
            "learn": [
             0.1591070725
            ],
            "passed_time": 1.413019518,
            "remaining_time": 1.485482057,
            "test": [
             0.1564035164,
             0.8567588326
            ]
           },
           {
            "iteration": 39,
            "learn": [
             0.1589571199
            ],
            "passed_time": 1.445267816,
            "remaining_time": 1.445267816,
            "test": [
             0.1563265399,
             0.8570410885
            ]
           },
           {
            "iteration": 40,
            "learn": [
             0.1586508698
            ],
            "passed_time": 1.477211991,
            "remaining_time": 1.405152869,
            "test": [
             0.1564998729,
             0.8557359268
            ]
           },
           {
            "iteration": 41,
            "learn": [
             0.1584560203
            ],
            "passed_time": 1.518336564,
            "remaining_time": 1.373733082,
            "test": [
             0.1566185618,
             0.8554910731
            ]
           },
           {
            "iteration": 42,
            "learn": [
             0.1576926
            ],
            "passed_time": 1.581793446,
            "remaining_time": 1.361078081,
            "test": [
             0.156806946,
             0.8540402169
            ]
           },
           {
            "iteration": 43,
            "learn": [
             0.15757333
            ],
            "passed_time": 1.632666864,
            "remaining_time": 1.335818343,
            "test": [
             0.1567378359,
             0.8539497558
            ]
           },
           {
            "iteration": 44,
            "learn": [
             0.157051998
            ],
            "passed_time": 1.665203217,
            "remaining_time": 1.295158058,
            "test": [
             0.1568225192,
             0.8540034671
            ]
           },
           {
            "iteration": 45,
            "learn": [
             0.1565512355
            ],
            "passed_time": 1.698963897,
            "remaining_time": 1.255755924,
            "test": [
             0.1567743251,
             0.8546530036
            ]
           },
           {
            "iteration": 46,
            "learn": [
             0.1549392015
            ],
            "passed_time": 1.731605737,
            "remaining_time": 1.215808284,
            "test": [
             0.1564514753,
             0.8552518732
            ]
           },
           {
            "iteration": 47,
            "learn": [
             0.1545958847
            ],
            "passed_time": 1.76454941,
            "remaining_time": 1.176366273,
            "test": [
             0.1564075184,
             0.8551157467
            ]
           },
           {
            "iteration": 48,
            "learn": [
             0.1541770765
            ],
            "passed_time": 1.798730511,
            "remaining_time": 1.137972364,
            "test": [
             0.1563825043,
             0.8542946386
            ]
           },
           {
            "iteration": 49,
            "learn": [
             0.1538561574
            ],
            "passed_time": 1.832319183,
            "remaining_time": 1.09939151,
            "test": [
             0.1563500476,
             0.8545025251
            ]
           },
           {
            "iteration": 50,
            "learn": [
             0.15357967
            ],
            "passed_time": 1.865499775,
            "remaining_time": 1.060774382,
            "test": [
             0.1562527868,
             0.8550328965
            ]
           },
           {
            "iteration": 51,
            "learn": [
             0.1533428983
            ],
            "passed_time": 1.90242275,
            "remaining_time": 1.024381481,
            "test": [
             0.1562269411,
             0.8561401746
            ]
           },
           {
            "iteration": 52,
            "learn": [
             0.1533202278
            ],
            "passed_time": 1.936499467,
            "remaining_time": 0.9865185965,
            "test": [
             0.1561798611,
             0.8561523521
            ]
           },
           {
            "iteration": 53,
            "learn": [
             0.1530637653
            ],
            "passed_time": 1.969209285,
            "remaining_time": 0.9481378038,
            "test": [
             0.1560909596,
             0.8558570489
            ]
           },
           {
            "iteration": 54,
            "learn": [
             0.1523409639
            ],
            "passed_time": 2.002589139,
            "remaining_time": 0.9102677905,
            "test": [
             0.1562167767,
             0.8558561791
            ]
           },
           {
            "iteration": 55,
            "learn": [
             0.1509496599
            ],
            "passed_time": 2.036769692,
            "remaining_time": 0.8729012966,
            "test": [
             0.1560519524,
             0.8561414794
            ]
           },
           {
            "iteration": 56,
            "learn": [
             0.1504226969
            ],
            "passed_time": 2.071546527,
            "remaining_time": 0.8358871952,
            "test": [
             0.1563460369,
             0.8551842448
            ]
           },
           {
            "iteration": 57,
            "learn": [
             0.1501207462
            ],
            "passed_time": 2.104023281,
            "remaining_time": 0.7980777964,
            "test": [
             0.156377404,
             0.8555630505
            ]
           },
           {
            "iteration": 58,
            "learn": [
             0.149805941
            ],
            "passed_time": 2.136195622,
            "remaining_time": 0.7603408146,
            "test": [
             0.1563786112,
             0.8556304614
            ]
           },
           {
            "iteration": 59,
            "learn": [
             0.1496304811
            ],
            "passed_time": 2.169624914,
            "remaining_time": 0.7232083047,
            "test": [
             0.1566569891,
             0.8555199945
            ]
           },
           {
            "iteration": 60,
            "learn": [
             0.148957719
            ],
            "passed_time": 2.206855377,
            "remaining_time": 0.687381183,
            "test": [
             0.1565822604,
             0.8561545266
            ]
           },
           {
            "iteration": 61,
            "learn": [
             0.1487611887
            ],
            "passed_time": 2.24051696,
            "remaining_time": 0.6504726658,
            "test": [
             0.1565024082,
             0.8562449877
            ]
           },
           {
            "iteration": 62,
            "learn": [
             0.1484071446
            ],
            "passed_time": 2.275046921,
            "remaining_time": 0.61390155,
            "test": [
             0.1565214637,
             0.8572431036
            ]
           },
           {
            "iteration": 63,
            "learn": [
             0.1481500001
            ],
            "passed_time": 2.309685969,
            "remaining_time": 0.5774214921,
            "test": [
             0.156237325,
             0.8573905378
            ]
           },
           {
            "iteration": 64,
            "learn": [
             0.1477741024
            ],
            "passed_time": 2.34243138,
            "remaining_time": 0.5405610878,
            "test": [
             0.1564730984,
             0.8572304913
            ]
           },
           {
            "iteration": 65,
            "learn": [
             0.1477029799
            ],
            "passed_time": 2.376511987,
            "remaining_time": 0.5041086034,
            "test": [
             0.1565009446,
             0.857117415
            ]
           },
           {
            "iteration": 66,
            "learn": [
             0.1476106131
            ],
            "passed_time": 2.410078435,
            "remaining_time": 0.467627159,
            "test": [
             0.1567714639,
             0.8570186906
            ]
           },
           {
            "iteration": 67,
            "learn": [
             0.1472460535
            ],
            "passed_time": 2.449510246,
            "remaining_time": 0.4322665141,
            "test": [
             0.1568529359,
             0.8569225758
            ]
           },
           {
            "iteration": 68,
            "learn": [
             0.1467846691
            ],
            "passed_time": 2.482918547,
            "remaining_time": 0.3958275944,
            "test": [
             0.1570651161,
             0.8558435667
            ]
           },
           {
            "iteration": 69,
            "learn": [
             0.1465888458
            ],
            "passed_time": 2.516611749,
            "remaining_time": 0.3595159642,
            "test": [
             0.1570355629,
             0.8559348976
            ]
           },
           {
            "iteration": 70,
            "learn": [
             0.1460241196
            ],
            "passed_time": 2.577219738,
            "remaining_time": 0.3266898259,
            "test": [
             0.1570319848,
             0.8566237933
            ]
           },
           {
            "iteration": 71,
            "learn": [
             0.1459215664
            ],
            "passed_time": 2.677853205,
            "remaining_time": 0.297539245,
            "test": [
             0.1571547931,
             0.8564389571
            ]
           },
           {
            "iteration": 72,
            "learn": [
             0.1454000815
            ],
            "passed_time": 2.767273561,
            "remaining_time": 0.265354999,
            "test": [
             0.1572577044,
             0.8566085715
            ]
           },
           {
            "iteration": 73,
            "learn": [
             0.145121227
            ],
            "passed_time": 2.858266541,
            "remaining_time": 0.2317513412,
            "test": [
             0.1571227018,
             0.8569280121
            ]
           },
           {
            "iteration": 74,
            "learn": [
             0.1448803224
            ],
            "passed_time": 2.925332031,
            "remaining_time": 0.1950221354,
            "test": [
             0.1572612467,
             0.8563565418
            ]
           },
           {
            "iteration": 75,
            "learn": [
             0.1447276971
            ],
            "passed_time": 2.958984609,
            "remaining_time": 0.1557360321,
            "test": [
             0.1573358748,
             0.8564600501
            ]
           },
           {
            "iteration": 76,
            "learn": [
             0.1446353178
            ],
            "passed_time": 2.992561198,
            "remaining_time": 0.1165932934,
            "test": [
             0.1574085206,
             0.8563908996
            ]
           },
           {
            "iteration": 77,
            "learn": [
             0.1445440797
            ],
            "passed_time": 3.025989698,
            "remaining_time": 0.07758947943,
            "test": [
             0.1572465029,
             0.8567744893
            ]
           },
           {
            "iteration": 78,
            "learn": [
             0.1440781711
            ],
            "passed_time": 3.059632464,
            "remaining_time": 0.03872952486,
            "test": [
             0.1570771455,
             0.856121691
            ]
           },
           {
            "iteration": 79,
            "learn": [
             0.1439311744
            ],
            "passed_time": 3.092526299,
            "remaining_time": 0,
            "test": [
             0.1571900468,
             0.8555354338
            ]
           }
          ],
          "meta": {
           "iteration_count": 80,
           "launch_mode": "Train",
           "learn_metrics": [
            {
             "best_value": "Min",
             "name": "Logloss"
            }
           ],
           "learn_sets": [
            "learn"
           ],
           "name": "experiment",
           "parameters": "",
           "test_metrics": [
            {
             "best_value": "Min",
             "name": "Logloss"
            },
            {
             "best_value": "Max",
             "name": "AUC"
            }
           ],
           "test_sets": [
            "test"
           ]
          }
         },
         "passed_iterations": 79,
         "total_iterations": 80
        },
        "name": "fold-4",
        "path": "catboost_info/fold-4"
       }
      },
      "layout": "IPY_MODEL_f7d9457eb9f04e0780c4db776adf019d"
     }
    },
    "27c0fc5b90674a6db6830cce1590b616": {
     "model_module": "catboost-widget",
     "model_module_version": "^1.0.0",
     "model_name": "CatboostWidgetModel",
     "state": {
      "_dom_classes": [],
      "_model_module": "catboost-widget",
      "_model_module_version": "^1.0.0",
      "_model_name": "CatboostWidgetModel",
      "_view_count": null,
      "_view_module": "catboost-widget",
      "_view_module_version": "^1.0.0",
      "_view_name": "CatboostWidgetView",
      "data": {
       "catboost_info": {
        "content": {
         "data": {
          "iterations": [
           {
            "iteration": 0,
            "learn": [
             0.3019454033
            ],
            "passed_time": 0.03347199145,
            "remaining_time": 6.660926299,
            "test": [
             0.3026453308
            ]
           },
           {
            "iteration": 1,
            "learn": [
             0.2194643336
            ],
            "passed_time": 0.08998957184,
            "remaining_time": 8.908967612,
            "test": [
             0.2175722686
            ]
           },
           {
            "iteration": 2,
            "learn": [
             0.1900878944
            ],
            "passed_time": 0.1322536108,
            "remaining_time": 8.684653775,
            "test": [
             0.1812002974
            ]
           },
           {
            "iteration": 3,
            "learn": [
             0.1783254767
            ],
            "passed_time": 0.1732916518,
            "remaining_time": 8.491290938,
            "test": [
             0.1656738083
            ]
           },
           {
            "iteration": 4,
            "learn": [
             0.1724974471
            ],
            "passed_time": 0.2464977174,
            "remaining_time": 9.613410978,
            "test": [
             0.1572136392
            ]
           },
           {
            "iteration": 5,
            "learn": [
             0.1695906373
            ],
            "passed_time": 0.303536223,
            "remaining_time": 9.814337877,
            "test": [
             0.1540460607
            ]
           },
           {
            "iteration": 6,
            "learn": [
             0.1644359223
            ],
            "passed_time": 0.3717226651,
            "remaining_time": 10.24892491,
            "test": [
             0.1502181166
            ]
           },
           {
            "iteration": 7,
            "learn": [
             0.1629882117
            ],
            "passed_time": 0.4481490696,
            "remaining_time": 10.75557767,
            "test": [
             0.1492910907
            ]
           },
           {
            "iteration": 8,
            "learn": [
             0.1607434555
            ],
            "passed_time": 0.5230970805,
            "remaining_time": 11.10128249,
            "test": [
             0.1471131852
            ]
           },
           {
            "iteration": 9,
            "learn": [
             0.1591576026
            ],
            "passed_time": 0.5864634489,
            "remaining_time": 11.14280553,
            "test": [
             0.1467101001
            ]
           },
           {
            "iteration": 10,
            "learn": [
             0.1567558953
            ],
            "passed_time": 0.6554518411,
            "remaining_time": 11.26185436,
            "test": [
             0.1460606514
            ]
           },
           {
            "iteration": 11,
            "learn": [
             0.1561701427
            ],
            "passed_time": 0.7274526461,
            "remaining_time": 11.39675812,
            "test": [
             0.1461426391
            ]
           },
           {
            "iteration": 12,
            "learn": [
             0.1552953811
            ],
            "passed_time": 0.8135478467,
            "remaining_time": 11.70257287,
            "test": [
             0.1451935148
            ]
           },
           {
            "iteration": 13,
            "learn": [
             0.1543043552
            ],
            "passed_time": 0.882644511,
            "remaining_time": 11.72656279,
            "test": [
             0.1452749548
            ]
           },
           {
            "iteration": 14,
            "learn": [
             0.1532817745
            ],
            "passed_time": 0.9557806026,
            "remaining_time": 11.78796077,
            "test": [
             0.1454900196
            ]
           },
           {
            "iteration": 15,
            "learn": [
             0.1526503658
            ],
            "passed_time": 1.046980943,
            "remaining_time": 12.04028084,
            "test": [
             0.1447464933
            ]
           },
           {
            "iteration": 16,
            "learn": [
             0.1526052827
            ],
            "passed_time": 1.068351845,
            "remaining_time": 11.50049339,
            "test": [
             0.1447535283
            ]
           },
           {
            "iteration": 17,
            "learn": [
             0.1520235641
            ],
            "passed_time": 1.133221083,
            "remaining_time": 11.45812429,
            "test": [
             0.1442273491
            ]
           },
           {
            "iteration": 18,
            "learn": [
             0.151649728
            ],
            "passed_time": 1.201242901,
            "remaining_time": 11.44341921,
            "test": [
             0.1436281881
            ]
           },
           {
            "iteration": 19,
            "learn": [
             0.1511749535
            ],
            "passed_time": 1.27224769,
            "remaining_time": 11.45022921,
            "test": [
             0.1431910072
            ]
           },
           {
            "iteration": 20,
            "learn": [
             0.1507562402
            ],
            "passed_time": 1.341531938,
            "remaining_time": 11.43496271,
            "test": [
             0.1430893446
            ]
           },
           {
            "iteration": 21,
            "learn": [
             0.1502522239
            ],
            "passed_time": 1.424677621,
            "remaining_time": 11.52693711,
            "test": [
             0.1425608682
            ]
           },
           {
            "iteration": 22,
            "learn": [
             0.1498690937
            ],
            "passed_time": 1.49970042,
            "remaining_time": 11.54117279,
            "test": [
             0.1424163867
            ]
           },
           {
            "iteration": 23,
            "learn": [
             0.1490469051
            ],
            "passed_time": 1.574046907,
            "remaining_time": 11.54301065,
            "test": [
             0.142475333
            ]
           },
           {
            "iteration": 24,
            "learn": [
             0.1489510634
            ],
            "passed_time": 1.632330459,
            "remaining_time": 11.42631322,
            "test": [
             0.142583088
            ]
           },
           {
            "iteration": 25,
            "learn": [
             0.1484970014
            ],
            "passed_time": 1.718885458,
            "remaining_time": 11.50331037,
            "test": [
             0.1429265037
            ]
           },
           {
            "iteration": 26,
            "learn": [
             0.1477744724
            ],
            "passed_time": 1.8072006,
            "remaining_time": 11.57947051,
            "test": [
             0.1427360675
            ]
           },
           {
            "iteration": 27,
            "learn": [
             0.1473079245
            ],
            "passed_time": 1.871915808,
            "remaining_time": 11.49891139,
            "test": [
             0.1430049391
            ]
           },
           {
            "iteration": 28,
            "learn": [
             0.146553809
            ],
            "passed_time": 1.955462131,
            "remaining_time": 11.5304836,
            "test": [
             0.1422589317
            ]
           },
           {
            "iteration": 29,
            "learn": [
             0.1460003251
            ],
            "passed_time": 2.038389504,
            "remaining_time": 11.55087385,
            "test": [
             0.1417719136
            ]
           },
           {
            "iteration": 30,
            "learn": [
             0.1453138716
            ],
            "passed_time": 2.133406828,
            "remaining_time": 11.63050819,
            "test": [
             0.1420101171
            ]
           },
           {
            "iteration": 31,
            "learn": [
             0.1443641765
            ],
            "passed_time": 2.194672755,
            "remaining_time": 11.52203196,
            "test": [
             0.1426111056
            ]
           },
           {
            "iteration": 32,
            "learn": [
             0.1442410272
            ],
            "passed_time": 2.251717542,
            "remaining_time": 11.39505544,
            "test": [
             0.1426756437
            ]
           },
           {
            "iteration": 33,
            "learn": [
             0.143945585
            ],
            "passed_time": 2.309747984,
            "remaining_time": 11.27700486,
            "test": [
             0.1428310224
            ]
           },
           {
            "iteration": 34,
            "learn": [
             0.1436356283
            ],
            "passed_time": 2.376957318,
            "remaining_time": 11.20565593,
            "test": [
             0.1426774104
            ]
           },
           {
            "iteration": 35,
            "learn": [
             0.1434553503
            ],
            "passed_time": 2.444876095,
            "remaining_time": 11.13776888,
            "test": [
             0.1425521907
            ]
           },
           {
            "iteration": 36,
            "learn": [
             0.1433225171
            ],
            "passed_time": 2.504328699,
            "remaining_time": 11.03258319,
            "test": [
             0.1423660529
            ]
           },
           {
            "iteration": 37,
            "learn": [
             0.1432133075
            ],
            "passed_time": 2.56984695,
            "remaining_time": 10.95566331,
            "test": [
             0.1423230815
            ]
           },
           {
            "iteration": 38,
            "learn": [
             0.1427766439
            ],
            "passed_time": 2.644202443,
            "remaining_time": 10.91581009,
            "test": [
             0.1422984672
            ]
           },
           {
            "iteration": 39,
            "learn": [
             0.1425212753
            ],
            "passed_time": 2.71570478,
            "remaining_time": 10.86281912,
            "test": [
             0.142374997
            ]
           },
           {
            "iteration": 40,
            "learn": [
             0.1422414815
            ],
            "passed_time": 2.785887295,
            "remaining_time": 10.80380683,
            "test": [
             0.1423015912
            ]
           },
           {
            "iteration": 41,
            "learn": [
             0.1416631749
            ],
            "passed_time": 2.857614151,
            "remaining_time": 10.75007228,
            "test": [
             0.1424947219
            ]
           },
           {
            "iteration": 42,
            "learn": [
             0.1413092487
            ],
            "passed_time": 2.937273639,
            "remaining_time": 10.72446422,
            "test": [
             0.1425464389
            ]
           },
           {
            "iteration": 43,
            "learn": [
             0.1404822368
            ],
            "passed_time": 2.996449535,
            "remaining_time": 10.62377562,
            "test": [
             0.1432500882
            ]
           },
           {
            "iteration": 44,
            "learn": [
             0.1404165604
            ],
            "passed_time": 3.081593291,
            "remaining_time": 10.61437689,
            "test": [
             0.1432123067
            ]
           },
           {
            "iteration": 45,
            "learn": [
             0.1399972957
            ],
            "passed_time": 3.15642961,
            "remaining_time": 10.56717739,
            "test": [
             0.1434693132
            ]
           },
           {
            "iteration": 46,
            "learn": [
             0.1396673514
            ],
            "passed_time": 3.212068852,
            "remaining_time": 10.45630924,
            "test": [
             0.1434543528
            ]
           },
           {
            "iteration": 47,
            "learn": [
             0.1393547338
            ],
            "passed_time": 3.270295995,
            "remaining_time": 10.35593732,
            "test": [
             0.1432937225
            ]
           },
           {
            "iteration": 48,
            "learn": [
             0.1389403622
            ],
            "passed_time": 3.349037103,
            "remaining_time": 10.32050209,
            "test": [
             0.1432027523
            ]
           },
           {
            "iteration": 49,
            "learn": [
             0.1386617934
            ],
            "passed_time": 3.409409516,
            "remaining_time": 10.22822855,
            "test": [
             0.1434154742
            ]
           }
          ],
          "meta": {
           "iteration_count": 200,
           "launch_mode": "Train",
           "learn_metrics": [
            {
             "best_value": "Min",
             "name": "Logloss"
            }
           ],
           "learn_sets": [
            "learn"
           ],
           "name": "experiment",
           "parameters": "",
           "test_metrics": [
            {
             "best_value": "Min",
             "name": "Logloss"
            }
           ],
           "test_sets": [
            "test"
           ]
          }
         },
         "passed_iterations": 49,
         "total_iterations": 200
        },
        "name": "catboost_info",
        "path": "catboost_info"
       }
      },
      "layout": "IPY_MODEL_9dcadcea6e9649cab7cb77dd9509f5c0"
     }
    },
    "2ac5cf9b41234e45a5b687a6702ea105": {
     "model_module": "catboost-widget",
     "model_module_version": "^1.0.0",
     "model_name": "CatboostWidgetModel",
     "state": {
      "_dom_classes": [],
      "_model_module": "catboost-widget",
      "_model_module_version": "^1.0.0",
      "_model_name": "CatboostWidgetModel",
      "_view_count": null,
      "_view_module": "catboost-widget",
      "_view_module_version": "^1.0.0",
      "_view_name": "CatboostWidgetView",
      "data": {
       "learing_rate_0.01": {
        "content": {
         "data": {
          "iterations": [
           {
            "iteration": 0,
            "learn": [
             0.6853611466
            ],
            "passed_time": 0.02247768693,
            "remaining_time": 2.225291006,
            "test": [
             0.6853655522
            ]
           },
           {
            "iteration": 1,
            "learn": [
             0.6777615645
            ],
            "passed_time": 0.0436221719,
            "remaining_time": 2.137486423,
            "test": [
             0.6777458522
            ]
           },
           {
            "iteration": 2,
            "learn": [
             0.6702911325
            ],
            "passed_time": 0.05755385037,
            "remaining_time": 1.860907829,
            "test": [
             0.6702633849
            ]
           },
           {
            "iteration": 3,
            "learn": [
             0.6629626841
            ],
            "passed_time": 0.06529786161,
            "remaining_time": 1.567148679,
            "test": [
             0.6629401952
            ]
           },
           {
            "iteration": 4,
            "learn": [
             0.6557756013
            ],
            "passed_time": 0.07159956254,
            "remaining_time": 1.360391688,
            "test": [
             0.6557588534
            ]
           },
           {
            "iteration": 5,
            "learn": [
             0.6487176386
            ],
            "passed_time": 0.08566958379,
            "remaining_time": 1.342156813,
            "test": [
             0.6486493778
            ]
           },
           {
            "iteration": 6,
            "learn": [
             0.6417944018
            ],
            "passed_time": 0.09310442282,
            "remaining_time": 1.23695876,
            "test": [
             0.6416761127
            ]
           },
           {
            "iteration": 7,
            "learn": [
             0.6350196363
            ],
            "passed_time": 0.1028726772,
            "remaining_time": 1.183035788,
            "test": [
             0.6349032632
            ]
           },
           {
            "iteration": 8,
            "learn": [
             0.6283555995
            ],
            "passed_time": 0.114520743,
            "remaining_time": 1.157931957,
            "test": [
             0.628249668
            ]
           },
           {
            "iteration": 9,
            "learn": [
             0.6218168348
            ],
            "passed_time": 0.1261270982,
            "remaining_time": 1.135143884,
            "test": [
             0.6217050985
            ]
           },
           {
            "iteration": 10,
            "learn": [
             0.615406979
            ],
            "passed_time": 0.1314841247,
            "remaining_time": 1.0638261,
            "test": [
             0.6153019118
            ]
           },
           {
            "iteration": 11,
            "learn": [
             0.609115584
            ],
            "passed_time": 0.1389506454,
            "remaining_time": 1.018971399,
            "test": [
             0.6090171263
            ]
           },
           {
            "iteration": 12,
            "learn": [
             0.6029269877
            ],
            "passed_time": 0.1527444483,
            "remaining_time": 1.022212846,
            "test": [
             0.6028156889
            ]
           },
           {
            "iteration": 13,
            "learn": [
             0.5968599135
            ],
            "passed_time": 0.16625129,
            "remaining_time": 1.021257924,
            "test": [
             0.5967015573
            ]
           },
           {
            "iteration": 14,
            "learn": [
             0.5909075874
            ],
            "passed_time": 0.1736427226,
            "remaining_time": 0.983975428,
            "test": [
             0.5907554783
            ]
           },
           {
            "iteration": 15,
            "learn": [
             0.5850642936
            ],
            "passed_time": 0.1812012206,
            "remaining_time": 0.9513064082,
            "test": [
             0.5849192651
            ]
           },
           {
            "iteration": 16,
            "learn": [
             0.5793147263
            ],
            "passed_time": 0.1951595117,
            "remaining_time": 0.9528376161,
            "test": [
             0.5791422766
            ]
           },
           {
            "iteration": 17,
            "learn": [
             0.5736781064
            ],
            "passed_time": 0.2029128755,
            "remaining_time": 0.9243808774,
            "test": [
             0.5735082582
            ]
           },
           {
            "iteration": 18,
            "learn": [
             0.5681320551
            ],
            "passed_time": 0.2194512232,
            "remaining_time": 0.9355552145,
            "test": [
             0.5679751916
            ]
           },
           {
            "iteration": 19,
            "learn": [
             0.5626932351
            ],
            "passed_time": 0.2274933127,
            "remaining_time": 0.9099732509,
            "test": [
             0.5625423077
            ]
           },
           {
            "iteration": 20,
            "learn": [
             0.5573374436
            ],
            "passed_time": 0.2351213253,
            "remaining_time": 0.8845040332,
            "test": [
             0.5571515349
            ]
           },
           {
            "iteration": 21,
            "learn": [
             0.5520850607
            ],
            "passed_time": 0.2409263517,
            "remaining_time": 0.8541934289,
            "test": [
             0.5519065647
            ]
           },
           {
            "iteration": 22,
            "learn": [
             0.5469287353
            ],
            "passed_time": 0.2575009773,
            "remaining_time": 0.8620684892,
            "test": [
             0.5467706714
            ]
           },
           {
            "iteration": 23,
            "learn": [
             0.5418516685
            ],
            "passed_time": 0.2714412111,
            "remaining_time": 0.859563835,
            "test": [
             0.5416688495
            ]
           },
           {
            "iteration": 24,
            "learn": [
             0.5368501954
            ],
            "passed_time": 0.2830667705,
            "remaining_time": 0.8492003114,
            "test": [
             0.5366637489
            ]
           },
           {
            "iteration": 25,
            "learn": [
             0.5319506304
            ],
            "passed_time": 0.2886591896,
            "remaining_time": 0.8215684628,
            "test": [
             0.5317715898
            ]
           },
           {
            "iteration": 26,
            "learn": [
             0.5271346599
            ],
            "passed_time": 0.2943084,
            "remaining_time": 0.7957227111,
            "test": [
             0.5269629634
            ]
           },
           {
            "iteration": 27,
            "learn": [
             0.5224081867
            ],
            "passed_time": 0.3117224793,
            "remaining_time": 0.8015720897,
            "test": [
             0.5222063492
            ]
           },
           {
            "iteration": 28,
            "learn": [
             0.5177572235
            ],
            "passed_time": 0.3214333898,
            "remaining_time": 0.7869576096,
            "test": [
             0.5175579348
            ]
           },
           {
            "iteration": 29,
            "learn": [
             0.5131675137
            ],
            "passed_time": 0.3309431874,
            "remaining_time": 0.7722007706,
            "test": [
             0.5129528828
            ]
           },
           {
            "iteration": 30,
            "learn": [
             0.5086679014
            ],
            "passed_time": 0.3364328627,
            "remaining_time": 0.7488344363,
            "test": [
             0.508460987
            ]
           },
           {
            "iteration": 31,
            "learn": [
             0.5042516779
            ],
            "passed_time": 0.3528266181,
            "remaining_time": 0.7497565635,
            "test": [
             0.5040460958
            ]
           },
           {
            "iteration": 32,
            "learn": [
             0.4999006011
            ],
            "passed_time": 0.3584860369,
            "remaining_time": 0.727835287,
            "test": [
             0.4997026371
            ]
           },
           {
            "iteration": 33,
            "learn": [
             0.4956087861
            ],
            "passed_time": 0.3743498817,
            "remaining_time": 0.726679182,
            "test": [
             0.4954125663
            ]
           },
           {
            "iteration": 34,
            "learn": [
             0.4913953438
            ],
            "passed_time": 0.3864639634,
            "remaining_time": 0.7177187892,
            "test": [
             0.4911965269
            ]
           },
           {
            "iteration": 35,
            "learn": [
             0.4872558157
            ],
            "passed_time": 0.3925805729,
            "remaining_time": 0.6979210186,
            "test": [
             0.4870645621
            ]
           },
           {
            "iteration": 36,
            "learn": [
             0.4831841064
            ],
            "passed_time": 0.398219938,
            "remaining_time": 0.6780501648,
            "test": [
             0.483000355
            ]
           },
           {
            "iteration": 37,
            "learn": [
             0.4791690062
            ],
            "passed_time": 0.4060454709,
            "remaining_time": 0.662495242,
            "test": [
             0.4789496624
            ]
           },
           {
            "iteration": 38,
            "learn": [
             0.4752387242
            ],
            "passed_time": 0.4196936476,
            "remaining_time": 0.6564439103,
            "test": [
             0.4750179758
            ]
           },
           {
            "iteration": 39,
            "learn": [
             0.471354829
            ],
            "passed_time": 0.4314757648,
            "remaining_time": 0.6472136473,
            "test": [
             0.4711318297
            ]
           },
           {
            "iteration": 40,
            "learn": [
             0.4675336918
            ],
            "passed_time": 0.4480910655,
            "remaining_time": 0.6448139724,
            "test": [
             0.4673018383
            ]
           },
           {
            "iteration": 41,
            "learn": [
             0.4637733078
            ],
            "passed_time": 0.4643578661,
            "remaining_time": 0.6412561009,
            "test": [
             0.4635415416
            ]
           },
           {
            "iteration": 42,
            "learn": [
             0.4600684808
            ],
            "passed_time": 0.4740235589,
            "remaining_time": 0.6283568106,
            "test": [
             0.4598196211
            ]
           },
           {
            "iteration": 43,
            "learn": [
             0.4564254951
            ],
            "passed_time": 0.4910973816,
            "remaining_time": 0.6250330311,
            "test": [
             0.4561849953
            ]
           },
           {
            "iteration": 44,
            "learn": [
             0.4528541771
            ],
            "passed_time": 0.5010391908,
            "remaining_time": 0.6123812332,
            "test": [
             0.4526215376
            ]
           },
           {
            "iteration": 45,
            "learn": [
             0.4493357477
            ],
            "passed_time": 0.5088007054,
            "remaining_time": 0.5972877846,
            "test": [
             0.4491054477
            ]
           },
           {
            "iteration": 46,
            "learn": [
             0.4458745037
            ],
            "passed_time": 0.5182426261,
            "remaining_time": 0.5844012592,
            "test": [
             0.445651204
            ]
           },
           {
            "iteration": 47,
            "learn": [
             0.4424483399
            ],
            "passed_time": 0.5351811628,
            "remaining_time": 0.579779593,
            "test": [
             0.4422279794
            ]
           },
           {
            "iteration": 48,
            "learn": [
             0.4390911443
            ],
            "passed_time": 0.5428389466,
            "remaining_time": 0.5649956383,
            "test": [
             0.4388798179
            ]
           },
           {
            "iteration": 49,
            "learn": [
             0.4357755396
            ],
            "passed_time": 0.5527053514,
            "remaining_time": 0.5527053514,
            "test": [
             0.4355544115
            ]
           },
           {
            "iteration": 50,
            "learn": [
             0.4325265712
            ],
            "passed_time": 0.5602774191,
            "remaining_time": 0.5383057556,
            "test": [
             0.4323133228
            ]
           },
           {
            "iteration": 51,
            "learn": [
             0.4293302314
            ],
            "passed_time": 0.5742051099,
            "remaining_time": 0.5300354861,
            "test": [
             0.4291240876
            ]
           },
           {
            "iteration": 52,
            "learn": [
             0.4261797528
            ],
            "passed_time": 0.5892717369,
            "remaining_time": 0.5225617289,
            "test": [
             0.4259826407
            ]
           },
           {
            "iteration": 53,
            "learn": [
             0.4230788054
            ],
            "passed_time": 0.5950234512,
            "remaining_time": 0.5068718288,
            "test": [
             0.422889366
            ]
           },
           {
            "iteration": 54,
            "learn": [
             0.4200106798
            ],
            "passed_time": 0.6115827998,
            "remaining_time": 0.5003859271,
            "test": [
             0.4197972414
            ]
           },
           {
            "iteration": 55,
            "learn": [
             0.4169875131
            ],
            "passed_time": 0.6191932081,
            "remaining_time": 0.4865089493,
            "test": [
             0.4167601124
            ]
           },
           {
            "iteration": 56,
            "learn": [
             0.4140127104
            ],
            "passed_time": 0.6331270261,
            "remaining_time": 0.4776221425,
            "test": [
             0.4137955411
            ]
           },
           {
            "iteration": 57,
            "learn": [
             0.4110986969
            ],
            "passed_time": 0.6387289174,
            "remaining_time": 0.4625278367,
            "test": [
             0.4108895525
            ]
           },
           {
            "iteration": 58,
            "learn": [
             0.4082256479
            ],
            "passed_time": 0.6552902359,
            "remaining_time": 0.4553711809,
            "test": [
             0.4080268065
            ]
           },
           {
            "iteration": 59,
            "learn": [
             0.4053988272
            ],
            "passed_time": 0.6649221443,
            "remaining_time": 0.4432814296,
            "test": [
             0.4052030753
            ]
           },
           {
            "iteration": 60,
            "learn": [
             0.4026167665
            ],
            "passed_time": 0.6704586028,
            "remaining_time": 0.4286538608,
            "test": [
             0.4024289504
            ]
           },
           {
            "iteration": 61,
            "learn": [
             0.3998754803
            ],
            "passed_time": 0.6799516888,
            "remaining_time": 0.4167445835,
            "test": [
             0.3996962784
            ]
           },
           {
            "iteration": 62,
            "learn": [
             0.3971478768
            ],
            "passed_time": 0.6962898372,
            "remaining_time": 0.4089321266,
            "test": [
             0.3969550354
            ]
           },
           {
            "iteration": 63,
            "learn": [
             0.3944758646
            ],
            "passed_time": 0.7123134379,
            "remaining_time": 0.4006763088,
            "test": [
             0.3942613287
            ]
           },
           {
            "iteration": 64,
            "learn": [
             0.3918605685
            ],
            "passed_time": 0.7198412365,
            "remaining_time": 0.3876068197,
            "test": [
             0.3916533134
            ]
           },
           {
            "iteration": 65,
            "learn": [
             0.3892644049
            ],
            "passed_time": 0.7361771153,
            "remaining_time": 0.3792427564,
            "test": [
             0.3890431981
            ]
           },
           {
            "iteration": 66,
            "learn": [
             0.3867160171
            ],
            "passed_time": 0.7438259957,
            "remaining_time": 0.3663620576,
            "test": [
             0.3864886227
            ]
           },
           {
            "iteration": 67,
            "learn": [
             0.3841750389
            ],
            "passed_time": 0.760090595,
            "remaining_time": 0.3576896918,
            "test": [
             0.3839419505
            ]
           },
           {
            "iteration": 68,
            "learn": [
             0.3817054251
            ],
            "passed_time": 0.7717781877,
            "remaining_time": 0.3467409249,
            "test": [
             0.3814674281
            ]
           },
           {
            "iteration": 69,
            "learn": [
             0.3792714377
            ],
            "passed_time": 0.7878674404,
            "remaining_time": 0.3376574745,
            "test": [
             0.3790072578
            ]
           },
           {
            "iteration": 70,
            "learn": [
             0.3768667378
            ],
            "passed_time": 0.8042190548,
            "remaining_time": 0.3284838393,
            "test": [
             0.376574784
            ]
           },
           {
            "iteration": 71,
            "learn": [
             0.3745047565
            ],
            "passed_time": 0.8139400006,
            "remaining_time": 0.3165322224,
            "test": [
             0.3742227275
            ]
           },
           {
            "iteration": 72,
            "learn": [
             0.3721810893
            ],
            "passed_time": 0.8301644534,
            "remaining_time": 0.3070471266,
            "test": [
             0.3719030753
            ]
           },
           {
            "iteration": 73,
            "learn": [
             0.3698971618
            ],
            "passed_time": 0.8397133915,
            "remaining_time": 0.2950344349,
            "test": [
             0.3696286699
            ]
           },
           {
            "iteration": 74,
            "learn": [
             0.3676237468
            ],
            "passed_time": 0.8512092694,
            "remaining_time": 0.2837364231,
            "test": [
             0.3673248776
            ]
           },
           {
            "iteration": 75,
            "learn": [
             0.3653922866
            ],
            "passed_time": 0.860516924,
            "remaining_time": 0.2717421865,
            "test": [
             0.3650869025
            ]
           },
           {
            "iteration": 76,
            "learn": [
             0.3632090834
            ],
            "passed_time": 0.866138864,
            "remaining_time": 0.2587168035,
            "test": [
             0.362913014
            ]
           },
           {
            "iteration": 77,
            "learn": [
             0.3610345432
            ],
            "passed_time": 0.8776478838,
            "remaining_time": 0.2475417108,
            "test": [
             0.3607214345
            ]
           },
           {
            "iteration": 78,
            "learn": [
             0.3588957474
            ],
            "passed_time": 0.8891996437,
            "remaining_time": 0.2363695256,
            "test": [
             0.3585694841
            ]
           },
           {
            "iteration": 79,
            "learn": [
             0.3568084583
            ],
            "passed_time": 0.8948629507,
            "remaining_time": 0.2237157377,
            "test": [
             0.3564918057
            ]
           },
           {
            "iteration": 80,
            "learn": [
             0.3547296011
            ],
            "passed_time": 0.9114082995,
            "remaining_time": 0.213787132,
            "test": [
             0.3543956618
            ]
           },
           {
            "iteration": 81,
            "learn": [
             0.3526667547
            ],
            "passed_time": 0.9277144039,
            "remaining_time": 0.2036446252,
            "test": [
             0.3523178656
            ]
           },
           {
            "iteration": 82,
            "learn": [
             0.3506718377
            ],
            "passed_time": 0.93536952,
            "remaining_time": 0.1915817089,
            "test": [
             0.3503329671
            ]
           },
           {
            "iteration": 83,
            "learn": [
             0.3486730422
            ],
            "passed_time": 0.9451367745,
            "remaining_time": 0.1800260523,
            "test": [
             0.3483435975
            ]
           },
           {
            "iteration": 84,
            "learn": [
             0.3467355168
            ],
            "passed_time": 0.9507557727,
            "remaining_time": 0.1677804305,
            "test": [
             0.3464159416
            ]
           },
           {
            "iteration": 85,
            "learn": [
             0.3448239087
            ],
            "passed_time": 0.9583540149,
            "remaining_time": 0.1560111187,
            "test": [
             0.3445152994
            ]
           },
           {
            "iteration": 86,
            "learn": [
             0.3429233414
            ],
            "passed_time": 0.9746093998,
            "remaining_time": 0.1456312896,
            "test": [
             0.3426231636
            ]
           },
           {
            "iteration": 87,
            "learn": [
             0.3409549932
            ],
            "passed_time": 0.9918971807,
            "remaining_time": 0.1352587065,
            "test": [
             0.3406570243
            ]
           },
           {
            "iteration": 88,
            "learn": [
             0.3390898318
            ],
            "passed_time": 1.001612171,
            "remaining_time": 0.1237947627,
            "test": [
             0.3387831052
            ]
           },
           {
            "iteration": 89,
            "learn": [
             0.3371839932
            ],
            "passed_time": 1.018006965,
            "remaining_time": 0.113111885,
            "test": [
             0.3368326868
            ]
           },
           {
            "iteration": 90,
            "learn": [
             0.3353251449
            ],
            "passed_time": 1.034474364,
            "remaining_time": 0.1023106514,
            "test": [
             0.3349453644
            ]
           },
           {
            "iteration": 91,
            "learn": [
             0.333492743
            ],
            "passed_time": 1.048319232,
            "remaining_time": 0.09115819409,
            "test": [
             0.3330666243
            ]
           },
           {
            "iteration": 92,
            "learn": [
             0.3316620294
            ],
            "passed_time": 1.064873163,
            "remaining_time": 0.08015174342,
            "test": [
             0.3312144845
            ]
           },
           {
            "iteration": 93,
            "learn": [
             0.3298572824
            ],
            "passed_time": 1.081411187,
            "remaining_time": 0.06902624595,
            "test": [
             0.3294117673
            ]
           },
           {
            "iteration": 94,
            "learn": [
             0.3280846132
            ],
            "passed_time": 1.097888464,
            "remaining_time": 0.05778360334,
            "test": [
             0.32764454
            ]
           },
           {
            "iteration": 95,
            "learn": [
             0.326389231
            ],
            "passed_time": 1.114331978,
            "remaining_time": 0.04643049906,
            "test": [
             0.3259106775
            ]
           },
           {
            "iteration": 96,
            "learn": [
             0.324668258
            ],
            "passed_time": 1.130823635,
            "remaining_time": 0.03497392686,
            "test": [
             0.3241286107
            ]
           },
           {
            "iteration": 97,
            "learn": [
             0.3229533079
            ],
            "passed_time": 1.147408826,
            "remaining_time": 0.02341650666,
            "test": [
             0.3224243576
            ]
           },
           {
            "iteration": 98,
            "learn": [
             0.3213133302
            ],
            "passed_time": 1.15727067,
            "remaining_time": 0.01168960273,
            "test": [
             0.3207921182
            ]
           },
           {
            "iteration": 99,
            "learn": [
             0.3196854023
            ],
            "passed_time": 1.173704078,
            "remaining_time": 0,
            "test": [
             0.3191568389
            ]
           }
          ],
          "meta": {
           "iteration_count": 100,
           "launch_mode": "Train",
           "learn_metrics": [
            {
             "best_value": "Min",
             "name": "Logloss"
            }
           ],
           "learn_sets": [
            "learn"
           ],
           "name": "experiment",
           "parameters": "",
           "test_metrics": [
            {
             "best_value": "Min",
             "name": "Logloss"
            }
           ],
           "test_sets": [
            "test"
           ]
          }
         },
         "passed_iterations": 99,
         "total_iterations": 100
        },
        "name": "learing_rate_0.01",
        "path": "learing_rate_0.01"
       },
       "learing_rate_0.7": {
        "content": {
         "data": {
          "iterations": [
           {
            "iteration": 0,
            "learn": [
             0.3257004503
            ],
            "passed_time": 0.02542954624,
            "remaining_time": 2.517525078,
            "test": [
             0.3262552152
            ]
           },
           {
            "iteration": 1,
            "learn": [
             0.2473243915
            ],
            "passed_time": 0.04757155057,
            "remaining_time": 2.331005978,
            "test": [
             0.2475382066
            ]
           },
           {
            "iteration": 2,
            "learn": [
             0.2134813249
            ],
            "passed_time": 0.06631461786,
            "remaining_time": 2.144172644,
            "test": [
             0.2136553387
            ]
           },
           {
            "iteration": 3,
            "learn": [
             0.1918508155
            ],
            "passed_time": 0.08665758469,
            "remaining_time": 2.079782033,
            "test": [
             0.1853410764
            ]
           },
           {
            "iteration": 4,
            "learn": [
             0.1834173989
            ],
            "passed_time": 0.1041945639,
            "remaining_time": 1.979696715,
            "test": [
             0.1752999275
            ]
           },
           {
            "iteration": 5,
            "learn": [
             0.1805011825
            ],
            "passed_time": 0.1212451826,
            "remaining_time": 1.89950786,
            "test": [
             0.1723320982
            ]
           },
           {
            "iteration": 6,
            "learn": [
             0.1766620483
            ],
            "passed_time": 0.1388352031,
            "remaining_time": 1.844524841,
            "test": [
             0.1692355075
            ]
           },
           {
            "iteration": 7,
            "learn": [
             0.1758706993
            ],
            "passed_time": 0.1555178738,
            "remaining_time": 1.788455549,
            "test": [
             0.1681831761
            ]
           },
           {
            "iteration": 8,
            "learn": [
             0.1748721169
            ],
            "passed_time": 0.1722953691,
            "remaining_time": 1.742097621,
            "test": [
             0.1677901967
            ]
           },
           {
            "iteration": 9,
            "learn": [
             0.1745916913
            ],
            "passed_time": 0.1888871189,
            "remaining_time": 1.69998407,
            "test": [
             0.1674842678
            ]
           },
           {
            "iteration": 10,
            "learn": [
             0.173162593
            ],
            "passed_time": 0.2083919864,
            "remaining_time": 1.686080618,
            "test": [
             0.1657725278
            ]
           },
           {
            "iteration": 11,
            "learn": [
             0.1725708807
            ],
            "passed_time": 0.2259805211,
            "remaining_time": 1.657190488,
            "test": [
             0.1653058395
            ]
           },
           {
            "iteration": 12,
            "learn": [
             0.1721388962
            ],
            "passed_time": 0.2431142985,
            "remaining_time": 1.62699569,
            "test": [
             0.1649402159
            ]
           },
           {
            "iteration": 13,
            "learn": [
             0.1720435366
            ],
            "passed_time": 0.2594331518,
            "remaining_time": 1.593660789,
            "test": [
             0.1649736614
            ]
           },
           {
            "iteration": 14,
            "learn": [
             0.1714159729
            ],
            "passed_time": 0.2762469741,
            "remaining_time": 1.56539952,
            "test": [
             0.1651711206
            ]
           },
           {
            "iteration": 15,
            "learn": [
             0.170921371
            ],
            "passed_time": 0.2927292837,
            "remaining_time": 1.536828739,
            "test": [
             0.1650128386
            ]
           },
           {
            "iteration": 16,
            "learn": [
             0.1697990143
            ],
            "passed_time": 0.3116447477,
            "remaining_time": 1.52155965,
            "test": [
             0.1640142734
            ]
           },
           {
            "iteration": 17,
            "learn": [
             0.1690856466
            ],
            "passed_time": 0.3285256137,
            "remaining_time": 1.496616685,
            "test": [
             0.1636712612
            ]
           },
           {
            "iteration": 18,
            "learn": [
             0.168828985
            ],
            "passed_time": 0.3450090033,
            "remaining_time": 1.470827856,
            "test": [
             0.163423412
            ]
           },
           {
            "iteration": 19,
            "learn": [
             0.168313108
            ],
            "passed_time": 0.3622027442,
            "remaining_time": 1.448810977,
            "test": [
             0.1629602639
            ]
           },
           {
            "iteration": 20,
            "learn": [
             0.1678888088
            ],
            "passed_time": 0.3788872867,
            "remaining_time": 1.425337888,
            "test": [
             0.1626536063
            ]
           },
           {
            "iteration": 21,
            "learn": [
             0.1676574334
            ],
            "passed_time": 0.3964305667,
            "remaining_time": 1.405526555,
            "test": [
             0.1625605761
            ]
           },
           {
            "iteration": 22,
            "learn": [
             0.1674475336
            ],
            "passed_time": 0.413175694,
            "remaining_time": 1.383240367,
            "test": [
             0.1624518146
            ]
           },
           {
            "iteration": 23,
            "learn": [
             0.1673483862
            ],
            "passed_time": 0.4298004359,
            "remaining_time": 1.361034714,
            "test": [
             0.1623259561
            ]
           },
           {
            "iteration": 24,
            "learn": [
             0.1670108702
            ],
            "passed_time": 0.4537533734,
            "remaining_time": 1.36126012,
            "test": [
             0.162173471
            ]
           },
           {
            "iteration": 25,
            "learn": [
             0.1667097066
            ],
            "passed_time": 0.4726168652,
            "remaining_time": 1.345140309,
            "test": [
             0.1624955097
            ]
           },
           {
            "iteration": 26,
            "learn": [
             0.1665227455
            ],
            "passed_time": 0.4892694406,
            "remaining_time": 1.322839599,
            "test": [
             0.1625932122
            ]
           },
           {
            "iteration": 27,
            "learn": [
             0.1663474847
            ],
            "passed_time": 0.5058433098,
            "remaining_time": 1.300739939,
            "test": [
             0.1627086765
            ]
           },
           {
            "iteration": 28,
            "learn": [
             0.166034451
            ],
            "passed_time": 0.522664267,
            "remaining_time": 1.279626309,
            "test": [
             0.1623116284
            ]
           },
           {
            "iteration": 29,
            "learn": [
             0.1657114161
            ],
            "passed_time": 0.5392211142,
            "remaining_time": 1.2581826,
            "test": [
             0.162089466
            ]
           },
           {
            "iteration": 30,
            "learn": [
             0.1655676353
            ],
            "passed_time": 0.5557748625,
            "remaining_time": 1.237047275,
            "test": [
             0.1618450857
            ]
           },
           {
            "iteration": 31,
            "learn": [
             0.1654065036
            ],
            "passed_time": 0.5853350421,
            "remaining_time": 1.243836964,
            "test": [
             0.1615155762
            ]
           },
           {
            "iteration": 32,
            "learn": [
             0.1651918427
            ],
            "passed_time": 0.6024036422,
            "remaining_time": 1.22306194,
            "test": [
             0.1618083841
            ]
           },
           {
            "iteration": 33,
            "learn": [
             0.1651696351
            ],
            "passed_time": 0.6188523015,
            "remaining_time": 1.201301527,
            "test": [
             0.1617826204
            ]
           },
           {
            "iteration": 34,
            "learn": [
             0.1651321223
            ],
            "passed_time": 0.6360972951,
            "remaining_time": 1.181323548,
            "test": [
             0.1617973386
            ]
           },
           {
            "iteration": 35,
            "learn": [
             0.1646901713
            ],
            "passed_time": 0.6534318319,
            "remaining_time": 1.16165659,
            "test": [
             0.1614538696
            ]
           },
           {
            "iteration": 36,
            "learn": [
             0.1644787338
            ],
            "passed_time": 0.6715665441,
            "remaining_time": 1.14347817,
            "test": [
             0.1614050884
            ]
           },
           {
            "iteration": 37,
            "learn": [
             0.1638265424
            ],
            "passed_time": 0.688436374,
            "remaining_time": 1.123238294,
            "test": [
             0.16135807
            ]
           },
           {
            "iteration": 38,
            "learn": [
             0.1637452529
            ],
            "passed_time": 0.7050820541,
            "remaining_time": 1.102820649,
            "test": [
             0.1613306908
            ]
           },
           {
            "iteration": 39,
            "learn": [
             0.1637180511
            ],
            "passed_time": 0.7219641991,
            "remaining_time": 1.082946299,
            "test": [
             0.16134692
            ]
           },
           {
            "iteration": 40,
            "learn": [
             0.163390756
            ],
            "passed_time": 0.7387502279,
            "remaining_time": 1.063079596,
            "test": [
             0.1613091971
            ]
           },
           {
            "iteration": 41,
            "learn": [
             0.1629543066
            ],
            "passed_time": 0.7554904725,
            "remaining_time": 1.043296367,
            "test": [
             0.1608340027
            ]
           },
           {
            "iteration": 42,
            "learn": [
             0.162059138
            ],
            "passed_time": 0.7722407392,
            "remaining_time": 1.023667957,
            "test": [
             0.1603477402
            ]
           },
           {
            "iteration": 43,
            "learn": [
             0.1619248662
            ],
            "passed_time": 0.7888646075,
            "remaining_time": 1.0040095,
            "test": [
             0.1602509355
            ]
           },
           {
            "iteration": 44,
            "learn": [
             0.1618220614
            ],
            "passed_time": 0.8053090592,
            "remaining_time": 0.9842666279,
            "test": [
             0.1603161965
            ]
           },
           {
            "iteration": 45,
            "learn": [
             0.1616069922
            ],
            "passed_time": 0.8222539767,
            "remaining_time": 0.9652546683,
            "test": [
             0.1605635292
            ]
           },
           {
            "iteration": 46,
            "learn": [
             0.1611450655
            ],
            "passed_time": 0.8388587435,
            "remaining_time": 0.9459470938,
            "test": [
             0.1602751519
            ]
           },
           {
            "iteration": 47,
            "learn": [
             0.161109883
            ],
            "passed_time": 0.8554047851,
            "remaining_time": 0.9266885172,
            "test": [
             0.1602402767
            ]
           },
           {
            "iteration": 48,
            "learn": [
             0.1610352358
            ],
            "passed_time": 0.8722116025,
            "remaining_time": 0.9078120761,
            "test": [
             0.1602988668
            ]
           },
           {
            "iteration": 49,
            "learn": [
             0.1608190326
            ],
            "passed_time": 0.8888754164,
            "remaining_time": 0.8888754164,
            "test": [
             0.1603516588
            ]
           },
           {
            "iteration": 50,
            "learn": [
             0.1603845424
            ],
            "passed_time": 0.9057120023,
            "remaining_time": 0.8701938846,
            "test": [
             0.1608338041
            ]
           },
           {
            "iteration": 51,
            "learn": [
             0.1601829091
            ],
            "passed_time": 0.9224149563,
            "remaining_time": 0.8514599597,
            "test": [
             0.1607501595
            ]
           },
           {
            "iteration": 52,
            "learn": [
             0.1600543024
            ],
            "passed_time": 0.9390027498,
            "remaining_time": 0.8327005517,
            "test": [
             0.1606707042
            ]
           },
           {
            "iteration": 53,
            "learn": [
             0.1600098751
            ],
            "passed_time": 0.9666528709,
            "remaining_time": 0.8234450382,
            "test": [
             0.160719024
            ]
           },
           {
            "iteration": 54,
            "learn": [
             0.1599843254
            ],
            "passed_time": 0.9837603898,
            "remaining_time": 0.8048948644,
            "test": [
             0.1607023532
            ]
           },
           {
            "iteration": 55,
            "learn": [
             0.1597493162
            ],
            "passed_time": 1.000512909,
            "remaining_time": 0.7861172858,
            "test": [
             0.1607779184
            ]
           },
           {
            "iteration": 56,
            "learn": [
             0.1596292647
            ],
            "passed_time": 1.017160014,
            "remaining_time": 0.7673312385,
            "test": [
             0.1608372663
            ]
           },
           {
            "iteration": 57,
            "learn": [
             0.1594997356
            ],
            "passed_time": 1.033795668,
            "remaining_time": 0.7486106559,
            "test": [
             0.1608074713
            ]
           },
           {
            "iteration": 58,
            "learn": [
             0.1588081825
            ],
            "passed_time": 1.050806551,
            "remaining_time": 0.7302215017,
            "test": [
             0.1609618095
            ]
           },
           {
            "iteration": 59,
            "learn": [
             0.1587871917
            ],
            "passed_time": 1.067295144,
            "remaining_time": 0.7115300962,
            "test": [
             0.1609708758
            ]
           },
           {
            "iteration": 60,
            "learn": [
             0.1586598892
            ],
            "passed_time": 1.08388285,
            "remaining_time": 0.6929742809,
            "test": [
             0.1610480105
            ]
           },
           {
            "iteration": 61,
            "learn": [
             0.1585804343
            ],
            "passed_time": 1.10043649,
            "remaining_time": 0.6744610744,
            "test": [
             0.1608716248
            ]
           },
           {
            "iteration": 62,
            "learn": [
             0.1585373459
            ],
            "passed_time": 1.11707433,
            "remaining_time": 0.6560595269,
            "test": [
             0.160817659
            ]
           },
           {
            "iteration": 63,
            "learn": [
             0.1584003319
            ],
            "passed_time": 1.133876699,
            "remaining_time": 0.6378056434,
            "test": [
             0.160791622
            ]
           },
           {
            "iteration": 64,
            "learn": [
             0.1582626742
            ],
            "passed_time": 1.150718927,
            "remaining_time": 0.6196178838,
            "test": [
             0.16070738
            ]
           },
           {
            "iteration": 65,
            "learn": [
             0.1580464089
            ],
            "passed_time": 1.167394415,
            "remaining_time": 0.6013850018,
            "test": [
             0.160723699
            ]
           },
           {
            "iteration": 66,
            "learn": [
             0.1580329509
            ],
            "passed_time": 1.18149092,
            "remaining_time": 0.5819283636,
            "test": [
             0.1607393058
            ]
           },
           {
            "iteration": 67,
            "learn": [
             0.1579136412
            ],
            "passed_time": 1.200834256,
            "remaining_time": 0.5650984735,
            "test": [
             0.1606464416
            ]
           },
           {
            "iteration": 68,
            "learn": [
             0.1578353362
            ],
            "passed_time": 1.22429656,
            "remaining_time": 0.5500462808,
            "test": [
             0.1606008089
            ]
           },
           {
            "iteration": 69,
            "learn": [
             0.1577031174
            ],
            "passed_time": 1.242791517,
            "remaining_time": 0.5326249357,
            "test": [
             0.1604443478
            ]
           },
           {
            "iteration": 70,
            "learn": [
             0.1575771676
            ],
            "passed_time": 1.259867088,
            "remaining_time": 0.5145935995,
            "test": [
             0.1605921131
            ]
           },
           {
            "iteration": 71,
            "learn": [
             0.1572544142
            ],
            "passed_time": 1.27679705,
            "remaining_time": 0.4965321862,
            "test": [
             0.1607592103
            ]
           },
           {
            "iteration": 72,
            "learn": [
             0.1570950722
            ],
            "passed_time": 1.293772205,
            "remaining_time": 0.4785184867,
            "test": [
             0.1609212603
            ]
           },
           {
            "iteration": 73,
            "learn": [
             0.1569963702
            ],
            "passed_time": 1.313483769,
            "remaining_time": 0.4614942974,
            "test": [
             0.1608744143
            ]
           },
           {
            "iteration": 74,
            "learn": [
             0.1566877719
            ],
            "passed_time": 1.33067841,
            "remaining_time": 0.4435594701,
            "test": [
             0.1606496576
            ]
           },
           {
            "iteration": 75,
            "learn": [
             0.1566471917
            ],
            "passed_time": 1.347133574,
            "remaining_time": 0.4254106022,
            "test": [
             0.1606727605
            ]
           },
           {
            "iteration": 76,
            "learn": [
             0.1563616516
            ],
            "passed_time": 1.364253895,
            "remaining_time": 0.4075044101,
            "test": [
             0.1604164623
            ]
           },
           {
            "iteration": 77,
            "learn": [
             0.1563208031
            ],
            "passed_time": 1.380608964,
            "remaining_time": 0.3894025284,
            "test": [
             0.1603263875
            ]
           },
           {
            "iteration": 78,
            "learn": [
             0.1562403803
            ],
            "passed_time": 1.398097902,
            "remaining_time": 0.3716462778,
            "test": [
             0.1603013286
            ]
           },
           {
            "iteration": 79,
            "learn": [
             0.1560865917
            ],
            "passed_time": 1.415050799,
            "remaining_time": 0.3537626997,
            "test": [
             0.1604071985
            ]
           },
           {
            "iteration": 80,
            "learn": [
             0.1560524227
            ],
            "passed_time": 1.431415126,
            "remaining_time": 0.3357640418,
            "test": [
             0.1604225003
            ]
           },
           {
            "iteration": 81,
            "learn": [
             0.1559521667
            ],
            "passed_time": 1.44818482,
            "remaining_time": 0.3178942287,
            "test": [
             0.1602326953
            ]
           },
           {
            "iteration": 82,
            "learn": [
             0.1552665616
            ],
            "passed_time": 1.476519263,
            "remaining_time": 0.3024196082,
            "test": [
             0.1600268715
            ]
           },
           {
            "iteration": 83,
            "learn": [
             0.1550466843
            ],
            "passed_time": 1.493195189,
            "remaining_time": 0.2844181312,
            "test": [
             0.1599715718
            ]
           },
           {
            "iteration": 84,
            "learn": [
             0.1548353179
            ],
            "passed_time": 1.51005749,
            "remaining_time": 0.2664807335,
            "test": [
             0.1598518202
            ]
           },
           {
            "iteration": 85,
            "learn": [
             0.1546026522
            ],
            "passed_time": 1.526737286,
            "remaining_time": 0.248538628,
            "test": [
             0.1599854028
            ]
           },
           {
            "iteration": 86,
            "learn": [
             0.1542667676
            ],
            "passed_time": 1.54340189,
            "remaining_time": 0.2306232709,
            "test": [
             0.1597260367
            ]
           },
           {
            "iteration": 87,
            "learn": [
             0.153700897
            ],
            "passed_time": 1.560129499,
            "remaining_time": 0.2127449317,
            "test": [
             0.1598022181
            ]
           },
           {
            "iteration": 88,
            "learn": [
             0.1536336238
            ],
            "passed_time": 1.576687628,
            "remaining_time": 0.1948715046,
            "test": [
             0.1597999497
            ]
           },
           {
            "iteration": 89,
            "learn": [
             0.1533700395
            ],
            "passed_time": 1.593480973,
            "remaining_time": 0.1770534414,
            "test": [
             0.1601839639
            ]
           },
           {
            "iteration": 90,
            "learn": [
             0.152999054
            ],
            "passed_time": 1.610431717,
            "remaining_time": 0.1592734665,
            "test": [
             0.1602798311
            ]
           },
           {
            "iteration": 91,
            "learn": [
             0.1528138472
            ],
            "passed_time": 1.627213455,
            "remaining_time": 0.1414968222,
            "test": [
             0.1601655977
            ]
           },
           {
            "iteration": 92,
            "learn": [
             0.1527561863
            ],
            "passed_time": 1.643875995,
            "remaining_time": 0.1237326018,
            "test": [
             0.1601979282
            ]
           },
           {
            "iteration": 93,
            "learn": [
             0.1527092711
            ],
            "passed_time": 1.660308321,
            "remaining_time": 0.1059771269,
            "test": [
             0.1601810039
            ]
           },
           {
            "iteration": 94,
            "learn": [
             0.1525531117
            ],
            "passed_time": 1.677350827,
            "remaining_time": 0.08828162247,
            "test": [
             0.1603600536
            ]
           },
           {
            "iteration": 95,
            "learn": [
             0.152358792
            ],
            "passed_time": 1.693889852,
            "remaining_time": 0.07057874384,
            "test": [
             0.1600383669
            ]
           },
           {
            "iteration": 96,
            "learn": [
             0.1519358235
            ],
            "passed_time": 1.710841031,
            "remaining_time": 0.0529126092,
            "test": [
             0.1602294167
            ]
           },
           {
            "iteration": 97,
            "learn": [
             0.1517515397
            ],
            "passed_time": 1.727458682,
            "remaining_time": 0.03525425883,
            "test": [
             0.1603491845
            ]
           },
           {
            "iteration": 98,
            "learn": [
             0.1515736449
            ],
            "passed_time": 1.74412215,
            "remaining_time": 0.01761739545,
            "test": [
             0.160450034
            ]
           },
           {
            "iteration": 99,
            "learn": [
             0.1514111109
            ],
            "passed_time": 1.760611387,
            "remaining_time": 0,
            "test": [
             0.1605260651
            ]
           }
          ],
          "meta": {
           "iteration_count": 100,
           "launch_mode": "Train",
           "learn_metrics": [
            {
             "best_value": "Min",
             "name": "Logloss"
            }
           ],
           "learn_sets": [
            "learn"
           ],
           "name": "experiment",
           "parameters": "",
           "test_metrics": [
            {
             "best_value": "Min",
             "name": "Logloss"
            }
           ],
           "test_sets": [
            "test"
           ]
          }
         },
         "passed_iterations": 99,
         "total_iterations": 100
        },
        "name": "learing_rate_0.7",
        "path": "learing_rate_0.7"
       }
      },
      "layout": "IPY_MODEL_4bc6fbdc32724a5fabd0c0491cd47bab"
     }
    },
    "4f0b149ea8c5471894702d7351817a7e": {
     "model_module": "catboost-widget",
     "model_module_version": "^1.0.0",
     "model_name": "CatboostWidgetModel",
     "state": {
      "_dom_classes": [],
      "_model_module": "catboost-widget",
      "_model_module_version": "^1.0.0",
      "_model_name": "CatboostWidgetModel",
      "_view_count": null,
      "_view_module": "catboost-widget",
      "_view_module_version": "^1.0.0",
      "_view_name": "CatboostWidgetView",
      "data": {
       "catboost_info": {
        "content": {
         "data": {
          "iterations": [
           {
            "iteration": 0,
            "learn": [
             0.3971306723
            ],
            "passed_time": 0.01615010514,
            "remaining_time": 1.598860408,
            "test": [
             0.3972988062
            ]
           },
           {
            "iteration": 1,
            "learn": [
             0.2946036254
            ],
            "passed_time": 0.02565637504,
            "remaining_time": 1.257162377,
            "test": [
             0.2949818637
            ]
           },
           {
            "iteration": 2,
            "learn": [
             0.2446099231
            ],
            "passed_time": 0.0487775659,
            "remaining_time": 1.577141297,
            "test": [
             0.2440944579
            ]
           },
           {
            "iteration": 3,
            "learn": [
             0.2211549622
            ],
            "passed_time": 0.06378589037,
            "remaining_time": 1.530861369,
            "test": [
             0.2211809396
            ]
           },
           {
            "iteration": 4,
            "learn": [
             0.200582287
            ],
            "passed_time": 0.08247899636,
            "remaining_time": 1.567100931,
            "test": [
             0.196628362
            ]
           },
           {
            "iteration": 5,
            "learn": [
             0.1912649126
            ],
            "passed_time": 0.10007233,
            "remaining_time": 1.567799836,
            "test": [
             0.1846203721
            ]
           },
           {
            "iteration": 6,
            "learn": [
             0.1844001862
            ],
            "passed_time": 0.118499227,
            "remaining_time": 1.574346873,
            "test": [
             0.1761335129
            ]
           },
           {
            "iteration": 7,
            "learn": [
             0.1814791049
            ],
            "passed_time": 0.1374593042,
            "remaining_time": 1.580781998,
            "test": [
             0.1718440983
            ]
           },
           {
            "iteration": 8,
            "learn": [
             0.1788131489
            ],
            "passed_time": 0.1551891461,
            "remaining_time": 1.569134699,
            "test": [
             0.1686523629
            ]
           },
           {
            "iteration": 9,
            "learn": [
             0.1772081552
            ],
            "passed_time": 0.1723276471,
            "remaining_time": 1.550948824,
            "test": [
             0.1671282046
            ]
           },
           {
            "iteration": 10,
            "learn": [
             0.1759964191
            ],
            "passed_time": 0.1896875352,
            "remaining_time": 1.534744603,
            "test": [
             0.1648305627
            ]
           },
           {
            "iteration": 11,
            "learn": [
             0.1756791875
            ],
            "passed_time": 0.2074599458,
            "remaining_time": 1.521372936,
            "test": [
             0.1644250285
            ]
           },
           {
            "iteration": 12,
            "learn": [
             0.1747632036
            ],
            "passed_time": 0.2246752999,
            "remaining_time": 1.503596238,
            "test": [
             0.1633103993
            ]
           },
           {
            "iteration": 13,
            "learn": [
             0.1741151068
            ],
            "passed_time": 0.2421982126,
            "remaining_time": 1.48778902,
            "test": [
             0.1630162871
            ]
           },
           {
            "iteration": 14,
            "learn": [
             0.1737087249
            ],
            "passed_time": 0.2613966756,
            "remaining_time": 1.481247829,
            "test": [
             0.1628975684
            ]
           },
           {
            "iteration": 15,
            "learn": [
             0.1735967659
            ],
            "passed_time": 0.2783222017,
            "remaining_time": 1.461191559,
            "test": [
             0.1627768282
            ]
           },
           {
            "iteration": 16,
            "learn": [
             0.1731423318
            ],
            "passed_time": 0.2951866762,
            "remaining_time": 1.441205537,
            "test": [
             0.1627589463
            ]
           },
           {
            "iteration": 17,
            "learn": [
             0.1730916316
            ],
            "passed_time": 0.3123022881,
            "remaining_time": 1.422710424,
            "test": [
             0.1626880396
            ]
           },
           {
            "iteration": 18,
            "learn": [
             0.1730211559
            ],
            "passed_time": 0.3302543416,
            "remaining_time": 1.407926404,
            "test": [
             0.1626765153
            ]
           },
           {
            "iteration": 19,
            "learn": [
             0.1726931201
            ],
            "passed_time": 0.3473759912,
            "remaining_time": 1.389503965,
            "test": [
             0.1622917323
            ]
           },
           {
            "iteration": 20,
            "learn": [
             0.1720139569
            ],
            "passed_time": 0.3643583852,
            "remaining_time": 1.370681544,
            "test": [
             0.1618063258
            ]
           },
           {
            "iteration": 21,
            "learn": [
             0.1718006447
            ],
            "passed_time": 0.3813606775,
            "remaining_time": 1.352096948,
            "test": [
             0.1616156792
            ]
           },
           {
            "iteration": 22,
            "learn": [
             0.1705773595
            ],
            "passed_time": 0.3985659227,
            "remaining_time": 1.334329393,
            "test": [
             0.1605526321
            ]
           },
           {
            "iteration": 23,
            "learn": [
             0.1699711169
            ],
            "passed_time": 0.4154607594,
            "remaining_time": 1.315625738,
            "test": [
             0.1597543816
            ]
           },
           {
            "iteration": 24,
            "learn": [
             0.1696500575
            ],
            "passed_time": 0.4324670202,
            "remaining_time": 1.297401061,
            "test": [
             0.1594850883
            ]
           },
           {
            "iteration": 25,
            "learn": [
             0.1695909353
            ],
            "passed_time": 0.4491298491,
            "remaining_time": 1.278292647,
            "test": [
             0.159563102
            ]
           },
           {
            "iteration": 26,
            "learn": [
             0.1692754532
            ],
            "passed_time": 0.4660632977,
            "remaining_time": 1.260097064,
            "test": [
             0.159135733
            ]
           },
           {
            "iteration": 27,
            "learn": [
             0.168424433
            ],
            "passed_time": 0.4952769808,
            "remaining_time": 1.273569379,
            "test": [
             0.1589187917
            ]
           },
           {
            "iteration": 28,
            "learn": [
             0.1683136085
            ],
            "passed_time": 0.5170500468,
            "remaining_time": 1.265881149,
            "test": [
             0.1588282155
            ]
           },
           {
            "iteration": 29,
            "learn": [
             0.1679855712
            ],
            "passed_time": 0.5345876652,
            "remaining_time": 1.247371219,
            "test": [
             0.1583206285
            ]
           },
           {
            "iteration": 30,
            "learn": [
             0.1674992509
            ],
            "passed_time": 0.5564645355,
            "remaining_time": 1.238582353,
            "test": [
             0.1581344304
            ]
           },
           {
            "iteration": 31,
            "learn": [
             0.1673774835
            ],
            "passed_time": 0.5731767866,
            "remaining_time": 1.218000672,
            "test": [
             0.158110624
            ]
           },
           {
            "iteration": 32,
            "learn": [
             0.1673363493
            ],
            "passed_time": 0.5898878341,
            "remaining_time": 1.197651057,
            "test": [
             0.1581235598
            ]
           },
           {
            "iteration": 33,
            "learn": [
             0.1672173943
            ],
            "passed_time": 0.6122233765,
            "remaining_time": 1.188433613,
            "test": [
             0.1579965736
            ]
           },
           {
            "iteration": 34,
            "learn": [
             0.1669509757
            ],
            "passed_time": 0.6293525922,
            "remaining_time": 1.168797671,
            "test": [
             0.1576908062
            ]
           },
           {
            "iteration": 35,
            "learn": [
             0.1668463417
            ],
            "passed_time": 0.6502933548,
            "remaining_time": 1.156077075,
            "test": [
             0.1576935262
            ]
           },
           {
            "iteration": 36,
            "learn": [
             0.1667474645
            ],
            "passed_time": 0.666992652,
            "remaining_time": 1.135690191,
            "test": [
             0.1576168992
            ]
           },
           {
            "iteration": 37,
            "learn": [
             0.1667302153
            ],
            "passed_time": 0.6836187298,
            "remaining_time": 1.115377928,
            "test": [
             0.1576043682
            ]
           },
           {
            "iteration": 38,
            "learn": [
             0.1666675142
            ],
            "passed_time": 0.7001291011,
            "remaining_time": 1.095073722,
            "test": [
             0.1575521823
            ]
           },
           {
            "iteration": 39,
            "learn": [
             0.1666540804
            ],
            "passed_time": 0.7168494634,
            "remaining_time": 1.075274195,
            "test": [
             0.1575461774
            ]
           },
           {
            "iteration": 40,
            "learn": [
             0.1663713653
            ],
            "passed_time": 0.7337294486,
            "remaining_time": 1.055854572,
            "test": [
             0.1573888259
            ]
           },
           {
            "iteration": 41,
            "learn": [
             0.1663139272
            ],
            "passed_time": 0.7503624066,
            "remaining_time": 1.036214752,
            "test": [
             0.1573420129
            ]
           },
           {
            "iteration": 42,
            "learn": [
             0.166165479
            ],
            "passed_time": 0.7672503984,
            "remaining_time": 1.017052854,
            "test": [
             0.1575060381
            ]
           },
           {
            "iteration": 43,
            "learn": [
             0.1658663611
            ],
            "passed_time": 0.7840880021,
            "remaining_time": 0.9979301845,
            "test": [
             0.1572749261
            ]
           },
           {
            "iteration": 44,
            "learn": [
             0.1658003807
            ],
            "passed_time": 0.8005846864,
            "remaining_time": 0.9784923945,
            "test": [
             0.1573177538
            ]
           },
           {
            "iteration": 45,
            "learn": [
             0.1657417494
            ],
            "passed_time": 0.8171539785,
            "remaining_time": 0.9592677138,
            "test": [
             0.1573491729
            ]
           },
           {
            "iteration": 46,
            "learn": [
             0.1656397574
            ],
            "passed_time": 0.8341799467,
            "remaining_time": 0.9406710037,
            "test": [
             0.1572658266
            ]
           },
           {
            "iteration": 47,
            "learn": [
             0.1655330732
            ],
            "passed_time": 0.8508505027,
            "remaining_time": 0.9217547112,
            "test": [
             0.1572531727
            ]
           },
           {
            "iteration": 48,
            "learn": [
             0.1654662131
            ],
            "passed_time": 0.8673095555,
            "remaining_time": 0.9027099455,
            "test": [
             0.1572756445
            ]
           },
           {
            "iteration": 49,
            "learn": [
             0.1654580665
            ],
            "passed_time": 0.883760118,
            "remaining_time": 0.883760118,
            "test": [
             0.1572911957
            ]
           },
           {
            "iteration": 50,
            "learn": [
             0.1653993265
            ],
            "passed_time": 0.906841636,
            "remaining_time": 0.8712792189,
            "test": [
             0.1571171616
            ]
           },
           {
            "iteration": 51,
            "learn": [
             0.1652614723
            ],
            "passed_time": 0.9237690956,
            "remaining_time": 0.8527099344,
            "test": [
             0.1572118646
            ]
           },
           {
            "iteration": 52,
            "learn": [
             0.1650901385
            ],
            "passed_time": 0.940803415,
            "remaining_time": 0.834297368,
            "test": [
             0.1573362483
            ]
           },
           {
            "iteration": 53,
            "learn": [
             0.1650486408
            ],
            "passed_time": 0.9711122074,
            "remaining_time": 0.8272437322,
            "test": [
             0.1573383616
            ]
           },
           {
            "iteration": 54,
            "learn": [
             0.1648968202
            ],
            "passed_time": 0.9906129032,
            "remaining_time": 0.8105014663,
            "test": [
             0.1574822173
            ]
           },
           {
            "iteration": 55,
            "learn": [
             0.1646917647
            ],
            "passed_time": 1.007987773,
            "remaining_time": 0.7919903933,
            "test": [
             0.1573789279
            ]
           },
           {
            "iteration": 56,
            "learn": [
             0.1646653978
            ],
            "passed_time": 1.024386141,
            "remaining_time": 0.772782527,
            "test": [
             0.157381985
            ]
           },
           {
            "iteration": 57,
            "learn": [
             0.164453197
            ],
            "passed_time": 1.041323794,
            "remaining_time": 0.7540620574,
            "test": [
             0.1573939344
            ]
           },
           {
            "iteration": 58,
            "learn": [
             0.1638393302
            ],
            "passed_time": 1.058182479,
            "remaining_time": 0.7353471462,
            "test": [
             0.157167355
            ]
           },
           {
            "iteration": 59,
            "learn": [
             0.1635537769
            ],
            "passed_time": 1.074869083,
            "remaining_time": 0.7165793887,
            "test": [
             0.1569888071
            ]
           },
           {
            "iteration": 60,
            "learn": [
             0.1634432493
            ],
            "passed_time": 1.09180722,
            "remaining_time": 0.6980406817,
            "test": [
             0.1570743749
            ]
           },
           {
            "iteration": 61,
            "learn": [
             0.1630070061
            ],
            "passed_time": 1.108782523,
            "remaining_time": 0.6795763853,
            "test": [
             0.1567824307
            ]
           },
           {
            "iteration": 62,
            "learn": [
             0.1628034075
            ],
            "passed_time": 1.125692866,
            "remaining_time": 0.6611212068,
            "test": [
             0.1565139185
            ]
           },
           {
            "iteration": 63,
            "learn": [
             0.1626421501
            ],
            "passed_time": 1.142551299,
            "remaining_time": 0.6426851057,
            "test": [
             0.1564401726
            ]
           },
           {
            "iteration": 64,
            "learn": [
             0.1626240549
            ],
            "passed_time": 1.158997347,
            "remaining_time": 0.6240754945,
            "test": [
             0.1564487624
            ]
           },
           {
            "iteration": 65,
            "learn": [
             0.1626220171
            ],
            "passed_time": 1.177232678,
            "remaining_time": 0.6064531976,
            "test": [
             0.1564508535
            ]
           },
           {
            "iteration": 66,
            "learn": [
             0.1626206381
            ],
            "passed_time": 1.193768223,
            "remaining_time": 0.5879753933,
            "test": [
             0.1564519149
            ]
           },
           {
            "iteration": 67,
            "learn": [
             0.1625982287
            ],
            "passed_time": 1.21081459,
            "remaining_time": 0.5697951012,
            "test": [
             0.1565074185
            ]
           },
           {
            "iteration": 68,
            "learn": [
             0.1622916981
            ],
            "passed_time": 1.233646292,
            "remaining_time": 0.554246885,
            "test": [
             0.1562966378
            ]
           },
           {
            "iteration": 69,
            "learn": [
             0.1621394645
            ],
            "passed_time": 1.25045288,
            "remaining_time": 0.5359083773,
            "test": [
             0.1560966864
            ]
           },
           {
            "iteration": 70,
            "learn": [
             0.1619764619
            ],
            "passed_time": 1.266975944,
            "remaining_time": 0.5174972166,
            "test": [
             0.1562424662
            ]
           },
           {
            "iteration": 71,
            "learn": [
             0.1618729574
            ],
            "passed_time": 1.283784436,
            "remaining_time": 0.4992495028,
            "test": [
             0.1562209541
            ]
           },
           {
            "iteration": 72,
            "learn": [
             0.1617670957
            ],
            "passed_time": 1.30067299,
            "remaining_time": 0.4810708318,
            "test": [
             0.1561221133
            ]
           },
           {
            "iteration": 73,
            "learn": [
             0.1617086891
            ],
            "passed_time": 1.318634812,
            "remaining_time": 0.4633041232,
            "test": [
             0.1560253712
            ]
           },
           {
            "iteration": 74,
            "learn": [
             0.1617006941
            ],
            "passed_time": 1.335253,
            "remaining_time": 0.4450843332,
            "test": [
             0.1560387303
            ]
           },
           {
            "iteration": 75,
            "learn": [
             0.1615716851
            ],
            "passed_time": 1.356739655,
            "remaining_time": 0.4284441016,
            "test": [
             0.156032815
            ]
           },
           {
            "iteration": 76,
            "learn": [
             0.1614457617
            ],
            "passed_time": 1.37349285,
            "remaining_time": 0.4102640982,
            "test": [
             0.1561162799
            ]
           },
           {
            "iteration": 77,
            "learn": [
             0.1614201216
            ],
            "passed_time": 1.390026236,
            "remaining_time": 0.3920586821,
            "test": [
             0.1562356794
            ]
           },
           {
            "iteration": 78,
            "learn": [
             0.1612509514
            ],
            "passed_time": 1.40664687,
            "remaining_time": 0.3739187882,
            "test": [
             0.1561760787
            ]
           },
           {
            "iteration": 79,
            "learn": [
             0.1612502369
            ],
            "passed_time": 1.423114464,
            "remaining_time": 0.3557786159,
            "test": [
             0.1561790091
            ]
           },
           {
            "iteration": 80,
            "learn": [
             0.1610945262
            ],
            "passed_time": 1.440028033,
            "remaining_time": 0.3377843534,
            "test": [
             0.1560331751
            ]
           },
           {
            "iteration": 81,
            "learn": [
             0.1610414154
            ],
            "passed_time": 1.456622254,
            "remaining_time": 0.3197463485,
            "test": [
             0.1560112214
            ]
           },
           {
            "iteration": 82,
            "learn": [
             0.160805588
            ],
            "passed_time": 1.473391485,
            "remaining_time": 0.3017789789,
            "test": [
             0.1560128837
            ]
           },
           {
            "iteration": 83,
            "learn": [
             0.1607440075
            ],
            "passed_time": 1.506335326,
            "remaining_time": 0.2869210145,
            "test": [
             0.1560367684
            ]
           },
           {
            "iteration": 84,
            "learn": [
             0.1606821402
            ],
            "passed_time": 1.525298596,
            "remaining_time": 0.2691703404,
            "test": [
             0.1560839235
            ]
           },
           {
            "iteration": 85,
            "learn": [
             0.160673583
            ],
            "passed_time": 1.54219295,
            "remaining_time": 0.2510546662,
            "test": [
             0.1560705533
            ]
           },
           {
            "iteration": 86,
            "learn": [
             0.1605991397
            ],
            "passed_time": 1.560022682,
            "remaining_time": 0.2331068375,
            "test": [
             0.1562421132
            ]
           },
           {
            "iteration": 87,
            "learn": [
             0.1604345259
            ],
            "passed_time": 1.576770378,
            "remaining_time": 0.2150141424,
            "test": [
             0.1563509083
            ]
           },
           {
            "iteration": 88,
            "learn": [
             0.1603514854
            ],
            "passed_time": 1.596692875,
            "remaining_time": 0.1973440632,
            "test": [
             0.1563828788
            ]
           },
           {
            "iteration": 89,
            "learn": [
             0.1602348272
            ],
            "passed_time": 1.613744246,
            "remaining_time": 0.1793049162,
            "test": [
             0.1564597057
            ]
           },
           {
            "iteration": 90,
            "learn": [
             0.1598150825
            ],
            "passed_time": 1.630432753,
            "remaining_time": 0.161251591,
            "test": [
             0.1566026132
            ]
           },
           {
            "iteration": 91,
            "learn": [
             0.1595263228
            ],
            "passed_time": 1.647190017,
            "remaining_time": 0.1432339145,
            "test": [
             0.1564881327
            ]
           },
           {
            "iteration": 92,
            "learn": [
             0.1593363726
            ],
            "passed_time": 1.663777458,
            "remaining_time": 0.1252305613,
            "test": [
             0.156287322
            ]
           },
           {
            "iteration": 93,
            "learn": [
             0.1590985173
            ],
            "passed_time": 1.680488988,
            "remaining_time": 0.1072652546,
            "test": [
             0.1563924742
            ]
           },
           {
            "iteration": 94,
            "learn": [
             0.1589556826
            ],
            "passed_time": 1.697325516,
            "remaining_time": 0.08933292191,
            "test": [
             0.1564569834
            ]
           },
           {
            "iteration": 95,
            "learn": [
             0.1588500913
            ],
            "passed_time": 1.714169185,
            "remaining_time": 0.07142371603,
            "test": [
             0.1563726336
            ]
           },
           {
            "iteration": 96,
            "learn": [
             0.1586586016
            ],
            "passed_time": 1.731152195,
            "remaining_time": 0.05354078953,
            "test": [
             0.1564444255
            ]
           },
           {
            "iteration": 97,
            "learn": [
             0.158549417
            ],
            "passed_time": 1.747927171,
            "remaining_time": 0.03567198307,
            "test": [
             0.1564295547
            ]
           },
           {
            "iteration": 98,
            "learn": [
             0.1584319474
            ],
            "passed_time": 1.764725856,
            "remaining_time": 0.0178255137,
            "test": [
             0.1565260932
            ]
           },
           {
            "iteration": 99,
            "learn": [
             0.1583377077
            ],
            "passed_time": 1.781208188,
            "remaining_time": 0,
            "test": [
             0.1563655185
            ]
           }
          ],
          "meta": {
           "iteration_count": 100,
           "launch_mode": "Train",
           "learn_metrics": [
            {
             "best_value": "Min",
             "name": "Logloss"
            }
           ],
           "learn_sets": [
            "learn"
           ],
           "name": "experiment",
           "parameters": "",
           "test_metrics": [
            {
             "best_value": "Min",
             "name": "Logloss"
            }
           ],
           "test_sets": [
            "test"
           ]
          }
         },
         "passed_iterations": 99,
         "total_iterations": 100
        },
        "name": "catboost_info",
        "path": "catboost_info"
       }
      },
      "layout": "IPY_MODEL_3d30633b7c8745e9b3d542b61356e2b8"
     }
    },
    "616b2aae19d84175be594382694ae05f": {
     "model_module": "catboost-widget",
     "model_module_version": "^1.0.0",
     "model_name": "CatboostWidgetModel",
     "state": {
      "_dom_classes": [],
      "_model_module": "catboost-widget",
      "_model_module_version": "^1.0.0",
      "_model_name": "CatboostWidgetModel",
      "_view_count": null,
      "_view_module": "catboost-widget",
      "_view_module_version": "^1.0.0",
      "_view_name": "CatboostWidgetView",
      "data": {
       "catboost_info": {
        "content": {
         "data": {
          "iterations": [
           {
            "iteration": 0,
            "learn": [
             0.6892511085
            ],
            "passed_time": 0.03796222427,
            "remaining_time": 5.656371416,
            "test": [
             0.6892537846
            ]
           },
           {
            "iteration": 1,
            "learn": [
             0.6853938549
            ],
            "passed_time": 0.06450137234,
            "remaining_time": 4.773101553,
            "test": [
             0.6853991937
            ]
           },
           {
            "iteration": 2,
            "learn": [
             0.6815823845
            ],
            "passed_time": 0.1161920703,
            "remaining_time": 5.693411446,
            "test": [
             0.6815872044
            ]
           },
           {
            "iteration": 3,
            "learn": [
             0.6778027746
            ],
            "passed_time": 0.1476576052,
            "remaining_time": 5.38950259,
            "test": [
             0.6778092491
            ]
           },
           {
            "iteration": 4,
            "learn": [
             0.6740595577
            ],
            "passed_time": 0.173994671,
            "remaining_time": 5.045845459,
            "test": [
             0.6740686818
            ]
           },
           {
            "iteration": 5,
            "learn": [
             0.6703536206
            ],
            "passed_time": 0.2068217915,
            "remaining_time": 4.963722997,
            "test": [
             0.6703653812
            ]
           },
           {
            "iteration": 6,
            "learn": [
             0.6666845848
            ],
            "passed_time": 0.2319900268,
            "remaining_time": 4.739224833,
            "test": [
             0.6666989686
            ]
           },
           {
            "iteration": 7,
            "learn": [
             0.6630567264
            ],
            "passed_time": 0.268012765,
            "remaining_time": 4.757226579,
            "test": [
             0.6630703314
            ]
           },
           {
            "iteration": 8,
            "learn": [
             0.659460322
            ],
            "passed_time": 0.2939409792,
            "remaining_time": 4.605075341,
            "test": [
             0.659476541
            ]
           },
           {
            "iteration": 9,
            "learn": [
             0.6558996994
            ],
            "passed_time": 0.3195528248,
            "remaining_time": 4.473739548,
            "test": [
             0.6559185194
            ]
           },
           {
            "iteration": 10,
            "learn": [
             0.6523744907
            ],
            "passed_time": 0.3452319364,
            "remaining_time": 4.362476287,
            "test": [
             0.6523958987
            ]
           },
           {
            "iteration": 11,
            "learn": [
             0.6488905544
            ],
            "passed_time": 0.3879211305,
            "remaining_time": 4.461093001,
            "test": [
             0.6489099059
            ]
           },
           {
            "iteration": 12,
            "learn": [
             0.6454382787
            ],
            "passed_time": 0.4188747119,
            "remaining_time": 4.414295041,
            "test": [
             0.6454579653
            ]
           },
           {
            "iteration": 13,
            "learn": [
             0.6420170223
            ],
            "passed_time": 0.4443063689,
            "remaining_time": 4.316119012,
            "test": [
             0.6420393007
            ]
           },
           {
            "iteration": 14,
            "learn": [
             0.6386297366
            ],
            "passed_time": 0.4707075281,
            "remaining_time": 4.236367753,
            "test": [
             0.6386545938
            ]
           },
           {
            "iteration": 15,
            "learn": [
             0.6352760675
            ],
            "passed_time": 0.5014949691,
            "remaining_time": 4.200020366,
            "test": [
             0.6353034907
            ]
           },
           {
            "iteration": 16,
            "learn": [
             0.6319622599
            ],
            "passed_time": 0.5500300343,
            "remaining_time": 4.30317615,
            "test": [
             0.6319894963
            ]
           },
           {
            "iteration": 17,
            "learn": [
             0.6286808861
            ],
            "passed_time": 0.5872382001,
            "remaining_time": 4.306413468,
            "test": [
             0.6287084006
            ]
           },
           {
            "iteration": 18,
            "learn": [
             0.6254263455
            ],
            "passed_time": 0.6205275477,
            "remaining_time": 4.278374144,
            "test": [
             0.6254557963
            ]
           },
           {
            "iteration": 19,
            "learn": [
             0.6222035075
            ],
            "passed_time": 0.6515617364,
            "remaining_time": 4.235151287,
            "test": [
             0.622235512
            ]
           },
           {
            "iteration": 20,
            "learn": [
             0.6190125597
            ],
            "passed_time": 0.7026028229,
            "remaining_time": 4.315988769,
            "test": [
             0.6190471051
            ]
           },
           {
            "iteration": 21,
            "learn": [
             0.6158531652
            ],
            "passed_time": 0.7361871744,
            "remaining_time": 4.283270833,
            "test": [
             0.6158902389
            ]
           },
           {
            "iteration": 22,
            "learn": [
             0.6127277573
            ],
            "passed_time": 0.7686474899,
            "remaining_time": 4.244270922,
            "test": [
             0.6127672943
            ]
           },
           {
            "iteration": 23,
            "learn": [
             0.6096304374
            ],
            "passed_time": 0.7943679071,
            "remaining_time": 4.170431512,
            "test": [
             0.6096724804
            ]
           },
           {
            "iteration": 24,
            "learn": [
             0.6065636776
            ],
            "passed_time": 0.8197494244,
            "remaining_time": 4.098747122,
            "test": [
             0.6066082141
            ]
           },
           {
            "iteration": 25,
            "learn": [
             0.6035271526
            ],
            "passed_time": 0.8444759097,
            "remaining_time": 4.027500492,
            "test": [
             0.60357417
            ]
           },
           {
            "iteration": 26,
            "learn": [
             0.6005210782
            ],
            "passed_time": 0.8764441623,
            "remaining_time": 3.992690073,
            "test": [
             0.6005699513
            ]
           },
           {
            "iteration": 27,
            "learn": [
             0.597547391
            ],
            "passed_time": 0.9104855615,
            "remaining_time": 3.967115661,
            "test": [
             0.5975986568
            ]
           },
           {
            "iteration": 28,
            "learn": [
             0.5945996051
            ],
            "passed_time": 0.9435312074,
            "remaining_time": 3.936802624,
            "test": [
             0.5946533197
            ]
           },
           {
            "iteration": 29,
            "learn": [
             0.591680782
            ],
            "passed_time": 0.971904962,
            "remaining_time": 3.887619848,
            "test": [
             0.5917369332
            ]
           },
           {
            "iteration": 30,
            "learn": [
             0.5888060291
            ],
            "passed_time": 1.019201198,
            "remaining_time": 3.912417501,
            "test": [
             0.5888549496
            ]
           },
           {
            "iteration": 31,
            "learn": [
             0.5859531919
            ],
            "passed_time": 1.066702679,
            "remaining_time": 3.933466128,
            "test": [
             0.5859985135
            ]
           },
           {
            "iteration": 32,
            "learn": [
             0.5831223317
            ],
            "passed_time": 1.098737231,
            "remaining_time": 3.89552291,
            "test": [
             0.5831701664
            ]
           },
           {
            "iteration": 33,
            "learn": [
             0.5803159566
            ],
            "passed_time": 1.124384793,
            "remaining_time": 3.836136351,
            "test": [
             0.5803662873
            ]
           },
           {
            "iteration": 34,
            "learn": [
             0.5775370228
            ],
            "passed_time": 1.15070075,
            "remaining_time": 3.780873893,
            "test": [
             0.5775898371
            ]
           },
           {
            "iteration": 35,
            "learn": [
             0.5747856018
            ],
            "passed_time": 1.184862423,
            "remaining_time": 3.752064339,
            "test": [
             0.5748404365
            ]
           },
           {
            "iteration": 36,
            "learn": [
             0.5720606561
            ],
            "passed_time": 1.210058247,
            "remaining_time": 3.695583295,
            "test": [
             0.5721179544
            ]
           },
           {
            "iteration": 37,
            "learn": [
             0.5693622716
            ],
            "passed_time": 1.234892751,
            "remaining_time": 3.639683897,
            "test": [
             0.5694220211
            ]
           },
           {
            "iteration": 38,
            "learn": [
             0.5666901605
            ],
            "passed_time": 1.259227898,
            "remaining_time": 3.583956325,
            "test": [
             0.5667523491
            ]
           },
           {
            "iteration": 39,
            "learn": [
             0.5640440379
            ],
            "passed_time": 1.286298928,
            "remaining_time": 3.537322051,
            "test": [
             0.5641086534
            ]
           },
           {
            "iteration": 40,
            "learn": [
             0.5614253528
            ],
            "passed_time": 1.31932767,
            "remaining_time": 3.507480878,
            "test": [
             0.5614915953
            ]
           },
           {
            "iteration": 41,
            "learn": [
             0.55883207
            ],
            "passed_time": 1.350405366,
            "remaining_time": 3.472470942,
            "test": [
             0.5588995572
            ]
           },
           {
            "iteration": 42,
            "learn": [
             0.5562640245
            ],
            "passed_time": 1.380850334,
            "remaining_time": 3.436069436,
            "test": [
             0.5563325033
            ]
           },
           {
            "iteration": 43,
            "learn": [
             0.5537223907
            ],
            "passed_time": 1.418384431,
            "remaining_time": 3.417017039,
            "test": [
             0.5537929007
            ]
           },
           {
            "iteration": 44,
            "learn": [
             0.551201937
            ],
            "passed_time": 1.443924182,
            "remaining_time": 3.369156424,
            "test": [
             0.551274842
            ]
           },
           {
            "iteration": 45,
            "learn": [
             0.5487053853
            ],
            "passed_time": 1.475317804,
            "remaining_time": 3.335501122,
            "test": [
             0.548781586
            ]
           },
           {
            "iteration": 46,
            "learn": [
             0.5462339061
            ],
            "passed_time": 1.512826603,
            "remaining_time": 3.315343407,
            "test": [
             0.5463117812
            ]
           },
           {
            "iteration": 47,
            "learn": [
             0.5437784639
            ],
            "passed_time": 1.543451999,
            "remaining_time": 3.279835497,
            "test": [
             0.5438650925
            ]
           },
           {
            "iteration": 48,
            "learn": [
             0.54135779
            ],
            "passed_time": 1.589354049,
            "remaining_time": 3.27601549,
            "test": [
             0.5414456696
            ]
           },
           {
            "iteration": 49,
            "learn": [
             0.5389573786
            ],
            "passed_time": 1.624789903,
            "remaining_time": 3.249579806,
            "test": [
             0.5390472074
            ]
           },
           {
            "iteration": 50,
            "learn": [
             0.5365741749
            ],
            "passed_time": 1.65538523,
            "remaining_time": 3.213394857,
            "test": [
             0.5366710518
            ]
           },
           {
            "iteration": 51,
            "learn": [
             0.5342185022
            ],
            "passed_time": 1.690692583,
            "remaining_time": 3.186305253,
            "test": [
             0.5343177423
            ]
           },
           {
            "iteration": 52,
            "learn": [
             0.5318880252
            ],
            "passed_time": 1.727415648,
            "remaining_time": 3.161496563,
            "test": [
             0.5319896216
            ]
           },
           {
            "iteration": 53,
            "learn": [
             0.5295789109
            ],
            "passed_time": 1.757918936,
            "remaining_time": 3.125189219,
            "test": [
             0.5296816948
            ]
           },
           {
            "iteration": 54,
            "learn": [
             0.5272926453
            ],
            "passed_time": 1.789954382,
            "remaining_time": 3.091739387,
            "test": [
             0.5273976903
            ]
           },
           {
            "iteration": 55,
            "learn": [
             0.5250281755
            ],
            "passed_time": 1.820953528,
            "remaining_time": 3.056600565,
            "test": [
             0.5251356822
            ]
           },
           {
            "iteration": 56,
            "learn": [
             0.5227883549
            ],
            "passed_time": 1.958163327,
            "remaining_time": 3.19489806,
            "test": [
             0.5228976163
            ]
           },
           {
            "iteration": 57,
            "learn": [
             0.5205641437
            ],
            "passed_time": 2.044490305,
            "remaining_time": 3.242984622,
            "test": [
             0.520675708
            ]
           },
           {
            "iteration": 58,
            "learn": [
             0.51836268
            ],
            "passed_time": 2.160061235,
            "remaining_time": 3.331619871,
            "test": [
             0.5184750022
            ]
           },
           {
            "iteration": 59,
            "learn": [
             0.5161790852
            ],
            "passed_time": 2.321313219,
            "remaining_time": 3.481969828,
            "test": [
             0.5162974798
            ]
           },
           {
            "iteration": 60,
            "learn": [
             0.514017449
            ],
            "passed_time": 2.376147183,
            "remaining_time": 3.466837693,
            "test": [
             0.5141381257
            ]
           },
           {
            "iteration": 61,
            "learn": [
             0.5118781672
            ],
            "passed_time": 2.472293064,
            "remaining_time": 3.509061123,
            "test": [
             0.5120003766
            ]
           },
           {
            "iteration": 62,
            "learn": [
             0.5097571019
            ],
            "passed_time": 2.520740343,
            "remaining_time": 3.481022379,
            "test": [
             0.5098815901
            ]
           },
           {
            "iteration": 63,
            "learn": [
             0.5076604381
            ],
            "passed_time": 2.563309265,
            "remaining_time": 3.444446825,
            "test": [
             0.5077856988
            ]
           },
           {
            "iteration": 64,
            "learn": [
             0.5055790644
            ],
            "passed_time": 2.590972545,
            "remaining_time": 3.388194866,
            "test": [
             0.50570659
            ]
           },
           {
            "iteration": 65,
            "learn": [
             0.5035194854
            ],
            "passed_time": 2.632244376,
            "remaining_time": 3.350129206,
            "test": [
             0.5036470908
            ]
           },
           {
            "iteration": 66,
            "learn": [
             0.5014769505
            ],
            "passed_time": 2.657427634,
            "remaining_time": 3.292037218,
            "test": [
             0.5016068159
            ]
           },
           {
            "iteration": 67,
            "learn": [
             0.4994535347
            ],
            "passed_time": 2.683036986,
            "remaining_time": 3.235426954,
            "test": [
             0.4995856489
            ]
           },
           {
            "iteration": 68,
            "learn": [
             0.4974490292
            ],
            "passed_time": 2.72136927,
            "remaining_time": 3.194650883,
            "test": [
             0.4975833811
            ]
           },
           {
            "iteration": 69,
            "learn": [
             0.495465443
            ],
            "passed_time": 2.759659833,
            "remaining_time": 3.153896951,
            "test": [
             0.4956019476
            ]
           },
           {
            "iteration": 70,
            "learn": [
             0.4934999788
            ],
            "passed_time": 2.792018043,
            "remaining_time": 3.106611625,
            "test": [
             0.4936375962
            ]
           },
           {
            "iteration": 71,
            "learn": [
             0.4915509366
            ],
            "passed_time": 2.819153857,
            "remaining_time": 3.054083345,
            "test": [
             0.4916907642
            ]
           },
           {
            "iteration": 72,
            "learn": [
             0.4896199932
            ],
            "passed_time": 2.846410862,
            "remaining_time": 3.002378581,
            "test": [
             0.4897620202
            ]
           },
           {
            "iteration": 73,
            "learn": [
             0.4877094143
            ],
            "passed_time": 2.886303815,
            "remaining_time": 2.964312026,
            "test": [
             0.4878533093
            ]
           },
           {
            "iteration": 74,
            "learn": [
             0.4858140534
            ],
            "passed_time": 2.912166804,
            "remaining_time": 2.912166804,
            "test": [
             0.4859601293
            ]
           },
           {
            "iteration": 75,
            "learn": [
             0.4839355612
            ],
            "passed_time": 2.955293303,
            "remaining_time": 2.877522426,
            "test": [
             0.4840844318
            ]
           },
           {
            "iteration": 76,
            "learn": [
             0.4820750322
            ],
            "passed_time": 3.03001633,
            "remaining_time": 2.872612884,
            "test": [
             0.4822260652
            ]
           },
           {
            "iteration": 77,
            "learn": [
             0.4802321812
            ],
            "passed_time": 3.184452884,
            "remaining_time": 2.93949497,
            "test": [
             0.4803852596
            ]
           },
           {
            "iteration": 78,
            "learn": [
             0.4783984947
            ],
            "passed_time": 3.288087846,
            "remaining_time": 2.955116925,
            "test": [
             0.478560252
            ]
           },
           {
            "iteration": 79,
            "learn": [
             0.476592366
            ],
            "passed_time": 3.452967406,
            "remaining_time": 3.02134648,
            "test": [
             0.4767536435
            ]
           },
           {
            "iteration": 80,
            "learn": [
             0.4748014285
            ],
            "passed_time": 3.545537592,
            "remaining_time": 3.020272763,
            "test": [
             0.474963353
            ]
           },
           {
            "iteration": 81,
            "learn": [
             0.4730245988
            ],
            "passed_time": 3.624296806,
            "remaining_time": 3.005514424,
            "test": [
             0.4731886959
            ]
           },
           {
            "iteration": 82,
            "learn": [
             0.4712659551
            ],
            "passed_time": 3.656526308,
            "remaining_time": 2.951653767,
            "test": [
             0.4714321388
            ]
           },
           {
            "iteration": 83,
            "learn": [
             0.4695226543
            ],
            "passed_time": 3.689366762,
            "remaining_time": 2.89878817,
            "test": [
             0.4696900751
            ]
           },
           {
            "iteration": 84,
            "learn": [
             0.4677932687
            ],
            "passed_time": 3.726295346,
            "remaining_time": 2.84951997,
            "test": [
             0.4679635082
            ]
           },
           {
            "iteration": 85,
            "learn": [
             0.4660812599
            ],
            "passed_time": 3.786048544,
            "remaining_time": 2.817524498,
            "test": [
             0.4662531737
            ]
           },
           {
            "iteration": 86,
            "learn": [
             0.4643837613
            ],
            "passed_time": 3.81471305,
            "remaining_time": 2.762378416,
            "test": [
             0.4645578128
            ]
           },
           {
            "iteration": 87,
            "learn": [
             0.4627016301
            ],
            "passed_time": 3.869733659,
            "remaining_time": 2.726403259,
            "test": [
             0.462877809
            ]
           },
           {
            "iteration": 88,
            "learn": [
             0.4610347003
            ],
            "passed_time": 3.895942851,
            "remaining_time": 2.670252965,
            "test": [
             0.4612129963
            ]
           },
           {
            "iteration": 89,
            "learn": [
             0.459382808
            ],
            "passed_time": 3.925052097,
            "remaining_time": 2.616701398,
            "test": [
             0.4595632109
            ]
           },
           {
            "iteration": 90,
            "learn": [
             0.4577415877
            ],
            "passed_time": 3.972432416,
            "remaining_time": 2.575533105,
            "test": [
             0.4579280507
            ]
           },
           {
            "iteration": 91,
            "learn": [
             0.4561192693
            ],
            "passed_time": 4.000306537,
            "remaining_time": 2.521932382,
            "test": [
             0.4563078287
            ]
           },
           {
            "iteration": 92,
            "learn": [
             0.4545115079
            ],
            "passed_time": 4.027957037,
            "remaining_time": 2.468747861,
            "test": [
             0.4547021536
            ]
           },
           {
            "iteration": 93,
            "learn": [
             0.4529181469
            ],
            "passed_time": 4.055571745,
            "remaining_time": 2.416085295,
            "test": [
             0.4531108689
            ]
           },
           {
            "iteration": 94,
            "learn": [
             0.4513390317
            ],
            "passed_time": 4.082575079,
            "remaining_time": 2.363596099,
            "test": [
             0.4515338199
            ]
           },
           {
            "iteration": 95,
            "learn": [
             0.449775079
            ],
            "passed_time": 4.117476414,
            "remaining_time": 2.316080483,
            "test": [
             0.4499711584
            ]
           },
           {
            "iteration": 96,
            "learn": [
             0.4482225145
            ],
            "passed_time": 4.175509832,
            "remaining_time": 2.281464135,
            "test": [
             0.4484223823
            ]
           },
           {
            "iteration": 97,
            "learn": [
             0.4466851123
            ],
            "passed_time": 4.266050909,
            "remaining_time": 2.26361885,
            "test": [
             0.4468871276
            ]
           },
           {
            "iteration": 98,
            "learn": [
             0.4451614365
            ],
            "passed_time": 4.345375719,
            "remaining_time": 2.238526886,
            "test": [
             0.4453654936
            ]
           },
           {
            "iteration": 99,
            "learn": [
             0.4436467294
            ],
            "passed_time": 4.454586916,
            "remaining_time": 2.227293458,
            "test": [
             0.4438584968
            ]
           },
           {
            "iteration": 100,
            "learn": [
             0.4421498882
            ],
            "passed_time": 4.55697672,
            "remaining_time": 2.210810488,
            "test": [
             0.442363683
            ]
           },
           {
            "iteration": 101,
            "learn": [
             0.44066626
            ],
            "passed_time": 4.654406512,
            "remaining_time": 2.190308947,
            "test": [
             0.4408820726
            ]
           },
           {
            "iteration": 102,
            "learn": [
             0.439195704
            ],
            "passed_time": 4.726992723,
            "remaining_time": 2.156977262,
            "test": [
             0.4394135246
            ]
           },
           {
            "iteration": 103,
            "learn": [
             0.4377376292
            ],
            "passed_time": 4.81227179,
            "remaining_time": 2.12850483,
            "test": [
             0.4379580122
            ]
           },
           {
            "iteration": 104,
            "learn": [
             0.4362931412
            ],
            "passed_time": 4.850142174,
            "remaining_time": 2.07863236,
            "test": [
             0.4365158002
            ]
           },
           {
            "iteration": 105,
            "learn": [
             0.4348609449
            ],
            "passed_time": 4.87711718,
            "remaining_time": 2.024463735,
            "test": [
             0.4350855873
            ]
           },
           {
            "iteration": 106,
            "learn": [
             0.433446709
            ],
            "passed_time": 4.927977326,
            "remaining_time": 1.980402103,
            "test": [
             0.4336725644
            ]
           },
           {
            "iteration": 107,
            "learn": [
             0.4320398954
            ],
            "passed_time": 4.973378777,
            "remaining_time": 1.934091747,
            "test": [
             0.4322673614
            ]
           },
           {
            "iteration": 108,
            "learn": [
             0.4306447986
            ],
            "passed_time": 5.001289117,
            "remaining_time": 1.881218842,
            "test": [
             0.4308742322
            ]
           },
           {
            "iteration": 109,
            "learn": [
             0.4292637122
            ],
            "passed_time": 5.038494689,
            "remaining_time": 1.832179887,
            "test": [
             0.4294966171
            ]
           },
           {
            "iteration": 110,
            "learn": [
             0.4278922193
            ],
            "passed_time": 5.071324463,
            "remaining_time": 1.781816703,
            "test": [
             0.4281276227
            ]
           },
           {
            "iteration": 111,
            "learn": [
             0.4265212132
            ],
            "passed_time": 5.109015501,
            "remaining_time": 1.733415974,
            "test": [
             0.4267697856
            ]
           },
           {
            "iteration": 112,
            "learn": [
             0.4251755989
            ],
            "passed_time": 5.151622084,
            "remaining_time": 1.686814311,
            "test": [
             0.4254258335
            ]
           },
           {
            "iteration": 113,
            "learn": [
             0.4238429545
            ],
            "passed_time": 5.195196307,
            "remaining_time": 1.640588307,
            "test": [
             0.4240957616
            ]
           },
           {
            "iteration": 114,
            "learn": [
             0.4225186207
            ],
            "passed_time": 5.223326717,
            "remaining_time": 1.589708131,
            "test": [
             0.4227733495
            ]
           },
           {
            "iteration": 115,
            "learn": [
             0.4212045218
            ],
            "passed_time": 5.261551372,
            "remaining_time": 1.54217885,
            "test": [
             0.4214648043
            ]
           },
           {
            "iteration": 116,
            "learn": [
             0.4199042969
            ],
            "passed_time": 5.293386814,
            "remaining_time": 1.493006537,
            "test": [
             0.4201664859
            ]
           },
           {
            "iteration": 117,
            "learn": [
             0.4186114882
            ],
            "passed_time": 5.336071251,
            "remaining_time": 1.44707017,
            "test": [
             0.4188791429
            ]
           },
           {
            "iteration": 118,
            "learn": [
             0.4173331916
            ],
            "passed_time": 5.3824075,
            "remaining_time": 1.402139769,
            "test": [
             0.4176048281
            ]
           },
           {
            "iteration": 119,
            "learn": [
             0.4160645026
            ],
            "passed_time": 5.412166376,
            "remaining_time": 1.353041594,
            "test": [
             0.4163380237
            ]
           },
           {
            "iteration": 120,
            "learn": [
             0.4148066193
            ],
            "passed_time": 5.439134287,
            "remaining_time": 1.303594168,
            "test": [
             0.4150820163
            ]
           },
           {
            "iteration": 121,
            "learn": [
             0.4135560491
            ],
            "passed_time": 5.494054019,
            "remaining_time": 1.260930431,
            "test": [
             0.4138382726
            ]
           },
           {
            "iteration": 122,
            "learn": [
             0.4123193912
            ],
            "passed_time": 5.520383585,
            "remaining_time": 1.211791519,
            "test": [
             0.4126034854
            ]
           },
           {
            "iteration": 123,
            "learn": [
             0.4110944919
            ],
            "passed_time": 5.557191232,
            "remaining_time": 1.165217516,
            "test": [
             0.4113794395
            ]
           },
           {
            "iteration": 124,
            "learn": [
             0.4098786576
            ],
            "passed_time": 5.584560944,
            "remaining_time": 1.116912189,
            "test": [
             0.410165464
            ]
           },
           {
            "iteration": 125,
            "learn": [
             0.4086757977
            ],
            "passed_time": 5.623073357,
            "remaining_time": 1.071061592,
            "test": [
             0.408964616
            ]
           },
           {
            "iteration": 126,
            "learn": [
             0.4074803474
            ],
            "passed_time": 5.650169638,
            "remaining_time": 1.023259068,
            "test": [
             0.4077710072
            ]
           },
           {
            "iteration": 127,
            "learn": [
             0.4062949431
            ],
            "passed_time": 5.677113581,
            "remaining_time": 0.9757538968,
            "test": [
             0.4065874358
            ]
           },
           {
            "iteration": 128,
            "learn": [
             0.405119481
            ],
            "passed_time": 5.704034557,
            "remaining_time": 0.928563765,
            "test": [
             0.4054137983
            ]
           },
           {
            "iteration": 129,
            "learn": [
             0.4039538588
            ],
            "passed_time": 5.730691175,
            "remaining_time": 0.8816447961,
            "test": [
             0.4042499923
            ]
           },
           {
            "iteration": 130,
            "learn": [
             0.4027931849
            ],
            "passed_time": 5.765547205,
            "remaining_time": 0.8362244038,
            "test": [
             0.4030959046
            ]
           },
           {
            "iteration": 131,
            "learn": [
             0.4016469401
            ],
            "passed_time": 5.807420666,
            "remaining_time": 0.7919209999,
            "test": [
             0.4019514594
            ]
           },
           {
            "iteration": 132,
            "learn": [
             0.4005129099
            ],
            "passed_time": 5.857907019,
            "remaining_time": 0.7487550325,
            "test": [
             0.4008178527
            ]
           },
           {
            "iteration": 133,
            "learn": [
             0.3993698135
            ],
            "passed_time": 5.90805449,
            "remaining_time": 0.7054393421,
            "test": [
             0.399699576
            ]
           },
           {
            "iteration": 134,
            "learn": [
             0.398255196
            ],
            "passed_time": 5.972483357,
            "remaining_time": 0.6636092618,
            "test": [
             0.3985847367
            ]
           },
           {
            "iteration": 135,
            "learn": [
             0.3971405768
            ],
            "passed_time": 6.0164983,
            "remaining_time": 0.6193454133,
            "test": [
             0.3974780635
            ]
           },
           {
            "iteration": 136,
            "learn": [
             0.3960405394
            ],
            "passed_time": 6.055923257,
            "remaining_time": 0.5746496521,
            "test": [
             0.3963800313
            ]
           },
           {
            "iteration": 137,
            "learn": [
             0.3949430142
            ],
            "passed_time": 6.109334322,
            "remaining_time": 0.5312464628,
            "test": [
             0.3952915166
            ]
           },
           {
            "iteration": 138,
            "learn": [
             0.3938613118
            ],
            "passed_time": 6.136279606,
            "remaining_time": 0.4856048609,
            "test": [
             0.3942115987
            ]
           },
           {
            "iteration": 139,
            "learn": [
             0.3927884906
            ],
            "passed_time": 6.163318993,
            "remaining_time": 0.4402370709,
            "test": [
             0.3931405539
            ]
           },
           {
            "iteration": 140,
            "learn": [
             0.3917262026
            ],
            "passed_time": 6.206721215,
            "remaining_time": 0.3961736946,
            "test": [
             0.3920787022
            ]
           },
           {
            "iteration": 141,
            "learn": [
             0.3906638922
            ],
            "passed_time": 6.237670639,
            "remaining_time": 0.3514180642,
            "test": [
             0.3910246783
            ]
           },
           {
            "iteration": 142,
            "learn": [
             0.389610217
            ],
            "passed_time": 6.269217265,
            "remaining_time": 0.3068847612,
            "test": [
             0.3899792653
            ]
           },
           {
            "iteration": 143,
            "learn": [
             0.3885726171
            ],
            "passed_time": 6.2997124,
            "remaining_time": 0.2624880167,
            "test": [
             0.3889426645
            ]
           },
           {
            "iteration": 144,
            "learn": [
             0.3875428909
            ],
            "passed_time": 6.337182094,
            "remaining_time": 0.2185235205,
            "test": [
             0.387916347
            ]
           },
           {
            "iteration": 145,
            "learn": [
             0.3865195676
            ],
            "passed_time": 6.369072195,
            "remaining_time": 0.1744951286,
            "test": [
             0.3868970552
            ]
           },
           {
            "iteration": 146,
            "learn": [
             0.3855063283
            ],
            "passed_time": 6.412328126,
            "remaining_time": 0.1308638393,
            "test": [
             0.3858861467
            ]
           },
           {
            "iteration": 147,
            "learn": [
             0.3845013285
            ],
            "passed_time": 6.438250906,
            "remaining_time": 0.08700339062,
            "test": [
             0.3848828851
            ]
           },
           {
            "iteration": 148,
            "learn": [
             0.3835070613
            ],
            "passed_time": 6.485603381,
            "remaining_time": 0.04352753947,
            "test": [
             0.3838885143
            ]
           },
           {
            "iteration": 149,
            "learn": [
             0.3825181717
            ],
            "passed_time": 6.511794725,
            "remaining_time": 0,
            "test": [
             0.3829013568
            ]
           }
          ],
          "meta": {
           "iteration_count": 150,
           "launch_mode": "Train",
           "learn_metrics": [
            {
             "best_value": "Min",
             "name": "QuerySoftMax"
            }
           ],
           "learn_sets": [
            "learn"
           ],
           "name": "experiment",
           "parameters": "",
           "test_metrics": [
            {
             "best_value": "Min",
             "name": "QuerySoftMax"
            }
           ],
           "test_sets": [
            "test"
           ]
          }
         },
         "passed_iterations": 149,
         "total_iterations": 150
        },
        "name": "catboost_info",
        "path": "catboost_info"
       }
      },
      "layout": "IPY_MODEL_87e4967ecc334ebd833e3f16959ba121"
     }
    },
    "6c1fbb0efa9e4bb7a0fac7e632336d64": {
     "model_module": "catboost-widget",
     "model_module_version": "^1.0.0",
     "model_name": "CatboostWidgetModel",
     "state": {
      "_dom_classes": [],
      "_model_module": "catboost-widget",
      "_model_module_version": "^1.0.0",
      "_model_name": "CatboostWidgetModel",
      "_view_count": null,
      "_view_module": "catboost-widget",
      "_view_module_version": "^1.0.0",
      "_view_name": "CatboostWidgetView",
      "data": {
       "catboost_info": {
        "content": {
         "data": {
          "iterations": [
           {
            "iteration": 0,
            "learn": [
             0.3971306723,
             0.9421705131
            ],
            "passed_time": 0.01754338003,
            "remaining_time": 0.8596256212,
            "test": [
             0.3972988062,
             0.4997570063,
             0.9418675618
            ]
           },
           {
            "iteration": 1,
            "learn": [
             0.2946036254,
             0.9421705131
            ],
            "passed_time": 0.02777307595,
            "remaining_time": 0.6665538228,
            "test": [
             0.2949818637,
             0.4997570063,
             0.9418675618
            ]
           },
           {
            "iteration": 2,
            "learn": [
             0.2446099231,
             0.9421705131
            ],
            "passed_time": 0.05883052888,
            "remaining_time": 0.9216782857,
            "test": [
             0.2440944579,
             0.7039027379,
             0.9418675618
            ]
           },
           {
            "iteration": 3,
            "learn": [
             0.2211549622,
             0.9421705131
            ],
            "passed_time": 0.07566604804,
            "remaining_time": 0.8701595524,
            "test": [
             0.2211809396,
             0.7118077922,
             0.9418675618
            ]
           },
           {
            "iteration": 4,
            "learn": [
             0.200582287,
             0.9420942209
            ],
            "passed_time": 0.09459791395,
            "remaining_time": 0.8513812256,
            "test": [
             0.196628362,
             0.8095163384,
             0.9418675618
            ]
           },
           {
            "iteration": 5,
            "learn": [
             0.1912649126,
             0.9441541102
            ],
            "passed_time": 0.1123380774,
            "remaining_time": 0.823812568,
            "test": [
             0.1846203721,
             0.8258976841,
             0.9420201404
            ]
           },
           {
            "iteration": 6,
            "learn": [
             0.1844001862,
             0.9441541102
            ],
            "passed_time": 0.1308632635,
            "remaining_time": 0.8038743329,
            "test": [
             0.1761335129,
             0.8375141853,
             0.9407995117
            ]
           },
           {
            "iteration": 7,
            "learn": [
             0.1814791049,
             0.9449170322
            ],
            "passed_time": 0.1495618062,
            "remaining_time": 0.7851994825,
            "test": [
             0.1718440983,
             0.8448694743,
             0.9415624046
            ]
           },
           {
            "iteration": 8,
            "learn": [
             0.1788131489,
             0.9455273698
            ],
            "passed_time": 0.1677377517,
            "remaining_time": 0.7641386467,
            "test": [
             0.1686523629,
             0.8532471227,
             0.9412572475
            ]
           },
           {
            "iteration": 9,
            "learn": [
             0.1772081552,
             0.9456418081
            ],
            "passed_time": 0.1852501455,
            "remaining_time": 0.7410005821,
            "test": [
             0.1671282046,
             0.8535851454,
             0.9414098261
            ]
           },
           {
            "iteration": 10,
            "learn": [
             0.1759964191,
             0.9457181003
            ],
            "passed_time": 0.2031040614,
            "remaining_time": 0.7200962176,
            "test": [
             0.1648305627,
             0.8574553991,
             0.9424778761
            ]
           },
           {
            "iteration": 11,
            "learn": [
             0.1756791875,
             0.9459469769
            ],
            "passed_time": 0.2232504688,
            "remaining_time": 0.7069598179,
            "test": [
             0.1644250285,
             0.8571575564,
             0.9420201404
            ]
           },
           {
            "iteration": 12,
            "learn": [
             0.1747632036,
             0.9459469769
            ],
            "passed_time": 0.2409404369,
            "remaining_time": 0.6857535512,
            "test": [
             0.1633103993,
             0.858923353,
             0.942172719
            ]
           },
           {
            "iteration": 13,
            "learn": [
             0.1741151068,
             0.9460995613
            ],
            "passed_time": 0.2581184054,
            "remaining_time": 0.6637330424,
            "test": [
             0.1630162871,
             0.8592256601,
             0.9424778761
            ]
           },
           {
            "iteration": 14,
            "learn": [
             0.1737087249,
             0.9465954606
            ],
            "passed_time": 0.2755104547,
            "remaining_time": 0.6428577276,
            "test": [
             0.1628975684,
             0.8594344264,
             0.9426304547
            ]
           },
           {
            "iteration": 15,
            "learn": [
             0.1735967659,
             0.9466717528
            ],
            "passed_time": 0.292916751,
            "remaining_time": 0.6224480959,
            "test": [
             0.1627768282,
             0.8594395286,
             0.942172719
            ]
           },
           {
            "iteration": 16,
            "learn": [
             0.1731423318,
             0.9465191684
            ],
            "passed_time": 0.3104558984,
            "remaining_time": 0.6026496851,
            "test": [
             0.1627589463,
             0.8598562107,
             0.9423252975
            ]
           },
           {
            "iteration": 17,
            "learn": [
             0.1730916316,
             0.9466717528
            ],
            "passed_time": 0.3275929458,
            "remaining_time": 0.5823874592,
            "test": [
             0.1626880396,
             0.8597556542,
             0.9427830333
            ]
           },
           {
            "iteration": 18,
            "learn": [
             0.1730211559,
             0.9466717528
            ],
            "passed_time": 0.3448558876,
            "remaining_time": 0.5626596061,
            "test": [
             0.1626765153,
             0.8599342323,
             0.9424778761
            ]
           },
           {
            "iteration": 19,
            "learn": [
             0.1726931201,
             0.9465954606
            ],
            "passed_time": 0.3624771225,
            "remaining_time": 0.5437156837,
            "test": [
             0.1622917323,
             0.8606715044,
             0.9426304547
            ]
           },
           {
            "iteration": 20,
            "learn": [
             0.1720139569,
             0.9472439443
            ],
            "passed_time": 0.3798903909,
            "remaining_time": 0.5246105399,
            "test": [
             0.1618063258,
             0.8612561349,
             0.9429356118
            ]
           },
           {
            "iteration": 21,
            "learn": [
             0.1718006447,
             0.947129506
            ],
            "passed_time": 0.3972997436,
            "remaining_time": 0.5056542191,
            "test": [
             0.1616156792,
             0.8614782945,
             0.9433933476
            ]
           },
           {
            "iteration": 22,
            "learn": [
             0.1705773595,
             0.9476635514
            ],
            "passed_time": 0.4148772402,
            "remaining_time": 0.4870298037,
            "test": [
             0.1605526321,
             0.8644905232,
             0.9433933476
            ]
           },
           {
            "iteration": 23,
            "learn": [
             0.1699711169,
             0.9473965287
            ],
            "passed_time": 0.4322566229,
            "remaining_time": 0.4682780082,
            "test": [
             0.1597543816,
             0.8663706948,
             0.9433933476
            ]
           },
           {
            "iteration": 24,
            "learn": [
             0.1696500575,
             0.9474346748
            ],
            "passed_time": 0.4498736715,
            "remaining_time": 0.4498736715,
            "test": [
             0.1594850883,
             0.8664920854,
             0.9436985047
            ]
           },
           {
            "iteration": 25,
            "learn": [
             0.1695909353,
             0.9473965287
            ],
            "passed_time": 0.4668558447,
            "remaining_time": 0.4309438566,
            "test": [
             0.159563102,
             0.8664563698,
             0.9433933476
            ]
           },
           {
            "iteration": 26,
            "learn": [
             0.1692754532,
             0.9477016975
            ],
            "passed_time": 0.4890685376,
            "remaining_time": 0.4166139395,
            "test": [
             0.159135733,
             0.8664893217,
             0.9441562405
            ]
           },
           {
            "iteration": 27,
            "learn": [
             0.168424433,
             0.9474728209
            ],
            "passed_time": 0.5065930271,
            "remaining_time": 0.3980373785,
            "test": [
             0.1589187917,
             0.868839111,
             0.9433933476
            ]
           },
           {
            "iteration": 28,
            "learn": [
             0.1683136085,
             0.9475491131
            ],
            "passed_time": 0.5237997641,
            "remaining_time": 0.3793032775,
            "test": [
             0.1588282155,
             0.8688673858,
             0.9430881904
            ]
           },
           {
            "iteration": 29,
            "learn": [
             0.1679855712,
             0.9475872592
            ],
            "passed_time": 0.5413676878,
            "remaining_time": 0.3609117918,
            "test": [
             0.1583206285,
             0.8707029129,
             0.9430881904
            ]
           },
           {
            "iteration": 30,
            "learn": [
             0.1674992509,
             0.9479305741
            ],
            "passed_time": 0.5586339677,
            "remaining_time": 0.3423885608,
            "test": [
             0.1581344304,
             0.8714004302,
             0.9435459262
            ]
           },
           {
            "iteration": 31,
            "learn": [
             0.1673774835,
             0.9477779897
            ],
            "passed_time": 0.5759119715,
            "remaining_time": 0.323950484,
            "test": [
             0.158110624,
             0.8713319753,
             0.9438510833
            ]
           },
           {
            "iteration": 32,
            "learn": [
             0.1673363493,
             0.9478161358
            ],
            "passed_time": 0.5929262217,
            "remaining_time": 0.3054468415,
            "test": [
             0.1581235598,
             0.8713545101,
             0.9438510833
            ]
           },
           {
            "iteration": 33,
            "learn": [
             0.1672173943,
             0.9478542819
            ],
            "passed_time": 0.6117887799,
            "remaining_time": 0.2879006023,
            "test": [
             0.1579965736,
             0.87153734,
             0.9436985047
            ]
           },
           {
            "iteration": 34,
            "learn": [
             0.1669509757,
             0.9480450124
            ],
            "passed_time": 0.6321689824,
            "remaining_time": 0.2709295639,
            "test": [
             0.1576908062,
             0.8725480067,
             0.9438510833
            ]
           },
           {
            "iteration": 35,
            "learn": [
             0.1668463417,
             0.9483120351
            ],
            "passed_time": 0.6560449168,
            "remaining_time": 0.2551285788,
            "test": [
             0.1576935262,
             0.8725486444,
             0.9435459262
            ]
           },
           {
            "iteration": 36,
            "learn": [
             0.1667474645,
             0.9485027656
            ],
            "passed_time": 0.6732785042,
            "remaining_time": 0.2365573123,
            "test": [
             0.1576168992,
             0.8726294297,
             0.944308819
            ]
           },
           {
            "iteration": 37,
            "learn": [
             0.1667302153,
             0.9485409117
            ],
            "passed_time": 0.6931483774,
            "remaining_time": 0.2188889613,
            "test": [
             0.1576043682,
             0.8726702476,
             0.944308819
            ]
           },
           {
            "iteration": 38,
            "learn": [
             0.1666675142,
             0.9484264734
            ],
            "passed_time": 0.7126663052,
            "remaining_time": 0.2010084451,
            "test": [
             0.1575521823,
             0.8727348758,
             0.9447665548
            ]
           },
           {
            "iteration": 39,
            "learn": [
             0.1666540804,
             0.9484264734
            ],
            "passed_time": 0.7296808245,
            "remaining_time": 0.1824202061,
            "test": [
             0.1575461774,
             0.8727871737,
             0.9447665548
            ]
           },
           {
            "iteration": 40,
            "learn": [
             0.1663713653,
             0.9484264734
            ],
            "passed_time": 0.7469088516,
            "remaining_time": 0.1639556016,
            "test": [
             0.1573888259,
             0.8736328682,
             0.9447665548
            ]
           },
           {
            "iteration": 41,
            "learn": [
             0.1663139272,
             0.9483883273
            ],
            "passed_time": 0.7644854514,
            "remaining_time": 0.1456162765,
            "test": [
             0.1573420129,
             0.8737580854,
             0.9444613976
            ]
           },
           {
            "iteration": 42,
            "learn": [
             0.166165479,
             0.9484646195
            ],
            "passed_time": 0.7816750869,
            "remaining_time": 0.1272494328,
            "test": [
             0.1575060381,
             0.8734013546,
             0.9447665548
            ]
           },
           {
            "iteration": 43,
            "learn": [
             0.1658663611,
             0.9487316422
            ],
            "passed_time": 0.7989185577,
            "remaining_time": 0.1089434397,
            "test": [
             0.1572749261,
             0.8739481435,
             0.9441562405
            ]
           },
           {
            "iteration": 44,
            "learn": [
             0.1658003807,
             0.9487316422
            ],
            "passed_time": 0.8160303293,
            "remaining_time": 0.09067003659,
            "test": [
             0.1573177538,
             0.8738524767,
             0.944308819
            ]
           },
           {
            "iteration": 45,
            "learn": [
             0.1657417494,
             0.9487697883
            ],
            "passed_time": 0.8333081499,
            "remaining_time": 0.07246157825,
            "test": [
             0.1573491729,
             0.8736394586,
             0.9441562405
            ]
           },
           {
            "iteration": 46,
            "learn": [
             0.1656397574,
             0.9488079344
            ],
            "passed_time": 0.8617660958,
            "remaining_time": 0.05500634654,
            "test": [
             0.1572658266,
             0.8734311176,
             0.9438510833
            ]
           },
           {
            "iteration": 47,
            "learn": [
             0.1655330732,
             0.9487316422
            ],
            "passed_time": 0.8786121988,
            "remaining_time": 0.03660884162,
            "test": [
             0.1572531727,
             0.8735965148,
             0.9440036619
            ]
           },
           {
            "iteration": 48,
            "learn": [
             0.1654662131,
             0.9487316422
            ],
            "passed_time": 0.8967177207,
            "remaining_time": 0.01830036165,
            "test": [
             0.1572756445,
             0.8737108898,
             0.9440036619
            ]
           },
           {
            "iteration": 49,
            "learn": [
             0.1654580665,
             0.9487697883
            ],
            "passed_time": 0.9138260764,
            "remaining_time": 0,
            "test": [
             0.1572911957,
             0.8736968587,
             0.9440036619
            ]
           }
          ],
          "meta": {
           "iteration_count": 50,
           "launch_mode": "Train",
           "learn_metrics": [
            {
             "best_value": "Min",
             "name": "Logloss"
            },
            {
             "best_value": "Max",
             "name": "Accuracy"
            }
           ],
           "learn_sets": [
            "learn"
           ],
           "name": "experiment",
           "parameters": "",
           "test_metrics": [
            {
             "best_value": "Min",
             "name": "Logloss"
            },
            {
             "best_value": "Max",
             "name": "AUC"
            },
            {
             "best_value": "Max",
             "name": "Accuracy"
            }
           ],
           "test_sets": [
            "test"
           ]
          }
         },
         "passed_iterations": 49,
         "total_iterations": 50
        },
        "name": "catboost_info",
        "path": "catboost_info"
       }
      },
      "layout": "IPY_MODEL_8e1e31ba9e8b4e419125dd85ca72c6bc"
     }
    },
    "6f7898817b3b427c84f84443cc495897": {
     "model_module": "catboost-widget",
     "model_module_version": "^1.0.0",
     "model_name": "CatboostWidgetModel",
     "state": {
      "_dom_classes": [],
      "_model_module": "catboost-widget",
      "_model_module_version": "^1.0.0",
      "_model_name": "CatboostWidgetModel",
      "_view_count": null,
      "_view_module": "catboost-widget",
      "_view_module_version": "^1.0.0",
      "_view_name": "CatboostWidgetView",
      "data": {
       "catboost_info/fold-0": {
        "content": {
         "data": {
          "iterations": [
           {
            "iteration": 0,
            "learn": [
             0.3049766686
            ],
            "passed_time": 0.0212487174,
            "remaining_time": 1.678648675,
            "test": [
             0.3051157877,
             0.5
            ]
           },
           {
            "iteration": 1,
            "learn": [
             0.2201885844
            ],
            "passed_time": 0.06089412464,
            "remaining_time": 2.374870861,
            "test": [
             0.2180109359,
             0.7255103345
            ]
           },
           {
            "iteration": 2,
            "learn": [
             0.1951848531
            ],
            "passed_time": 0.09608516143,
            "remaining_time": 2.46618581,
            "test": [
             0.1900891651,
             0.7902836139
            ]
           },
           {
            "iteration": 3,
            "learn": [
             0.1868545735
            ],
            "passed_time": 0.1315179672,
            "remaining_time": 2.498841377,
            "test": [
             0.1802499811,
             0.8039077349
            ]
           },
           {
            "iteration": 4,
            "learn": [
             0.1812190021
            ],
            "passed_time": 0.1705512638,
            "remaining_time": 2.558268957,
            "test": [
             0.1741628227,
             0.8249533348
            ]
           },
           {
            "iteration": 5,
            "learn": [
             0.1794403442
            ],
            "passed_time": 0.2042388063,
            "remaining_time": 2.518945278,
            "test": [
             0.1714207557,
             0.8315770296
            ]
           },
           {
            "iteration": 6,
            "learn": [
             0.175097658
            ],
            "passed_time": 0.2521118216,
            "remaining_time": 2.62916614,
            "test": [
             0.1671419569,
             0.8403085446
            ]
           },
           {
            "iteration": 7,
            "learn": [
             0.1741149075
            ],
            "passed_time": 0.2876247275,
            "remaining_time": 2.588622548,
            "test": [
             0.166654837,
             0.8405297251
            ]
           },
           {
            "iteration": 8,
            "learn": [
             0.1728089759
            ],
            "passed_time": 0.3222849438,
            "remaining_time": 2.542470112,
            "test": [
             0.1661186724,
             0.8409145536
            ]
           },
           {
            "iteration": 9,
            "learn": [
             0.171840234
            ],
            "passed_time": 0.3552909007,
            "remaining_time": 2.487036305,
            "test": [
             0.1650952683,
             0.8417967185
            ]
           },
           {
            "iteration": 10,
            "learn": [
             0.1709562066
            ],
            "passed_time": 0.3879806546,
            "remaining_time": 2.433696834,
            "test": [
             0.1647333511,
             0.8424485404
            ]
           },
           {
            "iteration": 11,
            "learn": [
             0.1699220661
            ],
            "passed_time": 0.4213225753,
            "remaining_time": 2.387494593,
            "test": [
             0.1640332238,
             0.8441476667
            ]
           },
           {
            "iteration": 12,
            "learn": [
             0.1697719023
            ],
            "passed_time": 0.4496603221,
            "remaining_time": 2.317480122,
            "test": [
             0.1637686097,
             0.8445111869
            ]
           },
           {
            "iteration": 13,
            "learn": [
             0.1691869388
            ],
            "passed_time": 0.4837700572,
            "remaining_time": 2.280630269,
            "test": [
             0.1631197214,
             0.8455333475
            ]
           },
           {
            "iteration": 14,
            "learn": [
             0.168753573
            ],
            "passed_time": 0.5169248869,
            "remaining_time": 2.240007843,
            "test": [
             0.1624504162,
             0.8482167057
            ]
           },
           {
            "iteration": 15,
            "learn": [
             0.167775316
            ],
            "passed_time": 0.5493661718,
            "remaining_time": 2.197464687,
            "test": [
             0.1622800817,
             0.8474263797
            ]
           },
           {
            "iteration": 16,
            "learn": [
             0.1674676465
            ],
            "passed_time": 0.5819133802,
            "remaining_time": 2.156502527,
            "test": [
             0.1625960484,
             0.8464212657
            ]
           },
           {
            "iteration": 17,
            "learn": [
             0.1671333054
            ],
            "passed_time": 0.61548737,
            "remaining_time": 2.120012052,
            "test": [
             0.1625946903,
             0.8469424675
            ]
           },
           {
            "iteration": 18,
            "learn": [
             0.1669671281
            ],
            "passed_time": 0.6484952537,
            "remaining_time": 2.082011078,
            "test": [
             0.1627113781,
             0.8457281057
            ]
           },
           {
            "iteration": 19,
            "learn": [
             0.1657422083
            ],
            "passed_time": 0.6914204067,
            "remaining_time": 2.07426122,
            "test": [
             0.1620606547,
             0.8481853825
            ]
           },
           {
            "iteration": 20,
            "learn": [
             0.1653035245
            ],
            "passed_time": 0.7236263794,
            "remaining_time": 2.033045542,
            "test": [
             0.1622160419,
             0.8480660558
            ]
           },
           {
            "iteration": 21,
            "learn": [
             0.1646898781
            ],
            "passed_time": 0.7561049315,
            "remaining_time": 1.993367547,
            "test": [
             0.1622482019,
             0.8482343916
            ]
           },
           {
            "iteration": 22,
            "learn": [
             0.164563858
            ],
            "passed_time": 0.7892538521,
            "remaining_time": 1.955976938,
            "test": [
             0.16217458,
             0.8483409333
            ]
           },
           {
            "iteration": 23,
            "learn": [
             0.1639097762
            ],
            "passed_time": 0.8221878571,
            "remaining_time": 1.918438333,
            "test": [
             0.1622432135,
             0.848785212
            ]
           },
           {
            "iteration": 24,
            "learn": [
             0.1635237455
            ],
            "passed_time": 0.8639174566,
            "remaining_time": 1.900618405,
            "test": [
             0.1622317014,
             0.8497259749
            ]
           },
           {
            "iteration": 25,
            "learn": [
             0.1634303891
            ],
            "passed_time": 0.8973450744,
            "remaining_time": 1.863716693,
            "test": [
             0.1622127411,
             0.8496183678
            ]
           },
           {
            "iteration": 26,
            "learn": [
             0.1633483244
            ],
            "passed_time": 0.9302429416,
            "remaining_time": 1.826032441,
            "test": [
             0.1622308366,
             0.8496089921
            ]
           },
           {
            "iteration": 27,
            "learn": [
             0.1630832065
            ],
            "passed_time": 0.9768778601,
            "remaining_time": 1.81420174,
            "test": [
             0.1623030603,
             0.8496025996
            ]
           },
           {
            "iteration": 28,
            "learn": [
             0.1618954961
            ],
            "passed_time": 1.010056297,
            "remaining_time": 1.776305901,
            "test": [
             0.161977499,
             0.851805668
            ]
           },
           {
            "iteration": 29,
            "learn": [
             0.1612284786
            ],
            "passed_time": 1.042911285,
            "remaining_time": 1.738185474,
            "test": [
             0.1615759368,
             0.8548508417
            ]
           },
           {
            "iteration": 30,
            "learn": [
             0.1607110849
            ],
            "passed_time": 1.076201318,
            "remaining_time": 1.701092406,
            "test": [
             0.1616207132,
             0.856370765
            ]
           },
           {
            "iteration": 31,
            "learn": [
             0.1600667747
            ],
            "passed_time": 1.111359972,
            "remaining_time": 1.667039958,
            "test": [
             0.1614486451,
             0.856953974
            ]
           },
           {
            "iteration": 32,
            "learn": [
             0.1593806765
            ],
            "passed_time": 1.144221309,
            "remaining_time": 1.629648531,
            "test": [
             0.1622988198,
             0.8560274877
            ]
           },
           {
            "iteration": 33,
            "learn": [
             0.1591973188
            ],
            "passed_time": 1.177454449,
            "remaining_time": 1.593026608,
            "test": [
             0.1621791526,
             0.8561438312
            ]
           },
           {
            "iteration": 34,
            "learn": [
             0.1590417584
            ],
            "passed_time": 1.219714713,
            "remaining_time": 1.56820463,
            "test": [
             0.1621381011,
             0.8563833369
            ]
           },
           {
            "iteration": 35,
            "learn": [
             0.1584786241
            ],
            "passed_time": 1.262535558,
            "remaining_time": 1.543099015,
            "test": [
             0.1621346587,
             0.8566658854
            ]
           },
           {
            "iteration": 36,
            "learn": [
             0.1578995778
            ],
            "passed_time": 1.296853048,
            "remaining_time": 1.507153543,
            "test": [
             0.1621979939,
             0.8564994673
            ]
           },
           {
            "iteration": 37,
            "learn": [
             0.1578990635
            ],
            "passed_time": 1.324431144,
            "remaining_time": 1.463844949,
            "test": [
             0.1621978399,
             0.8564896655
            ]
           },
           {
            "iteration": 38,
            "learn": [
             0.1576163111
            ],
            "passed_time": 1.359111417,
            "remaining_time": 1.428809438,
            "test": [
             0.1621051863,
             0.8565808651
            ]
           },
           {
            "iteration": 39,
            "learn": [
             0.1559007282
            ],
            "passed_time": 1.393639492,
            "remaining_time": 1.393639492,
            "test": [
             0.1615781692,
             0.8586175154
            ]
           },
           {
            "iteration": 40,
            "learn": [
             0.1553798785
            ],
            "passed_time": 1.427582604,
            "remaining_time": 1.357944428,
            "test": [
             0.1618610794,
             0.8590496484
            ]
           },
           {
            "iteration": 41,
            "learn": [
             0.1549991199
            ],
            "passed_time": 1.467986889,
            "remaining_time": 1.328178614,
            "test": [
             0.1621859133,
             0.8571476667
            ]
           },
           {
            "iteration": 42,
            "learn": [
             0.1548252431
            ],
            "passed_time": 1.500642299,
            "remaining_time": 1.29125035,
            "test": [
             0.1621502737,
             0.8571613041
            ]
           },
           {
            "iteration": 43,
            "learn": [
             0.1547090996
            ],
            "passed_time": 1.532891953,
            "remaining_time": 1.254184325,
            "test": [
             0.1622068277,
             0.8569884935
            ]
           },
           {
            "iteration": 44,
            "learn": [
             0.1539099427
            ],
            "passed_time": 1.567138899,
            "remaining_time": 1.218885811,
            "test": [
             0.1624194993,
             0.8568512678
            ]
           },
           {
            "iteration": 45,
            "learn": [
             0.1535077139
            ],
            "passed_time": 1.604148414,
            "remaining_time": 1.185674914,
            "test": [
             0.162484358,
             0.856547198
            ]
           },
           {
            "iteration": 46,
            "learn": [
             0.153129975
            ],
            "passed_time": 1.63968545,
            "remaining_time": 1.151268508,
            "test": [
             0.1628565189,
             0.8550990837
            ]
           },
           {
            "iteration": 47,
            "learn": [
             0.1524653509
            ],
            "passed_time": 1.674049373,
            "remaining_time": 1.116032915,
            "test": [
             0.1626108039,
             0.8553087577
            ]
           },
           {
            "iteration": 48,
            "learn": [
             0.1517076085
            ],
            "passed_time": 1.708047296,
            "remaining_time": 1.08060135,
            "test": [
             0.1622770815,
             0.8565791605
            ]
           },
           {
            "iteration": 49,
            "learn": [
             0.1514271246
            ],
            "passed_time": 1.740894978,
            "remaining_time": 1.044536987,
            "test": [
             0.1623519495,
             0.8566132538
            ]
           },
           {
            "iteration": 50,
            "learn": [
             0.1511745427
            ],
            "passed_time": 1.774488594,
            "remaining_time": 1.009022926,
            "test": [
             0.1623200804,
             0.8567027488
            ]
           },
           {
            "iteration": 51,
            "learn": [
             0.1505479207
            ],
            "passed_time": 1.808022546,
            "remaining_time": 0.9735506015,
            "test": [
             0.1623045201,
             0.8570321756
            ]
           },
           {
            "iteration": 52,
            "learn": [
             0.1504301916
            ],
            "passed_time": 1.847858789,
            "remaining_time": 0.9413620246,
            "test": [
             0.1624036572,
             0.8570632857
            ]
           },
           {
            "iteration": 53,
            "learn": [
             0.1500513047
            ],
            "passed_time": 1.884842618,
            "remaining_time": 0.9075168161,
            "test": [
             0.1622760768,
             0.8577988494
            ]
           },
           {
            "iteration": 54,
            "learn": [
             0.1499259846
            ],
            "passed_time": 1.919569757,
            "remaining_time": 0.8725317077,
            "test": [
             0.162090152,
             0.8579863627
            ]
           },
           {
            "iteration": 55,
            "learn": [
             0.1496564347
            ],
            "passed_time": 1.959570844,
            "remaining_time": 0.839816076,
            "test": [
             0.1622690021,
             0.8581050501
            ]
           },
           {
            "iteration": 56,
            "learn": [
             0.1493604445
            ],
            "passed_time": 1.997546331,
            "remaining_time": 0.8060274668,
            "test": [
             0.1623835286,
             0.8578923929
            ]
           },
           {
            "iteration": 57,
            "learn": [
             0.1490554524
            ],
            "passed_time": 2.030609669,
            "remaining_time": 0.7702312537,
            "test": [
             0.1620199218,
             0.8590933305
            ]
           },
           {
            "iteration": 58,
            "learn": [
             0.1487812703
            ],
            "passed_time": 2.064465133,
            "remaining_time": 0.7348096237,
            "test": [
             0.1628767696,
             0.8563168549
            ]
           },
           {
            "iteration": 59,
            "learn": [
             0.1483938971
            ],
            "passed_time": 2.09795745,
            "remaining_time": 0.6993191501,
            "test": [
             0.1630745846,
             0.8561979544
            ]
           },
           {
            "iteration": 60,
            "learn": [
             0.1474602337
            ],
            "passed_time": 2.134328082,
            "remaining_time": 0.6647907142,
            "test": [
             0.1635285337,
             0.8567818027
            ]
           },
           {
            "iteration": 61,
            "learn": [
             0.1472378977
            ],
            "passed_time": 2.168773607,
            "remaining_time": 0.6296439503,
            "test": [
             0.1637197287,
             0.8563812061
            ]
           },
           {
            "iteration": 62,
            "learn": [
             0.1465579311
            ],
            "passed_time": 2.205267524,
            "remaining_time": 0.595072189,
            "test": [
             0.1636615389,
             0.8564340507
            ]
           },
           {
            "iteration": 63,
            "learn": [
             0.1456549402
            ],
            "passed_time": 2.23923967,
            "remaining_time": 0.5598099174,
            "test": [
             0.1634542323,
             0.8569895589
            ]
           },
           {
            "iteration": 64,
            "learn": [
             0.1455844561
            ],
            "passed_time": 2.281532176,
            "remaining_time": 0.5265074253,
            "test": [
             0.1634465933,
             0.8570061794
            ]
           },
           {
            "iteration": 65,
            "learn": [
             0.1454703377
            ],
            "passed_time": 2.316250488,
            "remaining_time": 0.4913258612,
            "test": [
             0.1635714949,
             0.8568561688
            ]
           },
           {
            "iteration": 66,
            "learn": [
             0.1451198527
            ],
            "passed_time": 2.350096124,
            "remaining_time": 0.4559888001,
            "test": [
             0.1638439146,
             0.856365651
            ]
           },
           {
            "iteration": 67,
            "learn": [
             0.1445913608
            ],
            "passed_time": 2.390342503,
            "remaining_time": 0.4218251476,
            "test": [
             0.1634293428,
             0.8576467079
            ]
           },
           {
            "iteration": 68,
            "learn": [
             0.1441360497
            ],
            "passed_time": 2.422552961,
            "remaining_time": 0.3862040953,
            "test": [
             0.1635040419,
             0.8571676966
            ]
           },
           {
            "iteration": 69,
            "learn": [
             0.143558867
            ],
            "passed_time": 2.454720007,
            "remaining_time": 0.3506742867,
            "test": [
             0.1637501004,
             0.8555785212
            ]
           },
           {
            "iteration": 70,
            "learn": [
             0.1432765502
            ],
            "passed_time": 2.490664589,
            "remaining_time": 0.3157180465,
            "test": [
             0.1636416413,
             0.8552580439
            ]
           },
           {
            "iteration": 71,
            "learn": [
             0.1429379507
            ],
            "passed_time": 2.534169851,
            "remaining_time": 0.2815744279,
            "test": [
             0.1633716892,
             0.8552384402
            ]
           },
           {
            "iteration": 72,
            "learn": [
             0.1426884978
            ],
            "passed_time": 2.566964595,
            "remaining_time": 0.2461472899,
            "test": [
             0.1634223237,
             0.8547287449
            ]
           },
           {
            "iteration": 73,
            "learn": [
             0.142293446
            ],
            "passed_time": 2.602553197,
            "remaining_time": 0.2110178268,
            "test": [
             0.1634953387,
             0.8552938419
            ]
           },
           {
            "iteration": 74,
            "learn": [
             0.142160575
            ],
            "passed_time": 2.634351816,
            "remaining_time": 0.1756234544,
            "test": [
             0.1634479907,
             0.8555380354
            ]
           },
           {
            "iteration": 75,
            "learn": [
             0.1415547144
            ],
            "passed_time": 2.668500272,
            "remaining_time": 0.1404473827,
            "test": [
             0.1638886519,
             0.854319625
            ]
           },
           {
            "iteration": 76,
            "learn": [
             0.1413746686
            ],
            "passed_time": 2.700976547,
            "remaining_time": 0.1052328525,
            "test": [
             0.1638796714,
             0.8546149584
            ]
           },
           {
            "iteration": 77,
            "learn": [
             0.140873402
            ],
            "passed_time": 2.733564338,
            "remaining_time": 0.07009139328,
            "test": [
             0.1641837879,
             0.853918176
            ]
           },
           {
            "iteration": 78,
            "learn": [
             0.1401445214
            ],
            "passed_time": 2.766264775,
            "remaining_time": 0.03501600981,
            "test": [
             0.1642908604,
             0.8531745152
            ]
           },
           {
            "iteration": 79,
            "learn": [
             0.1396023827
            ],
            "passed_time": 2.798133185,
            "remaining_time": 0,
            "test": [
             0.1645128418,
             0.8515840614
            ]
           }
          ],
          "meta": {
           "iteration_count": 80,
           "launch_mode": "Train",
           "learn_metrics": [
            {
             "best_value": "Min",
             "name": "Logloss"
            }
           ],
           "learn_sets": [
            "learn"
           ],
           "name": "experiment",
           "parameters": "",
           "test_metrics": [
            {
             "best_value": "Min",
             "name": "Logloss"
            },
            {
             "best_value": "Max",
             "name": "AUC"
            }
           ],
           "test_sets": [
            "test"
           ]
          }
         },
         "passed_iterations": 79,
         "total_iterations": 80
        },
        "name": "fold-0",
        "path": "catboost_info/fold-0"
       },
       "catboost_info/fold-1": {
        "content": {
         "data": {
          "iterations": [
           {
            "iteration": 0,
            "learn": [
             0.3050046343
            ],
            "passed_time": 0.02635362795,
            "remaining_time": 2.081936608,
            "test": [
             0.3051209605,
             0.5
            ]
           },
           {
            "iteration": 1,
            "learn": [
             0.237092635
            ],
            "passed_time": 0.05565521948,
            "remaining_time": 2.17055356,
            "test": [
             0.2364406219,
             0.5220040486
            ]
           },
           {
            "iteration": 2,
            "learn": [
             0.1990234154
            ],
            "passed_time": 0.09480218557,
            "remaining_time": 2.433256096,
            "test": [
             0.1900931218,
             0.8031359472
            ]
           },
           {
            "iteration": 3,
            "learn": [
             0.1894888863
            ],
            "passed_time": 0.1403101079,
            "remaining_time": 2.66589205,
            "test": [
             0.1777059431,
             0.8088161091
            ]
           },
           {
            "iteration": 4,
            "learn": [
             0.1824146437
            ],
            "passed_time": 0.1759833168,
            "remaining_time": 2.639749752,
            "test": [
             0.1695931724,
             0.8192397187
            ]
           },
           {
            "iteration": 5,
            "learn": [
             0.1793822047
            ],
            "passed_time": 0.2085027151,
            "remaining_time": 2.571533486,
            "test": [
             0.1668868661,
             0.8256944385
            ]
           },
           {
            "iteration": 6,
            "learn": [
             0.1760470757
            ],
            "passed_time": 0.2440557577,
            "remaining_time": 2.545152901,
            "test": [
             0.1635611752,
             0.8347249094
            ]
           },
           {
            "iteration": 7,
            "learn": [
             0.1743949588
            ],
            "passed_time": 0.2773506485,
            "remaining_time": 2.496155837,
            "test": [
             0.1614737747,
             0.8429480077
            ]
           },
           {
            "iteration": 8,
            "learn": [
             0.1717229247
            ],
            "passed_time": 0.3104730439,
            "remaining_time": 2.449287346,
            "test": [
             0.1598544559,
             0.8461391434
            ]
           },
           {
            "iteration": 9,
            "learn": [
             0.1708622038
            ],
            "passed_time": 0.3434833838,
            "remaining_time": 2.404383686,
            "test": [
             0.1587732149,
             0.849171319
            ]
           },
           {
            "iteration": 10,
            "learn": [
             0.1701016803
            ],
            "passed_time": 0.3762698727,
            "remaining_time": 2.360238292,
            "test": [
             0.1585611339,
             0.849209674
            ]
           },
           {
            "iteration": 11,
            "learn": [
             0.1695871644
            ],
            "passed_time": 0.4178982711,
            "remaining_time": 2.368090203,
            "test": [
             0.1584426137,
             0.8495041551
            ]
           },
           {
            "iteration": 12,
            "learn": [
             0.168814595
            ],
            "passed_time": 0.4547084224,
            "remaining_time": 2.343497254,
            "test": [
             0.1582270498,
             0.8512599616
            ]
           },
           {
            "iteration": 13,
            "learn": [
             0.1682423037
            ],
            "passed_time": 0.4913908602,
            "remaining_time": 2.316556912,
            "test": [
             0.1580082146,
             0.8524240358
            ]
           },
           {
            "iteration": 14,
            "learn": [
             0.1680109866
            ],
            "passed_time": 0.5249553883,
            "remaining_time": 2.274806683,
            "test": [
             0.1580652756,
             0.8526096314
            ]
           },
           {
            "iteration": 15,
            "learn": [
             0.1676206781
            ],
            "passed_time": 0.5576683062,
            "remaining_time": 2.230673225,
            "test": [
             0.1582035827,
             0.852552312
            ]
           },
           {
            "iteration": 16,
            "learn": [
             0.1673654056
            ],
            "passed_time": 0.5907262773,
            "remaining_time": 2.189162087,
            "test": [
             0.1580246023,
             0.8524415086
            ]
           },
           {
            "iteration": 17,
            "learn": [
             0.1672270742
            ],
            "passed_time": 0.6227976946,
            "remaining_time": 2.145192059,
            "test": [
             0.1579308758,
             0.852838909
            ]
           },
           {
            "iteration": 18,
            "learn": [
             0.1670245722
            ],
            "passed_time": 0.6556406992,
            "remaining_time": 2.104951718,
            "test": [
             0.1581022158,
             0.8527323674
            ]
           },
           {
            "iteration": 19,
            "learn": [
             0.1665098464
            ],
            "passed_time": 0.6878195308,
            "remaining_time": 2.063458593,
            "test": [
             0.1577916792,
             0.8522420626
            ]
           },
           {
            "iteration": 20,
            "learn": [
             0.1661179944
            ],
            "passed_time": 0.7227489739,
            "remaining_time": 2.030580451,
            "test": [
             0.1576067166,
             0.8525849137
            ]
           },
           {
            "iteration": 21,
            "learn": [
             0.1657547632
            ],
            "passed_time": 0.7546208992,
            "remaining_time": 1.989455098,
            "test": [
             0.157413578,
             0.8524380993
            ]
           },
           {
            "iteration": 22,
            "learn": [
             0.1648201932
            ],
            "passed_time": 0.7875405941,
            "remaining_time": 1.951731038,
            "test": [
             0.1577387946,
             0.8512755167
            ]
           },
           {
            "iteration": 23,
            "learn": [
             0.1641949901
            ],
            "passed_time": 0.8205030651,
            "remaining_time": 1.914507152,
            "test": [
             0.1576458311,
             0.8502981036
            ]
           },
           {
            "iteration": 24,
            "learn": [
             0.1635009467
            ],
            "passed_time": 0.8552780462,
            "remaining_time": 1.881611702,
            "test": [
             0.1576687219,
             0.8502580439
            ]
           },
           {
            "iteration": 25,
            "learn": [
             0.1627464555
            ],
            "passed_time": 0.8908186582,
            "remaining_time": 1.850161829,
            "test": [
             0.157021438,
             0.8516912423
            ]
           },
           {
            "iteration": 26,
            "learn": [
             0.1624269226
            ],
            "passed_time": 0.9276805173,
            "remaining_time": 1.821002497,
            "test": [
             0.157026019,
             0.8519132751
            ]
           },
           {
            "iteration": 27,
            "learn": [
             0.1617454296
            ],
            "passed_time": 0.9621467517,
            "remaining_time": 1.786843967,
            "test": [
             0.1568488425,
             0.8517924569
            ]
           },
           {
            "iteration": 28,
            "learn": [
             0.1612700734
            ],
            "passed_time": 0.9960505747,
            "remaining_time": 1.751675149,
            "test": [
             0.1567588553,
             0.8521532069
            ]
           },
           {
            "iteration": 29,
            "learn": [
             0.1609092283
            ],
            "passed_time": 1.02883569,
            "remaining_time": 1.71472615,
            "test": [
             0.1567544782,
             0.8522640102
            ]
           },
           {
            "iteration": 30,
            "learn": [
             0.16068062
            ],
            "passed_time": 1.061404244,
            "remaining_time": 1.677703482,
            "test": [
             0.1567911945,
             0.8527400384
            ]
           },
           {
            "iteration": 31,
            "learn": [
             0.1604355608
            ],
            "passed_time": 1.097923419,
            "remaining_time": 1.646885128,
            "test": [
             0.1568525684,
             0.8533871724
            ]
           },
           {
            "iteration": 32,
            "learn": [
             0.1604347192
            ],
            "passed_time": 1.145258818,
            "remaining_time": 1.631126195,
            "test": [
             0.1568508018,
             0.8533858939
            ]
           },
           {
            "iteration": 33,
            "learn": [
             0.1601562351
            ],
            "passed_time": 1.18461096,
            "remaining_time": 1.602708946,
            "test": [
             0.1569368502,
             0.8531915619
            ]
           },
           {
            "iteration": 34,
            "learn": [
             0.1596381349
            ],
            "passed_time": 1.218173596,
            "remaining_time": 1.566223195,
            "test": [
             0.1569684819,
             0.8533008736
            ]
           },
           {
            "iteration": 35,
            "learn": [
             0.1593978957
            ],
            "passed_time": 1.250920252,
            "remaining_time": 1.52890253,
            "test": [
             0.1570059809,
             0.8534479011
            ]
           },
           {
            "iteration": 36,
            "learn": [
             0.1585865437
            ],
            "passed_time": 1.284979794,
            "remaining_time": 1.493354895,
            "test": [
             0.1571295632,
             0.8533008736
            ]
           },
           {
            "iteration": 37,
            "learn": [
             0.1584000394
            ],
            "passed_time": 1.317872355,
            "remaining_time": 1.456595761,
            "test": [
             0.1568699539,
             0.8540115065
            ]
           },
           {
            "iteration": 38,
            "learn": [
             0.1579963562
            ],
            "passed_time": 1.351189297,
            "remaining_time": 1.420481056,
            "test": [
             0.1571270349,
             0.8529980823
            ]
           },
           {
            "iteration": 39,
            "learn": [
             0.1575218966
            ],
            "passed_time": 1.384119646,
            "remaining_time": 1.384119646,
            "test": [
             0.156784485,
             0.8531385042
            ]
           },
           {
            "iteration": 40,
            "learn": [
             0.1571604264
            ],
            "passed_time": 1.416705765,
            "remaining_time": 1.347598166,
            "test": [
             0.15675783,
             0.852516727
            ]
           },
           {
            "iteration": 41,
            "learn": [
             0.1571143027
            ],
            "passed_time": 1.462025863,
            "remaining_time": 1.322785305,
            "test": [
             0.156747521,
             0.8523539314
            ]
           },
           {
            "iteration": 42,
            "learn": [
             0.1571129427
            ],
            "passed_time": 1.492785456,
            "remaining_time": 1.284489811,
            "test": [
             0.1567481319,
             0.8523505221
            ]
           },
           {
            "iteration": 43,
            "learn": [
             0.1570537673
            ],
            "passed_time": 1.527162755,
            "remaining_time": 1.249496799,
            "test": [
             0.15669885,
             0.8524276582
            ]
           },
           {
            "iteration": 44,
            "learn": [
             0.1568172437
            ],
            "passed_time": 1.562627653,
            "remaining_time": 1.215377064,
            "test": [
             0.1566513965,
             0.8523645856
            ]
           },
           {
            "iteration": 45,
            "learn": [
             0.1564366111
            ],
            "passed_time": 1.594910989,
            "remaining_time": 1.178847253,
            "test": [
             0.1570473723,
             0.8503155764
            ]
           },
           {
            "iteration": 46,
            "learn": [
             0.1562493372
            ],
            "passed_time": 1.632335652,
            "remaining_time": 1.146108011,
            "test": [
             0.1569868789,
             0.8501523546
            ]
           },
           {
            "iteration": 47,
            "learn": [
             0.1555225048
            ],
            "passed_time": 1.665754195,
            "remaining_time": 1.110502797,
            "test": [
             0.156606731,
             0.8508188792
            ]
           },
           {
            "iteration": 48,
            "learn": [
             0.1549878433
            ],
            "passed_time": 1.704407139,
            "remaining_time": 1.078298394,
            "test": [
             0.1564970623,
             0.8501269977
            ]
           },
           {
            "iteration": 49,
            "learn": [
             0.154115701
            ],
            "passed_time": 1.739220034,
            "remaining_time": 1.04353202,
            "test": [
             0.1557996998,
             0.8529448114
            ]
           },
           {
            "iteration": 50,
            "learn": [
             0.1538435294
            ],
            "passed_time": 1.772730147,
            "remaining_time": 1.008023025,
            "test": [
             0.155917282,
             0.8524547198
            ]
           },
           {
            "iteration": 51,
            "learn": [
             0.1536151176
            ],
            "passed_time": 1.806339229,
            "remaining_time": 0.9726442002,
            "test": [
             0.1559152654,
             0.8525131046
            ]
           },
           {
            "iteration": 52,
            "learn": [
             0.1533687088
            ],
            "passed_time": 1.839455379,
            "remaining_time": 0.9370810423,
            "test": [
             0.1555997202,
             0.8528885574
            ]
           },
           {
            "iteration": 53,
            "learn": [
             0.1528944505
            ],
            "passed_time": 1.878800891,
            "remaining_time": 0.9046078362,
            "test": [
             0.1554136495,
             0.8536075005
            ]
           },
           {
            "iteration": 54,
            "learn": [
             0.1527031453
            ],
            "passed_time": 1.913141212,
            "remaining_time": 0.8696096419,
            "test": [
             0.1552012345,
             0.8543140848
            ]
           },
           {
            "iteration": 55,
            "learn": [
             0.152538889
            ],
            "passed_time": 1.945461738,
            "remaining_time": 0.8337693165,
            "test": [
             0.1552466435,
             0.8540029832
            ]
           },
           {
            "iteration": 56,
            "learn": [
             0.152329318
            ],
            "passed_time": 1.982008852,
            "remaining_time": 0.7997579577,
            "test": [
             0.1551886688,
             0.8545109738
            ]
           },
           {
            "iteration": 57,
            "learn": [
             0.1521003206
            ],
            "passed_time": 2.015583947,
            "remaining_time": 0.7645318421,
            "test": [
             0.1553445702,
             0.8546631153
            ]
           },
           {
            "iteration": 58,
            "learn": [
             0.1517888204
            ],
            "passed_time": 2.048514564,
            "remaining_time": 0.7291323024,
            "test": [
             0.1552707347,
             0.8548203708
            ]
           },
           {
            "iteration": 59,
            "learn": [
             0.1511924058
            ],
            "passed_time": 2.083165334,
            "remaining_time": 0.6943884448,
            "test": [
             0.155422506,
             0.8542416365
            ]
           },
           {
            "iteration": 60,
            "learn": [
             0.150984042
            ],
            "passed_time": 2.143154867,
            "remaining_time": 0.6675400404,
            "test": [
             0.1555619115,
             0.8539601534
            ]
           },
           {
            "iteration": 61,
            "learn": [
             0.1506520117
            ],
            "passed_time": 2.176561434,
            "remaining_time": 0.6319049325,
            "test": [
             0.1558646514,
             0.8529599403
            ]
           },
           {
            "iteration": 62,
            "learn": [
             0.1505742131
            ],
            "passed_time": 2.208888548,
            "remaining_time": 0.5960492907,
            "test": [
             0.1557575065,
             0.8528989985
            ]
           },
           {
            "iteration": 63,
            "learn": [
             0.1503195112
            ],
            "passed_time": 2.242089779,
            "remaining_time": 0.5605224448,
            "test": [
             0.1560297613,
             0.8525235457
            ]
           },
           {
            "iteration": 64,
            "learn": [
             0.1493172296
            ],
            "passed_time": 2.275505952,
            "remaining_time": 0.5251167582,
            "test": [
             0.1557903569,
             0.8524532282
            ]
           },
           {
            "iteration": 65,
            "learn": [
             0.1492004267
            ],
            "passed_time": 2.308512304,
            "remaining_time": 0.4896844282,
            "test": [
             0.1557893141,
             0.8524992542
            ]
           },
           {
            "iteration": 66,
            "learn": [
             0.1484666429
            ],
            "passed_time": 2.343043505,
            "remaining_time": 0.4546203815,
            "test": [
             0.1562138859,
             0.8510779885
            ]
           },
           {
            "iteration": 67,
            "learn": [
             0.1482555391
            ],
            "passed_time": 2.375378104,
            "remaining_time": 0.4191843713,
            "test": [
             0.1561351579,
             0.851135521
            ]
           },
           {
            "iteration": 68,
            "learn": [
             0.1479805894
            ],
            "passed_time": 2.409128599,
            "remaining_time": 0.3840639795,
            "test": [
             0.1565531192,
             0.8492740251
            ]
           },
           {
            "iteration": 69,
            "learn": [
             0.1477362709
            ],
            "passed_time": 2.441450326,
            "remaining_time": 0.348778618,
            "test": [
             0.1565637899,
             0.8492162796
            ]
           },
           {
            "iteration": 70,
            "learn": [
             0.1473557634
            ],
            "passed_time": 2.48571334,
            "remaining_time": 0.3150904233,
            "test": [
             0.1566249213,
             0.8494647347
            ]
           },
           {
            "iteration": 71,
            "learn": [
             0.147240103
            ],
            "passed_time": 2.525754749,
            "remaining_time": 0.2806394166,
            "test": [
             0.1565755253,
             0.8493684211
            ]
           },
           {
            "iteration": 72,
            "learn": [
             0.1470826022
            ],
            "passed_time": 2.557501831,
            "remaining_time": 0.2452399016,
            "test": [
             0.1566251598,
             0.8493079054
            ]
           },
           {
            "iteration": 73,
            "learn": [
             0.1470145983
            ],
            "passed_time": 2.593364036,
            "remaining_time": 0.2102727597,
            "test": [
             0.1565888726,
             0.8493309184
            ]
           },
           {
            "iteration": 74,
            "learn": [
             0.1464897873
            ],
            "passed_time": 2.628807753,
            "remaining_time": 0.1752538502,
            "test": [
             0.1564987737,
             0.8498989985
            ]
           },
           {
            "iteration": 75,
            "learn": [
             0.1463580542
            ],
            "passed_time": 2.662660529,
            "remaining_time": 0.1401400278,
            "test": [
             0.1565619127,
             0.849774984
            ]
           },
           {
            "iteration": 76,
            "learn": [
             0.1461944715
            ],
            "passed_time": 2.695335023,
            "remaining_time": 0.1050130528,
            "test": [
             0.1565543272,
             0.8497783934
            ]
           },
           {
            "iteration": 77,
            "learn": [
             0.1461863488
            ],
            "passed_time": 2.725178945,
            "remaining_time": 0.0698763832,
            "test": [
             0.1565850068,
             0.8497536757
            ]
           },
           {
            "iteration": 78,
            "learn": [
             0.1459638518
            ],
            "passed_time": 2.766036405,
            "remaining_time": 0.03501311905,
            "test": [
             0.1562471515,
             0.8511885787
            ]
           },
           {
            "iteration": 79,
            "learn": [
             0.1453528935
            ],
            "passed_time": 2.800357587,
            "remaining_time": 0,
            "test": [
             0.1567013979,
             0.8503882378
            ]
           }
          ],
          "meta": {
           "iteration_count": 80,
           "launch_mode": "Train",
           "learn_metrics": [
            {
             "best_value": "Min",
             "name": "Logloss"
            }
           ],
           "learn_sets": [
            "learn"
           ],
           "name": "experiment",
           "parameters": "",
           "test_metrics": [
            {
             "best_value": "Min",
             "name": "Logloss"
            },
            {
             "best_value": "Max",
             "name": "AUC"
            }
           ],
           "test_sets": [
            "test"
           ]
          }
         },
         "passed_iterations": 79,
         "total_iterations": 80
        },
        "name": "fold-1",
        "path": "catboost_info/fold-1"
       },
       "catboost_info/fold-2": {
        "content": {
         "data": {
          "iterations": [
           {
            "iteration": 0,
            "learn": [
             0.305062548
            ],
            "passed_time": 0.02134592833,
            "remaining_time": 1.686328338,
            "test": [
             0.3049697992,
             0.5
            ]
           },
           {
            "iteration": 1,
            "learn": [
             0.2196466693
            ],
            "passed_time": 0.06334802089,
            "remaining_time": 2.470572815,
            "test": [
             0.2175374744,
             0.7337643689
            ]
           },
           {
            "iteration": 2,
            "learn": [
             0.1939828065
            ],
            "passed_time": 0.09909730975,
            "remaining_time": 2.543497617,
            "test": [
             0.188186793,
             0.7824208336
            ]
           },
           {
            "iteration": 3,
            "learn": [
             0.1827332326
            ],
            "passed_time": 0.1449789694,
            "remaining_time": 2.754600419,
            "test": [
             0.1771821491,
             0.8111561121
            ]
           },
           {
            "iteration": 4,
            "learn": [
             0.1794823072
            ],
            "passed_time": 0.1787742808,
            "remaining_time": 2.681614212,
            "test": [
             0.1732071771,
             0.819995205
            ]
           },
           {
            "iteration": 5,
            "learn": [
             0.1761412525
            ],
            "passed_time": 0.2132761094,
            "remaining_time": 2.630405349,
            "test": [
             0.1694104034,
             0.8381219054
            ]
           },
           {
            "iteration": 6,
            "learn": [
             0.1742479512
            ],
            "passed_time": 0.2469506826,
            "remaining_time": 2.575342833,
            "test": [
             0.1673354691,
             0.8430489422
            ]
           },
           {
            "iteration": 7,
            "learn": [
             0.1736041487
            ],
            "passed_time": 0.2775359305,
            "remaining_time": 2.497823374,
            "test": [
             0.1661568572,
             0.8451113829
            ]
           },
           {
            "iteration": 8,
            "learn": [
             0.1719780341
            ],
            "passed_time": 0.3201419659,
            "remaining_time": 2.525564398,
            "test": [
             0.1649389436,
             0.8485527016
            ]
           },
           {
            "iteration": 9,
            "learn": [
             0.17122941
            ],
            "passed_time": 0.3549153026,
            "remaining_time": 2.484407118,
            "test": [
             0.163749223,
             0.8487644587
            ]
           },
           {
            "iteration": 10,
            "learn": [
             0.1705923128
            ],
            "passed_time": 0.3877511208,
            "remaining_time": 2.432257031,
            "test": [
             0.1635028883,
             0.8501076521
            ]
           },
           {
            "iteration": 11,
            "learn": [
             0.1700288446
            ],
            "passed_time": 0.421578003,
            "remaining_time": 2.388942017,
            "test": [
             0.1635306805,
             0.8501847906
            ]
           },
           {
            "iteration": 12,
            "learn": [
             0.1693135646
            ],
            "passed_time": 0.4555462471,
            "remaining_time": 2.347815274,
            "test": [
             0.1625433732,
             0.8533051617
            ]
           },
           {
            "iteration": 13,
            "learn": [
             0.1692919445
            ],
            "passed_time": 0.4771513902,
            "remaining_time": 2.249427982,
            "test": [
             0.162317221,
             0.8535863648
            ]
           },
           {
            "iteration": 14,
            "learn": [
             0.1689309196
            ],
            "passed_time": 0.5104603592,
            "remaining_time": 2.21199489,
            "test": [
             0.1621996681,
             0.853731881
            ]
           },
           {
            "iteration": 15,
            "learn": [
             0.1682982047
            ],
            "passed_time": 0.5447606905,
            "remaining_time": 2.179042762,
            "test": [
             0.1618276916,
             0.8531158411
            ]
           },
           {
            "iteration": 16,
            "learn": [
             0.1670100168
            ],
            "passed_time": 0.5777420294,
            "remaining_time": 2.141043991,
            "test": [
             0.1613522518,
             0.8558058605
            ]
           },
           {
            "iteration": 17,
            "learn": [
             0.1667482977
            ],
            "passed_time": 0.6276896903,
            "remaining_time": 2.162042267,
            "test": [
             0.1611392625,
             0.8566934878
            ]
           },
           {
            "iteration": 18,
            "learn": [
             0.1660428654
            ],
            "passed_time": 0.6622753852,
            "remaining_time": 2.126252552,
            "test": [
             0.1607955705,
             0.8582781398
            ]
           },
           {
            "iteration": 19,
            "learn": [
             0.1655340079
            ],
            "passed_time": 0.6960896113,
            "remaining_time": 2.088268834,
            "test": [
             0.16093383,
             0.8581571968
            ]
           },
           {
            "iteration": 20,
            "learn": [
             0.164457549
            ],
            "passed_time": 0.7304400255,
            "remaining_time": 2.052188643,
            "test": [
             0.1604121869,
             0.8579896716
            ]
           },
           {
            "iteration": 21,
            "learn": [
             0.1637095929
            ],
            "passed_time": 0.7632654461,
            "remaining_time": 2.012245267,
            "test": [
             0.1602342333,
             0.8588493068
            ]
           },
           {
            "iteration": 22,
            "learn": [
             0.16368537
            ],
            "passed_time": 0.7954529986,
            "remaining_time": 1.97134004,
            "test": [
             0.1602348797,
             0.8588403322
            ]
           },
           {
            "iteration": 23,
            "learn": [
             0.1626289867
            ],
            "passed_time": 0.8304919969,
            "remaining_time": 1.937814659,
            "test": [
             0.1607231048,
             0.8581042041
            ]
           },
           {
            "iteration": 24,
            "learn": [
             0.1618162133
            ],
            "passed_time": 0.8631801404,
            "remaining_time": 1.898996309,
            "test": [
             0.1599540422,
             0.8602920751
            ]
           },
           {
            "iteration": 25,
            "learn": [
             0.1612926396
            ],
            "passed_time": 0.8961706647,
            "remaining_time": 1.861277534,
            "test": [
             0.1597838545,
             0.8604091718
            ]
           },
           {
            "iteration": 26,
            "learn": [
             0.1610599188
            ],
            "passed_time": 0.9286807253,
            "remaining_time": 1.822965868,
            "test": [
             0.1599203413,
             0.8600226245
            ]
           },
           {
            "iteration": 27,
            "learn": [
             0.1609457076
            ],
            "passed_time": 0.960456301,
            "remaining_time": 1.783704559,
            "test": [
             0.1599295725,
             0.8599858715
            ]
           },
           {
            "iteration": 28,
            "learn": [
             0.1606772265
            ],
            "passed_time": 0.9920796963,
            "remaining_time": 1.74469188,
            "test": [
             0.1599318856,
             0.8597683451
            ]
           },
           {
            "iteration": 29,
            "learn": [
             0.1603226468
            ],
            "passed_time": 1.024388025,
            "remaining_time": 1.707313375,
            "test": [
             0.1600401868,
             0.8596886424
            ]
           },
           {
            "iteration": 30,
            "learn": [
             0.1598107786
            ],
            "passed_time": 1.058025332,
            "remaining_time": 1.672362622,
            "test": [
             0.160098077,
             0.858287969
            ]
           },
           {
            "iteration": 31,
            "learn": [
             0.1584855987
            ],
            "passed_time": 1.094425014,
            "remaining_time": 1.641637521,
            "test": [
             0.1604593049,
             0.8545673704
            ]
           },
           {
            "iteration": 32,
            "learn": [
             0.1578497054
            ],
            "passed_time": 1.126799738,
            "remaining_time": 1.60483599,
            "test": [
             0.1604303989,
             0.8552421723
            ]
           },
           {
            "iteration": 33,
            "learn": [
             0.1573199145
            ],
            "passed_time": 1.15922194,
            "remaining_time": 1.568359095,
            "test": [
             0.1598706408,
             0.8572368764
            ]
           },
           {
            "iteration": 34,
            "learn": [
             0.1572902083
            ],
            "passed_time": 1.191749365,
            "remaining_time": 1.532249184,
            "test": [
             0.159812736,
             0.8572757662
            ]
           },
           {
            "iteration": 35,
            "learn": [
             0.156441587
            ],
            "passed_time": 1.225449029,
            "remaining_time": 1.497771035,
            "test": [
             0.1602272753,
             0.8565349371
            ]
           },
           {
            "iteration": 36,
            "learn": [
             0.1561977577
            ],
            "passed_time": 1.258117453,
            "remaining_time": 1.462136499,
            "test": [
             0.1604185125,
             0.8555118366
            ]
           },
           {
            "iteration": 37,
            "learn": [
             0.1560310808
            ],
            "passed_time": 1.301666702,
            "remaining_time": 1.438684249,
            "test": [
             0.160680137,
             0.8551596917
            ]
           },
           {
            "iteration": 38,
            "learn": [
             0.1557059917
            ],
            "passed_time": 1.353177196,
            "remaining_time": 1.422570898,
            "test": [
             0.1608639686,
             0.8551361869
            ]
           },
           {
            "iteration": 39,
            "learn": [
             0.1552997117
            ],
            "passed_time": 1.387507472,
            "remaining_time": 1.387507472,
            "test": [
             0.160628495,
             0.8566180587
            ]
           },
           {
            "iteration": 40,
            "learn": [
             0.155228591
            ],
            "passed_time": 1.419348193,
            "remaining_time": 1.350111696,
            "test": [
             0.160535558,
             0.8566381446
            ]
           },
           {
            "iteration": 41,
            "learn": [
             0.1548554821
            ],
            "passed_time": 1.451391011,
            "remaining_time": 1.313163295,
            "test": [
             0.1604533992,
             0.8569308864
            ]
           },
           {
            "iteration": 42,
            "learn": [
             0.1546573128
            ],
            "passed_time": 1.483197862,
            "remaining_time": 1.276240021,
            "test": [
             0.1602954338,
             0.8567516088
            ]
           },
           {
            "iteration": 43,
            "learn": [
             0.1541916933
            ],
            "passed_time": 1.517233206,
            "remaining_time": 1.241372623,
            "test": [
             0.1603585697,
             0.856221041
            ]
           },
           {
            "iteration": 44,
            "learn": [
             0.153774855
            ],
            "passed_time": 1.552199353,
            "remaining_time": 1.207266163,
            "test": [
             0.1605761577,
             0.8560889867
            ]
           },
           {
            "iteration": 45,
            "learn": [
             0.1534428764
            ],
            "passed_time": 1.584809762,
            "remaining_time": 1.171381128,
            "test": [
             0.1610070986,
             0.8556374805
            ]
           },
           {
            "iteration": 46,
            "learn": [
             0.1531930346
            ],
            "passed_time": 1.631278055,
            "remaining_time": 1.145365443,
            "test": [
             0.1609374066,
             0.855502862
            ]
           },
           {
            "iteration": 47,
            "learn": [
             0.1531318859
            ],
            "passed_time": 1.661707934,
            "remaining_time": 1.107805289,
            "test": [
             0.1608903466,
             0.8553785002
            ]
           },
           {
            "iteration": 48,
            "learn": [
             0.1526794252
            ],
            "passed_time": 1.694405045,
            "remaining_time": 1.071970539,
            "test": [
             0.1607120026,
             0.8558597079
            ]
           },
           {
            "iteration": 49,
            "learn": [
             0.1525231378
            ],
            "passed_time": 1.727951374,
            "remaining_time": 1.036770824,
            "test": [
             0.160473819,
             0.8559344959
            ]
           },
           {
            "iteration": 50,
            "learn": [
             0.1522241611
            ],
            "passed_time": 1.761131413,
            "remaining_time": 1.001427666,
            "test": [
             0.1607169522,
             0.8552445227
            ]
           },
           {
            "iteration": 51,
            "learn": [
             0.1518386209
            ],
            "passed_time": 1.793968224,
            "remaining_time": 0.9659828898,
            "test": [
             0.1604991659,
             0.8558988113
            ]
           },
           {
            "iteration": 52,
            "learn": [
             0.1510834686
            ],
            "passed_time": 1.831082559,
            "remaining_time": 0.9328156433,
            "test": [
             0.1604224395,
             0.8539410739
            ]
           },
           {
            "iteration": 53,
            "learn": [
             0.150913587
            ],
            "passed_time": 1.864769102,
            "remaining_time": 0.8978517897,
            "test": [
             0.1601922681,
             0.854968448
            ]
           },
           {
            "iteration": 54,
            "learn": [
             0.150538078
            ],
            "passed_time": 1.898392078,
            "remaining_time": 0.86290549,
            "test": [
             0.1601512983,
             0.8545701482
            ]
           },
           {
            "iteration": 55,
            "learn": [
             0.1502554888
            ],
            "passed_time": 1.931160158,
            "remaining_time": 0.8276400676,
            "test": [
             0.1605962015,
             0.8533632827
            ]
           },
           {
            "iteration": 56,
            "learn": [
             0.1499106537
            ],
            "passed_time": 1.964149135,
            "remaining_time": 0.7925514054,
            "test": [
             0.160311538,
             0.8538921411
            ]
           },
           {
            "iteration": 57,
            "learn": [
             0.1496327606
            ],
            "passed_time": 1.996624754,
            "remaining_time": 0.757340424,
            "test": [
             0.1609080688,
             0.8527694656
            ]
           },
           {
            "iteration": 58,
            "learn": [
             0.149244829
            ],
            "passed_time": 2.029766948,
            "remaining_time": 0.7224594222,
            "test": [
             0.1609824328,
             0.85314597
            ]
           },
           {
            "iteration": 59,
            "learn": [
             0.1486059728
            ],
            "passed_time": 2.065336164,
            "remaining_time": 0.6884453881,
            "test": [
             0.1610086919,
             0.8513899466
            ]
           },
           {
            "iteration": 60,
            "learn": [
             0.1484629299
            ],
            "passed_time": 2.0978473,
            "remaining_time": 0.6534278475,
            "test": [
             0.1608364854,
             0.851523283
            ]
           },
           {
            "iteration": 61,
            "learn": [
             0.1482700505
            ],
            "passed_time": 2.131505797,
            "remaining_time": 0.6188242636,
            "test": [
             0.1608295876,
             0.8516540553
            ]
           },
           {
            "iteration": 62,
            "learn": [
             0.1478896826
            ],
            "passed_time": 2.166390357,
            "remaining_time": 0.5845815249,
            "test": [
             0.1610471733,
             0.8513852456
            ]
           },
           {
            "iteration": 63,
            "learn": [
             0.1472348334
            ],
            "passed_time": 2.200181087,
            "remaining_time": 0.5500452716,
            "test": [
             0.1609690427,
             0.850942073
            ]
           },
           {
            "iteration": 64,
            "learn": [
             0.1468744098
            ],
            "passed_time": 2.234318952,
            "remaining_time": 0.5156120658,
            "test": [
             0.160557663,
             0.8523989442
            ]
           },
           {
            "iteration": 65,
            "learn": [
             0.1467043586
            ],
            "passed_time": 2.269684662,
            "remaining_time": 0.4814482615,
            "test": [
             0.1608521965,
             0.8530677631
            ]
           },
           {
            "iteration": 66,
            "learn": [
             0.1466757593
            ],
            "passed_time": 2.314802194,
            "remaining_time": 0.4491407242,
            "test": [
             0.1608435306,
             0.8529489569
            ]
           },
           {
            "iteration": 67,
            "learn": [
             0.1464638458
            ],
            "passed_time": 2.35577197,
            "remaining_time": 0.4157244653,
            "test": [
             0.1607316973,
             0.8530822934
            ]
           },
           {
            "iteration": 68,
            "learn": [
             0.1461637396
            ],
            "passed_time": 2.389190934,
            "remaining_time": 0.3808855112,
            "test": [
             0.1606695584,
             0.8533152047
            ]
           },
           {
            "iteration": 69,
            "learn": [
             0.1460236937
            ],
            "passed_time": 2.422033642,
            "remaining_time": 0.3460048061,
            "test": [
             0.1608355256,
             0.852944256
            ]
           },
           {
            "iteration": 70,
            "learn": [
             0.146023113
            ],
            "passed_time": 2.451253482,
            "remaining_time": 0.3107222724,
            "test": [
             0.1608305141,
             0.8529421192
            ]
           },
           {
            "iteration": 71,
            "learn": [
             0.1455448942
            ],
            "passed_time": 2.492218586,
            "remaining_time": 0.2769131762,
            "test": [
             0.1608526943,
             0.8526339924
            ]
           },
           {
            "iteration": 72,
            "learn": [
             0.1449325233
            ],
            "passed_time": 2.53168254,
            "remaining_time": 0.2427640792,
            "test": [
             0.1617926444,
             0.8504386426
            ]
           },
           {
            "iteration": 73,
            "learn": [
             0.1446172939
            ],
            "passed_time": 2.568390555,
            "remaining_time": 0.2082478828,
            "test": [
             0.1611458452,
             0.8520181662
            ]
           },
           {
            "iteration": 74,
            "learn": [
             0.1442498896
            ],
            "passed_time": 2.612132546,
            "remaining_time": 0.1741421698,
            "test": [
             0.1608936847,
             0.8521348356
            ]
           },
           {
            "iteration": 75,
            "learn": [
             0.1440433615
            ],
            "passed_time": 2.66925868,
            "remaining_time": 0.140487299,
            "test": [
             0.1612334836,
             0.8516484996
            ]
           },
           {
            "iteration": 76,
            "learn": [
             0.1435561465
            ],
            "passed_time": 2.719267464,
            "remaining_time": 0.1059454856,
            "test": [
             0.1615898509,
             0.8505762526
            ]
           },
           {
            "iteration": 77,
            "learn": [
             0.1435429701
            ],
            "passed_time": 2.753373841,
            "remaining_time": 0.07059932926,
            "test": [
             0.1615207238,
             0.8508377971
            ]
           },
           {
            "iteration": 78,
            "learn": [
             0.1432768149
            ],
            "passed_time": 2.789693134,
            "remaining_time": 0.03531257132,
            "test": [
             0.1616784765,
             0.8500788052
            ]
           },
           {
            "iteration": 79,
            "learn": [
             0.1431172766
            ],
            "passed_time": 2.826075896,
            "remaining_time": 0,
            "test": [
             0.1619327697,
             0.8495326388
            ]
           }
          ],
          "meta": {
           "iteration_count": 80,
           "launch_mode": "Train",
           "learn_metrics": [
            {
             "best_value": "Min",
             "name": "Logloss"
            }
           ],
           "learn_sets": [
            "learn"
           ],
           "name": "experiment",
           "parameters": "",
           "test_metrics": [
            {
             "best_value": "Min",
             "name": "Logloss"
            },
            {
             "best_value": "Max",
             "name": "AUC"
            }
           ],
           "test_sets": [
            "test"
           ]
          }
         },
         "passed_iterations": 79,
         "total_iterations": 80
        },
        "name": "fold-2",
        "path": "catboost_info/fold-2"
       },
       "catboost_info/fold-3": {
        "content": {
         "data": {
          "iterations": [
           {
            "iteration": 0,
            "learn": [
             0.3050791178
            ],
            "passed_time": 0.02715365946,
            "remaining_time": 2.145139097,
            "test": [
             0.304972389,
             0.5
            ]
           },
           {
            "iteration": 1,
            "learn": [
             0.2368497743
            ],
            "passed_time": 0.05119094555,
            "remaining_time": 1.996446876,
            "test": [
             0.2362626557,
             0.5189450953
            ]
           },
           {
            "iteration": 2,
            "learn": [
             0.1988842525
            ],
            "passed_time": 0.08436746764,
            "remaining_time": 2.165431669,
            "test": [
             0.1901765675,
             0.7960363188
            ]
           },
           {
            "iteration": 3,
            "learn": [
             0.1887981884
            ],
            "passed_time": 0.124348994,
            "remaining_time": 2.362630887,
            "test": [
             0.1780201295,
             0.8037283766
            ]
           },
           {
            "iteration": 4,
            "learn": [
             0.1828312199
            ],
            "passed_time": 0.1702004864,
            "remaining_time": 2.553007297,
            "test": [
             0.1696043014,
             0.8252658395
            ]
           },
           {
            "iteration": 5,
            "learn": [
             0.1781902178
            ],
            "passed_time": 0.2120948778,
            "remaining_time": 2.615836826,
            "test": [
             0.1644289876,
             0.8407179055
            ]
           },
           {
            "iteration": 6,
            "learn": [
             0.1760846554
            ],
            "passed_time": 0.2479326358,
            "remaining_time": 2.585583202,
            "test": [
             0.1619673225,
             0.8454569037
            ]
           },
           {
            "iteration": 7,
            "learn": [
             0.1751288409
            ],
            "passed_time": 0.2867164244,
            "remaining_time": 2.58044782,
            "test": [
             0.1612930318,
             0.8466255204
            ]
           },
           {
            "iteration": 8,
            "learn": [
             0.1736981196
            ],
            "passed_time": 0.3250814361,
            "remaining_time": 2.564531329,
            "test": [
             0.1600007876,
             0.8494879796
            ]
           },
           {
            "iteration": 9,
            "learn": [
             0.1728197341
            ],
            "passed_time": 0.3588824858,
            "remaining_time": 2.5121774,
            "test": [
             0.1592408518,
             0.852109835
            ]
           },
           {
            "iteration": 10,
            "learn": [
             0.1721146629
            ],
            "passed_time": 0.4125101509,
            "remaining_time": 2.587563674,
            "test": [
             0.15921236,
             0.8522720182
            ]
           },
           {
            "iteration": 11,
            "learn": [
             0.1708702772
            ],
            "passed_time": 0.4673243672,
            "remaining_time": 2.648171414,
            "test": [
             0.1579986811,
             0.853768634
            ]
           },
           {
            "iteration": 12,
            "learn": [
             0.1707017763
            ],
            "passed_time": 0.5003818343,
            "remaining_time": 2.578890992,
            "test": [
             0.1579737415,
             0.8536308103
            ]
           },
           {
            "iteration": 13,
            "learn": [
             0.1702485729
            ],
            "passed_time": 0.5333476578,
            "remaining_time": 2.514353244,
            "test": [
             0.1579671181,
             0.8542269779
            ]
           },
           {
            "iteration": 14,
            "learn": [
             0.1700003388
            ],
            "passed_time": 0.5676916559,
            "remaining_time": 2.459997176,
            "test": [
             0.1577840813,
             0.8552791389
            ]
           },
           {
            "iteration": 15,
            "learn": [
             0.1690364747
            ],
            "passed_time": 0.6037305036,
            "remaining_time": 2.414922014,
            "test": [
             0.1577069936,
             0.8552020004
            ]
           },
           {
            "iteration": 16,
            "learn": [
             0.1683232182
            ],
            "passed_time": 0.638131956,
            "remaining_time": 2.364841955,
            "test": [
             0.1572567775,
             0.8549977222
            ]
           },
           {
            "iteration": 17,
            "learn": [
             0.1675894367
            ],
            "passed_time": 0.6754947461,
            "remaining_time": 2.326704126,
            "test": [
             0.1561788858,
             0.8578680876
            ]
           },
           {
            "iteration": 18,
            "learn": [
             0.1669048858
            ],
            "passed_time": 0.7179131766,
            "remaining_time": 2.304879146,
            "test": [
             0.1566874194,
             0.8583452353
            ]
           },
           {
            "iteration": 19,
            "learn": [
             0.166584476
            ],
            "passed_time": 0.7656670105,
            "remaining_time": 2.297001032,
            "test": [
             0.1567254009,
             0.8585072049
            ]
           },
           {
            "iteration": 20,
            "learn": [
             0.1658923183
            ],
            "passed_time": 0.8033204149,
            "remaining_time": 2.256947832,
            "test": [
             0.1560000453,
             0.860602766
            ]
           },
           {
            "iteration": 21,
            "learn": [
             0.1654201894
            ],
            "passed_time": 0.837685294,
            "remaining_time": 2.208443048,
            "test": [
             0.1558414787,
             0.8606198605
            ]
           },
           {
            "iteration": 22,
            "learn": [
             0.1652355712
            ],
            "passed_time": 0.8720012998,
            "remaining_time": 2.161046699,
            "test": [
             0.1557663181,
             0.860829267
            ]
           },
           {
            "iteration": 23,
            "learn": [
             0.1649377671
            ],
            "passed_time": 0.9115080859,
            "remaining_time": 2.1268522,
            "test": [
             0.1557319358,
             0.8614829146
            ]
           },
           {
            "iteration": 24,
            "learn": [
             0.1644760746
            ],
            "passed_time": 0.9456551046,
            "remaining_time": 2.08044123,
            "test": [
             0.1556791961,
             0.8606918707
            ]
           },
           {
            "iteration": 25,
            "learn": [
             0.1643241319
            ],
            "passed_time": 0.9966102035,
            "remaining_time": 2.06988273,
            "test": [
             0.1555643709,
             0.8610474344
            ]
           },
           {
            "iteration": 26,
            "learn": [
             0.16391906
            ],
            "passed_time": 1.034681857,
            "remaining_time": 2.031042164,
            "test": [
             0.1553445195,
             0.8613111157
            ]
           },
           {
            "iteration": 27,
            "learn": [
             0.1636293521
            ],
            "passed_time": 1.078777487,
            "remaining_time": 2.003443905,
            "test": [
             0.1550915482,
             0.8616342001
            ]
           },
           {
            "iteration": 28,
            "learn": [
             0.1632231345
            ],
            "passed_time": 1.119381392,
            "remaining_time": 1.968567275,
            "test": [
             0.1552897281,
             0.8614564182
            ]
           },
           {
            "iteration": 29,
            "learn": [
             0.16264149
            ],
            "passed_time": 1.166716463,
            "remaining_time": 1.944527439,
            "test": [
             0.1548395917,
             0.8621733151
            ]
           },
           {
            "iteration": 30,
            "learn": [
             0.1620364309
            ],
            "passed_time": 1.20905732,
            "remaining_time": 1.911090602,
            "test": [
             0.1547196043,
             0.8617136891
            ]
           },
           {
            "iteration": 31,
            "learn": [
             0.1615771661
            ],
            "passed_time": 1.25234871,
            "remaining_time": 1.878523065,
            "test": [
             0.1546942362,
             0.8619346344
            ]
           },
           {
            "iteration": 32,
            "learn": [
             0.1612105423
            ],
            "passed_time": 1.291670403,
            "remaining_time": 1.839651786,
            "test": [
             0.1543090232,
             0.8622545136
            ]
           },
           {
            "iteration": 33,
            "learn": [
             0.1609762391
            ],
            "passed_time": 1.330908903,
            "remaining_time": 1.800641457,
            "test": [
             0.1541453318,
             0.8626267444
            ]
           },
           {
            "iteration": 34,
            "learn": [
             0.1604812859
            ],
            "passed_time": 1.373910744,
            "remaining_time": 1.766456671,
            "test": [
             0.1540785299,
             0.8621711783
            ]
           },
           {
            "iteration": 35,
            "learn": [
             0.1601636622
            ],
            "passed_time": 1.436652932,
            "remaining_time": 1.755909139,
            "test": [
             0.1540532923,
             0.8622045124
            ]
           },
           {
            "iteration": 36,
            "learn": [
             0.1600335529
            ],
            "passed_time": 1.489191652,
            "remaining_time": 1.73068219,
            "test": [
             0.1539905663,
             0.8621938284
            ]
           },
           {
            "iteration": 37,
            "learn": [
             0.1594066319
            ],
            "passed_time": 1.531704809,
            "remaining_time": 1.692936894,
            "test": [
             0.1537068716,
             0.8625530247
            ]
           },
           {
            "iteration": 38,
            "learn": [
             0.159189033
            ],
            "passed_time": 1.573299246,
            "remaining_time": 1.653981258,
            "test": [
             0.1538513854,
             0.8629994026
            ]
           },
           {
            "iteration": 39,
            "learn": [
             0.1586790356
            ],
            "passed_time": 1.613880865,
            "remaining_time": 1.613880865,
            "test": [
             0.1541766146,
             0.8627237552
            ]
           },
           {
            "iteration": 40,
            "learn": [
             0.1580445571
            ],
            "passed_time": 1.654894652,
            "remaining_time": 1.574168083,
            "test": [
             0.1534449211,
             0.8623737471
            ]
           },
           {
            "iteration": 41,
            "learn": [
             0.1576661651
            ],
            "passed_time": 1.733917051,
            "remaining_time": 1.568782094,
            "test": [
             0.1532273704,
             0.8618925394
            ]
           },
           {
            "iteration": 42,
            "learn": [
             0.1574206762
            ],
            "passed_time": 1.79188518,
            "remaining_time": 1.54185469,
            "test": [
             0.1530349749,
             0.86172245
            ]
           },
           {
            "iteration": 43,
            "learn": [
             0.1570628362
            ],
            "passed_time": 1.829978591,
            "remaining_time": 1.49725521,
            "test": [
             0.1528438874,
             0.8613854764
            ]
           },
           {
            "iteration": 44,
            "learn": [
             0.1567208714
            ],
            "passed_time": 1.86989242,
            "remaining_time": 1.454360771,
            "test": [
             0.153248293,
             0.8610811959
            ]
           },
           {
            "iteration": 45,
            "learn": [
             0.156147219
            ],
            "passed_time": 1.916101181,
            "remaining_time": 1.416248699,
            "test": [
             0.153148796,
             0.8608363184
            ]
           },
           {
            "iteration": 46,
            "learn": [
             0.1559701251
            ],
            "passed_time": 1.962613719,
            "remaining_time": 1.378005377,
            "test": [
             0.153232709,
             0.8604854556
            ]
           },
           {
            "iteration": 47,
            "learn": [
             0.1558976942
            ],
            "passed_time": 2.000470523,
            "remaining_time": 1.333647015,
            "test": [
             0.1531854813,
             0.8605841759
            ]
           },
           {
            "iteration": 48,
            "learn": [
             0.1556148782
            ],
            "passed_time": 2.041322006,
            "remaining_time": 1.291448616,
            "test": [
             0.1531187113,
             0.8606611007
            ]
           },
           {
            "iteration": 49,
            "learn": [
             0.1555824107
            ],
            "passed_time": 2.079803542,
            "remaining_time": 1.247882125,
            "test": [
             0.1531162116,
             0.860432463
            ]
           },
           {
            "iteration": 50,
            "learn": [
             0.1552956889
            ],
            "passed_time": 2.118683593,
            "remaining_time": 1.204741651,
            "test": [
             0.1530049738,
             0.8606115269
            ]
           },
           {
            "iteration": 51,
            "learn": [
             0.1552442847
            ],
            "passed_time": 2.159832221,
            "remaining_time": 1.162986581,
            "test": [
             0.1530412535,
             0.8603792566
            ]
           },
           {
            "iteration": 52,
            "learn": [
             0.1551126301
            ],
            "passed_time": 2.196348047,
            "remaining_time": 1.118894288,
            "test": [
             0.1530095809,
             0.8605711414
            ]
           },
           {
            "iteration": 53,
            "learn": [
             0.154864728
            ],
            "passed_time": 2.236217604,
            "remaining_time": 1.076697365,
            "test": [
             0.1528812094,
             0.8605719961
            ]
           },
           {
            "iteration": 54,
            "learn": [
             0.1545732938
            ],
            "passed_time": 2.27308034,
            "remaining_time": 1.033218336,
            "test": [
             0.1527906286,
             0.8606766994
            ]
           },
           {
            "iteration": 55,
            "learn": [
             0.1543634892
            ],
            "passed_time": 2.310715849,
            "remaining_time": 0.9903067924,
            "test": [
             0.1527783011,
             0.8600907884
            ]
           },
           {
            "iteration": 56,
            "learn": [
             0.1540754785
            ],
            "passed_time": 2.347813927,
            "remaining_time": 0.9473635145,
            "test": [
             0.1523066165,
             0.8611690184
            ]
           },
           {
            "iteration": 57,
            "learn": [
             0.1537710057
            ],
            "passed_time": 2.386897619,
            "remaining_time": 0.905374959,
            "test": [
             0.1523145303,
             0.8611848308
            ]
           },
           {
            "iteration": 58,
            "learn": [
             0.1536032402
            ],
            "passed_time": 2.423429974,
            "remaining_time": 0.8625767704,
            "test": [
             0.1524421052,
             0.8608296944
            ]
           },
           {
            "iteration": 59,
            "learn": [
             0.1535373946
            ],
            "passed_time": 2.496782182,
            "remaining_time": 0.8322607274,
            "test": [
             0.1525694726,
             0.8607905909
            ]
           },
           {
            "iteration": 60,
            "learn": [
             0.1533984041
            ],
            "passed_time": 2.545171338,
            "remaining_time": 0.7927582855,
            "test": [
             0.1526721426,
             0.8608102495
            ]
           },
           {
            "iteration": 61,
            "learn": [
             0.1531545018
            ],
            "passed_time": 2.582125176,
            "remaining_time": 0.7496492447,
            "test": [
             0.152753608,
             0.8609760653
            ]
           },
           {
            "iteration": 62,
            "learn": [
             0.1528698279
            ],
            "passed_time": 2.619573547,
            "remaining_time": 0.7068690522,
            "test": [
             0.1528241088,
             0.8608884564
            ]
           },
           {
            "iteration": 63,
            "learn": [
             0.1521758397
            ],
            "passed_time": 2.662063349,
            "remaining_time": 0.6655158373,
            "test": [
             0.1529152916,
             0.8605006269
            ]
           },
           {
            "iteration": 64,
            "learn": [
             0.15207612
            ],
            "passed_time": 2.699368773,
            "remaining_time": 0.6229312552,
            "test": [
             0.152882589,
             0.8607416581
            ]
           },
           {
            "iteration": 65,
            "learn": [
             0.1518916983
            ],
            "passed_time": 2.733852789,
            "remaining_time": 0.5799081673,
            "test": [
             0.1528724903,
             0.8608497803
            ]
           },
           {
            "iteration": 66,
            "learn": [
             0.1515358128
            ],
            "passed_time": 2.774677394,
            "remaining_time": 0.5383702407,
            "test": [
             0.1531706949,
             0.860168568
            ]
           },
           {
            "iteration": 67,
            "learn": [
             0.1514723613
            ],
            "passed_time": 2.829291081,
            "remaining_time": 0.4992866614,
            "test": [
             0.1531145324,
             0.860332247
            ]
           },
           {
            "iteration": 68,
            "learn": [
             0.1512375766
            ],
            "passed_time": 2.866818822,
            "remaining_time": 0.4570290875,
            "test": [
             0.153383423,
             0.8598322354
            ]
           },
           {
            "iteration": 69,
            "learn": [
             0.1511434844
            ],
            "passed_time": 2.901225495,
            "remaining_time": 0.414460785,
            "test": [
             0.1533503223,
             0.8600852327
            ]
           },
           {
            "iteration": 70,
            "learn": [
             0.1510041793
            ],
            "passed_time": 2.936997904,
            "remaining_time": 0.372295509,
            "test": [
             0.1534919119,
             0.8600561722
            ]
           },
           {
            "iteration": 71,
            "learn": [
             0.1504669681
            ],
            "passed_time": 2.977239334,
            "remaining_time": 0.3308043705,
            "test": [
             0.1534559181,
             0.8607762743
            ]
           },
           {
            "iteration": 72,
            "learn": [
             0.149991816
            ],
            "passed_time": 3.012155261,
            "remaining_time": 0.2888368059,
            "test": [
             0.152988918,
             0.8611104701
            ]
           },
           {
            "iteration": 73,
            "learn": [
             0.1496966591
            ],
            "passed_time": 3.046290277,
            "remaining_time": 0.2469965089,
            "test": [
             0.1529621017,
             0.8607296921
            ]
           },
           {
            "iteration": 74,
            "learn": [
             0.1494081773
            ],
            "passed_time": 3.083401719,
            "remaining_time": 0.2055601146,
            "test": [
             0.1527892089,
             0.8606882381
            ]
           },
           {
            "iteration": 75,
            "learn": [
             0.1491399742
            ],
            "passed_time": 3.147499235,
            "remaining_time": 0.1656578545,
            "test": [
             0.1523834612,
             0.8612634651
            ]
           },
           {
            "iteration": 76,
            "learn": [
             0.1489741772
            ],
            "passed_time": 3.192250803,
            "remaining_time": 0.1243734079,
            "test": [
             0.1524145716,
             0.8611869676
            ]
           },
           {
            "iteration": 77,
            "learn": [
             0.1487891561
            ],
            "passed_time": 3.230909712,
            "remaining_time": 0.08284383878,
            "test": [
             0.1526110077,
             0.8612083356
            ]
           },
           {
            "iteration": 78,
            "learn": [
             0.1486571543
            ],
            "passed_time": 3.273093145,
            "remaining_time": 0.0414315588,
            "test": [
             0.1526027083,
             0.8615814211
            ]
           },
           {
            "iteration": 79,
            "learn": [
             0.1482940536
            ],
            "passed_time": 3.309194717,
            "remaining_time": 0,
            "test": [
             0.152676693,
             0.8613506466
            ]
           }
          ],
          "meta": {
           "iteration_count": 80,
           "launch_mode": "Train",
           "learn_metrics": [
            {
             "best_value": "Min",
             "name": "Logloss"
            }
           ],
           "learn_sets": [
            "learn"
           ],
           "name": "experiment",
           "parameters": "",
           "test_metrics": [
            {
             "best_value": "Min",
             "name": "Logloss"
            },
            {
             "best_value": "Max",
             "name": "AUC"
            }
           ],
           "test_sets": [
            "test"
           ]
          }
         },
         "passed_iterations": 79,
         "total_iterations": 80
        },
        "name": "fold-3",
        "path": "catboost_info/fold-3"
       },
       "catboost_info/fold-4": {
        "content": {
         "data": {
          "iterations": [
           {
            "iteration": 0,
            "learn": [
             0.3050791178
            ],
            "passed_time": 0.0632160148,
            "remaining_time": 4.994065169,
            "test": [
             0.304972389,
             0.5
            ]
           },
           {
            "iteration": 1,
            "learn": [
             0.230449804
            ],
            "passed_time": 0.1262490966,
            "remaining_time": 4.923714767,
            "test": [
             0.2303755353,
             0.6252259668
            ]
           },
           {
            "iteration": 2,
            "learn": [
             0.1957455091
            ],
            "passed_time": 0.1646049156,
            "remaining_time": 4.224859501,
            "test": [
             0.1883929438,
             0.819001806
            ]
           },
           {
            "iteration": 3,
            "learn": [
             0.1887851788
            ],
            "passed_time": 0.2045501915,
            "remaining_time": 3.886453639,
            "test": [
             0.1819105332,
             0.8243944518
            ]
           },
           {
            "iteration": 4,
            "learn": [
             0.1834309706
            ],
            "passed_time": 0.2416922787,
            "remaining_time": 3.62538418,
            "test": [
             0.1754629047,
             0.8312956795
            ]
           },
           {
            "iteration": 5,
            "learn": [
             0.1797824425
            ],
            "passed_time": 0.2833432093,
            "remaining_time": 3.494566248,
            "test": [
             0.1696686917,
             0.839853783
            ]
           },
           {
            "iteration": 6,
            "learn": [
             0.1760896317
            ],
            "passed_time": 0.3243392647,
            "remaining_time": 3.382395189,
            "test": [
             0.1653622756,
             0.8493198134
            ]
           },
           {
            "iteration": 7,
            "learn": [
             0.1740788133
            ],
            "passed_time": 0.3655952807,
            "remaining_time": 3.290357526,
            "test": [
             0.1639371365,
             0.850238638
            ]
           },
           {
            "iteration": 8,
            "learn": [
             0.1726652665
            ],
            "passed_time": 0.4182377905,
            "remaining_time": 3.299431458,
            "test": [
             0.1622661639,
             0.8536852987
            ]
           },
           {
            "iteration": 9,
            "learn": [
             0.1719385498
            ],
            "passed_time": 0.452741998,
            "remaining_time": 3.169193986,
            "test": [
             0.1617765791,
             0.8556069243
            ]
           },
           {
            "iteration": 10,
            "learn": [
             0.171486433
            ],
            "passed_time": 0.4901346973,
            "remaining_time": 3.074481283,
            "test": [
             0.160857419,
             0.8562748884
            ]
           },
           {
            "iteration": 11,
            "learn": [
             0.1696491115
            ],
            "passed_time": 0.5247820029,
            "remaining_time": 2.973764683,
            "test": [
             0.15988845,
             0.8570926423
            ]
           },
           {
            "iteration": 12,
            "learn": [
             0.1690167874
            ],
            "passed_time": 0.5585447422,
            "remaining_time": 2.878653671,
            "test": [
             0.1599911563,
             0.8569905032
            ]
           },
           {
            "iteration": 13,
            "learn": [
             0.1687658015
            ],
            "passed_time": 0.6000146002,
            "remaining_time": 2.828640258,
            "test": [
             0.159736102,
             0.8584187413
            ]
           },
           {
            "iteration": 14,
            "learn": [
             0.1680897411
            ],
            "passed_time": 0.6347851961,
            "remaining_time": 2.75073585,
            "test": [
             0.1600905967,
             0.8563103593
            ]
           },
           {
            "iteration": 15,
            "learn": [
             0.1678852485
            ],
            "passed_time": 0.667565595,
            "remaining_time": 2.67026238,
            "test": [
             0.160031869,
             0.8558163308
            ]
           },
           {
            "iteration": 16,
            "learn": [
             0.1678253414
            ],
            "passed_time": 0.7071864864,
            "remaining_time": 2.62074992,
            "test": [
             0.1600189033,
             0.8558998797
            ]
           },
           {
            "iteration": 17,
            "learn": [
             0.1676938991
            ],
            "passed_time": 0.7423788731,
            "remaining_time": 2.557082785,
            "test": [
             0.1597888411,
             0.8557584235
            ]
           },
           {
            "iteration": 18,
            "learn": [
             0.1674270232
            ],
            "passed_time": 0.7779468357,
            "remaining_time": 2.497618788,
            "test": [
             0.1599872501,
             0.8555838468
            ]
           },
           {
            "iteration": 19,
            "learn": [
             0.1673433853
            ],
            "passed_time": 0.8130906144,
            "remaining_time": 2.439271843,
            "test": [
             0.1599757598,
             0.8555958129
            ]
           },
           {
            "iteration": 20,
            "learn": [
             0.1670630262
            ],
            "passed_time": 0.8538384689,
            "remaining_time": 2.398879508,
            "test": [
             0.1600025746,
             0.8553398241
            ]
           },
           {
            "iteration": 21,
            "learn": [
             0.1660794737
            ],
            "passed_time": 0.8918234514,
            "remaining_time": 2.351170917,
            "test": [
             0.159841144,
             0.8562827946
            ]
           },
           {
            "iteration": 22,
            "learn": [
             0.1651955835
            ],
            "passed_time": 0.9292178092,
            "remaining_time": 2.302844136,
            "test": [
             0.159380557,
             0.8575251309
            ]
           },
           {
            "iteration": 23,
            "learn": [
             0.1650321456
            ],
            "passed_time": 0.964325281,
            "remaining_time": 2.250092322,
            "test": [
             0.1593125228,
             0.8573546142
            ]
           },
           {
            "iteration": 24,
            "learn": [
             0.164072591
            ],
            "passed_time": 1.000447005,
            "remaining_time": 2.200983411,
            "test": [
             0.1589960922,
             0.8592294438
            ]
           },
           {
            "iteration": 25,
            "learn": [
             0.1636906731
            ],
            "passed_time": 1.035482387,
            "remaining_time": 2.150617265,
            "test": [
             0.1588867846,
             0.8592422646
            ]
           },
           {
            "iteration": 26,
            "learn": [
             0.1630654245
            ],
            "passed_time": 1.109182855,
            "remaining_time": 2.177284863,
            "test": [
             0.15831335,
             0.8599076645
            ]
           },
           {
            "iteration": 27,
            "learn": [
             0.1627358503
            ],
            "passed_time": 1.149534879,
            "remaining_time": 2.13485049,
            "test": [
             0.1581991641,
             0.8601974148
            ]
           },
           {
            "iteration": 28,
            "learn": [
             0.1624660244
            ],
            "passed_time": 1.187665284,
            "remaining_time": 2.088652741,
            "test": [
             0.1582603659,
             0.8595273139
            ]
           },
           {
            "iteration": 29,
            "learn": [
             0.1624229139
            ],
            "passed_time": 1.224536674,
            "remaining_time": 2.040894457,
            "test": [
             0.1582016462,
             0.8599696318
            ]
           },
           {
            "iteration": 30,
            "learn": [
             0.1619968395
            ],
            "passed_time": 1.262287896,
            "remaining_time": 1.995229256,
            "test": [
             0.1577738401,
             0.8615265053
            ]
           },
           {
            "iteration": 31,
            "learn": [
             0.1612502674
            ],
            "passed_time": 1.302469132,
            "remaining_time": 1.953703698,
            "test": [
             0.1578216389,
             0.8621423315
            ]
           },
           {
            "iteration": 32,
            "learn": [
             0.1611651231
            ],
            "passed_time": 1.34243991,
            "remaining_time": 1.911959872,
            "test": [
             0.1578929538,
             0.8619397627
            ]
           },
           {
            "iteration": 33,
            "learn": [
             0.160433504
            ],
            "passed_time": 1.380082315,
            "remaining_time": 1.867170191,
            "test": [
             0.1581327598,
             0.8618269396
            ]
           },
           {
            "iteration": 34,
            "learn": [
             0.1598723054
            ],
            "passed_time": 1.427023364,
            "remaining_time": 1.834744325,
            "test": [
             0.1583486897,
             0.8607886678
            ]
           },
           {
            "iteration": 35,
            "learn": [
             0.1596176753
            ],
            "passed_time": 1.460980146,
            "remaining_time": 1.785642401,
            "test": [
             0.1583203006,
             0.8618083494
            ]
           },
           {
            "iteration": 36,
            "learn": [
             0.159130052
            ],
            "passed_time": 1.504048865,
            "remaining_time": 1.74794868,
            "test": [
             0.1583830973,
             0.8615438134
            ]
           },
           {
            "iteration": 37,
            "learn": [
             0.1590434652
            ],
            "passed_time": 1.537380632,
            "remaining_time": 1.699210172,
            "test": [
             0.158218943,
             0.8619767294
            ]
           },
           {
            "iteration": 38,
            "learn": [
             0.1586917225
            ],
            "passed_time": 1.573031623,
            "remaining_time": 1.653699912,
            "test": [
             0.1581623815,
             0.8622874203
            ]
           },
           {
            "iteration": 39,
            "learn": [
             0.1581975261
            ],
            "passed_time": 1.609557861,
            "remaining_time": 1.609557861,
            "test": [
             0.1580837696,
             0.8622414791
            ]
           },
           {
            "iteration": 40,
            "learn": [
             0.1574653635
            ],
            "passed_time": 1.646786569,
            "remaining_time": 1.566455517,
            "test": [
             0.1585554979,
             0.860580757
            ]
           },
           {
            "iteration": 41,
            "learn": [
             0.1569514459
            ],
            "passed_time": 1.689509523,
            "remaining_time": 1.528603854,
            "test": [
             0.1594073215,
             0.8600580954
            ]
           },
           {
            "iteration": 42,
            "learn": [
             0.156067146
            ],
            "passed_time": 1.728158135,
            "remaining_time": 1.48701979,
            "test": [
             0.1592668218,
             0.8615478733
            ]
           },
           {
            "iteration": 43,
            "learn": [
             0.1555605338
            ],
            "passed_time": 1.761620418,
            "remaining_time": 1.441325797,
            "test": [
             0.1592018934,
             0.8608517034
            ]
           },
           {
            "iteration": 44,
            "learn": [
             0.1551459046
            ],
            "passed_time": 1.795841617,
            "remaining_time": 1.396765702,
            "test": [
             0.1592965898,
             0.8610893157
            ]
           },
           {
            "iteration": 45,
            "learn": [
             0.1548373135
            ],
            "passed_time": 1.829337538,
            "remaining_time": 1.35211905,
            "test": [
             0.1598109515,
             0.8606512714
            ]
           },
           {
            "iteration": 46,
            "learn": [
             0.1544311421
            ],
            "passed_time": 1.862585798,
            "remaining_time": 1.307773007,
            "test": [
             0.1596606784,
             0.85986792
            ]
           },
           {
            "iteration": 47,
            "learn": [
             0.1541267414
            ],
            "passed_time": 1.895599697,
            "remaining_time": 1.263733131,
            "test": [
             0.1598743983,
             0.859196537
            ]
           },
           {
            "iteration": 48,
            "learn": [
             0.1536623051
            ],
            "passed_time": 1.92833825,
            "remaining_time": 1.219969097,
            "test": [
             0.1601011488,
             0.8592905563
            ]
           },
           {
            "iteration": 49,
            "learn": [
             0.1533602494
            ],
            "passed_time": 1.966691921,
            "remaining_time": 1.180015153,
            "test": [
             0.1600519009,
             0.859549964
            ]
           },
           {
            "iteration": 50,
            "learn": [
             0.1531689824
            ],
            "passed_time": 2.001122843,
            "remaining_time": 1.137893381,
            "test": [
             0.1600360752,
             0.8597333015
            ]
           },
           {
            "iteration": 51,
            "learn": [
             0.1528668187
            ],
            "passed_time": 2.034525055,
            "remaining_time": 1.095513491,
            "test": [
             0.1598493062,
             0.8606516988
            ]
           },
           {
            "iteration": 52,
            "learn": [
             0.1527100673
            ],
            "passed_time": 2.06854156,
            "remaining_time": 1.053785323,
            "test": [
             0.1599823124,
             0.8602991266
            ]
           },
           {
            "iteration": 53,
            "learn": [
             0.1523251815
            ],
            "passed_time": 2.142790243,
            "remaining_time": 1.031713821,
            "test": [
             0.1601643993,
             0.8600046753
            ]
           },
           {
            "iteration": 54,
            "learn": [
             0.1518039419
            ],
            "passed_time": 2.175632221,
            "remaining_time": 0.9889237366,
            "test": [
             0.159996554,
             0.8604119497
            ]
           },
           {
            "iteration": 55,
            "learn": [
             0.1513316571
            ],
            "passed_time": 2.208879865,
            "remaining_time": 0.9466627991,
            "test": [
             0.15964776,
             0.8606760583
            ]
           },
           {
            "iteration": 56,
            "learn": [
             0.1512492076
            ],
            "passed_time": 2.243254845,
            "remaining_time": 0.9051730075,
            "test": [
             0.1598045609,
             0.8604222063
            ]
           },
           {
            "iteration": 57,
            "learn": [
             0.1510754725
            ],
            "passed_time": 2.27708521,
            "remaining_time": 0.8637219761,
            "test": [
             0.1599739916,
             0.8606781951
            ]
           },
           {
            "iteration": 58,
            "learn": [
             0.1507254705
            ],
            "passed_time": 2.311545015,
            "remaining_time": 0.8227533104,
            "test": [
             0.1597726489,
             0.8612222248
            ]
           },
           {
            "iteration": 59,
            "learn": [
             0.1502889512
            ],
            "passed_time": 2.347090024,
            "remaining_time": 0.7823633415,
            "test": [
             0.160143253,
             0.8604534036
            ]
           },
           {
            "iteration": 60,
            "learn": [
             0.1501741978
            ],
            "passed_time": 2.383241221,
            "remaining_time": 0.7423210361,
            "test": [
             0.160291535,
             0.8605247728
            ]
           },
           {
            "iteration": 61,
            "learn": [
             0.1498464829
            ],
            "passed_time": 2.417293329,
            "remaining_time": 0.7017948374,
            "test": [
             0.1604219138,
             0.8604294714
            ]
           },
           {
            "iteration": 62,
            "learn": [
             0.1491370186
            ],
            "passed_time": 2.463778152,
            "remaining_time": 0.6648290251,
            "test": [
             0.1606893674,
             0.8597123609
            ]
           },
           {
            "iteration": 63,
            "learn": [
             0.1487345427
            ],
            "passed_time": 2.499065536,
            "remaining_time": 0.6247663839,
            "test": [
             0.160743509,
             0.8598546719
            ]
           },
           {
            "iteration": 64,
            "learn": [
             0.1483102671
            ],
            "passed_time": 2.531641252,
            "remaining_time": 0.5842249044,
            "test": [
             0.160863355,
             0.8585379748
            ]
           },
           {
            "iteration": 65,
            "learn": [
             0.1476649625
            ],
            "passed_time": 2.564812624,
            "remaining_time": 0.5440511627,
            "test": [
             0.1609248477,
             0.857817659
            ]
           },
           {
            "iteration": 66,
            "learn": [
             0.1475498328
            ],
            "passed_time": 2.599132777,
            "remaining_time": 0.5043093449,
            "test": [
             0.1610115087,
             0.8571351647
            ]
           },
           {
            "iteration": 67,
            "learn": [
             0.1470344639
            ],
            "passed_time": 2.634508274,
            "remaining_time": 0.4649132248,
            "test": [
             0.161044108,
             0.8567266082
            ]
           },
           {
            "iteration": 68,
            "learn": [
             0.1467230419
            ],
            "passed_time": 2.668462753,
            "remaining_time": 0.4254071056,
            "test": [
             0.161509829,
             0.85643814
            ]
           },
           {
            "iteration": 69,
            "learn": [
             0.1463166844
            ],
            "passed_time": 2.707468333,
            "remaining_time": 0.3867811904,
            "test": [
             0.1614453254,
             0.8560624903
            ]
           },
           {
            "iteration": 70,
            "learn": [
             0.1461742638
            ],
            "passed_time": 2.742031316,
            "remaining_time": 0.3475814344,
            "test": [
             0.1613387868,
             0.85643814
            ]
           },
           {
            "iteration": 71,
            "learn": [
             0.1457971379
            ],
            "passed_time": 2.785509017,
            "remaining_time": 0.3095010019,
            "test": [
             0.1616314137,
             0.8562783073
            ]
           },
           {
            "iteration": 72,
            "learn": [
             0.1453666057
            ],
            "passed_time": 2.820448743,
            "remaining_time": 0.2704539891,
            "test": [
             0.1619506192,
             0.8556374805
            ]
           },
           {
            "iteration": 73,
            "learn": [
             0.1450549588
            ],
            "passed_time": 2.854501352,
            "remaining_time": 0.2314460555,
            "test": [
             0.1621284945,
             0.8552990112
            ]
           },
           {
            "iteration": 74,
            "learn": [
             0.1448713252
            ],
            "passed_time": 2.887330448,
            "remaining_time": 0.1924886965,
            "test": [
             0.1617313493,
             0.8553827738
            ]
           },
           {
            "iteration": 75,
            "learn": [
             0.1447453976
            ],
            "passed_time": 2.919370147,
            "remaining_time": 0.1536510604,
            "test": [
             0.1617192684,
             0.8550883226
            ]
           },
           {
            "iteration": 76,
            "learn": [
             0.1440377431
            ],
            "passed_time": 2.954159816,
            "remaining_time": 0.1150971357,
            "test": [
             0.1617670954,
             0.8548660952
            ]
           },
           {
            "iteration": 77,
            "learn": [
             0.1437984041
            ],
            "passed_time": 2.987194564,
            "remaining_time": 0.07659473242,
            "test": [
             0.1617392279,
             0.8547267757
            ]
           },
           {
            "iteration": 78,
            "learn": [
             0.143456514
            ],
            "passed_time": 3.022469869,
            "remaining_time": 0.03825911226,
            "test": [
             0.1613371952,
             0.857552482
            ]
           },
           {
            "iteration": 79,
            "learn": [
             0.1430856903
            ],
            "passed_time": 3.057292651,
            "remaining_time": 0,
            "test": [
             0.1613207298,
             0.8574178635
            ]
           }
          ],
          "meta": {
           "iteration_count": 80,
           "launch_mode": "Train",
           "learn_metrics": [
            {
             "best_value": "Min",
             "name": "Logloss"
            }
           ],
           "learn_sets": [
            "learn"
           ],
           "name": "experiment",
           "parameters": "",
           "test_metrics": [
            {
             "best_value": "Min",
             "name": "Logloss"
            },
            {
             "best_value": "Max",
             "name": "AUC"
            }
           ],
           "test_sets": [
            "test"
           ]
          }
         },
         "passed_iterations": 79,
         "total_iterations": 80
        },
        "name": "fold-4",
        "path": "catboost_info/fold-4"
       }
      },
      "layout": "IPY_MODEL_647b5d66c0f44b6fa48f9ebcfaf63881"
     }
    },
    "75c00b0ab284441eba9abcb9ec50e573": {
     "model_module": "catboost-widget",
     "model_module_version": "^1.0.0",
     "model_name": "CatboostWidgetModel",
     "state": {
      "_dom_classes": [],
      "_model_module": "catboost-widget",
      "_model_module_version": "^1.0.0",
      "_model_name": "CatboostWidgetModel",
      "_view_count": null,
      "_view_module": "catboost-widget",
      "_view_module_version": "^1.0.0",
      "_view_name": "CatboostWidgetView",
      "data": {
       "catboost_info": {
        "content": {
         "data": {
          "iterations": [
           {
            "iteration": 0,
            "learn": [
             0.656985996
            ],
            "passed_time": 0.03402011686,
            "remaining_time": 33.98609675,
            "test": [
             0.657064179
            ]
           },
           {
            "iteration": 1,
            "learn": [
             0.6231215519
            ],
            "passed_time": 0.08656373633,
            "remaining_time": 43.19530443,
            "test": [
             0.622916579
            ]
           },
           {
            "iteration": 2,
            "learn": [
             0.5917369295
            ],
            "passed_time": 0.1478013229,
            "remaining_time": 49.1193063,
            "test": [
             0.5915470012
            ]
           },
           {
            "iteration": 3,
            "learn": [
             0.5631905562
            ],
            "passed_time": 0.1726938067,
            "remaining_time": 43.00075786,
            "test": [
             0.5627171679
            ]
           },
           {
            "iteration": 4,
            "learn": [
             0.5359046717
            ],
            "passed_time": 0.1966713427,
            "remaining_time": 39.13759721,
            "test": [
             0.5351279987
            ]
           },
           {
            "iteration": 5,
            "learn": [
             0.511454421
            ],
            "passed_time": 0.2291793795,
            "remaining_time": 37.96738386,
            "test": [
             0.5107135109
            ]
           },
           {
            "iteration": 6,
            "learn": [
             0.4885682336
            ],
            "passed_time": 0.2708941312,
            "remaining_time": 38.42826748,
            "test": [
             0.4877335879
            ]
           },
           {
            "iteration": 7,
            "learn": [
             0.4672990771
            ],
            "passed_time": 0.3106499877,
            "remaining_time": 38.52059847,
            "test": [
             0.4665468797
            ]
           },
           {
            "iteration": 8,
            "learn": [
             0.4468186861
            ],
            "passed_time": 0.3576186651,
            "remaining_time": 39.37778857,
            "test": [
             0.4452259118
            ]
           },
           {
            "iteration": 9,
            "learn": [
             0.4285182132
            ],
            "passed_time": 0.3796203082,
            "remaining_time": 37.58241051,
            "test": [
             0.4270516021
            ]
           },
           {
            "iteration": 10,
            "learn": [
             0.4117044683
            ],
            "passed_time": 0.4247615382,
            "remaining_time": 38.18992375,
            "test": [
             0.4102990608
            ]
           },
           {
            "iteration": 11,
            "learn": [
             0.3972444488
            ],
            "passed_time": 0.4440632632,
            "remaining_time": 36.56120867,
            "test": [
             0.3959506936
            ]
           },
           {
            "iteration": 12,
            "learn": [
             0.3827980327
            ],
            "passed_time": 0.4809597389,
            "remaining_time": 36.51594325,
            "test": [
             0.3811510894
            ]
           },
           {
            "iteration": 13,
            "learn": [
             0.3700758335
            ],
            "passed_time": 0.5290675336,
            "remaining_time": 37.26147058,
            "test": [
             0.3685863068
            ]
           },
           {
            "iteration": 14,
            "learn": [
             0.3576765625
            ],
            "passed_time": 0.5677144218,
            "remaining_time": 37.2799137,
            "test": [
             0.3564318095
            ]
           },
           {
            "iteration": 15,
            "learn": [
             0.3460773295
            ],
            "passed_time": 0.6131511489,
            "remaining_time": 37.70879566,
            "test": [
             0.3445524633
            ]
           },
           {
            "iteration": 16,
            "learn": [
             0.3359205858
            ],
            "passed_time": 0.6541038296,
            "remaining_time": 37.82259203,
            "test": [
             0.3344925315
            ]
           },
           {
            "iteration": 17,
            "learn": [
             0.3262561537
            ],
            "passed_time": 0.6941266853,
            "remaining_time": 37.86846694,
            "test": [
             0.3247840267
            ]
           },
           {
            "iteration": 18,
            "learn": [
             0.3166045258
            ],
            "passed_time": 0.7470413141,
            "remaining_time": 38.57092259,
            "test": [
             0.3152213986
            ]
           },
           {
            "iteration": 19,
            "learn": [
             0.3072442854
            ],
            "passed_time": 0.793749181,
            "remaining_time": 38.89370987,
            "test": [
             0.3055843267
            ]
           },
           {
            "iteration": 20,
            "learn": [
             0.299400488
            ],
            "passed_time": 0.8407135732,
            "remaining_time": 39.1932661,
            "test": [
             0.2977997078
            ]
           },
           {
            "iteration": 21,
            "learn": [
             0.2932626875
            ],
            "passed_time": 0.860395641,
            "remaining_time": 38.24849713,
            "test": [
             0.2917812818
            ]
           },
           {
            "iteration": 22,
            "learn": [
             0.285853009
            ],
            "passed_time": 0.9114480527,
            "remaining_time": 38.71672815,
            "test": [
             0.2843878596
            ]
           },
           {
            "iteration": 23,
            "learn": [
             0.2791061172
            ],
            "passed_time": 0.9624857284,
            "remaining_time": 39.14108629,
            "test": [
             0.2777809453
            ]
           },
           {
            "iteration": 24,
            "learn": [
             0.2726616193
            ],
            "passed_time": 1.015116981,
            "remaining_time": 39.58956227,
            "test": [
             0.2713181142
            ]
           },
           {
            "iteration": 25,
            "learn": [
             0.2663727831
            ],
            "passed_time": 1.058137508,
            "remaining_time": 39.63945895,
            "test": [
             0.2646765245
            ]
           },
           {
            "iteration": 26,
            "learn": [
             0.2610140903
            ],
            "passed_time": 1.13499549,
            "remaining_time": 40.90187451,
            "test": [
             0.2592362444
            ]
           },
           {
            "iteration": 27,
            "learn": [
             0.2562784851
            ],
            "passed_time": 1.179959434,
            "remaining_time": 40.96144893,
            "test": [
             0.2544391501
            ]
           },
           {
            "iteration": 28,
            "learn": [
             0.2517386847
            ],
            "passed_time": 1.231908989,
            "remaining_time": 41.24771132,
            "test": [
             0.2499434101
            ]
           },
           {
            "iteration": 29,
            "learn": [
             0.2488155167
            ],
            "passed_time": 1.245363362,
            "remaining_time": 40.26674872,
            "test": [
             0.247096882
            ]
           },
           {
            "iteration": 30,
            "learn": [
             0.244302772
            ],
            "passed_time": 1.295015212,
            "remaining_time": 40.47966904,
            "test": [
             0.2422649461
            ]
           },
           {
            "iteration": 31,
            "learn": [
             0.2398783254
            ],
            "passed_time": 1.359251905,
            "remaining_time": 41.11737011,
            "test": [
             0.2375176938
            ]
           },
           {
            "iteration": 32,
            "learn": [
             0.235388401
            ],
            "passed_time": 1.416507879,
            "remaining_time": 41.5079733,
            "test": [
             0.2325153504
            ]
           },
           {
            "iteration": 33,
            "learn": [
             0.2314419177
            ],
            "passed_time": 1.455907091,
            "remaining_time": 41.36488969,
            "test": [
             0.2281962924
            ]
           },
           {
            "iteration": 34,
            "learn": [
             0.2274570269
            ],
            "passed_time": 1.50747395,
            "remaining_time": 41.56321034,
            "test": [
             0.2237832455
            ]
           },
           {
            "iteration": 35,
            "learn": [
             0.2246366346
            ],
            "passed_time": 1.550147507,
            "remaining_time": 41.50950545,
            "test": [
             0.2206472584
            ]
           },
           {
            "iteration": 36,
            "learn": [
             0.2215280833
            ],
            "passed_time": 1.632025123,
            "remaining_time": 42.47676199,
            "test": [
             0.2173198243
            ]
           },
           {
            "iteration": 37,
            "learn": [
             0.2184854281
            ],
            "passed_time": 1.680678926,
            "remaining_time": 42.54771387,
            "test": [
             0.2139192621
            ]
           },
           {
            "iteration": 38,
            "learn": [
             0.215690184
            ],
            "passed_time": 1.726693266,
            "remaining_time": 42.54749303,
            "test": [
             0.2107842954
            ]
           },
           {
            "iteration": 39,
            "learn": [
             0.2127925274
            ],
            "passed_time": 1.788966805,
            "remaining_time": 42.93520332,
            "test": [
             0.2074256729
            ]
           },
           {
            "iteration": 40,
            "learn": [
             0.2101532296
            ],
            "passed_time": 1.84751044,
            "remaining_time": 43.2137198,
            "test": [
             0.2042498157
            ]
           },
           {
            "iteration": 41,
            "learn": [
             0.2075522548
            ],
            "passed_time": 1.894052314,
            "remaining_time": 43.20243136,
            "test": [
             0.2012871179
            ]
           },
           {
            "iteration": 42,
            "learn": [
             0.2054831705
            ],
            "passed_time": 1.947957154,
            "remaining_time": 43.353372,
            "test": [
             0.1989821882
            ]
           },
           {
            "iteration": 43,
            "learn": [
             0.2036546682
            ],
            "passed_time": 1.996838025,
            "remaining_time": 43.38584435,
            "test": [
             0.1968997773
            ]
           },
           {
            "iteration": 44,
            "learn": [
             0.2019341812
            ],
            "passed_time": 2.018120952,
            "remaining_time": 42.82901131,
            "test": [
             0.194920203
            ]
           },
           {
            "iteration": 45,
            "learn": [
             0.2000803979
            ],
            "passed_time": 2.063704548,
            "remaining_time": 42.7994378,
            "test": [
             0.1925814907
            ]
           },
           {
            "iteration": 46,
            "learn": [
             0.1983422272
            ],
            "passed_time": 2.113524011,
            "remaining_time": 42.85507197,
            "test": [
             0.1904904303
            ]
           },
           {
            "iteration": 47,
            "learn": [
             0.1966037075
            ],
            "passed_time": 2.195808685,
            "remaining_time": 43.55020558,
            "test": [
             0.1885690968
            ]
           },
           {
            "iteration": 48,
            "learn": [
             0.1950959657
            ],
            "passed_time": 2.240061963,
            "remaining_time": 43.4754883,
            "test": [
             0.1867798557
            ]
           },
           {
            "iteration": 49,
            "learn": [
             0.1937545837
            ],
            "passed_time": 2.282268547,
            "remaining_time": 43.3631024,
            "test": [
             0.1852043992
            ]
           },
           {
            "iteration": 50,
            "learn": [
             0.1923495316
            ],
            "passed_time": 2.344826232,
            "remaining_time": 43.6321587,
            "test": [
             0.1836262482
            ]
           },
           {
            "iteration": 51,
            "learn": [
             0.190797818
            ],
            "passed_time": 2.410879736,
            "remaining_time": 43.95219211,
            "test": [
             0.1817352033
            ]
           },
           {
            "iteration": 52,
            "learn": [
             0.1897234271
            ],
            "passed_time": 2.459035442,
            "remaining_time": 43.93785969,
            "test": [
             0.1803908332
            ]
           },
           {
            "iteration": 53,
            "learn": [
             0.1886370632
            ],
            "passed_time": 2.51294325,
            "remaining_time": 44.02304287,
            "test": [
             0.1791042361
            ]
           },
           {
            "iteration": 54,
            "learn": [
             0.1875329093
            ],
            "passed_time": 2.578235853,
            "remaining_time": 44.29877965,
            "test": [
             0.1777774985
            ]
           },
           {
            "iteration": 55,
            "learn": [
             0.1865537753
            ],
            "passed_time": 2.633881102,
            "remaining_time": 44.39971001,
            "test": [
             0.1766043591
            ]
           },
           {
            "iteration": 56,
            "learn": [
             0.1856438096
            ],
            "passed_time": 2.668222635,
            "remaining_time": 44.14270079,
            "test": [
             0.1755028374
            ]
           },
           {
            "iteration": 57,
            "learn": [
             0.18463809
            ],
            "passed_time": 2.736785849,
            "remaining_time": 44.44917706,
            "test": [
             0.1742296331
            ]
           },
           {
            "iteration": 58,
            "learn": [
             0.183654527
            ],
            "passed_time": 2.79847794,
            "remaining_time": 44.63335155,
            "test": [
             0.1730057377
            ]
           },
           {
            "iteration": 59,
            "learn": [
             0.1827446271
            ],
            "passed_time": 2.848825404,
            "remaining_time": 44.631598,
            "test": [
             0.1717941548
            ]
           },
           {
            "iteration": 60,
            "learn": [
             0.1819857544
            ],
            "passed_time": 2.88810277,
            "remaining_time": 44.45784428,
            "test": [
             0.1707802839
            ]
           },
           {
            "iteration": 61,
            "learn": [
             0.1811188394
            ],
            "passed_time": 2.941673787,
            "remaining_time": 44.50467762,
            "test": [
             0.1697559254
            ]
           },
           {
            "iteration": 62,
            "learn": [
             0.1804752762
            ],
            "passed_time": 2.98531725,
            "remaining_time": 44.40067085,
            "test": [
             0.1690076189
            ]
           },
           {
            "iteration": 63,
            "learn": [
             0.1798248984
            ],
            "passed_time": 3.035120482,
            "remaining_time": 44.38863705,
            "test": [
             0.1682129457
            ]
           },
           {
            "iteration": 64,
            "learn": [
             0.1791845246
            ],
            "passed_time": 3.078513165,
            "remaining_time": 44.28322784,
            "test": [
             0.1674217312
            ]
           },
           {
            "iteration": 65,
            "learn": [
             0.178619699
            ],
            "passed_time": 3.124373398,
            "remaining_time": 44.21461749,
            "test": [
             0.1667349409
            ]
           },
           {
            "iteration": 66,
            "learn": [
             0.178007086
            ],
            "passed_time": 3.169762102,
            "remaining_time": 44.14012002,
            "test": [
             0.1660422238
            ]
           },
           {
            "iteration": 67,
            "learn": [
             0.1775014803
            ],
            "passed_time": 3.211646751,
            "remaining_time": 44.01845253,
            "test": [
             0.1653044379
            ]
           },
           {
            "iteration": 68,
            "learn": [
             0.1770605705
            ],
            "passed_time": 3.25842881,
            "remaining_time": 43.96517713,
            "test": [
             0.1647622839
            ]
           },
           {
            "iteration": 69,
            "learn": [
             0.1766045881
            ],
            "passed_time": 3.314765615,
            "remaining_time": 44.03902888,
            "test": [
             0.1641965134
            ]
           },
           {
            "iteration": 70,
            "learn": [
             0.1760285894
            ],
            "passed_time": 3.364071567,
            "remaining_time": 44.01721811,
            "test": [
             0.1635151264
            ]
           },
           {
            "iteration": 71,
            "learn": [
             0.1753559802
            ],
            "passed_time": 3.438632461,
            "remaining_time": 44.32015171,
            "test": [
             0.1627477824
            ]
           },
           {
            "iteration": 72,
            "learn": [
             0.1748015695
            ],
            "passed_time": 3.48446646,
            "remaining_time": 44.24795081,
            "test": [
             0.1620991823
            ]
           },
           {
            "iteration": 73,
            "learn": [
             0.1742881168
            ],
            "passed_time": 3.526949583,
            "remaining_time": 44.13453127,
            "test": [
             0.1614796461
            ]
           },
           {
            "iteration": 74,
            "learn": [
             0.1737584527
            ],
            "passed_time": 3.583283626,
            "remaining_time": 44.19383138,
            "test": [
             0.1608142225
            ]
           },
           {
            "iteration": 75,
            "learn": [
             0.1732695878
            ],
            "passed_time": 3.623861118,
            "remaining_time": 44.05852202,
            "test": [
             0.1601910591
            ]
           },
           {
            "iteration": 76,
            "learn": [
             0.1728435385
            ],
            "passed_time": 3.672114054,
            "remaining_time": 44.01767885,
            "test": [
             0.1595165082
            ]
           },
           {
            "iteration": 77,
            "learn": [
             0.1723622937
            ],
            "passed_time": 3.72385997,
            "remaining_time": 44.01793451,
            "test": [
             0.1589605246
            ]
           },
           {
            "iteration": 78,
            "learn": [
             0.1720339615
            ],
            "passed_time": 3.784608748,
            "remaining_time": 44.1218311,
            "test": [
             0.1584974667
            ]
           },
           {
            "iteration": 79,
            "learn": [
             0.1716814804
            ],
            "passed_time": 3.841726989,
            "remaining_time": 44.17986037,
            "test": [
             0.1580540616
            ]
           },
           {
            "iteration": 80,
            "learn": [
             0.1712771479
            ],
            "passed_time": 3.883748613,
            "remaining_time": 44.06376513,
            "test": [
             0.1576124186
            ]
           },
           {
            "iteration": 81,
            "learn": [
             0.1709758996
            ],
            "passed_time": 3.919622574,
            "remaining_time": 43.88065272,
            "test": [
             0.1572229549
            ]
           },
           {
            "iteration": 82,
            "learn": [
             0.1707022451
            ],
            "passed_time": 3.969211138,
            "remaining_time": 43.8526098,
            "test": [
             0.1568894462
            ]
           },
           {
            "iteration": 83,
            "learn": [
             0.1703365836
            ],
            "passed_time": 4.034683741,
            "remaining_time": 43.99726556,
            "test": [
             0.1564496848
            ]
           },
           {
            "iteration": 84,
            "learn": [
             0.1699956836
            ],
            "passed_time": 4.073629216,
            "remaining_time": 43.85142039,
            "test": [
             0.1560602275
            ]
           },
           {
            "iteration": 85,
            "learn": [
             0.1697326105
            ],
            "passed_time": 4.117628401,
            "remaining_time": 43.76177161,
            "test": [
             0.1557136724
            ]
           },
           {
            "iteration": 86,
            "learn": [
             0.1694753948
            ],
            "passed_time": 4.16904675,
            "remaining_time": 43.75103083,
            "test": [
             0.1554431869
            ]
           },
           {
            "iteration": 87,
            "learn": [
             0.1691843328
            ],
            "passed_time": 4.211212073,
            "remaining_time": 43.64347057,
            "test": [
             0.1550957913
            ]
           },
           {
            "iteration": 88,
            "learn": [
             0.1689146653
            ],
            "passed_time": 4.275658204,
            "remaining_time": 43.76544521,
            "test": [
             0.1547812488
            ]
           },
           {
            "iteration": 89,
            "learn": [
             0.1686907163
            ],
            "passed_time": 4.35001493,
            "remaining_time": 43.98348429,
            "test": [
             0.1544719412
            ]
           },
           {
            "iteration": 90,
            "learn": [
             0.1682458323
            ],
            "passed_time": 4.421762318,
            "remaining_time": 44.16903239,
            "test": [
             0.1539060418
            ]
           },
           {
            "iteration": 91,
            "learn": [
             0.1678615987
            ],
            "passed_time": 4.495711137,
            "remaining_time": 44.37071426,
            "test": [
             0.1534609299
            ]
           },
           {
            "iteration": 92,
            "learn": [
             0.1674669153
            ],
            "passed_time": 4.564637479,
            "remaining_time": 44.51748595,
            "test": [
             0.1529154506
            ]
           },
           {
            "iteration": 93,
            "learn": [
             0.1671986989
            ],
            "passed_time": 4.629232433,
            "remaining_time": 44.61792111,
            "test": [
             0.1526075731
            ]
           },
           {
            "iteration": 94,
            "learn": [
             0.166923857
            ],
            "passed_time": 4.683788541,
            "remaining_time": 44.61924874,
            "test": [
             0.1522463591
            ]
           },
           {
            "iteration": 95,
            "learn": [
             0.1666215342
            ],
            "passed_time": 4.738431091,
            "remaining_time": 44.62022611,
            "test": [
             0.1518197476
            ]
           },
           {
            "iteration": 96,
            "learn": [
             0.1663063978
            ],
            "passed_time": 4.79852739,
            "remaining_time": 44.67082714,
            "test": [
             0.1514029481
            ]
           },
           {
            "iteration": 97,
            "learn": [
             0.1660601832
            ],
            "passed_time": 4.85926264,
            "remaining_time": 44.72505002,
            "test": [
             0.1511255635
            ]
           },
           {
            "iteration": 98,
            "learn": [
             0.1659020204
            ],
            "passed_time": 4.92592671,
            "remaining_time": 44.83090875,
            "test": [
             0.1509682999
            ]
           },
           {
            "iteration": 99,
            "learn": [
             0.1656606286
            ],
            "passed_time": 4.975316307,
            "remaining_time": 44.77784677,
            "test": [
             0.150685428
            ]
           },
           {
            "iteration": 100,
            "learn": [
             0.1653593608
            ],
            "passed_time": 5.073767582,
            "remaining_time": 45.16155501,
            "test": [
             0.1503966321
            ]
           },
           {
            "iteration": 101,
            "learn": [
             0.1651946409
            ],
            "passed_time": 5.114877626,
            "remaining_time": 45.03098145,
            "test": [
             0.1501715433
            ]
           },
           {
            "iteration": 102,
            "learn": [
             0.1650133827
            ],
            "passed_time": 5.16910879,
            "remaining_time": 45.01641344,
            "test": [
             0.1499859565
            ]
           },
           {
            "iteration": 103,
            "learn": [
             0.164766093
            ],
            "passed_time": 5.249800797,
            "remaining_time": 45.22905302,
            "test": [
             0.1497152419
            ]
           },
           {
            "iteration": 104,
            "learn": [
             0.1645783708
            ],
            "passed_time": 5.307278883,
            "remaining_time": 45.23823429,
            "test": [
             0.1495241942
            ]
           },
           {
            "iteration": 105,
            "learn": [
             0.164418531
            ],
            "passed_time": 5.372254268,
            "remaining_time": 45.30938977,
            "test": [
             0.1492934415
            ]
           },
           {
            "iteration": 106,
            "learn": [
             0.1642329121
            ],
            "passed_time": 5.461381732,
            "remaining_time": 45.57956904,
            "test": [
             0.1490581355
            ]
           },
           {
            "iteration": 107,
            "learn": [
             0.1640839708
            ],
            "passed_time": 5.531506085,
            "remaining_time": 45.68614285,
            "test": [
             0.1488766424
            ]
           },
           {
            "iteration": 108,
            "learn": [
             0.1639011385
            ],
            "passed_time": 5.620965265,
            "remaining_time": 45.9475234,
            "test": [
             0.1486462532
            ]
           },
           {
            "iteration": 109,
            "learn": [
             0.1636291653
            ],
            "passed_time": 5.708170232,
            "remaining_time": 46.18428643,
            "test": [
             0.1484924538
            ]
           },
           {
            "iteration": 110,
            "learn": [
             0.1633392442
            ],
            "passed_time": 5.76801814,
            "remaining_time": 46.19610924,
            "test": [
             0.1483413286
            ]
           },
           {
            "iteration": 111,
            "learn": [
             0.1630422262
            ],
            "passed_time": 5.832165836,
            "remaining_time": 46.24074341,
            "test": [
             0.1481636607
            ]
           },
           {
            "iteration": 112,
            "learn": [
             0.1627711194
            ],
            "passed_time": 5.874607647,
            "remaining_time": 46.11307065,
            "test": [
             0.1479659704
            ]
           },
           {
            "iteration": 113,
            "learn": [
             0.1625507603
            ],
            "passed_time": 5.952783183,
            "remaining_time": 46.26461316,
            "test": [
             0.1478171961
            ]
           },
           {
            "iteration": 114,
            "learn": [
             0.162325507
            ],
            "passed_time": 6.002349563,
            "remaining_time": 46.19199446,
            "test": [
             0.1477216791
            ]
           },
           {
            "iteration": 115,
            "learn": [
             0.1622320138
            ],
            "passed_time": 6.065368174,
            "remaining_time": 46.2222885,
            "test": [
             0.1476176843
            ]
           },
           {
            "iteration": 116,
            "learn": [
             0.1620175015
            ],
            "passed_time": 6.156263929,
            "remaining_time": 46.46137649,
            "test": [
             0.1474503989
            ]
           },
           {
            "iteration": 117,
            "learn": [
             0.1618365753
            ],
            "passed_time": 6.223252526,
            "remaining_time": 46.51617566,
            "test": [
             0.147284444
            ]
           },
           {
            "iteration": 118,
            "learn": [
             0.1616281972
            ],
            "passed_time": 6.286211806,
            "remaining_time": 46.53909749,
            "test": [
             0.147167372
            ]
           },
           {
            "iteration": 119,
            "learn": [
             0.1614659915
            ],
            "passed_time": 6.364957038,
            "remaining_time": 46.67635162,
            "test": [
             0.147068071
            ]
           },
           {
            "iteration": 120,
            "learn": [
             0.1613291379
            ],
            "passed_time": 6.416882799,
            "remaining_time": 46.61520645,
            "test": [
             0.1469913244
            ]
           },
           {
            "iteration": 121,
            "learn": [
             0.1611576238
            ],
            "passed_time": 6.4998181,
            "remaining_time": 46.77737944,
            "test": [
             0.1467961175
            ]
           },
           {
            "iteration": 122,
            "learn": [
             0.1610804858
            ],
            "passed_time": 6.571905295,
            "remaining_time": 46.85821905,
            "test": [
             0.146723339
            ]
           },
           {
            "iteration": 123,
            "learn": [
             0.1608894375
            ],
            "passed_time": 6.665613915,
            "remaining_time": 47.08933701,
            "test": [
             0.1464670473
            ]
           },
           {
            "iteration": 124,
            "learn": [
             0.1606015007
            ],
            "passed_time": 6.746551249,
            "remaining_time": 47.22585875,
            "test": [
             0.1461534977
            ]
           },
           {
            "iteration": 125,
            "learn": [
             0.1603620647
            ],
            "passed_time": 6.82958378,
            "remaining_time": 47.37346209,
            "test": [
             0.1459516704
            ]
           },
           {
            "iteration": 126,
            "learn": [
             0.1601469088
            ],
            "passed_time": 6.911902677,
            "remaining_time": 47.51252785,
            "test": [
             0.1457505622
            ]
           },
           {
            "iteration": 127,
            "learn": [
             0.1599130106
            ],
            "passed_time": 6.976560628,
            "remaining_time": 47.52781928,
            "test": [
             0.145511285
            ]
           },
           {
            "iteration": 128,
            "learn": [
             0.1596814504
            ],
            "passed_time": 7.086314224,
            "remaining_time": 47.84635418,
            "test": [
             0.1452479066
            ]
           },
           {
            "iteration": 129,
            "learn": [
             0.1594895018
            ],
            "passed_time": 7.169311722,
            "remaining_time": 47.97923999,
            "test": [
             0.1450533664
            ]
           },
           {
            "iteration": 130,
            "learn": [
             0.1592930931
            ],
            "passed_time": 7.229004711,
            "remaining_time": 47.95423736,
            "test": [
             0.1448421656
            ]
           },
           {
            "iteration": 131,
            "learn": [
             0.1591272325
            ],
            "passed_time": 7.311840656,
            "remaining_time": 48.08089159,
            "test": [
             0.1446438458
            ]
           },
           {
            "iteration": 132,
            "learn": [
             0.1590213104
            ],
            "passed_time": 7.405806118,
            "remaining_time": 48.27694665,
            "test": [
             0.1445097513
            ]
           },
           {
            "iteration": 133,
            "learn": [
             0.1588136442
            ],
            "passed_time": 7.481400858,
            "remaining_time": 48.34994883,
            "test": [
             0.1443043506
            ]
           },
           {
            "iteration": 134,
            "learn": [
             0.1587740635
            ],
            "passed_time": 7.532784838,
            "remaining_time": 48.26562137,
            "test": [
             0.1442943944
            ]
           },
           {
            "iteration": 135,
            "learn": [
             0.1586496656
            ],
            "passed_time": 7.62244336,
            "remaining_time": 48.42493429,
            "test": [
             0.1441489314
            ]
           },
           {
            "iteration": 136,
            "learn": [
             0.1585554176
            ],
            "passed_time": 7.690573646,
            "remaining_time": 48.44500042,
            "test": [
             0.1440457831
            ]
           },
           {
            "iteration": 137,
            "learn": [
             0.1584491951
            ],
            "passed_time": 7.751896466,
            "remaining_time": 48.42126633,
            "test": [
             0.1440047728
            ]
           },
           {
            "iteration": 138,
            "learn": [
             0.1582630383
            ],
            "passed_time": 7.799112027,
            "remaining_time": 48.30960759,
            "test": [
             0.1438668031
            ]
           },
           {
            "iteration": 139,
            "learn": [
             0.158195226
            ],
            "passed_time": 7.866368339,
            "remaining_time": 48.32197694,
            "test": [
             0.1438649772
            ]
           },
           {
            "iteration": 140,
            "learn": [
             0.1580527955
            ],
            "passed_time": 7.942695933,
            "remaining_time": 48.3884809,
            "test": [
             0.1437461408
            ]
           },
           {
            "iteration": 141,
            "learn": [
             0.1579785069
            ],
            "passed_time": 8.003612895,
            "remaining_time": 48.3598582,
            "test": [
             0.1436525995
            ]
           },
           {
            "iteration": 142,
            "learn": [
             0.1578644416
            ],
            "passed_time": 8.091659069,
            "remaining_time": 48.49336938,
            "test": [
             0.1435053231
            ]
           },
           {
            "iteration": 143,
            "learn": [
             0.1576968358
            ],
            "passed_time": 8.165085008,
            "remaining_time": 48.53689421,
            "test": [
             0.1433409575
            ]
           },
           {
            "iteration": 144,
            "learn": [
             0.1576070687
            ],
            "passed_time": 8.218333435,
            "remaining_time": 48.45982819,
            "test": [
             0.1432632755
            ]
           },
           {
            "iteration": 145,
            "learn": [
             0.1574414972
            ],
            "passed_time": 8.291999535,
            "remaining_time": 48.50251783,
            "test": [
             0.143228635
            ]
           },
           {
            "iteration": 146,
            "learn": [
             0.1573503395
            ],
            "passed_time": 8.348839707,
            "remaining_time": 48.44598823,
            "test": [
             0.1432209927
            ]
           },
           {
            "iteration": 147,
            "learn": [
             0.1573205425
            ],
            "passed_time": 8.420750574,
            "remaining_time": 48.47621276,
            "test": [
             0.1431882323
            ]
           },
           {
            "iteration": 148,
            "learn": [
             0.1572060917
            ],
            "passed_time": 8.48875297,
            "remaining_time": 48.48274347,
            "test": [
             0.1430649553
            ]
           },
           {
            "iteration": 149,
            "learn": [
             0.1571270428
            ],
            "passed_time": 8.542610613,
            "remaining_time": 48.40812681,
            "test": [
             0.1429801973
            ]
           },
           {
            "iteration": 150,
            "learn": [
             0.157063052
            ],
            "passed_time": 8.599723705,
            "remaining_time": 48.35208891,
            "test": [
             0.1429164378
            ]
           },
           {
            "iteration": 151,
            "learn": [
             0.1569695976
            ],
            "passed_time": 8.696472936,
            "remaining_time": 48.5171648,
            "test": [
             0.1427913895
            ]
           },
           {
            "iteration": 152,
            "learn": [
             0.156931762
            ],
            "passed_time": 8.776796647,
            "remaining_time": 48.58788732,
            "test": [
             0.1427521018
            ]
           },
           {
            "iteration": 153,
            "learn": [
             0.156815019
            ],
            "passed_time": 8.837840351,
            "remaining_time": 48.55073336,
            "test": [
             0.1426134647
            ]
           },
           {
            "iteration": 154,
            "learn": [
             0.1567157229
            ],
            "passed_time": 8.905541929,
            "remaining_time": 48.54956729,
            "test": [
             0.1425134101
            ]
           },
           {
            "iteration": 155,
            "learn": [
             0.1565932213
            ],
            "passed_time": 8.993261366,
            "remaining_time": 48.65584996,
            "test": [
             0.1424150868
            ]
           },
           {
            "iteration": 156,
            "learn": [
             0.1565685102
            ],
            "passed_time": 9.069541573,
            "remaining_time": 48.69823915,
            "test": [
             0.1424149187
            ]
           },
           {
            "iteration": 157,
            "learn": [
             0.1564937192
            ],
            "passed_time": 9.15336811,
            "remaining_time": 48.77934145,
            "test": [
             0.14235418
            ]
           },
           {
            "iteration": 158,
            "learn": [
             0.1564178472
            ],
            "passed_time": 9.197037921,
            "remaining_time": 48.64596787,
            "test": [
             0.1422571409
            ]
           },
           {
            "iteration": 159,
            "learn": [
             0.1563354932
            ],
            "passed_time": 9.317676028,
            "remaining_time": 48.91779915,
            "test": [
             0.142178567
            ]
           },
           {
            "iteration": 160,
            "learn": [
             0.1562860473
            ],
            "passed_time": 9.390682929,
            "remaining_time": 48.93654023,
            "test": [
             0.1421557506
            ]
           },
           {
            "iteration": 161,
            "learn": [
             0.1562381932
            ],
            "passed_time": 9.461148366,
            "remaining_time": 48.94100204,
            "test": [
             0.1421395608
            ]
           },
           {
            "iteration": 162,
            "learn": [
             0.156163836
            ],
            "passed_time": 9.534857444,
            "remaining_time": 48.9612005,
            "test": [
             0.1420841079
            ]
           },
           {
            "iteration": 163,
            "learn": [
             0.1560767561
            ],
            "passed_time": 9.604812948,
            "remaining_time": 48.96111966,
            "test": [
             0.1420093076
            ]
           },
           {
            "iteration": 164,
            "learn": [
             0.1559883602
            ],
            "passed_time": 9.667168461,
            "remaining_time": 48.9217313,
            "test": [
             0.1419721285
            ]
           },
           {
            "iteration": 165,
            "learn": [
             0.1559105983
            ],
            "passed_time": 9.749646669,
            "remaining_time": 48.98316459,
            "test": [
             0.1419254036
            ]
           },
           {
            "iteration": 166,
            "learn": [
             0.1558403697
            ],
            "passed_time": 9.808664564,
            "remaining_time": 48.92585378,
            "test": [
             0.1418547668
            ]
           },
           {
            "iteration": 167,
            "learn": [
             0.155761489
            ],
            "passed_time": 9.872776641,
            "remaining_time": 48.89375099,
            "test": [
             0.1417844836
            ]
           },
           {
            "iteration": 168,
            "learn": [
             0.1557035076
            ],
            "passed_time": 9.957381993,
            "remaining_time": 48.96203808,
            "test": [
             0.1417639609
            ]
           },
           {
            "iteration": 169,
            "learn": [
             0.1556373303
            ],
            "passed_time": 10.01411119,
            "remaining_time": 48.89242523,
            "test": [
             0.141707547
            ]
           },
           {
            "iteration": 170,
            "learn": [
             0.1556015698
            ],
            "passed_time": 10.06601679,
            "remaining_time": 48.79957846,
            "test": [
             0.1416975321
            ]
           },
           {
            "iteration": 171,
            "learn": [
             0.155540716
            ],
            "passed_time": 10.16397164,
            "remaining_time": 48.92888671,
            "test": [
             0.1416405824
            ]
           },
           {
            "iteration": 172,
            "learn": [
             0.1554338867
            ],
            "passed_time": 10.2455061,
            "remaining_time": 48.9770725,
            "test": [
             0.1416318299
            ]
           },
           {
            "iteration": 173,
            "learn": [
             0.1553729947
            ],
            "passed_time": 10.31076352,
            "remaining_time": 48.94649807,
            "test": [
             0.1415630041
            ]
           },
           {
            "iteration": 174,
            "learn": [
             0.1552998877
            ],
            "passed_time": 10.37387546,
            "remaining_time": 48.90541286,
            "test": [
             0.1414789708
            ]
           },
           {
            "iteration": 175,
            "learn": [
             0.1552690339
            ],
            "passed_time": 10.41455428,
            "remaining_time": 48.75904959,
            "test": [
             0.1414548554
            ]
           },
           {
            "iteration": 176,
            "learn": [
             0.1551848179
            ],
            "passed_time": 10.47967632,
            "remaining_time": 48.72753451,
            "test": [
             0.1414162558
            ]
           },
           {
            "iteration": 177,
            "learn": [
             0.1551444035
            ],
            "passed_time": 10.56320955,
            "remaining_time": 48.78066433,
            "test": [
             0.1413727062
            ]
           },
           {
            "iteration": 178,
            "learn": [
             0.1550592245
            ],
            "passed_time": 10.61709459,
            "remaining_time": 48.69628299,
            "test": [
             0.1412968901
            ]
           },
           {
            "iteration": 179,
            "learn": [
             0.1549804606
            ],
            "passed_time": 10.69001515,
            "remaining_time": 48.69895789,
            "test": [
             0.1412387175
            ]
           },
           {
            "iteration": 180,
            "learn": [
             0.1549348644
            ],
            "passed_time": 10.76427238,
            "remaining_time": 48.70684573,
            "test": [
             0.1412374793
            ]
           },
           {
            "iteration": 181,
            "learn": [
             0.1548197852
            ],
            "passed_time": 10.82433443,
            "remaining_time": 48.65003057,
            "test": [
             0.1411638371
            ]
           },
           {
            "iteration": 182,
            "learn": [
             0.154765175
            ],
            "passed_time": 10.91040347,
            "remaining_time": 48.70928765,
            "test": [
             0.1411089581
            ]
           },
           {
            "iteration": 183,
            "learn": [
             0.1547064675
            ],
            "passed_time": 10.97818086,
            "remaining_time": 48.68584554,
            "test": [
             0.141042968
            ]
           },
           {
            "iteration": 184,
            "learn": [
             0.1546688315
            ],
            "passed_time": 11.06903698,
            "remaining_time": 48.76359534,
            "test": [
             0.1410228602
            ]
           },
           {
            "iteration": 185,
            "learn": [
             0.1546438407
            ],
            "passed_time": 11.16253166,
            "remaining_time": 48.85107943,
            "test": [
             0.1409820184
            ]
           },
           {
            "iteration": 186,
            "learn": [
             0.154614054
            ],
            "passed_time": 11.218495,
            "remaining_time": 48.77345686,
            "test": [
             0.140966301
            ]
           },
           {
            "iteration": 187,
            "learn": [
             0.154523482
            ],
            "passed_time": 11.29802989,
            "remaining_time": 48.79787378,
            "test": [
             0.1408591407
            ]
           },
           {
            "iteration": 188,
            "learn": [
             0.1544943686
            ],
            "passed_time": 11.38348237,
            "remaining_time": 48.84658309,
            "test": [
             0.1408383478
            ]
           },
           {
            "iteration": 189,
            "learn": [
             0.1544166516
            ],
            "passed_time": 11.44249582,
            "remaining_time": 48.78116637,
            "test": [
             0.1408105635
            ]
           },
           {
            "iteration": 190,
            "learn": [
             0.1543279574
            ],
            "passed_time": 11.52983903,
            "remaining_time": 48.83581033,
            "test": [
             0.1407310642
            ]
           },
           {
            "iteration": 191,
            "learn": [
             0.154308878
            ],
            "passed_time": 11.58491795,
            "remaining_time": 48.75319638,
            "test": [
             0.1407325882
            ]
           },
           {
            "iteration": 192,
            "learn": [
             0.1542302262
            ],
            "passed_time": 11.63746993,
            "remaining_time": 48.66030174,
            "test": [
             0.1407126339
            ]
           },
           {
            "iteration": 193,
            "learn": [
             0.1541928405
            ],
            "passed_time": 11.68283449,
            "remaining_time": 48.53796184,
            "test": [
             0.140681903
            ]
           },
           {
            "iteration": 194,
            "learn": [
             0.1541218726
            ],
            "passed_time": 11.76049303,
            "remaining_time": 48.54972765,
            "test": [
             0.1406656302
            ]
           },
           {
            "iteration": 195,
            "learn": [
             0.1540885667
            ],
            "passed_time": 11.82869809,
            "remaining_time": 48.52180235,
            "test": [
             0.1406567332
            ]
           },
           {
            "iteration": 196,
            "learn": [
             0.1540299223
            ],
            "passed_time": 11.87932868,
            "remaining_time": 48.42183213,
            "test": [
             0.1406056568
            ]
           },
           {
            "iteration": 197,
            "learn": [
             0.153973326
            ],
            "passed_time": 11.94260464,
            "remaining_time": 48.3735804,
            "test": [
             0.1405712063
            ]
           },
           {
            "iteration": 198,
            "learn": [
             0.1539677203
            ],
            "passed_time": 12.00444658,
            "remaining_time": 48.31940556,
            "test": [
             0.140569653
            ]
           },
           {
            "iteration": 199,
            "learn": [
             0.1538962256
            ],
            "passed_time": 12.08831849,
            "remaining_time": 48.35327397,
            "test": [
             0.1405591037
            ]
           },
           {
            "iteration": 200,
            "learn": [
             0.1538517431
            ],
            "passed_time": 12.17943999,
            "remaining_time": 48.41478883,
            "test": [
             0.1405242589
            ]
           },
           {
            "iteration": 201,
            "learn": [
             0.1537927159
            ],
            "passed_time": 12.25286587,
            "remaining_time": 48.40488595,
            "test": [
             0.1404890305
            ]
           },
           {
            "iteration": 202,
            "learn": [
             0.1537682343
            ],
            "passed_time": 12.30991692,
            "remaining_time": 48.33006789,
            "test": [
             0.1404823084
            ]
           },
           {
            "iteration": 203,
            "learn": [
             0.1536991581
            ],
            "passed_time": 12.37932456,
            "remaining_time": 48.30363897,
            "test": [
             0.1404530373
            ]
           },
           {
            "iteration": 204,
            "learn": [
             0.1536735032
            ],
            "passed_time": 12.4482013,
            "remaining_time": 48.27473188,
            "test": [
             0.1404550862
            ]
           },
           {
            "iteration": 205,
            "learn": [
             0.1536286815
            ],
            "passed_time": 12.52225737,
            "remaining_time": 48.26539976,
            "test": [
             0.1404084805
            ]
           },
           {
            "iteration": 206,
            "learn": [
             0.153578619
            ],
            "passed_time": 12.59300747,
            "remaining_time": 48.24277739,
            "test": [
             0.1403748333
            ]
           },
           {
            "iteration": 207,
            "learn": [
             0.1535329523
            ],
            "passed_time": 12.65013267,
            "remaining_time": 48.16781285,
            "test": [
             0.1403768893
            ]
           },
           {
            "iteration": 208,
            "learn": [
             0.1534659985
            ],
            "passed_time": 12.71623277,
            "remaining_time": 48.12698622,
            "test": [
             0.1403160352
            ]
           },
           {
            "iteration": 209,
            "learn": [
             0.1534396826
            ],
            "passed_time": 12.78228524,
            "remaining_time": 48.08573972,
            "test": [
             0.1403151016
            ]
           },
           {
            "iteration": 210,
            "learn": [
             0.1534018497
            ],
            "passed_time": 12.84865918,
            "remaining_time": 48.04546017,
            "test": [
             0.1402746938
            ]
           },
           {
            "iteration": 211,
            "learn": [
             0.1533750203
            ],
            "passed_time": 12.91370745,
            "remaining_time": 48.00000694,
            "test": [
             0.1402539815
            ]
           },
           {
            "iteration": 212,
            "learn": [
             0.1533404806
            ],
            "passed_time": 13.0049898,
            "remaining_time": 48.05130035,
            "test": [
             0.1402166131
            ]
           },
           {
            "iteration": 213,
            "learn": [
             0.1533295083
            ],
            "passed_time": 13.06541961,
            "remaining_time": 47.98794306,
            "test": [
             0.1402102348
            ]
           },
           {
            "iteration": 214,
            "learn": [
             0.1533079949
            ],
            "passed_time": 13.13794858,
            "remaining_time": 47.968789,
            "test": [
             0.1402231184
            ]
           },
           {
            "iteration": 215,
            "learn": [
             0.1532774667
            ],
            "passed_time": 13.20900413,
            "remaining_time": 47.94379275,
            "test": [
             0.1402231496
            ]
           },
           {
            "iteration": 216,
            "learn": [
             0.1532158579
            ],
            "passed_time": 13.27793175,
            "remaining_time": 47.91069382,
            "test": [
             0.140186231
            ]
           },
           {
            "iteration": 217,
            "learn": [
             0.1531901391
            ],
            "passed_time": 13.3576231,
            "remaining_time": 47.91587736,
            "test": [
             0.1401464071
            ]
           },
           {
            "iteration": 218,
            "learn": [
             0.1531315348
            ],
            "passed_time": 13.43483724,
            "remaining_time": 47.91145151,
            "test": [
             0.1400876074
            ]
           },
           {
            "iteration": 219,
            "learn": [
             0.1530680483
            ],
            "passed_time": 13.5165643,
            "remaining_time": 47.92236434,
            "test": [
             0.1400220353
            ]
           },
           {
            "iteration": 220,
            "learn": [
             0.1530131161
            ],
            "passed_time": 13.6072407,
            "remaining_time": 47.96398419,
            "test": [
             0.1399899547
            ]
           },
           {
            "iteration": 221,
            "learn": [
             0.1529681282
            ],
            "passed_time": 13.68510619,
            "remaining_time": 47.95951628,
            "test": [
             0.1399607475
            ]
           },
           {
            "iteration": 222,
            "learn": [
             0.1529283844
            ],
            "passed_time": 13.75595767,
            "remaining_time": 47.92995118,
            "test": [
             0.1399183269
            ]
           },
           {
            "iteration": 223,
            "learn": [
             0.1528725119
            ],
            "passed_time": 13.82887943,
            "remaining_time": 47.90718947,
            "test": [
             0.1398822404
            ]
           },
           {
            "iteration": 224,
            "learn": [
             0.1527988424
            ],
            "passed_time": 13.89679064,
            "remaining_time": 47.8667233,
            "test": [
             0.1398336875
            ]
           },
           {
            "iteration": 225,
            "learn": [
             0.1527630367
            ],
            "passed_time": 13.95496191,
            "remaining_time": 47.79265715,
            "test": [
             0.1398156991
            ]
           },
           {
            "iteration": 226,
            "learn": [
             0.1527435666
            ],
            "passed_time": 14.02998944,
            "remaining_time": 47.77613143,
            "test": [
             0.1398038612
            ]
           },
           {
            "iteration": 227,
            "learn": [
             0.1527208512
            ],
            "passed_time": 14.10144431,
            "remaining_time": 47.74699566,
            "test": [
             0.1397758018
            ]
           },
           {
            "iteration": 228,
            "learn": [
             0.1527078586
            ],
            "passed_time": 14.18372356,
            "remaining_time": 47.75393389,
            "test": [
             0.1397760414
            ]
           },
           {
            "iteration": 229,
            "learn": [
             0.1526452678
            ],
            "passed_time": 14.26242447,
            "remaining_time": 47.74811672,
            "test": [
             0.1397486453
            ]
           },
           {
            "iteration": 230,
            "learn": [
             0.152604265
            ],
            "passed_time": 14.33242541,
            "remaining_time": 47.71270624,
            "test": [
             0.1397374092
            ]
           },
           {
            "iteration": 231,
            "learn": [
             0.1525659191
            ],
            "passed_time": 14.412398,
            "remaining_time": 47.71000718,
            "test": [
             0.1397462515
            ]
           },
           {
            "iteration": 232,
            "learn": [
             0.1525395527
            ],
            "passed_time": 14.47915208,
            "remaining_time": 47.66313153,
            "test": [
             0.1397565085
            ]
           },
           {
            "iteration": 233,
            "learn": [
             0.15252129
            ],
            "passed_time": 14.54968461,
            "remaining_time": 47.62845475,
            "test": [
             0.1397567757
            ]
           },
           {
            "iteration": 234,
            "learn": [
             0.1524931651
            ],
            "passed_time": 14.62137134,
            "remaining_time": 47.5972301,
            "test": [
             0.1397172559
            ]
           },
           {
            "iteration": 235,
            "learn": [
             0.1524673364
            ],
            "passed_time": 14.69075586,
            "remaining_time": 47.55820966,
            "test": [
             0.1396951651
            ]
           },
           {
            "iteration": 236,
            "learn": [
             0.1524275628
            ],
            "passed_time": 14.75752409,
            "remaining_time": 47.51051003,
            "test": [
             0.1397102822
            ]
           },
           {
            "iteration": 237,
            "learn": [
             0.1523967693
            ],
            "passed_time": 14.82263974,
            "remaining_time": 47.45735918,
            "test": [
             0.1397190581
            ]
           },
           {
            "iteration": 238,
            "learn": [
             0.1523621199
            ],
            "passed_time": 14.90213658,
            "remaining_time": 47.44989933,
            "test": [
             0.1396943263
            ]
           },
           {
            "iteration": 239,
            "learn": [
             0.1523556705
            ],
            "passed_time": 14.95751473,
            "remaining_time": 47.36546332,
            "test": [
             0.1397040047
            ]
           },
           {
            "iteration": 240,
            "learn": [
             0.1522995646
            ],
            "passed_time": 15.03100171,
            "remaining_time": 47.33830001,
            "test": [
             0.1397145216
            ]
           },
           {
            "iteration": 241,
            "learn": [
             0.1522951725
            ],
            "passed_time": 15.09849068,
            "remaining_time": 47.29196668,
            "test": [
             0.1397159409
            ]
           },
           {
            "iteration": 242,
            "learn": [
             0.1522345904
            ],
            "passed_time": 15.19664899,
            "remaining_time": 47.34100119,
            "test": [
             0.1396625713
            ]
           },
           {
            "iteration": 243,
            "learn": [
             0.1522036137
            ],
            "passed_time": 15.2925341,
            "remaining_time": 47.38178599,
            "test": [
             0.1396658707
            ]
           },
           {
            "iteration": 244,
            "learn": [
             0.1521585316
            ],
            "passed_time": 15.37032306,
            "remaining_time": 47.36568944,
            "test": [
             0.1396457736
            ]
           },
           {
            "iteration": 245,
            "learn": [
             0.1521153328
            ],
            "passed_time": 15.4423682,
            "remaining_time": 47.33148629,
            "test": [
             0.1396054713
            ]
           },
           {
            "iteration": 246,
            "learn": [
             0.1520716432
            ],
            "passed_time": 15.49768568,
            "remaining_time": 47.24598104,
            "test": [
             0.139595157
            ]
           },
           {
            "iteration": 247,
            "learn": [
             0.1520185566
            ],
            "passed_time": 15.59280177,
            "remaining_time": 47.28139893,
            "test": [
             0.1395644311
            ]
           },
           {
            "iteration": 248,
            "learn": [
             0.1520012432
            ],
            "passed_time": 15.66231198,
            "remaining_time": 47.23853934,
            "test": [
             0.1395796207
            ]
           },
           {
            "iteration": 249,
            "learn": [
             0.1519353112
            ],
            "passed_time": 15.73734801,
            "remaining_time": 47.21204403,
            "test": [
             0.1395607918
            ]
           },
           {
            "iteration": 250,
            "learn": [
             0.1519168335
            ],
            "passed_time": 15.80999297,
            "remaining_time": 47.17802682,
            "test": [
             0.1395836569
            ]
           },
           {
            "iteration": 251,
            "learn": [
             0.1518550431
            ],
            "passed_time": 15.89765237,
            "remaining_time": 47.18826972,
            "test": [
             0.1395427352
            ]
           },
           {
            "iteration": 252,
            "learn": [
             0.1518125098
            ],
            "passed_time": 15.97077291,
            "remaining_time": 47.15481171,
            "test": [
             0.139505198
            ]
           },
           {
            "iteration": 253,
            "learn": [
             0.1517986428
            ],
            "passed_time": 16.04640833,
            "remaining_time": 47.12842761,
            "test": [
             0.1395085592
            ]
           },
           {
            "iteration": 254,
            "learn": [
             0.1517456191
            ],
            "passed_time": 16.11881137,
            "remaining_time": 47.09221362,
            "test": [
             0.1394778628
            ]
           },
           {
            "iteration": 255,
            "learn": [
             0.1517108311
            ],
            "passed_time": 16.18023207,
            "remaining_time": 47.02379947,
            "test": [
             0.1394662305
            ]
           },
           {
            "iteration": 256,
            "learn": [
             0.1516538944
            ],
            "passed_time": 16.29833347,
            "remaining_time": 47.11930649,
            "test": [
             0.1394215837
            ]
           },
           {
            "iteration": 257,
            "learn": [
             0.151615553
            ],
            "passed_time": 16.35957451,
            "remaining_time": 47.04962901,
            "test": [
             0.1394321241
            ]
           },
           {
            "iteration": 258,
            "learn": [
             0.1515477119
            ],
            "passed_time": 16.42019381,
            "remaining_time": 46.97823789,
            "test": [
             0.1394030132
            ]
           },
           {
            "iteration": 259,
            "learn": [
             0.1515108598
            ],
            "passed_time": 16.48244368,
            "remaining_time": 46.91157048,
            "test": [
             0.1393946418
            ]
           },
           {
            "iteration": 260,
            "learn": [
             0.1514871402
            ],
            "passed_time": 16.5440397,
            "remaining_time": 46.84308558,
            "test": [
             0.1394029716
            ]
           },
           {
            "iteration": 261,
            "learn": [
             0.1514259875
            ],
            "passed_time": 16.61644356,
            "remaining_time": 46.80509676,
            "test": [
             0.1393606236
            ]
           },
           {
            "iteration": 262,
            "learn": [
             0.1514077474
            ],
            "passed_time": 16.70193287,
            "remaining_time": 46.8035153,
            "test": [
             0.1393515375
            ]
           },
           {
            "iteration": 263,
            "learn": [
             0.1514020094
            ],
            "passed_time": 16.76443341,
            "remaining_time": 46.73720828,
            "test": [
             0.1393371444
            ]
           },
           {
            "iteration": 264,
            "learn": [
             0.1513163779
            ],
            "passed_time": 16.86346211,
            "remaining_time": 46.77224395,
            "test": [
             0.139288073
            ]
           },
           {
            "iteration": 265,
            "learn": [
             0.1512930367
            ],
            "passed_time": 16.93952696,
            "remaining_time": 46.74290523,
            "test": [
             0.1392836334
            ]
           },
           {
            "iteration": 266,
            "learn": [
             0.1512514871
            ],
            "passed_time": 16.99932347,
            "remaining_time": 46.66855469,
            "test": [
             0.1392577739
            ]
           },
           {
            "iteration": 267,
            "learn": [
             0.1512408119
            ],
            "passed_time": 17.08344387,
            "remaining_time": 46.66074968,
            "test": [
             0.139266817
            ]
           },
           {
            "iteration": 268,
            "learn": [
             0.1511659799
            ],
            "passed_time": 17.17812906,
            "remaining_time": 46.68108678,
            "test": [
             0.1392011385
            ]
           },
           {
            "iteration": 269,
            "learn": [
             0.1511088989
            ],
            "passed_time": 17.26785186,
            "remaining_time": 46.68715503,
            "test": [
             0.1391989463
            ]
           },
           {
            "iteration": 270,
            "learn": [
             0.1510823176
            ],
            "passed_time": 17.3564363,
            "remaining_time": 46.68945411,
            "test": [
             0.1392144681
            ]
           },
           {
            "iteration": 271,
            "learn": [
             0.1510204454
            ],
            "passed_time": 17.44426815,
            "remaining_time": 46.68907065,
            "test": [
             0.1391638838
            ]
           },
           {
            "iteration": 272,
            "learn": [
             0.1509621827
            ],
            "passed_time": 17.51821686,
            "remaining_time": 46.65107566,
            "test": [
             0.1391449067
            ]
           },
           {
            "iteration": 273,
            "learn": [
             0.1509323889
            ],
            "passed_time": 17.59158576,
            "remaining_time": 46.61128197,
            "test": [
             0.1391215035
            ]
           },
           {
            "iteration": 274,
            "learn": [
             0.1509152524
            ],
            "passed_time": 17.657336,
            "remaining_time": 46.55115855,
            "test": [
             0.1391062872
            ]
           },
           {
            "iteration": 275,
            "learn": [
             0.1508402345
            ],
            "passed_time": 17.7189614,
            "remaining_time": 46.48017411,
            "test": [
             0.1390230172
            ]
           },
           {
            "iteration": 276,
            "learn": [
             0.1508231771
            ],
            "passed_time": 17.78664428,
            "remaining_time": 46.42506792,
            "test": [
             0.139019314
            ]
           },
           {
            "iteration": 277,
            "learn": [
             0.1507993542
            ],
            "passed_time": 17.83188259,
            "remaining_time": 46.31157996,
            "test": [
             0.1390033482
            ]
           },
           {
            "iteration": 278,
            "learn": [
             0.1507714053
            ],
            "passed_time": 17.8996191,
            "remaining_time": 46.25672177,
            "test": [
             0.1389881887
            ]
           },
           {
            "iteration": 279,
            "learn": [
             0.150744766
            ],
            "passed_time": 17.96603499,
            "remaining_time": 46.19837568,
            "test": [
             0.1389681761
            ]
           },
           {
            "iteration": 280,
            "learn": [
             0.1506967039
            ],
            "passed_time": 18.04191442,
            "remaining_time": 46.16418673,
            "test": [
             0.1389826143
            ]
           },
           {
            "iteration": 281,
            "learn": [
             0.150654593
            ],
            "passed_time": 18.12080591,
            "remaining_time": 46.13737107,
            "test": [
             0.138948624
            ]
           },
           {
            "iteration": 282,
            "learn": [
             0.1506256661
            ],
            "passed_time": 18.17127026,
            "remaining_time": 46.03816529,
            "test": [
             0.1389116032
            ]
           },
           {
            "iteration": 283,
            "learn": [
             0.1505873134
            ],
            "passed_time": 18.24279652,
            "remaining_time": 45.99240249,
            "test": [
             0.1388743072
            ]
           },
           {
            "iteration": 284,
            "learn": [
             0.1505576081
            ],
            "passed_time": 18.34197972,
            "remaining_time": 46.01584386,
            "test": [
             0.1388323313
            ]
           },
           {
            "iteration": 285,
            "learn": [
             0.1505129297
            ],
            "passed_time": 18.42258459,
            "remaining_time": 45.99204684,
            "test": [
             0.1388347599
            ]
           },
           {
            "iteration": 286,
            "learn": [
             0.1504641336
            ],
            "passed_time": 18.49532413,
            "remaining_time": 45.94831396,
            "test": [
             0.1388165381
            ]
           },
           {
            "iteration": 287,
            "learn": [
             0.1504474756
            ],
            "passed_time": 18.54968034,
            "remaining_time": 45.85893196,
            "test": [
             0.138808157
            ]
           },
           {
            "iteration": 288,
            "learn": [
             0.1504302611
            ],
            "passed_time": 18.63419238,
            "remaining_time": 45.84398194,
            "test": [
             0.1388054817
            ]
           },
           {
            "iteration": 289,
            "learn": [
             0.1504012267
            ],
            "passed_time": 18.69702717,
            "remaining_time": 45.77548031,
            "test": [
             0.1388168849
            ]
           },
           {
            "iteration": 290,
            "learn": [
             0.150351233
            ],
            "passed_time": 18.79100652,
            "remaining_time": 45.78289904,
            "test": [
             0.1388240145
            ]
           },
           {
            "iteration": 291,
            "learn": [
             0.1503114166
            ],
            "passed_time": 18.86282455,
            "remaining_time": 45.73588967,
            "test": [
             0.1388483359
            ]
           },
           {
            "iteration": 292,
            "learn": [
             0.1502491557
            ],
            "passed_time": 18.9474744,
            "remaining_time": 45.71967373,
            "test": [
             0.1388162363
            ]
           },
           {
            "iteration": 293,
            "learn": [
             0.1501922579
            ],
            "passed_time": 19.01000522,
            "remaining_time": 45.64987648,
            "test": [
             0.1388049502
            ]
           },
           {
            "iteration": 294,
            "learn": [
             0.1501490199
            ],
            "passed_time": 19.10019846,
            "remaining_time": 45.646237,
            "test": [
             0.1387756665
            ]
           },
           {
            "iteration": 295,
            "learn": [
             0.1501265197
            ],
            "passed_time": 19.16254451,
            "remaining_time": 45.57578153,
            "test": [
             0.1387686305
            ]
           },
           {
            "iteration": 296,
            "learn": [
             0.1501045956
            ],
            "passed_time": 19.2281959,
            "remaining_time": 45.51320443,
            "test": [
             0.138758147
            ]
           },
           {
            "iteration": 297,
            "learn": [
             0.1500472975
            ],
            "passed_time": 19.33612903,
            "remaining_time": 45.55020999,
            "test": [
             0.1387382886
            ]
           },
           {
            "iteration": 298,
            "learn": [
             0.1499898463
            ],
            "passed_time": 19.42967465,
            "remaining_time": 45.55251481,
            "test": [
             0.1387173394
            ]
           },
           {
            "iteration": 299,
            "learn": [
             0.1499719949
            ],
            "passed_time": 19.50167767,
            "remaining_time": 45.50391457,
            "test": [
             0.1387171693
            ]
           },
           {
            "iteration": 300,
            "learn": [
             0.1499574561
            ],
            "passed_time": 19.56071328,
            "remaining_time": 45.42504513,
            "test": [
             0.1387204022
            ]
           },
           {
            "iteration": 301,
            "learn": [
             0.14991243
            ],
            "passed_time": 19.62384125,
            "remaining_time": 45.35576554,
            "test": [
             0.1386625139
            ]
           },
           {
            "iteration": 302,
            "learn": [
             0.1498710147
            ],
            "passed_time": 19.70527215,
            "remaining_time": 45.32862933,
            "test": [
             0.1386752469
            ]
           },
           {
            "iteration": 303,
            "learn": [
             0.1498471989
            ],
            "passed_time": 19.77999626,
            "remaining_time": 45.28578092,
            "test": [
             0.1386591891
            ]
           },
           {
            "iteration": 304,
            "learn": [
             0.1498112201
            ],
            "passed_time": 19.85621628,
            "remaining_time": 45.24613219,
            "test": [
             0.1386470104
            ]
           },
           {
            "iteration": 305,
            "learn": [
             0.1498022063
            ],
            "passed_time": 19.91420972,
            "remaining_time": 45.16490702,
            "test": [
             0.1386546866
            ]
           },
           {
            "iteration": 306,
            "learn": [
             0.1497939637
            ],
            "passed_time": 19.99774148,
            "remaining_time": 45.14148159,
            "test": [
             0.1386585074
            ]
           },
           {
            "iteration": 307,
            "learn": [
             0.1497444669
            ],
            "passed_time": 20.08137267,
            "remaining_time": 45.11788924,
            "test": [
             0.1386740887
            ]
           },
           {
            "iteration": 308,
            "learn": [
             0.1497016791
            ],
            "passed_time": 20.17451261,
            "remaining_time": 45.11517221,
            "test": [
             0.1386270605
            ]
           },
           {
            "iteration": 309,
            "learn": [
             0.1496673992
            ],
            "passed_time": 20.21832379,
            "remaining_time": 45.00207554,
            "test": [
             0.1386051573
            ]
           },
           {
            "iteration": 310,
            "learn": [
             0.1496218181
            ],
            "passed_time": 20.28773099,
            "remaining_time": 44.94613073,
            "test": [
             0.1385642019
            ]
           },
           {
            "iteration": 311,
            "learn": [
             0.1495690466
            ],
            "passed_time": 20.39168405,
            "remaining_time": 44.96627766,
            "test": [
             0.1385305991
            ]
           },
           {
            "iteration": 312,
            "learn": [
             0.14954114
            ],
            "passed_time": 20.46828526,
            "remaining_time": 44.92559735,
            "test": [
             0.1385171139
            ]
           },
           {
            "iteration": 313,
            "learn": [
             0.1495332299
            ],
            "passed_time": 20.54005596,
            "remaining_time": 44.87413499,
            "test": [
             0.1385132273
            ]
           },
           {
            "iteration": 314,
            "learn": [
             0.1494662781
            ],
            "passed_time": 20.6155118,
            "remaining_time": 44.83055741,
            "test": [
             0.1384718203
            ]
           },
           {
            "iteration": 315,
            "learn": [
             0.1494557363
            ],
            "passed_time": 20.68955151,
            "remaining_time": 44.78371276,
            "test": [
             0.1384687586
            ]
           },
           {
            "iteration": 316,
            "learn": [
             0.1494391523
            ],
            "passed_time": 20.75371361,
            "remaining_time": 44.71541451,
            "test": [
             0.1384689337
            ]
           },
           {
            "iteration": 317,
            "learn": [
             0.149360223
            ],
            "passed_time": 20.82574364,
            "remaining_time": 44.66401623,
            "test": [
             0.1384785229
            ]
           },
           {
            "iteration": 318,
            "learn": [
             0.1493376447
            ],
            "passed_time": 20.88789069,
            "remaining_time": 44.59139046,
            "test": [
             0.1384774101
            ]
           },
           {
            "iteration": 319,
            "learn": [
             0.149337637
            ],
            "passed_time": 20.90783754,
            "remaining_time": 44.42915476,
            "test": [
             0.1384774341
            ]
           },
           {
            "iteration": 320,
            "learn": [
             0.1492830675
            ],
            "passed_time": 20.98935303,
            "remaining_time": 44.39803959,
            "test": [
             0.1384695401
            ]
           },
           {
            "iteration": 321,
            "learn": [
             0.1492181171
            ],
            "passed_time": 21.05806467,
            "remaining_time": 44.33965169,
            "test": [
             0.1384225769
            ]
           },
           {
            "iteration": 322,
            "learn": [
             0.1491968454
            ],
            "passed_time": 21.13478009,
            "remaining_time": 44.2979756,
            "test": [
             0.1384217479
            ]
           },
           {
            "iteration": 323,
            "learn": [
             0.1491919831
            ],
            "passed_time": 21.19483975,
            "remaining_time": 44.22133231,
            "test": [
             0.1384292323
            ]
           },
           {
            "iteration": 324,
            "learn": [
             0.1491822391
            ],
            "passed_time": 21.27693865,
            "remaining_time": 44.1905649,
            "test": [
             0.1384269309
            ]
           },
           {
            "iteration": 325,
            "learn": [
             0.1491404997
            ],
            "passed_time": 21.36683687,
            "remaining_time": 44.17560752,
            "test": [
             0.1383955859
            ]
           },
           {
            "iteration": 326,
            "learn": [
             0.1490912561
            ],
            "passed_time": 21.45180668,
            "remaining_time": 44.1500486,
            "test": [
             0.1383740273
            ]
           },
           {
            "iteration": 327,
            "learn": [
             0.1490810111
            ],
            "passed_time": 21.52730694,
            "remaining_time": 44.10472642,
            "test": [
             0.1383751163
            ]
           },
           {
            "iteration": 328,
            "learn": [
             0.1490643644
            ],
            "passed_time": 21.61672554,
            "remaining_time": 44.08760741,
            "test": [
             0.1383610426
            ]
           },
           {
            "iteration": 329,
            "learn": [
             0.1490482005
            ],
            "passed_time": 21.6819776,
            "remaining_time": 44.02098483,
            "test": [
             0.1383559431
            ]
           },
           {
            "iteration": 330,
            "learn": [
             0.1489945823
            ],
            "passed_time": 21.77463564,
            "remaining_time": 44.00976205,
            "test": [
             0.1383539584
            ]
           },
           {
            "iteration": 331,
            "learn": [
             0.1488791371
            ],
            "passed_time": 21.8718072,
            "remaining_time": 44.00713014,
            "test": [
             0.138296483
            ]
           },
           {
            "iteration": 332,
            "learn": [
             0.1488543495
            ],
            "passed_time": 21.95390541,
            "remaining_time": 43.97373847,
            "test": [
             0.1383066798
            ]
           },
           {
            "iteration": 333,
            "learn": [
             0.1488003027
            ],
            "passed_time": 22.03492825,
            "remaining_time": 43.93791082,
            "test": [
             0.1383110169
            ]
           },
           {
            "iteration": 334,
            "learn": [
             0.1487438252
            ],
            "passed_time": 22.11333566,
            "remaining_time": 43.89662153,
            "test": [
             0.1382733724
            ]
           },
           {
            "iteration": 335,
            "learn": [
             0.1486800544
            ],
            "passed_time": 22.18981514,
            "remaining_time": 43.85130136,
            "test": [
             0.1382413025
            ]
           },
           {
            "iteration": 336,
            "learn": [
             0.1486077358
            ],
            "passed_time": 22.26400637,
            "remaining_time": 43.80129442,
            "test": [
             0.138245422
            ]
           },
           {
            "iteration": 337,
            "learn": [
             0.1486028455
            ],
            "passed_time": 22.33444011,
            "remaining_time": 43.74378507,
            "test": [
             0.13824174
            ]
           },
           {
            "iteration": 338,
            "learn": [
             0.1485794196
            ],
            "passed_time": 22.45488062,
            "remaining_time": 43.78370528,
            "test": [
             0.1382349243
            ]
           },
           {
            "iteration": 339,
            "learn": [
             0.1485522969
            ],
            "passed_time": 22.54307477,
            "remaining_time": 43.76008632,
            "test": [
             0.1382160235
            ]
           },
           {
            "iteration": 340,
            "learn": [
             0.1485088223
            ],
            "passed_time": 22.62519894,
            "remaining_time": 43.72435806,
            "test": [
             0.1382181361
            ]
           },
           {
            "iteration": 341,
            "learn": [
             0.1484912152
            ],
            "passed_time": 22.69526228,
            "remaining_time": 43.66515375,
            "test": [
             0.1382198968
            ]
           },
           {
            "iteration": 342,
            "learn": [
             0.148452801
            ],
            "passed_time": 22.77559622,
            "remaining_time": 43.62555894,
            "test": [
             0.1382156449
            ]
           },
           {
            "iteration": 343,
            "learn": [
             0.1484437822
            ],
            "passed_time": 22.83811749,
            "remaining_time": 43.55175893,
            "test": [
             0.1382122068
            ]
           },
           {
            "iteration": 344,
            "learn": [
             0.1484163115
            ],
            "passed_time": 22.91694342,
            "remaining_time": 43.50897953,
            "test": [
             0.1382218385
            ]
           },
           {
            "iteration": 345,
            "learn": [
             0.1483990524
            ],
            "passed_time": 22.98561104,
            "remaining_time": 43.44679082,
            "test": [
             0.1382211418
            ]
           },
           {
            "iteration": 346,
            "learn": [
             0.1483644872
            ],
            "passed_time": 23.07910434,
            "remaining_time": 43.4312828,
            "test": [
             0.1382120455
            ]
           },
           {
            "iteration": 347,
            "learn": [
             0.1482989595
            ],
            "passed_time": 23.14600994,
            "remaining_time": 43.36551288,
            "test": [
             0.1382050573
            ]
           },
           {
            "iteration": 348,
            "learn": [
             0.1482772223
            ],
            "passed_time": 23.21043694,
            "remaining_time": 43.29511303,
            "test": [
             0.1381775373
            ]
           },
           {
            "iteration": 349,
            "learn": [
             0.1482504944
            ],
            "passed_time": 23.28580926,
            "remaining_time": 43.24507434,
            "test": [
             0.1381821757
            ]
           },
           {
            "iteration": 350,
            "learn": [
             0.1481773552
            ],
            "passed_time": 23.35945947,
            "remaining_time": 43.19170711,
            "test": [
             0.1381596414
            ]
           },
           {
            "iteration": 351,
            "learn": [
             0.1481597247
            ],
            "passed_time": 23.457124,
            "remaining_time": 43.18243282,
            "test": [
             0.1381526105
            ]
           },
           {
            "iteration": 352,
            "learn": [
             0.1481096229
            ],
            "passed_time": 23.5219094,
            "remaining_time": 43.11239484,
            "test": [
             0.1381787399
            ]
           },
           {
            "iteration": 353,
            "learn": [
             0.1480754558
            ],
            "passed_time": 23.61260391,
            "remaining_time": 43.08966702,
            "test": [
             0.1381506126
            ]
           },
           {
            "iteration": 354,
            "learn": [
             0.148054944
            ],
            "passed_time": 23.67448175,
            "remaining_time": 43.01419924,
            "test": [
             0.1381487298
            ]
           },
           {
            "iteration": 355,
            "learn": [
             0.1480124125
            ],
            "passed_time": 23.76242449,
            "remaining_time": 42.9859589,
            "test": [
             0.1381232173
            ]
           },
           {
            "iteration": 356,
            "learn": [
             0.147963892
            ],
            "passed_time": 23.8398214,
            "remaining_time": 42.93838981,
            "test": [
             0.1380586789
            ]
           },
           {
            "iteration": 357,
            "learn": [
             0.14791816
            ],
            "passed_time": 23.91214776,
            "remaining_time": 42.88156107,
            "test": [
             0.1380406282
            ]
           },
           {
            "iteration": 358,
            "learn": [
             0.1479003327
            ],
            "passed_time": 23.98029686,
            "remaining_time": 42.81718743,
            "test": [
             0.1380337662
            ]
           },
           {
            "iteration": 359,
            "learn": [
             0.1478088308
            ],
            "passed_time": 24.07307179,
            "remaining_time": 42.79657207,
            "test": [
             0.13799957
            ]
           },
           {
            "iteration": 360,
            "learn": [
             0.1477868083
            ],
            "passed_time": 24.16587871,
            "remaining_time": 42.77561356,
            "test": [
             0.1379572115
            ]
           },
           {
            "iteration": 361,
            "learn": [
             0.1477710959
            ],
            "passed_time": 24.22933422,
            "remaining_time": 42.70252826,
            "test": [
             0.1379677438
            ]
           },
           {
            "iteration": 362,
            "learn": [
             0.1477510193
            ],
            "passed_time": 24.29553369,
            "remaining_time": 42.63431118,
            "test": [
             0.1379754801
            ]
           },
           {
            "iteration": 363,
            "learn": [
             0.1476866883
            ],
            "passed_time": 24.38322943,
            "remaining_time": 42.60366461,
            "test": [
             0.1379190568
            ]
           },
           {
            "iteration": 364,
            "learn": [
             0.1476653522
            ],
            "passed_time": 24.48893734,
            "remaining_time": 42.60404167,
            "test": [
             0.1379099295
            ]
           },
           {
            "iteration": 365,
            "learn": [
             0.1476276864
            ],
            "passed_time": 24.56572406,
            "remaining_time": 42.55374058,
            "test": [
             0.1378678
            ]
           },
           {
            "iteration": 366,
            "learn": [
             0.1475804825
            ],
            "passed_time": 24.63805992,
            "remaining_time": 42.49561833,
            "test": [
             0.1378389252
            ]
           },
           {
            "iteration": 367,
            "learn": [
             0.1475490764
            ],
            "passed_time": 24.7098397,
            "remaining_time": 42.43646383,
            "test": [
             0.1378188529
            ]
           },
           {
            "iteration": 368,
            "learn": [
             0.1475168966
            ],
            "passed_time": 24.7899034,
            "remaining_time": 42.39140662,
            "test": [
             0.1378180686
            ]
           },
           {
            "iteration": 369,
            "learn": [
             0.1474940859
            ],
            "passed_time": 24.86373291,
            "remaining_time": 42.33554522,
            "test": [
             0.1378082479
            ]
           },
           {
            "iteration": 370,
            "learn": [
             0.1474398193
            ],
            "passed_time": 24.93385063,
            "remaining_time": 42.27329393,
            "test": [
             0.1377981373
            ]
           },
           {
            "iteration": 371,
            "learn": [
             0.1473933836
            ],
            "passed_time": 25.00414107,
            "remaining_time": 42.21129191,
            "test": [
             0.1377909782
            ]
           },
           {
            "iteration": 372,
            "learn": [
             0.1473831482
            ],
            "passed_time": 25.09653593,
            "remaining_time": 42.18640222,
            "test": [
             0.1378009841
            ]
           },
           {
            "iteration": 373,
            "learn": [
             0.147370825
            ],
            "passed_time": 25.16692062,
            "remaining_time": 42.12431098,
            "test": [
             0.1378052411
            ]
           },
           {
            "iteration": 374,
            "learn": [
             0.1473370759
            ],
            "passed_time": 25.2211239,
            "remaining_time": 42.0352065,
            "test": [
             0.1377882638
            ]
           },
           {
            "iteration": 375,
            "learn": [
             0.1473140247
            ],
            "passed_time": 25.29308045,
            "remaining_time": 41.97575053,
            "test": [
             0.1377750762
            ]
           },
           {
            "iteration": 376,
            "learn": [
             0.1472939217
            ],
            "passed_time": 25.33877596,
            "remaining_time": 41.87283136,
            "test": [
             0.1377698386
            ]
           },
           {
            "iteration": 377,
            "learn": [
             0.14726732
            ],
            "passed_time": 25.40202202,
            "remaining_time": 41.79909444,
            "test": [
             0.1377705883
            ]
           },
           {
            "iteration": 378,
            "learn": [
             0.1472588552
            ],
            "passed_time": 25.49719645,
            "remaining_time": 41.77772822,
            "test": [
             0.1377763263
            ]
           },
           {
            "iteration": 379,
            "learn": [
             0.1472236306
            ],
            "passed_time": 25.5754629,
            "remaining_time": 41.72838684,
            "test": [
             0.1377982521
            ]
           },
           {
            "iteration": 380,
            "learn": [
             0.1472085425
            ],
            "passed_time": 25.65747955,
            "remaining_time": 41.68498646,
            "test": [
             0.1377934551
            ]
           },
           {
            "iteration": 381,
            "learn": [
             0.1471742601
            ],
            "passed_time": 25.73325356,
            "remaining_time": 41.63128455,
            "test": [
             0.1378078624
            ]
           },
           {
            "iteration": 382,
            "learn": [
             0.1471625676
            ],
            "passed_time": 25.79343826,
            "remaining_time": 41.55235354,
            "test": [
             0.1377978162
            ]
           },
           {
            "iteration": 383,
            "learn": [
             0.1471364533
            ],
            "passed_time": 25.86847109,
            "remaining_time": 41.49733904,
            "test": [
             0.1377838409
            ]
           },
           {
            "iteration": 384,
            "learn": [
             0.1470783069
            ],
            "passed_time": 25.93803552,
            "remaining_time": 41.43348531,
            "test": [
             0.137781313
            ]
           },
           {
            "iteration": 385,
            "learn": [
             0.1470598514
            ],
            "passed_time": 25.99558948,
            "remaining_time": 41.35049725,
            "test": [
             0.1377705601
            ]
           },
           {
            "iteration": 386,
            "learn": [
             0.1470069668
            ],
            "passed_time": 26.06941634,
            "remaining_time": 41.29341658,
            "test": [
             0.1377726149
            ]
           },
           {
            "iteration": 387,
            "learn": [
             0.1469416612
            ],
            "passed_time": 26.14452164,
            "remaining_time": 41.23826609,
            "test": [
             0.1377207693
            ]
           },
           {
            "iteration": 388,
            "learn": [
             0.1469287751
            ],
            "passed_time": 26.20677647,
            "remaining_time": 41.16282885,
            "test": [
             0.137725214
            ]
           },
           {
            "iteration": 389,
            "learn": [
             0.1469080427
            ],
            "passed_time": 26.28578211,
            "remaining_time": 41.1136592,
            "test": [
             0.1377313173
            ]
           },
           {
            "iteration": 390,
            "learn": [
             0.1468573752
            ],
            "passed_time": 26.34811128,
            "remaining_time": 41.03836259,
            "test": [
             0.1377374523
            ]
           },
           {
            "iteration": 391,
            "learn": [
             0.146851142
            ],
            "passed_time": 26.38935824,
            "remaining_time": 40.93043319,
            "test": [
             0.1377390499
            ]
           },
           {
            "iteration": 392,
            "learn": [
             0.1468187514
            ],
            "passed_time": 26.45646733,
            "remaining_time": 40.86278796,
            "test": [
             0.1377264135
            ]
           },
           {
            "iteration": 393,
            "learn": [
             0.1468000701
            ],
            "passed_time": 26.56936404,
            "remaining_time": 40.86557007,
            "test": [
             0.1377081224
            ]
           },
           {
            "iteration": 394,
            "learn": [
             0.1467676028
            ],
            "passed_time": 26.64699297,
            "remaining_time": 40.81374872,
            "test": [
             0.1377137892
            ]
           },
           {
            "iteration": 395,
            "learn": [
             0.1467475316
            ],
            "passed_time": 26.71402328,
            "remaining_time": 40.74563147,
            "test": [
             0.1376989138
            ]
           },
           {
            "iteration": 396,
            "learn": [
             0.1467404929
            ],
            "passed_time": 26.77330639,
            "remaining_time": 40.66575253,
            "test": [
             0.1377018403
            ]
           },
           {
            "iteration": 397,
            "learn": [
             0.1467183298
            ],
            "passed_time": 26.84692586,
            "remaining_time": 40.60766173,
            "test": [
             0.137684379
            ]
           },
           {
            "iteration": 398,
            "learn": [
             0.1467013547
            ],
            "passed_time": 26.89864162,
            "remaining_time": 40.51650028,
            "test": [
             0.1376945477
            ]
           },
           {
            "iteration": 399,
            "learn": [
             0.14664736
            ],
            "passed_time": 26.98086367,
            "remaining_time": 40.47129551,
            "test": [
             0.1376815957
            ]
           },
           {
            "iteration": 400,
            "learn": [
             0.146613388
            ],
            "passed_time": 27.04396276,
            "remaining_time": 40.39734087,
            "test": [
             0.1376921311
            ]
           },
           {
            "iteration": 401,
            "learn": [
             0.146600176
            ],
            "passed_time": 27.13695215,
            "remaining_time": 40.36790394,
            "test": [
             0.1376772355
            ]
           },
           {
            "iteration": 402,
            "learn": [
             0.146582324
            ],
            "passed_time": 27.20806904,
            "remaining_time": 40.30574992,
            "test": [
             0.1376449903
            ]
           },
           {
            "iteration": 403,
            "learn": [
             0.1465823236
            ],
            "passed_time": 27.24383614,
            "remaining_time": 40.19140183,
            "test": [
             0.1376449922
            ]
           },
           {
            "iteration": 404,
            "learn": [
             0.1465681981
            ],
            "passed_time": 27.30066818,
            "remaining_time": 40.10838905,
            "test": [
             0.1376325396
            ]
           },
           {
            "iteration": 405,
            "learn": [
             0.1465360407
            ],
            "passed_time": 27.36364742,
            "remaining_time": 40.03449894,
            "test": [
             0.1376443508
            ]
           },
           {
            "iteration": 406,
            "learn": [
             0.1465126312
            ],
            "passed_time": 27.43837019,
            "remaining_time": 39.97777278,
            "test": [
             0.137655278
            ]
           },
           {
            "iteration": 407,
            "learn": [
             0.1464765979
            ],
            "passed_time": 27.54078052,
            "remaining_time": 39.96113252,
            "test": [
             0.1376417897
            ]
           },
           {
            "iteration": 408,
            "learn": [
             0.146471879
            ],
            "passed_time": 27.62865782,
            "remaining_time": 39.92307279,
            "test": [
             0.1376310163
            ]
           },
           {
            "iteration": 409,
            "learn": [
             0.1464646542
            ],
            "passed_time": 27.72173373,
            "remaining_time": 39.89225097,
            "test": [
             0.1376369296
            ]
           },
           {
            "iteration": 410,
            "learn": [
             0.1464505403
            ],
            "passed_time": 27.79849514,
            "remaining_time": 39.83774608,
            "test": [
             0.1376218045
            ]
           },
           {
            "iteration": 411,
            "learn": [
             0.1464255424
            ],
            "passed_time": 27.88466181,
            "remaining_time": 39.79655617,
            "test": [
             0.1375912786
            ]
           },
           {
            "iteration": 412,
            "learn": [
             0.1464087101
            ],
            "passed_time": 27.93067701,
            "remaining_time": 39.69808089,
            "test": [
             0.1375787822
            ]
           },
           {
            "iteration": 413,
            "learn": [
             0.14638832
            ],
            "passed_time": 28.00313118,
            "remaining_time": 39.63728229,
            "test": [
             0.1375705204
            ]
           },
           {
            "iteration": 414,
            "learn": [
             0.1463698425
            ],
            "passed_time": 28.06545989,
            "remaining_time": 39.56215431,
            "test": [
             0.1375820021
            ]
           },
           {
            "iteration": 415,
            "learn": [
             0.1463495471
            ],
            "passed_time": 28.14515755,
            "remaining_time": 39.51147117,
            "test": [
             0.1375930439
            ]
           },
           {
            "iteration": 416,
            "learn": [
             0.1463357545
            ],
            "passed_time": 28.21415505,
            "remaining_time": 39.4456892,
            "test": [
             0.1375850213
            ]
           },
           {
            "iteration": 417,
            "learn": [
             0.1462771078
            ],
            "passed_time": 28.28620026,
            "remaining_time": 39.38413529,
            "test": [
             0.1375377425
            ]
           },
           {
            "iteration": 418,
            "learn": [
             0.1462282265
            ],
            "passed_time": 28.35956061,
            "remaining_time": 39.32435492,
            "test": [
             0.1375410186
            ]
           },
           {
            "iteration": 419,
            "learn": [
             0.1462182111
            ],
            "passed_time": 28.42204054,
            "remaining_time": 39.24948456,
            "test": [
             0.1375421565
            ]
           },
           {
            "iteration": 420,
            "learn": [
             0.1461714395
            ],
            "passed_time": 28.49545596,
            "remaining_time": 39.18971259,
            "test": [
             0.1375305687
            ]
           },
           {
            "iteration": 421,
            "learn": [
             0.1461549596
            ],
            "passed_time": 28.54369746,
            "remaining_time": 39.09539605,
            "test": [
             0.1375300207
            ]
           },
           {
            "iteration": 422,
            "learn": [
             0.1461447797
            ],
            "passed_time": 28.64503674,
            "remaining_time": 39.07372624,
            "test": [
             0.1375332632
            ]
           },
           {
            "iteration": 423,
            "learn": [
             0.1461312996
            ],
            "passed_time": 28.71367028,
            "remaining_time": 39.00725019,
            "test": [
             0.1375221582
            ]
           },
           {
            "iteration": 424,
            "learn": [
             0.1461155806
            ],
            "passed_time": 28.77926733,
            "remaining_time": 38.9366558,
            "test": [
             0.1375160905
            ]
           },
           {
            "iteration": 425,
            "learn": [
             0.1461036513
            ],
            "passed_time": 28.84156782,
            "remaining_time": 38.86164303,
            "test": [
             0.1375100658
            ]
           },
           {
            "iteration": 426,
            "learn": [
             0.1460773721
            ],
            "passed_time": 28.91438135,
            "remaining_time": 38.80079745,
            "test": [
             0.1375073473
            ]
           },
           {
            "iteration": 427,
            "learn": [
             0.1460223244
            ],
            "passed_time": 28.98710377,
            "remaining_time": 38.7397742,
            "test": [
             0.1375154054
            ]
           },
           {
            "iteration": 428,
            "learn": [
             0.1460154167
            ],
            "passed_time": 29.04864448,
            "remaining_time": 38.66381351,
            "test": [
             0.1375053185
            ]
           },
           {
            "iteration": 429,
            "learn": [
             0.1459975052
            ],
            "passed_time": 29.091336,
            "remaining_time": 38.56293376,
            "test": [
             0.1374958222
            ]
           },
           {
            "iteration": 430,
            "learn": [
             0.1459423236
            ],
            "passed_time": 29.16009759,
            "remaining_time": 38.49674136,
            "test": [
             0.1374445039
            ]
           },
           {
            "iteration": 431,
            "learn": [
             0.1458930314
            ],
            "passed_time": 29.24510334,
            "remaining_time": 38.45189513,
            "test": [
             0.137450382
            ]
           },
           {
            "iteration": 432,
            "learn": [
             0.1458589855
            ],
            "passed_time": 29.31012034,
            "remaining_time": 38.38068876,
            "test": [
             0.1374171584
            ]
           },
           {
            "iteration": 433,
            "learn": [
             0.1458204793
            ],
            "passed_time": 29.38532039,
            "remaining_time": 38.32279111,
            "test": [
             0.137396978
            ]
           },
           {
            "iteration": 434,
            "learn": [
             0.1457813031
            ],
            "passed_time": 29.45655398,
            "remaining_time": 38.25966206,
            "test": [
             0.1374002416
            ]
           },
           {
            "iteration": 435,
            "learn": [
             0.1457664817
            ],
            "passed_time": 29.53317835,
            "remaining_time": 38.20346925,
            "test": [
             0.1373892445
            ]
           },
           {
            "iteration": 436,
            "learn": [
             0.1457296735
            ],
            "passed_time": 29.65545161,
            "remaining_time": 38.20599373,
            "test": [
             0.137369291
            ]
           },
           {
            "iteration": 437,
            "learn": [
             0.1457198271
            ],
            "passed_time": 29.70279531,
            "remaining_time": 38.11180585,
            "test": [
             0.1373785459
            ]
           },
           {
            "iteration": 438,
            "learn": [
             0.1456860228
            ],
            "passed_time": 29.77837313,
            "remaining_time": 38.0539119,
            "test": [
             0.1374097971
            ]
           },
           {
            "iteration": 439,
            "learn": [
             0.1456501664
            ],
            "passed_time": 29.8287154,
            "remaining_time": 37.9638196,
            "test": [
             0.1373829328
            ]
           },
           {
            "iteration": 440,
            "learn": [
             0.1456104969
            ],
            "passed_time": 29.87188726,
            "remaining_time": 37.86481854,
            "test": [
             0.1374234776
            ]
           },
           {
            "iteration": 441,
            "learn": [
             0.1455974945
            ],
            "passed_time": 29.94005998,
            "remaining_time": 37.79763228,
            "test": [
             0.1374194306
            ]
           },
           {
            "iteration": 442,
            "learn": [
             0.1455804908
            ],
            "passed_time": 30.02330502,
            "remaining_time": 37.74939254,
            "test": [
             0.1374059854
            ]
           },
           {
            "iteration": 443,
            "learn": [
             0.1455804858
            ],
            "passed_time": 30.06052488,
            "remaining_time": 37.64335999,
            "test": [
             0.1374060114
            ]
           },
           {
            "iteration": 444,
            "learn": [
             0.1455244758
            ],
            "passed_time": 30.12616205,
            "remaining_time": 37.57307851,
            "test": [
             0.1373914487
            ]
           },
           {
            "iteration": 445,
            "learn": [
             0.1454987195
            ],
            "passed_time": 30.20791813,
            "remaining_time": 37.52284,
            "test": [
             0.1373738173
            ]
           },
           {
            "iteration": 446,
            "learn": [
             0.1454657077
            ],
            "passed_time": 30.26665984,
            "remaining_time": 37.44398857,
            "test": [
             0.1373952151
            ]
           },
           {
            "iteration": 447,
            "learn": [
             0.1454534874
            ],
            "passed_time": 30.34444769,
            "remaining_time": 37.38869447,
            "test": [
             0.1373968625
            ]
           },
           {
            "iteration": 448,
            "learn": [
             0.1454438584
            ],
            "passed_time": 30.40871982,
            "remaining_time": 37.31671407,
            "test": [
             0.1374011022
            ]
           },
           {
            "iteration": 449,
            "learn": [
             0.1453609736
            ],
            "passed_time": 30.47265565,
            "remaining_time": 37.24435691,
            "test": [
             0.1373667008
            ]
           },
           {
            "iteration": 450,
            "learn": [
             0.1453260387
            ],
            "passed_time": 30.54302033,
            "remaining_time": 37.17986289,
            "test": [
             0.1373827576
            ]
           },
           {
            "iteration": 451,
            "learn": [
             0.1452502107
            ],
            "passed_time": 30.67205943,
            "remaining_time": 37.18647913,
            "test": [
             0.1373842991
            ]
           },
           {
            "iteration": 452,
            "learn": [
             0.1452443782
            ],
            "passed_time": 30.74289989,
            "remaining_time": 37.12222129,
            "test": [
             0.1373811364
            ]
           },
           {
            "iteration": 453,
            "learn": [
             0.145225627
            ],
            "passed_time": 30.8179931,
            "remaining_time": 37.06304897,
            "test": [
             0.1373725322
            ]
           },
           {
            "iteration": 454,
            "learn": [
             0.1451782649
            ],
            "passed_time": 30.89045805,
            "remaining_time": 37.00065855,
            "test": [
             0.1373459287
            ]
           },
           {
            "iteration": 455,
            "learn": [
             0.145162922
            ],
            "passed_time": 30.96033359,
            "remaining_time": 36.93513481,
            "test": [
             0.1373483765
            ]
           },
           {
            "iteration": 456,
            "learn": [
             0.1451400197
            ],
            "passed_time": 31.04172588,
            "remaining_time": 36.88327604,
            "test": [
             0.1373270443
            ]
           },
           {
            "iteration": 457,
            "learn": [
             0.1450936756
            ],
            "passed_time": 31.12682328,
            "remaining_time": 36.83567296,
            "test": [
             0.1373247763
            ]
           },
           {
            "iteration": 458,
            "learn": [
             0.1450627089
            ],
            "passed_time": 31.20486397,
            "remaining_time": 36.77958912,
            "test": [
             0.1373122656
            ]
           },
           {
            "iteration": 459,
            "learn": [
             0.1450281963
            ],
            "passed_time": 31.30062743,
            "remaining_time": 36.74421481,
            "test": [
             0.1372950897
            ]
           },
           {
            "iteration": 460,
            "learn": [
             0.1450072192
            ],
            "passed_time": 31.3797301,
            "remaining_time": 36.68909874,
            "test": [
             0.1372941449
            ]
           },
           {
            "iteration": 461,
            "learn": [
             0.144987383
            ],
            "passed_time": 31.47521592,
            "remaining_time": 36.65295707,
            "test": [
             0.1372773453
            ]
           },
           {
            "iteration": 462,
            "learn": [
             0.1449782475
            ],
            "passed_time": 31.55816035,
            "remaining_time": 36.60201319,
            "test": [
             0.1372817683
            ]
           },
           {
            "iteration": 463,
            "learn": [
             0.1449624098
            ],
            "passed_time": 31.6707811,
            "remaining_time": 36.58521265,
            "test": [
             0.1372735583
            ]
           },
           {
            "iteration": 464,
            "learn": [
             0.1449493389
            ],
            "passed_time": 31.7775654,
            "remaining_time": 36.56128492,
            "test": [
             0.1372610972
            ]
           },
           {
            "iteration": 465,
            "learn": [
             0.1449379792
            ],
            "passed_time": 31.87676965,
            "remaining_time": 36.52831543,
            "test": [
             0.1372630444
            ]
           },
           {
            "iteration": 466,
            "learn": [
             0.1449038015
            ],
            "passed_time": 31.96096377,
            "remaining_time": 36.47793082,
            "test": [
             0.1372640032
            ]
           },
           {
            "iteration": 467,
            "learn": [
             0.1448762092
            ],
            "passed_time": 32.04686879,
            "remaining_time": 36.42934658,
            "test": [
             0.1372378508
            ]
           },
           {
            "iteration": 468,
            "learn": [
             0.1448480127
            ],
            "passed_time": 32.11221753,
            "remaining_time": 36.35732944,
            "test": [
             0.1372462482
            ]
           },
           {
            "iteration": 469,
            "learn": [
             0.1448035824
            ],
            "passed_time": 32.20040959,
            "remaining_time": 36.31110017,
            "test": [
             0.1372225251
            ]
           },
           {
            "iteration": 470,
            "learn": [
             0.1447935301
            ],
            "passed_time": 32.29728583,
            "remaining_time": 36.27444629,
            "test": [
             0.1372226236
            ]
           },
           {
            "iteration": 471,
            "learn": [
             0.1447623912
            ],
            "passed_time": 32.37698721,
            "remaining_time": 36.21832468,
            "test": [
             0.137213219
            ]
           },
           {
            "iteration": 472,
            "learn": [
             0.1447109
            ],
            "passed_time": 32.46031619,
            "remaining_time": 36.1661451,
            "test": [
             0.137204003
            ]
           },
           {
            "iteration": 473,
            "learn": [
             0.1446621236
            ],
            "passed_time": 32.50113737,
            "remaining_time": 36.06666299,
            "test": [
             0.1371973859
            ]
           },
           {
            "iteration": 474,
            "learn": [
             0.1446477198
            ],
            "passed_time": 32.56546163,
            "remaining_time": 35.99340496,
            "test": [
             0.1372001003
            ]
           },
           {
            "iteration": 475,
            "learn": [
             0.1446234564
            ],
            "passed_time": 32.63829065,
            "remaining_time": 35.92954685,
            "test": [
             0.1371971234
            ]
           },
           {
            "iteration": 476,
            "learn": [
             0.1446011504
            ],
            "passed_time": 32.72915053,
            "remaining_time": 35.88542081,
            "test": [
             0.1372143905
            ]
           },
           {
            "iteration": 477,
            "learn": [
             0.144531175
            ],
            "passed_time": 32.84614009,
            "remaining_time": 35.86963416,
            "test": [
             0.1371464755
            ]
           },
           {
            "iteration": 478,
            "learn": [
             0.1445002073
            ],
            "passed_time": 32.92280378,
            "remaining_time": 35.80956319,
            "test": [
             0.1371544679
            ]
           },
           {
            "iteration": 479,
            "learn": [
             0.1444524187
            ],
            "passed_time": 32.99447156,
            "remaining_time": 35.74401086,
            "test": [
             0.1371500448
            ]
           },
           {
            "iteration": 480,
            "learn": [
             0.1444072264
            ],
            "passed_time": 33.05985275,
            "remaining_time": 35.67164985,
            "test": [
             0.1371467375
            ]
           },
           {
            "iteration": 481,
            "learn": [
             0.1443788106
            ],
            "passed_time": 33.14850096,
            "remaining_time": 35.62432261,
            "test": [
             0.1371383052
            ]
           },
           {
            "iteration": 482,
            "learn": [
             0.1443640919
            ],
            "passed_time": 33.22935338,
            "remaining_time": 35.5684797,
            "test": [
             0.1371155354
            ]
           },
           {
            "iteration": 483,
            "learn": [
             0.1443160124
            ],
            "passed_time": 33.33047013,
            "remaining_time": 35.53413758,
            "test": [
             0.1371000277
            ]
           },
           {
            "iteration": 484,
            "learn": [
             0.1442962331
            ],
            "passed_time": 33.39747881,
            "remaining_time": 35.46330225,
            "test": [
             0.1370947088
            ]
           },
           {
            "iteration": 485,
            "learn": [
             0.1442626989
            ],
            "passed_time": 33.48222606,
            "remaining_time": 35.4112432,
            "test": [
             0.1370923815
            ]
           },
           {
            "iteration": 486,
            "learn": [
             0.1442016254
            ],
            "passed_time": 33.54396776,
            "remaining_time": 35.33481614,
            "test": [
             0.1370714289
            ]
           },
           {
            "iteration": 487,
            "learn": [
             0.1441283975
            ],
            "passed_time": 33.61735296,
            "remaining_time": 35.2706654,
            "test": [
             0.1370462716
            ]
           },
           {
            "iteration": 488,
            "learn": [
             0.14410927
            ],
            "passed_time": 33.69879677,
            "remaining_time": 35.21489806,
            "test": [
             0.1370403038
            ]
           },
           {
            "iteration": 489,
            "learn": [
             0.1441033329
            ],
            "passed_time": 33.80790878,
            "remaining_time": 35.18782343,
            "test": [
             0.1370323088
            ]
           },
           {
            "iteration": 490,
            "learn": [
             0.1440745179
            ],
            "passed_time": 33.88075876,
            "remaining_time": 35.12282324,
            "test": [
             0.1370225476
            ]
           },
           {
            "iteration": 491,
            "learn": [
             0.1440521078
            ],
            "passed_time": 33.95465158,
            "remaining_time": 35.05886789,
            "test": [
             0.1370279181
            ]
           },
           {
            "iteration": 492,
            "learn": [
             0.1439811337
            ],
            "passed_time": 34.0402336,
            "remaining_time": 35.00689338,
            "test": [
             0.1370278259
            ]
           },
           {
            "iteration": 493,
            "learn": [
             0.1439725753
            ],
            "passed_time": 34.09685412,
            "remaining_time": 34.92511779,
            "test": [
             0.1370376407
            ]
           },
           {
            "iteration": 494,
            "learn": [
             0.1439295159
            ],
            "passed_time": 34.16563709,
            "remaining_time": 34.85585198,
            "test": [
             0.1370356351
            ]
           },
           {
            "iteration": 495,
            "learn": [
             0.1438917397
            ],
            "passed_time": 34.24457253,
            "remaining_time": 34.79690435,
            "test": [
             0.1370373553
            ]
           },
           {
            "iteration": 496,
            "learn": [
             0.1438803509
            ],
            "passed_time": 34.33173427,
            "remaining_time": 34.74620188,
            "test": [
             0.1370498396
            ]
           },
           {
            "iteration": 497,
            "learn": [
             0.143847292
            ],
            "passed_time": 34.40075465,
            "remaining_time": 34.67706593,
            "test": [
             0.1370572889
            ]
           },
           {
            "iteration": 498,
            "learn": [
             0.1438239908
            ],
            "passed_time": 34.46143084,
            "remaining_time": 34.59955281,
            "test": [
             0.1370571129
            ]
           },
           {
            "iteration": 499,
            "learn": [
             0.1438174711
            ],
            "passed_time": 34.50787146,
            "remaining_time": 34.50787146,
            "test": [
             0.1370628973
            ]
           },
           {
            "iteration": 500,
            "learn": [
             0.1438034517
            ],
            "passed_time": 34.57542164,
            "remaining_time": 34.437396,
            "test": [
             0.1370497847
            ]
           },
           {
            "iteration": 501,
            "learn": [
             0.1437980405
            ],
            "passed_time": 34.63933466,
            "remaining_time": 34.36332402,
            "test": [
             0.1370424965
            ]
           },
           {
            "iteration": 502,
            "learn": [
             0.1437922585
            ],
            "passed_time": 34.70971713,
            "remaining_time": 34.29568472,
            "test": [
             0.1370516097
            ]
           },
           {
            "iteration": 503,
            "learn": [
             0.1437525329
            ],
            "passed_time": 34.83204739,
            "remaining_time": 34.27915775,
            "test": [
             0.1370349581
            ]
           },
           {
            "iteration": 504,
            "learn": [
             0.1436997288
            ],
            "passed_time": 34.91643104,
            "remaining_time": 34.22501656,
            "test": [
             0.1370382737
            ]
           },
           {
            "iteration": 505,
            "learn": [
             0.1436622401
            ],
            "passed_time": 35.00712501,
            "remaining_time": 34.17691651,
            "test": [
             0.1370264157
            ]
           },
           {
            "iteration": 506,
            "learn": [
             0.1436185723
            ],
            "passed_time": 35.05981306,
            "remaining_time": 34.09169199,
            "test": [
             0.1370267345
            ]
           },
           {
            "iteration": 507,
            "learn": [
             0.1435991537
            ],
            "passed_time": 35.15328582,
            "remaining_time": 34.04609572,
            "test": [
             0.137019062
            ]
           },
           {
            "iteration": 508,
            "learn": [
             0.1435741127
            ],
            "passed_time": 35.2253141,
            "remaining_time": 33.97962519,
            "test": [
             0.1370303547
            ]
           },
           {
            "iteration": 509,
            "learn": [
             0.1435309114
            ],
            "passed_time": 35.30244133,
            "remaining_time": 33.91803186,
            "test": [
             0.1370205456
            ]
           },
           {
            "iteration": 510,
            "learn": [
             0.1434998529
            ],
            "passed_time": 35.38881644,
            "remaining_time": 33.86522747,
            "test": [
             0.1369917668
            ]
           },
           {
            "iteration": 511,
            "learn": [
             0.1434917173
            ],
            "passed_time": 35.45271212,
            "remaining_time": 33.79086624,
            "test": [
             0.137002133
            ]
           },
           {
            "iteration": 512,
            "learn": [
             0.1434852
            ],
            "passed_time": 35.51329421,
            "remaining_time": 33.71340016,
            "test": [
             0.1370028213
            ]
           },
           {
            "iteration": 513,
            "learn": [
             0.1434740239
            ],
            "passed_time": 35.58408788,
            "remaining_time": 33.64565508,
            "test": [
             0.1370171117
            ]
           },
           {
            "iteration": 514,
            "learn": [
             0.1434411502
            ],
            "passed_time": 35.64773763,
            "remaining_time": 33.57117039,
            "test": [
             0.1370166619
            ]
           },
           {
            "iteration": 515,
            "learn": [
             0.1434350935
            ],
            "passed_time": 35.70198385,
            "remaining_time": 33.48790733,
            "test": [
             0.1370240617
            ]
           },
           {
            "iteration": 516,
            "learn": [
             0.1433964033
            ],
            "passed_time": 35.80407605,
            "remaining_time": 33.44945596,
            "test": [
             0.1370052094
            ]
           },
           {
            "iteration": 517,
            "learn": [
             0.1433428588
            ],
            "passed_time": 35.89285426,
            "remaining_time": 33.39837018,
            "test": [
             0.1370058389
            ]
           },
           {
            "iteration": 518,
            "learn": [
             0.143318393
            ],
            "passed_time": 35.96380585,
            "remaining_time": 33.33061775,
            "test": [
             0.1369925802
            ]
           },
           {
            "iteration": 519,
            "learn": [
             0.1433070385
            ],
            "passed_time": 36.05014491,
            "remaining_time": 33.27705684,
            "test": [
             0.1369796923
            ]
           },
           {
            "iteration": 520,
            "learn": [
             0.1432628124
            ],
            "passed_time": 36.11722934,
            "remaining_time": 33.20566767,
            "test": [
             0.1369506225
            ]
           },
           {
            "iteration": 521,
            "learn": [
             0.1432317806
            ],
            "passed_time": 36.18596659,
            "remaining_time": 33.13580849,
            "test": [
             0.1369223329
            ]
           },
           {
            "iteration": 522,
            "learn": [
             0.1431957892
            ],
            "passed_time": 36.26100486,
            "remaining_time": 33.07170042,
            "test": [
             0.1369003586
            ]
           },
           {
            "iteration": 523,
            "learn": [
             0.1431570069
            ],
            "passed_time": 36.34141397,
            "remaining_time": 33.01242949,
            "test": [
             0.1369097632
            ]
           },
           {
            "iteration": 524,
            "learn": [
             0.14315091
            ],
            "passed_time": 36.40396876,
            "remaining_time": 32.93692412,
            "test": [
             0.1369105796
            ]
           },
           {
            "iteration": 525,
            "learn": [
             0.1431003426
            ],
            "passed_time": 36.47903271,
            "remaining_time": 32.87274051,
            "test": [
             0.1369200144
            ]
           },
           {
            "iteration": 526,
            "learn": [
             0.1430858273
            ],
            "passed_time": 36.54266274,
            "remaining_time": 32.79825328,
            "test": [
             0.1369247884
            ]
           },
           {
            "iteration": 527,
            "learn": [
             0.1430428643
            ],
            "passed_time": 36.61863396,
            "remaining_time": 32.73483945,
            "test": [
             0.1369165193
            ]
           },
           {
            "iteration": 528,
            "learn": [
             0.1430243878
            ],
            "passed_time": 36.68895615,
            "remaining_time": 32.66634848,
            "test": [
             0.1369257601
            ]
           },
           {
            "iteration": 529,
            "learn": [
             0.1430131053
            ],
            "passed_time": 36.74635318,
            "remaining_time": 32.58638867,
            "test": [
             0.1369116043
            ]
           },
           {
            "iteration": 530,
            "learn": [
             0.1429716682
            ],
            "passed_time": 36.83867873,
            "remaining_time": 32.53736408,
            "test": [
             0.136906134
            ]
           },
           {
            "iteration": 531,
            "learn": [
             0.1429295308
            ],
            "passed_time": 36.91360495,
            "remaining_time": 32.47287052,
            "test": [
             0.1368939725
            ]
           },
           {
            "iteration": 532,
            "learn": [
             0.1429003607
            ],
            "passed_time": 36.98206691,
            "remaining_time": 32.40267401,
            "test": [
             0.1369095674
            ]
           },
           {
            "iteration": 533,
            "learn": [
             0.1428901234
            ],
            "passed_time": 37.02738714,
            "remaining_time": 32.31228915,
            "test": [
             0.1369037714
            ]
           },
           {
            "iteration": 534,
            "learn": [
             0.1428499191
            ],
            "passed_time": 37.08861245,
            "remaining_time": 32.2358968,
            "test": [
             0.1368756715
            ]
           },
           {
            "iteration": 535,
            "learn": [
             0.1427959512
            ],
            "passed_time": 37.16997154,
            "remaining_time": 32.17699029,
            "test": [
             0.1368491487
            ]
           },
           {
            "iteration": 536,
            "learn": [
             0.1427477817
            ],
            "passed_time": 37.2395594,
            "remaining_time": 32.10785103,
            "test": [
             0.1368552958
            ]
           },
           {
            "iteration": 537,
            "learn": [
             0.1427279615
            ],
            "passed_time": 37.31749589,
            "remaining_time": 32.04587937,
            "test": [
             0.1368760984
            ]
           },
           {
            "iteration": 538,
            "learn": [
             0.1427113203
            ],
            "passed_time": 37.40557838,
            "remaining_time": 31.99252622,
            "test": [
             0.1368717485
            ]
           },
           {
            "iteration": 539,
            "learn": [
             0.1426715404
            ],
            "passed_time": 37.48539767,
            "remaining_time": 31.93200542,
            "test": [
             0.1368741156
            ]
           },
           {
            "iteration": 540,
            "learn": [
             0.1426504535
            ],
            "passed_time": 37.55842581,
            "remaining_time": 31.86565147,
            "test": [
             0.1368808932
            ]
           },
           {
            "iteration": 541,
            "learn": [
             0.1426219366
            ],
            "passed_time": 37.65098942,
            "remaining_time": 31.81578073,
            "test": [
             0.1368585895
            ]
           },
           {
            "iteration": 542,
            "learn": [
             0.142612754
            ],
            "passed_time": 37.70263668,
            "remaining_time": 31.73131669,
            "test": [
             0.1368657373
            ]
           },
           {
            "iteration": 543,
            "learn": [
             0.1426026412
            ],
            "passed_time": 37.75865557,
            "remaining_time": 31.65063776,
            "test": [
             0.1368795682
            ]
           },
           {
            "iteration": 544,
            "learn": [
             0.1425687462
            ],
            "passed_time": 37.81927035,
            "remaining_time": 31.57388625,
            "test": [
             0.1368946424
            ]
           },
           {
            "iteration": 545,
            "learn": [
             0.1425324959
            ],
            "passed_time": 37.92454641,
            "remaining_time": 31.5343298,
            "test": [
             0.1368692398
            ]
           },
           {
            "iteration": 546,
            "learn": [
             0.1425236654
            ],
            "passed_time": 38.000172,
            "remaining_time": 31.46997791,
            "test": [
             0.1368738699
            ]
           },
           {
            "iteration": 547,
            "learn": [
             0.1424468566
            ],
            "passed_time": 38.07341814,
            "remaining_time": 31.40362226,
            "test": [
             0.1368849975
            ]
           },
           {
            "iteration": 548,
            "learn": [
             0.1423938746
            ],
            "passed_time": 38.17676768,
            "remaining_time": 31.36197126,
            "test": [
             0.1368618862
            ]
           },
           {
            "iteration": 549,
            "learn": [
             0.1423801928
            ],
            "passed_time": 38.27368152,
            "remaining_time": 31.31483033,
            "test": [
             0.136864058
            ]
           },
           {
            "iteration": 550,
            "learn": [
             0.1423699843
            ],
            "passed_time": 38.35004429,
            "remaining_time": 31.25076204,
            "test": [
             0.1368585115
            ]
           },
           {
            "iteration": 551,
            "learn": [
             0.1423302076
            ],
            "passed_time": 38.43782892,
            "remaining_time": 31.19591912,
            "test": [
             0.1368115971
            ]
           },
           {
            "iteration": 552,
            "learn": [
             0.1422985793
            ],
            "passed_time": 38.50271335,
            "remaining_time": 31.12244641,
            "test": [
             0.1368022296
            ]
           },
           {
            "iteration": 553,
            "learn": [
             0.1422481617
            ],
            "passed_time": 38.59387681,
            "remaining_time": 31.07016076,
            "test": [
             0.1367740325
            ]
           },
           {
            "iteration": 554,
            "learn": [
             0.1422089815
            ],
            "passed_time": 38.66675447,
            "remaining_time": 31.0030734,
            "test": [
             0.1367891382
            ]
           },
           {
            "iteration": 555,
            "learn": [
             0.1421695816
            ],
            "passed_time": 38.74187861,
            "remaining_time": 30.93775918,
            "test": [
             0.136803216
            ]
           },
           {
            "iteration": 556,
            "learn": [
             0.1421419374
            ],
            "passed_time": 38.80570329,
            "remaining_time": 30.8634229,
            "test": [
             0.1367996047
            ]
           },
           {
            "iteration": 557,
            "learn": [
             0.1421333495
            ],
            "passed_time": 38.86373902,
            "remaining_time": 30.7845388,
            "test": [
             0.1368070487
            ]
           },
           {
            "iteration": 558,
            "learn": [
             0.1420959789
            ],
            "passed_time": 39.14619513,
            "remaining_time": 30.88277648,
            "test": [
             0.1368082195
            ]
           },
           {
            "iteration": 559,
            "learn": [
             0.142066115
            ],
            "passed_time": 39.22664391,
            "remaining_time": 30.8209345,
            "test": [
             0.136796808
            ]
           },
           {
            "iteration": 560,
            "learn": [
             0.1420502192
            ],
            "passed_time": 39.30502912,
            "remaining_time": 30.75741138,
            "test": [
             0.1368028811
            ]
           },
           {
            "iteration": 561,
            "learn": [
             0.1420278179
            ],
            "passed_time": 39.36995678,
            "remaining_time": 30.6833471,
            "test": [
             0.1368138679
            ]
           },
           {
            "iteration": 562,
            "learn": [
             0.1419913711
            ],
            "passed_time": 39.4639839,
            "remaining_time": 30.63190224,
            "test": [
             0.1368098337
            ]
           },
           {
            "iteration": 563,
            "learn": [
             0.1419847193
            ],
            "passed_time": 39.5181146,
            "remaining_time": 30.54946448,
            "test": [
             0.1368043003
            ]
           },
           {
            "iteration": 564,
            "learn": [
             0.1419690659
            ],
            "passed_time": 39.58320546,
            "remaining_time": 30.47556527,
            "test": [
             0.1368006039
            ]
           },
           {
            "iteration": 565,
            "learn": [
             0.1419544589
            ],
            "passed_time": 39.64447361,
            "remaining_time": 30.39876598,
            "test": [
             0.1368117212
            ]
           },
           {
            "iteration": 566,
            "learn": [
             0.1419313502
            ],
            "passed_time": 39.6995281,
            "remaining_time": 30.31727631,
            "test": [
             0.1368024982
            ]
           },
           {
            "iteration": 567,
            "learn": [
             0.1418982924
            ],
            "passed_time": 39.75827978,
            "remaining_time": 30.23869167,
            "test": [
             0.1368067319
            ]
           },
           {
            "iteration": 568,
            "learn": [
             0.1418472502
            ],
            "passed_time": 39.83880528,
            "remaining_time": 30.17666973,
            "test": [
             0.1367771214
            ]
           },
           {
            "iteration": 569,
            "learn": [
             0.1418330907
            ],
            "passed_time": 39.90761789,
            "remaining_time": 30.10574683,
            "test": [
             0.1367689374
            ]
           },
           {
            "iteration": 570,
            "learn": [
             0.141818954
            ],
            "passed_time": 39.97102916,
            "remaining_time": 30.03077322,
            "test": [
             0.1367687127
            ]
           },
           {
            "iteration": 571,
            "learn": [
             0.1418049901
            ],
            "passed_time": 40.04568373,
            "remaining_time": 29.96425286,
            "test": [
             0.1367634938
            ]
           },
           {
            "iteration": 572,
            "learn": [
             0.1417641611
            ],
            "passed_time": 40.1779127,
            "remaining_time": 29.94060859,
            "test": [
             0.1367560166
            ]
           },
           {
            "iteration": 573,
            "learn": [
             0.1417287591
            ],
            "passed_time": 40.23604472,
            "remaining_time": 29.86159416,
            "test": [
             0.1367637686
            ]
           },
           {
            "iteration": 574,
            "learn": [
             0.1416928141
            ],
            "passed_time": 40.31096225,
            "remaining_time": 29.79505905,
            "test": [
             0.1367436997
            ]
           },
           {
            "iteration": 575,
            "learn": [
             0.1416864911
            ],
            "passed_time": 40.37537273,
            "remaining_time": 29.72076048,
            "test": [
             0.1367385639
            ]
           },
           {
            "iteration": 576,
            "learn": [
             0.1416585708
            ],
            "passed_time": 40.45847654,
            "remaining_time": 29.66020031,
            "test": [
             0.1367569276
            ]
           },
           {
            "iteration": 577,
            "learn": [
             0.1416452724
            ],
            "passed_time": 40.53014304,
            "remaining_time": 29.5912117,
            "test": [
             0.1367495185
            ]
           },
           {
            "iteration": 578,
            "learn": [
             0.1416316814
            ],
            "passed_time": 40.58263826,
            "remaining_time": 29.5082741,
            "test": [
             0.1367607553
            ]
           },
           {
            "iteration": 579,
            "learn": [
             0.1415946759
            ],
            "passed_time": 40.66655121,
            "remaining_time": 29.44819226,
            "test": [
             0.1367581356
            ]
           },
           {
            "iteration": 580,
            "learn": [
             0.1415747115
            ],
            "passed_time": 40.73696678,
            "remaining_time": 29.37829446,
            "test": [
             0.136748975
            ]
           },
           {
            "iteration": 581,
            "learn": [
             0.1415703575
            ],
            "passed_time": 40.79697805,
            "remaining_time": 29.30092238,
            "test": [
             0.1367488839
            ]
           },
           {
            "iteration": 582,
            "learn": [
             0.1415628008
            ],
            "passed_time": 40.84020205,
            "remaining_time": 29.2116025,
            "test": [
             0.136756185
            ]
           },
           {
            "iteration": 583,
            "learn": [
             0.1415225107
            ],
            "passed_time": 40.91198355,
            "remaining_time": 29.14278281,
            "test": [
             0.1367359854
            ]
           },
           {
            "iteration": 584,
            "learn": [
             0.1415225037
            ],
            "passed_time": 40.97015623,
            "remaining_time": 29.06429886,
            "test": [
             0.1367360028
            ]
           },
           {
            "iteration": 585,
            "learn": [
             0.1415031178
            ],
            "passed_time": 41.03591203,
            "remaining_time": 28.99124161,
            "test": [
             0.1367335577
            ]
           },
           {
            "iteration": 586,
            "learn": [
             0.1414613017
            ],
            "passed_time": 41.11468468,
            "remaining_time": 28.92736759,
            "test": [
             0.1367379398
            ]
           },
           {
            "iteration": 587,
            "learn": [
             0.1414473895
            ],
            "passed_time": 41.2173594,
            "remaining_time": 28.8801906,
            "test": [
             0.1367544631
            ]
           },
           {
            "iteration": 588,
            "learn": [
             0.141418784
            ],
            "passed_time": 41.29554449,
            "remaining_time": 28.81573648,
            "test": [
             0.1367522308
            ]
           },
           {
            "iteration": 589,
            "learn": [
             0.1413627079
            ],
            "passed_time": 41.37731206,
            "remaining_time": 28.75372533,
            "test": [
             0.1367837606
            ]
           },
           {
            "iteration": 590,
            "learn": [
             0.1413421287
            ],
            "passed_time": 41.45997474,
            "remaining_time": 28.69226678,
            "test": [
             0.1367815361
            ]
           },
           {
            "iteration": 591,
            "learn": [
             0.1413245598
            ],
            "passed_time": 41.52938053,
            "remaining_time": 28.62160009,
            "test": [
             0.1367777836
            ]
           },
           {
            "iteration": 592,
            "learn": [
             0.1412812827
            ],
            "passed_time": 41.61876756,
            "remaining_time": 28.5646516,
            "test": [
             0.1367952718
            ]
           },
           {
            "iteration": 593,
            "learn": [
             0.1412664973
            ],
            "passed_time": 41.6910585,
            "remaining_time": 28.49590867,
            "test": [
             0.1367912639
            ]
           },
           {
            "iteration": 594,
            "learn": [
             0.1412404566
            ],
            "passed_time": 41.75957999,
            "remaining_time": 28.42458806,
            "test": [
             0.1368047258
            ]
           },
           {
            "iteration": 595,
            "learn": [
             0.1412229584
            ],
            "passed_time": 41.81626167,
            "remaining_time": 28.3452512,
            "test": [
             0.1367954395
            ]
           },
           {
            "iteration": 596,
            "learn": [
             0.1411959613
            ],
            "passed_time": 41.89849796,
            "remaining_time": 28.28324067,
            "test": [
             0.1367946927
            ]
           },
           {
            "iteration": 597,
            "learn": [
             0.1411488819
            ],
            "passed_time": 41.96486737,
            "remaining_time": 28.21049612,
            "test": [
             0.1367974407
            ]
           },
           {
            "iteration": 598,
            "learn": [
             0.1411126643
            ],
            "passed_time": 42.03579385,
            "remaining_time": 28.1408236,
            "test": [
             0.1368006264
            ]
           },
           {
            "iteration": 599,
            "learn": [
             0.1411041002
            ],
            "passed_time": 42.09753946,
            "remaining_time": 28.06502631,
            "test": [
             0.1368090583
            ]
           },
           {
            "iteration": 600,
            "learn": [
             0.1410563816
            ],
            "passed_time": 42.19570065,
            "remaining_time": 28.01345185,
            "test": [
             0.1368097623
            ]
           },
           {
            "iteration": 601,
            "learn": [
             0.1410238258
            ],
            "passed_time": 42.32555323,
            "remaining_time": 27.98267473,
            "test": [
             0.1368114251
            ]
           },
           {
            "iteration": 602,
            "learn": [
             0.1410159175
            ],
            "passed_time": 42.39696273,
            "remaining_time": 27.91309155,
            "test": [
             0.1368155076
            ]
           },
           {
            "iteration": 603,
            "learn": [
             0.1409979348
            ],
            "passed_time": 42.45060324,
            "remaining_time": 27.83185246,
            "test": [
             0.1368135297
            ]
           },
           {
            "iteration": 604,
            "learn": [
             0.1409497117
            ],
            "passed_time": 42.56150151,
            "remaining_time": 27.78808777,
            "test": [
             0.1368165442
            ]
           },
           {
            "iteration": 605,
            "learn": [
             0.1409225577
            ],
            "passed_time": 42.61861533,
            "remaining_time": 27.70913274,
            "test": [
             0.1368236896
            ]
           },
           {
            "iteration": 606,
            "learn": [
             0.1408773611
            ],
            "passed_time": 42.66209616,
            "remaining_time": 27.62142305,
            "test": [
             0.1368281071
            ]
           },
           {
            "iteration": 607,
            "learn": [
             0.1408410557
            ],
            "passed_time": 42.74519193,
            "remaining_time": 27.55940006,
            "test": [
             0.1368288085
            ]
           },
           {
            "iteration": 608,
            "learn": [
             0.14078105
            ],
            "passed_time": 42.83094889,
            "remaining_time": 27.49901644,
            "test": [
             0.1367911216
            ]
           },
           {
            "iteration": 609,
            "learn": [
             0.1407405211
            ],
            "passed_time": 42.90301165,
            "remaining_time": 27.42979433,
            "test": [
             0.1367743333
            ]
           },
           {
            "iteration": 610,
            "learn": [
             0.1406828418
            ],
            "passed_time": 42.96586687,
            "remaining_time": 27.35470084,
            "test": [
             0.1367787342
            ]
           },
           {
            "iteration": 611,
            "learn": [
             0.1406305887
            ],
            "passed_time": 43.03745497,
            "remaining_time": 27.28518387,
            "test": [
             0.1367327879
            ]
           },
           {
            "iteration": 612,
            "learn": [
             0.140608206
            ],
            "passed_time": 43.12003817,
            "remaining_time": 27.22260159,
            "test": [
             0.1367305986
            ]
           },
           {
            "iteration": 613,
            "learn": [
             0.1405674081
            ],
            "passed_time": 43.17289943,
            "remaining_time": 27.14126902,
            "test": [
             0.1367229251
            ]
           },
           {
            "iteration": 614,
            "learn": [
             0.1405274905
            ],
            "passed_time": 43.25854529,
            "remaining_time": 27.08055274,
            "test": [
             0.1367316267
            ]
           },
           {
            "iteration": 615,
            "learn": [
             0.1405056164
            ],
            "passed_time": 43.3627049,
            "remaining_time": 27.03129656,
            "test": [
             0.1367270765
            ]
           },
           {
            "iteration": 616,
            "learn": [
             0.1404869113
            ],
            "passed_time": 43.43543718,
            "remaining_time": 26.96235404,
            "test": [
             0.1366867529
            ]
           },
           {
            "iteration": 617,
            "learn": [
             0.1404613644
            ],
            "passed_time": 43.53772055,
            "remaining_time": 26.91166546,
            "test": [
             0.1366948311
            ]
           },
           {
            "iteration": 618,
            "learn": [
             0.1404193048
            ],
            "passed_time": 43.63277595,
            "remaining_time": 26.85636129,
            "test": [
             0.1366729035
            ]
           },
           {
            "iteration": 619,
            "learn": [
             0.1404041469
            ],
            "passed_time": 43.70423208,
            "remaining_time": 26.78646482,
            "test": [
             0.1366698393
            ]
           },
           {
            "iteration": 620,
            "learn": [
             0.1403875621
            ],
            "passed_time": 43.76750646,
            "remaining_time": 26.71156997,
            "test": [
             0.1366800417
            ]
           },
           {
            "iteration": 621,
            "learn": [
             0.1403721598
            ],
            "passed_time": 43.84471228,
            "remaining_time": 26.64517885,
            "test": [
             0.1366705174
            ]
           },
           {
            "iteration": 622,
            "learn": [
             0.1403381758
            ],
            "passed_time": 43.93137527,
            "remaining_time": 26.58447588,
            "test": [
             0.1366788818
            ]
           },
           {
            "iteration": 623,
            "learn": [
             0.1403042642
            ],
            "passed_time": 44.00036679,
            "remaining_time": 26.51304153,
            "test": [
             0.1366398277
            ]
           },
           {
            "iteration": 624,
            "learn": [
             0.1402924972
            ],
            "passed_time": 44.07659418,
            "remaining_time": 26.44595651,
            "test": [
             0.1366370535
            ]
           },
           {
            "iteration": 625,
            "learn": [
             0.1402548457
            ],
            "passed_time": 44.13122179,
            "remaining_time": 26.36593762,
            "test": [
             0.1366219581
            ]
           },
           {
            "iteration": 626,
            "learn": [
             0.1402443401
            ],
            "passed_time": 44.20528588,
            "remaining_time": 26.29756241,
            "test": [
             0.1366188174
            ]
           },
           {
            "iteration": 627,
            "learn": [
             0.1402096445
            ],
            "passed_time": 44.26548579,
            "remaining_time": 26.22095655,
            "test": [
             0.1366107826
            ]
           },
           {
            "iteration": 628,
            "learn": [
             0.1401990663
            ],
            "passed_time": 44.39225386,
            "remaining_time": 26.18366643,
            "test": [
             0.1366071246
            ]
           },
           {
            "iteration": 629,
            "learn": [
             0.1401392829
            ],
            "passed_time": 44.46918672,
            "remaining_time": 26.11682395,
            "test": [
             0.136601865
            ]
           },
           {
            "iteration": 630,
            "learn": [
             0.140126579
            ],
            "passed_time": 44.54349579,
            "remaining_time": 26.04841513,
            "test": [
             0.1366127245
            ]
           },
           {
            "iteration": 631,
            "learn": [
             0.1400888074
            ],
            "passed_time": 44.62645895,
            "remaining_time": 25.98502673,
            "test": [
             0.1365923634
            ]
           },
           {
            "iteration": 632,
            "learn": [
             0.14005019
            ],
            "passed_time": 44.70682406,
            "remaining_time": 25.92007019,
            "test": [
             0.1365889783
            ]
           },
           {
            "iteration": 633,
            "learn": [
             0.1400381948
            ],
            "passed_time": 44.75234486,
            "remaining_time": 25.83494987,
            "test": [
             0.1365998064
            ]
           },
           {
            "iteration": 634,
            "learn": [
             0.1399969112
            ],
            "passed_time": 44.81642409,
            "remaining_time": 25.76062172,
            "test": [
             0.1366022106
            ]
           },
           {
            "iteration": 635,
            "learn": [
             0.1399921372
            ],
            "passed_time": 44.88088714,
            "remaining_time": 25.68654547,
            "test": [
             0.1366018657
            ]
           },
           {
            "iteration": 636,
            "learn": [
             0.1399836777
            ],
            "passed_time": 44.94669478,
            "remaining_time": 25.61326563,
            "test": [
             0.1366101467
            ]
           },
           {
            "iteration": 637,
            "learn": [
             0.1399486362
            ],
            "passed_time": 45.02873548,
            "remaining_time": 25.54921982,
            "test": [
             0.136618732
            ]
           },
           {
            "iteration": 638,
            "learn": [
             0.1399163224
            ],
            "passed_time": 45.09713049,
            "remaining_time": 25.47740862,
            "test": [
             0.1366026884
            ]
           },
           {
            "iteration": 639,
            "learn": [
             0.1398911305
            ],
            "passed_time": 45.17911902,
            "remaining_time": 25.41325445,
            "test": [
             0.1365915783
            ]
           },
           {
            "iteration": 640,
            "learn": [
             0.1398525598
            ],
            "passed_time": 45.24536863,
            "remaining_time": 25.34022985,
            "test": [
             0.1365935349
            ]
           },
           {
            "iteration": 641,
            "learn": [
             0.1398288638
            ],
            "passed_time": 45.28775232,
            "remaining_time": 25.25391796,
            "test": [
             0.1365837163
            ]
           },
           {
            "iteration": 642,
            "learn": [
             0.1398212619
            ],
            "passed_time": 45.40245871,
            "remaining_time": 25.20789698,
            "test": [
             0.1365921702
            ]
           },
           {
            "iteration": 643,
            "learn": [
             0.139779312
            ],
            "passed_time": 45.46894034,
            "remaining_time": 25.13500429,
            "test": [
             0.1365961699
            ]
           },
           {
            "iteration": 644,
            "learn": [
             0.1397345245
            ],
            "passed_time": 45.55709736,
            "remaining_time": 25.07406134,
            "test": [
             0.1365893382
            ]
           },
           {
            "iteration": 645,
            "learn": [
             0.1397230977
            ],
            "passed_time": 45.61480903,
            "remaining_time": 24.99635046,
            "test": [
             0.1366002468
            ]
           },
           {
            "iteration": 646,
            "learn": [
             0.1396827108
            ],
            "passed_time": 45.69991564,
            "remaining_time": 24.93364795,
            "test": [
             0.1366022741
            ]
           },
           {
            "iteration": 647,
            "learn": [
             0.1396655267
            ],
            "passed_time": 45.77048451,
            "remaining_time": 24.86297924,
            "test": [
             0.136597264
            ]
           },
           {
            "iteration": 648,
            "learn": [
             0.1396567288
            ],
            "passed_time": 45.83957238,
            "remaining_time": 24.79150987,
            "test": [
             0.1365886821
            ]
           },
           {
            "iteration": 649,
            "learn": [
             0.1396445878
            ],
            "passed_time": 45.88750041,
            "remaining_time": 24.70865407,
            "test": [
             0.1365823045
            ]
           },
           {
            "iteration": 650,
            "learn": [
             0.1395882043
            ],
            "passed_time": 45.96353847,
            "remaining_time": 24.64097531,
            "test": [
             0.1365947142
            ]
           },
           {
            "iteration": 651,
            "learn": [
             0.1395421068
            ],
            "passed_time": 46.03426436,
            "remaining_time": 24.57043558,
            "test": [
             0.136639137
            ]
           },
           {
            "iteration": 652,
            "learn": [
             0.1394991462
            ],
            "passed_time": 46.10491572,
            "remaining_time": 24.49985568,
            "test": [
             0.1366489602
            ]
           },
           {
            "iteration": 653,
            "learn": [
             0.1394882696
            ],
            "passed_time": 46.16815531,
            "remaining_time": 24.42535434,
            "test": [
             0.1366469444
            ]
           },
           {
            "iteration": 654,
            "learn": [
             0.1394742599
            ],
            "passed_time": 46.26271455,
            "remaining_time": 24.367384,
            "test": [
             0.1366447255
            ]
           },
           {
            "iteration": 655,
            "learn": [
             0.1394484626
            ],
            "passed_time": 46.34637729,
            "remaining_time": 24.30358809,
            "test": [
             0.1366521301
            ]
           },
           {
            "iteration": 656,
            "learn": [
             0.13942733
            ],
            "passed_time": 46.47527221,
            "remaining_time": 24.26334607,
            "test": [
             0.1366246614
            ]
           },
           {
            "iteration": 657,
            "learn": [
             0.1393970176
            ],
            "passed_time": 46.53155814,
            "remaining_time": 24.18509557,
            "test": [
             0.1366018252
            ]
           },
           {
            "iteration": 658,
            "learn": [
             0.1393800245
            ],
            "passed_time": 46.61979562,
            "remaining_time": 24.12344508,
            "test": [
             0.1366048074
            ]
           },
           {
            "iteration": 659,
            "learn": [
             0.1393730081
            ],
            "passed_time": 46.68094553,
            "remaining_time": 24.04775982,
            "test": [
             0.1366130738
            ]
           },
           {
            "iteration": 660,
            "learn": [
             0.1393546576
            ],
            "passed_time": 46.7588584,
            "remaining_time": 23.98071558,
            "test": [
             0.1366126579
            ]
           },
           {
            "iteration": 661,
            "learn": [
             0.1393164192
            ],
            "passed_time": 46.82436895,
            "remaining_time": 23.9073062,
            "test": [
             0.1366405035
            ]
           },
           {
            "iteration": 662,
            "learn": [
             0.1393005584
            ],
            "passed_time": 46.87641001,
            "remaining_time": 23.82707417,
            "test": [
             0.1366438831
            ]
           },
           {
            "iteration": 663,
            "learn": [
             0.1392685298
            ],
            "passed_time": 46.95845096,
            "remaining_time": 23.76210772,
            "test": [
             0.1366404786
            ]
           },
           {
            "iteration": 664,
            "learn": [
             0.1392552027
            ],
            "passed_time": 47.05385776,
            "remaining_time": 23.70382308,
            "test": [
             0.1366387258
            ]
           },
           {
            "iteration": 665,
            "learn": [
             0.1392379297
            ],
            "passed_time": 47.12407175,
            "remaining_time": 23.63279274,
            "test": [
             0.1366387577
            ]
           },
           {
            "iteration": 666,
            "learn": [
             0.1392203243
            ],
            "passed_time": 47.21117954,
            "remaining_time": 23.57019908,
            "test": [
             0.1366415413
            ]
           },
           {
            "iteration": 667,
            "learn": [
             0.1391977903
            ],
            "passed_time": 47.28027362,
            "remaining_time": 23.4985791,
            "test": [
             0.136644058
            ]
           },
           {
            "iteration": 668,
            "learn": [
             0.1391735303
            ],
            "passed_time": 47.36805187,
            "remaining_time": 23.43621102,
            "test": [
             0.1366525658
            ]
           },
           {
            "iteration": 669,
            "learn": [
             0.1391631691
            ],
            "passed_time": 47.47167495,
            "remaining_time": 23.38157125,
            "test": [
             0.1366443854
            ]
           },
           {
            "iteration": 670,
            "learn": [
             0.139150529
            ],
            "passed_time": 47.55630757,
            "remaining_time": 23.3174742,
            "test": [
             0.1366452733
            ]
           },
           {
            "iteration": 671,
            "learn": [
             0.1391407103
            ],
            "passed_time": 47.60643847,
            "remaining_time": 23.23647592,
            "test": [
             0.1366376722
            ]
           },
           {
            "iteration": 672,
            "learn": [
             0.139108035
            ],
            "passed_time": 47.67742942,
            "remaining_time": 23.16570493,
            "test": [
             0.136646245
            ]
           },
           {
            "iteration": 673,
            "learn": [
             0.1390795338
            ],
            "passed_time": 47.73483209,
            "remaining_time": 23.08836092,
            "test": [
             0.1366541601
            ]
           },
           {
            "iteration": 674,
            "learn": [
             0.1390461719
            ],
            "passed_time": 47.80351442,
            "remaining_time": 23.01650694,
            "test": [
             0.1366428031
            ]
           },
           {
            "iteration": 675,
            "learn": [
             0.13903216
            ],
            "passed_time": 47.90009649,
            "remaining_time": 22.95803441,
            "test": [
             0.1366554505
            ]
           },
           {
            "iteration": 676,
            "learn": [
             0.139010608
            ],
            "passed_time": 47.98439451,
            "remaining_time": 22.89358852,
            "test": [
             0.1366474187
            ]
           },
           {
            "iteration": 677,
            "learn": [
             0.1389922447
            ],
            "passed_time": 48.06076331,
            "remaining_time": 22.82531827,
            "test": [
             0.1366369895
            ]
           },
           {
            "iteration": 678,
            "learn": [
             0.1389683365
            ],
            "passed_time": 48.14381628,
            "remaining_time": 22.76018413,
            "test": [
             0.1366560792
            ]
           },
           {
            "iteration": 679,
            "learn": [
             0.1389220254
            ],
            "passed_time": 48.20468119,
            "remaining_time": 22.68455585,
            "test": [
             0.1366395742
            ]
           },
           {
            "iteration": 680,
            "learn": [
             0.138899885
            ],
            "passed_time": 48.28510151,
            "remaining_time": 22.61813125,
            "test": [
             0.1366478581
            ]
           },
           {
            "iteration": 681,
            "learn": [
             0.1388628412
            ],
            "passed_time": 48.34533366,
            "remaining_time": 22.54225235,
            "test": [
             0.1366478514
            ]
           },
           {
            "iteration": 682,
            "learn": [
             0.1388549284
            ],
            "passed_time": 48.40708012,
            "remaining_time": 22.46712211,
            "test": [
             0.1366501973
            ]
           },
           {
            "iteration": 683,
            "learn": [
             0.1388436386
            ],
            "passed_time": 48.53159454,
            "remaining_time": 22.42102906,
            "test": [
             0.1366422125
            ]
           },
           {
            "iteration": 684,
            "learn": [
             0.1388349646
            ],
            "passed_time": 48.62661557,
            "remaining_time": 22.36114439,
            "test": [
             0.1366375604
            ]
           },
           {
            "iteration": 685,
            "learn": [
             0.1387880962
            ],
            "passed_time": 48.68986618,
            "remaining_time": 22.28661513,
            "test": [
             0.1366683313
            ]
           },
           {
            "iteration": 686,
            "learn": [
             0.1387737519
            ],
            "passed_time": 48.79110446,
            "remaining_time": 22.22942605,
            "test": [
             0.1366677346
            ]
           },
           {
            "iteration": 687,
            "learn": [
             0.1387514002
            ],
            "passed_time": 48.87605172,
            "remaining_time": 22.16472113,
            "test": [
             0.1366405144
            ]
           },
           {
            "iteration": 688,
            "learn": [
             0.1387398291
            ],
            "passed_time": 48.93883762,
            "remaining_time": 22.08995428,
            "test": [
             0.1366382147
            ]
           },
           {
            "iteration": 689,
            "learn": [
             0.1387294213
            ],
            "passed_time": 49.02391486,
            "remaining_time": 22.02523711,
            "test": [
             0.1366462454
            ]
           },
           {
            "iteration": 690,
            "learn": [
             0.1387183594
            ],
            "passed_time": 49.0812214,
            "remaining_time": 21.94804257,
            "test": [
             0.136657529
            ]
           },
           {
            "iteration": 691,
            "learn": [
             0.1387053594
            ],
            "passed_time": 49.1608941,
            "remaining_time": 21.88086038,
            "test": [
             0.1366529266
            ]
           },
           {
            "iteration": 692,
            "learn": [
             0.138682254
            ],
            "passed_time": 49.2372202,
            "remaining_time": 21.8121596,
            "test": [
             0.1366434852
            ]
           },
           {
            "iteration": 693,
            "learn": [
             0.1386751162
            ],
            "passed_time": 49.31424919,
            "remaining_time": 21.74374676,
            "test": [
             0.1366493221
            ]
           },
           {
            "iteration": 694,
            "learn": [
             0.138651172
            ],
            "passed_time": 49.39010228,
            "remaining_time": 21.67479309,
            "test": [
             0.1366588784
            ]
           },
           {
            "iteration": 695,
            "learn": [
             0.1386356264
            ],
            "passed_time": 49.46388522,
            "remaining_time": 21.60491539,
            "test": [
             0.1366512236
            ]
           },
           {
            "iteration": 696,
            "learn": [
             0.1386200258
            ],
            "passed_time": 49.5887562,
            "remaining_time": 21.55723548,
            "test": [
             0.1366575147
            ]
           },
           {
            "iteration": 697,
            "learn": [
             0.1386135627
            ],
            "passed_time": 49.66369889,
            "remaining_time": 21.48773218,
            "test": [
             0.1366656229
            ]
           },
           {
            "iteration": 698,
            "learn": [
             0.1385698856
            ],
            "passed_time": 49.73698884,
            "remaining_time": 21.41750163,
            "test": [
             0.1366507513
            ]
           },
           {
            "iteration": 699,
            "learn": [
             0.1385577844
            ],
            "passed_time": 49.80210476,
            "remaining_time": 21.34375918,
            "test": [
             0.1366469963
            ]
           },
           {
            "iteration": 700,
            "learn": [
             0.138522306
            ],
            "passed_time": 49.89819057,
            "remaining_time": 21.28325104,
            "test": [
             0.136641692
            ]
           },
           {
            "iteration": 701,
            "learn": [
             0.1385106588
            ],
            "passed_time": 49.97723555,
            "remaining_time": 21.21540768,
            "test": [
             0.1366435303
            ]
           },
           {
            "iteration": 702,
            "learn": [
             0.1385000985
            ],
            "passed_time": 50.02835155,
            "remaining_time": 21.13573316,
            "test": [
             0.1366548234
            ]
           },
           {
            "iteration": 703,
            "learn": [
             0.1384488235
            ],
            "passed_time": 50.08566315,
            "remaining_time": 21.05874473,
            "test": [
             0.1366498575
            ]
           },
           {
            "iteration": 704,
            "learn": [
             0.1384427906
            ],
            "passed_time": 50.14814835,
            "remaining_time": 20.98397697,
            "test": [
             0.1366446295
            ]
           },
           {
            "iteration": 705,
            "learn": [
             0.1384122533
            ],
            "passed_time": 50.2285947,
            "remaining_time": 20.91672357,
            "test": [
             0.1366187332
            ]
           },
           {
            "iteration": 706,
            "learn": [
             0.1384010859
            ],
            "passed_time": 50.29359784,
            "remaining_time": 20.84303277,
            "test": [
             0.136624841
            ]
           },
           {
            "iteration": 707,
            "learn": [
             0.138387837
            ],
            "passed_time": 50.3643312,
            "remaining_time": 20.77172982,
            "test": [
             0.1366261405
            ]
           },
           {
            "iteration": 708,
            "learn": [
             0.1383549859
            ],
            "passed_time": 50.43843393,
            "remaining_time": 20.70181139,
            "test": [
             0.1366266784
            ]
           },
           {
            "iteration": 709,
            "learn": [
             0.1383121363
            ],
            "passed_time": 50.51928552,
            "remaining_time": 20.63463775,
            "test": [
             0.1366563034
            ]
           },
           {
            "iteration": 710,
            "learn": [
             0.1382721498
            ],
            "passed_time": 50.64147509,
            "remaining_time": 20.58422827,
            "test": [
             0.1366557547
            ]
           },
           {
            "iteration": 711,
            "learn": [
             0.1382576588
            ],
            "passed_time": 50.73095564,
            "remaining_time": 20.52038655,
            "test": [
             0.1366557298
            ]
           },
           {
            "iteration": 712,
            "learn": [
             0.1382399324
            ],
            "passed_time": 50.80859099,
            "remaining_time": 20.45170493,
            "test": [
             0.1366473407
            ]
           },
           {
            "iteration": 713,
            "learn": [
             0.1382276782
            ],
            "passed_time": 50.91039931,
            "remaining_time": 20.39268096,
            "test": [
             0.1366473653
            ]
           },
           {
            "iteration": 714,
            "learn": [
             0.1382004075
            ],
            "passed_time": 51.00347794,
            "remaining_time": 20.33005764,
            "test": [
             0.1366386264
            ]
           },
           {
            "iteration": 715,
            "learn": [
             0.1381899653
            ],
            "passed_time": 51.06900835,
            "remaining_time": 20.2564223,
            "test": [
             0.136644838
            ]
           },
           {
            "iteration": 716,
            "learn": [
             0.1381798963
            ],
            "passed_time": 51.13274537,
            "remaining_time": 20.18210173,
            "test": [
             0.1366421041
            ]
           },
           {
            "iteration": 717,
            "learn": [
             0.1381493094
            ],
            "passed_time": 51.19571586,
            "remaining_time": 20.10750957,
            "test": [
             0.1366327333
            ]
           },
           {
            "iteration": 718,
            "learn": [
             0.1381347837
            ],
            "passed_time": 51.26478134,
            "remaining_time": 20.03533179,
            "test": [
             0.1366272503
            ]
           },
           {
            "iteration": 719,
            "learn": [
             0.1380949407
            ],
            "passed_time": 51.3485369,
            "remaining_time": 19.96887546,
            "test": [
             0.1366358366
            ]
           },
           {
            "iteration": 720,
            "learn": [
             0.1380585453
            ],
            "passed_time": 51.42308374,
            "remaining_time": 19.89880772,
            "test": [
             0.1366415266
            ]
           },
           {
            "iteration": 721,
            "learn": [
             0.1380490657
            ],
            "passed_time": 51.47765601,
            "remaining_time": 19.82103652,
            "test": [
             0.1366386423
            ]
           },
           {
            "iteration": 722,
            "learn": [
             0.1380354113
            ],
            "passed_time": 51.5537085,
            "remaining_time": 19.75155913,
            "test": [
             0.1366389416
            ]
           },
           {
            "iteration": 723,
            "learn": [
             0.1380210134
            ],
            "passed_time": 51.67229758,
            "remaining_time": 19.69827919,
            "test": [
             0.1366531386
            ]
           },
           {
            "iteration": 724,
            "learn": [
             0.1380150652
            ],
            "passed_time": 51.74018903,
            "remaining_time": 19.62558894,
            "test": [
             0.1366456752
            ]
           },
           {
            "iteration": 725,
            "learn": [
             0.137978988
            ],
            "passed_time": 51.81593827,
            "remaining_time": 19.55587753,
            "test": [
             0.1366321878
            ]
           },
           {
            "iteration": 726,
            "learn": [
             0.1379512144
            ],
            "passed_time": 51.88832829,
            "remaining_time": 19.48488806,
            "test": [
             0.1366165318
            ]
           },
           {
            "iteration": 727,
            "learn": [
             0.13792594
            ],
            "passed_time": 51.95915676,
            "remaining_time": 19.41331132,
            "test": [
             0.1366323313
            ]
           },
           {
            "iteration": 728,
            "learn": [
             0.1378810736
            ],
            "passed_time": 52.02484806,
            "remaining_time": 19.33982692,
            "test": [
             0.1366099207
            ]
           },
           {
            "iteration": 729,
            "learn": [
             0.13786815
            ],
            "passed_time": 52.0946271,
            "remaining_time": 19.26787578,
            "test": [
             0.1366007152
            ]
           },
           {
            "iteration": 730,
            "learn": [
             0.1378619671
            ],
            "passed_time": 52.16063038,
            "remaining_time": 19.19454114,
            "test": [
             0.1366088633
            ]
           },
           {
            "iteration": 731,
            "learn": [
             0.137821744
            ],
            "passed_time": 52.24623469,
            "remaining_time": 19.12840287,
            "test": [
             0.1366093197
            ]
           },
           {
            "iteration": 732,
            "learn": [
             0.1378109543
            ],
            "passed_time": 52.30673658,
            "remaining_time": 19.05306776,
            "test": [
             0.1366175984
            ]
           },
           {
            "iteration": 733,
            "learn": [
             0.1377826595
            ],
            "passed_time": 52.38184008,
            "remaining_time": 18.98306466,
            "test": [
             0.1366284968
            ]
           },
           {
            "iteration": 734,
            "learn": [
             0.1377723454
            ],
            "passed_time": 52.45925179,
            "remaining_time": 18.9138799,
            "test": [
             0.1366272865
            ]
           },
           {
            "iteration": 735,
            "learn": [
             0.1377608936
            ],
            "passed_time": 52.53744124,
            "remaining_time": 18.84495175,
            "test": [
             0.1366366884
            ]
           },
           {
            "iteration": 736,
            "learn": [
             0.1377357987
            ],
            "passed_time": 52.62435553,
            "remaining_time": 18.77911195,
            "test": [
             0.1366470302
            ]
           },
           {
            "iteration": 737,
            "learn": [
             0.1377164092
            ],
            "passed_time": 52.75331794,
            "remaining_time": 18.72814268,
            "test": [
             0.1366539785
            ]
           },
           {
            "iteration": 738,
            "learn": [
             0.1376875133
            ],
            "passed_time": 52.84687873,
            "remaining_time": 18.6644592,
            "test": [
             0.1366637879
            ]
           },
           {
            "iteration": 739,
            "learn": [
             0.1376774606
            ],
            "passed_time": 52.90741475,
            "remaining_time": 18.58909167,
            "test": [
             0.1366747292
            ]
           },
           {
            "iteration": 740,
            "learn": [
             0.137639196
            ],
            "passed_time": 52.99195055,
            "remaining_time": 18.52215276,
            "test": [
             0.1366471549
            ]
           },
           {
            "iteration": 741,
            "learn": [
             0.1376006516
            ],
            "passed_time": 53.0702066,
            "remaining_time": 18.45298289,
            "test": [
             0.1366526156
            ]
           },
           {
            "iteration": 742,
            "learn": [
             0.1375838581
            ],
            "passed_time": 53.14202278,
            "remaining_time": 18.38156104,
            "test": [
             0.1366550218
            ]
           },
           {
            "iteration": 743,
            "learn": [
             0.1375643375
            ],
            "passed_time": 53.21191449,
            "remaining_time": 18.30947595,
            "test": [
             0.136654207
            ]
           },
           {
            "iteration": 744,
            "learn": [
             0.1375465017
            ],
            "passed_time": 53.28102954,
            "remaining_time": 18.23713091,
            "test": [
             0.1366648945
            ]
           },
           {
            "iteration": 745,
            "learn": [
             0.1375048699
            ],
            "passed_time": 53.35547643,
            "remaining_time": 18.16660994,
            "test": [
             0.136659801
            ]
           },
           {
            "iteration": 746,
            "learn": [
             0.1375047344
            ],
            "passed_time": 53.40652108,
            "remaining_time": 18.08815239,
            "test": [
             0.1366598081
            ]
           },
           {
            "iteration": 747,
            "learn": [
             0.1374750661
            ],
            "passed_time": 53.4754118,
            "remaining_time": 18.01578045,
            "test": [
             0.1366427801
            ]
           },
           {
            "iteration": 748,
            "learn": [
             0.1374627844
            ],
            "passed_time": 53.55516446,
            "remaining_time": 17.94705778,
            "test": [
             0.1366471513
            ]
           },
           {
            "iteration": 749,
            "learn": [
             0.1374566214
            ],
            "passed_time": 53.62234851,
            "remaining_time": 17.87411617,
            "test": [
             0.1366504667
            ]
           },
           {
            "iteration": 750,
            "learn": [
             0.1374277074
            ],
            "passed_time": 53.75425695,
            "remaining_time": 17.82264977,
            "test": [
             0.1366562944
            ]
           },
           {
            "iteration": 751,
            "learn": [
             0.1373976119
            ],
            "passed_time": 53.83420128,
            "remaining_time": 17.75383234,
            "test": [
             0.1366469389
            ]
           },
           {
            "iteration": 752,
            "learn": [
             0.1373661116
            ],
            "passed_time": 53.90451956,
            "remaining_time": 17.6818278,
            "test": [
             0.136639449
            ]
           },
           {
            "iteration": 753,
            "learn": [
             0.1373311189
            ],
            "passed_time": 53.98919148,
            "remaining_time": 17.61451075,
            "test": [
             0.1366367486
            ]
           },
           {
            "iteration": 754,
            "learn": [
             0.1372976715
            ],
            "passed_time": 54.07230376,
            "remaining_time": 17.54664162,
            "test": [
             0.1366537665
            ]
           },
           {
            "iteration": 755,
            "learn": [
             0.1372905929
            ],
            "passed_time": 54.14118325,
            "remaining_time": 17.47413851,
            "test": [
             0.1366425662
            ]
           },
           {
            "iteration": 756,
            "learn": [
             0.1372646883
            ],
            "passed_time": 54.22038033,
            "remaining_time": 17.40495696,
            "test": [
             0.1366440291
            ]
           },
           {
            "iteration": 757,
            "learn": [
             0.1372271121
            ],
            "passed_time": 54.29690037,
            "remaining_time": 17.33489431,
            "test": [
             0.1366251722
            ]
           },
           {
            "iteration": 758,
            "learn": [
             0.1372090492
            ],
            "passed_time": 54.37221332,
            "remaining_time": 17.26443137,
            "test": [
             0.136625401
            ]
           },
           {
            "iteration": 759,
            "learn": [
             0.1371616615
            ],
            "passed_time": 54.45658973,
            "remaining_time": 17.19681781,
            "test": [
             0.1366023612
            ]
           },
           {
            "iteration": 760,
            "learn": [
             0.1371487476
            ],
            "passed_time": 54.53193509,
            "remaining_time": 17.1263239,
            "test": [
             0.1366042107
            ]
           },
           {
            "iteration": 761,
            "learn": [
             0.1371390893
            ],
            "passed_time": 54.60076268,
            "remaining_time": 17.05378152,
            "test": [
             0.1366093293
            ]
           },
           {
            "iteration": 762,
            "learn": [
             0.137130662
            ],
            "passed_time": 54.66665545,
            "remaining_time": 16.98033728,
            "test": [
             0.1366037402
            ]
           },
           {
            "iteration": 763,
            "learn": [
             0.1371158522
            ],
            "passed_time": 54.81754783,
            "remaining_time": 16.93316922,
            "test": [
             0.1365919979
            ]
           },
           {
            "iteration": 764,
            "learn": [
             0.137073177
            ],
            "passed_time": 54.87714627,
            "remaining_time": 16.85768546,
            "test": [
             0.1365914691
            ]
           },
           {
            "iteration": 765,
            "learn": [
             0.1370436262
            ],
            "passed_time": 54.94504422,
            "remaining_time": 16.78477852,
            "test": [
             0.1365828595
            ]
           },
           {
            "iteration": 766,
            "learn": [
             0.1370168817
            ],
            "passed_time": 55.03683914,
            "remaining_time": 16.71914409,
            "test": [
             0.1365937706
            ]
           },
           {
            "iteration": 767,
            "learn": [
             0.1370006691
            ],
            "passed_time": 55.10820984,
            "remaining_time": 16.64727172,
            "test": [
             0.1365965234
            ]
           },
           {
            "iteration": 768,
            "learn": [
             0.1369567902
            ],
            "passed_time": 55.17643393,
            "remaining_time": 16.57445545,
            "test": [
             0.1366257061
            ]
           },
           {
            "iteration": 769,
            "learn": [
             0.1369341473
            ],
            "passed_time": 55.24645398,
            "remaining_time": 16.50218755,
            "test": [
             0.1366151274
            ]
           },
           {
            "iteration": 770,
            "learn": [
             0.136919065
            ],
            "passed_time": 55.30668384,
            "remaining_time": 16.42701764,
            "test": [
             0.1366152599
            ]
           },
           {
            "iteration": 771,
            "learn": [
             0.136909665
            ],
            "passed_time": 55.3848309,
            "remaining_time": 16.35717804,
            "test": [
             0.1366013847
            ]
           },
           {
            "iteration": 772,
            "learn": [
             0.1368891907
            ],
            "passed_time": 55.45388229,
            "remaining_time": 16.2846459,
            "test": [
             0.1365925981
            ]
           },
           {
            "iteration": 773,
            "learn": [
             0.1368743437
            ],
            "passed_time": 55.52837424,
            "remaining_time": 16.21371134,
            "test": [
             0.1365886787
            ]
           },
           {
            "iteration": 774,
            "learn": [
             0.1368351327
            ],
            "passed_time": 55.60801311,
            "remaining_time": 16.14426187,
            "test": [
             0.1365717791
            ]
           },
           {
            "iteration": 775,
            "learn": [
             0.1367996267
            ],
            "passed_time": 55.67613203,
            "remaining_time": 16.07146079,
            "test": [
             0.1365576065
            ]
           },
           {
            "iteration": 776,
            "learn": [
             0.1367582
            ],
            "passed_time": 55.74467069,
            "remaining_time": 15.99879223,
            "test": [
             0.1365452083
            ]
           },
           {
            "iteration": 777,
            "learn": [
             0.1367494396
            ],
            "passed_time": 55.86455223,
            "remaining_time": 15.94078483,
            "test": [
             0.1365324741
            ]
           },
           {
            "iteration": 778,
            "learn": [
             0.1367227864
            ],
            "passed_time": 55.93368035,
            "remaining_time": 15.86821997,
            "test": [
             0.1365305935
            ]
           },
           {
            "iteration": 779,
            "learn": [
             0.136676226
            ],
            "passed_time": 55.99597073,
            "remaining_time": 15.79373534,
            "test": [
             0.1365130744
            ]
           },
           {
            "iteration": 780,
            "learn": [
             0.1366638944
            ],
            "passed_time": 56.07906971,
            "remaining_time": 15.72511686,
            "test": [
             0.1365133004
            ]
           },
           {
            "iteration": 781,
            "learn": [
             0.1366539683
            ],
            "passed_time": 56.15823709,
            "remaining_time": 15.65536533,
            "test": [
             0.1365197757
            ]
           },
           {
            "iteration": 782,
            "learn": [
             0.1366208022
            ],
            "passed_time": 56.24093738,
            "remaining_time": 15.58656885,
            "test": [
             0.1365278963
            ]
           },
           {
            "iteration": 783,
            "learn": [
             0.1366088205
            ],
            "passed_time": 56.32182265,
            "remaining_time": 15.51723685,
            "test": [
             0.136509022
            ]
           },
           {
            "iteration": 784,
            "learn": [
             0.1365878837
            ],
            "passed_time": 56.39403822,
            "remaining_time": 15.44550091,
            "test": [
             0.136498821
            ]
           },
           {
            "iteration": 785,
            "learn": [
             0.1365720045
            ],
            "passed_time": 56.45710071,
            "remaining_time": 15.3712717,
            "test": [
             0.1364868208
            ]
           },
           {
            "iteration": 786,
            "learn": [
             0.1365664434
            ],
            "passed_time": 56.52691181,
            "remaining_time": 15.29889735,
            "test": [
             0.1364948871
            ]
           },
           {
            "iteration": 787,
            "learn": [
             0.1365535924
            ],
            "passed_time": 56.6070302,
            "remaining_time": 15.22930254,
            "test": [
             0.136489676
            ]
           },
           {
            "iteration": 788,
            "learn": [
             0.1365228216
            ],
            "passed_time": 56.68622526,
            "remaining_time": 15.15943413,
            "test": [
             0.1364855892
            ]
           },
           {
            "iteration": 789,
            "learn": [
             0.1364950946
            ],
            "passed_time": 56.75682023,
            "remaining_time": 15.08725601,
            "test": [
             0.1364787002
            ]
           },
           {
            "iteration": 790,
            "learn": [
             0.136470461
            ],
            "passed_time": 56.83177616,
            "remaining_time": 15.01623416,
            "test": [
             0.136480549
            ]
           },
           {
            "iteration": 791,
            "learn": [
             0.1364330435
            ],
            "passed_time": 56.97260601,
            "remaining_time": 14.96250259,
            "test": [
             0.1364701552
            ]
           },
           {
            "iteration": 792,
            "learn": [
             0.1364177977
            ],
            "passed_time": 57.04289778,
            "remaining_time": 14.89013851,
            "test": [
             0.1364722423
            ]
           },
           {
            "iteration": 793,
            "learn": [
             0.1364023912
            ],
            "passed_time": 57.12322389,
            "remaining_time": 14.82038303,
            "test": [
             0.1364571785
            ]
           },
           {
            "iteration": 794,
            "learn": [
             0.1363782015
            ],
            "passed_time": 57.19476872,
            "remaining_time": 14.74833659,
            "test": [
             0.1364609959
            ]
           },
           {
            "iteration": 795,
            "learn": [
             0.1363716155
            ],
            "passed_time": 57.25564851,
            "remaining_time": 14.67355816,
            "test": [
             0.136464141
            ]
           },
           {
            "iteration": 796,
            "learn": [
             0.1363626819
            ],
            "passed_time": 57.31867603,
            "remaining_time": 14.59936165,
            "test": [
             0.1364703622
            ]
           },
           {
            "iteration": 797,
            "learn": [
             0.1363221217
            ],
            "passed_time": 57.40203175,
            "remaining_time": 14.53033886,
            "test": [
             0.1364585212
            ]
           },
           {
            "iteration": 798,
            "learn": [
             0.136312427
            ],
            "passed_time": 57.47388601,
            "remaining_time": 14.45838684,
            "test": [
             0.1364512933
            ]
           },
           {
            "iteration": 799,
            "learn": [
             0.1362784989
            ],
            "passed_time": 57.55391108,
            "remaining_time": 14.38847777,
            "test": [
             0.1364358998
            ]
           },
           {
            "iteration": 800,
            "learn": [
             0.1362641831
            ],
            "passed_time": 57.63169576,
            "remaining_time": 14.31798684,
            "test": [
             0.1364385086
            ]
           },
           {
            "iteration": 801,
            "learn": [
             0.1362506292
            ],
            "passed_time": 57.69753374,
            "remaining_time": 14.24452828,
            "test": [
             0.1364413675
            ]
           },
           {
            "iteration": 802,
            "learn": [
             0.1362160375
            ],
            "passed_time": 57.76929838,
            "remaining_time": 14.17254269,
            "test": [
             0.1364406914
            ]
           },
           {
            "iteration": 803,
            "learn": [
             0.1362025635
            ],
            "passed_time": 57.84559016,
            "remaining_time": 14.10166128,
            "test": [
             0.1364373335
            ]
           },
           {
            "iteration": 804,
            "learn": [
             0.136188406
            ],
            "passed_time": 58.11644847,
            "remaining_time": 14.07789745,
            "test": [
             0.1364193084
            ]
           },
           {
            "iteration": 805,
            "learn": [
             0.136177937
            ],
            "passed_time": 58.20607295,
            "remaining_time": 14.00989845,
            "test": [
             0.1364282065
            ]
           },
           {
            "iteration": 806,
            "learn": [
             0.1361459909
            ],
            "passed_time": 58.26266551,
            "remaining_time": 13.93394603,
            "test": [
             0.13641257
            ]
           },
           {
            "iteration": 807,
            "learn": [
             0.1361374144
            ],
            "passed_time": 58.33905326,
            "remaining_time": 13.86274533,
            "test": [
             0.1364146705
            ]
           },
           {
            "iteration": 808,
            "learn": [
             0.1361278806
            ],
            "passed_time": 58.40350894,
            "remaining_time": 13.78871472,
            "test": [
             0.1364291303
            ]
           },
           {
            "iteration": 809,
            "learn": [
             0.1360890513
            ],
            "passed_time": 58.47843459,
            "remaining_time": 13.71716367,
            "test": [
             0.1364022144
            ]
           },
           {
            "iteration": 810,
            "learn": [
             0.1360606241
            ],
            "passed_time": 58.55519057,
            "remaining_time": 13.64603085,
            "test": [
             0.1364294781
            ]
           },
           {
            "iteration": 811,
            "learn": [
             0.1360516921
            ],
            "passed_time": 58.62885447,
            "remaining_time": 13.57416828,
            "test": [
             0.1364379505
            ]
           },
           {
            "iteration": 812,
            "learn": [
             0.1360407861
            ],
            "passed_time": 58.71569707,
            "remaining_time": 13.50533254,
            "test": [
             0.1364381489
            ]
           },
           {
            "iteration": 813,
            "learn": [
             0.1360326146
            ],
            "passed_time": 58.77988568,
            "remaining_time": 13.43127609,
            "test": [
             0.1364389094
            ]
           },
           {
            "iteration": 814,
            "learn": [
             0.1360262259
            ],
            "passed_time": 58.82263215,
            "remaining_time": 13.35237662,
            "test": [
             0.1364321023
            ]
           },
           {
            "iteration": 815,
            "learn": [
             0.1360013626
            ],
            "passed_time": 58.90464192,
            "remaining_time": 13.28241926,
            "test": [
             0.1364272413
            ]
           },
           {
            "iteration": 816,
            "learn": [
             0.1359936448
            ],
            "passed_time": 58.98111851,
            "remaining_time": 13.21119301,
            "test": [
             0.1364230181
            ]
           },
           {
            "iteration": 817,
            "learn": [
             0.1359591495
            ],
            "passed_time": 59.05569444,
            "remaining_time": 13.13953104,
            "test": [
             0.1364238074
            ]
           },
           {
            "iteration": 818,
            "learn": [
             0.1359362997
            ],
            "passed_time": 59.18128233,
            "remaining_time": 13.07913566,
            "test": [
             0.1364049774
            ]
           },
           {
            "iteration": 819,
            "learn": [
             0.1359301882
            ],
            "passed_time": 59.22337573,
            "remaining_time": 13.00025321,
            "test": [
             0.1364086946
            ]
           },
           {
            "iteration": 820,
            "learn": [
             0.1359030202
            ],
            "passed_time": 59.31742162,
            "remaining_time": 12.93278742,
            "test": [
             0.1364010178
            ]
           },
           {
            "iteration": 821,
            "learn": [
             0.1358904932
            ],
            "passed_time": 59.3955996,
            "remaining_time": 12.86182084,
            "test": [
             0.1363979816
            ]
           },
           {
            "iteration": 822,
            "learn": [
             0.1358436043
            ],
            "passed_time": 59.46343248,
            "remaining_time": 12.78861185,
            "test": [
             0.1364043398
            ]
           },
           {
            "iteration": 823,
            "learn": [
             0.1358412391
            ],
            "passed_time": 59.52989297,
            "remaining_time": 12.71512277,
            "test": [
             0.1363998401
            ]
           },
           {
            "iteration": 824,
            "learn": [
             0.1358310004
            ],
            "passed_time": 59.6100064,
            "remaining_time": 12.64454681,
            "test": [
             0.1363957993
            ]
           },
           {
            "iteration": 825,
            "learn": [
             0.1358067928
            ],
            "passed_time": 59.67386114,
            "remaining_time": 12.57052281,
            "test": [
             0.1363976234
            ]
           },
           {
            "iteration": 826,
            "learn": [
             0.1357897139
            ],
            "passed_time": 59.74521761,
            "remaining_time": 12.49809268,
            "test": [
             0.1363899652
            ]
           },
           {
            "iteration": 827,
            "learn": [
             0.135760764
            ],
            "passed_time": 59.83082564,
            "remaining_time": 12.42862562,
            "test": [
             0.136409019
            ]
           },
           {
            "iteration": 828,
            "learn": [
             0.1357215876
            ],
            "passed_time": 59.92666787,
            "remaining_time": 12.36123065,
            "test": [
             0.1364355411
            ]
           },
           {
            "iteration": 829,
            "learn": [
             0.1357110589
            ],
            "passed_time": 59.9848949,
            "remaining_time": 12.28606281,
            "test": [
             0.136427994
            ]
           },
           {
            "iteration": 830,
            "learn": [
             0.1356799114
            ],
            "passed_time": 60.05523271,
            "remaining_time": 12.21339871,
            "test": [
             0.1364323721
            ]
           },
           {
            "iteration": 831,
            "learn": [
             0.1356698235
            ],
            "passed_time": 60.17553507,
            "remaining_time": 12.1508292,
            "test": [
             0.136433043
            ]
           },
           {
            "iteration": 832,
            "learn": [
             0.1356509992
            ],
            "passed_time": 60.28803815,
            "remaining_time": 12.08655747,
            "test": [
             0.1364261441
            ]
           },
           {
            "iteration": 833,
            "learn": [
             0.1356420794
            ],
            "passed_time": 60.35180287,
            "remaining_time": 12.01246916,
            "test": [
             0.1364146374
            ]
           },
           {
            "iteration": 834,
            "learn": [
             0.1356089392
            ],
            "passed_time": 60.43299099,
            "remaining_time": 11.94184852,
            "test": [
             0.1363888995
            ]
           },
           {
            "iteration": 835,
            "learn": [
             0.1355856231
            ],
            "passed_time": 60.49280609,
            "remaining_time": 11.86700981,
            "test": [
             0.1363791822
            ]
           },
           {
            "iteration": 836,
            "learn": [
             0.135544953
            ],
            "passed_time": 60.56502696,
            "remaining_time": 11.79462293,
            "test": [
             0.1363536996
            ]
           },
           {
            "iteration": 837,
            "learn": [
             0.1355323954
            ],
            "passed_time": 60.63649477,
            "remaining_time": 11.72209087,
            "test": [
             0.136357444
            ]
           },
           {
            "iteration": 838,
            "learn": [
             0.135517293
            ],
            "passed_time": 60.70728066,
            "remaining_time": 11.6494305,
            "test": [
             0.136347615
            ]
           },
           {
            "iteration": 839,
            "learn": [
             0.1354952074
            ],
            "passed_time": 60.78524645,
            "remaining_time": 11.57814218,
            "test": [
             0.1363416793
            ]
           },
           {
            "iteration": 840,
            "learn": [
             0.1354748487
            ],
            "passed_time": 60.8622223,
            "remaining_time": 11.50665083,
            "test": [
             0.1363439123
            ]
           },
           {
            "iteration": 841,
            "learn": [
             0.1354471514
            ],
            "passed_time": 60.93897679,
            "remaining_time": 11.43510491,
            "test": [
             0.1363389798
            ]
           },
           {
            "iteration": 842,
            "learn": [
             0.1354391348
            ],
            "passed_time": 61.00852541,
            "remaining_time": 11.36220461,
            "test": [
             0.1363411751
            ]
           },
           {
            "iteration": 843,
            "learn": [
             0.1354280088
            ],
            "passed_time": 61.08786167,
            "remaining_time": 11.29112135,
            "test": [
             0.1363407556
            ]
           },
           {
            "iteration": 844,
            "learn": [
             0.1354118251
            ],
            "passed_time": 61.1528229,
            "remaining_time": 11.21738172,
            "test": [
             0.1363379549
            ]
           },
           {
            "iteration": 845,
            "learn": [
             0.1354014533
            ],
            "passed_time": 61.29445764,
            "remaining_time": 11.15761995,
            "test": [
             0.1363374171
            ]
           },
           {
            "iteration": 846,
            "learn": [
             0.1353813564
            ],
            "passed_time": 61.37242721,
            "remaining_time": 11.08616454,
            "test": [
             0.1363370031
            ]
           },
           {
            "iteration": 847,
            "learn": [
             0.1353254713
            ],
            "passed_time": 61.43061677,
            "remaining_time": 11.01114829,
            "test": [
             0.1363467002
            ]
           },
           {
            "iteration": 848,
            "learn": [
             0.1352874786
            ],
            "passed_time": 61.49920042,
            "remaining_time": 10.93802033,
            "test": [
             0.136323091
            ]
           },
           {
            "iteration": 849,
            "learn": [
             0.1352852197
            ],
            "passed_time": 61.56847165,
            "remaining_time": 10.86502441,
            "test": [
             0.1363189763
            ]
           },
           {
            "iteration": 850,
            "learn": [
             0.1352700478
            ],
            "passed_time": 61.64118935,
            "remaining_time": 10.79264067,
            "test": [
             0.1363160386
            ]
           },
           {
            "iteration": 851,
            "learn": [
             0.1352569354
            ],
            "passed_time": 61.69580079,
            "remaining_time": 10.71711094,
            "test": [
             0.136308551
            ]
           },
           {
            "iteration": 852,
            "learn": [
             0.1352393433
            ],
            "passed_time": 61.76447963,
            "remaining_time": 10.64405452,
            "test": [
             0.1362984057
            ]
           },
           {
            "iteration": 853,
            "learn": [
             0.1352111168
            ],
            "passed_time": 61.84292183,
            "remaining_time": 10.5726775,
            "test": [
             0.1363129618
            ]
           },
           {
            "iteration": 854,
            "learn": [
             0.1351770337
            ],
            "passed_time": 61.91764041,
            "remaining_time": 10.50065247,
            "test": [
             0.1363162872
            ]
           },
           {
            "iteration": 855,
            "learn": [
             0.1351341132
            ],
            "passed_time": 62.0216935,
            "remaining_time": 10.43355592,
            "test": [
             0.1363178243
            ]
           },
           {
            "iteration": 856,
            "learn": [
             0.1351025325
            ],
            "passed_time": 62.09381197,
            "remaining_time": 10.36104447,
            "test": [
             0.1363192171
            ]
           },
           {
            "iteration": 857,
            "learn": [
             0.1350810736
            ],
            "passed_time": 62.16201661,
            "remaining_time": 10.2878862,
            "test": [
             0.1363179922
            ]
           },
           {
            "iteration": 858,
            "learn": [
             0.1350413279
            ],
            "passed_time": 62.21821052,
            "remaining_time": 10.21276797,
            "test": [
             0.1363165664
            ]
           },
           {
            "iteration": 859,
            "learn": [
             0.1350331825
            ],
            "passed_time": 62.35494406,
            "remaining_time": 10.15080485,
            "test": [
             0.1363221591
            ]
           },
           {
            "iteration": 860,
            "learn": [
             0.1350093752
            ],
            "passed_time": 62.42825996,
            "remaining_time": 10.07842989,
            "test": [
             0.1362970863
            ]
           },
           {
            "iteration": 861,
            "learn": [
             0.1349470868
            ],
            "passed_time": 62.50626785,
            "remaining_time": 10.0068039,
            "test": [
             0.1362990162
            ]
           },
           {
            "iteration": 862,
            "learn": [
             0.1349285274
            ],
            "passed_time": 62.59861379,
            "remaining_time": 9.93743927,
            "test": [
             0.1363082253
            ]
           },
           {
            "iteration": 863,
            "learn": [
             0.1349235739
            ],
            "passed_time": 62.6788206,
            "remaining_time": 9.86611065,
            "test": [
             0.1363158758
            ]
           },
           {
            "iteration": 864,
            "learn": [
             0.1348898961
            ],
            "passed_time": 62.76638424,
            "remaining_time": 9.79590968,
            "test": [
             0.1363147963
            ]
           },
           {
            "iteration": 865,
            "learn": [
             0.1348830134
            ],
            "passed_time": 62.84115814,
            "remaining_time": 9.723689597,
            "test": [
             0.1363160072
            ]
           },
           {
            "iteration": 866,
            "learn": [
             0.1348502314
            ],
            "passed_time": 62.91943534,
            "remaining_time": 9.652001038,
            "test": [
             0.1363441216
            ]
           },
           {
            "iteration": 867,
            "learn": [
             0.1348309786
            ],
            "passed_time": 63.02222998,
            "remaining_time": 9.584025757,
            "test": [
             0.136333319
            ]
           },
           {
            "iteration": 868,
            "learn": [
             0.1348167471
            ],
            "passed_time": 63.10573518,
            "remaining_time": 9.513062496,
            "test": [
             0.1363362491
            ]
           },
           {
            "iteration": 869,
            "learn": [
             0.1348040092
            ],
            "passed_time": 63.1951384,
            "remaining_time": 9.442951715,
            "test": [
             0.1363389606
            ]
           },
           {
            "iteration": 870,
            "learn": [
             0.1347505482
            ],
            "passed_time": 63.26340735,
            "remaining_time": 9.369666531,
            "test": [
             0.1363383903
            ]
           },
           {
            "iteration": 871,
            "learn": [
             0.134750533
            ],
            "passed_time": 63.30422607,
            "remaining_time": 9.29236346,
            "test": [
             0.136338459
            ]
           },
           {
            "iteration": 872,
            "learn": [
             0.1347392619
            ],
            "passed_time": 63.42960382,
            "remaining_time": 9.227445229,
            "test": [
             0.1363340018
            ]
           },
           {
            "iteration": 873,
            "learn": [
             0.1347136473
            ],
            "passed_time": 63.54488222,
            "remaining_time": 9.160932677,
            "test": [
             0.1363262961
            ]
           },
           {
            "iteration": 874,
            "learn": [
             0.1346900646
            ],
            "passed_time": 63.60624041,
            "remaining_time": 9.086605772,
            "test": [
             0.1363355405
            ]
           },
           {
            "iteration": 875,
            "learn": [
             0.134673694
            ],
            "passed_time": 63.67810892,
            "remaining_time": 9.01379624,
            "test": [
             0.136337594
            ]
           },
           {
            "iteration": 876,
            "learn": [
             0.1346662774
            ],
            "passed_time": 63.74865606,
            "remaining_time": 8.94080353,
            "test": [
             0.1363409187
            ]
           },
           {
            "iteration": 877,
            "learn": [
             0.1346547368
            ],
            "passed_time": 63.81003671,
            "remaining_time": 8.866542687,
            "test": [
             0.1363427599
            ]
           },
           {
            "iteration": 878,
            "learn": [
             0.1346449372
            ],
            "passed_time": 63.87712227,
            "remaining_time": 8.793096467,
            "test": [
             0.1363426301
            ]
           },
           {
            "iteration": 879,
            "learn": [
             0.1346276485
            ],
            "passed_time": 63.97147713,
            "remaining_time": 8.723383244,
            "test": [
             0.1363362468
            ]
           },
           {
            "iteration": 880,
            "learn": [
             0.1346157618
            ],
            "passed_time": 64.03485495,
            "remaining_time": 8.649429896,
            "test": [
             0.1363291362
            ]
           },
           {
            "iteration": 881,
            "learn": [
             0.1345851008
            ],
            "passed_time": 64.11040656,
            "remaining_time": 8.577129223,
            "test": [
             0.136299284
            ]
           },
           {
            "iteration": 882,
            "learn": [
             0.1345670993
            ],
            "passed_time": 64.17647357,
            "remaining_time": 8.503564448,
            "test": [
             0.1362893716
            ]
           },
           {
            "iteration": 883,
            "learn": [
             0.1345487818
            ],
            "passed_time": 64.24396672,
            "remaining_time": 8.430203778,
            "test": [
             0.1363227259
            ]
           },
           {
            "iteration": 884,
            "learn": [
             0.1345303371
            ],
            "passed_time": 64.3181303,
            "remaining_time": 8.357723146,
            "test": [
             0.136300876
            ]
           },
           {
            "iteration": 885,
            "learn": [
             0.1345211738
            ],
            "passed_time": 64.36418515,
            "remaining_time": 8.281622016,
            "test": [
             0.1363010605
            ]
           },
           {
            "iteration": 886,
            "learn": [
             0.1345117965
            ],
            "passed_time": 64.50225561,
            "remaining_time": 8.21731103,
            "test": [
             0.1363019803
            ]
           },
           {
            "iteration": 887,
            "learn": [
             0.134503106
            ],
            "passed_time": 64.54587029,
            "remaining_time": 8.140920577,
            "test": [
             0.1363023224
            ]
           },
           {
            "iteration": 888,
            "learn": [
             0.1344948248
            ],
            "passed_time": 64.58748358,
            "remaining_time": 8.064353968,
            "test": [
             0.1363027835
            ]
           },
           {
            "iteration": 889,
            "learn": [
             0.1344845907
            ],
            "passed_time": 64.66091782,
            "remaining_time": 7.991798832,
            "test": [
             0.1363024109
            ]
           },
           {
            "iteration": 890,
            "learn": [
             0.1344726403
            ],
            "passed_time": 64.73206176,
            "remaining_time": 7.91896154,
            "test": [
             0.1363055536
            ]
           },
           {
            "iteration": 891,
            "learn": [
             0.1344539356
            ],
            "passed_time": 64.80119496,
            "remaining_time": 7.845884591,
            "test": [
             0.1363062204
            ]
           },
           {
            "iteration": 892,
            "learn": [
             0.134419329
            ],
            "passed_time": 64.87487668,
            "remaining_time": 7.773361484,
            "test": [
             0.1363301399
            ]
           },
           {
            "iteration": 893,
            "learn": [
             0.1343998841
            ],
            "passed_time": 64.94860655,
            "remaining_time": 7.700841493,
            "test": [
             0.1363209197
            ]
           },
           {
            "iteration": 894,
            "learn": [
             0.1343858041
            ],
            "passed_time": 65.03916301,
            "remaining_time": 7.630292867,
            "test": [
             0.1363051897
            ]
           },
           {
            "iteration": 895,
            "learn": [
             0.1343675061
            ],
            "passed_time": 65.12051268,
            "remaining_time": 7.558630936,
            "test": [
             0.1363148563
            ]
           },
           {
            "iteration": 896,
            "learn": [
             0.1343571946
            ],
            "passed_time": 65.18256667,
            "remaining_time": 7.484731736,
            "test": [
             0.1363255547
            ]
           },
           {
            "iteration": 897,
            "learn": [
             0.1343473901
            ],
            "passed_time": 65.22486607,
            "remaining_time": 7.408615077,
            "test": [
             0.1363361538
            ]
           },
           {
            "iteration": 898,
            "learn": [
             0.134335412
            ],
            "passed_time": 65.31361787,
            "remaining_time": 7.337792442,
            "test": [
             0.1363389718
            ]
           },
           {
            "iteration": 899,
            "learn": [
             0.1343130053
            ],
            "passed_time": 65.3619106,
            "remaining_time": 7.262434511,
            "test": [
             0.1363433813
            ]
           },
           {
            "iteration": 900,
            "learn": [
             0.1342904895
            ],
            "passed_time": 65.43184234,
            "remaining_time": 7.189514308,
            "test": [
             0.1363521287
            ]
           },
           {
            "iteration": 901,
            "learn": [
             0.1342549549
            ],
            "passed_time": 65.57053009,
            "remaining_time": 7.124070896,
            "test": [
             0.1363617189
            ]
           },
           {
            "iteration": 902,
            "learn": [
             0.1342439883
            ],
            "passed_time": 65.65062492,
            "remaining_time": 7.052171227,
            "test": [
             0.1363646056
            ]
           },
           {
            "iteration": 903,
            "learn": [
             0.1341926451
            ],
            "passed_time": 65.72507673,
            "remaining_time": 6.979654166,
            "test": [
             0.1363495334
            ]
           },
           {
            "iteration": 904,
            "learn": [
             0.1341533652
            ],
            "passed_time": 65.78579183,
            "remaining_time": 6.905690855,
            "test": [
             0.1363267654
            ]
           },
           {
            "iteration": 905,
            "learn": [
             0.1341460545
            ],
            "passed_time": 65.85615967,
            "remaining_time": 6.832758288,
            "test": [
             0.1363275751
            ]
           },
           {
            "iteration": 906,
            "learn": [
             0.1341352363
            ],
            "passed_time": 65.93208848,
            "remaining_time": 6.760401576,
            "test": [
             0.1363259399
            ]
           },
           {
            "iteration": 907,
            "learn": [
             0.1341262599
            ],
            "passed_time": 65.99736297,
            "remaining_time": 6.686957482,
            "test": [
             0.1363367388
            ]
           },
           {
            "iteration": 908,
            "learn": [
             0.1341074484
            ],
            "passed_time": 66.08625276,
            "remaining_time": 6.615895491,
            "test": [
             0.1363453927
            ]
           },
           {
            "iteration": 909,
            "learn": [
             0.1340902509
            ],
            "passed_time": 66.16136396,
            "remaining_time": 6.5434316,
            "test": [
             0.1363479079
            ]
           },
           {
            "iteration": 910,
            "learn": [
             0.1340707943
            ],
            "passed_time": 66.24293091,
            "remaining_time": 6.471592592,
            "test": [
             0.1363580075
            ]
           },
           {
            "iteration": 911,
            "learn": [
             0.1340620945
            ],
            "passed_time": 66.28692838,
            "remaining_time": 6.396107125,
            "test": [
             0.1363550404
            ]
           },
           {
            "iteration": 912,
            "learn": [
             0.1340518223
            ],
            "passed_time": 66.33731349,
            "remaining_time": 6.321299314,
            "test": [
             0.136348583
            ]
           },
           {
            "iteration": 913,
            "learn": [
             0.1340339757
            ],
            "passed_time": 66.41727152,
            "remaining_time": 6.249327517,
            "test": [
             0.1363567302
            ]
           },
           {
            "iteration": 914,
            "learn": [
             0.134019751
            ],
            "passed_time": 66.48736239,
            "remaining_time": 6.176421643,
            "test": [
             0.1363624033
            ]
           },
           {
            "iteration": 915,
            "learn": [
             0.134019751
            ],
            "passed_time": 66.62593631,
            "remaining_time": 6.10980202,
            "test": [
             0.1363624033
            ]
           },
           {
            "iteration": 916,
            "learn": [
             0.1340095851
            ],
            "passed_time": 66.69025453,
            "remaining_time": 6.03630439,
            "test": [
             0.1363611334
            ]
           },
           {
            "iteration": 917,
            "learn": [
             0.1339873613
            ],
            "passed_time": 66.77069876,
            "remaining_time": 5.96426721,
            "test": [
             0.1363553431
            ]
           },
           {
            "iteration": 918,
            "learn": [
             0.1339739685
            ],
            "passed_time": 66.84244497,
            "remaining_time": 5.891445095,
            "test": [
             0.1363503177
            ]
           },
           {
            "iteration": 919,
            "learn": [
             0.1339633862
            ],
            "passed_time": 66.91910322,
            "remaining_time": 5.819052454,
            "test": [
             0.1363527475
            ]
           },
           {
            "iteration": 920,
            "learn": [
             0.1339364932
            ],
            "passed_time": 66.99122691,
            "remaining_time": 5.746261591,
            "test": [
             0.1363415656
            ]
           },
           {
            "iteration": 921,
            "learn": [
             0.1339234473
            ],
            "passed_time": 67.08356952,
            "remaining_time": 5.675182671,
            "test": [
             0.1363331392
            ]
           },
           {
            "iteration": 922,
            "learn": [
             0.1339117406
            ],
            "passed_time": 67.15265003,
            "remaining_time": 5.602117067,
            "test": [
             0.1363354756
            ]
           },
           {
            "iteration": 923,
            "learn": [
             0.1339019856
            ],
            "passed_time": 67.22101542,
            "remaining_time": 5.529001268,
            "test": [
             0.1363295064
            ]
           },
           {
            "iteration": 924,
            "learn": [
             0.1338905558
            ],
            "passed_time": 67.30660809,
            "remaining_time": 5.457292548,
            "test": [
             0.1363320843
            ]
           },
           {
            "iteration": 925,
            "learn": [
             0.1338813766
            ],
            "passed_time": 67.35362115,
            "remaining_time": 5.382470805,
            "test": [
             0.1363256676
            ]
           },
           {
            "iteration": 926,
            "learn": [
             0.1338788063
            ],
            "passed_time": 67.41605515,
            "remaining_time": 5.308923437,
            "test": [
             0.1363279534
            ]
           },
           {
            "iteration": 927,
            "learn": [
             0.1338694819
            ],
            "passed_time": 67.4800211,
            "remaining_time": 5.235518879,
            "test": [
             0.1363271376
            ]
           },
           {
            "iteration": 928,
            "learn": [
             0.1338566743
            ],
            "passed_time": 67.54816544,
            "remaining_time": 5.162453978,
            "test": [
             0.1363270005
            ]
           },
           {
            "iteration": 929,
            "learn": [
             0.1338395512
            ],
            "passed_time": 67.68408349,
            "remaining_time": 5.094500908,
            "test": [
             0.1363210793
            ]
           },
           {
            "iteration": 930,
            "learn": [
             0.1338106146
            ],
            "passed_time": 67.76279372,
            "remaining_time": 5.022161941,
            "test": [
             0.1363132864
            ]
           },
           {
            "iteration": 931,
            "learn": [
             0.1337990675
            ],
            "passed_time": 67.8309201,
            "remaining_time": 4.949037089,
            "test": [
             0.136312744
            ]
           },
           {
            "iteration": 932,
            "learn": [
             0.1337897833
            ],
            "passed_time": 67.90100311,
            "remaining_time": 4.87606346,
            "test": [
             0.136317709
            ]
           },
           {
            "iteration": 933,
            "learn": [
             0.1337669867
            ],
            "passed_time": 67.98680539,
            "remaining_time": 4.804206805,
            "test": [
             0.1363333122
            ]
           },
           {
            "iteration": 934,
            "learn": [
             0.1337491225
            ],
            "passed_time": 68.05357687,
            "remaining_time": 4.730997322,
            "test": [
             0.1363298522
            ]
           },
           {
            "iteration": 935,
            "learn": [
             0.1337140285
            ],
            "passed_time": 68.13673808,
            "remaining_time": 4.658922262,
            "test": [
             0.1363408813
            ]
           },
           {
            "iteration": 936,
            "learn": [
             0.1337052305
            ],
            "passed_time": 68.18757454,
            "remaining_time": 4.584650156,
            "test": [
             0.1363348852
            ]
           },
           {
            "iteration": 937,
            "learn": [
             0.1336775661
            ],
            "passed_time": 68.25914936,
            "remaining_time": 4.511798785,
            "test": [
             0.1363402763
            ]
           },
           {
            "iteration": 938,
            "learn": [
             0.1336644691
            ],
            "passed_time": 68.32733595,
            "remaining_time": 4.438730025,
            "test": [
             0.1363251315
            ]
           },
           {
            "iteration": 939,
            "learn": [
             0.133655019
            ],
            "passed_time": 68.40087054,
            "remaining_time": 4.366013014,
            "test": [
             0.1363213931
            ]
           },
           {
            "iteration": 940,
            "learn": [
             0.1336412481
            ],
            "passed_time": 68.48038338,
            "remaining_time": 4.293669096,
            "test": [
             0.136322906
            ]
           },
           {
            "iteration": 941,
            "learn": [
             0.1336272647
            ],
            "passed_time": 68.55372474,
            "remaining_time": 4.220929973,
            "test": [
             0.1363333312
            ]
           },
           {
            "iteration": 942,
            "learn": [
             0.133605102
            ],
            "passed_time": 68.61972251,
            "remaining_time": 4.147745687,
            "test": [
             0.1363088763
            ]
           },
           {
            "iteration": 943,
            "learn": [
             0.1335706681
            ],
            "passed_time": 68.74598098,
            "remaining_time": 4.078151414,
            "test": [
             0.1363058691
            ]
           },
           {
            "iteration": 944,
            "learn": [
             0.1335381089
            ],
            "passed_time": 68.8137613,
            "remaining_time": 4.005033726,
            "test": [
             0.1363476141
            ]
           },
           {
            "iteration": 945,
            "learn": [
             0.1335086606
            ],
            "passed_time": 68.8605247,
            "remaining_time": 3.930727626,
            "test": [
             0.1363634729
            ]
           },
           {
            "iteration": 946,
            "learn": [
             0.1334605183
            ],
            "passed_time": 68.94050159,
            "remaining_time": 3.858338526,
            "test": [
             0.1363665901
            ]
           },
           {
            "iteration": 947,
            "learn": [
             0.1334459503
            ],
            "passed_time": 69.01731491,
            "remaining_time": 3.78575989,
            "test": [
             0.1363750305
            ]
           },
           {
            "iteration": 948,
            "learn": [
             0.1334315235
            ],
            "passed_time": 69.09990657,
            "remaining_time": 3.713482861,
            "test": [
             0.1363723883
            ]
           },
           {
            "iteration": 949,
            "learn": [
             0.1334065371
            ],
            "passed_time": 69.17729107,
            "remaining_time": 3.640910056,
            "test": [
             0.1363658662
            ]
           },
           {
            "iteration": 950,
            "learn": [
             0.1333922784
            ],
            "passed_time": 69.25887964,
            "remaining_time": 3.568543746,
            "test": [
             0.1363640584
            ]
           },
           {
            "iteration": 951,
            "learn": [
             0.1333816818
            ],
            "passed_time": 69.32405725,
            "remaining_time": 3.495330618,
            "test": [
             0.1363662859
            ]
           },
           {
            "iteration": 952,
            "learn": [
             0.1333649875
            ],
            "passed_time": 69.39888491,
            "remaining_time": 3.422610274,
            "test": [
             0.1363755276
            ]
           },
           {
            "iteration": 953,
            "learn": [
             0.133331801
            ],
            "passed_time": 69.47134318,
            "remaining_time": 3.349771264,
            "test": [
             0.1363697895
            ]
           },
           {
            "iteration": 954,
            "learn": [
             0.1333141224
            ],
            "passed_time": 69.55526245,
            "remaining_time": 3.2774731,
            "test": [
             0.1363795348
            ]
           },
           {
            "iteration": 955,
            "learn": [
             0.1333074892
            ],
            "passed_time": 69.62529772,
            "remaining_time": 3.204511611,
            "test": [
             0.1363727953
            ]
           },
           {
            "iteration": 956,
            "learn": [
             0.1332974124
            ],
            "passed_time": 69.6968469,
            "remaining_time": 3.13162426,
            "test": [
             0.1363760627
            ]
           },
           {
            "iteration": 957,
            "learn": [
             0.1332908702
            ],
            "passed_time": 69.82195757,
            "remaining_time": 3.06108791,
            "test": [
             0.1363792318
            ]
           },
           {
            "iteration": 958,
            "learn": [
             0.1332693997
            ],
            "passed_time": 69.89939053,
            "remaining_time": 2.988399387,
            "test": [
             0.1363948278
            ]
           },
           {
            "iteration": 959,
            "learn": [
             0.1332446919
            ],
            "passed_time": 69.9950908,
            "remaining_time": 2.916462116,
            "test": [
             0.1363825382
            ]
           },
           {
            "iteration": 960,
            "learn": [
             0.1332159979
            ],
            "passed_time": 70.04766204,
            "remaining_time": 2.842725098,
            "test": [
             0.1364023653
            ]
           },
           {
            "iteration": 961,
            "learn": [
             0.1332038587
            ],
            "passed_time": 70.09944137,
            "remaining_time": 2.769000803,
            "test": [
             0.1364185667
            ]
           },
           {
            "iteration": 962,
            "learn": [
             0.1331831423
            ],
            "passed_time": 70.15808137,
            "remaining_time": 2.695585681,
            "test": [
             0.136412991
            ]
           },
           {
            "iteration": 963,
            "learn": [
             0.1331705375
            ],
            "passed_time": 70.23016506,
            "remaining_time": 2.622703259,
            "test": [
             0.1364083292
            ]
           },
           {
            "iteration": 964,
            "learn": [
             0.1331509338
            ],
            "passed_time": 70.30134666,
            "remaining_time": 2.549789775,
            "test": [
             0.1364108891
            ]
           },
           {
            "iteration": 965,
            "learn": [
             0.1331243398
            ],
            "passed_time": 70.38184557,
            "remaining_time": 2.477207815,
            "test": [
             0.1364175841
            ]
           },
           {
            "iteration": 966,
            "learn": [
             0.1331060203
            ],
            "passed_time": 70.45296861,
            "remaining_time": 2.404289518,
            "test": [
             0.1364562002
            ]
           },
           {
            "iteration": 967,
            "learn": [
             0.1330973009
            ],
            "passed_time": 70.5219344,
            "remaining_time": 2.331303617,
            "test": [
             0.1364561383
            ]
           },
           {
            "iteration": 968,
            "learn": [
             0.1330879994
            ],
            "passed_time": 70.59750779,
            "remaining_time": 2.258537401,
            "test": [
             0.1364683105
            ]
           },
           {
            "iteration": 969,
            "learn": [
             0.1330778614
            ],
            "passed_time": 70.65517619,
            "remaining_time": 2.185211635,
            "test": [
             0.1364924686
            ]
           },
           {
            "iteration": 970,
            "learn": [
             0.1330461275
            ],
            "passed_time": 70.72973477,
            "remaining_time": 2.112422563,
            "test": [
             0.1365167282
            ]
           },
           {
            "iteration": 971,
            "learn": [
             0.1330188588
            ],
            "passed_time": 70.9869279,
            "remaining_time": 2.044890927,
            "test": [
             0.1365292011
            ]
           },
           {
            "iteration": 972,
            "learn": [
             0.13299315
            ],
            "passed_time": 71.07445356,
            "remaining_time": 1.972261301,
            "test": [
             0.1365311116
            ]
           },
           {
            "iteration": 973,
            "learn": [
             0.1329860697
            ],
            "passed_time": 71.16346347,
            "remaining_time": 1.899640709,
            "test": [
             0.1365364557
            ]
           },
           {
            "iteration": 974,
            "learn": [
             0.1329778139
            ],
            "passed_time": 71.23675388,
            "remaining_time": 1.826583433,
            "test": [
             0.1365368024
            ]
           },
           {
            "iteration": 975,
            "learn": [
             0.132960591
            ],
            "passed_time": 71.31605125,
            "remaining_time": 1.753673391,
            "test": [
             0.1365253333
            ]
           },
           {
            "iteration": 976,
            "learn": [
             0.1329300352
            ],
            "passed_time": 71.39209522,
            "remaining_time": 1.680673685,
            "test": [
             0.1365124882
            ]
           },
           {
            "iteration": 977,
            "learn": [
             0.1328514487
            ],
            "passed_time": 71.45194928,
            "remaining_time": 1.607303563,
            "test": [
             0.1365071589
            ]
           },
           {
            "iteration": 978,
            "learn": [
             0.1328228663
            ],
            "passed_time": 71.53006708,
            "remaining_time": 1.534352818,
            "test": [
             0.136517003
            ]
           },
           {
            "iteration": 979,
            "learn": [
             0.1328121439
            ],
            "passed_time": 71.60780963,
            "remaining_time": 1.46138387,
            "test": [
             0.1365202199
            ]
           },
           {
            "iteration": 980,
            "learn": [
             0.1327988606
            ],
            "passed_time": 71.67188766,
            "remaining_time": 1.388140536,
            "test": [
             0.1365181097
            ]
           },
           {
            "iteration": 981,
            "learn": [
             0.1327447988
            ],
            "passed_time": 71.74065747,
            "remaining_time": 1.315001868,
            "test": [
             0.1364967779
            ]
           },
           {
            "iteration": 982,
            "learn": [
             0.1327033002
            ],
            "passed_time": 71.81511084,
            "remaining_time": 1.241970381,
            "test": [
             0.136492134
            ]
           },
           {
            "iteration": 983,
            "learn": [
             0.1326762812
            ],
            "passed_time": 71.89496051,
            "remaining_time": 1.169023748,
            "test": [
             0.1365025236
            ]
           },
           {
            "iteration": 984,
            "learn": [
             0.1326618439
            ],
            "passed_time": 71.95883273,
            "remaining_time": 1.095819788,
            "test": [
             0.1365092829
            ]
           },
           {
            "iteration": 985,
            "learn": [
             0.132639308
            ],
            "passed_time": 72.09188858,
            "remaining_time": 1.023617079,
            "test": [
             0.1365152131
            ]
           },
           {
            "iteration": 986,
            "learn": [
             0.1326285331
            ],
            "passed_time": 72.1602932,
            "remaining_time": 0.9504395255,
            "test": [
             0.136515072
            ]
           },
           {
            "iteration": 987,
            "learn": [
             0.1326134487
            ],
            "passed_time": 72.22583112,
            "remaining_time": 0.8772368152,
            "test": [
             0.1365085563
            ]
           },
           {
            "iteration": 988,
            "learn": [
             0.1325956033
            ],
            "passed_time": 72.29273338,
            "remaining_time": 0.8040647797,
            "test": [
             0.1365103786
            ]
           },
           {
            "iteration": 989,
            "learn": [
             0.1325834702
            ],
            "passed_time": 72.35984625,
            "remaining_time": 0.7309075378,
            "test": [
             0.1365009266
            ]
           },
           {
            "iteration": 990,
            "learn": [
             0.1325766869
            ],
            "passed_time": 72.4118372,
            "remaining_time": 0.6576251612,
            "test": [
             0.1365070473
            ]
           },
           {
            "iteration": 991,
            "learn": [
             0.1325582228
            ],
            "passed_time": 72.4840728,
            "remaining_time": 0.5845489742,
            "test": [
             0.1365118194
            ]
           },
           {
            "iteration": 992,
            "learn": [
             0.1325332423
            ],
            "passed_time": 72.55857963,
            "remaining_time": 0.5114904908,
            "test": [
             0.1365176672
            ]
           },
           {
            "iteration": 993,
            "learn": [
             0.1325177013
            ],
            "passed_time": 72.62978244,
            "remaining_time": 0.4384091495,
            "test": [
             0.1365189747
            ]
           },
           {
            "iteration": 994,
            "learn": [
             0.1324986339
            ],
            "passed_time": 72.70912796,
            "remaining_time": 0.3653725023,
            "test": [
             0.1365123632
            ]
           },
           {
            "iteration": 995,
            "learn": [
             0.1324650944
            ],
            "passed_time": 72.77343823,
            "remaining_time": 0.2922628042,
            "test": [
             0.1364963109
            ]
           },
           {
            "iteration": 996,
            "learn": [
             0.132457177
            ],
            "passed_time": 72.84893207,
            "remaining_time": 0.2192044094,
            "test": [
             0.1364964482
            ]
           },
           {
            "iteration": 997,
            "learn": [
             0.1324494523
            ],
            "passed_time": 72.93807119,
            "remaining_time": 0.1461684793,
            "test": [
             0.1364871092
            ]
           },
           {
            "iteration": 998,
            "learn": [
             0.1324352121
            ],
            "passed_time": 73.0292457,
            "remaining_time": 0.07310234805,
            "test": [
             0.1364858851
            ]
           },
           {
            "iteration": 999,
            "learn": [
             0.132414259
            ],
            "passed_time": 73.16758781,
            "remaining_time": 0,
            "test": [
             0.1364924573
            ]
           }
          ],
          "meta": {
           "iteration_count": 1000,
           "launch_mode": "Train",
           "learn_metrics": [
            {
             "best_value": "Min",
             "name": "Logloss"
            }
           ],
           "learn_sets": [
            "learn"
           ],
           "name": "experiment",
           "parameters": "",
           "test_metrics": [
            {
             "best_value": "Min",
             "name": "Logloss"
            }
           ],
           "test_sets": [
            "test"
           ]
          }
         },
         "passed_iterations": 999,
         "total_iterations": 1000
        },
        "name": "catboost_info",
        "path": "catboost_info"
       }
      },
      "layout": "IPY_MODEL_6072944ed461430093ab7e8f543d7214"
     }
    },
    "7e90da4dbdf6466689fa5ea5fa951292": {
     "model_module": "catboost-widget",
     "model_module_version": "^1.0.0",
     "model_name": "CatboostWidgetModel",
     "state": {
      "_dom_classes": [],
      "_model_module": "catboost-widget",
      "_model_module_version": "^1.0.0",
      "_model_name": "CatboostWidgetModel",
      "_view_count": null,
      "_view_module": "catboost-widget",
      "_view_module_version": "^1.0.0",
      "_view_name": "CatboostWidgetView",
      "data": {
       "catboost_info": {
        "content": {
         "data": {
          "iterations": [
           {
            "iteration": 0,
            "learn": [
             0.4605059048
            ],
            "passed_time": 0.0238676641,
            "remaining_time": 1.169515541,
            "test": [
             0.4606196019
            ]
           },
           {
            "iteration": 1,
            "learn": [
             0.3503108852
            ],
            "passed_time": 0.05511031115,
            "remaining_time": 1.322647468,
            "test": [
             0.3499888598
            ]
           },
           {
            "iteration": 2,
            "learn": [
             0.2906126961
            ],
            "passed_time": 0.08289293839,
            "remaining_time": 1.298656035,
            "test": [
             0.2903000641
            ]
           },
           {
            "iteration": 3,
            "learn": [
             0.2559666215
            ],
            "passed_time": 0.1178011455,
            "remaining_time": 1.354713173,
            "test": [
             0.2561638719
            ]
           },
           {
            "iteration": 4,
            "learn": [
             0.2316923026
            ],
            "passed_time": 0.1627614742,
            "remaining_time": 1.464853268,
            "test": [
             0.2324147468
            ]
           },
           {
            "iteration": 5,
            "learn": [
             0.2105745754
            ],
            "passed_time": 0.201169146,
            "remaining_time": 1.475240404,
            "test": [
             0.2091843593
            ]
           },
           {
            "iteration": 6,
            "learn": [
             0.197693731
            ],
            "passed_time": 0.2416268531,
            "remaining_time": 1.48427924,
            "test": [
             0.1937627011
            ]
           },
           {
            "iteration": 7,
            "learn": [
             0.1918272966
            ],
            "passed_time": 0.2770569272,
            "remaining_time": 1.454548868,
            "test": [
             0.1863549413
            ]
           },
           {
            "iteration": 8,
            "learn": [
             0.1856187384
            ],
            "passed_time": 0.3190523461,
            "remaining_time": 1.453460688,
            "test": [
             0.1783691535
            ]
           },
           {
            "iteration": 9,
            "learn": [
             0.1824235776
            ],
            "passed_time": 0.3575406862,
            "remaining_time": 1.430162745,
            "test": [
             0.174306438
            ]
           },
           {
            "iteration": 10,
            "learn": [
             0.1804442117
            ],
            "passed_time": 0.3931666857,
            "remaining_time": 1.393954613,
            "test": [
             0.1716493436
            ]
           },
           {
            "iteration": 11,
            "learn": [
             0.1793339084
            ],
            "passed_time": 0.4299540598,
            "remaining_time": 1.361521189,
            "test": [
             0.1706810963
            ]
           },
           {
            "iteration": 12,
            "learn": [
             0.1761479293
            ],
            "passed_time": 0.4691626676,
            "remaining_time": 1.335309131,
            "test": [
             0.1673812398
            ]
           },
           {
            "iteration": 13,
            "learn": [
             0.1750351821
            ],
            "passed_time": 0.5073248748,
            "remaining_time": 1.304549678,
            "test": [
             0.1658674475
            ]
           },
           {
            "iteration": 14,
            "learn": [
             0.1738782346
            ],
            "passed_time": 0.542708804,
            "remaining_time": 1.266320543,
            "test": [
             0.1645488667
            ]
           },
           {
            "iteration": 15,
            "learn": [
             0.1734514975
            ],
            "passed_time": 0.586808428,
            "remaining_time": 1.24696791,
            "test": [
             0.1640339416
            ]
           },
           {
            "iteration": 16,
            "learn": [
             0.17293761
            ],
            "passed_time": 0.6228068131,
            "remaining_time": 1.208977931,
            "test": [
             0.163386252
            ]
           },
           {
            "iteration": 17,
            "learn": [
             0.1721999461
            ],
            "passed_time": 0.6591935252,
            "remaining_time": 1.1718996,
            "test": [
             0.1624533158
            ]
           },
           {
            "iteration": 18,
            "learn": [
             0.1715186944
            ],
            "passed_time": 0.697114826,
            "remaining_time": 1.137397874,
            "test": [
             0.1620883191
            ]
           },
           {
            "iteration": 19,
            "learn": [
             0.1712614157
            ],
            "passed_time": 0.7326511314,
            "remaining_time": 1.098976697,
            "test": [
             0.1620780352
            ]
           },
           {
            "iteration": 20,
            "learn": [
             0.1704268712
            ],
            "passed_time": 0.7918994672,
            "remaining_time": 1.093575455,
            "test": [
             0.1612891666
            ]
           },
           {
            "iteration": 21,
            "learn": [
             0.169852421
            ],
            "passed_time": 0.8373755178,
            "remaining_time": 1.065750659,
            "test": [
             0.1613689958
            ]
           },
           {
            "iteration": 22,
            "learn": [
             0.1697387441
            ],
            "passed_time": 0.8749348229,
            "remaining_time": 1.027097401,
            "test": [
             0.1613547903
            ]
           },
           {
            "iteration": 23,
            "learn": [
             0.1694079222
            ],
            "passed_time": 0.9109506701,
            "remaining_time": 0.9868632259,
            "test": [
             0.1609733288
            ]
           },
           {
            "iteration": 24,
            "learn": [
             0.1690128967
            ],
            "passed_time": 0.9463643243,
            "remaining_time": 0.9463643243,
            "test": [
             0.1607087765
            ]
           },
           {
            "iteration": 25,
            "learn": [
             0.1688077167
            ],
            "passed_time": 0.9929370189,
            "remaining_time": 0.9165572482,
            "test": [
             0.1607696623
            ]
           },
           {
            "iteration": 26,
            "learn": [
             0.168575389
            ],
            "passed_time": 1.028817083,
            "remaining_time": 0.8763997374,
            "test": [
             0.1604023999
            ]
           },
           {
            "iteration": 27,
            "learn": [
             0.1683978599
            ],
            "passed_time": 1.064385381,
            "remaining_time": 0.8363027997,
            "test": [
             0.1603895759
            ]
           },
           {
            "iteration": 28,
            "learn": [
             0.1681454206
            ],
            "passed_time": 1.101461376,
            "remaining_time": 0.7976099621,
            "test": [
             0.1604832465
            ]
           },
           {
            "iteration": 29,
            "learn": [
             0.167838624
            ],
            "passed_time": 1.137055147,
            "remaining_time": 0.7580367649,
            "test": [
             0.1603199174
            ]
           },
           {
            "iteration": 30,
            "learn": [
             0.1673624935
            ],
            "passed_time": 1.174548412,
            "remaining_time": 0.7198845105,
            "test": [
             0.1595814145
            ]
           },
           {
            "iteration": 31,
            "learn": [
             0.167089361
            ],
            "passed_time": 1.209531967,
            "remaining_time": 0.6803617312,
            "test": [
             0.1594746745
            ]
           },
           {
            "iteration": 32,
            "learn": [
             0.1669304216
            ],
            "passed_time": 1.245301648,
            "remaining_time": 0.6415190307,
            "test": [
             0.1595637559
            ]
           },
           {
            "iteration": 33,
            "learn": [
             0.166807127
            ],
            "passed_time": 1.280794355,
            "remaining_time": 0.6027267551,
            "test": [
             0.1595028911
            ]
           },
           {
            "iteration": 34,
            "learn": [
             0.1666078076
            ],
            "passed_time": 1.318248032,
            "remaining_time": 0.5649634421,
            "test": [
             0.1594402315
            ]
           },
           {
            "iteration": 35,
            "learn": [
             0.1665194236
            ],
            "passed_time": 1.356212772,
            "remaining_time": 0.5274160782,
            "test": [
             0.1595330344
            ]
           },
           {
            "iteration": 36,
            "learn": [
             0.1659924101
            ],
            "passed_time": 1.391062408,
            "remaining_time": 0.4887516567,
            "test": [
             0.1594854249
            ]
           },
           {
            "iteration": 37,
            "learn": [
             0.1658955419
            ],
            "passed_time": 1.426508524,
            "remaining_time": 0.4504763759,
            "test": [
             0.1593681288
            ]
           },
           {
            "iteration": 38,
            "learn": [
             0.165503721
            ],
            "passed_time": 1.463878686,
            "remaining_time": 0.41288886,
            "test": [
             0.1592233549
            ]
           },
           {
            "iteration": 39,
            "learn": [
             0.1653199139
            ],
            "passed_time": 1.499016497,
            "remaining_time": 0.3747541243,
            "test": [
             0.1593136389
            ]
           },
           {
            "iteration": 40,
            "learn": [
             0.1651841176
            ],
            "passed_time": 1.534139969,
            "remaining_time": 0.3367624323,
            "test": [
             0.1591806426
            ]
           },
           {
            "iteration": 41,
            "learn": [
             0.1650899355
            ],
            "passed_time": 1.568541621,
            "remaining_time": 0.2987698325,
            "test": [
             0.1591867519
            ]
           },
           {
            "iteration": 42,
            "learn": [
             0.1648788375
            ],
            "passed_time": 1.607772634,
            "remaining_time": 0.2617304288,
            "test": [
             0.1590281048
            ]
           },
           {
            "iteration": 43,
            "learn": [
             0.1643968233
            ],
            "passed_time": 1.64308938,
            "remaining_time": 0.2240576427,
            "test": [
             0.1588170946
            ]
           },
           {
            "iteration": 44,
            "learn": [
             0.1640801624
            ],
            "passed_time": 1.679223185,
            "remaining_time": 0.1865803539,
            "test": [
             0.1588823755
            ]
           },
           {
            "iteration": 45,
            "learn": [
             0.1639840603
            ],
            "passed_time": 1.71637674,
            "remaining_time": 0.1492501513,
            "test": [
             0.1587251997
            ]
           },
           {
            "iteration": 46,
            "learn": [
             0.1637870615
            ],
            "passed_time": 1.758630626,
            "remaining_time": 0.1122530187,
            "test": [
             0.1588664517
            ]
           },
           {
            "iteration": 47,
            "learn": [
             0.1637159043
            ],
            "passed_time": 1.808692704,
            "remaining_time": 0.075362196,
            "test": [
             0.1589014981
            ]
           },
           {
            "iteration": 48,
            "learn": [
             0.1636186934
            ],
            "passed_time": 1.846172045,
            "remaining_time": 0.03767698052,
            "test": [
             0.1588985522
            ]
           },
           {
            "iteration": 49,
            "learn": [
             0.1633472341
            ],
            "passed_time": 1.881816231,
            "remaining_time": 0,
            "test": [
             0.158804302
            ]
           }
          ],
          "meta": {
           "iteration_count": 50,
           "launch_mode": "Train",
           "learn_metrics": [
            {
             "best_value": "Min",
             "name": "MultiClass"
            }
           ],
           "learn_sets": [
            "learn"
           ],
           "name": "experiment",
           "parameters": "",
           "test_metrics": [
            {
             "best_value": "Min",
             "name": "MultiClass"
            }
           ],
           "test_sets": [
            "test"
           ]
          }
         },
         "passed_iterations": 49,
         "total_iterations": 50
        },
        "name": "catboost_info",
        "path": "catboost_info"
       }
      },
      "layout": "IPY_MODEL_f39e7ad61dd546fd94d1610241fb87f8"
     }
    },
    "8fdfec33b84a4a48922e0ddbb9d9c37b": {
     "model_module": "catboost-widget",
     "model_module_version": "^1.0.0",
     "model_name": "CatboostWidgetModel",
     "state": {
      "_dom_classes": [],
      "_model_module": "catboost-widget",
      "_model_module_version": "^1.0.0",
      "_model_name": "CatboostWidgetModel",
      "_view_count": null,
      "_view_module": "catboost-widget",
      "_view_module_version": "^1.0.0",
      "_view_name": "CatboostWidgetView",
      "data": {
       "catboost_info": {
        "content": {
         "data": {
          "iterations": [
           {
            "iteration": 0,
            "learn": [
             0.3019454033
            ],
            "passed_time": 0.03565707354,
            "remaining_time": 7.095757635,
            "test": [
             0.5002429937,
             0.3026453308
            ]
           },
           {
            "iteration": 1,
            "learn": [
             0.2194643336
            ],
            "passed_time": 0.09829993036,
            "remaining_time": 9.731693105,
            "test": [
             0.6725905678,
             0.2175722686
            ]
           },
           {
            "iteration": 2,
            "learn": [
             0.1900878944
            ],
            "passed_time": 0.1431873939,
            "remaining_time": 9.402638867,
            "test": [
             0.8172534443,
             0.1812002974
            ]
           },
           {
            "iteration": 3,
            "learn": [
             0.1783254767
            ],
            "passed_time": 0.1849358119,
            "remaining_time": 9.061854781,
            "test": [
             0.8430705132,
             0.1656738083
            ]
           },
           {
            "iteration": 4,
            "learn": [
             0.1724974471
            ],
            "passed_time": 0.2617298277,
            "remaining_time": 10.20746328,
            "test": [
             0.8607459119,
             0.1572136392
            ]
           },
           {
            "iteration": 5,
            "learn": [
             0.1695906373
            ],
            "passed_time": 0.3189686334,
            "remaining_time": 10.31331915,
            "test": [
             0.873119669,
             0.1540460607
            ]
           },
           {
            "iteration": 6,
            "learn": [
             0.1644359223
            ],
            "passed_time": 0.3890359356,
            "remaining_time": 10.72627651,
            "test": [
             0.8804934536,
             0.1502181166
            ]
           },
           {
            "iteration": 7,
            "learn": [
             0.1629882117
            ],
            "passed_time": 0.4591968213,
            "remaining_time": 11.02072371,
            "test": [
             0.8811448383,
             0.1492910907
            ]
           },
           {
            "iteration": 8,
            "learn": [
             0.1607434555
            ],
            "passed_time": 0.532322079,
            "remaining_time": 11.29705746,
            "test": [
             0.8858716288,
             0.1471131852
            ]
           },
           {
            "iteration": 9,
            "learn": [
             0.1591576026
            ],
            "passed_time": 0.5973733871,
            "remaining_time": 11.35009436,
            "test": [
             0.8873470235,
             0.1467101001
            ]
           },
           {
            "iteration": 10,
            "learn": [
             0.1567558953
            ],
            "passed_time": 0.6717925901,
            "remaining_time": 11.54261814,
            "test": [
             0.8869335303,
             0.1460606514
            ]
           },
           {
            "iteration": 11,
            "learn": [
             0.1561701427
            ],
            "passed_time": 0.7538111288,
            "remaining_time": 11.80970768,
            "test": [
             0.8865904053,
             0.1461426391
            ]
           },
           {
            "iteration": 12,
            "learn": [
             0.1552953811
            ],
            "passed_time": 0.8470973953,
            "remaining_time": 12.18517022,
            "test": [
             0.8883968072,
             0.1451935148
            ]
           },
           {
            "iteration": 13,
            "learn": [
             0.1543043552
            ],
            "passed_time": 0.9219153977,
            "remaining_time": 12.24830457,
            "test": [
             0.8889946184,
             0.1452749548
            ]
           },
           {
            "iteration": 14,
            "learn": [
             0.1532817745
            ],
            "passed_time": 1.000038884,
            "remaining_time": 12.33381291,
            "test": [
             0.8883951065,
             0.1454900196
            ]
           },
           {
            "iteration": 15,
            "learn": [
             0.1526503658
            ],
            "passed_time": 1.076921583,
            "remaining_time": 12.3845982,
            "test": [
             0.8887061299,
             0.1447464933
            ]
           },
           {
            "iteration": 16,
            "learn": [
             0.1526052827
            ],
            "passed_time": 1.099467557,
            "remaining_time": 11.83544488,
            "test": [
             0.8887167595,
             0.1447535283
            ]
           },
           {
            "iteration": 17,
            "learn": [
             0.1520235641
            ],
            "passed_time": 1.166158271,
            "remaining_time": 11.79115585,
            "test": [
             0.8897542128,
             0.1442273491
            ]
           },
           {
            "iteration": 18,
            "learn": [
             0.151649728
            ],
            "passed_time": 1.237007192,
            "remaining_time": 11.78412114,
            "test": [
             0.8904474783,
             0.1436281881
            ]
           },
           {
            "iteration": 19,
            "learn": [
             0.1511749535
            ],
            "passed_time": 1.307264652,
            "remaining_time": 11.76538187,
            "test": [
             0.8913067788,
             0.1431910072
            ]
           },
           {
            "iteration": 20,
            "learn": [
             0.1507562402
            ],
            "passed_time": 1.370982959,
            "remaining_time": 11.68599761,
            "test": [
             0.8919135189,
             0.1430893446
            ]
           },
           {
            "iteration": 21,
            "learn": [
             0.1502522239
            ],
            "passed_time": 1.442629814,
            "remaining_time": 11.67218668,
            "test": [
             0.8925253613,
             0.1425608682
            ]
           },
           {
            "iteration": 22,
            "learn": [
             0.1498690937
            ],
            "passed_time": 1.521477361,
            "remaining_time": 11.70876056,
            "test": [
             0.8927209467,
             0.1424163867
            ]
           },
           {
            "iteration": 23,
            "learn": [
             0.1490469051
            ],
            "passed_time": 1.596306193,
            "remaining_time": 11.70624542,
            "test": [
             0.8924237419,
             0.142475333
            ]
           },
           {
            "iteration": 24,
            "learn": [
             0.1489510634
            ],
            "passed_time": 1.655623114,
            "remaining_time": 11.5893618,
            "test": [
             0.8924666856,
             0.142583088
            ]
           },
           {
            "iteration": 25,
            "learn": [
             0.1484970014
            ],
            "passed_time": 1.737049318,
            "remaining_time": 11.62486851,
            "test": [
             0.8920574443,
             0.1429265037
            ]
           },
           {
            "iteration": 26,
            "learn": [
             0.1477744724
            ],
            "passed_time": 1.821301308,
            "remaining_time": 11.66981949,
            "test": [
             0.8925632028,
             0.1427360675
            ]
           },
           {
            "iteration": 27,
            "learn": [
             0.1473079245
            ],
            "passed_time": 1.894475147,
            "remaining_time": 11.63749019,
            "test": [
             0.8925240857,
             0.1430049391
            ]
           },
           {
            "iteration": 28,
            "learn": [
             0.146553809
            ],
            "passed_time": 1.985090325,
            "remaining_time": 11.70518778,
            "test": [
             0.89419294,
             0.1422589317
            ]
           },
           {
            "iteration": 29,
            "learn": [
             0.1460003251
            ],
            "passed_time": 2.064757548,
            "remaining_time": 11.70029277,
            "test": [
             0.895221677,
             0.1417719136
            ]
           },
           {
            "iteration": 30,
            "learn": [
             0.1453138716
            ],
            "passed_time": 2.153022026,
            "remaining_time": 11.73744266,
            "test": [
             0.8943812973,
             0.1420101171
            ]
           },
           {
            "iteration": 31,
            "learn": [
             0.1443641765
            ],
            "passed_time": 2.215730181,
            "remaining_time": 11.63258345,
            "test": [
             0.8922600453,
             0.1426111056
            ]
           },
           {
            "iteration": 32,
            "learn": [
             0.1442410272
            ],
            "passed_time": 2.27495865,
            "remaining_time": 11.51266953,
            "test": [
             0.8921480089,
             0.1426756437
            ]
           },
           {
            "iteration": 33,
            "learn": [
             0.143945585
            ],
            "passed_time": 2.337931813,
            "remaining_time": 11.41460826,
            "test": [
             0.8919923909,
             0.1428310224
            ]
           },
           {
            "iteration": 34,
            "learn": [
             0.1436356283
            ],
            "passed_time": 2.406955525,
            "remaining_time": 11.34707605,
            "test": [
             0.8917468461,
             0.1426774104
            ]
           },
           {
            "iteration": 35,
            "learn": [
             0.1434553503
            ],
            "passed_time": 2.465064126,
            "remaining_time": 11.22973658,
            "test": [
             0.8917657668,
             0.1425521907
            ]
           },
           {
            "iteration": 36,
            "learn": [
             0.1433225171
            ],
            "passed_time": 2.525008532,
            "remaining_time": 11.12368623,
            "test": [
             0.8922653602,
             0.1423660529
            ]
           },
           {
            "iteration": 37,
            "learn": [
             0.1432133075
            ],
            "passed_time": 2.588401253,
            "remaining_time": 11.03476323,
            "test": [
             0.8922062593,
             0.1423230815
            ]
           },
           {
            "iteration": 38,
            "learn": [
             0.1427766439
            ],
            "passed_time": 2.662847622,
            "remaining_time": 10.99278121,
            "test": [
             0.8920512791,
             0.1422984672
            ]
           },
           {
            "iteration": 39,
            "learn": [
             0.1425212753
            ],
            "passed_time": 2.733963855,
            "remaining_time": 10.93585542,
            "test": [
             0.8920032331,
             0.142374997
            ]
           },
           {
            "iteration": 40,
            "learn": [
             0.1422414815
            ],
            "passed_time": 2.803386444,
            "remaining_time": 10.87166938,
            "test": [
             0.8926010443,
             0.1423015912
            ]
           },
           {
            "iteration": 41,
            "learn": [
             0.1416631749
            ],
            "passed_time": 2.888565316,
            "remaining_time": 10.86650762,
            "test": [
             0.8933304506,
             0.1424947219
            ]
           },
           {
            "iteration": 42,
            "learn": [
             0.1413092487
            ],
            "passed_time": 2.959955169,
            "remaining_time": 10.80727818,
            "test": [
             0.8936114984,
             0.1425464389
            ]
           },
           {
            "iteration": 43,
            "learn": [
             0.1404822368
            ],
            "passed_time": 3.026438337,
            "remaining_time": 10.73009956,
            "test": [
             0.8925666043,
             0.1432500882
            ]
           },
           {
            "iteration": 44,
            "learn": [
             0.1404165604
            ],
            "passed_time": 3.105762383,
            "remaining_time": 10.69762599,
            "test": [
             0.892588714,
             0.1432123067
            ]
           },
           {
            "iteration": 45,
            "learn": [
             0.1399972957
            ],
            "passed_time": 3.181552635,
            "remaining_time": 10.65128491,
            "test": [
             0.892229432,
             0.1434693132
            ]
           },
           {
            "iteration": 46,
            "learn": [
             0.1396673514
            ],
            "passed_time": 3.237778629,
            "remaining_time": 10.54000277,
            "test": [
             0.8921006007,
             0.1434543528
            ]
           },
           {
            "iteration": 47,
            "learn": [
             0.1393547338
            ],
            "passed_time": 3.294973917,
            "remaining_time": 10.43408407,
            "test": [
             0.8916622341,
             0.1432937225
            ]
           },
           {
            "iteration": 48,
            "learn": [
             0.1389403622
            ],
            "passed_time": 3.376545395,
            "remaining_time": 10.40527254,
            "test": [
             0.8917153823,
             0.1432027523
            ]
           },
           {
            "iteration": 49,
            "learn": [
             0.1386617934
            ],
            "passed_time": 3.437942358,
            "remaining_time": 10.31382707,
            "test": [
             0.8913641789,
             0.1434154742
            ]
           }
          ],
          "meta": {
           "iteration_count": 200,
           "launch_mode": "Train",
           "learn_metrics": [
            {
             "best_value": "Min",
             "name": "Logloss"
            }
           ],
           "learn_sets": [
            "learn"
           ],
           "name": "experiment",
           "parameters": "",
           "test_metrics": [
            {
             "best_value": "Max",
             "name": "AUC"
            },
            {
             "best_value": "Min",
             "name": "Logloss"
            }
           ],
           "test_sets": [
            "test"
           ]
          }
         },
         "passed_iterations": 49,
         "total_iterations": 200
        },
        "name": "catboost_info",
        "path": "catboost_info"
       }
      },
      "layout": "IPY_MODEL_bf1f2b9e1dbe4f6db3c9711269258afd"
     }
    },
    "afd560dfd6074ff287d3ea082ddfd20e": {
     "model_module": "catboost-widget",
     "model_module_version": "^1.0.0",
     "model_name": "CatboostWidgetModel",
     "state": {
      "_dom_classes": [],
      "_model_module": "catboost-widget",
      "_model_module_version": "^1.0.0",
      "_model_name": "CatboostWidgetModel",
      "_view_count": null,
      "_view_module": "catboost-widget",
      "_view_module_version": "^1.0.0",
      "_view_name": "CatboostWidgetView",
      "data": {
       "catboost_info": {
        "content": {
         "data": {
          "iterations": [
           {
            "eval_dataset": [
             0.6570475651,
             0.4998336014
            ],
            "iteration": 0
           },
           {
            "eval_dataset": [
             0.6228196836,
             0.5380404003
            ],
            "iteration": 1
           },
           {
            "eval_dataset": [
             0.5913552407,
             0.5503604643
            ],
            "iteration": 2
           },
           {
            "eval_dataset": [
             0.5624282116,
             0.5887662927
            ],
            "iteration": 3
           },
           {
            "eval_dataset": [
             0.534779565,
             0.6535856711
            ],
            "iteration": 4
           },
           {
            "eval_dataset": [
             0.5103482378,
             0.6514737489
            ],
            "iteration": 5
           },
           {
            "eval_dataset": [
             0.4872530307,
             0.647568367
            ],
            "iteration": 6
           },
           {
            "eval_dataset": [
             0.4659734961,
             0.6480478495
            ],
            "iteration": 7
           },
           {
            "eval_dataset": [
             0.4445469771,
             0.7116795224
            ],
            "iteration": 8
           },
           {
            "eval_dataset": [
             0.42623213,
             0.7309966703
            ],
            "iteration": 9
           },
           {
            "eval_dataset": [
             0.4093566096,
             0.7277469707
            ],
            "iteration": 10
           },
           {
            "eval_dataset": [
             0.3949914128,
             0.7277510176
            ],
            "iteration": 11
           },
           {
            "eval_dataset": [
             0.3800368951,
             0.729944201
            ],
            "iteration": 12
           },
           {
            "eval_dataset": [
             0.3673764797,
             0.7297768718
            ],
            "iteration": 13
           },
           {
            "eval_dataset": [
             0.355032956,
             0.7274956567
            ],
            "iteration": 14
           },
           {
            "eval_dataset": [
             0.3429634339,
             0.7272517961
            ],
            "iteration": 15
           },
           {
            "eval_dataset": [
             0.3328285279,
             0.7335846513
            ],
            "iteration": 16
           },
           {
            "eval_dataset": [
             0.3229675129,
             0.7349944891
            ],
            "iteration": 17
           },
           {
            "eval_dataset": [
             0.3131870756,
             0.7445012894
            ],
            "iteration": 18
           },
           {
            "eval_dataset": [
             0.3033103483,
             0.7606430664
            ],
            "iteration": 19
           },
           {
            "eval_dataset": [
             0.2953428915,
             0.7626512307
            ],
            "iteration": 20
           },
           {
            "eval_dataset": [
             0.2893155518,
             0.7626512307
            ],
            "iteration": 21
           },
           {
            "eval_dataset": [
             0.2817117866,
             0.7731095767
            ],
            "iteration": 22
           },
           {
            "eval_dataset": [
             0.2749099632,
             0.7769270806
            ],
            "iteration": 23
           },
           {
            "eval_dataset": [
             0.2682515818,
             0.7865748202
            ],
            "iteration": 24
           },
           {
            "eval_dataset": [
             0.261331536,
             0.7985010429
            ],
            "iteration": 25
           },
           {
            "eval_dataset": [
             0.2557130157,
             0.7985895697
            ],
            "iteration": 26
           },
           {
            "eval_dataset": [
             0.2507107812,
             0.8007986502
            ],
            "iteration": 27
           },
           {
            "eval_dataset": [
             0.246025418,
             0.800449196
            ],
            "iteration": 28
           },
           {
            "eval_dataset": [
             0.2431732664,
             0.800449196
            ],
            "iteration": 29
           },
           {
            "eval_dataset": [
             0.2380475218,
             0.8191367526
            ],
            "iteration": 30
           },
           {
            "eval_dataset": [
             0.2329027203,
             0.835690061
            ],
            "iteration": 31
           },
           {
            "eval_dataset": [
             0.2274336535,
             0.8517889022
            ],
            "iteration": 32
           },
           {
            "eval_dataset": [
             0.2225199456,
             0.8665995927
            ],
            "iteration": 33
           },
           {
            "eval_dataset": [
             0.2173338454,
             0.8851289553
            ],
            "iteration": 34
           },
           {
            "eval_dataset": [
             0.2140101838,
             0.8854620087
            ],
            "iteration": 35
           },
           {
            "eval_dataset": [
             0.2102494185,
             0.8886454134
            ],
            "iteration": 36
           },
           {
            "eval_dataset": [
             0.2062756087,
             0.8930890337
            ],
            "iteration": 37
           },
           {
            "eval_dataset": [
             0.2027808823,
             0.8936126046
            ],
            "iteration": 38
           },
           {
            "eval_dataset": [
             0.1987147573,
             0.8990718542
            ],
            "iteration": 39
           },
           {
            "eval_dataset": [
             0.1948473401,
             0.9033082063
            ],
            "iteration": 40
           },
           {
            "eval_dataset": [
             0.1910627362,
             0.9114878046
            ],
            "iteration": 41
           },
           {
            "eval_dataset": [
             0.18828344,
             0.9125758416
            ],
            "iteration": 42
           },
           {
            "eval_dataset": [
             0.1857413691,
             0.9136301293
            ],
            "iteration": 43
           },
           {
            "eval_dataset": [
             0.1833052938,
             0.9147523852
            ],
            "iteration": 44
           },
           {
            "eval_dataset": [
             0.1803358031,
             0.9163221074
            ],
            "iteration": 45
           },
           {
            "eval_dataset": [
             0.1776574969,
             0.9177379215
            ],
            "iteration": 46
           },
           {
            "eval_dataset": [
             0.1752894989,
             0.9183881227
            ],
            "iteration": 47
           },
           {
            "eval_dataset": [
             0.1729432379,
             0.9206275204
            ],
            "iteration": 48
           },
           {
            "eval_dataset": [
             0.1709300585,
             0.921141623
            ],
            "iteration": 49
           },
           {
            "eval_dataset": [
             0.1687057697,
             0.925887288
            ],
            "iteration": 50
           },
           {
            "eval_dataset": [
             0.1661209088,
             0.9289392728
            ],
            "iteration": 51
           },
           {
            "eval_dataset": [
             0.164343316,
             0.9291156093
            ],
            "iteration": 52
           },
           {
            "eval_dataset": [
             0.1624616176,
             0.9323539367
            ],
            "iteration": 53
           },
           {
            "eval_dataset": [
             0.1607315304,
             0.9328794285
            ],
            "iteration": 54
           },
           {
            "eval_dataset": [
             0.1591689564,
             0.9334459266
            ],
            "iteration": 55
           },
           {
            "eval_dataset": [
             0.1576461474,
             0.9338429099
            ],
            "iteration": 56
           },
           {
            "eval_dataset": [
             0.1557149712,
             0.9357592432
            ],
            "iteration": 57
           },
           {
            "eval_dataset": [
             0.1539507056,
             0.9369532494
            ],
            "iteration": 58
           },
           {
            "eval_dataset": [
             0.1521412735,
             0.9383367401
            ],
            "iteration": 59
           },
           {
            "eval_dataset": [
             0.1506981714,
             0.9386317754
            ],
            "iteration": 60
           },
           {
            "eval_dataset": [
             0.1491809917,
             0.9385369905
            ],
            "iteration": 61
           },
           {
            "eval_dataset": [
             0.1480010339,
             0.9389684743
            ],
            "iteration": 62
           },
           {
            "eval_dataset": [
             0.1467739097,
             0.9396214502
            ],
            "iteration": 63
           },
           {
            "eval_dataset": [
             0.1455062554,
             0.9400228218
            ],
            "iteration": 64
           },
           {
            "eval_dataset": [
             0.144411819,
             0.9401066102
            ],
            "iteration": 65
           },
           {
            "eval_dataset": [
             0.1433299425,
             0.9410448287
            ],
            "iteration": 66
           },
           {
            "eval_dataset": [
             0.1422823459,
             0.9411123273
            ],
            "iteration": 67
           },
           {
            "eval_dataset": [
             0.1413799769,
             0.9419656475
            ],
            "iteration": 68
           },
           {
            "eval_dataset": [
             0.1404114618,
             0.9424716991
            ],
            "iteration": 69
           },
           {
            "eval_dataset": [
             0.1392663901,
             0.9440445717
            ],
            "iteration": 70
           },
           {
            "eval_dataset": [
             0.1380444705,
             0.9456889214
            ],
            "iteration": 71
           },
           {
            "eval_dataset": [
             0.1368625625,
             0.9470724633
            ],
            "iteration": 72
           },
           {
            "eval_dataset": [
             0.135896428,
             0.9478855541
            ],
            "iteration": 73
           },
           {
            "eval_dataset": [
             0.1348114651,
             0.9489015334
            ],
            "iteration": 74
           },
           {
            "eval_dataset": [
             0.1337973205,
             0.94989978
            ],
            "iteration": 75
           },
           {
            "eval_dataset": [
             0.1326419483,
             0.9512306361
            ],
            "iteration": 76
           },
           {
            "eval_dataset": [
             0.1315975462,
             0.9521513354
            ],
            "iteration": 77
           },
           {
            "eval_dataset": [
             0.1307684944,
             0.9527315535
            ],
            "iteration": 78
           },
           {
            "eval_dataset": [
             0.1300377665,
             0.9533262514
            ],
            "iteration": 79
           },
           {
            "eval_dataset": [
             0.1292228401,
             0.9537012417
            ],
            "iteration": 80
           },
           {
            "eval_dataset": [
             0.1284603483,
             0.9541138318
            ],
            "iteration": 81
           },
           {
            "eval_dataset": [
             0.1278936773,
             0.9543003621
            ],
            "iteration": 82
           },
           {
            "eval_dataset": [
             0.1270582574,
             0.9546702469
            ],
            "iteration": 83
           },
           {
            "eval_dataset": [
             0.1263514246,
             0.9549568043
            ],
            "iteration": 84
           },
           {
            "eval_dataset": [
             0.1257587216,
             0.955328149
            ],
            "iteration": 85
           },
           {
            "eval_dataset": [
             0.1252117705,
             0.9554135767
            ],
            "iteration": 86
           },
           {
            "eval_dataset": [
             0.1244747151,
             0.9557770582
            ],
            "iteration": 87
           },
           {
            "eval_dataset": [
             0.1239556238,
             0.9558094671
            ],
            "iteration": 88
           },
           {
            "eval_dataset": [
             0.1233134353,
             0.9562882666
            ],
            "iteration": 89
           },
           {
            "eval_dataset": [
             0.1221101052,
             0.9574569587
            ],
            "iteration": 90
           },
           {
            "eval_dataset": [
             0.1210318338,
             0.9583551442
            ],
            "iteration": 91
           },
           {
            "eval_dataset": [
             0.1199528343,
             0.9592265812
            ],
            "iteration": 92
           },
           {
            "eval_dataset": [
             0.1192061578,
             0.9597246672
            ],
            "iteration": 93
           },
           {
            "eval_dataset": [
             0.1183067773,
             0.9602830631
            ],
            "iteration": 94
           },
           {
            "eval_dataset": [
             0.1174501073,
             0.9610310971
            ],
            "iteration": 95
           },
           {
            "eval_dataset": [
             0.1167889479,
             0.9613659263
            ],
            "iteration": 96
           },
           {
            "eval_dataset": [
             0.1161416337,
             0.961729886
            ],
            "iteration": 97
           },
           {
            "eval_dataset": [
             0.1156290918,
             0.9620079057
            ],
            "iteration": 98
           },
           {
            "eval_dataset": [
             0.1148937671,
             0.9623763391
            ],
            "iteration": 99
           },
           {
            "eval_dataset": [
             0.1141883762,
             0.9627093583
            ],
            "iteration": 100
           },
           {
            "eval_dataset": [
             0.1135618906,
             0.9630409603
            ],
            "iteration": 101
           },
           {
            "eval_dataset": [
             0.1128533214,
             0.9634398902
            ],
            "iteration": 102
           },
           {
            "eval_dataset": [
             0.1120417448,
             0.9640120487
            ],
            "iteration": 103
           },
           {
            "eval_dataset": [
             0.1115712774,
             0.9641748957
            ],
            "iteration": 104
           },
           {
            "eval_dataset": [
             0.111170272,
             0.9643801064
            ],
            "iteration": 105
           },
           {
            "eval_dataset": [
             0.1105864845,
             0.9648334552
            ],
            "iteration": 106
           },
           {
            "eval_dataset": [
             0.1101104367,
             0.9649292049
            ],
            "iteration": 107
           },
           {
            "eval_dataset": [
             0.1095192477,
             0.9652761917
            ],
            "iteration": 108
           },
           {
            "eval_dataset": [
             0.1091431404,
             0.9654862603
            ],
            "iteration": 109
           },
           {
            "eval_dataset": [
             0.1087870231,
             0.9656652435
            ],
            "iteration": 110
           },
           {
            "eval_dataset": [
             0.1084428703,
             0.9657094172
            ],
            "iteration": 111
           },
           {
            "eval_dataset": [
             0.1081035884,
             0.9658328203
            ],
            "iteration": 112
           },
           {
            "eval_dataset": [
             0.1076265451,
             0.9659837914
            ],
            "iteration": 113
           },
           {
            "eval_dataset": [
             0.1073279384,
             0.9660951735
            ],
            "iteration": 114
           },
           {
            "eval_dataset": [
             0.1070628523,
             0.9662061969
            ],
            "iteration": 115
           },
           {
            "eval_dataset": [
             0.1066053308,
             0.9663347738
            ],
            "iteration": 116
           },
           {
            "eval_dataset": [
             0.1063005727,
             0.9664726055
            ],
            "iteration": 117
           },
           {
            "eval_dataset": [
             0.1060541946,
             0.9664576988
            ],
            "iteration": 118
           },
           {
            "eval_dataset": [
             0.1057781481,
             0.966591125
            ],
            "iteration": 119
           },
           {
            "eval_dataset": [
             0.1054328919,
             0.9666819997
            ],
            "iteration": 120
           },
           {
            "eval_dataset": [
             0.1049192223,
             0.9669116964
            ],
            "iteration": 121
           },
           {
            "eval_dataset": [
             0.1047231856,
             0.9669735089
            ],
            "iteration": 122
           },
           {
            "eval_dataset": [
             0.104049491,
             0.9674849478
            ],
            "iteration": 123
           },
           {
            "eval_dataset": [
             0.1033840226,
             0.9679812921
            ],
            "iteration": 124
           },
           {
            "eval_dataset": [
             0.1028880764,
             0.9683271178
            ],
            "iteration": 125
           },
           {
            "eval_dataset": [
             0.1023545508,
             0.9689451662
            ],
            "iteration": 126
           },
           {
            "eval_dataset": [
             0.1017152675,
             0.9694201323
            ],
            "iteration": 127
           },
           {
            "eval_dataset": [
             0.10103456,
             0.9699327323
            ],
            "iteration": 128
           },
           {
            "eval_dataset": [
             0.1003872334,
             0.9702734354
            ],
            "iteration": 129
           },
           {
            "eval_dataset": [
             0.09987374178,
             0.9706224712
            ],
            "iteration": 130
           },
           {
            "eval_dataset": [
             0.099400626,
             0.9709313119
            ],
            "iteration": 131
           },
           {
            "eval_dataset": [
             0.09895316499,
             0.9710984704
            ],
            "iteration": 132
           },
           {
            "eval_dataset": [
             0.09833814951,
             0.9715205543
            ],
            "iteration": 133
           },
           {
            "eval_dataset": [
             0.09826779204,
             0.9715333437
            ],
            "iteration": 134
           },
           {
            "eval_dataset": [
             0.0979090372,
             0.9717804571
            ],
            "iteration": 135
           },
           {
            "eval_dataset": [
             0.09755268853,
             0.9719371485
            ],
            "iteration": 136
           },
           {
            "eval_dataset": [
             0.09735549045,
             0.9719454641
            ],
            "iteration": 137
           },
           {
            "eval_dataset": [
             0.09685546734,
             0.9723405008
            ],
            "iteration": 138
           },
           {
            "eval_dataset": [
             0.09674924684,
             0.9723470236
            ],
            "iteration": 139
           },
           {
            "eval_dataset": [
             0.09637133253,
             0.9725227624
            ],
            "iteration": 140
           },
           {
            "eval_dataset": [
             0.09609924851,
             0.9725965105
            ],
            "iteration": 141
           },
           {
            "eval_dataset": [
             0.09584165957,
             0.9727752887
            ],
            "iteration": 142
           },
           {
            "eval_dataset": [
             0.09535336219,
             0.9730421583
            ],
            "iteration": 143
           },
           {
            "eval_dataset": [
             0.09500572049,
             0.9732466519
            ],
            "iteration": 144
           },
           {
            "eval_dataset": [
             0.09483831416,
             0.97336121
            ],
            "iteration": 145
           },
           {
            "eval_dataset": [
             0.09469687586,
             0.973363703
            ],
            "iteration": 146
           },
           {
            "eval_dataset": [
             0.09464604674,
             0.9733712503
            ],
            "iteration": 147
           },
           {
            "eval_dataset": [
             0.0942786883,
             0.9735883454
            ],
            "iteration": 148
           },
           {
            "eval_dataset": [
             0.09402999566,
             0.9736493127
            ],
            "iteration": 149
           },
           {
            "eval_dataset": [
             0.0937562645,
             0.9740513502
            ],
            "iteration": 150
           },
           {
            "eval_dataset": [
             0.09355119631,
             0.9740810527
            ],
            "iteration": 151
           },
           {
            "eval_dataset": [
             0.09298405331,
             0.9745409242
            ],
            "iteration": 152
           },
           {
            "eval_dataset": [
             0.09242333099,
             0.9750142681
            ],
            "iteration": 153
           },
           {
            "eval_dataset": [
             0.09234296091,
             0.9750228057
            ],
            "iteration": 154
           },
           {
            "eval_dataset": [
             0.09203227284,
             0.9751796251
            ],
            "iteration": 155
           },
           {
            "eval_dataset": [
             0.09200798517,
             0.975176654
            ],
            "iteration": 156
           },
           {
            "eval_dataset": [
             0.09193418355,
             0.9751844574
            ],
            "iteration": 157
           },
           {
            "eval_dataset": [
             0.09165119329,
             0.9754355751
            ],
            "iteration": 158
           },
           {
            "eval_dataset": [
             0.09119790967,
             0.9758260014
            ],
            "iteration": 159
           },
           {
            "eval_dataset": [
             0.09065385159,
             0.9761248018
            ],
            "iteration": 160
           },
           {
            "eval_dataset": [
             0.09058872506,
             0.9761045164
            ],
            "iteration": 161
           },
           {
            "eval_dataset": [
             0.09034513086,
             0.9762446276
            ],
            "iteration": 162
           },
           {
            "eval_dataset": [
             0.09020377392,
             0.976291431
            ],
            "iteration": 163
           },
           {
            "eval_dataset": [
             0.09017116421,
             0.976257656
            ],
            "iteration": 164
           },
           {
            "eval_dataset": [
             0.09005547426,
             0.9762901162
            ],
            "iteration": 165
           },
           {
            "eval_dataset": [
             0.09012402516,
             0.9763462255
            ],
            "iteration": 166
           },
           {
            "eval_dataset": [
             0.0900108044,
             0.9763315066
            ],
            "iteration": 167
           },
           {
            "eval_dataset": [
             0.08992415484,
             0.9763118359
            ],
            "iteration": 168
           },
           {
            "eval_dataset": [
             0.08982870764,
             0.9763273403
            ],
            "iteration": 169
           },
           {
            "eval_dataset": [
             0.08983551363,
             0.9763270329
            ],
            "iteration": 170
           },
           {
            "eval_dataset": [
             0.08957896662,
             0.9765270869
            ],
            "iteration": 171
           },
           {
            "eval_dataset": [
             0.08956287254,
             0.9765309972
            ],
            "iteration": 172
           },
           {
            "eval_dataset": [
             0.08910620083,
             0.9767907122
            ],
            "iteration": 173
           },
           {
            "eval_dataset": [
             0.0889085109,
             0.9769304051
            ],
            "iteration": 174
           },
           {
            "eval_dataset": [
             0.08846888332,
             0.9771493273
            ],
            "iteration": 175
           },
           {
            "eval_dataset": [
             0.08828438962,
             0.9772472199
            ],
            "iteration": 176
           },
           {
            "eval_dataset": [
             0.08804027339,
             0.977410084
            ],
            "iteration": 177
           },
           {
            "eval_dataset": [
             0.08742101612,
             0.9777214859
            ],
            "iteration": 178
           },
           {
            "eval_dataset": [
             0.08715759037,
             0.9778055475
            ],
            "iteration": 179
           },
           {
            "eval_dataset": [
             0.08713293611,
             0.9777765878
            ],
            "iteration": 180
           },
           {
            "eval_dataset": [
             0.08694628542,
             0.9779006056
            ],
            "iteration": 181
           },
           {
            "eval_dataset": [
             0.08663232835,
             0.9780326146
            ],
            "iteration": 182
           },
           {
            "eval_dataset": [
             0.08652338381,
             0.9780380104
            ],
            "iteration": 183
           },
           {
            "eval_dataset": [
             0.08633368898,
             0.978140667
            ],
            "iteration": 184
           },
           {
            "eval_dataset": [
             0.08630360846,
             0.9781410939
            ],
            "iteration": 185
           },
           {
            "eval_dataset": [
             0.08626461051,
             0.9781252309
            ],
            "iteration": 186
           },
           {
            "eval_dataset": [
             0.08597188057,
             0.9782913393
            ],
            "iteration": 187
           },
           {
            "eval_dataset": [
             0.0854681286,
             0.9785579186
            ],
            "iteration": 188
           },
           {
            "eval_dataset": [
             0.08538147717,
             0.9785788188
            ],
            "iteration": 189
           },
           {
            "eval_dataset": [
             0.08510641958,
             0.9787240611
            ],
            "iteration": 190
           },
           {
            "eval_dataset": [
             0.08509292153,
             0.978724266
            ],
            "iteration": 191
           },
           {
            "eval_dataset": [
             0.08505765281,
             0.97872471
            ],
            "iteration": 192
           },
           {
            "eval_dataset": [
             0.08467536141,
             0.9788569239
            ],
            "iteration": 193
           },
           {
            "eval_dataset": [
             0.084647602,
             0.978864659
            ],
            "iteration": 194
           },
           {
            "eval_dataset": [
             0.08437425454,
             0.9790162533
            ],
            "iteration": 195
           },
           {
            "eval_dataset": [
             0.08432398014,
             0.9790467157
            ],
            "iteration": 196
           },
           {
            "eval_dataset": [
             0.0842377654,
             0.9790441031
            ],
            "iteration": 197
           },
           {
            "eval_dataset": [
             0.08423748837,
             0.9790437616
            ],
            "iteration": 198
           },
           {
            "eval_dataset": [
             0.0842333749,
             0.9790061106
            ],
            "iteration": 199
           }
          ],
          "meta": {
           "iteration_count": 200,
           "launch_mode": "Eval",
           "learn_metrics": [],
           "learn_sets": [],
           "name": "",
           "parameters": "",
           "test_metrics": [
            {
             "best_value": "Min",
             "name": "Logloss"
            },
            {
             "best_value": "Max",
             "name": "AUC"
            }
           ],
           "test_sets": [
            "eval_dataset"
           ]
          }
         },
         "passed_iterations": 199,
         "total_iterations": 200
        },
        "name": "catboost_info",
        "path": "catboost_info"
       }
      },
      "layout": "IPY_MODEL_fd5fc59aea8d471ba781463cf350b960"
     }
    },
    "b6976434c423486c8e780c982b535881": {
     "model_module": "catboost-widget",
     "model_module_version": "^1.0.0",
     "model_name": "CatboostWidgetModel",
     "state": {
      "_dom_classes": [],
      "_model_module": "catboost-widget",
      "_model_module_version": "^1.0.0",
      "_model_name": "CatboostWidgetModel",
      "_view_count": null,
      "_view_module": "catboost-widget",
      "_view_module_version": "^1.0.0",
      "_view_name": "CatboostWidgetView",
      "data": {
       "catboost_info": {
        "content": {
         "data": {
          "iterations": [
           {
            "iteration": 0,
            "learn": [
             0.6803205435
            ],
            "passed_time": 0.02076659208,
            "remaining_time": 3.09422222
           },
           {
            "iteration": 1,
            "learn": [
             0.6685739284
            ],
            "passed_time": 0.03165251311,
            "remaining_time": 2.34228597
           },
           {
            "iteration": 2,
            "learn": [
             0.6570815045
            ],
            "passed_time": 0.04545600819,
            "remaining_time": 2.227344401
           },
           {
            "iteration": 3,
            "learn": [
             0.6459271587
            ],
            "passed_time": 0.05648065126,
            "remaining_time": 2.061543771
           },
           {
            "iteration": 4,
            "learn": [
             0.6338417277
            ],
            "passed_time": 0.07249961886,
            "remaining_time": 2.102488947
           },
           {
            "iteration": 5,
            "learn": [
             0.6232758294
            ],
            "passed_time": 0.08332218282,
            "remaining_time": 1.999732388
           },
           {
            "iteration": 6,
            "learn": [
             0.6129811368
            ],
            "passed_time": 0.0937756337,
            "remaining_time": 1.915702231
           },
           {
            "iteration": 7,
            "learn": [
             0.6019133619
            ],
            "passed_time": 0.1150862292,
            "remaining_time": 2.042780568
           },
           {
            "iteration": 8,
            "learn": [
             0.5917834395
            ],
            "passed_time": 0.1309921877,
            "remaining_time": 2.052210941
           },
           {
            "iteration": 9,
            "learn": [
             0.5817520475
            ],
            "passed_time": 0.147504564,
            "remaining_time": 2.065063897
           },
           {
            "iteration": 10,
            "learn": [
             0.572375527
            ],
            "passed_time": 0.1602946951,
            "remaining_time": 2.025542056
           },
           {
            "iteration": 11,
            "learn": [
             0.5626992596
            ],
            "passed_time": 0.1754824785,
            "remaining_time": 2.018048503
           },
           {
            "iteration": 12,
            "learn": [
             0.5532698345
            ],
            "passed_time": 0.1906953909,
            "remaining_time": 2.009636043
           },
           {
            "iteration": 13,
            "learn": [
             0.5446649548
            ],
            "passed_time": 0.2016711379,
            "remaining_time": 1.959091053
           },
           {
            "iteration": 14,
            "learn": [
             0.5359914057
            ],
            "passed_time": 0.2153948905,
            "remaining_time": 1.938554014
           },
           {
            "iteration": 15,
            "learn": [
             0.527930442
            ],
            "passed_time": 0.2253114935,
            "remaining_time": 1.886983758
           },
           {
            "iteration": 16,
            "learn": [
             0.5199680575
            ],
            "passed_time": 0.235980244,
            "remaining_time": 1.84619838
           },
           {
            "iteration": 17,
            "learn": [
             0.5119955183
            ],
            "passed_time": 0.247865069,
            "remaining_time": 1.817677173
           },
           {
            "iteration": 18,
            "learn": [
             0.5034446239
            ],
            "passed_time": 0.2640141278,
            "remaining_time": 1.820307934
           },
           {
            "iteration": 19,
            "learn": [
             0.4948689268
            ],
            "passed_time": 0.2801985377,
            "remaining_time": 1.821290495
           },
           {
            "iteration": 20,
            "learn": [
             0.4862504457
            ],
            "passed_time": 0.2963440258,
            "remaining_time": 1.820399016
           },
           {
            "iteration": 21,
            "learn": [
             0.4792498091
            ],
            "passed_time": 0.3074846337,
            "remaining_time": 1.789001505
           },
           {
            "iteration": 22,
            "learn": [
             0.472239332
            ],
            "passed_time": 0.3179239577,
            "remaining_time": 1.755493158
           },
           {
            "iteration": 23,
            "learn": [
             0.46529179
            ],
            "passed_time": 0.3317455966,
            "remaining_time": 1.741664382
           },
           {
            "iteration": 24,
            "learn": [
             0.4582401495
            ],
            "passed_time": 0.3468386158,
            "remaining_time": 1.734193079
           },
           {
            "iteration": 25,
            "learn": [
             0.4507299834
            ],
            "passed_time": 0.3629015344,
            "remaining_time": 1.730761164
           },
           {
            "iteration": 26,
            "learn": [
             0.4435425356
            ],
            "passed_time": 0.3751378149,
            "remaining_time": 1.708961157
           },
           {
            "iteration": 27,
            "learn": [
             0.4367376321
            ],
            "passed_time": 0.3878735857,
            "remaining_time": 1.690020623
           },
           {
            "iteration": 28,
            "learn": [
             0.4306685975
            ],
            "passed_time": 0.398516635,
            "remaining_time": 1.662776305
           },
           {
            "iteration": 29,
            "learn": [
             0.4245578808
            ],
            "passed_time": 0.415649821,
            "remaining_time": 1.662599284
           },
           {
            "iteration": 30,
            "learn": [
             0.41837303
            ],
            "passed_time": 0.4310913741,
            "remaining_time": 1.654834629
           },
           {
            "iteration": 31,
            "learn": [
             0.4122825908
            ],
            "passed_time": 0.4465614104,
            "remaining_time": 1.646695201
           },
           {
            "iteration": 32,
            "learn": [
             0.4067967464
            ],
            "passed_time": 0.4625776141,
            "remaining_time": 1.640047904
           },
           {
            "iteration": 33,
            "learn": [
             0.4017852326
            ],
            "passed_time": 0.4732438802,
            "remaining_time": 1.614596768
           },
           {
            "iteration": 34,
            "learn": [
             0.3960597204
            ],
            "passed_time": 0.4916493845,
            "remaining_time": 1.615419406
           },
           {
            "iteration": 35,
            "learn": [
             0.3906464985
            ],
            "passed_time": 0.5084192448,
            "remaining_time": 1.609994275
           },
           {
            "iteration": 36,
            "learn": [
             0.3852350656
            ],
            "passed_time": 0.5201689121,
            "remaining_time": 1.588623975
           },
           {
            "iteration": 37,
            "learn": [
             0.3804576892
            ],
            "passed_time": 0.5309385511,
            "remaining_time": 1.564871519
           },
           {
            "iteration": 38,
            "learn": [
             0.3759135956
            ],
            "passed_time": 0.5473535406,
            "remaining_time": 1.557852385
           },
           {
            "iteration": 39,
            "learn": [
             0.3708532168
            ],
            "passed_time": 0.5655888793,
            "remaining_time": 1.555369418
           },
           {
            "iteration": 40,
            "learn": [
             0.3661848079
            ],
            "passed_time": 0.5815358117,
            "remaining_time": 1.546034231
           },
           {
            "iteration": 41,
            "learn": [
             0.3611691543
            ],
            "passed_time": 0.5968842036,
            "remaining_time": 1.534845095
           },
           {
            "iteration": 42,
            "learn": [
             0.3574551
            ],
            "passed_time": 0.6062422077,
            "remaining_time": 1.508556191
           },
           {
            "iteration": 43,
            "learn": [
             0.3531167637
            ],
            "passed_time": 0.6209654666,
            "remaining_time": 1.49596226
           },
           {
            "iteration": 44,
            "learn": [
             0.3486883285
            ],
            "passed_time": 0.6329171116,
            "remaining_time": 1.476806594
           },
           {
            "iteration": 45,
            "learn": [
             0.3451613167
            ],
            "passed_time": 0.6419748658,
            "remaining_time": 1.451421436
           },
           {
            "iteration": 46,
            "learn": [
             0.3410304124
            ],
            "passed_time": 0.6575521692,
            "remaining_time": 1.441018584
           },
           {
            "iteration": 47,
            "learn": [
             0.3369775827
            ],
            "passed_time": 0.6749135995,
            "remaining_time": 1.434191399
           },
           {
            "iteration": 48,
            "learn": [
             0.3335656273
            ],
            "passed_time": 0.6922944296,
            "remaining_time": 1.426974232
           },
           {
            "iteration": 49,
            "learn": [
             0.3299130413
            ],
            "passed_time": 0.7089644114,
            "remaining_time": 1.417928823
           },
           {
            "iteration": 50,
            "learn": [
             0.3263080513
            ],
            "passed_time": 0.7203340908,
            "remaining_time": 1.398295588
           },
           {
            "iteration": 51,
            "learn": [
             0.3230836337
            ],
            "passed_time": 0.7311097662,
            "remaining_time": 1.377860713
           },
           {
            "iteration": 52,
            "learn": [
             0.3195427621
            ],
            "passed_time": 0.7463478103,
            "remaining_time": 1.365957313
           },
           {
            "iteration": 53,
            "learn": [
             0.3161708339
            ],
            "passed_time": 0.7747378398,
            "remaining_time": 1.377311715
           },
           {
            "iteration": 54,
            "learn": [
             0.3129640326
            ],
            "passed_time": 0.785419435,
            "remaining_time": 1.35663357
           },
           {
            "iteration": 55,
            "learn": [
             0.3104238868
            ],
            "passed_time": 0.7945683868,
            "remaining_time": 1.333739792
           },
           {
            "iteration": 56,
            "learn": [
             0.3075900229
            ],
            "passed_time": 0.8108143883,
            "remaining_time": 1.322907686
           },
           {
            "iteration": 57,
            "learn": [
             0.3043097552
            ],
            "passed_time": 0.8255540371,
            "remaining_time": 1.309499507
           },
           {
            "iteration": 58,
            "learn": [
             0.3014297835
            ],
            "passed_time": 0.8380045224,
            "remaining_time": 1.29251545
           },
           {
            "iteration": 59,
            "learn": [
             0.2989681297
            ],
            "passed_time": 0.8509163638,
            "remaining_time": 1.276374546
           },
           {
            "iteration": 60,
            "learn": [
             0.2961577617
            ],
            "passed_time": 0.8641944444,
            "remaining_time": 1.260873861
           },
           {
            "iteration": 61,
            "learn": [
             0.2937196041
            ],
            "passed_time": 0.8762420154,
            "remaining_time": 1.243698344
           },
           {
            "iteration": 62,
            "learn": [
             0.2909747033
            ],
            "passed_time": 0.8902052831,
            "remaining_time": 1.229331105
           },
           {
            "iteration": 63,
            "learn": [
             0.2886915069
            ],
            "passed_time": 0.9051712477,
            "remaining_time": 1.216323864
           },
           {
            "iteration": 64,
            "learn": [
             0.2861557801
            ],
            "passed_time": 0.9201575006,
            "remaining_time": 1.203282885
           },
           {
            "iteration": 65,
            "learn": [
             0.2835574851
            ],
            "passed_time": 0.9344085368,
            "remaining_time": 1.189247229
           },
           {
            "iteration": 66,
            "learn": [
             0.2815221931
            ],
            "passed_time": 0.9451970355,
            "remaining_time": 1.170915731
           },
           {
            "iteration": 67,
            "learn": [
             0.2792016973
            ],
            "passed_time": 0.9561777326,
            "remaining_time": 1.153037854
           },
           {
            "iteration": 68,
            "learn": [
             0.2768280799
            ],
            "passed_time": 0.9830115433,
            "remaining_time": 1.153970073
           },
           {
            "iteration": 69,
            "learn": [
             0.2746856473
            ],
            "passed_time": 1.001310595,
            "remaining_time": 1.144354966
           },
           {
            "iteration": 70,
            "learn": [
             0.2725300564
            ],
            "passed_time": 1.01622409,
            "remaining_time": 1.130728213
           },
           {
            "iteration": 71,
            "learn": [
             0.2701427017
            ],
            "passed_time": 1.033454665,
            "remaining_time": 1.119575887
           },
           {
            "iteration": 72,
            "learn": [
             0.2678453337
            ],
            "passed_time": 1.04972603,
            "remaining_time": 1.107245265
           },
           {
            "iteration": 73,
            "learn": [
             0.2657041311
            ],
            "passed_time": 1.065234579,
            "remaining_time": 1.094024703
           },
           {
            "iteration": 74,
            "learn": [
             0.2636883862
            ],
            "passed_time": 1.080451751,
            "remaining_time": 1.080451751
           },
           {
            "iteration": 75,
            "learn": [
             0.2621697125
            ],
            "passed_time": 1.091028284,
            "remaining_time": 1.062317014
           },
           {
            "iteration": 76,
            "learn": [
             0.2603714816
            ],
            "passed_time": 1.106907452,
            "remaining_time": 1.049405766
           },
           {
            "iteration": 77,
            "learn": [
             0.2585230318
            ],
            "passed_time": 1.121857957,
            "remaining_time": 1.035561191
           },
           {
            "iteration": 78,
            "learn": [
             0.2569463633
            ],
            "passed_time": 1.137502479,
            "remaining_time": 1.022312354
           },
           {
            "iteration": 79,
            "learn": [
             0.2554936458
            ],
            "passed_time": 1.153730437,
            "remaining_time": 1.009514132
           },
           {
            "iteration": 80,
            "learn": [
             0.2538763324
            ],
            "passed_time": 1.166498146,
            "remaining_time": 0.993683606
           },
           {
            "iteration": 81,
            "learn": [
             0.2527348487
            ],
            "passed_time": 1.175805772,
            "remaining_time": 0.9750584454
           },
           {
            "iteration": 82,
            "learn": [
             0.251128841
            ],
            "passed_time": 1.19176788,
            "remaining_time": 0.9620294934
           },
           {
            "iteration": 83,
            "learn": [
             0.2496080611
            ],
            "passed_time": 1.207367607,
            "remaining_time": 0.9486459772
           },
           {
            "iteration": 84,
            "learn": [
             0.2484133384
            ],
            "passed_time": 1.218266707,
            "remaining_time": 0.9316157169
           },
           {
            "iteration": 85,
            "learn": [
             0.2469862087
            ],
            "passed_time": 1.233225747,
            "remaining_time": 0.9177493933
           },
           {
            "iteration": 86,
            "learn": [
             0.245459098
            ],
            "passed_time": 1.248339493,
            "remaining_time": 0.9039699776
           },
           {
            "iteration": 87,
            "learn": [
             0.2440222388
            ],
            "passed_time": 1.263739738,
            "remaining_time": 0.8903620878
           },
           {
            "iteration": 88,
            "learn": [
             0.2425902755
            ],
            "passed_time": 1.283627437,
            "remaining_time": 0.8797895919
           },
           {
            "iteration": 89,
            "learn": [
             0.2416684246
            ],
            "passed_time": 1.29233131,
            "remaining_time": 0.8615542065
           },
           {
            "iteration": 90,
            "learn": [
             0.24032505
            ],
            "passed_time": 1.304481177,
            "remaining_time": 0.8457625213
           },
           {
            "iteration": 91,
            "learn": [
             0.2391609455
            ],
            "passed_time": 1.320539713,
            "remaining_time": 0.8325141669
           },
           {
            "iteration": 92,
            "learn": [
             0.2380136444
            ],
            "passed_time": 1.337343147,
            "remaining_time": 0.8196619286
           },
           {
            "iteration": 93,
            "learn": [
             0.2368000136
            ],
            "passed_time": 1.352207028,
            "remaining_time": 0.8055701446
           },
           {
            "iteration": 94,
            "learn": [
             0.2356664724
            ],
            "passed_time": 1.363948996,
            "remaining_time": 0.789654682
           },
           {
            "iteration": 95,
            "learn": [
             0.2347146329
            ],
            "passed_time": 1.374813181,
            "remaining_time": 0.7733324145
           },
           {
            "iteration": 96,
            "learn": [
             0.2334359145
            ],
            "passed_time": 1.391023773,
            "remaining_time": 0.7600439171
           },
           {
            "iteration": 97,
            "learn": [
             0.2321465189
            ],
            "passed_time": 1.407461888,
            "remaining_time": 0.7468165121
           },
           {
            "iteration": 98,
            "learn": [
             0.2310697318
            ],
            "passed_time": 1.422573951,
            "remaining_time": 0.7328411263
           },
           {
            "iteration": 99,
            "learn": [
             0.2298173587
            ],
            "passed_time": 1.43938766,
            "remaining_time": 0.7196938298
           },
           {
            "iteration": 100,
            "learn": [
             0.2288333478
            ],
            "passed_time": 1.452064777,
            "remaining_time": 0.7044670701
           },
           {
            "iteration": 101,
            "learn": [
             0.227889625
            ],
            "passed_time": 1.468143607,
            "remaining_time": 0.690891109
           },
           {
            "iteration": 102,
            "learn": [
             0.2269874901
            ],
            "passed_time": 1.486494231,
            "remaining_time": 0.678303193
           },
           {
            "iteration": 103,
            "learn": [
             0.2260798415
            ],
            "passed_time": 1.496867562,
            "remaining_time": 0.6620760369
           },
           {
            "iteration": 104,
            "learn": [
             0.2249833605
            ],
            "passed_time": 1.51128215,
            "remaining_time": 0.6476923499
           },
           {
            "iteration": 105,
            "learn": [
             0.2240717848
            ],
            "passed_time": 1.524638665,
            "remaining_time": 0.6328688797
           },
           {
            "iteration": 106,
            "learn": [
             0.2228883133
            ],
            "passed_time": 1.545994354,
            "remaining_time": 0.6212874506
           },
           {
            "iteration": 107,
            "learn": [
             0.222063208
            ],
            "passed_time": 1.562775545,
            "remaining_time": 0.6077460452
           },
           {
            "iteration": 108,
            "learn": [
             0.2212333608
            ],
            "passed_time": 1.579928182,
            "remaining_time": 0.5942849124
           },
           {
            "iteration": 109,
            "learn": [
             0.2205138126
            ],
            "passed_time": 1.598835288,
            "remaining_time": 0.5813946501
           },
           {
            "iteration": 110,
            "learn": [
             0.2199419168
            ],
            "passed_time": 1.609022284,
            "remaining_time": 0.5653321537
           },
           {
            "iteration": 111,
            "learn": [
             0.2189376907
            ],
            "passed_time": 1.624231704,
            "remaining_time": 0.5510786138
           },
           {
            "iteration": 112,
            "learn": [
             0.2181128671
            ],
            "passed_time": 1.640163571,
            "remaining_time": 0.5370447092
           },
           {
            "iteration": 113,
            "learn": [
             0.2175313564
            ],
            "passed_time": 1.652663938,
            "remaining_time": 0.521893875
           },
           {
            "iteration": 114,
            "learn": [
             0.2168762297
            ],
            "passed_time": 1.669099744,
            "remaining_time": 0.5079868785
           },
           {
            "iteration": 115,
            "learn": [
             0.2161211403
            ],
            "passed_time": 1.685439899,
            "remaining_time": 0.4940082464
           },
           {
            "iteration": 116,
            "learn": [
             0.2152231774
            ],
            "passed_time": 1.701293609,
            "remaining_time": 0.4798520437
           },
           {
            "iteration": 117,
            "learn": [
             0.2145233949
            ],
            "passed_time": 1.716758175,
            "remaining_time": 0.465561539
           },
           {
            "iteration": 118,
            "learn": [
             0.2137467777
            ],
            "passed_time": 1.731967884,
            "remaining_time": 0.451184911
           },
           {
            "iteration": 119,
            "learn": [
             0.2133295327
            ],
            "passed_time": 1.74085236,
            "remaining_time": 0.43521309
           },
           {
            "iteration": 120,
            "learn": [
             0.2125768402
            ],
            "passed_time": 1.758723672,
            "remaining_time": 0.4215122851
           },
           {
            "iteration": 121,
            "learn": [
             0.2119800765
            ],
            "passed_time": 1.778233827,
            "remaining_time": 0.408119239
           },
           {
            "iteration": 122,
            "learn": [
             0.2112703241
            ],
            "passed_time": 1.807066944,
            "remaining_time": 0.3966732315
           },
           {
            "iteration": 123,
            "learn": [
             0.2105138459
            ],
            "passed_time": 1.824043014,
            "remaining_time": 0.3824606319
           },
           {
            "iteration": 124,
            "learn": [
             0.210035049
            ],
            "passed_time": 1.834443006,
            "remaining_time": 0.3668886012
           },
           {
            "iteration": 125,
            "learn": [
             0.209369754
            ],
            "passed_time": 1.850118669,
            "remaining_time": 0.3524035561
           },
           {
            "iteration": 126,
            "learn": [
             0.2088334902
            ],
            "passed_time": 1.865394019,
            "remaining_time": 0.3378272632
           },
           {
            "iteration": 127,
            "learn": [
             0.2083149517
            ],
            "passed_time": 1.879563223,
            "remaining_time": 0.323049929
           },
           {
            "iteration": 128,
            "learn": [
             0.2079880298
            ],
            "passed_time": 1.88881243,
            "remaining_time": 0.3074810933
           },
           {
            "iteration": 129,
            "learn": [
             0.207215616
            ],
            "passed_time": 1.905115561,
            "remaining_time": 0.2930947017
           },
           {
            "iteration": 130,
            "learn": [
             0.2066949942
            ],
            "passed_time": 1.919808018,
            "remaining_time": 0.2784454377
           },
           {
            "iteration": 131,
            "learn": [
             0.2062148425
            ],
            "passed_time": 1.936090253,
            "remaining_time": 0.2640123073
           },
           {
            "iteration": 132,
            "learn": [
             0.2056307881
            ],
            "passed_time": 1.951564879,
            "remaining_time": 0.2494481424
           },
           {
            "iteration": 133,
            "learn": [
             0.2051359673
            ],
            "passed_time": 1.973654933,
            "remaining_time": 0.2356602905
           },
           {
            "iteration": 134,
            "learn": [
             0.204555185
            ],
            "passed_time": 2.001957355,
            "remaining_time": 0.2224397061
           },
           {
            "iteration": 135,
            "learn": [
             0.2040979135
            ],
            "passed_time": 2.021193239,
            "remaining_time": 0.2080640099
           },
           {
            "iteration": 136,
            "learn": [
             0.203482874
            ],
            "passed_time": 2.03777704,
            "remaining_time": 0.1933657045
           },
           {
            "iteration": 137,
            "learn": [
             0.2029486531
            ],
            "passed_time": 2.053800506,
            "remaining_time": 0.1785913483
           },
           {
            "iteration": 138,
            "learn": [
             0.2024144605
            ],
            "passed_time": 2.069992442,
            "remaining_time": 0.1638123516
           },
           {
            "iteration": 139,
            "learn": [
             0.2019165127
            ],
            "passed_time": 2.08568402,
            "remaining_time": 0.14897743
           },
           {
            "iteration": 140,
            "learn": [
             0.2015036296
            ],
            "passed_time": 2.101676852,
            "remaining_time": 0.1341495863
           },
           {
            "iteration": 141,
            "learn": [
             0.2011182805
            ],
            "passed_time": 2.115896491,
            "remaining_time": 0.1192054361
           },
           {
            "iteration": 142,
            "learn": [
             0.2006788192
            ],
            "passed_time": 2.130918029,
            "remaining_time": 0.1043106728
           },
           {
            "iteration": 143,
            "learn": [
             0.2001221109
            ],
            "passed_time": 2.147456043,
            "remaining_time": 0.08947733513
           },
           {
            "iteration": 144,
            "learn": [
             0.1997643763
            ],
            "passed_time": 2.163017019,
            "remaining_time": 0.07458679375
           },
           {
            "iteration": 145,
            "learn": [
             0.1992677869
            ],
            "passed_time": 2.179909508,
            "remaining_time": 0.05972354815
           },
           {
            "iteration": 146,
            "learn": [
             0.1988285539
            ],
            "passed_time": 2.199240992,
            "remaining_time": 0.04488246923
           },
           {
            "iteration": 147,
            "learn": [
             0.1985045239
            ],
            "passed_time": 2.214924556,
            "remaining_time": 0.02993141292
           },
           {
            "iteration": 148,
            "learn": [
             0.1980305112
            ],
            "passed_time": 2.231004709,
            "remaining_time": 0.01497318597
           },
           {
            "iteration": 149,
            "learn": [
             0.1977711881
            ],
            "passed_time": 2.249301303,
            "remaining_time": 0
           }
          ],
          "meta": {
           "iteration_count": 150,
           "launch_mode": "Train",
           "learn_metrics": [
            {
             "best_value": "Min",
             "name": "Logloss"
            }
           ],
           "learn_sets": [
            "learn"
           ],
           "name": "experiment",
           "parameters": "",
           "test_metrics": [],
           "test_sets": []
          }
         },
         "passed_iterations": 149,
         "total_iterations": 150
        },
        "name": "catboost_info",
        "path": "catboost_info"
       }
      },
      "layout": "IPY_MODEL_42b7af1882ce4ee0b6312e6b97934524"
     }
    }
   }
  }
 },
 "nbformat": 4,
 "nbformat_minor": 1
}
