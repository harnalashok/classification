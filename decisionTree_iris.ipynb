{
  "nbformat": 4,
  "nbformat_minor": 0,
  "metadata": {
    "colab": {
      "name": "decisionTree-iris.ipynb",
      "provenance": [],
      "collapsed_sections": [],
      "authorship_tag": "ABX9TyObT6eFpr/06+OutGqQv9j4",
      "include_colab_link": true
    },
    "kernelspec": {
      "name": "python3",
      "display_name": "Python 3"
    },
    "language_info": {
      "name": "python"
    }
  },
  "cells": [
    {
      "cell_type": "markdown",
      "metadata": {
        "id": "view-in-github",
        "colab_type": "text"
      },
      "source": [
        "<a href=\"https://colab.research.google.com/github/harnalashok/classification/blob/main/decisionTree_iris.ipynb\" target=\"_parent\"><img src=\"https://colab.research.google.com/assets/colab-badge.svg\" alt=\"Open In Colab\"/></a>"
      ]
    },
    {
      "cell_type": "code",
      "metadata": {
        "id": "o3P5W8XYafL_"
      },
      "source": [
        "# Last amended: 21st April, 2021\n",
        "# Myfolder: D:\\data\\OneDrive\\Documents\\decision_trees\n",
        "# Ref: https://towardsdatascience.com/a-guide-to-decision-trees-for-machine-learning-and-data-science-fe2607241956\n",
        "# Objectives:\n",
        "#            i) To quickly create a decision tree\n",
        "#           ii) To see the decision tree\n"
      ],
      "execution_count": null,
      "outputs": []
    },
    {
      "cell_type": "code",
      "metadata": {
        "id": "74i5bEKramHI"
      },
      "source": [
        "# 1.0 Call libraries\n",
        "\n",
        "import numpy as np\n",
        "import pandas as pd\n",
        "import os\n",
        "\n",
        "# 1.1 Call sklearn libraries\n",
        "# 1.1.1 Convert target values from string to integers\n",
        "from sklearn.preprocessing import LabelEncoder as le\n",
        "\n",
        "# 1.1.2 Split data into train and test data\n",
        "from sklearn.model_selection import train_test_split\n",
        "\n",
        "# 1.1.3 PReprocessong:\n",
        "from sklearn.preprocessing import StandardScaler\n",
        "\n",
        "# 1.1.4 Import class DecisionTreeClassifier\n",
        "from sklearn.tree import DecisionTreeClassifier as dtree\n",
        "\n",
        "# 1.1.5 To draw decision tree\n",
        "from sklearn.tree import export_graphviz\n",
        "\n",
        "# 1.1.6\n",
        "import graphviz"
      ],
      "execution_count": 64,
      "outputs": []
    },
    {
      "cell_type": "code",
      "metadata": {
        "id": "vToX3a4Tam0T"
      },
      "source": [
        "# 1.2 For tree visualization\n",
        "\n",
        "\"\"\"\n",
        "Ref: https://stackoverflow.com/questions/33433274/anaconda-graphviz-cant-import-after-installation\n",
        "Install on Anaconda using following two commands, as:\n",
        "\n",
        "conda install python-graphviz\n",
        "\n",
        "\"\"\""
      ],
      "execution_count": null,
      "outputs": []
    },
    {
      "cell_type": "code",
      "metadata": {
        "id": "7ZSxpUw9eAV1"
      },
      "source": [
        "# 1.3 Display multiple commands output from a cell\n",
        "from IPython.core.interactiveshell import InteractiveShell\n",
        "InteractiveShell.ast_node_interactivity = \"all\""
      ],
      "execution_count": null,
      "outputs": []
    },
    {
      "cell_type": "code",
      "metadata": {
        "id": "XqprQixHd1X0"
      },
      "source": [
        "# 2.0 path to dataset\n",
        "#     'iris_wheader.csv'\n",
        "\n",
        "path = \"/content/\"\n",
        "os.chdir(path)\n",
        "os.listdir()"
      ],
      "execution_count": null,
      "outputs": []
    },
    {
      "cell_type": "code",
      "metadata": {
        "id": "uHirwNtQevub"
      },
      "source": [
        "# 2.0.1 Read data:\n",
        "\n",
        "iris = pd.read_csv(\n",
        "                  \"iris_wheader.csv\",     # Data is without headers\n",
        "                   header = None,\n",
        "                   names = [\"c1\",\"c2\",\"c3\", \"c4\", \"target\"]\n",
        "                   )\n",
        "\n",
        "\n",
        "# 2.0.2 Data\n",
        "iris.head()"
      ],
      "execution_count": null,
      "outputs": []
    },
    {
      "cell_type": "code",
      "metadata": {
        "id": "ZYygGCw1e8gg"
      },
      "source": [
        "# 2.1 Separate predictors and target:\n",
        "\n",
        "X = iris.iloc[: , 0:4]    # Predictors: First 4 columns\n",
        "y = iris.iloc[:, 4]       # Target: Last, 5th column"
      ],
      "execution_count": null,
      "outputs": []
    },
    {
      "cell_type": "code",
      "metadata": {
        "id": "lFR-oVbvrGBa"
      },
      "source": [
        "# 2.2 Standardize data:\n",
        "#     Even though, for a decision tree,\n",
        "#     data standardization is not needed,\n",
        "#     but make it a habit to do so:\n",
        "\n",
        "# 2.2.1 Instantiate object\n",
        "ss = StandardScaler()\n",
        "\n",
        "# 2.2.2 Train object on data\n",
        "ss.fit(X)\n",
        "\n",
        "# 2.2.3 Trandform data\n",
        "X = ss.transform(X)"
      ],
      "execution_count": null,
      "outputs": []
    },
    {
      "cell_type": "code",
      "metadata": {
        "id": "qdGI0uo2fHq9"
      },
      "source": [
        "# 2.2 Split X and y into train and test data:\n",
        "\n",
        "X_train, X_test, y_train, y_test = train_test_split(\n",
        "                                                     X,\n",
        "                                                     y,\n",
        "                                                     test_size = 0.3\n",
        "                                                    )\n",
        "\n",
        "# 2.3 About train data:\n",
        "                                   \n",
        "X_train.shape  # (105,4)\n",
        "print()\n",
        "\n",
        "# 2.3.1 Test data\n",
        "X_test.shape   # (45,4)\n",
        "print()\n",
        "y_train.value_counts()"
      ],
      "execution_count": null,
      "outputs": []
    },
    {
      "cell_type": "code",
      "metadata": {
        "id": "BnCMUJpFfwdm"
      },
      "source": [
        "# 2.4 Encode y_train from object to inetger\n",
        "# Instantiate labelEncoder object\n",
        "\n",
        "enc = le()                  # Create an instance of class labelencoder"
      ],
      "execution_count": 67,
      "outputs": []
    },
    {
      "cell_type": "code",
      "metadata": {
        "id": "DwerY3SthKHm"
      },
      "source": [
        "# 2.4.1 Train 'enc' object:\n",
        "\n",
        "enc.fit(y_train)             # Let the object learn data"
      ],
      "execution_count": null,
      "outputs": []
    },
    {
      "cell_type": "code",
      "metadata": {
        "id": "bSrm6VM0hMYG"
      },
      "source": [
        "# 2.4.2 Transform y_train. Output is np array:\n",
        "\n",
        "y_tr = enc.transform(y_train)      # Let it encode\n",
        "y_tr"
      ],
      "execution_count": null,
      "outputs": []
    },
    {
      "cell_type": "code",
      "metadata": {
        "id": "P4nEY2shhrI4"
      },
      "source": [
        "# 2.5 Check mapping of classes to integers:\n",
        "\n",
        "enc.classes_     # array(['setosa', 'versicolor', 'virginica']\n",
        "                 # Corresponds to 0,1,2"
      ],
      "execution_count": null,
      "outputs": []
    },
    {
      "cell_type": "code",
      "metadata": {
        "id": "Vuc0iZzah9px"
      },
      "source": [
        "# 2.6 Verify transformation:\n",
        "\n",
        "enc.transform(['setosa','versicolor', 'virginica'])"
      ],
      "execution_count": null,
      "outputs": []
    },
    {
      "cell_type": "code",
      "metadata": {
        "id": "t0X_9Q6piJAa"
      },
      "source": [
        "# 3. Start modeling\n",
        "# 3.1 Initialize our decision tree object.\n",
        "#     Supply relevant parameters\n",
        "\n",
        "ct = dtree(\n",
        "           criterion=\"gini\",    # Alternative 'entropy'\n",
        "           max_depth=None       # Alternative, specify an integer\n",
        "                              # 'None' means full tree till single leaf\n",
        "           )"
      ],
      "execution_count": 72,
      "outputs": []
    },
    {
      "cell_type": "code",
      "metadata": {
        "id": "XhadyHcSj0NR"
      },
      "source": [
        "# 3.2 Train our decision tree:\n",
        "\n",
        "c_tree = ct.fit(X_train,y_tr)"
      ],
      "execution_count": 73,
      "outputs": []
    },
    {
      "cell_type": "code",
      "metadata": {
        "id": "aTIU8m4AkaiE"
      },
      "source": [
        "# 4.0 Make predictions of test data\n",
        "# 4.1 First transform y_test into inetgers\n",
        "#     just as in y_tr\n",
        "#     We use the already trained enc() object:\n",
        "\n",
        "y_te = enc.transform(y_test)"
      ],
      "execution_count": 74,
      "outputs": []
    },
    {
      "cell_type": "code",
      "metadata": {
        "id": "CtYc0SWNkfVC"
      },
      "source": [
        "# 4.2 Now make prediction\n",
        "out = ct.predict(X_test)\n",
        "out"
      ],
      "execution_count": null,
      "outputs": []
    },
    {
      "cell_type": "code",
      "metadata": {
        "id": "hDBrPY48kwLJ"
      },
      "source": [
        "# 4.3 Get accuracy:\n",
        "\n",
        "np.sum((out == y_te))/out.size"
      ],
      "execution_count": null,
      "outputs": []
    },
    {
      "cell_type": "code",
      "metadata": {
        "id": "ocfMLMjvk1Ye"
      },
      "source": [
        "# 5.0 Which features are important:\n",
        "\n",
        "fi = ct.feature_importances_\n",
        "fi"
      ],
      "execution_count": null,
      "outputs": []
    },
    {
      "cell_type": "code",
      "metadata": {
        "id": "fSyXgDGUlEou"
      },
      "source": [
        "# 5.1 Get a list:\n",
        "\n",
        "list(zip(X.columns, fi))"
      ],
      "execution_count": null,
      "outputs": []
    },
    {
      "cell_type": "code",
      "metadata": {
        "id": "fqsW-ppKlJsh"
      },
      "source": [
        "######### Drop 'c2' and repeat above steps #############\n",
        "\n",
        "# 6. Start modeling\n",
        "# 6.1 Initialize our decision tree object\n",
        "ct1 = dtree(\n",
        "            criterion=\"gini\",    # Alternative 'entropy'\n",
        "            splitter=\"best\",     # Alternative 'random'\n",
        "            max_depth=None       # Alternative, specify an integer\n",
        "                              # 'None' means full tree till single leaf\n",
        "            )"
      ],
      "execution_count": null,
      "outputs": []
    },
    {
      "cell_type": "code",
      "metadata": {
        "id": "-ihRqQ-nlpeI"
      },
      "source": [
        "# 6.2 Train our decision tree (tree induction + pruning)\n",
        "ct1.fit(X_train[['c1', 'c3', 'c4']],y_tr)"
      ],
      "execution_count": null,
      "outputs": []
    },
    {
      "cell_type": "code",
      "metadata": {
        "id": "HuFdVxKRlyy3"
      },
      "source": [
        "# 6.3 Now make prediction\n",
        "out = ct1.predict(X_test[['c1', 'c3', 'c4']])\n",
        "out"
      ],
      "execution_count": null,
      "outputs": []
    },
    {
      "cell_type": "code",
      "metadata": {
        "id": "sm3GKOQXl2Vq"
      },
      "source": [
        "# 6.4 Get accuracy\n",
        "np.sum((out == y_te))/out.size"
      ],
      "execution_count": null,
      "outputs": []
    },
    {
      "cell_type": "code",
      "metadata": {
        "id": "vD96gXT8l5vd"
      },
      "source": [
        "# 7.0 Which features are important\n",
        "fi = ct1.feature_importances_\n",
        "fi\n",
        "list(zip(X[['c1', 'c3', 'c4']].columns, fi))"
      ],
      "execution_count": null,
      "outputs": []
    },
    {
      "cell_type": "code",
      "metadata": {
        "id": "-EJrHMfil9z3"
      },
      "source": [
        "# Ref: https://stackoverflow.com/a/46374279/3282777\n",
        "\n",
        "feature_names=[ 'c1','c2','c3','c4']\n",
        "class_names = ['setosa','versicolor', 'virginica']\n",
        "dot_data = export_graphviz(c_tree, out_file=None,\n",
        "                     feature_names=feature_names,\n",
        "                     class_names=class_names,\n",
        "                     filled=True, rounded=True,\n",
        "                     special_characters=True)\n",
        "\n",
        "# 3.1\n",
        "graph = graphviz.Source(dot_data)\n",
        "\n",
        "# 3.2 A pdf file is created in your current folder\n",
        "graph.render(\"iris\")"
      ],
      "execution_count": null,
      "outputs": []
    },
    {
      "cell_type": "code",
      "metadata": {
        "id": "B-0nK8ZFnoXi"
      },
      "source": [
        "####### I am done ###########33"
      ],
      "execution_count": null,
      "outputs": []
    }
  ]
}