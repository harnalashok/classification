{
  "nbformat": 4,
  "nbformat_minor": 0,
  "metadata": {
    "colab": {
      "name": "decisionTree-iris.ipynb",
      "provenance": [],
      "collapsed_sections": [],
      "authorship_tag": "ABX9TyOnHfNjyEzsPP1n1VWqgV3z",
      "include_colab_link": true
    },
    "kernelspec": {
      "name": "python3",
      "display_name": "Python 3"
    },
    "language_info": {
      "name": "python"
    }
  },
  "cells": [
    {
      "cell_type": "markdown",
      "metadata": {
        "id": "view-in-github",
        "colab_type": "text"
      },
      "source": [
        "<a href=\"https://colab.research.google.com/github/harnalashok/classification/blob/main/decisionTree_iris.ipynb\" target=\"_parent\"><img src=\"https://colab.research.google.com/assets/colab-badge.svg\" alt=\"Open In Colab\"/></a>"
      ]
    },
    {
      "cell_type": "code",
      "metadata": {
        "id": "o3P5W8XYafL_"
      },
      "source": [
        "# Last amended: 21st April, 2021\n",
        "# Myfolder: D:\\data\\OneDrive\\Documents\\decision_trees\n",
        "# Ref: https://towardsdatascience.com/a-guide-to-decision-trees-for-machine-learning-and-data-science-fe2607241956\n",
        "# Objectives:\n",
        "#            i) To quickly create a decision tree\n",
        "#           ii) To see the decision tree\n"
      ],
      "execution_count": 1,
      "outputs": []
    },
    {
      "cell_type": "code",
      "metadata": {
        "id": "74i5bEKramHI"
      },
      "source": [
        "# 1.0 Call libraries\n",
        "\n",
        "import numpy as np\n",
        "import pandas as pd\n",
        "import os\n",
        "\n",
        "# 1.1 Call sklearn libraries\n",
        "# 1.1.1 Convert target values from string to integers\n",
        "from sklearn.preprocessing import LabelEncoder as le\n",
        "\n",
        "# 1.1.2 Split data into train and test data\n",
        "from sklearn.model_selection import train_test_split\n",
        "\n",
        "# 1.1.3 PReprocessong:\n",
        "from sklearn.preprocessing import StandardScaler\n",
        "\n",
        "# 1.1.4 Import class DecisionTreeClassifier\n",
        "from sklearn.tree import DecisionTreeClassifier as dtree\n",
        "\n",
        "# 1.1.5 To draw decision tree\n",
        "from sklearn.tree import export_graphviz\n",
        "\n",
        "# 1.1.6 Import iris\n",
        "from sklearn.datasets import load_iris\n",
        "\n",
        "# 1.1.7\n",
        "# Install as:\n",
        "#   conda install -c conda-forge python-graphviz \n",
        "#   conda install -c anaconda pydot\n",
        "import graphviz\n",
        "\n",
        "# 1.1.8\n",
        "from sklearn.tree import plot_tree\n",
        "import matplotlib.pyplot as plt"
      ],
      "execution_count": 35,
      "outputs": []
    },
    {
      "cell_type": "code",
      "metadata": {
        "id": "vToX3a4Tam0T"
      },
      "source": [
        "# 1.2 For tree visualization\n",
        "\n",
        "\"\"\"\n",
        "Ref: https://stackoverflow.com/questions/33433274/anaconda-graphviz-cant-import-after-installation\n",
        "Install on Anaconda using following two commands, as:\n",
        "\n",
        "conda install python-graphviz\n",
        "\n",
        "\"\"\""
      ],
      "execution_count": null,
      "outputs": []
    },
    {
      "cell_type": "code",
      "metadata": {
        "id": "7ZSxpUw9eAV1"
      },
      "source": [
        "# 1.3 Display multiple commands output from a cell\n",
        "from IPython.core.interactiveshell import InteractiveShell\n",
        "InteractiveShell.ast_node_interactivity = \"all\""
      ],
      "execution_count": 2,
      "outputs": []
    },
    {
      "cell_type": "code",
      "metadata": {
        "colab": {
          "base_uri": "https://localhost:8080/"
        },
        "id": "vpa-z32sM0JR",
        "outputId": "8ea4a56c-5cf9-47c9-d66d-6d9af7229e54"
      },
      "source": [
        "# 2.0 Get iris dataset\n",
        "data = load_iris()\n",
        "type(data)    # sklearn.utils.Bunch\n",
        "              # 'Bunch' is a dict that supports\n",
        "              #  attribute-style access"
      ],
      "execution_count": 12,
      "outputs": [
        {
          "output_type": "execute_result",
          "data": {
            "text/plain": [
              "sklearn.utils.Bunch"
            ]
          },
          "metadata": {
            "tags": []
          },
          "execution_count": 12
        }
      ]
    },
    {
      "cell_type": "markdown",
      "metadata": {
        "id": "yxM0wxy9cgBf"
      },
      "source": [
        "What is Bunch?  \n",
        "Bunch is a subclass of the Dict class and supports all the methods as dict does. In addition, it allows you to use the keys as attributes. Bunch is just like dictionary but it supports attribute type access. "
      ]
    },
    {
      "cell_type": "code",
      "metadata": {
        "colab": {
          "base_uri": "https://localhost:8080/",
          "height": 182
        },
        "id": "USsPfOuLNFRO",
        "outputId": "c1e60c35-2123-450e-8cbd-555eb2744f0c"
      },
      "source": [
        "# 2.1\n",
        "X = data['data']                # Bunch being accessed like a dict\n",
        "y = data['target']\n",
        "col_names = data.feature_names  # Attribute like access\n",
        "target_name = data.target_names # Attribute like access\n"
      ],
      "execution_count": 56,
      "outputs": [
        {
          "output_type": "execute_result",
          "data": {
            "application/vnd.google.colaboratory.intrinsic+json": {
              "type": "string"
            },
            "text/plain": [
              "'.. _iris_dataset:\\n\\nIris plants dataset\\n--------------------\\n\\n**Data Set Characteristics:**\\n\\n    :Number of Instances: 150 (50 in each of three classes)\\n    :Number of Attributes: 4 numeric, predictive attributes and the class\\n    :Attribute Information:\\n        - sepal length in cm\\n        - sepal width in cm\\n        - petal length in cm\\n        - petal width in cm\\n        - class:\\n                - Iris-Setosa\\n                - Iris-Versicolour\\n                - Iris-Virginica\\n                \\n    :Summary Statistics:\\n\\n    ============== ==== ==== ======= ===== ====================\\n                    Min  Max   Mean    SD   Class Correlation\\n    ============== ==== ==== ======= ===== ====================\\n    sepal length:   4.3  7.9   5.84   0.83    0.7826\\n    sepal width:    2.0  4.4   3.05   0.43   -0.4194\\n    petal length:   1.0  6.9   3.76   1.76    0.9490  (high!)\\n    petal width:    0.1  2.5   1.20   0.76    0.9565  (high!)\\n    ============== ==== ==== ======= ===== ====================\\n\\n    :Missing Attribute Values: None\\n    :Class Distribution: 33.3% for each of 3 classes.\\n    :Creator: R.A. Fisher\\n    :Donor: Michael Marshall (MARSHALL%PLU@io.arc.nasa.gov)\\n    :Date: July, 1988\\n\\nThe famous Iris database, first used by Sir R.A. Fisher. The dataset is taken\\nfrom Fisher\\'s paper. Note that it\\'s the same as in R, but not as in the UCI\\nMachine Learning Repository, which has two wrong data points.\\n\\nThis is perhaps the best known database to be found in the\\npattern recognition literature.  Fisher\\'s paper is a classic in the field and\\nis referenced frequently to this day.  (See Duda & Hart, for example.)  The\\ndata set contains 3 classes of 50 instances each, where each class refers to a\\ntype of iris plant.  One class is linearly separable from the other 2; the\\nlatter are NOT linearly separable from each other.\\n\\n.. topic:: References\\n\\n   - Fisher, R.A. \"The use of multiple measurements in taxonomic problems\"\\n     Annual Eugenics, 7, Part II, 179-188 (1936); also in \"Contributions to\\n     Mathematical Statistics\" (John Wiley, NY, 1950).\\n   - Duda, R.O., & Hart, P.E. (1973) Pattern Classification and Scene Analysis.\\n     (Q327.D83) John Wiley & Sons.  ISBN 0-471-22361-1.  See page 218.\\n   - Dasarathy, B.V. (1980) \"Nosing Around the Neighborhood: A New System\\n     Structure and Classification Rule for Recognition in Partially Exposed\\n     Environments\".  IEEE Transactions on Pattern Analysis and Machine\\n     Intelligence, Vol. PAMI-2, No. 1, 67-71.\\n   - Gates, G.W. (1972) \"The Reduced Nearest Neighbor Rule\".  IEEE Transactions\\n     on Information Theory, May 1972, 431-433.\\n   - See also: 1988 MLC Proceedings, 54-64.  Cheeseman et al\"s AUTOCLASS II\\n     conceptual clustering system finds 3 classes in the data.\\n   - Many, many more ...'"
            ]
          },
          "metadata": {
            "tags": []
          },
          "execution_count": 56
        }
      ]
    },
    {
      "cell_type": "code",
      "metadata": {
        "id": "yX5mI6OmtpLk"
      },
      "source": [
        "print(data.DESCR)"
      ],
      "execution_count": null,
      "outputs": []
    },
    {
      "cell_type": "code",
      "metadata": {
        "id": "4m-N9Yp5dVRU"
      },
      "source": [
        "# 2.2 Create a DataFrame\n",
        "iris = pd.DataFrame(X,columns=col_names)\n",
        "iris['target'] = y"
      ],
      "execution_count": 22,
      "outputs": []
    },
    {
      "cell_type": "code",
      "metadata": {
        "id": "9Y2AUGZzfM9C",
        "outputId": "b926cb3e-2485-42af-d7f8-eca83f49cca9",
        "colab": {
          "base_uri": "https://localhost:8080/",
          "height": 479
        }
      },
      "source": [
        "# 2.3 Explore data:\n",
        "iris.head()\n",
        "print()\n",
        "iris.shape   # (150, 5)\n",
        "print()\n",
        "iris.dtypes\n",
        "print(\"\\n\\n---Distribution of target value ---\\n\")\n",
        "iris['target'].value_counts()"
      ],
      "execution_count": 28,
      "outputs": [
        {
          "output_type": "execute_result",
          "data": {
            "text/html": [
              "<div>\n",
              "<style scoped>\n",
              "    .dataframe tbody tr th:only-of-type {\n",
              "        vertical-align: middle;\n",
              "    }\n",
              "\n",
              "    .dataframe tbody tr th {\n",
              "        vertical-align: top;\n",
              "    }\n",
              "\n",
              "    .dataframe thead th {\n",
              "        text-align: right;\n",
              "    }\n",
              "</style>\n",
              "<table border=\"1\" class=\"dataframe\">\n",
              "  <thead>\n",
              "    <tr style=\"text-align: right;\">\n",
              "      <th></th>\n",
              "      <th>sepal length (cm)</th>\n",
              "      <th>sepal width (cm)</th>\n",
              "      <th>petal length (cm)</th>\n",
              "      <th>petal width (cm)</th>\n",
              "      <th>target</th>\n",
              "    </tr>\n",
              "  </thead>\n",
              "  <tbody>\n",
              "    <tr>\n",
              "      <th>0</th>\n",
              "      <td>5.1</td>\n",
              "      <td>3.5</td>\n",
              "      <td>1.4</td>\n",
              "      <td>0.2</td>\n",
              "      <td>0</td>\n",
              "    </tr>\n",
              "    <tr>\n",
              "      <th>1</th>\n",
              "      <td>4.9</td>\n",
              "      <td>3.0</td>\n",
              "      <td>1.4</td>\n",
              "      <td>0.2</td>\n",
              "      <td>0</td>\n",
              "    </tr>\n",
              "    <tr>\n",
              "      <th>2</th>\n",
              "      <td>4.7</td>\n",
              "      <td>3.2</td>\n",
              "      <td>1.3</td>\n",
              "      <td>0.2</td>\n",
              "      <td>0</td>\n",
              "    </tr>\n",
              "    <tr>\n",
              "      <th>3</th>\n",
              "      <td>4.6</td>\n",
              "      <td>3.1</td>\n",
              "      <td>1.5</td>\n",
              "      <td>0.2</td>\n",
              "      <td>0</td>\n",
              "    </tr>\n",
              "    <tr>\n",
              "      <th>4</th>\n",
              "      <td>5.0</td>\n",
              "      <td>3.6</td>\n",
              "      <td>1.4</td>\n",
              "      <td>0.2</td>\n",
              "      <td>0</td>\n",
              "    </tr>\n",
              "  </tbody>\n",
              "</table>\n",
              "</div>"
            ],
            "text/plain": [
              "   sepal length (cm)  sepal width (cm)  ...  petal width (cm)  target\n",
              "0                5.1               3.5  ...               0.2       0\n",
              "1                4.9               3.0  ...               0.2       0\n",
              "2                4.7               3.2  ...               0.2       0\n",
              "3                4.6               3.1  ...               0.2       0\n",
              "4                5.0               3.6  ...               0.2       0\n",
              "\n",
              "[5 rows x 5 columns]"
            ]
          },
          "metadata": {
            "tags": []
          },
          "execution_count": 28
        },
        {
          "output_type": "stream",
          "text": [
            "\n"
          ],
          "name": "stdout"
        },
        {
          "output_type": "execute_result",
          "data": {
            "text/plain": [
              "(150, 5)"
            ]
          },
          "metadata": {
            "tags": []
          },
          "execution_count": 28
        },
        {
          "output_type": "stream",
          "text": [
            "\n"
          ],
          "name": "stdout"
        },
        {
          "output_type": "execute_result",
          "data": {
            "text/plain": [
              "sepal length (cm)    float64\n",
              "sepal width (cm)     float64\n",
              "petal length (cm)    float64\n",
              "petal width (cm)     float64\n",
              "target                 int64\n",
              "dtype: object"
            ]
          },
          "metadata": {
            "tags": []
          },
          "execution_count": 28
        },
        {
          "output_type": "stream",
          "text": [
            "\n",
            "\n",
            "---Distribution of target value ---\n",
            "\n"
          ],
          "name": "stdout"
        },
        {
          "output_type": "execute_result",
          "data": {
            "text/plain": [
              "2    50\n",
              "1    50\n",
              "0    50\n",
              "Name: target, dtype: int64"
            ]
          },
          "metadata": {
            "tags": []
          },
          "execution_count": 28
        }
      ]
    },
    {
      "cell_type": "code",
      "metadata": {
        "id": "lFR-oVbvrGBa",
        "colab": {
          "base_uri": "https://localhost:8080/"
        },
        "outputId": "1ed4eacd-b870-41e4-8683-307c2ff09050"
      },
      "source": [
        "# 2.4 Standardize data:\n",
        "#     Even though, for a decision tree,\n",
        "#     data standardization is not needed,\n",
        "#     but make it a habit to do so:\n",
        "\n",
        "# 2.4.1 Instantiate object\n",
        "ss = StandardScaler()\n",
        "\n",
        "# 2.4.2 Train object on data\n",
        "ss.fit(X)\n",
        "\n",
        "# 2.4.3 Trandform data\n",
        "X = ss.transform(X)"
      ],
      "execution_count": 30,
      "outputs": [
        {
          "output_type": "execute_result",
          "data": {
            "text/plain": [
              "StandardScaler(copy=True, with_mean=True, with_std=True)"
            ]
          },
          "metadata": {
            "tags": []
          },
          "execution_count": 30
        }
      ]
    },
    {
      "cell_type": "code",
      "metadata": {
        "id": "qdGI0uo2fHq9",
        "colab": {
          "base_uri": "https://localhost:8080/"
        },
        "outputId": "77c3709e-dfc4-442f-d744-be3d3720477e"
      },
      "source": [
        "# 2.5 Split X and y into train and test data:\n",
        "\n",
        "X_train, X_test, y_train, y_test = train_test_split(\n",
        "                                                     X,\n",
        "                                                     y,\n",
        "                                                     test_size = 0.3\n",
        "                                                    )\n",
        "\n",
        "# 2.5.1 About train data:\n",
        "                                   \n",
        "X_train.shape  # (105,4)\n",
        "print()\n",
        "\n",
        "# 2.5.2 Test data:\n",
        "\n",
        "X_test.shape   # (45,4)\n",
        "print()"
      ],
      "execution_count": 32,
      "outputs": [
        {
          "output_type": "execute_result",
          "data": {
            "text/plain": [
              "(105, 4)"
            ]
          },
          "metadata": {
            "tags": []
          },
          "execution_count": 32
        },
        {
          "output_type": "stream",
          "text": [
            "\n"
          ],
          "name": "stdout"
        },
        {
          "output_type": "execute_result",
          "data": {
            "text/plain": [
              "(45, 4)"
            ]
          },
          "metadata": {
            "tags": []
          },
          "execution_count": 32
        },
        {
          "output_type": "stream",
          "text": [
            "\n"
          ],
          "name": "stdout"
        }
      ]
    },
    {
      "cell_type": "code",
      "metadata": {
        "id": "t0X_9Q6piJAa"
      },
      "source": [
        "# 3. Start modeling\n",
        "# 3.1 Initialize our decision tree object.\n",
        "#     Supply relevant parameters\n",
        "\n",
        "ct = dtree(\n",
        "           criterion=\"gini\",    # Alternative 'entropy'\n",
        "           max_depth=None       # Alternative, specify an integer\n",
        "                              # 'None' means full tree till single leaf\n",
        "           )"
      ],
      "execution_count": 36,
      "outputs": []
    },
    {
      "cell_type": "code",
      "metadata": {
        "id": "XhadyHcSj0NR"
      },
      "source": [
        "# 3.2 Train our decision tree:\n",
        "\n",
        "c_tree = ct.fit(X_train,y_train)"
      ],
      "execution_count": 37,
      "outputs": []
    },
    {
      "cell_type": "code",
      "metadata": {
        "id": "aTIU8m4AkaiE"
      },
      "source": [
        "# 4.0 Make predictions of test data\n",
        "y_te = ct.predict(X_test)"
      ],
      "execution_count": 38,
      "outputs": []
    },
    {
      "cell_type": "code",
      "metadata": {
        "id": "hDBrPY48kwLJ",
        "colab": {
          "base_uri": "https://localhost:8080/"
        },
        "outputId": "d6bba590-f923-4c14-9390-2e6bb295a0ee"
      },
      "source": [
        "# 4.1 Get accuracy:\n",
        "\n",
        "np.sum((y_test == y_te))/y_test.size"
      ],
      "execution_count": 40,
      "outputs": [
        {
          "output_type": "execute_result",
          "data": {
            "text/plain": [
              "0.9555555555555556"
            ]
          },
          "metadata": {
            "tags": []
          },
          "execution_count": 40
        }
      ]
    },
    {
      "cell_type": "code",
      "metadata": {
        "id": "n58HLPA1pMDx",
        "outputId": "80872999-9852-4c73-edbd-b3afb09f4cae",
        "colab": {
          "base_uri": "https://localhost:8080/",
          "height": 846
        }
      },
      "source": [
        "# 4.2\n",
        "# Refer: https://scikit-learn.org/stable/modules/generated/sklearn.tree.plot_tree.html#sklearn.tree.plot_tree\n",
        "_=plt.figure(figsize=(15,15))\n",
        "_=plot_tree(\n",
        "            c_tree,\n",
        "            max_depth = 3,\n",
        "            rounded = True,\n",
        "            filled = True,\n",
        "            impurity = True,\n",
        "            node_ids = True,\n",
        "            feature_names = [\"sep_len\", \"sep_width\",\"pet_len\",\"pet_width\"],\n",
        "            class_names = [\"setosa\",\"versicolour\",\"virginica\"]\n",
        "            )\n",
        "\n",
        "_=plt.show()"
      ],
      "execution_count": 58,
      "outputs": [
        {
          "output_type": "display_data",
          "data": {
            "image/png": "[encoded data removed]",
            "text/plain": [
              "<Figure size 1080x1080 with 1 Axes>"
            ]
          },
          "metadata": {
            "tags": [],
            "needs_background": "light"
          }
        }
      ]
    },
    {
      "cell_type": "code",
      "metadata": {
        "id": "ocfMLMjvk1Ye",
        "colab": {
          "base_uri": "https://localhost:8080/"
        },
        "outputId": "0cc9071c-2fb1-4e1c-a307-acee96fb52bb"
      },
      "source": [
        "# 5.0 Which features are important:\n",
        "\n",
        "fi = ct.feature_importances_\n",
        "fi"
      ],
      "execution_count": 41,
      "outputs": [
        {
          "output_type": "execute_result",
          "data": {
            "text/plain": [
              "array([0.01343088, 0.01906318, 0.04048218, 0.92702376])"
            ]
          },
          "metadata": {
            "tags": []
          },
          "execution_count": 41
        }
      ]
    },
    {
      "cell_type": "code",
      "metadata": {
        "id": "fSyXgDGUlEou",
        "colab": {
          "base_uri": "https://localhost:8080/",
          "height": 208
        },
        "outputId": "50759b0e-1902-46f2-ca34-c71b991bb831"
      },
      "source": [
        "# 5.1 Get a list:\n",
        "\n",
        "list(zip(X.columns, fi))"
      ],
      "execution_count": 31,
      "outputs": [
        {
          "output_type": "error",
          "ename": "AttributeError",
          "evalue": "ignored",
          "traceback": [
            "\u001b[0;31m---------------------------------------------------------------------------\u001b[0m",
            "\u001b[0;31mAttributeError\u001b[0m                            Traceback (most recent call last)",
            "\u001b[0;32m<ipython-input-31-c613617f7003>\u001b[0m in \u001b[0;36m<module>\u001b[0;34m()\u001b[0m\n\u001b[1;32m      1\u001b[0m \u001b[0;31m# 5.1 Get a list:\u001b[0m\u001b[0;34m\u001b[0m\u001b[0;34m\u001b[0m\u001b[0;34m\u001b[0m\u001b[0m\n\u001b[1;32m      2\u001b[0m \u001b[0;34m\u001b[0m\u001b[0m\n\u001b[0;32m----> 3\u001b[0;31m \u001b[0mlist\u001b[0m\u001b[0;34m(\u001b[0m\u001b[0mzip\u001b[0m\u001b[0;34m(\u001b[0m\u001b[0mX\u001b[0m\u001b[0;34m.\u001b[0m\u001b[0mcolumns\u001b[0m\u001b[0;34m,\u001b[0m \u001b[0mfi\u001b[0m\u001b[0;34m)\u001b[0m\u001b[0;34m)\u001b[0m\u001b[0;34m\u001b[0m\u001b[0;34m\u001b[0m\u001b[0m\n\u001b[0m",
            "\u001b[0;31mAttributeError\u001b[0m: 'numpy.ndarray' object has no attribute 'columns'"
          ]
        }
      ]
    },
    {
      "cell_type": "code",
      "metadata": {
        "id": "fqsW-ppKlJsh"
      },
      "source": [
        "######### Drop 'c2' and repeat above steps #############\n",
        "\n",
        "# 6. Start modeling\n",
        "# 6.1 Initialize our decision tree object\n",
        "ct1 = dtree(\n",
        "            criterion=\"gini\",    # Alternative 'entropy'\n",
        "            splitter=\"best\",     # Alternative 'random'\n",
        "            max_depth=None       # Alternative, specify an integer\n",
        "                              # 'None' means full tree till single leaf\n",
        "            )"
      ],
      "execution_count": 32,
      "outputs": []
    },
    {
      "cell_type": "code",
      "metadata": {
        "id": "-ihRqQ-nlpeI"
      },
      "source": [
        "# 6.2 Train our decision tree (tree induction + pruning)\n",
        "ct1.fit(X_train[['c1', 'c3', 'c4']],y_tr)"
      ],
      "execution_count": null,
      "outputs": []
    },
    {
      "cell_type": "code",
      "metadata": {
        "id": "HuFdVxKRlyy3"
      },
      "source": [
        "# 6.3 Now make prediction\n",
        "out = ct1.predict(X_test[['c1', 'c3', 'c4']])\n",
        "out"
      ],
      "execution_count": null,
      "outputs": []
    },
    {
      "cell_type": "code",
      "metadata": {
        "id": "sm3GKOQXl2Vq"
      },
      "source": [
        "# 6.4 Get accuracy\n",
        "np.sum((out == y_te))/out.size"
      ],
      "execution_count": null,
      "outputs": []
    },
    {
      "cell_type": "code",
      "metadata": {
        "id": "vD96gXT8l5vd"
      },
      "source": [
        "# 7.0 Which features are important\n",
        "fi = ct1.feature_importances_\n",
        "fi\n",
        "list(zip(X[['c1', 'c3', 'c4']].columns, fi))"
      ],
      "execution_count": null,
      "outputs": []
    },
    {
      "cell_type": "code",
      "metadata": {
        "id": "-EJrHMfil9z3",
        "colab": {
          "base_uri": "https://localhost:8080/",
          "height": 36
        },
        "outputId": "86fee255-b3fc-4dd0-98c3-ee7d1dbab091"
      },
      "source": [
        "# Ref: https://stackoverflow.com/a/46374279/3282777\n",
        "\n",
        "feature_names=[ 'c1','c2','c3','c4']\n",
        "class_names = ['setosa','versicolor', 'virginica']\n",
        "dot_data = export_graphviz(c_tree, out_file=None,\n",
        "                     feature_names=feature_names,\n",
        "                     class_names=class_names,\n",
        "                     filled=True, rounded=True,\n",
        "                     special_characters=True)\n",
        "\n",
        "# 3.1\n",
        "graph = graphviz.Source(dot_data)\n",
        "\n",
        "# 3.2 A pdf file is created in your current folder\n",
        "graph.render(\"iris\")"
      ],
      "execution_count": 33,
      "outputs": [
        {
          "output_type": "execute_result",
          "data": {
            "application/vnd.google.colaboratory.intrinsic+json": {
              "type": "string"
            },
            "text/plain": [
              "'iris.pdf'"
            ]
          },
          "metadata": {
            "tags": []
          },
          "execution_count": 33
        }
      ]
    },
    {
      "cell_type": "code",
      "metadata": {
        "id": "B-0nK8ZFnoXi"
      },
      "source": [
        "####### I am done ###########33"
      ],
      "execution_count": null,
      "outputs": []
    }
  ]
}