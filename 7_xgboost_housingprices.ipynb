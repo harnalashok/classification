{
  "cells": [
    {
      "cell_type": "markdown",
      "metadata": {
        "id": "view-in-github",
        "colab_type": "text"
      },
      "source": [
        "<a href=\"https://colab.research.google.com/github/harnalashok/classification/blob/main/7_xgboost_housingprices.ipynb\" target=\"_parent\"><img src=\"https://colab.research.google.com/assets/colab-badge.svg\" alt=\"Open In Colab\"/></a>"
      ]
    },
    {
      "cell_type": "code",
      "source": [
        "# 30th May, 2023\n",
        "# Ref: https://www.kaggle.com/code/alexisbcook/xgboost/tutorial\n",
        "# Dataset: melb_data.csv"
      ],
      "metadata": {
        "id": "2gX5g2xXv060"
      },
      "id": "2gX5g2xXv060",
      "execution_count": null,
      "outputs": []
    },
    {
      "cell_type": "markdown",
      "id": "22151743",
      "metadata": {
        "papermill": {
          "duration": 0.005047,
          "end_time": "2023-04-21T13:41:07.591732",
          "exception": false,
          "start_time": "2023-04-21T13:41:07.586685",
          "status": "completed"
        },
        "tags": [],
        "id": "22151743"
      },
      "source": [
        "In this tutorial, you will learn how to build and optimize models with **gradient boosting**.  This method dominates many Kaggle competitions and achieves state-of-the-art results on a variety of datasets. \n",
        "\n",
        "# Introduction\n",
        "\n",
        "For much of this course, you have made predictions with the random forest method, which achieves better performance than a single decision tree simply by averaging the predictions of many decision trees.\n",
        "\n",
        "We refer to the random forest method as an \"ensemble method\".  By definition, **ensemble methods** combine the predictions of several models (e.g., several trees, in the case of random forests).  \n",
        "\n",
        "Next, we'll learn about another ensemble method called gradient boosting.  \n",
        "\n",
        "# Gradient Boosting\n",
        "\n",
        "**Gradient boosting** is a method that goes through cycles to iteratively add models into an ensemble.  \n",
        "\n",
        "It begins by initializing the ensemble with a single model, whose predictions can be pretty naive.  (Even if its predictions are wildly inaccurate, subsequent additions to the ensemble will address those errors.)\n",
        "\n",
        "Then, we start the cycle:\n",
        "- First, we use the current ensemble to generate predictions for each observation in the dataset.  To make a prediction, we add the predictions from all models in the ensemble.  \n",
        "- These predictions are used to calculate a loss function (like [mean squared error](https://en.wikipedia.org/wiki/Mean_squared_error), for instance).\n",
        "- Then, we use the loss function to fit a new model that will be added to the ensemble.  Specifically, we determine model parameters so that adding this new model to the ensemble will reduce the loss.  (*Side note: The \"gradient\" in \"gradient boosting\" refers to the fact that we'll use [gradient descent](https://en.wikipedia.org/wiki/Gradient_descent) on the loss function to determine the parameters in this new model.*)\n",
        "- Finally, we add the new model to ensemble, and ...\n",
        "- ... repeat!\n",
        "\n",
        "![tut6_boosting](https://storage.googleapis.com/kaggle-media/learn/images/MvCGENh.png)\n",
        "\n",
        "\n",
        "# Example\n",
        "\n",
        "We begin by loading the training and validation data in `X_train`, `X_valid`, `y_train`, and `y_valid`. "
      ]
    },
    {
      "cell_type": "code",
      "source": [
        "# 1.0 Call libraries:\n",
        "\n",
        "import pandas as pd\n",
        "from  pathlib import Path\n",
        "\n",
        "# 1.0.1\n",
        "from sklearn.model_selection import train_test_split\n",
        "from sklearn.metrics import mean_absolute_error\n",
        "\n",
        "# 1.0.2\n",
        "from xgboost import XGBRegressor"
      ],
      "metadata": {
        "id": "2obOzlyjxFeE"
      },
      "id": "2obOzlyjxFeE",
      "execution_count": 18,
      "outputs": []
    },
    {
      "cell_type": "code",
      "source": [
        "# 1.1 Gdrive:\n",
        "\n",
        "from google.colab import drive\n",
        "drive.mount('/gdrive')"
      ],
      "metadata": {
        "colab": {
          "base_uri": "https://localhost:8080/"
        },
        "id": "D_9tpTJPxRR8",
        "outputId": "48369879-38c4-49a3-e3f8-3b5ae8c88942"
      },
      "id": "D_9tpTJPxRR8",
      "execution_count": 2,
      "outputs": [
        {
          "output_type": "stream",
          "name": "stdout",
          "text": [
            "Mounted at /gdrive\n"
          ]
        }
      ]
    },
    {
      "cell_type": "code",
      "source": [
        "# 1.2 Display from a cell outputs of multiple commands:\n",
        "\n",
        "from IPython.core.interactiveshell import InteractiveShell\n",
        "InteractiveShell.ast_node_interactivity = \"all\""
      ],
      "metadata": {
        "id": "-nHwygg2FyA-"
      },
      "id": "-nHwygg2FyA-",
      "execution_count": 23,
      "outputs": []
    },
    {
      "cell_type": "code",
      "source": [
        "# 1.3 Path:\n",
        "\n",
        "pathToFolder = \"/gdrive/MyDrive/Colab_data_files/melb_data\" \n",
        "path = Path(pathToFolder) / \"melb_data.csv\""
      ],
      "metadata": {
        "id": "_GijeumCxbIk"
      },
      "id": "_GijeumCxbIk",
      "execution_count": 20,
      "outputs": []
    },
    {
      "cell_type": "code",
      "source": [
        "# 2.0 Read the data\n",
        "data = pd.read_csv(path)\n"
      ],
      "metadata": {
        "id": "OrgHyLjox81I"
      },
      "id": "OrgHyLjox81I",
      "execution_count": 21,
      "outputs": []
    },
    {
      "cell_type": "code",
      "source": [
        "# 2.1 Show data:\n",
        "\n",
        "data.shape   # (13580, 21)\n",
        "data.head()"
      ],
      "metadata": {
        "colab": {
          "base_uri": "https://localhost:8080/",
          "height": 439
        },
        "id": "40xhTcAOF_9X",
        "outputId": "487d4287-68c9-4133-8891-cf83d5eb7ede"
      },
      "id": "40xhTcAOF_9X",
      "execution_count": 24,
      "outputs": [
        {
          "output_type": "execute_result",
          "data": {
            "text/plain": [
              "(13580, 21)"
            ]
          },
          "metadata": {},
          "execution_count": 24
        },
        {
          "output_type": "execute_result",
          "data": {
            "text/plain": [
              "       Suburb           Address  Rooms Type      Price Method SellerG  \\\n",
              "0  Abbotsford      85 Turner St      2    h  1480000.0      S  Biggin   \n",
              "1  Abbotsford   25 Bloomburg St      2    h  1035000.0      S  Biggin   \n",
              "2  Abbotsford      5 Charles St      3    h  1465000.0     SP  Biggin   \n",
              "3  Abbotsford  40 Federation La      3    h   850000.0     PI  Biggin   \n",
              "4  Abbotsford       55a Park St      4    h  1600000.0     VB  Nelson   \n",
              "\n",
              "        Date  Distance  Postcode  ...  Bathroom  Car  Landsize  BuildingArea  \\\n",
              "0  3/12/2016       2.5    3067.0  ...       1.0  1.0     202.0           NaN   \n",
              "1  4/02/2016       2.5    3067.0  ...       1.0  0.0     156.0          79.0   \n",
              "2  4/03/2017       2.5    3067.0  ...       2.0  0.0     134.0         150.0   \n",
              "3  4/03/2017       2.5    3067.0  ...       2.0  1.0      94.0           NaN   \n",
              "4  4/06/2016       2.5    3067.0  ...       1.0  2.0     120.0         142.0   \n",
              "\n",
              "   YearBuilt  CouncilArea Lattitude  Longtitude             Regionname  \\\n",
              "0        NaN        Yarra  -37.7996    144.9984  Northern Metropolitan   \n",
              "1     1900.0        Yarra  -37.8079    144.9934  Northern Metropolitan   \n",
              "2     1900.0        Yarra  -37.8093    144.9944  Northern Metropolitan   \n",
              "3        NaN        Yarra  -37.7969    144.9969  Northern Metropolitan   \n",
              "4     2014.0        Yarra  -37.8072    144.9941  Northern Metropolitan   \n",
              "\n",
              "  Propertycount  \n",
              "0        4019.0  \n",
              "1        4019.0  \n",
              "2        4019.0  \n",
              "3        4019.0  \n",
              "4        4019.0  \n",
              "\n",
              "[5 rows x 21 columns]"
            ],
            "text/html": [
              "\n",
              "  <div id=\"df-f95c86ff-bfe7-4a46-bf58-104856d0d5c6\">\n",
              "    <div class=\"colab-df-container\">\n",
              "      <div>\n",
              "<style scoped>\n",
              "    .dataframe tbody tr th:only-of-type {\n",
              "        vertical-align: middle;\n",
              "    }\n",
              "\n",
              "    .dataframe tbody tr th {\n",
              "        vertical-align: top;\n",
              "    }\n",
              "\n",
              "    .dataframe thead th {\n",
              "        text-align: right;\n",
              "    }\n",
              "</style>\n",
              "<table border=\"1\" class=\"dataframe\">\n",
              "  <thead>\n",
              "    <tr style=\"text-align: right;\">\n",
              "      <th></th>\n",
              "      <th>Suburb</th>\n",
              "      <th>Address</th>\n",
              "      <th>Rooms</th>\n",
              "      <th>Type</th>\n",
              "      <th>Price</th>\n",
              "      <th>Method</th>\n",
              "      <th>SellerG</th>\n",
              "      <th>Date</th>\n",
              "      <th>Distance</th>\n",
              "      <th>Postcode</th>\n",
              "      <th>...</th>\n",
              "      <th>Bathroom</th>\n",
              "      <th>Car</th>\n",
              "      <th>Landsize</th>\n",
              "      <th>BuildingArea</th>\n",
              "      <th>YearBuilt</th>\n",
              "      <th>CouncilArea</th>\n",
              "      <th>Lattitude</th>\n",
              "      <th>Longtitude</th>\n",
              "      <th>Regionname</th>\n",
              "      <th>Propertycount</th>\n",
              "    </tr>\n",
              "  </thead>\n",
              "  <tbody>\n",
              "    <tr>\n",
              "      <th>0</th>\n",
              "      <td>Abbotsford</td>\n",
              "      <td>85 Turner St</td>\n",
              "      <td>2</td>\n",
              "      <td>h</td>\n",
              "      <td>1480000.0</td>\n",
              "      <td>S</td>\n",
              "      <td>Biggin</td>\n",
              "      <td>3/12/2016</td>\n",
              "      <td>2.5</td>\n",
              "      <td>3067.0</td>\n",
              "      <td>...</td>\n",
              "      <td>1.0</td>\n",
              "      <td>1.0</td>\n",
              "      <td>202.0</td>\n",
              "      <td>NaN</td>\n",
              "      <td>NaN</td>\n",
              "      <td>Yarra</td>\n",
              "      <td>-37.7996</td>\n",
              "      <td>144.9984</td>\n",
              "      <td>Northern Metropolitan</td>\n",
              "      <td>4019.0</td>\n",
              "    </tr>\n",
              "    <tr>\n",
              "      <th>1</th>\n",
              "      <td>Abbotsford</td>\n",
              "      <td>25 Bloomburg St</td>\n",
              "      <td>2</td>\n",
              "      <td>h</td>\n",
              "      <td>1035000.0</td>\n",
              "      <td>S</td>\n",
              "      <td>Biggin</td>\n",
              "      <td>4/02/2016</td>\n",
              "      <td>2.5</td>\n",
              "      <td>3067.0</td>\n",
              "      <td>...</td>\n",
              "      <td>1.0</td>\n",
              "      <td>0.0</td>\n",
              "      <td>156.0</td>\n",
              "      <td>79.0</td>\n",
              "      <td>1900.0</td>\n",
              "      <td>Yarra</td>\n",
              "      <td>-37.8079</td>\n",
              "      <td>144.9934</td>\n",
              "      <td>Northern Metropolitan</td>\n",
              "      <td>4019.0</td>\n",
              "    </tr>\n",
              "    <tr>\n",
              "      <th>2</th>\n",
              "      <td>Abbotsford</td>\n",
              "      <td>5 Charles St</td>\n",
              "      <td>3</td>\n",
              "      <td>h</td>\n",
              "      <td>1465000.0</td>\n",
              "      <td>SP</td>\n",
              "      <td>Biggin</td>\n",
              "      <td>4/03/2017</td>\n",
              "      <td>2.5</td>\n",
              "      <td>3067.0</td>\n",
              "      <td>...</td>\n",
              "      <td>2.0</td>\n",
              "      <td>0.0</td>\n",
              "      <td>134.0</td>\n",
              "      <td>150.0</td>\n",
              "      <td>1900.0</td>\n",
              "      <td>Yarra</td>\n",
              "      <td>-37.8093</td>\n",
              "      <td>144.9944</td>\n",
              "      <td>Northern Metropolitan</td>\n",
              "      <td>4019.0</td>\n",
              "    </tr>\n",
              "    <tr>\n",
              "      <th>3</th>\n",
              "      <td>Abbotsford</td>\n",
              "      <td>40 Federation La</td>\n",
              "      <td>3</td>\n",
              "      <td>h</td>\n",
              "      <td>850000.0</td>\n",
              "      <td>PI</td>\n",
              "      <td>Biggin</td>\n",
              "      <td>4/03/2017</td>\n",
              "      <td>2.5</td>\n",
              "      <td>3067.0</td>\n",
              "      <td>...</td>\n",
              "      <td>2.0</td>\n",
              "      <td>1.0</td>\n",
              "      <td>94.0</td>\n",
              "      <td>NaN</td>\n",
              "      <td>NaN</td>\n",
              "      <td>Yarra</td>\n",
              "      <td>-37.7969</td>\n",
              "      <td>144.9969</td>\n",
              "      <td>Northern Metropolitan</td>\n",
              "      <td>4019.0</td>\n",
              "    </tr>\n",
              "    <tr>\n",
              "      <th>4</th>\n",
              "      <td>Abbotsford</td>\n",
              "      <td>55a Park St</td>\n",
              "      <td>4</td>\n",
              "      <td>h</td>\n",
              "      <td>1600000.0</td>\n",
              "      <td>VB</td>\n",
              "      <td>Nelson</td>\n",
              "      <td>4/06/2016</td>\n",
              "      <td>2.5</td>\n",
              "      <td>3067.0</td>\n",
              "      <td>...</td>\n",
              "      <td>1.0</td>\n",
              "      <td>2.0</td>\n",
              "      <td>120.0</td>\n",
              "      <td>142.0</td>\n",
              "      <td>2014.0</td>\n",
              "      <td>Yarra</td>\n",
              "      <td>-37.8072</td>\n",
              "      <td>144.9941</td>\n",
              "      <td>Northern Metropolitan</td>\n",
              "      <td>4019.0</td>\n",
              "    </tr>\n",
              "  </tbody>\n",
              "</table>\n",
              "<p>5 rows × 21 columns</p>\n",
              "</div>\n",
              "      <button class=\"colab-df-convert\" onclick=\"convertToInteractive('df-f95c86ff-bfe7-4a46-bf58-104856d0d5c6')\"\n",
              "              title=\"Convert this dataframe to an interactive table.\"\n",
              "              style=\"display:none;\">\n",
              "        \n",
              "  <svg xmlns=\"http://www.w3.org/2000/svg\" height=\"24px\"viewBox=\"0 0 24 24\"\n",
              "       width=\"24px\">\n",
              "    <path d=\"M0 0h24v24H0V0z\" fill=\"none\"/>\n",
              "    <path d=\"M18.56 5.44l.94 2.06.94-2.06 2.06-.94-2.06-.94-.94-2.06-.94 2.06-2.06.94zm-11 1L8.5 8.5l.94-2.06 2.06-.94-2.06-.94L8.5 2.5l-.94 2.06-2.06.94zm10 10l.94 2.06.94-2.06 2.06-.94-2.06-.94-.94-2.06-.94 2.06-2.06.94z\"/><path d=\"M17.41 7.96l-1.37-1.37c-.4-.4-.92-.59-1.43-.59-.52 0-1.04.2-1.43.59L10.3 9.45l-7.72 7.72c-.78.78-.78 2.05 0 2.83L4 21.41c.39.39.9.59 1.41.59.51 0 1.02-.2 1.41-.59l7.78-7.78 2.81-2.81c.8-.78.8-2.07 0-2.86zM5.41 20L4 18.59l7.72-7.72 1.47 1.35L5.41 20z\"/>\n",
              "  </svg>\n",
              "      </button>\n",
              "      \n",
              "  <style>\n",
              "    .colab-df-container {\n",
              "      display:flex;\n",
              "      flex-wrap:wrap;\n",
              "      gap: 12px;\n",
              "    }\n",
              "\n",
              "    .colab-df-convert {\n",
              "      background-color: #E8F0FE;\n",
              "      border: none;\n",
              "      border-radius: 50%;\n",
              "      cursor: pointer;\n",
              "      display: none;\n",
              "      fill: #1967D2;\n",
              "      height: 32px;\n",
              "      padding: 0 0 0 0;\n",
              "      width: 32px;\n",
              "    }\n",
              "\n",
              "    .colab-df-convert:hover {\n",
              "      background-color: #E2EBFA;\n",
              "      box-shadow: 0px 1px 2px rgba(60, 64, 67, 0.3), 0px 1px 3px 1px rgba(60, 64, 67, 0.15);\n",
              "      fill: #174EA6;\n",
              "    }\n",
              "\n",
              "    [theme=dark] .colab-df-convert {\n",
              "      background-color: #3B4455;\n",
              "      fill: #D2E3FC;\n",
              "    }\n",
              "\n",
              "    [theme=dark] .colab-df-convert:hover {\n",
              "      background-color: #434B5C;\n",
              "      box-shadow: 0px 1px 3px 1px rgba(0, 0, 0, 0.15);\n",
              "      filter: drop-shadow(0px 1px 2px rgba(0, 0, 0, 0.3));\n",
              "      fill: #FFFFFF;\n",
              "    }\n",
              "  </style>\n",
              "\n",
              "      <script>\n",
              "        const buttonEl =\n",
              "          document.querySelector('#df-f95c86ff-bfe7-4a46-bf58-104856d0d5c6 button.colab-df-convert');\n",
              "        buttonEl.style.display =\n",
              "          google.colab.kernel.accessAllowed ? 'block' : 'none';\n",
              "\n",
              "        async function convertToInteractive(key) {\n",
              "          const element = document.querySelector('#df-f95c86ff-bfe7-4a46-bf58-104856d0d5c6');\n",
              "          const dataTable =\n",
              "            await google.colab.kernel.invokeFunction('convertToInteractive',\n",
              "                                                     [key], {});\n",
              "          if (!dataTable) return;\n",
              "\n",
              "          const docLinkHtml = 'Like what you see? Visit the ' +\n",
              "            '<a target=\"_blank\" href=https://colab.research.google.com/notebooks/data_table.ipynb>data table notebook</a>'\n",
              "            + ' to learn more about interactive tables.';\n",
              "          element.innerHTML = '';\n",
              "          dataTable['output_type'] = 'display_data';\n",
              "          await google.colab.output.renderOutput(dataTable, element);\n",
              "          const docLink = document.createElement('div');\n",
              "          docLink.innerHTML = docLinkHtml;\n",
              "          element.appendChild(docLink);\n",
              "        }\n",
              "      </script>\n",
              "    </div>\n",
              "  </div>\n",
              "  "
            ]
          },
          "metadata": {},
          "execution_count": 24
        }
      ]
    },
    {
      "cell_type": "code",
      "execution_count": 25,
      "id": "cb25af05",
      "metadata": {
        "_kg_hide-input": true,
        "_kg_hide-output": true,
        "execution": {
          "iopub.execute_input": "2023-04-21T13:41:07.602289Z",
          "iopub.status.busy": "2023-04-21T13:41:07.601216Z",
          "iopub.status.idle": "2023-04-21T13:41:08.841057Z",
          "shell.execute_reply": "2023-04-21T13:41:08.839754Z"
        },
        "papermill": {
          "duration": 1.248646,
          "end_time": "2023-04-21T13:41:08.844430",
          "exception": false,
          "start_time": "2023-04-21T13:41:07.595784",
          "status": "completed"
        },
        "tags": [],
        "id": "cb25af05"
      },
      "outputs": [],
      "source": [
        "# 2.2 Select subset of predictors:\n",
        "\n",
        "cols_to_use = ['Rooms', 'Distance', 'Landsize', 'BuildingArea', 'YearBuilt']\n",
        "X = data[cols_to_use]\n",
        "\n",
        "# 2.3 Select target\n",
        "y = data.Price\n",
        "\n",
        "# 2.4 Separate data into training and validation sets\n",
        "X_train, X_valid, y_train, y_valid = train_test_split(X, y)"
      ]
    },
    {
      "cell_type": "markdown",
      "id": "62f14fc3",
      "metadata": {
        "papermill": {
          "duration": 0.003652,
          "end_time": "2023-04-21T13:41:08.852121",
          "exception": false,
          "start_time": "2023-04-21T13:41:08.848469",
          "status": "completed"
        },
        "tags": [],
        "id": "62f14fc3"
      },
      "source": [
        "In this example, you'll work with the XGBoost library.  **XGBoost** stands for **extreme gradient boosting**, which is an implementation of gradient boosting with several additional features focused on performance and speed.  (_Scikit-learn has another version of gradient boosting, but XGBoost has some technical advantages._) \n",
        "\n",
        "In the next code cell, we import the scikit-learn API for XGBoost ([`xgboost.XGBRegressor`](https://xgboost.readthedocs.io/en/latest/python/python_api.html#module-xgboost.sklearn)).  This allows us to build and fit a model just as we would in scikit-learn.  As you'll see in the output, the `XGBRegressor` class has many tunable parameters -- you'll learn about those soon!"
      ]
    },
    {
      "cell_type": "code",
      "execution_count": 26,
      "id": "7c0bc863",
      "metadata": {
        "_kg_hide-output": true,
        "execution": {
          "iopub.execute_input": "2023-04-21T13:41:08.862703Z",
          "iopub.status.busy": "2023-04-21T13:41:08.862232Z",
          "iopub.status.idle": "2023-04-21T13:41:09.613957Z",
          "shell.execute_reply": "2023-04-21T13:41:09.612665Z"
        },
        "papermill": {
          "duration": 0.760632,
          "end_time": "2023-04-21T13:41:09.616779",
          "exception": false,
          "start_time": "2023-04-21T13:41:08.856147",
          "status": "completed"
        },
        "tags": [],
        "colab": {
          "base_uri": "https://localhost:8080/",
          "height": 248
        },
        "id": "7c0bc863",
        "outputId": "84c99b4e-d8ab-4838-80a7-9613ade4b8fa"
      },
      "outputs": [
        {
          "output_type": "execute_result",
          "data": {
            "text/plain": [
              "XGBRegressor(base_score=None, booster=None, callbacks=None,\n",
              "             colsample_bylevel=None, colsample_bynode=None,\n",
              "             colsample_bytree=None, early_stopping_rounds=None,\n",
              "             enable_categorical=False, eval_metric=None, feature_types=None,\n",
              "             gamma=None, gpu_id=None, grow_policy=None, importance_type=None,\n",
              "             interaction_constraints=None, learning_rate=None, max_bin=None,\n",
              "             max_cat_threshold=None, max_cat_to_onehot=None,\n",
              "             max_delta_step=None, max_depth=None, max_leaves=None,\n",
              "             min_child_weight=None, missing=nan, monotone_constraints=None,\n",
              "             n_estimators=100, n_jobs=None, num_parallel_tree=None,\n",
              "             predictor=None, random_state=None, ...)"
            ],
            "text/html": [
              "<style>#sk-container-id-10 {color: black;background-color: white;}#sk-container-id-10 pre{padding: 0;}#sk-container-id-10 div.sk-toggleable {background-color: white;}#sk-container-id-10 label.sk-toggleable__label {cursor: pointer;display: block;width: 100%;margin-bottom: 0;padding: 0.3em;box-sizing: border-box;text-align: center;}#sk-container-id-10 label.sk-toggleable__label-arrow:before {content: \"▸\";float: left;margin-right: 0.25em;color: #696969;}#sk-container-id-10 label.sk-toggleable__label-arrow:hover:before {color: black;}#sk-container-id-10 div.sk-estimator:hover label.sk-toggleable__label-arrow:before {color: black;}#sk-container-id-10 div.sk-toggleable__content {max-height: 0;max-width: 0;overflow: hidden;text-align: left;background-color: #f0f8ff;}#sk-container-id-10 div.sk-toggleable__content pre {margin: 0.2em;color: black;border-radius: 0.25em;background-color: #f0f8ff;}#sk-container-id-10 input.sk-toggleable__control:checked~div.sk-toggleable__content {max-height: 200px;max-width: 100%;overflow: auto;}#sk-container-id-10 input.sk-toggleable__control:checked~label.sk-toggleable__label-arrow:before {content: \"▾\";}#sk-container-id-10 div.sk-estimator input.sk-toggleable__control:checked~label.sk-toggleable__label {background-color: #d4ebff;}#sk-container-id-10 div.sk-label input.sk-toggleable__control:checked~label.sk-toggleable__label {background-color: #d4ebff;}#sk-container-id-10 input.sk-hidden--visually {border: 0;clip: rect(1px 1px 1px 1px);clip: rect(1px, 1px, 1px, 1px);height: 1px;margin: -1px;overflow: hidden;padding: 0;position: absolute;width: 1px;}#sk-container-id-10 div.sk-estimator {font-family: monospace;background-color: #f0f8ff;border: 1px dotted black;border-radius: 0.25em;box-sizing: border-box;margin-bottom: 0.5em;}#sk-container-id-10 div.sk-estimator:hover {background-color: #d4ebff;}#sk-container-id-10 div.sk-parallel-item::after {content: \"\";width: 100%;border-bottom: 1px solid gray;flex-grow: 1;}#sk-container-id-10 div.sk-label:hover label.sk-toggleable__label {background-color: #d4ebff;}#sk-container-id-10 div.sk-serial::before {content: \"\";position: absolute;border-left: 1px solid gray;box-sizing: border-box;top: 0;bottom: 0;left: 50%;z-index: 0;}#sk-container-id-10 div.sk-serial {display: flex;flex-direction: column;align-items: center;background-color: white;padding-right: 0.2em;padding-left: 0.2em;position: relative;}#sk-container-id-10 div.sk-item {position: relative;z-index: 1;}#sk-container-id-10 div.sk-parallel {display: flex;align-items: stretch;justify-content: center;background-color: white;position: relative;}#sk-container-id-10 div.sk-item::before, #sk-container-id-10 div.sk-parallel-item::before {content: \"\";position: absolute;border-left: 1px solid gray;box-sizing: border-box;top: 0;bottom: 0;left: 50%;z-index: -1;}#sk-container-id-10 div.sk-parallel-item {display: flex;flex-direction: column;z-index: 1;position: relative;background-color: white;}#sk-container-id-10 div.sk-parallel-item:first-child::after {align-self: flex-end;width: 50%;}#sk-container-id-10 div.sk-parallel-item:last-child::after {align-self: flex-start;width: 50%;}#sk-container-id-10 div.sk-parallel-item:only-child::after {width: 0;}#sk-container-id-10 div.sk-dashed-wrapped {border: 1px dashed gray;margin: 0 0.4em 0.5em 0.4em;box-sizing: border-box;padding-bottom: 0.4em;background-color: white;}#sk-container-id-10 div.sk-label label {font-family: monospace;font-weight: bold;display: inline-block;line-height: 1.2em;}#sk-container-id-10 div.sk-label-container {text-align: center;}#sk-container-id-10 div.sk-container {/* jupyter's `normalize.less` sets `[hidden] { display: none; }` but bootstrap.min.css set `[hidden] { display: none !important; }` so we also need the `!important` here to be able to override the default hidden behavior on the sphinx rendered scikit-learn.org. See: https://github.com/scikit-learn/scikit-learn/issues/21755 */display: inline-block !important;position: relative;}#sk-container-id-10 div.sk-text-repr-fallback {display: none;}</style><div id=\"sk-container-id-10\" class=\"sk-top-container\"><div class=\"sk-text-repr-fallback\"><pre>XGBRegressor(base_score=None, booster=None, callbacks=None,\n",
              "             colsample_bylevel=None, colsample_bynode=None,\n",
              "             colsample_bytree=None, early_stopping_rounds=None,\n",
              "             enable_categorical=False, eval_metric=None, feature_types=None,\n",
              "             gamma=None, gpu_id=None, grow_policy=None, importance_type=None,\n",
              "             interaction_constraints=None, learning_rate=None, max_bin=None,\n",
              "             max_cat_threshold=None, max_cat_to_onehot=None,\n",
              "             max_delta_step=None, max_depth=None, max_leaves=None,\n",
              "             min_child_weight=None, missing=nan, monotone_constraints=None,\n",
              "             n_estimators=100, n_jobs=None, num_parallel_tree=None,\n",
              "             predictor=None, random_state=None, ...)</pre><b>In a Jupyter environment, please rerun this cell to show the HTML representation or trust the notebook. <br />On GitHub, the HTML representation is unable to render, please try loading this page with nbviewer.org.</b></div><div class=\"sk-container\" hidden><div class=\"sk-item\"><div class=\"sk-estimator sk-toggleable\"><input class=\"sk-toggleable__control sk-hidden--visually\" id=\"sk-estimator-id-10\" type=\"checkbox\" checked><label for=\"sk-estimator-id-10\" class=\"sk-toggleable__label sk-toggleable__label-arrow\">XGBRegressor</label><div class=\"sk-toggleable__content\"><pre>XGBRegressor(base_score=None, booster=None, callbacks=None,\n",
              "             colsample_bylevel=None, colsample_bynode=None,\n",
              "             colsample_bytree=None, early_stopping_rounds=None,\n",
              "             enable_categorical=False, eval_metric=None, feature_types=None,\n",
              "             gamma=None, gpu_id=None, grow_policy=None, importance_type=None,\n",
              "             interaction_constraints=None, learning_rate=None, max_bin=None,\n",
              "             max_cat_threshold=None, max_cat_to_onehot=None,\n",
              "             max_delta_step=None, max_depth=None, max_leaves=None,\n",
              "             min_child_weight=None, missing=nan, monotone_constraints=None,\n",
              "             n_estimators=100, n_jobs=None, num_parallel_tree=None,\n",
              "             predictor=None, random_state=None, ...)</pre></div></div></div></div></div>"
            ]
          },
          "metadata": {},
          "execution_count": 26
        }
      ],
      "source": [
        "# 3.0\n",
        "my_model = XGBRegressor()\n",
        "my_model.fit(X_train, y_train, verbose = True)"
      ]
    },
    {
      "cell_type": "markdown",
      "id": "220635a7",
      "metadata": {
        "papermill": {
          "duration": 0.003808,
          "end_time": "2023-04-21T13:41:09.624780",
          "exception": false,
          "start_time": "2023-04-21T13:41:09.620972",
          "status": "completed"
        },
        "tags": [],
        "id": "220635a7"
      },
      "source": [
        "We also make predictions and evaluate the model."
      ]
    },
    {
      "cell_type": "code",
      "execution_count": 8,
      "id": "640e227c",
      "metadata": {
        "execution": {
          "iopub.execute_input": "2023-04-21T13:41:09.634505Z",
          "iopub.status.busy": "2023-04-21T13:41:09.634069Z",
          "iopub.status.idle": "2023-04-21T13:41:09.653066Z",
          "shell.execute_reply": "2023-04-21T13:41:09.651916Z"
        },
        "papermill": {
          "duration": 0.027126,
          "end_time": "2023-04-21T13:41:09.655911",
          "exception": false,
          "start_time": "2023-04-21T13:41:09.628785",
          "status": "completed"
        },
        "tags": [],
        "colab": {
          "base_uri": "https://localhost:8080/"
        },
        "id": "640e227c",
        "outputId": "88a80ac4-1777-4a5a-b819-c7b9410e946b"
      },
      "outputs": [
        {
          "output_type": "stream",
          "name": "stdout",
          "text": [
            "Mean Absolute Error: 236339.49751242637\n"
          ]
        }
      ],
      "source": [
        "# 3.1 Predictions:\n",
        "\n",
        "predictions = my_model.predict(X_valid)\n",
        "print(\"Mean Absolute Error: \" + str(mean_absolute_error(predictions, y_valid)))"
      ]
    },
    {
      "cell_type": "markdown",
      "id": "a71a57f1",
      "metadata": {
        "papermill": {
          "duration": 0.004918,
          "end_time": "2023-04-21T13:41:09.666249",
          "exception": false,
          "start_time": "2023-04-21T13:41:09.661331",
          "status": "completed"
        },
        "tags": [],
        "id": "a71a57f1"
      },
      "source": [
        "# Parameter Tuning\n",
        "\n",
        "XGBoost has a few parameters that can dramatically affect accuracy and training speed.  The first parameters you should understand are:\n",
        "\n",
        "### `n_estimators`\n",
        "`n_estimators` specifies how many times to go through the modeling cycle described above.  It is equal to the number of models that we include in the ensemble. \n",
        "\n",
        "- Too _low_ a value causes _underfitting_, which leads to inaccurate predictions on both training data and test data. \n",
        "- Too _high_ a value causes _overfitting_, which causes accurate predictions on training data, but inaccurate predictions on test data (_which is what we care about_). \n",
        "\n",
        "Typical values range from 100-1000, though this depends a lot on the `learning_rate` parameter discussed below.\n",
        "\n",
        "Here is the code to set the number of models in the ensemble:"
      ]
    },
    {
      "cell_type": "code",
      "execution_count": 19,
      "id": "13a15f9f",
      "metadata": {
        "_kg_hide-output": true,
        "execution": {
          "iopub.execute_input": "2023-04-21T13:41:09.676390Z",
          "iopub.status.busy": "2023-04-21T13:41:09.675978Z",
          "iopub.status.idle": "2023-04-21T13:41:13.714466Z",
          "shell.execute_reply": "2023-04-21T13:41:13.713442Z"
        },
        "papermill": {
          "duration": 4.046502,
          "end_time": "2023-04-21T13:41:13.717070",
          "exception": false,
          "start_time": "2023-04-21T13:41:09.670568",
          "status": "completed"
        },
        "tags": [],
        "colab": {
          "base_uri": "https://localhost:8080/",
          "height": 248
        },
        "id": "13a15f9f",
        "outputId": "66a08ef6-4c96-422f-92ca-9c865a7055f6"
      },
      "outputs": [
        {
          "output_type": "execute_result",
          "data": {
            "text/plain": [
              "XGBRegressor(base_score=None, booster=None, callbacks=None,\n",
              "             colsample_bylevel=None, colsample_bynode=None,\n",
              "             colsample_bytree=None, early_stopping_rounds=None,\n",
              "             enable_categorical=False, eval_metric=None, feature_types=None,\n",
              "             gamma=None, gpu_id=None, grow_policy=None, importance_type=None,\n",
              "             interaction_constraints=None, learning_rate=None, max_bin=None,\n",
              "             max_cat_threshold=None, max_cat_to_onehot=None,\n",
              "             max_delta_step=None, max_depth=None, max_leaves=None,\n",
              "             min_child_weight=None, missing=nan, monotone_constraints=None,\n",
              "             n_estimators=500, n_jobs=None, num_parallel_tree=None,\n",
              "             predictor=None, random_state=None, ...)"
            ],
            "text/html": [
              "<style>#sk-container-id-9 {color: black;background-color: white;}#sk-container-id-9 pre{padding: 0;}#sk-container-id-9 div.sk-toggleable {background-color: white;}#sk-container-id-9 label.sk-toggleable__label {cursor: pointer;display: block;width: 100%;margin-bottom: 0;padding: 0.3em;box-sizing: border-box;text-align: center;}#sk-container-id-9 label.sk-toggleable__label-arrow:before {content: \"▸\";float: left;margin-right: 0.25em;color: #696969;}#sk-container-id-9 label.sk-toggleable__label-arrow:hover:before {color: black;}#sk-container-id-9 div.sk-estimator:hover label.sk-toggleable__label-arrow:before {color: black;}#sk-container-id-9 div.sk-toggleable__content {max-height: 0;max-width: 0;overflow: hidden;text-align: left;background-color: #f0f8ff;}#sk-container-id-9 div.sk-toggleable__content pre {margin: 0.2em;color: black;border-radius: 0.25em;background-color: #f0f8ff;}#sk-container-id-9 input.sk-toggleable__control:checked~div.sk-toggleable__content {max-height: 200px;max-width: 100%;overflow: auto;}#sk-container-id-9 input.sk-toggleable__control:checked~label.sk-toggleable__label-arrow:before {content: \"▾\";}#sk-container-id-9 div.sk-estimator input.sk-toggleable__control:checked~label.sk-toggleable__label {background-color: #d4ebff;}#sk-container-id-9 div.sk-label input.sk-toggleable__control:checked~label.sk-toggleable__label {background-color: #d4ebff;}#sk-container-id-9 input.sk-hidden--visually {border: 0;clip: rect(1px 1px 1px 1px);clip: rect(1px, 1px, 1px, 1px);height: 1px;margin: -1px;overflow: hidden;padding: 0;position: absolute;width: 1px;}#sk-container-id-9 div.sk-estimator {font-family: monospace;background-color: #f0f8ff;border: 1px dotted black;border-radius: 0.25em;box-sizing: border-box;margin-bottom: 0.5em;}#sk-container-id-9 div.sk-estimator:hover {background-color: #d4ebff;}#sk-container-id-9 div.sk-parallel-item::after {content: \"\";width: 100%;border-bottom: 1px solid gray;flex-grow: 1;}#sk-container-id-9 div.sk-label:hover label.sk-toggleable__label {background-color: #d4ebff;}#sk-container-id-9 div.sk-serial::before {content: \"\";position: absolute;border-left: 1px solid gray;box-sizing: border-box;top: 0;bottom: 0;left: 50%;z-index: 0;}#sk-container-id-9 div.sk-serial {display: flex;flex-direction: column;align-items: center;background-color: white;padding-right: 0.2em;padding-left: 0.2em;position: relative;}#sk-container-id-9 div.sk-item {position: relative;z-index: 1;}#sk-container-id-9 div.sk-parallel {display: flex;align-items: stretch;justify-content: center;background-color: white;position: relative;}#sk-container-id-9 div.sk-item::before, #sk-container-id-9 div.sk-parallel-item::before {content: \"\";position: absolute;border-left: 1px solid gray;box-sizing: border-box;top: 0;bottom: 0;left: 50%;z-index: -1;}#sk-container-id-9 div.sk-parallel-item {display: flex;flex-direction: column;z-index: 1;position: relative;background-color: white;}#sk-container-id-9 div.sk-parallel-item:first-child::after {align-self: flex-end;width: 50%;}#sk-container-id-9 div.sk-parallel-item:last-child::after {align-self: flex-start;width: 50%;}#sk-container-id-9 div.sk-parallel-item:only-child::after {width: 0;}#sk-container-id-9 div.sk-dashed-wrapped {border: 1px dashed gray;margin: 0 0.4em 0.5em 0.4em;box-sizing: border-box;padding-bottom: 0.4em;background-color: white;}#sk-container-id-9 div.sk-label label {font-family: monospace;font-weight: bold;display: inline-block;line-height: 1.2em;}#sk-container-id-9 div.sk-label-container {text-align: center;}#sk-container-id-9 div.sk-container {/* jupyter's `normalize.less` sets `[hidden] { display: none; }` but bootstrap.min.css set `[hidden] { display: none !important; }` so we also need the `!important` here to be able to override the default hidden behavior on the sphinx rendered scikit-learn.org. See: https://github.com/scikit-learn/scikit-learn/issues/21755 */display: inline-block !important;position: relative;}#sk-container-id-9 div.sk-text-repr-fallback {display: none;}</style><div id=\"sk-container-id-9\" class=\"sk-top-container\"><div class=\"sk-text-repr-fallback\"><pre>XGBRegressor(base_score=None, booster=None, callbacks=None,\n",
              "             colsample_bylevel=None, colsample_bynode=None,\n",
              "             colsample_bytree=None, early_stopping_rounds=None,\n",
              "             enable_categorical=False, eval_metric=None, feature_types=None,\n",
              "             gamma=None, gpu_id=None, grow_policy=None, importance_type=None,\n",
              "             interaction_constraints=None, learning_rate=None, max_bin=None,\n",
              "             max_cat_threshold=None, max_cat_to_onehot=None,\n",
              "             max_delta_step=None, max_depth=None, max_leaves=None,\n",
              "             min_child_weight=None, missing=nan, monotone_constraints=None,\n",
              "             n_estimators=500, n_jobs=None, num_parallel_tree=None,\n",
              "             predictor=None, random_state=None, ...)</pre><b>In a Jupyter environment, please rerun this cell to show the HTML representation or trust the notebook. <br />On GitHub, the HTML representation is unable to render, please try loading this page with nbviewer.org.</b></div><div class=\"sk-container\" hidden><div class=\"sk-item\"><div class=\"sk-estimator sk-toggleable\"><input class=\"sk-toggleable__control sk-hidden--visually\" id=\"sk-estimator-id-9\" type=\"checkbox\" checked><label for=\"sk-estimator-id-9\" class=\"sk-toggleable__label sk-toggleable__label-arrow\">XGBRegressor</label><div class=\"sk-toggleable__content\"><pre>XGBRegressor(base_score=None, booster=None, callbacks=None,\n",
              "             colsample_bylevel=None, colsample_bynode=None,\n",
              "             colsample_bytree=None, early_stopping_rounds=None,\n",
              "             enable_categorical=False, eval_metric=None, feature_types=None,\n",
              "             gamma=None, gpu_id=None, grow_policy=None, importance_type=None,\n",
              "             interaction_constraints=None, learning_rate=None, max_bin=None,\n",
              "             max_cat_threshold=None, max_cat_to_onehot=None,\n",
              "             max_delta_step=None, max_depth=None, max_leaves=None,\n",
              "             min_child_weight=None, missing=nan, monotone_constraints=None,\n",
              "             n_estimators=500, n_jobs=None, num_parallel_tree=None,\n",
              "             predictor=None, random_state=None, ...)</pre></div></div></div></div></div>"
            ]
          },
          "metadata": {},
          "execution_count": 19
        }
      ],
      "source": [
        "# 3.2 Set n_estimators:\n",
        "\n",
        "my_model = XGBRegressor(n_estimators=500)\n",
        "my_model.fit(X_train, y_train, verbose = True)"
      ]
    },
    {
      "cell_type": "markdown",
      "id": "f130a5e3",
      "metadata": {
        "papermill": {
          "duration": 0.004055,
          "end_time": "2023-04-21T13:41:13.725576",
          "exception": false,
          "start_time": "2023-04-21T13:41:13.721521",
          "status": "completed"
        },
        "tags": [],
        "id": "f130a5e3"
      },
      "source": [
        "### `early_stopping_rounds`\n",
        "\n",
        "`early_stopping_rounds` offers a way to automatically find the ideal value for `n_estimators`. Early stopping causes the model to stop iterating when the validation score stops improving, even if we aren't at the hard stop for `n_estimators`.  It's smart to set a high value for `n_estimators` and then use `early_stopping_rounds` to find the optimal time to stop iterating.\n",
        "\n",
        "Since random chance sometimes causes a single round where validation scores don't improve, you need to specify a number for how many rounds of straight deterioration to allow before stopping.  Setting `early_stopping_rounds=5` is a reasonable choice.  In this case, we stop after 5 straight rounds of deteriorating validation scores.\n",
        "\n",
        "When using `early_stopping_rounds`, you also need to set aside some data for calculating the validation scores - this is done by setting the `eval_set` parameter.  \n",
        "\n",
        "We can modify the example above to include early stopping:"
      ]
    },
    {
      "cell_type": "code",
      "execution_count": 13,
      "id": "3a4d71f8",
      "metadata": {
        "_kg_hide-output": true,
        "execution": {
          "iopub.execute_input": "2023-04-21T13:41:13.736558Z",
          "iopub.status.busy": "2023-04-21T13:41:13.736105Z",
          "iopub.status.idle": "2023-04-21T13:41:14.455769Z",
          "shell.execute_reply": "2023-04-21T13:41:14.454642Z"
        },
        "papermill": {
          "duration": 0.728922,
          "end_time": "2023-04-21T13:41:14.458760",
          "exception": false,
          "start_time": "2023-04-21T13:41:13.729838",
          "status": "completed"
        },
        "tags": [],
        "colab": {
          "base_uri": "https://localhost:8080/",
          "height": 1000
        },
        "id": "3a4d71f8",
        "outputId": "5aa30880-c4f4-48c8-e069-8bc865022707"
      },
      "outputs": [
        {
          "output_type": "stream",
          "name": "stdout",
          "text": [
            "[0]\tvalidation_0-rmse:932999.23746\n",
            "[1]\tvalidation_0-rmse:722524.48524\n",
            "[2]\tvalidation_0-rmse:588820.33413\n",
            "[3]\tvalidation_0-rmse:506012.90428\n",
            "[4]\tvalidation_0-rmse:459015.64219\n",
            "[5]\tvalidation_0-rmse:429630.04522\n",
            "[6]\tvalidation_0-rmse:413554.71344\n",
            "[7]\tvalidation_0-rmse:405083.67137\n"
          ]
        },
        {
          "output_type": "stream",
          "name": "stderr",
          "text": [
            "/usr/local/lib/python3.10/dist-packages/xgboost/sklearn.py:835: UserWarning: `early_stopping_rounds` in `fit` method is deprecated for better compatibility with scikit-learn, use `early_stopping_rounds` in constructor or`set_params` instead.\n",
            "  warnings.warn(\n"
          ]
        },
        {
          "output_type": "stream",
          "name": "stdout",
          "text": [
            "[8]\tvalidation_0-rmse:400551.46223\n",
            "[9]\tvalidation_0-rmse:396260.63952\n",
            "[10]\tvalidation_0-rmse:390998.82190\n",
            "[11]\tvalidation_0-rmse:390045.48076\n",
            "[12]\tvalidation_0-rmse:387673.09606\n",
            "[13]\tvalidation_0-rmse:387220.55035\n",
            "[14]\tvalidation_0-rmse:385375.71052\n",
            "[15]\tvalidation_0-rmse:384296.45124\n",
            "[16]\tvalidation_0-rmse:382875.02127\n",
            "[17]\tvalidation_0-rmse:382492.04396\n",
            "[18]\tvalidation_0-rmse:382459.77773\n",
            "[19]\tvalidation_0-rmse:380374.94809\n",
            "[20]\tvalidation_0-rmse:379751.21488\n",
            "[21]\tvalidation_0-rmse:377638.64248\n",
            "[22]\tvalidation_0-rmse:376534.68056\n",
            "[23]\tvalidation_0-rmse:376689.02626\n",
            "[24]\tvalidation_0-rmse:375978.35272\n",
            "[25]\tvalidation_0-rmse:375972.86418\n",
            "[26]\tvalidation_0-rmse:375748.74039\n",
            "[27]\tvalidation_0-rmse:375256.63792\n",
            "[28]\tvalidation_0-rmse:374313.78411\n",
            "[29]\tvalidation_0-rmse:374068.40582\n",
            "[30]\tvalidation_0-rmse:371772.23791\n",
            "[31]\tvalidation_0-rmse:371674.05786\n",
            "[32]\tvalidation_0-rmse:371571.00679\n",
            "[33]\tvalidation_0-rmse:371272.31612\n",
            "[34]\tvalidation_0-rmse:371157.31686\n",
            "[35]\tvalidation_0-rmse:370738.17362\n",
            "[36]\tvalidation_0-rmse:370991.27702\n",
            "[37]\tvalidation_0-rmse:370819.77249\n",
            "[38]\tvalidation_0-rmse:370783.68980\n",
            "[39]\tvalidation_0-rmse:371029.42577\n"
          ]
        },
        {
          "output_type": "execute_result",
          "data": {
            "text/plain": [
              "XGBRegressor(base_score=None, booster=None, callbacks=None,\n",
              "             colsample_bylevel=None, colsample_bynode=None,\n",
              "             colsample_bytree=None, early_stopping_rounds=None,\n",
              "             enable_categorical=False, eval_metric=None, feature_types=None,\n",
              "             gamma=None, gpu_id=None, grow_policy=None, importance_type=None,\n",
              "             interaction_constraints=None, learning_rate=None, max_bin=None,\n",
              "             max_cat_threshold=None, max_cat_to_onehot=None,\n",
              "             max_delta_step=None, max_depth=None, max_leaves=None,\n",
              "             min_child_weight=None, missing=nan, monotone_constraints=None,\n",
              "             n_estimators=500, n_jobs=None, num_parallel_tree=None,\n",
              "             predictor=None, random_state=None, ...)"
            ],
            "text/html": [
              "<style>#sk-container-id-6 {color: black;background-color: white;}#sk-container-id-6 pre{padding: 0;}#sk-container-id-6 div.sk-toggleable {background-color: white;}#sk-container-id-6 label.sk-toggleable__label {cursor: pointer;display: block;width: 100%;margin-bottom: 0;padding: 0.3em;box-sizing: border-box;text-align: center;}#sk-container-id-6 label.sk-toggleable__label-arrow:before {content: \"▸\";float: left;margin-right: 0.25em;color: #696969;}#sk-container-id-6 label.sk-toggleable__label-arrow:hover:before {color: black;}#sk-container-id-6 div.sk-estimator:hover label.sk-toggleable__label-arrow:before {color: black;}#sk-container-id-6 div.sk-toggleable__content {max-height: 0;max-width: 0;overflow: hidden;text-align: left;background-color: #f0f8ff;}#sk-container-id-6 div.sk-toggleable__content pre {margin: 0.2em;color: black;border-radius: 0.25em;background-color: #f0f8ff;}#sk-container-id-6 input.sk-toggleable__control:checked~div.sk-toggleable__content {max-height: 200px;max-width: 100%;overflow: auto;}#sk-container-id-6 input.sk-toggleable__control:checked~label.sk-toggleable__label-arrow:before {content: \"▾\";}#sk-container-id-6 div.sk-estimator input.sk-toggleable__control:checked~label.sk-toggleable__label {background-color: #d4ebff;}#sk-container-id-6 div.sk-label input.sk-toggleable__control:checked~label.sk-toggleable__label {background-color: #d4ebff;}#sk-container-id-6 input.sk-hidden--visually {border: 0;clip: rect(1px 1px 1px 1px);clip: rect(1px, 1px, 1px, 1px);height: 1px;margin: -1px;overflow: hidden;padding: 0;position: absolute;width: 1px;}#sk-container-id-6 div.sk-estimator {font-family: monospace;background-color: #f0f8ff;border: 1px dotted black;border-radius: 0.25em;box-sizing: border-box;margin-bottom: 0.5em;}#sk-container-id-6 div.sk-estimator:hover {background-color: #d4ebff;}#sk-container-id-6 div.sk-parallel-item::after {content: \"\";width: 100%;border-bottom: 1px solid gray;flex-grow: 1;}#sk-container-id-6 div.sk-label:hover label.sk-toggleable__label {background-color: #d4ebff;}#sk-container-id-6 div.sk-serial::before {content: \"\";position: absolute;border-left: 1px solid gray;box-sizing: border-box;top: 0;bottom: 0;left: 50%;z-index: 0;}#sk-container-id-6 div.sk-serial {display: flex;flex-direction: column;align-items: center;background-color: white;padding-right: 0.2em;padding-left: 0.2em;position: relative;}#sk-container-id-6 div.sk-item {position: relative;z-index: 1;}#sk-container-id-6 div.sk-parallel {display: flex;align-items: stretch;justify-content: center;background-color: white;position: relative;}#sk-container-id-6 div.sk-item::before, #sk-container-id-6 div.sk-parallel-item::before {content: \"\";position: absolute;border-left: 1px solid gray;box-sizing: border-box;top: 0;bottom: 0;left: 50%;z-index: -1;}#sk-container-id-6 div.sk-parallel-item {display: flex;flex-direction: column;z-index: 1;position: relative;background-color: white;}#sk-container-id-6 div.sk-parallel-item:first-child::after {align-self: flex-end;width: 50%;}#sk-container-id-6 div.sk-parallel-item:last-child::after {align-self: flex-start;width: 50%;}#sk-container-id-6 div.sk-parallel-item:only-child::after {width: 0;}#sk-container-id-6 div.sk-dashed-wrapped {border: 1px dashed gray;margin: 0 0.4em 0.5em 0.4em;box-sizing: border-box;padding-bottom: 0.4em;background-color: white;}#sk-container-id-6 div.sk-label label {font-family: monospace;font-weight: bold;display: inline-block;line-height: 1.2em;}#sk-container-id-6 div.sk-label-container {text-align: center;}#sk-container-id-6 div.sk-container {/* jupyter's `normalize.less` sets `[hidden] { display: none; }` but bootstrap.min.css set `[hidden] { display: none !important; }` so we also need the `!important` here to be able to override the default hidden behavior on the sphinx rendered scikit-learn.org. See: https://github.com/scikit-learn/scikit-learn/issues/21755 */display: inline-block !important;position: relative;}#sk-container-id-6 div.sk-text-repr-fallback {display: none;}</style><div id=\"sk-container-id-6\" class=\"sk-top-container\"><div class=\"sk-text-repr-fallback\"><pre>XGBRegressor(base_score=None, booster=None, callbacks=None,\n",
              "             colsample_bylevel=None, colsample_bynode=None,\n",
              "             colsample_bytree=None, early_stopping_rounds=None,\n",
              "             enable_categorical=False, eval_metric=None, feature_types=None,\n",
              "             gamma=None, gpu_id=None, grow_policy=None, importance_type=None,\n",
              "             interaction_constraints=None, learning_rate=None, max_bin=None,\n",
              "             max_cat_threshold=None, max_cat_to_onehot=None,\n",
              "             max_delta_step=None, max_depth=None, max_leaves=None,\n",
              "             min_child_weight=None, missing=nan, monotone_constraints=None,\n",
              "             n_estimators=500, n_jobs=None, num_parallel_tree=None,\n",
              "             predictor=None, random_state=None, ...)</pre><b>In a Jupyter environment, please rerun this cell to show the HTML representation or trust the notebook. <br />On GitHub, the HTML representation is unable to render, please try loading this page with nbviewer.org.</b></div><div class=\"sk-container\" hidden><div class=\"sk-item\"><div class=\"sk-estimator sk-toggleable\"><input class=\"sk-toggleable__control sk-hidden--visually\" id=\"sk-estimator-id-6\" type=\"checkbox\" checked><label for=\"sk-estimator-id-6\" class=\"sk-toggleable__label sk-toggleable__label-arrow\">XGBRegressor</label><div class=\"sk-toggleable__content\"><pre>XGBRegressor(base_score=None, booster=None, callbacks=None,\n",
              "             colsample_bylevel=None, colsample_bynode=None,\n",
              "             colsample_bytree=None, early_stopping_rounds=None,\n",
              "             enable_categorical=False, eval_metric=None, feature_types=None,\n",
              "             gamma=None, gpu_id=None, grow_policy=None, importance_type=None,\n",
              "             interaction_constraints=None, learning_rate=None, max_bin=None,\n",
              "             max_cat_threshold=None, max_cat_to_onehot=None,\n",
              "             max_delta_step=None, max_depth=None, max_leaves=None,\n",
              "             min_child_weight=None, missing=nan, monotone_constraints=None,\n",
              "             n_estimators=500, n_jobs=None, num_parallel_tree=None,\n",
              "             predictor=None, random_state=None, ...)</pre></div></div></div></div></div>"
            ]
          },
          "metadata": {},
          "execution_count": 13
        }
      ],
      "source": [
        "# 3.3 Set early stop rounds:\n",
        "\n",
        "my_model = XGBRegressor(n_estimators=500)\n",
        "my_model.fit(X_train, y_train, \n",
        "             early_stopping_rounds=5, \n",
        "             eval_set=[(X_valid, y_valid)],\n",
        "             verbose= True)"
      ]
    },
    {
      "cell_type": "markdown",
      "id": "e19c5290",
      "metadata": {
        "papermill": {
          "duration": 0.004317,
          "end_time": "2023-04-21T13:41:14.467953",
          "exception": false,
          "start_time": "2023-04-21T13:41:14.463636",
          "status": "completed"
        },
        "tags": [],
        "id": "e19c5290"
      },
      "source": [
        "If you later want to fit a model with all of your data, set `n_estimators` to whatever value you found to be optimal when run with early stopping.\n",
        "\n",
        "### `learning_rate`\n",
        "\n",
        "Instead of getting predictions by simply adding up the predictions from each component model, we can multiply the predictions from each model by a small number (known as the **learning rate**) before adding them in.  \n",
        "\n",
        "This means each tree we add to the ensemble helps us less.  So, we can set a higher value for `n_estimators` without overfitting.  If we use early stopping, the appropriate number of trees will be determined automatically.\n",
        "\n",
        "In general, a small learning rate and large number of estimators will yield more accurate XGBoost models, though it will also take the model longer to train since it does more iterations through the cycle.  As default, XGBoost sets `learning_rate=0.1`.\n",
        "\n",
        "Modifying the example above to change the learning rate yields the following code:"
      ]
    },
    {
      "cell_type": "code",
      "execution_count": 12,
      "id": "42e969f0",
      "metadata": {
        "_kg_hide-output": true,
        "execution": {
          "iopub.execute_input": "2023-04-21T13:41:14.479388Z",
          "iopub.status.busy": "2023-04-21T13:41:14.478969Z",
          "iopub.status.idle": "2023-04-21T13:41:16.925946Z",
          "shell.execute_reply": "2023-04-21T13:41:16.924979Z"
        },
        "papermill": {
          "duration": 2.456145,
          "end_time": "2023-04-21T13:41:16.929000",
          "exception": false,
          "start_time": "2023-04-21T13:41:14.472855",
          "status": "completed"
        },
        "tags": [],
        "colab": {
          "base_uri": "https://localhost:8080/",
          "height": 1000
        },
        "id": "42e969f0",
        "outputId": "0e9ad3ee-d583-486c-e723-e53451defe30"
      },
      "outputs": [
        {
          "output_type": "stream",
          "name": "stderr",
          "text": [
            "/usr/local/lib/python3.10/dist-packages/xgboost/sklearn.py:835: UserWarning: `early_stopping_rounds` in `fit` method is deprecated for better compatibility with scikit-learn, use `early_stopping_rounds` in constructor or`set_params` instead.\n",
            "  warnings.warn(\n"
          ]
        },
        {
          "output_type": "stream",
          "name": "stdout",
          "text": [
            "[0]\tvalidation_0-rmse:1195490.17662\n",
            "[1]\tvalidation_0-rmse:1144269.13722\n",
            "[2]\tvalidation_0-rmse:1096065.83039\n",
            "[3]\tvalidation_0-rmse:1050779.90953\n",
            "[4]\tvalidation_0-rmse:1008011.72305\n",
            "[5]\tvalidation_0-rmse:967450.65815\n",
            "[6]\tvalidation_0-rmse:929524.80330\n",
            "[7]\tvalidation_0-rmse:893629.17829\n",
            "[8]\tvalidation_0-rmse:860039.20964\n",
            "[9]\tvalidation_0-rmse:828368.90103\n",
            "[10]\tvalidation_0-rmse:798476.08492\n",
            "[11]\tvalidation_0-rmse:770552.77563\n",
            "[12]\tvalidation_0-rmse:743942.04177\n",
            "[13]\tvalidation_0-rmse:719332.84291\n",
            "[14]\tvalidation_0-rmse:696050.29498\n",
            "[15]\tvalidation_0-rmse:674334.22360\n",
            "[16]\tvalidation_0-rmse:653999.12453\n",
            "[17]\tvalidation_0-rmse:634713.55912\n",
            "[18]\tvalidation_0-rmse:617067.55474\n",
            "[19]\tvalidation_0-rmse:600456.65184\n",
            "[20]\tvalidation_0-rmse:585154.95674\n",
            "[21]\tvalidation_0-rmse:570511.08907\n",
            "[22]\tvalidation_0-rmse:557257.13236\n",
            "[23]\tvalidation_0-rmse:544530.72213\n",
            "[24]\tvalidation_0-rmse:532991.79233\n",
            "[25]\tvalidation_0-rmse:522224.56455\n",
            "[26]\tvalidation_0-rmse:512465.95072\n",
            "[27]\tvalidation_0-rmse:502651.60809\n",
            "[28]\tvalidation_0-rmse:494266.76465\n",
            "[29]\tvalidation_0-rmse:485836.45700\n",
            "[30]\tvalidation_0-rmse:478452.52928\n",
            "[31]\tvalidation_0-rmse:471711.36327\n",
            "[32]\tvalidation_0-rmse:465434.72155\n",
            "[33]\tvalidation_0-rmse:459609.74107\n",
            "[34]\tvalidation_0-rmse:453778.49446\n",
            "[35]\tvalidation_0-rmse:448746.45050\n",
            "[36]\tvalidation_0-rmse:443639.31930\n",
            "[37]\tvalidation_0-rmse:438987.71491\n",
            "[38]\tvalidation_0-rmse:435051.17517\n",
            "[39]\tvalidation_0-rmse:430989.17138\n",
            "[40]\tvalidation_0-rmse:427304.92854\n",
            "[41]\tvalidation_0-rmse:423732.79151\n",
            "[42]\tvalidation_0-rmse:420579.43021\n",
            "[43]\tvalidation_0-rmse:417900.67043\n",
            "[44]\tvalidation_0-rmse:415107.71485\n",
            "[45]\tvalidation_0-rmse:412732.87957\n",
            "[46]\tvalidation_0-rmse:410359.99602\n",
            "[47]\tvalidation_0-rmse:408249.21010\n",
            "[48]\tvalidation_0-rmse:406416.33855\n",
            "[49]\tvalidation_0-rmse:404628.73886\n",
            "[50]\tvalidation_0-rmse:403173.79561\n",
            "[51]\tvalidation_0-rmse:401317.18739\n",
            "[52]\tvalidation_0-rmse:400044.58358\n",
            "[53]\tvalidation_0-rmse:398632.36463\n",
            "[54]\tvalidation_0-rmse:397451.18546\n",
            "[55]\tvalidation_0-rmse:396307.15773\n",
            "[56]\tvalidation_0-rmse:395295.24095\n",
            "[57]\tvalidation_0-rmse:394618.77737\n",
            "[58]\tvalidation_0-rmse:393607.89610\n",
            "[59]\tvalidation_0-rmse:392710.10224\n",
            "[60]\tvalidation_0-rmse:391526.90265\n",
            "[61]\tvalidation_0-rmse:390647.23013\n",
            "[62]\tvalidation_0-rmse:390118.83130\n",
            "[63]\tvalidation_0-rmse:388849.34260\n",
            "[64]\tvalidation_0-rmse:387809.83967\n",
            "[65]\tvalidation_0-rmse:386986.50600\n",
            "[66]\tvalidation_0-rmse:386739.17552\n",
            "[67]\tvalidation_0-rmse:385896.79484\n",
            "[68]\tvalidation_0-rmse:385017.15483\n",
            "[69]\tvalidation_0-rmse:384330.72482\n",
            "[70]\tvalidation_0-rmse:383796.57928\n",
            "[71]\tvalidation_0-rmse:383340.62729\n",
            "[72]\tvalidation_0-rmse:383073.18546\n",
            "[73]\tvalidation_0-rmse:383059.70729\n",
            "[74]\tvalidation_0-rmse:382330.52743\n",
            "[75]\tvalidation_0-rmse:381911.13126\n",
            "[76]\tvalidation_0-rmse:381723.08041\n",
            "[77]\tvalidation_0-rmse:381454.67200\n",
            "[78]\tvalidation_0-rmse:380909.71884\n",
            "[79]\tvalidation_0-rmse:380751.87696\n",
            "[80]\tvalidation_0-rmse:380373.27345\n",
            "[81]\tvalidation_0-rmse:379927.77522\n",
            "[82]\tvalidation_0-rmse:379733.83172\n",
            "[83]\tvalidation_0-rmse:379467.66309\n",
            "[84]\tvalidation_0-rmse:379220.94734\n",
            "[85]\tvalidation_0-rmse:378833.72172\n",
            "[86]\tvalidation_0-rmse:378617.43671\n",
            "[87]\tvalidation_0-rmse:378461.56306\n",
            "[88]\tvalidation_0-rmse:378315.67579\n",
            "[89]\tvalidation_0-rmse:378155.11066\n",
            "[90]\tvalidation_0-rmse:378037.42370\n",
            "[91]\tvalidation_0-rmse:377460.95665\n",
            "[92]\tvalidation_0-rmse:377376.16790\n",
            "[93]\tvalidation_0-rmse:377326.45853\n",
            "[94]\tvalidation_0-rmse:376834.70775\n",
            "[95]\tvalidation_0-rmse:376786.19206\n",
            "[96]\tvalidation_0-rmse:376456.57579\n",
            "[97]\tvalidation_0-rmse:376177.22505\n",
            "[98]\tvalidation_0-rmse:375759.28705\n",
            "[99]\tvalidation_0-rmse:375732.46814\n",
            "[100]\tvalidation_0-rmse:375455.12286\n",
            "[101]\tvalidation_0-rmse:375176.55707\n",
            "[102]\tvalidation_0-rmse:375002.87143\n",
            "[103]\tvalidation_0-rmse:374985.19715\n",
            "[104]\tvalidation_0-rmse:374983.11572\n",
            "[105]\tvalidation_0-rmse:374748.28496\n",
            "[106]\tvalidation_0-rmse:374413.03951\n",
            "[107]\tvalidation_0-rmse:374349.37263\n",
            "[108]\tvalidation_0-rmse:373998.15813\n",
            "[109]\tvalidation_0-rmse:373934.66177\n",
            "[110]\tvalidation_0-rmse:373999.57789\n",
            "[111]\tvalidation_0-rmse:373731.04666\n",
            "[112]\tvalidation_0-rmse:373584.67751\n",
            "[113]\tvalidation_0-rmse:373619.37270\n",
            "[114]\tvalidation_0-rmse:373375.39185\n",
            "[115]\tvalidation_0-rmse:373386.27978\n",
            "[116]\tvalidation_0-rmse:373271.64341\n",
            "[117]\tvalidation_0-rmse:373231.67923\n",
            "[118]\tvalidation_0-rmse:372922.32075\n",
            "[119]\tvalidation_0-rmse:372899.85258\n",
            "[120]\tvalidation_0-rmse:372878.80027\n",
            "[121]\tvalidation_0-rmse:372859.76113\n",
            "[122]\tvalidation_0-rmse:372821.84193\n",
            "[123]\tvalidation_0-rmse:372721.10384\n",
            "[124]\tvalidation_0-rmse:372722.65208\n",
            "[125]\tvalidation_0-rmse:372449.51579\n",
            "[126]\tvalidation_0-rmse:372340.23002\n",
            "[127]\tvalidation_0-rmse:372275.88562\n",
            "[128]\tvalidation_0-rmse:371936.22664\n",
            "[129]\tvalidation_0-rmse:371866.34911\n",
            "[130]\tvalidation_0-rmse:371659.30639\n",
            "[131]\tvalidation_0-rmse:371512.74929\n",
            "[132]\tvalidation_0-rmse:371528.51444\n",
            "[133]\tvalidation_0-rmse:371310.95223\n",
            "[134]\tvalidation_0-rmse:371350.74559\n",
            "[135]\tvalidation_0-rmse:371295.29225\n",
            "[136]\tvalidation_0-rmse:371336.49131\n",
            "[137]\tvalidation_0-rmse:370971.11658\n",
            "[138]\tvalidation_0-rmse:370918.30358\n",
            "[139]\tvalidation_0-rmse:370874.79908\n",
            "[140]\tvalidation_0-rmse:370826.46040\n",
            "[141]\tvalidation_0-rmse:370809.77144\n",
            "[142]\tvalidation_0-rmse:370824.38392\n",
            "[143]\tvalidation_0-rmse:370409.60981\n",
            "[144]\tvalidation_0-rmse:370376.24099\n",
            "[145]\tvalidation_0-rmse:370126.11050\n",
            "[146]\tvalidation_0-rmse:369928.62381\n",
            "[147]\tvalidation_0-rmse:369889.93493\n",
            "[148]\tvalidation_0-rmse:369919.87186\n",
            "[149]\tvalidation_0-rmse:369805.92956\n",
            "[150]\tvalidation_0-rmse:369696.56245\n",
            "[151]\tvalidation_0-rmse:369639.22693\n",
            "[152]\tvalidation_0-rmse:369721.41919\n",
            "[153]\tvalidation_0-rmse:369680.40404\n",
            "[154]\tvalidation_0-rmse:369560.30342\n",
            "[155]\tvalidation_0-rmse:369494.39336\n",
            "[156]\tvalidation_0-rmse:369493.38515\n",
            "[157]\tvalidation_0-rmse:369480.58985\n",
            "[158]\tvalidation_0-rmse:369311.59813\n",
            "[159]\tvalidation_0-rmse:369162.96847\n",
            "[160]\tvalidation_0-rmse:369165.53474\n",
            "[161]\tvalidation_0-rmse:369122.48493\n",
            "[162]\tvalidation_0-rmse:369096.08670\n",
            "[163]\tvalidation_0-rmse:369021.71870\n",
            "[164]\tvalidation_0-rmse:368632.86628\n",
            "[165]\tvalidation_0-rmse:368585.66067\n",
            "[166]\tvalidation_0-rmse:368623.84907\n",
            "[167]\tvalidation_0-rmse:368507.65101\n",
            "[168]\tvalidation_0-rmse:368243.97252\n",
            "[169]\tvalidation_0-rmse:368234.28139\n",
            "[170]\tvalidation_0-rmse:368185.39436\n",
            "[171]\tvalidation_0-rmse:368205.30287\n",
            "[172]\tvalidation_0-rmse:368248.76423\n",
            "[173]\tvalidation_0-rmse:368205.33664\n",
            "[174]\tvalidation_0-rmse:368225.74283\n"
          ]
        },
        {
          "output_type": "execute_result",
          "data": {
            "text/plain": [
              "XGBRegressor(base_score=None, booster=None, callbacks=None,\n",
              "             colsample_bylevel=None, colsample_bynode=None,\n",
              "             colsample_bytree=None, early_stopping_rounds=None,\n",
              "             enable_categorical=False, eval_metric=None, feature_types=None,\n",
              "             gamma=None, gpu_id=None, grow_policy=None, importance_type=None,\n",
              "             interaction_constraints=None, learning_rate=0.05, max_bin=None,\n",
              "             max_cat_threshold=None, max_cat_to_onehot=None,\n",
              "             max_delta_step=None, max_depth=None, max_leaves=None,\n",
              "             min_child_weight=None, missing=nan, monotone_constraints=None,\n",
              "             n_estimators=1000, n_jobs=None, num_parallel_tree=None,\n",
              "             predictor=None, random_state=None, ...)"
            ],
            "text/html": [
              "<style>#sk-container-id-5 {color: black;background-color: white;}#sk-container-id-5 pre{padding: 0;}#sk-container-id-5 div.sk-toggleable {background-color: white;}#sk-container-id-5 label.sk-toggleable__label {cursor: pointer;display: block;width: 100%;margin-bottom: 0;padding: 0.3em;box-sizing: border-box;text-align: center;}#sk-container-id-5 label.sk-toggleable__label-arrow:before {content: \"▸\";float: left;margin-right: 0.25em;color: #696969;}#sk-container-id-5 label.sk-toggleable__label-arrow:hover:before {color: black;}#sk-container-id-5 div.sk-estimator:hover label.sk-toggleable__label-arrow:before {color: black;}#sk-container-id-5 div.sk-toggleable__content {max-height: 0;max-width: 0;overflow: hidden;text-align: left;background-color: #f0f8ff;}#sk-container-id-5 div.sk-toggleable__content pre {margin: 0.2em;color: black;border-radius: 0.25em;background-color: #f0f8ff;}#sk-container-id-5 input.sk-toggleable__control:checked~div.sk-toggleable__content {max-height: 200px;max-width: 100%;overflow: auto;}#sk-container-id-5 input.sk-toggleable__control:checked~label.sk-toggleable__label-arrow:before {content: \"▾\";}#sk-container-id-5 div.sk-estimator input.sk-toggleable__control:checked~label.sk-toggleable__label {background-color: #d4ebff;}#sk-container-id-5 div.sk-label input.sk-toggleable__control:checked~label.sk-toggleable__label {background-color: #d4ebff;}#sk-container-id-5 input.sk-hidden--visually {border: 0;clip: rect(1px 1px 1px 1px);clip: rect(1px, 1px, 1px, 1px);height: 1px;margin: -1px;overflow: hidden;padding: 0;position: absolute;width: 1px;}#sk-container-id-5 div.sk-estimator {font-family: monospace;background-color: #f0f8ff;border: 1px dotted black;border-radius: 0.25em;box-sizing: border-box;margin-bottom: 0.5em;}#sk-container-id-5 div.sk-estimator:hover {background-color: #d4ebff;}#sk-container-id-5 div.sk-parallel-item::after {content: \"\";width: 100%;border-bottom: 1px solid gray;flex-grow: 1;}#sk-container-id-5 div.sk-label:hover label.sk-toggleable__label {background-color: #d4ebff;}#sk-container-id-5 div.sk-serial::before {content: \"\";position: absolute;border-left: 1px solid gray;box-sizing: border-box;top: 0;bottom: 0;left: 50%;z-index: 0;}#sk-container-id-5 div.sk-serial {display: flex;flex-direction: column;align-items: center;background-color: white;padding-right: 0.2em;padding-left: 0.2em;position: relative;}#sk-container-id-5 div.sk-item {position: relative;z-index: 1;}#sk-container-id-5 div.sk-parallel {display: flex;align-items: stretch;justify-content: center;background-color: white;position: relative;}#sk-container-id-5 div.sk-item::before, #sk-container-id-5 div.sk-parallel-item::before {content: \"\";position: absolute;border-left: 1px solid gray;box-sizing: border-box;top: 0;bottom: 0;left: 50%;z-index: -1;}#sk-container-id-5 div.sk-parallel-item {display: flex;flex-direction: column;z-index: 1;position: relative;background-color: white;}#sk-container-id-5 div.sk-parallel-item:first-child::after {align-self: flex-end;width: 50%;}#sk-container-id-5 div.sk-parallel-item:last-child::after {align-self: flex-start;width: 50%;}#sk-container-id-5 div.sk-parallel-item:only-child::after {width: 0;}#sk-container-id-5 div.sk-dashed-wrapped {border: 1px dashed gray;margin: 0 0.4em 0.5em 0.4em;box-sizing: border-box;padding-bottom: 0.4em;background-color: white;}#sk-container-id-5 div.sk-label label {font-family: monospace;font-weight: bold;display: inline-block;line-height: 1.2em;}#sk-container-id-5 div.sk-label-container {text-align: center;}#sk-container-id-5 div.sk-container {/* jupyter's `normalize.less` sets `[hidden] { display: none; }` but bootstrap.min.css set `[hidden] { display: none !important; }` so we also need the `!important` here to be able to override the default hidden behavior on the sphinx rendered scikit-learn.org. See: https://github.com/scikit-learn/scikit-learn/issues/21755 */display: inline-block !important;position: relative;}#sk-container-id-5 div.sk-text-repr-fallback {display: none;}</style><div id=\"sk-container-id-5\" class=\"sk-top-container\"><div class=\"sk-text-repr-fallback\"><pre>XGBRegressor(base_score=None, booster=None, callbacks=None,\n",
              "             colsample_bylevel=None, colsample_bynode=None,\n",
              "             colsample_bytree=None, early_stopping_rounds=None,\n",
              "             enable_categorical=False, eval_metric=None, feature_types=None,\n",
              "             gamma=None, gpu_id=None, grow_policy=None, importance_type=None,\n",
              "             interaction_constraints=None, learning_rate=0.05, max_bin=None,\n",
              "             max_cat_threshold=None, max_cat_to_onehot=None,\n",
              "             max_delta_step=None, max_depth=None, max_leaves=None,\n",
              "             min_child_weight=None, missing=nan, monotone_constraints=None,\n",
              "             n_estimators=1000, n_jobs=None, num_parallel_tree=None,\n",
              "             predictor=None, random_state=None, ...)</pre><b>In a Jupyter environment, please rerun this cell to show the HTML representation or trust the notebook. <br />On GitHub, the HTML representation is unable to render, please try loading this page with nbviewer.org.</b></div><div class=\"sk-container\" hidden><div class=\"sk-item\"><div class=\"sk-estimator sk-toggleable\"><input class=\"sk-toggleable__control sk-hidden--visually\" id=\"sk-estimator-id-5\" type=\"checkbox\" checked><label for=\"sk-estimator-id-5\" class=\"sk-toggleable__label sk-toggleable__label-arrow\">XGBRegressor</label><div class=\"sk-toggleable__content\"><pre>XGBRegressor(base_score=None, booster=None, callbacks=None,\n",
              "             colsample_bylevel=None, colsample_bynode=None,\n",
              "             colsample_bytree=None, early_stopping_rounds=None,\n",
              "             enable_categorical=False, eval_metric=None, feature_types=None,\n",
              "             gamma=None, gpu_id=None, grow_policy=None, importance_type=None,\n",
              "             interaction_constraints=None, learning_rate=0.05, max_bin=None,\n",
              "             max_cat_threshold=None, max_cat_to_onehot=None,\n",
              "             max_delta_step=None, max_depth=None, max_leaves=None,\n",
              "             min_child_weight=None, missing=nan, monotone_constraints=None,\n",
              "             n_estimators=1000, n_jobs=None, num_parallel_tree=None,\n",
              "             predictor=None, random_state=None, ...)</pre></div></div></div></div></div>"
            ]
          },
          "metadata": {},
          "execution_count": 12
        }
      ],
      "source": [
        "# 3.4 learning_rate:\n",
        "\n",
        "my_model = XGBRegressor(n_estimators=1000, learning_rate=0.05)\n",
        "my_model.fit(X_train, y_train, \n",
        "             early_stopping_rounds=5, \n",
        "             eval_set=[(X_valid, y_valid)], \n",
        "             verbose= True)"
      ]
    },
    {
      "cell_type": "markdown",
      "id": "fe6fe005",
      "metadata": {
        "papermill": {
          "duration": 0.00448,
          "end_time": "2023-04-21T13:41:16.938345",
          "exception": false,
          "start_time": "2023-04-21T13:41:16.933865",
          "status": "completed"
        },
        "tags": [],
        "id": "fe6fe005"
      },
      "source": [
        "### `n_jobs`\n",
        "On larger datasets where runtime is a consideration, you can use parallelism to build your models faster.  It's common to set the parameter `n_jobs` equal to the number of cores on your machine.  On smaller datasets, this won't help. \n",
        "\n",
        "The resulting model won't be any better, so micro-optimizing for fitting time is typically nothing but a distraction. But, it's useful in large datasets where you would otherwise spend a long time waiting during the `fit` command.\n",
        "\n",
        "Here's the modified example:"
      ]
    },
    {
      "cell_type": "code",
      "execution_count": 14,
      "id": "4c54bf53",
      "metadata": {
        "_kg_hide-output": true,
        "execution": {
          "iopub.execute_input": "2023-04-21T13:41:16.950065Z",
          "iopub.status.busy": "2023-04-21T13:41:16.949642Z",
          "iopub.status.idle": "2023-04-21T13:41:19.423732Z",
          "shell.execute_reply": "2023-04-21T13:41:19.422638Z"
        },
        "papermill": {
          "duration": 2.483964,
          "end_time": "2023-04-21T13:41:19.427140",
          "exception": false,
          "start_time": "2023-04-21T13:41:16.943176",
          "status": "completed"
        },
        "tags": [],
        "colab": {
          "base_uri": "https://localhost:8080/",
          "height": 1000
        },
        "id": "4c54bf53",
        "outputId": "8fc7a52c-3d68-474a-cc20-182d6b87d3ef"
      },
      "outputs": [
        {
          "output_type": "stream",
          "name": "stdout",
          "text": [
            "[0]\tvalidation_0-rmse:1195490.17662\n",
            "[1]\tvalidation_0-rmse:1144269.13722\n",
            "[2]\tvalidation_0-rmse:1096065.83039\n",
            "[3]\tvalidation_0-rmse:1050779.90953\n",
            "[4]\tvalidation_0-rmse:1008011.72305\n",
            "[5]\tvalidation_0-rmse:967450.65815\n"
          ]
        },
        {
          "output_type": "stream",
          "name": "stderr",
          "text": [
            "/usr/local/lib/python3.10/dist-packages/xgboost/sklearn.py:835: UserWarning: `early_stopping_rounds` in `fit` method is deprecated for better compatibility with scikit-learn, use `early_stopping_rounds` in constructor or`set_params` instead.\n",
            "  warnings.warn(\n"
          ]
        },
        {
          "output_type": "stream",
          "name": "stdout",
          "text": [
            "[6]\tvalidation_0-rmse:929524.80330\n",
            "[7]\tvalidation_0-rmse:893629.17829\n",
            "[8]\tvalidation_0-rmse:860039.20964\n",
            "[9]\tvalidation_0-rmse:828368.90103\n",
            "[10]\tvalidation_0-rmse:798476.08492\n",
            "[11]\tvalidation_0-rmse:770552.77563\n",
            "[12]\tvalidation_0-rmse:743942.04177\n",
            "[13]\tvalidation_0-rmse:719332.84291\n",
            "[14]\tvalidation_0-rmse:696050.29498\n",
            "[15]\tvalidation_0-rmse:674334.22360\n",
            "[16]\tvalidation_0-rmse:653999.12453\n",
            "[17]\tvalidation_0-rmse:634713.55912\n",
            "[18]\tvalidation_0-rmse:617067.55474\n",
            "[19]\tvalidation_0-rmse:600456.65184\n",
            "[20]\tvalidation_0-rmse:585154.95674\n",
            "[21]\tvalidation_0-rmse:570511.08907\n",
            "[22]\tvalidation_0-rmse:557257.13236\n",
            "[23]\tvalidation_0-rmse:544530.72213\n",
            "[24]\tvalidation_0-rmse:532991.79233\n",
            "[25]\tvalidation_0-rmse:522224.56455\n",
            "[26]\tvalidation_0-rmse:512465.95072\n",
            "[27]\tvalidation_0-rmse:502651.60809\n",
            "[28]\tvalidation_0-rmse:494266.76465\n",
            "[29]\tvalidation_0-rmse:485836.45700\n",
            "[30]\tvalidation_0-rmse:478452.52928\n",
            "[31]\tvalidation_0-rmse:471711.36327\n",
            "[32]\tvalidation_0-rmse:465434.72155\n",
            "[33]\tvalidation_0-rmse:459609.74107\n",
            "[34]\tvalidation_0-rmse:453778.49446\n",
            "[35]\tvalidation_0-rmse:448746.45050\n",
            "[36]\tvalidation_0-rmse:443639.31930\n",
            "[37]\tvalidation_0-rmse:438987.71491\n",
            "[38]\tvalidation_0-rmse:435051.17517\n",
            "[39]\tvalidation_0-rmse:430989.17138\n",
            "[40]\tvalidation_0-rmse:427304.92854\n",
            "[41]\tvalidation_0-rmse:423732.79151\n",
            "[42]\tvalidation_0-rmse:420579.43021\n",
            "[43]\tvalidation_0-rmse:417900.67043\n",
            "[44]\tvalidation_0-rmse:415107.71485\n",
            "[45]\tvalidation_0-rmse:412732.87957\n",
            "[46]\tvalidation_0-rmse:410359.99602\n",
            "[47]\tvalidation_0-rmse:408249.21010\n",
            "[48]\tvalidation_0-rmse:406416.33855\n",
            "[49]\tvalidation_0-rmse:404628.73886\n",
            "[50]\tvalidation_0-rmse:403173.79561\n",
            "[51]\tvalidation_0-rmse:401317.18739\n",
            "[52]\tvalidation_0-rmse:400044.58358\n",
            "[53]\tvalidation_0-rmse:398632.36463\n",
            "[54]\tvalidation_0-rmse:397451.18546\n",
            "[55]\tvalidation_0-rmse:396307.15773\n",
            "[56]\tvalidation_0-rmse:395295.24095\n",
            "[57]\tvalidation_0-rmse:394618.77737\n",
            "[58]\tvalidation_0-rmse:393607.89610\n",
            "[59]\tvalidation_0-rmse:392710.10224\n",
            "[60]\tvalidation_0-rmse:391526.90265\n",
            "[61]\tvalidation_0-rmse:390647.23013\n",
            "[62]\tvalidation_0-rmse:390118.83130\n",
            "[63]\tvalidation_0-rmse:388849.34260\n",
            "[64]\tvalidation_0-rmse:387809.83967\n",
            "[65]\tvalidation_0-rmse:386986.50600\n",
            "[66]\tvalidation_0-rmse:386739.17552\n",
            "[67]\tvalidation_0-rmse:385896.79484\n",
            "[68]\tvalidation_0-rmse:385017.15483\n",
            "[69]\tvalidation_0-rmse:384330.72482\n",
            "[70]\tvalidation_0-rmse:383796.57928\n",
            "[71]\tvalidation_0-rmse:383340.62729\n",
            "[72]\tvalidation_0-rmse:383073.18546\n",
            "[73]\tvalidation_0-rmse:383059.70729\n",
            "[74]\tvalidation_0-rmse:382330.52743\n",
            "[75]\tvalidation_0-rmse:381911.13126\n",
            "[76]\tvalidation_0-rmse:381723.08041\n",
            "[77]\tvalidation_0-rmse:381454.67200\n",
            "[78]\tvalidation_0-rmse:380909.71884\n",
            "[79]\tvalidation_0-rmse:380751.87696\n",
            "[80]\tvalidation_0-rmse:380373.27345\n",
            "[81]\tvalidation_0-rmse:379927.77522\n",
            "[82]\tvalidation_0-rmse:379733.83172\n",
            "[83]\tvalidation_0-rmse:379467.66309\n",
            "[84]\tvalidation_0-rmse:379220.94734\n",
            "[85]\tvalidation_0-rmse:378833.72172\n",
            "[86]\tvalidation_0-rmse:378617.43671\n",
            "[87]\tvalidation_0-rmse:378461.56306\n",
            "[88]\tvalidation_0-rmse:378315.67579\n",
            "[89]\tvalidation_0-rmse:378155.11066\n",
            "[90]\tvalidation_0-rmse:378037.42370\n",
            "[91]\tvalidation_0-rmse:377460.95665\n",
            "[92]\tvalidation_0-rmse:377376.16790\n",
            "[93]\tvalidation_0-rmse:377326.45853\n",
            "[94]\tvalidation_0-rmse:376834.70775\n",
            "[95]\tvalidation_0-rmse:376786.19206\n",
            "[96]\tvalidation_0-rmse:376456.57579\n",
            "[97]\tvalidation_0-rmse:376177.22505\n",
            "[98]\tvalidation_0-rmse:375759.28705\n",
            "[99]\tvalidation_0-rmse:375732.46814\n",
            "[100]\tvalidation_0-rmse:375455.12286\n",
            "[101]\tvalidation_0-rmse:375176.55707\n",
            "[102]\tvalidation_0-rmse:375002.87143\n",
            "[103]\tvalidation_0-rmse:374985.19715\n",
            "[104]\tvalidation_0-rmse:374983.11572\n",
            "[105]\tvalidation_0-rmse:374748.28496\n",
            "[106]\tvalidation_0-rmse:374413.03951\n",
            "[107]\tvalidation_0-rmse:374349.37263\n",
            "[108]\tvalidation_0-rmse:373998.15813\n",
            "[109]\tvalidation_0-rmse:373934.66177\n",
            "[110]\tvalidation_0-rmse:373999.57789\n",
            "[111]\tvalidation_0-rmse:373731.04666\n",
            "[112]\tvalidation_0-rmse:373584.67751\n",
            "[113]\tvalidation_0-rmse:373619.37270\n",
            "[114]\tvalidation_0-rmse:373375.39185\n",
            "[115]\tvalidation_0-rmse:373386.27978\n",
            "[116]\tvalidation_0-rmse:373271.64341\n",
            "[117]\tvalidation_0-rmse:373231.67923\n",
            "[118]\tvalidation_0-rmse:372922.32075\n",
            "[119]\tvalidation_0-rmse:372899.85258\n",
            "[120]\tvalidation_0-rmse:372878.80027\n",
            "[121]\tvalidation_0-rmse:372859.76113\n",
            "[122]\tvalidation_0-rmse:372821.84193\n",
            "[123]\tvalidation_0-rmse:372721.10384\n",
            "[124]\tvalidation_0-rmse:372722.65208\n",
            "[125]\tvalidation_0-rmse:372449.51579\n",
            "[126]\tvalidation_0-rmse:372340.23002\n",
            "[127]\tvalidation_0-rmse:372275.88562\n",
            "[128]\tvalidation_0-rmse:371936.22664\n",
            "[129]\tvalidation_0-rmse:371866.34911\n",
            "[130]\tvalidation_0-rmse:371659.30639\n",
            "[131]\tvalidation_0-rmse:371512.74929\n",
            "[132]\tvalidation_0-rmse:371528.51444\n",
            "[133]\tvalidation_0-rmse:371310.95223\n",
            "[134]\tvalidation_0-rmse:371350.74559\n",
            "[135]\tvalidation_0-rmse:371295.29225\n",
            "[136]\tvalidation_0-rmse:371336.49131\n",
            "[137]\tvalidation_0-rmse:370971.11658\n",
            "[138]\tvalidation_0-rmse:370918.30358\n",
            "[139]\tvalidation_0-rmse:370874.79908\n",
            "[140]\tvalidation_0-rmse:370826.46040\n",
            "[141]\tvalidation_0-rmse:370809.77144\n",
            "[142]\tvalidation_0-rmse:370824.38392\n",
            "[143]\tvalidation_0-rmse:370409.60981\n",
            "[144]\tvalidation_0-rmse:370376.24099\n",
            "[145]\tvalidation_0-rmse:370126.11050\n",
            "[146]\tvalidation_0-rmse:369928.62381\n",
            "[147]\tvalidation_0-rmse:369889.93493\n",
            "[148]\tvalidation_0-rmse:369919.87186\n",
            "[149]\tvalidation_0-rmse:369805.92956\n",
            "[150]\tvalidation_0-rmse:369696.56245\n",
            "[151]\tvalidation_0-rmse:369639.22693\n",
            "[152]\tvalidation_0-rmse:369721.41919\n",
            "[153]\tvalidation_0-rmse:369680.40404\n",
            "[154]\tvalidation_0-rmse:369560.30342\n",
            "[155]\tvalidation_0-rmse:369494.39336\n",
            "[156]\tvalidation_0-rmse:369493.38515\n",
            "[157]\tvalidation_0-rmse:369480.58985\n",
            "[158]\tvalidation_0-rmse:369311.59813\n",
            "[159]\tvalidation_0-rmse:369162.96847\n",
            "[160]\tvalidation_0-rmse:369165.53474\n",
            "[161]\tvalidation_0-rmse:369122.48493\n",
            "[162]\tvalidation_0-rmse:369096.08670\n",
            "[163]\tvalidation_0-rmse:369021.71870\n",
            "[164]\tvalidation_0-rmse:368632.86628\n",
            "[165]\tvalidation_0-rmse:368585.66067\n",
            "[166]\tvalidation_0-rmse:368623.84907\n",
            "[167]\tvalidation_0-rmse:368507.65101\n",
            "[168]\tvalidation_0-rmse:368243.97252\n",
            "[169]\tvalidation_0-rmse:368234.28139\n",
            "[170]\tvalidation_0-rmse:368185.39436\n",
            "[171]\tvalidation_0-rmse:368205.30287\n",
            "[172]\tvalidation_0-rmse:368248.76423\n",
            "[173]\tvalidation_0-rmse:368205.33664\n",
            "[174]\tvalidation_0-rmse:368225.74283\n"
          ]
        },
        {
          "output_type": "execute_result",
          "data": {
            "text/plain": [
              "XGBRegressor(base_score=None, booster=None, callbacks=None,\n",
              "             colsample_bylevel=None, colsample_bynode=None,\n",
              "             colsample_bytree=None, early_stopping_rounds=None,\n",
              "             enable_categorical=False, eval_metric=None, feature_types=None,\n",
              "             gamma=None, gpu_id=None, grow_policy=None, importance_type=None,\n",
              "             interaction_constraints=None, learning_rate=0.05, max_bin=None,\n",
              "             max_cat_threshold=None, max_cat_to_onehot=None,\n",
              "             max_delta_step=None, max_depth=None, max_leaves=None,\n",
              "             min_child_weight=None, missing=nan, monotone_constraints=None,\n",
              "             n_estimators=1000, n_jobs=4, num_parallel_tree=None,\n",
              "             predictor=None, random_state=None, ...)"
            ],
            "text/html": [
              "<style>#sk-container-id-7 {color: black;background-color: white;}#sk-container-id-7 pre{padding: 0;}#sk-container-id-7 div.sk-toggleable {background-color: white;}#sk-container-id-7 label.sk-toggleable__label {cursor: pointer;display: block;width: 100%;margin-bottom: 0;padding: 0.3em;box-sizing: border-box;text-align: center;}#sk-container-id-7 label.sk-toggleable__label-arrow:before {content: \"▸\";float: left;margin-right: 0.25em;color: #696969;}#sk-container-id-7 label.sk-toggleable__label-arrow:hover:before {color: black;}#sk-container-id-7 div.sk-estimator:hover label.sk-toggleable__label-arrow:before {color: black;}#sk-container-id-7 div.sk-toggleable__content {max-height: 0;max-width: 0;overflow: hidden;text-align: left;background-color: #f0f8ff;}#sk-container-id-7 div.sk-toggleable__content pre {margin: 0.2em;color: black;border-radius: 0.25em;background-color: #f0f8ff;}#sk-container-id-7 input.sk-toggleable__control:checked~div.sk-toggleable__content {max-height: 200px;max-width: 100%;overflow: auto;}#sk-container-id-7 input.sk-toggleable__control:checked~label.sk-toggleable__label-arrow:before {content: \"▾\";}#sk-container-id-7 div.sk-estimator input.sk-toggleable__control:checked~label.sk-toggleable__label {background-color: #d4ebff;}#sk-container-id-7 div.sk-label input.sk-toggleable__control:checked~label.sk-toggleable__label {background-color: #d4ebff;}#sk-container-id-7 input.sk-hidden--visually {border: 0;clip: rect(1px 1px 1px 1px);clip: rect(1px, 1px, 1px, 1px);height: 1px;margin: -1px;overflow: hidden;padding: 0;position: absolute;width: 1px;}#sk-container-id-7 div.sk-estimator {font-family: monospace;background-color: #f0f8ff;border: 1px dotted black;border-radius: 0.25em;box-sizing: border-box;margin-bottom: 0.5em;}#sk-container-id-7 div.sk-estimator:hover {background-color: #d4ebff;}#sk-container-id-7 div.sk-parallel-item::after {content: \"\";width: 100%;border-bottom: 1px solid gray;flex-grow: 1;}#sk-container-id-7 div.sk-label:hover label.sk-toggleable__label {background-color: #d4ebff;}#sk-container-id-7 div.sk-serial::before {content: \"\";position: absolute;border-left: 1px solid gray;box-sizing: border-box;top: 0;bottom: 0;left: 50%;z-index: 0;}#sk-container-id-7 div.sk-serial {display: flex;flex-direction: column;align-items: center;background-color: white;padding-right: 0.2em;padding-left: 0.2em;position: relative;}#sk-container-id-7 div.sk-item {position: relative;z-index: 1;}#sk-container-id-7 div.sk-parallel {display: flex;align-items: stretch;justify-content: center;background-color: white;position: relative;}#sk-container-id-7 div.sk-item::before, #sk-container-id-7 div.sk-parallel-item::before {content: \"\";position: absolute;border-left: 1px solid gray;box-sizing: border-box;top: 0;bottom: 0;left: 50%;z-index: -1;}#sk-container-id-7 div.sk-parallel-item {display: flex;flex-direction: column;z-index: 1;position: relative;background-color: white;}#sk-container-id-7 div.sk-parallel-item:first-child::after {align-self: flex-end;width: 50%;}#sk-container-id-7 div.sk-parallel-item:last-child::after {align-self: flex-start;width: 50%;}#sk-container-id-7 div.sk-parallel-item:only-child::after {width: 0;}#sk-container-id-7 div.sk-dashed-wrapped {border: 1px dashed gray;margin: 0 0.4em 0.5em 0.4em;box-sizing: border-box;padding-bottom: 0.4em;background-color: white;}#sk-container-id-7 div.sk-label label {font-family: monospace;font-weight: bold;display: inline-block;line-height: 1.2em;}#sk-container-id-7 div.sk-label-container {text-align: center;}#sk-container-id-7 div.sk-container {/* jupyter's `normalize.less` sets `[hidden] { display: none; }` but bootstrap.min.css set `[hidden] { display: none !important; }` so we also need the `!important` here to be able to override the default hidden behavior on the sphinx rendered scikit-learn.org. See: https://github.com/scikit-learn/scikit-learn/issues/21755 */display: inline-block !important;position: relative;}#sk-container-id-7 div.sk-text-repr-fallback {display: none;}</style><div id=\"sk-container-id-7\" class=\"sk-top-container\"><div class=\"sk-text-repr-fallback\"><pre>XGBRegressor(base_score=None, booster=None, callbacks=None,\n",
              "             colsample_bylevel=None, colsample_bynode=None,\n",
              "             colsample_bytree=None, early_stopping_rounds=None,\n",
              "             enable_categorical=False, eval_metric=None, feature_types=None,\n",
              "             gamma=None, gpu_id=None, grow_policy=None, importance_type=None,\n",
              "             interaction_constraints=None, learning_rate=0.05, max_bin=None,\n",
              "             max_cat_threshold=None, max_cat_to_onehot=None,\n",
              "             max_delta_step=None, max_depth=None, max_leaves=None,\n",
              "             min_child_weight=None, missing=nan, monotone_constraints=None,\n",
              "             n_estimators=1000, n_jobs=4, num_parallel_tree=None,\n",
              "             predictor=None, random_state=None, ...)</pre><b>In a Jupyter environment, please rerun this cell to show the HTML representation or trust the notebook. <br />On GitHub, the HTML representation is unable to render, please try loading this page with nbviewer.org.</b></div><div class=\"sk-container\" hidden><div class=\"sk-item\"><div class=\"sk-estimator sk-toggleable\"><input class=\"sk-toggleable__control sk-hidden--visually\" id=\"sk-estimator-id-7\" type=\"checkbox\" checked><label for=\"sk-estimator-id-7\" class=\"sk-toggleable__label sk-toggleable__label-arrow\">XGBRegressor</label><div class=\"sk-toggleable__content\"><pre>XGBRegressor(base_score=None, booster=None, callbacks=None,\n",
              "             colsample_bylevel=None, colsample_bynode=None,\n",
              "             colsample_bytree=None, early_stopping_rounds=None,\n",
              "             enable_categorical=False, eval_metric=None, feature_types=None,\n",
              "             gamma=None, gpu_id=None, grow_policy=None, importance_type=None,\n",
              "             interaction_constraints=None, learning_rate=0.05, max_bin=None,\n",
              "             max_cat_threshold=None, max_cat_to_onehot=None,\n",
              "             max_delta_step=None, max_depth=None, max_leaves=None,\n",
              "             min_child_weight=None, missing=nan, monotone_constraints=None,\n",
              "             n_estimators=1000, n_jobs=4, num_parallel_tree=None,\n",
              "             predictor=None, random_state=None, ...)</pre></div></div></div></div></div>"
            ]
          },
          "metadata": {},
          "execution_count": 14
        }
      ],
      "source": [
        "# n_jobs:\n",
        "\n",
        "my_model = XGBRegressor(n_estimators=1000, learning_rate=0.05, n_jobs=4)\n",
        "my_model.fit(X_train, y_train, \n",
        "             early_stopping_rounds=5, \n",
        "             eval_set=[(X_valid, y_valid)], \n",
        "             verbose= True)"
      ]
    },
    {
      "cell_type": "markdown",
      "id": "dbbab005",
      "metadata": {
        "papermill": {
          "duration": 0.004638,
          "end_time": "2023-04-21T13:41:19.436840",
          "exception": false,
          "start_time": "2023-04-21T13:41:19.432202",
          "status": "completed"
        },
        "tags": [],
        "id": "dbbab005"
      },
      "source": [
        "# Conclusion\n",
        "\n",
        "[XGBoost](https://xgboost.readthedocs.io/en/latest/) is a leading software library for working with standard tabular data (the type of data you store in Pandas DataFrames, as opposed to more exotic types of data like images and videos).  With careful parameter tuning, you can train highly accurate models. \n",
        "\n",
        "# Your Turn\n",
        "\n",
        "Train your own model with XGBoost in the **[next exercise](https://www.kaggle.com/kernels/fork/3370271)**!"
      ]
    }
  ],
  "metadata": {
    "kernelspec": {
      "display_name": "Python 3",
      "language": "python",
      "name": "python3"
    },
    "language_info": {
      "codemirror_mode": {
        "name": "ipython",
        "version": 3
      },
      "file_extension": ".py",
      "mimetype": "text/x-python",
      "name": "python",
      "nbconvert_exporter": "python",
      "pygments_lexer": "ipython3",
      "version": "3.7.12"
    },
    "papermill": {
      "default_parameters": {},
      "duration": 23.048429,
      "end_time": "2023-04-21T13:41:20.175827",
      "environment_variables": {},
      "exception": null,
      "input_path": "__notebook__.ipynb",
      "output_path": "__notebook__.ipynb",
      "parameters": {},
      "start_time": "2023-04-21T13:40:57.127398",
      "version": "2.4.0"
    },
    "colab": {
      "provenance": [],
      "include_colab_link": true
    }
  },
  "nbformat": 4,
  "nbformat_minor": 5
}