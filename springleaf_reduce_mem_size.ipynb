{
  "nbformat": 4,
  "nbformat_minor": 0,
  "metadata": {
    "colab": {
      "name": "springleaf_reduce_mem_size.ipynb",
      "provenance": [],
      "collapsed_sections": [],
      "mount_file_id": "1F8LbBoN7dcDLeCMdDHYOMOx2i2uUk7mx",
      "authorship_tag": "ABX9TyNsBOvWnbPhP6npgTCVmjuc",
      "include_colab_link": true
    },
    "kernelspec": {
      "name": "python3",
      "display_name": "Python 3"
    },
    "language_info": {
      "name": "python"
    }
  },
  "cells": [
    {
      "cell_type": "markdown",
      "metadata": {
        "id": "view-in-github",
        "colab_type": "text"
      },
      "source": [
        "<a href=\"https://colab.research.google.com/github/harnalashok/classification/blob/main/springleaf_reduce_mem_size.ipynb\" target=\"_parent\"><img src=\"https://colab.research.google.com/assets/colab-badge.svg\" alt=\"Open In Colab\"/></a>"
      ]
    },
    {
      "cell_type": "markdown",
      "metadata": {
        "id": "JJ_5U31BZ2EB"
      },
      "source": [
        "# Springleaf problem--Reducing dataset size\n",
        "This notebook shows:<br>\n",
        "a) How to reduce memory size of a DataFrame. <br>\n",
        "b. How to derive correct dtype information of each column in a dictionary format<br>\n",
        "c. How to use this dictionary to read the large dataset in correct dtype format<br>\n",
        "d. How to store the dtype-dictioary for use subsequently<br>\n"
      ]
    },
    {
      "cell_type": "code",
      "metadata": {
        "id": "mU7eWoWeXVlp"
      },
      "source": [
        "# 1.0 Import libraries\n",
        "import pandas as pd\n",
        "import numpy as np\n",
        "import os"
      ],
      "execution_count": 150,
      "outputs": []
    },
    {
      "cell_type": "code",
      "metadata": {
        "id": "gLfhDb9dhKap"
      },
      "source": [
        "# 1.1 Display multiple commands output from a cell\n",
        "from IPython.core.interactiveshell import InteractiveShell\n",
        "InteractiveShell.ast_node_interactivity = \"all\"\n"
      ],
      "execution_count": 151,
      "outputs": []
    },
    {
      "cell_type": "markdown",
      "metadata": {
        "id": "M-5L_EwtaBBG"
      },
      "source": [
        "### Mount gdrive"
      ]
    },
    {
      "cell_type": "code",
      "metadata": {
        "colab": {
          "base_uri": "https://localhost:8080/"
        },
        "id": "bt-cUDvyYRhp",
        "outputId": "b1e8340a-7660-4553-f9c8-710a6ef40a05"
      },
      "source": [
        "# 2.0\n",
        "from google.colab import drive\n",
        "drive.mount('/gdrive')"
      ],
      "execution_count": 152,
      "outputs": [
        {
          "output_type": "stream",
          "text": [
            "Mounted at /gdrive\n"
          ],
          "name": "stdout"
        }
      ]
    },
    {
      "cell_type": "markdown",
      "metadata": {
        "id": "xq8qutv1aEMu"
      },
      "source": [
        "### Read data"
      ]
    },
    {
      "cell_type": "code",
      "metadata": {
        "colab": {
          "base_uri": "https://localhost:8080/"
        },
        "id": "HVX2_U5jXVUc",
        "outputId": "df87930d-01f5-459c-ea50-f07e7ca359f7"
      },
      "source": [
        "# 2.1 Read train.csv.zip file from gdrive\n",
        "#     Takes 2 minutes\n",
        "\n",
        "%%time\n",
        "filepath = \"/gdrive/MyDrive/Colab_data_files/springleaf_marketing/train.csv.zip\"\n",
        "df = pd.read_csv(filepath, low_memory = False)"
      ],
      "execution_count": 154,
      "outputs": [
        {
          "output_type": "stream",
          "text": [
            "CPU times: user 1min 49s, sys: 23.9 s, total: 2min 13s\n",
            "Wall time: 2min 14s\n"
          ],
          "name": "stdout"
        }
      ]
    },
    {
      "cell_type": "code",
      "metadata": {
        "colab": {
          "base_uri": "https://localhost:8080/"
        },
        "id": "-fAPd-8MXRfC",
        "outputId": "fee442e5-d48b-4221-c722-7757fd1805e0"
      },
      "source": [
        "# 2.2 Memory usage?\n",
        "df.shape\n",
        "print()\n",
        "df.memory_usage().sum()  # 22,470,14160 bytes"
      ],
      "execution_count": 155,
      "outputs": [
        {
          "output_type": "execute_result",
          "data": {
            "text/plain": [
              "(145231, 1934)"
            ]
          },
          "metadata": {},
          "execution_count": 155
        },
        {
          "output_type": "stream",
          "text": [
            "\n"
          ],
          "name": "stdout"
        },
        {
          "output_type": "execute_result",
          "data": {
            "text/plain": [
              "2247014160"
            ]
          },
          "metadata": {},
          "execution_count": 155
        }
      ]
    },
    {
      "cell_type": "markdown",
      "metadata": {
        "id": "JVxewcSXaHbo"
      },
      "source": [
        "### Get column names where nulls do not exist\n",
        "Else, null columns must first be filled in before memory can be reduced."
      ]
    },
    {
      "cell_type": "code",
      "metadata": {
        "id": "5QDn6-RHZJ5-"
      },
      "source": [
        "# 2.3 Which columns contain nulls\n",
        "cols = df.isnull().sum()[df.isnull().sum() > 0]\n",
        "print(cols.index.values)"
      ],
      "execution_count": null,
      "outputs": []
    },
    {
      "cell_type": "code",
      "metadata": {
        "id": "pE_14CtEaQSO"
      },
      "source": [
        "# 2.4 Array of column names that are NOT null\n",
        "df.isnull().sum()[df.isnull().sum() > 0].index.values"
      ],
      "execution_count": null,
      "outputs": []
    },
    {
      "cell_type": "code",
      "metadata": {
        "colab": {
          "base_uri": "https://localhost:8080/"
        },
        "id": "dQEYVJLTbW4d",
        "outputId": "9035dc76-9107-4fb4-ac5c-cf2ddd8bf8ab"
      },
      "source": [
        "# 2.5 List of column that have no nulls\n",
        "cols = list(df.isnull().sum()[df.isnull().sum() <= 0].index.values)\n",
        "print(cols)"
      ],
      "execution_count": 159,
      "outputs": [
        {
          "output_type": "stream",
          "text": [
            "['ID', 'VAR_0001', 'VAR_0002', 'VAR_0003', 'VAR_0004', 'VAR_0005', 'VAR_0532', 'VAR_0533', 'VAR_0534', 'VAR_0535', 'VAR_0536', 'VAR_0537', 'VAR_0538', 'VAR_0539', 'VAR_0540', 'VAR_0541', 'VAR_0542', 'VAR_0543', 'VAR_0544', 'VAR_0545', 'VAR_0546', 'VAR_0547', 'VAR_0548', 'VAR_0549', 'VAR_0550', 'VAR_0551', 'VAR_0552', 'VAR_0553', 'VAR_0554', 'VAR_0555', 'VAR_0556', 'VAR_0557', 'VAR_0558', 'VAR_0559', 'VAR_0560', 'VAR_0561', 'VAR_0562', 'VAR_0563', 'VAR_0564', 'VAR_0565', 'VAR_0566', 'VAR_0567', 'VAR_0568', 'VAR_0569', 'VAR_0570', 'VAR_0571', 'VAR_0572', 'VAR_0573', 'VAR_0574', 'VAR_0575', 'VAR_0576', 'VAR_0577', 'VAR_0578', 'VAR_0579', 'VAR_0580', 'VAR_0581', 'VAR_0582', 'VAR_0583', 'VAR_0584', 'VAR_0585', 'VAR_0586', 'VAR_0587', 'VAR_0588', 'VAR_0589', 'VAR_0590', 'VAR_0591', 'VAR_0592', 'VAR_0593', 'VAR_0594', 'VAR_0595', 'VAR_0596', 'VAR_0597', 'VAR_0598', 'VAR_0599', 'VAR_0600', 'VAR_0601', 'VAR_0602', 'VAR_0603', 'VAR_0604', 'VAR_0605', 'VAR_0606', 'VAR_0607', 'VAR_0608', 'VAR_0609', 'VAR_0610', 'VAR_0611', 'VAR_0612', 'VAR_0613', 'VAR_0614', 'VAR_0615', 'VAR_0616', 'VAR_0617', 'VAR_0618', 'VAR_0619', 'VAR_0620', 'VAR_0621', 'VAR_0622', 'VAR_0623', 'VAR_0624', 'VAR_0625', 'VAR_0626', 'VAR_0627', 'VAR_0628', 'VAR_0629', 'VAR_0630', 'VAR_0631', 'VAR_0632', 'VAR_0633', 'VAR_0634', 'VAR_0635', 'VAR_0636', 'VAR_0637', 'VAR_0638', 'VAR_0639', 'VAR_0640', 'VAR_0641', 'VAR_0642', 'VAR_0643', 'VAR_0644', 'VAR_0645', 'VAR_0646', 'VAR_0647', 'VAR_0648', 'VAR_0649', 'VAR_0650', 'VAR_0651', 'VAR_0652', 'VAR_0653', 'VAR_0654', 'VAR_0655', 'VAR_0656', 'VAR_0657', 'VAR_0658', 'VAR_0659', 'VAR_0660', 'VAR_0661', 'VAR_0662', 'VAR_0663', 'VAR_0664', 'VAR_0665', 'VAR_0666', 'VAR_0667', 'VAR_0668', 'VAR_0669', 'VAR_0670', 'VAR_0671', 'VAR_0672', 'VAR_0673', 'VAR_0674', 'VAR_0675', 'VAR_0676', 'VAR_0677', 'VAR_0678', 'VAR_0679', 'VAR_0680', 'VAR_0681', 'VAR_0682', 'VAR_0683', 'VAR_0684', 'VAR_0685', 'VAR_0686', 'VAR_0687', 'VAR_0688', 'VAR_0689', 'VAR_0690', 'VAR_0691', 'VAR_0692', 'VAR_0693', 'VAR_0694', 'VAR_0695', 'VAR_0696', 'VAR_0697', 'VAR_0698', 'VAR_0699', 'VAR_0700', 'VAR_0701', 'VAR_0702', 'VAR_0703', 'VAR_0704', 'VAR_0705', 'VAR_0706', 'VAR_0707', 'VAR_0708', 'VAR_0709', 'VAR_0710', 'VAR_0711', 'VAR_0712', 'VAR_0713', 'VAR_0714', 'VAR_0715', 'VAR_0716', 'VAR_0717', 'VAR_0718', 'VAR_0719', 'VAR_0720', 'VAR_0721', 'VAR_0722', 'VAR_0723', 'VAR_0724', 'VAR_0725', 'VAR_0726', 'VAR_0727', 'VAR_0728', 'VAR_0729', 'VAR_0730', 'VAR_0731', 'VAR_0732', 'VAR_0733', 'VAR_0734', 'VAR_0735', 'VAR_0736', 'VAR_0737', 'VAR_0738', 'VAR_0739', 'VAR_0740', 'VAR_0741', 'VAR_0742', 'VAR_0743', 'VAR_0744', 'VAR_0745', 'VAR_0746', 'VAR_0747', 'VAR_0748', 'VAR_0749', 'VAR_0750', 'VAR_0751', 'VAR_0752', 'VAR_0753', 'VAR_0754', 'VAR_0755', 'VAR_0756', 'VAR_0757', 'VAR_0758', 'VAR_0759', 'VAR_0760', 'VAR_0761', 'VAR_0762', 'VAR_0763', 'VAR_0764', 'VAR_0765', 'VAR_0766', 'VAR_0767', 'VAR_0768', 'VAR_0769', 'VAR_0770', 'VAR_0771', 'VAR_0772', 'VAR_0773', 'VAR_0774', 'VAR_0775', 'VAR_0776', 'VAR_0777', 'VAR_0778', 'VAR_0779', 'VAR_0780', 'VAR_0781', 'VAR_0782', 'VAR_0783', 'VAR_0784', 'VAR_0785', 'VAR_0786', 'VAR_0787', 'VAR_0788', 'VAR_0789', 'VAR_0790', 'VAR_0791', 'VAR_0792', 'VAR_0793', 'VAR_0794', 'VAR_0795', 'VAR_0796', 'VAR_0797', 'VAR_0798', 'VAR_0799', 'VAR_0800', 'VAR_0801', 'VAR_0802', 'VAR_0803', 'VAR_0804', 'VAR_0805', 'VAR_0806', 'VAR_0807', 'VAR_0808', 'VAR_0809', 'VAR_0810', 'VAR_0811', 'VAR_0812', 'VAR_0813', 'VAR_0814', 'VAR_0815', 'VAR_0816', 'VAR_0817', 'VAR_0818', 'VAR_0819', 'VAR_0820', 'VAR_0821', 'VAR_0822', 'VAR_0823', 'VAR_0824', 'VAR_0825', 'VAR_0826', 'VAR_0827', 'VAR_0828', 'VAR_0829', 'VAR_0830', 'VAR_0831', 'VAR_0832', 'VAR_0833', 'VAR_0834', 'VAR_0835', 'VAR_0836', 'VAR_0837', 'VAR_0838', 'VAR_0839', 'VAR_0841', 'VAR_0842', 'VAR_0843', 'VAR_0844', 'VAR_0845', 'VAR_0846', 'VAR_0847', 'VAR_0848', 'VAR_0849', 'VAR_0850', 'VAR_0851', 'VAR_0852', 'VAR_0853', 'VAR_0854', 'VAR_0855', 'VAR_0856', 'VAR_0857', 'VAR_0858', 'VAR_0859', 'VAR_0860', 'VAR_0861', 'VAR_0862', 'VAR_0863', 'VAR_0864', 'VAR_0865', 'VAR_0866', 'VAR_0867', 'VAR_0868', 'VAR_0869', 'VAR_0870', 'VAR_0871', 'VAR_0872', 'VAR_0873', 'VAR_0874', 'VAR_0875', 'VAR_0876', 'VAR_0877', 'VAR_0878', 'VAR_0879', 'VAR_0880', 'VAR_0881', 'VAR_0882', 'VAR_0883', 'VAR_0884', 'VAR_0885', 'VAR_0886', 'VAR_0887', 'VAR_0888', 'VAR_0889', 'VAR_0890', 'VAR_0891', 'VAR_0892', 'VAR_0893', 'VAR_0894', 'VAR_0895', 'VAR_0896', 'VAR_0897', 'VAR_0898', 'VAR_0899', 'VAR_0900', 'VAR_0901', 'VAR_0902', 'VAR_0903', 'VAR_0904', 'VAR_0905', 'VAR_0906', 'VAR_0907', 'VAR_0908', 'VAR_0909', 'VAR_0910', 'VAR_0911', 'VAR_0912', 'VAR_0913', 'VAR_0914', 'VAR_0915', 'VAR_0916', 'VAR_0917', 'VAR_0918', 'VAR_0919', 'VAR_0920', 'VAR_0921', 'VAR_0922', 'VAR_0923', 'VAR_0924', 'VAR_0925', 'VAR_0926', 'VAR_0927', 'VAR_0928', 'VAR_0929', 'VAR_0930', 'VAR_0931', 'VAR_0932', 'VAR_0933', 'VAR_0934', 'VAR_0935', 'VAR_0936', 'VAR_0937', 'VAR_0938', 'VAR_0939', 'VAR_0940', 'VAR_0941', 'VAR_0942', 'VAR_0943', 'VAR_0944', 'VAR_0945', 'VAR_0946', 'VAR_0947', 'VAR_0948', 'VAR_0949', 'VAR_0950', 'VAR_0951', 'VAR_0952', 'VAR_0953', 'VAR_0954', 'VAR_0955', 'VAR_0956', 'VAR_0957', 'VAR_0958', 'VAR_0959', 'VAR_0960', 'VAR_0961', 'VAR_0962', 'VAR_0963', 'VAR_0964', 'VAR_0965', 'VAR_0966', 'VAR_0967', 'VAR_0968', 'VAR_0969', 'VAR_0970', 'VAR_0971', 'VAR_0972', 'VAR_0973', 'VAR_0974', 'VAR_0975', 'VAR_0976', 'VAR_0977', 'VAR_0978', 'VAR_0979', 'VAR_0980', 'VAR_0981', 'VAR_0982', 'VAR_0983', 'VAR_0984', 'VAR_0985', 'VAR_0986', 'VAR_0987', 'VAR_0988', 'VAR_0989', 'VAR_0990', 'VAR_0991', 'VAR_0992', 'VAR_0993', 'VAR_0994', 'VAR_0995', 'VAR_0996', 'VAR_0997', 'VAR_0998', 'VAR_0999', 'VAR_1000', 'VAR_1001', 'VAR_1002', 'VAR_1003', 'VAR_1004', 'VAR_1005', 'VAR_1006', 'VAR_1007', 'VAR_1008', 'VAR_1009', 'VAR_1010', 'VAR_1011', 'VAR_1012', 'VAR_1013', 'VAR_1014', 'VAR_1015', 'VAR_1016', 'VAR_1017', 'VAR_1018', 'VAR_1019', 'VAR_1020', 'VAR_1021', 'VAR_1022', 'VAR_1023', 'VAR_1024', 'VAR_1025', 'VAR_1026', 'VAR_1027', 'VAR_1028', 'VAR_1029', 'VAR_1030', 'VAR_1031', 'VAR_1032', 'VAR_1033', 'VAR_1034', 'VAR_1035', 'VAR_1036', 'VAR_1037', 'VAR_1038', 'VAR_1039', 'VAR_1040', 'VAR_1041', 'VAR_1042', 'VAR_1043', 'VAR_1044', 'VAR_1045', 'VAR_1046', 'VAR_1047', 'VAR_1048', 'VAR_1049', 'VAR_1050', 'VAR_1051', 'VAR_1052', 'VAR_1053', 'VAR_1054', 'VAR_1055', 'VAR_1056', 'VAR_1057', 'VAR_1058', 'VAR_1059', 'VAR_1060', 'VAR_1061', 'VAR_1062', 'VAR_1063', 'VAR_1064', 'VAR_1065', 'VAR_1066', 'VAR_1067', 'VAR_1068', 'VAR_1069', 'VAR_1070', 'VAR_1071', 'VAR_1072', 'VAR_1073', 'VAR_1074', 'VAR_1075', 'VAR_1076', 'VAR_1077', 'VAR_1078', 'VAR_1079', 'VAR_1080', 'VAR_1081', 'VAR_1082', 'VAR_1083', 'VAR_1084', 'VAR_1085', 'VAR_1086', 'VAR_1087', 'VAR_1088', 'VAR_1089', 'VAR_1090', 'VAR_1091', 'VAR_1092', 'VAR_1093', 'VAR_1094', 'VAR_1095', 'VAR_1096', 'VAR_1097', 'VAR_1098', 'VAR_1099', 'VAR_1100', 'VAR_1101', 'VAR_1102', 'VAR_1103', 'VAR_1104', 'VAR_1105', 'VAR_1106', 'VAR_1107', 'VAR_1108', 'VAR_1109', 'VAR_1110', 'VAR_1111', 'VAR_1112', 'VAR_1113', 'VAR_1114', 'VAR_1115', 'VAR_1116', 'VAR_1117', 'VAR_1118', 'VAR_1119', 'VAR_1120', 'VAR_1121', 'VAR_1122', 'VAR_1123', 'VAR_1124', 'VAR_1125', 'VAR_1126', 'VAR_1127', 'VAR_1128', 'VAR_1129', 'VAR_1130', 'VAR_1131', 'VAR_1132', 'VAR_1133', 'VAR_1134', 'VAR_1135', 'VAR_1136', 'VAR_1137', 'VAR_1138', 'VAR_1139', 'VAR_1140', 'VAR_1141', 'VAR_1142', 'VAR_1143', 'VAR_1144', 'VAR_1145', 'VAR_1146', 'VAR_1147', 'VAR_1148', 'VAR_1149', 'VAR_1150', 'VAR_1151', 'VAR_1152', 'VAR_1153', 'VAR_1154', 'VAR_1155', 'VAR_1156', 'VAR_1157', 'VAR_1158', 'VAR_1159', 'VAR_1160', 'VAR_1161', 'VAR_1162', 'VAR_1163', 'VAR_1164', 'VAR_1165', 'VAR_1166', 'VAR_1167', 'VAR_1168', 'VAR_1169', 'VAR_1170', 'VAR_1171', 'VAR_1172', 'VAR_1173', 'VAR_1174', 'VAR_1175', 'VAR_1176', 'VAR_1177', 'VAR_1178', 'VAR_1179', 'VAR_1180', 'VAR_1181', 'VAR_1182', 'VAR_1183', 'VAR_1184', 'VAR_1185', 'VAR_1186', 'VAR_1187', 'VAR_1188', 'VAR_1189', 'VAR_1190', 'VAR_1191', 'VAR_1192', 'VAR_1193', 'VAR_1194', 'VAR_1195', 'VAR_1196', 'VAR_1197', 'VAR_1198', 'VAR_1199', 'VAR_1200', 'VAR_1201', 'VAR_1202', 'VAR_1203', 'VAR_1204', 'VAR_1205', 'VAR_1206', 'VAR_1207', 'VAR_1208', 'VAR_1209', 'VAR_1210', 'VAR_1211', 'VAR_1212', 'VAR_1213', 'VAR_1214', 'VAR_1215', 'VAR_1216', 'VAR_1217', 'VAR_1218', 'VAR_1219', 'VAR_1220', 'VAR_1221', 'VAR_1222', 'VAR_1223', 'VAR_1224', 'VAR_1225', 'VAR_1226', 'VAR_1227', 'VAR_1228', 'VAR_1229', 'VAR_1230', 'VAR_1231', 'VAR_1232', 'VAR_1233', 'VAR_1234', 'VAR_1235', 'VAR_1236', 'VAR_1237', 'VAR_1238', 'VAR_1239', 'VAR_1240', 'VAR_1241', 'VAR_1242', 'VAR_1243', 'VAR_1244', 'VAR_1245', 'VAR_1246', 'VAR_1247', 'VAR_1248', 'VAR_1249', 'VAR_1250', 'VAR_1251', 'VAR_1252', 'VAR_1253', 'VAR_1254', 'VAR_1255', 'VAR_1256', 'VAR_1257', 'VAR_1258', 'VAR_1259', 'VAR_1260', 'VAR_1261', 'VAR_1262', 'VAR_1263', 'VAR_1264', 'VAR_1265', 'VAR_1266', 'VAR_1267', 'VAR_1268', 'VAR_1269', 'VAR_1270', 'VAR_1271', 'VAR_1272', 'VAR_1273', 'VAR_1274', 'VAR_1275', 'VAR_1276', 'VAR_1277', 'VAR_1278', 'VAR_1279', 'VAR_1280', 'VAR_1281', 'VAR_1282', 'VAR_1283', 'VAR_1284', 'VAR_1285', 'VAR_1286', 'VAR_1287', 'VAR_1288', 'VAR_1289', 'VAR_1290', 'VAR_1291', 'VAR_1292', 'VAR_1293', 'VAR_1294', 'VAR_1295', 'VAR_1296', 'VAR_1297', 'VAR_1298', 'VAR_1299', 'VAR_1300', 'VAR_1301', 'VAR_1302', 'VAR_1303', 'VAR_1304', 'VAR_1305', 'VAR_1306', 'VAR_1307', 'VAR_1308', 'VAR_1309', 'VAR_1310', 'VAR_1311', 'VAR_1312', 'VAR_1313', 'VAR_1314', 'VAR_1315', 'VAR_1316', 'VAR_1317', 'VAR_1318', 'VAR_1319', 'VAR_1320', 'VAR_1321', 'VAR_1322', 'VAR_1323', 'VAR_1324', 'VAR_1325', 'VAR_1326', 'VAR_1327', 'VAR_1328', 'VAR_1329', 'VAR_1330', 'VAR_1331', 'VAR_1332', 'VAR_1333', 'VAR_1334', 'VAR_1335', 'VAR_1336', 'VAR_1337', 'VAR_1338', 'VAR_1339', 'VAR_1340', 'VAR_1341', 'VAR_1342', 'VAR_1343', 'VAR_1344', 'VAR_1345', 'VAR_1346', 'VAR_1347', 'VAR_1348', 'VAR_1349', 'VAR_1350', 'VAR_1351', 'VAR_1352', 'VAR_1353', 'VAR_1354', 'VAR_1355', 'VAR_1356', 'VAR_1357', 'VAR_1358', 'VAR_1359', 'VAR_1360', 'VAR_1361', 'VAR_1362', 'VAR_1363', 'VAR_1364', 'VAR_1365', 'VAR_1366', 'VAR_1367', 'VAR_1368', 'VAR_1369', 'VAR_1370', 'VAR_1371', 'VAR_1372', 'VAR_1373', 'VAR_1374', 'VAR_1375', 'VAR_1376', 'VAR_1377', 'VAR_1378', 'VAR_1379', 'VAR_1380', 'VAR_1381', 'VAR_1382', 'VAR_1383', 'VAR_1384', 'VAR_1385', 'VAR_1386', 'VAR_1387', 'VAR_1388', 'VAR_1389', 'VAR_1390', 'VAR_1391', 'VAR_1392', 'VAR_1393', 'VAR_1394', 'VAR_1395', 'VAR_1396', 'VAR_1397', 'VAR_1398', 'VAR_1399', 'VAR_1400', 'VAR_1401', 'VAR_1402', 'VAR_1403', 'VAR_1404', 'VAR_1405', 'VAR_1406', 'VAR_1407', 'VAR_1408', 'VAR_1409', 'VAR_1410', 'VAR_1411', 'VAR_1412', 'VAR_1413', 'VAR_1414', 'VAR_1415', 'VAR_1416', 'VAR_1417', 'VAR_1418', 'VAR_1419', 'VAR_1420', 'VAR_1421', 'VAR_1422', 'VAR_1423', 'VAR_1424', 'VAR_1425', 'VAR_1426', 'VAR_1427', 'VAR_1428', 'VAR_1429', 'VAR_1430', 'VAR_1431', 'VAR_1432', 'VAR_1433', 'VAR_1434', 'VAR_1435', 'VAR_1436', 'VAR_1437', 'VAR_1438', 'VAR_1439', 'VAR_1440', 'VAR_1441', 'VAR_1442', 'VAR_1443', 'VAR_1444', 'VAR_1445', 'VAR_1446', 'VAR_1447', 'VAR_1448', 'VAR_1449', 'VAR_1450', 'VAR_1451', 'VAR_1452', 'VAR_1453', 'VAR_1454', 'VAR_1455', 'VAR_1456', 'VAR_1457', 'VAR_1458', 'VAR_1459', 'VAR_1460', 'VAR_1461', 'VAR_1462', 'VAR_1463', 'VAR_1464', 'VAR_1465', 'VAR_1466', 'VAR_1467', 'VAR_1468', 'VAR_1469', 'VAR_1470', 'VAR_1471', 'VAR_1472', 'VAR_1473', 'VAR_1474', 'VAR_1475', 'VAR_1476', 'VAR_1477', 'VAR_1478', 'VAR_1479', 'VAR_1480', 'VAR_1481', 'VAR_1482', 'VAR_1483', 'VAR_1484', 'VAR_1485', 'VAR_1486', 'VAR_1487', 'VAR_1488', 'VAR_1489', 'VAR_1490', 'VAR_1491', 'VAR_1492', 'VAR_1493', 'VAR_1494', 'VAR_1495', 'VAR_1496', 'VAR_1497', 'VAR_1498', 'VAR_1499', 'VAR_1500', 'VAR_1501', 'VAR_1502', 'VAR_1503', 'VAR_1504', 'VAR_1505', 'VAR_1506', 'VAR_1507', 'VAR_1508', 'VAR_1509', 'VAR_1510', 'VAR_1511', 'VAR_1512', 'VAR_1513', 'VAR_1514', 'VAR_1515', 'VAR_1516', 'VAR_1517', 'VAR_1518', 'VAR_1519', 'VAR_1520', 'VAR_1521', 'VAR_1522', 'VAR_1523', 'VAR_1524', 'VAR_1525', 'VAR_1526', 'VAR_1527', 'VAR_1528', 'VAR_1529', 'VAR_1530', 'VAR_1531', 'VAR_1532', 'VAR_1533', 'VAR_1534', 'VAR_1535', 'VAR_1536', 'VAR_1537', 'VAR_1538', 'VAR_1539', 'VAR_1540', 'VAR_1541', 'VAR_1542', 'VAR_1543', 'VAR_1544', 'VAR_1545', 'VAR_1546', 'VAR_1547', 'VAR_1548', 'VAR_1549', 'VAR_1550', 'VAR_1551', 'VAR_1552', 'VAR_1553', 'VAR_1554', 'VAR_1555', 'VAR_1556', 'VAR_1557', 'VAR_1558', 'VAR_1559', 'VAR_1560', 'VAR_1561', 'VAR_1562', 'VAR_1563', 'VAR_1564', 'VAR_1565', 'VAR_1566', 'VAR_1567', 'VAR_1568', 'VAR_1569', 'VAR_1570', 'VAR_1571', 'VAR_1572', 'VAR_1573', 'VAR_1574', 'VAR_1575', 'VAR_1576', 'VAR_1577', 'VAR_1578', 'VAR_1579', 'VAR_1580', 'VAR_1581', 'VAR_1582', 'VAR_1583', 'VAR_1584', 'VAR_1585', 'VAR_1586', 'VAR_1587', 'VAR_1588', 'VAR_1589', 'VAR_1590', 'VAR_1591', 'VAR_1592', 'VAR_1593', 'VAR_1594', 'VAR_1595', 'VAR_1596', 'VAR_1597', 'VAR_1598', 'VAR_1599', 'VAR_1600', 'VAR_1601', 'VAR_1602', 'VAR_1603', 'VAR_1604', 'VAR_1605', 'VAR_1606', 'VAR_1607', 'VAR_1608', 'VAR_1609', 'VAR_1610', 'VAR_1611', 'VAR_1612', 'VAR_1613', 'VAR_1614', 'VAR_1615', 'VAR_1616', 'VAR_1617', 'VAR_1618', 'VAR_1619', 'VAR_1620', 'VAR_1621', 'VAR_1622', 'VAR_1623', 'VAR_1624', 'VAR_1625', 'VAR_1626', 'VAR_1627', 'VAR_1628', 'VAR_1629', 'VAR_1630', 'VAR_1631', 'VAR_1632', 'VAR_1633', 'VAR_1634', 'VAR_1635', 'VAR_1636', 'VAR_1637', 'VAR_1638', 'VAR_1639', 'VAR_1640', 'VAR_1641', 'VAR_1642', 'VAR_1643', 'VAR_1644', 'VAR_1645', 'VAR_1646', 'VAR_1647', 'VAR_1648', 'VAR_1649', 'VAR_1650', 'VAR_1651', 'VAR_1652', 'VAR_1653', 'VAR_1654', 'VAR_1655', 'VAR_1656', 'VAR_1657', 'VAR_1658', 'VAR_1659', 'VAR_1660', 'VAR_1661', 'VAR_1662', 'VAR_1663', 'VAR_1664', 'VAR_1665', 'VAR_1666', 'VAR_1667', 'VAR_1668', 'VAR_1669', 'VAR_1670', 'VAR_1671', 'VAR_1672', 'VAR_1673', 'VAR_1674', 'VAR_1675', 'VAR_1676', 'VAR_1677', 'VAR_1678', 'VAR_1679', 'VAR_1680', 'VAR_1681', 'VAR_1682', 'VAR_1683', 'VAR_1684', 'VAR_1685', 'VAR_1686', 'VAR_1687', 'VAR_1688', 'VAR_1689', 'VAR_1690', 'VAR_1691', 'VAR_1692', 'VAR_1693', 'VAR_1694', 'VAR_1695', 'VAR_1696', 'VAR_1697', 'VAR_1698', 'VAR_1699', 'VAR_1700', 'VAR_1701', 'VAR_1702', 'VAR_1703', 'VAR_1704', 'VAR_1705', 'VAR_1706', 'VAR_1707', 'VAR_1708', 'VAR_1709', 'VAR_1710', 'VAR_1711', 'VAR_1712', 'VAR_1713', 'VAR_1714', 'VAR_1715', 'VAR_1716', 'VAR_1717', 'VAR_1718', 'VAR_1719', 'VAR_1720', 'VAR_1721', 'VAR_1722', 'VAR_1723', 'VAR_1724', 'VAR_1725', 'VAR_1726', 'VAR_1727', 'VAR_1728', 'VAR_1729', 'VAR_1730', 'VAR_1731', 'VAR_1732', 'VAR_1733', 'VAR_1734', 'VAR_1735', 'VAR_1736', 'VAR_1737', 'VAR_1738', 'VAR_1739', 'VAR_1740', 'VAR_1741', 'VAR_1742', 'VAR_1743', 'VAR_1744', 'VAR_1745', 'VAR_1746', 'VAR_1747', 'VAR_1748', 'VAR_1749', 'VAR_1750', 'VAR_1751', 'VAR_1752', 'VAR_1753', 'VAR_1754', 'VAR_1755', 'VAR_1756', 'VAR_1757', 'VAR_1758', 'VAR_1759', 'VAR_1760', 'VAR_1761', 'VAR_1762', 'VAR_1763', 'VAR_1764', 'VAR_1765', 'VAR_1766', 'VAR_1767', 'VAR_1768', 'VAR_1769', 'VAR_1770', 'VAR_1771', 'VAR_1772', 'VAR_1773', 'VAR_1774', 'VAR_1775', 'VAR_1776', 'VAR_1777', 'VAR_1778', 'VAR_1779', 'VAR_1780', 'VAR_1781', 'VAR_1782', 'VAR_1783', 'VAR_1784', 'VAR_1785', 'VAR_1786', 'VAR_1787', 'VAR_1788', 'VAR_1789', 'VAR_1790', 'VAR_1791', 'VAR_1792', 'VAR_1793', 'VAR_1794', 'VAR_1795', 'VAR_1796', 'VAR_1797', 'VAR_1798', 'VAR_1799', 'VAR_1800', 'VAR_1801', 'VAR_1802', 'VAR_1803', 'VAR_1804', 'VAR_1805', 'VAR_1806', 'VAR_1807', 'VAR_1808', 'VAR_1809', 'VAR_1810', 'VAR_1811', 'VAR_1812', 'VAR_1813', 'VAR_1814', 'VAR_1815', 'VAR_1816', 'VAR_1817', 'VAR_1818', 'VAR_1819', 'VAR_1820', 'VAR_1821', 'VAR_1822', 'VAR_1823', 'VAR_1824', 'VAR_1825', 'VAR_1826', 'VAR_1827', 'VAR_1828', 'VAR_1829', 'VAR_1830', 'VAR_1831', 'VAR_1832', 'VAR_1833', 'VAR_1834', 'VAR_1835', 'VAR_1836', 'VAR_1837', 'VAR_1838', 'VAR_1839', 'VAR_1840', 'VAR_1841', 'VAR_1842', 'VAR_1843', 'VAR_1844', 'VAR_1845', 'VAR_1846', 'VAR_1847', 'VAR_1848', 'VAR_1849', 'VAR_1850', 'VAR_1851', 'VAR_1852', 'VAR_1853', 'VAR_1854', 'VAR_1855', 'VAR_1856', 'VAR_1857', 'VAR_1858', 'VAR_1859', 'VAR_1860', 'VAR_1861', 'VAR_1862', 'VAR_1863', 'VAR_1864', 'VAR_1865', 'VAR_1866', 'VAR_1867', 'VAR_1868', 'VAR_1869', 'VAR_1870', 'VAR_1871', 'VAR_1872', 'VAR_1873', 'VAR_1874', 'VAR_1875', 'VAR_1876', 'VAR_1877', 'VAR_1878', 'VAR_1879', 'VAR_1880', 'VAR_1881', 'VAR_1882', 'VAR_1883', 'VAR_1884', 'VAR_1885', 'VAR_1886', 'VAR_1887', 'VAR_1888', 'VAR_1889', 'VAR_1890', 'VAR_1891', 'VAR_1892', 'VAR_1893', 'VAR_1894', 'VAR_1895', 'VAR_1896', 'VAR_1897', 'VAR_1898', 'VAR_1899', 'VAR_1900', 'VAR_1901', 'VAR_1902', 'VAR_1903', 'VAR_1904', 'VAR_1905', 'VAR_1906', 'VAR_1907', 'VAR_1908', 'VAR_1909', 'VAR_1910', 'VAR_1911', 'VAR_1912', 'VAR_1913', 'VAR_1914', 'VAR_1915', 'VAR_1916', 'VAR_1917', 'VAR_1918', 'VAR_1919', 'VAR_1920', 'VAR_1921', 'VAR_1922', 'VAR_1923', 'VAR_1924', 'VAR_1925', 'VAR_1926', 'VAR_1927', 'VAR_1928', 'VAR_1929', 'VAR_1930', 'VAR_1931', 'VAR_1932', 'VAR_1933', 'VAR_1934', 'target']\n"
          ],
          "name": "stdout"
        }
      ]
    },
    {
      "cell_type": "markdown",
      "metadata": {
        "id": "zHjJjdgRtKep"
      },
      "source": [
        "The following function has bee taken from Kaggle. It has been modified to return both the dataframe (with reduced memory) as also column types. "
      ]
    },
    {
      "cell_type": "code",
      "metadata": {
        "id": "ozD5W1v6XSiI"
      },
      "source": [
        "# 3.0 Last amended: 20th August, 2021\n",
        "# Myfolder: C:\\Users\\Administrator\\OneDrive\\Documents\\useful_code & utilities\n",
        "# Ref: https://www.kaggle.com/gemartin/load-data-reduce-memory-usage\n",
        "\n",
        "# 3.1 Will store column types\n",
        "coltypes = {}\n",
        "\n",
        "# 3.2 Function to reduce memory\n",
        "#     DataFrame must not have NULLs\n",
        "\n",
        "def reduce_mem_usage(df):\n",
        "    \"\"\" iterate through all the columns of a dataframe and modify the data type\n",
        "        to reduce memory usage. \n",
        "        If NaN exist fill them up first\t\t\n",
        "    \"\"\"\n",
        "    start_mem = df.memory_usage().sum() / 1024**2\n",
        "    print('Memory usage of dataframe is {:.2f} MB'.format(start_mem))\n",
        "    \n",
        "    for col in df.columns:\n",
        "        col_type = df[col].dtype\n",
        "        \n",
        "        if col_type != object:\n",
        "            c_min = df[col].min()\n",
        "            c_max = df[col].max()\n",
        "            if str(col_type)[:3] == 'int':\n",
        "                if c_min > np.iinfo(np.int8).min and c_max < np.iinfo(np.int8).max:\n",
        "                    df[col] = df[col].astype(np.int8)\n",
        "                    coltypes[col] = np.int8\n",
        "                elif c_min > np.iinfo(np.int16).min and c_max < np.iinfo(np.int16).max:\n",
        "                    df[col] = df[col].astype(np.int16)\n",
        "                    coltypes[col] = np.int16\n",
        "                elif c_min > np.iinfo(np.int32).min and c_max < np.iinfo(np.int32).max:\n",
        "                    df[col] = df[col].astype(np.int32)\n",
        "                    coltypes[col] = np.int32\n",
        "                elif c_min > np.iinfo(np.int64).min and c_max < np.iinfo(np.int64).max:\n",
        "                    df[col] = df[col].astype(np.int64) \n",
        "                    coltypes[col] = np.int64  \n",
        "            else:\n",
        "                if c_min > np.finfo(np.float16).min and c_max < np.finfo(np.float16).max:\n",
        "                    df[col] = df[col].astype(np.float16)\n",
        "                    coltypes[col] = np.float16\n",
        "                elif c_min > np.finfo(np.float32).min and c_max < np.finfo(np.float32).max:\n",
        "                    df[col] = df[col].astype(np.float32)\n",
        "                    coltypes[col] = np.float32\n",
        "                else:\n",
        "                    df[col] = df[col].astype(np.float64)\n",
        "                    coltypes[col] = np.float64\n",
        "        else:\n",
        "            df[col] = df[col].astype('category')\n",
        "            coltypes[col] = 'category'\n",
        "\n",
        "    end_mem = df.memory_usage().sum() / 1024**2\n",
        "    print('Memory usage after optimization is: {:.2f} MB'.format(end_mem))\n",
        "    print('Decreased by {:.1f}%'.format(100 * (start_mem - end_mem) / start_mem))\n",
        "    \n",
        "    return df,coltypes"
      ],
      "execution_count": 160,
      "outputs": []
    },
    {
      "cell_type": "code",
      "metadata": {
        "colab": {
          "base_uri": "https://localhost:8080/"
        },
        "id": "7N8XU7JVbllo",
        "outputId": "4141ba14-1447-49fb-9f9f-09cb8156f517"
      },
      "source": [
        "# 4.0 Reduce memory usage\n",
        "#      For not null columns\n",
        "#       7 mins\n",
        "\n",
        "%%time\n",
        "\n",
        "# 4.1 Consider only not null columns\n",
        "data = df[cols].copy()\n",
        "\n",
        "# 4.2 Apply reduce_mem_usage()\n",
        "data,feat_types = reduce_mem_usage(data)"
      ],
      "execution_count": 161,
      "outputs": [
        {
          "output_type": "stream",
          "text": [
            "Memory usage of dataframe is 1561.21 MB\n",
            "Memory usage after optimization is: 429.91 MB\n",
            "Decreased by 72.5%\n",
            "CPU times: user 7min 8s, sys: 44.8 s, total: 7min 53s\n",
            "Wall time: 7min 51s\n"
          ],
          "name": "stdout"
        }
      ]
    },
    {
      "cell_type": "code",
      "metadata": {
        "colab": {
          "base_uri": "https://localhost:8080/"
        },
        "id": "gFREpoGZbsAu",
        "outputId": "64b000fa-692d-416a-d4dd-c9675891dcbe"
      },
      "source": [
        "# 4.3\n",
        "data.shape\n",
        "print()\n",
        "\n",
        "# 4.3.1\n",
        "data.memory_usage().sum()   # 450797648\n",
        "print()\n",
        "\n",
        "# 4.3.2\n",
        "print(\"\\nColumn wise Data types:\")\n",
        "print(feat_types)\n",
        "\n",
        "print(\"\\nHow many columns?\")\n",
        "len(feat_types)    # 1409"
      ],
      "execution_count": 162,
      "outputs": [
        {
          "output_type": "execute_result",
          "data": {
            "text/plain": [
              "(145231, 1409)"
            ]
          },
          "metadata": {},
          "execution_count": 162
        },
        {
          "output_type": "stream",
          "text": [
            "\n"
          ],
          "name": "stdout"
        },
        {
          "output_type": "execute_result",
          "data": {
            "text/plain": [
              "450797648"
            ]
          },
          "metadata": {},
          "execution_count": 162
        },
        {
          "output_type": "stream",
          "text": [
            "\n",
            "\n",
            "Column wise Data types:\n",
            "{'ID': <class 'numpy.int32'>, 'VAR_0001': 'category', 'VAR_0002': <class 'numpy.int16'>, 'VAR_0003': <class 'numpy.int16'>, 'VAR_0004': <class 'numpy.int32'>, 'VAR_0005': 'category', 'VAR_0532': <class 'numpy.int8'>, 'VAR_0533': <class 'numpy.int8'>, 'VAR_0534': <class 'numpy.int8'>, 'VAR_0535': <class 'numpy.int8'>, 'VAR_0536': <class 'numpy.int8'>, 'VAR_0537': <class 'numpy.int8'>, 'VAR_0538': <class 'numpy.int8'>, 'VAR_0539': <class 'numpy.int8'>, 'VAR_0540': <class 'numpy.int8'>, 'VAR_0541': <class 'numpy.int32'>, 'VAR_0542': <class 'numpy.int32'>, 'VAR_0543': <class 'numpy.int32'>, 'VAR_0544': <class 'numpy.int32'>, 'VAR_0545': <class 'numpy.int16'>, 'VAR_0546': <class 'numpy.int16'>, 'VAR_0547': <class 'numpy.int16'>, 'VAR_0548': <class 'numpy.int16'>, 'VAR_0549': <class 'numpy.int16'>, 'VAR_0550': <class 'numpy.int16'>, 'VAR_0551': <class 'numpy.int16'>, 'VAR_0552': <class 'numpy.int8'>, 'VAR_0553': <class 'numpy.int8'>, 'VAR_0554': <class 'numpy.int16'>, 'VAR_0555': <class 'numpy.int16'>, 'VAR_0556': <class 'numpy.int16'>, 'VAR_0557': <class 'numpy.int16'>, 'VAR_0558': <class 'numpy.int16'>, 'VAR_0559': <class 'numpy.int8'>, 'VAR_0560': <class 'numpy.int8'>, 'VAR_0561': <class 'numpy.int16'>, 'VAR_0562': <class 'numpy.int8'>, 'VAR_0563': <class 'numpy.int8'>, 'VAR_0564': <class 'numpy.int8'>, 'VAR_0565': <class 'numpy.int8'>, 'VAR_0566': <class 'numpy.int8'>, 'VAR_0567': <class 'numpy.int8'>, 'VAR_0568': <class 'numpy.int8'>, 'VAR_0569': <class 'numpy.int8'>, 'VAR_0570': <class 'numpy.int16'>, 'VAR_0571': <class 'numpy.int32'>, 'VAR_0572': <class 'numpy.int8'>, 'VAR_0573': <class 'numpy.int16'>, 'VAR_0574': <class 'numpy.int16'>, 'VAR_0575': <class 'numpy.int32'>, 'VAR_0576': <class 'numpy.int32'>, 'VAR_0577': <class 'numpy.int32'>, 'VAR_0578': <class 'numpy.int16'>, 'VAR_0579': <class 'numpy.int16'>, 'VAR_0580': <class 'numpy.int8'>, 'VAR_0581': <class 'numpy.int8'>, 'VAR_0582': <class 'numpy.int8'>, 'VAR_0583': <class 'numpy.int32'>, 'VAR_0584': <class 'numpy.int32'>, 'VAR_0585': <class 'numpy.int32'>, 'VAR_0586': <class 'numpy.int32'>, 'VAR_0587': <class 'numpy.int16'>, 'VAR_0588': <class 'numpy.int16'>, 'VAR_0589': <class 'numpy.int16'>, 'VAR_0590': <class 'numpy.int16'>, 'VAR_0591': <class 'numpy.int16'>, 'VAR_0592': <class 'numpy.int16'>, 'VAR_0593': <class 'numpy.int16'>, 'VAR_0594': <class 'numpy.int16'>, 'VAR_0595': <class 'numpy.int16'>, 'VAR_0596': <class 'numpy.int16'>, 'VAR_0597': <class 'numpy.int16'>, 'VAR_0598': <class 'numpy.int32'>, 'VAR_0599': <class 'numpy.int32'>, 'VAR_0600': <class 'numpy.int32'>, 'VAR_0601': <class 'numpy.int16'>, 'VAR_0602': <class 'numpy.int16'>, 'VAR_0603': <class 'numpy.int16'>, 'VAR_0604': <class 'numpy.int8'>, 'VAR_0605': <class 'numpy.int8'>, 'VAR_0606': <class 'numpy.int8'>, 'VAR_0607': <class 'numpy.int32'>, 'VAR_0608': <class 'numpy.int32'>, 'VAR_0609': <class 'numpy.int32'>, 'VAR_0610': <class 'numpy.int32'>, 'VAR_0611': <class 'numpy.int16'>, 'VAR_0612': <class 'numpy.int16'>, 'VAR_0613': <class 'numpy.int16'>, 'VAR_0614': <class 'numpy.int16'>, 'VAR_0615': <class 'numpy.int16'>, 'VAR_0616': <class 'numpy.int16'>, 'VAR_0617': <class 'numpy.int8'>, 'VAR_0618': <class 'numpy.int8'>, 'VAR_0619': <class 'numpy.int8'>, 'VAR_0620': <class 'numpy.int8'>, 'VAR_0621': <class 'numpy.int8'>, 'VAR_0622': <class 'numpy.int8'>, 'VAR_0623': <class 'numpy.int8'>, 'VAR_0624': <class 'numpy.int8'>, 'VAR_0625': <class 'numpy.int8'>, 'VAR_0626': <class 'numpy.int8'>, 'VAR_0627': <class 'numpy.int8'>, 'VAR_0628': <class 'numpy.int32'>, 'VAR_0629': <class 'numpy.int32'>, 'VAR_0630': <class 'numpy.int32'>, 'VAR_0631': <class 'numpy.int32'>, 'VAR_0632': <class 'numpy.int16'>, 'VAR_0633': <class 'numpy.int16'>, 'VAR_0634': <class 'numpy.int16'>, 'VAR_0635': <class 'numpy.int16'>, 'VAR_0636': <class 'numpy.int16'>, 'VAR_0637': <class 'numpy.int8'>, 'VAR_0638': <class 'numpy.int8'>, 'VAR_0639': <class 'numpy.int8'>, 'VAR_0640': <class 'numpy.int8'>, 'VAR_0641': <class 'numpy.int32'>, 'VAR_0642': <class 'numpy.int32'>, 'VAR_0643': <class 'numpy.int32'>, 'VAR_0644': <class 'numpy.int16'>, 'VAR_0645': <class 'numpy.int16'>, 'VAR_0646': <class 'numpy.int8'>, 'VAR_0647': <class 'numpy.int8'>, 'VAR_0648': <class 'numpy.int32'>, 'VAR_0649': <class 'numpy.int32'>, 'VAR_0650': <class 'numpy.int32'>, 'VAR_0651': <class 'numpy.int32'>, 'VAR_0652': <class 'numpy.int32'>, 'VAR_0653': <class 'numpy.int32'>, 'VAR_0654': <class 'numpy.int32'>, 'VAR_0655': <class 'numpy.int32'>, 'VAR_0656': <class 'numpy.int16'>, 'VAR_0657': <class 'numpy.int8'>, 'VAR_0658': <class 'numpy.int8'>, 'VAR_0659': <class 'numpy.int32'>, 'VAR_0660': <class 'numpy.int32'>, 'VAR_0661': <class 'numpy.int16'>, 'VAR_0662': <class 'numpy.int8'>, 'VAR_0663': <class 'numpy.int8'>, 'VAR_0664': <class 'numpy.int8'>, 'VAR_0665': <class 'numpy.int8'>, 'VAR_0666': <class 'numpy.int8'>, 'VAR_0667': <class 'numpy.int8'>, 'VAR_0668': <class 'numpy.int8'>, 'VAR_0669': <class 'numpy.int32'>, 'VAR_0670': <class 'numpy.int32'>, 'VAR_0671': <class 'numpy.int32'>, 'VAR_0672': <class 'numpy.int32'>, 'VAR_0673': <class 'numpy.int32'>, 'VAR_0674': <class 'numpy.int32'>, 'VAR_0675': <class 'numpy.int32'>, 'VAR_0676': <class 'numpy.int32'>, 'VAR_0677': <class 'numpy.int32'>, 'VAR_0678': <class 'numpy.int16'>, 'VAR_0679': <class 'numpy.int16'>, 'VAR_0680': <class 'numpy.int16'>, 'VAR_0681': <class 'numpy.int16'>, 'VAR_0682': <class 'numpy.int16'>, 'VAR_0683': <class 'numpy.int16'>, 'VAR_0684': <class 'numpy.int16'>, 'VAR_0685': <class 'numpy.int8'>, 'VAR_0686': <class 'numpy.int8'>, 'VAR_0687': <class 'numpy.int16'>, 'VAR_0688': <class 'numpy.int16'>, 'VAR_0689': <class 'numpy.int8'>, 'VAR_0690': <class 'numpy.int8'>, 'VAR_0691': <class 'numpy.int32'>, 'VAR_0692': <class 'numpy.int16'>, 'VAR_0693': <class 'numpy.int16'>, 'VAR_0694': <class 'numpy.int16'>, 'VAR_0695': <class 'numpy.int16'>, 'VAR_0696': <class 'numpy.int8'>, 'VAR_0697': <class 'numpy.int8'>, 'VAR_0698': <class 'numpy.int32'>, 'VAR_0699': <class 'numpy.int32'>, 'VAR_0700': <class 'numpy.int16'>, 'VAR_0701': <class 'numpy.int16'>, 'VAR_0702': <class 'numpy.int32'>, 'VAR_0703': <class 'numpy.int32'>, 'VAR_0704': <class 'numpy.int32'>, 'VAR_0705': <class 'numpy.int32'>, 'VAR_0706': <class 'numpy.int32'>, 'VAR_0707': <class 'numpy.int32'>, 'VAR_0708': <class 'numpy.int32'>, 'VAR_0709': <class 'numpy.int32'>, 'VAR_0710': <class 'numpy.int32'>, 'VAR_0711': <class 'numpy.int32'>, 'VAR_0712': <class 'numpy.int32'>, 'VAR_0713': <class 'numpy.int32'>, 'VAR_0714': <class 'numpy.int32'>, 'VAR_0715': <class 'numpy.int32'>, 'VAR_0716': <class 'numpy.int16'>, 'VAR_0717': <class 'numpy.int8'>, 'VAR_0718': <class 'numpy.int8'>, 'VAR_0719': <class 'numpy.int8'>, 'VAR_0720': <class 'numpy.int32'>, 'VAR_0721': <class 'numpy.int32'>, 'VAR_0722': <class 'numpy.int8'>, 'VAR_0723': <class 'numpy.int8'>, 'VAR_0724': <class 'numpy.int32'>, 'VAR_0725': <class 'numpy.int32'>, 'VAR_0726': <class 'numpy.int8'>, 'VAR_0727': <class 'numpy.int32'>, 'VAR_0728': <class 'numpy.int32'>, 'VAR_0729': <class 'numpy.int32'>, 'VAR_0730': <class 'numpy.int8'>, 'VAR_0731': <class 'numpy.int32'>, 'VAR_0732': <class 'numpy.int32'>, 'VAR_0733': <class 'numpy.int32'>, 'VAR_0734': <class 'numpy.int32'>, 'VAR_0735': <class 'numpy.int32'>, 'VAR_0736': <class 'numpy.int32'>, 'VAR_0737': <class 'numpy.int32'>, 'VAR_0738': <class 'numpy.int32'>, 'VAR_0739': <class 'numpy.int32'>, 'VAR_0740': <class 'numpy.int8'>, 'VAR_0741': <class 'numpy.int8'>, 'VAR_0742': <class 'numpy.int8'>, 'VAR_0743': <class 'numpy.int32'>, 'VAR_0744': <class 'numpy.int32'>, 'VAR_0745': <class 'numpy.int32'>, 'VAR_0746': <class 'numpy.int32'>, 'VAR_0747': <class 'numpy.int32'>, 'VAR_0748': <class 'numpy.int32'>, 'VAR_0749': <class 'numpy.int32'>, 'VAR_0750': <class 'numpy.int32'>, 'VAR_0751': <class 'numpy.int32'>, 'VAR_0752': <class 'numpy.int32'>, 'VAR_0753': <class 'numpy.int32'>, 'VAR_0754': <class 'numpy.int32'>, 'VAR_0755': <class 'numpy.int32'>, 'VAR_0756': <class 'numpy.int32'>, 'VAR_0757': <class 'numpy.int32'>, 'VAR_0758': <class 'numpy.int8'>, 'VAR_0759': <class 'numpy.int32'>, 'VAR_0760': <class 'numpy.int32'>, 'VAR_0761': <class 'numpy.int32'>, 'VAR_0762': <class 'numpy.int32'>, 'VAR_0763': <class 'numpy.int32'>, 'VAR_0764': <class 'numpy.int32'>, 'VAR_0765': <class 'numpy.int32'>, 'VAR_0766': <class 'numpy.int32'>, 'VAR_0767': <class 'numpy.int32'>, 'VAR_0768': <class 'numpy.int8'>, 'VAR_0769': <class 'numpy.int32'>, 'VAR_0770': <class 'numpy.int32'>, 'VAR_0771': <class 'numpy.int32'>, 'VAR_0772': <class 'numpy.int32'>, 'VAR_0773': <class 'numpy.int32'>, 'VAR_0774': <class 'numpy.int32'>, 'VAR_0775': <class 'numpy.int32'>, 'VAR_0776': <class 'numpy.int32'>, 'VAR_0777': <class 'numpy.int32'>, 'VAR_0778': <class 'numpy.int8'>, 'VAR_0779': <class 'numpy.int32'>, 'VAR_0780': <class 'numpy.int32'>, 'VAR_0781': <class 'numpy.int32'>, 'VAR_0782': <class 'numpy.int32'>, 'VAR_0783': <class 'numpy.int32'>, 'VAR_0784': <class 'numpy.int32'>, 'VAR_0785': <class 'numpy.int32'>, 'VAR_0786': <class 'numpy.int32'>, 'VAR_0787': <class 'numpy.int32'>, 'VAR_0788': <class 'numpy.int32'>, 'VAR_0789': <class 'numpy.int32'>, 'VAR_0790': <class 'numpy.int32'>, 'VAR_0791': <class 'numpy.int32'>, 'VAR_0792': <class 'numpy.int16'>, 'VAR_0793': <class 'numpy.int16'>, 'VAR_0794': <class 'numpy.int16'>, 'VAR_0795': <class 'numpy.int8'>, 'VAR_0796': <class 'numpy.int32'>, 'VAR_0797': <class 'numpy.int32'>, 'VAR_0798': <class 'numpy.int32'>, 'VAR_0799': <class 'numpy.int32'>, 'VAR_0800': <class 'numpy.int32'>, 'VAR_0801': <class 'numpy.int32'>, 'VAR_0802': <class 'numpy.int32'>, 'VAR_0803': <class 'numpy.int32'>, 'VAR_0804': <class 'numpy.int32'>, 'VAR_0805': <class 'numpy.int32'>, 'VAR_0806': <class 'numpy.int32'>, 'VAR_0807': <class 'numpy.int32'>, 'VAR_0808': <class 'numpy.int32'>, 'VAR_0809': <class 'numpy.int32'>, 'VAR_0810': <class 'numpy.int32'>, 'VAR_0811': <class 'numpy.int32'>, 'VAR_0812': <class 'numpy.int8'>, 'VAR_0813': <class 'numpy.int8'>, 'VAR_0814': <class 'numpy.int8'>, 'VAR_0815': <class 'numpy.int8'>, 'VAR_0816': <class 'numpy.int8'>, 'VAR_0817': <class 'numpy.int32'>, 'VAR_0818': <class 'numpy.int8'>, 'VAR_0819': <class 'numpy.int8'>, 'VAR_0820': <class 'numpy.int8'>, 'VAR_0821': <class 'numpy.int8'>, 'VAR_0822': <class 'numpy.int16'>, 'VAR_0823': <class 'numpy.int16'>, 'VAR_0824': <class 'numpy.int8'>, 'VAR_0825': <class 'numpy.int8'>, 'VAR_0826': <class 'numpy.int8'>, 'VAR_0827': <class 'numpy.int8'>, 'VAR_0828': <class 'numpy.int8'>, 'VAR_0829': <class 'numpy.int16'>, 'VAR_0830': <class 'numpy.int8'>, 'VAR_0831': <class 'numpy.int8'>, 'VAR_0832': <class 'numpy.int8'>, 'VAR_0833': <class 'numpy.int8'>, 'VAR_0834': <class 'numpy.int8'>, 'VAR_0835': <class 'numpy.int16'>, 'VAR_0836': <class 'numpy.int16'>, 'VAR_0837': <class 'numpy.int32'>, 'VAR_0838': <class 'numpy.int32'>, 'VAR_0839': <class 'numpy.int32'>, 'VAR_0841': <class 'numpy.int32'>, 'VAR_0842': <class 'numpy.int32'>, 'VAR_0843': <class 'numpy.int32'>, 'VAR_0844': <class 'numpy.int32'>, 'VAR_0845': <class 'numpy.int32'>, 'VAR_0846': <class 'numpy.int32'>, 'VAR_0847': <class 'numpy.int8'>, 'VAR_0848': <class 'numpy.int32'>, 'VAR_0849': <class 'numpy.int32'>, 'VAR_0850': <class 'numpy.int32'>, 'VAR_0851': <class 'numpy.int32'>, 'VAR_0852': <class 'numpy.int32'>, 'VAR_0853': <class 'numpy.int32'>, 'VAR_0854': <class 'numpy.int32'>, 'VAR_0855': <class 'numpy.int32'>, 'VAR_0856': <class 'numpy.int32'>, 'VAR_0857': <class 'numpy.int32'>, 'VAR_0858': <class 'numpy.int32'>, 'VAR_0859': <class 'numpy.int32'>, 'VAR_0860': <class 'numpy.int32'>, 'VAR_0861': <class 'numpy.int32'>, 'VAR_0862': <class 'numpy.int32'>, 'VAR_0863': <class 'numpy.int32'>, 'VAR_0864': <class 'numpy.int32'>, 'VAR_0865': <class 'numpy.int32'>, 'VAR_0866': <class 'numpy.int32'>, 'VAR_0867': <class 'numpy.int32'>, 'VAR_0868': <class 'numpy.int32'>, 'VAR_0869': <class 'numpy.int32'>, 'VAR_0870': <class 'numpy.int32'>, 'VAR_0871': <class 'numpy.int32'>, 'VAR_0872': <class 'numpy.int32'>, 'VAR_0873': <class 'numpy.int32'>, 'VAR_0874': <class 'numpy.int32'>, 'VAR_0875': <class 'numpy.int32'>, 'VAR_0876': <class 'numpy.int32'>, 'VAR_0877': <class 'numpy.int8'>, 'VAR_0878': <class 'numpy.int32'>, 'VAR_0879': <class 'numpy.int32'>, 'VAR_0880': <class 'numpy.int32'>, 'VAR_0881': <class 'numpy.int32'>, 'VAR_0882': <class 'numpy.int32'>, 'VAR_0883': <class 'numpy.int32'>, 'VAR_0884': <class 'numpy.int32'>, 'VAR_0885': <class 'numpy.int32'>, 'VAR_0886': <class 'numpy.int8'>, 'VAR_0887': <class 'numpy.int32'>, 'VAR_0888': <class 'numpy.int32'>, 'VAR_0889': <class 'numpy.int32'>, 'VAR_0890': <class 'numpy.int32'>, 'VAR_0891': <class 'numpy.int32'>, 'VAR_0892': <class 'numpy.int32'>, 'VAR_0893': <class 'numpy.int32'>, 'VAR_0894': <class 'numpy.int32'>, 'VAR_0895': <class 'numpy.int32'>, 'VAR_0896': <class 'numpy.int32'>, 'VAR_0897': <class 'numpy.int32'>, 'VAR_0898': <class 'numpy.int32'>, 'VAR_0899': <class 'numpy.int32'>, 'VAR_0900': <class 'numpy.int32'>, 'VAR_0901': <class 'numpy.int32'>, 'VAR_0902': <class 'numpy.int32'>, 'VAR_0903': <class 'numpy.int32'>, 'VAR_0904': <class 'numpy.int32'>, 'VAR_0905': <class 'numpy.int32'>, 'VAR_0906': <class 'numpy.int32'>, 'VAR_0907': <class 'numpy.int32'>, 'VAR_0908': <class 'numpy.int32'>, 'VAR_0909': <class 'numpy.int32'>, 'VAR_0910': <class 'numpy.int32'>, 'VAR_0911': <class 'numpy.int8'>, 'VAR_0912': <class 'numpy.int32'>, 'VAR_0913': <class 'numpy.int32'>, 'VAR_0914': <class 'numpy.int8'>, 'VAR_0915': <class 'numpy.int8'>, 'VAR_0916': <class 'numpy.int8'>, 'VAR_0917': <class 'numpy.int32'>, 'VAR_0918': <class 'numpy.int32'>, 'VAR_0919': <class 'numpy.int32'>, 'VAR_0920': <class 'numpy.int32'>, 'VAR_0921': <class 'numpy.int32'>, 'VAR_0922': <class 'numpy.int16'>, 'VAR_0923': <class 'numpy.int8'>, 'VAR_0924': <class 'numpy.int8'>, 'VAR_0925': <class 'numpy.int8'>, 'VAR_0926': <class 'numpy.int8'>, 'VAR_0927': <class 'numpy.int8'>, 'VAR_0928': <class 'numpy.int16'>, 'VAR_0929': <class 'numpy.int16'>, 'VAR_0930': <class 'numpy.int16'>, 'VAR_0931': <class 'numpy.int32'>, 'VAR_0932': <class 'numpy.int16'>, 'VAR_0933': <class 'numpy.int16'>, 'VAR_0934': <class 'numpy.int32'>, 'VAR_0935': <class 'numpy.int16'>, 'VAR_0936': <class 'numpy.int16'>, 'VAR_0937': <class 'numpy.int32'>, 'VAR_0938': <class 'numpy.int16'>, 'VAR_0939': <class 'numpy.int16'>, 'VAR_0940': <class 'numpy.int8'>, 'VAR_0941': <class 'numpy.int16'>, 'VAR_0942': <class 'numpy.int16'>, 'VAR_0943': <class 'numpy.int16'>, 'VAR_0944': <class 'numpy.int32'>, 'VAR_0945': <class 'numpy.int8'>, 'VAR_0946': <class 'numpy.int32'>, 'VAR_0947': <class 'numpy.int8'>, 'VAR_0948': <class 'numpy.int16'>, 'VAR_0949': <class 'numpy.int16'>, 'VAR_0950': <class 'numpy.int32'>, 'VAR_0951': <class 'numpy.int32'>, 'VAR_0952': <class 'numpy.int8'>, 'VAR_0953': <class 'numpy.int16'>, 'VAR_0954': <class 'numpy.int8'>, 'VAR_0955': <class 'numpy.int16'>, 'VAR_0956': <class 'numpy.int16'>, 'VAR_0957': <class 'numpy.int16'>, 'VAR_0958': <class 'numpy.int16'>, 'VAR_0959': <class 'numpy.int8'>, 'VAR_0960': <class 'numpy.int16'>, 'VAR_0961': <class 'numpy.int16'>, 'VAR_0962': <class 'numpy.int8'>, 'VAR_0963': <class 'numpy.int8'>, 'VAR_0964': <class 'numpy.int32'>, 'VAR_0965': <class 'numpy.int16'>, 'VAR_0966': <class 'numpy.int16'>, 'VAR_0967': <class 'numpy.int16'>, 'VAR_0968': <class 'numpy.int32'>, 'VAR_0969': <class 'numpy.int8'>, 'VAR_0970': <class 'numpy.int32'>, 'VAR_0971': <class 'numpy.int16'>, 'VAR_0972': <class 'numpy.int16'>, 'VAR_0973': <class 'numpy.int8'>, 'VAR_0974': <class 'numpy.int8'>, 'VAR_0975': <class 'numpy.int8'>, 'VAR_0976': <class 'numpy.int32'>, 'VAR_0977': <class 'numpy.int32'>, 'VAR_0978': <class 'numpy.int32'>, 'VAR_0979': <class 'numpy.int32'>, 'VAR_0980': <class 'numpy.int32'>, 'VAR_0981': <class 'numpy.int16'>, 'VAR_0982': <class 'numpy.int16'>, 'VAR_0983': <class 'numpy.int8'>, 'VAR_0984': <class 'numpy.int8'>, 'VAR_0985': <class 'numpy.int8'>, 'VAR_0986': <class 'numpy.int8'>, 'VAR_0987': <class 'numpy.int8'>, 'VAR_0988': <class 'numpy.int8'>, 'VAR_0989': <class 'numpy.int8'>, 'VAR_0990': <class 'numpy.int8'>, 'VAR_0991': <class 'numpy.int8'>, 'VAR_0992': <class 'numpy.int8'>, 'VAR_0993': <class 'numpy.int8'>, 'VAR_0994': <class 'numpy.int8'>, 'VAR_0995': <class 'numpy.int8'>, 'VAR_0996': <class 'numpy.int8'>, 'VAR_0997': <class 'numpy.int8'>, 'VAR_0998': <class 'numpy.int8'>, 'VAR_0999': <class 'numpy.int8'>, 'VAR_1000': <class 'numpy.int8'>, 'VAR_1001': <class 'numpy.int8'>, 'VAR_1002': <class 'numpy.int8'>, 'VAR_1003': <class 'numpy.int8'>, 'VAR_1004': <class 'numpy.int8'>, 'VAR_1005': <class 'numpy.int8'>, 'VAR_1006': <class 'numpy.int8'>, 'VAR_1007': <class 'numpy.int8'>, 'VAR_1008': <class 'numpy.int8'>, 'VAR_1009': <class 'numpy.int8'>, 'VAR_1010': <class 'numpy.int8'>, 'VAR_1011': <class 'numpy.int8'>, 'VAR_1012': <class 'numpy.int8'>, 'VAR_1013': <class 'numpy.int8'>, 'VAR_1014': <class 'numpy.int8'>, 'VAR_1015': <class 'numpy.int8'>, 'VAR_1016': <class 'numpy.int8'>, 'VAR_1017': <class 'numpy.int8'>, 'VAR_1018': <class 'numpy.int8'>, 'VAR_1019': <class 'numpy.int8'>, 'VAR_1020': <class 'numpy.int8'>, 'VAR_1021': <class 'numpy.int8'>, 'VAR_1022': <class 'numpy.int8'>, 'VAR_1023': <class 'numpy.int8'>, 'VAR_1024': <class 'numpy.int8'>, 'VAR_1025': <class 'numpy.int8'>, 'VAR_1026': <class 'numpy.int8'>, 'VAR_1027': <class 'numpy.int8'>, 'VAR_1028': <class 'numpy.int8'>, 'VAR_1029': <class 'numpy.int8'>, 'VAR_1030': <class 'numpy.int8'>, 'VAR_1031': <class 'numpy.int8'>, 'VAR_1032': <class 'numpy.int8'>, 'VAR_1033': <class 'numpy.int8'>, 'VAR_1034': <class 'numpy.int8'>, 'VAR_1035': <class 'numpy.int8'>, 'VAR_1036': <class 'numpy.int8'>, 'VAR_1037': <class 'numpy.int8'>, 'VAR_1038': <class 'numpy.int8'>, 'VAR_1039': <class 'numpy.int8'>, 'VAR_1040': <class 'numpy.int8'>, 'VAR_1041': <class 'numpy.int8'>, 'VAR_1042': <class 'numpy.int8'>, 'VAR_1043': <class 'numpy.int8'>, 'VAR_1044': <class 'numpy.int8'>, 'VAR_1045': <class 'numpy.int8'>, 'VAR_1046': <class 'numpy.int8'>, 'VAR_1047': <class 'numpy.int8'>, 'VAR_1048': <class 'numpy.int8'>, 'VAR_1049': <class 'numpy.int8'>, 'VAR_1050': <class 'numpy.int8'>, 'VAR_1051': <class 'numpy.int8'>, 'VAR_1052': <class 'numpy.int8'>, 'VAR_1053': <class 'numpy.int8'>, 'VAR_1054': <class 'numpy.int8'>, 'VAR_1055': <class 'numpy.int8'>, 'VAR_1056': <class 'numpy.int8'>, 'VAR_1057': <class 'numpy.int8'>, 'VAR_1058': <class 'numpy.int8'>, 'VAR_1059': <class 'numpy.int8'>, 'VAR_1060': <class 'numpy.int8'>, 'VAR_1061': <class 'numpy.int8'>, 'VAR_1062': <class 'numpy.int8'>, 'VAR_1063': <class 'numpy.int8'>, 'VAR_1064': <class 'numpy.int8'>, 'VAR_1065': <class 'numpy.int8'>, 'VAR_1066': <class 'numpy.int8'>, 'VAR_1067': <class 'numpy.int8'>, 'VAR_1068': <class 'numpy.int8'>, 'VAR_1069': <class 'numpy.int8'>, 'VAR_1070': <class 'numpy.int8'>, 'VAR_1071': <class 'numpy.int8'>, 'VAR_1072': <class 'numpy.int8'>, 'VAR_1073': <class 'numpy.int8'>, 'VAR_1074': <class 'numpy.int16'>, 'VAR_1075': <class 'numpy.int16'>, 'VAR_1076': <class 'numpy.int16'>, 'VAR_1077': <class 'numpy.int16'>, 'VAR_1078': <class 'numpy.int16'>, 'VAR_1079': <class 'numpy.int16'>, 'VAR_1080': <class 'numpy.int8'>, 'VAR_1081': <class 'numpy.int32'>, 'VAR_1082': <class 'numpy.int32'>, 'VAR_1083': <class 'numpy.int32'>, 'VAR_1084': <class 'numpy.int32'>, 'VAR_1085': <class 'numpy.int32'>, 'VAR_1086': <class 'numpy.int32'>, 'VAR_1087': <class 'numpy.int32'>, 'VAR_1088': <class 'numpy.int32'>, 'VAR_1089': <class 'numpy.int32'>, 'VAR_1090': <class 'numpy.int32'>, 'VAR_1091': <class 'numpy.int32'>, 'VAR_1092': <class 'numpy.int32'>, 'VAR_1093': <class 'numpy.int32'>, 'VAR_1094': <class 'numpy.int32'>, 'VAR_1095': <class 'numpy.int32'>, 'VAR_1096': <class 'numpy.int32'>, 'VAR_1097': <class 'numpy.int32'>, 'VAR_1098': <class 'numpy.int16'>, 'VAR_1099': <class 'numpy.int16'>, 'VAR_1100': <class 'numpy.int16'>, 'VAR_1101': <class 'numpy.int16'>, 'VAR_1102': <class 'numpy.int16'>, 'VAR_1103': <class 'numpy.int16'>, 'VAR_1104': <class 'numpy.int16'>, 'VAR_1105': <class 'numpy.int16'>, 'VAR_1106': <class 'numpy.int16'>, 'VAR_1107': <class 'numpy.int16'>, 'VAR_1108': <class 'numpy.int8'>, 'VAR_1109': <class 'numpy.int8'>, 'VAR_1110': <class 'numpy.int16'>, 'VAR_1111': <class 'numpy.int16'>, 'VAR_1112': <class 'numpy.int16'>, 'VAR_1113': <class 'numpy.int16'>, 'VAR_1114': <class 'numpy.int16'>, 'VAR_1115': <class 'numpy.int16'>, 'VAR_1116': <class 'numpy.int16'>, 'VAR_1117': <class 'numpy.int16'>, 'VAR_1118': <class 'numpy.int16'>, 'VAR_1119': <class 'numpy.int16'>, 'VAR_1120': <class 'numpy.int16'>, 'VAR_1121': <class 'numpy.int16'>, 'VAR_1122': <class 'numpy.int16'>, 'VAR_1123': <class 'numpy.int16'>, 'VAR_1124': <class 'numpy.int16'>, 'VAR_1125': <class 'numpy.int16'>, 'VAR_1126': <class 'numpy.int16'>, 'VAR_1127': <class 'numpy.int16'>, 'VAR_1128': <class 'numpy.int16'>, 'VAR_1129': <class 'numpy.int16'>, 'VAR_1130': <class 'numpy.int32'>, 'VAR_1131': <class 'numpy.int32'>, 'VAR_1132': <class 'numpy.int16'>, 'VAR_1133': <class 'numpy.int16'>, 'VAR_1134': <class 'numpy.int16'>, 'VAR_1135': <class 'numpy.int16'>, 'VAR_1136': <class 'numpy.int16'>, 'VAR_1137': <class 'numpy.int16'>, 'VAR_1138': <class 'numpy.int16'>, 'VAR_1139': <class 'numpy.int16'>, 'VAR_1140': <class 'numpy.int16'>, 'VAR_1141': <class 'numpy.int16'>, 'VAR_1142': <class 'numpy.int16'>, 'VAR_1143': <class 'numpy.int16'>, 'VAR_1144': <class 'numpy.int16'>, 'VAR_1145': <class 'numpy.int16'>, 'VAR_1146': <class 'numpy.int16'>, 'VAR_1147': <class 'numpy.int16'>, 'VAR_1148': <class 'numpy.int16'>, 'VAR_1149': <class 'numpy.int16'>, 'VAR_1150': <class 'numpy.int16'>, 'VAR_1151': <class 'numpy.int16'>, 'VAR_1152': <class 'numpy.int16'>, 'VAR_1153': <class 'numpy.int16'>, 'VAR_1154': <class 'numpy.int16'>, 'VAR_1155': <class 'numpy.int16'>, 'VAR_1156': <class 'numpy.int16'>, 'VAR_1157': <class 'numpy.int16'>, 'VAR_1158': <class 'numpy.int16'>, 'VAR_1159': <class 'numpy.int16'>, 'VAR_1160': <class 'numpy.int16'>, 'VAR_1161': <class 'numpy.int8'>, 'VAR_1162': <class 'numpy.int8'>, 'VAR_1163': <class 'numpy.int8'>, 'VAR_1164': <class 'numpy.int8'>, 'VAR_1165': <class 'numpy.int8'>, 'VAR_1166': <class 'numpy.int8'>, 'VAR_1167': <class 'numpy.int8'>, 'VAR_1168': <class 'numpy.int8'>, 'VAR_1169': <class 'numpy.int16'>, 'VAR_1170': <class 'numpy.int16'>, 'VAR_1171': <class 'numpy.int16'>, 'VAR_1172': <class 'numpy.int16'>, 'VAR_1173': <class 'numpy.int16'>, 'VAR_1174': <class 'numpy.int32'>, 'VAR_1175': <class 'numpy.int8'>, 'VAR_1176': <class 'numpy.int8'>, 'VAR_1177': <class 'numpy.int8'>, 'VAR_1178': <class 'numpy.int8'>, 'VAR_1179': <class 'numpy.int32'>, 'VAR_1180': <class 'numpy.int32'>, 'VAR_1181': <class 'numpy.int32'>, 'VAR_1182': <class 'numpy.int32'>, 'VAR_1183': <class 'numpy.int32'>, 'VAR_1184': <class 'numpy.int16'>, 'VAR_1185': <class 'numpy.int8'>, 'VAR_1186': <class 'numpy.int8'>, 'VAR_1187': <class 'numpy.int8'>, 'VAR_1188': <class 'numpy.int8'>, 'VAR_1189': <class 'numpy.int8'>, 'VAR_1190': <class 'numpy.int8'>, 'VAR_1191': <class 'numpy.int8'>, 'VAR_1192': <class 'numpy.int8'>, 'VAR_1193': <class 'numpy.int8'>, 'VAR_1194': <class 'numpy.int8'>, 'VAR_1195': <class 'numpy.int8'>, 'VAR_1196': <class 'numpy.int8'>, 'VAR_1197': <class 'numpy.int8'>, 'VAR_1198': <class 'numpy.int8'>, 'VAR_1199': <class 'numpy.int32'>, 'VAR_1200': <class 'numpy.int32'>, 'VAR_1201': <class 'numpy.int32'>, 'VAR_1202': <class 'numpy.int32'>, 'VAR_1203': <class 'numpy.int32'>, 'VAR_1204': <class 'numpy.int32'>, 'VAR_1205': <class 'numpy.int16'>, 'VAR_1206': <class 'numpy.int16'>, 'VAR_1207': <class 'numpy.int16'>, 'VAR_1208': <class 'numpy.int16'>, 'VAR_1209': <class 'numpy.int16'>, 'VAR_1210': <class 'numpy.int16'>, 'VAR_1211': <class 'numpy.int16'>, 'VAR_1212': <class 'numpy.int8'>, 'VAR_1213': <class 'numpy.int8'>, 'VAR_1214': <class 'numpy.int16'>, 'VAR_1215': <class 'numpy.int32'>, 'VAR_1216': <class 'numpy.int16'>, 'VAR_1217': <class 'numpy.int8'>, 'VAR_1218': <class 'numpy.int8'>, 'VAR_1219': <class 'numpy.int16'>, 'VAR_1220': <class 'numpy.int32'>, 'VAR_1221': <class 'numpy.int32'>, 'VAR_1222': <class 'numpy.int16'>, 'VAR_1223': <class 'numpy.int16'>, 'VAR_1224': <class 'numpy.int8'>, 'VAR_1225': <class 'numpy.int8'>, 'VAR_1226': <class 'numpy.int8'>, 'VAR_1227': <class 'numpy.int32'>, 'VAR_1228': <class 'numpy.int32'>, 'VAR_1229': <class 'numpy.int8'>, 'VAR_1230': <class 'numpy.int8'>, 'VAR_1231': <class 'numpy.int8'>, 'VAR_1232': <class 'numpy.int8'>, 'VAR_1233': <class 'numpy.int8'>, 'VAR_1234': <class 'numpy.int8'>, 'VAR_1235': <class 'numpy.int8'>, 'VAR_1236': <class 'numpy.int8'>, 'VAR_1237': <class 'numpy.int8'>, 'VAR_1238': <class 'numpy.int8'>, 'VAR_1239': <class 'numpy.int8'>, 'VAR_1240': <class 'numpy.int16'>, 'VAR_1241': <class 'numpy.int32'>, 'VAR_1242': <class 'numpy.int32'>, 'VAR_1243': <class 'numpy.int32'>, 'VAR_1244': <class 'numpy.int32'>, 'VAR_1245': <class 'numpy.int32'>, 'VAR_1246': <class 'numpy.int32'>, 'VAR_1247': <class 'numpy.int32'>, 'VAR_1248': <class 'numpy.int32'>, 'VAR_1249': <class 'numpy.int32'>, 'VAR_1250': <class 'numpy.int32'>, 'VAR_1251': <class 'numpy.int32'>, 'VAR_1252': <class 'numpy.int32'>, 'VAR_1253': <class 'numpy.int16'>, 'VAR_1254': <class 'numpy.int16'>, 'VAR_1255': <class 'numpy.int16'>, 'VAR_1256': <class 'numpy.int16'>, 'VAR_1257': <class 'numpy.int16'>, 'VAR_1258': <class 'numpy.int16'>, 'VAR_1259': <class 'numpy.int16'>, 'VAR_1260': <class 'numpy.int16'>, 'VAR_1261': <class 'numpy.int16'>, 'VAR_1262': <class 'numpy.int16'>, 'VAR_1263': <class 'numpy.int16'>, 'VAR_1264': <class 'numpy.int16'>, 'VAR_1265': <class 'numpy.int16'>, 'VAR_1266': <class 'numpy.int16'>, 'VAR_1267': <class 'numpy.int8'>, 'VAR_1268': <class 'numpy.int8'>, 'VAR_1269': <class 'numpy.int8'>, 'VAR_1270': <class 'numpy.int8'>, 'VAR_1271': <class 'numpy.int8'>, 'VAR_1272': <class 'numpy.int8'>, 'VAR_1273': <class 'numpy.int8'>, 'VAR_1274': <class 'numpy.int8'>, 'VAR_1275': <class 'numpy.int8'>, 'VAR_1276': <class 'numpy.int8'>, 'VAR_1277': <class 'numpy.int8'>, 'VAR_1278': <class 'numpy.int8'>, 'VAR_1279': <class 'numpy.int8'>, 'VAR_1280': <class 'numpy.int8'>, 'VAR_1281': <class 'numpy.int8'>, 'VAR_1282': <class 'numpy.int8'>, 'VAR_1283': <class 'numpy.int8'>, 'VAR_1284': <class 'numpy.int8'>, 'VAR_1285': <class 'numpy.int8'>, 'VAR_1286': <class 'numpy.int8'>, 'VAR_1287': <class 'numpy.int8'>, 'VAR_1288': <class 'numpy.int8'>, 'VAR_1289': <class 'numpy.int8'>, 'VAR_1290': <class 'numpy.int8'>, 'VAR_1291': <class 'numpy.int8'>, 'VAR_1292': <class 'numpy.int8'>, 'VAR_1293': <class 'numpy.int8'>, 'VAR_1294': <class 'numpy.int8'>, 'VAR_1295': <class 'numpy.int8'>, 'VAR_1296': <class 'numpy.int8'>, 'VAR_1297': <class 'numpy.int8'>, 'VAR_1298': <class 'numpy.int8'>, 'VAR_1299': <class 'numpy.int8'>, 'VAR_1300': <class 'numpy.int8'>, 'VAR_1301': <class 'numpy.int8'>, 'VAR_1302': <class 'numpy.int8'>, 'VAR_1303': <class 'numpy.int8'>, 'VAR_1304': <class 'numpy.int8'>, 'VAR_1305': <class 'numpy.int8'>, 'VAR_1306': <class 'numpy.int8'>, 'VAR_1307': <class 'numpy.int8'>, 'VAR_1308': <class 'numpy.int16'>, 'VAR_1309': <class 'numpy.int16'>, 'VAR_1310': <class 'numpy.int16'>, 'VAR_1311': <class 'numpy.int16'>, 'VAR_1312': <class 'numpy.int32'>, 'VAR_1313': <class 'numpy.int32'>, 'VAR_1314': <class 'numpy.int32'>, 'VAR_1315': <class 'numpy.int32'>, 'VAR_1316': <class 'numpy.int32'>, 'VAR_1317': <class 'numpy.int32'>, 'VAR_1318': <class 'numpy.int32'>, 'VAR_1319': <class 'numpy.int32'>, 'VAR_1320': <class 'numpy.int32'>, 'VAR_1321': <class 'numpy.int32'>, 'VAR_1322': <class 'numpy.int32'>, 'VAR_1323': <class 'numpy.int32'>, 'VAR_1324': <class 'numpy.int16'>, 'VAR_1325': <class 'numpy.int16'>, 'VAR_1326': <class 'numpy.int16'>, 'VAR_1327': <class 'numpy.int16'>, 'VAR_1328': <class 'numpy.int16'>, 'VAR_1329': <class 'numpy.int16'>, 'VAR_1330': <class 'numpy.int16'>, 'VAR_1331': <class 'numpy.int16'>, 'VAR_1332': <class 'numpy.int16'>, 'VAR_1333': <class 'numpy.int16'>, 'VAR_1334': <class 'numpy.int16'>, 'VAR_1335': <class 'numpy.int16'>, 'VAR_1336': <class 'numpy.int16'>, 'VAR_1337': <class 'numpy.int16'>, 'VAR_1338': <class 'numpy.int8'>, 'VAR_1339': <class 'numpy.int8'>, 'VAR_1340': <class 'numpy.int8'>, 'VAR_1341': <class 'numpy.int32'>, 'VAR_1342': <class 'numpy.int32'>, 'VAR_1343': <class 'numpy.int16'>, 'VAR_1344': <class 'numpy.int16'>, 'VAR_1345': <class 'numpy.int8'>, 'VAR_1346': <class 'numpy.int8'>, 'VAR_1347': <class 'numpy.int8'>, 'VAR_1348': <class 'numpy.int8'>, 'VAR_1349': <class 'numpy.int8'>, 'VAR_1350': <class 'numpy.int8'>, 'VAR_1351': <class 'numpy.int8'>, 'VAR_1352': <class 'numpy.int8'>, 'VAR_1353': <class 'numpy.int32'>, 'VAR_1354': <class 'numpy.int32'>, 'VAR_1355': <class 'numpy.int32'>, 'VAR_1356': <class 'numpy.int32'>, 'VAR_1357': <class 'numpy.int32'>, 'VAR_1358': <class 'numpy.int16'>, 'VAR_1359': <class 'numpy.int8'>, 'VAR_1360': <class 'numpy.int8'>, 'VAR_1361': <class 'numpy.int8'>, 'VAR_1362': <class 'numpy.int8'>, 'VAR_1363': <class 'numpy.int8'>, 'VAR_1364': <class 'numpy.int8'>, 'VAR_1365': <class 'numpy.int8'>, 'VAR_1366': <class 'numpy.int8'>, 'VAR_1367': <class 'numpy.int8'>, 'VAR_1368': <class 'numpy.int8'>, 'VAR_1369': <class 'numpy.int8'>, 'VAR_1370': <class 'numpy.int16'>, 'VAR_1371': <class 'numpy.int32'>, 'VAR_1372': <class 'numpy.int32'>, 'VAR_1373': <class 'numpy.int32'>, 'VAR_1374': <class 'numpy.int32'>, 'VAR_1375': <class 'numpy.int32'>, 'VAR_1376': <class 'numpy.int32'>, 'VAR_1377': <class 'numpy.int16'>, 'VAR_1378': <class 'numpy.int16'>, 'VAR_1379': <class 'numpy.int16'>, 'VAR_1380': <class 'numpy.int16'>, 'VAR_1381': <class 'numpy.int16'>, 'VAR_1382': <class 'numpy.int16'>, 'VAR_1383': <class 'numpy.int16'>, 'VAR_1384': <class 'numpy.int16'>, 'VAR_1385': <class 'numpy.int16'>, 'VAR_1386': <class 'numpy.int8'>, 'VAR_1387': <class 'numpy.int8'>, 'VAR_1388': <class 'numpy.int8'>, 'VAR_1389': <class 'numpy.int8'>, 'VAR_1390': <class 'numpy.int32'>, 'VAR_1391': <class 'numpy.int16'>, 'VAR_1392': <class 'numpy.int8'>, 'VAR_1393': <class 'numpy.int8'>, 'VAR_1394': <class 'numpy.int8'>, 'VAR_1395': <class 'numpy.int8'>, 'VAR_1396': <class 'numpy.int8'>, 'VAR_1397': <class 'numpy.int16'>, 'VAR_1398': <class 'numpy.int32'>, 'VAR_1399': <class 'numpy.int32'>, 'VAR_1400': <class 'numpy.int16'>, 'VAR_1401': <class 'numpy.int16'>, 'VAR_1402': <class 'numpy.int16'>, 'VAR_1403': <class 'numpy.int16'>, 'VAR_1404': <class 'numpy.int8'>, 'VAR_1405': <class 'numpy.int8'>, 'VAR_1406': <class 'numpy.int8'>, 'VAR_1407': <class 'numpy.int8'>, 'VAR_1408': <class 'numpy.int8'>, 'VAR_1409': <class 'numpy.int8'>, 'VAR_1410': <class 'numpy.int8'>, 'VAR_1411': <class 'numpy.int8'>, 'VAR_1412': <class 'numpy.int8'>, 'VAR_1413': <class 'numpy.int8'>, 'VAR_1414': <class 'numpy.int8'>, 'VAR_1415': <class 'numpy.int8'>, 'VAR_1416': <class 'numpy.int8'>, 'VAR_1417': <class 'numpy.int8'>, 'VAR_1418': <class 'numpy.int32'>, 'VAR_1419': <class 'numpy.int32'>, 'VAR_1420': <class 'numpy.int32'>, 'VAR_1421': <class 'numpy.int32'>, 'VAR_1422': <class 'numpy.int16'>, 'VAR_1423': <class 'numpy.int16'>, 'VAR_1424': <class 'numpy.int16'>, 'VAR_1425': <class 'numpy.int16'>, 'VAR_1426': <class 'numpy.int16'>, 'VAR_1427': <class 'numpy.int8'>, 'VAR_1428': <class 'numpy.int8'>, 'VAR_1429': <class 'numpy.int8'>, 'VAR_1430': <class 'numpy.int8'>, 'VAR_1431': <class 'numpy.int8'>, 'VAR_1432': <class 'numpy.int8'>, 'VAR_1433': <class 'numpy.int8'>, 'VAR_1434': <class 'numpy.int8'>, 'VAR_1435': <class 'numpy.int8'>, 'VAR_1436': <class 'numpy.int32'>, 'VAR_1437': <class 'numpy.int32'>, 'VAR_1438': <class 'numpy.int32'>, 'VAR_1439': <class 'numpy.int32'>, 'VAR_1440': <class 'numpy.int32'>, 'VAR_1441': <class 'numpy.int32'>, 'VAR_1442': <class 'numpy.int32'>, 'VAR_1443': <class 'numpy.int16'>, 'VAR_1444': <class 'numpy.int16'>, 'VAR_1445': <class 'numpy.int16'>, 'VAR_1446': <class 'numpy.int16'>, 'VAR_1447': <class 'numpy.int16'>, 'VAR_1448': <class 'numpy.int16'>, 'VAR_1449': <class 'numpy.int8'>, 'VAR_1450': <class 'numpy.int8'>, 'VAR_1451': <class 'numpy.int32'>, 'VAR_1452': <class 'numpy.int32'>, 'VAR_1453': <class 'numpy.int32'>, 'VAR_1454': <class 'numpy.int16'>, 'VAR_1455': <class 'numpy.int16'>, 'VAR_1456': <class 'numpy.int8'>, 'VAR_1457': <class 'numpy.int8'>, 'VAR_1458': <class 'numpy.int8'>, 'VAR_1459': <class 'numpy.int8'>, 'VAR_1460': <class 'numpy.int8'>, 'VAR_1461': <class 'numpy.int8'>, 'VAR_1462': <class 'numpy.int8'>, 'VAR_1463': <class 'numpy.int8'>, 'VAR_1464': <class 'numpy.int8'>, 'VAR_1465': <class 'numpy.int8'>, 'VAR_1466': <class 'numpy.int8'>, 'VAR_1467': <class 'numpy.int8'>, 'VAR_1468': <class 'numpy.int8'>, 'VAR_1469': <class 'numpy.int8'>, 'VAR_1470': <class 'numpy.int8'>, 'VAR_1471': <class 'numpy.int8'>, 'VAR_1472': <class 'numpy.int8'>, 'VAR_1473': <class 'numpy.int8'>, 'VAR_1474': <class 'numpy.int8'>, 'VAR_1475': <class 'numpy.int8'>, 'VAR_1476': <class 'numpy.int8'>, 'VAR_1477': <class 'numpy.int8'>, 'VAR_1478': <class 'numpy.int8'>, 'VAR_1479': <class 'numpy.int8'>, 'VAR_1480': <class 'numpy.int8'>, 'VAR_1481': <class 'numpy.int8'>, 'VAR_1482': <class 'numpy.int8'>, 'VAR_1483': <class 'numpy.int16'>, 'VAR_1484': <class 'numpy.int16'>, 'VAR_1485': <class 'numpy.int16'>, 'VAR_1486': <class 'numpy.int16'>, 'VAR_1487': <class 'numpy.int16'>, 'VAR_1488': <class 'numpy.int16'>, 'VAR_1489': <class 'numpy.int32'>, 'VAR_1490': <class 'numpy.int32'>, 'VAR_1491': <class 'numpy.int32'>, 'VAR_1492': <class 'numpy.int32'>, 'VAR_1493': <class 'numpy.int32'>, 'VAR_1494': <class 'numpy.int32'>, 'VAR_1495': <class 'numpy.int32'>, 'VAR_1496': <class 'numpy.int32'>, 'VAR_1497': <class 'numpy.int32'>, 'VAR_1498': <class 'numpy.int32'>, 'VAR_1499': <class 'numpy.int32'>, 'VAR_1500': <class 'numpy.int32'>, 'VAR_1501': <class 'numpy.int32'>, 'VAR_1502': <class 'numpy.int32'>, 'VAR_1503': <class 'numpy.int32'>, 'VAR_1504': <class 'numpy.int32'>, 'VAR_1505': <class 'numpy.int16'>, 'VAR_1506': <class 'numpy.int16'>, 'VAR_1507': <class 'numpy.int16'>, 'VAR_1508': <class 'numpy.int16'>, 'VAR_1509': <class 'numpy.int16'>, 'VAR_1510': <class 'numpy.int16'>, 'VAR_1511': <class 'numpy.int16'>, 'VAR_1512': <class 'numpy.int16'>, 'VAR_1513': <class 'numpy.int16'>, 'VAR_1514': <class 'numpy.int16'>, 'VAR_1515': <class 'numpy.int16'>, 'VAR_1516': <class 'numpy.int16'>, 'VAR_1517': <class 'numpy.int16'>, 'VAR_1518': <class 'numpy.int16'>, 'VAR_1519': <class 'numpy.int16'>, 'VAR_1520': <class 'numpy.int16'>, 'VAR_1521': <class 'numpy.int16'>, 'VAR_1522': <class 'numpy.int16'>, 'VAR_1523': <class 'numpy.int16'>, 'VAR_1524': <class 'numpy.int16'>, 'VAR_1525': <class 'numpy.int16'>, 'VAR_1526': <class 'numpy.int16'>, 'VAR_1527': <class 'numpy.int16'>, 'VAR_1528': <class 'numpy.int16'>, 'VAR_1529': <class 'numpy.int16'>, 'VAR_1530': <class 'numpy.int16'>, 'VAR_1531': <class 'numpy.int16'>, 'VAR_1532': <class 'numpy.int8'>, 'VAR_1533': <class 'numpy.int8'>, 'VAR_1534': <class 'numpy.int8'>, 'VAR_1535': <class 'numpy.int8'>, 'VAR_1536': <class 'numpy.int16'>, 'VAR_1537': <class 'numpy.int8'>, 'VAR_1538': <class 'numpy.int8'>, 'VAR_1539': <class 'numpy.int8'>, 'VAR_1540': <class 'numpy.int8'>, 'VAR_1541': <class 'numpy.int16'>, 'VAR_1542': <class 'numpy.int8'>, 'VAR_1543': <class 'numpy.int8'>, 'VAR_1544': <class 'numpy.int8'>, 'VAR_1545': <class 'numpy.int8'>, 'VAR_1546': <class 'numpy.int8'>, 'VAR_1547': <class 'numpy.int8'>, 'VAR_1548': <class 'numpy.int8'>, 'VAR_1549': <class 'numpy.int8'>, 'VAR_1550': <class 'numpy.int16'>, 'VAR_1551': <class 'numpy.int8'>, 'VAR_1552': <class 'numpy.int8'>, 'VAR_1553': <class 'numpy.int8'>, 'VAR_1554': <class 'numpy.int8'>, 'VAR_1555': <class 'numpy.int16'>, 'VAR_1556': <class 'numpy.int8'>, 'VAR_1557': <class 'numpy.int8'>, 'VAR_1558': <class 'numpy.int8'>, 'VAR_1559': <class 'numpy.int8'>, 'VAR_1560': <class 'numpy.int16'>, 'VAR_1561': <class 'numpy.int8'>, 'VAR_1562': <class 'numpy.int8'>, 'VAR_1563': <class 'numpy.int8'>, 'VAR_1564': <class 'numpy.int8'>, 'VAR_1565': <class 'numpy.int8'>, 'VAR_1566': <class 'numpy.int8'>, 'VAR_1567': <class 'numpy.int8'>, 'VAR_1568': <class 'numpy.int8'>, 'VAR_1569': <class 'numpy.int8'>, 'VAR_1570': <class 'numpy.int8'>, 'VAR_1571': <class 'numpy.int8'>, 'VAR_1572': <class 'numpy.int8'>, 'VAR_1573': <class 'numpy.int16'>, 'VAR_1574': <class 'numpy.int8'>, 'VAR_1575': <class 'numpy.int8'>, 'VAR_1576': <class 'numpy.int16'>, 'VAR_1577': <class 'numpy.int8'>, 'VAR_1578': <class 'numpy.int8'>, 'VAR_1579': <class 'numpy.int16'>, 'VAR_1580': <class 'numpy.int16'>, 'VAR_1581': <class 'numpy.int32'>, 'VAR_1582': <class 'numpy.int32'>, 'VAR_1583': <class 'numpy.int8'>, 'VAR_1584': <class 'numpy.int8'>, 'VAR_1585': <class 'numpy.int8'>, 'VAR_1586': <class 'numpy.int8'>, 'VAR_1587': <class 'numpy.int8'>, 'VAR_1588': <class 'numpy.int8'>, 'VAR_1589': <class 'numpy.int8'>, 'VAR_1590': <class 'numpy.int8'>, 'VAR_1591': <class 'numpy.int8'>, 'VAR_1592': <class 'numpy.int8'>, 'VAR_1593': <class 'numpy.int8'>, 'VAR_1594': <class 'numpy.int8'>, 'VAR_1595': <class 'numpy.int8'>, 'VAR_1596': <class 'numpy.int8'>, 'VAR_1597': <class 'numpy.int8'>, 'VAR_1598': <class 'numpy.int8'>, 'VAR_1599': <class 'numpy.int8'>, 'VAR_1600': <class 'numpy.int8'>, 'VAR_1601': <class 'numpy.int8'>, 'VAR_1602': <class 'numpy.int8'>, 'VAR_1603': <class 'numpy.int8'>, 'VAR_1604': <class 'numpy.int8'>, 'VAR_1605': <class 'numpy.int8'>, 'VAR_1606': <class 'numpy.int8'>, 'VAR_1607': <class 'numpy.int8'>, 'VAR_1608': <class 'numpy.int8'>, 'VAR_1609': <class 'numpy.int8'>, 'VAR_1610': <class 'numpy.int8'>, 'VAR_1611': <class 'numpy.int16'>, 'VAR_1612': <class 'numpy.int16'>, 'VAR_1613': <class 'numpy.int16'>, 'VAR_1614': <class 'numpy.int16'>, 'VAR_1615': <class 'numpy.int16'>, 'VAR_1616': <class 'numpy.int16'>, 'VAR_1617': <class 'numpy.int32'>, 'VAR_1618': <class 'numpy.int32'>, 'VAR_1619': <class 'numpy.int32'>, 'VAR_1620': <class 'numpy.int32'>, 'VAR_1621': <class 'numpy.int32'>, 'VAR_1622': <class 'numpy.int32'>, 'VAR_1623': <class 'numpy.int32'>, 'VAR_1624': <class 'numpy.int32'>, 'VAR_1625': <class 'numpy.int32'>, 'VAR_1626': <class 'numpy.int32'>, 'VAR_1627': <class 'numpy.int32'>, 'VAR_1628': <class 'numpy.int32'>, 'VAR_1629': <class 'numpy.int32'>, 'VAR_1630': <class 'numpy.int32'>, 'VAR_1631': <class 'numpy.int32'>, 'VAR_1632': <class 'numpy.int16'>, 'VAR_1633': <class 'numpy.int16'>, 'VAR_1634': <class 'numpy.int16'>, 'VAR_1635': <class 'numpy.int16'>, 'VAR_1636': <class 'numpy.int16'>, 'VAR_1637': <class 'numpy.int16'>, 'VAR_1638': <class 'numpy.int16'>, 'VAR_1639': <class 'numpy.int16'>, 'VAR_1640': <class 'numpy.int16'>, 'VAR_1641': <class 'numpy.int16'>, 'VAR_1642': <class 'numpy.int16'>, 'VAR_1643': <class 'numpy.int16'>, 'VAR_1644': <class 'numpy.int16'>, 'VAR_1645': <class 'numpy.int16'>, 'VAR_1646': <class 'numpy.int16'>, 'VAR_1647': <class 'numpy.int16'>, 'VAR_1648': <class 'numpy.int16'>, 'VAR_1649': <class 'numpy.int16'>, 'VAR_1650': <class 'numpy.int16'>, 'VAR_1651': <class 'numpy.int16'>, 'VAR_1652': <class 'numpy.int16'>, 'VAR_1653': <class 'numpy.int16'>, 'VAR_1654': <class 'numpy.int16'>, 'VAR_1655': <class 'numpy.int16'>, 'VAR_1656': <class 'numpy.int8'>, 'VAR_1657': <class 'numpy.int8'>, 'VAR_1658': <class 'numpy.int8'>, 'VAR_1659': <class 'numpy.int8'>, 'VAR_1660': <class 'numpy.int8'>, 'VAR_1661': <class 'numpy.int8'>, 'VAR_1662': <class 'numpy.int8'>, 'VAR_1663': <class 'numpy.int8'>, 'VAR_1664': <class 'numpy.int8'>, 'VAR_1665': <class 'numpy.int8'>, 'VAR_1666': <class 'numpy.int8'>, 'VAR_1667': <class 'numpy.int8'>, 'VAR_1668': <class 'numpy.int8'>, 'VAR_1669': <class 'numpy.int8'>, 'VAR_1670': <class 'numpy.int8'>, 'VAR_1671': <class 'numpy.int8'>, 'VAR_1672': <class 'numpy.int8'>, 'VAR_1673': <class 'numpy.int8'>, 'VAR_1674': <class 'numpy.int8'>, 'VAR_1675': <class 'numpy.int8'>, 'VAR_1676': <class 'numpy.int8'>, 'VAR_1677': <class 'numpy.int8'>, 'VAR_1678': <class 'numpy.int8'>, 'VAR_1679': <class 'numpy.int8'>, 'VAR_1680': <class 'numpy.int8'>, 'VAR_1681': <class 'numpy.int8'>, 'VAR_1682': <class 'numpy.int8'>, 'VAR_1683': <class 'numpy.int8'>, 'VAR_1684': <class 'numpy.int16'>, 'VAR_1685': <class 'numpy.int32'>, 'VAR_1686': <class 'numpy.int32'>, 'VAR_1687': <class 'numpy.int32'>, 'VAR_1688': <class 'numpy.int32'>, 'VAR_1689': <class 'numpy.int32'>, 'VAR_1690': <class 'numpy.int32'>, 'VAR_1691': <class 'numpy.int32'>, 'VAR_1692': <class 'numpy.int32'>, 'VAR_1693': <class 'numpy.int32'>, 'VAR_1694': <class 'numpy.int32'>, 'VAR_1695': <class 'numpy.int32'>, 'VAR_1696': <class 'numpy.int32'>, 'VAR_1697': <class 'numpy.int32'>, 'VAR_1698': <class 'numpy.int32'>, 'VAR_1699': <class 'numpy.int32'>, 'VAR_1700': <class 'numpy.int32'>, 'VAR_1701': <class 'numpy.int32'>, 'VAR_1702': <class 'numpy.int16'>, 'VAR_1703': <class 'numpy.int16'>, 'VAR_1704': <class 'numpy.int16'>, 'VAR_1705': <class 'numpy.int16'>, 'VAR_1706': <class 'numpy.int16'>, 'VAR_1707': <class 'numpy.int16'>, 'VAR_1708': <class 'numpy.int16'>, 'VAR_1709': <class 'numpy.int16'>, 'VAR_1710': <class 'numpy.int16'>, 'VAR_1711': <class 'numpy.int16'>, 'VAR_1712': <class 'numpy.int16'>, 'VAR_1713': <class 'numpy.int8'>, 'VAR_1714': <class 'numpy.int8'>, 'VAR_1715': <class 'numpy.int32'>, 'VAR_1716': <class 'numpy.int32'>, 'VAR_1717': <class 'numpy.int32'>, 'VAR_1718': <class 'numpy.int32'>, 'VAR_1719': <class 'numpy.int16'>, 'VAR_1720': <class 'numpy.int16'>, 'VAR_1721': <class 'numpy.int8'>, 'VAR_1722': <class 'numpy.int8'>, 'VAR_1723': <class 'numpy.int8'>, 'VAR_1724': <class 'numpy.int8'>, 'VAR_1725': <class 'numpy.int8'>, 'VAR_1726': <class 'numpy.int8'>, 'VAR_1727': <class 'numpy.int8'>, 'VAR_1728': <class 'numpy.int8'>, 'VAR_1729': <class 'numpy.int16'>, 'VAR_1730': <class 'numpy.int32'>, 'VAR_1731': <class 'numpy.int32'>, 'VAR_1732': <class 'numpy.int32'>, 'VAR_1733': <class 'numpy.int32'>, 'VAR_1734': <class 'numpy.int16'>, 'VAR_1735': <class 'numpy.int16'>, 'VAR_1736': <class 'numpy.int16'>, 'VAR_1737': <class 'numpy.int16'>, 'VAR_1738': <class 'numpy.int32'>, 'VAR_1739': <class 'numpy.int32'>, 'VAR_1740': <class 'numpy.int8'>, 'VAR_1741': <class 'numpy.int8'>, 'VAR_1742': <class 'numpy.int8'>, 'VAR_1743': <class 'numpy.int8'>, 'VAR_1744': <class 'numpy.int8'>, 'VAR_1745': <class 'numpy.int8'>, 'VAR_1746': <class 'numpy.int8'>, 'VAR_1747': <class 'numpy.int32'>, 'VAR_1748': <class 'numpy.int32'>, 'VAR_1749': <class 'numpy.int16'>, 'VAR_1750': <class 'numpy.int16'>, 'VAR_1751': <class 'numpy.int16'>, 'VAR_1752': <class 'numpy.int8'>, 'VAR_1753': <class 'numpy.int8'>, 'VAR_1754': <class 'numpy.int32'>, 'VAR_1755': <class 'numpy.int32'>, 'VAR_1756': <class 'numpy.int32'>, 'VAR_1757': <class 'numpy.int32'>, 'VAR_1758': <class 'numpy.int16'>, 'VAR_1759': <class 'numpy.int16'>, 'VAR_1760': <class 'numpy.int8'>, 'VAR_1761': <class 'numpy.int8'>, 'VAR_1762': <class 'numpy.int8'>, 'VAR_1763': <class 'numpy.int8'>, 'VAR_1764': <class 'numpy.int8'>, 'VAR_1765': <class 'numpy.int8'>, 'VAR_1766': <class 'numpy.int8'>, 'VAR_1767': <class 'numpy.int8'>, 'VAR_1768': <class 'numpy.int8'>, 'VAR_1769': <class 'numpy.int8'>, 'VAR_1770': <class 'numpy.int8'>, 'VAR_1771': <class 'numpy.int8'>, 'VAR_1772': <class 'numpy.int8'>, 'VAR_1773': <class 'numpy.int8'>, 'VAR_1774': <class 'numpy.int8'>, 'VAR_1775': <class 'numpy.int8'>, 'VAR_1776': <class 'numpy.int8'>, 'VAR_1777': <class 'numpy.int8'>, 'VAR_1778': <class 'numpy.int8'>, 'VAR_1779': <class 'numpy.int8'>, 'VAR_1780': <class 'numpy.int8'>, 'VAR_1781': <class 'numpy.int8'>, 'VAR_1782': <class 'numpy.int8'>, 'VAR_1783': <class 'numpy.int8'>, 'VAR_1784': <class 'numpy.int8'>, 'VAR_1785': <class 'numpy.int8'>, 'VAR_1786': <class 'numpy.int8'>, 'VAR_1787': <class 'numpy.int8'>, 'VAR_1788': <class 'numpy.int8'>, 'VAR_1789': <class 'numpy.int8'>, 'VAR_1790': <class 'numpy.int8'>, 'VAR_1791': <class 'numpy.int8'>, 'VAR_1792': <class 'numpy.int8'>, 'VAR_1793': <class 'numpy.int8'>, 'VAR_1794': <class 'numpy.int8'>, 'VAR_1795': <class 'numpy.int16'>, 'VAR_1796': <class 'numpy.int16'>, 'VAR_1797': <class 'numpy.int16'>, 'VAR_1798': <class 'numpy.int16'>, 'VAR_1799': <class 'numpy.int16'>, 'VAR_1800': <class 'numpy.int16'>, 'VAR_1801': <class 'numpy.int32'>, 'VAR_1802': <class 'numpy.int32'>, 'VAR_1803': <class 'numpy.int32'>, 'VAR_1804': <class 'numpy.int32'>, 'VAR_1805': <class 'numpy.int32'>, 'VAR_1806': <class 'numpy.int32'>, 'VAR_1807': <class 'numpy.int32'>, 'VAR_1808': <class 'numpy.int32'>, 'VAR_1809': <class 'numpy.int32'>, 'VAR_1810': <class 'numpy.int32'>, 'VAR_1811': <class 'numpy.int32'>, 'VAR_1812': <class 'numpy.int32'>, 'VAR_1813': <class 'numpy.int32'>, 'VAR_1814': <class 'numpy.int32'>, 'VAR_1815': <class 'numpy.int32'>, 'VAR_1816': <class 'numpy.int16'>, 'VAR_1817': <class 'numpy.int16'>, 'VAR_1818': <class 'numpy.int16'>, 'VAR_1819': <class 'numpy.int16'>, 'VAR_1820': <class 'numpy.int16'>, 'VAR_1821': <class 'numpy.int16'>, 'VAR_1822': <class 'numpy.int16'>, 'VAR_1823': <class 'numpy.int16'>, 'VAR_1824': <class 'numpy.int16'>, 'VAR_1825': <class 'numpy.int16'>, 'VAR_1826': <class 'numpy.int16'>, 'VAR_1827': <class 'numpy.int16'>, 'VAR_1828': <class 'numpy.int16'>, 'VAR_1829': <class 'numpy.int16'>, 'VAR_1830': <class 'numpy.int16'>, 'VAR_1831': <class 'numpy.int16'>, 'VAR_1832': <class 'numpy.int16'>, 'VAR_1833': <class 'numpy.int16'>, 'VAR_1834': <class 'numpy.int16'>, 'VAR_1835': <class 'numpy.int16'>, 'VAR_1836': <class 'numpy.int16'>, 'VAR_1837': <class 'numpy.int16'>, 'VAR_1838': <class 'numpy.int16'>, 'VAR_1839': <class 'numpy.int16'>, 'VAR_1840': <class 'numpy.int16'>, 'VAR_1841': <class 'numpy.int16'>, 'VAR_1842': <class 'numpy.int16'>, 'VAR_1843': <class 'numpy.int8'>, 'VAR_1844': <class 'numpy.int8'>, 'VAR_1845': <class 'numpy.int32'>, 'VAR_1846': <class 'numpy.int32'>, 'VAR_1847': <class 'numpy.int32'>, 'VAR_1848': <class 'numpy.int16'>, 'VAR_1849': <class 'numpy.int16'>, 'VAR_1850': <class 'numpy.int16'>, 'VAR_1851': <class 'numpy.int16'>, 'VAR_1852': <class 'numpy.int16'>, 'VAR_1853': <class 'numpy.int8'>, 'VAR_1854': <class 'numpy.int8'>, 'VAR_1855': <class 'numpy.int8'>, 'VAR_1856': <class 'numpy.int8'>, 'VAR_1857': <class 'numpy.int8'>, 'VAR_1858': <class 'numpy.int16'>, 'VAR_1859': <class 'numpy.int32'>, 'VAR_1860': <class 'numpy.int32'>, 'VAR_1861': <class 'numpy.int32'>, 'VAR_1862': <class 'numpy.int16'>, 'VAR_1863': <class 'numpy.int16'>, 'VAR_1864': <class 'numpy.int16'>, 'VAR_1865': <class 'numpy.int16'>, 'VAR_1866': <class 'numpy.int8'>, 'VAR_1867': <class 'numpy.int8'>, 'VAR_1868': <class 'numpy.int16'>, 'VAR_1869': <class 'numpy.int32'>, 'VAR_1870': <class 'numpy.int32'>, 'VAR_1871': <class 'numpy.int32'>, 'VAR_1872': <class 'numpy.int8'>, 'VAR_1873': <class 'numpy.int8'>, 'VAR_1874': <class 'numpy.int8'>, 'VAR_1875': <class 'numpy.int8'>, 'VAR_1876': <class 'numpy.int8'>, 'VAR_1877': <class 'numpy.int8'>, 'VAR_1878': <class 'numpy.int8'>, 'VAR_1879': <class 'numpy.int8'>, 'VAR_1880': <class 'numpy.int8'>, 'VAR_1881': <class 'numpy.int8'>, 'VAR_1882': <class 'numpy.int8'>, 'VAR_1883': <class 'numpy.int8'>, 'VAR_1884': <class 'numpy.int8'>, 'VAR_1885': <class 'numpy.int8'>, 'VAR_1886': <class 'numpy.int8'>, 'VAR_1887': <class 'numpy.int8'>, 'VAR_1888': <class 'numpy.int8'>, 'VAR_1889': <class 'numpy.int32'>, 'VAR_1890': <class 'numpy.int32'>, 'VAR_1891': <class 'numpy.int32'>, 'VAR_1892': <class 'numpy.int32'>, 'VAR_1893': <class 'numpy.int32'>, 'VAR_1894': <class 'numpy.int32'>, 'VAR_1895': <class 'numpy.int32'>, 'VAR_1896': <class 'numpy.int16'>, 'VAR_1897': <class 'numpy.int16'>, 'VAR_1898': <class 'numpy.int16'>, 'VAR_1899': <class 'numpy.int16'>, 'VAR_1900': <class 'numpy.int16'>, 'VAR_1901': <class 'numpy.int16'>, 'VAR_1902': <class 'numpy.int16'>, 'VAR_1903': <class 'numpy.int8'>, 'VAR_1904': <class 'numpy.int8'>, 'VAR_1905': <class 'numpy.int8'>, 'VAR_1906': <class 'numpy.int8'>, 'VAR_1907': <class 'numpy.int8'>, 'VAR_1908': <class 'numpy.int8'>, 'VAR_1909': <class 'numpy.int8'>, 'VAR_1910': <class 'numpy.int8'>, 'VAR_1911': <class 'numpy.int16'>, 'VAR_1912': <class 'numpy.int32'>, 'VAR_1913': <class 'numpy.int32'>, 'VAR_1914': <class 'numpy.int32'>, 'VAR_1915': <class 'numpy.int32'>, 'VAR_1916': <class 'numpy.int16'>, 'VAR_1917': <class 'numpy.int16'>, 'VAR_1918': <class 'numpy.int16'>, 'VAR_1919': <class 'numpy.int16'>, 'VAR_1920': <class 'numpy.int8'>, 'VAR_1921': <class 'numpy.int8'>, 'VAR_1922': <class 'numpy.int32'>, 'VAR_1923': <class 'numpy.int32'>, 'VAR_1924': <class 'numpy.int16'>, 'VAR_1925': <class 'numpy.int8'>, 'VAR_1926': <class 'numpy.int8'>, 'VAR_1927': <class 'numpy.int8'>, 'VAR_1928': <class 'numpy.int16'>, 'VAR_1929': <class 'numpy.int32'>, 'VAR_1930': <class 'numpy.int16'>, 'VAR_1931': <class 'numpy.int16'>, 'VAR_1932': <class 'numpy.int16'>, 'VAR_1933': <class 'numpy.int16'>, 'VAR_1934': 'category', 'target': <class 'numpy.int8'>}\n",
            "\n",
            "How many columns?\n"
          ],
          "name": "stdout"
        },
        {
          "output_type": "execute_result",
          "data": {
            "text/plain": [
              "1409"
            ]
          },
          "metadata": {},
          "execution_count": 162
        }
      ]
    },
    {
      "cell_type": "code",
      "metadata": {
        "colab": {
          "base_uri": "https://localhost:8080/"
        },
        "id": "T_T1VTF1jcvF",
        "outputId": "6d0b6929-d1b9-4c37-9a6f-af1c50ee50e3"
      },
      "source": [
        "%%time\n",
        "\n",
        "# 5.0 Now modify the original dataframe\n",
        "df[cols] = data   # 7 minutes\n",
        "\n",
        "# 5.1 And delete data\n",
        "del data"
      ],
      "execution_count": 163,
      "outputs": [
        {
          "output_type": "stream",
          "text": [
            "CPU times: user 7min 7s, sys: 44.1 s, total: 7min 51s\n",
            "Wall time: 7min 49s\n"
          ],
          "name": "stdout"
        }
      ]
    },
    {
      "cell_type": "code",
      "metadata": {
        "colab": {
          "base_uri": "https://localhost:8080/"
        },
        "id": "D7aaP8HbnscP",
        "outputId": "27b82e9a-d03b-4876-c4b1-419ae814cb28"
      },
      "source": [
        "# 5.2\n",
        "df.shape\n",
        "print()\n",
        "df.memory_usage().sum()  # 1060767848"
      ],
      "execution_count": 164,
      "outputs": [
        {
          "output_type": "execute_result",
          "data": {
            "text/plain": [
              "(145231, 1934)"
            ]
          },
          "metadata": {},
          "execution_count": 164
        },
        {
          "output_type": "stream",
          "text": [
            "\n"
          ],
          "name": "stdout"
        },
        {
          "output_type": "execute_result",
          "data": {
            "text/plain": [
              "1060767848"
            ]
          },
          "metadata": {},
          "execution_count": 164
        }
      ]
    },
    {
      "cell_type": "code",
      "metadata": {
        "id": "tr0t0DRE8u9W"
      },
      "source": [
        "feat_types"
      ],
      "execution_count": null,
      "outputs": []
    },
    {
      "cell_type": "code",
      "metadata": {
        "colab": {
          "base_uri": "https://localhost:8080/"
        },
        "id": "VTCN4Qharu2n",
        "outputId": "235de804-ba8e-48cb-e7e6-3b8efa55b2d3"
      },
      "source": [
        "# 6.0 Next time:\n",
        "# 6.0 Read dataset again but specify\n",
        "#     column dtypes. \n",
        "#     Columns whose dtypes have not been specified\n",
        "#     will be read by default dtype of 64 bit\n",
        "\n",
        "%%time\n",
        "\n",
        "dfx = pd.read_csv(filepath,\n",
        "                  dtype = feat_types\n",
        "                  )\n"
      ],
      "execution_count": 85,
      "outputs": [
        {
          "output_type": "stream",
          "text": [
            "<string>:2: DtypeWarning: Columns (8,9,10,11,12,43,157,196,214,225,228,229,231,235,238) have mixed types.Specify dtype option on import or set low_memory=False.\n"
          ],
          "name": "stderr"
        },
        {
          "output_type": "stream",
          "text": [
            "CPU times: user 36 s, sys: 4.88 s, total: 40.8 s\n",
            "Wall time: 41 s\n"
          ],
          "name": "stdout"
        }
      ]
    },
    {
      "cell_type": "code",
      "metadata": {
        "colab": {
          "base_uri": "https://localhost:8080/"
        },
        "id": "MrvM_7jjw63J",
        "outputId": "155a6cc4-4f2c-4c60-9111-0d5b1729877d"
      },
      "source": [
        "# 6.1 Checks:\n",
        "dfx.memory_usage().sum()\n",
        "print()\n",
        "dfx.shape"
      ],
      "execution_count": 87,
      "outputs": [
        {
          "output_type": "execute_result",
          "data": {
            "text/plain": [
              "1060767848"
            ]
          },
          "metadata": {},
          "execution_count": 87
        },
        {
          "output_type": "stream",
          "text": [
            "\n"
          ],
          "name": "stdout"
        },
        {
          "output_type": "execute_result",
          "data": {
            "text/plain": [
              "(145231, 1934)"
            ]
          },
          "metadata": {},
          "execution_count": 87
        }
      ]
    },
    {
      "cell_type": "markdown",
      "metadata": {
        "id": "MCniJ4O22X79"
      },
      "source": [
        "### You can save your dictioary to gdrive as follows:\n",
        "Generally 'pickle' package is used to store python objects. We will use pickle here also.\n"
      ]
    },
    {
      "cell_type": "code",
      "metadata": {
        "id": "VDHdnP1m-Rcm"
      },
      "source": [
        "# 7.0 Define functions to save dictionary to a file\n",
        "#      and read from it\n",
        "# Ref StackOverflow\n",
        "#       https://stackoverflow.com/a/19201448/3282777\n",
        "\n",
        "# 7.1 Import needed package\n",
        "import pickle\n",
        "\n",
        "# 7.2 Function to save the dictionary (ie obj)\n",
        "def save_obj(obj, folder, fileToSaveTo ):\n",
        "    with open(folder+'/'+ fileToSaveTo + '.pkl', 'wb') as f:\n",
        "        pickle.dump(obj, f, pickle.HIGHEST_PROTOCOL)\n",
        "\n",
        "\n",
        "# 7.3 Read the dictionary ie stored pickle file\n",
        "def load_obj(folder, pickle_file ):\n",
        "    with open(folder +'/' + pickle_file + '.pkl', 'rb') as f:\n",
        "        return pickle.load(f)"
      ],
      "execution_count": 177,
      "outputs": []
    },
    {
      "cell_type": "code",
      "metadata": {
        "id": "gszj8do-WujN"
      },
      "source": [
        "# 8.0 First create a blank file where we want\n",
        "#      our dictionary containing dtype information\n",
        "#        to be stored\n",
        "\n",
        "# 8.1 The folder and filename\n",
        "folder = \"/gdrive/MyDrive/Colab_data_files/springleaf_marketing\"\n",
        "fileToSaveTo = \"myfile\"\n",
        "\n",
        "# 8.2 Make the folder current folder\n",
        "os.chdir(folder)\n",
        "\n",
        "# 8.3 Create a file of '0 byte' size\n",
        "!touch myfile.pkl"
      ],
      "execution_count": 179,
      "outputs": []
    },
    {
      "cell_type": "code",
      "metadata": {
        "id": "Dqm1Hy8GYkoK"
      },
      "source": [
        "# 8.4 Save dictioary to file\n",
        "save_obj(feat_types, folder, fileToSaveTo)"
      ],
      "execution_count": 176,
      "outputs": []
    },
    {
      "cell_type": "code",
      "metadata": {
        "id": "tpRKTDlH-h1j"
      },
      "source": [
        "# 9.0 Retireve the dictioary back\n",
        "#     For use in reading dataset\n",
        "load_obj(folder, \"myfile\")"
      ],
      "execution_count": null,
      "outputs": []
    },
    {
      "cell_type": "code",
      "metadata": {
        "id": "KbfQ9QsK-7DI"
      },
      "source": [
        "############# I am done ##############"
      ],
      "execution_count": null,
      "outputs": []
    }
  ]
}