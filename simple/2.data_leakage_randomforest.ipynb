{
  "cells": [
    {
      "cell_type": "markdown",
      "metadata": {
        "id": "view-in-github",
        "colab_type": "text"
      },
      "source": [
        "<a href=\"https://colab.research.google.com/github/harnalashok/classification/blob/main/2.data_leakage_randomforest.ipynb\" target=\"_parent\"><img src=\"https://colab.research.google.com/assets/colab-badge.svg\" alt=\"Open In Colab\"/></a>"
      ]
    },
    {
      "cell_type": "code",
      "source": [
        "# Last amended: 30th May, 2023\n",
        "# Ref: https://www.kaggle.com/code/alexisbcook/data-leakage/tutorial\n",
        "# Dataset: Credit card data"
      ],
      "metadata": {
        "id": "xrWricGc3J0e"
      },
      "id": "xrWricGc3J0e",
      "execution_count": null,
      "outputs": []
    },
    {
      "cell_type": "markdown",
      "id": "85ce74fe",
      "metadata": {
        "papermill": {
          "duration": 0.004319,
          "end_time": "2023-04-21T13:41:09.143080",
          "exception": false,
          "start_time": "2023-04-21T13:41:09.138761",
          "status": "completed"
        },
        "tags": [],
        "id": "85ce74fe"
      },
      "source": [
        "In this tutorial, you will learn what **data leakage** is and how to prevent it. If you don't know how to prevent it, leakage will come up frequently, and it will ruin your models in subtle and dangerous ways.  So, this is one of the most important concepts for practicing data scientists.\n",
        "\n",
        "\n",
        "# Introduction\n",
        "\n",
        "**Data leakage** (or **leakage**) happens when your training data contains information about the target, but similar data will not be available when the model is used for prediction. This leads to high performance on the training set (and possibly even the validation data), but the model will perform poorly in production.\n",
        "\n",
        "In other words, leakage causes a model to look accurate until you start making decisions with the model, and then the model becomes very inaccurate. \n",
        "\n",
        "There are two main types of leakage: **target leakage** and **train-test contamination.**\n",
        "\n",
        "### Target leakage\n",
        "\n",
        "**Target leakage** occurs when your predictors include data that will not be available at the time you make predictions. It is important to think about target leakage in terms of the _timing or chronological order_ that data becomes available, not merely whether a feature helps make good predictions.\n",
        "\n",
        "An example will be helpful. Imagine you want to predict who will get sick with pneumonia. The top few rows of your raw data look like this:\n",
        "\n",
        "| got_pneumonia | age | weight |  male | took_antibiotic_medicine | ... |\n",
        "|:-------------:|:---:|:------:|:-----:|:------------------------:|-----|\n",
        "|     False     |  65 |   100  | False |           False          | ... |\n",
        "|     False     |  72 |   130  |  True |           False          | ... |\n",
        "|      True     |  58 |   100  | False |           True           | ... |\n",
        "\n",
        "People take antibiotic medicines *after* getting pneumonia in order to recover. The raw data shows a strong relationship between those columns, but `took_antibiotic_medicine` is frequently changed _after_ the value for `got_pneumonia` is determined. This is target leakage.\n",
        "\n",
        "The model would see that anyone who has a value of `False` for `took_antibiotic_medicine` didn't have pneumonia. Since validation data comes from the same source as training data, the pattern will repeat itself in validation, and the model will have great validation (or cross-validation) scores. \n",
        "\n",
        "But the model will be very inaccurate when subsequently deployed in the real world, because even patients who will get pneumonia won't have received antibiotics yet when we need to make predictions about their future health.\n",
        "\n",
        "To prevent this type of data leakage, any variable updated (or created) after the target value is realized should be excluded. \n",
        "\n",
        "![tut7_leakydata](https://storage.googleapis.com/kaggle-media/learn/images/y7hfTYe.png)"
      ]
    },
    {
      "cell_type": "markdown",
      "id": "9a8dcd60",
      "metadata": {
        "papermill": {
          "duration": 0.002891,
          "end_time": "2023-04-21T13:41:09.149737",
          "exception": false,
          "start_time": "2023-04-21T13:41:09.146846",
          "status": "completed"
        },
        "tags": [],
        "id": "9a8dcd60"
      },
      "source": [
        "### Train-Test Contamination\n",
        "\n",
        "A different type of leak occurs when you aren't careful to distinguish training data from validation data.  \n",
        "\n",
        "Recall that validation is meant to be a measure of how the model does on data that it hasn't considered before.  You can corrupt this process in subtle ways if the validation data affects the preprocessing behavior.  This is sometimes called **train-test contamination**. \n",
        "\n",
        "For example, imagine you run preprocessing (like fitting an imputer for missing values) before calling [`train_test_split()`](https://scikit-learn.org/stable/modules/generated/sklearn.model_selection.train_test_split.html).  The end result?  Your model may get good validation scores, giving you great confidence in it, but perform poorly when you deploy it to make decisions.\n",
        "\n",
        "After all, you incorporated data from the validation or test data into how you make predictions, so the may do well on that particular data even if it can't generalize to new data. This problem becomes even more subtle (and more dangerous) when you do more complex feature engineering.\n",
        "\n",
        "If your validation is based on a simple train-test split, exclude the validation data from any type of *fitting*, including the fitting of preprocessing steps.  This is easier if you use scikit-learn pipelines.  When using cross-validation, it's even more critical that you do your preprocessing inside the pipeline!\n",
        "\n",
        "# Example\n",
        "\n",
        "In this example, you will learn one way to detect and remove target leakage.\n",
        "\n",
        "We will use a dataset about credit card applications and skip the basic data set-up code.  The end result is that information about each credit card application is stored in a DataFrame `X`.  We'll use it to predict which applications were accepted in a Series `y`."
      ]
    },
    {
      "cell_type": "code",
      "source": [
        "# 1.0 Call libraries\n",
        "import pandas as pd\n",
        "from pathlib import Path\n",
        "\n",
        "# 1.0.1\n",
        "from sklearn.pipeline import make_pipeline\n",
        "from sklearn.ensemble import RandomForestClassifier\n",
        "from sklearn.model_selection import cross_val_score"
      ],
      "metadata": {
        "id": "1cBTLxAR1tQi"
      },
      "id": "1cBTLxAR1tQi",
      "execution_count": 2,
      "outputs": []
    },
    {
      "cell_type": "code",
      "source": [
        "# 1.0.2\n",
        "from google.colab import drive\n",
        "drive.mount('/gdrive')"
      ],
      "metadata": {
        "colab": {
          "base_uri": "https://localhost:8080/"
        },
        "id": "V2ynSbxM16Rj",
        "outputId": "fe6f093b-4a55-4c56-ed1b-d948206e02f7"
      },
      "id": "V2ynSbxM16Rj",
      "execution_count": 3,
      "outputs": [
        {
          "output_type": "stream",
          "name": "stdout",
          "text": [
            "Mounted at /gdrive\n"
          ]
        }
      ]
    },
    {
      "cell_type": "code",
      "source": [
        "# 1.0.3 Display from a cell outputs of multiple commands:\n",
        "\n",
        "from IPython.core.interactiveshell import InteractiveShell\n",
        "InteractiveShell.ast_node_interactivity = \"all\"\n"
      ],
      "metadata": {
        "id": "Ru9lx489j9Fh"
      },
      "id": "Ru9lx489j9Fh",
      "execution_count": 8,
      "outputs": []
    },
    {
      "cell_type": "code",
      "source": [
        "# 1.0.4 Where is data file?\n",
        "pathToFolder= \"/gdrive/MyDrive/Colab_data_files/aer_creditcard\""
      ],
      "metadata": {
        "id": "6wbL1drm2f4Z"
      },
      "id": "6wbL1drm2f4Z",
      "execution_count": 4,
      "outputs": []
    },
    {
      "cell_type": "code",
      "source": [
        "# 1.0.5 Complete file path:\n",
        "\n",
        "path = Path(pathToFolder) / \"aer_credit_card.csv\""
      ],
      "metadata": {
        "id": "XUg5ty7d2jfl"
      },
      "id": "XUg5ty7d2jfl",
      "execution_count": 5,
      "outputs": []
    },
    {
      "cell_type": "code",
      "source": [
        "# 1.1 Read data:\n",
        "\n",
        "data = pd.read_csv(path, true_values = ['yes'], false_values = ['no'])"
      ],
      "metadata": {
        "id": "uP0O8Hl82vnc"
      },
      "id": "uP0O8Hl82vnc",
      "execution_count": 6,
      "outputs": []
    },
    {
      "cell_type": "code",
      "source": [
        "# 1.2\n",
        "data.shape  # (1319, 12)\n",
        "data.head()"
      ],
      "metadata": {
        "colab": {
          "base_uri": "https://localhost:8080/",
          "height": 224
        },
        "id": "lrgM8733jrQe",
        "outputId": "a2e55d21-0ad1-40f9-a2c0-caa1f49151d6"
      },
      "id": "lrgM8733jrQe",
      "execution_count": 11,
      "outputs": [
        {
          "output_type": "execute_result",
          "data": {
            "text/plain": [
              "(1319, 12)"
            ]
          },
          "metadata": {},
          "execution_count": 11
        },
        {
          "output_type": "execute_result",
          "data": {
            "text/plain": [
              "   card  reports       age  income     share  expenditure  owner  selfemp  \\\n",
              "0  True        0  37.66667  4.5200  0.033270   124.983300   True    False   \n",
              "1  True        0  33.25000  2.4200  0.005217     9.854167  False    False   \n",
              "2  True        0  33.66667  4.5000  0.004156    15.000000   True    False   \n",
              "3  True        0  30.50000  2.5400  0.065214   137.869200  False    False   \n",
              "4  True        0  32.16667  9.7867  0.067051   546.503300   True    False   \n",
              "\n",
              "   dependents  months  majorcards  active  \n",
              "0           3      54           1      12  \n",
              "1           3      34           1      13  \n",
              "2           4      58           1       5  \n",
              "3           0      25           1       7  \n",
              "4           2      64           1       5  "
            ],
            "text/html": [
              "\n",
              "  <div id=\"df-42456ac6-2c69-4c72-80f3-2f6e21bf5225\">\n",
              "    <div class=\"colab-df-container\">\n",
              "      <div>\n",
              "<style scoped>\n",
              "    .dataframe tbody tr th:only-of-type {\n",
              "        vertical-align: middle;\n",
              "    }\n",
              "\n",
              "    .dataframe tbody tr th {\n",
              "        vertical-align: top;\n",
              "    }\n",
              "\n",
              "    .dataframe thead th {\n",
              "        text-align: right;\n",
              "    }\n",
              "</style>\n",
              "<table border=\"1\" class=\"dataframe\">\n",
              "  <thead>\n",
              "    <tr style=\"text-align: right;\">\n",
              "      <th></th>\n",
              "      <th>card</th>\n",
              "      <th>reports</th>\n",
              "      <th>age</th>\n",
              "      <th>income</th>\n",
              "      <th>share</th>\n",
              "      <th>expenditure</th>\n",
              "      <th>owner</th>\n",
              "      <th>selfemp</th>\n",
              "      <th>dependents</th>\n",
              "      <th>months</th>\n",
              "      <th>majorcards</th>\n",
              "      <th>active</th>\n",
              "    </tr>\n",
              "  </thead>\n",
              "  <tbody>\n",
              "    <tr>\n",
              "      <th>0</th>\n",
              "      <td>True</td>\n",
              "      <td>0</td>\n",
              "      <td>37.66667</td>\n",
              "      <td>4.5200</td>\n",
              "      <td>0.033270</td>\n",
              "      <td>124.983300</td>\n",
              "      <td>True</td>\n",
              "      <td>False</td>\n",
              "      <td>3</td>\n",
              "      <td>54</td>\n",
              "      <td>1</td>\n",
              "      <td>12</td>\n",
              "    </tr>\n",
              "    <tr>\n",
              "      <th>1</th>\n",
              "      <td>True</td>\n",
              "      <td>0</td>\n",
              "      <td>33.25000</td>\n",
              "      <td>2.4200</td>\n",
              "      <td>0.005217</td>\n",
              "      <td>9.854167</td>\n",
              "      <td>False</td>\n",
              "      <td>False</td>\n",
              "      <td>3</td>\n",
              "      <td>34</td>\n",
              "      <td>1</td>\n",
              "      <td>13</td>\n",
              "    </tr>\n",
              "    <tr>\n",
              "      <th>2</th>\n",
              "      <td>True</td>\n",
              "      <td>0</td>\n",
              "      <td>33.66667</td>\n",
              "      <td>4.5000</td>\n",
              "      <td>0.004156</td>\n",
              "      <td>15.000000</td>\n",
              "      <td>True</td>\n",
              "      <td>False</td>\n",
              "      <td>4</td>\n",
              "      <td>58</td>\n",
              "      <td>1</td>\n",
              "      <td>5</td>\n",
              "    </tr>\n",
              "    <tr>\n",
              "      <th>3</th>\n",
              "      <td>True</td>\n",
              "      <td>0</td>\n",
              "      <td>30.50000</td>\n",
              "      <td>2.5400</td>\n",
              "      <td>0.065214</td>\n",
              "      <td>137.869200</td>\n",
              "      <td>False</td>\n",
              "      <td>False</td>\n",
              "      <td>0</td>\n",
              "      <td>25</td>\n",
              "      <td>1</td>\n",
              "      <td>7</td>\n",
              "    </tr>\n",
              "    <tr>\n",
              "      <th>4</th>\n",
              "      <td>True</td>\n",
              "      <td>0</td>\n",
              "      <td>32.16667</td>\n",
              "      <td>9.7867</td>\n",
              "      <td>0.067051</td>\n",
              "      <td>546.503300</td>\n",
              "      <td>True</td>\n",
              "      <td>False</td>\n",
              "      <td>2</td>\n",
              "      <td>64</td>\n",
              "      <td>1</td>\n",
              "      <td>5</td>\n",
              "    </tr>\n",
              "  </tbody>\n",
              "</table>\n",
              "</div>\n",
              "      <button class=\"colab-df-convert\" onclick=\"convertToInteractive('df-42456ac6-2c69-4c72-80f3-2f6e21bf5225')\"\n",
              "              title=\"Convert this dataframe to an interactive table.\"\n",
              "              style=\"display:none;\">\n",
              "        \n",
              "  <svg xmlns=\"http://www.w3.org/2000/svg\" height=\"24px\"viewBox=\"0 0 24 24\"\n",
              "       width=\"24px\">\n",
              "    <path d=\"M0 0h24v24H0V0z\" fill=\"none\"/>\n",
              "    <path d=\"M18.56 5.44l.94 2.06.94-2.06 2.06-.94-2.06-.94-.94-2.06-.94 2.06-2.06.94zm-11 1L8.5 8.5l.94-2.06 2.06-.94-2.06-.94L8.5 2.5l-.94 2.06-2.06.94zm10 10l.94 2.06.94-2.06 2.06-.94-2.06-.94-.94-2.06-.94 2.06-2.06.94z\"/><path d=\"M17.41 7.96l-1.37-1.37c-.4-.4-.92-.59-1.43-.59-.52 0-1.04.2-1.43.59L10.3 9.45l-7.72 7.72c-.78.78-.78 2.05 0 2.83L4 21.41c.39.39.9.59 1.41.59.51 0 1.02-.2 1.41-.59l7.78-7.78 2.81-2.81c.8-.78.8-2.07 0-2.86zM5.41 20L4 18.59l7.72-7.72 1.47 1.35L5.41 20z\"/>\n",
              "  </svg>\n",
              "      </button>\n",
              "      \n",
              "  <style>\n",
              "    .colab-df-container {\n",
              "      display:flex;\n",
              "      flex-wrap:wrap;\n",
              "      gap: 12px;\n",
              "    }\n",
              "\n",
              "    .colab-df-convert {\n",
              "      background-color: #E8F0FE;\n",
              "      border: none;\n",
              "      border-radius: 50%;\n",
              "      cursor: pointer;\n",
              "      display: none;\n",
              "      fill: #1967D2;\n",
              "      height: 32px;\n",
              "      padding: 0 0 0 0;\n",
              "      width: 32px;\n",
              "    }\n",
              "\n",
              "    .colab-df-convert:hover {\n",
              "      background-color: #E2EBFA;\n",
              "      box-shadow: 0px 1px 2px rgba(60, 64, 67, 0.3), 0px 1px 3px 1px rgba(60, 64, 67, 0.15);\n",
              "      fill: #174EA6;\n",
              "    }\n",
              "\n",
              "    [theme=dark] .colab-df-convert {\n",
              "      background-color: #3B4455;\n",
              "      fill: #D2E3FC;\n",
              "    }\n",
              "\n",
              "    [theme=dark] .colab-df-convert:hover {\n",
              "      background-color: #434B5C;\n",
              "      box-shadow: 0px 1px 3px 1px rgba(0, 0, 0, 0.15);\n",
              "      filter: drop-shadow(0px 1px 2px rgba(0, 0, 0, 0.3));\n",
              "      fill: #FFFFFF;\n",
              "    }\n",
              "  </style>\n",
              "\n",
              "      <script>\n",
              "        const buttonEl =\n",
              "          document.querySelector('#df-42456ac6-2c69-4c72-80f3-2f6e21bf5225 button.colab-df-convert');\n",
              "        buttonEl.style.display =\n",
              "          google.colab.kernel.accessAllowed ? 'block' : 'none';\n",
              "\n",
              "        async function convertToInteractive(key) {\n",
              "          const element = document.querySelector('#df-42456ac6-2c69-4c72-80f3-2f6e21bf5225');\n",
              "          const dataTable =\n",
              "            await google.colab.kernel.invokeFunction('convertToInteractive',\n",
              "                                                     [key], {});\n",
              "          if (!dataTable) return;\n",
              "\n",
              "          const docLinkHtml = 'Like what you see? Visit the ' +\n",
              "            '<a target=\"_blank\" href=https://colab.research.google.com/notebooks/data_table.ipynb>data table notebook</a>'\n",
              "            + ' to learn more about interactive tables.';\n",
              "          element.innerHTML = '';\n",
              "          dataTable['output_type'] = 'display_data';\n",
              "          await google.colab.output.renderOutput(dataTable, element);\n",
              "          const docLink = document.createElement('div');\n",
              "          docLink.innerHTML = docLinkHtml;\n",
              "          element.appendChild(docLink);\n",
              "        }\n",
              "      </script>\n",
              "    </div>\n",
              "  </div>\n",
              "  "
            ]
          },
          "metadata": {},
          "execution_count": 11
        }
      ]
    },
    {
      "cell_type": "code",
      "source": [
        "# 1.3 Get target\n",
        "y = data.card\n"
      ],
      "metadata": {
        "id": "xT4wAcwh24Tk"
      },
      "id": "xT4wAcwh24Tk",
      "execution_count": 12,
      "outputs": []
    },
    {
      "cell_type": "code",
      "source": [
        "# 1.4 Select predictors\n",
        "X = data.drop(['card'], axis=1)"
      ],
      "metadata": {
        "id": "T4f-EoHn26Kg"
      },
      "id": "T4f-EoHn26Kg",
      "execution_count": 13,
      "outputs": []
    },
    {
      "cell_type": "markdown",
      "id": "6b090c1a",
      "metadata": {
        "papermill": {
          "duration": 0.003321,
          "end_time": "2023-04-21T13:41:09.245941",
          "exception": false,
          "start_time": "2023-04-21T13:41:09.242620",
          "status": "completed"
        },
        "tags": [],
        "id": "6b090c1a"
      },
      "source": [
        "Since this is a small dataset, we will use cross-validation to ensure accurate measures of model quality."
      ]
    },
    {
      "cell_type": "code",
      "execution_count": 14,
      "id": "3d6e5e0b",
      "metadata": {
        "execution": {
          "iopub.execute_input": "2023-04-21T13:41:09.255437Z",
          "iopub.status.busy": "2023-04-21T13:41:09.254625Z",
          "iopub.status.idle": "2023-04-21T13:41:11.898713Z",
          "shell.execute_reply": "2023-04-21T13:41:11.897225Z"
        },
        "papermill": {
          "duration": 2.651865,
          "end_time": "2023-04-21T13:41:11.901289",
          "exception": false,
          "start_time": "2023-04-21T13:41:09.249424",
          "status": "completed"
        },
        "tags": [],
        "id": "3d6e5e0b"
      },
      "outputs": [],
      "source": [
        "# 2.0 Since there is no preprocessing, we don't need a pipeline (used anyway as best practice!):\n",
        "\n",
        "# 2.0.1\n",
        "my_pipeline = make_pipeline(RandomForestClassifier(n_estimators=100))\n",
        "\n"
      ]
    },
    {
      "cell_type": "code",
      "source": [
        "# 2.1\n",
        "cv_scores = cross_val_score(my_pipeline, X, y, \n",
        "                            cv=5,\n",
        "                            scoring='accuracy')\n",
        "\n",
        "print(\"Cross-validation accuracy: %f\" % cv_scores.mean())"
      ],
      "metadata": {
        "colab": {
          "base_uri": "https://localhost:8080/"
        },
        "id": "6l3Eeqw-kZRb",
        "outputId": "d2f42bc7-8c17-4dab-e29b-e76ca2b4ae7a"
      },
      "id": "6l3Eeqw-kZRb",
      "execution_count": 15,
      "outputs": [
        {
          "output_type": "stream",
          "name": "stdout",
          "text": [
            "Cross-validation accuracy: 0.979534\n"
          ]
        }
      ]
    },
    {
      "cell_type": "markdown",
      "id": "b5084ef9",
      "metadata": {
        "papermill": {
          "duration": 0.003462,
          "end_time": "2023-04-21T13:41:11.908716",
          "exception": false,
          "start_time": "2023-04-21T13:41:11.905254",
          "status": "completed"
        },
        "tags": [],
        "id": "b5084ef9"
      },
      "source": [
        "With experience, you'll find that it's very rare to find models that are accurate 98% of the time.  It happens, but it's uncommon enough that we should inspect the data more closely for target leakage.\n",
        "\n",
        "Here is a summary of the data, which you can also find under the data tab:\n",
        "\n",
        " - **`card`**: 1 if credit card application accepted, 0 if not\n",
        " - **`reports`**: Number of major derogatory reports\n",
        " - **`age`**: Age n years plus twelfths of a year\n",
        " - **`income`**: Yearly income (divided by 10,000)\n",
        " - **`share`**: Ratio of monthly credit card expenditure to yearly income\n",
        " - **`expenditure`**: Average monthly credit card expenditure\n",
        " - **`owner`**: 1 if owns home, 0 if rents\n",
        " - **`selfempl`**: 1 if self-employed, 0 if not\n",
        " - **`dependents`**: 1 + number of dependents\n",
        " - **`months`**: Months living at current address\n",
        " - **`majorcards`**: Number of major credit cards held\n",
        " - **`active`**: Number of active credit accounts\n",
        "\n",
        "A few variables look suspicious.  For example, does **`expenditure`** mean expenditure on this card or on cards used before applying?\n",
        "\n",
        "At this point, basic data comparisons can be very helpful:"
      ]
    },
    {
      "cell_type": "code",
      "execution_count": 17,
      "id": "b62a71f8",
      "metadata": {
        "execution": {
          "iopub.execute_input": "2023-04-21T13:41:11.919231Z",
          "iopub.status.busy": "2023-04-21T13:41:11.918376Z",
          "iopub.status.idle": "2023-04-21T13:41:11.927203Z",
          "shell.execute_reply": "2023-04-21T13:41:11.926067Z"
        },
        "papermill": {
          "duration": 0.017035,
          "end_time": "2023-04-21T13:41:11.929719",
          "exception": false,
          "start_time": "2023-04-21T13:41:11.912684",
          "status": "completed"
        },
        "tags": [],
        "id": "b62a71f8"
      },
      "outputs": [],
      "source": [
        "# 3.0\n",
        "expenditures_cardholders = X.expenditure[y]\n",
        "expenditures_noncardholders = X.expenditure[~y]\n"
      ]
    },
    {
      "cell_type": "code",
      "source": [
        "expenditures_cardholders\n",
        "expenditures_noncardholders"
      ],
      "metadata": {
        "colab": {
          "base_uri": "https://localhost:8080/"
        },
        "id": "lR9pUKnEodGZ",
        "outputId": "cb5cff48-65cd-42ac-b7e7-7a4483bc865c"
      },
      "id": "lR9pUKnEodGZ",
      "execution_count": 18,
      "outputs": [
        {
          "output_type": "execute_result",
          "data": {
            "text/plain": [
              "0       124.983300\n",
              "1         9.854167\n",
              "2        15.000000\n",
              "3       137.869200\n",
              "4       546.503300\n",
              "           ...    \n",
              "1310      4.583333\n",
              "1314      7.333333\n",
              "1316    101.298300\n",
              "1317     26.996670\n",
              "1318    344.157500\n",
              "Name: expenditure, Length: 1023, dtype: float64"
            ]
          },
          "metadata": {},
          "execution_count": 18
        },
        {
          "output_type": "execute_result",
          "data": {
            "text/plain": [
              "11      0.0\n",
              "12      0.0\n",
              "17      0.0\n",
              "19      0.0\n",
              "21      0.0\n",
              "       ... \n",
              "1301    0.0\n",
              "1311    0.0\n",
              "1312    0.0\n",
              "1313    0.0\n",
              "1315    0.0\n",
              "Name: expenditure, Length: 296, dtype: float64"
            ]
          },
          "metadata": {},
          "execution_count": 18
        }
      ]
    },
    {
      "cell_type": "code",
      "source": [
        "\n",
        "print('Fraction of those who did not receive a card and had no expenditures: %.2f' \\\n",
        "      %((expenditures_noncardholders == 0).mean()))\n"
      ],
      "metadata": {
        "colab": {
          "base_uri": "https://localhost:8080/"
        },
        "id": "hyDNAzNJoa1v",
        "outputId": "53688695-18b7-4b67-da74-ad1b6bbeac2f"
      },
      "id": "hyDNAzNJoa1v",
      "execution_count": 19,
      "outputs": [
        {
          "output_type": "stream",
          "name": "stdout",
          "text": [
            "Fraction of those who did not receive a card and had no expenditures: 1.00\n"
          ]
        }
      ]
    },
    {
      "cell_type": "code",
      "source": [
        "print('Fraction of those who received a card and had no expenditures: %.2f' \\\n",
        "      %(( expenditures_cardholders == 0).mean()))"
      ],
      "metadata": {
        "colab": {
          "base_uri": "https://localhost:8080/"
        },
        "id": "23h1CQgdonua",
        "outputId": "5b772fed-13fa-4698-d4fa-7dbbb3303141"
      },
      "id": "23h1CQgdonua",
      "execution_count": 20,
      "outputs": [
        {
          "output_type": "stream",
          "name": "stdout",
          "text": [
            "Fraction of those who received a card and had no expenditures: 0.02\n"
          ]
        }
      ]
    },
    {
      "cell_type": "markdown",
      "id": "703cb4e5",
      "metadata": {
        "papermill": {
          "duration": 0.003569,
          "end_time": "2023-04-21T13:41:11.937161",
          "exception": false,
          "start_time": "2023-04-21T13:41:11.933592",
          "status": "completed"
        },
        "tags": [],
        "id": "703cb4e5"
      },
      "source": [
        "As shown above, everyone who did not receive a card had no expenditures, while only 2% of those who received a card had no expenditures. It's not surprising that our model appeared to have a high accuracy. But this also seems to be a case of target leakage, where expenditures probably means *expenditures on the card they applied for*. \n",
        "\n"
      ]
    },
    {
      "cell_type": "markdown",
      "source": [
        "Since **`share`** is partially determined by **`expenditure`**, it should be excluded too.  The variables **`active`** and **`majorcards`** are a little less clear, but from the description, they sound concerning.  In most situations, it's better to be safe than sorry if you can't track down the people who created the data to find out more."
      ],
      "metadata": {
        "id": "RM6wywwAo_9Z"
      },
      "id": "RM6wywwAo_9Z"
    },
    {
      "cell_type": "markdown",
      "source": [
        "We would run a model without target leakage as follows:"
      ],
      "metadata": {
        "id": "GZSeoSNopE04"
      },
      "id": "GZSeoSNopE04"
    },
    {
      "cell_type": "code",
      "execution_count": 22,
      "id": "b13848ba",
      "metadata": {
        "execution": {
          "iopub.execute_input": "2023-04-21T13:41:11.947082Z",
          "iopub.status.busy": "2023-04-21T13:41:11.946303Z",
          "iopub.status.idle": "2023-04-21T13:41:13.224247Z",
          "shell.execute_reply": "2023-04-21T13:41:13.222717Z"
        },
        "papermill": {
          "duration": 1.286138,
          "end_time": "2023-04-21T13:41:13.227119",
          "exception": false,
          "start_time": "2023-04-21T13:41:11.940981",
          "status": "completed"
        },
        "tags": [],
        "colab": {
          "base_uri": "https://localhost:8080/"
        },
        "id": "b13848ba",
        "outputId": "a9c75eda-53d9-46fc-f33a-a4b8abf306dd"
      },
      "outputs": [
        {
          "output_type": "stream",
          "name": "stdout",
          "text": [
            "Cross-val accuracy: 0.831689\n"
          ]
        }
      ],
      "source": [
        "# Drop leaky predictors from dataset\n",
        "potential_leaks = ['expenditure', 'share', 'active', 'majorcards']\n",
        "X2 = X.drop(potential_leaks, axis=1)\n",
        "\n",
        "# Evaluate the model with leaky predictors removed\n",
        "cv_scores = cross_val_score(my_pipeline, X2, y, \n",
        "                            cv=5,\n",
        "                            scoring='accuracy')\n",
        "\n",
        "print(\"Cross-val accuracy: %f\" % cv_scores.mean())"
      ]
    },
    {
      "cell_type": "markdown",
      "id": "24958cc6",
      "metadata": {
        "papermill": {
          "duration": 0.00366,
          "end_time": "2023-04-21T13:41:13.234793",
          "exception": false,
          "start_time": "2023-04-21T13:41:13.231133",
          "status": "completed"
        },
        "tags": [],
        "id": "24958cc6"
      },
      "source": [
        "This accuracy is quite a bit lower, which might be disappointing.  However, we can expect it to be right about 80% of the time when used on new applications, whereas the leaky model would likely do much worse than that (in spite of its higher apparent score in cross-validation).\n",
        "\n",
        "# Conclusion\n",
        "Data leakage can be multi-million dollar mistake in many data science applications.  Careful separation of training and validation data can prevent train-test contamination, and pipelines can help implement this separation.  Likewise, a combination of caution, common sense, and data exploration can help identify target leakage."
      ]
    }
  ],
  "metadata": {
    "kernelspec": {
      "display_name": "Python 3",
      "language": "python",
      "name": "python3"
    },
    "language_info": {
      "codemirror_mode": {
        "name": "ipython",
        "version": 3
      },
      "file_extension": ".py",
      "mimetype": "text/x-python",
      "name": "python",
      "nbconvert_exporter": "python",
      "pygments_lexer": "ipython3",
      "version": "3.7.12"
    },
    "papermill": {
      "default_parameters": {},
      "duration": 16.573776,
      "end_time": "2023-04-21T13:41:14.073657",
      "environment_variables": {},
      "exception": null,
      "input_path": "__notebook__.ipynb",
      "output_path": "__notebook__.ipynb",
      "parameters": {},
      "start_time": "2023-04-21T13:40:57.499881",
      "version": "2.4.0"
    },
    "colab": {
      "provenance": [],
      "include_colab_link": true
    }
  },
  "nbformat": 4,
  "nbformat_minor": 5
}