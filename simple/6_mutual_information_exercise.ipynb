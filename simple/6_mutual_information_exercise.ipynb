{
  "cells": [
    {
      "cell_type": "markdown",
      "metadata": {
        "id": "view-in-github",
        "colab_type": "text"
      },
      "source": [
        "<a href=\"https://colab.research.google.com/github/harnalashok/classification/blob/main/6_mutual_information_exercise.ipynb\" target=\"_parent\"><img src=\"https://colab.research.google.com/assets/colab-badge.svg\" alt=\"Open In Colab\"/></a>"
      ]
    },
    {
      "cell_type": "code",
      "source": [
        "# Last amended: 1st June, 2023\n",
        "# Ref: https://www.kaggle.com/code/ryanholbrook/mutual-information\n",
        "# Data Source: https://www.kaggle.com/datasets/toramky/automobile-dataset\n",
        "#             Student alcohol consumption"
      ],
      "metadata": {
        "id": "UEaQ_3NBwb2n"
      },
      "id": "UEaQ_3NBwb2n",
      "execution_count": null,
      "outputs": []
    },
    {
      "cell_type": "markdown",
      "id": "d84267b4",
      "metadata": {
        "papermill": {
          "duration": 0.004729,
          "end_time": "2023-04-20T18:11:02.112850",
          "exception": false,
          "start_time": "2023-04-20T18:11:02.108121",
          "status": "completed"
        },
        "tags": [],
        "id": "d84267b4"
      },
      "source": [
        "# Introduction #\n",
        "\n",
        "First encountering a new dataset can sometimes feel overwhelming. You might be presented with hundreds or thousands of features without even a description to go by. Where do you even begin?\n",
        "\n",
        "A great first step is to construct a ranking with a **feature utility metric**, a function measuring associations between a feature and the target. Then you can choose a smaller set of the most useful features to develop initially and have more confidence that your time will be well spent.\n",
        "\n",
        "The metric we'll use is called \"mutual information\". Mutual information is a lot like correlation in that it measures a relationship between two quantities. The advantage of mutual information is that it can detect *any* kind of relationship, while correlation only detects *linear* relationships.\n",
        "\n",
        "Mutual information is a great general-purpose metric and especially useful at the start of feature development when you might not know what model you'd like to use yet. It is:\n",
        "- easy to use and interpret,\n",
        "- computationally efficient,\n",
        "- theoretically well-founded,\n",
        "- resistant to overfitting, and,\n",
        "- able to detect any kind of relationship\n",
        "\n",
        "# Mutual Information and What it Measures #\n",
        "\n",
        "Mutual information describes relationships in terms of *uncertainty*. The **mutual information** (MI) between two quantities is a measure of the extent to which knowledge of one quantity reduces uncertainty about the other. If you knew the value of a feature, how much more confident would you be about the target?\n",
        "\n",
        "Here's an example from the *Ames Housing* data. The figure shows the relationship between the exterior quality of a house and the price it sold for. Each point represents a house.\n",
        "\n",
        "<figure style=\"padding: 1em;\">\n",
        "<img src=\"https://storage.googleapis.com/kaggle-media/learn/images/X12ARUK.png\" width=400, alt=\"Four categories of ExterQual: Fair, Typical, Good, Excellent. A scatter plot of SalePrice within each category.\">\n",
        "<figcaption style=\"textalign: center; font-style: italic\"><center>Knowing the exterior quality of a house reduces uncertainty about its sale price.\n",
        "</center></figcaption>\n",
        "</figure>\n",
        "\n",
        "From the figure, we can see that knowing the value of `ExterQual` should make you more certain about the corresponding `SalePrice` -- each category of `ExterQual` tends to concentrate `SalePrice` to within a certain range. The mutual information that `ExterQual` has with `SalePrice` is the average reduction of uncertainty in `SalePrice` taken over the four values of `ExterQual`. Since `Fair` occurs less often than `Typical`, for instance, `Fair` gets less weight in the MI score.\n",
        "\n",
        "(Technical note: What we're calling uncertainty is measured using a quantity from information theory known as \"entropy\". The entropy of a variable means roughly: \"how many yes-or-no questions you would need to describe an occurance of that variable, on average.\" The more questions you have to ask, the more uncertain you must be about the variable. Mutual information is how many questions you expect the feature to answer about the target.)\n",
        "\n",
        "# Interpreting Mutual Information Scores #\n",
        "\n",
        "The least possible mutual information between quantities is 0.0. When MI is zero, the quantities are independent: neither can tell you anything about the other. Conversely, in theory there's no upper bound to what MI can be. In practice though values above 2.0 or so are uncommon. (Mutual information is a logarithmic quantity, so it increases very slowly.)\n",
        "\n",
        "The next figure will give you an idea of how MI values correspond to the kind and degree of association a feature has with the target.\n",
        "\n",
        "<figure style=\"padding: 1em;\">\n",
        "<img src=\"https://storage.googleapis.com/kaggle-media/learn/images/Dt75E1f.png\" width=800, alt=\"\">\n",
        "<figcaption style=\"textalign: center; font-style: italic\"><center><strong>Left:</strong> Mutual information increases as the dependence between feature and target becomes tighter. <strong>Right:</strong> Mutual information can capture any kind of association (not just linear, like correlation.)\n",
        "</center></figcaption>\n",
        "</figure>\n",
        "In the figure on the right there are four features. All four features are continuous and vary in a sinusoidal manner with respect to target. The feature that varies most, it has the least MI and the feature that varies linearly has the highest MI. In the left figure on the right, all target values, on an average, increase as feature values increases. But for some features (light brown), variations around mean is large and for some features (dark brown) variation around mean is small. Features with least variations have highest MI.   \n",
        "\n",
        "Here are some things to remember when applying mutual information:\n",
        "- MI can help you to understand the *relative potential* of a feature as a predictor of the target, considered by itself.\n",
        "- It's possible for a feature to be very informative when interacting with other features, but not so informative all alone. MI *can't detect interactions* between features. It is a **univariate** metric.\n",
        "- The *actual* usefulness of a feature *depends on the model you use it with*. A feature is only useful to the extent that its relationship with the target is one your model can learn. Just because a feature has a high MI score doesn't mean your model will be able to do anything with that information. You may need to transform the feature first to expose the association.\n",
        "\n"
      ]
    },
    {
      "cell_type": "markdown",
      "source": [
        "# Example - Student Alcohol consumption"
      ],
      "metadata": {
        "id": "Y9r8P7xs3XL4"
      },
      "id": "Y9r8P7xs3XL4"
    },
    {
      "cell_type": "markdown",
      "source": [
        "A dataset on social, gender and study data from secondary school students. Following was retrieved from [UCI machine learning repository](https://www.kaggle.com/datasets/uciml/student-alcohol-consumption)."
      ],
      "metadata": {
        "id": "b0WU9O9T3SE3"
      },
      "id": "b0WU9O9T3SE3"
    },
    {
      "cell_type": "markdown",
      "source": [
        "## About Data:\n",
        "\n",
        "The data were obtained in a survey of students math and portuguese language courses in secondary school. It contains a lot of interesting social, gender and study information about students. You can use it for some EDA or try to predict students final grade.\n",
        "\n",
        "Content: Attributes for both student-mat.csv (Math course) and student-por.csv (Portuguese language course) datasets:\n",
        "\n",
        "    school - student's school (binary: 'GP' - Gabriel Pereira or 'MS' - Mousinho da Silveira)\n",
        "    sex - student's sex (binary: 'F' - female or 'M' - male)\n",
        "    age - student's age (numeric: from 15 to 22)\n",
        "    address - student's home address type (binary: 'U' - urban or 'R' - rural)\n",
        "    famsize - family size (binary: 'LE3' - less or equal to 3 or 'GT3' - greater than 3)\n",
        "    Pstatus - parent's cohabitation status (binary: 'T' - living together or 'A' - apart)\n",
        "    Medu - mother's education (numeric: 0 - none, 1 - primary education (4th grade), 2 – 5th to 9th grade, 3 – secondary education or 4 – higher education)\n",
        "    Fedu - father's education (numeric: 0 - none, 1 - primary education (4th grade), 2 – 5th to 9th grade, 3 – secondary education or 4 – higher education)\n",
        "    Mjob - mother's job (nominal: 'teacher', 'health' care related, civil 'services' (e.g. administrative or police), 'at_home' or 'other')\n",
        "    Fjob - father's job (nominal: 'teacher', 'health' care related, civil 'services' (e.g. administrative or police), 'at_home' or 'other')\n",
        "    reason - reason to choose this school (nominal: close to 'home', school 'reputation', 'course' preference or 'other')\n",
        "    guardian - student's guardian (nominal: 'mother', 'father' or 'other')\n",
        "    traveltime - home to school travel time (numeric: 1 - <15 min., 2 - 15 to 30 min., 3 - 30 min. to 1 hour, or 4 - >1 hour)\n",
        "    studytime - weekly study time (numeric: 1 - <2 hours, 2 - 2 to 5 hours, 3 - 5 to 10 hours, or 4 - >10 hours)\n",
        "    failures - number of past class failures (numeric: n if 1<=n<3, else 4)\n",
        "    schoolsup - extra educational support (binary: yes or no)\n",
        "    famsup - family educational support (binary: yes or no)\n",
        "    paid - extra paid classes within the course subject (Math or Portuguese) (binary: yes or no)\n",
        "    activities - extra-curricular activities (binary: yes or no)\n",
        "    nursery - attended nursery school (binary: yes or no)\n",
        "    higher - wants to take higher education (binary: yes or no)\n",
        "    internet - Internet access at home (binary: yes or no)\n",
        "    romantic - with a romantic relationship (binary: yes or no)\n",
        "    famrel - quality of family relationships (numeric: from 1 - very bad to 5 - excellent)\n",
        "    freetime - free time after school (numeric: from 1 - very low to 5 - very high)\n",
        "    goout - going out with friends (numeric: from 1 - very low to 5 - very high)\n",
        "    Dalc - workday alcohol consumption (numeric: from 1 - very low to 5 - very high)\n",
        "    Walc - weekend alcohol consumption (numeric: from 1 - very low to 5 - very high)\n",
        "    health - current health status (numeric: from 1 - very bad to 5 - very good)\n",
        "    absences - number of school absences (numeric: from 0 to 93)\n",
        "\n",
        "These grades are related with the course subject, Math or Portuguese:\n",
        "\n",
        "    G1 - first period grade (numeric: from 0 to 20)\n",
        "    G2 - second period grade (numeric: from 0 to 20)\n",
        "    G3 - final grade (numeric: from 0 to 20, output target)\n"
      ],
      "metadata": {
        "id": "SOmT6TZF7Gz5"
      },
      "id": "SOmT6TZF7Gz5"
    },
    {
      "cell_type": "code",
      "source": [
        "# 1.0 Call libraries:\n",
        "\n",
        "import numpy as np\n",
        "import pandas as pd\n",
        "\n",
        "# 1.0.1\n",
        "from sklearn.feature_selection import mutual_info_regression\n",
        "import matplotlib.pyplot as plt\n",
        "\n",
        "# 1.0.2\n",
        "import seaborn as sns\n",
        "from pathlib import Path"
      ],
      "metadata": {
        "id": "goK__qsw3RTl"
      },
      "id": "goK__qsw3RTl",
      "execution_count": 1,
      "outputs": []
    },
    {
      "cell_type": "code",
      "source": [
        "# 1.0.3 Matplotlib plotting style:\n",
        "\n",
        "plt.style.use(\"seaborn-whitegrid\")"
      ],
      "metadata": {
        "colab": {
          "base_uri": "https://localhost:8080/"
        },
        "id": "HWxmkY1A507g",
        "outputId": "0cd48e8e-de8a-4f02-a707-10e316b2e07d"
      },
      "id": "HWxmkY1A507g",
      "execution_count": 2,
      "outputs": [
        {
          "output_type": "stream",
          "name": "stderr",
          "text": [
            "<ipython-input-2-2adb1bd3be0d>:3: MatplotlibDeprecationWarning: The seaborn styles shipped by Matplotlib are deprecated since 3.6, as they no longer correspond to the styles shipped by seaborn. However, they will remain available as 'seaborn-v0_8-<style>'. Alternatively, directly use the seaborn API instead.\n",
            "  plt.style.use(\"seaborn-whitegrid\")\n"
          ]
        }
      ]
    },
    {
      "cell_type": "code",
      "source": [
        "# 1.0.4 \n",
        "from IPython.core.interactiveshell import InteractiveShell\n",
        "InteractiveShell.ast_node_interactivity = \"all\"\n"
      ],
      "metadata": {
        "id": "OgNdk3TgEP09"
      },
      "id": "OgNdk3TgEP09",
      "execution_count": 3,
      "outputs": []
    },
    {
      "cell_type": "code",
      "source": [
        "# 1.1 Get data from gdrive:\n",
        "\n",
        "from google.colab import drive\n",
        "drive.mount('/gdrive')"
      ],
      "metadata": {
        "colab": {
          "base_uri": "https://localhost:8080/"
        },
        "id": "spDhkMF-5_Qv",
        "outputId": "37465dd3-f4ab-41c8-d62b-0729778808cf"
      },
      "id": "spDhkMF-5_Qv",
      "execution_count": 4,
      "outputs": [
        {
          "output_type": "stream",
          "name": "stdout",
          "text": [
            "Mounted at /gdrive\n"
          ]
        }
      ]
    },
    {
      "cell_type": "code",
      "source": [
        "# 1.2 Where is data?\n",
        "\n",
        "pathToFolder = \"/gdrive/MyDrive/Colab_data_files/student_alcohol\"\n"
      ],
      "metadata": {
        "id": "im_AZiK66Q7I"
      },
      "id": "im_AZiK66Q7I",
      "execution_count": 5,
      "outputs": []
    },
    {
      "cell_type": "code",
      "source": [
        "# 1.2.1 Full file path:\n",
        "\n",
        "path = Path(pathToFolder) / \"student-por.csv\""
      ],
      "metadata": {
        "id": "ikQqdu6j6Z-0"
      },
      "id": "ikQqdu6j6Z-0",
      "execution_count": 6,
      "outputs": []
    },
    {
      "cell_type": "code",
      "execution_count": 7,
      "id": "7794ae31",
      "metadata": {
        "_kg_hide-input": true,
        "execution": {
          "iopub.execute_input": "2023-04-20T18:11:02.123198Z",
          "iopub.status.busy": "2023-04-20T18:11:02.122729Z",
          "iopub.status.idle": "2023-04-20T18:11:03.526432Z",
          "shell.execute_reply": "2023-04-20T18:11:03.525097Z"
        },
        "papermill": {
          "duration": 1.412786,
          "end_time": "2023-04-20T18:11:03.529595",
          "exception": false,
          "start_time": "2023-04-20T18:11:02.116809",
          "status": "completed"
        },
        "tags": [],
        "colab": {
          "base_uri": "https://localhost:8080/",
          "height": 317
        },
        "id": "7794ae31",
        "outputId": "ae828b22-f899-42e1-dc23-80fb1fdd5370"
      },
      "outputs": [
        {
          "output_type": "execute_result",
          "data": {
            "text/plain": [
              "(649, 33)"
            ]
          },
          "metadata": {},
          "execution_count": 7
        },
        {
          "output_type": "execute_result",
          "data": {
            "text/plain": [
              "  school sex  age address famsize Pstatus  Medu  Fedu     Mjob      Fjob  ...  \\\n",
              "0     GP   F   18       U     GT3       A     4     4  at_home   teacher  ...   \n",
              "1     GP   F   17       U     GT3       T     1     1  at_home     other  ...   \n",
              "2     GP   F   15       U     LE3       T     1     1  at_home     other  ...   \n",
              "3     GP   F   15       U     GT3       T     4     2   health  services  ...   \n",
              "4     GP   F   16       U     GT3       T     3     3    other     other  ...   \n",
              "\n",
              "  famrel freetime  goout  Dalc  Walc health absences  G1  G2  G3  \n",
              "0      4        3      4     1     1      3        4   0  11  11  \n",
              "1      5        3      3     1     1      3        2   9  11  11  \n",
              "2      4        3      2     2     3      3        6  12  13  12  \n",
              "3      3        2      2     1     1      5        0  14  14  14  \n",
              "4      4        3      2     1     2      5        0  11  13  13  \n",
              "\n",
              "[5 rows x 33 columns]"
            ],
            "text/html": [
              "\n",
              "  <div id=\"df-c2172335-6768-46fb-a2d9-7411b7d49a4f\">\n",
              "    <div class=\"colab-df-container\">\n",
              "      <div>\n",
              "<style scoped>\n",
              "    .dataframe tbody tr th:only-of-type {\n",
              "        vertical-align: middle;\n",
              "    }\n",
              "\n",
              "    .dataframe tbody tr th {\n",
              "        vertical-align: top;\n",
              "    }\n",
              "\n",
              "    .dataframe thead th {\n",
              "        text-align: right;\n",
              "    }\n",
              "</style>\n",
              "<table border=\"1\" class=\"dataframe\">\n",
              "  <thead>\n",
              "    <tr style=\"text-align: right;\">\n",
              "      <th></th>\n",
              "      <th>school</th>\n",
              "      <th>sex</th>\n",
              "      <th>age</th>\n",
              "      <th>address</th>\n",
              "      <th>famsize</th>\n",
              "      <th>Pstatus</th>\n",
              "      <th>Medu</th>\n",
              "      <th>Fedu</th>\n",
              "      <th>Mjob</th>\n",
              "      <th>Fjob</th>\n",
              "      <th>...</th>\n",
              "      <th>famrel</th>\n",
              "      <th>freetime</th>\n",
              "      <th>goout</th>\n",
              "      <th>Dalc</th>\n",
              "      <th>Walc</th>\n",
              "      <th>health</th>\n",
              "      <th>absences</th>\n",
              "      <th>G1</th>\n",
              "      <th>G2</th>\n",
              "      <th>G3</th>\n",
              "    </tr>\n",
              "  </thead>\n",
              "  <tbody>\n",
              "    <tr>\n",
              "      <th>0</th>\n",
              "      <td>GP</td>\n",
              "      <td>F</td>\n",
              "      <td>18</td>\n",
              "      <td>U</td>\n",
              "      <td>GT3</td>\n",
              "      <td>A</td>\n",
              "      <td>4</td>\n",
              "      <td>4</td>\n",
              "      <td>at_home</td>\n",
              "      <td>teacher</td>\n",
              "      <td>...</td>\n",
              "      <td>4</td>\n",
              "      <td>3</td>\n",
              "      <td>4</td>\n",
              "      <td>1</td>\n",
              "      <td>1</td>\n",
              "      <td>3</td>\n",
              "      <td>4</td>\n",
              "      <td>0</td>\n",
              "      <td>11</td>\n",
              "      <td>11</td>\n",
              "    </tr>\n",
              "    <tr>\n",
              "      <th>1</th>\n",
              "      <td>GP</td>\n",
              "      <td>F</td>\n",
              "      <td>17</td>\n",
              "      <td>U</td>\n",
              "      <td>GT3</td>\n",
              "      <td>T</td>\n",
              "      <td>1</td>\n",
              "      <td>1</td>\n",
              "      <td>at_home</td>\n",
              "      <td>other</td>\n",
              "      <td>...</td>\n",
              "      <td>5</td>\n",
              "      <td>3</td>\n",
              "      <td>3</td>\n",
              "      <td>1</td>\n",
              "      <td>1</td>\n",
              "      <td>3</td>\n",
              "      <td>2</td>\n",
              "      <td>9</td>\n",
              "      <td>11</td>\n",
              "      <td>11</td>\n",
              "    </tr>\n",
              "    <tr>\n",
              "      <th>2</th>\n",
              "      <td>GP</td>\n",
              "      <td>F</td>\n",
              "      <td>15</td>\n",
              "      <td>U</td>\n",
              "      <td>LE3</td>\n",
              "      <td>T</td>\n",
              "      <td>1</td>\n",
              "      <td>1</td>\n",
              "      <td>at_home</td>\n",
              "      <td>other</td>\n",
              "      <td>...</td>\n",
              "      <td>4</td>\n",
              "      <td>3</td>\n",
              "      <td>2</td>\n",
              "      <td>2</td>\n",
              "      <td>3</td>\n",
              "      <td>3</td>\n",
              "      <td>6</td>\n",
              "      <td>12</td>\n",
              "      <td>13</td>\n",
              "      <td>12</td>\n",
              "    </tr>\n",
              "    <tr>\n",
              "      <th>3</th>\n",
              "      <td>GP</td>\n",
              "      <td>F</td>\n",
              "      <td>15</td>\n",
              "      <td>U</td>\n",
              "      <td>GT3</td>\n",
              "      <td>T</td>\n",
              "      <td>4</td>\n",
              "      <td>2</td>\n",
              "      <td>health</td>\n",
              "      <td>services</td>\n",
              "      <td>...</td>\n",
              "      <td>3</td>\n",
              "      <td>2</td>\n",
              "      <td>2</td>\n",
              "      <td>1</td>\n",
              "      <td>1</td>\n",
              "      <td>5</td>\n",
              "      <td>0</td>\n",
              "      <td>14</td>\n",
              "      <td>14</td>\n",
              "      <td>14</td>\n",
              "    </tr>\n",
              "    <tr>\n",
              "      <th>4</th>\n",
              "      <td>GP</td>\n",
              "      <td>F</td>\n",
              "      <td>16</td>\n",
              "      <td>U</td>\n",
              "      <td>GT3</td>\n",
              "      <td>T</td>\n",
              "      <td>3</td>\n",
              "      <td>3</td>\n",
              "      <td>other</td>\n",
              "      <td>other</td>\n",
              "      <td>...</td>\n",
              "      <td>4</td>\n",
              "      <td>3</td>\n",
              "      <td>2</td>\n",
              "      <td>1</td>\n",
              "      <td>2</td>\n",
              "      <td>5</td>\n",
              "      <td>0</td>\n",
              "      <td>11</td>\n",
              "      <td>13</td>\n",
              "      <td>13</td>\n",
              "    </tr>\n",
              "  </tbody>\n",
              "</table>\n",
              "<p>5 rows × 33 columns</p>\n",
              "</div>\n",
              "      <button class=\"colab-df-convert\" onclick=\"convertToInteractive('df-c2172335-6768-46fb-a2d9-7411b7d49a4f')\"\n",
              "              title=\"Convert this dataframe to an interactive table.\"\n",
              "              style=\"display:none;\">\n",
              "        \n",
              "  <svg xmlns=\"http://www.w3.org/2000/svg\" height=\"24px\"viewBox=\"0 0 24 24\"\n",
              "       width=\"24px\">\n",
              "    <path d=\"M0 0h24v24H0V0z\" fill=\"none\"/>\n",
              "    <path d=\"M18.56 5.44l.94 2.06.94-2.06 2.06-.94-2.06-.94-.94-2.06-.94 2.06-2.06.94zm-11 1L8.5 8.5l.94-2.06 2.06-.94-2.06-.94L8.5 2.5l-.94 2.06-2.06.94zm10 10l.94 2.06.94-2.06 2.06-.94-2.06-.94-.94-2.06-.94 2.06-2.06.94z\"/><path d=\"M17.41 7.96l-1.37-1.37c-.4-.4-.92-.59-1.43-.59-.52 0-1.04.2-1.43.59L10.3 9.45l-7.72 7.72c-.78.78-.78 2.05 0 2.83L4 21.41c.39.39.9.59 1.41.59.51 0 1.02-.2 1.41-.59l7.78-7.78 2.81-2.81c.8-.78.8-2.07 0-2.86zM5.41 20L4 18.59l7.72-7.72 1.47 1.35L5.41 20z\"/>\n",
              "  </svg>\n",
              "      </button>\n",
              "      \n",
              "  <style>\n",
              "    .colab-df-container {\n",
              "      display:flex;\n",
              "      flex-wrap:wrap;\n",
              "      gap: 12px;\n",
              "    }\n",
              "\n",
              "    .colab-df-convert {\n",
              "      background-color: #E8F0FE;\n",
              "      border: none;\n",
              "      border-radius: 50%;\n",
              "      cursor: pointer;\n",
              "      display: none;\n",
              "      fill: #1967D2;\n",
              "      height: 32px;\n",
              "      padding: 0 0 0 0;\n",
              "      width: 32px;\n",
              "    }\n",
              "\n",
              "    .colab-df-convert:hover {\n",
              "      background-color: #E2EBFA;\n",
              "      box-shadow: 0px 1px 2px rgba(60, 64, 67, 0.3), 0px 1px 3px 1px rgba(60, 64, 67, 0.15);\n",
              "      fill: #174EA6;\n",
              "    }\n",
              "\n",
              "    [theme=dark] .colab-df-convert {\n",
              "      background-color: #3B4455;\n",
              "      fill: #D2E3FC;\n",
              "    }\n",
              "\n",
              "    [theme=dark] .colab-df-convert:hover {\n",
              "      background-color: #434B5C;\n",
              "      box-shadow: 0px 1px 3px 1px rgba(0, 0, 0, 0.15);\n",
              "      filter: drop-shadow(0px 1px 2px rgba(0, 0, 0, 0.3));\n",
              "      fill: #FFFFFF;\n",
              "    }\n",
              "  </style>\n",
              "\n",
              "      <script>\n",
              "        const buttonEl =\n",
              "          document.querySelector('#df-c2172335-6768-46fb-a2d9-7411b7d49a4f button.colab-df-convert');\n",
              "        buttonEl.style.display =\n",
              "          google.colab.kernel.accessAllowed ? 'block' : 'none';\n",
              "\n",
              "        async function convertToInteractive(key) {\n",
              "          const element = document.querySelector('#df-c2172335-6768-46fb-a2d9-7411b7d49a4f');\n",
              "          const dataTable =\n",
              "            await google.colab.kernel.invokeFunction('convertToInteractive',\n",
              "                                                     [key], {});\n",
              "          if (!dataTable) return;\n",
              "\n",
              "          const docLinkHtml = 'Like what you see? Visit the ' +\n",
              "            '<a target=\"_blank\" href=https://colab.research.google.com/notebooks/data_table.ipynb>data table notebook</a>'\n",
              "            + ' to learn more about interactive tables.';\n",
              "          element.innerHTML = '';\n",
              "          dataTable['output_type'] = 'display_data';\n",
              "          await google.colab.output.renderOutput(dataTable, element);\n",
              "          const docLink = document.createElement('div');\n",
              "          docLink.innerHTML = docLinkHtml;\n",
              "          element.appendChild(docLink);\n",
              "        }\n",
              "      </script>\n",
              "    </div>\n",
              "  </div>\n",
              "  "
            ]
          },
          "metadata": {},
          "execution_count": 7
        }
      ],
      "source": [
        "# 2.0 Read data\n",
        "\n",
        "df = pd.read_csv(path)\n",
        "df.shape\n",
        "df.head()"
      ]
    },
    {
      "cell_type": "markdown",
      "id": "84e14bc9",
      "metadata": {
        "papermill": {
          "duration": 0.004573,
          "end_time": "2023-04-20T18:11:03.539737",
          "exception": false,
          "start_time": "2023-04-20T18:11:03.535164",
          "status": "completed"
        },
        "tags": [],
        "id": "84e14bc9"
      },
      "source": [
        "The scikit-learn algorithm for MI treats discrete features differently from continuous features. Consequently, you need to tell it which are which. As a rule of thumb, anything that *must* have a `float` dtype is *not* discrete. Categoricals (`object` or `categorial` dtype) can be treated as discrete by giving them a label encoding. (You can review label encodings in our [Categorical Variables](http://www.kaggle.com/alexisbcook/categorical-variables) lesson.)"
      ]
    },
    {
      "cell_type": "markdown",
      "source": [
        "## Handling missing values"
      ],
      "metadata": {
        "id": "8oQ7KAKda44O"
      },
      "id": "8oQ7KAKda44O"
    },
    {
      "cell_type": "code",
      "source": [
        "# 2.1\n",
        "df.isnull().sum().sum()"
      ],
      "metadata": {
        "colab": {
          "base_uri": "https://localhost:8080/"
        },
        "id": "qAc5QQVo5u2z",
        "outputId": "83fe292d-9efe-4e6e-b90b-9c34caf1d59e"
      },
      "id": "qAc5QQVo5u2z",
      "execution_count": 8,
      "outputs": [
        {
          "output_type": "execute_result",
          "data": {
            "text/plain": [
              "0"
            ]
          },
          "metadata": {},
          "execution_count": 8
        }
      ]
    },
    {
      "cell_type": "markdown",
      "source": [
        "## Start analysis:"
      ],
      "metadata": {
        "id": "Sothan-Oc-31"
      },
      "id": "Sothan-Oc-31"
    },
    {
      "cell_type": "code",
      "execution_count": null,
      "id": "d24d9272",
      "metadata": {
        "execution": {
          "iopub.execute_input": "2023-04-20T18:11:03.551719Z",
          "iopub.status.busy": "2023-04-20T18:11:03.551310Z",
          "iopub.status.idle": "2023-04-20T18:11:03.580971Z",
          "shell.execute_reply": "2023-04-20T18:11:03.579491Z"
        },
        "papermill": {
          "duration": 0.039419,
          "end_time": "2023-04-20T18:11:03.584257",
          "exception": false,
          "start_time": "2023-04-20T18:11:03.544838",
          "status": "completed"
        },
        "tags": [],
        "id": "d24d9272"
      },
      "outputs": [],
      "source": [
        "# 2.2\n",
        "X = df.copy()\n",
        "y = X.pop(\"G1\")\n",
        "\n",
        "# 2.2.1 \n",
        "# Avoid data leakage:\n",
        "\n",
        "X.pop(\"G2\")\n",
        "X.pop(\"G3\")"
      ]
    },
    {
      "cell_type": "code",
      "source": [
        "# 2.3 Label encoding for categoricals\n",
        "# Refer: https://stackoverflow.com/a/39390208/3282777\n",
        "#\n",
        "\n",
        "for colname in X.select_dtypes(\"object\"):\n",
        "    X[colname], _ = X[colname].factorize()"
      ],
      "metadata": {
        "id": "UgxIM_646pqF"
      },
      "id": "UgxIM_646pqF",
      "execution_count": 11,
      "outputs": []
    },
    {
      "cell_type": "code",
      "source": [
        "# 2.4 All discrete features should now have integer\n",
        "#     dtypes (double-check this before using MI!)\n",
        "\n",
        "discrete_features = X.dtypes == int\n",
        "\n",
        "# 2.4.1\n",
        "discrete_features"
      ],
      "metadata": {
        "colab": {
          "base_uri": "https://localhost:8080/"
        },
        "id": "glvabXgU6u5C",
        "outputId": "640c626c-6f43-421b-e343-a99565643bd4"
      },
      "id": "glvabXgU6u5C",
      "execution_count": 12,
      "outputs": [
        {
          "output_type": "execute_result",
          "data": {
            "text/plain": [
              "school        True\n",
              "sex           True\n",
              "age           True\n",
              "address       True\n",
              "famsize       True\n",
              "Pstatus       True\n",
              "Medu          True\n",
              "Fedu          True\n",
              "Mjob          True\n",
              "Fjob          True\n",
              "reason        True\n",
              "guardian      True\n",
              "traveltime    True\n",
              "studytime     True\n",
              "failures      True\n",
              "schoolsup     True\n",
              "famsup        True\n",
              "paid          True\n",
              "activities    True\n",
              "nursery       True\n",
              "higher        True\n",
              "internet      True\n",
              "romantic      True\n",
              "famrel        True\n",
              "freetime      True\n",
              "goout         True\n",
              "Dalc          True\n",
              "Walc          True\n",
              "health        True\n",
              "absences      True\n",
              "dtype: bool"
            ]
          },
          "metadata": {},
          "execution_count": 12
        }
      ]
    },
    {
      "cell_type": "markdown",
      "id": "caf9535a",
      "metadata": {
        "papermill": {
          "duration": 0.00416,
          "end_time": "2023-04-20T18:11:03.593012",
          "exception": false,
          "start_time": "2023-04-20T18:11:03.588852",
          "status": "completed"
        },
        "tags": [],
        "id": "caf9535a"
      },
      "source": [
        "Scikit-learn has two mutual information metrics in its `feature_selection` module: one for real-valued targets (`mutual_info_regression`) and one for categorical targets (`mutual_info_classif`). Our target, `G1`, is real-valued. The next cell computes the MI scores for our features and wraps them up in a nice dataframe."
      ]
    },
    {
      "cell_type": "code",
      "execution_count": 14,
      "id": "ec3a008a",
      "metadata": {
        "execution": {
          "iopub.execute_input": "2023-04-20T18:11:03.604106Z",
          "iopub.status.busy": "2023-04-20T18:11:03.603698Z",
          "iopub.status.idle": "2023-04-20T18:11:04.295246Z",
          "shell.execute_reply": "2023-04-20T18:11:04.294143Z"
        },
        "papermill": {
          "duration": 0.700623,
          "end_time": "2023-04-20T18:11:04.298169",
          "exception": false,
          "start_time": "2023-04-20T18:11:03.597546",
          "status": "completed"
        },
        "tags": [],
        "id": "ec3a008a"
      },
      "outputs": [],
      "source": [
        "# 3.0\n",
        "def make_mi_scores(X, y, discrete_features):\n",
        "    # 6.0.1 Get sores\n",
        "    mi_scores = mutual_info_regression(X, y, discrete_features=discrete_features)\n",
        "    # 6.0.2 Transform mi_scores to a Series:\n",
        "    mi_scores = pd.Series(mi_scores, name=\"MI Scores\", index=X.columns)\n",
        "    # 6.0.3 Sort Series in Descending order:\n",
        "    mi_scores = mi_scores.sort_values(ascending=False)\n",
        "    return mi_scores\n",
        "\n"
      ]
    },
    {
      "cell_type": "code",
      "source": [
        "# 3.1 Execute the function now:\n",
        "\n",
        "mi_scores = make_mi_scores(X, y, discrete_features)\n",
        "mi_scores[::3]  # show a few features with their MI scores"
      ],
      "metadata": {
        "colab": {
          "base_uri": "https://localhost:8080/"
        },
        "id": "KIizAafjDy7B",
        "outputId": "22eebec1-e5f8-46cc-8ac5-f3c5ca4fe464"
      },
      "id": "KIizAafjDy7B",
      "execution_count": 15,
      "outputs": [
        {
          "output_type": "execute_result",
          "data": {
            "text/plain": [
              "failures     0.101703\n",
              "school       0.068513\n",
              "Mjob         0.038567\n",
              "schoolsup    0.030771\n",
              "sex          0.021012\n",
              "Pstatus      0.016150\n",
              "goout        0.012286\n",
              "Fjob         0.001370\n",
              "nursery      0.000000\n",
              "Walc         0.000000\n",
              "Name: MI Scores, dtype: float64"
            ]
          },
          "metadata": {},
          "execution_count": 15
        }
      ]
    },
    {
      "cell_type": "markdown",
      "id": "619a8981",
      "metadata": {
        "papermill": {
          "duration": 0.003988,
          "end_time": "2023-04-20T18:11:04.306750",
          "exception": false,
          "start_time": "2023-04-20T18:11:04.302762",
          "status": "completed"
        },
        "tags": [],
        "id": "619a8981"
      },
      "source": [
        "And now a bar plot to make comparisions easier:"
      ]
    },
    {
      "cell_type": "code",
      "execution_count": 16,
      "id": "a4655175",
      "metadata": {
        "execution": {
          "iopub.execute_input": "2023-04-20T18:11:04.318489Z",
          "iopub.status.busy": "2023-04-20T18:11:04.317379Z",
          "iopub.status.idle": "2023-04-20T18:11:04.747414Z",
          "shell.execute_reply": "2023-04-20T18:11:04.746006Z"
        },
        "papermill": {
          "duration": 0.439166,
          "end_time": "2023-04-20T18:11:04.750162",
          "exception": false,
          "start_time": "2023-04-20T18:11:04.310996",
          "status": "completed"
        },
        "tags": [],
        "id": "a4655175"
      },
      "outputs": [],
      "source": [
        "# 4.0 Plot function:\n",
        "\n",
        "def plot_mi_scores(scores):\n",
        "    # Scores sorted in ascending order:\n",
        "    scores = scores.sort_values(ascending=True)\n",
        "    # Map parameters:\n",
        "    width = np.arange(len(scores))\n",
        "    # Write ticks as per scores index:\n",
        "    ticks = list(scores.index)\n",
        "    # Plot width:\n",
        "    plt.barh(width, scores)\n",
        "    # Plot yticks\n",
        "    plt.yticks(width, ticks)\n",
        "    plt.title(\"Mutual Information Scores\")\n"
      ]
    },
    {
      "cell_type": "code",
      "source": [
        "# 4.1\n",
        "plt.figure(dpi=100, figsize=(8, 5))\n",
        "plot_mi_scores(mi_scores)"
      ],
      "metadata": {
        "colab": {
          "base_uri": "https://localhost:8080/",
          "height": 479
        },
        "id": "44uAaeaVPgWM",
        "outputId": "9c255cd2-7264-400b-c91f-59a0c8df6294"
      },
      "id": "44uAaeaVPgWM",
      "execution_count": 17,
      "outputs": [
        {
          "output_type": "execute_result",
          "data": {
            "text/plain": [
              "<Figure size 800x500 with 0 Axes>"
            ]
          },
          "metadata": {},
          "execution_count": 17
        },
        {
          "output_type": "display_data",
          "data": {
            "text/plain": [
              "<Figure size 800x500 with 1 Axes>"
            ],
            "image/png": "[encoded data removed]"
          },
          "metadata": {}
        }
      ]
    },
    {
      "cell_type": "code",
      "source": [
        "##------------ Done -------------------"
      ],
      "metadata": {
        "id": "h6tI3qyA6mY7"
      },
      "id": "h6tI3qyA6mY7",
      "execution_count": null,
      "outputs": []
    }
  ],
  "metadata": {
    "jupytext": {
      "cell_metadata_filter": "-all",
      "formats": "ipynb"
    },
    "kernelspec": {
      "display_name": "Python 3",
      "language": "python",
      "name": "python3"
    },
    "language_info": {
      "codemirror_mode": {
        "name": "ipython",
        "version": 3
      },
      "file_extension": ".py",
      "mimetype": "text/x-python",
      "name": "python",
      "nbconvert_exporter": "python",
      "pygments_lexer": "ipython3",
      "version": "3.7.12"
    },
    "papermill": {
      "default_parameters": {},
      "duration": 15.766581,
      "end_time": "2023-04-20T18:11:06.649276",
      "environment_variables": {},
      "exception": null,
      "input_path": "__notebook__.ipynb",
      "output_path": "__notebook__.ipynb",
      "parameters": {},
      "start_time": "2023-04-20T18:10:50.882695",
      "version": "2.4.0"
    },
    "colab": {
      "provenance": [],
      "include_colab_link": true
    }
  },
  "nbformat": 4,
  "nbformat_minor": 5
}