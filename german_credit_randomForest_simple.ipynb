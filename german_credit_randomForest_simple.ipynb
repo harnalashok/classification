{
  "nbformat": 4,
  "nbformat_minor": 0,
  "metadata": {
    "colab": {
      "name": "german_credit_randomForest_simple.ipynb",
      "provenance": [],
      "collapsed_sections": [],
      "include_colab_link": true
    },
    "kernelspec": {
      "name": "python3",
      "display_name": "Python 3"
    },
    "language_info": {
      "name": "python"
    }
  },
  "cells": [
    {
      "cell_type": "markdown",
      "metadata": {
        "id": "view-in-github",
        "colab_type": "text"
      },
      "source": [
        "<a href=\"https://colab.research.google.com/github/harnalashok/classification/blob/main/german_credit_randomForest_simple.ipynb\" target=\"_parent\"><img src=\"https://colab.research.google.com/assets/colab-badge.svg\" alt=\"Open In Colab\"/></a>"
      ]
    },
    {
      "cell_type": "markdown",
      "source": [
        "Refer [this file](https://github.com/harnalashok/classification/blob/main/pipelining_And_RandomForest/3_otto_rf.ipynb) for How RandomForest works"
      ],
      "metadata": {
        "id": "WOLqDfNWbcJT"
      }
    },
    {
      "cell_type": "code",
      "execution_count": null,
      "metadata": {
        "id": "9B8XxLNNRTGW"
      },
      "outputs": [],
      "source": [
        "# Last amended: 13th June, 2022\n",
        "# Objectives:\n",
        "#            i)  Using Random Forest\n",
        "#           ii)  Feature importance and feature selection to improcve performance\n",
        "#          iii)  Using Classification reports\n",
        "#           iv)  Bin continuous variables as ordinal variables--Feature Engineering\n",
        "#           v)   Using Category encoders\n",
        "#           vi)  Create pipelines\n",
        "#          vii)  Using ColumnTransformer\n",
        "#         viii)  Using FunctionalTransformer\n",
        "#           ix)  Using make_scorer()\n",
        "#            x)  Using Repeated k-fold cross validation\n",
        "#           xi)  Using GridSerachCV to tune parameters\n"
      ]
    },
    {
      "cell_type": "code",
      "source": [
        "# PIPE's avoid data leakage\n",
        "# During cross-validation, pipe develops a model on (K-1)-folds\n",
        "#   and this model is applied on Kth held-out dataset. For example,\n",
        "#    data scaling parameters are decided based on (K-1) folds and applied\n",
        "#     on Kth fold. The knowledge of Kth fold is not leaked to scaler while\n",
        "#      scaling (K-1) folds\n"
      ],
      "metadata": {
        "id": "kQuLfVYGSJKm"
      },
      "execution_count": null,
      "outputs": []
    },
    {
      "cell_type": "code",
      "source": [
        "# 1.0 Call libraries\n",
        "%reset -f\n",
        "import pandas as pd\n",
        "import numpy as np\n",
        "\n",
        "# 1,1 Preprocessing\n",
        "from sklearn.preprocessing import StandardScaler\n",
        "from sklearn.preprocessing import KBinsDiscretizer\n",
        "from sklearn.preprocessing import FunctionTransformer\n",
        "from sklearn.compose import ColumnTransformer\n",
        "\n",
        "# 1.2 Model Selection\n",
        "from sklearn.model_selection import train_test_split\n",
        "# For lack of data, not possible to have more than 2-folds.\n",
        "#  Better repeat two-folds multiple times\n",
        "from sklearn.model_selection import RepeatedStratifiedKFold\n",
        "from sklearn.model_selection import GridSearchCV\n",
        "\n",
        "# 1.3 Ensemble modeler\n",
        "from sklearn.ensemble import RandomForestClassifier\n",
        "from sklearn.feature_selection import SelectFromModel\n",
        "# 1.4 Pipeline\n",
        "from sklearn.pipeline import Pipeline\n",
        "\n",
        "# 1.5 Scoring functions\n",
        "from sklearn.metrics import f1_score, make_scorer\n",
        "from sklearn.metrics import classification_report, accuracy_score\n",
        "\n",
        "# 1.6 Graphics and miscelleneous\n",
        "import seaborn as sns\n",
        "import os, gc\n"
      ],
      "metadata": {
        "id": "yXRBweYzSOeb"
      },
      "execution_count": null,
      "outputs": []
    },
    {
      "cell_type": "code",
      "source": [
        "# 1.7 Display multiple command outputs from a cell\n",
        "from IPython.core.interactiveshell import InteractiveShell\n",
        "InteractiveShell.ast_node_interactivity = \"all\""
      ],
      "metadata": {
        "id": "ImwYQexZSPej"
      },
      "execution_count": null,
      "outputs": []
    },
    {
      "cell_type": "code",
      "source": [
        "# 1.8 Mount google drive\n",
        "from google.colab import drive\n",
        "drive.mount('/gdrive')"
      ],
      "metadata": {
        "colab": {
          "base_uri": "https://localhost:8080/"
        },
        "id": "MfW5vzXUSZAt",
        "outputId": "57fd18d2-20ad-435b-c1b6-c626622e2d57"
      },
      "execution_count": null,
      "outputs": [
        {
          "output_type": "stream",
          "name": "stdout",
          "text": [
            "Mounted at /gdrive\n"
          ]
        }
      ]
    },
    {
      "cell_type": "code",
      "source": [
        "# 2.0 Data path\n",
        "path = \"/gdrive/MyDrive/Colab_data_files/autofeat/\"\n",
        "os.chdir(path)\n",
        "os.listdir()"
      ],
      "metadata": {
        "colab": {
          "base_uri": "https://localhost:8080/"
        },
        "id": "DLcAg1f4S-Te",
        "outputId": "69e57130-7c88-4bb0-d4f3-6a0c0a915b49"
      },
      "execution_count": null,
      "outputs": [
        {
          "output_type": "execute_result",
          "data": {
            "text/plain": [
              "['german_credit.csv.zip',\n",
              " 'heart.csv',\n",
              " 'af.csv',\n",
              " 'Concrete_Data_Yeh.csv',\n",
              " 'concrete_train.csv',\n",
              " 'concrete_test.csv']"
            ]
          },
          "metadata": {},
          "execution_count": 4
        }
      ]
    },
    {
      "cell_type": "code",
      "source": [
        "# 2.0\n",
        "# 2.1 Read and explore data\n",
        "df = pd.read_csv(\"german_credit.csv.zip\")"
      ],
      "metadata": {
        "id": "dn2TYKAJTi7k"
      },
      "execution_count": null,
      "outputs": []
    },
    {
      "cell_type": "code",
      "source": [
        "# 1.8.1 Explore data\n",
        "df.head()\n",
        "df.shape\n",
        "df['creditability'].value_counts()"
      ],
      "metadata": {
        "colab": {
          "base_uri": "https://localhost:8080/",
          "height": 324
        },
        "id": "JAsr0Y0rTtLn",
        "outputId": "c815c3ed-2371-44d2-cdee-25c68259051c"
      },
      "execution_count": null,
      "outputs": [
        {
          "output_type": "execute_result",
          "data": {
            "text/plain": [
              "   creditability  account_balance  previous_credit_payment_status  \\\n",
              "0              1                1                               4   \n",
              "1              1                1                               4   \n",
              "2              1                2                               2   \n",
              "3              1                1                               4   \n",
              "4              1                1                               4   \n",
              "\n",
              "   credit_duration_month  purpose_of_earlier_credit  credit_amount  \\\n",
              "0                     18                          2           1049   \n",
              "1                      9                          0           2799   \n",
              "2                     12                          9            841   \n",
              "3                     12                          0           2122   \n",
              "4                     12                          0           2171   \n",
              "\n",
              "   installment_percent  current_emploment_length  sex_and_marital_status  \\\n",
              "0                    4                         2                       2   \n",
              "1                    2                         3                       3   \n",
              "2                    2                         4                       2   \n",
              "3                    3                         3                       3   \n",
              "4                    4                         3                       3   \n",
              "\n",
              "   guarantors  duration_at_current_address  most_valuable_available_asset  \\\n",
              "0           1                            4                              2   \n",
              "1           1                            2                              1   \n",
              "2           1                            4                              1   \n",
              "3           1                            2                              1   \n",
              "4           1                            4                              2   \n",
              "\n",
              "   age  concurrent_credits  apartmenttype  howmanycreditsat_this_bank  \\\n",
              "0   21                   3              1                           1   \n",
              "1   36                   3              1                           2   \n",
              "2   23                   3              1                           1   \n",
              "3   39                   3              1                           2   \n",
              "4   38                   1              2                           2   \n",
              "\n",
              "   occupation  dependents  telephone  foreign_worker  \n",
              "0           3           1          1               1  \n",
              "1           3           2          1               1  \n",
              "2           2           1          1               1  \n",
              "3           2           2          1               2  \n",
              "4           2           1          1               2  "
            ],
            "text/html": [
              "\n",
              "  <div id=\"df-b660c4d4-add9-42b7-86d2-653777e9ef25\">\n",
              "    <div class=\"colab-df-container\">\n",
              "      <div>\n",
              "<style scoped>\n",
              "    .dataframe tbody tr th:only-of-type {\n",
              "        vertical-align: middle;\n",
              "    }\n",
              "\n",
              "    .dataframe tbody tr th {\n",
              "        vertical-align: top;\n",
              "    }\n",
              "\n",
              "    .dataframe thead th {\n",
              "        text-align: right;\n",
              "    }\n",
              "</style>\n",
              "<table border=\"1\" class=\"dataframe\">\n",
              "  <thead>\n",
              "    <tr style=\"text-align: right;\">\n",
              "      <th></th>\n",
              "      <th>creditability</th>\n",
              "      <th>account_balance</th>\n",
              "      <th>previous_credit_payment_status</th>\n",
              "      <th>credit_duration_month</th>\n",
              "      <th>purpose_of_earlier_credit</th>\n",
              "      <th>credit_amount</th>\n",
              "      <th>installment_percent</th>\n",
              "      <th>current_emploment_length</th>\n",
              "      <th>sex_and_marital_status</th>\n",
              "      <th>guarantors</th>\n",
              "      <th>duration_at_current_address</th>\n",
              "      <th>most_valuable_available_asset</th>\n",
              "      <th>age</th>\n",
              "      <th>concurrent_credits</th>\n",
              "      <th>apartmenttype</th>\n",
              "      <th>howmanycreditsat_this_bank</th>\n",
              "      <th>occupation</th>\n",
              "      <th>dependents</th>\n",
              "      <th>telephone</th>\n",
              "      <th>foreign_worker</th>\n",
              "    </tr>\n",
              "  </thead>\n",
              "  <tbody>\n",
              "    <tr>\n",
              "      <th>0</th>\n",
              "      <td>1</td>\n",
              "      <td>1</td>\n",
              "      <td>4</td>\n",
              "      <td>18</td>\n",
              "      <td>2</td>\n",
              "      <td>1049</td>\n",
              "      <td>4</td>\n",
              "      <td>2</td>\n",
              "      <td>2</td>\n",
              "      <td>1</td>\n",
              "      <td>4</td>\n",
              "      <td>2</td>\n",
              "      <td>21</td>\n",
              "      <td>3</td>\n",
              "      <td>1</td>\n",
              "      <td>1</td>\n",
              "      <td>3</td>\n",
              "      <td>1</td>\n",
              "      <td>1</td>\n",
              "      <td>1</td>\n",
              "    </tr>\n",
              "    <tr>\n",
              "      <th>1</th>\n",
              "      <td>1</td>\n",
              "      <td>1</td>\n",
              "      <td>4</td>\n",
              "      <td>9</td>\n",
              "      <td>0</td>\n",
              "      <td>2799</td>\n",
              "      <td>2</td>\n",
              "      <td>3</td>\n",
              "      <td>3</td>\n",
              "      <td>1</td>\n",
              "      <td>2</td>\n",
              "      <td>1</td>\n",
              "      <td>36</td>\n",
              "      <td>3</td>\n",
              "      <td>1</td>\n",
              "      <td>2</td>\n",
              "      <td>3</td>\n",
              "      <td>2</td>\n",
              "      <td>1</td>\n",
              "      <td>1</td>\n",
              "    </tr>\n",
              "    <tr>\n",
              "      <th>2</th>\n",
              "      <td>1</td>\n",
              "      <td>2</td>\n",
              "      <td>2</td>\n",
              "      <td>12</td>\n",
              "      <td>9</td>\n",
              "      <td>841</td>\n",
              "      <td>2</td>\n",
              "      <td>4</td>\n",
              "      <td>2</td>\n",
              "      <td>1</td>\n",
              "      <td>4</td>\n",
              "      <td>1</td>\n",
              "      <td>23</td>\n",
              "      <td>3</td>\n",
              "      <td>1</td>\n",
              "      <td>1</td>\n",
              "      <td>2</td>\n",
              "      <td>1</td>\n",
              "      <td>1</td>\n",
              "      <td>1</td>\n",
              "    </tr>\n",
              "    <tr>\n",
              "      <th>3</th>\n",
              "      <td>1</td>\n",
              "      <td>1</td>\n",
              "      <td>4</td>\n",
              "      <td>12</td>\n",
              "      <td>0</td>\n",
              "      <td>2122</td>\n",
              "      <td>3</td>\n",
              "      <td>3</td>\n",
              "      <td>3</td>\n",
              "      <td>1</td>\n",
              "      <td>2</td>\n",
              "      <td>1</td>\n",
              "      <td>39</td>\n",
              "      <td>3</td>\n",
              "      <td>1</td>\n",
              "      <td>2</td>\n",
              "      <td>2</td>\n",
              "      <td>2</td>\n",
              "      <td>1</td>\n",
              "      <td>2</td>\n",
              "    </tr>\n",
              "    <tr>\n",
              "      <th>4</th>\n",
              "      <td>1</td>\n",
              "      <td>1</td>\n",
              "      <td>4</td>\n",
              "      <td>12</td>\n",
              "      <td>0</td>\n",
              "      <td>2171</td>\n",
              "      <td>4</td>\n",
              "      <td>3</td>\n",
              "      <td>3</td>\n",
              "      <td>1</td>\n",
              "      <td>4</td>\n",
              "      <td>2</td>\n",
              "      <td>38</td>\n",
              "      <td>1</td>\n",
              "      <td>2</td>\n",
              "      <td>2</td>\n",
              "      <td>2</td>\n",
              "      <td>1</td>\n",
              "      <td>1</td>\n",
              "      <td>2</td>\n",
              "    </tr>\n",
              "  </tbody>\n",
              "</table>\n",
              "</div>\n",
              "      <button class=\"colab-df-convert\" onclick=\"convertToInteractive('df-b660c4d4-add9-42b7-86d2-653777e9ef25')\"\n",
              "              title=\"Convert this dataframe to an interactive table.\"\n",
              "              style=\"display:none;\">\n",
              "        \n",
              "  <svg xmlns=\"http://www.w3.org/2000/svg\" height=\"24px\"viewBox=\"0 0 24 24\"\n",
              "       width=\"24px\">\n",
              "    <path d=\"M0 0h24v24H0V0z\" fill=\"none\"/>\n",
              "    <path d=\"M18.56 5.44l.94 2.06.94-2.06 2.06-.94-2.06-.94-.94-2.06-.94 2.06-2.06.94zm-11 1L8.5 8.5l.94-2.06 2.06-.94-2.06-.94L8.5 2.5l-.94 2.06-2.06.94zm10 10l.94 2.06.94-2.06 2.06-.94-2.06-.94-.94-2.06-.94 2.06-2.06.94z\"/><path d=\"M17.41 7.96l-1.37-1.37c-.4-.4-.92-.59-1.43-.59-.52 0-1.04.2-1.43.59L10.3 9.45l-7.72 7.72c-.78.78-.78 2.05 0 2.83L4 21.41c.39.39.9.59 1.41.59.51 0 1.02-.2 1.41-.59l7.78-7.78 2.81-2.81c.8-.78.8-2.07 0-2.86zM5.41 20L4 18.59l7.72-7.72 1.47 1.35L5.41 20z\"/>\n",
              "  </svg>\n",
              "      </button>\n",
              "      \n",
              "  <style>\n",
              "    .colab-df-container {\n",
              "      display:flex;\n",
              "      flex-wrap:wrap;\n",
              "      gap: 12px;\n",
              "    }\n",
              "\n",
              "    .colab-df-convert {\n",
              "      background-color: #E8F0FE;\n",
              "      border: none;\n",
              "      border-radius: 50%;\n",
              "      cursor: pointer;\n",
              "      display: none;\n",
              "      fill: #1967D2;\n",
              "      height: 32px;\n",
              "      padding: 0 0 0 0;\n",
              "      width: 32px;\n",
              "    }\n",
              "\n",
              "    .colab-df-convert:hover {\n",
              "      background-color: #E2EBFA;\n",
              "      box-shadow: 0px 1px 2px rgba(60, 64, 67, 0.3), 0px 1px 3px 1px rgba(60, 64, 67, 0.15);\n",
              "      fill: #174EA6;\n",
              "    }\n",
              "\n",
              "    [theme=dark] .colab-df-convert {\n",
              "      background-color: #3B4455;\n",
              "      fill: #D2E3FC;\n",
              "    }\n",
              "\n",
              "    [theme=dark] .colab-df-convert:hover {\n",
              "      background-color: #434B5C;\n",
              "      box-shadow: 0px 1px 3px 1px rgba(0, 0, 0, 0.15);\n",
              "      filter: drop-shadow(0px 1px 2px rgba(0, 0, 0, 0.3));\n",
              "      fill: #FFFFFF;\n",
              "    }\n",
              "  </style>\n",
              "\n",
              "      <script>\n",
              "        const buttonEl =\n",
              "          document.querySelector('#df-b660c4d4-add9-42b7-86d2-653777e9ef25 button.colab-df-convert');\n",
              "        buttonEl.style.display =\n",
              "          google.colab.kernel.accessAllowed ? 'block' : 'none';\n",
              "\n",
              "        async function convertToInteractive(key) {\n",
              "          const element = document.querySelector('#df-b660c4d4-add9-42b7-86d2-653777e9ef25');\n",
              "          const dataTable =\n",
              "            await google.colab.kernel.invokeFunction('convertToInteractive',\n",
              "                                                     [key], {});\n",
              "          if (!dataTable) return;\n",
              "\n",
              "          const docLinkHtml = 'Like what you see? Visit the ' +\n",
              "            '<a target=\"_blank\" href=https://colab.research.google.com/notebooks/data_table.ipynb>data table notebook</a>'\n",
              "            + ' to learn more about interactive tables.';\n",
              "          element.innerHTML = '';\n",
              "          dataTable['output_type'] = 'display_data';\n",
              "          await google.colab.output.renderOutput(dataTable, element);\n",
              "          const docLink = document.createElement('div');\n",
              "          docLink.innerHTML = docLinkHtml;\n",
              "          element.appendChild(docLink);\n",
              "        }\n",
              "      </script>\n",
              "    </div>\n",
              "  </div>\n",
              "  "
            ]
          },
          "metadata": {},
          "execution_count": 6
        },
        {
          "output_type": "execute_result",
          "data": {
            "text/plain": [
              "(1000, 20)"
            ]
          },
          "metadata": {},
          "execution_count": 6
        },
        {
          "output_type": "execute_result",
          "data": {
            "text/plain": [
              "1    700\n",
              "0    300\n",
              "Name: creditability, dtype: int64"
            ]
          },
          "metadata": {},
          "execution_count": 6
        }
      ]
    },
    {
      "cell_type": "code",
      "source": [
        "# 2.0 Quick plots\n",
        "sns.distplot(df.credit_duration_month)\n",
        "sns.boxplot(df.credit_duration_month)\n",
        "sns.boxplot(df.credit_amount)\n",
        "sns.boxplot(df.age)\n",
        "sns.catplot('creditability', 'credit_amount',   data = df, kind = 'box' )\n",
        "sns.catplot('foreign_worker', 'credit_amount',   data = df, kind = 'box' )\n",
        "sns.catplot('foreign_worker', 'credit_amount', hue = 'creditability',  data = df, kind = 'box' )\n",
        "sns.catplot('creditability', 'credit_amount', col= 'purpose_of_earlier_credit', col_wrap = True, data = df, kind = 'box' )\n",
        "sns.relplot('credit_amount', 'age', row = 'creditability', data = df)\n"
      ],
      "metadata": {
        "id": "f2npuxrsT6zI"
      },
      "execution_count": null,
      "outputs": []
    },
    {
      "cell_type": "code",
      "source": [
        "# 3.0 Separate into predictors (X) and target (y)\n",
        "X = df.iloc[:,1:]\n",
        "y = df.iloc[:,0]"
      ],
      "metadata": {
        "id": "rohtLyjIUJRh"
      },
      "execution_count": null,
      "outputs": []
    },
    {
      "cell_type": "code",
      "source": [
        "# 3.1 Split data into train/test\n",
        "X_train, X_test, y_train, y_test = train_test_split(X,y,test_size=0.2, stratify = y )"
      ],
      "metadata": {
        "id": "LGJEyJ-FUOwn"
      },
      "execution_count": null,
      "outputs": []
    },
    {
      "cell_type": "code",
      "source": [
        "##################################333\n",
        "## Simple approach to modeling\n",
        "####################################"
      ],
      "metadata": {
        "id": "WfkK6bhzWNSy"
      },
      "execution_count": null,
      "outputs": []
    },
    {
      "cell_type": "code",
      "source": [
        "# 3.2 Create an instance of RandomForestClassifier\n",
        "#     with suitable parameters\n",
        "clf = RandomForestClassifier(n_estimators = 1000)"
      ],
      "metadata": {
        "id": "4ci32ghUWPQi"
      },
      "execution_count": null,
      "outputs": []
    },
    {
      "cell_type": "code",
      "source": [
        "# 3.3 Train model\n",
        "clf.fit(X_train,y_train)"
      ],
      "metadata": {
        "colab": {
          "base_uri": "https://localhost:8080/"
        },
        "id": "8xvsWB23WRU5",
        "outputId": "3629b2b1-7ddf-4f8f-a1f1-af085c89a45b"
      },
      "execution_count": null,
      "outputs": [
        {
          "output_type": "execute_result",
          "data": {
            "text/plain": [
              "RandomForestClassifier(n_estimators=1000)"
            ]
          },
          "metadata": {},
          "execution_count": 13
        }
      ]
    },
    {
      "cell_type": "code",
      "source": [
        "# 3.4 Make predictios\n",
        "y_pred = clf.predict(X_test)"
      ],
      "metadata": {
        "id": "IjQFpy7yWTAE"
      },
      "execution_count": null,
      "outputs": []
    },
    {
      "cell_type": "code",
      "source": [
        "# 3.5 Classification report\n",
        "print(classification_report(y_test, y_pred), accuracy_score(y_test,y_pred))"
      ],
      "metadata": {
        "colab": {
          "base_uri": "https://localhost:8080/"
        },
        "id": "MeoEiucKYoov",
        "outputId": "a238ec8a-c0ad-4fff-b077-cfe35b3cccbb"
      },
      "execution_count": null,
      "outputs": [
        {
          "output_type": "stream",
          "name": "stdout",
          "text": [
            "              precision    recall  f1-score   support\n",
            "\n",
            "           0       0.60      0.43      0.50        60\n",
            "           1       0.78      0.88      0.83       140\n",
            "\n",
            "    accuracy                           0.74       200\n",
            "   macro avg       0.69      0.66      0.67       200\n",
            "weighted avg       0.73      0.74      0.73       200\n",
            " 0.745\n"
          ]
        }
      ]
    },
    {
      "cell_type": "code",
      "source": [
        "# 3.6 This is what support means.\n",
        "#     How many are 1's and how many are 0s\n",
        "np.sum(y_test)"
      ],
      "metadata": {
        "colab": {
          "base_uri": "https://localhost:8080/"
        },
        "id": "krLpucIoYtUg",
        "outputId": "5bfd8a0f-9f4f-490b-e3bc-cc978d2c6ccf"
      },
      "execution_count": null,
      "outputs": [
        {
          "output_type": "execute_result",
          "data": {
            "text/plain": [
              "140"
            ]
          },
          "metadata": {},
          "execution_count": 16
        }
      ]
    },
    {
      "cell_type": "code",
      "source": [
        "# 4.0 Get feature importances\n",
        "importances = clf.feature_importances_"
      ],
      "metadata": {
        "id": "SQ79RQmYYwHB"
      },
      "execution_count": null,
      "outputs": []
    },
    {
      "cell_type": "code",
      "source": [
        "# 4.1 Rank features as per importances\n",
        "#      (in order of Decreasing importance)\n",
        "#     Get indicies of important features\n",
        "\n",
        "indices = np.argsort(-importances)   # Note the negative sign\n",
        "indices\n",
        "\n",
        "#indices = np.argsort(importances)[::-1]\n",
        "#indices\n"
      ],
      "metadata": {
        "colab": {
          "base_uri": "https://localhost:8080/"
        },
        "id": "FgZSm6OaYztv",
        "outputId": "85bffca6-6d61-4fef-eadb-04b159c92e97"
      },
      "execution_count": null,
      "outputs": [
        {
          "output_type": "execute_result",
          "data": {
            "text/plain": [
              "array([ 4,  0, 11,  2,  3,  1,  6,  5, 10,  9, 15,  7, 13, 12, 14, 17,  8,\n",
              "       16, 18])"
            ]
          },
          "metadata": {},
          "execution_count": 18
        }
      ]
    },
    {
      "cell_type": "code",
      "source": [
        "# 4.2 Get names of important columns in order of importance\n",
        "names = X_train.columns.values[indices]\n",
        "names\n"
      ],
      "metadata": {
        "colab": {
          "base_uri": "https://localhost:8080/"
        },
        "id": "Q9zVNowyY11K",
        "outputId": "4f971161-eb13-4fb8-c2a7-0f2cc75e494f"
      },
      "execution_count": null,
      "outputs": [
        {
          "output_type": "execute_result",
          "data": {
            "text/plain": [
              "array(['credit_amount', 'account_balance', 'age', 'credit_duration_month',\n",
              "       'purpose_of_earlier_credit', 'previous_credit_payment_status',\n",
              "       'current_emploment_length', 'installment_percent',\n",
              "       'most_valuable_available_asset', 'duration_at_current_address',\n",
              "       'occupation', 'sex_and_marital_status', 'apartmenttype',\n",
              "       'concurrent_credits', 'howmanycreditsat_this_bank', 'telephone',\n",
              "       'guarantors', 'dependents', 'foreign_worker'], dtype=object)"
            ]
          },
          "metadata": {},
          "execution_count": 19
        }
      ]
    },
    {
      "cell_type": "code",
      "source": [
        "# 4.3 Plot attribute importance chart\n",
        "sns.barplot(y = names,x = importances[indices])\n"
      ],
      "metadata": {
        "colab": {
          "base_uri": "https://localhost:8080/",
          "height": 283
        },
        "id": "eApQnrN_Y3tU",
        "outputId": "fc9602d7-2c9a-41f8-d956-1672f671845e"
      },
      "execution_count": null,
      "outputs": [
        {
          "output_type": "execute_result",
          "data": {
            "text/plain": [
              "<matplotlib.axes._subplots.AxesSubplot at 0x7fda43893bd0>"
            ]
          },
          "metadata": {},
          "execution_count": 20
        },
        {
          "output_type": "display_data",
          "data": {
            "text/plain": [
              "<Figure size 432x288 with 1 Axes>"
            ],
            "image/png": "[encoded data removed]"
          },
          "metadata": {
            "needs_background": "light"
          }
        }
      ]
    },
    {
      "cell_type": "code",
      "source": [
        "# 5.0 Select only impt features\n",
        "# 5.1\n",
        "clf_sel = RandomForestClassifier(n_estimators = 1000)"
      ],
      "metadata": {
        "id": "NMKqWlIFZ8EG"
      },
      "execution_count": null,
      "outputs": []
    },
    {
      "cell_type": "code",
      "source": [
        "# 5.2\n",
        "feat_sel = SelectFromModel(clf_sel,\n",
        "                           threshold = '0.25*mean',      # Take 'mean' that is np.mean(clf.feature_importances_)\n",
        "                                                         #   alternative is 'median'\n",
        "                           prefit = False\n",
        "                           )"
      ],
      "metadata": {
        "id": "g4YaEVBBZ-Xh"
      },
      "execution_count": null,
      "outputs": []
    },
    {
      "cell_type": "code",
      "source": [
        "# 5.3 Now fit and learn feature importances\n",
        "feat_sel.fit(X_train,y_train)\n",
        "print(\"\\n\")\n",
        "feat_sel.threshold_      # 0.05263157894736842\n"
      ],
      "metadata": {
        "colab": {
          "base_uri": "https://localhost:8080/"
        },
        "id": "xnkHJpTpaDiz",
        "outputId": "28d2bb0e-1cbf-4ac3-ae84-4e9e1616176e"
      },
      "execution_count": null,
      "outputs": [
        {
          "output_type": "execute_result",
          "data": {
            "text/plain": [
              "SelectFromModel(estimator=RandomForestClassifier(n_estimators=1000),\n",
              "                threshold='0.25*mean')"
            ]
          },
          "metadata": {},
          "execution_count": 28
        },
        {
          "output_type": "stream",
          "name": "stdout",
          "text": [
            "\n",
            "\n"
          ]
        },
        {
          "output_type": "execute_result",
          "data": {
            "text/plain": [
              "0.013157894736842105"
            ]
          },
          "metadata": {},
          "execution_count": 28
        }
      ]
    },
    {
      "cell_type": "code",
      "source": [
        "# 6.0 Get mask for important features:\n",
        "feat_sel.get_support()"
      ],
      "metadata": {
        "id": "fA8p_oe3QbQx"
      },
      "execution_count": null,
      "outputs": []
    },
    {
      "cell_type": "code",
      "source": [
        "# # 6.1 Get important features:\n",
        "imp_features = X_train.columns[feat_sel.get_support()]\n",
        "imp_features\n",
        "print(\"\\n No of imp features: \", len(imp_features))"
      ],
      "metadata": {
        "colab": {
          "base_uri": "https://localhost:8080/"
        },
        "id": "7XRBcCYNRD_U",
        "outputId": "26c554bf-3538-4486-e6cb-73b27b94c0f1"
      },
      "execution_count": null,
      "outputs": [
        {
          "output_type": "execute_result",
          "data": {
            "text/plain": [
              "Index(['account_balance', 'previous_credit_payment_status',\n",
              "       'credit_duration_month', 'purpose_of_earlier_credit', 'credit_amount',\n",
              "       'installment_percent', 'current_emploment_length',\n",
              "       'sex_and_marital_status', 'guarantors', 'duration_at_current_address',\n",
              "       'most_valuable_available_asset', 'age', 'concurrent_credits',\n",
              "       'apartmenttype', 'howmanycreditsat_this_bank', 'occupation',\n",
              "       'dependents', 'telephone'],\n",
              "      dtype='object')"
            ]
          },
          "metadata": {},
          "execution_count": 48
        },
        {
          "output_type": "stream",
          "name": "stdout",
          "text": [
            "\n",
            " No of imp features 18\n"
          ]
        }
      ]
    },
    {
      "cell_type": "code",
      "source": [
        "# 7.0 Use only the important columns for fresh model\n",
        "clfs = RandomForestClassifier(n_estimators=1000)\n",
        "clfs.fit(X_train[imp_features], y_train)\n",
        "ys_pred = clfs.predict(X_test[imp_features])"
      ],
      "metadata": {
        "colab": {
          "base_uri": "https://localhost:8080/"
        },
        "id": "plFFM3fWaQ-b",
        "outputId": "fb4f12a7-e529-457f-f354-e94541ae4e34"
      },
      "execution_count": null,
      "outputs": [
        {
          "output_type": "execute_result",
          "data": {
            "text/plain": [
              "RandomForestClassifier(n_estimators=1000)"
            ]
          },
          "metadata": {},
          "execution_count": 49
        }
      ]
    },
    {
      "cell_type": "code",
      "source": [
        "# 7.1 F1 score gets improved\n",
        "print(classification_report(y_test, ys_pred), accuracy_score(y_test, ys_pred))\n",
        "# 7.2 This is what support means. How many are 1's and how many are 0s\n",
        "np.sum(y_test)\n"
      ],
      "metadata": {
        "colab": {
          "base_uri": "https://localhost:8080/"
        },
        "id": "Pe7UATxraUhG",
        "outputId": "c9d4f83a-124b-4084-ac01-b8918308dd4e"
      },
      "execution_count": null,
      "outputs": [
        {
          "output_type": "stream",
          "name": "stdout",
          "text": [
            "              precision    recall  f1-score   support\n",
            "\n",
            "           0       0.63      0.45      0.52        60\n",
            "           1       0.79      0.89      0.84       140\n",
            "\n",
            "    accuracy                           0.76       200\n",
            "   macro avg       0.71      0.67      0.68       200\n",
            "weighted avg       0.74      0.76      0.74       200\n",
            " 0.755\n"
          ]
        },
        {
          "output_type": "execute_result",
          "data": {
            "text/plain": [
              "140"
            ]
          },
          "metadata": {},
          "execution_count": 50
        }
      ]
    },
    {
      "cell_type": "code",
      "source": [
        "######################################################################33\n",
        "# Part II Little Feature engineering\n",
        "#######################################################################"
      ],
      "metadata": {
        "id": "huNWTXvLWMbL"
      },
      "execution_count": null,
      "outputs": []
    },
    {
      "cell_type": "code",
      "source": [
        "# 8.0 Experimental. Discretize 'age' and 'credit_amount' features\n",
        "#     Check results\n",
        "X_imp_feat_train = X_train[imp_features]\n",
        "X_imp_feat_test = X_test[imp_features]\n",
        "                              "
      ],
      "metadata": {
        "id": "3LFPI0r6Dwy6"
      },
      "execution_count": null,
      "outputs": []
    },
    {
      "cell_type": "code",
      "source": [
        "X_imp_feat_train.iloc[:, [4,5]].head()    # 4 and 5 are 'credit_amount' and 'age'. GOES ON CHANGING\n"
      ],
      "metadata": {
        "colab": {
          "base_uri": "https://localhost:8080/",
          "height": 206
        },
        "id": "1zIpzQoZWtGI",
        "outputId": "15be51f6-10ab-4a5a-e4fb-c701d266c637"
      },
      "execution_count": null,
      "outputs": [
        {
          "output_type": "execute_result",
          "data": {
            "text/plain": [
              "     credit_amount  installment_percent\n",
              "15            2647                    2\n",
              "603           1289                    4\n",
              "597            571                    4\n",
              "923           5293                    2\n",
              "724           4020                    2"
            ],
            "text/html": [
              "\n",
              "  <div id=\"df-9506de4a-b5de-4a5d-9a6a-05d9b123216c\">\n",
              "    <div class=\"colab-df-container\">\n",
              "      <div>\n",
              "<style scoped>\n",
              "    .dataframe tbody tr th:only-of-type {\n",
              "        vertical-align: middle;\n",
              "    }\n",
              "\n",
              "    .dataframe tbody tr th {\n",
              "        vertical-align: top;\n",
              "    }\n",
              "\n",
              "    .dataframe thead th {\n",
              "        text-align: right;\n",
              "    }\n",
              "</style>\n",
              "<table border=\"1\" class=\"dataframe\">\n",
              "  <thead>\n",
              "    <tr style=\"text-align: right;\">\n",
              "      <th></th>\n",
              "      <th>credit_amount</th>\n",
              "      <th>installment_percent</th>\n",
              "    </tr>\n",
              "  </thead>\n",
              "  <tbody>\n",
              "    <tr>\n",
              "      <th>15</th>\n",
              "      <td>2647</td>\n",
              "      <td>2</td>\n",
              "    </tr>\n",
              "    <tr>\n",
              "      <th>603</th>\n",
              "      <td>1289</td>\n",
              "      <td>4</td>\n",
              "    </tr>\n",
              "    <tr>\n",
              "      <th>597</th>\n",
              "      <td>571</td>\n",
              "      <td>4</td>\n",
              "    </tr>\n",
              "    <tr>\n",
              "      <th>923</th>\n",
              "      <td>5293</td>\n",
              "      <td>2</td>\n",
              "    </tr>\n",
              "    <tr>\n",
              "      <th>724</th>\n",
              "      <td>4020</td>\n",
              "      <td>2</td>\n",
              "    </tr>\n",
              "  </tbody>\n",
              "</table>\n",
              "</div>\n",
              "      <button class=\"colab-df-convert\" onclick=\"convertToInteractive('df-9506de4a-b5de-4a5d-9a6a-05d9b123216c')\"\n",
              "              title=\"Convert this dataframe to an interactive table.\"\n",
              "              style=\"display:none;\">\n",
              "        \n",
              "  <svg xmlns=\"http://www.w3.org/2000/svg\" height=\"24px\"viewBox=\"0 0 24 24\"\n",
              "       width=\"24px\">\n",
              "    <path d=\"M0 0h24v24H0V0z\" fill=\"none\"/>\n",
              "    <path d=\"M18.56 5.44l.94 2.06.94-2.06 2.06-.94-2.06-.94-.94-2.06-.94 2.06-2.06.94zm-11 1L8.5 8.5l.94-2.06 2.06-.94-2.06-.94L8.5 2.5l-.94 2.06-2.06.94zm10 10l.94 2.06.94-2.06 2.06-.94-2.06-.94-.94-2.06-.94 2.06-2.06.94z\"/><path d=\"M17.41 7.96l-1.37-1.37c-.4-.4-.92-.59-1.43-.59-.52 0-1.04.2-1.43.59L10.3 9.45l-7.72 7.72c-.78.78-.78 2.05 0 2.83L4 21.41c.39.39.9.59 1.41.59.51 0 1.02-.2 1.41-.59l7.78-7.78 2.81-2.81c.8-.78.8-2.07 0-2.86zM5.41 20L4 18.59l7.72-7.72 1.47 1.35L5.41 20z\"/>\n",
              "  </svg>\n",
              "      </button>\n",
              "      \n",
              "  <style>\n",
              "    .colab-df-container {\n",
              "      display:flex;\n",
              "      flex-wrap:wrap;\n",
              "      gap: 12px;\n",
              "    }\n",
              "\n",
              "    .colab-df-convert {\n",
              "      background-color: #E8F0FE;\n",
              "      border: none;\n",
              "      border-radius: 50%;\n",
              "      cursor: pointer;\n",
              "      display: none;\n",
              "      fill: #1967D2;\n",
              "      height: 32px;\n",
              "      padding: 0 0 0 0;\n",
              "      width: 32px;\n",
              "    }\n",
              "\n",
              "    .colab-df-convert:hover {\n",
              "      background-color: #E2EBFA;\n",
              "      box-shadow: 0px 1px 2px rgba(60, 64, 67, 0.3), 0px 1px 3px 1px rgba(60, 64, 67, 0.15);\n",
              "      fill: #174EA6;\n",
              "    }\n",
              "\n",
              "    [theme=dark] .colab-df-convert {\n",
              "      background-color: #3B4455;\n",
              "      fill: #D2E3FC;\n",
              "    }\n",
              "\n",
              "    [theme=dark] .colab-df-convert:hover {\n",
              "      background-color: #434B5C;\n",
              "      box-shadow: 0px 1px 3px 1px rgba(0, 0, 0, 0.15);\n",
              "      filter: drop-shadow(0px 1px 2px rgba(0, 0, 0, 0.3));\n",
              "      fill: #FFFFFF;\n",
              "    }\n",
              "  </style>\n",
              "\n",
              "      <script>\n",
              "        const buttonEl =\n",
              "          document.querySelector('#df-9506de4a-b5de-4a5d-9a6a-05d9b123216c button.colab-df-convert');\n",
              "        buttonEl.style.display =\n",
              "          google.colab.kernel.accessAllowed ? 'block' : 'none';\n",
              "\n",
              "        async function convertToInteractive(key) {\n",
              "          const element = document.querySelector('#df-9506de4a-b5de-4a5d-9a6a-05d9b123216c');\n",
              "          const dataTable =\n",
              "            await google.colab.kernel.invokeFunction('convertToInteractive',\n",
              "                                                     [key], {});\n",
              "          if (!dataTable) return;\n",
              "\n",
              "          const docLinkHtml = 'Like what you see? Visit the ' +\n",
              "            '<a target=\"_blank\" href=https://colab.research.google.com/notebooks/data_table.ipynb>data table notebook</a>'\n",
              "            + ' to learn more about interactive tables.';\n",
              "          element.innerHTML = '';\n",
              "          dataTable['output_type'] = 'display_data';\n",
              "          await google.colab.output.renderOutput(dataTable, element);\n",
              "          const docLink = document.createElement('div');\n",
              "          docLink.innerHTML = docLinkHtml;\n",
              "          element.appendChild(docLink);\n",
              "        }\n",
              "      </script>\n",
              "    </div>\n",
              "  </div>\n",
              "  "
            ]
          },
          "metadata": {},
          "execution_count": 56
        }
      ]
    },
    {
      "cell_type": "code",
      "source": [
        "# 8.1 Begin discretization\n",
        "dis = KBinsDiscretizer(encode =  'ordinal',\n",
        "                       strategy = 'kmeans',\n",
        "                       n_bins = 5)\n"
      ],
      "metadata": {
        "id": "SslV1jYoEgjj"
      },
      "execution_count": null,
      "outputs": []
    },
    {
      "cell_type": "code",
      "source": [
        "# 8.2 Discretize into two new features\n",
        "dis.fit(X_imp_feat_train.iloc[:,[4,5]])"
      ],
      "metadata": {
        "colab": {
          "base_uri": "https://localhost:8080/"
        },
        "id": "XHiSVFDmEyvl",
        "outputId": "f43d9f59-91a0-4690-fd8a-a91eaecd2628"
      },
      "execution_count": null,
      "outputs": [
        {
          "output_type": "stream",
          "name": "stderr",
          "text": [
            "/usr/local/lib/python3.7/dist-packages/sklearn/preprocessing/_discretization.py:219: ConvergenceWarning: Number of distinct clusters (4) found smaller than n_clusters (5). Possibly due to duplicate points in X.\n",
            "  centers = km.fit(column[:, None]).cluster_centers_[:, 0]\n",
            "/usr/local/lib/python3.7/dist-packages/sklearn/preprocessing/_discretization.py:233: UserWarning: Bins whose width are too small (i.e., <= 1e-8) in feature 1 are removed. Consider decreasing the number of bins.\n",
            "  \"decreasing the number of bins.\" % jj\n"
          ]
        },
        {
          "output_type": "execute_result",
          "data": {
            "text/plain": [
              "KBinsDiscretizer(encode='ordinal', strategy='kmeans')"
            ]
          },
          "metadata": {},
          "execution_count": 59
        }
      ]
    },
    {
      "cell_type": "code",
      "source": [
        "# 8.3\n",
        "X_train_feat_new = dis.transform(X_imp_feat_train.iloc[:, [4,5]])\n",
        "X_test_feat_new = dis.transform(X_imp_feat_test.iloc[:, [4,5]])\n",
        "X_train_feat_new"
      ],
      "metadata": {
        "colab": {
          "base_uri": "https://localhost:8080/"
        },
        "id": "R6S_JWACE2x1",
        "outputId": "0977f0fc-09f2-4400-b069-76700e593223"
      },
      "execution_count": null,
      "outputs": [
        {
          "output_type": "execute_result",
          "data": {
            "text/plain": [
              "array([[1., 1.],\n",
              "       [0., 3.],\n",
              "       [0., 3.],\n",
              "       ...,\n",
              "       [1., 3.],\n",
              "       [0., 1.],\n",
              "       [0., 3.]])"
            ]
          },
          "metadata": {},
          "execution_count": 63
        }
      ]
    },
    {
      "cell_type": "code",
      "source": [
        "# 8.4 Horizontal stack with existing features\n",
        "X_imp_feat_train = np.hstack([X_imp_feat_train,X_train_feat_new ])\n",
        "X_imp_feat_test = np.hstack([X_imp_feat_test, X_test_feat_new])"
      ],
      "metadata": {
        "id": "M3arg9P5E5sD"
      },
      "execution_count": null,
      "outputs": []
    },
    {
      "cell_type": "code",
      "source": [
        "# 8.5 Check\n",
        "X_imp_feat_train.shape           # (800, 20)\n",
        "X_imp_feat_test.shape            # (200, 20)"
      ],
      "metadata": {
        "colab": {
          "base_uri": "https://localhost:8080/"
        },
        "id": "NXWrlQQKE9E3",
        "outputId": "7e1a7da2-1d10-4dfa-cce9-68e0c52c2aec"
      },
      "execution_count": null,
      "outputs": [
        {
          "output_type": "execute_result",
          "data": {
            "text/plain": [
              "(800, 20)"
            ]
          },
          "metadata": {},
          "execution_count": 65
        },
        {
          "output_type": "execute_result",
          "data": {
            "text/plain": [
              "(200, 20)"
            ]
          },
          "metadata": {},
          "execution_count": 65
        }
      ]
    },
    {
      "cell_type": "code",
      "source": [
        "# 9.0 Model and get classification report\n",
        "clfn = RandomForestClassifier(n_estimators=1000)\n",
        "clfn.fit(X_imp_feat_train, y_train)\n",
        "yn_pred = clfn.predict(X_imp_feat_test)"
      ],
      "metadata": {
        "colab": {
          "base_uri": "https://localhost:8080/"
        },
        "id": "Hz68uCx2FAcm",
        "outputId": "100fa4d7-7ee0-40d1-a5f5-cbcb20209d97"
      },
      "execution_count": null,
      "outputs": [
        {
          "output_type": "execute_result",
          "data": {
            "text/plain": [
              "RandomForestClassifier(n_estimators=1000)"
            ]
          },
          "metadata": {},
          "execution_count": 66
        }
      ]
    },
    {
      "cell_type": "code",
      "source": [
        "# 9.1 Get allreports at one place\n",
        "print(classification_report(y_test, y_pred), accuracy_score(y_test,y_pred))\n",
        "print(classification_report(y_test, ys_pred), accuracy_score(y_test, ys_pred))\n",
        "print(classification_report(y_test, yn_pred), accuracy_score(y_test, yn_pred))"
      ],
      "metadata": {
        "colab": {
          "base_uri": "https://localhost:8080/"
        },
        "id": "ag79xSKVFD1i",
        "outputId": "4429397c-31ee-459f-c1a1-d2fd08518cdf"
      },
      "execution_count": null,
      "outputs": [
        {
          "output_type": "stream",
          "name": "stdout",
          "text": [
            "              precision    recall  f1-score   support\n",
            "\n",
            "           0       0.60      0.43      0.50        60\n",
            "           1       0.78      0.88      0.83       140\n",
            "\n",
            "    accuracy                           0.74       200\n",
            "   macro avg       0.69      0.66      0.67       200\n",
            "weighted avg       0.73      0.74      0.73       200\n",
            " 0.745\n",
            "              precision    recall  f1-score   support\n",
            "\n",
            "           0       0.63      0.45      0.52        60\n",
            "           1       0.79      0.89      0.84       140\n",
            "\n",
            "    accuracy                           0.76       200\n",
            "   macro avg       0.71      0.67      0.68       200\n",
            "weighted avg       0.74      0.76      0.74       200\n",
            " 0.755\n",
            "              precision    recall  f1-score   support\n",
            "\n",
            "           0       0.62      0.47      0.53        60\n",
            "           1       0.79      0.88      0.83       140\n",
            "\n",
            "    accuracy                           0.76       200\n",
            "   macro avg       0.71      0.67      0.68       200\n",
            "weighted avg       0.74      0.76      0.74       200\n",
            " 0.755\n"
          ]
        }
      ]
    },
    {
      "cell_type": "code",
      "source": [
        "#################################\n",
        "# Part III: Feature engineering as a part of pipe\n",
        "#################################\n"
      ],
      "metadata": {
        "id": "ytXL7rtlZZv_"
      },
      "execution_count": null,
      "outputs": []
    },
    {
      "cell_type": "code",
      "source": [
        "# 10 Putting all together i\n",
        "#     Generally gives realistic results\n",
        "#      Transform data => Select K Best => Preform modeling\n",
        "\n",
        "# 10.1 Columns that we will discretise\n",
        "num_cols = ['credit_amount', 'age']\n",
        "\n",
        "# 10.2 Get locations of columns in our dataset\n",
        "v1 = np.where(X_train.columns.values == 'age')             # returns location as an array\n",
        "v2 = np.where(X_train.columns.values == 'credit_amount')\n",
        "v1        # v1 is array:  (array([11], dtype=int64),)\n",
        "v1,v2= np.asscalar(v1[0]), np.asscalar(v2[0])     # Array to scalar\n",
        "v1,v2\n",
        "\n",
        "# 10.3 Instaniate discretizer\n",
        "dis = KBinsDiscretizer(encode =  'ordinal',\n",
        "                       strategy = 'kmeans',\n",
        "                       n_bins = 3)\n",
        "\n",
        "# 10.4 As a demo of its use, fit it ans use it to transform data\n",
        "dis.fit(X_train)\n",
        "dis.transform(X_train)[ : ,[v1,v2] ]\n",
        "\n",
        "# 10.5 After transformation of a column by KBinsDiscretizer,\n",
        "#       that column is dropped. To continue to keep that column,\n",
        "#        let us create a duplicate\n",
        "#         We can also create a function to automatically create\n",
        "#          duplicates of whichever columns we are discretizing\n",
        "\n",
        "# 10.6 Write a function to discretise\n",
        "\n",
        "def my_duplicator(x):\n",
        "    for i in x:\n",
        "        newColname = i + \"_dup\"\n",
        "        X_train[newColname] = X_train[i]\n",
        "        X_test[newColname] = X_test[i]\n",
        "\n",
        "my_duplicator(num_cols)\n",
        "\n",
        "# 10.6.1 Check\n",
        "X_train.head()\n",
        "X_test.head()\n",
        "\n",
        "\n",
        "# 11. We now use ColumnTransformer\n",
        "# Syntax: ColumnTransformer(transformers, remainder='drop' or 'passthrough')\n",
        "#                           transformers =  (name, transformer, columns)\n",
        "ct = ColumnTransformer(\n",
        "                        [\n",
        "                         ('ct', dis, num_cols)           # This list contains only one transformer tuple\n",
        "                        ],\n",
        "                        remainder = 'passthrough'\n",
        "                      )\n",
        "\n",
        "# 11.1 Our estimator/classifier will be the RF object\n",
        "#      Instaniate the RandomForestClassifier class\n",
        "estimator = RandomForestClassifier(n_estimators = 1000)\n",
        "\n",
        "# 11.2 Create a pipline of all operations. In ColumnTransformer, operations on Columns\n",
        "#      take place parallely, in pipeline, these are sequential\n",
        "pipe = Pipeline([\n",
        "                 ('colTrans', ct),                                                        # Transform columns\n",
        "                 ('sb', SelectFromModel(estimator, threshold = 'mean', prefit = False)),  # Select best possible features\n",
        "                 ('rf', RandomForestClassifier(n_estimators = 1000))                      # Use best features for modeling\n",
        "                 ]\n",
        "                )\n",
        "\n",
        "# 11.3 Train the pipe and make predictions\n",
        "pipe.fit(X_train, y_train)\n",
        "yd_pred = pipe.predict(X_test)\n",
        "\n",
        "# 11.4 All results at one place.. Compare accuracy score also\n",
        "print(classification_report(y_test, y_pred), accuracy_score(y_test,y_pred))\n",
        "print(classification_report(y_test, ys_pred), accuracy_score(y_test, ys_pred))\n",
        "print(classification_report(y_test, yn_pred), accuracy_score(y_test, yn_pred))\n",
        "print(classification_report(y_test, yd_pred), accuracy_score(y_test, yd_pred))\n"
      ],
      "metadata": {
        "colab": {
          "base_uri": "https://localhost:8080/",
          "height": 1000
        },
        "id": "rPofjs6UZkMM",
        "outputId": "32907d90-7e4a-40a4-919e-62548f5bd05d"
      },
      "execution_count": null,
      "outputs": [
        {
          "output_type": "execute_result",
          "data": {
            "text/plain": [
              "(array([11]),)"
            ]
          },
          "metadata": {},
          "execution_count": 68
        },
        {
          "output_type": "stream",
          "name": "stderr",
          "text": [
            "/usr/local/lib/python3.7/dist-packages/ipykernel_launcher.py:12: DeprecationWarning: np.asscalar(a) is deprecated since NumPy v1.16, use a.item() instead\n",
            "  if sys.path[0] == '':\n"
          ]
        },
        {
          "output_type": "execute_result",
          "data": {
            "text/plain": [
              "(11, 4)"
            ]
          },
          "metadata": {},
          "execution_count": 68
        },
        {
          "output_type": "stream",
          "name": "stderr",
          "text": [
            "/usr/local/lib/python3.7/dist-packages/sklearn/preprocessing/_discretization.py:219: ConvergenceWarning: Number of distinct clusters (2) found smaller than n_clusters (3). Possibly due to duplicate points in X.\n",
            "  centers = km.fit(column[:, None]).cluster_centers_[:, 0]\n",
            "/usr/local/lib/python3.7/dist-packages/sklearn/preprocessing/_discretization.py:233: UserWarning: Bins whose width are too small (i.e., <= 1e-8) in feature 16 are removed. Consider decreasing the number of bins.\n",
            "  \"decreasing the number of bins.\" % jj\n",
            "/usr/local/lib/python3.7/dist-packages/sklearn/preprocessing/_discretization.py:219: ConvergenceWarning: Number of distinct clusters (2) found smaller than n_clusters (3). Possibly due to duplicate points in X.\n",
            "  centers = km.fit(column[:, None]).cluster_centers_[:, 0]\n",
            "/usr/local/lib/python3.7/dist-packages/sklearn/preprocessing/_discretization.py:233: UserWarning: Bins whose width are too small (i.e., <= 1e-8) in feature 17 are removed. Consider decreasing the number of bins.\n",
            "  \"decreasing the number of bins.\" % jj\n",
            "/usr/local/lib/python3.7/dist-packages/sklearn/preprocessing/_discretization.py:219: ConvergenceWarning: Number of distinct clusters (2) found smaller than n_clusters (3). Possibly due to duplicate points in X.\n",
            "  centers = km.fit(column[:, None]).cluster_centers_[:, 0]\n",
            "/usr/local/lib/python3.7/dist-packages/sklearn/preprocessing/_discretization.py:233: UserWarning: Bins whose width are too small (i.e., <= 1e-8) in feature 18 are removed. Consider decreasing the number of bins.\n",
            "  \"decreasing the number of bins.\" % jj\n"
          ]
        },
        {
          "output_type": "execute_result",
          "data": {
            "text/plain": [
              "KBinsDiscretizer(encode='ordinal', n_bins=3, strategy='kmeans')"
            ]
          },
          "metadata": {},
          "execution_count": 68
        },
        {
          "output_type": "execute_result",
          "data": {
            "text/plain": [
              "array([[1., 0.],\n",
              "       [0., 0.],\n",
              "       [2., 0.],\n",
              "       ...,\n",
              "       [0., 1.],\n",
              "       [1., 0.],\n",
              "       [1., 0.]])"
            ]
          },
          "metadata": {},
          "execution_count": 68
        },
        {
          "output_type": "execute_result",
          "data": {
            "text/plain": [
              "     account_balance  previous_credit_payment_status  credit_duration_month  \\\n",
              "15                 1                               2                      6   \n",
              "603                1                               2                     12   \n",
              "597                1                               4                     21   \n",
              "923                1                               0                     27   \n",
              "724                1                               2                     24   \n",
              "\n",
              "     purpose_of_earlier_credit  credit_amount  installment_percent  \\\n",
              "15                           3           2647                    2   \n",
              "603                          2           1289                    4   \n",
              "597                          0            571                    4   \n",
              "923                          9           5293                    2   \n",
              "724                          2           4020                    2   \n",
              "\n",
              "     current_emploment_length  sex_and_marital_status  guarantors  \\\n",
              "15                          3                       3           1   \n",
              "603                         3                       3           3   \n",
              "597                         5                       3           1   \n",
              "923                         1                       3           1   \n",
              "724                         3                       3           1   \n",
              "\n",
              "     duration_at_current_address  ...  age  concurrent_credits  apartmenttype  \\\n",
              "15                             3  ...   44                   3              1   \n",
              "603                            1  ...   21                   3              2   \n",
              "597                            4  ...   65                   3              2   \n",
              "923                            4  ...   50                   3              2   \n",
              "724                            2  ...   27                   2              2   \n",
              "\n",
              "     howmanycreditsat_this_bank  occupation  dependents  telephone  \\\n",
              "15                            1           3           2          1   \n",
              "603                           1           2           1          1   \n",
              "597                           2           3           1          1   \n",
              "923                           2           3           1          2   \n",
              "724                           1           3           1          1   \n",
              "\n",
              "     foreign_worker  credit_amount_dup  age_dup  \n",
              "15                1               2647       44  \n",
              "603               1               1289       21  \n",
              "597               1                571       65  \n",
              "923               1               5293       50  \n",
              "724               1               4020       27  \n",
              "\n",
              "[5 rows x 21 columns]"
            ],
            "text/html": [
              "\n",
              "  <div id=\"df-364b840a-106c-4145-aee5-a831a86e5aeb\">\n",
              "    <div class=\"colab-df-container\">\n",
              "      <div>\n",
              "<style scoped>\n",
              "    .dataframe tbody tr th:only-of-type {\n",
              "        vertical-align: middle;\n",
              "    }\n",
              "\n",
              "    .dataframe tbody tr th {\n",
              "        vertical-align: top;\n",
              "    }\n",
              "\n",
              "    .dataframe thead th {\n",
              "        text-align: right;\n",
              "    }\n",
              "</style>\n",
              "<table border=\"1\" class=\"dataframe\">\n",
              "  <thead>\n",
              "    <tr style=\"text-align: right;\">\n",
              "      <th></th>\n",
              "      <th>account_balance</th>\n",
              "      <th>previous_credit_payment_status</th>\n",
              "      <th>credit_duration_month</th>\n",
              "      <th>purpose_of_earlier_credit</th>\n",
              "      <th>credit_amount</th>\n",
              "      <th>installment_percent</th>\n",
              "      <th>current_emploment_length</th>\n",
              "      <th>sex_and_marital_status</th>\n",
              "      <th>guarantors</th>\n",
              "      <th>duration_at_current_address</th>\n",
              "      <th>...</th>\n",
              "      <th>age</th>\n",
              "      <th>concurrent_credits</th>\n",
              "      <th>apartmenttype</th>\n",
              "      <th>howmanycreditsat_this_bank</th>\n",
              "      <th>occupation</th>\n",
              "      <th>dependents</th>\n",
              "      <th>telephone</th>\n",
              "      <th>foreign_worker</th>\n",
              "      <th>credit_amount_dup</th>\n",
              "      <th>age_dup</th>\n",
              "    </tr>\n",
              "  </thead>\n",
              "  <tbody>\n",
              "    <tr>\n",
              "      <th>15</th>\n",
              "      <td>1</td>\n",
              "      <td>2</td>\n",
              "      <td>6</td>\n",
              "      <td>3</td>\n",
              "      <td>2647</td>\n",
              "      <td>2</td>\n",
              "      <td>3</td>\n",
              "      <td>3</td>\n",
              "      <td>1</td>\n",
              "      <td>3</td>\n",
              "      <td>...</td>\n",
              "      <td>44</td>\n",
              "      <td>3</td>\n",
              "      <td>1</td>\n",
              "      <td>1</td>\n",
              "      <td>3</td>\n",
              "      <td>2</td>\n",
              "      <td>1</td>\n",
              "      <td>1</td>\n",
              "      <td>2647</td>\n",
              "      <td>44</td>\n",
              "    </tr>\n",
              "    <tr>\n",
              "      <th>603</th>\n",
              "      <td>1</td>\n",
              "      <td>2</td>\n",
              "      <td>12</td>\n",
              "      <td>2</td>\n",
              "      <td>1289</td>\n",
              "      <td>4</td>\n",
              "      <td>3</td>\n",
              "      <td>3</td>\n",
              "      <td>3</td>\n",
              "      <td>1</td>\n",
              "      <td>...</td>\n",
              "      <td>21</td>\n",
              "      <td>3</td>\n",
              "      <td>2</td>\n",
              "      <td>1</td>\n",
              "      <td>2</td>\n",
              "      <td>1</td>\n",
              "      <td>1</td>\n",
              "      <td>1</td>\n",
              "      <td>1289</td>\n",
              "      <td>21</td>\n",
              "    </tr>\n",
              "    <tr>\n",
              "      <th>597</th>\n",
              "      <td>1</td>\n",
              "      <td>4</td>\n",
              "      <td>21</td>\n",
              "      <td>0</td>\n",
              "      <td>571</td>\n",
              "      <td>4</td>\n",
              "      <td>5</td>\n",
              "      <td>3</td>\n",
              "      <td>1</td>\n",
              "      <td>4</td>\n",
              "      <td>...</td>\n",
              "      <td>65</td>\n",
              "      <td>3</td>\n",
              "      <td>2</td>\n",
              "      <td>2</td>\n",
              "      <td>3</td>\n",
              "      <td>1</td>\n",
              "      <td>1</td>\n",
              "      <td>1</td>\n",
              "      <td>571</td>\n",
              "      <td>65</td>\n",
              "    </tr>\n",
              "    <tr>\n",
              "      <th>923</th>\n",
              "      <td>1</td>\n",
              "      <td>0</td>\n",
              "      <td>27</td>\n",
              "      <td>9</td>\n",
              "      <td>5293</td>\n",
              "      <td>2</td>\n",
              "      <td>1</td>\n",
              "      <td>3</td>\n",
              "      <td>1</td>\n",
              "      <td>4</td>\n",
              "      <td>...</td>\n",
              "      <td>50</td>\n",
              "      <td>3</td>\n",
              "      <td>2</td>\n",
              "      <td>2</td>\n",
              "      <td>3</td>\n",
              "      <td>1</td>\n",
              "      <td>2</td>\n",
              "      <td>1</td>\n",
              "      <td>5293</td>\n",
              "      <td>50</td>\n",
              "    </tr>\n",
              "    <tr>\n",
              "      <th>724</th>\n",
              "      <td>1</td>\n",
              "      <td>2</td>\n",
              "      <td>24</td>\n",
              "      <td>2</td>\n",
              "      <td>4020</td>\n",
              "      <td>2</td>\n",
              "      <td>3</td>\n",
              "      <td>3</td>\n",
              "      <td>1</td>\n",
              "      <td>2</td>\n",
              "      <td>...</td>\n",
              "      <td>27</td>\n",
              "      <td>2</td>\n",
              "      <td>2</td>\n",
              "      <td>1</td>\n",
              "      <td>3</td>\n",
              "      <td>1</td>\n",
              "      <td>1</td>\n",
              "      <td>1</td>\n",
              "      <td>4020</td>\n",
              "      <td>27</td>\n",
              "    </tr>\n",
              "  </tbody>\n",
              "</table>\n",
              "<p>5 rows × 21 columns</p>\n",
              "</div>\n",
              "      <button class=\"colab-df-convert\" onclick=\"convertToInteractive('df-364b840a-106c-4145-aee5-a831a86e5aeb')\"\n",
              "              title=\"Convert this dataframe to an interactive table.\"\n",
              "              style=\"display:none;\">\n",
              "        \n",
              "  <svg xmlns=\"http://www.w3.org/2000/svg\" height=\"24px\"viewBox=\"0 0 24 24\"\n",
              "       width=\"24px\">\n",
              "    <path d=\"M0 0h24v24H0V0z\" fill=\"none\"/>\n",
              "    <path d=\"M18.56 5.44l.94 2.06.94-2.06 2.06-.94-2.06-.94-.94-2.06-.94 2.06-2.06.94zm-11 1L8.5 8.5l.94-2.06 2.06-.94-2.06-.94L8.5 2.5l-.94 2.06-2.06.94zm10 10l.94 2.06.94-2.06 2.06-.94-2.06-.94-.94-2.06-.94 2.06-2.06.94z\"/><path d=\"M17.41 7.96l-1.37-1.37c-.4-.4-.92-.59-1.43-.59-.52 0-1.04.2-1.43.59L10.3 9.45l-7.72 7.72c-.78.78-.78 2.05 0 2.83L4 21.41c.39.39.9.59 1.41.59.51 0 1.02-.2 1.41-.59l7.78-7.78 2.81-2.81c.8-.78.8-2.07 0-2.86zM5.41 20L4 18.59l7.72-7.72 1.47 1.35L5.41 20z\"/>\n",
              "  </svg>\n",
              "      </button>\n",
              "      \n",
              "  <style>\n",
              "    .colab-df-container {\n",
              "      display:flex;\n",
              "      flex-wrap:wrap;\n",
              "      gap: 12px;\n",
              "    }\n",
              "\n",
              "    .colab-df-convert {\n",
              "      background-color: #E8F0FE;\n",
              "      border: none;\n",
              "      border-radius: 50%;\n",
              "      cursor: pointer;\n",
              "      display: none;\n",
              "      fill: #1967D2;\n",
              "      height: 32px;\n",
              "      padding: 0 0 0 0;\n",
              "      width: 32px;\n",
              "    }\n",
              "\n",
              "    .colab-df-convert:hover {\n",
              "      background-color: #E2EBFA;\n",
              "      box-shadow: 0px 1px 2px rgba(60, 64, 67, 0.3), 0px 1px 3px 1px rgba(60, 64, 67, 0.15);\n",
              "      fill: #174EA6;\n",
              "    }\n",
              "\n",
              "    [theme=dark] .colab-df-convert {\n",
              "      background-color: #3B4455;\n",
              "      fill: #D2E3FC;\n",
              "    }\n",
              "\n",
              "    [theme=dark] .colab-df-convert:hover {\n",
              "      background-color: #434B5C;\n",
              "      box-shadow: 0px 1px 3px 1px rgba(0, 0, 0, 0.15);\n",
              "      filter: drop-shadow(0px 1px 2px rgba(0, 0, 0, 0.3));\n",
              "      fill: #FFFFFF;\n",
              "    }\n",
              "  </style>\n",
              "\n",
              "      <script>\n",
              "        const buttonEl =\n",
              "          document.querySelector('#df-364b840a-106c-4145-aee5-a831a86e5aeb button.colab-df-convert');\n",
              "        buttonEl.style.display =\n",
              "          google.colab.kernel.accessAllowed ? 'block' : 'none';\n",
              "\n",
              "        async function convertToInteractive(key) {\n",
              "          const element = document.querySelector('#df-364b840a-106c-4145-aee5-a831a86e5aeb');\n",
              "          const dataTable =\n",
              "            await google.colab.kernel.invokeFunction('convertToInteractive',\n",
              "                                                     [key], {});\n",
              "          if (!dataTable) return;\n",
              "\n",
              "          const docLinkHtml = 'Like what you see? Visit the ' +\n",
              "            '<a target=\"_blank\" href=https://colab.research.google.com/notebooks/data_table.ipynb>data table notebook</a>'\n",
              "            + ' to learn more about interactive tables.';\n",
              "          element.innerHTML = '';\n",
              "          dataTable['output_type'] = 'display_data';\n",
              "          await google.colab.output.renderOutput(dataTable, element);\n",
              "          const docLink = document.createElement('div');\n",
              "          docLink.innerHTML = docLinkHtml;\n",
              "          element.appendChild(docLink);\n",
              "        }\n",
              "      </script>\n",
              "    </div>\n",
              "  </div>\n",
              "  "
            ]
          },
          "metadata": {},
          "execution_count": 68
        },
        {
          "output_type": "execute_result",
          "data": {
            "text/plain": [
              "     account_balance  previous_credit_payment_status  credit_duration_month  \\\n",
              "535                2                               2                     24   \n",
              "524                2                               4                     12   \n",
              "848                2                               2                     36   \n",
              "995                1                               2                     24   \n",
              "0                  1                               4                     18   \n",
              "\n",
              "     purpose_of_earlier_credit  credit_amount  installment_percent  \\\n",
              "535                          3           1967                    4   \n",
              "524                          1           1860                    4   \n",
              "848                          3           2671                    4   \n",
              "995                          3           1987                    2   \n",
              "0                            2           1049                    4   \n",
              "\n",
              "     current_emploment_length  sex_and_marital_status  guarantors  \\\n",
              "535                         5                       2           1   \n",
              "524                         1                       3           1   \n",
              "848                         3                       2           2   \n",
              "995                         3                       3           1   \n",
              "0                           2                       2           1   \n",
              "\n",
              "     duration_at_current_address  ...  age  concurrent_credits  apartmenttype  \\\n",
              "535                            4  ...   20                   3              2   \n",
              "524                            2  ...   34                   3              2   \n",
              "848                            4  ...   50                   3              3   \n",
              "995                            4  ...   21                   3              1   \n",
              "0                              4  ...   21                   3              1   \n",
              "\n",
              "     howmanycreditsat_this_bank  occupation  dependents  telephone  \\\n",
              "535                           1           3           1          2   \n",
              "524                           2           4           1          2   \n",
              "848                           1           3           1          1   \n",
              "995                           1           2           2          1   \n",
              "0                             1           3           1          1   \n",
              "\n",
              "     foreign_worker  credit_amount_dup  age_dup  \n",
              "535               1               1967       20  \n",
              "524               1               1860       34  \n",
              "848               1               2671       50  \n",
              "995               1               1987       21  \n",
              "0                 1               1049       21  \n",
              "\n",
              "[5 rows x 21 columns]"
            ],
            "text/html": [
              "\n",
              "  <div id=\"df-af185095-ac1e-4699-9582-e057772e78a9\">\n",
              "    <div class=\"colab-df-container\">\n",
              "      <div>\n",
              "<style scoped>\n",
              "    .dataframe tbody tr th:only-of-type {\n",
              "        vertical-align: middle;\n",
              "    }\n",
              "\n",
              "    .dataframe tbody tr th {\n",
              "        vertical-align: top;\n",
              "    }\n",
              "\n",
              "    .dataframe thead th {\n",
              "        text-align: right;\n",
              "    }\n",
              "</style>\n",
              "<table border=\"1\" class=\"dataframe\">\n",
              "  <thead>\n",
              "    <tr style=\"text-align: right;\">\n",
              "      <th></th>\n",
              "      <th>account_balance</th>\n",
              "      <th>previous_credit_payment_status</th>\n",
              "      <th>credit_duration_month</th>\n",
              "      <th>purpose_of_earlier_credit</th>\n",
              "      <th>credit_amount</th>\n",
              "      <th>installment_percent</th>\n",
              "      <th>current_emploment_length</th>\n",
              "      <th>sex_and_marital_status</th>\n",
              "      <th>guarantors</th>\n",
              "      <th>duration_at_current_address</th>\n",
              "      <th>...</th>\n",
              "      <th>age</th>\n",
              "      <th>concurrent_credits</th>\n",
              "      <th>apartmenttype</th>\n",
              "      <th>howmanycreditsat_this_bank</th>\n",
              "      <th>occupation</th>\n",
              "      <th>dependents</th>\n",
              "      <th>telephone</th>\n",
              "      <th>foreign_worker</th>\n",
              "      <th>credit_amount_dup</th>\n",
              "      <th>age_dup</th>\n",
              "    </tr>\n",
              "  </thead>\n",
              "  <tbody>\n",
              "    <tr>\n",
              "      <th>535</th>\n",
              "      <td>2</td>\n",
              "      <td>2</td>\n",
              "      <td>24</td>\n",
              "      <td>3</td>\n",
              "      <td>1967</td>\n",
              "      <td>4</td>\n",
              "      <td>5</td>\n",
              "      <td>2</td>\n",
              "      <td>1</td>\n",
              "      <td>4</td>\n",
              "      <td>...</td>\n",
              "      <td>20</td>\n",
              "      <td>3</td>\n",
              "      <td>2</td>\n",
              "      <td>1</td>\n",
              "      <td>3</td>\n",
              "      <td>1</td>\n",
              "      <td>2</td>\n",
              "      <td>1</td>\n",
              "      <td>1967</td>\n",
              "      <td>20</td>\n",
              "    </tr>\n",
              "    <tr>\n",
              "      <th>524</th>\n",
              "      <td>2</td>\n",
              "      <td>4</td>\n",
              "      <td>12</td>\n",
              "      <td>1</td>\n",
              "      <td>1860</td>\n",
              "      <td>4</td>\n",
              "      <td>1</td>\n",
              "      <td>3</td>\n",
              "      <td>1</td>\n",
              "      <td>2</td>\n",
              "      <td>...</td>\n",
              "      <td>34</td>\n",
              "      <td>3</td>\n",
              "      <td>2</td>\n",
              "      <td>2</td>\n",
              "      <td>4</td>\n",
              "      <td>1</td>\n",
              "      <td>2</td>\n",
              "      <td>1</td>\n",
              "      <td>1860</td>\n",
              "      <td>34</td>\n",
              "    </tr>\n",
              "    <tr>\n",
              "      <th>848</th>\n",
              "      <td>2</td>\n",
              "      <td>2</td>\n",
              "      <td>36</td>\n",
              "      <td>3</td>\n",
              "      <td>2671</td>\n",
              "      <td>4</td>\n",
              "      <td>3</td>\n",
              "      <td>2</td>\n",
              "      <td>2</td>\n",
              "      <td>4</td>\n",
              "      <td>...</td>\n",
              "      <td>50</td>\n",
              "      <td>3</td>\n",
              "      <td>3</td>\n",
              "      <td>1</td>\n",
              "      <td>3</td>\n",
              "      <td>1</td>\n",
              "      <td>1</td>\n",
              "      <td>1</td>\n",
              "      <td>2671</td>\n",
              "      <td>50</td>\n",
              "    </tr>\n",
              "    <tr>\n",
              "      <th>995</th>\n",
              "      <td>1</td>\n",
              "      <td>2</td>\n",
              "      <td>24</td>\n",
              "      <td>3</td>\n",
              "      <td>1987</td>\n",
              "      <td>2</td>\n",
              "      <td>3</td>\n",
              "      <td>3</td>\n",
              "      <td>1</td>\n",
              "      <td>4</td>\n",
              "      <td>...</td>\n",
              "      <td>21</td>\n",
              "      <td>3</td>\n",
              "      <td>1</td>\n",
              "      <td>1</td>\n",
              "      <td>2</td>\n",
              "      <td>2</td>\n",
              "      <td>1</td>\n",
              "      <td>1</td>\n",
              "      <td>1987</td>\n",
              "      <td>21</td>\n",
              "    </tr>\n",
              "    <tr>\n",
              "      <th>0</th>\n",
              "      <td>1</td>\n",
              "      <td>4</td>\n",
              "      <td>18</td>\n",
              "      <td>2</td>\n",
              "      <td>1049</td>\n",
              "      <td>4</td>\n",
              "      <td>2</td>\n",
              "      <td>2</td>\n",
              "      <td>1</td>\n",
              "      <td>4</td>\n",
              "      <td>...</td>\n",
              "      <td>21</td>\n",
              "      <td>3</td>\n",
              "      <td>1</td>\n",
              "      <td>1</td>\n",
              "      <td>3</td>\n",
              "      <td>1</td>\n",
              "      <td>1</td>\n",
              "      <td>1</td>\n",
              "      <td>1049</td>\n",
              "      <td>21</td>\n",
              "    </tr>\n",
              "  </tbody>\n",
              "</table>\n",
              "<p>5 rows × 21 columns</p>\n",
              "</div>\n",
              "      <button class=\"colab-df-convert\" onclick=\"convertToInteractive('df-af185095-ac1e-4699-9582-e057772e78a9')\"\n",
              "              title=\"Convert this dataframe to an interactive table.\"\n",
              "              style=\"display:none;\">\n",
              "        \n",
              "  <svg xmlns=\"http://www.w3.org/2000/svg\" height=\"24px\"viewBox=\"0 0 24 24\"\n",
              "       width=\"24px\">\n",
              "    <path d=\"M0 0h24v24H0V0z\" fill=\"none\"/>\n",
              "    <path d=\"M18.56 5.44l.94 2.06.94-2.06 2.06-.94-2.06-.94-.94-2.06-.94 2.06-2.06.94zm-11 1L8.5 8.5l.94-2.06 2.06-.94-2.06-.94L8.5 2.5l-.94 2.06-2.06.94zm10 10l.94 2.06.94-2.06 2.06-.94-2.06-.94-.94-2.06-.94 2.06-2.06.94z\"/><path d=\"M17.41 7.96l-1.37-1.37c-.4-.4-.92-.59-1.43-.59-.52 0-1.04.2-1.43.59L10.3 9.45l-7.72 7.72c-.78.78-.78 2.05 0 2.83L4 21.41c.39.39.9.59 1.41.59.51 0 1.02-.2 1.41-.59l7.78-7.78 2.81-2.81c.8-.78.8-2.07 0-2.86zM5.41 20L4 18.59l7.72-7.72 1.47 1.35L5.41 20z\"/>\n",
              "  </svg>\n",
              "      </button>\n",
              "      \n",
              "  <style>\n",
              "    .colab-df-container {\n",
              "      display:flex;\n",
              "      flex-wrap:wrap;\n",
              "      gap: 12px;\n",
              "    }\n",
              "\n",
              "    .colab-df-convert {\n",
              "      background-color: #E8F0FE;\n",
              "      border: none;\n",
              "      border-radius: 50%;\n",
              "      cursor: pointer;\n",
              "      display: none;\n",
              "      fill: #1967D2;\n",
              "      height: 32px;\n",
              "      padding: 0 0 0 0;\n",
              "      width: 32px;\n",
              "    }\n",
              "\n",
              "    .colab-df-convert:hover {\n",
              "      background-color: #E2EBFA;\n",
              "      box-shadow: 0px 1px 2px rgba(60, 64, 67, 0.3), 0px 1px 3px 1px rgba(60, 64, 67, 0.15);\n",
              "      fill: #174EA6;\n",
              "    }\n",
              "\n",
              "    [theme=dark] .colab-df-convert {\n",
              "      background-color: #3B4455;\n",
              "      fill: #D2E3FC;\n",
              "    }\n",
              "\n",
              "    [theme=dark] .colab-df-convert:hover {\n",
              "      background-color: #434B5C;\n",
              "      box-shadow: 0px 1px 3px 1px rgba(0, 0, 0, 0.15);\n",
              "      filter: drop-shadow(0px 1px 2px rgba(0, 0, 0, 0.3));\n",
              "      fill: #FFFFFF;\n",
              "    }\n",
              "  </style>\n",
              "\n",
              "      <script>\n",
              "        const buttonEl =\n",
              "          document.querySelector('#df-af185095-ac1e-4699-9582-e057772e78a9 button.colab-df-convert');\n",
              "        buttonEl.style.display =\n",
              "          google.colab.kernel.accessAllowed ? 'block' : 'none';\n",
              "\n",
              "        async function convertToInteractive(key) {\n",
              "          const element = document.querySelector('#df-af185095-ac1e-4699-9582-e057772e78a9');\n",
              "          const dataTable =\n",
              "            await google.colab.kernel.invokeFunction('convertToInteractive',\n",
              "                                                     [key], {});\n",
              "          if (!dataTable) return;\n",
              "\n",
              "          const docLinkHtml = 'Like what you see? Visit the ' +\n",
              "            '<a target=\"_blank\" href=https://colab.research.google.com/notebooks/data_table.ipynb>data table notebook</a>'\n",
              "            + ' to learn more about interactive tables.';\n",
              "          element.innerHTML = '';\n",
              "          dataTable['output_type'] = 'display_data';\n",
              "          await google.colab.output.renderOutput(dataTable, element);\n",
              "          const docLink = document.createElement('div');\n",
              "          docLink.innerHTML = docLinkHtml;\n",
              "          element.appendChild(docLink);\n",
              "        }\n",
              "      </script>\n",
              "    </div>\n",
              "  </div>\n",
              "  "
            ]
          },
          "metadata": {},
          "execution_count": 68
        },
        {
          "output_type": "execute_result",
          "data": {
            "text/plain": [
              "Pipeline(steps=[('colTrans',\n",
              "                 ColumnTransformer(remainder='passthrough',\n",
              "                                   transformers=[('ct',\n",
              "                                                  KBinsDiscretizer(encode='ordinal',\n",
              "                                                                   n_bins=3,\n",
              "                                                                   strategy='kmeans'),\n",
              "                                                  ['credit_amount', 'age'])])),\n",
              "                ('sb',\n",
              "                 SelectFromModel(estimator=RandomForestClassifier(n_estimators=1000),\n",
              "                                 threshold='mean')),\n",
              "                ('rf', RandomForestClassifier(n_estimators=1000))])"
            ]
          },
          "metadata": {},
          "execution_count": 68
        },
        {
          "output_type": "stream",
          "name": "stdout",
          "text": [
            "              precision    recall  f1-score   support\n",
            "\n",
            "           0       0.60      0.43      0.50        60\n",
            "           1       0.78      0.88      0.83       140\n",
            "\n",
            "    accuracy                           0.74       200\n",
            "   macro avg       0.69      0.66      0.67       200\n",
            "weighted avg       0.73      0.74      0.73       200\n",
            " 0.745\n",
            "              precision    recall  f1-score   support\n",
            "\n",
            "           0       0.63      0.45      0.52        60\n",
            "           1       0.79      0.89      0.84       140\n",
            "\n",
            "    accuracy                           0.76       200\n",
            "   macro avg       0.71      0.67      0.68       200\n",
            "weighted avg       0.74      0.76      0.74       200\n",
            " 0.755\n",
            "              precision    recall  f1-score   support\n",
            "\n",
            "           0       0.62      0.47      0.53        60\n",
            "           1       0.79      0.88      0.83       140\n",
            "\n",
            "    accuracy                           0.76       200\n",
            "   macro avg       0.71      0.67      0.68       200\n",
            "weighted avg       0.74      0.76      0.74       200\n",
            " 0.755\n",
            "              precision    recall  f1-score   support\n",
            "\n",
            "           0       0.63      0.48      0.55        60\n",
            "           1       0.80      0.88      0.84       140\n",
            "\n",
            "    accuracy                           0.76       200\n",
            "   macro avg       0.71      0.68      0.69       200\n",
            "weighted avg       0.75      0.76      0.75       200\n",
            " 0.76\n"
          ]
        }
      ]
    },
    {
      "cell_type": "code",
      "source": [
        "#############################################################\n",
        "## Part IV: Using GridSearchCV or cross-validation while fitting pipe\n",
        "#############################################################\n"
      ],
      "metadata": {
        "id": "H-1BlqNtZ0BR"
      },
      "execution_count": null,
      "outputs": []
    },
    {
      "cell_type": "code",
      "source": [
        "# 12.0 Columns to discretize\n",
        "num_cols = ['credit_amount', 'age']\n",
        "# 12.1 Our discretizer\n",
        "dis = KBinsDiscretizer(encode =  'ordinal',\n",
        "                       strategy = 'kmeans',\n",
        "                       n_bins = 3)\n",
        "# 12.2 Our estimator for selecting best columns\n",
        "#      in SelectFromModel\n",
        "estimator = RandomForestClassifier(n_estimators = 1000)\n",
        "# 12.3 ColumnTransformer\n",
        "ct = ColumnTransformer(\n",
        "                        [\n",
        "                        ('ct', dis, num_cols)             # One transformer\n",
        "                        ],\n",
        "                        remainder = 'passthrough'       # Allow all other columns\n",
        "                        )\n",
        "\n",
        "\n",
        "# 12.4 This is a demo of use of FunctionTransformer\n",
        "#        Define a function to scale\n",
        "#          just two columns. These will\n",
        "#            be last two columns: age_dup and credit_amount_dup\n",
        "def my_transform(X):\n",
        "    ss = StandardScaler()\n",
        "    X[:, [-1,-2]] = ss.fit_transform(X[:, [-1,-2]])\n",
        "    return X\n",
        "\n",
        "# 12.5 Our function will be part of pipeline. It must have fit()\n",
        "#       and tranform() methods. We wrap it in FunctionTransformer()\n",
        "#        Instantiate the transormer object using our function\n",
        "#         as a parameter\n",
        "scaler = FunctionTransformer(my_transform,           # Our function as a parameter\n",
        "                             validate = False        # Do not check if array is 2D\n",
        "                             )\n",
        "\n",
        "# 12.5 Check if this scaler works\n",
        "#      Create some array of shape (4 X 4)\n",
        "db = np.array( [\n",
        "                [3,2,4,1],\n",
        "                [1,2,3,4],\n",
        "                [2,3,1,2],\n",
        "                [1,2,2,3],\n",
        "               ]\n",
        "             )\n",
        "\n",
        "db\n",
        "# 12.5.1 Use scaler object\n",
        "scaler.fit(db)           # Train scaler\n",
        "scaler.transform(db)     # Transform data\n",
        "\n",
        "# 13. Create new features from few categorical variables\n",
        "#      This is again a demo. We will encode these features\n",
        "#      using WOEEncoder of category_encoders\n",
        "encoder = ce.WOEEncoder(cols=['account_balance', 'previous_credit_payment_status', 'current_emploment_length', 'sex_and_marital_status'])\n",
        "# 13.1 Let us fit it\n",
        "encoder.fit(X_train,y_train)\n",
        "# 13.2 Test if this encoder works\n",
        "out = encoder.transform(X_train)\n",
        "out\n",
        "\n",
        "# 14. Finally put all the above in a pipeline in the order it will be carried out\n",
        "pipe = Pipeline([\n",
        "                 #('woe', encoder),                               # May commentout if performance is bad\n",
        "                 ('colTrans', ct),                                # Bin  ['credit_amount', 'age'] using kmeans\n",
        "                 #('myScaler', scaler),                           # Scale 'age_dup' and 'credit_amount_dup'\n",
        "                 ('sb', SelectFromModel(estimator,                # Select the best features\n",
        "                                        threshold = 'mean',       # 'median' is another option\n",
        "                                        prefit = False\n",
        "                                        )\n",
        "                ),\n",
        "\n",
        "                 ('rf', RandomForestClassifier(n_estimators = 1000))  # Fit\n",
        "                ]\n",
        "                )\n",
        "\n",
        "\n",
        "# 14.1 We now require to write a parameter grid.\n",
        "#      While in a simple object, parameter-names\n",
        "#      are straight-forward, ia nested object\n",
        "#      or a pipeline, objects have prefixes added\n",
        "#      to their parameters.\n",
        "#      Get list of complete parameters.\n",
        "#      to know parameter names\n",
        "pipe.get_params()\n",
        "\n",
        "# 14.2 Out of above, we will consider these parameters for tuning:\n",
        "\"\"\"\n",
        "colTrans__ct__n_bins : 3,\n",
        "colTrans__ct__strategy : 'kmeans'\n",
        "sb__threshold': 'mean'\n",
        "rf__criterion': 'gini'\n",
        "rf__min_samples_leaf': 1,\n",
        "sb__estimator__min_samples_leaf': 1\n",
        "sb__estimator__criterion': 'gini',\n",
        "\n",
        "# param-grid can be a list of dictionaries\n",
        "#  Each dictionary can be a set of parameters\n",
        "#   Each dictionary is used at a time.\n",
        "param_grid = [\n",
        "             {'rf__criterion : 'entropy', ....},\n",
        "             {'rf__criterion' : 'gini', .....}\n",
        "\n",
        "\n",
        "\"\"\"\n",
        "# 14.3 We create three dictionaries depending upon our\n",
        "#      strategy for KBinsDiscretizer. Though, we could\n",
        "#       have put everything in one dictionary, but this\n",
        "#        bifurcation brings clarity to our list\n",
        "param_grid = [ {                                                # Panel 1\n",
        "                 'colTrans__ct__strategy' : ['kmeans'],\n",
        "                 'sb__threshold': ['mean', 'median'],\n",
        "                 'rf__criterion' : ['entropy', 'gini'],\n",
        "                 'rf__min_samples_leaf': [1, 2,3,4,5]\n",
        "                 },\n",
        "\n",
        "               {                                               # Panel 2\n",
        "                 'colTrans__ct__strategy' : ['quantile'],\n",
        "                 'sb__threshold': ['mean', 'median'],\n",
        "                 'rf__criterion' : ['entropy', 'gini'],\n",
        "                 'rf__min_samples_leaf': [1, 2,3,4,5]\n",
        "                },\n",
        "\n",
        "               {                                               # Panel 3\n",
        "                 'colTrans__ct__strategy' : ['uniform'],\n",
        "                 'sb__threshold': ['mean', 'median'],\n",
        "                 'rf__criterion' : ['entropy', 'gini'],\n",
        "                 'rf__min_samples_leaf': [1, 2,3,4,5]\n",
        "                }\n",
        "             ]\n",
        "\n",
        "\n",
        "# 15. GridSearchCV takes a parameter set and makes predictions\n",
        "#      It judges the prediction performance against scorer\n",
        "#       specified  for the purpose (eg 'accuracy'). In our\n",
        "#        case we want to maximise F1 score.\n",
        "# By default, F1 score takes 1 as positive class.\n",
        "#  In our case '0' is the +ve class. We will, therefore,\n",
        "#   will have to define our own scorer function using\n",
        "#    sklearn's 'make_scorer()'\n",
        "# 15.1\n",
        "# Step 1: Define your own scorer first\n",
        "def myscorer(y_true, y_pred):\n",
        "    return f1_score(y_true, y_pred, pos_label = 0)\n",
        "\n",
        "# 15.2\n",
        "# Step 2: Make your scorer as the scorer for sklearn's algorithms\n",
        "#         For the purpose, we use make_scorer()\n",
        "my_scorer = make_scorer(\n",
        "                        myscorer,\n",
        "                        greater_is_better = True\n",
        "                        )\n",
        "\n",
        "# 15.3\n",
        "# Create an instance of Repeated Stratified K-Fold cross validator.\n",
        "#  It returns the number of splitting iterations in the cross-validator.\n",
        "#   Returned object is a sort of iterartor ie 'rpt.split(X,y)' returns\n",
        "#    a generator to be used in GridSearchCV\n",
        "rpt = RepeatedStratifiedKFold(\n",
        "                              n_splits = 2,          # Number of folds\n",
        "                              n_repeats = 3          # As we cannot have more than two folds\n",
        "                                                     #  better repeat two-folds multiple times\n",
        "                              )\n",
        "\n",
        "# 15.4\n",
        "# Create an instance of GridSearchCV. We name the object as 'grid'\n",
        "grid = GridSearchCV(pipe,\n",
        "                    param_grid = param_grid,                # What is our parameter grid\n",
        "                    scoring = my_scorer,                    # my_scorer,\n",
        "                    verbose =1,                             # Since it is a long process, show some progress\n",
        "                    cv = rpt,                               # We can also use here a scalar value\n",
        "                                                            # Values can be: int, cross-validation generator or an iterable, optional\n",
        "                    n_jobs = 3                              # Three parallel jobs\n",
        "                    )\n",
        "\n",
        "# 15.5\n",
        "# Train 'grid' object now. After training, model\n",
        "#  is returned with the best set of parameters.\n",
        "%timeit grid.fit(X_train,y_train)\n",
        "\n",
        "# 15.6 Use 'grid' object to make predictions on Test data\n",
        "yg_pred = grid.predict(X_test)\n",
        "\n",
        "# 15.7 Publish all Classification reports now.\n",
        "print(classification_report(y_test, y_pred), accuracy_score(y_test,y_pred))\n",
        "print(classification_report(y_test, ys_pred), accuracy_score(y_test, ys_pred))\n",
        "print(classification_report(y_test, yn_pred), accuracy_score(y_test, yn_pred))\n",
        "print(classification_report(y_test, yd_pred), accuracy_score(y_test, yd_pred))\n",
        "print(classification_report(y_test, yg_pred), accuracy_score(y_test, yg_pred))\n",
        "\n",
        "\n",
        "# 16.0 DEBUGGING PIPELINE, if there is a problem\n",
        "#      Look again at possible list of parameters\n",
        "pipe.get_params()\n",
        "# 16.1 Look at the predictions made\n",
        "yg_pred\n",
        "\n",
        "# 16.2 Our test data and our predicted data\n",
        "sum(y_test)\n",
        "len(y_test)\n",
        "sum(yg_pred)\n",
        "\n",
        "# 16.3 Check 1. Does pipe fit on its own (no grid search)?\n",
        "pipe.fit(X_train,y_train)\n",
        "yf_pred = pipe.predict(X_test)\n",
        "print(classification_report(y_test, yf_pred), accuracy_score(y_test, yf_pred))\n",
        "# 16.4 Check 2: Does column transformer work?\n",
        "ct.fit(X_train,y_train)\n",
        "ct.transform(X_train)\n",
        "######################\n",
        "######################\n"
      ],
      "metadata": {
        "id": "Tpvpq5HXR56l"
      },
      "execution_count": null,
      "outputs": []
    }
  ]
}