{
  "nbformat": 4,
  "nbformat_minor": 0,
  "metadata": {
    "colab": {
      "name": "german_credit_randomForest_simple.ipynb",
      "provenance": [],
      "collapsed_sections": [],
      "authorship_tag": "ABX9TyOhmDHavhbS8C9T3zBLvqj4",
      "include_colab_link": true
    },
    "kernelspec": {
      "name": "python3",
      "display_name": "Python 3"
    },
    "language_info": {
      "name": "python"
    }
  },
  "cells": [
    {
      "cell_type": "markdown",
      "metadata": {
        "id": "view-in-github",
        "colab_type": "text"
      },
      "source": [
        "<a href=\"https://colab.research.google.com/github/harnalashok/classification/blob/main/german_credit_randomForest_simple.ipynb\" target=\"_parent\"><img src=\"https://colab.research.google.com/assets/colab-badge.svg\" alt=\"Open In Colab\"/></a>"
      ]
    },
    {
      "cell_type": "code",
      "execution_count": null,
      "metadata": {
        "id": "9B8XxLNNRTGW"
      },
      "outputs": [],
      "source": [
        "# Last amended: 13th June, 2022\n",
        "# Objectives:\n",
        "#            i)  Using Random Forest\n",
        "#           ii)  Feature importance and feature selection to improcve performance\n",
        "#          iii)  Using Classification reports\n",
        "#           iv)  Bin continuous variables as ordinal variables--Feature Engineering\n",
        "#           v)   Using Category encoders\n",
        "#           vi)  Create pipelines\n",
        "#          vii)  Using ColumnTransformer\n",
        "#         viii)  Using FunctionalTransformer\n",
        "#           ix)  Using make_scorer()\n",
        "#            x)  Using Repeated k-fold cross validation\n",
        "#           xi)  Using GridSerachCV to tune parameters\n"
      ]
    },
    {
      "cell_type": "code",
      "source": [
        "# PIPE's avoid data leakage\n",
        "# During cross-validation, pipe develops a model on (K-1)-folds\n",
        "#   and this model is applied on Kth held-out dataset. For example,\n",
        "#    data scaling parameters are decided based on (K-1) folds and applied\n",
        "#     on Kth fold. The knowledge of Kth fold is not leaked to scaler while\n",
        "#      scaling (K-1) folds\n"
      ],
      "metadata": {
        "id": "kQuLfVYGSJKm"
      },
      "execution_count": null,
      "outputs": []
    },
    {
      "cell_type": "code",
      "source": [
        "# 1.0 Call libraries\n",
        "%reset -f\n",
        "import pandas as pd\n",
        "import numpy as np\n",
        "\n",
        "# 1,1 Preprocessing\n",
        "from sklearn.preprocessing import StandardScaler\n",
        "from sklearn.preprocessing import KBinsDiscretizer\n",
        "from sklearn.preprocessing import FunctionTransformer\n",
        "from sklearn.compose import ColumnTransformer\n",
        "\n",
        "# 1.2 Model Selection\n",
        "from sklearn.model_selection import train_test_split\n",
        "# For lack of data, not possible to have more than 2-folds.\n",
        "#  Better repeat two-folds multiple times\n",
        "from sklearn.model_selection import RepeatedStratifiedKFold\n",
        "from sklearn.model_selection import GridSearchCV\n",
        "\n",
        "# 1.3 Ensemble modeler\n",
        "from sklearn.ensemble import RandomForestClassifier\n",
        "from sklearn.feature_selection import SelectFromModel\n",
        "# 1.4 Pipeline\n",
        "from sklearn.pipeline import Pipeline\n",
        "\n",
        "# 1.5 Scoring functions\n",
        "from sklearn.metrics import f1_score, make_scorer\n",
        "from sklearn.metrics import classification_report, accuracy_score\n",
        "\n",
        "# 1.6 Graphics and miscelleneous\n",
        "import seaborn as sns\n",
        "import os, gc\n"
      ],
      "metadata": {
        "id": "yXRBweYzSOeb"
      },
      "execution_count": 4,
      "outputs": []
    },
    {
      "cell_type": "code",
      "source": [
        "# 1.7 Display multiple command outputs from a cell\n",
        "from IPython.core.interactiveshell import InteractiveShell\n",
        "InteractiveShell.ast_node_interactivity = \"all\""
      ],
      "metadata": {
        "id": "ImwYQexZSPej"
      },
      "execution_count": 5,
      "outputs": []
    },
    {
      "cell_type": "code",
      "source": [
        "# 1.8 Mount google drive\n",
        "from google.colab import drive\n",
        "drive.mount('/gdrive')"
      ],
      "metadata": {
        "colab": {
          "base_uri": "https://localhost:8080/"
        },
        "id": "MfW5vzXUSZAt",
        "outputId": "c032bb8d-4349-46e8-fcf0-3ebb18e40cbc"
      },
      "execution_count": 6,
      "outputs": [
        {
          "output_type": "stream",
          "name": "stdout",
          "text": [
            "Drive already mounted at /gdrive; to attempt to forcibly remount, call drive.mount(\"/gdrive\", force_remount=True).\n"
          ]
        }
      ]
    },
    {
      "cell_type": "code",
      "source": [
        "# 2.0 Data path\n",
        "path = \"/gdrive/MyDrive/Colab_data_files/autofeat/\"\n",
        "os.chdir(path)\n",
        "os.listdir()"
      ],
      "metadata": {
        "colab": {
          "base_uri": "https://localhost:8080/"
        },
        "id": "DLcAg1f4S-Te",
        "outputId": "72b09a2a-a0d8-46a3-c217-648a2b9477d5"
      },
      "execution_count": 7,
      "outputs": [
        {
          "output_type": "execute_result",
          "data": {
            "text/plain": [
              "['german_credit.csv.zip',\n",
              " 'heart.csv',\n",
              " 'af.csv',\n",
              " 'Concrete_Data_Yeh.csv',\n",
              " 'concrete_train.csv',\n",
              " 'concrete_test.csv']"
            ]
          },
          "metadata": {},
          "execution_count": 7
        }
      ]
    },
    {
      "cell_type": "code",
      "source": [
        "# 2.0\n",
        "# 2.1 Read and explore data\n",
        "df = pd.read_csv(\"german_credit.csv.zip\")"
      ],
      "metadata": {
        "id": "dn2TYKAJTi7k"
      },
      "execution_count": 8,
      "outputs": []
    },
    {
      "cell_type": "code",
      "source": [
        "# 1.8.1 Explore data\n",
        "df.head()\n",
        "df.shape\n",
        "df['creditability'].value_counts()"
      ],
      "metadata": {
        "colab": {
          "base_uri": "https://localhost:8080/",
          "height": 324
        },
        "id": "JAsr0Y0rTtLn",
        "outputId": "023f4a83-b49f-4b7b-e57e-c105e4b74293"
      },
      "execution_count": 9,
      "outputs": [
        {
          "output_type": "execute_result",
          "data": {
            "text/plain": [
              "   creditability  account_balance  previous_credit_payment_status  \\\n",
              "0              1                1                               4   \n",
              "1              1                1                               4   \n",
              "2              1                2                               2   \n",
              "3              1                1                               4   \n",
              "4              1                1                               4   \n",
              "\n",
              "   credit_duration_month  purpose_of_earlier_credit  credit_amount  \\\n",
              "0                     18                          2           1049   \n",
              "1                      9                          0           2799   \n",
              "2                     12                          9            841   \n",
              "3                     12                          0           2122   \n",
              "4                     12                          0           2171   \n",
              "\n",
              "   installment_percent  current_emploment_length  sex_and_marital_status  \\\n",
              "0                    4                         2                       2   \n",
              "1                    2                         3                       3   \n",
              "2                    2                         4                       2   \n",
              "3                    3                         3                       3   \n",
              "4                    4                         3                       3   \n",
              "\n",
              "   guarantors  duration_at_current_address  most_valuable_available_asset  \\\n",
              "0           1                            4                              2   \n",
              "1           1                            2                              1   \n",
              "2           1                            4                              1   \n",
              "3           1                            2                              1   \n",
              "4           1                            4                              2   \n",
              "\n",
              "   age  concurrent_credits  apartmenttype  howmanycreditsat_this_bank  \\\n",
              "0   21                   3              1                           1   \n",
              "1   36                   3              1                           2   \n",
              "2   23                   3              1                           1   \n",
              "3   39                   3              1                           2   \n",
              "4   38                   1              2                           2   \n",
              "\n",
              "   occupation  dependents  telephone  foreign_worker  \n",
              "0           3           1          1               1  \n",
              "1           3           2          1               1  \n",
              "2           2           1          1               1  \n",
              "3           2           2          1               2  \n",
              "4           2           1          1               2  "
            ],
            "text/html": [
              "\n",
              "  <div id=\"df-2d4ba48b-7dce-4ebe-91cf-582486a3db9c\">\n",
              "    <div class=\"colab-df-container\">\n",
              "      <div>\n",
              "<style scoped>\n",
              "    .dataframe tbody tr th:only-of-type {\n",
              "        vertical-align: middle;\n",
              "    }\n",
              "\n",
              "    .dataframe tbody tr th {\n",
              "        vertical-align: top;\n",
              "    }\n",
              "\n",
              "    .dataframe thead th {\n",
              "        text-align: right;\n",
              "    }\n",
              "</style>\n",
              "<table border=\"1\" class=\"dataframe\">\n",
              "  <thead>\n",
              "    <tr style=\"text-align: right;\">\n",
              "      <th></th>\n",
              "      <th>creditability</th>\n",
              "      <th>account_balance</th>\n",
              "      <th>previous_credit_payment_status</th>\n",
              "      <th>credit_duration_month</th>\n",
              "      <th>purpose_of_earlier_credit</th>\n",
              "      <th>credit_amount</th>\n",
              "      <th>installment_percent</th>\n",
              "      <th>current_emploment_length</th>\n",
              "      <th>sex_and_marital_status</th>\n",
              "      <th>guarantors</th>\n",
              "      <th>duration_at_current_address</th>\n",
              "      <th>most_valuable_available_asset</th>\n",
              "      <th>age</th>\n",
              "      <th>concurrent_credits</th>\n",
              "      <th>apartmenttype</th>\n",
              "      <th>howmanycreditsat_this_bank</th>\n",
              "      <th>occupation</th>\n",
              "      <th>dependents</th>\n",
              "      <th>telephone</th>\n",
              "      <th>foreign_worker</th>\n",
              "    </tr>\n",
              "  </thead>\n",
              "  <tbody>\n",
              "    <tr>\n",
              "      <th>0</th>\n",
              "      <td>1</td>\n",
              "      <td>1</td>\n",
              "      <td>4</td>\n",
              "      <td>18</td>\n",
              "      <td>2</td>\n",
              "      <td>1049</td>\n",
              "      <td>4</td>\n",
              "      <td>2</td>\n",
              "      <td>2</td>\n",
              "      <td>1</td>\n",
              "      <td>4</td>\n",
              "      <td>2</td>\n",
              "      <td>21</td>\n",
              "      <td>3</td>\n",
              "      <td>1</td>\n",
              "      <td>1</td>\n",
              "      <td>3</td>\n",
              "      <td>1</td>\n",
              "      <td>1</td>\n",
              "      <td>1</td>\n",
              "    </tr>\n",
              "    <tr>\n",
              "      <th>1</th>\n",
              "      <td>1</td>\n",
              "      <td>1</td>\n",
              "      <td>4</td>\n",
              "      <td>9</td>\n",
              "      <td>0</td>\n",
              "      <td>2799</td>\n",
              "      <td>2</td>\n",
              "      <td>3</td>\n",
              "      <td>3</td>\n",
              "      <td>1</td>\n",
              "      <td>2</td>\n",
              "      <td>1</td>\n",
              "      <td>36</td>\n",
              "      <td>3</td>\n",
              "      <td>1</td>\n",
              "      <td>2</td>\n",
              "      <td>3</td>\n",
              "      <td>2</td>\n",
              "      <td>1</td>\n",
              "      <td>1</td>\n",
              "    </tr>\n",
              "    <tr>\n",
              "      <th>2</th>\n",
              "      <td>1</td>\n",
              "      <td>2</td>\n",
              "      <td>2</td>\n",
              "      <td>12</td>\n",
              "      <td>9</td>\n",
              "      <td>841</td>\n",
              "      <td>2</td>\n",
              "      <td>4</td>\n",
              "      <td>2</td>\n",
              "      <td>1</td>\n",
              "      <td>4</td>\n",
              "      <td>1</td>\n",
              "      <td>23</td>\n",
              "      <td>3</td>\n",
              "      <td>1</td>\n",
              "      <td>1</td>\n",
              "      <td>2</td>\n",
              "      <td>1</td>\n",
              "      <td>1</td>\n",
              "      <td>1</td>\n",
              "    </tr>\n",
              "    <tr>\n",
              "      <th>3</th>\n",
              "      <td>1</td>\n",
              "      <td>1</td>\n",
              "      <td>4</td>\n",
              "      <td>12</td>\n",
              "      <td>0</td>\n",
              "      <td>2122</td>\n",
              "      <td>3</td>\n",
              "      <td>3</td>\n",
              "      <td>3</td>\n",
              "      <td>1</td>\n",
              "      <td>2</td>\n",
              "      <td>1</td>\n",
              "      <td>39</td>\n",
              "      <td>3</td>\n",
              "      <td>1</td>\n",
              "      <td>2</td>\n",
              "      <td>2</td>\n",
              "      <td>2</td>\n",
              "      <td>1</td>\n",
              "      <td>2</td>\n",
              "    </tr>\n",
              "    <tr>\n",
              "      <th>4</th>\n",
              "      <td>1</td>\n",
              "      <td>1</td>\n",
              "      <td>4</td>\n",
              "      <td>12</td>\n",
              "      <td>0</td>\n",
              "      <td>2171</td>\n",
              "      <td>4</td>\n",
              "      <td>3</td>\n",
              "      <td>3</td>\n",
              "      <td>1</td>\n",
              "      <td>4</td>\n",
              "      <td>2</td>\n",
              "      <td>38</td>\n",
              "      <td>1</td>\n",
              "      <td>2</td>\n",
              "      <td>2</td>\n",
              "      <td>2</td>\n",
              "      <td>1</td>\n",
              "      <td>1</td>\n",
              "      <td>2</td>\n",
              "    </tr>\n",
              "  </tbody>\n",
              "</table>\n",
              "</div>\n",
              "      <button class=\"colab-df-convert\" onclick=\"convertToInteractive('df-2d4ba48b-7dce-4ebe-91cf-582486a3db9c')\"\n",
              "              title=\"Convert this dataframe to an interactive table.\"\n",
              "              style=\"display:none;\">\n",
              "        \n",
              "  <svg xmlns=\"http://www.w3.org/2000/svg\" height=\"24px\"viewBox=\"0 0 24 24\"\n",
              "       width=\"24px\">\n",
              "    <path d=\"M0 0h24v24H0V0z\" fill=\"none\"/>\n",
              "    <path d=\"M18.56 5.44l.94 2.06.94-2.06 2.06-.94-2.06-.94-.94-2.06-.94 2.06-2.06.94zm-11 1L8.5 8.5l.94-2.06 2.06-.94-2.06-.94L8.5 2.5l-.94 2.06-2.06.94zm10 10l.94 2.06.94-2.06 2.06-.94-2.06-.94-.94-2.06-.94 2.06-2.06.94z\"/><path d=\"M17.41 7.96l-1.37-1.37c-.4-.4-.92-.59-1.43-.59-.52 0-1.04.2-1.43.59L10.3 9.45l-7.72 7.72c-.78.78-.78 2.05 0 2.83L4 21.41c.39.39.9.59 1.41.59.51 0 1.02-.2 1.41-.59l7.78-7.78 2.81-2.81c.8-.78.8-2.07 0-2.86zM5.41 20L4 18.59l7.72-7.72 1.47 1.35L5.41 20z\"/>\n",
              "  </svg>\n",
              "      </button>\n",
              "      \n",
              "  <style>\n",
              "    .colab-df-container {\n",
              "      display:flex;\n",
              "      flex-wrap:wrap;\n",
              "      gap: 12px;\n",
              "    }\n",
              "\n",
              "    .colab-df-convert {\n",
              "      background-color: #E8F0FE;\n",
              "      border: none;\n",
              "      border-radius: 50%;\n",
              "      cursor: pointer;\n",
              "      display: none;\n",
              "      fill: #1967D2;\n",
              "      height: 32px;\n",
              "      padding: 0 0 0 0;\n",
              "      width: 32px;\n",
              "    }\n",
              "\n",
              "    .colab-df-convert:hover {\n",
              "      background-color: #E2EBFA;\n",
              "      box-shadow: 0px 1px 2px rgba(60, 64, 67, 0.3), 0px 1px 3px 1px rgba(60, 64, 67, 0.15);\n",
              "      fill: #174EA6;\n",
              "    }\n",
              "\n",
              "    [theme=dark] .colab-df-convert {\n",
              "      background-color: #3B4455;\n",
              "      fill: #D2E3FC;\n",
              "    }\n",
              "\n",
              "    [theme=dark] .colab-df-convert:hover {\n",
              "      background-color: #434B5C;\n",
              "      box-shadow: 0px 1px 3px 1px rgba(0, 0, 0, 0.15);\n",
              "      filter: drop-shadow(0px 1px 2px rgba(0, 0, 0, 0.3));\n",
              "      fill: #FFFFFF;\n",
              "    }\n",
              "  </style>\n",
              "\n",
              "      <script>\n",
              "        const buttonEl =\n",
              "          document.querySelector('#df-2d4ba48b-7dce-4ebe-91cf-582486a3db9c button.colab-df-convert');\n",
              "        buttonEl.style.display =\n",
              "          google.colab.kernel.accessAllowed ? 'block' : 'none';\n",
              "\n",
              "        async function convertToInteractive(key) {\n",
              "          const element = document.querySelector('#df-2d4ba48b-7dce-4ebe-91cf-582486a3db9c');\n",
              "          const dataTable =\n",
              "            await google.colab.kernel.invokeFunction('convertToInteractive',\n",
              "                                                     [key], {});\n",
              "          if (!dataTable) return;\n",
              "\n",
              "          const docLinkHtml = 'Like what you see? Visit the ' +\n",
              "            '<a target=\"_blank\" href=https://colab.research.google.com/notebooks/data_table.ipynb>data table notebook</a>'\n",
              "            + ' to learn more about interactive tables.';\n",
              "          element.innerHTML = '';\n",
              "          dataTable['output_type'] = 'display_data';\n",
              "          await google.colab.output.renderOutput(dataTable, element);\n",
              "          const docLink = document.createElement('div');\n",
              "          docLink.innerHTML = docLinkHtml;\n",
              "          element.appendChild(docLink);\n",
              "        }\n",
              "      </script>\n",
              "    </div>\n",
              "  </div>\n",
              "  "
            ]
          },
          "metadata": {},
          "execution_count": 9
        },
        {
          "output_type": "execute_result",
          "data": {
            "text/plain": [
              "(1000, 20)"
            ]
          },
          "metadata": {},
          "execution_count": 9
        },
        {
          "output_type": "execute_result",
          "data": {
            "text/plain": [
              "1    700\n",
              "0    300\n",
              "Name: creditability, dtype: int64"
            ]
          },
          "metadata": {},
          "execution_count": 9
        }
      ]
    },
    {
      "cell_type": "code",
      "source": [
        "# 2.0 Quick plots\n",
        "sns.distplot(df.credit_duration_month)\n",
        "sns.boxplot(df.credit_duration_month)\n",
        "sns.boxplot(df.credit_amount)\n",
        "sns.boxplot(df.age)\n",
        "sns.catplot('creditability', 'credit_amount',   data = df, kind = 'box' )\n",
        "sns.catplot('foreign_worker', 'credit_amount',   data = df, kind = 'box' )\n",
        "sns.catplot('foreign_worker', 'credit_amount', hue = 'creditability',  data = df, kind = 'box' )\n",
        "sns.catplot('creditability', 'credit_amount', col= 'purpose_of_earlier_credit', col_wrap = True, data = df, kind = 'box' )\n",
        "sns.relplot('credit_amount', 'age', row = 'creditability', data = df)\n"
      ],
      "metadata": {
        "colab": {
          "base_uri": "https://localhost:8080/",
          "height": 1000
        },
        "id": "f2npuxrsT6zI",
        "outputId": "9e9d4f5f-1edd-4e32-ca72-7be7bd4a00d3"
      },
      "execution_count": 10,
      "outputs": [
        {
          "output_type": "stream",
          "name": "stderr",
          "text": [
            "/usr/local/lib/python3.7/dist-packages/seaborn/distributions.py:2619: FutureWarning: `distplot` is a deprecated function and will be removed in a future version. Please adapt your code to use either `displot` (a figure-level function with similar flexibility) or `histplot` (an axes-level function for histograms).\n",
            "  warnings.warn(msg, FutureWarning)\n"
          ]
        },
        {
          "output_type": "execute_result",
          "data": {
            "text/plain": [
              "<matplotlib.axes._subplots.AxesSubplot at 0x7f39e3e56c10>"
            ]
          },
          "metadata": {},
          "execution_count": 10
        },
        {
          "output_type": "stream",
          "name": "stderr",
          "text": [
            "/usr/local/lib/python3.7/dist-packages/seaborn/_decorators.py:43: FutureWarning: Pass the following variable as a keyword arg: x. From version 0.12, the only valid positional argument will be `data`, and passing other arguments without an explicit keyword will result in an error or misinterpretation.\n",
            "  FutureWarning\n"
          ]
        },
        {
          "output_type": "execute_result",
          "data": {
            "text/plain": [
              "<matplotlib.axes._subplots.AxesSubplot at 0x7f39e3e56c10>"
            ]
          },
          "metadata": {},
          "execution_count": 10
        },
        {
          "output_type": "stream",
          "name": "stderr",
          "text": [
            "/usr/local/lib/python3.7/dist-packages/seaborn/_decorators.py:43: FutureWarning: Pass the following variable as a keyword arg: x. From version 0.12, the only valid positional argument will be `data`, and passing other arguments without an explicit keyword will result in an error or misinterpretation.\n",
            "  FutureWarning\n"
          ]
        },
        {
          "output_type": "execute_result",
          "data": {
            "text/plain": [
              "<matplotlib.axes._subplots.AxesSubplot at 0x7f39e3e56c10>"
            ]
          },
          "metadata": {},
          "execution_count": 10
        },
        {
          "output_type": "stream",
          "name": "stderr",
          "text": [
            "/usr/local/lib/python3.7/dist-packages/seaborn/_decorators.py:43: FutureWarning: Pass the following variable as a keyword arg: x. From version 0.12, the only valid positional argument will be `data`, and passing other arguments without an explicit keyword will result in an error or misinterpretation.\n",
            "  FutureWarning\n"
          ]
        },
        {
          "output_type": "execute_result",
          "data": {
            "text/plain": [
              "<matplotlib.axes._subplots.AxesSubplot at 0x7f39e3e56c10>"
            ]
          },
          "metadata": {},
          "execution_count": 10
        },
        {
          "output_type": "stream",
          "name": "stderr",
          "text": [
            "/usr/local/lib/python3.7/dist-packages/seaborn/_decorators.py:43: FutureWarning: Pass the following variables as keyword args: x, y. From version 0.12, the only valid positional argument will be `data`, and passing other arguments without an explicit keyword will result in an error or misinterpretation.\n",
            "  FutureWarning\n"
          ]
        },
        {
          "output_type": "execute_result",
          "data": {
            "text/plain": [
              "<seaborn.axisgrid.FacetGrid at 0x7f39e3e2e8d0>"
            ]
          },
          "metadata": {},
          "execution_count": 10
        },
        {
          "output_type": "stream",
          "name": "stderr",
          "text": [
            "/usr/local/lib/python3.7/dist-packages/seaborn/_decorators.py:43: FutureWarning: Pass the following variables as keyword args: x, y. From version 0.12, the only valid positional argument will be `data`, and passing other arguments without an explicit keyword will result in an error or misinterpretation.\n",
            "  FutureWarning\n"
          ]
        },
        {
          "output_type": "execute_result",
          "data": {
            "text/plain": [
              "<seaborn.axisgrid.FacetGrid at 0x7f39e3ce2250>"
            ]
          },
          "metadata": {},
          "execution_count": 10
        },
        {
          "output_type": "stream",
          "name": "stderr",
          "text": [
            "/usr/local/lib/python3.7/dist-packages/seaborn/_decorators.py:43: FutureWarning: Pass the following variables as keyword args: x, y. From version 0.12, the only valid positional argument will be `data`, and passing other arguments without an explicit keyword will result in an error or misinterpretation.\n",
            "  FutureWarning\n"
          ]
        },
        {
          "output_type": "execute_result",
          "data": {
            "text/plain": [
              "<seaborn.axisgrid.FacetGrid at 0x7f39e3d1e850>"
            ]
          },
          "metadata": {},
          "execution_count": 10
        },
        {
          "output_type": "stream",
          "name": "stderr",
          "text": [
            "/usr/local/lib/python3.7/dist-packages/seaborn/_decorators.py:43: FutureWarning: Pass the following variables as keyword args: x, y. From version 0.12, the only valid positional argument will be `data`, and passing other arguments without an explicit keyword will result in an error or misinterpretation.\n",
            "  FutureWarning\n"
          ]
        },
        {
          "output_type": "execute_result",
          "data": {
            "text/plain": [
              "<seaborn.axisgrid.FacetGrid at 0x7f39e12ca450>"
            ]
          },
          "metadata": {},
          "execution_count": 10
        },
        {
          "output_type": "stream",
          "name": "stderr",
          "text": [
            "/usr/local/lib/python3.7/dist-packages/seaborn/_decorators.py:43: FutureWarning: Pass the following variables as keyword args: x, y. From version 0.12, the only valid positional argument will be `data`, and passing other arguments without an explicit keyword will result in an error or misinterpretation.\n",
            "  FutureWarning\n"
          ]
        },
        {
          "output_type": "execute_result",
          "data": {
            "text/plain": [
              "<seaborn.axisgrid.FacetGrid at 0x7f39e10da850>"
            ]
          },
          "metadata": {},
          "execution_count": 10
        },
        {
          "output_type": "display_data",
          "data": {
            "text/plain": [
              "<Figure size 432x288 with 1 Axes>"
            ],
            "image/png": "[encoded data removed]"
          },
          "metadata": {
            "needs_background": "light"
          }
        },
        {
          "output_type": "display_data",
          "data": {
            "text/plain": [
              "<Figure size 360x360 with 1 Axes>"
            ],
            "image/png": "[encoded data removed]"
          },
          "metadata": {
            "needs_background": "light"
          }
        },
        {
          "output_type": "display_data",
          "data": {
            "text/plain": [
              "<Figure size 360x360 with 1 Axes>"
            ],
            "image/png": "[encoded data removed]"
          },
          "metadata": {
            "needs_background": "light"
          }
        },
        {
          "output_type": "display_data",
          "data": {
            "text/plain": [
              "<Figure size 427.375x360 with 1 Axes>"
            ],
            "image/png": "[encoded data removed]"
          },
          "metadata": {
            "needs_background": "light"
          }
        },
        {
          "output_type": "display_data",
          "data": {
            "text/plain": [
              "<Figure size 360x3600 with 10 Axes>"
            ],
            "image/png": "[encoded data removed]"
          },
          "metadata": {
            "needs_background": "light"
          }
        },
        {
          "output_type": "display_data",
          "data": {
            "text/plain": [
              "<Figure size 360x720 with 2 Axes>"
            ],
            "image/png": "[encoded data removed]"
          },
          "metadata": {
            "needs_background": "light"
          }
        }
      ]
    },
    {
      "cell_type": "code",
      "source": [
        "# 3.0 Separate into predictors (X) and target (y)\n",
        "X = df.iloc[:,1:]\n",
        "y = df.iloc[:,0]"
      ],
      "metadata": {
        "id": "rohtLyjIUJRh"
      },
      "execution_count": 12,
      "outputs": []
    },
    {
      "cell_type": "code",
      "source": [
        "# 3.1 Split data into train/test\n",
        "X_train, X_test, y_train, y_test = train_test_split(X,y,test_size=0.2)\n"
      ],
      "metadata": {
        "id": "LGJEyJ-FUOwn"
      },
      "execution_count": 12,
      "outputs": []
    },
    {
      "cell_type": "code",
      "source": [
        "##################################333\n",
        "## Simple approach to modeling\n",
        "####################################"
      ],
      "metadata": {
        "id": "WfkK6bhzWNSy"
      },
      "execution_count": null,
      "outputs": []
    },
    {
      "cell_type": "code",
      "source": [
        "# 3.2 Create an instance of RandomForestClassifier\n",
        "#     with suitable parameters\n",
        "clf = RandomForestClassifier(n_estimators = 1000)"
      ],
      "metadata": {
        "id": "4ci32ghUWPQi"
      },
      "execution_count": 13,
      "outputs": []
    },
    {
      "cell_type": "code",
      "source": [
        "# 3.3 Train model\n",
        "clf.fit(X_train,y_train)"
      ],
      "metadata": {
        "colab": {
          "base_uri": "https://localhost:8080/"
        },
        "id": "8xvsWB23WRU5",
        "outputId": "313b7ff2-627b-4557-9187-e11f8c9ecfb4"
      },
      "execution_count": 14,
      "outputs": [
        {
          "output_type": "execute_result",
          "data": {
            "text/plain": [
              "RandomForestClassifier(n_estimators=1000)"
            ]
          },
          "metadata": {},
          "execution_count": 14
        }
      ]
    },
    {
      "cell_type": "code",
      "source": [
        "# 3.4 Make predictios\n",
        "y_pred = clf.predict(X_test)"
      ],
      "metadata": {
        "id": "IjQFpy7yWTAE"
      },
      "execution_count": 16,
      "outputs": []
    },
    {
      "cell_type": "code",
      "source": [
        "# 3.5 Classification report\n",
        "print(classification_report(y_test, y_pred), accuracy_score(y_test,y_pred))"
      ],
      "metadata": {
        "colab": {
          "base_uri": "https://localhost:8080/"
        },
        "id": "MeoEiucKYoov",
        "outputId": "31f25c7e-f225-44fe-d3a6-be2203744681"
      },
      "execution_count": 17,
      "outputs": [
        {
          "output_type": "stream",
          "name": "stdout",
          "text": [
            "              precision    recall  f1-score   support\n",
            "\n",
            "           0       0.58      0.35      0.43        55\n",
            "           1       0.78      0.90      0.84       145\n",
            "\n",
            "    accuracy                           0.75       200\n",
            "   macro avg       0.68      0.62      0.64       200\n",
            "weighted avg       0.73      0.75      0.73       200\n",
            " 0.75\n"
          ]
        }
      ]
    },
    {
      "cell_type": "code",
      "source": [
        "# 3.6 This is what support means.\n",
        "#     How many are 1's and how many are 0s\n",
        "np.sum(y_test)"
      ],
      "metadata": {
        "colab": {
          "base_uri": "https://localhost:8080/"
        },
        "id": "krLpucIoYtUg",
        "outputId": "f9019dab-4dca-4586-87c7-9197102a4f07"
      },
      "execution_count": 18,
      "outputs": [
        {
          "output_type": "execute_result",
          "data": {
            "text/plain": [
              "145"
            ]
          },
          "metadata": {},
          "execution_count": 18
        }
      ]
    },
    {
      "cell_type": "code",
      "source": [
        "# 4.0 Get feature importances\n",
        "importances = clf.feature_importances_\n"
      ],
      "metadata": {
        "id": "SQ79RQmYYwHB"
      },
      "execution_count": 19,
      "outputs": []
    },
    {
      "cell_type": "code",
      "source": [
        "# 4.1 Rank features as per importances\n",
        "#      (in order of Decreasing importance)\n",
        "#     Get indicies of important features\n",
        "indices = np.argsort(-importances)   # Note the negative sign\n",
        "indices\n",
        "\n",
        "#indices = np.argsort(importances)[::-1]\n",
        "#indices\n"
      ],
      "metadata": {
        "colab": {
          "base_uri": "https://localhost:8080/"
        },
        "id": "FgZSm6OaYztv",
        "outputId": "0e04d25f-8c37-4650-a854-de478e8bfd6f"
      },
      "execution_count": 20,
      "outputs": [
        {
          "output_type": "execute_result",
          "data": {
            "text/plain": [
              "array([ 4,  0, 11,  2,  3,  1,  6, 10,  5,  9,  7, 15, 13, 14, 12, 17,  8,\n",
              "       16, 18])"
            ]
          },
          "metadata": {},
          "execution_count": 20
        }
      ]
    },
    {
      "cell_type": "code",
      "source": [
        "# 4.2 Get names of important columns in order of importance\n",
        "names = X_train.columns.values[indices]\n",
        "names\n"
      ],
      "metadata": {
        "colab": {
          "base_uri": "https://localhost:8080/"
        },
        "id": "Q9zVNowyY11K",
        "outputId": "e14907f0-96c7-49a7-b4e5-8192432695df"
      },
      "execution_count": 21,
      "outputs": [
        {
          "output_type": "execute_result",
          "data": {
            "text/plain": [
              "array(['credit_amount', 'account_balance', 'age', 'credit_duration_month',\n",
              "       'purpose_of_earlier_credit', 'previous_credit_payment_status',\n",
              "       'current_emploment_length', 'most_valuable_available_asset',\n",
              "       'installment_percent', 'duration_at_current_address',\n",
              "       'sex_and_marital_status', 'occupation', 'apartmenttype',\n",
              "       'howmanycreditsat_this_bank', 'concurrent_credits', 'telephone',\n",
              "       'guarantors', 'dependents', 'foreign_worker'], dtype=object)"
            ]
          },
          "metadata": {},
          "execution_count": 21
        }
      ]
    },
    {
      "cell_type": "code",
      "source": [
        "# 4.3 Plot attribute importance chart\n",
        "sns.barplot(y = names,x = importances[indices])\n"
      ],
      "metadata": {
        "colab": {
          "base_uri": "https://localhost:8080/",
          "height": 283
        },
        "id": "eApQnrN_Y3tU",
        "outputId": "502ff914-224b-4c01-ae36-10203dcc8383"
      },
      "execution_count": 22,
      "outputs": [
        {
          "output_type": "execute_result",
          "data": {
            "text/plain": [
              "<matplotlib.axes._subplots.AxesSubplot at 0x7f1834a69f90>"
            ]
          },
          "metadata": {},
          "execution_count": 22
        },
        {
          "output_type": "display_data",
          "data": {
            "text/plain": [
              "<Figure size 432x288 with 1 Axes>"
            ],
            "image/png": "[encoded data removed]"
          },
          "metadata": {
            "needs_background": "light"
          }
        }
      ]
    },
    {
      "cell_type": "code",
      "source": [
        "# 5.0 Select only impt features\n",
        "# 5.1\n",
        "clf_sel = RandomForestClassifier(n_estimators = 1000)"
      ],
      "metadata": {
        "id": "NMKqWlIFZ8EG"
      },
      "execution_count": 23,
      "outputs": []
    },
    {
      "cell_type": "code",
      "source": [
        "# 5.2\n",
        "feat_sel = SelectFromModel(clf_sel,\n",
        "                           threshold = 'mean',      # Take 'mean' that is np.mean(clf.feature_importances_)\n",
        "                                                    #   alternative is 'median'\n",
        "                           prefit = False\n",
        "                           )"
      ],
      "metadata": {
        "id": "g4YaEVBBZ-Xh"
      },
      "execution_count": 24,
      "outputs": []
    },
    {
      "cell_type": "code",
      "source": [
        "# 5.3 Now fit and learn feature importances\n",
        "feat_sel.fit(X_train,y_train)\n",
        "feat_sel.threshold_      # 0.05263157894736842\n"
      ],
      "metadata": {
        "colab": {
          "base_uri": "https://localhost:8080/"
        },
        "id": "xnkHJpTpaDiz",
        "outputId": "6043f6d6-63e0-4e83-f9b2-5dd86c0def04"
      },
      "execution_count": 25,
      "outputs": [
        {
          "output_type": "execute_result",
          "data": {
            "text/plain": [
              "SelectFromModel(estimator=RandomForestClassifier(n_estimators=1000),\n",
              "                threshold='mean')"
            ]
          },
          "metadata": {},
          "execution_count": 25
        },
        {
          "output_type": "execute_result",
          "data": {
            "text/plain": [
              "0.05263157894736842"
            ]
          },
          "metadata": {},
          "execution_count": 25
        }
      ]
    },
    {
      "cell_type": "code",
      "source": [
        "# 6.0 Get important features\n",
        "X_imp_feat_train = feat_sel.transform(X_train)\n",
        "X_imp_feat_test = feat_sel.transform(X_test)"
      ],
      "metadata": {
        "id": "wXKGKuv2aGpn"
      },
      "execution_count": 26,
      "outputs": []
    },
    {
      "cell_type": "code",
      "source": [
        "# 7.0 Use only the important columns for fresh model\n",
        "clfs = RandomForestClassifier(n_estimators=1000)\n",
        "clfs.fit(X_imp_feat_train, y_train)\n",
        "ys_pred = clfs.predict(X_imp_feat_test)"
      ],
      "metadata": {
        "colab": {
          "base_uri": "https://localhost:8080/"
        },
        "id": "plFFM3fWaQ-b",
        "outputId": "f3101e14-76b2-4a9a-d776-726ee3dbed74"
      },
      "execution_count": 27,
      "outputs": [
        {
          "output_type": "execute_result",
          "data": {
            "text/plain": [
              "RandomForestClassifier(n_estimators=1000)"
            ]
          },
          "metadata": {},
          "execution_count": 27
        }
      ]
    },
    {
      "cell_type": "code",
      "source": [
        "# 7.1 F1 score gets improved\n",
        "print(classification_report(y_test, ys_pred), accuracy_score(y_test, ys_pred))\n",
        "# 7.2 This is what support means. How many are 1's and how many are 0s\n",
        "np.sum(y_test)\n"
      ],
      "metadata": {
        "colab": {
          "base_uri": "https://localhost:8080/"
        },
        "id": "Pe7UATxraUhG",
        "outputId": "c84e9d81-14a7-40de-a2df-21917d18b268"
      },
      "execution_count": 28,
      "outputs": [
        {
          "output_type": "stream",
          "name": "stdout",
          "text": [
            "              precision    recall  f1-score   support\n",
            "\n",
            "           0       0.53      0.35      0.42        55\n",
            "           1       0.78      0.88      0.83       145\n",
            "\n",
            "    accuracy                           0.73       200\n",
            "   macro avg       0.65      0.61      0.62       200\n",
            "weighted avg       0.71      0.73      0.72       200\n",
            " 0.735\n"
          ]
        },
        {
          "output_type": "execute_result",
          "data": {
            "text/plain": [
              "145"
            ]
          },
          "metadata": {},
          "execution_count": 28
        }
      ]
    },
    {
      "cell_type": "code",
      "source": [
        "######################################################################33\n",
        "# Part II Little Feature engineering\n",
        "#######################################################################"
      ],
      "metadata": {
        "id": "pyykKeRCDr0V"
      },
      "execution_count": null,
      "outputs": []
    },
    {
      "cell_type": "code",
      "source": [
        "# 8.0 Experimental. Discretize 'age' and 'credit_amount' features\n",
        "#     Check results\n",
        "X_imp_feat_train[:5, :12]              #\n",
        "X_train.head()\n",
        "X_imp_feat_train[:, [4,5]]    # 4 and 5 are 'credit_amount' and 'age'. GOES ON CHANGING\n",
        "                              #  This we got through manual observation"
      ],
      "metadata": {
        "id": "3LFPI0r6Dwy6"
      },
      "execution_count": null,
      "outputs": []
    },
    {
      "cell_type": "code",
      "source": [
        "# 8.1 Begin discretization\n",
        "dis = KBinsDiscretizer(encode =  'ordinal',\n",
        "                       strategy = 'kmeans',\n",
        "                       n_bins = 5)\n"
      ],
      "metadata": {
        "id": "SslV1jYoEgjj"
      },
      "execution_count": null,
      "outputs": []
    },
    {
      "cell_type": "code",
      "source": [
        "# 8.2 Discretize into two new features\n",
        "dis.fit(X_imp_feat_train[:,[4,5]])"
      ],
      "metadata": {
        "id": "XHiSVFDmEyvl"
      },
      "execution_count": null,
      "outputs": []
    },
    {
      "cell_type": "code",
      "source": [
        "# 8.3\n",
        "X_train_feat_new = dis.transform(X_imp_feat_train[:, [4,5]])\n",
        "X_test_feat_new = dis.transform(X_imp_feat_test[:, [4,5]])\n",
        "X_train_feat_new"
      ],
      "metadata": {
        "id": "R6S_JWACE2x1"
      },
      "execution_count": null,
      "outputs": []
    },
    {
      "cell_type": "code",
      "source": [
        "# 8.4 Horizontal stack with existing features\n",
        "X_imp_feat_train = np.hstack([X_imp_feat_train,X_train_feat_new ])\n",
        "X_imp_feat_test = np.hstack([X_imp_feat_test, X_test_feat_new])"
      ],
      "metadata": {
        "id": "M3arg9P5E5sD"
      },
      "execution_count": null,
      "outputs": []
    },
    {
      "cell_type": "code",
      "source": [
        "# 8.5 Check\n",
        "X_imp_feat_train.shape           # (800, 8)\n",
        "X_imp_feat_test.shape            # (200, 8)"
      ],
      "metadata": {
        "id": "NXWrlQQKE9E3"
      },
      "execution_count": null,
      "outputs": []
    },
    {
      "cell_type": "code",
      "source": [
        "# 9.0 Model and get classification report\n",
        "clfn = RandomForestClassifier(n_estimators=1000)\n",
        "clfn.fit(X_imp_feat_train, y_train)\n",
        "yn_pred = clfn.predict(X_imp_feat_test)"
      ],
      "metadata": {
        "id": "Hz68uCx2FAcm"
      },
      "execution_count": null,
      "outputs": []
    },
    {
      "cell_type": "code",
      "source": [
        "# 9.1 Get allreports at one place\n",
        "print(classification_report(y_test, y_pred), accuracy_score(y_test,y_pred))\n",
        "print(classification_report(y_test, ys_pred), accuracy_score(y_test, ys_pred))\n",
        "print(classification_report(y_test, yn_pred), accuracy_score(y_test, yn_pred))"
      ],
      "metadata": {
        "id": "ag79xSKVFD1i"
      },
      "execution_count": null,
      "outputs": []
    },
    {
      "cell_type": "code",
      "source": [
        "#################################\n",
        "# Part III: Feature engineering as a part of pipe\n",
        "#################################\n",
        "# 10 Putting all together i\n",
        "#     Generally gives realistic results\n",
        "#      Transform data => Select K Best => Preform modeling\n",
        "\n",
        "# 10.1 Columns that we will discretise\n",
        "num_cols = ['credit_amount', 'age']\n",
        "\n",
        "# 10.2 Get locations of columns in our dataset\n",
        "v1 = np.where(X_train.columns.values == 'age')             # returns location as an array\n",
        "v2 = np.where(X_train.columns.values == 'credit_amount')\n",
        "v1        # v1 is array:  (array([11], dtype=int64),)\n",
        "v1,v2= np.asscalar(v1[0]), np.asscalar(v2[0])     # Array to scalar\n",
        "v1,v2\n",
        "\n",
        "# 10.3 Instaniate discretizer\n",
        "dis = KBinsDiscretizer(encode =  'ordinal',\n",
        "                       strategy = 'kmeans',\n",
        "                       n_bins = 3)\n",
        "\n",
        "# 10.4 As a demo of its use, fit it ans use it to transform data\n",
        "dis.fit(X_train)\n",
        "dis.transform(X_train)[ : ,[v1,v2] ]\n",
        "\n",
        "# 10.5 After transformation of a column by KBinsDiscretizer,\n",
        "#       that column is dropped. To continue to keep that column,\n",
        "#        let us create a duplicate\n",
        "#         We can also create a function to automatically create\n",
        "#          duplicates of whichever columns we are discretizing\n",
        "\n",
        "# 10.6 Write a function to discretise\n",
        "\n",
        "def my_duplicator(x):\n",
        "    for i in x:\n",
        "        newColname = i + \"_dup\"\n",
        "        X_train[newColname] = X_train[i]\n",
        "        X_test[newColname] = X_test[i]\n",
        "\n",
        "my_duplicator(num_cols)\n",
        "\n",
        "# 10.6.1 Check\n",
        "X_train.head()\n",
        "X_test.head()\n",
        "\n",
        "\n",
        "# 11. We now use ColumnTransformer\n",
        "# Syntax: ColumnTransformer(transformers, remainder='drop' or 'passthrough')\n",
        "#                           transformers =  (name, transformer, columns)\n",
        "ct = ColumnTransformer(\n",
        "                        [\n",
        "                         ('ct', dis, num_cols)           # This list contains only one transformer tuple\n",
        "                        ],\n",
        "                        remainder = 'passthrough'\n",
        "                      )\n",
        "\n",
        "# 11.1 Our estimator/classifier will be the RF object\n",
        "#      Instaniate the RandomForestClassifier class\n",
        "estimator = RandomForestClassifier(n_estimators = 1000)\n",
        "\n",
        "# 11.2 Create a pipline of all operations. In ColumnTransformer, operations on Columns\n",
        "#      take place parallely, in pipeline, these are sequential\n",
        "pipe = Pipeline([\n",
        "                 ('colTrans', ct),                                                        # Transform columns\n",
        "                 ('sb', SelectFromModel(estimator, threshold = 'mean', prefit = False)),  # Select best possible features\n",
        "                 ('rf', RandomForestClassifier(n_estimators = 1000))                      # Use best features for modeling\n",
        "                 ]\n",
        "                )\n",
        "\n",
        "# 11.3 Train the pipe and make predictions\n",
        "pipe.fit(X_train, y_train)\n",
        "yd_pred = pipe.predict(X_test)\n",
        "\n",
        "# 11.4 All results at one place.. Compare accuracy score also\n",
        "print(classification_report(y_test, y_pred), accuracy_score(y_test,y_pred))\n",
        "print(classification_report(y_test, ys_pred), accuracy_score(y_test, ys_pred))\n",
        "print(classification_report(y_test, yn_pred), accuracy_score(y_test, yn_pred))\n",
        "print(classification_report(y_test, yd_pred), accuracy_score(y_test, yd_pred))\n",
        "\n",
        "#############################################################\n",
        "## Part IV: Using GridSearchCV or cross-validation while fitting pipe\n",
        "#############################################################\n",
        "\n",
        "# 12.0 Columns to discretize\n",
        "num_cols = ['credit_amount', 'age']\n",
        "# 12.1 Our discretizer\n",
        "dis = KBinsDiscretizer(encode =  'ordinal',\n",
        "                       strategy = 'kmeans',\n",
        "                       n_bins = 3)\n",
        "# 12.2 Our estimator for selecting best columns\n",
        "#      in SelectFromModel\n",
        "estimator = RandomForestClassifier(n_estimators = 1000)\n",
        "# 12.3 ColumnTransformer\n",
        "ct = ColumnTransformer(\n",
        "                        [\n",
        "                        ('ct', dis, num_cols)             # One transformer\n",
        "                        ],\n",
        "                        remainder = 'passthrough'       # Allow all other columns\n",
        "                        )\n",
        "\n",
        "\n",
        "# 12.4 This is a demo of use of FunctionTransformer\n",
        "#        Define a function to scale\n",
        "#          just two columns. These will\n",
        "#            be last two columns: age_dup and credit_amount_dup\n",
        "def my_transform(X):\n",
        "    ss = StandardScaler()\n",
        "    X[:, [-1,-2]] = ss.fit_transform(X[:, [-1,-2]])\n",
        "    return X\n",
        "\n",
        "# 12.5 Our function will be part of pipeline. It must have fit()\n",
        "#       and tranform() methods. We wrap it in FunctionTransformer()\n",
        "#        Instantiate the transormer object using our function\n",
        "#         as a parameter\n",
        "scaler = FunctionTransformer(my_transform,           # Our function as a parameter\n",
        "                             validate = False        # Do not check if array is 2D\n",
        "                             )\n",
        "\n",
        "# 12.5 Check if this scaler works\n",
        "#      Create some array of shape (4 X 4)\n",
        "db = np.array( [\n",
        "                [3,2,4,1],\n",
        "                [1,2,3,4],\n",
        "                [2,3,1,2],\n",
        "                [1,2,2,3],\n",
        "               ]\n",
        "             )\n",
        "\n",
        "db\n",
        "# 12.5.1 Use scaler object\n",
        "scaler.fit(db)           # Train scaler\n",
        "scaler.transform(db)     # Transform data\n",
        "\n",
        "# 13. Create new features from few categorical variables\n",
        "#      This is again a demo. We will encode these features\n",
        "#      using WOEEncoder of category_encoders\n",
        "encoder = ce.WOEEncoder(cols=['account_balance', 'previous_credit_payment_status', 'current_emploment_length', 'sex_and_marital_status'])\n",
        "# 13.1 Let us fit it\n",
        "encoder.fit(X_train,y_train)\n",
        "# 13.2 Test if this encoder works\n",
        "out = encoder.transform(X_train)\n",
        "out\n",
        "\n",
        "# 14. Finally put all the above in a pipeline in the order it will be carried out\n",
        "pipe = Pipeline([\n",
        "                 #('woe', encoder),                               # May commentout if performance is bad\n",
        "                 ('colTrans', ct),                                # Bin  ['credit_amount', 'age'] using kmeans\n",
        "                 #('myScaler', scaler),                           # Scale 'age_dup' and 'credit_amount_dup'\n",
        "                 ('sb', SelectFromModel(estimator,                # Select the best features\n",
        "                                        threshold = 'mean',       # 'median' is another option\n",
        "                                        prefit = False\n",
        "                                        )\n",
        "                ),\n",
        "\n",
        "                 ('rf', RandomForestClassifier(n_estimators = 1000))  # Fit\n",
        "                ]\n",
        "                )\n",
        "\n",
        "\n",
        "# 14.1 We now require to write a parameter grid.\n",
        "#      While in a simple object, parameter-names\n",
        "#      are straight-forward, ia nested object\n",
        "#      or a pipeline, objects have prefixes added\n",
        "#      to their parameters.\n",
        "#      Get list of complete parameters.\n",
        "#      to know parameter names\n",
        "pipe.get_params()\n",
        "\n",
        "# 14.2 Out of above, we will consider these parameters for tuning:\n",
        "\"\"\"\n",
        "colTrans__ct__n_bins : 3,\n",
        "colTrans__ct__strategy : 'kmeans'\n",
        "sb__threshold': 'mean'\n",
        "rf__criterion': 'gini'\n",
        "rf__min_samples_leaf': 1,\n",
        "sb__estimator__min_samples_leaf': 1\n",
        "sb__estimator__criterion': 'gini',\n",
        "\n",
        "# param-grid can be a list of dictionaries\n",
        "#  Each dictionary can be a set of parameters\n",
        "#   Each dictionary is used at a time.\n",
        "param_grid = [\n",
        "             {'rf__criterion : 'entropy', ....},\n",
        "             {'rf__criterion' : 'gini', .....}\n",
        "\n",
        "\n",
        "\"\"\"\n",
        "# 14.3 We create three dictionaries depending upon our\n",
        "#      strategy for KBinsDiscretizer. Though, we could\n",
        "#       have put everything in one dictionary, but this\n",
        "#        bifurcation brings clarity to our list\n",
        "param_grid = [ {                                                # Panel 1\n",
        "                 'colTrans__ct__strategy' : ['kmeans'],\n",
        "                 'sb__threshold': ['mean', 'median'],\n",
        "                 'rf__criterion' : ['entropy', 'gini'],\n",
        "                 'rf__min_samples_leaf': [1, 2,3,4,5]\n",
        "                 },\n",
        "\n",
        "               {                                               # Panel 2\n",
        "                 'colTrans__ct__strategy' : ['quantile'],\n",
        "                 'sb__threshold': ['mean', 'median'],\n",
        "                 'rf__criterion' : ['entropy', 'gini'],\n",
        "                 'rf__min_samples_leaf': [1, 2,3,4,5]\n",
        "                },\n",
        "\n",
        "               {                                               # Panel 3\n",
        "                 'colTrans__ct__strategy' : ['uniform'],\n",
        "                 'sb__threshold': ['mean', 'median'],\n",
        "                 'rf__criterion' : ['entropy', 'gini'],\n",
        "                 'rf__min_samples_leaf': [1, 2,3,4,5]\n",
        "                }\n",
        "             ]\n",
        "\n",
        "\n",
        "# 15. GridSearchCV takes a parameter set and makes predictions\n",
        "#      It judges the prediction performance against scorer\n",
        "#       specified  for the purpose (eg 'accuracy'). In our\n",
        "#        case we want to maximise F1 score.\n",
        "# By default, F1 score takes 1 as positive class.\n",
        "#  In our case '0' is the +ve class. We will, therefore,\n",
        "#   will have to define our own scorer function using\n",
        "#    sklearn's 'make_scorer()'\n",
        "# 15.1\n",
        "# Step 1: Define your own scorer first\n",
        "def myscorer(y_true, y_pred):\n",
        "    return f1_score(y_true, y_pred, pos_label = 0)\n",
        "\n",
        "# 15.2\n",
        "# Step 2: Make your scorer as the scorer for sklearn's algorithms\n",
        "#         For the purpose, we use make_scorer()\n",
        "my_scorer = make_scorer(\n",
        "                        myscorer,\n",
        "                        greater_is_better = True\n",
        "                        )\n",
        "\n",
        "# 15.3\n",
        "# Create an instance of Repeated Stratified K-Fold cross validator.\n",
        "#  It returns the number of splitting iterations in the cross-validator.\n",
        "#   Returned object is a sort of iterartor ie 'rpt.split(X,y)' returns\n",
        "#    a generator to be used in GridSearchCV\n",
        "rpt = RepeatedStratifiedKFold(\n",
        "                              n_splits = 2,          # Number of folds\n",
        "                              n_repeats = 3          # As we cannot have more than two folds\n",
        "                                                     #  better repeat two-folds multiple times\n",
        "                              )\n",
        "\n",
        "# 15.4\n",
        "# Create an instance of GridSearchCV. We name the object as 'grid'\n",
        "grid = GridSearchCV(pipe,\n",
        "                    param_grid = param_grid,                # What is our parameter grid\n",
        "                    scoring = my_scorer,                    # my_scorer,\n",
        "                    verbose =1,                             # Since it is a long process, show some progress\n",
        "                    cv = rpt,                               # We can also use here a scalar value\n",
        "                                                            # Values can be: int, cross-validation generator or an iterable, optional\n",
        "                    n_jobs = 3                              # Three parallel jobs\n",
        "                    )\n",
        "\n",
        "# 15.5\n",
        "# Train 'grid' object now. After training, model\n",
        "#  is returned with the best set of parameters.\n",
        "%timeit grid.fit(X_train,y_train)\n",
        "\n",
        "# 15.6 Use 'grid' object to make predictions on Test data\n",
        "yg_pred = grid.predict(X_test)\n",
        "\n",
        "# 15.7 Publish all Classification reports now.\n",
        "print(classification_report(y_test, y_pred), accuracy_score(y_test,y_pred))\n",
        "print(classification_report(y_test, ys_pred), accuracy_score(y_test, ys_pred))\n",
        "print(classification_report(y_test, yn_pred), accuracy_score(y_test, yn_pred))\n",
        "print(classification_report(y_test, yd_pred), accuracy_score(y_test, yd_pred))\n",
        "print(classification_report(y_test, yg_pred), accuracy_score(y_test, yg_pred))\n",
        "\n",
        "\n",
        "# 16.0 DEBUGGING PIPELINE, if there is a problem\n",
        "#      Look again at possible list of parameters\n",
        "pipe.get_params()\n",
        "# 16.1 Look at the predictions made\n",
        "yg_pred\n",
        "\n",
        "# 16.2 Our test data and our predicted data\n",
        "sum(y_test)\n",
        "len(y_test)\n",
        "sum(yg_pred)\n",
        "\n",
        "# 16.3 Check 1. Does pipe fit on its own (no grid search)?\n",
        "pipe.fit(X_train,y_train)\n",
        "yf_pred = pipe.predict(X_test)\n",
        "print(classification_report(y_test, yf_pred), accuracy_score(y_test, yf_pred))\n",
        "# 16.4 Check 2: Does column transformer work?\n",
        "ct.fit(X_train,y_train)\n",
        "ct.transform(X_train)\n",
        "######################\n",
        "######################\n"
      ],
      "metadata": {
        "id": "Tpvpq5HXR56l"
      },
      "execution_count": null,
      "outputs": []
    }
  ]
}