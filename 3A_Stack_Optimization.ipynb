{
  "nbformat": 4,
  "nbformat_minor": 0,
  "metadata": {
    "colab": {
      "name": "3A_Stack_Optimization.ipynb",
      "provenance": [],
      "collapsed_sections": [],
      "authorship_tag": "ABX9TyPVmvn2xTBsbYf+/oicKJ0/",
      "include_colab_link": true
    },
    "kernelspec": {
      "name": "python3",
      "display_name": "Python 3"
    },
    "language_info": {
      "name": "python"
    }
  },
  "cells": [
    {
      "cell_type": "markdown",
      "metadata": {
        "id": "view-in-github",
        "colab_type": "text"
      },
      "source": [
        "<a href=\"https://colab.research.google.com/github/harnalashok/classification/blob/main/3A_Stack_Optimization.ipynb\" target=\"_parent\"><img src=\"https://colab.research.google.com/assets/colab-badge.svg\" alt=\"Open In Colab\"/></a>"
      ]
    },
    {
      "cell_type": "code",
      "metadata": {
        "id": "CoLPHvaX3dBs"
      },
      "source": [
        "\"\"\"\n",
        "Last amended: 01st June, 2021\n",
        "Kaggle: https://www.kaggle.com/c/tabular-playground-series-may-2021/overview\n",
        "\n",
        "Objectives:\n",
        "         v)  Classifciation using RandomForest, ExtraTreesClassifier\n",
        "             LogisticRegression and VotingClassifier\n",
        "        vi) Stacking models through probability wt optimization     \n",
        "\n",
        "\n",
        "\n",
        "\"\"\" "
      ],
      "execution_count": null,
      "outputs": []
    },
    {
      "cell_type": "markdown",
      "metadata": {
        "id": "hNQyoyuO5NUx"
      },
      "source": [
        "###Call libraries\n",
        "(#1--#1.11)"
      ]
    },
    {
      "cell_type": "code",
      "metadata": {
        "id": "oZRJpqIf3fu0"
      },
      "source": [
        "# 1.0 Clear memory\n",
        "#%reset -f\n",
        "\n",
        "## A. Data manipulation\n",
        "\n",
        "# 1.1 Call data manipulation libraries\n",
        "import pandas as pd\n",
        "import numpy as np\n",
        "\n",
        "# 1.2 Data generation\n",
        "from sklearn.datasets import make_classification\n",
        "\n",
        "# 1.3 Feature creation Classes\n",
        "from sklearn.preprocessing import PolynomialFeatures   # Interaction features\n",
        "\n",
        "# 1.3.1 BoxCox transformations:\n",
        "from sklearn.preprocessing import PowerTransformer     # BoxCox transformation\n",
        "\n",
        "# 1.4 For feature selection\n",
        "from sklearn.feature_selection import SelectKBest\n",
        "from sklearn.feature_selection import SelectFpr\n",
        "from sklearn.feature_selection import mutual_info_classif, chi2,f_classif\n",
        "from sklearn.feature_selection import  VarianceThreshold   # Remove constant-value columns\n",
        "\n",
        "## D. Data preprocessing\n",
        "\n",
        "# 1.4.1 Scaling data in various manner\n",
        "from sklearn.preprocessing import StandardScaler\n",
        "from sklearn.utils.class_weight import compute_class_weight\n",
        "\n",
        "# 1.4.2 For encoding target class values\n",
        "from sklearn.preprocessing import LabelEncoder\n",
        "\n",
        "# 1.5 Splitting data\n",
        "from sklearn.model_selection import train_test_split                # Returns split data\n",
        "\n",
        "## E. Pipelining\n",
        "\n",
        "# 1.6 Pipelines\n",
        "from sklearn.pipeline import make_pipeline\n",
        "\n",
        "## F: Estimators:\n",
        "\n",
        "# 1.7 Modeling\n",
        "from sklearn.ensemble import RandomForestClassifier as rf\n",
        "from sklearn.ensemble import ExtraTreesClassifier\n",
        "from sklearn.linear_model import LogisticRegression\n",
        "\n",
        "# 1.8 Performance metrics\n",
        "from sklearn.metrics import  confusion_matrix,log_loss\n",
        "\n",
        "## G. Optimizer\n",
        "# 1.9 scipy optimize\n",
        "from scipy.optimize import minimize\n",
        "\n",
        "## G: Others\n",
        "# 1.10 Misc/visualization\n",
        "import os, time, gc\n",
        "import matplotlib.pyplot as plt\n",
        "import seaborn as sns"
      ],
      "execution_count": 124,
      "outputs": []
    },
    {
      "cell_type": "code",
      "metadata": {
        "id": "iGK51TlO5Lnc"
      },
      "source": [
        "# 1.11 Display multiple commands output from a cell\n",
        "from IPython.core.interactiveshell import InteractiveShell\n",
        "InteractiveShell.ast_node_interactivity = \"all\""
      ],
      "execution_count": 3,
      "outputs": []
    },
    {
      "cell_type": "markdown",
      "metadata": {
        "id": "BH3iZiFbDm9p"
      },
      "source": [
        "### Generate data"
      ]
    },
    {
      "cell_type": "code",
      "metadata": {
        "id": "pDROp4x56E4s",
        "colab": {
          "base_uri": "https://localhost:8080/"
        },
        "outputId": "50594807-50a2-4f67-ed5a-be1a11a5a7f2"
      },
      "source": [
        "# Ref: https://scikit-learn.org/stable/modules/generated/sklearn.datasets.make_classification.html\n",
        "# 2.0\n",
        "X,y = make_classification(\n",
        "                          n_samples=10000,\n",
        "                          n_features=30,\n",
        "                          n_informative=25, \n",
        "                          n_redundant=5,\n",
        "                          n_repeated=0,\n",
        "                          n_classes=9,\n",
        "                          class_sep=0.7,\n",
        "                          flip_y=0.1,\n",
        "                          )\n",
        "\n",
        "# 2.1 \n",
        "X.shape            # (10000, 30)"
      ],
      "execution_count": 117,
      "outputs": [
        {
          "output_type": "execute_result",
          "data": {
            "text/plain": [
              "(10000, 30)"
            ]
          },
          "metadata": {
            "tags": []
          },
          "execution_count": 117
        }
      ]
    },
    {
      "cell_type": "code",
      "metadata": {
        "id": "1OIDN9r95EBq",
        "colab": {
          "base_uri": "https://localhost:8080/"
        },
        "outputId": "682a94d7-0389-4059-cb55-761857685d54"
      },
      "source": [
        "# 2.2 About target values and distribution:\n",
        "\n",
        "np.unique(y)\n",
        "print()\n",
        "np.bincount(y)  # Almost balanced"
      ],
      "execution_count": 118,
      "outputs": [
        {
          "output_type": "execute_result",
          "data": {
            "text/plain": [
              "array([0, 1, 2, 3, 4, 5, 6, 7, 8])"
            ]
          },
          "metadata": {
            "tags": []
          },
          "execution_count": 118
        },
        {
          "output_type": "stream",
          "text": [
            "\n"
          ],
          "name": "stdout"
        },
        {
          "output_type": "execute_result",
          "data": {
            "text/plain": [
              "array([1108, 1121, 1104, 1103, 1128, 1101, 1093, 1128, 1114])"
            ]
          },
          "metadata": {
            "tags": []
          },
          "execution_count": 118
        }
      ]
    },
    {
      "cell_type": "code",
      "metadata": {
        "id": "j_Ui47YYyTK5",
        "colab": {
          "base_uri": "https://localhost:8080/"
        },
        "outputId": "03007515-c244-4cb7-f4b1-c3bdf9bcce11"
      },
      "source": [
        "# 2.3 Perform stratified sampling:\n",
        "\n",
        "X_train, X_test, y_train,y_test = train_test_split(\n",
        "                                                   X,\n",
        "                                                   y,\n",
        "                                                   test_size = 0.3,\n",
        "                                                   stratify = y,\n",
        "                                                   shuffle= True)\n",
        "\n",
        "# 2.4:\n",
        "X_train.shape  # (7000, 30)\n",
        "X_test.shape   # (3000, 30)"
      ],
      "execution_count": 119,
      "outputs": [
        {
          "output_type": "execute_result",
          "data": {
            "text/plain": [
              "(7000, 30)"
            ]
          },
          "metadata": {
            "tags": []
          },
          "execution_count": 119
        },
        {
          "output_type": "execute_result",
          "data": {
            "text/plain": [
              "(3000, 30)"
            ]
          },
          "metadata": {
            "tags": []
          },
          "execution_count": 119
        }
      ]
    },
    {
      "cell_type": "markdown",
      "metadata": {
        "id": "tIazIgbr5q54"
      },
      "source": [
        "#### Pipeline & model building\n",
        "Build and use pipe1"
      ]
    },
    {
      "cell_type": "code",
      "metadata": {
        "id": "mJyw3FXazP4i"
      },
      "source": [
        "# 3.0 Our first pipe:\n",
        "pipe1 = make_pipeline(\n",
        "                      StandardScaler(),       # pipe1[0] Try other Scalers also\n",
        "                      rf(                     # pipe1[1]\n",
        "                          n_estimators=300,\n",
        "                          max_depth = 20\n",
        "                        )\n",
        "                      )"
      ],
      "execution_count": 120,
      "outputs": []
    },
    {
      "cell_type": "code",
      "metadata": {
        "id": "Y7yrIlUczUAx",
        "colab": {
          "base_uri": "https://localhost:8080/"
        },
        "outputId": "0ae020db-7970-4964-e693-ddb0ca4031b4"
      },
      "source": [
        "# 3.1 Train pipe1\n",
        "pipe1.fit(X_train,y_train)\n",
        "\n",
        "# 3.2 Make probability predictions:\n",
        "prob_pipe1 = pipe1.predict_proba(X_test)\n",
        "\n",
        "# 3.3 Probability shape\n",
        "print()\n",
        "prob_pipe1.shape   # (3000, 9)\n",
        "\n",
        "# 3.4 Logloss for pipe1\n",
        "print()\n",
        "log_loss(y_test,prob_pipe1)         # 1.6656872360747987"
      ],
      "execution_count": 123,
      "outputs": [
        {
          "output_type": "execute_result",
          "data": {
            "text/plain": [
              "Pipeline(memory=None,\n",
              "         steps=[('standardscaler',\n",
              "                 StandardScaler(copy=True, with_mean=True, with_std=True)),\n",
              "                ('randomforestclassifier',\n",
              "                 RandomForestClassifier(bootstrap=True, ccp_alpha=0.0,\n",
              "                                        class_weight=None, criterion='gini',\n",
              "                                        max_depth=20, max_features='auto',\n",
              "                                        max_leaf_nodes=None, max_samples=None,\n",
              "                                        min_impurity_decrease=0.0,\n",
              "                                        min_impurity_split=None,\n",
              "                                        min_samples_leaf=1, min_samples_split=2,\n",
              "                                        min_weight_fraction_leaf=0.0,\n",
              "                                        n_estimators=300, n_jobs=None,\n",
              "                                        oob_score=False, random_state=None,\n",
              "                                        verbose=0, warm_start=False))],\n",
              "         verbose=False)"
            ]
          },
          "metadata": {
            "tags": []
          },
          "execution_count": 123
        },
        {
          "output_type": "stream",
          "text": [
            "\n"
          ],
          "name": "stdout"
        },
        {
          "output_type": "execute_result",
          "data": {
            "text/plain": [
              "(3000, 9)"
            ]
          },
          "metadata": {
            "tags": []
          },
          "execution_count": 123
        },
        {
          "output_type": "stream",
          "text": [
            "\n"
          ],
          "name": "stdout"
        },
        {
          "output_type": "execute_result",
          "data": {
            "text/plain": [
              "1.6656872360747987"
            ]
          },
          "metadata": {
            "tags": []
          },
          "execution_count": 123
        }
      ]
    },
    {
      "cell_type": "markdown",
      "metadata": {
        "id": "DBxPlpbCfZ7R"
      },
      "source": [
        "### pipe2\n",
        "Uses `PowerTransformer()`"
      ]
    },
    {
      "cell_type": "code",
      "metadata": {
        "id": "6YPNkQzm3ZYo",
        "colab": {
          "base_uri": "https://localhost:8080/"
        },
        "outputId": "95543c49-5734-4476-a9c5-f360485b2c64"
      },
      "source": [
        "# 4.0 Instantiate pipe\n",
        "#     PowerTransform() data\n",
        "pipe2 = make_pipeline(\n",
        "                      StandardScaler(),\n",
        "                      PowerTransformer(),\n",
        "                      rf(                    \n",
        "                          n_estimators=100,\n",
        "                          max_depth = 30\n",
        "                         )\n",
        "                       )\n",
        "\n",
        "# 4.1 Train pipe2 and determine logloss:\n",
        "pipe2.fit(X_train,y_train)\n",
        "prob_pipe2 = pipe2.predict_proba(X_test)\n",
        "print()\n",
        "prob_pipe2.shape             # (3000,9)\n",
        "print()\n",
        "log_loss(y_test,prob_pipe2)  # 1.6770240488569925"
      ],
      "execution_count": 126,
      "outputs": [
        {
          "output_type": "execute_result",
          "data": {
            "text/plain": [
              "Pipeline(memory=None,\n",
              "         steps=[('standardscaler',\n",
              "                 StandardScaler(copy=True, with_mean=True, with_std=True)),\n",
              "                ('powertransformer',\n",
              "                 PowerTransformer(copy=True, method='yeo-johnson',\n",
              "                                  standardize=True)),\n",
              "                ('randomforestclassifier',\n",
              "                 RandomForestClassifier(bootstrap=True, ccp_alpha=0.0,\n",
              "                                        class_weight=None, criterion='gini',\n",
              "                                        max_depth=30, max_features='auto',\n",
              "                                        max_leaf_nodes=None, max_samples=None,\n",
              "                                        min_impurity_decrease=0.0,\n",
              "                                        min_impurity_split=None,\n",
              "                                        min_samples_leaf=1, min_samples_split=2,\n",
              "                                        min_weight_fraction_leaf=0.0,\n",
              "                                        n_estimators=100, n_jobs=None,\n",
              "                                        oob_score=False, random_state=None,\n",
              "                                        verbose=0, warm_start=False))],\n",
              "         verbose=False)"
            ]
          },
          "metadata": {
            "tags": []
          },
          "execution_count": 126
        },
        {
          "output_type": "stream",
          "text": [
            "\n"
          ],
          "name": "stdout"
        },
        {
          "output_type": "execute_result",
          "data": {
            "text/plain": [
              "(3000, 9)"
            ]
          },
          "metadata": {
            "tags": []
          },
          "execution_count": 126
        },
        {
          "output_type": "stream",
          "text": [
            "\n"
          ],
          "name": "stdout"
        },
        {
          "output_type": "execute_result",
          "data": {
            "text/plain": [
              "1.6752593439208685"
            ]
          },
          "metadata": {
            "tags": []
          },
          "execution_count": 126
        }
      ]
    },
    {
      "cell_type": "markdown",
      "metadata": {
        "id": "FWSDfQn-fdR4"
      },
      "source": [
        "### pipe3\n",
        "Uses ExtraTreesClassifier"
      ]
    },
    {
      "cell_type": "code",
      "metadata": {
        "id": "dwS97E9i7Pkc",
        "colab": {
          "base_uri": "https://localhost:8080/"
        },
        "outputId": "c81c1ead-d6c4-4f57-ffee-f4085a6e9fa7"
      },
      "source": [
        "# 5.0 Instantiation\n",
        "pipe3 = make_pipeline(\n",
        "                       StandardScaler(),\n",
        "                       ExtraTreesClassifier(n_estimators=300)\n",
        "                      )\n",
        "\n",
        "# 5.1 Train pipe and determine logloss\n",
        "pipe3.fit(X_train,y_train)\n",
        "prob_pipe3 = pipe3.predict_proba(X_test)\n",
        "print()\n",
        "log_loss(y_test,prob_pipe3)         # 1.6787868142300655"
      ],
      "execution_count": 127,
      "outputs": [
        {
          "output_type": "execute_result",
          "data": {
            "text/plain": [
              "Pipeline(memory=None,\n",
              "         steps=[('standardscaler',\n",
              "                 StandardScaler(copy=True, with_mean=True, with_std=True)),\n",
              "                ('extratreesclassifier',\n",
              "                 ExtraTreesClassifier(bootstrap=False, ccp_alpha=0.0,\n",
              "                                      class_weight=None, criterion='gini',\n",
              "                                      max_depth=None, max_features='auto',\n",
              "                                      max_leaf_nodes=None, max_samples=None,\n",
              "                                      min_impurity_decrease=0.0,\n",
              "                                      min_impurity_split=None,\n",
              "                                      min_samples_leaf=1, min_samples_split=2,\n",
              "                                      min_weight_fraction_leaf=0.0,\n",
              "                                      n_estimators=300, n_jobs=None,\n",
              "                                      oob_score=False, random_state=None,\n",
              "                                      verbose=0, warm_start=False))],\n",
              "         verbose=False)"
            ]
          },
          "metadata": {
            "tags": []
          },
          "execution_count": 127
        },
        {
          "output_type": "execute_result",
          "data": {
            "text/plain": [
              "(3000, 9)"
            ]
          },
          "metadata": {
            "tags": []
          },
          "execution_count": 127
        },
        {
          "output_type": "stream",
          "text": [
            "\n"
          ],
          "name": "stdout"
        },
        {
          "output_type": "execute_result",
          "data": {
            "text/plain": [
              "1.6787868142300655"
            ]
          },
          "metadata": {
            "tags": []
          },
          "execution_count": 127
        }
      ]
    },
    {
      "cell_type": "markdown",
      "metadata": {
        "id": "hH6xcfRs7o7r"
      },
      "source": [
        "### pipe4\n",
        "\n",
        "Experiment here with different data transformations"
      ]
    },
    {
      "cell_type": "code",
      "metadata": {
        "colab": {
          "base_uri": "https://localhost:8080/"
        },
        "id": "1PHQSoZ1IREg",
        "outputId": "1e00690b-0cac-4187-c4f5-7ace2b04e127"
      },
      "source": [
        " 6.1\n",
        "# Another pipe:\n",
        "\n",
        "pipe4 = make_pipeline(\n",
        "                      StandardScaler(),\n",
        "                      PolynomialFeatures(\n",
        "                                         degree =2,\n",
        "                                         interaction_only=False\n",
        "                                         ),\n",
        "                      \n",
        "                      VarianceThreshold(\n",
        "                                         threshold=0.3\n",
        "                                        ),\n",
        "                      \n",
        "                      SelectKBest(\n",
        "                                   score_func= f_classif,\n",
        "                                   k=150\n",
        "                                  ),\n",
        "                      # SelectFpr() ,  \n",
        "                      rf(                    \n",
        "                          n_estimators=100,\n",
        "                          max_depth = 35,\n",
        "                         )\n",
        "                       )\n",
        "\n",
        "# 6.2\n",
        "pipe4.fit(X_train,y_train)\n",
        "prob_pipe4 = pipe4.predict_proba(X_test)\n",
        "prob_pipe4.shape     # (3000, 9)\n",
        "print()\n",
        "log_loss(y_test,prob_pipe4)  # 1.7974766564233063"
      ],
      "execution_count": 130,
      "outputs": [
        {
          "output_type": "execute_result",
          "data": {
            "text/plain": [
              "6.1"
            ]
          },
          "metadata": {
            "tags": []
          },
          "execution_count": 130
        },
        {
          "output_type": "execute_result",
          "data": {
            "text/plain": [
              "Pipeline(memory=None,\n",
              "         steps=[('standardscaler',\n",
              "                 StandardScaler(copy=True, with_mean=True, with_std=True)),\n",
              "                ('polynomialfeatures',\n",
              "                 PolynomialFeatures(degree=2, include_bias=True,\n",
              "                                    interaction_only=False, order='C')),\n",
              "                ('variancethreshold', VarianceThreshold(threshold=0.3)),\n",
              "                ('selectkbest',\n",
              "                 SelectKBest(k=150,\n",
              "                             score_func=<function f_classif at 0x7fa6725ab710>)),\n",
              "                ('select...\n",
              "                 RandomForestClassifier(bootstrap=True, ccp_alpha=0.0,\n",
              "                                        class_weight=None, criterion='gini',\n",
              "                                        max_depth=35, max_features='auto',\n",
              "                                        max_leaf_nodes=None, max_samples=None,\n",
              "                                        min_impurity_decrease=0.0,\n",
              "                                        min_impurity_split=None,\n",
              "                                        min_samples_leaf=1, min_samples_split=2,\n",
              "                                        min_weight_fraction_leaf=0.0,\n",
              "                                        n_estimators=100, n_jobs=None,\n",
              "                                        oob_score=False, random_state=None,\n",
              "                                        verbose=0, warm_start=False))],\n",
              "         verbose=False)"
            ]
          },
          "metadata": {
            "tags": []
          },
          "execution_count": 130
        },
        {
          "output_type": "execute_result",
          "data": {
            "text/plain": [
              "(3000, 9)"
            ]
          },
          "metadata": {
            "tags": []
          },
          "execution_count": 130
        },
        {
          "output_type": "stream",
          "text": [
            "\n"
          ],
          "name": "stdout"
        },
        {
          "output_type": "execute_result",
          "data": {
            "text/plain": [
              "1.8069420405290526"
            ]
          },
          "metadata": {
            "tags": []
          },
          "execution_count": 130
        }
      ]
    },
    {
      "cell_type": "code",
      "metadata": {
        "id": "2UtgGhfKgjTr",
        "colab": {
          "base_uri": "https://localhost:8080/"
        },
        "outputId": "365ff0bc-7435-491a-e73e-fb8e33528dca"
      },
      "source": [
        "# 7.0\n",
        "# Use another Estimator: LogisticRegression()\n",
        "\n",
        "pipe5 = make_pipeline(\n",
        "                      StandardScaler(),\n",
        "                      LogisticRegression(\n",
        "                                         max_iter = 8000,\n",
        "                                         ),\n",
        "                      )\n",
        "\n",
        "\n",
        "# 7.1 How much is logloss\n",
        "pipe5.fit(X_train,y_train)\n",
        "prob_pipe5 = pipe5.predict_proba(X_test)\n",
        "prob_pipe5.shape   # (18564, 9)\n",
        "\n",
        "print()\n",
        "log_loss(y_test,prob_pipe5)    # 1.9415628390694406"
      ],
      "execution_count": 131,
      "outputs": [
        {
          "output_type": "execute_result",
          "data": {
            "text/plain": [
              "Pipeline(memory=None,\n",
              "         steps=[('standardscaler',\n",
              "                 StandardScaler(copy=True, with_mean=True, with_std=True)),\n",
              "                ('logisticregression',\n",
              "                 LogisticRegression(C=1.0, class_weight=None, dual=False,\n",
              "                                    fit_intercept=True, intercept_scaling=1,\n",
              "                                    l1_ratio=None, max_iter=8000,\n",
              "                                    multi_class='auto', n_jobs=None,\n",
              "                                    penalty='l2', random_state=None,\n",
              "                                    solver='lbfgs', tol=0.0001, verbose=0,\n",
              "                                    warm_start=False))],\n",
              "         verbose=False)"
            ]
          },
          "metadata": {
            "tags": []
          },
          "execution_count": 131
        },
        {
          "output_type": "execute_result",
          "data": {
            "text/plain": [
              "(3000, 9)"
            ]
          },
          "metadata": {
            "tags": []
          },
          "execution_count": 131
        },
        {
          "output_type": "stream",
          "text": [
            "\n"
          ],
          "name": "stdout"
        },
        {
          "output_type": "execute_result",
          "data": {
            "text/plain": [
              "1.9415628390694406"
            ]
          },
          "metadata": {
            "tags": []
          },
          "execution_count": 131
        }
      ]
    },
    {
      "cell_type": "markdown",
      "metadata": {
        "id": "F8r9Vok5dv78"
      },
      "source": [
        "### Average probabilties through optimization\n",
        "Calculate weighted average of probabilities to make final probability predictions."
      ]
    },
    {
      "cell_type": "markdown",
      "metadata": {
        "id": "zY6EYukEe1UE"
      },
      "source": [
        "#### How it works?"
      ]
    },
    {
      "cell_type": "markdown",
      "metadata": {
        "id": "Ch24yDDDe4Uu"
      },
      "source": [
        "```\n",
        "Once you have calculated probability predictions\n",
        "of the nine classes through different models, you \n",
        "can add up probabilities of models in a weighted\n",
        "manner to determine final probabilities and logloss.\n",
        "Here is an example.\n",
        "\n",
        "Let us say there are three classes. Here are the\n",
        "probability predictions for one observation of test\n",
        "set from three different models:\n",
        "\n",
        "class1     class2       class3\n",
        "0.2        0.4           0.4   =>       Model1\n",
        "0.6        0.2           0.2   =>       Model2\n",
        "0.1        0.7           0.2   =>       Model3\n",
        "\n",
        "Final probability predictions for the three classes\n",
        "are then calculated, as:\n",
        "\n",
        "class1:   w1 * 0.2   + w2 * 0.6  +  w3 * 0.1\n",
        "class2:   w1 * 0.4   + w2 * 0,2  +  w3 * 0.2\n",
        "class3:   w1 * 0.4   + w2 * 0.2  +  w3 * 0.2\n",
        "\n",
        "Let us say, for some initial w1,w2,w3 the three\n",
        "probabilities from Ist test obs form an array of \n",
        "three values, prob_class[0,3]. For second, obs \n",
        "using the same set of weights, we get a similar \n",
        "array, prob_class[1,3] and so on. \n",
        "\n",
        "We then calculate overall log_loss (ie error), as:\n",
        "\n",
        "         log_loss(y_test, prob_class)\n",
        "         where both y_test and prob_class\n",
        "         have shape: (n_test_samples,3)\n",
        "\n",
        "scipy optimize module then tries to move w1, w2 and w3 in\n",
        "the direction such that next calculation of error (log_loss)\n",
        "gives (hopefully) better results.\n",
        "\n",
        "```"
      ]
    },
    {
      "cell_type": "markdown",
      "metadata": {
        "id": "iA-LezDpbFBK"
      },
      "source": [
        "#### Explaining scipy optimization\n",
        "Refer [here](https://docs.scipy.org/doc/scipy/reference/generated/scipy.optimize.minimize.html#scipy.optimize.minimize) and [here](https://docs.scipy.org/doc/scipy/reference/optimize.minimize-slsqp.html)\n",
        "\n",
        "To use scipy optimize module, we have to clearly specify objective, constraints and bounds of variables. (Equality constraint means that the constraint function result is to be zero whereas inequality means that it is to be non-negative. )"
      ]
    },
    {
      "cell_type": "markdown",
      "metadata": {
        "id": "nS5KJ0rC1BlJ"
      },
      "source": [
        "![image.png](data:image/png;base64,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)"
      ]
    },
    {
      "cell_type": "code",
      "metadata": {
        "colab": {
          "base_uri": "https://localhost:8080/",
          "height": 336
        },
        "id": "iRGuZGSDbFx_",
        "outputId": "f1c78f53-d8c8-4fa5-c8a9-bb262b813280"
      },
      "source": [
        "# 8.0 This video explains scipy optimization process\n",
        "#      in a very easy manner:\n",
        "from IPython.display import HTML\n",
        "HTML('<iframe width=\"560\" height=\"315\" src=\"https://www.youtube.com/embed/cXHvC_FGx24?rel=0&amp;controls=0&amp;showinfo=0\" frameborder=\"0\" allowfullscreen></iframe>')"
      ],
      "execution_count": 71,
      "outputs": [
        {
          "output_type": "execute_result",
          "data": {
            "text/html": [
              "<iframe width=\"560\" height=\"315\" src=\"https://www.youtube.com/embed/cXHvC_FGx24?rel=0&amp;controls=0&amp;showinfo=0\" frameborder=\"0\" allowfullscreen></iframe>"
            ],
            "text/plain": [
              "<IPython.core.display.HTML object>"
            ]
          },
          "metadata": {
            "tags": []
          },
          "execution_count": 71
        }
      ]
    },
    {
      "cell_type": "markdown",
      "metadata": {
        "id": "pKY7UTALhJtF"
      },
      "source": [
        "#### Now optimize with our models"
      ]
    },
    {
      "cell_type": "markdown",
      "metadata": {
        "id": "Wl1HE8UVwrFr"
      },
      "source": [
        "##### First collect our models at one place"
      ]
    },
    {
      "cell_type": "code",
      "metadata": {
        "id": "_a4RxEvOdzez"
      },
      "source": [
        "# 8.1\n",
        "# Create a list of all pipes:\n",
        "\n",
        "clfs = []\n",
        "clfs.append(pipe1)\n",
        "clfs.append(pipe2)\n",
        "clfs.append(pipe3)\n",
        "clfs.append(pipe4)\n",
        "clfs.append(pipe5)"
      ],
      "execution_count": 92,
      "outputs": []
    },
    {
      "cell_type": "markdown",
      "metadata": {
        "id": "Zi0UNaja_s_x"
      },
      "source": [
        "##### Then use these pipes to make predictions.\n",
        "Our X_test has 3000 observations. So each pipe will output an array of predictions of shape (3000,9). Thus, we will have a list of five elements. Each element is an array of shape (3000,9).\n",
        "\n",
        "\n"
      ]
    },
    {
      "cell_type": "code",
      "metadata": {
        "id": "hBB0cqQ_eGIz",
        "colab": {
          "base_uri": "https://localhost:8080/"
        },
        "outputId": "60d1997e-e1f2-47a2-cdec-6fb1df512f8a"
      },
      "source": [
        "# 8.2\n",
        "# Make a list of all predictions:\n",
        "predictions = []\n",
        "for clf in clfs:\n",
        "    predictions.append(clf.predict_proba(X_test))\n",
        "\n",
        "# 8.3\n",
        "print(\"\\n--Predictions from how many models?---\\n\")\n",
        "len(predictions)   # 5 \n",
        "\n",
        "# 8.4 \n",
        "print(\"\\n\\n--Shape of each prediction array--\\n\")\n",
        "predictions[0].shape   # (3000,9)\n",
        "\n",
        "# 8.5\n",
        "print(\"\\n\\n--First three rows of predictions from pipe1--\\n\")\n",
        "np.round(predictions[0][:3,:],3)   "
      ],
      "execution_count": 132,
      "outputs": [
        {
          "output_type": "stream",
          "text": [
            "\n",
            "--Predictions from how many models?---\n",
            "\n"
          ],
          "name": "stdout"
        },
        {
          "output_type": "execute_result",
          "data": {
            "text/plain": [
              "5"
            ]
          },
          "metadata": {
            "tags": []
          },
          "execution_count": 132
        },
        {
          "output_type": "stream",
          "text": [
            "\n",
            "\n",
            "--Shape of each prediction array--\n",
            "\n"
          ],
          "name": "stdout"
        },
        {
          "output_type": "execute_result",
          "data": {
            "text/plain": [
              "(3000, 9)"
            ]
          },
          "metadata": {
            "tags": []
          },
          "execution_count": 132
        },
        {
          "output_type": "stream",
          "text": [
            "\n",
            "\n",
            "--First three rows of predictions from pipe1--\n",
            "\n"
          ],
          "name": "stdout"
        },
        {
          "output_type": "execute_result",
          "data": {
            "text/plain": [
              "array([[0.171, 0.133, 0.122, 0.162, 0.074, 0.104, 0.082, 0.121, 0.031],\n",
              "       [0.2  , 0.082, 0.16 , 0.18 , 0.13 , 0.053, 0.039, 0.08 , 0.075],\n",
              "       [0.102, 0.065, 0.16 , 0.122, 0.062, 0.217, 0.127, 0.102, 0.042]])"
            ]
          },
          "metadata": {
            "tags": []
          },
          "execution_count": 132
        }
      ]
    },
    {
      "cell_type": "markdown",
      "metadata": {
        "id": "Q8EVKblHBudJ"
      },
      "source": [
        "##### Formulate objective and constraints"
      ]
    },
    {
      "cell_type": "markdown",
      "metadata": {
        "id": "QKJYua1vuBci"
      },
      "source": [
        "We have to specify:  \n",
        "> a. Objective function<br>\n",
        "> b. Any constraints on weights<br>\n",
        "> c. Any bounds on weights<br>\n",
        "> d. Some initial wt values\n",
        "> e. Use (a) to (d) in an optimizer to determine optimum wts\n",
        "> f. Repeat (d) and (e) multiple times to make sure that one is not stuck at local optima.\n"
      ]
    },
    {
      "cell_type": "code",
      "metadata": {
        "id": "eaHVy8H1eRMC"
      },
      "source": [
        "## 9.0 Objective function:\n",
        "\n",
        "def objective_func(weights):\n",
        "    ''' scipy minimize will pass the weights as a numpy array '''\n",
        "    final_prediction = 0\n",
        "    # We have five wts and five predictions\n",
        "    for weight, prediction in zip(weights, predictions):\n",
        "            final_prediction += weight*prediction\n",
        "\n",
        "    return log_loss(y_test, final_prediction)"
      ],
      "execution_count": 137,
      "outputs": []
    },
    {
      "cell_type": "code",
      "metadata": {
        "colab": {
          "base_uri": "https://localhost:8080/"
        },
        "id": "BYmOsOhL5aWE",
        "outputId": "ff52535c-6f59-49f2-c651-39bbbd638345"
      },
      "source": [
        "# 9.1 This is what happens within objective function:\n",
        "\n",
        "final_prediction = 0\n",
        "wts = [0.1,0.2,0.3]\n",
        "preds = [ np.array([2,5,4]),\n",
        "          np.array([3,6,9]),\n",
        "          np.array([1,2,3])\n",
        "          ]\n",
        "for weight, prediction in zip(wts, preds):\n",
        "  print(weight)\n",
        "  print(prediction)\n",
        "  print(weight * prediction)\n",
        "  print(\"\\n---------------\\n\")\n",
        "  final_prediction += weight*prediction\n",
        "  print(final_prediction)\n",
        "  print(type(final_prediction))\n",
        "  print(\"\\n================\\n\")\n",
        "\n"
      ],
      "execution_count": 138,
      "outputs": [
        {
          "output_type": "stream",
          "text": [
            "0.1\n",
            "[2 5 4]\n",
            "[0.2 0.5 0.4]\n",
            "\n",
            "---------------\n",
            "\n",
            "[0.2 0.5 0.4]\n",
            "<class 'numpy.ndarray'>\n",
            "\n",
            "================\n",
            "\n",
            "0.2\n",
            "[3 6 9]\n",
            "[0.6 1.2 1.8]\n",
            "\n",
            "---------------\n",
            "\n",
            "[0.8 1.7 2.2]\n",
            "<class 'numpy.ndarray'>\n",
            "\n",
            "================\n",
            "\n",
            "0.3\n",
            "[1 2 3]\n",
            "[0.3 0.6 0.9]\n",
            "\n",
            "---------------\n",
            "\n",
            "[1.1 2.3 3.1]\n",
            "<class 'numpy.ndarray'>\n",
            "\n",
            "================\n",
            "\n"
          ],
          "name": "stdout"
        }
      ]
    },
    {
      "cell_type": "code",
      "metadata": {
        "id": "7JV81NqsmsKG"
      },
      "source": [
        "## 10.1 Constraints on weight values:\n",
        "\n",
        "# One constraint is sum of all weights\n",
        "# should be one. That is:\n",
        "# np.sum(w) = 1\n",
        "# OR np.sum(w) - 1 = 0\n",
        "# Define a function accordingly:\n",
        "\n",
        "def const_f(weights):\n",
        "  ''' scipy minimize will pass the weights as a numpy array '''\n",
        "  return np.sum(weights) -1  \n"
      ],
      "execution_count": 95,
      "outputs": []
    },
    {
      "cell_type": "code",
      "metadata": {
        "id": "tH_3D7jyeXrT"
      },
      "source": [
        "# 10.1.1\n",
        "# Once our constraint function is defined, we need\n",
        "# to describe it more fully. That is should const(w)\n",
        "# finally 'equal' zero or not. \n",
        "\n",
        "# Following means output of const_f must equal 0\n",
        "# ie np.sum(weights) = 1  \n",
        "\n",
        "cons = (\n",
        "         {'type':'eq',     # So 'equality' constraint\n",
        "          'fun': const_f   # And constraint function is const()\n",
        "         }\n",
        "       )"
      ],
      "execution_count": 96,
      "outputs": []
    },
    {
      "cell_type": "code",
      "metadata": {
        "id": "8nKw2MLO8jo9"
      },
      "source": [
        "# 10.1.2 \n",
        "# Following means output of const_f must be gretaer than 0\n",
        "# ie np.sum(weights) -1  >= 0\n",
        "# Or np.sum(weights) >= 1 \n",
        "\n",
        "cons1 = (\n",
        "         {'type':'ineq',     # Inequality constraint\n",
        "          'fun': const_f   \n",
        "         }\n",
        "       )"
      ],
      "execution_count": null,
      "outputs": []
    },
    {
      "cell_type": "code",
      "metadata": {
        "id": "DW2s2gwx8_Yk"
      },
      "source": [
        "# 10.1.3\n",
        "# Following means output of const_f must be less than 0\n",
        "# ie 1 - np.sum(weights) >= 0\n",
        "# Or np.sum(weights) <= 1 \n",
        "\n",
        "\n",
        "def const_f(weights):\n",
        "  ''' scipy minimize will pass the weights as a numpy array '''\n",
        "  return 1- np.sum(weights)  \n",
        "\n",
        "cons2 = (\n",
        "         {'type':'ineq',     # Inequality constraint\n",
        "          'fun': const_f   \n",
        "         }\n",
        "       ) \n"
      ],
      "execution_count": null,
      "outputs": []
    },
    {
      "cell_type": "code",
      "metadata": {
        "id": "TzlKv4_ieagi",
        "colab": {
          "base_uri": "https://localhost:8080/"
        },
        "outputId": "8d30f2d8-21ef-422b-bacc-a10c7989e56c"
      },
      "source": [
        "## 12.0 Bounds of weight-values:\n",
        "\n",
        "#our weights are bound between 0 and 1\n",
        "bounds = [(0,1)]*len(predictions)\n",
        "bounds"
      ],
      "execution_count": 139,
      "outputs": [
        {
          "output_type": "execute_result",
          "data": {
            "text/plain": [
              "[(0, 1), (0, 1), (0, 1), (0, 1), (0, 1)]"
            ]
          },
          "metadata": {
            "tags": []
          },
          "execution_count": 139
        }
      ]
    },
    {
      "cell_type": "code",
      "metadata": {
        "id": "vwbvWuWHubz5",
        "colab": {
          "base_uri": "https://localhost:8080/"
        },
        "outputId": "5aea0875-60ad-4f11-c655-eb83afe08d6a"
      },
      "source": [
        "## 12.1 Initial wt values\n",
        "\n",
        "# The algorithm needs some starting wt-values. \n",
        "# We select randomly even though sum of these wts\n",
        "#  is not one:\n",
        "# \n",
        "# Generally, it is better to select many random starting\n",
        "#  points and run minimize a few times to see which one of the \n",
        "#   wt combinations gives best results:\n",
        "\n",
        "starting_wt_values = np.random.rand(len(predictions))\n",
        "starting_wt_values"
      ],
      "execution_count": 140,
      "outputs": [
        {
          "output_type": "execute_result",
          "data": {
            "text/plain": [
              "array([0.56570097, 0.94410513, 0.47465465, 0.49125298, 0.1937617 ])"
            ]
          },
          "metadata": {
            "tags": []
          },
          "execution_count": 140
        }
      ]
    },
    {
      "cell_type": "markdown",
      "metadata": {
        "id": "tNZ7Kqo9C70R"
      },
      "source": [
        "##### Finally apply optimization"
      ]
    },
    {
      "cell_type": "code",
      "metadata": {
        "id": "N-Lt_l0FNGaQ"
      },
      "source": [
        "# help(minimize)"
      ],
      "execution_count": 99,
      "outputs": []
    },
    {
      "cell_type": "code",
      "metadata": {
        "id": "aGY72QnWedeU"
      },
      "source": [
        "## 13 Begin optimization process:\n",
        "\n",
        "res = minimize(\n",
        "                  fun=objective_func,   # Minimize logloss\n",
        "                  constraints=cons,     # Our dictionary\n",
        "                  bounds=bounds,        # Limits of wt values\n",
        "\n",
        "                  x0 =starting_wt_values,\n",
        "                  method='SLSQP',\n",
        "               )"
      ],
      "execution_count": 141,
      "outputs": []
    },
    {
      "cell_type": "code",
      "metadata": {
        "id": "ElDO_82netfi",
        "colab": {
          "base_uri": "https://localhost:8080/"
        },
        "outputId": "bd1de6d5-f429-4a9f-b033-4f5c7a24abe7"
      },
      "source": [
        "# 13.1 \n",
        "# We get our best log-loss through:  res['fun']\n",
        "# Best log loss\n",
        "\n",
        "res['fun']\n"
      ],
      "execution_count": 142,
      "outputs": [
        {
          "output_type": "execute_result",
          "data": {
            "text/plain": [
              "2.2381206863470178"
            ]
          },
          "metadata": {
            "tags": []
          },
          "execution_count": 142
        }
      ]
    },
    {
      "cell_type": "code",
      "metadata": {
        "id": "UTdZgvHreyRj",
        "colab": {
          "base_uri": "https://localhost:8080/"
        },
        "outputId": "0f2d5a89-13a6-423a-b743-a1ff1b9b072c"
      },
      "source": [
        "# 13.2 Best set of wts that made this possible:\n",
        "\n",
        "res['x']\n"
      ],
      "execution_count": 143,
      "outputs": [
        {
          "output_type": "execute_result",
          "data": {
            "text/plain": [
              "array([0.00662468, 0.08810434, 0.56670886, 0.33856213, 0.        ])"
            ]
          },
          "metadata": {
            "tags": []
          },
          "execution_count": 143
        }
      ]
    },
    {
      "cell_type": "code",
      "metadata": {
        "id": "M4_4M7pfULcz"
      },
      "source": [
        "############## I am done #################"
      ],
      "execution_count": 50,
      "outputs": []
    }
  ]
}